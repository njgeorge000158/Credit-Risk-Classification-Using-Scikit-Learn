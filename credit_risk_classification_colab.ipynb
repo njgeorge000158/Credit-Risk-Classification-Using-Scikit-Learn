{
  "cells": [
    {
      "cell_type": "markdown",
      "metadata": {
        "id": "view-in-github",
        "colab_type": "text"
      },
      "source": [
        "<a href=\"https://colab.research.google.com/github/njgeorge000158/Credit-Risk-Classification-Using-Scikit-Learn/blob/main/credit_risk_classification_colab.ipynb\" target=\"_parent\"><img src=\"https://colab.research.google.com/assets/colab-badge.svg\" alt=\"Open In Colab\"/></a>"
      ]
    },
    {
      "cell_type": "code",
      "execution_count": null,
      "id": "8c4ac1a7",
      "metadata": {
        "colab": {
          "base_uri": "https://localhost:8080/",
          "height": 1000
        },
        "id": "8c4ac1a7",
        "outputId": "0a589946-5e8a-4ca2-efb5-d109b52db7fa"
      },
      "outputs": [
        {
          "name": "stdout",
          "output_type": "stream",
          "text": [
            "Mounted at /content/gdrive/\n",
            "Get:1 http://security.ubuntu.com/ubuntu jammy-security InRelease [110 kB]\n",
            "Hit:2 https://developer.download.nvidia.com/compute/cuda/repos/ubuntu2204/x86_64  InRelease\n",
            "Get:3 https://cloud.r-project.org/bin/linux/ubuntu jammy-cran40/ InRelease [3,626 B]\n",
            "Hit:4 http://archive.ubuntu.com/ubuntu jammy InRelease\n",
            "Get:5 http://archive.ubuntu.com/ubuntu jammy-updates InRelease [119 kB]\n",
            "Hit:6 https://ppa.launchpadcontent.net/c2d4u.team/c2d4u4.0+/ubuntu jammy InRelease\n",
            "Get:7 https://ppa.launchpadcontent.net/deadsnakes/ppa/ubuntu jammy InRelease [18.1 kB]\n",
            "Hit:8 http://archive.ubuntu.com/ubuntu jammy-backports InRelease\n",
            "Get:9 https://ppa.launchpadcontent.net/graphics-drivers/ppa/ubuntu jammy InRelease [24.3 kB]\n",
            "Hit:10 https://ppa.launchpadcontent.net/ubuntugis/ppa/ubuntu jammy InRelease\n",
            "Get:11 http://security.ubuntu.com/ubuntu jammy-security/universe amd64 Packages [1,077 kB]\n",
            "Get:12 http://security.ubuntu.com/ubuntu jammy-security/main amd64 Packages [1,756 kB]\n",
            "Get:13 https://cloud.r-project.org/bin/linux/ubuntu jammy-cran40/ Packages [52.9 kB]\n",
            "Get:14 https://ppa.launchpadcontent.net/deadsnakes/ppa/ubuntu jammy/main amd64 Packages [27.8 kB]\n",
            "Get:15 http://archive.ubuntu.com/ubuntu jammy-updates/universe amd64 Packages [1,370 kB]\n",
            "Get:16 http://archive.ubuntu.com/ubuntu jammy-updates/main amd64 Packages [2,035 kB]\n",
            "Get:17 https://ppa.launchpadcontent.net/graphics-drivers/ppa/ubuntu jammy/main amd64 Packages [44.2 kB]\n",
            "Fetched 6,639 kB in 8s (866 kB/s)\n",
            "Reading package lists... Done\n",
            "Reading package lists... Done\n",
            "Building dependency tree... Done\n",
            "Reading state information... Done\n",
            "The following additional packages will be installed:\n",
            "  apparmor libfuse3-3 liblzo2-2 libudev1 snapd squashfs-tools systemd-hwe-hwdb udev\n",
            "Suggested packages:\n",
            "  apparmor-profiles-extra apparmor-utils fuse3 zenity | kdialog\n",
            "The following NEW packages will be installed:\n",
            "  apparmor firefox libfuse3-3 liblzo2-2 snapd squashfs-tools systemd-hwe-hwdb udev\n",
            "The following packages will be upgraded:\n",
            "  libudev1\n",
            "1 upgraded, 8 newly installed, 0 to remove and 49 not upgraded.\n",
            "Need to get 27.3 MB of archives.\n",
            "After this operation, 114 MB of additional disk space will be used.\n",
            "Get:1 http://archive.ubuntu.com/ubuntu jammy-updates/main amd64 apparmor amd64 3.0.4-2ubuntu2.3 [595 kB]\n",
            "Get:2 http://archive.ubuntu.com/ubuntu jammy/main amd64 liblzo2-2 amd64 2.10-2build3 [53.7 kB]\n",
            "Get:3 http://archive.ubuntu.com/ubuntu jammy/main amd64 squashfs-tools amd64 1:4.5-3build1 [159 kB]\n",
            "Get:4 http://archive.ubuntu.com/ubuntu jammy-updates/main amd64 libudev1 amd64 249.11-0ubuntu3.12 [78.2 kB]\n",
            "Get:5 http://archive.ubuntu.com/ubuntu jammy-updates/main amd64 udev amd64 249.11-0ubuntu3.12 [1,557 kB]\n",
            "Get:6 http://archive.ubuntu.com/ubuntu jammy/main amd64 libfuse3-3 amd64 3.10.5-1build1 [81.2 kB]\n",
            "Get:7 http://archive.ubuntu.com/ubuntu jammy-updates/main amd64 snapd amd64 2.61.3+22.04 [24.7 MB]\n",
            "Get:8 http://archive.ubuntu.com/ubuntu jammy/main amd64 firefox amd64 1:1snap1-0ubuntu2 [72.3 kB]\n",
            "Get:9 http://archive.ubuntu.com/ubuntu jammy-updates/main amd64 systemd-hwe-hwdb all 249.11.5 [3,228 B]\n",
            "Fetched 27.3 MB in 2s (11.3 MB/s)\n",
            "Preconfiguring packages ...\n",
            "Selecting previously unselected package apparmor.\n",
            "(Reading database ... 121752 files and directories currently installed.)\n",
            "Preparing to unpack .../apparmor_3.0.4-2ubuntu2.3_amd64.deb ...\n",
            "Unpacking apparmor (3.0.4-2ubuntu2.3) ...\n",
            "Selecting previously unselected package liblzo2-2:amd64.\n",
            "Preparing to unpack .../liblzo2-2_2.10-2build3_amd64.deb ...\n",
            "Unpacking liblzo2-2:amd64 (2.10-2build3) ...\n",
            "Selecting previously unselected package squashfs-tools.\n",
            "Preparing to unpack .../squashfs-tools_1%3a4.5-3build1_amd64.deb ...\n",
            "Unpacking squashfs-tools (1:4.5-3build1) ...\n",
            "Preparing to unpack .../libudev1_249.11-0ubuntu3.12_amd64.deb ...\n",
            "Unpacking libudev1:amd64 (249.11-0ubuntu3.12) over (249.11-0ubuntu3.10) ...\n",
            "Setting up libudev1:amd64 (249.11-0ubuntu3.12) ...\n",
            "Selecting previously unselected package udev.\n",
            "(Reading database ... 121960 files and directories currently installed.)\n",
            "Preparing to unpack .../udev_249.11-0ubuntu3.12_amd64.deb ...\n",
            "Unpacking udev (249.11-0ubuntu3.12) ...\n",
            "Selecting previously unselected package libfuse3-3:amd64.\n",
            "Preparing to unpack .../libfuse3-3_3.10.5-1build1_amd64.deb ...\n",
            "Unpacking libfuse3-3:amd64 (3.10.5-1build1) ...\n",
            "Selecting previously unselected package snapd.\n",
            "Preparing to unpack .../snapd_2.61.3+22.04_amd64.deb ...\n",
            "Unpacking snapd (2.61.3+22.04) ...\n",
            "Setting up apparmor (3.0.4-2ubuntu2.3) ...\n",
            "Created symlink /etc/systemd/system/sysinit.target.wants/apparmor.service → /lib/systemd/system/apparmor.service.\n",
            "Setting up liblzo2-2:amd64 (2.10-2build3) ...\n",
            "Setting up squashfs-tools (1:4.5-3build1) ...\n",
            "Setting up udev (249.11-0ubuntu3.12) ...\n",
            "invoke-rc.d: could not determine current runlevel\n",
            "invoke-rc.d: policy-rc.d denied execution of start.\n",
            "Setting up libfuse3-3:amd64 (3.10.5-1build1) ...\n",
            "Setting up snapd (2.61.3+22.04) ...\n",
            "Created symlink /etc/systemd/system/multi-user.target.wants/snapd.apparmor.service → /lib/systemd/system/snapd.apparmor.service.\n",
            "Created symlink /etc/systemd/system/multi-user.target.wants/snapd.autoimport.service → /lib/systemd/system/snapd.autoimport.service.\n",
            "Created symlink /etc/systemd/system/multi-user.target.wants/snapd.core-fixup.service → /lib/systemd/system/snapd.core-fixup.service.\n",
            "Created symlink /etc/systemd/system/multi-user.target.wants/snapd.recovery-chooser-trigger.service → /lib/systemd/system/snapd.recovery-chooser-trigger.service.\n",
            "Created symlink /etc/systemd/system/multi-user.target.wants/snapd.seeded.service → /lib/systemd/system/snapd.seeded.service.\n",
            "Created symlink /etc/systemd/system/cloud-final.service.wants/snapd.seeded.service → /lib/systemd/system/snapd.seeded.service.\n",
            "Unit /lib/systemd/system/snapd.seeded.service is added as a dependency to a non-existent unit cloud-final.service.\n",
            "Created symlink /etc/systemd/system/multi-user.target.wants/snapd.service → /lib/systemd/system/snapd.service.\n",
            "Created symlink /etc/systemd/system/timers.target.wants/snapd.snap-repair.timer → /lib/systemd/system/snapd.snap-repair.timer.\n",
            "Created symlink /etc/systemd/system/sockets.target.wants/snapd.socket → /lib/systemd/system/snapd.socket.\n",
            "Created symlink /etc/systemd/system/final.target.wants/snapd.system-shutdown.service → /lib/systemd/system/snapd.system-shutdown.service.\n",
            "Selecting previously unselected package firefox.\n",
            "(Reading database ... 122190 files and directories currently installed.)\n",
            "Preparing to unpack .../firefox_1%3a1snap1-0ubuntu2_amd64.deb ...\n",
            "=> Installing the firefox snap\n",
            "==> Checking connectivity with the snap store\n",
            "===> System doesn't have a working snapd, skipping\n",
            "Unpacking firefox (1:1snap1-0ubuntu2) ...\n",
            "Selecting previously unselected package systemd-hwe-hwdb.\n",
            "Preparing to unpack .../systemd-hwe-hwdb_249.11.5_all.deb ...\n",
            "Unpacking systemd-hwe-hwdb (249.11.5) ...\n",
            "Setting up firefox (1:1snap1-0ubuntu2) ...\n",
            "update-alternatives: using /usr/bin/firefox to provide /usr/bin/gnome-www-browser (gnome-www-browser) in auto mode\n",
            "update-alternatives: using /usr/bin/firefox to provide /usr/bin/x-www-browser (x-www-browser) in auto mode\n",
            "Setting up systemd-hwe-hwdb (249.11.5) ...\n",
            "Processing triggers for libc-bin (2.35-0ubuntu3.4) ...\n",
            "/sbin/ldconfig.real: /usr/local/lib/libtbbmalloc.so.2 is not a symbolic link\n",
            "\n",
            "/sbin/ldconfig.real: /usr/local/lib/libtbbbind_2_0.so.3 is not a symbolic link\n",
            "\n",
            "/sbin/ldconfig.real: /usr/local/lib/libtbb.so.12 is not a symbolic link\n",
            "\n",
            "/sbin/ldconfig.real: /usr/local/lib/libtbbmalloc_proxy.so.2 is not a symbolic link\n",
            "\n",
            "/sbin/ldconfig.real: /usr/local/lib/libtbbbind.so.3 is not a symbolic link\n",
            "\n",
            "/sbin/ldconfig.real: /usr/local/lib/libtbbbind_2_5.so.3 is not a symbolic link\n",
            "\n",
            "Processing triggers for man-db (2.10.2-1) ...\n",
            "Processing triggers for dbus (1.12.20-2ubuntu4.1) ...\n",
            "Processing triggers for udev (249.11-0ubuntu3.12) ...\n",
            "Processing triggers for hicolor-icon-theme (0.17-2) ...\n",
            "Collecting geckodriver\n",
            "  Downloading geckodriver-0.0.1.tar.gz (1.0 kB)\n",
            "  Installing build dependencies ... \u001b[?25l\u001b[?25hdone\n",
            "  Getting requirements to build wheel ... \u001b[?25l\u001b[?25hdone\n",
            "  Installing backend dependencies ... \u001b[?25l\u001b[?25hdone\n",
            "  Preparing metadata (pyproject.toml) ... \u001b[?25l\u001b[?25hdone\n",
            "Building wheels for collected packages: geckodriver\n",
            "  Building wheel for geckodriver (pyproject.toml) ... \u001b[?25l\u001b[?25hdone\n",
            "  Created wheel for geckodriver: filename=geckodriver-0.0.1-py3-none-any.whl size=1101 sha256=f2da2a79d4716ab8030b7c5d3e46b9070d35f84a70ddcfec4b40bc276b424e58\n",
            "  Stored in directory: /root/.cache/pip/wheels/d5/1f/e1/89e6f6a8239d7faf6c7647cebd33e36def82b79d94021f0859\n",
            "Successfully built geckodriver\n",
            "Installing collected packages: geckodriver\n",
            "Successfully installed geckodriver-0.0.1\n",
            "Collecting dataframe_image\n",
            "  Downloading dataframe_image-0.2.3-py3-none-any.whl (6.7 MB)\n",
            "\u001b[2K     \u001b[90m━━━━━━━━━━━━━━━━━━━━━━━━━━━━━━━━━━━━━━━━\u001b[0m \u001b[32m6.7/6.7 MB\u001b[0m \u001b[31m16.3 MB/s\u001b[0m eta \u001b[36m0:00:00\u001b[0m\n",
            "\u001b[?25hRequirement already satisfied: pandas>=0.24 in /usr/local/lib/python3.10/dist-packages (from dataframe_image) (2.0.3)\n",
            "Requirement already satisfied: nbconvert>=5 in /usr/local/lib/python3.10/dist-packages (from dataframe_image) (6.5.4)\n",
            "Requirement already satisfied: aiohttp in /usr/local/lib/python3.10/dist-packages (from dataframe_image) (3.9.5)\n",
            "Requirement already satisfied: requests in /usr/local/lib/python3.10/dist-packages (from dataframe_image) (2.31.0)\n",
            "Requirement already satisfied: pillow in /usr/local/lib/python3.10/dist-packages (from dataframe_image) (9.4.0)\n",
            "Requirement already satisfied: packaging in /usr/local/lib/python3.10/dist-packages (from dataframe_image) (24.0)\n",
            "Requirement already satisfied: mistune in /usr/local/lib/python3.10/dist-packages (from dataframe_image) (0.8.4)\n",
            "Requirement already satisfied: lxml in /usr/local/lib/python3.10/dist-packages (from dataframe_image) (4.9.4)\n",
            "Requirement already satisfied: beautifulsoup4 in /usr/local/lib/python3.10/dist-packages (from dataframe_image) (4.12.3)\n",
            "Collecting cssutils (from dataframe_image)\n",
            "  Downloading cssutils-2.10.2-py3-none-any.whl (398 kB)\n",
            "\u001b[2K     \u001b[90m━━━━━━━━━━━━━━━━━━━━━━━━━━━━━━━━━━━━━━━━\u001b[0m \u001b[32m398.1/398.1 kB\u001b[0m \u001b[31m29.0 MB/s\u001b[0m eta \u001b[36m0:00:00\u001b[0m\n",
            "\u001b[?25hCollecting html2image (from dataframe_image)\n",
            "  Downloading html2image-2.0.4.3-py3-none-any.whl (27 kB)\n",
            "Requirement already satisfied: bleach in /usr/local/lib/python3.10/dist-packages (from nbconvert>=5->dataframe_image) (6.1.0)\n",
            "Requirement already satisfied: defusedxml in /usr/local/lib/python3.10/dist-packages (from nbconvert>=5->dataframe_image) (0.7.1)\n",
            "Requirement already satisfied: entrypoints>=0.2.2 in /usr/local/lib/python3.10/dist-packages (from nbconvert>=5->dataframe_image) (0.4)\n",
            "Requirement already satisfied: jinja2>=3.0 in /usr/local/lib/python3.10/dist-packages (from nbconvert>=5->dataframe_image) (3.1.3)\n",
            "Requirement already satisfied: jupyter-core>=4.7 in /usr/local/lib/python3.10/dist-packages (from nbconvert>=5->dataframe_image) (5.7.2)\n",
            "Requirement already satisfied: jupyterlab-pygments in /usr/local/lib/python3.10/dist-packages (from nbconvert>=5->dataframe_image) (0.3.0)\n",
            "Requirement already satisfied: MarkupSafe>=2.0 in /usr/local/lib/python3.10/dist-packages (from nbconvert>=5->dataframe_image) (2.1.5)\n",
            "Requirement already satisfied: nbclient>=0.5.0 in /usr/local/lib/python3.10/dist-packages (from nbconvert>=5->dataframe_image) (0.10.0)\n",
            "Requirement already satisfied: nbformat>=5.1 in /usr/local/lib/python3.10/dist-packages (from nbconvert>=5->dataframe_image) (5.10.4)\n",
            "Requirement already satisfied: pandocfilters>=1.4.1 in /usr/local/lib/python3.10/dist-packages (from nbconvert>=5->dataframe_image) (1.5.1)\n",
            "Requirement already satisfied: pygments>=2.4.1 in /usr/local/lib/python3.10/dist-packages (from nbconvert>=5->dataframe_image) (2.16.1)\n",
            "Requirement already satisfied: tinycss2 in /usr/local/lib/python3.10/dist-packages (from nbconvert>=5->dataframe_image) (1.2.1)\n",
            "Requirement already satisfied: traitlets>=5.0 in /usr/local/lib/python3.10/dist-packages (from nbconvert>=5->dataframe_image) (5.7.1)\n",
            "Requirement already satisfied: python-dateutil>=2.8.2 in /usr/local/lib/python3.10/dist-packages (from pandas>=0.24->dataframe_image) (2.8.2)\n",
            "Requirement already satisfied: pytz>=2020.1 in /usr/local/lib/python3.10/dist-packages (from pandas>=0.24->dataframe_image) (2023.4)\n",
            "Requirement already satisfied: tzdata>=2022.1 in /usr/local/lib/python3.10/dist-packages (from pandas>=0.24->dataframe_image) (2024.1)\n",
            "Requirement already satisfied: numpy>=1.21.0 in /usr/local/lib/python3.10/dist-packages (from pandas>=0.24->dataframe_image) (1.25.2)\n",
            "Requirement already satisfied: aiosignal>=1.1.2 in /usr/local/lib/python3.10/dist-packages (from aiohttp->dataframe_image) (1.3.1)\n",
            "Requirement already satisfied: attrs>=17.3.0 in /usr/local/lib/python3.10/dist-packages (from aiohttp->dataframe_image) (23.2.0)\n",
            "Requirement already satisfied: frozenlist>=1.1.1 in /usr/local/lib/python3.10/dist-packages (from aiohttp->dataframe_image) (1.4.1)\n",
            "Requirement already satisfied: multidict<7.0,>=4.5 in /usr/local/lib/python3.10/dist-packages (from aiohttp->dataframe_image) (6.0.5)\n",
            "Requirement already satisfied: yarl<2.0,>=1.0 in /usr/local/lib/python3.10/dist-packages (from aiohttp->dataframe_image) (1.9.4)\n",
            "Requirement already satisfied: async-timeout<5.0,>=4.0 in /usr/local/lib/python3.10/dist-packages (from aiohttp->dataframe_image) (4.0.3)\n",
            "Requirement already satisfied: soupsieve>1.2 in /usr/local/lib/python3.10/dist-packages (from beautifulsoup4->dataframe_image) (2.5)\n",
            "Requirement already satisfied: websocket-client<2.0.0,>=1.0.0 in /usr/local/lib/python3.10/dist-packages (from html2image->dataframe_image) (1.7.0)\n",
            "Requirement already satisfied: charset-normalizer<4,>=2 in /usr/local/lib/python3.10/dist-packages (from requests->dataframe_image) (3.3.2)\n",
            "Requirement already satisfied: idna<4,>=2.5 in /usr/local/lib/python3.10/dist-packages (from requests->dataframe_image) (3.7)\n",
            "Requirement already satisfied: urllib3<3,>=1.21.1 in /usr/local/lib/python3.10/dist-packages (from requests->dataframe_image) (2.0.7)\n",
            "Requirement already satisfied: certifi>=2017.4.17 in /usr/local/lib/python3.10/dist-packages (from requests->dataframe_image) (2024.2.2)\n",
            "Requirement already satisfied: platformdirs>=2.5 in /usr/local/lib/python3.10/dist-packages (from jupyter-core>=4.7->nbconvert>=5->dataframe_image) (4.2.0)\n",
            "Requirement already satisfied: jupyter-client>=6.1.12 in /usr/local/lib/python3.10/dist-packages (from nbclient>=0.5.0->nbconvert>=5->dataframe_image) (6.1.12)\n",
            "Requirement already satisfied: fastjsonschema>=2.15 in /usr/local/lib/python3.10/dist-packages (from nbformat>=5.1->nbconvert>=5->dataframe_image) (2.19.1)\n",
            "Requirement already satisfied: jsonschema>=2.6 in /usr/local/lib/python3.10/dist-packages (from nbformat>=5.1->nbconvert>=5->dataframe_image) (4.19.2)\n",
            "Requirement already satisfied: six>=1.5 in /usr/local/lib/python3.10/dist-packages (from python-dateutil>=2.8.2->pandas>=0.24->dataframe_image) (1.16.0)\n",
            "Requirement already satisfied: webencodings in /usr/local/lib/python3.10/dist-packages (from bleach->nbconvert>=5->dataframe_image) (0.5.1)\n",
            "Requirement already satisfied: jsonschema-specifications>=2023.03.6 in /usr/local/lib/python3.10/dist-packages (from jsonschema>=2.6->nbformat>=5.1->nbconvert>=5->dataframe_image) (2023.12.1)\n",
            "Requirement already satisfied: referencing>=0.28.4 in /usr/local/lib/python3.10/dist-packages (from jsonschema>=2.6->nbformat>=5.1->nbconvert>=5->dataframe_image) (0.34.0)\n",
            "Requirement already satisfied: rpds-py>=0.7.1 in /usr/local/lib/python3.10/dist-packages (from jsonschema>=2.6->nbformat>=5.1->nbconvert>=5->dataframe_image) (0.18.0)\n",
            "Requirement already satisfied: pyzmq>=13 in /usr/local/lib/python3.10/dist-packages (from jupyter-client>=6.1.12->nbclient>=0.5.0->nbconvert>=5->dataframe_image) (23.2.1)\n",
            "Requirement already satisfied: tornado>=4.1 in /usr/local/lib/python3.10/dist-packages (from jupyter-client>=6.1.12->nbclient>=0.5.0->nbconvert>=5->dataframe_image) (6.3.3)\n",
            "Installing collected packages: cssutils, html2image, dataframe_image\n",
            "Successfully installed cssutils-2.10.2 dataframe_image-0.2.3 html2image-2.0.4.3\n",
            "Collecting selenium\n",
            "  Downloading selenium-4.20.0-py3-none-any.whl (9.5 MB)\n",
            "\u001b[2K     \u001b[90m━━━━━━━━━━━━━━━━━━━━━━━━━━━━━━━━━━━━━━━━\u001b[0m \u001b[32m9.5/9.5 MB\u001b[0m \u001b[31m18.0 MB/s\u001b[0m eta \u001b[36m0:00:00\u001b[0m\n",
            "\u001b[?25hRequirement already satisfied: urllib3[socks]<3,>=1.26 in /usr/local/lib/python3.10/dist-packages (from selenium) (2.0.7)\n",
            "Collecting trio~=0.17 (from selenium)\n",
            "  Downloading trio-0.25.0-py3-none-any.whl (467 kB)\n",
            "\u001b[2K     \u001b[90m━━━━━━━━━━━━━━━━━━━━━━━━━━━━━━━━━━━━━━━━\u001b[0m \u001b[32m467.2/467.2 kB\u001b[0m \u001b[31m35.4 MB/s\u001b[0m eta \u001b[36m0:00:00\u001b[0m\n",
            "\u001b[?25hCollecting trio-websocket~=0.9 (from selenium)\n",
            "  Downloading trio_websocket-0.11.1-py3-none-any.whl (17 kB)\n",
            "Requirement already satisfied: certifi>=2021.10.8 in /usr/local/lib/python3.10/dist-packages (from selenium) (2024.2.2)\n",
            "Requirement already satisfied: typing_extensions>=4.9.0 in /usr/local/lib/python3.10/dist-packages (from selenium) (4.11.0)\n",
            "Requirement already satisfied: attrs>=23.2.0 in /usr/local/lib/python3.10/dist-packages (from trio~=0.17->selenium) (23.2.0)\n",
            "Requirement already satisfied: sortedcontainers in /usr/local/lib/python3.10/dist-packages (from trio~=0.17->selenium) (2.4.0)\n",
            "Requirement already satisfied: idna in /usr/local/lib/python3.10/dist-packages (from trio~=0.17->selenium) (3.7)\n",
            "Collecting outcome (from trio~=0.17->selenium)\n",
            "  Downloading outcome-1.3.0.post0-py2.py3-none-any.whl (10 kB)\n",
            "Requirement already satisfied: sniffio>=1.3.0 in /usr/local/lib/python3.10/dist-packages (from trio~=0.17->selenium) (1.3.1)\n",
            "Requirement already satisfied: exceptiongroup in /usr/local/lib/python3.10/dist-packages (from trio~=0.17->selenium) (1.2.1)\n",
            "Collecting wsproto>=0.14 (from trio-websocket~=0.9->selenium)\n",
            "  Downloading wsproto-1.2.0-py3-none-any.whl (24 kB)\n",
            "Requirement already satisfied: pysocks!=1.5.7,<2.0,>=1.5.6 in /usr/local/lib/python3.10/dist-packages (from urllib3[socks]<3,>=1.26->selenium) (1.7.1)\n",
            "Collecting h11<1,>=0.9.0 (from wsproto>=0.14->trio-websocket~=0.9->selenium)\n",
            "  Downloading h11-0.14.0-py3-none-any.whl (58 kB)\n",
            "\u001b[2K     \u001b[90m━━━━━━━━━━━━━━━━━━━━━━━━━━━━━━━━━━━━━━━━\u001b[0m \u001b[32m58.3/58.3 kB\u001b[0m \u001b[31m7.2 MB/s\u001b[0m eta \u001b[36m0:00:00\u001b[0m\n",
            "\u001b[?25hInstalling collected packages: outcome, h11, wsproto, trio, trio-websocket, selenium\n",
            "Successfully installed h11-0.14.0 outcome-1.3.0.post0 selenium-4.20.0 trio-0.25.0 trio-websocket-0.11.1 wsproto-1.2.0\n",
            "Collecting kaleido\n",
            "  Downloading kaleido-0.2.1-py2.py3-none-manylinux1_x86_64.whl (79.9 MB)\n",
            "\u001b[2K     \u001b[90m━━━━━━━━━━━━━━━━━━━━━━━━━━━━━━━━━━━━━━━━\u001b[0m \u001b[32m79.9/79.9 MB\u001b[0m \u001b[31m2.0 MB/s\u001b[0m eta \u001b[36m0:00:00\u001b[0m\n",
            "\u001b[?25hInstalling collected packages: kaleido\n",
            "Successfully installed kaleido-0.2.1\n",
            "Collecting hvplot\n",
            "  Downloading hvplot-0.9.2-py2.py3-none-any.whl (1.8 MB)\n",
            "\u001b[2K     \u001b[90m━━━━━━━━━━━━━━━━━━━━━━━━━━━━━━━━━━━━━━━━\u001b[0m \u001b[32m1.8/1.8 MB\u001b[0m \u001b[31m9.4 MB/s\u001b[0m eta \u001b[36m0:00:00\u001b[0m\n",
            "\u001b[?25hRequirement already satisfied: bokeh>=1.0.0 in /usr/local/lib/python3.10/dist-packages (from hvplot) (3.3.4)\n",
            "Requirement already satisfied: colorcet>=2 in /usr/local/lib/python3.10/dist-packages (from hvplot) (3.1.0)\n",
            "Requirement already satisfied: holoviews>=1.11.0 in /usr/local/lib/python3.10/dist-packages (from hvplot) (1.17.1)\n",
            "Requirement already satisfied: pandas in /usr/local/lib/python3.10/dist-packages (from hvplot) (2.0.3)\n",
            "Requirement already satisfied: numpy>=1.15 in /usr/local/lib/python3.10/dist-packages (from hvplot) (1.25.2)\n",
            "Requirement already satisfied: packaging in /usr/local/lib/python3.10/dist-packages (from hvplot) (24.0)\n",
            "Requirement already satisfied: panel>=0.11.0 in /usr/local/lib/python3.10/dist-packages (from hvplot) (1.3.8)\n",
            "Requirement already satisfied: param<3.0,>=1.12.0 in /usr/local/lib/python3.10/dist-packages (from hvplot) (2.1.0)\n",
            "Requirement already satisfied: Jinja2>=2.9 in /usr/local/lib/python3.10/dist-packages (from bokeh>=1.0.0->hvplot) (3.1.3)\n",
            "Requirement already satisfied: contourpy>=1 in /usr/local/lib/python3.10/dist-packages (from bokeh>=1.0.0->hvplot) (1.2.1)\n",
            "Requirement already satisfied: pillow>=7.1.0 in /usr/local/lib/python3.10/dist-packages (from bokeh>=1.0.0->hvplot) (9.4.0)\n",
            "Requirement already satisfied: PyYAML>=3.10 in /usr/local/lib/python3.10/dist-packages (from bokeh>=1.0.0->hvplot) (6.0.1)\n",
            "Requirement already satisfied: tornado>=5.1 in /usr/local/lib/python3.10/dist-packages (from bokeh>=1.0.0->hvplot) (6.3.3)\n",
            "Requirement already satisfied: xyzservices>=2021.09.1 in /usr/local/lib/python3.10/dist-packages (from bokeh>=1.0.0->hvplot) (2024.4.0)\n",
            "Requirement already satisfied: pyviz-comms>=0.7.4 in /usr/local/lib/python3.10/dist-packages (from holoviews>=1.11.0->hvplot) (3.0.2)\n",
            "Requirement already satisfied: python-dateutil>=2.8.2 in /usr/local/lib/python3.10/dist-packages (from pandas->hvplot) (2.8.2)\n",
            "Requirement already satisfied: pytz>=2020.1 in /usr/local/lib/python3.10/dist-packages (from pandas->hvplot) (2023.4)\n",
            "Requirement already satisfied: tzdata>=2022.1 in /usr/local/lib/python3.10/dist-packages (from pandas->hvplot) (2024.1)\n",
            "Requirement already satisfied: markdown in /usr/local/lib/python3.10/dist-packages (from panel>=0.11.0->hvplot) (3.6)\n",
            "Requirement already satisfied: markdown-it-py in /usr/local/lib/python3.10/dist-packages (from panel>=0.11.0->hvplot) (3.0.0)\n",
            "Requirement already satisfied: linkify-it-py in /usr/local/lib/python3.10/dist-packages (from panel>=0.11.0->hvplot) (2.0.3)\n",
            "Requirement already satisfied: mdit-py-plugins in /usr/local/lib/python3.10/dist-packages (from panel>=0.11.0->hvplot) (0.4.0)\n",
            "Requirement already satisfied: requests in /usr/local/lib/python3.10/dist-packages (from panel>=0.11.0->hvplot) (2.31.0)\n",
            "Requirement already satisfied: tqdm>=4.48.0 in /usr/local/lib/python3.10/dist-packages (from panel>=0.11.0->hvplot) (4.66.2)\n",
            "Requirement already satisfied: bleach in /usr/local/lib/python3.10/dist-packages (from panel>=0.11.0->hvplot) (6.1.0)\n",
            "Requirement already satisfied: typing-extensions in /usr/local/lib/python3.10/dist-packages (from panel>=0.11.0->hvplot) (4.11.0)\n",
            "Requirement already satisfied: MarkupSafe>=2.0 in /usr/local/lib/python3.10/dist-packages (from Jinja2>=2.9->bokeh>=1.0.0->hvplot) (2.1.5)\n",
            "Requirement already satisfied: six>=1.5 in /usr/local/lib/python3.10/dist-packages (from python-dateutil>=2.8.2->pandas->hvplot) (1.16.0)\n",
            "Requirement already satisfied: webencodings in /usr/local/lib/python3.10/dist-packages (from bleach->panel>=0.11.0->hvplot) (0.5.1)\n",
            "Requirement already satisfied: uc-micro-py in /usr/local/lib/python3.10/dist-packages (from linkify-it-py->panel>=0.11.0->hvplot) (1.0.3)\n",
            "Requirement already satisfied: mdurl~=0.1 in /usr/local/lib/python3.10/dist-packages (from markdown-it-py->panel>=0.11.0->hvplot) (0.1.2)\n",
            "Requirement already satisfied: charset-normalizer<4,>=2 in /usr/local/lib/python3.10/dist-packages (from requests->panel>=0.11.0->hvplot) (3.3.2)\n",
            "Requirement already satisfied: idna<4,>=2.5 in /usr/local/lib/python3.10/dist-packages (from requests->panel>=0.11.0->hvplot) (3.7)\n",
            "Requirement already satisfied: urllib3<3,>=1.21.1 in /usr/local/lib/python3.10/dist-packages (from requests->panel>=0.11.0->hvplot) (2.0.7)\n",
            "Requirement already satisfied: certifi>=2017.4.17 in /usr/local/lib/python3.10/dist-packages (from requests->panel>=0.11.0->hvplot) (2024.2.2)\n",
            "Installing collected packages: hvplot\n",
            "Successfully installed hvplot-0.9.2\n",
            "Requirement already satisfied: plotly in /usr/local/lib/python3.10/dist-packages (5.15.0)\n",
            "Collecting plotly\n",
            "  Downloading plotly-5.21.0-py3-none-any.whl (15.7 MB)\n",
            "\u001b[2K     \u001b[90m━━━━━━━━━━━━━━━━━━━━━━━━━━━━━━━━━━━━━━━━\u001b[0m \u001b[32m15.7/15.7 MB\u001b[0m \u001b[31m29.6 MB/s\u001b[0m eta \u001b[36m0:00:00\u001b[0m\n",
            "\u001b[?25hRequirement already satisfied: tenacity>=6.2.0 in /usr/local/lib/python3.10/dist-packages (from plotly) (8.2.3)\n",
            "Requirement already satisfied: packaging in /usr/local/lib/python3.10/dist-packages (from plotly) (24.0)\n",
            "Installing collected packages: plotly\n",
            "  Attempting uninstall: plotly\n",
            "    Found existing installation: plotly 5.15.0\n",
            "    Uninstalling plotly-5.15.0:\n",
            "      Successfully uninstalled plotly-5.15.0\n",
            "Successfully installed plotly-5.21.0\n",
            "Requirement already satisfied: panel in /usr/local/lib/python3.10/dist-packages (1.3.8)\n",
            "Collecting panel\n",
            "  Downloading panel-1.4.2-py3-none-any.whl (24.7 MB)\n",
            "\u001b[2K     \u001b[90m━━━━━━━━━━━━━━━━━━━━━━━━━━━━━━━━━━━━━━━━\u001b[0m \u001b[32m24.7/24.7 MB\u001b[0m \u001b[31m33.0 MB/s\u001b[0m eta \u001b[36m0:00:00\u001b[0m\n",
            "\u001b[?25hCollecting bokeh<3.5.0,>=3.4.0 (from panel)\n",
            "  Downloading bokeh-3.4.1-py3-none-any.whl (7.0 MB)\n",
            "\u001b[2K     \u001b[90m━━━━━━━━━━━━━━━━━━━━━━━━━━━━━━━━━━━━━━━━\u001b[0m \u001b[32m7.0/7.0 MB\u001b[0m \u001b[31m51.5 MB/s\u001b[0m eta \u001b[36m0:00:00\u001b[0m\n",
            "\u001b[?25hRequirement already satisfied: param<3.0,>=2.0.0 in /usr/local/lib/python3.10/dist-packages (from panel) (2.1.0)\n",
            "Requirement already satisfied: pyviz-comms>=2.0.0 in /usr/local/lib/python3.10/dist-packages (from panel) (3.0.2)\n",
            "Requirement already satisfied: xyzservices>=2021.09.1 in /usr/local/lib/python3.10/dist-packages (from panel) (2024.4.0)\n",
            "Requirement already satisfied: markdown in /usr/local/lib/python3.10/dist-packages (from panel) (3.6)\n",
            "Requirement already satisfied: markdown-it-py in /usr/local/lib/python3.10/dist-packages (from panel) (3.0.0)\n",
            "Requirement already satisfied: linkify-it-py in /usr/local/lib/python3.10/dist-packages (from panel) (2.0.3)\n",
            "Requirement already satisfied: mdit-py-plugins in /usr/local/lib/python3.10/dist-packages (from panel) (0.4.0)\n",
            "Requirement already satisfied: requests in /usr/local/lib/python3.10/dist-packages (from panel) (2.31.0)\n",
            "Requirement already satisfied: tqdm>=4.48.0 in /usr/local/lib/python3.10/dist-packages (from panel) (4.66.2)\n",
            "Requirement already satisfied: bleach in /usr/local/lib/python3.10/dist-packages (from panel) (6.1.0)\n",
            "Requirement already satisfied: typing-extensions in /usr/local/lib/python3.10/dist-packages (from panel) (4.11.0)\n",
            "Requirement already satisfied: pandas>=1.2 in /usr/local/lib/python3.10/dist-packages (from panel) (2.0.3)\n",
            "Requirement already satisfied: Jinja2>=2.9 in /usr/local/lib/python3.10/dist-packages (from bokeh<3.5.0,>=3.4.0->panel) (3.1.3)\n",
            "Requirement already satisfied: contourpy>=1.2 in /usr/local/lib/python3.10/dist-packages (from bokeh<3.5.0,>=3.4.0->panel) (1.2.1)\n",
            "Requirement already satisfied: numpy>=1.16 in /usr/local/lib/python3.10/dist-packages (from bokeh<3.5.0,>=3.4.0->panel) (1.25.2)\n",
            "Requirement already satisfied: packaging>=16.8 in /usr/local/lib/python3.10/dist-packages (from bokeh<3.5.0,>=3.4.0->panel) (24.0)\n",
            "Requirement already satisfied: pillow>=7.1.0 in /usr/local/lib/python3.10/dist-packages (from bokeh<3.5.0,>=3.4.0->panel) (9.4.0)\n",
            "Requirement already satisfied: PyYAML>=3.10 in /usr/local/lib/python3.10/dist-packages (from bokeh<3.5.0,>=3.4.0->panel) (6.0.1)\n",
            "Requirement already satisfied: tornado>=6.2 in /usr/local/lib/python3.10/dist-packages (from bokeh<3.5.0,>=3.4.0->panel) (6.3.3)\n",
            "Requirement already satisfied: python-dateutil>=2.8.2 in /usr/local/lib/python3.10/dist-packages (from pandas>=1.2->panel) (2.8.2)\n",
            "Requirement already satisfied: pytz>=2020.1 in /usr/local/lib/python3.10/dist-packages (from pandas>=1.2->panel) (2023.4)\n",
            "Requirement already satisfied: tzdata>=2022.1 in /usr/local/lib/python3.10/dist-packages (from pandas>=1.2->panel) (2024.1)\n",
            "Requirement already satisfied: six>=1.9.0 in /usr/local/lib/python3.10/dist-packages (from bleach->panel) (1.16.0)\n",
            "Requirement already satisfied: webencodings in /usr/local/lib/python3.10/dist-packages (from bleach->panel) (0.5.1)\n",
            "Requirement already satisfied: uc-micro-py in /usr/local/lib/python3.10/dist-packages (from linkify-it-py->panel) (1.0.3)\n",
            "Requirement already satisfied: mdurl~=0.1 in /usr/local/lib/python3.10/dist-packages (from markdown-it-py->panel) (0.1.2)\n",
            "Requirement already satisfied: charset-normalizer<4,>=2 in /usr/local/lib/python3.10/dist-packages (from requests->panel) (3.3.2)\n",
            "Requirement already satisfied: idna<4,>=2.5 in /usr/local/lib/python3.10/dist-packages (from requests->panel) (3.7)\n",
            "Requirement already satisfied: urllib3<3,>=1.21.1 in /usr/local/lib/python3.10/dist-packages (from requests->panel) (2.0.7)\n",
            "Requirement already satisfied: certifi>=2017.4.17 in /usr/local/lib/python3.10/dist-packages (from requests->panel) (2024.2.2)\n",
            "Requirement already satisfied: MarkupSafe>=2.0 in /usr/local/lib/python3.10/dist-packages (from Jinja2>=2.9->bokeh<3.5.0,>=3.4.0->panel) (2.1.5)\n",
            "Installing collected packages: bokeh, panel\n",
            "  Attempting uninstall: bokeh\n",
            "    Found existing installation: bokeh 3.3.4\n",
            "    Uninstalling bokeh-3.3.4:\n",
            "      Successfully uninstalled bokeh-3.3.4\n",
            "  Attempting uninstall: panel\n",
            "    Found existing installation: panel 1.3.8\n",
            "    Uninstalling panel-1.3.8:\n",
            "      Successfully uninstalled panel-1.3.8\n",
            "Successfully installed bokeh-3.4.1 panel-1.4.2\n",
            "Requirement already satisfied: bokeh in /usr/local/lib/python3.10/dist-packages (3.4.1)\n",
            "Requirement already satisfied: Jinja2>=2.9 in /usr/local/lib/python3.10/dist-packages (from bokeh) (3.1.3)\n",
            "Requirement already satisfied: contourpy>=1.2 in /usr/local/lib/python3.10/dist-packages (from bokeh) (1.2.1)\n",
            "Requirement already satisfied: numpy>=1.16 in /usr/local/lib/python3.10/dist-packages (from bokeh) (1.25.2)\n",
            "Requirement already satisfied: packaging>=16.8 in /usr/local/lib/python3.10/dist-packages (from bokeh) (24.0)\n",
            "Requirement already satisfied: pandas>=1.2 in /usr/local/lib/python3.10/dist-packages (from bokeh) (2.0.3)\n",
            "Requirement already satisfied: pillow>=7.1.0 in /usr/local/lib/python3.10/dist-packages (from bokeh) (9.4.0)\n",
            "Requirement already satisfied: PyYAML>=3.10 in /usr/local/lib/python3.10/dist-packages (from bokeh) (6.0.1)\n",
            "Requirement already satisfied: tornado>=6.2 in /usr/local/lib/python3.10/dist-packages (from bokeh) (6.3.3)\n",
            "Requirement already satisfied: xyzservices>=2021.09.1 in /usr/local/lib/python3.10/dist-packages (from bokeh) (2024.4.0)\n",
            "Requirement already satisfied: MarkupSafe>=2.0 in /usr/local/lib/python3.10/dist-packages (from Jinja2>=2.9->bokeh) (2.1.5)\n",
            "Requirement already satisfied: python-dateutil>=2.8.2 in /usr/local/lib/python3.10/dist-packages (from pandas>=1.2->bokeh) (2.8.2)\n",
            "Requirement already satisfied: pytz>=2020.1 in /usr/local/lib/python3.10/dist-packages (from pandas>=1.2->bokeh) (2023.4)\n",
            "Requirement already satisfied: tzdata>=2022.1 in /usr/local/lib/python3.10/dist-packages (from pandas>=1.2->bokeh) (2024.1)\n",
            "Requirement already satisfied: six>=1.5 in /usr/local/lib/python3.10/dist-packages (from python-dateutil>=2.8.2->pandas>=1.2->bokeh) (1.16.0)\n",
            "Collecting imblearn\n",
            "  Downloading imblearn-0.0-py2.py3-none-any.whl (1.9 kB)\n",
            "Requirement already satisfied: imbalanced-learn in /usr/local/lib/python3.10/dist-packages (from imblearn) (0.10.1)\n",
            "Requirement already satisfied: numpy>=1.17.3 in /usr/local/lib/python3.10/dist-packages (from imbalanced-learn->imblearn) (1.25.2)\n",
            "Requirement already satisfied: scipy>=1.3.2 in /usr/local/lib/python3.10/dist-packages (from imbalanced-learn->imblearn) (1.11.4)\n",
            "Requirement already satisfied: scikit-learn>=1.0.2 in /usr/local/lib/python3.10/dist-packages (from imbalanced-learn->imblearn) (1.2.2)\n",
            "Requirement already satisfied: joblib>=1.1.1 in /usr/local/lib/python3.10/dist-packages (from imbalanced-learn->imblearn) (1.4.0)\n",
            "Requirement already satisfied: threadpoolctl>=2.0.0 in /usr/local/lib/python3.10/dist-packages (from imbalanced-learn->imblearn) (3.4.0)\n",
            "Installing collected packages: imblearn\n",
            "Successfully installed imblearn-0.0\n"
          ]
        },
        {
          "data": {
            "application/javascript": [
              "(function(root) {\n",
              "  function now() {\n",
              "    return new Date();\n",
              "  }\n",
              "\n",
              "  var force = true;\n",
              "  var py_version = '3.4.1'.replace('rc', '-rc.').replace('.dev', '-dev.');\n",
              "  var reloading = false;\n",
              "  var Bokeh = root.Bokeh;\n",
              "\n",
              "  if (typeof (root._bokeh_timeout) === \"undefined\" || force) {\n",
              "    root._bokeh_timeout = Date.now() + 5000;\n",
              "    root._bokeh_failed_load = false;\n",
              "  }\n",
              "\n",
              "  function run_callbacks() {\n",
              "    try {\n",
              "      root._bokeh_onload_callbacks.forEach(function(callback) {\n",
              "        if (callback != null)\n",
              "          callback();\n",
              "      });\n",
              "    } finally {\n",
              "      delete root._bokeh_onload_callbacks;\n",
              "    }\n",
              "    console.debug(\"Bokeh: all callbacks have finished\");\n",
              "  }\n",
              "\n",
              "  function load_libs(css_urls, js_urls, js_modules, js_exports, callback) {\n",
              "    if (css_urls == null) css_urls = [];\n",
              "    if (js_urls == null) js_urls = [];\n",
              "    if (js_modules == null) js_modules = [];\n",
              "    if (js_exports == null) js_exports = {};\n",
              "\n",
              "    root._bokeh_onload_callbacks.push(callback);\n",
              "\n",
              "    if (root._bokeh_is_loading > 0) {\n",
              "      console.debug(\"Bokeh: BokehJS is being loaded, scheduling callback at\", now());\n",
              "      return null;\n",
              "    }\n",
              "    if (js_urls.length === 0 && js_modules.length === 0 && Object.keys(js_exports).length === 0) {\n",
              "      run_callbacks();\n",
              "      return null;\n",
              "    }\n",
              "    if (!reloading) {\n",
              "      console.debug(\"Bokeh: BokehJS not loaded, scheduling load and callback at\", now());\n",
              "    }\n",
              "\n",
              "    function on_load() {\n",
              "      root._bokeh_is_loading--;\n",
              "      if (root._bokeh_is_loading === 0) {\n",
              "        console.debug(\"Bokeh: all BokehJS libraries/stylesheets loaded\");\n",
              "        run_callbacks()\n",
              "      }\n",
              "    }\n",
              "    window._bokeh_on_load = on_load\n",
              "\n",
              "    function on_error() {\n",
              "      console.error(\"failed to load \" + url);\n",
              "    }\n",
              "\n",
              "    var skip = [];\n",
              "    if (window.requirejs) {\n",
              "      window.requirejs.config({'packages': {}, 'paths': {}, 'shim': {}});\n",
              "      root._bokeh_is_loading = css_urls.length + 0;\n",
              "    } else {\n",
              "      root._bokeh_is_loading = css_urls.length + js_urls.length + js_modules.length + Object.keys(js_exports).length;\n",
              "    }\n",
              "\n",
              "    var existing_stylesheets = []\n",
              "    var links = document.getElementsByTagName('link')\n",
              "    for (var i = 0; i < links.length; i++) {\n",
              "      var link = links[i]\n",
              "      if (link.href != null) {\n",
              "\texisting_stylesheets.push(link.href)\n",
              "      }\n",
              "    }\n",
              "    for (var i = 0; i < css_urls.length; i++) {\n",
              "      var url = css_urls[i];\n",
              "      if (existing_stylesheets.indexOf(url) !== -1) {\n",
              "\ton_load()\n",
              "\tcontinue;\n",
              "      }\n",
              "      const element = document.createElement(\"link\");\n",
              "      element.onload = on_load;\n",
              "      element.onerror = on_error;\n",
              "      element.rel = \"stylesheet\";\n",
              "      element.type = \"text/css\";\n",
              "      element.href = url;\n",
              "      console.debug(\"Bokeh: injecting link tag for BokehJS stylesheet: \", url);\n",
              "      document.body.appendChild(element);\n",
              "    }    var existing_scripts = []\n",
              "    var scripts = document.getElementsByTagName('script')\n",
              "    for (var i = 0; i < scripts.length; i++) {\n",
              "      var script = scripts[i]\n",
              "      if (script.src != null) {\n",
              "\texisting_scripts.push(script.src)\n",
              "      }\n",
              "    }\n",
              "    for (var i = 0; i < js_urls.length; i++) {\n",
              "      var url = js_urls[i];\n",
              "      if (skip.indexOf(url) !== -1 || existing_scripts.indexOf(url) !== -1) {\n",
              "\tif (!window.requirejs) {\n",
              "\t  on_load();\n",
              "\t}\n",
              "\tcontinue;\n",
              "      }\n",
              "      var element = document.createElement('script');\n",
              "      element.onload = on_load;\n",
              "      element.onerror = on_error;\n",
              "      element.async = false;\n",
              "      element.src = url;\n",
              "      console.debug(\"Bokeh: injecting script tag for BokehJS library: \", url);\n",
              "      document.head.appendChild(element);\n",
              "    }\n",
              "    for (var i = 0; i < js_modules.length; i++) {\n",
              "      var url = js_modules[i];\n",
              "      if (skip.indexOf(url) !== -1 || existing_scripts.indexOf(url) !== -1) {\n",
              "\tif (!window.requirejs) {\n",
              "\t  on_load();\n",
              "\t}\n",
              "\tcontinue;\n",
              "      }\n",
              "      var element = document.createElement('script');\n",
              "      element.onload = on_load;\n",
              "      element.onerror = on_error;\n",
              "      element.async = false;\n",
              "      element.src = url;\n",
              "      element.type = \"module\";\n",
              "      console.debug(\"Bokeh: injecting script tag for BokehJS library: \", url);\n",
              "      document.head.appendChild(element);\n",
              "    }\n",
              "    for (const name in js_exports) {\n",
              "      var url = js_exports[name];\n",
              "      if (skip.indexOf(url) >= 0 || root[name] != null) {\n",
              "\tif (!window.requirejs) {\n",
              "\t  on_load();\n",
              "\t}\n",
              "\tcontinue;\n",
              "      }\n",
              "      var element = document.createElement('script');\n",
              "      element.onerror = on_error;\n",
              "      element.async = false;\n",
              "      element.type = \"module\";\n",
              "      console.debug(\"Bokeh: injecting script tag for BokehJS library: \", url);\n",
              "      element.textContent = `\n",
              "      import ${name} from \"${url}\"\n",
              "      window.${name} = ${name}\n",
              "      window._bokeh_on_load()\n",
              "      `\n",
              "      document.head.appendChild(element);\n",
              "    }\n",
              "    if (!js_urls.length && !js_modules.length) {\n",
              "      on_load()\n",
              "    }\n",
              "  };\n",
              "\n",
              "  function inject_raw_css(css) {\n",
              "    const element = document.createElement(\"style\");\n",
              "    element.appendChild(document.createTextNode(css));\n",
              "    document.body.appendChild(element);\n",
              "  }\n",
              "\n",
              "  var js_urls = [\"https://cdn.bokeh.org/bokeh/release/bokeh-3.4.1.min.js\", \"https://cdn.bokeh.org/bokeh/release/bokeh-gl-3.4.1.min.js\", \"https://cdn.bokeh.org/bokeh/release/bokeh-widgets-3.4.1.min.js\", \"https://cdn.bokeh.org/bokeh/release/bokeh-tables-3.4.1.min.js\", \"https://cdn.holoviz.org/panel/1.4.2/dist/panel.min.js\"];\n",
              "  var js_modules = [];\n",
              "  var js_exports = {};\n",
              "  var css_urls = [];\n",
              "  var inline_js = [    function(Bokeh) {\n",
              "      Bokeh.set_log_level(\"info\");\n",
              "    },\n",
              "function(Bokeh) {} // ensure no trailing comma for IE\n",
              "  ];\n",
              "\n",
              "  function run_inline_js() {\n",
              "    if ((root.Bokeh !== undefined) || (force === true)) {\n",
              "      for (var i = 0; i < inline_js.length; i++) {\n",
              "\ttry {\n",
              "          inline_js[i].call(root, root.Bokeh);\n",
              "\t} catch(e) {\n",
              "\t  if (!reloading) {\n",
              "\t    throw e;\n",
              "\t  }\n",
              "\t}\n",
              "      }\n",
              "      // Cache old bokeh versions\n",
              "      if (Bokeh != undefined && !reloading) {\n",
              "\tvar NewBokeh = root.Bokeh;\n",
              "\tif (Bokeh.versions === undefined) {\n",
              "\t  Bokeh.versions = new Map();\n",
              "\t}\n",
              "\tif (NewBokeh.version !== Bokeh.version) {\n",
              "\t  Bokeh.versions.set(NewBokeh.version, NewBokeh)\n",
              "\t}\n",
              "\troot.Bokeh = Bokeh;\n",
              "      }} else if (Date.now() < root._bokeh_timeout) {\n",
              "      setTimeout(run_inline_js, 100);\n",
              "    } else if (!root._bokeh_failed_load) {\n",
              "      console.log(\"Bokeh: BokehJS failed to load within specified timeout.\");\n",
              "      root._bokeh_failed_load = true;\n",
              "    }\n",
              "    root._bokeh_is_initializing = false\n",
              "  }\n",
              "\n",
              "  function load_or_wait() {\n",
              "    // Implement a backoff loop that tries to ensure we do not load multiple\n",
              "    // versions of Bokeh and its dependencies at the same time.\n",
              "    // In recent versions we use the root._bokeh_is_initializing flag\n",
              "    // to determine whether there is an ongoing attempt to initialize\n",
              "    // bokeh, however for backward compatibility we also try to ensure\n",
              "    // that we do not start loading a newer (Panel>=1.0 and Bokeh>3) version\n",
              "    // before older versions are fully initialized.\n",
              "    if (root._bokeh_is_initializing && Date.now() > root._bokeh_timeout) {\n",
              "      root._bokeh_is_initializing = false;\n",
              "      root._bokeh_onload_callbacks = undefined;\n",
              "      console.log(\"Bokeh: BokehJS was loaded multiple times but one version failed to initialize.\");\n",
              "      load_or_wait();\n",
              "    } else if (root._bokeh_is_initializing || (typeof root._bokeh_is_initializing === \"undefined\" && root._bokeh_onload_callbacks !== undefined)) {\n",
              "      setTimeout(load_or_wait, 100);\n",
              "    } else {\n",
              "      root._bokeh_is_initializing = true\n",
              "      root._bokeh_onload_callbacks = []\n",
              "      var bokeh_loaded = Bokeh != null && (Bokeh.version === py_version || (Bokeh.versions !== undefined && Bokeh.versions.has(py_version)));\n",
              "      if (!reloading && !bokeh_loaded) {\n",
              "\troot.Bokeh = undefined;\n",
              "      }\n",
              "      load_libs(css_urls, js_urls, js_modules, js_exports, function() {\n",
              "\tconsole.debug(\"Bokeh: BokehJS plotting callback run at\", now());\n",
              "\trun_inline_js();\n",
              "      });\n",
              "    }\n",
              "  }\n",
              "  // Give older versions of the autoload script a head-start to ensure\n",
              "  // they initialize before we start loading newer version.\n",
              "  setTimeout(load_or_wait, 100)\n",
              "}(window));"
            ],
            "application/vnd.holoviews_load.v0+json": "(function(root) {\n  function now() {\n    return new Date();\n  }\n\n  var force = true;\n  var py_version = '3.4.1'.replace('rc', '-rc.').replace('.dev', '-dev.');\n  var reloading = false;\n  var Bokeh = root.Bokeh;\n\n  if (typeof (root._bokeh_timeout) === \"undefined\" || force) {\n    root._bokeh_timeout = Date.now() + 5000;\n    root._bokeh_failed_load = false;\n  }\n\n  function run_callbacks() {\n    try {\n      root._bokeh_onload_callbacks.forEach(function(callback) {\n        if (callback != null)\n          callback();\n      });\n    } finally {\n      delete root._bokeh_onload_callbacks;\n    }\n    console.debug(\"Bokeh: all callbacks have finished\");\n  }\n\n  function load_libs(css_urls, js_urls, js_modules, js_exports, callback) {\n    if (css_urls == null) css_urls = [];\n    if (js_urls == null) js_urls = [];\n    if (js_modules == null) js_modules = [];\n    if (js_exports == null) js_exports = {};\n\n    root._bokeh_onload_callbacks.push(callback);\n\n    if (root._bokeh_is_loading > 0) {\n      console.debug(\"Bokeh: BokehJS is being loaded, scheduling callback at\", now());\n      return null;\n    }\n    if (js_urls.length === 0 && js_modules.length === 0 && Object.keys(js_exports).length === 0) {\n      run_callbacks();\n      return null;\n    }\n    if (!reloading) {\n      console.debug(\"Bokeh: BokehJS not loaded, scheduling load and callback at\", now());\n    }\n\n    function on_load() {\n      root._bokeh_is_loading--;\n      if (root._bokeh_is_loading === 0) {\n        console.debug(\"Bokeh: all BokehJS libraries/stylesheets loaded\");\n        run_callbacks()\n      }\n    }\n    window._bokeh_on_load = on_load\n\n    function on_error() {\n      console.error(\"failed to load \" + url);\n    }\n\n    var skip = [];\n    if (window.requirejs) {\n      window.requirejs.config({'packages': {}, 'paths': {}, 'shim': {}});\n      root._bokeh_is_loading = css_urls.length + 0;\n    } else {\n      root._bokeh_is_loading = css_urls.length + js_urls.length + js_modules.length + Object.keys(js_exports).length;\n    }\n\n    var existing_stylesheets = []\n    var links = document.getElementsByTagName('link')\n    for (var i = 0; i < links.length; i++) {\n      var link = links[i]\n      if (link.href != null) {\n\texisting_stylesheets.push(link.href)\n      }\n    }\n    for (var i = 0; i < css_urls.length; i++) {\n      var url = css_urls[i];\n      if (existing_stylesheets.indexOf(url) !== -1) {\n\ton_load()\n\tcontinue;\n      }\n      const element = document.createElement(\"link\");\n      element.onload = on_load;\n      element.onerror = on_error;\n      element.rel = \"stylesheet\";\n      element.type = \"text/css\";\n      element.href = url;\n      console.debug(\"Bokeh: injecting link tag for BokehJS stylesheet: \", url);\n      document.body.appendChild(element);\n    }    var existing_scripts = []\n    var scripts = document.getElementsByTagName('script')\n    for (var i = 0; i < scripts.length; i++) {\n      var script = scripts[i]\n      if (script.src != null) {\n\texisting_scripts.push(script.src)\n      }\n    }\n    for (var i = 0; i < js_urls.length; i++) {\n      var url = js_urls[i];\n      if (skip.indexOf(url) !== -1 || existing_scripts.indexOf(url) !== -1) {\n\tif (!window.requirejs) {\n\t  on_load();\n\t}\n\tcontinue;\n      }\n      var element = document.createElement('script');\n      element.onload = on_load;\n      element.onerror = on_error;\n      element.async = false;\n      element.src = url;\n      console.debug(\"Bokeh: injecting script tag for BokehJS library: \", url);\n      document.head.appendChild(element);\n    }\n    for (var i = 0; i < js_modules.length; i++) {\n      var url = js_modules[i];\n      if (skip.indexOf(url) !== -1 || existing_scripts.indexOf(url) !== -1) {\n\tif (!window.requirejs) {\n\t  on_load();\n\t}\n\tcontinue;\n      }\n      var element = document.createElement('script');\n      element.onload = on_load;\n      element.onerror = on_error;\n      element.async = false;\n      element.src = url;\n      element.type = \"module\";\n      console.debug(\"Bokeh: injecting script tag for BokehJS library: \", url);\n      document.head.appendChild(element);\n    }\n    for (const name in js_exports) {\n      var url = js_exports[name];\n      if (skip.indexOf(url) >= 0 || root[name] != null) {\n\tif (!window.requirejs) {\n\t  on_load();\n\t}\n\tcontinue;\n      }\n      var element = document.createElement('script');\n      element.onerror = on_error;\n      element.async = false;\n      element.type = \"module\";\n      console.debug(\"Bokeh: injecting script tag for BokehJS library: \", url);\n      element.textContent = `\n      import ${name} from \"${url}\"\n      window.${name} = ${name}\n      window._bokeh_on_load()\n      `\n      document.head.appendChild(element);\n    }\n    if (!js_urls.length && !js_modules.length) {\n      on_load()\n    }\n  };\n\n  function inject_raw_css(css) {\n    const element = document.createElement(\"style\");\n    element.appendChild(document.createTextNode(css));\n    document.body.appendChild(element);\n  }\n\n  var js_urls = [\"https://cdn.bokeh.org/bokeh/release/bokeh-3.4.1.min.js\", \"https://cdn.bokeh.org/bokeh/release/bokeh-gl-3.4.1.min.js\", \"https://cdn.bokeh.org/bokeh/release/bokeh-widgets-3.4.1.min.js\", \"https://cdn.bokeh.org/bokeh/release/bokeh-tables-3.4.1.min.js\", \"https://cdn.holoviz.org/panel/1.4.2/dist/panel.min.js\"];\n  var js_modules = [];\n  var js_exports = {};\n  var css_urls = [];\n  var inline_js = [    function(Bokeh) {\n      Bokeh.set_log_level(\"info\");\n    },\nfunction(Bokeh) {} // ensure no trailing comma for IE\n  ];\n\n  function run_inline_js() {\n    if ((root.Bokeh !== undefined) || (force === true)) {\n      for (var i = 0; i < inline_js.length; i++) {\n\ttry {\n          inline_js[i].call(root, root.Bokeh);\n\t} catch(e) {\n\t  if (!reloading) {\n\t    throw e;\n\t  }\n\t}\n      }\n      // Cache old bokeh versions\n      if (Bokeh != undefined && !reloading) {\n\tvar NewBokeh = root.Bokeh;\n\tif (Bokeh.versions === undefined) {\n\t  Bokeh.versions = new Map();\n\t}\n\tif (NewBokeh.version !== Bokeh.version) {\n\t  Bokeh.versions.set(NewBokeh.version, NewBokeh)\n\t}\n\troot.Bokeh = Bokeh;\n      }} else if (Date.now() < root._bokeh_timeout) {\n      setTimeout(run_inline_js, 100);\n    } else if (!root._bokeh_failed_load) {\n      console.log(\"Bokeh: BokehJS failed to load within specified timeout.\");\n      root._bokeh_failed_load = true;\n    }\n    root._bokeh_is_initializing = false\n  }\n\n  function load_or_wait() {\n    // Implement a backoff loop that tries to ensure we do not load multiple\n    // versions of Bokeh and its dependencies at the same time.\n    // In recent versions we use the root._bokeh_is_initializing flag\n    // to determine whether there is an ongoing attempt to initialize\n    // bokeh, however for backward compatibility we also try to ensure\n    // that we do not start loading a newer (Panel>=1.0 and Bokeh>3) version\n    // before older versions are fully initialized.\n    if (root._bokeh_is_initializing && Date.now() > root._bokeh_timeout) {\n      root._bokeh_is_initializing = false;\n      root._bokeh_onload_callbacks = undefined;\n      console.log(\"Bokeh: BokehJS was loaded multiple times but one version failed to initialize.\");\n      load_or_wait();\n    } else if (root._bokeh_is_initializing || (typeof root._bokeh_is_initializing === \"undefined\" && root._bokeh_onload_callbacks !== undefined)) {\n      setTimeout(load_or_wait, 100);\n    } else {\n      root._bokeh_is_initializing = true\n      root._bokeh_onload_callbacks = []\n      var bokeh_loaded = Bokeh != null && (Bokeh.version === py_version || (Bokeh.versions !== undefined && Bokeh.versions.has(py_version)));\n      if (!reloading && !bokeh_loaded) {\n\troot.Bokeh = undefined;\n      }\n      load_libs(css_urls, js_urls, js_modules, js_exports, function() {\n\tconsole.debug(\"Bokeh: BokehJS plotting callback run at\", now());\n\trun_inline_js();\n      });\n    }\n  }\n  // Give older versions of the autoload script a head-start to ensure\n  // they initialize before we start loading newer version.\n  setTimeout(load_or_wait, 100)\n}(window));"
          },
          "metadata": {},
          "output_type": "display_data"
        },
        {
          "data": {
            "application/javascript": [
              "\n",
              "if ((window.PyViz === undefined) || (window.PyViz instanceof HTMLElement)) {\n",
              "  window.PyViz = {comms: {}, comm_status:{}, kernels:{}, receivers: {}, plot_index: []}\n",
              "}\n",
              "\n",
              "\n",
              "    function JupyterCommManager() {\n",
              "    }\n",
              "\n",
              "    JupyterCommManager.prototype.register_target = function(plot_id, comm_id, msg_handler) {\n",
              "      if (window.comm_manager || ((window.Jupyter !== undefined) && (Jupyter.notebook.kernel != null))) {\n",
              "        var comm_manager = window.comm_manager || Jupyter.notebook.kernel.comm_manager;\n",
              "        comm_manager.register_target(comm_id, function(comm) {\n",
              "          comm.on_msg(msg_handler);\n",
              "        });\n",
              "      } else if ((plot_id in window.PyViz.kernels) && (window.PyViz.kernels[plot_id])) {\n",
              "        window.PyViz.kernels[plot_id].registerCommTarget(comm_id, function(comm) {\n",
              "          comm.onMsg = msg_handler;\n",
              "        });\n",
              "      } else if (typeof google != 'undefined' && google.colab.kernel != null) {\n",
              "        google.colab.kernel.comms.registerTarget(comm_id, (comm) => {\n",
              "          var messages = comm.messages[Symbol.asyncIterator]();\n",
              "          function processIteratorResult(result) {\n",
              "            var message = result.value;\n",
              "            console.log(message)\n",
              "            var content = {data: message.data, comm_id};\n",
              "            var buffers = []\n",
              "            for (var buffer of message.buffers || []) {\n",
              "              buffers.push(new DataView(buffer))\n",
              "            }\n",
              "            var metadata = message.metadata || {};\n",
              "            var msg = {content, buffers, metadata}\n",
              "            msg_handler(msg);\n",
              "            return messages.next().then(processIteratorResult);\n",
              "          }\n",
              "          return messages.next().then(processIteratorResult);\n",
              "        })\n",
              "      }\n",
              "    }\n",
              "\n",
              "    JupyterCommManager.prototype.get_client_comm = function(plot_id, comm_id, msg_handler) {\n",
              "      if (comm_id in window.PyViz.comms) {\n",
              "        return window.PyViz.comms[comm_id];\n",
              "      } else if (window.comm_manager || ((window.Jupyter !== undefined) && (Jupyter.notebook.kernel != null))) {\n",
              "        var comm_manager = window.comm_manager || Jupyter.notebook.kernel.comm_manager;\n",
              "        var comm = comm_manager.new_comm(comm_id, {}, {}, {}, comm_id);\n",
              "        if (msg_handler) {\n",
              "          comm.on_msg(msg_handler);\n",
              "        }\n",
              "      } else if ((plot_id in window.PyViz.kernels) && (window.PyViz.kernels[plot_id])) {\n",
              "        var comm = window.PyViz.kernels[plot_id].connectToComm(comm_id);\n",
              "        comm.open();\n",
              "        if (msg_handler) {\n",
              "          comm.onMsg = msg_handler;\n",
              "        }\n",
              "      } else if (typeof google != 'undefined' && google.colab.kernel != null) {\n",
              "        var comm_promise = google.colab.kernel.comms.open(comm_id)\n",
              "        comm_promise.then((comm) => {\n",
              "          window.PyViz.comms[comm_id] = comm;\n",
              "          if (msg_handler) {\n",
              "            var messages = comm.messages[Symbol.asyncIterator]();\n",
              "            function processIteratorResult(result) {\n",
              "              var message = result.value;\n",
              "              var content = {data: message.data};\n",
              "              var metadata = message.metadata || {comm_id};\n",
              "              var msg = {content, metadata}\n",
              "              msg_handler(msg);\n",
              "              return messages.next().then(processIteratorResult);\n",
              "            }\n",
              "            return messages.next().then(processIteratorResult);\n",
              "          }\n",
              "        }) \n",
              "        var sendClosure = (data, metadata, buffers, disposeOnDone) => {\n",
              "          return comm_promise.then((comm) => {\n",
              "            comm.send(data, metadata, buffers, disposeOnDone);\n",
              "          });\n",
              "        };\n",
              "        var comm = {\n",
              "          send: sendClosure\n",
              "        };\n",
              "      }\n",
              "      window.PyViz.comms[comm_id] = comm;\n",
              "      return comm;\n",
              "    }\n",
              "    window.PyViz.comm_manager = new JupyterCommManager();\n",
              "    \n",
              "\n",
              "\n",
              "var JS_MIME_TYPE = 'application/javascript';\n",
              "var HTML_MIME_TYPE = 'text/html';\n",
              "var EXEC_MIME_TYPE = 'application/vnd.holoviews_exec.v0+json';\n",
              "var CLASS_NAME = 'output';\n",
              "\n",
              "/**\n",
              " * Render data to the DOM node\n",
              " */\n",
              "function render(props, node) {\n",
              "  var div = document.createElement(\"div\");\n",
              "  var script = document.createElement(\"script\");\n",
              "  node.appendChild(div);\n",
              "  node.appendChild(script);\n",
              "}\n",
              "\n",
              "/**\n",
              " * Handle when a new output is added\n",
              " */\n",
              "function handle_add_output(event, handle) {\n",
              "  var output_area = handle.output_area;\n",
              "  var output = handle.output;\n",
              "  if ((output.data == undefined) || (!output.data.hasOwnProperty(EXEC_MIME_TYPE))) {\n",
              "    return\n",
              "  }\n",
              "  var id = output.metadata[EXEC_MIME_TYPE][\"id\"];\n",
              "  var toinsert = output_area.element.find(\".\" + CLASS_NAME.split(' ')[0]);\n",
              "  if (id !== undefined) {\n",
              "    var nchildren = toinsert.length;\n",
              "    var html_node = toinsert[nchildren-1].children[0];\n",
              "    html_node.innerHTML = output.data[HTML_MIME_TYPE];\n",
              "    var scripts = [];\n",
              "    var nodelist = html_node.querySelectorAll(\"script\");\n",
              "    for (var i in nodelist) {\n",
              "      if (nodelist.hasOwnProperty(i)) {\n",
              "        scripts.push(nodelist[i])\n",
              "      }\n",
              "    }\n",
              "\n",
              "    scripts.forEach( function (oldScript) {\n",
              "      var newScript = document.createElement(\"script\");\n",
              "      var attrs = [];\n",
              "      var nodemap = oldScript.attributes;\n",
              "      for (var j in nodemap) {\n",
              "        if (nodemap.hasOwnProperty(j)) {\n",
              "          attrs.push(nodemap[j])\n",
              "        }\n",
              "      }\n",
              "      attrs.forEach(function(attr) { newScript.setAttribute(attr.name, attr.value) });\n",
              "      newScript.appendChild(document.createTextNode(oldScript.innerHTML));\n",
              "      oldScript.parentNode.replaceChild(newScript, oldScript);\n",
              "    });\n",
              "    if (JS_MIME_TYPE in output.data) {\n",
              "      toinsert[nchildren-1].children[1].textContent = output.data[JS_MIME_TYPE];\n",
              "    }\n",
              "    output_area._hv_plot_id = id;\n",
              "    if ((window.Bokeh !== undefined) && (id in Bokeh.index)) {\n",
              "      window.PyViz.plot_index[id] = Bokeh.index[id];\n",
              "    } else {\n",
              "      window.PyViz.plot_index[id] = null;\n",
              "    }\n",
              "  } else if (output.metadata[EXEC_MIME_TYPE][\"server_id\"] !== undefined) {\n",
              "    var bk_div = document.createElement(\"div\");\n",
              "    bk_div.innerHTML = output.data[HTML_MIME_TYPE];\n",
              "    var script_attrs = bk_div.children[0].attributes;\n",
              "    for (var i = 0; i < script_attrs.length; i++) {\n",
              "      toinsert[toinsert.length - 1].childNodes[1].setAttribute(script_attrs[i].name, script_attrs[i].value);\n",
              "    }\n",
              "    // store reference to server id on output_area\n",
              "    output_area._bokeh_server_id = output.metadata[EXEC_MIME_TYPE][\"server_id\"];\n",
              "  }\n",
              "}\n",
              "\n",
              "/**\n",
              " * Handle when an output is cleared or removed\n",
              " */\n",
              "function handle_clear_output(event, handle) {\n",
              "  var id = handle.cell.output_area._hv_plot_id;\n",
              "  var server_id = handle.cell.output_area._bokeh_server_id;\n",
              "  if (((id === undefined) || !(id in PyViz.plot_index)) && (server_id !== undefined)) { return; }\n",
              "  var comm = window.PyViz.comm_manager.get_client_comm(\"hv-extension-comm\", \"hv-extension-comm\", function () {});\n",
              "  if (server_id !== null) {\n",
              "    comm.send({event_type: 'server_delete', 'id': server_id});\n",
              "    return;\n",
              "  } else if (comm !== null) {\n",
              "    comm.send({event_type: 'delete', 'id': id});\n",
              "  }\n",
              "  delete PyViz.plot_index[id];\n",
              "  if ((window.Bokeh !== undefined) & (id in window.Bokeh.index)) {\n",
              "    var doc = window.Bokeh.index[id].model.document\n",
              "    doc.clear();\n",
              "    const i = window.Bokeh.documents.indexOf(doc);\n",
              "    if (i > -1) {\n",
              "      window.Bokeh.documents.splice(i, 1);\n",
              "    }\n",
              "  }\n",
              "}\n",
              "\n",
              "/**\n",
              " * Handle kernel restart event\n",
              " */\n",
              "function handle_kernel_cleanup(event, handle) {\n",
              "  delete PyViz.comms[\"hv-extension-comm\"];\n",
              "  window.PyViz.plot_index = {}\n",
              "}\n",
              "\n",
              "/**\n",
              " * Handle update_display_data messages\n",
              " */\n",
              "function handle_update_output(event, handle) {\n",
              "  handle_clear_output(event, {cell: {output_area: handle.output_area}})\n",
              "  handle_add_output(event, handle)\n",
              "}\n",
              "\n",
              "function register_renderer(events, OutputArea) {\n",
              "  function append_mime(data, metadata, element) {\n",
              "    // create a DOM node to render to\n",
              "    var toinsert = this.create_output_subarea(\n",
              "    metadata,\n",
              "    CLASS_NAME,\n",
              "    EXEC_MIME_TYPE\n",
              "    );\n",
              "    this.keyboard_manager.register_events(toinsert);\n",
              "    // Render to node\n",
              "    var props = {data: data, metadata: metadata[EXEC_MIME_TYPE]};\n",
              "    render(props, toinsert[0]);\n",
              "    element.append(toinsert);\n",
              "    return toinsert\n",
              "  }\n",
              "\n",
              "  events.on('output_added.OutputArea', handle_add_output);\n",
              "  events.on('output_updated.OutputArea', handle_update_output);\n",
              "  events.on('clear_output.CodeCell', handle_clear_output);\n",
              "  events.on('delete.Cell', handle_clear_output);\n",
              "  events.on('kernel_ready.Kernel', handle_kernel_cleanup);\n",
              "\n",
              "  OutputArea.prototype.register_mime_type(EXEC_MIME_TYPE, append_mime, {\n",
              "    safe: true,\n",
              "    index: 0\n",
              "  });\n",
              "}\n",
              "\n",
              "if (window.Jupyter !== undefined) {\n",
              "  try {\n",
              "    var events = require('base/js/events');\n",
              "    var OutputArea = require('notebook/js/outputarea').OutputArea;\n",
              "    if (OutputArea.prototype.mime_types().indexOf(EXEC_MIME_TYPE) == -1) {\n",
              "      register_renderer(events, OutputArea);\n",
              "    }\n",
              "  } catch(err) {\n",
              "  }\n",
              "}\n"
            ],
            "application/vnd.holoviews_load.v0+json": "\nif ((window.PyViz === undefined) || (window.PyViz instanceof HTMLElement)) {\n  window.PyViz = {comms: {}, comm_status:{}, kernels:{}, receivers: {}, plot_index: []}\n}\n\n\n    function JupyterCommManager() {\n    }\n\n    JupyterCommManager.prototype.register_target = function(plot_id, comm_id, msg_handler) {\n      if (window.comm_manager || ((window.Jupyter !== undefined) && (Jupyter.notebook.kernel != null))) {\n        var comm_manager = window.comm_manager || Jupyter.notebook.kernel.comm_manager;\n        comm_manager.register_target(comm_id, function(comm) {\n          comm.on_msg(msg_handler);\n        });\n      } else if ((plot_id in window.PyViz.kernels) && (window.PyViz.kernels[plot_id])) {\n        window.PyViz.kernels[plot_id].registerCommTarget(comm_id, function(comm) {\n          comm.onMsg = msg_handler;\n        });\n      } else if (typeof google != 'undefined' && google.colab.kernel != null) {\n        google.colab.kernel.comms.registerTarget(comm_id, (comm) => {\n          var messages = comm.messages[Symbol.asyncIterator]();\n          function processIteratorResult(result) {\n            var message = result.value;\n            console.log(message)\n            var content = {data: message.data, comm_id};\n            var buffers = []\n            for (var buffer of message.buffers || []) {\n              buffers.push(new DataView(buffer))\n            }\n            var metadata = message.metadata || {};\n            var msg = {content, buffers, metadata}\n            msg_handler(msg);\n            return messages.next().then(processIteratorResult);\n          }\n          return messages.next().then(processIteratorResult);\n        })\n      }\n    }\n\n    JupyterCommManager.prototype.get_client_comm = function(plot_id, comm_id, msg_handler) {\n      if (comm_id in window.PyViz.comms) {\n        return window.PyViz.comms[comm_id];\n      } else if (window.comm_manager || ((window.Jupyter !== undefined) && (Jupyter.notebook.kernel != null))) {\n        var comm_manager = window.comm_manager || Jupyter.notebook.kernel.comm_manager;\n        var comm = comm_manager.new_comm(comm_id, {}, {}, {}, comm_id);\n        if (msg_handler) {\n          comm.on_msg(msg_handler);\n        }\n      } else if ((plot_id in window.PyViz.kernels) && (window.PyViz.kernels[plot_id])) {\n        var comm = window.PyViz.kernels[plot_id].connectToComm(comm_id);\n        comm.open();\n        if (msg_handler) {\n          comm.onMsg = msg_handler;\n        }\n      } else if (typeof google != 'undefined' && google.colab.kernel != null) {\n        var comm_promise = google.colab.kernel.comms.open(comm_id)\n        comm_promise.then((comm) => {\n          window.PyViz.comms[comm_id] = comm;\n          if (msg_handler) {\n            var messages = comm.messages[Symbol.asyncIterator]();\n            function processIteratorResult(result) {\n              var message = result.value;\n              var content = {data: message.data};\n              var metadata = message.metadata || {comm_id};\n              var msg = {content, metadata}\n              msg_handler(msg);\n              return messages.next().then(processIteratorResult);\n            }\n            return messages.next().then(processIteratorResult);\n          }\n        }) \n        var sendClosure = (data, metadata, buffers, disposeOnDone) => {\n          return comm_promise.then((comm) => {\n            comm.send(data, metadata, buffers, disposeOnDone);\n          });\n        };\n        var comm = {\n          send: sendClosure\n        };\n      }\n      window.PyViz.comms[comm_id] = comm;\n      return comm;\n    }\n    window.PyViz.comm_manager = new JupyterCommManager();\n    \n\n\nvar JS_MIME_TYPE = 'application/javascript';\nvar HTML_MIME_TYPE = 'text/html';\nvar EXEC_MIME_TYPE = 'application/vnd.holoviews_exec.v0+json';\nvar CLASS_NAME = 'output';\n\n/**\n * Render data to the DOM node\n */\nfunction render(props, node) {\n  var div = document.createElement(\"div\");\n  var script = document.createElement(\"script\");\n  node.appendChild(div);\n  node.appendChild(script);\n}\n\n/**\n * Handle when a new output is added\n */\nfunction handle_add_output(event, handle) {\n  var output_area = handle.output_area;\n  var output = handle.output;\n  if ((output.data == undefined) || (!output.data.hasOwnProperty(EXEC_MIME_TYPE))) {\n    return\n  }\n  var id = output.metadata[EXEC_MIME_TYPE][\"id\"];\n  var toinsert = output_area.element.find(\".\" + CLASS_NAME.split(' ')[0]);\n  if (id !== undefined) {\n    var nchildren = toinsert.length;\n    var html_node = toinsert[nchildren-1].children[0];\n    html_node.innerHTML = output.data[HTML_MIME_TYPE];\n    var scripts = [];\n    var nodelist = html_node.querySelectorAll(\"script\");\n    for (var i in nodelist) {\n      if (nodelist.hasOwnProperty(i)) {\n        scripts.push(nodelist[i])\n      }\n    }\n\n    scripts.forEach( function (oldScript) {\n      var newScript = document.createElement(\"script\");\n      var attrs = [];\n      var nodemap = oldScript.attributes;\n      for (var j in nodemap) {\n        if (nodemap.hasOwnProperty(j)) {\n          attrs.push(nodemap[j])\n        }\n      }\n      attrs.forEach(function(attr) { newScript.setAttribute(attr.name, attr.value) });\n      newScript.appendChild(document.createTextNode(oldScript.innerHTML));\n      oldScript.parentNode.replaceChild(newScript, oldScript);\n    });\n    if (JS_MIME_TYPE in output.data) {\n      toinsert[nchildren-1].children[1].textContent = output.data[JS_MIME_TYPE];\n    }\n    output_area._hv_plot_id = id;\n    if ((window.Bokeh !== undefined) && (id in Bokeh.index)) {\n      window.PyViz.plot_index[id] = Bokeh.index[id];\n    } else {\n      window.PyViz.plot_index[id] = null;\n    }\n  } else if (output.metadata[EXEC_MIME_TYPE][\"server_id\"] !== undefined) {\n    var bk_div = document.createElement(\"div\");\n    bk_div.innerHTML = output.data[HTML_MIME_TYPE];\n    var script_attrs = bk_div.children[0].attributes;\n    for (var i = 0; i < script_attrs.length; i++) {\n      toinsert[toinsert.length - 1].childNodes[1].setAttribute(script_attrs[i].name, script_attrs[i].value);\n    }\n    // store reference to server id on output_area\n    output_area._bokeh_server_id = output.metadata[EXEC_MIME_TYPE][\"server_id\"];\n  }\n}\n\n/**\n * Handle when an output is cleared or removed\n */\nfunction handle_clear_output(event, handle) {\n  var id = handle.cell.output_area._hv_plot_id;\n  var server_id = handle.cell.output_area._bokeh_server_id;\n  if (((id === undefined) || !(id in PyViz.plot_index)) && (server_id !== undefined)) { return; }\n  var comm = window.PyViz.comm_manager.get_client_comm(\"hv-extension-comm\", \"hv-extension-comm\", function () {});\n  if (server_id !== null) {\n    comm.send({event_type: 'server_delete', 'id': server_id});\n    return;\n  } else if (comm !== null) {\n    comm.send({event_type: 'delete', 'id': id});\n  }\n  delete PyViz.plot_index[id];\n  if ((window.Bokeh !== undefined) & (id in window.Bokeh.index)) {\n    var doc = window.Bokeh.index[id].model.document\n    doc.clear();\n    const i = window.Bokeh.documents.indexOf(doc);\n    if (i > -1) {\n      window.Bokeh.documents.splice(i, 1);\n    }\n  }\n}\n\n/**\n * Handle kernel restart event\n */\nfunction handle_kernel_cleanup(event, handle) {\n  delete PyViz.comms[\"hv-extension-comm\"];\n  window.PyViz.plot_index = {}\n}\n\n/**\n * Handle update_display_data messages\n */\nfunction handle_update_output(event, handle) {\n  handle_clear_output(event, {cell: {output_area: handle.output_area}})\n  handle_add_output(event, handle)\n}\n\nfunction register_renderer(events, OutputArea) {\n  function append_mime(data, metadata, element) {\n    // create a DOM node to render to\n    var toinsert = this.create_output_subarea(\n    metadata,\n    CLASS_NAME,\n    EXEC_MIME_TYPE\n    );\n    this.keyboard_manager.register_events(toinsert);\n    // Render to node\n    var props = {data: data, metadata: metadata[EXEC_MIME_TYPE]};\n    render(props, toinsert[0]);\n    element.append(toinsert);\n    return toinsert\n  }\n\n  events.on('output_added.OutputArea', handle_add_output);\n  events.on('output_updated.OutputArea', handle_update_output);\n  events.on('clear_output.CodeCell', handle_clear_output);\n  events.on('delete.Cell', handle_clear_output);\n  events.on('kernel_ready.Kernel', handle_kernel_cleanup);\n\n  OutputArea.prototype.register_mime_type(EXEC_MIME_TYPE, append_mime, {\n    safe: true,\n    index: 0\n  });\n}\n\nif (window.Jupyter !== undefined) {\n  try {\n    var events = require('base/js/events');\n    var OutputArea = require('notebook/js/outputarea').OutputArea;\n    if (OutputArea.prototype.mime_types().indexOf(EXEC_MIME_TYPE) == -1) {\n      register_renderer(events, OutputArea);\n    }\n  } catch(err) {\n  }\n}\n"
          },
          "metadata": {},
          "output_type": "display_data"
        },
        {
          "data": {
            "text/html": [
              "<style>*[data-root-id],\n",
              "*[data-root-id] > * {\n",
              "  box-sizing: border-box;\n",
              "  font-family: var(--jp-ui-font-family);\n",
              "  font-size: var(--jp-ui-font-size1);\n",
              "  color: var(--vscode-editor-foreground, var(--jp-ui-font-color1));\n",
              "}\n",
              "\n",
              "/* Override VSCode background color */\n",
              ".cell-output-ipywidget-background:has(\n",
              "    > .cell-output-ipywidget-background > .lm-Widget > *[data-root-id]\n",
              "  ),\n",
              ".cell-output-ipywidget-background:has(> .lm-Widget > *[data-root-id]) {\n",
              "  background-color: transparent !important;\n",
              "}\n",
              "</style>"
            ]
          },
          "metadata": {},
          "output_type": "display_data"
        },
        {
          "data": {
            "application/javascript": [
              "(function(root) {\n",
              "  function now() {\n",
              "    return new Date();\n",
              "  }\n",
              "\n",
              "  var force = true;\n",
              "  var py_version = '3.4.1'.replace('rc', '-rc.').replace('.dev', '-dev.');\n",
              "  var reloading = true;\n",
              "  var Bokeh = root.Bokeh;\n",
              "\n",
              "  if (typeof (root._bokeh_timeout) === \"undefined\" || force) {\n",
              "    root._bokeh_timeout = Date.now() + 5000;\n",
              "    root._bokeh_failed_load = false;\n",
              "  }\n",
              "\n",
              "  function run_callbacks() {\n",
              "    try {\n",
              "      root._bokeh_onload_callbacks.forEach(function(callback) {\n",
              "        if (callback != null)\n",
              "          callback();\n",
              "      });\n",
              "    } finally {\n",
              "      delete root._bokeh_onload_callbacks;\n",
              "    }\n",
              "    console.debug(\"Bokeh: all callbacks have finished\");\n",
              "  }\n",
              "\n",
              "  function load_libs(css_urls, js_urls, js_modules, js_exports, callback) {\n",
              "    if (css_urls == null) css_urls = [];\n",
              "    if (js_urls == null) js_urls = [];\n",
              "    if (js_modules == null) js_modules = [];\n",
              "    if (js_exports == null) js_exports = {};\n",
              "\n",
              "    root._bokeh_onload_callbacks.push(callback);\n",
              "\n",
              "    if (root._bokeh_is_loading > 0) {\n",
              "      console.debug(\"Bokeh: BokehJS is being loaded, scheduling callback at\", now());\n",
              "      return null;\n",
              "    }\n",
              "    if (js_urls.length === 0 && js_modules.length === 0 && Object.keys(js_exports).length === 0) {\n",
              "      run_callbacks();\n",
              "      return null;\n",
              "    }\n",
              "    if (!reloading) {\n",
              "      console.debug(\"Bokeh: BokehJS not loaded, scheduling load and callback at\", now());\n",
              "    }\n",
              "\n",
              "    function on_load() {\n",
              "      root._bokeh_is_loading--;\n",
              "      if (root._bokeh_is_loading === 0) {\n",
              "        console.debug(\"Bokeh: all BokehJS libraries/stylesheets loaded\");\n",
              "        run_callbacks()\n",
              "      }\n",
              "    }\n",
              "    window._bokeh_on_load = on_load\n",
              "\n",
              "    function on_error() {\n",
              "      console.error(\"failed to load \" + url);\n",
              "    }\n",
              "\n",
              "    var skip = [];\n",
              "    if (window.requirejs) {\n",
              "      window.requirejs.config({'packages': {}, 'paths': {}, 'shim': {}});\n",
              "      root._bokeh_is_loading = css_urls.length + 0;\n",
              "    } else {\n",
              "      root._bokeh_is_loading = css_urls.length + js_urls.length + js_modules.length + Object.keys(js_exports).length;\n",
              "    }\n",
              "\n",
              "    var existing_stylesheets = []\n",
              "    var links = document.getElementsByTagName('link')\n",
              "    for (var i = 0; i < links.length; i++) {\n",
              "      var link = links[i]\n",
              "      if (link.href != null) {\n",
              "\texisting_stylesheets.push(link.href)\n",
              "      }\n",
              "    }\n",
              "    for (var i = 0; i < css_urls.length; i++) {\n",
              "      var url = css_urls[i];\n",
              "      if (existing_stylesheets.indexOf(url) !== -1) {\n",
              "\ton_load()\n",
              "\tcontinue;\n",
              "      }\n",
              "      const element = document.createElement(\"link\");\n",
              "      element.onload = on_load;\n",
              "      element.onerror = on_error;\n",
              "      element.rel = \"stylesheet\";\n",
              "      element.type = \"text/css\";\n",
              "      element.href = url;\n",
              "      console.debug(\"Bokeh: injecting link tag for BokehJS stylesheet: \", url);\n",
              "      document.body.appendChild(element);\n",
              "    }    var existing_scripts = []\n",
              "    var scripts = document.getElementsByTagName('script')\n",
              "    for (var i = 0; i < scripts.length; i++) {\n",
              "      var script = scripts[i]\n",
              "      if (script.src != null) {\n",
              "\texisting_scripts.push(script.src)\n",
              "      }\n",
              "    }\n",
              "    for (var i = 0; i < js_urls.length; i++) {\n",
              "      var url = js_urls[i];\n",
              "      if (skip.indexOf(url) !== -1 || existing_scripts.indexOf(url) !== -1) {\n",
              "\tif (!window.requirejs) {\n",
              "\t  on_load();\n",
              "\t}\n",
              "\tcontinue;\n",
              "      }\n",
              "      var element = document.createElement('script');\n",
              "      element.onload = on_load;\n",
              "      element.onerror = on_error;\n",
              "      element.async = false;\n",
              "      element.src = url;\n",
              "      console.debug(\"Bokeh: injecting script tag for BokehJS library: \", url);\n",
              "      document.head.appendChild(element);\n",
              "    }\n",
              "    for (var i = 0; i < js_modules.length; i++) {\n",
              "      var url = js_modules[i];\n",
              "      if (skip.indexOf(url) !== -1 || existing_scripts.indexOf(url) !== -1) {\n",
              "\tif (!window.requirejs) {\n",
              "\t  on_load();\n",
              "\t}\n",
              "\tcontinue;\n",
              "      }\n",
              "      var element = document.createElement('script');\n",
              "      element.onload = on_load;\n",
              "      element.onerror = on_error;\n",
              "      element.async = false;\n",
              "      element.src = url;\n",
              "      element.type = \"module\";\n",
              "      console.debug(\"Bokeh: injecting script tag for BokehJS library: \", url);\n",
              "      document.head.appendChild(element);\n",
              "    }\n",
              "    for (const name in js_exports) {\n",
              "      var url = js_exports[name];\n",
              "      if (skip.indexOf(url) >= 0 || root[name] != null) {\n",
              "\tif (!window.requirejs) {\n",
              "\t  on_load();\n",
              "\t}\n",
              "\tcontinue;\n",
              "      }\n",
              "      var element = document.createElement('script');\n",
              "      element.onerror = on_error;\n",
              "      element.async = false;\n",
              "      element.type = \"module\";\n",
              "      console.debug(\"Bokeh: injecting script tag for BokehJS library: \", url);\n",
              "      element.textContent = `\n",
              "      import ${name} from \"${url}\"\n",
              "      window.${name} = ${name}\n",
              "      window._bokeh_on_load()\n",
              "      `\n",
              "      document.head.appendChild(element);\n",
              "    }\n",
              "    if (!js_urls.length && !js_modules.length) {\n",
              "      on_load()\n",
              "    }\n",
              "  };\n",
              "\n",
              "  function inject_raw_css(css) {\n",
              "    const element = document.createElement(\"style\");\n",
              "    element.appendChild(document.createTextNode(css));\n",
              "    document.body.appendChild(element);\n",
              "  }\n",
              "\n",
              "  var js_urls = [];\n",
              "  var js_modules = [];\n",
              "  var js_exports = {};\n",
              "  var css_urls = [];\n",
              "  var inline_js = [    function(Bokeh) {\n",
              "      Bokeh.set_log_level(\"info\");\n",
              "    },\n",
              "function(Bokeh) {} // ensure no trailing comma for IE\n",
              "  ];\n",
              "\n",
              "  function run_inline_js() {\n",
              "    if ((root.Bokeh !== undefined) || (force === true)) {\n",
              "      for (var i = 0; i < inline_js.length; i++) {\n",
              "\ttry {\n",
              "          inline_js[i].call(root, root.Bokeh);\n",
              "\t} catch(e) {\n",
              "\t  if (!reloading) {\n",
              "\t    throw e;\n",
              "\t  }\n",
              "\t}\n",
              "      }\n",
              "      // Cache old bokeh versions\n",
              "      if (Bokeh != undefined && !reloading) {\n",
              "\tvar NewBokeh = root.Bokeh;\n",
              "\tif (Bokeh.versions === undefined) {\n",
              "\t  Bokeh.versions = new Map();\n",
              "\t}\n",
              "\tif (NewBokeh.version !== Bokeh.version) {\n",
              "\t  Bokeh.versions.set(NewBokeh.version, NewBokeh)\n",
              "\t}\n",
              "\troot.Bokeh = Bokeh;\n",
              "      }} else if (Date.now() < root._bokeh_timeout) {\n",
              "      setTimeout(run_inline_js, 100);\n",
              "    } else if (!root._bokeh_failed_load) {\n",
              "      console.log(\"Bokeh: BokehJS failed to load within specified timeout.\");\n",
              "      root._bokeh_failed_load = true;\n",
              "    }\n",
              "    root._bokeh_is_initializing = false\n",
              "  }\n",
              "\n",
              "  function load_or_wait() {\n",
              "    // Implement a backoff loop that tries to ensure we do not load multiple\n",
              "    // versions of Bokeh and its dependencies at the same time.\n",
              "    // In recent versions we use the root._bokeh_is_initializing flag\n",
              "    // to determine whether there is an ongoing attempt to initialize\n",
              "    // bokeh, however for backward compatibility we also try to ensure\n",
              "    // that we do not start loading a newer (Panel>=1.0 and Bokeh>3) version\n",
              "    // before older versions are fully initialized.\n",
              "    if (root._bokeh_is_initializing && Date.now() > root._bokeh_timeout) {\n",
              "      root._bokeh_is_initializing = false;\n",
              "      root._bokeh_onload_callbacks = undefined;\n",
              "      console.log(\"Bokeh: BokehJS was loaded multiple times but one version failed to initialize.\");\n",
              "      load_or_wait();\n",
              "    } else if (root._bokeh_is_initializing || (typeof root._bokeh_is_initializing === \"undefined\" && root._bokeh_onload_callbacks !== undefined)) {\n",
              "      setTimeout(load_or_wait, 100);\n",
              "    } else {\n",
              "      root._bokeh_is_initializing = true\n",
              "      root._bokeh_onload_callbacks = []\n",
              "      var bokeh_loaded = Bokeh != null && (Bokeh.version === py_version || (Bokeh.versions !== undefined && Bokeh.versions.has(py_version)));\n",
              "      if (!reloading && !bokeh_loaded) {\n",
              "\troot.Bokeh = undefined;\n",
              "      }\n",
              "      load_libs(css_urls, js_urls, js_modules, js_exports, function() {\n",
              "\tconsole.debug(\"Bokeh: BokehJS plotting callback run at\", now());\n",
              "\trun_inline_js();\n",
              "      });\n",
              "    }\n",
              "  }\n",
              "  // Give older versions of the autoload script a head-start to ensure\n",
              "  // they initialize before we start loading newer version.\n",
              "  setTimeout(load_or_wait, 100)\n",
              "}(window));"
            ],
            "application/vnd.holoviews_load.v0+json": "(function(root) {\n  function now() {\n    return new Date();\n  }\n\n  var force = true;\n  var py_version = '3.4.1'.replace('rc', '-rc.').replace('.dev', '-dev.');\n  var reloading = true;\n  var Bokeh = root.Bokeh;\n\n  if (typeof (root._bokeh_timeout) === \"undefined\" || force) {\n    root._bokeh_timeout = Date.now() + 5000;\n    root._bokeh_failed_load = false;\n  }\n\n  function run_callbacks() {\n    try {\n      root._bokeh_onload_callbacks.forEach(function(callback) {\n        if (callback != null)\n          callback();\n      });\n    } finally {\n      delete root._bokeh_onload_callbacks;\n    }\n    console.debug(\"Bokeh: all callbacks have finished\");\n  }\n\n  function load_libs(css_urls, js_urls, js_modules, js_exports, callback) {\n    if (css_urls == null) css_urls = [];\n    if (js_urls == null) js_urls = [];\n    if (js_modules == null) js_modules = [];\n    if (js_exports == null) js_exports = {};\n\n    root._bokeh_onload_callbacks.push(callback);\n\n    if (root._bokeh_is_loading > 0) {\n      console.debug(\"Bokeh: BokehJS is being loaded, scheduling callback at\", now());\n      return null;\n    }\n    if (js_urls.length === 0 && js_modules.length === 0 && Object.keys(js_exports).length === 0) {\n      run_callbacks();\n      return null;\n    }\n    if (!reloading) {\n      console.debug(\"Bokeh: BokehJS not loaded, scheduling load and callback at\", now());\n    }\n\n    function on_load() {\n      root._bokeh_is_loading--;\n      if (root._bokeh_is_loading === 0) {\n        console.debug(\"Bokeh: all BokehJS libraries/stylesheets loaded\");\n        run_callbacks()\n      }\n    }\n    window._bokeh_on_load = on_load\n\n    function on_error() {\n      console.error(\"failed to load \" + url);\n    }\n\n    var skip = [];\n    if (window.requirejs) {\n      window.requirejs.config({'packages': {}, 'paths': {}, 'shim': {}});\n      root._bokeh_is_loading = css_urls.length + 0;\n    } else {\n      root._bokeh_is_loading = css_urls.length + js_urls.length + js_modules.length + Object.keys(js_exports).length;\n    }\n\n    var existing_stylesheets = []\n    var links = document.getElementsByTagName('link')\n    for (var i = 0; i < links.length; i++) {\n      var link = links[i]\n      if (link.href != null) {\n\texisting_stylesheets.push(link.href)\n      }\n    }\n    for (var i = 0; i < css_urls.length; i++) {\n      var url = css_urls[i];\n      if (existing_stylesheets.indexOf(url) !== -1) {\n\ton_load()\n\tcontinue;\n      }\n      const element = document.createElement(\"link\");\n      element.onload = on_load;\n      element.onerror = on_error;\n      element.rel = \"stylesheet\";\n      element.type = \"text/css\";\n      element.href = url;\n      console.debug(\"Bokeh: injecting link tag for BokehJS stylesheet: \", url);\n      document.body.appendChild(element);\n    }    var existing_scripts = []\n    var scripts = document.getElementsByTagName('script')\n    for (var i = 0; i < scripts.length; i++) {\n      var script = scripts[i]\n      if (script.src != null) {\n\texisting_scripts.push(script.src)\n      }\n    }\n    for (var i = 0; i < js_urls.length; i++) {\n      var url = js_urls[i];\n      if (skip.indexOf(url) !== -1 || existing_scripts.indexOf(url) !== -1) {\n\tif (!window.requirejs) {\n\t  on_load();\n\t}\n\tcontinue;\n      }\n      var element = document.createElement('script');\n      element.onload = on_load;\n      element.onerror = on_error;\n      element.async = false;\n      element.src = url;\n      console.debug(\"Bokeh: injecting script tag for BokehJS library: \", url);\n      document.head.appendChild(element);\n    }\n    for (var i = 0; i < js_modules.length; i++) {\n      var url = js_modules[i];\n      if (skip.indexOf(url) !== -1 || existing_scripts.indexOf(url) !== -1) {\n\tif (!window.requirejs) {\n\t  on_load();\n\t}\n\tcontinue;\n      }\n      var element = document.createElement('script');\n      element.onload = on_load;\n      element.onerror = on_error;\n      element.async = false;\n      element.src = url;\n      element.type = \"module\";\n      console.debug(\"Bokeh: injecting script tag for BokehJS library: \", url);\n      document.head.appendChild(element);\n    }\n    for (const name in js_exports) {\n      var url = js_exports[name];\n      if (skip.indexOf(url) >= 0 || root[name] != null) {\n\tif (!window.requirejs) {\n\t  on_load();\n\t}\n\tcontinue;\n      }\n      var element = document.createElement('script');\n      element.onerror = on_error;\n      element.async = false;\n      element.type = \"module\";\n      console.debug(\"Bokeh: injecting script tag for BokehJS library: \", url);\n      element.textContent = `\n      import ${name} from \"${url}\"\n      window.${name} = ${name}\n      window._bokeh_on_load()\n      `\n      document.head.appendChild(element);\n    }\n    if (!js_urls.length && !js_modules.length) {\n      on_load()\n    }\n  };\n\n  function inject_raw_css(css) {\n    const element = document.createElement(\"style\");\n    element.appendChild(document.createTextNode(css));\n    document.body.appendChild(element);\n  }\n\n  var js_urls = [];\n  var js_modules = [];\n  var js_exports = {};\n  var css_urls = [];\n  var inline_js = [    function(Bokeh) {\n      Bokeh.set_log_level(\"info\");\n    },\nfunction(Bokeh) {} // ensure no trailing comma for IE\n  ];\n\n  function run_inline_js() {\n    if ((root.Bokeh !== undefined) || (force === true)) {\n      for (var i = 0; i < inline_js.length; i++) {\n\ttry {\n          inline_js[i].call(root, root.Bokeh);\n\t} catch(e) {\n\t  if (!reloading) {\n\t    throw e;\n\t  }\n\t}\n      }\n      // Cache old bokeh versions\n      if (Bokeh != undefined && !reloading) {\n\tvar NewBokeh = root.Bokeh;\n\tif (Bokeh.versions === undefined) {\n\t  Bokeh.versions = new Map();\n\t}\n\tif (NewBokeh.version !== Bokeh.version) {\n\t  Bokeh.versions.set(NewBokeh.version, NewBokeh)\n\t}\n\troot.Bokeh = Bokeh;\n      }} else if (Date.now() < root._bokeh_timeout) {\n      setTimeout(run_inline_js, 100);\n    } else if (!root._bokeh_failed_load) {\n      console.log(\"Bokeh: BokehJS failed to load within specified timeout.\");\n      root._bokeh_failed_load = true;\n    }\n    root._bokeh_is_initializing = false\n  }\n\n  function load_or_wait() {\n    // Implement a backoff loop that tries to ensure we do not load multiple\n    // versions of Bokeh and its dependencies at the same time.\n    // In recent versions we use the root._bokeh_is_initializing flag\n    // to determine whether there is an ongoing attempt to initialize\n    // bokeh, however for backward compatibility we also try to ensure\n    // that we do not start loading a newer (Panel>=1.0 and Bokeh>3) version\n    // before older versions are fully initialized.\n    if (root._bokeh_is_initializing && Date.now() > root._bokeh_timeout) {\n      root._bokeh_is_initializing = false;\n      root._bokeh_onload_callbacks = undefined;\n      console.log(\"Bokeh: BokehJS was loaded multiple times but one version failed to initialize.\");\n      load_or_wait();\n    } else if (root._bokeh_is_initializing || (typeof root._bokeh_is_initializing === \"undefined\" && root._bokeh_onload_callbacks !== undefined)) {\n      setTimeout(load_or_wait, 100);\n    } else {\n      root._bokeh_is_initializing = true\n      root._bokeh_onload_callbacks = []\n      var bokeh_loaded = Bokeh != null && (Bokeh.version === py_version || (Bokeh.versions !== undefined && Bokeh.versions.has(py_version)));\n      if (!reloading && !bokeh_loaded) {\n\troot.Bokeh = undefined;\n      }\n      load_libs(css_urls, js_urls, js_modules, js_exports, function() {\n\tconsole.debug(\"Bokeh: BokehJS plotting callback run at\", now());\n\trun_inline_js();\n      });\n    }\n  }\n  // Give older versions of the autoload script a head-start to ensure\n  // they initialize before we start loading newer version.\n  setTimeout(load_or_wait, 100)\n}(window));"
          },
          "metadata": {},
          "output_type": "display_data"
        },
        {
          "data": {
            "application/javascript": [
              "\n",
              "if ((window.PyViz === undefined) || (window.PyViz instanceof HTMLElement)) {\n",
              "  window.PyViz = {comms: {}, comm_status:{}, kernels:{}, receivers: {}, plot_index: []}\n",
              "}\n",
              "\n",
              "\n",
              "    function JupyterCommManager() {\n",
              "    }\n",
              "\n",
              "    JupyterCommManager.prototype.register_target = function(plot_id, comm_id, msg_handler) {\n",
              "      if (window.comm_manager || ((window.Jupyter !== undefined) && (Jupyter.notebook.kernel != null))) {\n",
              "        var comm_manager = window.comm_manager || Jupyter.notebook.kernel.comm_manager;\n",
              "        comm_manager.register_target(comm_id, function(comm) {\n",
              "          comm.on_msg(msg_handler);\n",
              "        });\n",
              "      } else if ((plot_id in window.PyViz.kernels) && (window.PyViz.kernels[plot_id])) {\n",
              "        window.PyViz.kernels[plot_id].registerCommTarget(comm_id, function(comm) {\n",
              "          comm.onMsg = msg_handler;\n",
              "        });\n",
              "      } else if (typeof google != 'undefined' && google.colab.kernel != null) {\n",
              "        google.colab.kernel.comms.registerTarget(comm_id, (comm) => {\n",
              "          var messages = comm.messages[Symbol.asyncIterator]();\n",
              "          function processIteratorResult(result) {\n",
              "            var message = result.value;\n",
              "            console.log(message)\n",
              "            var content = {data: message.data, comm_id};\n",
              "            var buffers = []\n",
              "            for (var buffer of message.buffers || []) {\n",
              "              buffers.push(new DataView(buffer))\n",
              "            }\n",
              "            var metadata = message.metadata || {};\n",
              "            var msg = {content, buffers, metadata}\n",
              "            msg_handler(msg);\n",
              "            return messages.next().then(processIteratorResult);\n",
              "          }\n",
              "          return messages.next().then(processIteratorResult);\n",
              "        })\n",
              "      }\n",
              "    }\n",
              "\n",
              "    JupyterCommManager.prototype.get_client_comm = function(plot_id, comm_id, msg_handler) {\n",
              "      if (comm_id in window.PyViz.comms) {\n",
              "        return window.PyViz.comms[comm_id];\n",
              "      } else if (window.comm_manager || ((window.Jupyter !== undefined) && (Jupyter.notebook.kernel != null))) {\n",
              "        var comm_manager = window.comm_manager || Jupyter.notebook.kernel.comm_manager;\n",
              "        var comm = comm_manager.new_comm(comm_id, {}, {}, {}, comm_id);\n",
              "        if (msg_handler) {\n",
              "          comm.on_msg(msg_handler);\n",
              "        }\n",
              "      } else if ((plot_id in window.PyViz.kernels) && (window.PyViz.kernels[plot_id])) {\n",
              "        var comm = window.PyViz.kernels[plot_id].connectToComm(comm_id);\n",
              "        comm.open();\n",
              "        if (msg_handler) {\n",
              "          comm.onMsg = msg_handler;\n",
              "        }\n",
              "      } else if (typeof google != 'undefined' && google.colab.kernel != null) {\n",
              "        var comm_promise = google.colab.kernel.comms.open(comm_id)\n",
              "        comm_promise.then((comm) => {\n",
              "          window.PyViz.comms[comm_id] = comm;\n",
              "          if (msg_handler) {\n",
              "            var messages = comm.messages[Symbol.asyncIterator]();\n",
              "            function processIteratorResult(result) {\n",
              "              var message = result.value;\n",
              "              var content = {data: message.data};\n",
              "              var metadata = message.metadata || {comm_id};\n",
              "              var msg = {content, metadata}\n",
              "              msg_handler(msg);\n",
              "              return messages.next().then(processIteratorResult);\n",
              "            }\n",
              "            return messages.next().then(processIteratorResult);\n",
              "          }\n",
              "        }) \n",
              "        var sendClosure = (data, metadata, buffers, disposeOnDone) => {\n",
              "          return comm_promise.then((comm) => {\n",
              "            comm.send(data, metadata, buffers, disposeOnDone);\n",
              "          });\n",
              "        };\n",
              "        var comm = {\n",
              "          send: sendClosure\n",
              "        };\n",
              "      }\n",
              "      window.PyViz.comms[comm_id] = comm;\n",
              "      return comm;\n",
              "    }\n",
              "    window.PyViz.comm_manager = new JupyterCommManager();\n",
              "    \n",
              "\n",
              "\n",
              "var JS_MIME_TYPE = 'application/javascript';\n",
              "var HTML_MIME_TYPE = 'text/html';\n",
              "var EXEC_MIME_TYPE = 'application/vnd.holoviews_exec.v0+json';\n",
              "var CLASS_NAME = 'output';\n",
              "\n",
              "/**\n",
              " * Render data to the DOM node\n",
              " */\n",
              "function render(props, node) {\n",
              "  var div = document.createElement(\"div\");\n",
              "  var script = document.createElement(\"script\");\n",
              "  node.appendChild(div);\n",
              "  node.appendChild(script);\n",
              "}\n",
              "\n",
              "/**\n",
              " * Handle when a new output is added\n",
              " */\n",
              "function handle_add_output(event, handle) {\n",
              "  var output_area = handle.output_area;\n",
              "  var output = handle.output;\n",
              "  if ((output.data == undefined) || (!output.data.hasOwnProperty(EXEC_MIME_TYPE))) {\n",
              "    return\n",
              "  }\n",
              "  var id = output.metadata[EXEC_MIME_TYPE][\"id\"];\n",
              "  var toinsert = output_area.element.find(\".\" + CLASS_NAME.split(' ')[0]);\n",
              "  if (id !== undefined) {\n",
              "    var nchildren = toinsert.length;\n",
              "    var html_node = toinsert[nchildren-1].children[0];\n",
              "    html_node.innerHTML = output.data[HTML_MIME_TYPE];\n",
              "    var scripts = [];\n",
              "    var nodelist = html_node.querySelectorAll(\"script\");\n",
              "    for (var i in nodelist) {\n",
              "      if (nodelist.hasOwnProperty(i)) {\n",
              "        scripts.push(nodelist[i])\n",
              "      }\n",
              "    }\n",
              "\n",
              "    scripts.forEach( function (oldScript) {\n",
              "      var newScript = document.createElement(\"script\");\n",
              "      var attrs = [];\n",
              "      var nodemap = oldScript.attributes;\n",
              "      for (var j in nodemap) {\n",
              "        if (nodemap.hasOwnProperty(j)) {\n",
              "          attrs.push(nodemap[j])\n",
              "        }\n",
              "      }\n",
              "      attrs.forEach(function(attr) { newScript.setAttribute(attr.name, attr.value) });\n",
              "      newScript.appendChild(document.createTextNode(oldScript.innerHTML));\n",
              "      oldScript.parentNode.replaceChild(newScript, oldScript);\n",
              "    });\n",
              "    if (JS_MIME_TYPE in output.data) {\n",
              "      toinsert[nchildren-1].children[1].textContent = output.data[JS_MIME_TYPE];\n",
              "    }\n",
              "    output_area._hv_plot_id = id;\n",
              "    if ((window.Bokeh !== undefined) && (id in Bokeh.index)) {\n",
              "      window.PyViz.plot_index[id] = Bokeh.index[id];\n",
              "    } else {\n",
              "      window.PyViz.plot_index[id] = null;\n",
              "    }\n",
              "  } else if (output.metadata[EXEC_MIME_TYPE][\"server_id\"] !== undefined) {\n",
              "    var bk_div = document.createElement(\"div\");\n",
              "    bk_div.innerHTML = output.data[HTML_MIME_TYPE];\n",
              "    var script_attrs = bk_div.children[0].attributes;\n",
              "    for (var i = 0; i < script_attrs.length; i++) {\n",
              "      toinsert[toinsert.length - 1].childNodes[1].setAttribute(script_attrs[i].name, script_attrs[i].value);\n",
              "    }\n",
              "    // store reference to server id on output_area\n",
              "    output_area._bokeh_server_id = output.metadata[EXEC_MIME_TYPE][\"server_id\"];\n",
              "  }\n",
              "}\n",
              "\n",
              "/**\n",
              " * Handle when an output is cleared or removed\n",
              " */\n",
              "function handle_clear_output(event, handle) {\n",
              "  var id = handle.cell.output_area._hv_plot_id;\n",
              "  var server_id = handle.cell.output_area._bokeh_server_id;\n",
              "  if (((id === undefined) || !(id in PyViz.plot_index)) && (server_id !== undefined)) { return; }\n",
              "  var comm = window.PyViz.comm_manager.get_client_comm(\"hv-extension-comm\", \"hv-extension-comm\", function () {});\n",
              "  if (server_id !== null) {\n",
              "    comm.send({event_type: 'server_delete', 'id': server_id});\n",
              "    return;\n",
              "  } else if (comm !== null) {\n",
              "    comm.send({event_type: 'delete', 'id': id});\n",
              "  }\n",
              "  delete PyViz.plot_index[id];\n",
              "  if ((window.Bokeh !== undefined) & (id in window.Bokeh.index)) {\n",
              "    var doc = window.Bokeh.index[id].model.document\n",
              "    doc.clear();\n",
              "    const i = window.Bokeh.documents.indexOf(doc);\n",
              "    if (i > -1) {\n",
              "      window.Bokeh.documents.splice(i, 1);\n",
              "    }\n",
              "  }\n",
              "}\n",
              "\n",
              "/**\n",
              " * Handle kernel restart event\n",
              " */\n",
              "function handle_kernel_cleanup(event, handle) {\n",
              "  delete PyViz.comms[\"hv-extension-comm\"];\n",
              "  window.PyViz.plot_index = {}\n",
              "}\n",
              "\n",
              "/**\n",
              " * Handle update_display_data messages\n",
              " */\n",
              "function handle_update_output(event, handle) {\n",
              "  handle_clear_output(event, {cell: {output_area: handle.output_area}})\n",
              "  handle_add_output(event, handle)\n",
              "}\n",
              "\n",
              "function register_renderer(events, OutputArea) {\n",
              "  function append_mime(data, metadata, element) {\n",
              "    // create a DOM node to render to\n",
              "    var toinsert = this.create_output_subarea(\n",
              "    metadata,\n",
              "    CLASS_NAME,\n",
              "    EXEC_MIME_TYPE\n",
              "    );\n",
              "    this.keyboard_manager.register_events(toinsert);\n",
              "    // Render to node\n",
              "    var props = {data: data, metadata: metadata[EXEC_MIME_TYPE]};\n",
              "    render(props, toinsert[0]);\n",
              "    element.append(toinsert);\n",
              "    return toinsert\n",
              "  }\n",
              "\n",
              "  events.on('output_added.OutputArea', handle_add_output);\n",
              "  events.on('output_updated.OutputArea', handle_update_output);\n",
              "  events.on('clear_output.CodeCell', handle_clear_output);\n",
              "  events.on('delete.Cell', handle_clear_output);\n",
              "  events.on('kernel_ready.Kernel', handle_kernel_cleanup);\n",
              "\n",
              "  OutputArea.prototype.register_mime_type(EXEC_MIME_TYPE, append_mime, {\n",
              "    safe: true,\n",
              "    index: 0\n",
              "  });\n",
              "}\n",
              "\n",
              "if (window.Jupyter !== undefined) {\n",
              "  try {\n",
              "    var events = require('base/js/events');\n",
              "    var OutputArea = require('notebook/js/outputarea').OutputArea;\n",
              "    if (OutputArea.prototype.mime_types().indexOf(EXEC_MIME_TYPE) == -1) {\n",
              "      register_renderer(events, OutputArea);\n",
              "    }\n",
              "  } catch(err) {\n",
              "  }\n",
              "}\n"
            ],
            "application/vnd.holoviews_load.v0+json": "\nif ((window.PyViz === undefined) || (window.PyViz instanceof HTMLElement)) {\n  window.PyViz = {comms: {}, comm_status:{}, kernels:{}, receivers: {}, plot_index: []}\n}\n\n\n    function JupyterCommManager() {\n    }\n\n    JupyterCommManager.prototype.register_target = function(plot_id, comm_id, msg_handler) {\n      if (window.comm_manager || ((window.Jupyter !== undefined) && (Jupyter.notebook.kernel != null))) {\n        var comm_manager = window.comm_manager || Jupyter.notebook.kernel.comm_manager;\n        comm_manager.register_target(comm_id, function(comm) {\n          comm.on_msg(msg_handler);\n        });\n      } else if ((plot_id in window.PyViz.kernels) && (window.PyViz.kernels[plot_id])) {\n        window.PyViz.kernels[plot_id].registerCommTarget(comm_id, function(comm) {\n          comm.onMsg = msg_handler;\n        });\n      } else if (typeof google != 'undefined' && google.colab.kernel != null) {\n        google.colab.kernel.comms.registerTarget(comm_id, (comm) => {\n          var messages = comm.messages[Symbol.asyncIterator]();\n          function processIteratorResult(result) {\n            var message = result.value;\n            console.log(message)\n            var content = {data: message.data, comm_id};\n            var buffers = []\n            for (var buffer of message.buffers || []) {\n              buffers.push(new DataView(buffer))\n            }\n            var metadata = message.metadata || {};\n            var msg = {content, buffers, metadata}\n            msg_handler(msg);\n            return messages.next().then(processIteratorResult);\n          }\n          return messages.next().then(processIteratorResult);\n        })\n      }\n    }\n\n    JupyterCommManager.prototype.get_client_comm = function(plot_id, comm_id, msg_handler) {\n      if (comm_id in window.PyViz.comms) {\n        return window.PyViz.comms[comm_id];\n      } else if (window.comm_manager || ((window.Jupyter !== undefined) && (Jupyter.notebook.kernel != null))) {\n        var comm_manager = window.comm_manager || Jupyter.notebook.kernel.comm_manager;\n        var comm = comm_manager.new_comm(comm_id, {}, {}, {}, comm_id);\n        if (msg_handler) {\n          comm.on_msg(msg_handler);\n        }\n      } else if ((plot_id in window.PyViz.kernels) && (window.PyViz.kernels[plot_id])) {\n        var comm = window.PyViz.kernels[plot_id].connectToComm(comm_id);\n        comm.open();\n        if (msg_handler) {\n          comm.onMsg = msg_handler;\n        }\n      } else if (typeof google != 'undefined' && google.colab.kernel != null) {\n        var comm_promise = google.colab.kernel.comms.open(comm_id)\n        comm_promise.then((comm) => {\n          window.PyViz.comms[comm_id] = comm;\n          if (msg_handler) {\n            var messages = comm.messages[Symbol.asyncIterator]();\n            function processIteratorResult(result) {\n              var message = result.value;\n              var content = {data: message.data};\n              var metadata = message.metadata || {comm_id};\n              var msg = {content, metadata}\n              msg_handler(msg);\n              return messages.next().then(processIteratorResult);\n            }\n            return messages.next().then(processIteratorResult);\n          }\n        }) \n        var sendClosure = (data, metadata, buffers, disposeOnDone) => {\n          return comm_promise.then((comm) => {\n            comm.send(data, metadata, buffers, disposeOnDone);\n          });\n        };\n        var comm = {\n          send: sendClosure\n        };\n      }\n      window.PyViz.comms[comm_id] = comm;\n      return comm;\n    }\n    window.PyViz.comm_manager = new JupyterCommManager();\n    \n\n\nvar JS_MIME_TYPE = 'application/javascript';\nvar HTML_MIME_TYPE = 'text/html';\nvar EXEC_MIME_TYPE = 'application/vnd.holoviews_exec.v0+json';\nvar CLASS_NAME = 'output';\n\n/**\n * Render data to the DOM node\n */\nfunction render(props, node) {\n  var div = document.createElement(\"div\");\n  var script = document.createElement(\"script\");\n  node.appendChild(div);\n  node.appendChild(script);\n}\n\n/**\n * Handle when a new output is added\n */\nfunction handle_add_output(event, handle) {\n  var output_area = handle.output_area;\n  var output = handle.output;\n  if ((output.data == undefined) || (!output.data.hasOwnProperty(EXEC_MIME_TYPE))) {\n    return\n  }\n  var id = output.metadata[EXEC_MIME_TYPE][\"id\"];\n  var toinsert = output_area.element.find(\".\" + CLASS_NAME.split(' ')[0]);\n  if (id !== undefined) {\n    var nchildren = toinsert.length;\n    var html_node = toinsert[nchildren-1].children[0];\n    html_node.innerHTML = output.data[HTML_MIME_TYPE];\n    var scripts = [];\n    var nodelist = html_node.querySelectorAll(\"script\");\n    for (var i in nodelist) {\n      if (nodelist.hasOwnProperty(i)) {\n        scripts.push(nodelist[i])\n      }\n    }\n\n    scripts.forEach( function (oldScript) {\n      var newScript = document.createElement(\"script\");\n      var attrs = [];\n      var nodemap = oldScript.attributes;\n      for (var j in nodemap) {\n        if (nodemap.hasOwnProperty(j)) {\n          attrs.push(nodemap[j])\n        }\n      }\n      attrs.forEach(function(attr) { newScript.setAttribute(attr.name, attr.value) });\n      newScript.appendChild(document.createTextNode(oldScript.innerHTML));\n      oldScript.parentNode.replaceChild(newScript, oldScript);\n    });\n    if (JS_MIME_TYPE in output.data) {\n      toinsert[nchildren-1].children[1].textContent = output.data[JS_MIME_TYPE];\n    }\n    output_area._hv_plot_id = id;\n    if ((window.Bokeh !== undefined) && (id in Bokeh.index)) {\n      window.PyViz.plot_index[id] = Bokeh.index[id];\n    } else {\n      window.PyViz.plot_index[id] = null;\n    }\n  } else if (output.metadata[EXEC_MIME_TYPE][\"server_id\"] !== undefined) {\n    var bk_div = document.createElement(\"div\");\n    bk_div.innerHTML = output.data[HTML_MIME_TYPE];\n    var script_attrs = bk_div.children[0].attributes;\n    for (var i = 0; i < script_attrs.length; i++) {\n      toinsert[toinsert.length - 1].childNodes[1].setAttribute(script_attrs[i].name, script_attrs[i].value);\n    }\n    // store reference to server id on output_area\n    output_area._bokeh_server_id = output.metadata[EXEC_MIME_TYPE][\"server_id\"];\n  }\n}\n\n/**\n * Handle when an output is cleared or removed\n */\nfunction handle_clear_output(event, handle) {\n  var id = handle.cell.output_area._hv_plot_id;\n  var server_id = handle.cell.output_area._bokeh_server_id;\n  if (((id === undefined) || !(id in PyViz.plot_index)) && (server_id !== undefined)) { return; }\n  var comm = window.PyViz.comm_manager.get_client_comm(\"hv-extension-comm\", \"hv-extension-comm\", function () {});\n  if (server_id !== null) {\n    comm.send({event_type: 'server_delete', 'id': server_id});\n    return;\n  } else if (comm !== null) {\n    comm.send({event_type: 'delete', 'id': id});\n  }\n  delete PyViz.plot_index[id];\n  if ((window.Bokeh !== undefined) & (id in window.Bokeh.index)) {\n    var doc = window.Bokeh.index[id].model.document\n    doc.clear();\n    const i = window.Bokeh.documents.indexOf(doc);\n    if (i > -1) {\n      window.Bokeh.documents.splice(i, 1);\n    }\n  }\n}\n\n/**\n * Handle kernel restart event\n */\nfunction handle_kernel_cleanup(event, handle) {\n  delete PyViz.comms[\"hv-extension-comm\"];\n  window.PyViz.plot_index = {}\n}\n\n/**\n * Handle update_display_data messages\n */\nfunction handle_update_output(event, handle) {\n  handle_clear_output(event, {cell: {output_area: handle.output_area}})\n  handle_add_output(event, handle)\n}\n\nfunction register_renderer(events, OutputArea) {\n  function append_mime(data, metadata, element) {\n    // create a DOM node to render to\n    var toinsert = this.create_output_subarea(\n    metadata,\n    CLASS_NAME,\n    EXEC_MIME_TYPE\n    );\n    this.keyboard_manager.register_events(toinsert);\n    // Render to node\n    var props = {data: data, metadata: metadata[EXEC_MIME_TYPE]};\n    render(props, toinsert[0]);\n    element.append(toinsert);\n    return toinsert\n  }\n\n  events.on('output_added.OutputArea', handle_add_output);\n  events.on('output_updated.OutputArea', handle_update_output);\n  events.on('clear_output.CodeCell', handle_clear_output);\n  events.on('delete.Cell', handle_clear_output);\n  events.on('kernel_ready.Kernel', handle_kernel_cleanup);\n\n  OutputArea.prototype.register_mime_type(EXEC_MIME_TYPE, append_mime, {\n    safe: true,\n    index: 0\n  });\n}\n\nif (window.Jupyter !== undefined) {\n  try {\n    var events = require('base/js/events');\n    var OutputArea = require('notebook/js/outputarea').OutputArea;\n    if (OutputArea.prototype.mime_types().indexOf(EXEC_MIME_TYPE) == -1) {\n      register_renderer(events, OutputArea);\n    }\n  } catch(err) {\n  }\n}\n"
          },
          "metadata": {},
          "output_type": "display_data"
        },
        {
          "data": {
            "text/html": [
              "<style>*[data-root-id],\n",
              "*[data-root-id] > * {\n",
              "  box-sizing: border-box;\n",
              "  font-family: var(--jp-ui-font-family);\n",
              "  font-size: var(--jp-ui-font-size1);\n",
              "  color: var(--vscode-editor-foreground, var(--jp-ui-font-color1));\n",
              "}\n",
              "\n",
              "/* Override VSCode background color */\n",
              ".cell-output-ipywidget-background:has(\n",
              "    > .cell-output-ipywidget-background > .lm-Widget > *[data-root-id]\n",
              "  ),\n",
              ".cell-output-ipywidget-background:has(> .lm-Widget > *[data-root-id]) {\n",
              "  background-color: transparent !important;\n",
              "}\n",
              "</style>"
            ]
          },
          "metadata": {},
          "output_type": "display_data"
        }
      ],
      "source": [
        "#*******************************************************************************************\n",
        " #\n",
        " #  File Name:  credit_risk_classification_colab.ipynb\n",
        " #\n",
        " #  File Description:\n",
        " #      This interactive Python notebook, credit_risk_classification_colab.ipynb, reads\n",
        " #      a csv file, lending_data.csv, in the folder, resources, and uses Python and\n",
        " #      supervised learning methods to use a dataset of historical lending activity from\n",
        " #      a peer-to-peer lending services company to compare models that can identify\n",
        " #      the creditworthiness of borrowers. Here is a list of the models:\n",
        " #\n",
        " #      logistic regression\n",
        " #      decision tree\n",
        " #      random forest\n",
        " #      support vector machine (SVM)\n",
        " #      k-nearest neighbor (KNN)\n",
        " #      gaussian naive bayes (GNB)\n",
        " #\n",
        " #\n",
        " #  Date            Description                             Programmer\n",
        " #  ----------      ------------------------------------    ------------------\n",
        " #  11/25/2023      Initial Development                     Nicholas J. George\n",
        " #\n",
        " #******************************************************************************************/\n",
        "\n",
        "from google.colab import drive\n",
        "drive.mount('/content/gdrive/')\n",
        "\n",
        "import sys\n",
        "sys.path.insert(0,'./gdrive/MyDrive/credit_risk_classification')\n",
        "\n",
        "import os\n",
        "os.environ['HV_DOC_HTML'] = 'true'\n",
        "\n",
        "!apt-get update\n",
        "!apt install firefox\n",
        "!pip install -U geckodriver\n",
        "!pip install -U dataframe_image\n",
        "!pip install -U selenium\n",
        "!pip install -U kaleido\n",
        "!pip install -U hvplot\n",
        "!pip install -U plotly\n",
        "!pip install -U panel\n",
        "!pip install -U bokeh\n",
        "!pip install -U imblearn\n",
        "\n",
        "import hvplot\n",
        "import hvplot.pandas\n",
        "\n",
        "import pandas as pd\n",
        "\n",
        "import holoviews as hv\n",
        "hv.extension('bokeh')\n",
        "\n",
        "import logx\n",
        "logx.set_logs_directory_path('./gdrive/MyDrive/credit_risk_classification/logs')\n",
        "logx.set_images_directory_path('./gdrive/MyDrive/credit_risk_classification/images')\n",
        "\n",
        "import pandasx\n",
        "pandasx.set_google_colab(True)\n",
        "\n",
        "import classificationsx\n",
        "import credit_risk_constants\n",
        "\n",
        "import copy\n",
        "import pickle\n",
        "\n",
        "import numpy as np\n",
        "import pandas as pd\n",
        "\n",
        "from IPython.display import clear_output\n",
        "\n",
        "from imblearn.combine import SMOTEENN\n",
        "from imblearn.over_sampling import RandomOverSampler\n",
        "from imblearn.over_sampling import SMOTE\n",
        "from imblearn.under_sampling import ClusterCentroids\n",
        "from imblearn.under_sampling import RandomUnderSampler\n",
        "\n",
        "from sklearn.cluster import KMeans\n",
        "from sklearn.linear_model import LogisticRegression\n",
        "from sklearn.tree import DecisionTreeClassifier\n",
        "from sklearn.ensemble import RandomForestClassifier\n",
        "from sklearn.svm import SVC\n",
        "from sklearn.neighbors import KNeighborsClassifier\n",
        "from sklearn.naive_bayes import GaussianNB\n",
        "\n",
        "from sklearn.model_selection import train_test_split\n",
        "from sklearn.metrics import accuracy_score\n",
        "from sklearn.metrics import balanced_accuracy_score\n",
        "from sklearn.metrics import confusion_matrix\n",
        "from sklearn.metrics import classification_report\n",
        "from sklearn.preprocessing import StandardScaler\n",
        "\n",
        "pd.options.mode.chained_assignment = None"
      ]
    },
    {
      "cell_type": "code",
      "execution_count": null,
      "id": "3e95d04c",
      "metadata": {
        "colab": {
          "base_uri": "https://localhost:8080/"
        },
        "id": "3e95d04c",
        "outputId": "7f67794f-6fcb-4a04-84d5-1c3d365685d8"
      },
      "outputs": [
        {
          "name": "stdout",
          "output_type": "stream",
          "text": [
            "Program execution begins...\n",
            "\n"
          ]
        }
      ],
      "source": [
        "CONSTANT_LOCAL_FILE_NAME = 'credit_risk_classification_colab.ipynb'\n",
        "\n",
        "CONSTANT_LENDING_DATA_CSV_FILE_PATH = '/gdrive/MyDrive/credit_risk_classification/resources/lending_data.csv'\n",
        "\n",
        "\n",
        "logx.set_log_mode(False)\n",
        "\n",
        "logx.set_image_mode(False)\n",
        "\n",
        "\n",
        "logx.begin_program('credit_risk_classification_colab')"
      ]
    },
    {
      "cell_type": "markdown",
      "id": "f6434c41",
      "metadata": {
        "id": "f6434c41"
      },
      "source": [
        "# <br> **Section 1: Extraction and Transformation**"
      ]
    },
    {
      "cell_type": "markdown",
      "id": "8ef67164",
      "metadata": {
        "id": "8ef67164"
      },
      "source": [
        "## **1.1: Read the CSV data into a Pandas DataFrame**"
      ]
    },
    {
      "cell_type": "code",
      "execution_count": null,
      "id": "da0c99c6",
      "metadata": {
        "id": "da0c99c6"
      },
      "outputs": [],
      "source": [
        "data_type_dictionary \\\n",
        "    = {'loan_size': float,\n",
        "       'interest_rate':\tfloat,\n",
        "       'borrower_income': int,\n",
        "       'debt_to_income': float,\n",
        "       'num_of_accounts': int,\n",
        "       'derogatory_marks': int,\n",
        "       'total_debt': int,\n",
        "       'loan_status': int}\n",
        "\n",
        "lending_dataframe \\\n",
        "    = pd.read_csv(credit_risk_constants.CONSTANT_INPUT_FILE_PATH, dtype = data_type_dictionary)\n",
        "\n",
        "logx.log_write_object(lending_dataframe)"
      ]
    },
    {
      "cell_type": "markdown",
      "id": "5da5d1af",
      "metadata": {
        "id": "5da5d1af"
      },
      "source": [
        "## **1.2: Display Spam DataFrame**"
      ]
    },
    {
      "cell_type": "code",
      "execution_count": null,
      "id": "b41ed02b",
      "metadata": {
        "colab": {
          "base_uri": "https://localhost:8080/",
          "height": 398
        },
        "id": "b41ed02b",
        "outputId": "905c1953-2b0e-494b-dd3f-c92e77f6299f"
      },
      "outputs": [
        {
          "data": {
            "text/html": [
              "<style type=\"text/css\">\n",
              "#T_c7e61 caption {\n",
              "  color: black;\n",
              "  font-size: 20px;\n",
              "  font-style: bold;\n",
              "  text-align: center;\n",
              "}\n",
              "#T_c7e61_row0_col0, #T_c7e61_row0_col1, #T_c7e61_row0_col2, #T_c7e61_row0_col3, #T_c7e61_row0_col4, #T_c7e61_row0_col5, #T_c7e61_row0_col6, #T_c7e61_row0_col7, #T_c7e61_row1_col0, #T_c7e61_row1_col1, #T_c7e61_row1_col2, #T_c7e61_row1_col3, #T_c7e61_row1_col4, #T_c7e61_row1_col5, #T_c7e61_row1_col6, #T_c7e61_row1_col7, #T_c7e61_row2_col0, #T_c7e61_row2_col1, #T_c7e61_row2_col2, #T_c7e61_row2_col3, #T_c7e61_row2_col4, #T_c7e61_row2_col5, #T_c7e61_row2_col6, #T_c7e61_row2_col7, #T_c7e61_row3_col0, #T_c7e61_row3_col1, #T_c7e61_row3_col2, #T_c7e61_row3_col3, #T_c7e61_row3_col4, #T_c7e61_row3_col5, #T_c7e61_row3_col6, #T_c7e61_row3_col7, #T_c7e61_row4_col0, #T_c7e61_row4_col1, #T_c7e61_row4_col2, #T_c7e61_row4_col3, #T_c7e61_row4_col4, #T_c7e61_row4_col5, #T_c7e61_row4_col6, #T_c7e61_row4_col7, #T_c7e61_row5_col0, #T_c7e61_row5_col1, #T_c7e61_row5_col2, #T_c7e61_row5_col3, #T_c7e61_row5_col4, #T_c7e61_row5_col5, #T_c7e61_row5_col6, #T_c7e61_row5_col7, #T_c7e61_row6_col0, #T_c7e61_row6_col1, #T_c7e61_row6_col2, #T_c7e61_row6_col3, #T_c7e61_row6_col4, #T_c7e61_row6_col5, #T_c7e61_row6_col6, #T_c7e61_row6_col7, #T_c7e61_row7_col0, #T_c7e61_row7_col1, #T_c7e61_row7_col2, #T_c7e61_row7_col3, #T_c7e61_row7_col4, #T_c7e61_row7_col5, #T_c7e61_row7_col6, #T_c7e61_row7_col7, #T_c7e61_row8_col0, #T_c7e61_row8_col1, #T_c7e61_row8_col2, #T_c7e61_row8_col3, #T_c7e61_row8_col4, #T_c7e61_row8_col5, #T_c7e61_row8_col6, #T_c7e61_row8_col7, #T_c7e61_row9_col0, #T_c7e61_row9_col1, #T_c7e61_row9_col2, #T_c7e61_row9_col3, #T_c7e61_row9_col4, #T_c7e61_row9_col5, #T_c7e61_row9_col6, #T_c7e61_row9_col7 {\n",
              "  text-align: center;\n",
              "  border: 1.3px solid red;\n",
              "  color: blue;\n",
              "}\n",
              "</style>\n",
              "<table id=\"T_c7e61\" class=\"dataframe\">\n",
              "  <caption>Table 1.1: Lending Data Table</caption>\n",
              "  <thead>\n",
              "    <tr>\n",
              "      <th id=\"T_c7e61_level0_col0\" class=\"col_heading level0 col0\" >loan_size</th>\n",
              "      <th id=\"T_c7e61_level0_col1\" class=\"col_heading level0 col1\" >interest_rate</th>\n",
              "      <th id=\"T_c7e61_level0_col2\" class=\"col_heading level0 col2\" >borrower_income</th>\n",
              "      <th id=\"T_c7e61_level0_col3\" class=\"col_heading level0 col3\" >debt_to_income</th>\n",
              "      <th id=\"T_c7e61_level0_col4\" class=\"col_heading level0 col4\" >num_of_accounts</th>\n",
              "      <th id=\"T_c7e61_level0_col5\" class=\"col_heading level0 col5\" >derogatory_marks</th>\n",
              "      <th id=\"T_c7e61_level0_col6\" class=\"col_heading level0 col6\" >total_debt</th>\n",
              "      <th id=\"T_c7e61_level0_col7\" class=\"col_heading level0 col7\" >loan_status</th>\n",
              "    </tr>\n",
              "  </thead>\n",
              "  <tbody>\n",
              "    <tr>\n",
              "      <td id=\"T_c7e61_row0_col0\" class=\"data row0 col0\" >$10,700</td>\n",
              "      <td id=\"T_c7e61_row0_col1\" class=\"data row0 col1\" >7.67%</td>\n",
              "      <td id=\"T_c7e61_row0_col2\" class=\"data row0 col2\" >$52,800</td>\n",
              "      <td id=\"T_c7e61_row0_col3\" class=\"data row0 col3\" >0.431818</td>\n",
              "      <td id=\"T_c7e61_row0_col4\" class=\"data row0 col4\" >5</td>\n",
              "      <td id=\"T_c7e61_row0_col5\" class=\"data row0 col5\" >1</td>\n",
              "      <td id=\"T_c7e61_row0_col6\" class=\"data row0 col6\" >$22,800</td>\n",
              "      <td id=\"T_c7e61_row0_col7\" class=\"data row0 col7\" >0</td>\n",
              "    </tr>\n",
              "    <tr>\n",
              "      <td id=\"T_c7e61_row1_col0\" class=\"data row1 col0\" >$8,400</td>\n",
              "      <td id=\"T_c7e61_row1_col1\" class=\"data row1 col1\" >6.69%</td>\n",
              "      <td id=\"T_c7e61_row1_col2\" class=\"data row1 col2\" >$43,600</td>\n",
              "      <td id=\"T_c7e61_row1_col3\" class=\"data row1 col3\" >0.311927</td>\n",
              "      <td id=\"T_c7e61_row1_col4\" class=\"data row1 col4\" >3</td>\n",
              "      <td id=\"T_c7e61_row1_col5\" class=\"data row1 col5\" >0</td>\n",
              "      <td id=\"T_c7e61_row1_col6\" class=\"data row1 col6\" >$13,600</td>\n",
              "      <td id=\"T_c7e61_row1_col7\" class=\"data row1 col7\" >0</td>\n",
              "    </tr>\n",
              "    <tr>\n",
              "      <td id=\"T_c7e61_row2_col0\" class=\"data row2 col0\" >$9,000</td>\n",
              "      <td id=\"T_c7e61_row2_col1\" class=\"data row2 col1\" >6.96%</td>\n",
              "      <td id=\"T_c7e61_row2_col2\" class=\"data row2 col2\" >$46,100</td>\n",
              "      <td id=\"T_c7e61_row2_col3\" class=\"data row2 col3\" >0.349241</td>\n",
              "      <td id=\"T_c7e61_row2_col4\" class=\"data row2 col4\" >3</td>\n",
              "      <td id=\"T_c7e61_row2_col5\" class=\"data row2 col5\" >0</td>\n",
              "      <td id=\"T_c7e61_row2_col6\" class=\"data row2 col6\" >$16,100</td>\n",
              "      <td id=\"T_c7e61_row2_col7\" class=\"data row2 col7\" >0</td>\n",
              "    </tr>\n",
              "    <tr>\n",
              "      <td id=\"T_c7e61_row3_col0\" class=\"data row3 col0\" >$10,700</td>\n",
              "      <td id=\"T_c7e61_row3_col1\" class=\"data row3 col1\" >7.66%</td>\n",
              "      <td id=\"T_c7e61_row3_col2\" class=\"data row3 col2\" >$52,700</td>\n",
              "      <td id=\"T_c7e61_row3_col3\" class=\"data row3 col3\" >0.430740</td>\n",
              "      <td id=\"T_c7e61_row3_col4\" class=\"data row3 col4\" >5</td>\n",
              "      <td id=\"T_c7e61_row3_col5\" class=\"data row3 col5\" >1</td>\n",
              "      <td id=\"T_c7e61_row3_col6\" class=\"data row3 col6\" >$22,700</td>\n",
              "      <td id=\"T_c7e61_row3_col7\" class=\"data row3 col7\" >0</td>\n",
              "    </tr>\n",
              "    <tr>\n",
              "      <td id=\"T_c7e61_row4_col0\" class=\"data row4 col0\" >$10,800</td>\n",
              "      <td id=\"T_c7e61_row4_col1\" class=\"data row4 col1\" >7.70%</td>\n",
              "      <td id=\"T_c7e61_row4_col2\" class=\"data row4 col2\" >$53,000</td>\n",
              "      <td id=\"T_c7e61_row4_col3\" class=\"data row4 col3\" >0.433962</td>\n",
              "      <td id=\"T_c7e61_row4_col4\" class=\"data row4 col4\" >5</td>\n",
              "      <td id=\"T_c7e61_row4_col5\" class=\"data row4 col5\" >1</td>\n",
              "      <td id=\"T_c7e61_row4_col6\" class=\"data row4 col6\" >$23,000</td>\n",
              "      <td id=\"T_c7e61_row4_col7\" class=\"data row4 col7\" >0</td>\n",
              "    </tr>\n",
              "    <tr>\n",
              "      <td id=\"T_c7e61_row5_col0\" class=\"data row5 col0\" >$10,100</td>\n",
              "      <td id=\"T_c7e61_row5_col1\" class=\"data row5 col1\" >7.44%</td>\n",
              "      <td id=\"T_c7e61_row5_col2\" class=\"data row5 col2\" >$50,600</td>\n",
              "      <td id=\"T_c7e61_row5_col3\" class=\"data row5 col3\" >0.407115</td>\n",
              "      <td id=\"T_c7e61_row5_col4\" class=\"data row5 col4\" >4</td>\n",
              "      <td id=\"T_c7e61_row5_col5\" class=\"data row5 col5\" >1</td>\n",
              "      <td id=\"T_c7e61_row5_col6\" class=\"data row5 col6\" >$20,600</td>\n",
              "      <td id=\"T_c7e61_row5_col7\" class=\"data row5 col7\" >0</td>\n",
              "    </tr>\n",
              "    <tr>\n",
              "      <td id=\"T_c7e61_row6_col0\" class=\"data row6 col0\" >$10,300</td>\n",
              "      <td id=\"T_c7e61_row6_col1\" class=\"data row6 col1\" >7.49%</td>\n",
              "      <td id=\"T_c7e61_row6_col2\" class=\"data row6 col2\" >$51,100</td>\n",
              "      <td id=\"T_c7e61_row6_col3\" class=\"data row6 col3\" >0.412916</td>\n",
              "      <td id=\"T_c7e61_row6_col4\" class=\"data row6 col4\" >4</td>\n",
              "      <td id=\"T_c7e61_row6_col5\" class=\"data row6 col5\" >1</td>\n",
              "      <td id=\"T_c7e61_row6_col6\" class=\"data row6 col6\" >$21,100</td>\n",
              "      <td id=\"T_c7e61_row6_col7\" class=\"data row6 col7\" >0</td>\n",
              "    </tr>\n",
              "    <tr>\n",
              "      <td id=\"T_c7e61_row7_col0\" class=\"data row7 col0\" >$8,800</td>\n",
              "      <td id=\"T_c7e61_row7_col1\" class=\"data row7 col1\" >6.86%</td>\n",
              "      <td id=\"T_c7e61_row7_col2\" class=\"data row7 col2\" >$45,100</td>\n",
              "      <td id=\"T_c7e61_row7_col3\" class=\"data row7 col3\" >0.334812</td>\n",
              "      <td id=\"T_c7e61_row7_col4\" class=\"data row7 col4\" >3</td>\n",
              "      <td id=\"T_c7e61_row7_col5\" class=\"data row7 col5\" >0</td>\n",
              "      <td id=\"T_c7e61_row7_col6\" class=\"data row7 col6\" >$15,100</td>\n",
              "      <td id=\"T_c7e61_row7_col7\" class=\"data row7 col7\" >0</td>\n",
              "    </tr>\n",
              "    <tr>\n",
              "      <td id=\"T_c7e61_row8_col0\" class=\"data row8 col0\" >$9,300</td>\n",
              "      <td id=\"T_c7e61_row8_col1\" class=\"data row8 col1\" >7.10%</td>\n",
              "      <td id=\"T_c7e61_row8_col2\" class=\"data row8 col2\" >$47,400</td>\n",
              "      <td id=\"T_c7e61_row8_col3\" class=\"data row8 col3\" >0.367089</td>\n",
              "      <td id=\"T_c7e61_row8_col4\" class=\"data row8 col4\" >3</td>\n",
              "      <td id=\"T_c7e61_row8_col5\" class=\"data row8 col5\" >0</td>\n",
              "      <td id=\"T_c7e61_row8_col6\" class=\"data row8 col6\" >$17,400</td>\n",
              "      <td id=\"T_c7e61_row8_col7\" class=\"data row8 col7\" >0</td>\n",
              "    </tr>\n",
              "    <tr>\n",
              "      <td id=\"T_c7e61_row9_col0\" class=\"data row9 col0\" >$9,700</td>\n",
              "      <td id=\"T_c7e61_row9_col1\" class=\"data row9 col1\" >7.25%</td>\n",
              "      <td id=\"T_c7e61_row9_col2\" class=\"data row9 col2\" >$48,800</td>\n",
              "      <td id=\"T_c7e61_row9_col3\" class=\"data row9 col3\" >0.385246</td>\n",
              "      <td id=\"T_c7e61_row9_col4\" class=\"data row9 col4\" >4</td>\n",
              "      <td id=\"T_c7e61_row9_col5\" class=\"data row9 col5\" >0</td>\n",
              "      <td id=\"T_c7e61_row9_col6\" class=\"data row9 col6\" >$18,800</td>\n",
              "      <td id=\"T_c7e61_row9_col7\" class=\"data row9 col7\" >0</td>\n",
              "    </tr>\n",
              "  </tbody>\n",
              "</table>\n"
            ],
            "text/plain": [
              "<pandas.io.formats.style.Styler at 0x7c6317fd7f70>"
            ]
          },
          "execution_count": 4,
          "metadata": {},
          "output_type": "execute_result"
        }
      ],
      "source": [
        "pandasx.return_formatted_table(lending_dataframe, 'Table 1.1: Lending Data Table') \\\n",
        "    .format({'loan_size': '${:,.0f}', 'interest_rate': '{:.2f}%',\n",
        "             'borrower_income': '${:,.0f}', 'total_debt': '${:,.0f}'})"
      ]
    },
    {
      "cell_type": "markdown",
      "id": "0cd5d145",
      "metadata": {
        "id": "0cd5d145"
      },
      "source": [
        "## **1.3: Create the labels series (`y`)  from the “spam” column, and then create the features (`X`) DataFrame from the remaining columns.**"
      ]
    },
    {
      "cell_type": "markdown",
      "id": "ca91e035",
      "metadata": {
        "id": "ca91e035"
      },
      "source": [
        "### **Separate the Y Variable, The Labels**"
      ]
    },
    {
      "cell_type": "code",
      "execution_count": null,
      "id": "c904c610",
      "metadata": {
        "id": "c904c610"
      },
      "outputs": [],
      "source": [
        "y_series = lending_dataframe['loan_status']\n",
        "\n",
        "logx.log_write_object(y_series)"
      ]
    },
    {
      "cell_type": "markdown",
      "id": "s9ZUPby8oria",
      "metadata": {
        "id": "s9ZUPby8oria"
      },
      "source": [
        "### **Review the Y Series**"
      ]
    },
    {
      "cell_type": "code",
      "execution_count": null,
      "id": "1xQTcxnyor_l",
      "metadata": {
        "colab": {
          "base_uri": "https://localhost:8080/",
          "height": 472
        },
        "id": "1xQTcxnyor_l",
        "outputId": "e2ae2bf2-085f-465d-a54f-6865d39ccddf"
      },
      "outputs": [
        {
          "data": {
            "text/html": [
              "<style type=\"text/css\">\n",
              "#T_ee240 caption {\n",
              "  color: black;\n",
              "  font-size: 20px;\n",
              "  font-style: bold;\n",
              "  text-align: center;\n",
              "}\n",
              "#T_ee240_row0_col0, #T_ee240_row1_col0, #T_ee240_row2_col0, #T_ee240_row3_col0, #T_ee240_row4_col0, #T_ee240_row5_col0, #T_ee240_row6_col0, #T_ee240_row7_col0, #T_ee240_row8_col0, #T_ee240_row9_col0 {\n",
              "  text-align: center;\n",
              "  border: 1.3px solid red;\n",
              "  color: blue;\n",
              "}\n",
              "</style>\n",
              "<table id=\"T_ee240\" class=\"dataframe\">\n",
              "  <caption>Table 1.3.1: Credit Risk Target Series</caption>\n",
              "  <thead>\n",
              "    <tr>\n",
              "      <th id=\"T_ee240_level0_col0\" class=\"col_heading level0 col0\" >loan_status</th>\n",
              "    </tr>\n",
              "  </thead>\n",
              "  <tbody>\n",
              "    <tr>\n",
              "      <td id=\"T_ee240_row0_col0\" class=\"data row0 col0\" >0</td>\n",
              "    </tr>\n",
              "    <tr>\n",
              "      <td id=\"T_ee240_row1_col0\" class=\"data row1 col0\" >0</td>\n",
              "    </tr>\n",
              "    <tr>\n",
              "      <td id=\"T_ee240_row2_col0\" class=\"data row2 col0\" >0</td>\n",
              "    </tr>\n",
              "    <tr>\n",
              "      <td id=\"T_ee240_row3_col0\" class=\"data row3 col0\" >0</td>\n",
              "    </tr>\n",
              "    <tr>\n",
              "      <td id=\"T_ee240_row4_col0\" class=\"data row4 col0\" >0</td>\n",
              "    </tr>\n",
              "    <tr>\n",
              "      <td id=\"T_ee240_row5_col0\" class=\"data row5 col0\" >0</td>\n",
              "    </tr>\n",
              "    <tr>\n",
              "      <td id=\"T_ee240_row6_col0\" class=\"data row6 col0\" >0</td>\n",
              "    </tr>\n",
              "    <tr>\n",
              "      <td id=\"T_ee240_row7_col0\" class=\"data row7 col0\" >0</td>\n",
              "    </tr>\n",
              "    <tr>\n",
              "      <td id=\"T_ee240_row8_col0\" class=\"data row8 col0\" >0</td>\n",
              "    </tr>\n",
              "    <tr>\n",
              "      <td id=\"T_ee240_row9_col0\" class=\"data row9 col0\" >0</td>\n",
              "    </tr>\n",
              "  </tbody>\n",
              "</table>\n"
            ],
            "text/plain": [
              "<pandas.io.formats.style.Styler at 0x7c62e0a25f60>"
            ]
          },
          "execution_count": 6,
          "metadata": {},
          "output_type": "execute_result"
        }
      ],
      "source": [
        "pandasx.return_formatted_table(y_series.to_frame(), 'Table 1.3.1: Credit Risk Target Series')"
      ]
    },
    {
      "cell_type": "markdown",
      "id": "0rY0nCpto6te",
      "metadata": {
        "id": "0rY0nCpto6te"
      },
      "source": [
        "### **Check the Balance of the Labels Variable (`y`) by Using the `value_counts` Function.**"
      ]
    },
    {
      "cell_type": "code",
      "execution_count": null,
      "id": "RcvmMaqvo7WH",
      "metadata": {
        "colab": {
          "base_uri": "https://localhost:8080/"
        },
        "id": "RcvmMaqvo7WH",
        "outputId": "c10f6986-db3c-4adc-9a54-66f26369c17b"
      },
      "outputs": [
        {
          "data": {
            "text/plain": [
              "loan_status\n",
              "0    75036\n",
              "1     2500\n",
              "Name: count, dtype: int64"
            ]
          },
          "execution_count": 7,
          "metadata": {},
          "output_type": "execute_result"
        }
      ],
      "source": [
        "y_series.value_counts()"
      ]
    },
    {
      "cell_type": "markdown",
      "id": "6fed0145",
      "metadata": {
        "id": "6fed0145"
      },
      "source": [
        "### **Separate the X Variable, the Features**"
      ]
    },
    {
      "cell_type": "code",
      "execution_count": null,
      "id": "7fb98b79",
      "metadata": {
        "id": "7fb98b79"
      },
      "outputs": [],
      "source": [
        "x_dataframe = lending_dataframe.drop(columns = 'loan_status', axis = 1)\n",
        "\n",
        "logx.log_write_object(x_dataframe)"
      ]
    },
    {
      "cell_type": "markdown",
      "id": "c4a4d30a",
      "metadata": {
        "id": "c4a4d30a"
      },
      "source": [
        "### **Review the X DataFrame**"
      ]
    },
    {
      "cell_type": "code",
      "execution_count": null,
      "id": "5264713b",
      "metadata": {
        "colab": {
          "base_uri": "https://localhost:8080/",
          "height": 398
        },
        "id": "5264713b",
        "outputId": "06abe6ae-1386-401c-dd71-40c1e27081ff"
      },
      "outputs": [
        {
          "data": {
            "text/html": [
              "<style type=\"text/css\">\n",
              "#T_2c6d1 caption {\n",
              "  color: black;\n",
              "  font-size: 20px;\n",
              "  font-style: bold;\n",
              "  text-align: center;\n",
              "}\n",
              "#T_2c6d1_row0_col0, #T_2c6d1_row0_col1, #T_2c6d1_row0_col2, #T_2c6d1_row0_col3, #T_2c6d1_row0_col4, #T_2c6d1_row0_col5, #T_2c6d1_row0_col6, #T_2c6d1_row1_col0, #T_2c6d1_row1_col1, #T_2c6d1_row1_col2, #T_2c6d1_row1_col3, #T_2c6d1_row1_col4, #T_2c6d1_row1_col5, #T_2c6d1_row1_col6, #T_2c6d1_row2_col0, #T_2c6d1_row2_col1, #T_2c6d1_row2_col2, #T_2c6d1_row2_col3, #T_2c6d1_row2_col4, #T_2c6d1_row2_col5, #T_2c6d1_row2_col6, #T_2c6d1_row3_col0, #T_2c6d1_row3_col1, #T_2c6d1_row3_col2, #T_2c6d1_row3_col3, #T_2c6d1_row3_col4, #T_2c6d1_row3_col5, #T_2c6d1_row3_col6, #T_2c6d1_row4_col0, #T_2c6d1_row4_col1, #T_2c6d1_row4_col2, #T_2c6d1_row4_col3, #T_2c6d1_row4_col4, #T_2c6d1_row4_col5, #T_2c6d1_row4_col6, #T_2c6d1_row5_col0, #T_2c6d1_row5_col1, #T_2c6d1_row5_col2, #T_2c6d1_row5_col3, #T_2c6d1_row5_col4, #T_2c6d1_row5_col5, #T_2c6d1_row5_col6, #T_2c6d1_row6_col0, #T_2c6d1_row6_col1, #T_2c6d1_row6_col2, #T_2c6d1_row6_col3, #T_2c6d1_row6_col4, #T_2c6d1_row6_col5, #T_2c6d1_row6_col6, #T_2c6d1_row7_col0, #T_2c6d1_row7_col1, #T_2c6d1_row7_col2, #T_2c6d1_row7_col3, #T_2c6d1_row7_col4, #T_2c6d1_row7_col5, #T_2c6d1_row7_col6, #T_2c6d1_row8_col0, #T_2c6d1_row8_col1, #T_2c6d1_row8_col2, #T_2c6d1_row8_col3, #T_2c6d1_row8_col4, #T_2c6d1_row8_col5, #T_2c6d1_row8_col6, #T_2c6d1_row9_col0, #T_2c6d1_row9_col1, #T_2c6d1_row9_col2, #T_2c6d1_row9_col3, #T_2c6d1_row9_col4, #T_2c6d1_row9_col5, #T_2c6d1_row9_col6 {\n",
              "  text-align: center;\n",
              "  border: 1.3px solid red;\n",
              "  color: blue;\n",
              "}\n",
              "</style>\n",
              "<table id=\"T_2c6d1\" class=\"dataframe\">\n",
              "  <caption>Table 1.3.2: Credit Risk Features DataFrame</caption>\n",
              "  <thead>\n",
              "    <tr>\n",
              "      <th id=\"T_2c6d1_level0_col0\" class=\"col_heading level0 col0\" >loan_size</th>\n",
              "      <th id=\"T_2c6d1_level0_col1\" class=\"col_heading level0 col1\" >interest_rate</th>\n",
              "      <th id=\"T_2c6d1_level0_col2\" class=\"col_heading level0 col2\" >borrower_income</th>\n",
              "      <th id=\"T_2c6d1_level0_col3\" class=\"col_heading level0 col3\" >debt_to_income</th>\n",
              "      <th id=\"T_2c6d1_level0_col4\" class=\"col_heading level0 col4\" >num_of_accounts</th>\n",
              "      <th id=\"T_2c6d1_level0_col5\" class=\"col_heading level0 col5\" >derogatory_marks</th>\n",
              "      <th id=\"T_2c6d1_level0_col6\" class=\"col_heading level0 col6\" >total_debt</th>\n",
              "    </tr>\n",
              "  </thead>\n",
              "  <tbody>\n",
              "    <tr>\n",
              "      <td id=\"T_2c6d1_row0_col0\" class=\"data row0 col0\" >10,700.00</td>\n",
              "      <td id=\"T_2c6d1_row0_col1\" class=\"data row0 col1\" >7.67</td>\n",
              "      <td id=\"T_2c6d1_row0_col2\" class=\"data row0 col2\" >52,800</td>\n",
              "      <td id=\"T_2c6d1_row0_col3\" class=\"data row0 col3\" >0.43</td>\n",
              "      <td id=\"T_2c6d1_row0_col4\" class=\"data row0 col4\" >5</td>\n",
              "      <td id=\"T_2c6d1_row0_col5\" class=\"data row0 col5\" >1</td>\n",
              "      <td id=\"T_2c6d1_row0_col6\" class=\"data row0 col6\" >22,800</td>\n",
              "    </tr>\n",
              "    <tr>\n",
              "      <td id=\"T_2c6d1_row1_col0\" class=\"data row1 col0\" >8,400.00</td>\n",
              "      <td id=\"T_2c6d1_row1_col1\" class=\"data row1 col1\" >6.69</td>\n",
              "      <td id=\"T_2c6d1_row1_col2\" class=\"data row1 col2\" >43,600</td>\n",
              "      <td id=\"T_2c6d1_row1_col3\" class=\"data row1 col3\" >0.31</td>\n",
              "      <td id=\"T_2c6d1_row1_col4\" class=\"data row1 col4\" >3</td>\n",
              "      <td id=\"T_2c6d1_row1_col5\" class=\"data row1 col5\" >0</td>\n",
              "      <td id=\"T_2c6d1_row1_col6\" class=\"data row1 col6\" >13,600</td>\n",
              "    </tr>\n",
              "    <tr>\n",
              "      <td id=\"T_2c6d1_row2_col0\" class=\"data row2 col0\" >9,000.00</td>\n",
              "      <td id=\"T_2c6d1_row2_col1\" class=\"data row2 col1\" >6.96</td>\n",
              "      <td id=\"T_2c6d1_row2_col2\" class=\"data row2 col2\" >46,100</td>\n",
              "      <td id=\"T_2c6d1_row2_col3\" class=\"data row2 col3\" >0.35</td>\n",
              "      <td id=\"T_2c6d1_row2_col4\" class=\"data row2 col4\" >3</td>\n",
              "      <td id=\"T_2c6d1_row2_col5\" class=\"data row2 col5\" >0</td>\n",
              "      <td id=\"T_2c6d1_row2_col6\" class=\"data row2 col6\" >16,100</td>\n",
              "    </tr>\n",
              "    <tr>\n",
              "      <td id=\"T_2c6d1_row3_col0\" class=\"data row3 col0\" >10,700.00</td>\n",
              "      <td id=\"T_2c6d1_row3_col1\" class=\"data row3 col1\" >7.66</td>\n",
              "      <td id=\"T_2c6d1_row3_col2\" class=\"data row3 col2\" >52,700</td>\n",
              "      <td id=\"T_2c6d1_row3_col3\" class=\"data row3 col3\" >0.43</td>\n",
              "      <td id=\"T_2c6d1_row3_col4\" class=\"data row3 col4\" >5</td>\n",
              "      <td id=\"T_2c6d1_row3_col5\" class=\"data row3 col5\" >1</td>\n",
              "      <td id=\"T_2c6d1_row3_col6\" class=\"data row3 col6\" >22,700</td>\n",
              "    </tr>\n",
              "    <tr>\n",
              "      <td id=\"T_2c6d1_row4_col0\" class=\"data row4 col0\" >10,800.00</td>\n",
              "      <td id=\"T_2c6d1_row4_col1\" class=\"data row4 col1\" >7.70</td>\n",
              "      <td id=\"T_2c6d1_row4_col2\" class=\"data row4 col2\" >53,000</td>\n",
              "      <td id=\"T_2c6d1_row4_col3\" class=\"data row4 col3\" >0.43</td>\n",
              "      <td id=\"T_2c6d1_row4_col4\" class=\"data row4 col4\" >5</td>\n",
              "      <td id=\"T_2c6d1_row4_col5\" class=\"data row4 col5\" >1</td>\n",
              "      <td id=\"T_2c6d1_row4_col6\" class=\"data row4 col6\" >23,000</td>\n",
              "    </tr>\n",
              "    <tr>\n",
              "      <td id=\"T_2c6d1_row5_col0\" class=\"data row5 col0\" >10,100.00</td>\n",
              "      <td id=\"T_2c6d1_row5_col1\" class=\"data row5 col1\" >7.44</td>\n",
              "      <td id=\"T_2c6d1_row5_col2\" class=\"data row5 col2\" >50,600</td>\n",
              "      <td id=\"T_2c6d1_row5_col3\" class=\"data row5 col3\" >0.41</td>\n",
              "      <td id=\"T_2c6d1_row5_col4\" class=\"data row5 col4\" >4</td>\n",
              "      <td id=\"T_2c6d1_row5_col5\" class=\"data row5 col5\" >1</td>\n",
              "      <td id=\"T_2c6d1_row5_col6\" class=\"data row5 col6\" >20,600</td>\n",
              "    </tr>\n",
              "    <tr>\n",
              "      <td id=\"T_2c6d1_row6_col0\" class=\"data row6 col0\" >10,300.00</td>\n",
              "      <td id=\"T_2c6d1_row6_col1\" class=\"data row6 col1\" >7.49</td>\n",
              "      <td id=\"T_2c6d1_row6_col2\" class=\"data row6 col2\" >51,100</td>\n",
              "      <td id=\"T_2c6d1_row6_col3\" class=\"data row6 col3\" >0.41</td>\n",
              "      <td id=\"T_2c6d1_row6_col4\" class=\"data row6 col4\" >4</td>\n",
              "      <td id=\"T_2c6d1_row6_col5\" class=\"data row6 col5\" >1</td>\n",
              "      <td id=\"T_2c6d1_row6_col6\" class=\"data row6 col6\" >21,100</td>\n",
              "    </tr>\n",
              "    <tr>\n",
              "      <td id=\"T_2c6d1_row7_col0\" class=\"data row7 col0\" >8,800.00</td>\n",
              "      <td id=\"T_2c6d1_row7_col1\" class=\"data row7 col1\" >6.86</td>\n",
              "      <td id=\"T_2c6d1_row7_col2\" class=\"data row7 col2\" >45,100</td>\n",
              "      <td id=\"T_2c6d1_row7_col3\" class=\"data row7 col3\" >0.33</td>\n",
              "      <td id=\"T_2c6d1_row7_col4\" class=\"data row7 col4\" >3</td>\n",
              "      <td id=\"T_2c6d1_row7_col5\" class=\"data row7 col5\" >0</td>\n",
              "      <td id=\"T_2c6d1_row7_col6\" class=\"data row7 col6\" >15,100</td>\n",
              "    </tr>\n",
              "    <tr>\n",
              "      <td id=\"T_2c6d1_row8_col0\" class=\"data row8 col0\" >9,300.00</td>\n",
              "      <td id=\"T_2c6d1_row8_col1\" class=\"data row8 col1\" >7.10</td>\n",
              "      <td id=\"T_2c6d1_row8_col2\" class=\"data row8 col2\" >47,400</td>\n",
              "      <td id=\"T_2c6d1_row8_col3\" class=\"data row8 col3\" >0.37</td>\n",
              "      <td id=\"T_2c6d1_row8_col4\" class=\"data row8 col4\" >3</td>\n",
              "      <td id=\"T_2c6d1_row8_col5\" class=\"data row8 col5\" >0</td>\n",
              "      <td id=\"T_2c6d1_row8_col6\" class=\"data row8 col6\" >17,400</td>\n",
              "    </tr>\n",
              "    <tr>\n",
              "      <td id=\"T_2c6d1_row9_col0\" class=\"data row9 col0\" >9,700.00</td>\n",
              "      <td id=\"T_2c6d1_row9_col1\" class=\"data row9 col1\" >7.25</td>\n",
              "      <td id=\"T_2c6d1_row9_col2\" class=\"data row9 col2\" >48,800</td>\n",
              "      <td id=\"T_2c6d1_row9_col3\" class=\"data row9 col3\" >0.39</td>\n",
              "      <td id=\"T_2c6d1_row9_col4\" class=\"data row9 col4\" >4</td>\n",
              "      <td id=\"T_2c6d1_row9_col5\" class=\"data row9 col5\" >0</td>\n",
              "      <td id=\"T_2c6d1_row9_col6\" class=\"data row9 col6\" >18,800</td>\n",
              "    </tr>\n",
              "  </tbody>\n",
              "</table>\n"
            ],
            "text/plain": [
              "<pandas.io.formats.style.Styler at 0x7c62e0a26fe0>"
            ]
          },
          "execution_count": 9,
          "metadata": {},
          "output_type": "execute_result"
        }
      ],
      "source": [
        "pandasx.return_formatted_table(x_dataframe, 'Table 1.3.2: Credit Risk Features DataFrame')"
      ]
    },
    {
      "cell_type": "markdown",
      "id": "e5186210",
      "metadata": {
        "id": "e5186210"
      },
      "source": [
        "## **1.4: Split the Data into Training and Testing Datasets by Using `train_test_split`.**"
      ]
    },
    {
      "cell_type": "code",
      "execution_count": null,
      "id": "7dc1fea0",
      "metadata": {
        "id": "7dc1fea0"
      },
      "outputs": [],
      "source": [
        "x_train_dataframe, x_test_dataframe, \\\n",
        "y_train_series, y_test_series \\\n",
        "    = train_test_split \\\n",
        "        (x_dataframe, y_series,\n",
        "         random_state = credit_risk_constants.CONSTANT_ML_RANDOM_STATE_1)\n",
        "\n",
        "logx.log_write_object(x_train_dataframe)\n",
        "\n",
        "logx.log_write_object(x_test_dataframe)\n",
        "\n",
        "logx.log_write_object(y_train_series)\n",
        "\n",
        "logx.log_write_object(y_test_series)"
      ]
    },
    {
      "cell_type": "markdown",
      "id": "El6-kxlDp_MW",
      "metadata": {
        "id": "El6-kxlDp_MW"
      },
      "source": [
        "## **1.5: Use the StandardScaler to Scale the X Variables**"
      ]
    },
    {
      "cell_type": "markdown",
      "id": "StWNkx3oqElv",
      "metadata": {
        "id": "StWNkx3oqElv"
      },
      "source": [
        "### **Scale Training and Test Data as Numpy Arrays**"
      ]
    },
    {
      "cell_type": "code",
      "execution_count": null,
      "id": "70492f90",
      "metadata": {
        "id": "70492f90"
      },
      "outputs": [],
      "source": [
        "x_train_scaled_nparray = StandardScaler().fit_transform(x_train_dataframe)\n",
        "\n",
        "logx.log_write_object(x_train_scaled_nparray)"
      ]
    },
    {
      "cell_type": "code",
      "execution_count": null,
      "id": "22_PAccbqJle",
      "metadata": {
        "id": "22_PAccbqJle"
      },
      "outputs": [],
      "source": [
        "x_test_scaled_nparray = StandardScaler().fit_transform(x_test_dataframe)\n",
        "\n",
        "logx.log_write_object(x_test_scaled_nparray)"
      ]
    },
    {
      "cell_type": "markdown",
      "id": "egnqikq2qOc3",
      "metadata": {
        "id": "egnqikq2qOc3"
      },
      "source": [
        "### **Create Scaled X Variable DataFrames**"
      ]
    },
    {
      "cell_type": "code",
      "execution_count": null,
      "id": "5loxhPfdqPCI",
      "metadata": {
        "id": "5loxhPfdqPCI"
      },
      "outputs": [],
      "source": [
        "x_train_scaled_dataframe \\\n",
        "    = pd.DataFrame \\\n",
        "        (x_train_scaled_nparray,\n",
        "         columns = x_train_dataframe.columns,\n",
        "         index = x_train_dataframe.index)\n",
        "\n",
        "logx.log_write_object(x_train_scaled_dataframe)"
      ]
    },
    {
      "cell_type": "code",
      "execution_count": null,
      "id": "q7cxaeckqTIL",
      "metadata": {
        "id": "q7cxaeckqTIL"
      },
      "outputs": [],
      "source": [
        "x_test_scaled_dataframe \\\n",
        "    = pd.DataFrame \\\n",
        "        (x_test_scaled_nparray,\n",
        "         columns = x_test_dataframe.columns,\n",
        "         index = x_test_dataframe.index)\n",
        "\n",
        "logx.log_write_object(x_test_scaled_dataframe)"
      ]
    },
    {
      "cell_type": "markdown",
      "id": "Lgushf3kqVq-",
      "metadata": {
        "id": "Lgushf3kqVq-"
      },
      "source": [
        "### **Display Scaled Training and Testing Data**"
      ]
    },
    {
      "cell_type": "code",
      "execution_count": null,
      "id": "FCOw-IALqX0g",
      "metadata": {
        "colab": {
          "base_uri": "https://localhost:8080/",
          "height": 398
        },
        "id": "FCOw-IALqX0g",
        "outputId": "a2fb242a-d828-47f2-f40b-1d2496496f75"
      },
      "outputs": [
        {
          "data": {
            "text/html": [
              "<style type=\"text/css\">\n",
              "#T_f48fe caption {\n",
              "  color: black;\n",
              "  font-size: 20px;\n",
              "  font-style: bold;\n",
              "  text-align: center;\n",
              "}\n",
              "#T_f48fe_row0_col0, #T_f48fe_row0_col1, #T_f48fe_row0_col2, #T_f48fe_row0_col3, #T_f48fe_row0_col4, #T_f48fe_row0_col5, #T_f48fe_row0_col6, #T_f48fe_row1_col0, #T_f48fe_row1_col1, #T_f48fe_row1_col2, #T_f48fe_row1_col3, #T_f48fe_row1_col4, #T_f48fe_row1_col5, #T_f48fe_row1_col6, #T_f48fe_row2_col0, #T_f48fe_row2_col1, #T_f48fe_row2_col2, #T_f48fe_row2_col3, #T_f48fe_row2_col4, #T_f48fe_row2_col5, #T_f48fe_row2_col6, #T_f48fe_row3_col0, #T_f48fe_row3_col1, #T_f48fe_row3_col2, #T_f48fe_row3_col3, #T_f48fe_row3_col4, #T_f48fe_row3_col5, #T_f48fe_row3_col6, #T_f48fe_row4_col0, #T_f48fe_row4_col1, #T_f48fe_row4_col2, #T_f48fe_row4_col3, #T_f48fe_row4_col4, #T_f48fe_row4_col5, #T_f48fe_row4_col6, #T_f48fe_row5_col0, #T_f48fe_row5_col1, #T_f48fe_row5_col2, #T_f48fe_row5_col3, #T_f48fe_row5_col4, #T_f48fe_row5_col5, #T_f48fe_row5_col6, #T_f48fe_row6_col0, #T_f48fe_row6_col1, #T_f48fe_row6_col2, #T_f48fe_row6_col3, #T_f48fe_row6_col4, #T_f48fe_row6_col5, #T_f48fe_row6_col6, #T_f48fe_row7_col0, #T_f48fe_row7_col1, #T_f48fe_row7_col2, #T_f48fe_row7_col3, #T_f48fe_row7_col4, #T_f48fe_row7_col5, #T_f48fe_row7_col6, #T_f48fe_row8_col0, #T_f48fe_row8_col1, #T_f48fe_row8_col2, #T_f48fe_row8_col3, #T_f48fe_row8_col4, #T_f48fe_row8_col5, #T_f48fe_row8_col6, #T_f48fe_row9_col0, #T_f48fe_row9_col1, #T_f48fe_row9_col2, #T_f48fe_row9_col3, #T_f48fe_row9_col4, #T_f48fe_row9_col5, #T_f48fe_row9_col6 {\n",
              "  text-align: center;\n",
              "  border: 1.3px solid red;\n",
              "  color: blue;\n",
              "}\n",
              "</style>\n",
              "<table id=\"T_f48fe\" class=\"dataframe\">\n",
              "  <caption>Table 1.5.1: Credit Risk Scaled Features Training Data</caption>\n",
              "  <thead>\n",
              "    <tr>\n",
              "      <th id=\"T_f48fe_level0_col0\" class=\"col_heading level0 col0\" >loan_size</th>\n",
              "      <th id=\"T_f48fe_level0_col1\" class=\"col_heading level0 col1\" >interest_rate</th>\n",
              "      <th id=\"T_f48fe_level0_col2\" class=\"col_heading level0 col2\" >borrower_income</th>\n",
              "      <th id=\"T_f48fe_level0_col3\" class=\"col_heading level0 col3\" >debt_to_income</th>\n",
              "      <th id=\"T_f48fe_level0_col4\" class=\"col_heading level0 col4\" >num_of_accounts</th>\n",
              "      <th id=\"T_f48fe_level0_col5\" class=\"col_heading level0 col5\" >derogatory_marks</th>\n",
              "      <th id=\"T_f48fe_level0_col6\" class=\"col_heading level0 col6\" >total_debt</th>\n",
              "    </tr>\n",
              "  </thead>\n",
              "  <tbody>\n",
              "    <tr>\n",
              "      <td id=\"T_f48fe_row0_col0\" class=\"data row0 col0\" >-0.34</td>\n",
              "      <td id=\"T_f48fe_row0_col1\" class=\"data row0 col1\" >-0.33</td>\n",
              "      <td id=\"T_f48fe_row0_col2\" class=\"data row0 col2\" >-0.34</td>\n",
              "      <td id=\"T_f48fe_row0_col3\" class=\"data row0 col3\" >-0.29</td>\n",
              "      <td id=\"T_f48fe_row0_col4\" class=\"data row0 col4\" >-0.43</td>\n",
              "      <td id=\"T_f48fe_row0_col5\" class=\"data row0 col5\" >-0.67</td>\n",
              "      <td id=\"T_f48fe_row0_col6\" class=\"data row0 col6\" >-0.34</td>\n",
              "    </tr>\n",
              "    <tr>\n",
              "      <td id=\"T_f48fe_row1_col0\" class=\"data row1 col0\" >-0.57</td>\n",
              "      <td id=\"T_f48fe_row1_col1\" class=\"data row1 col1\" >-0.60</td>\n",
              "      <td id=\"T_f48fe_row1_col2\" class=\"data row1 col2\" >-0.60</td>\n",
              "      <td id=\"T_f48fe_row1_col3\" class=\"data row1 col3\" >-0.68</td>\n",
              "      <td id=\"T_f48fe_row1_col4\" class=\"data row1 col4\" >-0.43</td>\n",
              "      <td id=\"T_f48fe_row1_col5\" class=\"data row1 col5\" >-0.67</td>\n",
              "      <td id=\"T_f48fe_row1_col6\" class=\"data row1 col6\" >-0.60</td>\n",
              "    </tr>\n",
              "    <tr>\n",
              "      <td id=\"T_f48fe_row2_col0\" class=\"data row2 col0\" >0.38</td>\n",
              "      <td id=\"T_f48fe_row2_col1\" class=\"data row2 col1\" >0.39</td>\n",
              "      <td id=\"T_f48fe_row2_col2\" class=\"data row2 col2\" >0.39</td>\n",
              "      <td id=\"T_f48fe_row2_col3\" class=\"data row2 col3\" >0.63</td>\n",
              "      <td id=\"T_f48fe_row2_col4\" class=\"data row2 col4\" >0.61</td>\n",
              "      <td id=\"T_f48fe_row2_col5\" class=\"data row2 col5\" >1.04</td>\n",
              "      <td id=\"T_f48fe_row2_col6\" class=\"data row2 col6\" >0.39</td>\n",
              "    </tr>\n",
              "    <tr>\n",
              "      <td id=\"T_f48fe_row3_col0\" class=\"data row3 col0\" >-0.57</td>\n",
              "      <td id=\"T_f48fe_row3_col1\" class=\"data row3 col1\" >-0.57</td>\n",
              "      <td id=\"T_f48fe_row3_col2\" class=\"data row3 col2\" >-0.56</td>\n",
              "      <td id=\"T_f48fe_row3_col3\" class=\"data row3 col3\" >-0.63</td>\n",
              "      <td id=\"T_f48fe_row3_col4\" class=\"data row3 col4\" >-0.43</td>\n",
              "      <td id=\"T_f48fe_row3_col5\" class=\"data row3 col5\" >-0.67</td>\n",
              "      <td id=\"T_f48fe_row3_col6\" class=\"data row3 col6\" >-0.56</td>\n",
              "    </tr>\n",
              "    <tr>\n",
              "      <td id=\"T_f48fe_row4_col0\" class=\"data row4 col0\" >-1.00</td>\n",
              "      <td id=\"T_f48fe_row4_col1\" class=\"data row4 col1\" >-0.98</td>\n",
              "      <td id=\"T_f48fe_row4_col2\" class=\"data row4 col2\" >-0.98</td>\n",
              "      <td id=\"T_f48fe_row4_col3\" class=\"data row4 col3\" >-1.33</td>\n",
              "      <td id=\"T_f48fe_row4_col4\" class=\"data row4 col4\" >-0.96</td>\n",
              "      <td id=\"T_f48fe_row4_col5\" class=\"data row4 col5\" >-0.67</td>\n",
              "      <td id=\"T_f48fe_row4_col6\" class=\"data row4 col6\" >-0.98</td>\n",
              "    </tr>\n",
              "    <tr>\n",
              "      <td id=\"T_f48fe_row5_col0\" class=\"data row5 col0\" >-0.10</td>\n",
              "      <td id=\"T_f48fe_row5_col1\" class=\"data row5 col1\" >-0.11</td>\n",
              "      <td id=\"T_f48fe_row5_col2\" class=\"data row5 col2\" >-0.11</td>\n",
              "      <td id=\"T_f48fe_row5_col3\" class=\"data row5 col3\" >0.02</td>\n",
              "      <td id=\"T_f48fe_row5_col4\" class=\"data row5 col4\" >0.09</td>\n",
              "      <td id=\"T_f48fe_row5_col5\" class=\"data row5 col5\" >-0.67</td>\n",
              "      <td id=\"T_f48fe_row5_col6\" class=\"data row5 col6\" >-0.11</td>\n",
              "    </tr>\n",
              "    <tr>\n",
              "      <td id=\"T_f48fe_row6_col0\" class=\"data row6 col0\" >-0.77</td>\n",
              "      <td id=\"T_f48fe_row6_col1\" class=\"data row6 col1\" >-0.78</td>\n",
              "      <td id=\"T_f48fe_row6_col2\" class=\"data row6 col2\" >-0.78</td>\n",
              "      <td id=\"T_f48fe_row6_col3\" class=\"data row6 col3\" >-0.98</td>\n",
              "      <td id=\"T_f48fe_row6_col4\" class=\"data row6 col4\" >-0.96</td>\n",
              "      <td id=\"T_f48fe_row6_col5\" class=\"data row6 col5\" >-0.67</td>\n",
              "      <td id=\"T_f48fe_row6_col6\" class=\"data row6 col6\" >-0.78</td>\n",
              "    </tr>\n",
              "    <tr>\n",
              "      <td id=\"T_f48fe_row7_col0\" class=\"data row7 col0\" >-1.05</td>\n",
              "      <td id=\"T_f48fe_row7_col1\" class=\"data row7 col1\" >-1.06</td>\n",
              "      <td id=\"T_f48fe_row7_col2\" class=\"data row7 col2\" >-1.06</td>\n",
              "      <td id=\"T_f48fe_row7_col3\" class=\"data row7 col3\" >-1.49</td>\n",
              "      <td id=\"T_f48fe_row7_col4\" class=\"data row7 col4\" >-0.96</td>\n",
              "      <td id=\"T_f48fe_row7_col5\" class=\"data row7 col5\" >-0.67</td>\n",
              "      <td id=\"T_f48fe_row7_col6\" class=\"data row7 col6\" >-1.06</td>\n",
              "    </tr>\n",
              "    <tr>\n",
              "      <td id=\"T_f48fe_row8_col0\" class=\"data row8 col0\" >-0.96</td>\n",
              "      <td id=\"T_f48fe_row8_col1\" class=\"data row8 col1\" >-0.97</td>\n",
              "      <td id=\"T_f48fe_row8_col2\" class=\"data row8 col2\" >-0.97</td>\n",
              "      <td id=\"T_f48fe_row8_col3\" class=\"data row8 col3\" >-1.31</td>\n",
              "      <td id=\"T_f48fe_row8_col4\" class=\"data row8 col4\" >-0.96</td>\n",
              "      <td id=\"T_f48fe_row8_col5\" class=\"data row8 col5\" >-0.67</td>\n",
              "      <td id=\"T_f48fe_row8_col6\" class=\"data row8 col6\" >-0.97</td>\n",
              "    </tr>\n",
              "    <tr>\n",
              "      <td id=\"T_f48fe_row9_col0\" class=\"data row9 col0\" >0.19</td>\n",
              "      <td id=\"T_f48fe_row9_col1\" class=\"data row9 col1\" >0.17</td>\n",
              "      <td id=\"T_f48fe_row9_col2\" class=\"data row9 col2\" >0.18</td>\n",
              "      <td id=\"T_f48fe_row9_col3\" class=\"data row9 col3\" >0.38</td>\n",
              "      <td id=\"T_f48fe_row9_col4\" class=\"data row9 col4\" >0.09</td>\n",
              "      <td id=\"T_f48fe_row9_col5\" class=\"data row9 col5\" >1.04</td>\n",
              "      <td id=\"T_f48fe_row9_col6\" class=\"data row9 col6\" >0.18</td>\n",
              "    </tr>\n",
              "  </tbody>\n",
              "</table>\n"
            ],
            "text/plain": [
              "<pandas.io.formats.style.Styler at 0x7c62e0a27e80>"
            ]
          },
          "execution_count": 15,
          "metadata": {},
          "output_type": "execute_result"
        }
      ],
      "source": [
        "pandasx.return_formatted_table \\\n",
        "    (x_train_scaled_dataframe,\n",
        "     'Table 1.5.1: Credit Risk Scaled Features Training Data')"
      ]
    },
    {
      "cell_type": "code",
      "execution_count": null,
      "id": "Wjez1xebqYDX",
      "metadata": {
        "colab": {
          "base_uri": "https://localhost:8080/",
          "height": 398
        },
        "id": "Wjez1xebqYDX",
        "outputId": "9cfede66-c4c1-4ab7-bead-31dbbf4ea6ea"
      },
      "outputs": [
        {
          "data": {
            "text/html": [
              "<style type=\"text/css\">\n",
              "#T_2da75 caption {\n",
              "  color: black;\n",
              "  font-size: 20px;\n",
              "  font-style: bold;\n",
              "  text-align: center;\n",
              "}\n",
              "#T_2da75_row0_col0, #T_2da75_row0_col1, #T_2da75_row0_col2, #T_2da75_row0_col3, #T_2da75_row0_col4, #T_2da75_row0_col5, #T_2da75_row0_col6, #T_2da75_row1_col0, #T_2da75_row1_col1, #T_2da75_row1_col2, #T_2da75_row1_col3, #T_2da75_row1_col4, #T_2da75_row1_col5, #T_2da75_row1_col6, #T_2da75_row2_col0, #T_2da75_row2_col1, #T_2da75_row2_col2, #T_2da75_row2_col3, #T_2da75_row2_col4, #T_2da75_row2_col5, #T_2da75_row2_col6, #T_2da75_row3_col0, #T_2da75_row3_col1, #T_2da75_row3_col2, #T_2da75_row3_col3, #T_2da75_row3_col4, #T_2da75_row3_col5, #T_2da75_row3_col6, #T_2da75_row4_col0, #T_2da75_row4_col1, #T_2da75_row4_col2, #T_2da75_row4_col3, #T_2da75_row4_col4, #T_2da75_row4_col5, #T_2da75_row4_col6, #T_2da75_row5_col0, #T_2da75_row5_col1, #T_2da75_row5_col2, #T_2da75_row5_col3, #T_2da75_row5_col4, #T_2da75_row5_col5, #T_2da75_row5_col6, #T_2da75_row6_col0, #T_2da75_row6_col1, #T_2da75_row6_col2, #T_2da75_row6_col3, #T_2da75_row6_col4, #T_2da75_row6_col5, #T_2da75_row6_col6, #T_2da75_row7_col0, #T_2da75_row7_col1, #T_2da75_row7_col2, #T_2da75_row7_col3, #T_2da75_row7_col4, #T_2da75_row7_col5, #T_2da75_row7_col6, #T_2da75_row8_col0, #T_2da75_row8_col1, #T_2da75_row8_col2, #T_2da75_row8_col3, #T_2da75_row8_col4, #T_2da75_row8_col5, #T_2da75_row8_col6, #T_2da75_row9_col0, #T_2da75_row9_col1, #T_2da75_row9_col2, #T_2da75_row9_col3, #T_2da75_row9_col4, #T_2da75_row9_col5, #T_2da75_row9_col6 {\n",
              "  text-align: center;\n",
              "  border: 1.3px solid red;\n",
              "  color: blue;\n",
              "}\n",
              "</style>\n",
              "<table id=\"T_2da75\" class=\"dataframe\">\n",
              "  <caption>Table 1.5.2: Credit Risk Scaled Features Test Data</caption>\n",
              "  <thead>\n",
              "    <tr>\n",
              "      <th id=\"T_2da75_level0_col0\" class=\"col_heading level0 col0\" >loan_size</th>\n",
              "      <th id=\"T_2da75_level0_col1\" class=\"col_heading level0 col1\" >interest_rate</th>\n",
              "      <th id=\"T_2da75_level0_col2\" class=\"col_heading level0 col2\" >borrower_income</th>\n",
              "      <th id=\"T_2da75_level0_col3\" class=\"col_heading level0 col3\" >debt_to_income</th>\n",
              "      <th id=\"T_2da75_level0_col4\" class=\"col_heading level0 col4\" >num_of_accounts</th>\n",
              "      <th id=\"T_2da75_level0_col5\" class=\"col_heading level0 col5\" >derogatory_marks</th>\n",
              "      <th id=\"T_2da75_level0_col6\" class=\"col_heading level0 col6\" >total_debt</th>\n",
              "    </tr>\n",
              "  </thead>\n",
              "  <tbody>\n",
              "    <tr>\n",
              "      <td id=\"T_2da75_row0_col0\" class=\"data row0 col0\" >-0.15</td>\n",
              "      <td id=\"T_2da75_row0_col1\" class=\"data row0 col1\" >-0.13</td>\n",
              "      <td id=\"T_2da75_row0_col2\" class=\"data row0 col2\" >-0.14</td>\n",
              "      <td id=\"T_2da75_row0_col3\" class=\"data row0 col3\" >-0.02</td>\n",
              "      <td id=\"T_2da75_row0_col4\" class=\"data row0 col4\" >0.09</td>\n",
              "      <td id=\"T_2da75_row0_col5\" class=\"data row0 col5\" >-0.68</td>\n",
              "      <td id=\"T_2da75_row0_col6\" class=\"data row0 col6\" >-0.14</td>\n",
              "    </tr>\n",
              "    <tr>\n",
              "      <td id=\"T_2da75_row1_col0\" class=\"data row1 col0\" >0.04</td>\n",
              "      <td id=\"T_2da75_row1_col1\" class=\"data row1 col1\" >0.05</td>\n",
              "      <td id=\"T_2da75_row1_col2\" class=\"data row1 col2\" >0.04</td>\n",
              "      <td id=\"T_2da75_row1_col3\" class=\"data row1 col3\" >0.22</td>\n",
              "      <td id=\"T_2da75_row1_col4\" class=\"data row1 col4\" >0.09</td>\n",
              "      <td id=\"T_2da75_row1_col5\" class=\"data row1 col5\" >-0.68</td>\n",
              "      <td id=\"T_2da75_row1_col6\" class=\"data row1 col6\" >0.04</td>\n",
              "    </tr>\n",
              "    <tr>\n",
              "      <td id=\"T_2da75_row2_col0\" class=\"data row2 col0\" >-0.68</td>\n",
              "      <td id=\"T_2da75_row2_col1\" class=\"data row2 col1\" >-0.66</td>\n",
              "      <td id=\"T_2da75_row2_col2\" class=\"data row2 col2\" >-0.65</td>\n",
              "      <td id=\"T_2da75_row2_col3\" class=\"data row2 col3\" >-0.77</td>\n",
              "      <td id=\"T_2da75_row2_col4\" class=\"data row2 col4\" >-0.44</td>\n",
              "      <td id=\"T_2da75_row2_col5\" class=\"data row2 col5\" >-0.68</td>\n",
              "      <td id=\"T_2da75_row2_col6\" class=\"data row2 col6\" >-0.65</td>\n",
              "    </tr>\n",
              "    <tr>\n",
              "      <td id=\"T_2da75_row3_col0\" class=\"data row3 col0\" >-0.97</td>\n",
              "      <td id=\"T_2da75_row3_col1\" class=\"data row3 col1\" >-0.96</td>\n",
              "      <td id=\"T_2da75_row3_col2\" class=\"data row3 col2\" >-0.95</td>\n",
              "      <td id=\"T_2da75_row3_col3\" class=\"data row3 col3\" >-1.29</td>\n",
              "      <td id=\"T_2da75_row3_col4\" class=\"data row3 col4\" >-0.97</td>\n",
              "      <td id=\"T_2da75_row3_col5\" class=\"data row3 col5\" >-0.68</td>\n",
              "      <td id=\"T_2da75_row3_col6\" class=\"data row3 col6\" >-0.95</td>\n",
              "    </tr>\n",
              "    <tr>\n",
              "      <td id=\"T_2da75_row4_col0\" class=\"data row4 col0\" >0.33</td>\n",
              "      <td id=\"T_2da75_row4_col1\" class=\"data row4 col1\" >0.35</td>\n",
              "      <td id=\"T_2da75_row4_col2\" class=\"data row4 col2\" >0.36</td>\n",
              "      <td id=\"T_2da75_row4_col3\" class=\"data row4 col3\" >0.59</td>\n",
              "      <td id=\"T_2da75_row4_col4\" class=\"data row4 col4\" >0.09</td>\n",
              "      <td id=\"T_2da75_row4_col5\" class=\"data row4 col5\" >1.04</td>\n",
              "      <td id=\"T_2da75_row4_col6\" class=\"data row4 col6\" >0.36</td>\n",
              "    </tr>\n",
              "    <tr>\n",
              "      <td id=\"T_2da75_row5_col0\" class=\"data row5 col0\" >0.24</td>\n",
              "      <td id=\"T_2da75_row5_col1\" class=\"data row5 col1\" >0.25</td>\n",
              "      <td id=\"T_2da75_row5_col2\" class=\"data row5 col2\" >0.25</td>\n",
              "      <td id=\"T_2da75_row5_col3\" class=\"data row5 col3\" >0.47</td>\n",
              "      <td id=\"T_2da75_row5_col4\" class=\"data row5 col4\" >0.09</td>\n",
              "      <td id=\"T_2da75_row5_col5\" class=\"data row5 col5\" >1.04</td>\n",
              "      <td id=\"T_2da75_row5_col6\" class=\"data row5 col6\" >0.25</td>\n",
              "    </tr>\n",
              "    <tr>\n",
              "      <td id=\"T_2da75_row6_col0\" class=\"data row6 col0\" >-0.05</td>\n",
              "      <td id=\"T_2da75_row6_col1\" class=\"data row6 col1\" >-0.05</td>\n",
              "      <td id=\"T_2da75_row6_col2\" class=\"data row6 col2\" >-0.04</td>\n",
              "      <td id=\"T_2da75_row6_col3\" class=\"data row6 col3\" >0.11</td>\n",
              "      <td id=\"T_2da75_row6_col4\" class=\"data row6 col4\" >0.09</td>\n",
              "      <td id=\"T_2da75_row6_col5\" class=\"data row6 col5\" >-0.68</td>\n",
              "      <td id=\"T_2da75_row6_col6\" class=\"data row6 col6\" >-0.04</td>\n",
              "    </tr>\n",
              "    <tr>\n",
              "      <td id=\"T_2da75_row7_col0\" class=\"data row7 col0\" >-0.15</td>\n",
              "      <td id=\"T_2da75_row7_col1\" class=\"data row7 col1\" >-0.17</td>\n",
              "      <td id=\"T_2da75_row7_col2\" class=\"data row7 col2\" >-0.17</td>\n",
              "      <td id=\"T_2da75_row7_col3\" class=\"data row7 col3\" >-0.06</td>\n",
              "      <td id=\"T_2da75_row7_col4\" class=\"data row7 col4\" >0.09</td>\n",
              "      <td id=\"T_2da75_row7_col5\" class=\"data row7 col5\" >-0.68</td>\n",
              "      <td id=\"T_2da75_row7_col6\" class=\"data row7 col6\" >-0.17</td>\n",
              "    </tr>\n",
              "    <tr>\n",
              "      <td id=\"T_2da75_row8_col0\" class=\"data row8 col0\" >0.04</td>\n",
              "      <td id=\"T_2da75_row8_col1\" class=\"data row8 col1\" >0.03</td>\n",
              "      <td id=\"T_2da75_row8_col2\" class=\"data row8 col2\" >0.03</td>\n",
              "      <td id=\"T_2da75_row8_col3\" class=\"data row8 col3\" >0.20</td>\n",
              "      <td id=\"T_2da75_row8_col4\" class=\"data row8 col4\" >0.09</td>\n",
              "      <td id=\"T_2da75_row8_col5\" class=\"data row8 col5\" >-0.68</td>\n",
              "      <td id=\"T_2da75_row8_col6\" class=\"data row8 col6\" >0.03</td>\n",
              "    </tr>\n",
              "    <tr>\n",
              "      <td id=\"T_2da75_row9_col0\" class=\"data row9 col0\" >0.33</td>\n",
              "      <td id=\"T_2da75_row9_col1\" class=\"data row9 col1\" >0.35</td>\n",
              "      <td id=\"T_2da75_row9_col2\" class=\"data row9 col2\" >0.35</td>\n",
              "      <td id=\"T_2da75_row9_col3\" class=\"data row9 col3\" >0.58</td>\n",
              "      <td id=\"T_2da75_row9_col4\" class=\"data row9 col4\" >0.09</td>\n",
              "      <td id=\"T_2da75_row9_col5\" class=\"data row9 col5\" >1.04</td>\n",
              "      <td id=\"T_2da75_row9_col6\" class=\"data row9 col6\" >0.35</td>\n",
              "    </tr>\n",
              "  </tbody>\n",
              "</table>\n"
            ],
            "text/plain": [
              "<pandas.io.formats.style.Styler at 0x7c62e0a92530>"
            ]
          },
          "execution_count": 16,
          "metadata": {},
          "output_type": "execute_result"
        }
      ],
      "source": [
        "pandasx.return_formatted_table \\\n",
        "    (x_test_scaled_dataframe,\n",
        "     'Table 1.5.2: Credit Risk Scaled Features Test Data')"
      ]
    },
    {
      "cell_type": "markdown",
      "id": "z0qGUckXuo-B",
      "metadata": {
        "id": "z0qGUckXuo-B"
      },
      "source": [
        "# <br> **Section 2: Undersampled and OverSampled Spam Data**"
      ]
    },
    {
      "cell_type": "markdown",
      "id": "SJMgY4vQuo-C",
      "metadata": {
        "id": "SJMgY4vQuo-C"
      },
      "source": [
        "## **2.1: Instantiate the Random Undersampler Instance**"
      ]
    },
    {
      "cell_type": "code",
      "execution_count": null,
      "id": "aQgkX4Wluo-C",
      "metadata": {
        "id": "aQgkX4Wluo-C"
      },
      "outputs": [],
      "source": [
        "x_train_scaled_undersampled_dataframe, y_train_undersampled_series \\\n",
        "    = RandomUnderSampler(random_state = credit_risk_constants.CONSTANT_ML_RANDOM_STATE_1) \\\n",
        "        .fit_resample(x_train_scaled_dataframe, y_train_series)"
      ]
    },
    {
      "cell_type": "code",
      "execution_count": null,
      "id": "KJNhzlQ0uo-C",
      "metadata": {
        "id": "KJNhzlQ0uo-C"
      },
      "outputs": [],
      "source": [
        "logx.log_write_object(x_train_scaled_undersampled_dataframe)\n",
        "\n",
        "logx.log_write_object(y_train_undersampled_series)"
      ]
    },
    {
      "cell_type": "markdown",
      "id": "hdofxCHHuo-C",
      "metadata": {
        "id": "hdofxCHHuo-C"
      },
      "source": [
        "## **2.2: Instantiate the Random Oversampler Instance**"
      ]
    },
    {
      "cell_type": "code",
      "execution_count": null,
      "id": "m_4DhH35uo-C",
      "metadata": {
        "id": "m_4DhH35uo-C"
      },
      "outputs": [],
      "source": [
        "x_train_scaled_oversampled_dataframe, y_train_oversampled_series \\\n",
        "    = RandomOverSampler(random_state = credit_risk_constants.CONSTANT_ML_RANDOM_STATE_1) \\\n",
        "        .fit_resample(x_train_scaled_dataframe, y_train_series)"
      ]
    },
    {
      "cell_type": "code",
      "execution_count": null,
      "id": "LlA7fv6ruo-C",
      "metadata": {
        "id": "LlA7fv6ruo-C"
      },
      "outputs": [],
      "source": [
        "logx.log_write_object(x_train_scaled_undersampled_dataframe)\n",
        "\n",
        "logx.log_write_object(y_train_undersampled_series)"
      ]
    },
    {
      "cell_type": "markdown",
      "id": "ItxFz2Vtuo-C",
      "metadata": {
        "id": "ItxFz2Vtuo-C"
      },
      "source": [
        "## **2.3: Instantiate the Cluster Centroids Instance**"
      ]
    },
    {
      "cell_type": "code",
      "execution_count": null,
      "id": "Hg0_4mQMuo-F",
      "metadata": {
        "id": "Hg0_4mQMuo-F"
      },
      "outputs": [],
      "source": [
        "x_train_scaled_cluster_centroids_dataframe, y_train_cluster_centroids_series \\\n",
        "    = ClusterCentroids \\\n",
        "        (estimator \\\n",
        "             = KMeans(n_init = 'auto', random_state = credit_risk_constants.CONSTANT_ML_RANDOM_STATE_2),\n",
        "         random_state = credit_risk_constants.CONSTANT_ML_RANDOM_STATE_1) \\\n",
        "        .fit_resample(x_train_scaled_dataframe, y_train_series)"
      ]
    },
    {
      "cell_type": "code",
      "execution_count": null,
      "id": "sVzvq0dcuo-F",
      "metadata": {
        "id": "sVzvq0dcuo-F"
      },
      "outputs": [],
      "source": [
        "logx.log_write_object(x_train_scaled_cluster_centroids_dataframe)\n",
        "\n",
        "logx.log_write_object(y_train_cluster_centroids_series)"
      ]
    },
    {
      "cell_type": "markdown",
      "id": "2YE8D2MWuo-F",
      "metadata": {
        "id": "2YE8D2MWuo-F"
      },
      "source": [
        "## **2.4: Instantiate the SMOTE Instance**"
      ]
    },
    {
      "cell_type": "code",
      "execution_count": null,
      "id": "8TaqWdqMuo-F",
      "metadata": {
        "id": "8TaqWdqMuo-F"
      },
      "outputs": [],
      "source": [
        "x_train_scaled_SMOTE_dataframe, y_train_SMOTE_series \\\n",
        "    = SMOTE(random_state = credit_risk_constants.CONSTANT_ML_RANDOM_STATE_1, sampling_strategy = 'auto') \\\n",
        "        .fit_resample(x_train_scaled_dataframe, y_train_series)"
      ]
    },
    {
      "cell_type": "code",
      "execution_count": null,
      "id": "p-UhjxWSuo-F",
      "metadata": {
        "id": "p-UhjxWSuo-F"
      },
      "outputs": [],
      "source": [
        "logx.log_write_object(x_train_scaled_SMOTE_dataframe)\n",
        "\n",
        "logx.log_write_object(y_train_SMOTE_series)"
      ]
    },
    {
      "cell_type": "markdown",
      "id": "7VsynmMEuo-F",
      "metadata": {
        "id": "7VsynmMEuo-F"
      },
      "source": [
        "## **2.5: Instantiate the SMOTEENN Instance**"
      ]
    },
    {
      "cell_type": "code",
      "execution_count": null,
      "id": "wO4hDgSwuo-F",
      "metadata": {
        "id": "wO4hDgSwuo-F"
      },
      "outputs": [],
      "source": [
        "x_train_scaled_SMOTEENN_dataframe, y_train_SMOTEENN_series \\\n",
        "    = SMOTEENN(random_state = credit_risk_constants.CONSTANT_ML_RANDOM_STATE_1) \\\n",
        "        .fit_resample(x_train_scaled_dataframe, y_train_series)"
      ]
    },
    {
      "cell_type": "code",
      "execution_count": null,
      "id": "QRUNGH0huo-G",
      "metadata": {
        "id": "QRUNGH0huo-G"
      },
      "outputs": [],
      "source": [
        "logx.log_write_object(x_train_scaled_SMOTEENN_dataframe)\n",
        "\n",
        "logx.log_write_object(y_train_SMOTEENN_series)"
      ]
    },
    {
      "cell_type": "markdown",
      "id": "ALOhewYfuo-G",
      "metadata": {
        "id": "ALOhewYfuo-G"
      },
      "source": [
        "## **2.6: Check the Balance of the Labels Variable (`y`) by Using the `value_counts` Function.**"
      ]
    },
    {
      "cell_type": "code",
      "execution_count": null,
      "id": "QM3moH5Huo-G",
      "metadata": {
        "colab": {
          "base_uri": "https://localhost:8080/"
        },
        "id": "QM3moH5Huo-G",
        "outputId": "9439b55e-4b04-4601-da32-3bc2530c0483"
      },
      "outputs": [
        {
          "data": {
            "text/plain": [
              "loan_status\n",
              "0    1890\n",
              "1    1890\n",
              "Name: count, dtype: int64"
            ]
          },
          "execution_count": 27,
          "metadata": {},
          "output_type": "execute_result"
        }
      ],
      "source": [
        "y_train_undersampled_series.value_counts()"
      ]
    },
    {
      "cell_type": "code",
      "execution_count": null,
      "id": "6C0q4Qfouo-G",
      "metadata": {
        "colab": {
          "base_uri": "https://localhost:8080/"
        },
        "id": "6C0q4Qfouo-G",
        "outputId": "e095c6c9-708f-438f-b07d-2297e0c23510"
      },
      "outputs": [
        {
          "data": {
            "text/plain": [
              "loan_status\n",
              "0    56262\n",
              "1    56262\n",
              "Name: count, dtype: int64"
            ]
          },
          "execution_count": 28,
          "metadata": {},
          "output_type": "execute_result"
        }
      ],
      "source": [
        "y_train_oversampled_series.value_counts()"
      ]
    },
    {
      "cell_type": "code",
      "execution_count": null,
      "id": "41snU0Uguo-G",
      "metadata": {
        "colab": {
          "base_uri": "https://localhost:8080/"
        },
        "id": "41snU0Uguo-G",
        "outputId": "f90b9672-02d7-4bcf-9e68-b8f8ff93e3be"
      },
      "outputs": [
        {
          "data": {
            "text/plain": [
              "loan_status\n",
              "0    1890\n",
              "1    1890\n",
              "Name: count, dtype: int64"
            ]
          },
          "execution_count": 29,
          "metadata": {},
          "output_type": "execute_result"
        }
      ],
      "source": [
        "y_train_cluster_centroids_series.value_counts()"
      ]
    },
    {
      "cell_type": "code",
      "execution_count": null,
      "id": "5-0HgHq-uo-G",
      "metadata": {
        "colab": {
          "base_uri": "https://localhost:8080/"
        },
        "id": "5-0HgHq-uo-G",
        "outputId": "6804bd26-6fdd-4ea2-d0d1-f414fa7496d4"
      },
      "outputs": [
        {
          "data": {
            "text/plain": [
              "loan_status\n",
              "0    56262\n",
              "1    56262\n",
              "Name: count, dtype: int64"
            ]
          },
          "execution_count": 30,
          "metadata": {},
          "output_type": "execute_result"
        }
      ],
      "source": [
        "y_train_SMOTE_series.value_counts()"
      ]
    },
    {
      "cell_type": "code",
      "execution_count": null,
      "id": "KdbCijZOuo-G",
      "metadata": {
        "colab": {
          "base_uri": "https://localhost:8080/"
        },
        "id": "KdbCijZOuo-G",
        "outputId": "24812f1d-e085-49b2-8564-0a6f7d794b5e"
      },
      "outputs": [
        {
          "data": {
            "text/plain": [
              "loan_status\n",
              "0    55873\n",
              "1    54849\n",
              "Name: count, dtype: int64"
            ]
          },
          "execution_count": 31,
          "metadata": {},
          "output_type": "execute_result"
        }
      ],
      "source": [
        "y_train_SMOTEENN_series.value_counts()"
      ]
    },
    {
      "cell_type": "markdown",
      "id": "CAyaG3Wnuo-G",
      "metadata": {
        "id": "CAyaG3Wnuo-G"
      },
      "source": [
        "## **2.7: Display Normalized Resampled Training and Testing Data**"
      ]
    },
    {
      "cell_type": "code",
      "execution_count": null,
      "id": "G3LNKadHuo-G",
      "metadata": {
        "colab": {
          "base_uri": "https://localhost:8080/",
          "height": 398
        },
        "id": "G3LNKadHuo-G",
        "outputId": "3b44650a-a9b4-4719-a880-2614a61b72fb"
      },
      "outputs": [
        {
          "data": {
            "text/html": [
              "<style type=\"text/css\">\n",
              "#T_c6cfd caption {\n",
              "  color: black;\n",
              "  font-size: 20px;\n",
              "  font-style: bold;\n",
              "  text-align: center;\n",
              "}\n",
              "#T_c6cfd_row0_col0, #T_c6cfd_row0_col1, #T_c6cfd_row0_col2, #T_c6cfd_row0_col3, #T_c6cfd_row0_col4, #T_c6cfd_row0_col5, #T_c6cfd_row0_col6, #T_c6cfd_row1_col0, #T_c6cfd_row1_col1, #T_c6cfd_row1_col2, #T_c6cfd_row1_col3, #T_c6cfd_row1_col4, #T_c6cfd_row1_col5, #T_c6cfd_row1_col6, #T_c6cfd_row2_col0, #T_c6cfd_row2_col1, #T_c6cfd_row2_col2, #T_c6cfd_row2_col3, #T_c6cfd_row2_col4, #T_c6cfd_row2_col5, #T_c6cfd_row2_col6, #T_c6cfd_row3_col0, #T_c6cfd_row3_col1, #T_c6cfd_row3_col2, #T_c6cfd_row3_col3, #T_c6cfd_row3_col4, #T_c6cfd_row3_col5, #T_c6cfd_row3_col6, #T_c6cfd_row4_col0, #T_c6cfd_row4_col1, #T_c6cfd_row4_col2, #T_c6cfd_row4_col3, #T_c6cfd_row4_col4, #T_c6cfd_row4_col5, #T_c6cfd_row4_col6, #T_c6cfd_row5_col0, #T_c6cfd_row5_col1, #T_c6cfd_row5_col2, #T_c6cfd_row5_col3, #T_c6cfd_row5_col4, #T_c6cfd_row5_col5, #T_c6cfd_row5_col6, #T_c6cfd_row6_col0, #T_c6cfd_row6_col1, #T_c6cfd_row6_col2, #T_c6cfd_row6_col3, #T_c6cfd_row6_col4, #T_c6cfd_row6_col5, #T_c6cfd_row6_col6, #T_c6cfd_row7_col0, #T_c6cfd_row7_col1, #T_c6cfd_row7_col2, #T_c6cfd_row7_col3, #T_c6cfd_row7_col4, #T_c6cfd_row7_col5, #T_c6cfd_row7_col6, #T_c6cfd_row8_col0, #T_c6cfd_row8_col1, #T_c6cfd_row8_col2, #T_c6cfd_row8_col3, #T_c6cfd_row8_col4, #T_c6cfd_row8_col5, #T_c6cfd_row8_col6, #T_c6cfd_row9_col0, #T_c6cfd_row9_col1, #T_c6cfd_row9_col2, #T_c6cfd_row9_col3, #T_c6cfd_row9_col4, #T_c6cfd_row9_col5, #T_c6cfd_row9_col6 {\n",
              "  text-align: center;\n",
              "  border: 1.3px solid red;\n",
              "  color: blue;\n",
              "}\n",
              "</style>\n",
              "<table id=\"T_c6cfd\" class=\"dataframe\">\n",
              "  <caption>Table 2.7.1: Scaled Features Training Undersampled Data</caption>\n",
              "  <thead>\n",
              "    <tr>\n",
              "      <th id=\"T_c6cfd_level0_col0\" class=\"col_heading level0 col0\" >loan_size</th>\n",
              "      <th id=\"T_c6cfd_level0_col1\" class=\"col_heading level0 col1\" >interest_rate</th>\n",
              "      <th id=\"T_c6cfd_level0_col2\" class=\"col_heading level0 col2\" >borrower_income</th>\n",
              "      <th id=\"T_c6cfd_level0_col3\" class=\"col_heading level0 col3\" >debt_to_income</th>\n",
              "      <th id=\"T_c6cfd_level0_col4\" class=\"col_heading level0 col4\" >num_of_accounts</th>\n",
              "      <th id=\"T_c6cfd_level0_col5\" class=\"col_heading level0 col5\" >derogatory_marks</th>\n",
              "      <th id=\"T_c6cfd_level0_col6\" class=\"col_heading level0 col6\" >total_debt</th>\n",
              "    </tr>\n",
              "  </thead>\n",
              "  <tbody>\n",
              "    <tr>\n",
              "      <td id=\"T_c6cfd_row0_col0\" class=\"data row0 col0\" >-0.62</td>\n",
              "      <td id=\"T_c6cfd_row0_col1\" class=\"data row0 col1\" >-0.63</td>\n",
              "      <td id=\"T_c6cfd_row0_col2\" class=\"data row0 col2\" >-0.63</td>\n",
              "      <td id=\"T_c6cfd_row0_col3\" class=\"data row0 col3\" >-0.74</td>\n",
              "      <td id=\"T_c6cfd_row0_col4\" class=\"data row0 col4\" >-0.43</td>\n",
              "      <td id=\"T_c6cfd_row0_col5\" class=\"data row0 col5\" >-0.67</td>\n",
              "      <td id=\"T_c6cfd_row0_col6\" class=\"data row0 col6\" >-0.63</td>\n",
              "    </tr>\n",
              "    <tr>\n",
              "      <td id=\"T_c6cfd_row1_col0\" class=\"data row1 col0\" >1.05</td>\n",
              "      <td id=\"T_c6cfd_row1_col1\" class=\"data row1 col1\" >1.05</td>\n",
              "      <td id=\"T_c6cfd_row1_col2\" class=\"data row1 col2\" >1.06</td>\n",
              "      <td id=\"T_c6cfd_row1_col3\" class=\"data row1 col3\" >1.30</td>\n",
              "      <td id=\"T_c6cfd_row1_col4\" class=\"data row1 col4\" >1.14</td>\n",
              "      <td id=\"T_c6cfd_row1_col5\" class=\"data row1 col5\" >1.04</td>\n",
              "      <td id=\"T_c6cfd_row1_col6\" class=\"data row1 col6\" >1.06</td>\n",
              "    </tr>\n",
              "    <tr>\n",
              "      <td id=\"T_c6cfd_row2_col0\" class=\"data row2 col0\" >0.14</td>\n",
              "      <td id=\"T_c6cfd_row2_col1\" class=\"data row2 col1\" >0.12</td>\n",
              "      <td id=\"T_c6cfd_row2_col2\" class=\"data row2 col2\" >0.12</td>\n",
              "      <td id=\"T_c6cfd_row2_col3\" class=\"data row2 col3\" >0.31</td>\n",
              "      <td id=\"T_c6cfd_row2_col4\" class=\"data row2 col4\" >0.09</td>\n",
              "      <td id=\"T_c6cfd_row2_col5\" class=\"data row2 col5\" >1.04</td>\n",
              "      <td id=\"T_c6cfd_row2_col6\" class=\"data row2 col6\" >0.12</td>\n",
              "    </tr>\n",
              "    <tr>\n",
              "      <td id=\"T_c6cfd_row3_col0\" class=\"data row3 col0\" >0.19</td>\n",
              "      <td id=\"T_c6cfd_row3_col1\" class=\"data row3 col1\" >0.21</td>\n",
              "      <td id=\"T_c6cfd_row3_col2\" class=\"data row3 col2\" >0.20</td>\n",
              "      <td id=\"T_c6cfd_row3_col3\" class=\"data row3 col3\" >0.41</td>\n",
              "      <td id=\"T_c6cfd_row3_col4\" class=\"data row3 col4\" >0.09</td>\n",
              "      <td id=\"T_c6cfd_row3_col5\" class=\"data row3 col5\" >1.04</td>\n",
              "      <td id=\"T_c6cfd_row3_col6\" class=\"data row3 col6\" >0.20</td>\n",
              "    </tr>\n",
              "    <tr>\n",
              "      <td id=\"T_c6cfd_row4_col0\" class=\"data row4 col0\" >-0.10</td>\n",
              "      <td id=\"T_c6cfd_row4_col1\" class=\"data row4 col1\" >-0.10</td>\n",
              "      <td id=\"T_c6cfd_row4_col2\" class=\"data row4 col2\" >-0.10</td>\n",
              "      <td id=\"T_c6cfd_row4_col3\" class=\"data row4 col3\" >0.04</td>\n",
              "      <td id=\"T_c6cfd_row4_col4\" class=\"data row4 col4\" >0.09</td>\n",
              "      <td id=\"T_c6cfd_row4_col5\" class=\"data row4 col5\" >-0.67</td>\n",
              "      <td id=\"T_c6cfd_row4_col6\" class=\"data row4 col6\" >-0.10</td>\n",
              "    </tr>\n",
              "    <tr>\n",
              "      <td id=\"T_c6cfd_row5_col0\" class=\"data row5 col0\" >0.71</td>\n",
              "      <td id=\"T_c6cfd_row5_col1\" class=\"data row5 col1\" >0.71</td>\n",
              "      <td id=\"T_c6cfd_row5_col2\" class=\"data row5 col2\" >0.71</td>\n",
              "      <td id=\"T_c6cfd_row5_col3\" class=\"data row5 col3\" >0.97</td>\n",
              "      <td id=\"T_c6cfd_row5_col4\" class=\"data row5 col4\" >0.61</td>\n",
              "      <td id=\"T_c6cfd_row5_col5\" class=\"data row5 col5\" >1.04</td>\n",
              "      <td id=\"T_c6cfd_row5_col6\" class=\"data row5 col6\" >0.71</td>\n",
              "    </tr>\n",
              "    <tr>\n",
              "      <td id=\"T_c6cfd_row6_col0\" class=\"data row6 col0\" >-0.81</td>\n",
              "      <td id=\"T_c6cfd_row6_col1\" class=\"data row6 col1\" >-0.81</td>\n",
              "      <td id=\"T_c6cfd_row6_col2\" class=\"data row6 col2\" >-0.81</td>\n",
              "      <td id=\"T_c6cfd_row6_col3\" class=\"data row6 col3\" >-1.04</td>\n",
              "      <td id=\"T_c6cfd_row6_col4\" class=\"data row6 col4\" >-0.96</td>\n",
              "      <td id=\"T_c6cfd_row6_col5\" class=\"data row6 col5\" >-0.67</td>\n",
              "      <td id=\"T_c6cfd_row6_col6\" class=\"data row6 col6\" >-0.81</td>\n",
              "    </tr>\n",
              "    <tr>\n",
              "      <td id=\"T_c6cfd_row7_col0\" class=\"data row7 col0\" >-0.48</td>\n",
              "      <td id=\"T_c6cfd_row7_col1\" class=\"data row7 col1\" >-0.49</td>\n",
              "      <td id=\"T_c6cfd_row7_col2\" class=\"data row7 col2\" >-0.49</td>\n",
              "      <td id=\"T_c6cfd_row7_col3\" class=\"data row7 col3\" >-0.52</td>\n",
              "      <td id=\"T_c6cfd_row7_col4\" class=\"data row7 col4\" >-0.43</td>\n",
              "      <td id=\"T_c6cfd_row7_col5\" class=\"data row7 col5\" >-0.67</td>\n",
              "      <td id=\"T_c6cfd_row7_col6\" class=\"data row7 col6\" >-0.49</td>\n",
              "    </tr>\n",
              "    <tr>\n",
              "      <td id=\"T_c6cfd_row8_col0\" class=\"data row8 col0\" >-0.62</td>\n",
              "      <td id=\"T_c6cfd_row8_col1\" class=\"data row8 col1\" >-0.64</td>\n",
              "      <td id=\"T_c6cfd_row8_col2\" class=\"data row8 col2\" >-0.63</td>\n",
              "      <td id=\"T_c6cfd_row8_col3\" class=\"data row8 col3\" >-0.74</td>\n",
              "      <td id=\"T_c6cfd_row8_col4\" class=\"data row8 col4\" >-0.43</td>\n",
              "      <td id=\"T_c6cfd_row8_col5\" class=\"data row8 col5\" >-0.67</td>\n",
              "      <td id=\"T_c6cfd_row8_col6\" class=\"data row8 col6\" >-0.63</td>\n",
              "    </tr>\n",
              "    <tr>\n",
              "      <td id=\"T_c6cfd_row9_col0\" class=\"data row9 col0\" >0.62</td>\n",
              "      <td id=\"T_c6cfd_row9_col1\" class=\"data row9 col1\" >0.60</td>\n",
              "      <td id=\"T_c6cfd_row9_col2\" class=\"data row9 col2\" >0.61</td>\n",
              "      <td id=\"T_c6cfd_row9_col3\" class=\"data row9 col3\" >0.86</td>\n",
              "      <td id=\"T_c6cfd_row9_col4\" class=\"data row9 col4\" >0.61</td>\n",
              "      <td id=\"T_c6cfd_row9_col5\" class=\"data row9 col5\" >1.04</td>\n",
              "      <td id=\"T_c6cfd_row9_col6\" class=\"data row9 col6\" >0.61</td>\n",
              "    </tr>\n",
              "  </tbody>\n",
              "</table>\n"
            ],
            "text/plain": [
              "<pandas.io.formats.style.Styler at 0x7c62e0a92fb0>"
            ]
          },
          "execution_count": 32,
          "metadata": {},
          "output_type": "execute_result"
        }
      ],
      "source": [
        "pandasx.return_formatted_table \\\n",
        "    (x_train_scaled_undersampled_dataframe,\n",
        "     'Table 2.7.1: Scaled Features Training Undersampled Data')"
      ]
    },
    {
      "cell_type": "code",
      "execution_count": null,
      "id": "tlgufA2uuo-G",
      "metadata": {
        "colab": {
          "base_uri": "https://localhost:8080/",
          "height": 398
        },
        "id": "tlgufA2uuo-G",
        "outputId": "a5894e30-0f2f-486a-8f25-a2896d936982"
      },
      "outputs": [
        {
          "data": {
            "text/html": [
              "<style type=\"text/css\">\n",
              "#T_d7bd4 caption {\n",
              "  color: black;\n",
              "  font-size: 20px;\n",
              "  font-style: bold;\n",
              "  text-align: center;\n",
              "}\n",
              "#T_d7bd4_row0_col0, #T_d7bd4_row0_col1, #T_d7bd4_row0_col2, #T_d7bd4_row0_col3, #T_d7bd4_row0_col4, #T_d7bd4_row0_col5, #T_d7bd4_row0_col6, #T_d7bd4_row1_col0, #T_d7bd4_row1_col1, #T_d7bd4_row1_col2, #T_d7bd4_row1_col3, #T_d7bd4_row1_col4, #T_d7bd4_row1_col5, #T_d7bd4_row1_col6, #T_d7bd4_row2_col0, #T_d7bd4_row2_col1, #T_d7bd4_row2_col2, #T_d7bd4_row2_col3, #T_d7bd4_row2_col4, #T_d7bd4_row2_col5, #T_d7bd4_row2_col6, #T_d7bd4_row3_col0, #T_d7bd4_row3_col1, #T_d7bd4_row3_col2, #T_d7bd4_row3_col3, #T_d7bd4_row3_col4, #T_d7bd4_row3_col5, #T_d7bd4_row3_col6, #T_d7bd4_row4_col0, #T_d7bd4_row4_col1, #T_d7bd4_row4_col2, #T_d7bd4_row4_col3, #T_d7bd4_row4_col4, #T_d7bd4_row4_col5, #T_d7bd4_row4_col6, #T_d7bd4_row5_col0, #T_d7bd4_row5_col1, #T_d7bd4_row5_col2, #T_d7bd4_row5_col3, #T_d7bd4_row5_col4, #T_d7bd4_row5_col5, #T_d7bd4_row5_col6, #T_d7bd4_row6_col0, #T_d7bd4_row6_col1, #T_d7bd4_row6_col2, #T_d7bd4_row6_col3, #T_d7bd4_row6_col4, #T_d7bd4_row6_col5, #T_d7bd4_row6_col6, #T_d7bd4_row7_col0, #T_d7bd4_row7_col1, #T_d7bd4_row7_col2, #T_d7bd4_row7_col3, #T_d7bd4_row7_col4, #T_d7bd4_row7_col5, #T_d7bd4_row7_col6, #T_d7bd4_row8_col0, #T_d7bd4_row8_col1, #T_d7bd4_row8_col2, #T_d7bd4_row8_col3, #T_d7bd4_row8_col4, #T_d7bd4_row8_col5, #T_d7bd4_row8_col6, #T_d7bd4_row9_col0, #T_d7bd4_row9_col1, #T_d7bd4_row9_col2, #T_d7bd4_row9_col3, #T_d7bd4_row9_col4, #T_d7bd4_row9_col5, #T_d7bd4_row9_col6 {\n",
              "  text-align: center;\n",
              "  border: 1.3px solid red;\n",
              "  color: blue;\n",
              "}\n",
              "</style>\n",
              "<table id=\"T_d7bd4\" class=\"dataframe\">\n",
              "  <caption>Table 2.7.2: Scaled Features Training Oversampled Data</caption>\n",
              "  <thead>\n",
              "    <tr>\n",
              "      <th id=\"T_d7bd4_level0_col0\" class=\"col_heading level0 col0\" >loan_size</th>\n",
              "      <th id=\"T_d7bd4_level0_col1\" class=\"col_heading level0 col1\" >interest_rate</th>\n",
              "      <th id=\"T_d7bd4_level0_col2\" class=\"col_heading level0 col2\" >borrower_income</th>\n",
              "      <th id=\"T_d7bd4_level0_col3\" class=\"col_heading level0 col3\" >debt_to_income</th>\n",
              "      <th id=\"T_d7bd4_level0_col4\" class=\"col_heading level0 col4\" >num_of_accounts</th>\n",
              "      <th id=\"T_d7bd4_level0_col5\" class=\"col_heading level0 col5\" >derogatory_marks</th>\n",
              "      <th id=\"T_d7bd4_level0_col6\" class=\"col_heading level0 col6\" >total_debt</th>\n",
              "    </tr>\n",
              "  </thead>\n",
              "  <tbody>\n",
              "    <tr>\n",
              "      <td id=\"T_d7bd4_row0_col0\" class=\"data row0 col0\" >-0.34</td>\n",
              "      <td id=\"T_d7bd4_row0_col1\" class=\"data row0 col1\" >-0.33</td>\n",
              "      <td id=\"T_d7bd4_row0_col2\" class=\"data row0 col2\" >-0.34</td>\n",
              "      <td id=\"T_d7bd4_row0_col3\" class=\"data row0 col3\" >-0.29</td>\n",
              "      <td id=\"T_d7bd4_row0_col4\" class=\"data row0 col4\" >-0.43</td>\n",
              "      <td id=\"T_d7bd4_row0_col5\" class=\"data row0 col5\" >-0.67</td>\n",
              "      <td id=\"T_d7bd4_row0_col6\" class=\"data row0 col6\" >-0.34</td>\n",
              "    </tr>\n",
              "    <tr>\n",
              "      <td id=\"T_d7bd4_row1_col0\" class=\"data row1 col0\" >-0.57</td>\n",
              "      <td id=\"T_d7bd4_row1_col1\" class=\"data row1 col1\" >-0.60</td>\n",
              "      <td id=\"T_d7bd4_row1_col2\" class=\"data row1 col2\" >-0.60</td>\n",
              "      <td id=\"T_d7bd4_row1_col3\" class=\"data row1 col3\" >-0.68</td>\n",
              "      <td id=\"T_d7bd4_row1_col4\" class=\"data row1 col4\" >-0.43</td>\n",
              "      <td id=\"T_d7bd4_row1_col5\" class=\"data row1 col5\" >-0.67</td>\n",
              "      <td id=\"T_d7bd4_row1_col6\" class=\"data row1 col6\" >-0.60</td>\n",
              "    </tr>\n",
              "    <tr>\n",
              "      <td id=\"T_d7bd4_row2_col0\" class=\"data row2 col0\" >0.38</td>\n",
              "      <td id=\"T_d7bd4_row2_col1\" class=\"data row2 col1\" >0.39</td>\n",
              "      <td id=\"T_d7bd4_row2_col2\" class=\"data row2 col2\" >0.39</td>\n",
              "      <td id=\"T_d7bd4_row2_col3\" class=\"data row2 col3\" >0.63</td>\n",
              "      <td id=\"T_d7bd4_row2_col4\" class=\"data row2 col4\" >0.61</td>\n",
              "      <td id=\"T_d7bd4_row2_col5\" class=\"data row2 col5\" >1.04</td>\n",
              "      <td id=\"T_d7bd4_row2_col6\" class=\"data row2 col6\" >0.39</td>\n",
              "    </tr>\n",
              "    <tr>\n",
              "      <td id=\"T_d7bd4_row3_col0\" class=\"data row3 col0\" >-0.57</td>\n",
              "      <td id=\"T_d7bd4_row3_col1\" class=\"data row3 col1\" >-0.57</td>\n",
              "      <td id=\"T_d7bd4_row3_col2\" class=\"data row3 col2\" >-0.56</td>\n",
              "      <td id=\"T_d7bd4_row3_col3\" class=\"data row3 col3\" >-0.63</td>\n",
              "      <td id=\"T_d7bd4_row3_col4\" class=\"data row3 col4\" >-0.43</td>\n",
              "      <td id=\"T_d7bd4_row3_col5\" class=\"data row3 col5\" >-0.67</td>\n",
              "      <td id=\"T_d7bd4_row3_col6\" class=\"data row3 col6\" >-0.56</td>\n",
              "    </tr>\n",
              "    <tr>\n",
              "      <td id=\"T_d7bd4_row4_col0\" class=\"data row4 col0\" >-1.00</td>\n",
              "      <td id=\"T_d7bd4_row4_col1\" class=\"data row4 col1\" >-0.98</td>\n",
              "      <td id=\"T_d7bd4_row4_col2\" class=\"data row4 col2\" >-0.98</td>\n",
              "      <td id=\"T_d7bd4_row4_col3\" class=\"data row4 col3\" >-1.33</td>\n",
              "      <td id=\"T_d7bd4_row4_col4\" class=\"data row4 col4\" >-0.96</td>\n",
              "      <td id=\"T_d7bd4_row4_col5\" class=\"data row4 col5\" >-0.67</td>\n",
              "      <td id=\"T_d7bd4_row4_col6\" class=\"data row4 col6\" >-0.98</td>\n",
              "    </tr>\n",
              "    <tr>\n",
              "      <td id=\"T_d7bd4_row5_col0\" class=\"data row5 col0\" >-0.10</td>\n",
              "      <td id=\"T_d7bd4_row5_col1\" class=\"data row5 col1\" >-0.11</td>\n",
              "      <td id=\"T_d7bd4_row5_col2\" class=\"data row5 col2\" >-0.11</td>\n",
              "      <td id=\"T_d7bd4_row5_col3\" class=\"data row5 col3\" >0.02</td>\n",
              "      <td id=\"T_d7bd4_row5_col4\" class=\"data row5 col4\" >0.09</td>\n",
              "      <td id=\"T_d7bd4_row5_col5\" class=\"data row5 col5\" >-0.67</td>\n",
              "      <td id=\"T_d7bd4_row5_col6\" class=\"data row5 col6\" >-0.11</td>\n",
              "    </tr>\n",
              "    <tr>\n",
              "      <td id=\"T_d7bd4_row6_col0\" class=\"data row6 col0\" >-0.77</td>\n",
              "      <td id=\"T_d7bd4_row6_col1\" class=\"data row6 col1\" >-0.78</td>\n",
              "      <td id=\"T_d7bd4_row6_col2\" class=\"data row6 col2\" >-0.78</td>\n",
              "      <td id=\"T_d7bd4_row6_col3\" class=\"data row6 col3\" >-0.98</td>\n",
              "      <td id=\"T_d7bd4_row6_col4\" class=\"data row6 col4\" >-0.96</td>\n",
              "      <td id=\"T_d7bd4_row6_col5\" class=\"data row6 col5\" >-0.67</td>\n",
              "      <td id=\"T_d7bd4_row6_col6\" class=\"data row6 col6\" >-0.78</td>\n",
              "    </tr>\n",
              "    <tr>\n",
              "      <td id=\"T_d7bd4_row7_col0\" class=\"data row7 col0\" >-1.05</td>\n",
              "      <td id=\"T_d7bd4_row7_col1\" class=\"data row7 col1\" >-1.06</td>\n",
              "      <td id=\"T_d7bd4_row7_col2\" class=\"data row7 col2\" >-1.06</td>\n",
              "      <td id=\"T_d7bd4_row7_col3\" class=\"data row7 col3\" >-1.49</td>\n",
              "      <td id=\"T_d7bd4_row7_col4\" class=\"data row7 col4\" >-0.96</td>\n",
              "      <td id=\"T_d7bd4_row7_col5\" class=\"data row7 col5\" >-0.67</td>\n",
              "      <td id=\"T_d7bd4_row7_col6\" class=\"data row7 col6\" >-1.06</td>\n",
              "    </tr>\n",
              "    <tr>\n",
              "      <td id=\"T_d7bd4_row8_col0\" class=\"data row8 col0\" >-0.96</td>\n",
              "      <td id=\"T_d7bd4_row8_col1\" class=\"data row8 col1\" >-0.97</td>\n",
              "      <td id=\"T_d7bd4_row8_col2\" class=\"data row8 col2\" >-0.97</td>\n",
              "      <td id=\"T_d7bd4_row8_col3\" class=\"data row8 col3\" >-1.31</td>\n",
              "      <td id=\"T_d7bd4_row8_col4\" class=\"data row8 col4\" >-0.96</td>\n",
              "      <td id=\"T_d7bd4_row8_col5\" class=\"data row8 col5\" >-0.67</td>\n",
              "      <td id=\"T_d7bd4_row8_col6\" class=\"data row8 col6\" >-0.97</td>\n",
              "    </tr>\n",
              "    <tr>\n",
              "      <td id=\"T_d7bd4_row9_col0\" class=\"data row9 col0\" >0.19</td>\n",
              "      <td id=\"T_d7bd4_row9_col1\" class=\"data row9 col1\" >0.17</td>\n",
              "      <td id=\"T_d7bd4_row9_col2\" class=\"data row9 col2\" >0.18</td>\n",
              "      <td id=\"T_d7bd4_row9_col3\" class=\"data row9 col3\" >0.38</td>\n",
              "      <td id=\"T_d7bd4_row9_col4\" class=\"data row9 col4\" >0.09</td>\n",
              "      <td id=\"T_d7bd4_row9_col5\" class=\"data row9 col5\" >1.04</td>\n",
              "      <td id=\"T_d7bd4_row9_col6\" class=\"data row9 col6\" >0.18</td>\n",
              "    </tr>\n",
              "  </tbody>\n",
              "</table>\n"
            ],
            "text/plain": [
              "<pandas.io.formats.style.Styler at 0x7c62e0af6260>"
            ]
          },
          "execution_count": 33,
          "metadata": {},
          "output_type": "execute_result"
        }
      ],
      "source": [
        "pandasx.return_formatted_table \\\n",
        "    (x_train_scaled_oversampled_dataframe,\n",
        "     'Table 2.7.2: Scaled Features Training Oversampled Data')"
      ]
    },
    {
      "cell_type": "code",
      "execution_count": null,
      "id": "bbEzazliuo-H",
      "metadata": {
        "colab": {
          "base_uri": "https://localhost:8080/",
          "height": 398
        },
        "id": "bbEzazliuo-H",
        "outputId": "68221ccf-ea78-453a-ec83-6d29f6d4e74b"
      },
      "outputs": [
        {
          "data": {
            "text/html": [
              "<style type=\"text/css\">\n",
              "#T_757cb caption {\n",
              "  color: black;\n",
              "  font-size: 20px;\n",
              "  font-style: bold;\n",
              "  text-align: center;\n",
              "}\n",
              "#T_757cb_row0_col0, #T_757cb_row0_col1, #T_757cb_row0_col2, #T_757cb_row0_col3, #T_757cb_row0_col4, #T_757cb_row0_col5, #T_757cb_row0_col6, #T_757cb_row1_col0, #T_757cb_row1_col1, #T_757cb_row1_col2, #T_757cb_row1_col3, #T_757cb_row1_col4, #T_757cb_row1_col5, #T_757cb_row1_col6, #T_757cb_row2_col0, #T_757cb_row2_col1, #T_757cb_row2_col2, #T_757cb_row2_col3, #T_757cb_row2_col4, #T_757cb_row2_col5, #T_757cb_row2_col6, #T_757cb_row3_col0, #T_757cb_row3_col1, #T_757cb_row3_col2, #T_757cb_row3_col3, #T_757cb_row3_col4, #T_757cb_row3_col5, #T_757cb_row3_col6, #T_757cb_row4_col0, #T_757cb_row4_col1, #T_757cb_row4_col2, #T_757cb_row4_col3, #T_757cb_row4_col4, #T_757cb_row4_col5, #T_757cb_row4_col6, #T_757cb_row5_col0, #T_757cb_row5_col1, #T_757cb_row5_col2, #T_757cb_row5_col3, #T_757cb_row5_col4, #T_757cb_row5_col5, #T_757cb_row5_col6, #T_757cb_row6_col0, #T_757cb_row6_col1, #T_757cb_row6_col2, #T_757cb_row6_col3, #T_757cb_row6_col4, #T_757cb_row6_col5, #T_757cb_row6_col6, #T_757cb_row7_col0, #T_757cb_row7_col1, #T_757cb_row7_col2, #T_757cb_row7_col3, #T_757cb_row7_col4, #T_757cb_row7_col5, #T_757cb_row7_col6, #T_757cb_row8_col0, #T_757cb_row8_col1, #T_757cb_row8_col2, #T_757cb_row8_col3, #T_757cb_row8_col4, #T_757cb_row8_col5, #T_757cb_row8_col6, #T_757cb_row9_col0, #T_757cb_row9_col1, #T_757cb_row9_col2, #T_757cb_row9_col3, #T_757cb_row9_col4, #T_757cb_row9_col5, #T_757cb_row9_col6 {\n",
              "  text-align: center;\n",
              "  border: 1.3px solid red;\n",
              "  color: blue;\n",
              "}\n",
              "</style>\n",
              "<table id=\"T_757cb\" class=\"dataframe\">\n",
              "  <caption>Table 2.7.3: Scaled Features Training Cluster Centroids Data</caption>\n",
              "  <thead>\n",
              "    <tr>\n",
              "      <th id=\"T_757cb_level0_col0\" class=\"col_heading level0 col0\" >loan_size</th>\n",
              "      <th id=\"T_757cb_level0_col1\" class=\"col_heading level0 col1\" >interest_rate</th>\n",
              "      <th id=\"T_757cb_level0_col2\" class=\"col_heading level0 col2\" >borrower_income</th>\n",
              "      <th id=\"T_757cb_level0_col3\" class=\"col_heading level0 col3\" >debt_to_income</th>\n",
              "      <th id=\"T_757cb_level0_col4\" class=\"col_heading level0 col4\" >num_of_accounts</th>\n",
              "      <th id=\"T_757cb_level0_col5\" class=\"col_heading level0 col5\" >derogatory_marks</th>\n",
              "      <th id=\"T_757cb_level0_col6\" class=\"col_heading level0 col6\" >total_debt</th>\n",
              "    </tr>\n",
              "  </thead>\n",
              "  <tbody>\n",
              "    <tr>\n",
              "      <td id=\"T_757cb_row0_col0\" class=\"data row0 col0\" >0.81</td>\n",
              "      <td id=\"T_757cb_row0_col1\" class=\"data row0 col1\" >0.80</td>\n",
              "      <td id=\"T_757cb_row0_col2\" class=\"data row0 col2\" >0.80</td>\n",
              "      <td id=\"T_757cb_row0_col3\" class=\"data row0 col3\" >1.05</td>\n",
              "      <td id=\"T_757cb_row0_col4\" class=\"data row0 col4\" >0.61</td>\n",
              "      <td id=\"T_757cb_row0_col5\" class=\"data row0 col5\" >1.04</td>\n",
              "      <td id=\"T_757cb_row0_col6\" class=\"data row0 col6\" >0.80</td>\n",
              "    </tr>\n",
              "    <tr>\n",
              "      <td id=\"T_757cb_row1_col0\" class=\"data row1 col0\" >-0.48</td>\n",
              "      <td id=\"T_757cb_row1_col1\" class=\"data row1 col1\" >-0.48</td>\n",
              "      <td id=\"T_757cb_row1_col2\" class=\"data row1 col2\" >-0.48</td>\n",
              "      <td id=\"T_757cb_row1_col3\" class=\"data row1 col3\" >-0.50</td>\n",
              "      <td id=\"T_757cb_row1_col4\" class=\"data row1 col4\" >-0.43</td>\n",
              "      <td id=\"T_757cb_row1_col5\" class=\"data row1 col5\" >-0.67</td>\n",
              "      <td id=\"T_757cb_row1_col6\" class=\"data row1 col6\" >-0.48</td>\n",
              "    </tr>\n",
              "    <tr>\n",
              "      <td id=\"T_757cb_row2_col0\" class=\"data row2 col0\" >-1.10</td>\n",
              "      <td id=\"T_757cb_row2_col1\" class=\"data row2 col1\" >-1.08</td>\n",
              "      <td id=\"T_757cb_row2_col2\" class=\"data row2 col2\" >-1.09</td>\n",
              "      <td id=\"T_757cb_row2_col3\" class=\"data row2 col3\" >-1.53</td>\n",
              "      <td id=\"T_757cb_row2_col4\" class=\"data row2 col4\" >-0.96</td>\n",
              "      <td id=\"T_757cb_row2_col5\" class=\"data row2 col5\" >-0.67</td>\n",
              "      <td id=\"T_757cb_row2_col6\" class=\"data row2 col6\" >-1.09</td>\n",
              "    </tr>\n",
              "    <tr>\n",
              "      <td id=\"T_757cb_row3_col0\" class=\"data row3 col0\" >4.81</td>\n",
              "      <td id=\"T_757cb_row3_col1\" class=\"data row3 col1\" >4.80</td>\n",
              "      <td id=\"T_757cb_row3_col2\" class=\"data row3 col2\" >4.80</td>\n",
              "      <td id=\"T_757cb_row3_col3\" class=\"data row3 col3\" >3.52</td>\n",
              "      <td id=\"T_757cb_row3_col4\" class=\"data row3 col4\" >4.81</td>\n",
              "      <td id=\"T_757cb_row3_col5\" class=\"data row3 col5\" >2.76</td>\n",
              "      <td id=\"T_757cb_row3_col6\" class=\"data row3 col6\" >4.80</td>\n",
              "    </tr>\n",
              "    <tr>\n",
              "      <td id=\"T_757cb_row4_col0\" class=\"data row4 col0\" >0.28</td>\n",
              "      <td id=\"T_757cb_row4_col1\" class=\"data row4 col1\" >0.30</td>\n",
              "      <td id=\"T_757cb_row4_col2\" class=\"data row4 col2\" >0.30</td>\n",
              "      <td id=\"T_757cb_row4_col3\" class=\"data row4 col3\" >0.52</td>\n",
              "      <td id=\"T_757cb_row4_col4\" class=\"data row4 col4\" >0.09</td>\n",
              "      <td id=\"T_757cb_row4_col5\" class=\"data row4 col5\" >1.04</td>\n",
              "      <td id=\"T_757cb_row4_col6\" class=\"data row4 col6\" >0.30</td>\n",
              "    </tr>\n",
              "    <tr>\n",
              "      <td id=\"T_757cb_row5_col0\" class=\"data row5 col0\" >-0.05</td>\n",
              "      <td id=\"T_757cb_row5_col1\" class=\"data row5 col1\" >-0.05</td>\n",
              "      <td id=\"T_757cb_row5_col2\" class=\"data row5 col2\" >-0.05</td>\n",
              "      <td id=\"T_757cb_row5_col3\" class=\"data row5 col3\" >0.10</td>\n",
              "      <td id=\"T_757cb_row5_col4\" class=\"data row5 col4\" >0.09</td>\n",
              "      <td id=\"T_757cb_row5_col5\" class=\"data row5 col5\" >-0.67</td>\n",
              "      <td id=\"T_757cb_row5_col6\" class=\"data row5 col6\" >-0.05</td>\n",
              "    </tr>\n",
              "    <tr>\n",
              "      <td id=\"T_757cb_row6_col0\" class=\"data row6 col0\" >-0.77</td>\n",
              "      <td id=\"T_757cb_row6_col1\" class=\"data row6 col1\" >-0.75</td>\n",
              "      <td id=\"T_757cb_row6_col2\" class=\"data row6 col2\" >-0.74</td>\n",
              "      <td id=\"T_757cb_row6_col3\" class=\"data row6 col3\" >-0.92</td>\n",
              "      <td id=\"T_757cb_row6_col4\" class=\"data row6 col4\" >-0.96</td>\n",
              "      <td id=\"T_757cb_row6_col5\" class=\"data row6 col5\" >-0.67</td>\n",
              "      <td id=\"T_757cb_row6_col6\" class=\"data row6 col6\" >-0.74</td>\n",
              "    </tr>\n",
              "    <tr>\n",
              "      <td id=\"T_757cb_row7_col0\" class=\"data row7 col0\" >-0.29</td>\n",
              "      <td id=\"T_757cb_row7_col1\" class=\"data row7 col1\" >-0.27</td>\n",
              "      <td id=\"T_757cb_row7_col2\" class=\"data row7 col2\" >-0.28</td>\n",
              "      <td id=\"T_757cb_row7_col3\" class=\"data row7 col3\" >-0.21</td>\n",
              "      <td id=\"T_757cb_row7_col4\" class=\"data row7 col4\" >-0.43</td>\n",
              "      <td id=\"T_757cb_row7_col5\" class=\"data row7 col5\" >-0.67</td>\n",
              "      <td id=\"T_757cb_row7_col6\" class=\"data row7 col6\" >-0.28</td>\n",
              "    </tr>\n",
              "    <tr>\n",
              "      <td id=\"T_757cb_row8_col0\" class=\"data row8 col0\" >-1.62</td>\n",
              "      <td id=\"T_757cb_row8_col1\" class=\"data row8 col1\" >-1.63</td>\n",
              "      <td id=\"T_757cb_row8_col2\" class=\"data row8 col2\" >-1.62</td>\n",
              "      <td id=\"T_757cb_row8_col3\" class=\"data row8 col3\" >-2.69</td>\n",
              "      <td id=\"T_757cb_row8_col4\" class=\"data row8 col4\" >-1.48</td>\n",
              "      <td id=\"T_757cb_row8_col5\" class=\"data row8 col5\" >-0.67</td>\n",
              "      <td id=\"T_757cb_row8_col6\" class=\"data row8 col6\" >-1.62</td>\n",
              "    </tr>\n",
              "    <tr>\n",
              "      <td id=\"T_757cb_row9_col0\" class=\"data row9 col0\" >0.38</td>\n",
              "      <td id=\"T_757cb_row9_col1\" class=\"data row9 col1\" >0.37</td>\n",
              "      <td id=\"T_757cb_row9_col2\" class=\"data row9 col2\" >0.37</td>\n",
              "      <td id=\"T_757cb_row9_col3\" class=\"data row9 col3\" >0.60</td>\n",
              "      <td id=\"T_757cb_row9_col4\" class=\"data row9 col4\" >0.61</td>\n",
              "      <td id=\"T_757cb_row9_col5\" class=\"data row9 col5\" >1.04</td>\n",
              "      <td id=\"T_757cb_row9_col6\" class=\"data row9 col6\" >0.37</td>\n",
              "    </tr>\n",
              "  </tbody>\n",
              "</table>\n"
            ],
            "text/plain": [
              "<pandas.io.formats.style.Styler at 0x7c62e0af6140>"
            ]
          },
          "execution_count": 34,
          "metadata": {},
          "output_type": "execute_result"
        }
      ],
      "source": [
        "pandasx.return_formatted_table \\\n",
        "    (x_train_scaled_cluster_centroids_dataframe,\n",
        "     'Table 2.7.3: Scaled Features Training Cluster Centroids Data')"
      ]
    },
    {
      "cell_type": "code",
      "execution_count": null,
      "id": "-Yghuvq5uo-H",
      "metadata": {
        "colab": {
          "base_uri": "https://localhost:8080/",
          "height": 398
        },
        "id": "-Yghuvq5uo-H",
        "outputId": "2f7b6f41-4a24-4907-92b5-daa5464fbbd3"
      },
      "outputs": [
        {
          "data": {
            "text/html": [
              "<style type=\"text/css\">\n",
              "#T_5c693 caption {\n",
              "  color: black;\n",
              "  font-size: 20px;\n",
              "  font-style: bold;\n",
              "  text-align: center;\n",
              "}\n",
              "#T_5c693_row0_col0, #T_5c693_row0_col1, #T_5c693_row0_col2, #T_5c693_row0_col3, #T_5c693_row0_col4, #T_5c693_row0_col5, #T_5c693_row0_col6, #T_5c693_row1_col0, #T_5c693_row1_col1, #T_5c693_row1_col2, #T_5c693_row1_col3, #T_5c693_row1_col4, #T_5c693_row1_col5, #T_5c693_row1_col6, #T_5c693_row2_col0, #T_5c693_row2_col1, #T_5c693_row2_col2, #T_5c693_row2_col3, #T_5c693_row2_col4, #T_5c693_row2_col5, #T_5c693_row2_col6, #T_5c693_row3_col0, #T_5c693_row3_col1, #T_5c693_row3_col2, #T_5c693_row3_col3, #T_5c693_row3_col4, #T_5c693_row3_col5, #T_5c693_row3_col6, #T_5c693_row4_col0, #T_5c693_row4_col1, #T_5c693_row4_col2, #T_5c693_row4_col3, #T_5c693_row4_col4, #T_5c693_row4_col5, #T_5c693_row4_col6, #T_5c693_row5_col0, #T_5c693_row5_col1, #T_5c693_row5_col2, #T_5c693_row5_col3, #T_5c693_row5_col4, #T_5c693_row5_col5, #T_5c693_row5_col6, #T_5c693_row6_col0, #T_5c693_row6_col1, #T_5c693_row6_col2, #T_5c693_row6_col3, #T_5c693_row6_col4, #T_5c693_row6_col5, #T_5c693_row6_col6, #T_5c693_row7_col0, #T_5c693_row7_col1, #T_5c693_row7_col2, #T_5c693_row7_col3, #T_5c693_row7_col4, #T_5c693_row7_col5, #T_5c693_row7_col6, #T_5c693_row8_col0, #T_5c693_row8_col1, #T_5c693_row8_col2, #T_5c693_row8_col3, #T_5c693_row8_col4, #T_5c693_row8_col5, #T_5c693_row8_col6, #T_5c693_row9_col0, #T_5c693_row9_col1, #T_5c693_row9_col2, #T_5c693_row9_col3, #T_5c693_row9_col4, #T_5c693_row9_col5, #T_5c693_row9_col6 {\n",
              "  text-align: center;\n",
              "  border: 1.3px solid red;\n",
              "  color: blue;\n",
              "}\n",
              "</style>\n",
              "<table id=\"T_5c693\" class=\"dataframe\">\n",
              "  <caption>Table 2.7.4: Scaled Features Training SMOTE Data</caption>\n",
              "  <thead>\n",
              "    <tr>\n",
              "      <th id=\"T_5c693_level0_col0\" class=\"col_heading level0 col0\" >loan_size</th>\n",
              "      <th id=\"T_5c693_level0_col1\" class=\"col_heading level0 col1\" >interest_rate</th>\n",
              "      <th id=\"T_5c693_level0_col2\" class=\"col_heading level0 col2\" >borrower_income</th>\n",
              "      <th id=\"T_5c693_level0_col3\" class=\"col_heading level0 col3\" >debt_to_income</th>\n",
              "      <th id=\"T_5c693_level0_col4\" class=\"col_heading level0 col4\" >num_of_accounts</th>\n",
              "      <th id=\"T_5c693_level0_col5\" class=\"col_heading level0 col5\" >derogatory_marks</th>\n",
              "      <th id=\"T_5c693_level0_col6\" class=\"col_heading level0 col6\" >total_debt</th>\n",
              "    </tr>\n",
              "  </thead>\n",
              "  <tbody>\n",
              "    <tr>\n",
              "      <td id=\"T_5c693_row0_col0\" class=\"data row0 col0\" >-0.34</td>\n",
              "      <td id=\"T_5c693_row0_col1\" class=\"data row0 col1\" >-0.33</td>\n",
              "      <td id=\"T_5c693_row0_col2\" class=\"data row0 col2\" >-0.34</td>\n",
              "      <td id=\"T_5c693_row0_col3\" class=\"data row0 col3\" >-0.29</td>\n",
              "      <td id=\"T_5c693_row0_col4\" class=\"data row0 col4\" >-0.43</td>\n",
              "      <td id=\"T_5c693_row0_col5\" class=\"data row0 col5\" >-0.67</td>\n",
              "      <td id=\"T_5c693_row0_col6\" class=\"data row0 col6\" >-0.34</td>\n",
              "    </tr>\n",
              "    <tr>\n",
              "      <td id=\"T_5c693_row1_col0\" class=\"data row1 col0\" >-0.57</td>\n",
              "      <td id=\"T_5c693_row1_col1\" class=\"data row1 col1\" >-0.60</td>\n",
              "      <td id=\"T_5c693_row1_col2\" class=\"data row1 col2\" >-0.60</td>\n",
              "      <td id=\"T_5c693_row1_col3\" class=\"data row1 col3\" >-0.68</td>\n",
              "      <td id=\"T_5c693_row1_col4\" class=\"data row1 col4\" >-0.43</td>\n",
              "      <td id=\"T_5c693_row1_col5\" class=\"data row1 col5\" >-0.67</td>\n",
              "      <td id=\"T_5c693_row1_col6\" class=\"data row1 col6\" >-0.60</td>\n",
              "    </tr>\n",
              "    <tr>\n",
              "      <td id=\"T_5c693_row2_col0\" class=\"data row2 col0\" >0.38</td>\n",
              "      <td id=\"T_5c693_row2_col1\" class=\"data row2 col1\" >0.39</td>\n",
              "      <td id=\"T_5c693_row2_col2\" class=\"data row2 col2\" >0.39</td>\n",
              "      <td id=\"T_5c693_row2_col3\" class=\"data row2 col3\" >0.63</td>\n",
              "      <td id=\"T_5c693_row2_col4\" class=\"data row2 col4\" >0.61</td>\n",
              "      <td id=\"T_5c693_row2_col5\" class=\"data row2 col5\" >1.04</td>\n",
              "      <td id=\"T_5c693_row2_col6\" class=\"data row2 col6\" >0.39</td>\n",
              "    </tr>\n",
              "    <tr>\n",
              "      <td id=\"T_5c693_row3_col0\" class=\"data row3 col0\" >-0.57</td>\n",
              "      <td id=\"T_5c693_row3_col1\" class=\"data row3 col1\" >-0.57</td>\n",
              "      <td id=\"T_5c693_row3_col2\" class=\"data row3 col2\" >-0.56</td>\n",
              "      <td id=\"T_5c693_row3_col3\" class=\"data row3 col3\" >-0.63</td>\n",
              "      <td id=\"T_5c693_row3_col4\" class=\"data row3 col4\" >-0.43</td>\n",
              "      <td id=\"T_5c693_row3_col5\" class=\"data row3 col5\" >-0.67</td>\n",
              "      <td id=\"T_5c693_row3_col6\" class=\"data row3 col6\" >-0.56</td>\n",
              "    </tr>\n",
              "    <tr>\n",
              "      <td id=\"T_5c693_row4_col0\" class=\"data row4 col0\" >-1.00</td>\n",
              "      <td id=\"T_5c693_row4_col1\" class=\"data row4 col1\" >-0.98</td>\n",
              "      <td id=\"T_5c693_row4_col2\" class=\"data row4 col2\" >-0.98</td>\n",
              "      <td id=\"T_5c693_row4_col3\" class=\"data row4 col3\" >-1.33</td>\n",
              "      <td id=\"T_5c693_row4_col4\" class=\"data row4 col4\" >-0.96</td>\n",
              "      <td id=\"T_5c693_row4_col5\" class=\"data row4 col5\" >-0.67</td>\n",
              "      <td id=\"T_5c693_row4_col6\" class=\"data row4 col6\" >-0.98</td>\n",
              "    </tr>\n",
              "    <tr>\n",
              "      <td id=\"T_5c693_row5_col0\" class=\"data row5 col0\" >-0.10</td>\n",
              "      <td id=\"T_5c693_row5_col1\" class=\"data row5 col1\" >-0.11</td>\n",
              "      <td id=\"T_5c693_row5_col2\" class=\"data row5 col2\" >-0.11</td>\n",
              "      <td id=\"T_5c693_row5_col3\" class=\"data row5 col3\" >0.02</td>\n",
              "      <td id=\"T_5c693_row5_col4\" class=\"data row5 col4\" >0.09</td>\n",
              "      <td id=\"T_5c693_row5_col5\" class=\"data row5 col5\" >-0.67</td>\n",
              "      <td id=\"T_5c693_row5_col6\" class=\"data row5 col6\" >-0.11</td>\n",
              "    </tr>\n",
              "    <tr>\n",
              "      <td id=\"T_5c693_row6_col0\" class=\"data row6 col0\" >-0.77</td>\n",
              "      <td id=\"T_5c693_row6_col1\" class=\"data row6 col1\" >-0.78</td>\n",
              "      <td id=\"T_5c693_row6_col2\" class=\"data row6 col2\" >-0.78</td>\n",
              "      <td id=\"T_5c693_row6_col3\" class=\"data row6 col3\" >-0.98</td>\n",
              "      <td id=\"T_5c693_row6_col4\" class=\"data row6 col4\" >-0.96</td>\n",
              "      <td id=\"T_5c693_row6_col5\" class=\"data row6 col5\" >-0.67</td>\n",
              "      <td id=\"T_5c693_row6_col6\" class=\"data row6 col6\" >-0.78</td>\n",
              "    </tr>\n",
              "    <tr>\n",
              "      <td id=\"T_5c693_row7_col0\" class=\"data row7 col0\" >-1.05</td>\n",
              "      <td id=\"T_5c693_row7_col1\" class=\"data row7 col1\" >-1.06</td>\n",
              "      <td id=\"T_5c693_row7_col2\" class=\"data row7 col2\" >-1.06</td>\n",
              "      <td id=\"T_5c693_row7_col3\" class=\"data row7 col3\" >-1.49</td>\n",
              "      <td id=\"T_5c693_row7_col4\" class=\"data row7 col4\" >-0.96</td>\n",
              "      <td id=\"T_5c693_row7_col5\" class=\"data row7 col5\" >-0.67</td>\n",
              "      <td id=\"T_5c693_row7_col6\" class=\"data row7 col6\" >-1.06</td>\n",
              "    </tr>\n",
              "    <tr>\n",
              "      <td id=\"T_5c693_row8_col0\" class=\"data row8 col0\" >-0.96</td>\n",
              "      <td id=\"T_5c693_row8_col1\" class=\"data row8 col1\" >-0.97</td>\n",
              "      <td id=\"T_5c693_row8_col2\" class=\"data row8 col2\" >-0.97</td>\n",
              "      <td id=\"T_5c693_row8_col3\" class=\"data row8 col3\" >-1.31</td>\n",
              "      <td id=\"T_5c693_row8_col4\" class=\"data row8 col4\" >-0.96</td>\n",
              "      <td id=\"T_5c693_row8_col5\" class=\"data row8 col5\" >-0.67</td>\n",
              "      <td id=\"T_5c693_row8_col6\" class=\"data row8 col6\" >-0.97</td>\n",
              "    </tr>\n",
              "    <tr>\n",
              "      <td id=\"T_5c693_row9_col0\" class=\"data row9 col0\" >0.19</td>\n",
              "      <td id=\"T_5c693_row9_col1\" class=\"data row9 col1\" >0.17</td>\n",
              "      <td id=\"T_5c693_row9_col2\" class=\"data row9 col2\" >0.18</td>\n",
              "      <td id=\"T_5c693_row9_col3\" class=\"data row9 col3\" >0.38</td>\n",
              "      <td id=\"T_5c693_row9_col4\" class=\"data row9 col4\" >0.09</td>\n",
              "      <td id=\"T_5c693_row9_col5\" class=\"data row9 col5\" >1.04</td>\n",
              "      <td id=\"T_5c693_row9_col6\" class=\"data row9 col6\" >0.18</td>\n",
              "    </tr>\n",
              "  </tbody>\n",
              "</table>\n"
            ],
            "text/plain": [
              "<pandas.io.formats.style.Styler at 0x7c62e0af6740>"
            ]
          },
          "execution_count": 35,
          "metadata": {},
          "output_type": "execute_result"
        }
      ],
      "source": [
        "pandasx.return_formatted_table \\\n",
        "    (x_train_scaled_SMOTE_dataframe,\n",
        "     'Table 2.7.4: Scaled Features Training SMOTE Data')"
      ]
    },
    {
      "cell_type": "code",
      "execution_count": null,
      "id": "d9qppRiruo-H",
      "metadata": {
        "colab": {
          "base_uri": "https://localhost:8080/",
          "height": 398
        },
        "id": "d9qppRiruo-H",
        "outputId": "3a01b583-e44f-4646-c69a-173bd837bf94"
      },
      "outputs": [
        {
          "data": {
            "text/html": [
              "<style type=\"text/css\">\n",
              "#T_efca5 caption {\n",
              "  color: black;\n",
              "  font-size: 20px;\n",
              "  font-style: bold;\n",
              "  text-align: center;\n",
              "}\n",
              "#T_efca5_row0_col0, #T_efca5_row0_col1, #T_efca5_row0_col2, #T_efca5_row0_col3, #T_efca5_row0_col4, #T_efca5_row0_col5, #T_efca5_row0_col6, #T_efca5_row1_col0, #T_efca5_row1_col1, #T_efca5_row1_col2, #T_efca5_row1_col3, #T_efca5_row1_col4, #T_efca5_row1_col5, #T_efca5_row1_col6, #T_efca5_row2_col0, #T_efca5_row2_col1, #T_efca5_row2_col2, #T_efca5_row2_col3, #T_efca5_row2_col4, #T_efca5_row2_col5, #T_efca5_row2_col6, #T_efca5_row3_col0, #T_efca5_row3_col1, #T_efca5_row3_col2, #T_efca5_row3_col3, #T_efca5_row3_col4, #T_efca5_row3_col5, #T_efca5_row3_col6, #T_efca5_row4_col0, #T_efca5_row4_col1, #T_efca5_row4_col2, #T_efca5_row4_col3, #T_efca5_row4_col4, #T_efca5_row4_col5, #T_efca5_row4_col6, #T_efca5_row5_col0, #T_efca5_row5_col1, #T_efca5_row5_col2, #T_efca5_row5_col3, #T_efca5_row5_col4, #T_efca5_row5_col5, #T_efca5_row5_col6, #T_efca5_row6_col0, #T_efca5_row6_col1, #T_efca5_row6_col2, #T_efca5_row6_col3, #T_efca5_row6_col4, #T_efca5_row6_col5, #T_efca5_row6_col6, #T_efca5_row7_col0, #T_efca5_row7_col1, #T_efca5_row7_col2, #T_efca5_row7_col3, #T_efca5_row7_col4, #T_efca5_row7_col5, #T_efca5_row7_col6, #T_efca5_row8_col0, #T_efca5_row8_col1, #T_efca5_row8_col2, #T_efca5_row8_col3, #T_efca5_row8_col4, #T_efca5_row8_col5, #T_efca5_row8_col6, #T_efca5_row9_col0, #T_efca5_row9_col1, #T_efca5_row9_col2, #T_efca5_row9_col3, #T_efca5_row9_col4, #T_efca5_row9_col5, #T_efca5_row9_col6 {\n",
              "  text-align: center;\n",
              "  border: 1.3px solid red;\n",
              "  color: blue;\n",
              "}\n",
              "</style>\n",
              "<table id=\"T_efca5\" class=\"dataframe\">\n",
              "  <caption>Table 2.7.5: Scaled Features Training SMOTEENN Data</caption>\n",
              "  <thead>\n",
              "    <tr>\n",
              "      <th id=\"T_efca5_level0_col0\" class=\"col_heading level0 col0\" >loan_size</th>\n",
              "      <th id=\"T_efca5_level0_col1\" class=\"col_heading level0 col1\" >interest_rate</th>\n",
              "      <th id=\"T_efca5_level0_col2\" class=\"col_heading level0 col2\" >borrower_income</th>\n",
              "      <th id=\"T_efca5_level0_col3\" class=\"col_heading level0 col3\" >debt_to_income</th>\n",
              "      <th id=\"T_efca5_level0_col4\" class=\"col_heading level0 col4\" >num_of_accounts</th>\n",
              "      <th id=\"T_efca5_level0_col5\" class=\"col_heading level0 col5\" >derogatory_marks</th>\n",
              "      <th id=\"T_efca5_level0_col6\" class=\"col_heading level0 col6\" >total_debt</th>\n",
              "    </tr>\n",
              "  </thead>\n",
              "  <tbody>\n",
              "    <tr>\n",
              "      <td id=\"T_efca5_row0_col0\" class=\"data row0 col0\" >-0.34</td>\n",
              "      <td id=\"T_efca5_row0_col1\" class=\"data row0 col1\" >-0.33</td>\n",
              "      <td id=\"T_efca5_row0_col2\" class=\"data row0 col2\" >-0.34</td>\n",
              "      <td id=\"T_efca5_row0_col3\" class=\"data row0 col3\" >-0.29</td>\n",
              "      <td id=\"T_efca5_row0_col4\" class=\"data row0 col4\" >-0.43</td>\n",
              "      <td id=\"T_efca5_row0_col5\" class=\"data row0 col5\" >-0.67</td>\n",
              "      <td id=\"T_efca5_row0_col6\" class=\"data row0 col6\" >-0.34</td>\n",
              "    </tr>\n",
              "    <tr>\n",
              "      <td id=\"T_efca5_row1_col0\" class=\"data row1 col0\" >-0.57</td>\n",
              "      <td id=\"T_efca5_row1_col1\" class=\"data row1 col1\" >-0.60</td>\n",
              "      <td id=\"T_efca5_row1_col2\" class=\"data row1 col2\" >-0.60</td>\n",
              "      <td id=\"T_efca5_row1_col3\" class=\"data row1 col3\" >-0.68</td>\n",
              "      <td id=\"T_efca5_row1_col4\" class=\"data row1 col4\" >-0.43</td>\n",
              "      <td id=\"T_efca5_row1_col5\" class=\"data row1 col5\" >-0.67</td>\n",
              "      <td id=\"T_efca5_row1_col6\" class=\"data row1 col6\" >-0.60</td>\n",
              "    </tr>\n",
              "    <tr>\n",
              "      <td id=\"T_efca5_row2_col0\" class=\"data row2 col0\" >0.38</td>\n",
              "      <td id=\"T_efca5_row2_col1\" class=\"data row2 col1\" >0.39</td>\n",
              "      <td id=\"T_efca5_row2_col2\" class=\"data row2 col2\" >0.39</td>\n",
              "      <td id=\"T_efca5_row2_col3\" class=\"data row2 col3\" >0.63</td>\n",
              "      <td id=\"T_efca5_row2_col4\" class=\"data row2 col4\" >0.61</td>\n",
              "      <td id=\"T_efca5_row2_col5\" class=\"data row2 col5\" >1.04</td>\n",
              "      <td id=\"T_efca5_row2_col6\" class=\"data row2 col6\" >0.39</td>\n",
              "    </tr>\n",
              "    <tr>\n",
              "      <td id=\"T_efca5_row3_col0\" class=\"data row3 col0\" >-0.57</td>\n",
              "      <td id=\"T_efca5_row3_col1\" class=\"data row3 col1\" >-0.57</td>\n",
              "      <td id=\"T_efca5_row3_col2\" class=\"data row3 col2\" >-0.56</td>\n",
              "      <td id=\"T_efca5_row3_col3\" class=\"data row3 col3\" >-0.63</td>\n",
              "      <td id=\"T_efca5_row3_col4\" class=\"data row3 col4\" >-0.43</td>\n",
              "      <td id=\"T_efca5_row3_col5\" class=\"data row3 col5\" >-0.67</td>\n",
              "      <td id=\"T_efca5_row3_col6\" class=\"data row3 col6\" >-0.56</td>\n",
              "    </tr>\n",
              "    <tr>\n",
              "      <td id=\"T_efca5_row4_col0\" class=\"data row4 col0\" >-1.00</td>\n",
              "      <td id=\"T_efca5_row4_col1\" class=\"data row4 col1\" >-0.98</td>\n",
              "      <td id=\"T_efca5_row4_col2\" class=\"data row4 col2\" >-0.98</td>\n",
              "      <td id=\"T_efca5_row4_col3\" class=\"data row4 col3\" >-1.33</td>\n",
              "      <td id=\"T_efca5_row4_col4\" class=\"data row4 col4\" >-0.96</td>\n",
              "      <td id=\"T_efca5_row4_col5\" class=\"data row4 col5\" >-0.67</td>\n",
              "      <td id=\"T_efca5_row4_col6\" class=\"data row4 col6\" >-0.98</td>\n",
              "    </tr>\n",
              "    <tr>\n",
              "      <td id=\"T_efca5_row5_col0\" class=\"data row5 col0\" >-0.10</td>\n",
              "      <td id=\"T_efca5_row5_col1\" class=\"data row5 col1\" >-0.11</td>\n",
              "      <td id=\"T_efca5_row5_col2\" class=\"data row5 col2\" >-0.11</td>\n",
              "      <td id=\"T_efca5_row5_col3\" class=\"data row5 col3\" >0.02</td>\n",
              "      <td id=\"T_efca5_row5_col4\" class=\"data row5 col4\" >0.09</td>\n",
              "      <td id=\"T_efca5_row5_col5\" class=\"data row5 col5\" >-0.67</td>\n",
              "      <td id=\"T_efca5_row5_col6\" class=\"data row5 col6\" >-0.11</td>\n",
              "    </tr>\n",
              "    <tr>\n",
              "      <td id=\"T_efca5_row6_col0\" class=\"data row6 col0\" >-0.77</td>\n",
              "      <td id=\"T_efca5_row6_col1\" class=\"data row6 col1\" >-0.78</td>\n",
              "      <td id=\"T_efca5_row6_col2\" class=\"data row6 col2\" >-0.78</td>\n",
              "      <td id=\"T_efca5_row6_col3\" class=\"data row6 col3\" >-0.98</td>\n",
              "      <td id=\"T_efca5_row6_col4\" class=\"data row6 col4\" >-0.96</td>\n",
              "      <td id=\"T_efca5_row6_col5\" class=\"data row6 col5\" >-0.67</td>\n",
              "      <td id=\"T_efca5_row6_col6\" class=\"data row6 col6\" >-0.78</td>\n",
              "    </tr>\n",
              "    <tr>\n",
              "      <td id=\"T_efca5_row7_col0\" class=\"data row7 col0\" >-1.05</td>\n",
              "      <td id=\"T_efca5_row7_col1\" class=\"data row7 col1\" >-1.06</td>\n",
              "      <td id=\"T_efca5_row7_col2\" class=\"data row7 col2\" >-1.06</td>\n",
              "      <td id=\"T_efca5_row7_col3\" class=\"data row7 col3\" >-1.49</td>\n",
              "      <td id=\"T_efca5_row7_col4\" class=\"data row7 col4\" >-0.96</td>\n",
              "      <td id=\"T_efca5_row7_col5\" class=\"data row7 col5\" >-0.67</td>\n",
              "      <td id=\"T_efca5_row7_col6\" class=\"data row7 col6\" >-1.06</td>\n",
              "    </tr>\n",
              "    <tr>\n",
              "      <td id=\"T_efca5_row8_col0\" class=\"data row8 col0\" >-0.96</td>\n",
              "      <td id=\"T_efca5_row8_col1\" class=\"data row8 col1\" >-0.97</td>\n",
              "      <td id=\"T_efca5_row8_col2\" class=\"data row8 col2\" >-0.97</td>\n",
              "      <td id=\"T_efca5_row8_col3\" class=\"data row8 col3\" >-1.31</td>\n",
              "      <td id=\"T_efca5_row8_col4\" class=\"data row8 col4\" >-0.96</td>\n",
              "      <td id=\"T_efca5_row8_col5\" class=\"data row8 col5\" >-0.67</td>\n",
              "      <td id=\"T_efca5_row8_col6\" class=\"data row8 col6\" >-0.97</td>\n",
              "    </tr>\n",
              "    <tr>\n",
              "      <td id=\"T_efca5_row9_col0\" class=\"data row9 col0\" >0.19</td>\n",
              "      <td id=\"T_efca5_row9_col1\" class=\"data row9 col1\" >0.17</td>\n",
              "      <td id=\"T_efca5_row9_col2\" class=\"data row9 col2\" >0.18</td>\n",
              "      <td id=\"T_efca5_row9_col3\" class=\"data row9 col3\" >0.38</td>\n",
              "      <td id=\"T_efca5_row9_col4\" class=\"data row9 col4\" >0.09</td>\n",
              "      <td id=\"T_efca5_row9_col5\" class=\"data row9 col5\" >1.04</td>\n",
              "      <td id=\"T_efca5_row9_col6\" class=\"data row9 col6\" >0.18</td>\n",
              "    </tr>\n",
              "  </tbody>\n",
              "</table>\n"
            ],
            "text/plain": [
              "<pandas.io.formats.style.Styler at 0x7c62e05403a0>"
            ]
          },
          "execution_count": 36,
          "metadata": {},
          "output_type": "execute_result"
        }
      ],
      "source": [
        "pandasx.return_formatted_table \\\n",
        "    (x_train_scaled_SMOTEENN_dataframe,\n",
        "     'Table 2.7.5: Scaled Features Training SMOTEENN Data')"
      ]
    },
    {
      "cell_type": "markdown",
      "id": "O88ykN6quo-H",
      "metadata": {
        "id": "O88ykN6quo-H"
      },
      "source": [
        "# <br> **Section 3: Logistic Regression Models**"
      ]
    },
    {
      "cell_type": "markdown",
      "id": "2ME51ETcuo-H",
      "metadata": {
        "id": "2ME51ETcuo-H"
      },
      "source": [
        "## **3.1: Fit Models by Using the Scaled Training Data**"
      ]
    },
    {
      "cell_type": "markdown",
      "id": "8I9_rKQXuo-H",
      "metadata": {
        "id": "8I9_rKQXuo-H"
      },
      "source": [
        "### **Original**"
      ]
    },
    {
      "cell_type": "code",
      "execution_count": null,
      "id": "hohRlNNFuo-H",
      "metadata": {
        "id": "hohRlNNFuo-H"
      },
      "outputs": [],
      "source": [
        "lr_grid_search_model \\\n",
        "    = pickle.load(open(credit_risk_constants.CONSTANT_LR_GRID_SEARCH_MODEL_FILE_PATH, 'rb'))\n",
        "\n",
        "logistic_regression_model \\\n",
        "    = LogisticRegression \\\n",
        "        (class_weight = lr_grid_search_model.best_params_['class_weight'],\n",
        "         solver = lr_grid_search_model.best_params_['solver'],\n",
        "         max_iter = credit_risk_constants.CONSTANT_ML_LR_MAX_ITERATIONS,\n",
        "         random_state = credit_risk_constants.CONSTANT_ML_RANDOM_STATE_1) \\\n",
        "            .fit(x_train_scaled_dataframe, y_train_series)"
      ]
    },
    {
      "cell_type": "markdown",
      "id": "1vY3sL85uo-H",
      "metadata": {
        "id": "1vY3sL85uo-H"
      },
      "source": [
        "### **Random Undersampling**"
      ]
    },
    {
      "cell_type": "code",
      "execution_count": null,
      "id": "ZtQi96CGuo-H",
      "metadata": {
        "id": "ZtQi96CGuo-H"
      },
      "outputs": [],
      "source": [
        "lr_undersampled_grid_search_model \\\n",
        "    = pickle.load \\\n",
        "        (open(credit_risk_constants.CONSTANT_LR_UNDERSAMPLED_GRID_SEARCH_MODEL_FILE_PATH, 'rb'))\n",
        "\n",
        "logistic_regression_undersampled_model \\\n",
        "    = LogisticRegression \\\n",
        "        (class_weight = lr_undersampled_grid_search_model.best_params_['class_weight'],\n",
        "         solver = lr_undersampled_grid_search_model.best_params_['solver'],\n",
        "         max_iter = credit_risk_constants.CONSTANT_ML_LR_MAX_ITERATIONS,\n",
        "         random_state = credit_risk_constants.CONSTANT_ML_RANDOM_STATE_1) \\\n",
        "            .fit(x_train_scaled_undersampled_dataframe, y_train_undersampled_series)"
      ]
    },
    {
      "cell_type": "markdown",
      "id": "_9I3bU9uuo-H",
      "metadata": {
        "id": "_9I3bU9uuo-H"
      },
      "source": [
        "### **Random Oversampling**"
      ]
    },
    {
      "cell_type": "code",
      "execution_count": null,
      "id": "IC8nMaD-uo-I",
      "metadata": {
        "id": "IC8nMaD-uo-I"
      },
      "outputs": [],
      "source": [
        "lr_oversampled_grid_search_model \\\n",
        "    = pickle.load \\\n",
        "        (open(credit_risk_constants.CONSTANT_LR_OVERSAMPLED_GRID_SEARCH_MODEL_FILE_PATH, 'rb'))\n",
        "\n",
        "logistic_regression_oversampled_model \\\n",
        "    = LogisticRegression \\\n",
        "        (class_weight = lr_oversampled_grid_search_model.best_params_['class_weight'],\n",
        "         solver = lr_oversampled_grid_search_model.best_params_['solver'],\n",
        "         max_iter = credit_risk_constants.CONSTANT_ML_LR_MAX_ITERATIONS,\n",
        "         random_state = credit_risk_constants.CONSTANT_ML_RANDOM_STATE_1) \\\n",
        "            .fit(x_train_scaled_oversampled_dataframe, y_train_oversampled_series)"
      ]
    },
    {
      "cell_type": "markdown",
      "id": "CVxW6W3fuo-I",
      "metadata": {
        "id": "CVxW6W3fuo-I"
      },
      "source": [
        "### **Cluster Centroids**"
      ]
    },
    {
      "cell_type": "code",
      "execution_count": null,
      "id": "fiYipGNFuo-I",
      "metadata": {
        "id": "fiYipGNFuo-I"
      },
      "outputs": [],
      "source": [
        "lr_cluster_centroids_grid_search_model \\\n",
        "    = pickle.load \\\n",
        "        (open(credit_risk_constants.CONSTANT_LR_CLUSTER_CENTROIDS_GRID_SEARCH_MODEL_FILE_PATH, 'rb'))\n",
        "\n",
        "logistic_regression_cluster_centroids_model \\\n",
        "    = LogisticRegression \\\n",
        "        (class_weight = lr_cluster_centroids_grid_search_model.best_params_['class_weight'],\n",
        "         solver = lr_cluster_centroids_grid_search_model.best_params_['solver'],\n",
        "         max_iter = credit_risk_constants.CONSTANT_ML_LR_MAX_ITERATIONS,\n",
        "         random_state = credit_risk_constants.CONSTANT_ML_RANDOM_STATE_1) \\\n",
        "            .fit(x_train_scaled_cluster_centroids_dataframe, y_train_cluster_centroids_series)"
      ]
    },
    {
      "cell_type": "markdown",
      "id": "R2Nve8QKuo-I",
      "metadata": {
        "id": "R2Nve8QKuo-I"
      },
      "source": [
        "### **SMOTE**"
      ]
    },
    {
      "cell_type": "code",
      "execution_count": null,
      "id": "XH1r7Azxuo-I",
      "metadata": {
        "id": "XH1r7Azxuo-I"
      },
      "outputs": [],
      "source": [
        "lr_SMOTE_grid_search_model \\\n",
        "    = pickle.load \\\n",
        "        (open(credit_risk_constants.CONSTANT_LR_SMOTE_GRID_SEARCH_MODEL_FILE_PATH, 'rb'))\n",
        "\n",
        "logistic_regression_SMOTE_model \\\n",
        "    = LogisticRegression \\\n",
        "        (class_weight = lr_SMOTE_grid_search_model.best_params_['class_weight'],\n",
        "         solver = lr_SMOTE_grid_search_model.best_params_['solver'],\n",
        "         max_iter = credit_risk_constants.CONSTANT_ML_LR_MAX_ITERATIONS,\n",
        "         random_state = credit_risk_constants.CONSTANT_ML_RANDOM_STATE_1) \\\n",
        "            .fit(x_train_scaled_SMOTE_dataframe, y_train_SMOTE_series)"
      ]
    },
    {
      "cell_type": "markdown",
      "id": "__LDg1TKuo-I",
      "metadata": {
        "id": "__LDg1TKuo-I"
      },
      "source": [
        "### **SMOTEENN**"
      ]
    },
    {
      "cell_type": "code",
      "execution_count": null,
      "id": "5QTvfUvluo-I",
      "metadata": {
        "id": "5QTvfUvluo-I"
      },
      "outputs": [],
      "source": [
        "lr_SMOTEENN_grid_search_model \\\n",
        "    = pickle.load \\\n",
        "        (open(credit_risk_constants.CONSTANT_LR_SMOTEENN_GRID_SEARCH_MODEL_FILE_PATH, 'rb'))\n",
        "\n",
        "logistic_regression_SMOTEENN_model \\\n",
        "    = LogisticRegression \\\n",
        "        (class_weight = lr_SMOTEENN_grid_search_model.best_params_['class_weight'],\n",
        "         solver = lr_SMOTEENN_grid_search_model.best_params_['solver'],\n",
        "         max_iter = credit_risk_constants.CONSTANT_ML_LR_MAX_ITERATIONS,\n",
        "         random_state = credit_risk_constants.CONSTANT_ML_RANDOM_STATE_1) \\\n",
        "            .fit(x_train_scaled_SMOTEENN_dataframe, y_train_SMOTEENN_series)"
      ]
    },
    {
      "cell_type": "markdown",
      "id": "2NVFXaMCuo-I",
      "metadata": {
        "id": "2NVFXaMCuo-I"
      },
      "source": [
        "## **3.2: Display the Model Scores Using the Scaled Training and Testing Data**"
      ]
    },
    {
      "cell_type": "markdown",
      "id": "WHV8bxVwuo-I",
      "metadata": {
        "id": "WHV8bxVwuo-I"
      },
      "source": [
        "### **Original**"
      ]
    },
    {
      "cell_type": "code",
      "execution_count": null,
      "id": "hrXfqop3uo-J",
      "metadata": {
        "colab": {
          "base_uri": "https://localhost:8080/"
        },
        "id": "hrXfqop3uo-J",
        "outputId": "2184d463-be17-47e7-8b97-e08980f20057"
      },
      "outputs": [
        {
          "name": "stdout",
          "output_type": "stream",
          "text": [
            "\u001b[1mThe logistic regression model score from scaled training data is 99.44%\u001b[0m\n"
          ]
        }
      ],
      "source": [
        "accuracy_score_train_float \\\n",
        "    = logistic_regression_model.score \\\n",
        "        (x_train_scaled_dataframe, y_train_series) * 100\n",
        "\n",
        "logx.print_and_log_text \\\n",
        "    ('\\033[1m'\n",
        "     + 'The logistic regression model score from scaled training data is {:.2f}%' \\\n",
        "         .format(accuracy_score_train_float)\n",
        "     + '\\033[0m')"
      ]
    },
    {
      "cell_type": "code",
      "execution_count": null,
      "id": "-45WBhe4uo-J",
      "metadata": {
        "colab": {
          "base_uri": "https://localhost:8080/"
        },
        "id": "-45WBhe4uo-J",
        "outputId": "472f9715-d9f3-45e1-bbd6-64b2d25dc000"
      },
      "outputs": [
        {
          "name": "stdout",
          "output_type": "stream",
          "text": [
            "\u001b[1mThe logistic regression model score from scaled test data is 99.33%\u001b[0m\n"
          ]
        }
      ],
      "source": [
        "accuracy_score_test_float \\\n",
        "    = logistic_regression_model.score \\\n",
        "        (x_test_scaled_dataframe, y_test_series) * 100\n",
        "\n",
        "logx.print_and_log_text \\\n",
        "    ('\\033[1m'\n",
        "     + 'The logistic regression model score from scaled test data is {:.2f}%' \\\n",
        "         .format(accuracy_score_test_float)\n",
        "     + '\\033[0m')"
      ]
    },
    {
      "cell_type": "markdown",
      "id": "LSzQhbdKuo-J",
      "metadata": {
        "id": "LSzQhbdKuo-J"
      },
      "source": [
        "### **Random Undersampling**"
      ]
    },
    {
      "cell_type": "code",
      "execution_count": null,
      "id": "taABA9iauo-J",
      "metadata": {
        "colab": {
          "base_uri": "https://localhost:8080/"
        },
        "id": "taABA9iauo-J",
        "outputId": "dbb5e1c3-f8c9-48d3-99f6-47a53bd774ba"
      },
      "outputs": [
        {
          "name": "stdout",
          "output_type": "stream",
          "text": [
            "\u001b[1mThe logistic regression model score from undersampled scaled training data is 99.44%\u001b[0m\n"
          ]
        }
      ],
      "source": [
        "accuracy_score_train_float \\\n",
        "    = logistic_regression_undersampled_model.score \\\n",
        "        (x_train_scaled_dataframe, y_train_series) * 100\n",
        "\n",
        "logx.print_and_log_text \\\n",
        "    ('\\033[1m'\n",
        "     + 'The logistic regression model score from undersampled scaled training data is {:.2f}%' \\\n",
        "         .format(accuracy_score_train_float)\n",
        "     + '\\033[0m')"
      ]
    },
    {
      "cell_type": "code",
      "execution_count": null,
      "id": "RuTrOCP1uo-J",
      "metadata": {
        "colab": {
          "base_uri": "https://localhost:8080/"
        },
        "id": "RuTrOCP1uo-J",
        "outputId": "451375a7-2b7c-4048-fdc0-450c0861b715"
      },
      "outputs": [
        {
          "name": "stdout",
          "output_type": "stream",
          "text": [
            "\u001b[1mThe logistic regression model score from undersampled scaled test data is 99.34%\u001b[0m\n"
          ]
        }
      ],
      "source": [
        "accuracy_score_test_float \\\n",
        "    = logistic_regression_undersampled_model.score \\\n",
        "        (x_test_scaled_dataframe, y_test_series) * 100\n",
        "\n",
        "logx.print_and_log_text \\\n",
        "    ('\\033[1m'\n",
        "     + 'The logistic regression model score from undersampled scaled test data is {:.2f}%' \\\n",
        "         .format(accuracy_score_test_float)\n",
        "     + '\\033[0m')"
      ]
    },
    {
      "cell_type": "markdown",
      "id": "akSBUa6tuo-J",
      "metadata": {
        "id": "akSBUa6tuo-J"
      },
      "source": [
        "### **Random Oversampling**"
      ]
    },
    {
      "cell_type": "code",
      "execution_count": null,
      "id": "OIXOIr1Kuo-J",
      "metadata": {
        "colab": {
          "base_uri": "https://localhost:8080/"
        },
        "id": "OIXOIr1Kuo-J",
        "outputId": "074f5bb2-52ad-4b34-9bbe-26b2c8e08ff6"
      },
      "outputs": [
        {
          "name": "stdout",
          "output_type": "stream",
          "text": [
            "\u001b[1mThe logistic regression model score from overersampled scaled training data is 99.43%\u001b[0m\n"
          ]
        }
      ],
      "source": [
        "accuracy_score_train_float \\\n",
        "    = logistic_regression_oversampled_model.score \\\n",
        "        (x_train_scaled_dataframe, y_train_series) * 100\n",
        "\n",
        "logx.print_and_log_text \\\n",
        "    ('\\033[1m'\n",
        "     + 'The logistic regression model score from overersampled scaled training data is {:.2f}%' \\\n",
        "         .format(accuracy_score_train_float)\n",
        "     + '\\033[0m')"
      ]
    },
    {
      "cell_type": "code",
      "execution_count": null,
      "id": "k4qGaLv6uo-J",
      "metadata": {
        "colab": {
          "base_uri": "https://localhost:8080/"
        },
        "id": "k4qGaLv6uo-J",
        "outputId": "0502bd0a-46dd-4e66-fadd-7ec3ee7e5764"
      },
      "outputs": [
        {
          "name": "stdout",
          "output_type": "stream",
          "text": [
            "\u001b[1mThe logistic regression model score from oversampled scaled test data is 99.34%\u001b[0m\n"
          ]
        }
      ],
      "source": [
        "accuracy_score_test_float \\\n",
        "    = logistic_regression_oversampled_model.score \\\n",
        "        (x_test_scaled_dataframe, y_test_series) * 100\n",
        "\n",
        "logx.print_and_log_text \\\n",
        "    ('\\033[1m'\n",
        "     + 'The logistic regression model score from oversampled scaled test data is {:.2f}%' \\\n",
        "         .format(accuracy_score_test_float)\n",
        "     + '\\033[0m')"
      ]
    },
    {
      "cell_type": "markdown",
      "id": "BQ_JxXMpuo-J",
      "metadata": {
        "id": "BQ_JxXMpuo-J"
      },
      "source": [
        "### **Cluster Centroids**"
      ]
    },
    {
      "cell_type": "code",
      "execution_count": null,
      "id": "EKdxA3KMuo-J",
      "metadata": {
        "colab": {
          "base_uri": "https://localhost:8080/"
        },
        "id": "EKdxA3KMuo-J",
        "outputId": "24429806-bfc4-4503-c437-ef108baa232f"
      },
      "outputs": [
        {
          "name": "stdout",
          "output_type": "stream",
          "text": [
            "\u001b[1mThe logistic regression model score from cluster centroids scaled training data is 99.46%\u001b[0m\n"
          ]
        }
      ],
      "source": [
        "accuracy_score_train_float \\\n",
        "    = logistic_regression_cluster_centroids_model.score \\\n",
        "        (x_train_scaled_dataframe, y_train_series) * 100\n",
        "\n",
        "logx.print_and_log_text \\\n",
        "    ('\\033[1m'\n",
        "     + 'The logistic regression model score from cluster centroids scaled training data is {:.2f}%' \\\n",
        "         .format(accuracy_score_train_float)\n",
        "     + '\\033[0m')"
      ]
    },
    {
      "cell_type": "code",
      "execution_count": null,
      "id": "6jT4wtkJuo-K",
      "metadata": {
        "colab": {
          "base_uri": "https://localhost:8080/"
        },
        "id": "6jT4wtkJuo-K",
        "outputId": "d7a9726a-53d4-4c28-84e6-a24c68bb3049"
      },
      "outputs": [
        {
          "name": "stdout",
          "output_type": "stream",
          "text": [
            "\u001b[1mThe logistic regression model score from cluster centroids scaled test data is 99.37%\u001b[0m\n"
          ]
        }
      ],
      "source": [
        "accuracy_score_test_float \\\n",
        "    = logistic_regression_cluster_centroids_model.score \\\n",
        "        (x_test_scaled_dataframe, y_test_series) * 100\n",
        "\n",
        "logx.print_and_log_text \\\n",
        "    ('\\033[1m'\n",
        "     + 'The logistic regression model score from cluster centroids scaled test data is {:.2f}%' \\\n",
        "         .format(accuracy_score_test_float)\n",
        "     + '\\033[0m')"
      ]
    },
    {
      "cell_type": "markdown",
      "id": "40B-z4Ipuo-K",
      "metadata": {
        "id": "40B-z4Ipuo-K"
      },
      "source": [
        "### **SMOTE**"
      ]
    },
    {
      "cell_type": "code",
      "execution_count": null,
      "id": "NfS6meVDuo-K",
      "metadata": {
        "colab": {
          "base_uri": "https://localhost:8080/"
        },
        "id": "NfS6meVDuo-K",
        "outputId": "a7a2ed90-7c8e-4102-fd7b-b8922301f2d7"
      },
      "outputs": [
        {
          "name": "stdout",
          "output_type": "stream",
          "text": [
            "\u001b[1mThe logistic regression model score from SMOTE scaled training data is 99.43%\u001b[0m\n"
          ]
        }
      ],
      "source": [
        "accuracy_score_train_float \\\n",
        "    = logistic_regression_SMOTE_model.score \\\n",
        "        (x_train_scaled_dataframe, y_train_series) * 100\n",
        "\n",
        "logx.print_and_log_text \\\n",
        "    ('\\033[1m'\n",
        "     + 'The logistic regression model score from SMOTE scaled training data is {:.2f}%' \\\n",
        "         .format(accuracy_score_train_float)\n",
        "     + '\\033[0m')"
      ]
    },
    {
      "cell_type": "code",
      "execution_count": null,
      "id": "PBQsJm9fuo-K",
      "metadata": {
        "colab": {
          "base_uri": "https://localhost:8080/"
        },
        "id": "PBQsJm9fuo-K",
        "outputId": "b77a7101-63be-4c11-ac88-3039f0492248"
      },
      "outputs": [
        {
          "name": "stdout",
          "output_type": "stream",
          "text": [
            "\u001b[1mThe logistic regression model score from SMOTE scaled test data is 99.34%\u001b[0m\n"
          ]
        }
      ],
      "source": [
        "accuracy_score_test_float \\\n",
        "    = logistic_regression_SMOTE_model.score \\\n",
        "        (x_test_scaled_dataframe, y_test_series) * 100\n",
        "\n",
        "logx.print_and_log_text \\\n",
        "    ('\\033[1m'\n",
        "     + 'The logistic regression model score from SMOTE scaled test data is {:.2f}%' \\\n",
        "         .format(accuracy_score_test_float)\n",
        "     + '\\033[0m')"
      ]
    },
    {
      "cell_type": "markdown",
      "id": "zogEYovmuo-K",
      "metadata": {
        "id": "zogEYovmuo-K"
      },
      "source": [
        "### **SMOTEENN**"
      ]
    },
    {
      "cell_type": "code",
      "execution_count": null,
      "id": "W-AC2LoYuo-K",
      "metadata": {
        "colab": {
          "base_uri": "https://localhost:8080/"
        },
        "id": "W-AC2LoYuo-K",
        "outputId": "de310317-f2ef-4f96-a301-e5a7a10a7de7"
      },
      "outputs": [
        {
          "name": "stdout",
          "output_type": "stream",
          "text": [
            "\u001b[1mThe logistic regression model score from SMOTEENN scaled training data is 99.42%\u001b[0m\n"
          ]
        }
      ],
      "source": [
        "accuracy_score_train_float \\\n",
        "    = logistic_regression_SMOTEENN_model.score \\\n",
        "        (x_train_scaled_dataframe, y_train_series) * 100\n",
        "\n",
        "logx.print_and_log_text \\\n",
        "    ('\\033[1m'\n",
        "     + 'The logistic regression model score from SMOTEENN scaled training data is {:.2f}%' \\\n",
        "         .format(accuracy_score_train_float)\n",
        "     + '\\033[0m')"
      ]
    },
    {
      "cell_type": "code",
      "execution_count": null,
      "id": "8xYxb0_8uo-K",
      "metadata": {
        "colab": {
          "base_uri": "https://localhost:8080/"
        },
        "id": "8xYxb0_8uo-K",
        "outputId": "796ba673-752d-4a60-baed-98478836e32f"
      },
      "outputs": [
        {
          "name": "stdout",
          "output_type": "stream",
          "text": [
            "\u001b[1mThe logistic regression model score from SMOTEENN scaled test data is 99.30%\u001b[0m\n"
          ]
        }
      ],
      "source": [
        "accuracy_score_test_float \\\n",
        "    = logistic_regression_SMOTEENN_model.score \\\n",
        "        (x_test_scaled_dataframe, y_test_series) * 100\n",
        "\n",
        "logx.print_and_log_text \\\n",
        "    ('\\033[1m'\n",
        "     + 'The logistic regression model score from SMOTEENN scaled test data is {:.2f}%' \\\n",
        "         .format(accuracy_score_test_float)\n",
        "     + '\\033[0m')"
      ]
    },
    {
      "cell_type": "markdown",
      "id": "xYzpnPlauo-K",
      "metadata": {
        "id": "xYzpnPlauo-K"
      },
      "source": [
        "## **3.3: Calculate Training and Test Predictions**"
      ]
    },
    {
      "cell_type": "markdown",
      "id": "Y9lv36dHuo-K",
      "metadata": {
        "id": "Y9lv36dHuo-K"
      },
      "source": [
        "### **Original**"
      ]
    },
    {
      "cell_type": "code",
      "execution_count": null,
      "id": "Gg6koiHQuo-L",
      "metadata": {
        "id": "Gg6koiHQuo-L"
      },
      "outputs": [],
      "source": [
        "lr_train_predictions_dataframe \\\n",
        "    = classificationsx.return_predictions_dataframe \\\n",
        "        (logistic_regression_model,\n",
        "         x_train_scaled_dataframe,\n",
        "         y_train_series)\n",
        "\n",
        "logx.log_write_object(lr_train_predictions_dataframe)"
      ]
    },
    {
      "cell_type": "code",
      "execution_count": null,
      "id": "LNTaqlAouo-L",
      "metadata": {
        "id": "LNTaqlAouo-L"
      },
      "outputs": [],
      "source": [
        "lr_test_predictions_dataframe \\\n",
        "    = classificationsx.return_predictions_dataframe \\\n",
        "        (logistic_regression_model,\n",
        "         x_test_scaled_dataframe,\n",
        "         y_test_series)\n",
        "\n",
        "logx.log_write_object(lr_test_predictions_dataframe)"
      ]
    },
    {
      "cell_type": "markdown",
      "id": "aQOJgkdruo-L",
      "metadata": {
        "id": "aQOJgkdruo-L"
      },
      "source": [
        "### **Random Undersampling**"
      ]
    },
    {
      "cell_type": "code",
      "execution_count": null,
      "id": "UDw_I9YQuo-L",
      "metadata": {
        "id": "UDw_I9YQuo-L"
      },
      "outputs": [],
      "source": [
        "lr_train_undersampled_predictions_dataframe \\\n",
        "    = classificationsx.return_predictions_dataframe \\\n",
        "        (logistic_regression_undersampled_model,\n",
        "         x_train_scaled_dataframe,\n",
        "         y_train_series)\n",
        "\n",
        "logx.log_write_object(lr_train_undersampled_predictions_dataframe)"
      ]
    },
    {
      "cell_type": "code",
      "execution_count": null,
      "id": "H_GHazryuo-L",
      "metadata": {
        "id": "H_GHazryuo-L"
      },
      "outputs": [],
      "source": [
        "lr_test_undersampled_predictions_dataframe \\\n",
        "    = classificationsx.return_predictions_dataframe \\\n",
        "        (logistic_regression_undersampled_model,\n",
        "         x_test_scaled_dataframe,\n",
        "         y_test_series)\n",
        "\n",
        "logx.log_write_object(lr_test_undersampled_predictions_dataframe)"
      ]
    },
    {
      "cell_type": "markdown",
      "id": "kbSo4Asyuo-L",
      "metadata": {
        "id": "kbSo4Asyuo-L"
      },
      "source": [
        "### **Random Oversampling**"
      ]
    },
    {
      "cell_type": "code",
      "execution_count": null,
      "id": "ejtKyVxeuo-L",
      "metadata": {
        "id": "ejtKyVxeuo-L"
      },
      "outputs": [],
      "source": [
        "lr_train_oversampled_predictions_dataframe \\\n",
        "    = classificationsx.return_predictions_dataframe \\\n",
        "        (logistic_regression_oversampled_model,\n",
        "         x_train_scaled_dataframe,\n",
        "         y_train_series)\n",
        "\n",
        "logx.log_write_object(lr_train_oversampled_predictions_dataframe)"
      ]
    },
    {
      "cell_type": "code",
      "execution_count": null,
      "id": "UqI-yadMuo-L",
      "metadata": {
        "id": "UqI-yadMuo-L"
      },
      "outputs": [],
      "source": [
        "lr_test_oversampled_predictions_dataframe \\\n",
        "    = classificationsx.return_predictions_dataframe \\\n",
        "        (logistic_regression_oversampled_model,\n",
        "         x_test_scaled_dataframe,\n",
        "         y_test_series)\n",
        "\n",
        "logx.log_write_object(lr_test_oversampled_predictions_dataframe)"
      ]
    },
    {
      "cell_type": "markdown",
      "id": "dnexMs_Fuo-L",
      "metadata": {
        "id": "dnexMs_Fuo-L"
      },
      "source": [
        "### **Cluster Centroids**"
      ]
    },
    {
      "cell_type": "code",
      "execution_count": null,
      "id": "CUJ6oKtFuo-L",
      "metadata": {
        "id": "CUJ6oKtFuo-L"
      },
      "outputs": [],
      "source": [
        "lr_train_cluster_centroids_predictions_dataframe \\\n",
        "    = classificationsx.return_predictions_dataframe \\\n",
        "        (logistic_regression_cluster_centroids_model,\n",
        "         x_train_scaled_dataframe,\n",
        "         y_train_series)\n",
        "\n",
        "logx.log_write_object(lr_train_cluster_centroids_predictions_dataframe)"
      ]
    },
    {
      "cell_type": "code",
      "execution_count": null,
      "id": "8bN6VoYOuo-M",
      "metadata": {
        "id": "8bN6VoYOuo-M"
      },
      "outputs": [],
      "source": [
        "lr_test_cluster_centroids_predictions_dataframe \\\n",
        "    = classificationsx.return_predictions_dataframe \\\n",
        "        (logistic_regression_cluster_centroids_model,\n",
        "         x_test_scaled_dataframe,\n",
        "         y_test_series)\n",
        "\n",
        "logx.log_write_object(lr_test_cluster_centroids_predictions_dataframe)"
      ]
    },
    {
      "cell_type": "markdown",
      "id": "FBYqv8C0uo-M",
      "metadata": {
        "id": "FBYqv8C0uo-M"
      },
      "source": [
        "### **SMOTE**"
      ]
    },
    {
      "cell_type": "code",
      "execution_count": null,
      "id": "KlpSp7J2uo-M",
      "metadata": {
        "id": "KlpSp7J2uo-M"
      },
      "outputs": [],
      "source": [
        "lr_train_SMOTE_predictions_dataframe \\\n",
        "    = classificationsx.return_predictions_dataframe \\\n",
        "        (logistic_regression_SMOTE_model,\n",
        "         x_train_scaled_dataframe,\n",
        "         y_train_series)\n",
        "\n",
        "logx.log_write_object(lr_train_SMOTE_predictions_dataframe)"
      ]
    },
    {
      "cell_type": "code",
      "execution_count": null,
      "id": "2fQ5m2O_uo-M",
      "metadata": {
        "id": "2fQ5m2O_uo-M"
      },
      "outputs": [],
      "source": [
        "lr_test_SMOTE_predictions_dataframe \\\n",
        "    = classificationsx.return_predictions_dataframe \\\n",
        "        (logistic_regression_SMOTE_model,\n",
        "         x_test_scaled_dataframe,\n",
        "         y_test_series)\n",
        "\n",
        "logx.log_write_object(lr_test_SMOTE_predictions_dataframe)"
      ]
    },
    {
      "cell_type": "markdown",
      "id": "0VLMyFx8uo-M",
      "metadata": {
        "id": "0VLMyFx8uo-M"
      },
      "source": [
        "### **SMOTEENN**"
      ]
    },
    {
      "cell_type": "code",
      "execution_count": null,
      "id": "ETMDnN7suo-M",
      "metadata": {
        "id": "ETMDnN7suo-M"
      },
      "outputs": [],
      "source": [
        "lr_train_SMOTEENN_predictions_dataframe \\\n",
        "    = classificationsx.return_predictions_dataframe \\\n",
        "        (logistic_regression_SMOTEENN_model,\n",
        "         x_train_scaled_dataframe,\n",
        "         y_train_series)\n",
        "\n",
        "logx.log_write_object(lr_train_SMOTEENN_predictions_dataframe)"
      ]
    },
    {
      "cell_type": "code",
      "execution_count": null,
      "id": "55RILTxPuo-M",
      "metadata": {
        "id": "55RILTxPuo-M"
      },
      "outputs": [],
      "source": [
        "lr_test_SMOTEENN_predictions_dataframe \\\n",
        "    = classificationsx.return_predictions_dataframe \\\n",
        "        (logistic_regression_SMOTE_model,\n",
        "         x_test_scaled_dataframe,\n",
        "         y_test_series)\n",
        "\n",
        "logx.log_write_object(lr_test_SMOTEENN_predictions_dataframe)"
      ]
    },
    {
      "cell_type": "markdown",
      "id": "unDhZhCLuo-M",
      "metadata": {
        "id": "unDhZhCLuo-M"
      },
      "source": [
        "# <br> **Section 4: Decision Tree Models**"
      ]
    },
    {
      "cell_type": "markdown",
      "id": "IB33c1U8uo-M",
      "metadata": {
        "id": "IB33c1U8uo-M"
      },
      "source": [
        "## **4.1: Fit Models by Using the Scaled Training Data**"
      ]
    },
    {
      "cell_type": "markdown",
      "id": "PRMwlXmuuo-M",
      "metadata": {
        "id": "PRMwlXmuuo-M"
      },
      "source": [
        "### **Original**"
      ]
    },
    {
      "cell_type": "code",
      "execution_count": null,
      "id": "8cIox7tQuo-N",
      "metadata": {
        "id": "8cIox7tQuo-N"
      },
      "outputs": [],
      "source": [
        "dt_grid_search_model \\\n",
        "    = pickle.load(open(credit_risk_constants.CONSTANT_DT_GRID_SEARCH_MODEL_FILE_PATH, 'rb'))\n",
        "\n",
        "decision_tree_model \\\n",
        "    = DecisionTreeClassifier \\\n",
        "        (criterion = dt_grid_search_model.best_params_['criterion'],\n",
        "         splitter = dt_grid_search_model.best_params_['splitter'],\n",
        "         class_weight = dt_grid_search_model.best_params_['class_weight'],\n",
        "         random_state = credit_risk_constants.CONSTANT_ML_RANDOM_STATE_1) \\\n",
        "            .fit(x_train_scaled_dataframe, y_train_series)"
      ]
    },
    {
      "cell_type": "markdown",
      "id": "Z9iks7Lpuo-N",
      "metadata": {
        "id": "Z9iks7Lpuo-N"
      },
      "source": [
        "### **Random Undersampling**"
      ]
    },
    {
      "cell_type": "code",
      "execution_count": null,
      "id": "L_GqlsE9uo-N",
      "metadata": {
        "id": "L_GqlsE9uo-N"
      },
      "outputs": [],
      "source": [
        "dt_undersampled_grid_search_model \\\n",
        "    = pickle.load \\\n",
        "        (open(credit_risk_constants.CONSTANT_DT_UNDERSAMPLED_GRID_SEARCH_MODEL_FILE_PATH, 'rb'))\n",
        "\n",
        "decision_tree_undersampled_model \\\n",
        "    = DecisionTreeClassifier \\\n",
        "        (criterion = dt_undersampled_grid_search_model.best_params_['criterion'],\n",
        "         splitter = dt_undersampled_grid_search_model.best_params_['splitter'],\n",
        "         class_weight = dt_undersampled_grid_search_model.best_params_['class_weight'],\n",
        "         random_state = credit_risk_constants.CONSTANT_ML_RANDOM_STATE_1) \\\n",
        "            .fit(x_train_scaled_undersampled_dataframe, y_train_undersampled_series)"
      ]
    },
    {
      "cell_type": "markdown",
      "id": "F6D40221uo-N",
      "metadata": {
        "id": "F6D40221uo-N"
      },
      "source": [
        "### **Random Oversampling**"
      ]
    },
    {
      "cell_type": "code",
      "execution_count": null,
      "id": "ak3qBRbXuo-N",
      "metadata": {
        "id": "ak3qBRbXuo-N"
      },
      "outputs": [],
      "source": [
        "dt_oversampled_grid_search_model \\\n",
        "    = pickle.load \\\n",
        "        (open(credit_risk_constants.CONSTANT_DT_OVERSAMPLED_GRID_SEARCH_MODEL_FILE_PATH, 'rb'))\n",
        "\n",
        "decision_tree_oversampled_model \\\n",
        "    = DecisionTreeClassifier \\\n",
        "        (criterion = dt_oversampled_grid_search_model.best_params_['criterion'],\n",
        "         splitter = dt_oversampled_grid_search_model.best_params_['splitter'],\n",
        "         class_weight = dt_oversampled_grid_search_model.best_params_['class_weight'],\n",
        "         random_state = credit_risk_constants.CONSTANT_ML_RANDOM_STATE_1) \\\n",
        "            .fit(x_train_scaled_oversampled_dataframe, y_train_oversampled_series)"
      ]
    },
    {
      "cell_type": "markdown",
      "id": "oEMWmbf-uo-N",
      "metadata": {
        "id": "oEMWmbf-uo-N"
      },
      "source": [
        "### **Cluster Centroids**"
      ]
    },
    {
      "cell_type": "code",
      "execution_count": null,
      "id": "yY-Gg4U_uo-N",
      "metadata": {
        "id": "yY-Gg4U_uo-N"
      },
      "outputs": [],
      "source": [
        "dt_cluster_centroids_grid_search_model \\\n",
        "    = pickle.load \\\n",
        "        (open(credit_risk_constants.CONSTANT_DT_CLUSTER_CENTROIDS_GRID_SEARCH_MODEL_FILE_PATH, 'rb'))\n",
        "\n",
        "decision_tree_cluster_centroids_model \\\n",
        "    = DecisionTreeClassifier \\\n",
        "        (criterion = dt_cluster_centroids_grid_search_model.best_params_['criterion'],\n",
        "         splitter = dt_cluster_centroids_grid_search_model.best_params_['splitter'],\n",
        "         class_weight = dt_cluster_centroids_grid_search_model.best_params_['class_weight'],\n",
        "         random_state = credit_risk_constants.CONSTANT_ML_RANDOM_STATE_1) \\\n",
        "            .fit(x_train_scaled_cluster_centroids_dataframe, y_train_cluster_centroids_series)"
      ]
    },
    {
      "cell_type": "markdown",
      "id": "AHUF3lF3uo-N",
      "metadata": {
        "id": "AHUF3lF3uo-N"
      },
      "source": [
        "### **SMOTE**"
      ]
    },
    {
      "cell_type": "code",
      "execution_count": null,
      "id": "EtV1ZU9Luo-N",
      "metadata": {
        "id": "EtV1ZU9Luo-N"
      },
      "outputs": [],
      "source": [
        "dt_SMOTE_grid_search_model \\\n",
        "    = pickle.load \\\n",
        "        (open(credit_risk_constants.CONSTANT_DT_SMOTE_GRID_SEARCH_MODEL_FILE_PATH, 'rb'))\n",
        "\n",
        "decision_tree_SMOTE_model \\\n",
        "    = DecisionTreeClassifier \\\n",
        "        (criterion = dt_SMOTE_grid_search_model.best_params_['criterion'],\n",
        "         splitter = dt_SMOTE_grid_search_model.best_params_['splitter'],\n",
        "         class_weight = dt_SMOTE_grid_search_model.best_params_['class_weight'],\n",
        "         random_state = credit_risk_constants.CONSTANT_ML_RANDOM_STATE_1) \\\n",
        "            .fit(x_train_scaled_SMOTE_dataframe, y_train_SMOTE_series)"
      ]
    },
    {
      "cell_type": "markdown",
      "id": "bz2i1E3Xuo-N",
      "metadata": {
        "id": "bz2i1E3Xuo-N"
      },
      "source": [
        "### **SMOTEENN**"
      ]
    },
    {
      "cell_type": "code",
      "execution_count": null,
      "id": "RHcA9DWHuo-O",
      "metadata": {
        "id": "RHcA9DWHuo-O"
      },
      "outputs": [],
      "source": [
        "dt_SMOTEENN_grid_search_model \\\n",
        "    = pickle.load \\\n",
        "        (open(credit_risk_constants.CONSTANT_DT_SMOTEENN_GRID_SEARCH_MODEL_FILE_PATH, 'rb'))\n",
        "\n",
        "decision_tree_SMOTEENN_model \\\n",
        "    = DecisionTreeClassifier \\\n",
        "        (criterion = dt_SMOTEENN_grid_search_model.best_params_['criterion'],\n",
        "         splitter = dt_SMOTEENN_grid_search_model.best_params_['splitter'],\n",
        "         class_weight = dt_SMOTEENN_grid_search_model.best_params_['class_weight'],\n",
        "         random_state = credit_risk_constants.CONSTANT_ML_RANDOM_STATE_1) \\\n",
        "            .fit(x_train_scaled_SMOTEENN_dataframe, y_train_SMOTEENN_series)"
      ]
    },
    {
      "cell_type": "markdown",
      "id": "pxLrXrvcuo-O",
      "metadata": {
        "id": "pxLrXrvcuo-O"
      },
      "source": [
        "## **4.2: Display the Model Scores Using the Scaled Training and Testing Data**"
      ]
    },
    {
      "cell_type": "markdown",
      "id": "ZgbxUSpQuo-O",
      "metadata": {
        "id": "ZgbxUSpQuo-O"
      },
      "source": [
        "### **Original**"
      ]
    },
    {
      "cell_type": "code",
      "execution_count": null,
      "id": "55wdsIWCuo-O",
      "metadata": {
        "colab": {
          "base_uri": "https://localhost:8080/"
        },
        "id": "55wdsIWCuo-O",
        "outputId": "7172c2a3-444c-4121-ca71-35f8c5039e89"
      },
      "outputs": [
        {
          "name": "stdout",
          "output_type": "stream",
          "text": [
            "\u001b[1mThe decision tree model score from scaled training data is 99.63%\u001b[0m\n"
          ]
        }
      ],
      "source": [
        "accuracy_score_train_float \\\n",
        "    = decision_tree_model.score \\\n",
        "        (x_train_scaled_dataframe, y_train_series) * 100\n",
        "\n",
        "logx.print_and_log_text \\\n",
        "    ('\\033[1m'\n",
        "     + 'The decision tree model score from scaled training data is {:.2f}%' \\\n",
        "         .format(accuracy_score_train_float)\n",
        "     + '\\033[0m')"
      ]
    },
    {
      "cell_type": "code",
      "execution_count": null,
      "id": "fsutG1wquo-O",
      "metadata": {
        "colab": {
          "base_uri": "https://localhost:8080/"
        },
        "id": "fsutG1wquo-O",
        "outputId": "4a135c99-e6ce-41e1-8329-84d4e9a2d5be"
      },
      "outputs": [
        {
          "name": "stdout",
          "output_type": "stream",
          "text": [
            "\u001b[1mThe decision tree model score from scaled test data is 98.88%\u001b[0m\n"
          ]
        }
      ],
      "source": [
        "accuracy_score_test_float \\\n",
        "    = decision_tree_model.score \\\n",
        "        (x_test_scaled_dataframe, y_test_series) * 100\n",
        "\n",
        "logx.print_and_log_text \\\n",
        "    ('\\033[1m'\n",
        "     + 'The decision tree model score from scaled test data is {:.2f}%' \\\n",
        "         .format(accuracy_score_test_float)\n",
        "     + '\\033[0m')"
      ]
    },
    {
      "cell_type": "markdown",
      "id": "nKWE9GhUuo-O",
      "metadata": {
        "id": "nKWE9GhUuo-O"
      },
      "source": [
        "### **Random Undersampling**"
      ]
    },
    {
      "cell_type": "code",
      "execution_count": null,
      "id": "lDxW6hXIuo-O",
      "metadata": {
        "colab": {
          "base_uri": "https://localhost:8080/"
        },
        "id": "lDxW6hXIuo-O",
        "outputId": "558e5cff-842a-4598-e100-5d8075bb43f9"
      },
      "outputs": [
        {
          "name": "stdout",
          "output_type": "stream",
          "text": [
            "\u001b[1mThe decision tree model score from undersampled scaled training data is 99.05%\u001b[0m\n"
          ]
        }
      ],
      "source": [
        "accuracy_score_train_float \\\n",
        "    = decision_tree_undersampled_model.score \\\n",
        "        (x_train_scaled_dataframe, y_train_series) * 100\n",
        "\n",
        "logx.print_and_log_text \\\n",
        "    ('\\033[1m'\n",
        "     + 'The decision tree model score from undersampled scaled training data is {:.2f}%' \\\n",
        "         .format(accuracy_score_train_float)\n",
        "     + '\\033[0m')"
      ]
    },
    {
      "cell_type": "code",
      "execution_count": null,
      "id": "UJDpgiquuo-O",
      "metadata": {
        "colab": {
          "base_uri": "https://localhost:8080/"
        },
        "id": "UJDpgiquuo-O",
        "outputId": "2a73da38-bae2-4f8b-d8e5-a061d09376c4"
      },
      "outputs": [
        {
          "name": "stdout",
          "output_type": "stream",
          "text": [
            "\u001b[1mThe decision tree model score from undersampled scaled test data is 98.82%\u001b[0m\n"
          ]
        }
      ],
      "source": [
        "accuracy_score_test_float \\\n",
        "    = decision_tree_undersampled_model.score \\\n",
        "        (x_test_scaled_dataframe, y_test_series) * 100\n",
        "\n",
        "logx.print_and_log_text \\\n",
        "    ('\\033[1m'\n",
        "     + 'The decision tree model score from undersampled scaled test data is {:.2f}%' \\\n",
        "         .format(accuracy_score_test_float)\n",
        "     + '\\033[0m')"
      ]
    },
    {
      "cell_type": "markdown",
      "id": "ROlIUb-xuo-O",
      "metadata": {
        "id": "ROlIUb-xuo-O"
      },
      "source": [
        "### **Random Oversampling**"
      ]
    },
    {
      "cell_type": "code",
      "execution_count": null,
      "id": "4DAWy_B7uo-O",
      "metadata": {
        "colab": {
          "base_uri": "https://localhost:8080/"
        },
        "id": "4DAWy_B7uo-O",
        "outputId": "6c9b5842-9d0f-43cb-ddf3-6d89655831b9"
      },
      "outputs": [
        {
          "name": "stdout",
          "output_type": "stream",
          "text": [
            "\u001b[1mThe decision tree model score from overersampled scaled training data is 99.57%\u001b[0m\n"
          ]
        }
      ],
      "source": [
        "accuracy_score_train_float \\\n",
        "    = decision_tree_oversampled_model.score \\\n",
        "        (x_train_scaled_dataframe, y_train_series) * 100\n",
        "\n",
        "logx.print_and_log_text \\\n",
        "    ('\\033[1m'\n",
        "     + 'The decision tree model score from overersampled scaled training data is {:.2f}%' \\\n",
        "         .format(accuracy_score_train_float)\n",
        "     + '\\033[0m')"
      ]
    },
    {
      "cell_type": "code",
      "execution_count": null,
      "id": "YApdwac3uo-O",
      "metadata": {
        "colab": {
          "base_uri": "https://localhost:8080/"
        },
        "id": "YApdwac3uo-O",
        "outputId": "cff6254c-9f12-41e5-aac1-33486fe6c91b"
      },
      "outputs": [
        {
          "name": "stdout",
          "output_type": "stream",
          "text": [
            "\u001b[1mThe decision tree model score from oversampled scaled test data is 98.81%\u001b[0m\n"
          ]
        }
      ],
      "source": [
        "accuracy_score_test_float \\\n",
        "    = decision_tree_oversampled_model.score \\\n",
        "        (x_test_scaled_dataframe, y_test_series) * 100\n",
        "\n",
        "logx.print_and_log_text \\\n",
        "    ('\\033[1m'\n",
        "     + 'The decision tree model score from oversampled scaled test data is {:.2f}%' \\\n",
        "         .format(accuracy_score_test_float)\n",
        "     + '\\033[0m')"
      ]
    },
    {
      "cell_type": "markdown",
      "id": "SBprZ50yuo-P",
      "metadata": {
        "id": "SBprZ50yuo-P"
      },
      "source": [
        "### **Cluster Centroids**"
      ]
    },
    {
      "cell_type": "code",
      "execution_count": null,
      "id": "r7luvKJwuo-P",
      "metadata": {
        "colab": {
          "base_uri": "https://localhost:8080/"
        },
        "id": "r7luvKJwuo-P",
        "outputId": "e4170541-f999-4337-97fb-2c987bcc3e5e"
      },
      "outputs": [
        {
          "name": "stdout",
          "output_type": "stream",
          "text": [
            "\u001b[1mThe decision tree model score from cluster centroids scaled training data is 99.38%\u001b[0m\n"
          ]
        }
      ],
      "source": [
        "accuracy_score_train_float \\\n",
        "    = decision_tree_cluster_centroids_model.score \\\n",
        "        (x_train_scaled_dataframe, y_train_series) * 100\n",
        "\n",
        "logx.print_and_log_text \\\n",
        "    ('\\033[1m'\n",
        "     + 'The decision tree model score from cluster centroids scaled training data is {:.2f}%' \\\n",
        "         .format(accuracy_score_train_float)\n",
        "     + '\\033[0m')"
      ]
    },
    {
      "cell_type": "code",
      "execution_count": null,
      "id": "uChc9hkwuo-P",
      "metadata": {
        "colab": {
          "base_uri": "https://localhost:8080/"
        },
        "id": "uChc9hkwuo-P",
        "outputId": "e21c871c-c40f-4eae-e2bb-0f4eb0e1b251"
      },
      "outputs": [
        {
          "name": "stdout",
          "output_type": "stream",
          "text": [
            "\u001b[1mThe decision tree model score from cluster centroids scaled test data is 99.01%\u001b[0m\n"
          ]
        }
      ],
      "source": [
        "accuracy_score_test_float \\\n",
        "    = decision_tree_cluster_centroids_model.score \\\n",
        "        (x_test_scaled_dataframe, y_test_series) * 100\n",
        "\n",
        "logx.print_and_log_text \\\n",
        "    ('\\033[1m'\n",
        "     + 'The decision tree model score from cluster centroids scaled test data is {:.2f}%' \\\n",
        "         .format(accuracy_score_test_float)\n",
        "     + '\\033[0m')"
      ]
    },
    {
      "cell_type": "markdown",
      "id": "NbZZPX3Ruo-P",
      "metadata": {
        "id": "NbZZPX3Ruo-P"
      },
      "source": [
        "### **SMOTE**"
      ]
    },
    {
      "cell_type": "code",
      "execution_count": null,
      "id": "yc38pNiOuo-P",
      "metadata": {
        "colab": {
          "base_uri": "https://localhost:8080/"
        },
        "id": "yc38pNiOuo-P",
        "outputId": "00027b75-ac02-43be-87f6-ee8c35464bf7"
      },
      "outputs": [
        {
          "name": "stdout",
          "output_type": "stream",
          "text": [
            "\u001b[1mThe decision tree model score from SMOTE scaled training data is 99.75%\u001b[0m\n"
          ]
        }
      ],
      "source": [
        "accuracy_score_train_float \\\n",
        "    = decision_tree_SMOTE_model.score \\\n",
        "        (x_train_scaled_dataframe, y_train_series) * 100\n",
        "\n",
        "logx.print_and_log_text \\\n",
        "    ('\\033[1m'\n",
        "     + 'The decision tree model score from SMOTE scaled training data is {:.2f}%' \\\n",
        "         .format(accuracy_score_train_float)\n",
        "     + '\\033[0m')"
      ]
    },
    {
      "cell_type": "code",
      "execution_count": null,
      "id": "iJ5YaqtCuo-P",
      "metadata": {
        "colab": {
          "base_uri": "https://localhost:8080/"
        },
        "id": "iJ5YaqtCuo-P",
        "outputId": "a4178430-081a-43ff-fbb6-8f8b3e7a98c7"
      },
      "outputs": [
        {
          "name": "stdout",
          "output_type": "stream",
          "text": [
            "\u001b[1mThe decision tree model score from SMOTE scaled test data is 55.65%\u001b[0m\n"
          ]
        }
      ],
      "source": [
        "accuracy_score_test_float \\\n",
        "    = decision_tree_SMOTE_model.score \\\n",
        "        (x_test_scaled_dataframe, y_test_series) * 100\n",
        "\n",
        "logx.print_and_log_text \\\n",
        "    ('\\033[1m'\n",
        "     + 'The decision tree model score from SMOTE scaled test data is {:.2f}%' \\\n",
        "         .format(accuracy_score_test_float)\n",
        "     + '\\033[0m')"
      ]
    },
    {
      "cell_type": "markdown",
      "id": "m9CDj-Quuo-P",
      "metadata": {
        "id": "m9CDj-Quuo-P"
      },
      "source": [
        "### **SMOTEENN**"
      ]
    },
    {
      "cell_type": "code",
      "execution_count": null,
      "id": "iyJOFzkCuo-P",
      "metadata": {
        "colab": {
          "base_uri": "https://localhost:8080/"
        },
        "id": "iyJOFzkCuo-P",
        "outputId": "05f7fff6-63ee-4d69-b9d5-b6e70f55f694"
      },
      "outputs": [
        {
          "name": "stdout",
          "output_type": "stream",
          "text": [
            "\u001b[1mThe decision tree model score from SMOTEENN scaled training data is 99.47%\u001b[0m\n"
          ]
        }
      ],
      "source": [
        "accuracy_score_train_float \\\n",
        "    = decision_tree_SMOTEENN_model.score \\\n",
        "        (x_train_scaled_dataframe, y_train_series) * 100\n",
        "\n",
        "logx.print_and_log_text \\\n",
        "    ('\\033[1m'\n",
        "     + 'The decision tree model score from SMOTEENN scaled training data is {:.2f}%' \\\n",
        "         .format(accuracy_score_train_float)\n",
        "     + '\\033[0m')"
      ]
    },
    {
      "cell_type": "code",
      "execution_count": null,
      "id": "y2w_kGHkuo-P",
      "metadata": {
        "colab": {
          "base_uri": "https://localhost:8080/"
        },
        "id": "y2w_kGHkuo-P",
        "outputId": "ac7b19f3-72bd-40e2-8bd4-2bde4e32de49"
      },
      "outputs": [
        {
          "name": "stdout",
          "output_type": "stream",
          "text": [
            "\u001b[1mThe decision tree model score from SMOTEENN scaled test data is 87.83%\u001b[0m\n"
          ]
        }
      ],
      "source": [
        "accuracy_score_test_float \\\n",
        "    = decision_tree_SMOTEENN_model.score \\\n",
        "        (x_test_scaled_dataframe, y_test_series) * 100\n",
        "\n",
        "logx.print_and_log_text \\\n",
        "    ('\\033[1m'\n",
        "     + 'The decision tree model score from SMOTEENN scaled test data is {:.2f}%' \\\n",
        "         .format(accuracy_score_test_float)\n",
        "     + '\\033[0m')"
      ]
    },
    {
      "cell_type": "markdown",
      "id": "jPDWvGOruo-P",
      "metadata": {
        "id": "jPDWvGOruo-P"
      },
      "source": [
        "## **4.3: Calculate Training and Test Predictions.**"
      ]
    },
    {
      "cell_type": "markdown",
      "id": "qvHmRet5uo-P",
      "metadata": {
        "id": "qvHmRet5uo-P"
      },
      "source": [
        "### **Original**"
      ]
    },
    {
      "cell_type": "code",
      "execution_count": null,
      "id": "cxRwZX-muo-P",
      "metadata": {
        "id": "cxRwZX-muo-P"
      },
      "outputs": [],
      "source": [
        "dt_train_predictions_dataframe \\\n",
        "    = classificationsx.return_predictions_dataframe \\\n",
        "        (decision_tree_model,\n",
        "         x_train_scaled_dataframe,\n",
        "         y_train_series)\n",
        "\n",
        "logx.log_write_object(dt_train_predictions_dataframe)"
      ]
    },
    {
      "cell_type": "code",
      "execution_count": null,
      "id": "4m9a5ouquo-Q",
      "metadata": {
        "id": "4m9a5ouquo-Q"
      },
      "outputs": [],
      "source": [
        "dt_test_predictions_dataframe \\\n",
        "    = classificationsx.return_predictions_dataframe \\\n",
        "        (decision_tree_model,\n",
        "         x_test_scaled_dataframe,\n",
        "         y_test_series)\n",
        "\n",
        "logx.log_write_object(dt_test_predictions_dataframe)"
      ]
    },
    {
      "cell_type": "markdown",
      "id": "e-auq5A5uo-Q",
      "metadata": {
        "id": "e-auq5A5uo-Q"
      },
      "source": [
        "### **Random Undersampling**"
      ]
    },
    {
      "cell_type": "code",
      "execution_count": null,
      "id": "_T9gtfmIuo-Q",
      "metadata": {
        "id": "_T9gtfmIuo-Q"
      },
      "outputs": [],
      "source": [
        "dt_train_undersampled_predictions_dataframe \\\n",
        "    = classificationsx.return_predictions_dataframe \\\n",
        "        (decision_tree_undersampled_model,\n",
        "         x_train_scaled_dataframe,\n",
        "         y_train_series)\n",
        "\n",
        "logx.log_write_object(dt_train_undersampled_predictions_dataframe)"
      ]
    },
    {
      "cell_type": "code",
      "execution_count": null,
      "id": "d-_9wxnIuo-Q",
      "metadata": {
        "id": "d-_9wxnIuo-Q"
      },
      "outputs": [],
      "source": [
        "dt_test_undersampled_predictions_dataframe \\\n",
        "    = classificationsx.return_predictions_dataframe \\\n",
        "        (decision_tree_undersampled_model,\n",
        "         x_test_scaled_dataframe,\n",
        "         y_test_series)\n",
        "\n",
        "logx.log_write_object(dt_test_undersampled_predictions_dataframe)"
      ]
    },
    {
      "cell_type": "markdown",
      "id": "Yg7UptCDuo-Q",
      "metadata": {
        "id": "Yg7UptCDuo-Q"
      },
      "source": [
        "### **Random Oversampling**"
      ]
    },
    {
      "cell_type": "code",
      "execution_count": null,
      "id": "s-gT6bAruo-Q",
      "metadata": {
        "id": "s-gT6bAruo-Q"
      },
      "outputs": [],
      "source": [
        "dt_train_oversampled_predictions_dataframe \\\n",
        "    = classificationsx.return_predictions_dataframe \\\n",
        "        (decision_tree_oversampled_model,\n",
        "         x_train_scaled_dataframe,\n",
        "         y_train_series)\n",
        "\n",
        "logx.log_write_object(dt_train_oversampled_predictions_dataframe)"
      ]
    },
    {
      "cell_type": "code",
      "execution_count": null,
      "id": "5Hb2r0fPuo-Q",
      "metadata": {
        "id": "5Hb2r0fPuo-Q"
      },
      "outputs": [],
      "source": [
        "dt_test_oversampled_predictions_dataframe \\\n",
        "    = classificationsx.return_predictions_dataframe \\\n",
        "        (decision_tree_oversampled_model,\n",
        "         x_test_scaled_dataframe,\n",
        "         y_test_series)\n",
        "\n",
        "logx.log_write_object(dt_test_oversampled_predictions_dataframe)"
      ]
    },
    {
      "cell_type": "markdown",
      "id": "_Rjevb03uo-Q",
      "metadata": {
        "id": "_Rjevb03uo-Q"
      },
      "source": [
        "### **Cluster Centroids**"
      ]
    },
    {
      "cell_type": "code",
      "execution_count": null,
      "id": "m7cbKOaNuo-Q",
      "metadata": {
        "id": "m7cbKOaNuo-Q"
      },
      "outputs": [],
      "source": [
        "dt_train_cluster_centroids_predictions_dataframe \\\n",
        "    = classificationsx.return_predictions_dataframe \\\n",
        "        (decision_tree_cluster_centroids_model,\n",
        "         x_train_scaled_dataframe,\n",
        "         y_train_series)\n",
        "\n",
        "logx.log_write_object(dt_train_cluster_centroids_predictions_dataframe)"
      ]
    },
    {
      "cell_type": "code",
      "execution_count": null,
      "id": "zmtHReMnuo-Q",
      "metadata": {
        "id": "zmtHReMnuo-Q"
      },
      "outputs": [],
      "source": [
        "dt_test_cluster_centroids_predictions_dataframe \\\n",
        "    = classificationsx.return_predictions_dataframe \\\n",
        "        (decision_tree_cluster_centroids_model,\n",
        "         x_test_scaled_dataframe,\n",
        "         y_test_series)\n",
        "\n",
        "logx.log_write_object(dt_test_cluster_centroids_predictions_dataframe)"
      ]
    },
    {
      "cell_type": "markdown",
      "id": "W7AV2Lr-uo-R",
      "metadata": {
        "id": "W7AV2Lr-uo-R"
      },
      "source": [
        "### **SMOTE**"
      ]
    },
    {
      "cell_type": "code",
      "execution_count": null,
      "id": "GIf_nGxvuo-R",
      "metadata": {
        "id": "GIf_nGxvuo-R"
      },
      "outputs": [],
      "source": [
        "dt_train_SMOTE_predictions_dataframe \\\n",
        "    = classificationsx.return_predictions_dataframe \\\n",
        "        (decision_tree_SMOTE_model,\n",
        "         x_train_scaled_dataframe,\n",
        "         y_train_series)\n",
        "\n",
        "logx.log_write_object(dt_train_SMOTE_predictions_dataframe)"
      ]
    },
    {
      "cell_type": "code",
      "execution_count": null,
      "id": "gklYqgXCuo-R",
      "metadata": {
        "id": "gklYqgXCuo-R"
      },
      "outputs": [],
      "source": [
        "dt_test_SMOTE_predictions_dataframe \\\n",
        "    = classificationsx.return_predictions_dataframe \\\n",
        "        (decision_tree_SMOTE_model,\n",
        "         x_test_scaled_dataframe,\n",
        "         y_test_series)\n",
        "\n",
        "logx.log_write_object(dt_test_SMOTE_predictions_dataframe)"
      ]
    },
    {
      "cell_type": "markdown",
      "id": "ovZvuOl7uo-R",
      "metadata": {
        "id": "ovZvuOl7uo-R"
      },
      "source": [
        "### **SMOTEENN**"
      ]
    },
    {
      "cell_type": "code",
      "execution_count": null,
      "id": "vlsJFX1guo-R",
      "metadata": {
        "id": "vlsJFX1guo-R"
      },
      "outputs": [],
      "source": [
        "dt_train_SMOTEENN_predictions_dataframe \\\n",
        "    = classificationsx.return_predictions_dataframe \\\n",
        "        (decision_tree_SMOTEENN_model,\n",
        "         x_train_scaled_dataframe,\n",
        "         y_train_series)\n",
        "\n",
        "logx.log_write_object(dt_train_SMOTEENN_predictions_dataframe)"
      ]
    },
    {
      "cell_type": "code",
      "execution_count": null,
      "id": "iNPsxY5quo-R",
      "metadata": {
        "id": "iNPsxY5quo-R"
      },
      "outputs": [],
      "source": [
        "dt_test_SMOTEENN_predictions_dataframe \\\n",
        "    = classificationsx.return_predictions_dataframe \\\n",
        "        (decision_tree_SMOTE_model,\n",
        "         x_test_scaled_dataframe,\n",
        "         y_test_series)\n",
        "\n",
        "logx.log_write_object(dt_test_SMOTEENN_predictions_dataframe)"
      ]
    },
    {
      "cell_type": "markdown",
      "id": "qYW9xgc4uo-R",
      "metadata": {
        "id": "qYW9xgc4uo-R"
      },
      "source": [
        "# <br> **Section 5: Random Forest Models**"
      ]
    },
    {
      "cell_type": "markdown",
      "id": "qw7KoZQZuo-R",
      "metadata": {
        "id": "qw7KoZQZuo-R"
      },
      "source": [
        "## **5.1: Fit Models by Using the Scaled Training Data.**"
      ]
    },
    {
      "cell_type": "markdown",
      "id": "NHJXmqRHuo-R",
      "metadata": {
        "id": "NHJXmqRHuo-R"
      },
      "source": [
        "### **Original**"
      ]
    },
    {
      "cell_type": "code",
      "execution_count": null,
      "id": "Ypd_KZmnuo-R",
      "metadata": {
        "id": "Ypd_KZmnuo-R"
      },
      "outputs": [],
      "source": [
        "rf_grid_search_model \\\n",
        "    = pickle.load(open(credit_risk_constants.CONSTANT_RF_GRID_SEARCH_MODEL_FILE_PATH, 'rb'))\n",
        "\n",
        "random_forest_model \\\n",
        "    = RandomForestClassifier \\\n",
        "        (criterion = rf_grid_search_model.best_params_['criterion'],\n",
        "         class_weight = rf_grid_search_model.best_params_['class_weight'],\n",
        "         n_estimators = credit_risk_constants.CONSTANT_ML_RF_N_ESTIMATORS,\n",
        "         random_state = credit_risk_constants.CONSTANT_ML_RANDOM_STATE_1) \\\n",
        "            .fit(x_train_scaled_dataframe, y_train_series)"
      ]
    },
    {
      "cell_type": "markdown",
      "id": "BgFRZ8Psuo-R",
      "metadata": {
        "id": "BgFRZ8Psuo-R"
      },
      "source": [
        "### **Random Undersampling**"
      ]
    },
    {
      "cell_type": "code",
      "execution_count": null,
      "id": "pd8ZsoInuo-S",
      "metadata": {
        "id": "pd8ZsoInuo-S"
      },
      "outputs": [],
      "source": [
        "rf_undersampled_grid_search_model \\\n",
        "    = pickle.load \\\n",
        "        (open(credit_risk_constants.CONSTANT_RF_UNDERSAMPLED_GRID_SEARCH_MODEL_FILE_PATH, 'rb'))\n",
        "\n",
        "random_forest_undersampled_model \\\n",
        "    = RandomForestClassifier \\\n",
        "        (criterion = rf_undersampled_grid_search_model.best_params_['criterion'],\n",
        "         class_weight = rf_undersampled_grid_search_model.best_params_['class_weight'],\n",
        "         n_estimators = credit_risk_constants.CONSTANT_ML_RF_N_ESTIMATORS,\n",
        "         random_state = credit_risk_constants.CONSTANT_ML_RANDOM_STATE_1) \\\n",
        "            .fit(x_train_scaled_undersampled_dataframe, y_train_undersampled_series)"
      ]
    },
    {
      "cell_type": "markdown",
      "id": "TCSU4c0tuo-S",
      "metadata": {
        "id": "TCSU4c0tuo-S"
      },
      "source": [
        "### **Random Oversampling**"
      ]
    },
    {
      "cell_type": "code",
      "execution_count": null,
      "id": "qhLe6lqNuo-S",
      "metadata": {
        "id": "qhLe6lqNuo-S"
      },
      "outputs": [],
      "source": [
        "rf_oversampled_grid_search_model \\\n",
        "    = pickle.load \\\n",
        "        (open(credit_risk_constants.CONSTANT_RF_OVERSAMPLED_GRID_SEARCH_MODEL_FILE_PATH, 'rb'))\n",
        "\n",
        "random_forest_oversampled_model \\\n",
        "    = RandomForestClassifier \\\n",
        "        (criterion = rf_oversampled_grid_search_model.best_params_['criterion'],\n",
        "         class_weight = rf_oversampled_grid_search_model.best_params_['class_weight'],\n",
        "         n_estimators = credit_risk_constants.CONSTANT_ML_RF_N_ESTIMATORS,\n",
        "         random_state = credit_risk_constants.CONSTANT_ML_RANDOM_STATE_1) \\\n",
        "            .fit(x_train_scaled_oversampled_dataframe, y_train_oversampled_series)"
      ]
    },
    {
      "cell_type": "markdown",
      "id": "9Ed2HYSquo-S",
      "metadata": {
        "id": "9Ed2HYSquo-S"
      },
      "source": [
        "### **Cluster Centroids**"
      ]
    },
    {
      "cell_type": "code",
      "execution_count": null,
      "id": "aUH2QilSuo-S",
      "metadata": {
        "id": "aUH2QilSuo-S"
      },
      "outputs": [],
      "source": [
        "rf_cluster_centroids_grid_search_model \\\n",
        "    = pickle.load \\\n",
        "        (open(credit_risk_constants.CONSTANT_RF_CLUSTER_CENTROIDS_GRID_SEARCH_MODEL_FILE_PATH, 'rb'))\n",
        "\n",
        "random_forest_cluster_centroids_model \\\n",
        "    = RandomForestClassifier \\\n",
        "        (criterion = rf_cluster_centroids_grid_search_model.best_params_['criterion'],\n",
        "         class_weight = rf_cluster_centroids_grid_search_model.best_params_['class_weight'],\n",
        "         n_estimators = credit_risk_constants.CONSTANT_ML_RF_N_ESTIMATORS,\n",
        "         random_state = credit_risk_constants.CONSTANT_ML_RANDOM_STATE_1) \\\n",
        "            .fit(x_train_scaled_cluster_centroids_dataframe, y_train_cluster_centroids_series)"
      ]
    },
    {
      "cell_type": "markdown",
      "id": "ky6wTx0wuo-S",
      "metadata": {
        "id": "ky6wTx0wuo-S"
      },
      "source": [
        "### **SMOTE**"
      ]
    },
    {
      "cell_type": "code",
      "execution_count": null,
      "id": "XyRD76wBuo-S",
      "metadata": {
        "id": "XyRD76wBuo-S"
      },
      "outputs": [],
      "source": [
        "rf_SMOTE_grid_search_model \\\n",
        "    = pickle.load \\\n",
        "        (open(credit_risk_constants.CONSTANT_RF_SMOTE_GRID_SEARCH_MODEL_FILE_PATH, 'rb'))\n",
        "\n",
        "random_forest_SMOTE_model \\\n",
        "    = RandomForestClassifier \\\n",
        "        (criterion = rf_SMOTE_grid_search_model.best_params_['criterion'],\n",
        "         class_weight = rf_SMOTE_grid_search_model.best_params_['class_weight'],\n",
        "         n_estimators = credit_risk_constants.CONSTANT_ML_RF_N_ESTIMATORS,\n",
        "         random_state = credit_risk_constants.CONSTANT_ML_RANDOM_STATE_1) \\\n",
        "            .fit(x_train_scaled_SMOTE_dataframe, y_train_SMOTE_series)"
      ]
    },
    {
      "cell_type": "markdown",
      "id": "VdKxwY9buo-S",
      "metadata": {
        "id": "VdKxwY9buo-S"
      },
      "source": [
        "### **SMOTEENN**"
      ]
    },
    {
      "cell_type": "code",
      "execution_count": null,
      "id": "rcRsLcEiuo-S",
      "metadata": {
        "id": "rcRsLcEiuo-S"
      },
      "outputs": [],
      "source": [
        "rf_SMOTEENN_grid_search_model \\\n",
        "    = pickle.load \\\n",
        "        (open(credit_risk_constants.CONSTANT_RF_SMOTEENN_GRID_SEARCH_MODEL_FILE_PATH, 'rb'))\n",
        "\n",
        "random_forest_SMOTEENN_model \\\n",
        "    = RandomForestClassifier \\\n",
        "        (criterion = rf_SMOTEENN_grid_search_model.best_params_['criterion'],\n",
        "         class_weight = rf_SMOTEENN_grid_search_model.best_params_['class_weight'],\n",
        "         n_estimators = credit_risk_constants.CONSTANT_ML_RF_N_ESTIMATORS,\n",
        "         random_state = credit_risk_constants.CONSTANT_ML_RANDOM_STATE_1) \\\n",
        "            .fit(x_train_scaled_SMOTEENN_dataframe, y_train_SMOTEENN_series)"
      ]
    },
    {
      "cell_type": "markdown",
      "id": "stX2wMxFuo-T",
      "metadata": {
        "id": "stX2wMxFuo-T"
      },
      "source": [
        "## **5.2: Display the Model Scores Using the Scaled Training and Testing Data**"
      ]
    },
    {
      "cell_type": "markdown",
      "id": "WakqIqV1uo-T",
      "metadata": {
        "id": "WakqIqV1uo-T"
      },
      "source": [
        "### **Original**"
      ]
    },
    {
      "cell_type": "code",
      "execution_count": null,
      "id": "DpUGvmdKuo-T",
      "metadata": {
        "colab": {
          "base_uri": "https://localhost:8080/"
        },
        "id": "DpUGvmdKuo-T",
        "outputId": "da53ef0c-26c0-488c-ac45-5901ed52b007"
      },
      "outputs": [
        {
          "name": "stdout",
          "output_type": "stream",
          "text": [
            "\u001b[1mThe random forest model score from scaled training data is 99.75%\u001b[0m\n"
          ]
        }
      ],
      "source": [
        "accuracy_score_train_float \\\n",
        "    = random_forest_model.score \\\n",
        "        (x_train_scaled_dataframe, y_train_series) * 100\n",
        "\n",
        "logx.print_and_log_text \\\n",
        "    ('\\033[1m'\n",
        "     + 'The random forest model score from scaled training data is {:.2f}%' \\\n",
        "         .format(accuracy_score_train_float)\n",
        "     + '\\033[0m')"
      ]
    },
    {
      "cell_type": "code",
      "execution_count": null,
      "id": "H6byn4ewuo-T",
      "metadata": {
        "colab": {
          "base_uri": "https://localhost:8080/"
        },
        "id": "H6byn4ewuo-T",
        "outputId": "2469bd9b-546b-474b-d131-9fd850be6ea8"
      },
      "outputs": [
        {
          "name": "stdout",
          "output_type": "stream",
          "text": [
            "\u001b[1mThe random forest model score from scaled test data is 99.25%\u001b[0m\n"
          ]
        }
      ],
      "source": [
        "accuracy_score_test_float \\\n",
        "    = random_forest_model.score \\\n",
        "        (x_test_scaled_dataframe, y_test_series) * 100\n",
        "\n",
        "logx.print_and_log_text \\\n",
        "    ('\\033[1m'\n",
        "     + 'The random forest model score from scaled test data is {:.2f}%' \\\n",
        "         .format(accuracy_score_test_float)\n",
        "     + '\\033[0m')"
      ]
    },
    {
      "cell_type": "markdown",
      "id": "hLD6u9Tguo-T",
      "metadata": {
        "id": "hLD6u9Tguo-T"
      },
      "source": [
        "### **Random Undersampling**"
      ]
    },
    {
      "cell_type": "code",
      "execution_count": null,
      "id": "I1pR6s6Zuo-T",
      "metadata": {
        "colab": {
          "base_uri": "https://localhost:8080/"
        },
        "id": "I1pR6s6Zuo-T",
        "outputId": "b2547e54-0ad7-4591-f232-c49c31a26bcf"
      },
      "outputs": [
        {
          "name": "stdout",
          "output_type": "stream",
          "text": [
            "\u001b[1mThe random forest model score from undersampled scaled training data is 99.10%\u001b[0m\n"
          ]
        }
      ],
      "source": [
        "accuracy_score_train_float \\\n",
        "    = random_forest_undersampled_model.score \\\n",
        "        (x_train_scaled_dataframe, y_train_series) * 100\n",
        "\n",
        "logx.print_and_log_text \\\n",
        "    ('\\033[1m'\n",
        "     + 'The random forest model score from undersampled scaled training data is {:.2f}%' \\\n",
        "         .format(accuracy_score_train_float)\n",
        "     + '\\033[0m')"
      ]
    },
    {
      "cell_type": "code",
      "execution_count": null,
      "id": "eZD8XG8Auo-T",
      "metadata": {
        "colab": {
          "base_uri": "https://localhost:8080/"
        },
        "id": "eZD8XG8Auo-T",
        "outputId": "d9a0e5e0-e270-4828-de2f-43e5e3536dbc"
      },
      "outputs": [
        {
          "name": "stdout",
          "output_type": "stream",
          "text": [
            "\u001b[1mThe random forest model score from undersampled scaled test data is 99.25%\u001b[0m\n"
          ]
        }
      ],
      "source": [
        "accuracy_score_test_float \\\n",
        "    = random_forest_undersampled_model.score \\\n",
        "        (x_test_scaled_dataframe, y_test_series) * 100\n",
        "\n",
        "logx.print_and_log_text \\\n",
        "    ('\\033[1m'\n",
        "     + 'The random forest model score from undersampled scaled test data is {:.2f}%' \\\n",
        "         .format(accuracy_score_test_float)\n",
        "     + '\\033[0m')"
      ]
    },
    {
      "cell_type": "markdown",
      "id": "_ckuQWw1uo-T",
      "metadata": {
        "id": "_ckuQWw1uo-T"
      },
      "source": [
        "### **Random Oversampling**"
      ]
    },
    {
      "cell_type": "code",
      "execution_count": null,
      "id": "U6iRihWjuo-T",
      "metadata": {
        "colab": {
          "base_uri": "https://localhost:8080/"
        },
        "id": "U6iRihWjuo-T",
        "outputId": "9835de63-1bc2-497b-9659-7dfb34798bb2"
      },
      "outputs": [
        {
          "name": "stdout",
          "output_type": "stream",
          "text": [
            "\u001b[1mThe random forest model score from overersampled scaled training data is 99.57%\u001b[0m\n"
          ]
        }
      ],
      "source": [
        "accuracy_score_train_float \\\n",
        "    = random_forest_oversampled_model.score \\\n",
        "        (x_train_scaled_dataframe, y_train_series) * 100\n",
        "\n",
        "logx.print_and_log_text \\\n",
        "    ('\\033[1m'\n",
        "     + 'The random forest model score from overersampled scaled training data is {:.2f}%' \\\n",
        "         .format(accuracy_score_train_float)\n",
        "     + '\\033[0m')"
      ]
    },
    {
      "cell_type": "code",
      "execution_count": null,
      "id": "an2jpJTguo-T",
      "metadata": {
        "colab": {
          "base_uri": "https://localhost:8080/"
        },
        "id": "an2jpJTguo-T",
        "outputId": "61cb89c4-85a8-404b-91c3-fb4949a06efa"
      },
      "outputs": [
        {
          "name": "stdout",
          "output_type": "stream",
          "text": [
            "\u001b[1mThe random forest model score from oversampled scaled test data is 99.15%\u001b[0m\n"
          ]
        }
      ],
      "source": [
        "accuracy_score_test_float \\\n",
        "    = random_forest_oversampled_model.score \\\n",
        "        (x_test_scaled_dataframe, y_test_series) * 100\n",
        "\n",
        "logx.print_and_log_text \\\n",
        "    ('\\033[1m'\n",
        "     + 'The random forest model score from oversampled scaled test data is {:.2f}%' \\\n",
        "         .format(accuracy_score_test_float)\n",
        "     + '\\033[0m')"
      ]
    },
    {
      "cell_type": "markdown",
      "id": "ZJeiz24quo-U",
      "metadata": {
        "id": "ZJeiz24quo-U"
      },
      "source": [
        "### **Cluster Centroids**"
      ]
    },
    {
      "cell_type": "code",
      "execution_count": null,
      "id": "i_8glK0cuo-U",
      "metadata": {
        "colab": {
          "base_uri": "https://localhost:8080/"
        },
        "id": "i_8glK0cuo-U",
        "outputId": "9ce95c9f-c903-4e31-c6dc-a4525cdab773"
      },
      "outputs": [
        {
          "name": "stdout",
          "output_type": "stream",
          "text": [
            "\u001b[1mThe random forest model score from cluster centroids scaled training data is 99.43%\u001b[0m\n"
          ]
        }
      ],
      "source": [
        "accuracy_score_train_float \\\n",
        "    = random_forest_cluster_centroids_model.score \\\n",
        "        (x_train_scaled_dataframe, y_train_series) * 100\n",
        "\n",
        "logx.print_and_log_text \\\n",
        "    ('\\033[1m'\n",
        "     + 'The random forest model score from cluster centroids scaled training data is {:.2f}%' \\\n",
        "         .format(accuracy_score_train_float)\n",
        "     + '\\033[0m')"
      ]
    },
    {
      "cell_type": "code",
      "execution_count": null,
      "id": "9NggQpMNuo-U",
      "metadata": {
        "colab": {
          "base_uri": "https://localhost:8080/"
        },
        "id": "9NggQpMNuo-U",
        "outputId": "7e6079de-ef55-43ca-c060-86b100b38547"
      },
      "outputs": [
        {
          "name": "stdout",
          "output_type": "stream",
          "text": [
            "\u001b[1mThe random forest model score from cluster centroids scaled test data is 99.10%\u001b[0m\n"
          ]
        }
      ],
      "source": [
        "accuracy_score_test_float \\\n",
        "    = random_forest_cluster_centroids_model.score \\\n",
        "        (x_test_scaled_dataframe, y_test_series) * 100\n",
        "\n",
        "logx.print_and_log_text \\\n",
        "    ('\\033[1m'\n",
        "     + 'The random forest model score from cluster centroids scaled test data is {:.2f}%' \\\n",
        "         .format(accuracy_score_test_float)\n",
        "     + '\\033[0m')"
      ]
    },
    {
      "cell_type": "markdown",
      "id": "kgOzLLiwuo-U",
      "metadata": {
        "id": "kgOzLLiwuo-U"
      },
      "source": [
        "### **SMOTE**"
      ]
    },
    {
      "cell_type": "code",
      "execution_count": null,
      "id": "DFOvKGanuo-U",
      "metadata": {
        "colab": {
          "base_uri": "https://localhost:8080/"
        },
        "id": "DFOvKGanuo-U",
        "outputId": "b2864062-5dfe-4015-eee6-fb274a27bda5"
      },
      "outputs": [
        {
          "name": "stdout",
          "output_type": "stream",
          "text": [
            "\u001b[1mThe random forest model score from SMOTE scaled training data is 99.75%\u001b[0m\n"
          ]
        }
      ],
      "source": [
        "accuracy_score_train_float \\\n",
        "    = random_forest_SMOTE_model.score \\\n",
        "        (x_train_scaled_dataframe, y_train_series) * 100\n",
        "\n",
        "logx.print_and_log_text \\\n",
        "    ('\\033[1m'\n",
        "     + 'The random forest model score from SMOTE scaled training data is {:.2f}%' \\\n",
        "         .format(accuracy_score_train_float)\n",
        "     + '\\033[0m')"
      ]
    },
    {
      "cell_type": "code",
      "execution_count": null,
      "id": "Njs8pOInuo-U",
      "metadata": {
        "colab": {
          "base_uri": "https://localhost:8080/"
        },
        "id": "Njs8pOInuo-U",
        "outputId": "7b8cefb3-96c7-4226-e0d8-f8ac28f2c103"
      },
      "outputs": [
        {
          "name": "stdout",
          "output_type": "stream",
          "text": [
            "\u001b[1mThe random forest model score from SMOTE scaled test data is 74.56%\u001b[0m\n"
          ]
        }
      ],
      "source": [
        "accuracy_score_test_float \\\n",
        "    = random_forest_SMOTE_model.score \\\n",
        "        (x_test_scaled_dataframe, y_test_series) * 100\n",
        "\n",
        "logx.print_and_log_text \\\n",
        "    ('\\033[1m'\n",
        "     + 'The random forest model score from SMOTE scaled test data is {:.2f}%' \\\n",
        "         .format(accuracy_score_test_float)\n",
        "     + '\\033[0m')"
      ]
    },
    {
      "cell_type": "markdown",
      "id": "bIroYFn_uo-U",
      "metadata": {
        "id": "bIroYFn_uo-U"
      },
      "source": [
        "### **SMOTEENN**"
      ]
    },
    {
      "cell_type": "code",
      "execution_count": null,
      "id": "dgPickJKuo-U",
      "metadata": {
        "colab": {
          "base_uri": "https://localhost:8080/"
        },
        "id": "dgPickJKuo-U",
        "outputId": "bb0ac760-8ab9-4585-8efd-f8938d83494c"
      },
      "outputs": [
        {
          "name": "stdout",
          "output_type": "stream",
          "text": [
            "\u001b[1mThe random forest model score from SMOTEENN scaled training data is 99.47%\u001b[0m\n"
          ]
        }
      ],
      "source": [
        "accuracy_score_train_float \\\n",
        "    = random_forest_SMOTEENN_model.score \\\n",
        "        (x_train_scaled_dataframe, y_train_series) * 100\n",
        "\n",
        "logx.print_and_log_text \\\n",
        "    ('\\033[1m'\n",
        "     + 'The random forest model score from SMOTEENN scaled training data is {:.2f}%' \\\n",
        "         .format(accuracy_score_train_float)\n",
        "     + '\\033[0m')"
      ]
    },
    {
      "cell_type": "code",
      "execution_count": null,
      "id": "H6fqCVBTuo-U",
      "metadata": {
        "colab": {
          "base_uri": "https://localhost:8080/"
        },
        "id": "H6fqCVBTuo-U",
        "outputId": "51a02d10-be40-4254-a4b3-e63529b87ede"
      },
      "outputs": [
        {
          "name": "stdout",
          "output_type": "stream",
          "text": [
            "\u001b[1mThe random forest model score from SMOTEENN scaled test data is 90.09%\u001b[0m\n"
          ]
        }
      ],
      "source": [
        "accuracy_score_test_float \\\n",
        "    = random_forest_SMOTEENN_model.score \\\n",
        "        (x_test_scaled_dataframe, y_test_series) * 100\n",
        "\n",
        "logx.print_and_log_text \\\n",
        "    ('\\033[1m'\n",
        "     + 'The random forest model score from SMOTEENN scaled test data is {:.2f}%' \\\n",
        "         .format(accuracy_score_test_float)\n",
        "     + '\\033[0m')"
      ]
    },
    {
      "cell_type": "markdown",
      "id": "lblpovmOuo-U",
      "metadata": {
        "id": "lblpovmOuo-U"
      },
      "source": [
        "## **5.3: Calculate Training and Test Predictions.**"
      ]
    },
    {
      "cell_type": "markdown",
      "id": "SWnhAbKYuo-V",
      "metadata": {
        "id": "SWnhAbKYuo-V"
      },
      "source": [
        "### **Original**"
      ]
    },
    {
      "cell_type": "code",
      "execution_count": null,
      "id": "A6SHZTmnuo-V",
      "metadata": {
        "id": "A6SHZTmnuo-V"
      },
      "outputs": [],
      "source": [
        "rf_train_predictions_dataframe \\\n",
        "    = classificationsx.return_predictions_dataframe \\\n",
        "        (random_forest_model,\n",
        "         x_train_scaled_dataframe,\n",
        "         y_train_series)\n",
        "\n",
        "logx.log_write_object(rf_train_predictions_dataframe)"
      ]
    },
    {
      "cell_type": "code",
      "execution_count": null,
      "id": "CMU6xmwguo-V",
      "metadata": {
        "id": "CMU6xmwguo-V"
      },
      "outputs": [],
      "source": [
        "rf_test_predictions_dataframe \\\n",
        "    = classificationsx.return_predictions_dataframe \\\n",
        "        (random_forest_model,\n",
        "         x_test_scaled_dataframe,\n",
        "         y_test_series)\n",
        "\n",
        "logx.log_write_object(rf_test_predictions_dataframe)"
      ]
    },
    {
      "cell_type": "markdown",
      "id": "KiX5jid3uo-V",
      "metadata": {
        "id": "KiX5jid3uo-V"
      },
      "source": [
        "### **Random Undersampling**"
      ]
    },
    {
      "cell_type": "code",
      "execution_count": null,
      "id": "KiLCcY_puo-V",
      "metadata": {
        "id": "KiLCcY_puo-V"
      },
      "outputs": [],
      "source": [
        "rf_train_undersampled_predictions_dataframe \\\n",
        "    = classificationsx.return_predictions_dataframe \\\n",
        "        (random_forest_undersampled_model,\n",
        "         x_train_scaled_dataframe,\n",
        "         y_train_series)\n",
        "\n",
        "logx.log_write_object(rf_train_undersampled_predictions_dataframe)"
      ]
    },
    {
      "cell_type": "code",
      "execution_count": null,
      "id": "yJPMHNs3uo-V",
      "metadata": {
        "id": "yJPMHNs3uo-V"
      },
      "outputs": [],
      "source": [
        "rf_test_undersampled_predictions_dataframe \\\n",
        "    = classificationsx.return_predictions_dataframe \\\n",
        "        (random_forest_undersampled_model,\n",
        "         x_test_scaled_dataframe,\n",
        "         y_test_series)\n",
        "\n",
        "logx.log_write_object(rf_test_undersampled_predictions_dataframe)"
      ]
    },
    {
      "cell_type": "markdown",
      "id": "vCHcXo-luo-V",
      "metadata": {
        "id": "vCHcXo-luo-V"
      },
      "source": [
        "### **Random Oversampling**"
      ]
    },
    {
      "cell_type": "code",
      "execution_count": null,
      "id": "6SyBWLTCuo-V",
      "metadata": {
        "id": "6SyBWLTCuo-V"
      },
      "outputs": [],
      "source": [
        "rf_train_oversampled_predictions_dataframe \\\n",
        "    = classificationsx.return_predictions_dataframe \\\n",
        "        (random_forest_oversampled_model,\n",
        "         x_train_scaled_dataframe,\n",
        "         y_train_series)\n",
        "\n",
        "logx.log_write_object(rf_train_oversampled_predictions_dataframe)"
      ]
    },
    {
      "cell_type": "code",
      "execution_count": null,
      "id": "bq24fSPauo-W",
      "metadata": {
        "id": "bq24fSPauo-W"
      },
      "outputs": [],
      "source": [
        "rf_test_oversampled_predictions_dataframe \\\n",
        "    = classificationsx.return_predictions_dataframe \\\n",
        "        (random_forest_oversampled_model,\n",
        "         x_test_scaled_dataframe,\n",
        "         y_test_series)\n",
        "\n",
        "logx.log_write_object(rf_test_oversampled_predictions_dataframe)"
      ]
    },
    {
      "cell_type": "markdown",
      "id": "L32EFj6Kuo-W",
      "metadata": {
        "id": "L32EFj6Kuo-W"
      },
      "source": [
        "### **Cluster Centroids**"
      ]
    },
    {
      "cell_type": "code",
      "execution_count": null,
      "id": "OPSeuru5uo-W",
      "metadata": {
        "id": "OPSeuru5uo-W"
      },
      "outputs": [],
      "source": [
        "rf_train_cluster_centroids_predictions_dataframe \\\n",
        "    = classificationsx.return_predictions_dataframe \\\n",
        "        (random_forest_cluster_centroids_model,\n",
        "         x_train_scaled_dataframe,\n",
        "         y_train_series)\n",
        "\n",
        "logx.log_write_object(rf_train_cluster_centroids_predictions_dataframe)"
      ]
    },
    {
      "cell_type": "code",
      "execution_count": null,
      "id": "WFiW_jUwuo-W",
      "metadata": {
        "id": "WFiW_jUwuo-W"
      },
      "outputs": [],
      "source": [
        "rf_test_cluster_centroids_predictions_dataframe \\\n",
        "    = classificationsx.return_predictions_dataframe \\\n",
        "        (random_forest_cluster_centroids_model,\n",
        "         x_test_scaled_dataframe,\n",
        "         y_test_series)\n",
        "\n",
        "logx.log_write_object(rf_test_cluster_centroids_predictions_dataframe)"
      ]
    },
    {
      "cell_type": "markdown",
      "id": "O0wAjc-2uo-W",
      "metadata": {
        "id": "O0wAjc-2uo-W"
      },
      "source": [
        "### **SMOTE**"
      ]
    },
    {
      "cell_type": "code",
      "execution_count": null,
      "id": "vxFq9UsCuo-W",
      "metadata": {
        "id": "vxFq9UsCuo-W"
      },
      "outputs": [],
      "source": [
        "rf_train_SMOTE_predictions_dataframe \\\n",
        "    = classificationsx.return_predictions_dataframe \\\n",
        "        (random_forest_SMOTE_model,\n",
        "         x_train_scaled_dataframe,\n",
        "         y_train_series)\n",
        "\n",
        "logx.log_write_object(rf_train_SMOTE_predictions_dataframe)"
      ]
    },
    {
      "cell_type": "code",
      "execution_count": null,
      "id": "FNCqtdAfuo-W",
      "metadata": {
        "id": "FNCqtdAfuo-W"
      },
      "outputs": [],
      "source": [
        "rf_test_SMOTE_predictions_dataframe \\\n",
        "    = classificationsx.return_predictions_dataframe \\\n",
        "        (random_forest_SMOTE_model,\n",
        "         x_test_scaled_dataframe,\n",
        "         y_test_series)\n",
        "\n",
        "logx.log_write_object(rf_test_SMOTE_predictions_dataframe)"
      ]
    },
    {
      "cell_type": "markdown",
      "id": "_3AVcA0Quo-W",
      "metadata": {
        "id": "_3AVcA0Quo-W"
      },
      "source": [
        "### **SMOTEENN**"
      ]
    },
    {
      "cell_type": "code",
      "execution_count": null,
      "id": "kh8MN9oSuo-W",
      "metadata": {
        "id": "kh8MN9oSuo-W"
      },
      "outputs": [],
      "source": [
        "rf_train_SMOTEENN_predictions_dataframe \\\n",
        "    = classificationsx.return_predictions_dataframe \\\n",
        "        (random_forest_SMOTEENN_model,\n",
        "         x_train_scaled_dataframe,\n",
        "         y_train_series)\n",
        "\n",
        "logx.log_write_object(rf_train_SMOTEENN_predictions_dataframe)"
      ]
    },
    {
      "cell_type": "code",
      "execution_count": null,
      "id": "tCCxkM2zuo-W",
      "metadata": {
        "id": "tCCxkM2zuo-W"
      },
      "outputs": [],
      "source": [
        "rf_test_SMOTEENN_predictions_dataframe \\\n",
        "    = classificationsx.return_predictions_dataframe \\\n",
        "        (random_forest_SMOTE_model,\n",
        "         x_test_scaled_dataframe,\n",
        "         y_test_series)\n",
        "\n",
        "logx.log_write_object(rf_test_SMOTEENN_predictions_dataframe)"
      ]
    },
    {
      "cell_type": "markdown",
      "id": "LMaWYjVLuo-W",
      "metadata": {
        "id": "LMaWYjVLuo-W"
      },
      "source": [
        "# <br> **Section 6: Support Vector Machine (SVM) Models**"
      ]
    },
    {
      "cell_type": "markdown",
      "id": "ES6hmH9vuo-W",
      "metadata": {
        "id": "ES6hmH9vuo-W"
      },
      "source": [
        "## **6.1: Fit Models by Using the Scaled Training Data.**"
      ]
    },
    {
      "cell_type": "markdown",
      "id": "aip0LjH8uo-X",
      "metadata": {
        "id": "aip0LjH8uo-X"
      },
      "source": [
        "### **Original**"
      ]
    },
    {
      "cell_type": "code",
      "execution_count": null,
      "id": "wrYBFgkquo-X",
      "metadata": {
        "id": "wrYBFgkquo-X"
      },
      "outputs": [],
      "source": [
        "svm_model \\\n",
        "    = SVC \\\n",
        "        (probability = credit_risk_constants.CONSTANT_ML_SVM_PROBABILITY,\n",
        "         random_state = credit_risk_constants.CONSTANT_ML_RANDOM_STATE_1) \\\n",
        "            .fit(x_train_scaled_dataframe, y_train_series)"
      ]
    },
    {
      "cell_type": "markdown",
      "id": "pfJdTdKCuo-X",
      "metadata": {
        "id": "pfJdTdKCuo-X"
      },
      "source": [
        "### **Random Undersampling**"
      ]
    },
    {
      "cell_type": "code",
      "execution_count": null,
      "id": "xWLPIOf_uo-X",
      "metadata": {
        "id": "xWLPIOf_uo-X"
      },
      "outputs": [],
      "source": [
        "svm_undersampled_model \\\n",
        "    = SVC \\\n",
        "        (probability = credit_risk_constants.CONSTANT_ML_SVM_PROBABILITY,\n",
        "         random_state = credit_risk_constants.CONSTANT_ML_RANDOM_STATE_1) \\\n",
        "            .fit(x_train_scaled_undersampled_dataframe, y_train_undersampled_series)"
      ]
    },
    {
      "cell_type": "markdown",
      "id": "tVwwvIbIuo-X",
      "metadata": {
        "id": "tVwwvIbIuo-X"
      },
      "source": [
        "### **Random Oversampling**"
      ]
    },
    {
      "cell_type": "code",
      "execution_count": null,
      "id": "rsROHaiyuo-X",
      "metadata": {
        "id": "rsROHaiyuo-X"
      },
      "outputs": [],
      "source": [
        "svm_oversampled_model \\\n",
        "    = SVC \\\n",
        "        (probability = credit_risk_constants.CONSTANT_ML_SVM_PROBABILITY,\n",
        "         random_state = credit_risk_constants.CONSTANT_ML_RANDOM_STATE_1) \\\n",
        "            .fit(x_train_scaled_oversampled_dataframe, y_train_oversampled_series)"
      ]
    },
    {
      "cell_type": "markdown",
      "id": "YZ8jInsIuo-X",
      "metadata": {
        "id": "YZ8jInsIuo-X"
      },
      "source": [
        "### **Cluster Centroids**"
      ]
    },
    {
      "cell_type": "code",
      "execution_count": null,
      "id": "G7umKkrUuo-X",
      "metadata": {
        "id": "G7umKkrUuo-X"
      },
      "outputs": [],
      "source": [
        "svm_cluster_centroids_model \\\n",
        "    = SVC \\\n",
        "        (probability = credit_risk_constants.CONSTANT_ML_SVM_PROBABILITY,\n",
        "         random_state = credit_risk_constants.CONSTANT_ML_RANDOM_STATE_1) \\\n",
        "            .fit(x_train_scaled_cluster_centroids_dataframe, y_train_cluster_centroids_series)"
      ]
    },
    {
      "cell_type": "markdown",
      "id": "eQbA4R7huo-X",
      "metadata": {
        "id": "eQbA4R7huo-X"
      },
      "source": [
        "### **SMOTE**"
      ]
    },
    {
      "cell_type": "code",
      "execution_count": null,
      "id": "rBuxJJ9Xuo-X",
      "metadata": {
        "id": "rBuxJJ9Xuo-X"
      },
      "outputs": [],
      "source": [
        "svm_SMOTE_model \\\n",
        "    = SVC \\\n",
        "        (probability = credit_risk_constants.CONSTANT_ML_SVM_PROBABILITY,\n",
        "         random_state = credit_risk_constants.CONSTANT_ML_RANDOM_STATE_1) \\\n",
        "            .fit(x_train_scaled_SMOTE_dataframe, y_train_SMOTE_series)"
      ]
    },
    {
      "cell_type": "markdown",
      "id": "WebvVNPJuo-X",
      "metadata": {
        "id": "WebvVNPJuo-X"
      },
      "source": [
        "### **SMOTEENN**"
      ]
    },
    {
      "cell_type": "code",
      "execution_count": null,
      "id": "mIl5KzW8uo-Y",
      "metadata": {
        "id": "mIl5KzW8uo-Y"
      },
      "outputs": [],
      "source": [
        "svm_SMOTEENN_model \\\n",
        "    = SVC \\\n",
        "        (probability = credit_risk_constants.CONSTANT_ML_SVM_PROBABILITY,\n",
        "         random_state = credit_risk_constants.CONSTANT_ML_RANDOM_STATE_1) \\\n",
        "            .fit(x_train_scaled_SMOTEENN_dataframe, y_train_SMOTEENN_series)"
      ]
    },
    {
      "cell_type": "markdown",
      "id": "1udzJ12Ruo-Y",
      "metadata": {
        "id": "1udzJ12Ruo-Y"
      },
      "source": [
        "## **6.2: Display the Model Scores Using the Scaled Training and Testing Data**"
      ]
    },
    {
      "cell_type": "markdown",
      "id": "6V8fyJbNuo-Y",
      "metadata": {
        "id": "6V8fyJbNuo-Y"
      },
      "source": [
        "### **Original**"
      ]
    },
    {
      "cell_type": "code",
      "execution_count": null,
      "id": "43WF2hPHuo-Y",
      "metadata": {
        "colab": {
          "base_uri": "https://localhost:8080/"
        },
        "id": "43WF2hPHuo-Y",
        "outputId": "287c0226-d377-4a5f-af79-d7cda9bc9e5d"
      },
      "outputs": [
        {
          "name": "stdout",
          "output_type": "stream",
          "text": [
            "\u001b[1mThe svm model score from scaled training data is 99.47%\u001b[0m\n"
          ]
        }
      ],
      "source": [
        "accuracy_score_train_float \\\n",
        "    = svm_model.score \\\n",
        "        (x_train_scaled_dataframe, y_train_series) * 100\n",
        "\n",
        "logx.print_and_log_text \\\n",
        "    ('\\033[1m'\n",
        "     + 'The svm model score from scaled training data is {:.2f}%' \\\n",
        "         .format(accuracy_score_train_float)\n",
        "     + '\\033[0m')"
      ]
    },
    {
      "cell_type": "code",
      "execution_count": null,
      "id": "bnEUpUpFuo-Y",
      "metadata": {
        "colab": {
          "base_uri": "https://localhost:8080/"
        },
        "id": "bnEUpUpFuo-Y",
        "outputId": "d6c8334c-e3c9-43c1-dac6-7bb44b835d76"
      },
      "outputs": [
        {
          "name": "stdout",
          "output_type": "stream",
          "text": [
            "\u001b[1mThe svm model score from scaled test data is 99.37%\u001b[0m\n"
          ]
        }
      ],
      "source": [
        "accuracy_score_test_float \\\n",
        "    = svm_model.score \\\n",
        "        (x_test_scaled_dataframe, y_test_series) * 100\n",
        "\n",
        "logx.print_and_log_text \\\n",
        "    ('\\033[1m'\n",
        "     + 'The svm model score from scaled test data is {:.2f}%' \\\n",
        "         .format(accuracy_score_test_float)\n",
        "     + '\\033[0m')"
      ]
    },
    {
      "cell_type": "markdown",
      "id": "5PGQwmlFuo-Y",
      "metadata": {
        "id": "5PGQwmlFuo-Y"
      },
      "source": [
        "### **Random Undersampling**"
      ]
    },
    {
      "cell_type": "code",
      "execution_count": null,
      "id": "4RxUzbX6uo-Y",
      "metadata": {
        "colab": {
          "base_uri": "https://localhost:8080/"
        },
        "id": "4RxUzbX6uo-Y",
        "outputId": "9073eccc-aadd-4404-cb58-0655eab524a1"
      },
      "outputs": [
        {
          "name": "stdout",
          "output_type": "stream",
          "text": [
            "\u001b[1mThe svm model score from undersampled scaled training data is 99.45%\u001b[0m\n"
          ]
        }
      ],
      "source": [
        "accuracy_score_train_float \\\n",
        "    = svm_undersampled_model.score \\\n",
        "        (x_train_scaled_dataframe, y_train_series) * 100\n",
        "\n",
        "logx.print_and_log_text \\\n",
        "    ('\\033[1m'\n",
        "     + 'The svm model score from undersampled scaled training data is {:.2f}%' \\\n",
        "         .format(accuracy_score_train_float)\n",
        "     + '\\033[0m')"
      ]
    },
    {
      "cell_type": "code",
      "execution_count": null,
      "id": "5ulUNK3luo-Y",
      "metadata": {
        "colab": {
          "base_uri": "https://localhost:8080/"
        },
        "id": "5ulUNK3luo-Y",
        "outputId": "b620d782-b08d-4389-c1da-8827a57fa035"
      },
      "outputs": [
        {
          "name": "stdout",
          "output_type": "stream",
          "text": [
            "\u001b[1mThe svm model score from undersampled scaled test data is 99.35%\u001b[0m\n"
          ]
        }
      ],
      "source": [
        "accuracy_score_test_float \\\n",
        "    = svm_undersampled_model.score \\\n",
        "        (x_test_scaled_dataframe, y_test_series) * 100\n",
        "\n",
        "logx.print_and_log_text \\\n",
        "    ('\\033[1m'\n",
        "     + 'The svm model score from undersampled scaled test data is {:.2f}%' \\\n",
        "         .format(accuracy_score_test_float)\n",
        "     + '\\033[0m')"
      ]
    },
    {
      "cell_type": "markdown",
      "id": "h3s8pXVKuo-Y",
      "metadata": {
        "id": "h3s8pXVKuo-Y"
      },
      "source": [
        "### **Random Oversampling**"
      ]
    },
    {
      "cell_type": "code",
      "execution_count": null,
      "id": "AxjpOFjFuo-Y",
      "metadata": {
        "colab": {
          "base_uri": "https://localhost:8080/"
        },
        "id": "AxjpOFjFuo-Y",
        "outputId": "568d9868-5a8d-484f-e5a8-7e583bef6b16"
      },
      "outputs": [
        {
          "name": "stdout",
          "output_type": "stream",
          "text": [
            "\u001b[1mThe svm model score from overersampled scaled training data is 99.45%\u001b[0m\n"
          ]
        }
      ],
      "source": [
        "accuracy_score_train_float \\\n",
        "    = svm_oversampled_model.score \\\n",
        "        (x_train_scaled_dataframe, y_train_series) * 100\n",
        "\n",
        "logx.print_and_log_text \\\n",
        "    ('\\033[1m'\n",
        "     + 'The svm model score from overersampled scaled training data is {:.2f}%' \\\n",
        "         .format(accuracy_score_train_float)\n",
        "     + '\\033[0m')"
      ]
    },
    {
      "cell_type": "code",
      "execution_count": null,
      "id": "i7Wsk3IMuo-Y",
      "metadata": {
        "colab": {
          "base_uri": "https://localhost:8080/"
        },
        "id": "i7Wsk3IMuo-Y",
        "outputId": "68d042f2-67bb-4338-9992-c04eef163272"
      },
      "outputs": [
        {
          "name": "stdout",
          "output_type": "stream",
          "text": [
            "\u001b[1mThe svm model score from oversampled scaled test data is 99.34%\u001b[0m\n"
          ]
        }
      ],
      "source": [
        "accuracy_score_test_float \\\n",
        "    = svm_oversampled_model.score \\\n",
        "        (x_test_scaled_dataframe, y_test_series) * 100\n",
        "\n",
        "logx.print_and_log_text \\\n",
        "    ('\\033[1m'\n",
        "     + 'The svm model score from oversampled scaled test data is {:.2f}%' \\\n",
        "         .format(accuracy_score_test_float)\n",
        "     + '\\033[0m')"
      ]
    },
    {
      "cell_type": "markdown",
      "id": "SIQN4tiIuo-Z",
      "metadata": {
        "id": "SIQN4tiIuo-Z"
      },
      "source": [
        "### **Cluster Centroids**"
      ]
    },
    {
      "cell_type": "code",
      "execution_count": null,
      "id": "IJ0ANXWluo-Z",
      "metadata": {
        "colab": {
          "base_uri": "https://localhost:8080/"
        },
        "id": "IJ0ANXWluo-Z",
        "outputId": "01c1c5ec-8295-45bf-97a4-1926c37949e8"
      },
      "outputs": [
        {
          "name": "stdout",
          "output_type": "stream",
          "text": [
            "\u001b[1mThe svm model score from cluster centroids scaled training data is 99.44%\u001b[0m\n"
          ]
        }
      ],
      "source": [
        "accuracy_score_train_float \\\n",
        "    = svm_cluster_centroids_model.score \\\n",
        "        (x_train_scaled_dataframe, y_train_series) * 100\n",
        "\n",
        "logx.print_and_log_text \\\n",
        "    ('\\033[1m'\n",
        "     + 'The svm model score from cluster centroids scaled training data is {:.2f}%' \\\n",
        "         .format(accuracy_score_train_float)\n",
        "     + '\\033[0m')"
      ]
    },
    {
      "cell_type": "code",
      "execution_count": null,
      "id": "-Eko5EJIuo-Z",
      "metadata": {
        "colab": {
          "base_uri": "https://localhost:8080/"
        },
        "id": "-Eko5EJIuo-Z",
        "outputId": "6aa44a95-c427-4434-fe7e-8472d3aa0457"
      },
      "outputs": [
        {
          "name": "stdout",
          "output_type": "stream",
          "text": [
            "\u001b[1mThe svm model score from cluster centroids scaled test data is 99.33%\u001b[0m\n"
          ]
        }
      ],
      "source": [
        "accuracy_score_test_float \\\n",
        "    = svm_cluster_centroids_model.score \\\n",
        "        (x_test_scaled_dataframe, y_test_series) * 100\n",
        "\n",
        "logx.print_and_log_text \\\n",
        "    ('\\033[1m'\n",
        "     + 'The svm model score from cluster centroids scaled test data is {:.2f}%' \\\n",
        "         .format(accuracy_score_test_float)\n",
        "     + '\\033[0m')"
      ]
    },
    {
      "cell_type": "markdown",
      "id": "t3d4D8uNuo-Z",
      "metadata": {
        "id": "t3d4D8uNuo-Z"
      },
      "source": [
        "### **SMOTE**"
      ]
    },
    {
      "cell_type": "code",
      "execution_count": null,
      "id": "8FqPEkTZuo-Z",
      "metadata": {
        "colab": {
          "base_uri": "https://localhost:8080/"
        },
        "id": "8FqPEkTZuo-Z",
        "outputId": "4a24ca2d-7585-44ac-daa2-2f3568ab018b"
      },
      "outputs": [
        {
          "name": "stdout",
          "output_type": "stream",
          "text": [
            "\u001b[1mThe svm model score from SMOTE scaled training data is 99.44%\u001b[0m\n"
          ]
        }
      ],
      "source": [
        "accuracy_score_train_float \\\n",
        "    = svm_SMOTE_model.score \\\n",
        "        (x_train_scaled_dataframe, y_train_series) * 100\n",
        "\n",
        "logx.print_and_log_text \\\n",
        "    ('\\033[1m'\n",
        "     + 'The svm model score from SMOTE scaled training data is {:.2f}%' \\\n",
        "         .format(accuracy_score_train_float)\n",
        "     + '\\033[0m')"
      ]
    },
    {
      "cell_type": "code",
      "execution_count": null,
      "id": "2EgHe_O8uo-Z",
      "metadata": {
        "colab": {
          "base_uri": "https://localhost:8080/"
        },
        "id": "2EgHe_O8uo-Z",
        "outputId": "b30af9e2-000c-43b6-996d-b1bf52342fe0"
      },
      "outputs": [
        {
          "name": "stdout",
          "output_type": "stream",
          "text": [
            "\u001b[1mThe svm model score from SMOTE scaled test data is 99.34%\u001b[0m\n"
          ]
        }
      ],
      "source": [
        "accuracy_score_test_float \\\n",
        "    = svm_SMOTE_model.score \\\n",
        "        (x_test_scaled_dataframe, y_test_series) * 100\n",
        "\n",
        "logx.print_and_log_text \\\n",
        "    ('\\033[1m'\n",
        "     + 'The svm model score from SMOTE scaled test data is {:.2f}%' \\\n",
        "         .format(accuracy_score_test_float)\n",
        "     + '\\033[0m')"
      ]
    },
    {
      "cell_type": "markdown",
      "id": "Pp-lqiIjuo-Z",
      "metadata": {
        "id": "Pp-lqiIjuo-Z"
      },
      "source": [
        "### **SMOTEENN**"
      ]
    },
    {
      "cell_type": "code",
      "execution_count": null,
      "id": "M2a_-qIZuo-Z",
      "metadata": {
        "colab": {
          "base_uri": "https://localhost:8080/"
        },
        "id": "M2a_-qIZuo-Z",
        "outputId": "bf66696a-1e43-44ac-c5a0-34ad69b77398"
      },
      "outputs": [
        {
          "name": "stdout",
          "output_type": "stream",
          "text": [
            "\u001b[1mThe svm model score from SMOTEENN scaled training data is 99.46%\u001b[0m\n"
          ]
        }
      ],
      "source": [
        "accuracy_score_train_float \\\n",
        "    = svm_SMOTEENN_model.score \\\n",
        "        (x_train_scaled_dataframe, y_train_series) * 100\n",
        "\n",
        "logx.print_and_log_text \\\n",
        "    ('\\033[1m'\n",
        "     + 'The svm model score from SMOTEENN scaled training data is {:.2f}%' \\\n",
        "         .format(accuracy_score_train_float)\n",
        "     + '\\033[0m')"
      ]
    },
    {
      "cell_type": "code",
      "execution_count": null,
      "id": "5JPgET62uo-Z",
      "metadata": {
        "colab": {
          "base_uri": "https://localhost:8080/"
        },
        "id": "5JPgET62uo-Z",
        "outputId": "e71fb076-9625-42a4-e51d-46c8fa165622"
      },
      "outputs": [
        {
          "name": "stdout",
          "output_type": "stream",
          "text": [
            "\u001b[1mThe svm model score from SMOTEENN scaled test data is 99.36%\u001b[0m\n"
          ]
        }
      ],
      "source": [
        "accuracy_score_test_float \\\n",
        "    = svm_SMOTEENN_model.score \\\n",
        "        (x_test_scaled_dataframe, y_test_series) * 100\n",
        "\n",
        "logx.print_and_log_text \\\n",
        "    ('\\033[1m'\n",
        "     + 'The svm model score from SMOTEENN scaled test data is {:.2f}%' \\\n",
        "         .format(accuracy_score_test_float)\n",
        "     + '\\033[0m')"
      ]
    },
    {
      "cell_type": "markdown",
      "id": "oxI3Xf7ruo-Z",
      "metadata": {
        "id": "oxI3Xf7ruo-Z"
      },
      "source": [
        "## **6.3: Calculate Training and Test Predictions.**"
      ]
    },
    {
      "cell_type": "markdown",
      "id": "xa9Fn9-Nuo-a",
      "metadata": {
        "id": "xa9Fn9-Nuo-a"
      },
      "source": [
        "### **Original**"
      ]
    },
    {
      "cell_type": "code",
      "execution_count": null,
      "id": "Q8fUkw4ouo-a",
      "metadata": {
        "id": "Q8fUkw4ouo-a"
      },
      "outputs": [],
      "source": [
        "svm_train_predictions_dataframe \\\n",
        "    = classificationsx.return_predictions_dataframe \\\n",
        "        (svm_model,\n",
        "         x_train_scaled_dataframe,\n",
        "         y_train_series)\n",
        "\n",
        "logx.log_write_object(svm_train_predictions_dataframe)"
      ]
    },
    {
      "cell_type": "code",
      "execution_count": null,
      "id": "o7HoqJreuo-a",
      "metadata": {
        "id": "o7HoqJreuo-a"
      },
      "outputs": [],
      "source": [
        "svm_test_predictions_dataframe \\\n",
        "    = classificationsx.return_predictions_dataframe \\\n",
        "        (svm_model,\n",
        "         x_test_scaled_dataframe,\n",
        "         y_test_series)\n",
        "\n",
        "logx.log_write_object(svm_test_predictions_dataframe)"
      ]
    },
    {
      "cell_type": "markdown",
      "id": "4Y2AcZtFuo-a",
      "metadata": {
        "id": "4Y2AcZtFuo-a"
      },
      "source": [
        "### **Random Undersampling**"
      ]
    },
    {
      "cell_type": "code",
      "execution_count": null,
      "id": "FWhTeYtYuo-a",
      "metadata": {
        "id": "FWhTeYtYuo-a"
      },
      "outputs": [],
      "source": [
        "svm_train_undersampled_predictions_dataframe \\\n",
        "    = classificationsx.return_predictions_dataframe \\\n",
        "        (svm_undersampled_model,\n",
        "         x_train_scaled_dataframe,\n",
        "         y_train_series)\n",
        "\n",
        "logx.log_write_object(svm_train_undersampled_predictions_dataframe)"
      ]
    },
    {
      "cell_type": "code",
      "execution_count": null,
      "id": "XmhL6Qbouo-a",
      "metadata": {
        "id": "XmhL6Qbouo-a"
      },
      "outputs": [],
      "source": [
        "svm_test_undersampled_predictions_dataframe \\\n",
        "    = classificationsx.return_predictions_dataframe \\\n",
        "        (svm_undersampled_model,\n",
        "         x_test_scaled_dataframe,\n",
        "         y_test_series)\n",
        "\n",
        "logx.log_write_object(svm_test_undersampled_predictions_dataframe)"
      ]
    },
    {
      "cell_type": "markdown",
      "id": "yaKneWWKuo-a",
      "metadata": {
        "id": "yaKneWWKuo-a"
      },
      "source": [
        "### **Random Oversampling**"
      ]
    },
    {
      "cell_type": "code",
      "execution_count": null,
      "id": "g4iD2Edsuo-a",
      "metadata": {
        "id": "g4iD2Edsuo-a"
      },
      "outputs": [],
      "source": [
        "svm_train_oversampled_predictions_dataframe \\\n",
        "    = classificationsx.return_predictions_dataframe \\\n",
        "        (svm_oversampled_model,\n",
        "         x_train_scaled_dataframe,\n",
        "         y_train_series)\n",
        "\n",
        "logx.log_write_object(svm_train_oversampled_predictions_dataframe)"
      ]
    },
    {
      "cell_type": "code",
      "execution_count": null,
      "id": "r4rT2mV3uo-b",
      "metadata": {
        "id": "r4rT2mV3uo-b"
      },
      "outputs": [],
      "source": [
        "svm_test_oversampled_predictions_dataframe \\\n",
        "    = classificationsx.return_predictions_dataframe \\\n",
        "        (svm_oversampled_model,\n",
        "         x_test_scaled_dataframe,\n",
        "         y_test_series)\n",
        "\n",
        "logx.log_write_object(svm_test_oversampled_predictions_dataframe)"
      ]
    },
    {
      "cell_type": "markdown",
      "id": "wD6dmhShuo-b",
      "metadata": {
        "id": "wD6dmhShuo-b"
      },
      "source": [
        "### **Cluster Centroids**"
      ]
    },
    {
      "cell_type": "code",
      "execution_count": null,
      "id": "MNKqgek7uo-b",
      "metadata": {
        "id": "MNKqgek7uo-b"
      },
      "outputs": [],
      "source": [
        "svm_train_cluster_centroids_predictions_dataframe \\\n",
        "    = classificationsx.return_predictions_dataframe \\\n",
        "        (svm_cluster_centroids_model,\n",
        "         x_train_scaled_dataframe,\n",
        "         y_train_series)\n",
        "\n",
        "logx.log_write_object(svm_train_cluster_centroids_predictions_dataframe)"
      ]
    },
    {
      "cell_type": "code",
      "execution_count": null,
      "id": "hsqpwULCuo-b",
      "metadata": {
        "id": "hsqpwULCuo-b"
      },
      "outputs": [],
      "source": [
        "svm_test_cluster_centroids_predictions_dataframe \\\n",
        "    = classificationsx.return_predictions_dataframe \\\n",
        "        (svm_cluster_centroids_model,\n",
        "         x_test_scaled_dataframe,\n",
        "         y_test_series)\n",
        "\n",
        "logx.log_write_object(svm_test_cluster_centroids_predictions_dataframe)"
      ]
    },
    {
      "cell_type": "markdown",
      "id": "IYVmfRAnuo-b",
      "metadata": {
        "id": "IYVmfRAnuo-b"
      },
      "source": [
        "### **SMOTE**"
      ]
    },
    {
      "cell_type": "code",
      "execution_count": null,
      "id": "b-13GZJMuo-b",
      "metadata": {
        "id": "b-13GZJMuo-b"
      },
      "outputs": [],
      "source": [
        "svm_train_SMOTE_predictions_dataframe \\\n",
        "    = classificationsx.return_predictions_dataframe \\\n",
        "        (svm_SMOTE_model,\n",
        "         x_train_scaled_dataframe,\n",
        "         y_train_series)\n",
        "\n",
        "logx.log_write_object(svm_train_SMOTE_predictions_dataframe)"
      ]
    },
    {
      "cell_type": "code",
      "execution_count": null,
      "id": "b4ZtBzVzuo-b",
      "metadata": {
        "id": "b4ZtBzVzuo-b"
      },
      "outputs": [],
      "source": [
        "svm_test_SMOTE_predictions_dataframe \\\n",
        "    = classificationsx.return_predictions_dataframe \\\n",
        "        (svm_SMOTE_model,\n",
        "         x_test_scaled_dataframe,\n",
        "         y_test_series)\n",
        "\n",
        "logx.log_write_object(svm_test_SMOTE_predictions_dataframe)"
      ]
    },
    {
      "cell_type": "markdown",
      "id": "rcDMkXtnuo-b",
      "metadata": {
        "id": "rcDMkXtnuo-b"
      },
      "source": [
        "### **SMOTEENN**"
      ]
    },
    {
      "cell_type": "code",
      "execution_count": null,
      "id": "nTSypQnduo-b",
      "metadata": {
        "id": "nTSypQnduo-b"
      },
      "outputs": [],
      "source": [
        "svm_train_SMOTEENN_predictions_dataframe \\\n",
        "    = classificationsx.return_predictions_dataframe \\\n",
        "        (svm_SMOTEENN_model,\n",
        "         x_train_scaled_dataframe,\n",
        "         y_train_series)\n",
        "\n",
        "logx.log_write_object(svm_train_SMOTEENN_predictions_dataframe)"
      ]
    },
    {
      "cell_type": "code",
      "execution_count": null,
      "id": "mvUH_27puo-b",
      "metadata": {
        "id": "mvUH_27puo-b"
      },
      "outputs": [],
      "source": [
        "svm_test_SMOTEENN_predictions_dataframe \\\n",
        "    = classificationsx.return_predictions_dataframe \\\n",
        "        (svm_SMOTE_model,\n",
        "         x_test_scaled_dataframe,\n",
        "         y_test_series)\n",
        "\n",
        "logx.log_write_object(svm_test_SMOTEENN_predictions_dataframe)"
      ]
    },
    {
      "cell_type": "markdown",
      "id": "vUUM4MJ6uo-b",
      "metadata": {
        "id": "vUUM4MJ6uo-b"
      },
      "source": [
        "# <br> **Section 7: K-Nearest Neighbor (KNN) Models**"
      ]
    },
    {
      "cell_type": "markdown",
      "id": "yI-SoyeBuo-c",
      "metadata": {
        "id": "yI-SoyeBuo-c"
      },
      "source": [
        "## **7.1: Fit Models by Using the Scaled Training Data.**"
      ]
    },
    {
      "cell_type": "markdown",
      "id": "QcNw6Dgxuo-c",
      "metadata": {
        "id": "QcNw6Dgxuo-c"
      },
      "source": [
        "### **Original**"
      ]
    },
    {
      "cell_type": "code",
      "execution_count": null,
      "id": "aRIG96-3uo-c",
      "metadata": {
        "id": "aRIG96-3uo-c"
      },
      "outputs": [],
      "source": [
        "knn_grid_search_model \\\n",
        "    = pickle.load(open(credit_risk_constants.CONSTANT_KNN_GRID_SEARCH_MODEL_FILE_PATH, 'rb'))\n",
        "\n",
        "knn_model \\\n",
        "    = KNeighborsClassifier \\\n",
        "        (algorithm = knn_grid_search_model.best_params_['algorithm'],\n",
        "         leaf_size = credit_risk_constants.CONSTANT_ML_KNN_LEAF_SIZE) \\\n",
        "            .fit(x_train_scaled_dataframe, y_train_series)"
      ]
    },
    {
      "cell_type": "markdown",
      "id": "4X1ANFiRuo-f",
      "metadata": {
        "id": "4X1ANFiRuo-f"
      },
      "source": [
        "### **Random Undersampling**"
      ]
    },
    {
      "cell_type": "code",
      "execution_count": null,
      "id": "po_IYFr1uo-f",
      "metadata": {
        "id": "po_IYFr1uo-f"
      },
      "outputs": [],
      "source": [
        "knn_undersampled_grid_search_model \\\n",
        "    = pickle.load \\\n",
        "        (open(credit_risk_constants.CONSTANT_KNN_UNDERSAMPLED_GRID_SEARCH_MODEL_FILE_PATH, 'rb'))\n",
        "\n",
        "knn_undersampled_model \\\n",
        "    = KNeighborsClassifier \\\n",
        "        (algorithm = knn_undersampled_grid_search_model.best_params_['algorithm'],\n",
        "         leaf_size = credit_risk_constants.CONSTANT_ML_KNN_LEAF_SIZE) \\\n",
        "            .fit(x_train_scaled_undersampled_dataframe, y_train_undersampled_series)"
      ]
    },
    {
      "cell_type": "markdown",
      "id": "pU2Bno4vuo-f",
      "metadata": {
        "id": "pU2Bno4vuo-f"
      },
      "source": [
        "### **Random Oversampling**"
      ]
    },
    {
      "cell_type": "code",
      "execution_count": null,
      "id": "AhanMNNxuo-f",
      "metadata": {
        "id": "AhanMNNxuo-f"
      },
      "outputs": [],
      "source": [
        "knn_oversampled_grid_search_model \\\n",
        "    = pickle.load \\\n",
        "        (open(credit_risk_constants.CONSTANT_KNN_OVERSAMPLED_GRID_SEARCH_MODEL_FILE_PATH, 'rb'))\n",
        "\n",
        "knn_oversampled_model \\\n",
        "    = KNeighborsClassifier \\\n",
        "        (algorithm = knn_oversampled_grid_search_model.best_params_['algorithm'],\n",
        "         leaf_size = credit_risk_constants.CONSTANT_ML_KNN_LEAF_SIZE) \\\n",
        "            .fit(x_train_scaled_oversampled_dataframe, y_train_oversampled_series)"
      ]
    },
    {
      "cell_type": "markdown",
      "id": "lbwL6fYMuo-f",
      "metadata": {
        "id": "lbwL6fYMuo-f"
      },
      "source": [
        "### **Cluster Centroids**"
      ]
    },
    {
      "cell_type": "code",
      "execution_count": null,
      "id": "WndaqjUDuo-f",
      "metadata": {
        "id": "WndaqjUDuo-f"
      },
      "outputs": [],
      "source": [
        "knn_cluster_centroids_grid_search_model \\\n",
        "    = pickle.load \\\n",
        "        (open(credit_risk_constants.CONSTANT_KNN_CLUSTER_CENTROIDS_GRID_SEARCH_MODEL_FILE_PATH, 'rb'))\n",
        "\n",
        "knn_cluster_centroids_model \\\n",
        "    = KNeighborsClassifier \\\n",
        "        (algorithm = knn_cluster_centroids_grid_search_model.best_params_['algorithm'],\n",
        "         leaf_size = credit_risk_constants.CONSTANT_ML_KNN_LEAF_SIZE) \\\n",
        "            .fit(x_train_scaled_cluster_centroids_dataframe, y_train_cluster_centroids_series)"
      ]
    },
    {
      "cell_type": "markdown",
      "id": "3iNFpHJEuo-f",
      "metadata": {
        "id": "3iNFpHJEuo-f"
      },
      "source": [
        "### **SMOTE**"
      ]
    },
    {
      "cell_type": "code",
      "execution_count": null,
      "id": "6Woy0mKKuo-f",
      "metadata": {
        "id": "6Woy0mKKuo-f"
      },
      "outputs": [],
      "source": [
        "knn_SMOTE_grid_search_model \\\n",
        "    = pickle.load \\\n",
        "        (open(credit_risk_constants.CONSTANT_KNN_SMOTE_GRID_SEARCH_MODEL_FILE_PATH, 'rb'))\n",
        "\n",
        "knn_SMOTE_model \\\n",
        "    = KNeighborsClassifier \\\n",
        "        (algorithm = knn_SMOTE_grid_search_model.best_params_['algorithm'],\n",
        "         leaf_size = credit_risk_constants.CONSTANT_ML_KNN_LEAF_SIZE) \\\n",
        "            .fit(x_train_scaled_SMOTE_dataframe, y_train_SMOTE_series)"
      ]
    },
    {
      "cell_type": "markdown",
      "id": "HJOyPobjuo-g",
      "metadata": {
        "id": "HJOyPobjuo-g"
      },
      "source": [
        "### **SMOTEENN**"
      ]
    },
    {
      "cell_type": "code",
      "execution_count": null,
      "id": "Nr76C1Uyuo-g",
      "metadata": {
        "id": "Nr76C1Uyuo-g"
      },
      "outputs": [],
      "source": [
        "knn_SMOTEENN_grid_search_model \\\n",
        "    = pickle.load \\\n",
        "        (open(credit_risk_constants.CONSTANT_KNN_SMOTEENN_GRID_SEARCH_MODEL_FILE_PATH, 'rb'))\n",
        "\n",
        "knn_SMOTEENN_model \\\n",
        "    = KNeighborsClassifier \\\n",
        "        (algorithm = knn_SMOTEENN_grid_search_model.best_params_['algorithm'],\n",
        "         leaf_size = credit_risk_constants.CONSTANT_ML_KNN_LEAF_SIZE) \\\n",
        "            .fit(x_train_scaled_SMOTEENN_dataframe, y_train_SMOTEENN_series)"
      ]
    },
    {
      "cell_type": "markdown",
      "id": "KwuPK6nOuo-g",
      "metadata": {
        "id": "KwuPK6nOuo-g"
      },
      "source": [
        "## **7.2: Display the Model Scores Using the Scaled Training and Testing Data**"
      ]
    },
    {
      "cell_type": "markdown",
      "id": "qPoIK9TMuo-g",
      "metadata": {
        "id": "qPoIK9TMuo-g"
      },
      "source": [
        "### **Original**"
      ]
    },
    {
      "cell_type": "code",
      "execution_count": null,
      "id": "R-kFLM8guo-g",
      "metadata": {
        "colab": {
          "base_uri": "https://localhost:8080/"
        },
        "id": "R-kFLM8guo-g",
        "outputId": "4d82218b-c635-4c93-d729-550c792fe858"
      },
      "outputs": [
        {
          "name": "stdout",
          "output_type": "stream",
          "text": [
            "\u001b[1mThe knn model score from scaled training data is 99.48%\u001b[0m\n"
          ]
        }
      ],
      "source": [
        "accuracy_score_train_float \\\n",
        "    = knn_model.score \\\n",
        "        (x_train_scaled_dataframe, y_train_series) * 100\n",
        "\n",
        "logx.print_and_log_text \\\n",
        "    ('\\033[1m'\n",
        "     + 'The knn model score from scaled training data is {:.2f}%' \\\n",
        "         .format(accuracy_score_train_float)\n",
        "     + '\\033[0m')"
      ]
    },
    {
      "cell_type": "code",
      "execution_count": null,
      "id": "HPxDEJDiuo-g",
      "metadata": {
        "colab": {
          "base_uri": "https://localhost:8080/"
        },
        "id": "HPxDEJDiuo-g",
        "outputId": "fbd9f721-b586-4d2e-a91d-d9ec93ebe627"
      },
      "outputs": [
        {
          "name": "stdout",
          "output_type": "stream",
          "text": [
            "\u001b[1mThe knn model score from scaled test data is 99.28%\u001b[0m\n"
          ]
        }
      ],
      "source": [
        "accuracy_score_test_float \\\n",
        "    = knn_model.score \\\n",
        "        (x_test_scaled_dataframe, y_test_series) * 100\n",
        "\n",
        "logx.print_and_log_text \\\n",
        "    ('\\033[1m'\n",
        "     + 'The knn model score from scaled test data is {:.2f}%' \\\n",
        "         .format(accuracy_score_test_float)\n",
        "     + '\\033[0m')"
      ]
    },
    {
      "cell_type": "markdown",
      "id": "-tOLxbT3uo-g",
      "metadata": {
        "id": "-tOLxbT3uo-g"
      },
      "source": [
        "### **Random Undersampling**"
      ]
    },
    {
      "cell_type": "code",
      "execution_count": null,
      "id": "1KOJBg7Vuo-g",
      "metadata": {
        "colab": {
          "base_uri": "https://localhost:8080/"
        },
        "id": "1KOJBg7Vuo-g",
        "outputId": "722dacf2-480b-4fc6-b3c1-5b057ac382e1"
      },
      "outputs": [
        {
          "name": "stdout",
          "output_type": "stream",
          "text": [
            "\u001b[1mThe knn model score from undersampled scaled training data is 99.45%\u001b[0m\n"
          ]
        }
      ],
      "source": [
        "accuracy_score_train_float \\\n",
        "    = knn_undersampled_model.score \\\n",
        "        (x_train_scaled_dataframe, y_train_series) * 100\n",
        "\n",
        "logx.print_and_log_text \\\n",
        "    ('\\033[1m'\n",
        "     + 'The knn model score from undersampled scaled training data is {:.2f}%' \\\n",
        "         .format(accuracy_score_train_float)\n",
        "     + '\\033[0m')"
      ]
    },
    {
      "cell_type": "code",
      "execution_count": null,
      "id": "Zy1n5y_Wuo-g",
      "metadata": {
        "colab": {
          "base_uri": "https://localhost:8080/"
        },
        "id": "Zy1n5y_Wuo-g",
        "outputId": "0f27a4af-35a1-4b0c-dfc0-73c93de44c7a"
      },
      "outputs": [
        {
          "name": "stdout",
          "output_type": "stream",
          "text": [
            "\u001b[1mThe knn model score from undersampled scaled test data is 99.35%\u001b[0m\n"
          ]
        }
      ],
      "source": [
        "accuracy_score_test_float \\\n",
        "    = knn_undersampled_model.score \\\n",
        "        (x_test_scaled_dataframe, y_test_series) * 100\n",
        "\n",
        "logx.print_and_log_text \\\n",
        "    ('\\033[1m'\n",
        "     + 'The knn model score from undersampled scaled test data is {:.2f}%' \\\n",
        "         .format(accuracy_score_test_float)\n",
        "     + '\\033[0m')"
      ]
    },
    {
      "cell_type": "markdown",
      "id": "QQH6HGLfuo-g",
      "metadata": {
        "id": "QQH6HGLfuo-g"
      },
      "source": [
        "### **Random Oversampling**"
      ]
    },
    {
      "cell_type": "code",
      "execution_count": null,
      "id": "mlVyRr3Quo-g",
      "metadata": {
        "colab": {
          "base_uri": "https://localhost:8080/"
        },
        "id": "mlVyRr3Quo-g",
        "outputId": "46ea3c48-15d4-496a-e3e2-5114e7c34266"
      },
      "outputs": [
        {
          "name": "stdout",
          "output_type": "stream",
          "text": [
            "\u001b[1mThe knn model score from overersampled scaled training data is 99.47%\u001b[0m\n"
          ]
        }
      ],
      "source": [
        "accuracy_score_train_float \\\n",
        "    = knn_oversampled_model.score \\\n",
        "        (x_train_scaled_dataframe, y_train_series) * 100\n",
        "\n",
        "logx.print_and_log_text \\\n",
        "    ('\\033[1m'\n",
        "     + 'The knn model score from overersampled scaled training data is {:.2f}%' \\\n",
        "         .format(accuracy_score_train_float)\n",
        "     + '\\033[0m')"
      ]
    },
    {
      "cell_type": "code",
      "execution_count": null,
      "id": "bg-A-yAduo-h",
      "metadata": {
        "colab": {
          "base_uri": "https://localhost:8080/"
        },
        "id": "bg-A-yAduo-h",
        "outputId": "527a76d6-b3d9-4828-f013-f3f78add89b3"
      },
      "outputs": [
        {
          "name": "stdout",
          "output_type": "stream",
          "text": [
            "\u001b[1mThe knn model score from oversampled scaled test data is 99.31%\u001b[0m\n"
          ]
        }
      ],
      "source": [
        "accuracy_score_test_float \\\n",
        "    = knn_oversampled_model.score \\\n",
        "        (x_test_scaled_dataframe, y_test_series) * 100\n",
        "\n",
        "logx.print_and_log_text \\\n",
        "    ('\\033[1m'\n",
        "     + 'The knn model score from oversampled scaled test data is {:.2f}%' \\\n",
        "         .format(accuracy_score_test_float)\n",
        "     + '\\033[0m')"
      ]
    },
    {
      "cell_type": "markdown",
      "id": "9adM3hyuuo-h",
      "metadata": {
        "id": "9adM3hyuuo-h"
      },
      "source": [
        "### **Cluster Centroids**"
      ]
    },
    {
      "cell_type": "code",
      "execution_count": null,
      "id": "HgZ8xY8auo-h",
      "metadata": {
        "colab": {
          "base_uri": "https://localhost:8080/"
        },
        "id": "HgZ8xY8auo-h",
        "outputId": "de70905b-8eb5-447b-e66e-e963b2450343"
      },
      "outputs": [
        {
          "name": "stdout",
          "output_type": "stream",
          "text": [
            "\u001b[1mThe knn model score from cluster centroids scaled training data is 99.47%\u001b[0m\n"
          ]
        }
      ],
      "source": [
        "accuracy_score_train_float \\\n",
        "    = knn_cluster_centroids_model.score \\\n",
        "        (x_train_scaled_dataframe, y_train_series) * 100\n",
        "\n",
        "logx.print_and_log_text \\\n",
        "    ('\\033[1m'\n",
        "     + 'The knn model score from cluster centroids scaled training data is {:.2f}%' \\\n",
        "         .format(accuracy_score_train_float)\n",
        "     + '\\033[0m')"
      ]
    },
    {
      "cell_type": "code",
      "execution_count": null,
      "id": "nTsEWlXauo-h",
      "metadata": {
        "colab": {
          "base_uri": "https://localhost:8080/"
        },
        "id": "nTsEWlXauo-h",
        "outputId": "c8c2ea6b-f680-4ee5-f1ba-e0029957083c"
      },
      "outputs": [
        {
          "name": "stdout",
          "output_type": "stream",
          "text": [
            "\u001b[1mThe knn model score from cluster centroids scaled test data is 99.37%\u001b[0m\n"
          ]
        }
      ],
      "source": [
        "accuracy_score_test_float \\\n",
        "    = knn_cluster_centroids_model.score \\\n",
        "        (x_test_scaled_dataframe, y_test_series) * 100\n",
        "\n",
        "logx.print_and_log_text \\\n",
        "    ('\\033[1m'\n",
        "     + 'The knn model score from cluster centroids scaled test data is {:.2f}%' \\\n",
        "         .format(accuracy_score_test_float)\n",
        "     + '\\033[0m')"
      ]
    },
    {
      "cell_type": "markdown",
      "id": "YU7ALIqEuo-h",
      "metadata": {
        "id": "YU7ALIqEuo-h"
      },
      "source": [
        "### **SMOTE**"
      ]
    },
    {
      "cell_type": "code",
      "execution_count": null,
      "id": "eeUw-FFjuo-h",
      "metadata": {
        "colab": {
          "base_uri": "https://localhost:8080/"
        },
        "id": "eeUw-FFjuo-h",
        "outputId": "c2bd8976-cc43-4e1a-e431-78416afea43f"
      },
      "outputs": [
        {
          "name": "stdout",
          "output_type": "stream",
          "text": [
            "\u001b[1mThe knn model score from SMOTE scaled training data is 99.47%\u001b[0m\n"
          ]
        }
      ],
      "source": [
        "accuracy_score_train_float \\\n",
        "    = knn_SMOTE_model.score \\\n",
        "        (x_train_scaled_dataframe, y_train_series) * 100\n",
        "\n",
        "logx.print_and_log_text \\\n",
        "    ('\\033[1m'\n",
        "     + 'The knn model score from SMOTE scaled training data is {:.2f}%' \\\n",
        "         .format(accuracy_score_train_float)\n",
        "     + '\\033[0m')"
      ]
    },
    {
      "cell_type": "code",
      "execution_count": null,
      "id": "G7aWzl92uo-h",
      "metadata": {
        "colab": {
          "base_uri": "https://localhost:8080/"
        },
        "id": "G7aWzl92uo-h",
        "outputId": "31973ca8-a047-416e-db23-eb804dd4ca4a"
      },
      "outputs": [
        {
          "name": "stdout",
          "output_type": "stream",
          "text": [
            "\u001b[1mThe knn model score from SMOTE scaled test data is 94.70%\u001b[0m\n"
          ]
        }
      ],
      "source": [
        "accuracy_score_test_float \\\n",
        "    = knn_SMOTE_model.score \\\n",
        "        (x_test_scaled_dataframe, y_test_series) * 100\n",
        "\n",
        "logx.print_and_log_text \\\n",
        "    ('\\033[1m'\n",
        "     + 'The knn model score from SMOTE scaled test data is {:.2f}%' \\\n",
        "         .format(accuracy_score_test_float)\n",
        "     + '\\033[0m')"
      ]
    },
    {
      "cell_type": "markdown",
      "id": "Vy4YHXdjuo-h",
      "metadata": {
        "id": "Vy4YHXdjuo-h"
      },
      "source": [
        "### **SMOTEENN**"
      ]
    },
    {
      "cell_type": "code",
      "execution_count": null,
      "id": "Xna6BjP7uo-h",
      "metadata": {
        "colab": {
          "base_uri": "https://localhost:8080/"
        },
        "id": "Xna6BjP7uo-h",
        "outputId": "12aa6312-036f-4751-f8c0-fdc3b6d4a72a"
      },
      "outputs": [
        {
          "name": "stdout",
          "output_type": "stream",
          "text": [
            "\u001b[1mThe knn model score from SMOTEENN scaled training data is 99.46%\u001b[0m\n"
          ]
        }
      ],
      "source": [
        "accuracy_score_train_float \\\n",
        "    = knn_SMOTEENN_model.score \\\n",
        "        (x_train_scaled_dataframe, y_train_series) * 100\n",
        "\n",
        "logx.print_and_log_text \\\n",
        "    ('\\033[1m'\n",
        "     + 'The knn model score from SMOTEENN scaled training data is {:.2f}%' \\\n",
        "         .format(accuracy_score_train_float)\n",
        "     + '\\033[0m')"
      ]
    },
    {
      "cell_type": "code",
      "execution_count": null,
      "id": "g-eAVfIsuo-h",
      "metadata": {
        "colab": {
          "base_uri": "https://localhost:8080/"
        },
        "id": "g-eAVfIsuo-h",
        "outputId": "5b27577a-031b-4ddc-e9d4-2382d6097196"
      },
      "outputs": [
        {
          "name": "stdout",
          "output_type": "stream",
          "text": [
            "\u001b[1mThe knn model score from SMOTEENN scaled test data is 97.45%\u001b[0m\n"
          ]
        }
      ],
      "source": [
        "accuracy_score_test_float \\\n",
        "    = knn_SMOTEENN_model.score \\\n",
        "        (x_test_scaled_dataframe, y_test_series) * 100\n",
        "\n",
        "logx.print_and_log_text \\\n",
        "    ('\\033[1m'\n",
        "     + 'The knn model score from SMOTEENN scaled test data is {:.2f}%' \\\n",
        "         .format(accuracy_score_test_float)\n",
        "     + '\\033[0m')"
      ]
    },
    {
      "cell_type": "markdown",
      "id": "jlra1e0auo-i",
      "metadata": {
        "id": "jlra1e0auo-i"
      },
      "source": [
        "## **7.3: Calculate Training and Test Predictions.**"
      ]
    },
    {
      "cell_type": "markdown",
      "id": "LW1MPnZ-uo-i",
      "metadata": {
        "id": "LW1MPnZ-uo-i"
      },
      "source": [
        "### **Original**"
      ]
    },
    {
      "cell_type": "code",
      "execution_count": null,
      "id": "D_y7zKMYuo-i",
      "metadata": {
        "id": "D_y7zKMYuo-i"
      },
      "outputs": [],
      "source": [
        "knn_train_predictions_dataframe \\\n",
        "    = classificationsx.return_predictions_dataframe \\\n",
        "        (knn_model,\n",
        "         x_train_scaled_dataframe,\n",
        "         y_train_series)\n",
        "\n",
        "logx.log_write_object(knn_train_predictions_dataframe)"
      ]
    },
    {
      "cell_type": "code",
      "execution_count": null,
      "id": "WFzG83ZVuo-i",
      "metadata": {
        "id": "WFzG83ZVuo-i"
      },
      "outputs": [],
      "source": [
        "knn_test_predictions_dataframe \\\n",
        "    = classificationsx.return_predictions_dataframe \\\n",
        "        (knn_model,\n",
        "         x_test_scaled_dataframe,\n",
        "         y_test_series)\n",
        "\n",
        "logx.log_write_object(knn_test_predictions_dataframe)"
      ]
    },
    {
      "cell_type": "markdown",
      "id": "mFlpZ1ETuo-i",
      "metadata": {
        "id": "mFlpZ1ETuo-i"
      },
      "source": [
        "### **Random Undersampling**"
      ]
    },
    {
      "cell_type": "code",
      "execution_count": null,
      "id": "cDQeWKhjuo-i",
      "metadata": {
        "id": "cDQeWKhjuo-i"
      },
      "outputs": [],
      "source": [
        "knn_train_undersampled_predictions_dataframe \\\n",
        "    = classificationsx.return_predictions_dataframe \\\n",
        "        (knn_undersampled_model,\n",
        "         x_train_scaled_dataframe,\n",
        "         y_train_series)\n",
        "\n",
        "logx.log_write_object(knn_train_undersampled_predictions_dataframe)"
      ]
    },
    {
      "cell_type": "code",
      "execution_count": null,
      "id": "xu2aV9U_uo-i",
      "metadata": {
        "id": "xu2aV9U_uo-i"
      },
      "outputs": [],
      "source": [
        "knn_test_undersampled_predictions_dataframe \\\n",
        "    = classificationsx.return_predictions_dataframe \\\n",
        "        (knn_undersampled_model,\n",
        "         x_test_scaled_dataframe,\n",
        "         y_test_series)\n",
        "\n",
        "logx.log_write_object(knn_test_undersampled_predictions_dataframe)"
      ]
    },
    {
      "cell_type": "markdown",
      "id": "UufHRIgMuo-i",
      "metadata": {
        "id": "UufHRIgMuo-i"
      },
      "source": [
        "### **Random Oversampling**"
      ]
    },
    {
      "cell_type": "code",
      "execution_count": null,
      "id": "AfvKKu_7uo-i",
      "metadata": {
        "id": "AfvKKu_7uo-i"
      },
      "outputs": [],
      "source": [
        "knn_train_oversampled_predictions_dataframe \\\n",
        "    = classificationsx.return_predictions_dataframe \\\n",
        "        (knn_oversampled_model,\n",
        "         x_train_scaled_dataframe,\n",
        "         y_train_series)\n",
        "\n",
        "logx.log_write_object(knn_train_oversampled_predictions_dataframe)"
      ]
    },
    {
      "cell_type": "code",
      "execution_count": null,
      "id": "dmZz_DcLuo-i",
      "metadata": {
        "id": "dmZz_DcLuo-i"
      },
      "outputs": [],
      "source": [
        "knn_test_oversampled_predictions_dataframe \\\n",
        "    = classificationsx.return_predictions_dataframe \\\n",
        "        (knn_oversampled_model,\n",
        "         x_test_scaled_dataframe,\n",
        "         y_test_series)\n",
        "\n",
        "logx.log_write_object(knn_test_oversampled_predictions_dataframe)"
      ]
    },
    {
      "cell_type": "markdown",
      "id": "82i8FI-Vuo-i",
      "metadata": {
        "id": "82i8FI-Vuo-i"
      },
      "source": [
        "### **Cluster Centroids**"
      ]
    },
    {
      "cell_type": "code",
      "execution_count": null,
      "id": "elfRwF02uo-j",
      "metadata": {
        "id": "elfRwF02uo-j"
      },
      "outputs": [],
      "source": [
        "knn_train_cluster_centroids_predictions_dataframe \\\n",
        "    = classificationsx.return_predictions_dataframe \\\n",
        "        (knn_cluster_centroids_model,\n",
        "         x_train_scaled_dataframe,\n",
        "         y_train_series)\n",
        "\n",
        "logx.log_write_object(knn_train_cluster_centroids_predictions_dataframe)"
      ]
    },
    {
      "cell_type": "code",
      "execution_count": null,
      "id": "BI1PPFcduo-j",
      "metadata": {
        "id": "BI1PPFcduo-j"
      },
      "outputs": [],
      "source": [
        "knn_test_cluster_centroids_predictions_dataframe \\\n",
        "    = classificationsx.return_predictions_dataframe \\\n",
        "        (knn_cluster_centroids_model,\n",
        "         x_test_scaled_dataframe,\n",
        "         y_test_series)\n",
        "\n",
        "logx.log_write_object(knn_test_cluster_centroids_predictions_dataframe)"
      ]
    },
    {
      "cell_type": "markdown",
      "id": "T67IzSD7uo-j",
      "metadata": {
        "id": "T67IzSD7uo-j"
      },
      "source": [
        "### **SMOTE**"
      ]
    },
    {
      "cell_type": "code",
      "execution_count": null,
      "id": "GG1otiK9uo-j",
      "metadata": {
        "id": "GG1otiK9uo-j"
      },
      "outputs": [],
      "source": [
        "knn_train_SMOTE_predictions_dataframe \\\n",
        "    = classificationsx.return_predictions_dataframe \\\n",
        "        (knn_SMOTE_model,\n",
        "         x_train_scaled_dataframe,\n",
        "         y_train_series)\n",
        "\n",
        "logx.log_write_object(knn_train_SMOTE_predictions_dataframe)"
      ]
    },
    {
      "cell_type": "code",
      "execution_count": null,
      "id": "umpPGyMHuo-j",
      "metadata": {
        "id": "umpPGyMHuo-j"
      },
      "outputs": [],
      "source": [
        "knn_test_SMOTE_predictions_dataframe \\\n",
        "    = classificationsx.return_predictions_dataframe \\\n",
        "        (knn_SMOTE_model,\n",
        "         x_test_scaled_dataframe,\n",
        "         y_test_series)\n",
        "\n",
        "logx.log_write_object(knn_test_SMOTE_predictions_dataframe)"
      ]
    },
    {
      "cell_type": "markdown",
      "id": "n_q-ysiIuo-j",
      "metadata": {
        "id": "n_q-ysiIuo-j"
      },
      "source": [
        "### **SMOTEENN**"
      ]
    },
    {
      "cell_type": "code",
      "execution_count": null,
      "id": "IOtZJODguo-j",
      "metadata": {
        "id": "IOtZJODguo-j"
      },
      "outputs": [],
      "source": [
        "knn_train_SMOTEENN_predictions_dataframe \\\n",
        "    = classificationsx.return_predictions_dataframe \\\n",
        "        (knn_SMOTEENN_model,\n",
        "         x_train_scaled_dataframe,\n",
        "         y_train_series)\n",
        "\n",
        "logx.log_write_object(knn_train_SMOTEENN_predictions_dataframe)"
      ]
    },
    {
      "cell_type": "code",
      "execution_count": null,
      "id": "m6E_JkuPuo-j",
      "metadata": {
        "id": "m6E_JkuPuo-j"
      },
      "outputs": [],
      "source": [
        "knn_test_SMOTEENN_predictions_dataframe \\\n",
        "    = classificationsx.return_predictions_dataframe \\\n",
        "        (knn_SMOTE_model,\n",
        "         x_test_scaled_dataframe,\n",
        "         y_test_series)\n",
        "\n",
        "logx.log_write_object(knn_test_SMOTEENN_predictions_dataframe)"
      ]
    },
    {
      "cell_type": "markdown",
      "id": "vjdJssxmuo-j",
      "metadata": {
        "id": "vjdJssxmuo-j"
      },
      "source": [
        "# <br> **Section 8: Gaussian Naive Bayes (GNB) Models**"
      ]
    },
    {
      "cell_type": "markdown",
      "id": "mLATaoLiuo-k",
      "metadata": {
        "id": "mLATaoLiuo-k"
      },
      "source": [
        "## **8.1: Fit Models by Using the Scaled Training Data.**"
      ]
    },
    {
      "cell_type": "markdown",
      "id": "e2JPA94_uo-k",
      "metadata": {
        "id": "e2JPA94_uo-k"
      },
      "source": [
        "### **Original**"
      ]
    },
    {
      "cell_type": "code",
      "execution_count": null,
      "id": "z54094fzuo-k",
      "metadata": {
        "id": "z54094fzuo-k"
      },
      "outputs": [],
      "source": [
        "gnb_model \\\n",
        "    = GaussianNB().fit(x_train_scaled_dataframe, y_train_series)"
      ]
    },
    {
      "cell_type": "markdown",
      "id": "t3d1Qio4uo-k",
      "metadata": {
        "id": "t3d1Qio4uo-k"
      },
      "source": [
        "### **Random Undersampling**"
      ]
    },
    {
      "cell_type": "code",
      "execution_count": null,
      "id": "fMGjCugfuo-k",
      "metadata": {
        "id": "fMGjCugfuo-k"
      },
      "outputs": [],
      "source": [
        "gnb_undersampled_model \\\n",
        "    = GaussianNB().fit(x_train_scaled_undersampled_dataframe, y_train_undersampled_series)"
      ]
    },
    {
      "cell_type": "markdown",
      "id": "uslOmq0Euo-k",
      "metadata": {
        "id": "uslOmq0Euo-k"
      },
      "source": [
        "### **Random Oversampling**"
      ]
    },
    {
      "cell_type": "code",
      "execution_count": null,
      "id": "MwqLBDe1uo-k",
      "metadata": {
        "id": "MwqLBDe1uo-k"
      },
      "outputs": [],
      "source": [
        "gnb_oversampled_model \\\n",
        "    = GaussianNB().fit(x_train_scaled_oversampled_dataframe, y_train_oversampled_series)"
      ]
    },
    {
      "cell_type": "markdown",
      "id": "Eq8CYlqruo-k",
      "metadata": {
        "id": "Eq8CYlqruo-k"
      },
      "source": [
        "### **Cluster Centroids**"
      ]
    },
    {
      "cell_type": "code",
      "execution_count": null,
      "id": "-xdYFaJVuo-k",
      "metadata": {
        "id": "-xdYFaJVuo-k"
      },
      "outputs": [],
      "source": [
        "gnb_cluster_centroids_model \\\n",
        "    = GaussianNB().fit(x_train_scaled_cluster_centroids_dataframe, y_train_cluster_centroids_series)"
      ]
    },
    {
      "cell_type": "markdown",
      "id": "K5_4Le9tuo-k",
      "metadata": {
        "id": "K5_4Le9tuo-k"
      },
      "source": [
        "### **SMOTE**"
      ]
    },
    {
      "cell_type": "code",
      "execution_count": null,
      "id": "0NG-_hQauo-k",
      "metadata": {
        "id": "0NG-_hQauo-k"
      },
      "outputs": [],
      "source": [
        "gnb_SMOTE_model \\\n",
        "    = GaussianNB().fit(x_train_scaled_SMOTE_dataframe, y_train_SMOTE_series)"
      ]
    },
    {
      "cell_type": "markdown",
      "id": "5D9gEWv0uo-l",
      "metadata": {
        "id": "5D9gEWv0uo-l"
      },
      "source": [
        "### **SMOTEENN**"
      ]
    },
    {
      "cell_type": "code",
      "execution_count": null,
      "id": "1cn6Q7yBuo-l",
      "metadata": {
        "id": "1cn6Q7yBuo-l"
      },
      "outputs": [],
      "source": [
        "gnb_SMOTEENN_model \\\n",
        "    = GaussianNB().fit(x_train_scaled_SMOTEENN_dataframe, y_train_SMOTEENN_series)"
      ]
    },
    {
      "cell_type": "markdown",
      "id": "pRNOP3tGuo-l",
      "metadata": {
        "id": "pRNOP3tGuo-l"
      },
      "source": [
        "## **8.2: Display the Model Scores Using the Scaled Training and Testing Data**"
      ]
    },
    {
      "cell_type": "markdown",
      "id": "s3lbCmwouo-l",
      "metadata": {
        "id": "s3lbCmwouo-l"
      },
      "source": [
        "### **Original**"
      ]
    },
    {
      "cell_type": "code",
      "execution_count": null,
      "id": "yMUyhwwPuo-l",
      "metadata": {
        "colab": {
          "base_uri": "https://localhost:8080/"
        },
        "id": "yMUyhwwPuo-l",
        "outputId": "fc3b03b2-6b2a-4ece-dd82-91a0265d095a"
      },
      "outputs": [
        {
          "name": "stdout",
          "output_type": "stream",
          "text": [
            "\u001b[1mThe gnb model score from scaled training data is 99.47%\u001b[0m\n"
          ]
        }
      ],
      "source": [
        "accuracy_score_train_float \\\n",
        "    = gnb_model.score \\\n",
        "        (x_train_scaled_dataframe, y_train_series) * 100\n",
        "\n",
        "logx.print_and_log_text \\\n",
        "    ('\\033[1m'\n",
        "     + 'The gnb model score from scaled training data is {:.2f}%' \\\n",
        "         .format(accuracy_score_train_float)\n",
        "     + '\\033[0m')"
      ]
    },
    {
      "cell_type": "code",
      "execution_count": null,
      "id": "aNgQZfRnuo-l",
      "metadata": {
        "colab": {
          "base_uri": "https://localhost:8080/"
        },
        "id": "aNgQZfRnuo-l",
        "outputId": "5f5473e0-d1cc-46c5-bdf3-88f2a2772303"
      },
      "outputs": [
        {
          "name": "stdout",
          "output_type": "stream",
          "text": [
            "\u001b[1mThe gnb model score from scaled test data is 99.37%\u001b[0m\n"
          ]
        }
      ],
      "source": [
        "accuracy_score_test_float \\\n",
        "    = gnb_model.score \\\n",
        "        (x_test_scaled_dataframe, y_test_series) * 100\n",
        "\n",
        "logx.print_and_log_text \\\n",
        "    ('\\033[1m'\n",
        "     + 'The gnb model score from scaled test data is {:.2f}%' \\\n",
        "         .format(accuracy_score_test_float)\n",
        "     + '\\033[0m')"
      ]
    },
    {
      "cell_type": "markdown",
      "id": "UTxhHQcnuo-l",
      "metadata": {
        "id": "UTxhHQcnuo-l"
      },
      "source": [
        "### **Random Undersampling**"
      ]
    },
    {
      "cell_type": "code",
      "execution_count": null,
      "id": "lCBTMZcPuo-l",
      "metadata": {
        "colab": {
          "base_uri": "https://localhost:8080/"
        },
        "id": "lCBTMZcPuo-l",
        "outputId": "edab6e28-8696-407f-d215-d90ae45b4c99"
      },
      "outputs": [
        {
          "name": "stdout",
          "output_type": "stream",
          "text": [
            "\u001b[1mThe gnb model score from undersampled scaled training data is 99.47%\u001b[0m\n"
          ]
        }
      ],
      "source": [
        "accuracy_score_train_float \\\n",
        "    = gnb_undersampled_model.score \\\n",
        "        (x_train_scaled_dataframe, y_train_series) * 100\n",
        "\n",
        "logx.print_and_log_text \\\n",
        "    ('\\033[1m'\n",
        "     + 'The gnb model score from undersampled scaled training data is {:.2f}%' \\\n",
        "         .format(accuracy_score_train_float)\n",
        "     + '\\033[0m')"
      ]
    },
    {
      "cell_type": "code",
      "execution_count": null,
      "id": "NF6DhxG8uo-l",
      "metadata": {
        "colab": {
          "base_uri": "https://localhost:8080/"
        },
        "id": "NF6DhxG8uo-l",
        "outputId": "81e86d31-aa38-448a-9c87-370f71935355"
      },
      "outputs": [
        {
          "name": "stdout",
          "output_type": "stream",
          "text": [
            "\u001b[1mThe gnb model score from undersampled scaled test data is 99.37%\u001b[0m\n"
          ]
        }
      ],
      "source": [
        "accuracy_score_test_float \\\n",
        "    = gnb_undersampled_model.score \\\n",
        "        (x_test_scaled_dataframe, y_test_series) * 100\n",
        "\n",
        "logx.print_and_log_text \\\n",
        "    ('\\033[1m'\n",
        "     + 'The gnb model score from undersampled scaled test data is {:.2f}%' \\\n",
        "         .format(accuracy_score_test_float)\n",
        "     + '\\033[0m')"
      ]
    },
    {
      "cell_type": "markdown",
      "id": "tf3L4jqzuo-l",
      "metadata": {
        "id": "tf3L4jqzuo-l"
      },
      "source": [
        "### **Random Oversampling**"
      ]
    },
    {
      "cell_type": "code",
      "execution_count": null,
      "id": "WjIhNG7Kuo-l",
      "metadata": {
        "colab": {
          "base_uri": "https://localhost:8080/"
        },
        "id": "WjIhNG7Kuo-l",
        "outputId": "c4223682-ceb7-4a91-db00-af1c128bbfb9"
      },
      "outputs": [
        {
          "name": "stdout",
          "output_type": "stream",
          "text": [
            "\u001b[1mThe gnb model score from overersampled scaled training data is 99.47%\u001b[0m\n"
          ]
        }
      ],
      "source": [
        "accuracy_score_train_float \\\n",
        "    = gnb_oversampled_model.score \\\n",
        "        (x_train_scaled_dataframe, y_train_series) * 100\n",
        "\n",
        "logx.print_and_log_text \\\n",
        "    ('\\033[1m'\n",
        "     + 'The gnb model score from overersampled scaled training data is {:.2f}%' \\\n",
        "         .format(accuracy_score_train_float)\n",
        "     + '\\033[0m')"
      ]
    },
    {
      "cell_type": "code",
      "execution_count": null,
      "id": "5gdHZtdcuo-m",
      "metadata": {
        "colab": {
          "base_uri": "https://localhost:8080/"
        },
        "id": "5gdHZtdcuo-m",
        "outputId": "19131274-d36e-4848-b511-85792b9499cf"
      },
      "outputs": [
        {
          "name": "stdout",
          "output_type": "stream",
          "text": [
            "\u001b[1mThe gnb model score from oversampled scaled test data is 99.37%\u001b[0m\n"
          ]
        }
      ],
      "source": [
        "accuracy_score_test_float \\\n",
        "    = gnb_oversampled_model.score \\\n",
        "        (x_test_scaled_dataframe, y_test_series) * 100\n",
        "\n",
        "logx.print_and_log_text \\\n",
        "    ('\\033[1m'\n",
        "     + 'The gnb model score from oversampled scaled test data is {:.2f}%' \\\n",
        "         .format(accuracy_score_test_float)\n",
        "     + '\\033[0m')"
      ]
    },
    {
      "cell_type": "markdown",
      "id": "jpBLmPhluo-m",
      "metadata": {
        "id": "jpBLmPhluo-m"
      },
      "source": [
        "### **Cluster Centroids**"
      ]
    },
    {
      "cell_type": "code",
      "execution_count": null,
      "id": "fdsoyfgLuo-m",
      "metadata": {
        "colab": {
          "base_uri": "https://localhost:8080/"
        },
        "id": "fdsoyfgLuo-m",
        "outputId": "bbac6ce6-be4e-4024-c579-53238764aac3"
      },
      "outputs": [
        {
          "name": "stdout",
          "output_type": "stream",
          "text": [
            "\u001b[1mThe gnb model score from cluster centroids scaled training data is 99.44%\u001b[0m\n"
          ]
        }
      ],
      "source": [
        "accuracy_score_train_float \\\n",
        "    = gnb_cluster_centroids_model.score \\\n",
        "        (x_train_scaled_dataframe, y_train_series) * 100\n",
        "\n",
        "logx.print_and_log_text \\\n",
        "    ('\\033[1m'\n",
        "     + 'The gnb model score from cluster centroids scaled training data is {:.2f}%' \\\n",
        "         .format(accuracy_score_train_float)\n",
        "     + '\\033[0m')"
      ]
    },
    {
      "cell_type": "code",
      "execution_count": null,
      "id": "XIutJAILuo-m",
      "metadata": {
        "colab": {
          "base_uri": "https://localhost:8080/"
        },
        "id": "XIutJAILuo-m",
        "outputId": "53c11582-2c7d-4998-8e0f-b050c8e2f3ef"
      },
      "outputs": [
        {
          "name": "stdout",
          "output_type": "stream",
          "text": [
            "\u001b[1mThe gnb model score from cluster centroids scaled test data is 99.33%\u001b[0m\n"
          ]
        }
      ],
      "source": [
        "accuracy_score_test_float \\\n",
        "    = gnb_cluster_centroids_model.score \\\n",
        "        (x_test_scaled_dataframe, y_test_series) * 100\n",
        "\n",
        "logx.print_and_log_text \\\n",
        "    ('\\033[1m'\n",
        "     + 'The gnb model score from cluster centroids scaled test data is {:.2f}%' \\\n",
        "         .format(accuracy_score_test_float)\n",
        "     + '\\033[0m')"
      ]
    },
    {
      "cell_type": "markdown",
      "id": "8VX4sfamuo-m",
      "metadata": {
        "id": "8VX4sfamuo-m"
      },
      "source": [
        "### **SMOTE**"
      ]
    },
    {
      "cell_type": "code",
      "execution_count": null,
      "id": "kgcKBYXfuo-m",
      "metadata": {
        "colab": {
          "base_uri": "https://localhost:8080/"
        },
        "id": "kgcKBYXfuo-m",
        "outputId": "6f9aaa0d-6d30-43d4-d2b1-1689d1a49df1"
      },
      "outputs": [
        {
          "name": "stdout",
          "output_type": "stream",
          "text": [
            "\u001b[1mThe gnb model score from SMOTE scaled training data is 99.47%\u001b[0m\n"
          ]
        }
      ],
      "source": [
        "accuracy_score_train_float \\\n",
        "    = gnb_SMOTE_model.score \\\n",
        "        (x_train_scaled_dataframe, y_train_series) * 100\n",
        "\n",
        "logx.print_and_log_text \\\n",
        "    ('\\033[1m'\n",
        "     + 'The gnb model score from SMOTE scaled training data is {:.2f}%' \\\n",
        "         .format(accuracy_score_train_float)\n",
        "     + '\\033[0m')"
      ]
    },
    {
      "cell_type": "code",
      "execution_count": null,
      "id": "_pYYDW4Yuo-m",
      "metadata": {
        "colab": {
          "base_uri": "https://localhost:8080/"
        },
        "id": "_pYYDW4Yuo-m",
        "outputId": "42e53589-974a-4b52-eec7-ca0e0511808a"
      },
      "outputs": [
        {
          "name": "stdout",
          "output_type": "stream",
          "text": [
            "\u001b[1mThe gnb model score from SMOTE scaled test data is 99.37%\u001b[0m\n"
          ]
        }
      ],
      "source": [
        "accuracy_score_test_float \\\n",
        "    = gnb_SMOTE_model.score \\\n",
        "        (x_test_scaled_dataframe, y_test_series) * 100\n",
        "\n",
        "logx.print_and_log_text \\\n",
        "    ('\\033[1m'\n",
        "     + 'The gnb model score from SMOTE scaled test data is {:.2f}%' \\\n",
        "         .format(accuracy_score_test_float)\n",
        "     + '\\033[0m')"
      ]
    },
    {
      "cell_type": "markdown",
      "id": "WS29Fshwuo-m",
      "metadata": {
        "id": "WS29Fshwuo-m"
      },
      "source": [
        "### **SMOTEENN**"
      ]
    },
    {
      "cell_type": "code",
      "execution_count": null,
      "id": "W4KiIv2-uo-m",
      "metadata": {
        "colab": {
          "base_uri": "https://localhost:8080/"
        },
        "id": "W4KiIv2-uo-m",
        "outputId": "9df02975-608f-427b-8c84-9b19229091be"
      },
      "outputs": [
        {
          "name": "stdout",
          "output_type": "stream",
          "text": [
            "\u001b[1mThe gnb model score from SMOTEENN scaled training data is 99.46%\u001b[0m\n"
          ]
        }
      ],
      "source": [
        "accuracy_score_train_float \\\n",
        "    = gnb_SMOTEENN_model.score \\\n",
        "        (x_train_scaled_dataframe, y_train_series) * 100\n",
        "\n",
        "logx.print_and_log_text \\\n",
        "    ('\\033[1m'\n",
        "     + 'The gnb model score from SMOTEENN scaled training data is {:.2f}%' \\\n",
        "         .format(accuracy_score_train_float)\n",
        "     + '\\033[0m')"
      ]
    },
    {
      "cell_type": "code",
      "execution_count": null,
      "id": "aAxDwAMYuo-m",
      "metadata": {
        "colab": {
          "base_uri": "https://localhost:8080/"
        },
        "id": "aAxDwAMYuo-m",
        "outputId": "c20997a2-0c27-4812-8042-100abef08aab"
      },
      "outputs": [
        {
          "name": "stdout",
          "output_type": "stream",
          "text": [
            "\u001b[1mThe gnb model score from SMOTEENN scaled test data is 99.36%\u001b[0m\n"
          ]
        }
      ],
      "source": [
        "accuracy_score_test_float \\\n",
        "    = gnb_SMOTEENN_model.score \\\n",
        "        (x_test_scaled_dataframe, y_test_series) * 100\n",
        "\n",
        "logx.print_and_log_text \\\n",
        "    ('\\033[1m'\n",
        "     + 'The gnb model score from SMOTEENN scaled test data is {:.2f}%' \\\n",
        "         .format(accuracy_score_test_float)\n",
        "     + '\\033[0m')"
      ]
    },
    {
      "cell_type": "markdown",
      "id": "Mm3C0EXsuo-m",
      "metadata": {
        "id": "Mm3C0EXsuo-m"
      },
      "source": [
        "## **8.3: Calculate Training and Test Predictions.**"
      ]
    },
    {
      "cell_type": "markdown",
      "id": "L8OcVDKJuo-m",
      "metadata": {
        "id": "L8OcVDKJuo-m"
      },
      "source": [
        "### **Original**"
      ]
    },
    {
      "cell_type": "code",
      "execution_count": null,
      "id": "DeQGTZlvuo-n",
      "metadata": {
        "id": "DeQGTZlvuo-n"
      },
      "outputs": [],
      "source": [
        "gnb_train_predictions_dataframe \\\n",
        "    = classificationsx.return_predictions_dataframe \\\n",
        "        (gnb_model,\n",
        "         x_train_scaled_dataframe,\n",
        "         y_train_series)\n",
        "\n",
        "logx.log_write_object(gnb_train_predictions_dataframe)"
      ]
    },
    {
      "cell_type": "code",
      "execution_count": null,
      "id": "BbIyTT01uo-n",
      "metadata": {
        "id": "BbIyTT01uo-n"
      },
      "outputs": [],
      "source": [
        "gnb_test_predictions_dataframe \\\n",
        "    = classificationsx.return_predictions_dataframe \\\n",
        "        (gnb_model,\n",
        "         x_test_scaled_dataframe,\n",
        "         y_test_series)\n",
        "\n",
        "logx.log_write_object(gnb_test_predictions_dataframe)"
      ]
    },
    {
      "cell_type": "markdown",
      "id": "S7Q-s7p9uo-n",
      "metadata": {
        "id": "S7Q-s7p9uo-n"
      },
      "source": [
        "### **Random Undersampling**"
      ]
    },
    {
      "cell_type": "code",
      "execution_count": null,
      "id": "bdQWZyMOuo-n",
      "metadata": {
        "id": "bdQWZyMOuo-n"
      },
      "outputs": [],
      "source": [
        "gnb_train_undersampled_predictions_dataframe \\\n",
        "    = classificationsx.return_predictions_dataframe \\\n",
        "        (gnb_undersampled_model,\n",
        "         x_train_scaled_dataframe,\n",
        "         y_train_series)\n",
        "\n",
        "logx.log_write_object(gnb_train_undersampled_predictions_dataframe)"
      ]
    },
    {
      "cell_type": "code",
      "execution_count": null,
      "id": "pc2ya6fnuo-n",
      "metadata": {
        "id": "pc2ya6fnuo-n"
      },
      "outputs": [],
      "source": [
        "gnb_test_undersampled_predictions_dataframe \\\n",
        "    = classificationsx.return_predictions_dataframe \\\n",
        "        (gnb_undersampled_model,\n",
        "         x_test_scaled_dataframe,\n",
        "         y_test_series)\n",
        "\n",
        "logx.log_write_object(gnb_test_undersampled_predictions_dataframe)"
      ]
    },
    {
      "cell_type": "markdown",
      "id": "cC4brofguo-n",
      "metadata": {
        "id": "cC4brofguo-n"
      },
      "source": [
        "### **Random Oversampling**"
      ]
    },
    {
      "cell_type": "code",
      "execution_count": null,
      "id": "C-hgcHrpuo-n",
      "metadata": {
        "id": "C-hgcHrpuo-n"
      },
      "outputs": [],
      "source": [
        "gnb_train_oversampled_predictions_dataframe \\\n",
        "    = classificationsx.return_predictions_dataframe \\\n",
        "        (gnb_oversampled_model,\n",
        "         x_train_scaled_dataframe,\n",
        "         y_train_series)\n",
        "\n",
        "logx.log_write_object(gnb_train_oversampled_predictions_dataframe)"
      ]
    },
    {
      "cell_type": "code",
      "execution_count": null,
      "id": "bEDQvqh1uo-n",
      "metadata": {
        "id": "bEDQvqh1uo-n"
      },
      "outputs": [],
      "source": [
        "gnb_test_oversampled_predictions_dataframe \\\n",
        "    = classificationsx.return_predictions_dataframe \\\n",
        "        (gnb_oversampled_model,\n",
        "         x_test_scaled_dataframe,\n",
        "         y_test_series)\n",
        "\n",
        "logx.log_write_object(gnb_test_oversampled_predictions_dataframe)"
      ]
    },
    {
      "cell_type": "markdown",
      "id": "fhvt12r_uo-n",
      "metadata": {
        "id": "fhvt12r_uo-n"
      },
      "source": [
        "### **Cluster Centroids**"
      ]
    },
    {
      "cell_type": "code",
      "execution_count": null,
      "id": "ECO1XK2juo-n",
      "metadata": {
        "id": "ECO1XK2juo-n"
      },
      "outputs": [],
      "source": [
        "gnb_train_cluster_centroids_predictions_dataframe \\\n",
        "    = classificationsx.return_predictions_dataframe \\\n",
        "        (gnb_cluster_centroids_model,\n",
        "         x_train_scaled_dataframe,\n",
        "         y_train_series)\n",
        "\n",
        "logx.log_write_object(gnb_train_cluster_centroids_predictions_dataframe)"
      ]
    },
    {
      "cell_type": "code",
      "execution_count": null,
      "id": "YNqRj_-Huo-n",
      "metadata": {
        "id": "YNqRj_-Huo-n"
      },
      "outputs": [],
      "source": [
        "gnb_test_cluster_centroids_predictions_dataframe \\\n",
        "    = classificationsx.return_predictions_dataframe \\\n",
        "        (gnb_cluster_centroids_model,\n",
        "         x_test_scaled_dataframe,\n",
        "         y_test_series)\n",
        "\n",
        "logx.log_write_object(gnb_test_cluster_centroids_predictions_dataframe)"
      ]
    },
    {
      "cell_type": "markdown",
      "id": "_6IOTiC7uo-n",
      "metadata": {
        "id": "_6IOTiC7uo-n"
      },
      "source": [
        "### **SMOTE**"
      ]
    },
    {
      "cell_type": "code",
      "execution_count": null,
      "id": "NQQn9cShuo-o",
      "metadata": {
        "id": "NQQn9cShuo-o"
      },
      "outputs": [],
      "source": [
        "gnb_train_SMOTE_predictions_dataframe \\\n",
        "    = classificationsx.return_predictions_dataframe \\\n",
        "        (gnb_SMOTE_model,\n",
        "         x_train_scaled_dataframe,\n",
        "         y_train_series)\n",
        "\n",
        "logx.log_write_object(gnb_train_SMOTE_predictions_dataframe)"
      ]
    },
    {
      "cell_type": "code",
      "execution_count": null,
      "id": "N5pa6BHkuo-o",
      "metadata": {
        "id": "N5pa6BHkuo-o"
      },
      "outputs": [],
      "source": [
        "gnb_test_SMOTE_predictions_dataframe \\\n",
        "    = classificationsx.return_predictions_dataframe \\\n",
        "        (gnb_SMOTE_model,\n",
        "         x_test_scaled_dataframe,\n",
        "         y_test_series)\n",
        "\n",
        "logx.log_write_object(gnb_test_SMOTE_predictions_dataframe)"
      ]
    },
    {
      "cell_type": "markdown",
      "id": "LEMVcFeyuo-o",
      "metadata": {
        "id": "LEMVcFeyuo-o"
      },
      "source": [
        "### **SMOTEENN**"
      ]
    },
    {
      "cell_type": "code",
      "execution_count": null,
      "id": "yK0F2zqeuo-o",
      "metadata": {
        "id": "yK0F2zqeuo-o"
      },
      "outputs": [],
      "source": [
        "gnb_train_SMOTEENN_predictions_dataframe \\\n",
        "    = classificationsx.return_predictions_dataframe \\\n",
        "        (gnb_SMOTEENN_model,\n",
        "         x_train_scaled_dataframe,\n",
        "         y_train_series)\n",
        "\n",
        "logx.log_write_object(gnb_train_SMOTEENN_predictions_dataframe)"
      ]
    },
    {
      "cell_type": "code",
      "execution_count": null,
      "id": "5rxiRE77uo-o",
      "metadata": {
        "id": "5rxiRE77uo-o"
      },
      "outputs": [],
      "source": [
        "gnb_test_SMOTEENN_predictions_dataframe \\\n",
        "    = classificationsx.return_predictions_dataframe \\\n",
        "        (gnb_SMOTE_model,\n",
        "         x_test_scaled_dataframe,\n",
        "         y_test_series)\n",
        "\n",
        "logx.log_write_object(gnb_test_SMOTEENN_predictions_dataframe)"
      ]
    },
    {
      "cell_type": "markdown",
      "id": "ZgzkjsIMuo-o",
      "metadata": {
        "id": "ZgzkjsIMuo-o"
      },
      "source": [
        "# <br> **Section 9: Evaluate Model Performance**"
      ]
    },
    {
      "cell_type": "markdown",
      "id": "fI8HzD_Guo-o",
      "metadata": {
        "id": "fI8HzD_Guo-o"
      },
      "source": [
        "## **9.1: Logistic Regression**"
      ]
    },
    {
      "cell_type": "markdown",
      "id": "yMkJjiKVuo-o",
      "metadata": {
        "id": "yMkJjiKVuo-o"
      },
      "source": [
        "### **Original**"
      ]
    },
    {
      "cell_type": "code",
      "execution_count": null,
      "id": "OI_ZjO53uo-o",
      "metadata": {
        "colab": {
          "base_uri": "https://localhost:8080/"
        },
        "id": "OI_ZjO53uo-o",
        "outputId": "eef9b1c6-0aa3-4040-f1c8-4c56bea03a87"
      },
      "outputs": [
        {
          "data": {
            "text/plain": [
              "{'C': 1.0,\n",
              " 'class_weight': None,\n",
              " 'dual': False,\n",
              " 'fit_intercept': True,\n",
              " 'intercept_scaling': 1,\n",
              " 'l1_ratio': None,\n",
              " 'max_iter': 10000000,\n",
              " 'multi_class': 'auto',\n",
              " 'n_jobs': None,\n",
              " 'penalty': 'l2',\n",
              " 'random_state': 21,\n",
              " 'solver': 'lbfgs',\n",
              " 'tol': 0.0001,\n",
              " 'verbose': 0,\n",
              " 'warm_start': False}"
            ]
          },
          "execution_count": 217,
          "metadata": {},
          "output_type": "execute_result"
        }
      ],
      "source": [
        "logistic_regression_model.get_params()"
      ]
    },
    {
      "cell_type": "code",
      "execution_count": null,
      "id": "bqr3_B8zuo-o",
      "metadata": {
        "colab": {
          "base_uri": "https://localhost:8080/"
        },
        "id": "bqr3_B8zuo-o",
        "outputId": "8fd17956-0606-4049-fe1a-3d96630699eb"
      },
      "outputs": [
        {
          "name": "stdout",
          "output_type": "stream",
          "text": [
            "\u001b[1mThe balanced accuracy score for logistic regression from actual vs. test predictions is 99.33%\u001b[0m\n"
          ]
        }
      ],
      "source": [
        "lr_predictions_nparray = logistic_regression_model.predict(x_test_scaled_dataframe)\n",
        "\n",
        "lr_balanced_accuracy_score_float \\\n",
        "    = accuracy_score(y_test_series, lr_predictions_nparray) * 100\n",
        "\n",
        "logx.print_and_log_text \\\n",
        "    ('\\033[1m'\n",
        "     + 'The balanced accuracy score for logistic regression from actual vs. test predictions is {:.2f}%' \\\n",
        "         .format(lr_balanced_accuracy_score_float)\n",
        "     + '\\033[0m')"
      ]
    },
    {
      "cell_type": "code",
      "execution_count": null,
      "id": "1Y4dPWXBuo-o",
      "metadata": {
        "colab": {
          "base_uri": "https://localhost:8080/"
        },
        "id": "1Y4dPWXBuo-o",
        "outputId": "26bd9c22-21e9-45f2-b0a2-b9ebedcb534d"
      },
      "outputs": [
        {
          "name": "stdout",
          "output_type": "stream",
          "text": [
            "\u001b[1mLOGISTIC REGRESSION MODEL\n",
            "\u001b[0m\n",
            "1) \u001b[1mOverall Accuracy Score: \u001b[0m98.7%\n",
            "\n",
            "2) \u001b[1mConfusion Matrix:\n",
            "\u001b[0m\n",
            "                  Predicted Healthy  Predicted High-Risk\n",
            "Actual Healthy                18656                  118\n",
            "Actual High-Risk                 12                  598\n",
            "\n",
            "3) \u001b[1mClassification Report:\n",
            "\u001b[0m\n",
            "              precision    recall  f1-score   support\n",
            "\n",
            "     healthy       1.00      0.99      1.00     18774\n",
            "   high-risk       0.84      0.98      0.90       610\n",
            "\n",
            "    accuracy                           0.99     19384\n",
            "   macro avg       0.92      0.99      0.95     19384\n",
            "weighted avg       0.99      0.99      0.99     19384\n",
            "\n",
            "\n"
          ]
        }
      ],
      "source": [
        "lr_accuracy_score_float, \\\n",
        "lr_confusion_matrix_dataframe, \\\n",
        "lr_classification_report_string \\\n",
        "    = classificationsx.return_binary_classification_confusion_matrix \\\n",
        "        (y_test_series,\n",
        "         lr_predictions_nparray,\n",
        "         'LOGISTIC REGRESSION MODEL',\n",
        "         'Healthy', 'High-Risk')\n",
        "\n",
        "model_performance_dictionary \\\n",
        "    = {'logistic_regression': [lr_accuracy_score_float * 100]}\n",
        "\n",
        "model_performance_ranking_dictionary \\\n",
        "    = {'logistic_regression': lr_accuracy_score_float * 100}"
      ]
    },
    {
      "cell_type": "markdown",
      "id": "ovUZOpIyuo-o",
      "metadata": {
        "id": "ovUZOpIyuo-o"
      },
      "source": [
        "### **Random Undersampling**"
      ]
    },
    {
      "cell_type": "code",
      "execution_count": null,
      "id": "hc-ddXSFuo-o",
      "metadata": {
        "colab": {
          "base_uri": "https://localhost:8080/"
        },
        "id": "hc-ddXSFuo-o",
        "outputId": "4d91e562-f79a-462e-8a73-9971ed675149"
      },
      "outputs": [
        {
          "data": {
            "text/plain": [
              "{'C': 1.0,\n",
              " 'class_weight': 'balanced',\n",
              " 'dual': False,\n",
              " 'fit_intercept': True,\n",
              " 'intercept_scaling': 1,\n",
              " 'l1_ratio': None,\n",
              " 'max_iter': 10000000,\n",
              " 'multi_class': 'auto',\n",
              " 'n_jobs': None,\n",
              " 'penalty': 'l2',\n",
              " 'random_state': 21,\n",
              " 'solver': 'lbfgs',\n",
              " 'tol': 0.0001,\n",
              " 'verbose': 0,\n",
              " 'warm_start': False}"
            ]
          },
          "execution_count": 220,
          "metadata": {},
          "output_type": "execute_result"
        }
      ],
      "source": [
        "logistic_regression_undersampled_model.get_params()"
      ]
    },
    {
      "cell_type": "code",
      "execution_count": null,
      "id": "iUqgi1Cmuo-p",
      "metadata": {
        "colab": {
          "base_uri": "https://localhost:8080/"
        },
        "id": "iUqgi1Cmuo-p",
        "outputId": "32900fa5-ec1e-4f1a-c1ed-8c1881fc3c6d"
      },
      "outputs": [
        {
          "name": "stdout",
          "output_type": "stream",
          "text": [
            "\u001b[1mThe balanced accuracy score for logistic regression undersampled from actual vs. test predictions is 99.34%\u001b[0m\n"
          ]
        }
      ],
      "source": [
        "lr_undersampled_predictions_nparray \\\n",
        "    = logistic_regression_undersampled_model.predict(x_test_scaled_dataframe)\n",
        "\n",
        "lr_undersampled_balanced_accuracy_score_float \\\n",
        "    = accuracy_score(y_test_series, lr_undersampled_predictions_nparray) * 100\n",
        "\n",
        "logx.print_and_log_text \\\n",
        "    ('\\033[1m' \\\n",
        "     + 'The balanced accuracy score for logistic regression undersampled from actual vs. test predictions is {:.2f}%' \\\n",
        "         .format(lr_undersampled_balanced_accuracy_score_float) \\\n",
        "     + '\\033[0m')"
      ]
    },
    {
      "cell_type": "code",
      "execution_count": null,
      "id": "dL6UsZYNuo-p",
      "metadata": {
        "colab": {
          "base_uri": "https://localhost:8080/"
        },
        "id": "dL6UsZYNuo-p",
        "outputId": "674ca401-0e74-4c1a-b777-48e0c695ed57"
      },
      "outputs": [
        {
          "name": "stdout",
          "output_type": "stream",
          "text": [
            "\u001b[1mLOGISTIC REGRESSION MODEL (Undersampled)\n",
            "\u001b[0m\n",
            "1) \u001b[1mOverall Accuracy Score: \u001b[0m99.5%\n",
            "\n",
            "2) \u001b[1mConfusion Matrix:\n",
            "\u001b[0m\n",
            "                  Predicted Healthy  Predicted High-Risk\n",
            "Actual Healthy                18649                  125\n",
            "Actual High-Risk                  2                  608\n",
            "\n",
            "3) \u001b[1mClassification Report:\n",
            "\u001b[0m\n",
            "              precision    recall  f1-score   support\n",
            "\n",
            "     healthy       1.00      0.99      1.00     18774\n",
            "   high-risk       0.83      1.00      0.91       610\n",
            "\n",
            "    accuracy                           0.99     19384\n",
            "   macro avg       0.91      1.00      0.95     19384\n",
            "weighted avg       0.99      0.99      0.99     19384\n",
            "\n",
            "\n"
          ]
        }
      ],
      "source": [
        "lr_undersampled_accuracy_score_float, \\\n",
        "lr_undersampled_confusion_matrix_dataframe, \\\n",
        "lr_undersampled_classification_report_string \\\n",
        "    = classificationsx.return_binary_classification_confusion_matrix \\\n",
        "        (y_test_series,\n",
        "         lr_undersampled_predictions_nparray,\n",
        "         'LOGISTIC REGRESSION MODEL (Undersampled)',\n",
        "         'Healthy', 'High-Risk')\n",
        "\n",
        "model_performance_dictionary['logistic_regression'] \\\n",
        "    .append(lr_undersampled_accuracy_score_float * 100)\n",
        "\n",
        "model_performance_ranking_dictionary['logistic_regression_undersampled'] \\\n",
        "    = lr_undersampled_accuracy_score_float * 100"
      ]
    },
    {
      "cell_type": "markdown",
      "id": "SrHrQx4huo-p",
      "metadata": {
        "id": "SrHrQx4huo-p"
      },
      "source": [
        "### **Random Oversampling**"
      ]
    },
    {
      "cell_type": "code",
      "execution_count": null,
      "id": "7ZuHj7sDuo-p",
      "metadata": {
        "colab": {
          "base_uri": "https://localhost:8080/"
        },
        "id": "7ZuHj7sDuo-p",
        "outputId": "0fd56296-82d7-4dc8-de66-03cae2010ff4"
      },
      "outputs": [
        {
          "data": {
            "text/plain": [
              "{'C': 1.0,\n",
              " 'class_weight': 'balanced',\n",
              " 'dual': False,\n",
              " 'fit_intercept': True,\n",
              " 'intercept_scaling': 1,\n",
              " 'l1_ratio': None,\n",
              " 'max_iter': 10000000,\n",
              " 'multi_class': 'auto',\n",
              " 'n_jobs': None,\n",
              " 'penalty': 'l2',\n",
              " 'random_state': 21,\n",
              " 'solver': 'liblinear',\n",
              " 'tol': 0.0001,\n",
              " 'verbose': 0,\n",
              " 'warm_start': False}"
            ]
          },
          "execution_count": 223,
          "metadata": {},
          "output_type": "execute_result"
        }
      ],
      "source": [
        "logistic_regression_oversampled_model.get_params()"
      ]
    },
    {
      "cell_type": "code",
      "execution_count": null,
      "id": "8Tg6440cuo-p",
      "metadata": {
        "colab": {
          "base_uri": "https://localhost:8080/"
        },
        "id": "8Tg6440cuo-p",
        "outputId": "fbe4e947-1423-434e-aea2-a2cffe57166c"
      },
      "outputs": [
        {
          "name": "stdout",
          "output_type": "stream",
          "text": [
            "\u001b[1mThe balanced accuracy score for logistic regression oversampled from actual vs. test predictions is 99.34%\u001b[0m\n"
          ]
        }
      ],
      "source": [
        "lr_oversampled_predictions_nparray \\\n",
        "    = logistic_regression_oversampled_model.predict(x_test_scaled_dataframe)\n",
        "\n",
        "lr_oversampled_balanced_accuracy_score_float \\\n",
        "    = accuracy_score(y_test_series, lr_oversampled_predictions_nparray) * 100\n",
        "\n",
        "logx.print_and_log_text \\\n",
        "    ('\\033[1m' \\\n",
        "     + 'The balanced accuracy score for logistic regression oversampled from actual vs. test predictions is {:.2f}%' \\\n",
        "         .format(lr_oversampled_balanced_accuracy_score_float) \\\n",
        "     + '\\033[0m')"
      ]
    },
    {
      "cell_type": "code",
      "execution_count": null,
      "id": "cLiNrA3Suo-p",
      "metadata": {
        "colab": {
          "base_uri": "https://localhost:8080/"
        },
        "id": "cLiNrA3Suo-p",
        "outputId": "5ca9ba24-d866-400f-d9ce-d5febbeba0cc"
      },
      "outputs": [
        {
          "name": "stdout",
          "output_type": "stream",
          "text": [
            "\u001b[1mLOGISTIC REGRESSION MODEL (Oversampled)\n",
            "\u001b[0m\n",
            "1) \u001b[1mOverall Accuracy Score: \u001b[0m99.5%\n",
            "\n",
            "2) \u001b[1mConfusion Matrix:\n",
            "\u001b[0m\n",
            "                  Predicted Healthy  Predicted High-Risk\n",
            "Actual Healthy                18648                  126\n",
            "Actual High-Risk                  2                  608\n",
            "\n",
            "3) \u001b[1mClassification Report:\n",
            "\u001b[0m\n",
            "              precision    recall  f1-score   support\n",
            "\n",
            "     healthy       1.00      0.99      1.00     18774\n",
            "   high-risk       0.83      1.00      0.90       610\n",
            "\n",
            "    accuracy                           0.99     19384\n",
            "   macro avg       0.91      1.00      0.95     19384\n",
            "weighted avg       0.99      0.99      0.99     19384\n",
            "\n",
            "\n"
          ]
        }
      ],
      "source": [
        "lr_oversampled_accuracy_score_float, \\\n",
        "lr_oversampled_confusion_matrix_dataframe, \\\n",
        "lr_oversampled_classification_report_string \\\n",
        "    = classificationsx.return_binary_classification_confusion_matrix \\\n",
        "        (y_test_series,\n",
        "         lr_oversampled_predictions_nparray,\n",
        "         'LOGISTIC REGRESSION MODEL (Oversampled)',\n",
        "         'Healthy', 'High-Risk')\n",
        "\n",
        "model_performance_dictionary['logistic_regression'] \\\n",
        "    .append(lr_oversampled_accuracy_score_float * 100)\n",
        "\n",
        "model_performance_ranking_dictionary['logistic_regression_oversampled'] \\\n",
        "    = lr_oversampled_accuracy_score_float * 100"
      ]
    },
    {
      "cell_type": "markdown",
      "id": "e7r5LX-7uo-p",
      "metadata": {
        "id": "e7r5LX-7uo-p"
      },
      "source": [
        "### **Cluster Centroids**"
      ]
    },
    {
      "cell_type": "code",
      "execution_count": null,
      "id": "9p5GIySvuo-p",
      "metadata": {
        "colab": {
          "base_uri": "https://localhost:8080/"
        },
        "id": "9p5GIySvuo-p",
        "outputId": "15dff054-0b1c-4d74-95a1-3dd723e46da3"
      },
      "outputs": [
        {
          "data": {
            "text/plain": [
              "{'C': 1.0,\n",
              " 'class_weight': 'balanced',\n",
              " 'dual': False,\n",
              " 'fit_intercept': True,\n",
              " 'intercept_scaling': 1,\n",
              " 'l1_ratio': None,\n",
              " 'max_iter': 10000000,\n",
              " 'multi_class': 'auto',\n",
              " 'n_jobs': None,\n",
              " 'penalty': 'l2',\n",
              " 'random_state': 21,\n",
              " 'solver': 'liblinear',\n",
              " 'tol': 0.0001,\n",
              " 'verbose': 0,\n",
              " 'warm_start': False}"
            ]
          },
          "execution_count": 226,
          "metadata": {},
          "output_type": "execute_result"
        }
      ],
      "source": [
        "logistic_regression_cluster_centroids_model.get_params()"
      ]
    },
    {
      "cell_type": "code",
      "execution_count": null,
      "id": "Vk33Z0-Yuo-p",
      "metadata": {
        "colab": {
          "base_uri": "https://localhost:8080/"
        },
        "id": "Vk33Z0-Yuo-p",
        "outputId": "a56c2589-5cfa-4e71-d264-b8a3cdb0ce9d"
      },
      "outputs": [
        {
          "name": "stdout",
          "output_type": "stream",
          "text": [
            "\u001b[1mThe balanced accuracy score for logistic regression cluster centroids from actual vs. test predictions is 99.37%\u001b[0m\n"
          ]
        }
      ],
      "source": [
        "lr_cluster_centroids_predictions_nparray \\\n",
        "    = logistic_regression_cluster_centroids_model.predict(x_test_scaled_dataframe)\n",
        "\n",
        "lr_cluster_centroids_balanced_accuracy_score_float \\\n",
        "    = accuracy_score(y_test_series, lr_cluster_centroids_predictions_nparray) * 100\n",
        "\n",
        "logx.print_and_log_text \\\n",
        "    ('\\033[1m' \\\n",
        "     + 'The balanced accuracy score for logistic regression cluster centroids from actual vs. test predictions is {:.2f}%' \\\n",
        "         .format(lr_cluster_centroids_balanced_accuracy_score_float) \\\n",
        "     + '\\033[0m')"
      ]
    },
    {
      "cell_type": "code",
      "execution_count": null,
      "id": "3OINh5Jxuo-p",
      "metadata": {
        "colab": {
          "base_uri": "https://localhost:8080/"
        },
        "id": "3OINh5Jxuo-p",
        "outputId": "f821a1e4-df43-4341-d99b-d3a2211f2153"
      },
      "outputs": [
        {
          "name": "stdout",
          "output_type": "stream",
          "text": [
            "\u001b[1mLOGISTIC REGRESSION MODEL (Cluster Centroids)\n",
            "\u001b[0m\n",
            "1) \u001b[1mOverall Accuracy Score: \u001b[0m99.52%\n",
            "\n",
            "2) \u001b[1mConfusion Matrix:\n",
            "\u001b[0m\n",
            "                  Predicted Healthy  Predicted High-Risk\n",
            "Actual Healthy                18654                  120\n",
            "Actual High-Risk                  2                  608\n",
            "\n",
            "3) \u001b[1mClassification Report:\n",
            "\u001b[0m\n",
            "              precision    recall  f1-score   support\n",
            "\n",
            "     healthy       1.00      0.99      1.00     18774\n",
            "   high-risk       0.84      1.00      0.91       610\n",
            "\n",
            "    accuracy                           0.99     19384\n",
            "   macro avg       0.92      1.00      0.95     19384\n",
            "weighted avg       0.99      0.99      0.99     19384\n",
            "\n",
            "\n"
          ]
        }
      ],
      "source": [
        "lr_cluster_centroids_accuracy_score_float, \\\n",
        "lr_cluster_centroids_confusion_matrix_dataframe, \\\n",
        "lr_cluster_centroids_classification_report_string \\\n",
        "    = classificationsx.return_binary_classification_confusion_matrix \\\n",
        "        (y_test_series,\n",
        "         lr_cluster_centroids_predictions_nparray,\n",
        "         'LOGISTIC REGRESSION MODEL (Cluster Centroids)',\n",
        "         'Healthy', 'High-Risk')\n",
        "\n",
        "model_performance_dictionary['logistic_regression'] \\\n",
        "    .append(lr_cluster_centroids_accuracy_score_float * 100)\n",
        "\n",
        "model_performance_ranking_dictionary['logistic_regression_cluster_centroids'] \\\n",
        "    = lr_cluster_centroids_accuracy_score_float * 100"
      ]
    },
    {
      "cell_type": "markdown",
      "id": "M0DvVEWduo-p",
      "metadata": {
        "id": "M0DvVEWduo-p"
      },
      "source": [
        "### **SMOTE**"
      ]
    },
    {
      "cell_type": "code",
      "execution_count": null,
      "id": "0WcD8N4buo-q",
      "metadata": {
        "colab": {
          "base_uri": "https://localhost:8080/"
        },
        "id": "0WcD8N4buo-q",
        "outputId": "4b0282c2-8a93-4130-f1bb-433dfa124389"
      },
      "outputs": [
        {
          "data": {
            "text/plain": [
              "{'C': 1.0,\n",
              " 'class_weight': 'balanced',\n",
              " 'dual': False,\n",
              " 'fit_intercept': True,\n",
              " 'intercept_scaling': 1,\n",
              " 'l1_ratio': None,\n",
              " 'max_iter': 10000000,\n",
              " 'multi_class': 'auto',\n",
              " 'n_jobs': None,\n",
              " 'penalty': 'l2',\n",
              " 'random_state': 21,\n",
              " 'solver': 'liblinear',\n",
              " 'tol': 0.0001,\n",
              " 'verbose': 0,\n",
              " 'warm_start': False}"
            ]
          },
          "execution_count": 229,
          "metadata": {},
          "output_type": "execute_result"
        }
      ],
      "source": [
        "logistic_regression_SMOTE_model.get_params()"
      ]
    },
    {
      "cell_type": "code",
      "execution_count": null,
      "id": "UNgNABAvuo-q",
      "metadata": {
        "colab": {
          "base_uri": "https://localhost:8080/"
        },
        "id": "UNgNABAvuo-q",
        "outputId": "29fe05c9-2788-4151-e130-b87add9036d7"
      },
      "outputs": [
        {
          "name": "stdout",
          "output_type": "stream",
          "text": [
            "\u001b[1mThe balanced accuracy score for logistic regression SMOTE from actual vs. test predictions is 99.34%\u001b[0m\n"
          ]
        }
      ],
      "source": [
        "lr_SMOTE_predictions_nparray \\\n",
        "    = logistic_regression_SMOTE_model.predict(x_test_scaled_dataframe)\n",
        "\n",
        "lr_SMOTE_balanced_accuracy_score_float \\\n",
        "    = accuracy_score(y_test_series, lr_SMOTE_predictions_nparray) * 100\n",
        "\n",
        "logx.print_and_log_text \\\n",
        "    ('\\033[1m' \\\n",
        "     + 'The balanced accuracy score for logistic regression SMOTE from actual vs. test predictions is {:.2f}%' \\\n",
        "         .format(lr_SMOTE_balanced_accuracy_score_float) \\\n",
        "     + '\\033[0m')"
      ]
    },
    {
      "cell_type": "code",
      "execution_count": null,
      "id": "nV_1Bvv-uo-q",
      "metadata": {
        "colab": {
          "base_uri": "https://localhost:8080/"
        },
        "id": "nV_1Bvv-uo-q",
        "outputId": "807e6c37-24b7-49cc-9703-93b4e304d126"
      },
      "outputs": [
        {
          "name": "stdout",
          "output_type": "stream",
          "text": [
            "\u001b[1mLOGISTIC REGRESSION MODEL (SMOTE)\n",
            "\u001b[0m\n",
            "1) \u001b[1mOverall Accuracy Score: \u001b[0m99.5%\n",
            "\n",
            "2) \u001b[1mConfusion Matrix:\n",
            "\u001b[0m\n",
            "                  Predicted Healthy  Predicted High-Risk\n",
            "Actual Healthy                18648                  126\n",
            "Actual High-Risk                  2                  608\n",
            "\n",
            "3) \u001b[1mClassification Report:\n",
            "\u001b[0m\n",
            "              precision    recall  f1-score   support\n",
            "\n",
            "     healthy       1.00      0.99      1.00     18774\n",
            "   high-risk       0.83      1.00      0.90       610\n",
            "\n",
            "    accuracy                           0.99     19384\n",
            "   macro avg       0.91      1.00      0.95     19384\n",
            "weighted avg       0.99      0.99      0.99     19384\n",
            "\n",
            "\n"
          ]
        }
      ],
      "source": [
        "lr_SMOTE_accuracy_score_float, \\\n",
        "lr_SMOTE_confusion_matrix_dataframe, \\\n",
        "lr_SMOTE_classification_report_string \\\n",
        "    = classificationsx.return_binary_classification_confusion_matrix \\\n",
        "        (y_test_series,\n",
        "         lr_SMOTE_predictions_nparray,\n",
        "         'LOGISTIC REGRESSION MODEL (SMOTE)',\n",
        "         'Healthy', 'High-Risk')\n",
        "\n",
        "model_performance_dictionary['logistic_regression'] \\\n",
        "    .append(lr_SMOTE_accuracy_score_float * 100)\n",
        "\n",
        "model_performance_ranking_dictionary['logistic_regression_smote'] \\\n",
        "    = lr_SMOTE_accuracy_score_float * 100"
      ]
    },
    {
      "cell_type": "markdown",
      "id": "1U61uEfIuo-q",
      "metadata": {
        "id": "1U61uEfIuo-q"
      },
      "source": [
        "### **SMOTEENN**"
      ]
    },
    {
      "cell_type": "code",
      "execution_count": null,
      "id": "Ufvwc6JUuo-q",
      "metadata": {
        "colab": {
          "base_uri": "https://localhost:8080/"
        },
        "id": "Ufvwc6JUuo-q",
        "outputId": "f9105762-001e-47cc-daed-470a23e14f88"
      },
      "outputs": [
        {
          "data": {
            "text/plain": [
              "{'C': 1.0,\n",
              " 'class_weight': None,\n",
              " 'dual': False,\n",
              " 'fit_intercept': True,\n",
              " 'intercept_scaling': 1,\n",
              " 'l1_ratio': None,\n",
              " 'max_iter': 10000000,\n",
              " 'multi_class': 'auto',\n",
              " 'n_jobs': None,\n",
              " 'penalty': 'l2',\n",
              " 'random_state': 21,\n",
              " 'solver': 'liblinear',\n",
              " 'tol': 0.0001,\n",
              " 'verbose': 0,\n",
              " 'warm_start': False}"
            ]
          },
          "execution_count": 232,
          "metadata": {},
          "output_type": "execute_result"
        }
      ],
      "source": [
        "logistic_regression_SMOTEENN_model.get_params()"
      ]
    },
    {
      "cell_type": "code",
      "execution_count": null,
      "id": "TrBnfXz2uo-q",
      "metadata": {
        "colab": {
          "base_uri": "https://localhost:8080/"
        },
        "id": "TrBnfXz2uo-q",
        "outputId": "2cf25639-c7cc-4bcb-8f69-dbe82edce698"
      },
      "outputs": [
        {
          "name": "stdout",
          "output_type": "stream",
          "text": [
            "\u001b[1mThe balanced accuracy score for logistic regression SMOTEENN from actual vs. test predictions is 99.30%\u001b[0m\n"
          ]
        }
      ],
      "source": [
        "lr_SMOTEENN_predictions_nparray \\\n",
        "    = logistic_regression_SMOTEENN_model.predict(x_test_scaled_dataframe)\n",
        "\n",
        "lr_SMOTEENN_balanced_accuracy_score_float \\\n",
        "    = accuracy_score(y_test_series, lr_SMOTEENN_predictions_nparray) * 100\n",
        "\n",
        "logx.print_and_log_text \\\n",
        "    ('\\033[1m' \\\n",
        "     + 'The balanced accuracy score for logistic regression SMOTEENN from actual vs. test predictions is {:.2f}%' \\\n",
        "         .format(lr_SMOTEENN_balanced_accuracy_score_float) \\\n",
        "     + '\\033[0m')"
      ]
    },
    {
      "cell_type": "code",
      "execution_count": null,
      "id": "Le50j6dEuo-q",
      "metadata": {
        "colab": {
          "base_uri": "https://localhost:8080/"
        },
        "id": "Le50j6dEuo-q",
        "outputId": "66f2d48a-2d71-462c-fa31-dc040e75ec28"
      },
      "outputs": [
        {
          "name": "stdout",
          "output_type": "stream",
          "text": [
            "\u001b[1mLOGISTIC REGRESSION MODEL (SMOTEENN)\n",
            "\u001b[0m\n",
            "1) \u001b[1mOverall Accuracy Score: \u001b[0m99.48%\n",
            "\n",
            "2) \u001b[1mConfusion Matrix:\n",
            "\u001b[0m\n",
            "                  Predicted Healthy  Predicted High-Risk\n",
            "Actual Healthy                18641                  133\n",
            "Actual High-Risk                  2                  608\n",
            "\n",
            "3) \u001b[1mClassification Report:\n",
            "\u001b[0m\n",
            "              precision    recall  f1-score   support\n",
            "\n",
            "     healthy       1.00      0.99      1.00     18774\n",
            "   high-risk       0.82      1.00      0.90       610\n",
            "\n",
            "    accuracy                           0.99     19384\n",
            "   macro avg       0.91      0.99      0.95     19384\n",
            "weighted avg       0.99      0.99      0.99     19384\n",
            "\n",
            "\n"
          ]
        }
      ],
      "source": [
        "lr_SMOTEENN_accuracy_score_float, \\\n",
        "lr_SMOTEENN_confusion_matrix_dataframe, \\\n",
        "lr_SMOTEENN_classification_report_string \\\n",
        "    = classificationsx.return_binary_classification_confusion_matrix \\\n",
        "        (y_test_series,\n",
        "         lr_SMOTEENN_predictions_nparray,\n",
        "         'LOGISTIC REGRESSION MODEL (SMOTEENN)',\n",
        "         'Healthy', 'High-Risk')\n",
        "\n",
        "model_performance_dictionary['logistic_regression'] \\\n",
        "    .append(lr_SMOTEENN_accuracy_score_float * 100)\n",
        "\n",
        "model_performance_ranking_dictionary['logistic_regression_smoteen'] \\\n",
        "    = lr_SMOTEENN_accuracy_score_float * 100"
      ]
    },
    {
      "cell_type": "markdown",
      "id": "gzTZe44Auo-q",
      "metadata": {
        "id": "gzTZe44Auo-q"
      },
      "source": [
        "## **9.2: Decision Tree**"
      ]
    },
    {
      "cell_type": "markdown",
      "id": "2hp-SQl9uo-q",
      "metadata": {
        "id": "2hp-SQl9uo-q"
      },
      "source": [
        "### **Original**"
      ]
    },
    {
      "cell_type": "code",
      "execution_count": null,
      "id": "hPw4p3mBuo-q",
      "metadata": {
        "colab": {
          "base_uri": "https://localhost:8080/"
        },
        "id": "hPw4p3mBuo-q",
        "outputId": "18a4ec4e-726a-4cb2-bc79-d2d7af2b9fcc"
      },
      "outputs": [
        {
          "data": {
            "text/plain": [
              "{'ccp_alpha': 0.0,\n",
              " 'class_weight': 'balanced',\n",
              " 'criterion': 'gini',\n",
              " 'max_depth': None,\n",
              " 'max_features': None,\n",
              " 'max_leaf_nodes': None,\n",
              " 'min_impurity_decrease': 0.0,\n",
              " 'min_samples_leaf': 1,\n",
              " 'min_samples_split': 2,\n",
              " 'min_weight_fraction_leaf': 0.0,\n",
              " 'random_state': 21,\n",
              " 'splitter': 'best'}"
            ]
          },
          "execution_count": 235,
          "metadata": {},
          "output_type": "execute_result"
        }
      ],
      "source": [
        "decision_tree_model.get_params()"
      ]
    },
    {
      "cell_type": "code",
      "execution_count": null,
      "id": "HwwmEG7kuo-q",
      "metadata": {
        "colab": {
          "base_uri": "https://localhost:8080/"
        },
        "id": "HwwmEG7kuo-q",
        "outputId": "32210386-dabd-49be-9b1f-a551ff39cca9"
      },
      "outputs": [
        {
          "name": "stdout",
          "output_type": "stream",
          "text": [
            "\u001b[1mThe balanced accuracy score for decision tree from actual vs. test predictions is 98.88%\u001b[0m\n"
          ]
        }
      ],
      "source": [
        "dt_predictions_nparray \\\n",
        "    = decision_tree_model.predict(x_test_scaled_dataframe)\n",
        "\n",
        "dt_balanced_accuracy_score_float \\\n",
        "    = accuracy_score(y_test_series, dt_predictions_nparray) * 100\n",
        "\n",
        "logx.print_and_log_text \\\n",
        "    ('\\033[1m'\n",
        "     + 'The balanced accuracy score for decision tree from actual vs. test predictions is {:.2f}%' \\\n",
        "         .format(dt_balanced_accuracy_score_float)\n",
        "     + '\\033[0m')"
      ]
    },
    {
      "cell_type": "code",
      "execution_count": null,
      "id": "N-rhYDs0uo-r",
      "metadata": {
        "colab": {
          "base_uri": "https://localhost:8080/"
        },
        "id": "N-rhYDs0uo-r",
        "outputId": "01da003f-65c0-4e0a-f247-22ebc230957b"
      },
      "outputs": [
        {
          "name": "stdout",
          "output_type": "stream",
          "text": [
            "\u001b[1mDECISION TREE MODEL\n",
            "\u001b[0m\n",
            "1) \u001b[1mOverall Accuracy Score: \u001b[0m92.12%\n",
            "\n",
            "2) \u001b[1mConfusion Matrix:\n",
            "\u001b[0m\n",
            "                  Predicted Healthy  Predicted High-Risk\n",
            "Actual Healthy                18648                  126\n",
            "Actual High-Risk                 92                  518\n",
            "\n",
            "3) \u001b[1mClassification Report:\n",
            "\u001b[0m\n",
            "              precision    recall  f1-score   support\n",
            "\n",
            "     healthy       1.00      0.99      0.99     18774\n",
            "   high-risk       0.80      0.85      0.83       610\n",
            "\n",
            "    accuracy                           0.99     19384\n",
            "   macro avg       0.90      0.92      0.91     19384\n",
            "weighted avg       0.99      0.99      0.99     19384\n",
            "\n",
            "\n"
          ]
        }
      ],
      "source": [
        "dt_accuracy_score_float, \\\n",
        "dt_confusion_matrix_dataframe, \\\n",
        "dt_classification_report_string \\\n",
        "    = classificationsx.return_binary_classification_confusion_matrix \\\n",
        "        (y_test_series,\n",
        "         dt_predictions_nparray,\n",
        "         'DECISION TREE MODEL',\n",
        "         'Healthy', 'High-Risk')\n",
        "\n",
        "model_performance_dictionary['decision_tree'] \\\n",
        "    = [dt_accuracy_score_float * 100]\n",
        "\n",
        "model_performance_ranking_dictionary['decision_tree'] \\\n",
        "    = dt_accuracy_score_float * 100"
      ]
    },
    {
      "cell_type": "markdown",
      "id": "S_va_krVuo-r",
      "metadata": {
        "id": "S_va_krVuo-r"
      },
      "source": [
        "### **Random Undersampling**"
      ]
    },
    {
      "cell_type": "code",
      "execution_count": null,
      "id": "qI5vhEoHuo-r",
      "metadata": {
        "colab": {
          "base_uri": "https://localhost:8080/"
        },
        "id": "qI5vhEoHuo-r",
        "outputId": "e73088e4-c85f-4fee-8464-93a1a1028eb1"
      },
      "outputs": [
        {
          "data": {
            "text/plain": [
              "{'ccp_alpha': 0.0,\n",
              " 'class_weight': 'balanced',\n",
              " 'criterion': 'gini',\n",
              " 'max_depth': None,\n",
              " 'max_features': None,\n",
              " 'max_leaf_nodes': None,\n",
              " 'min_impurity_decrease': 0.0,\n",
              " 'min_samples_leaf': 1,\n",
              " 'min_samples_split': 2,\n",
              " 'min_weight_fraction_leaf': 0.0,\n",
              " 'random_state': 21,\n",
              " 'splitter': 'random'}"
            ]
          },
          "execution_count": 238,
          "metadata": {},
          "output_type": "execute_result"
        }
      ],
      "source": [
        "decision_tree_undersampled_model.get_params()"
      ]
    },
    {
      "cell_type": "code",
      "execution_count": null,
      "id": "GIpC0gYYuo-r",
      "metadata": {
        "colab": {
          "base_uri": "https://localhost:8080/"
        },
        "id": "GIpC0gYYuo-r",
        "outputId": "1de9e898-517c-495d-c734-2225d6255ff2"
      },
      "outputs": [
        {
          "name": "stdout",
          "output_type": "stream",
          "text": [
            "\u001b[1mThe balanced accuracy score for decision tree undersampled from actual vs. test predictions is 98.82%\u001b[0m\n"
          ]
        }
      ],
      "source": [
        "dt_undersampled_predictions_nparray \\\n",
        "    = decision_tree_undersampled_model.predict(x_test_scaled_dataframe)\n",
        "\n",
        "dt_undersampled_balanced_accuracy_score_float \\\n",
        "    = accuracy_score(y_test_series, dt_undersampled_predictions_nparray) * 100\n",
        "\n",
        "logx.print_and_log_text \\\n",
        "    ('\\033[1m' \\\n",
        "     + 'The balanced accuracy score for decision tree undersampled from actual vs. test predictions is {:.2f}%' \\\n",
        "         .format(dt_undersampled_balanced_accuracy_score_float) \\\n",
        "     + '\\033[0m')"
      ]
    },
    {
      "cell_type": "code",
      "execution_count": null,
      "id": "PInMrH84uo-r",
      "metadata": {
        "colab": {
          "base_uri": "https://localhost:8080/"
        },
        "id": "PInMrH84uo-r",
        "outputId": "79cb68ba-ac67-4191-e044-78bdf3ee012c"
      },
      "outputs": [
        {
          "name": "stdout",
          "output_type": "stream",
          "text": [
            "\u001b[1mDECISION TREE MODEL (Undersampled)\n",
            "\u001b[0m\n",
            "1) \u001b[1mOverall Accuracy Score: \u001b[0m99.0%\n",
            "\n",
            "2) \u001b[1mConfusion Matrix:\n",
            "\u001b[0m\n",
            "                  Predicted Healthy  Predicted High-Risk\n",
            "Actual Healthy                18551                  223\n",
            "Actual High-Risk                  5                  605\n",
            "\n",
            "3) \u001b[1mClassification Report:\n",
            "\u001b[0m\n",
            "              precision    recall  f1-score   support\n",
            "\n",
            "     healthy       1.00      0.99      0.99     18774\n",
            "   high-risk       0.73      0.99      0.84       610\n",
            "\n",
            "    accuracy                           0.99     19384\n",
            "   macro avg       0.87      0.99      0.92     19384\n",
            "weighted avg       0.99      0.99      0.99     19384\n",
            "\n",
            "\n"
          ]
        }
      ],
      "source": [
        "dt_undersampled_accuracy_score_float, \\\n",
        "dt_undersampled_confusion_matrix_dataframe, \\\n",
        "dt_undersampled_classification_report_string \\\n",
        "    = classificationsx.return_binary_classification_confusion_matrix \\\n",
        "        (y_test_series,\n",
        "         dt_undersampled_predictions_nparray,\n",
        "         'DECISION TREE MODEL (Undersampled)',\n",
        "         'Healthy', 'High-Risk')\n",
        "\n",
        "model_performance_dictionary['decision_tree'] \\\n",
        "    .append(dt_undersampled_accuracy_score_float * 100)\n",
        "\n",
        "model_performance_ranking_dictionary['decision_tree_undersampling'] \\\n",
        "    = dt_undersampled_accuracy_score_float * 100"
      ]
    },
    {
      "cell_type": "markdown",
      "id": "GkjdufsCuo-r",
      "metadata": {
        "id": "GkjdufsCuo-r"
      },
      "source": [
        "### **Random Oversampling**"
      ]
    },
    {
      "cell_type": "code",
      "execution_count": null,
      "id": "sCpjFtU3uo-r",
      "metadata": {
        "colab": {
          "base_uri": "https://localhost:8080/"
        },
        "id": "sCpjFtU3uo-r",
        "outputId": "d17f97ef-c47b-417a-be22-1f55df5a2207"
      },
      "outputs": [
        {
          "data": {
            "text/plain": [
              "{'ccp_alpha': 0.0,\n",
              " 'class_weight': 'balanced',\n",
              " 'criterion': 'entropy',\n",
              " 'max_depth': None,\n",
              " 'max_features': None,\n",
              " 'max_leaf_nodes': None,\n",
              " 'min_impurity_decrease': 0.0,\n",
              " 'min_samples_leaf': 1,\n",
              " 'min_samples_split': 2,\n",
              " 'min_weight_fraction_leaf': 0.0,\n",
              " 'random_state': 21,\n",
              " 'splitter': 'best'}"
            ]
          },
          "execution_count": 241,
          "metadata": {},
          "output_type": "execute_result"
        }
      ],
      "source": [
        "decision_tree_oversampled_model.get_params()"
      ]
    },
    {
      "cell_type": "code",
      "execution_count": null,
      "id": "CknaBAmfuo-r",
      "metadata": {
        "colab": {
          "base_uri": "https://localhost:8080/"
        },
        "id": "CknaBAmfuo-r",
        "outputId": "d7b3ac4d-2641-4ed7-ad26-06de9ad59124"
      },
      "outputs": [
        {
          "name": "stdout",
          "output_type": "stream",
          "text": [
            "\u001b[1mThe balanced accuracy score for decision tree oversampled from actual vs. test predictions is 98.81%\u001b[0m\n"
          ]
        }
      ],
      "source": [
        "dt_oversampled_predictions_nparray \\\n",
        "    = decision_tree_oversampled_model.predict(x_test_scaled_dataframe)\n",
        "\n",
        "dt_oversampled_balanced_accuracy_score_float \\\n",
        "    = accuracy_score(y_test_series, dt_oversampled_predictions_nparray) * 100\n",
        "\n",
        "logx.print_and_log_text \\\n",
        "    ('\\033[1m' \\\n",
        "     + 'The balanced accuracy score for decision tree oversampled from actual vs. test predictions is {:.2f}%' \\\n",
        "         .format(dt_oversampled_balanced_accuracy_score_float) \\\n",
        "     + '\\033[0m')"
      ]
    },
    {
      "cell_type": "code",
      "execution_count": null,
      "id": "9j5hl5NMuo-r",
      "metadata": {
        "colab": {
          "base_uri": "https://localhost:8080/"
        },
        "id": "9j5hl5NMuo-r",
        "outputId": "eb09bd12-7421-488f-c3c7-4c150d8390d1"
      },
      "outputs": [
        {
          "name": "stdout",
          "output_type": "stream",
          "text": [
            "\u001b[1mDECISION TREE MODEL (Oversampled)\n",
            "\u001b[0m\n",
            "1) \u001b[1mOverall Accuracy Score: \u001b[0m93.36%\n",
            "\n",
            "2) \u001b[1mConfusion Matrix:\n",
            "\u001b[0m\n",
            "                  Predicted Healthy  Predicted High-Risk\n",
            "Actual Healthy                18619                  155\n",
            "Actual High-Risk                 76                  534\n",
            "\n",
            "3) \u001b[1mClassification Report:\n",
            "\u001b[0m\n",
            "              precision    recall  f1-score   support\n",
            "\n",
            "     healthy       1.00      0.99      0.99     18774\n",
            "   high-risk       0.78      0.88      0.82       610\n",
            "\n",
            "    accuracy                           0.99     19384\n",
            "   macro avg       0.89      0.93      0.91     19384\n",
            "weighted avg       0.99      0.99      0.99     19384\n",
            "\n",
            "\n"
          ]
        }
      ],
      "source": [
        "dt_oversampled_accuracy_score_float, \\\n",
        "dt_oversampled_confusion_matrix_dataframe, \\\n",
        "dt_oversampled_classification_report_string \\\n",
        "    = classificationsx.return_binary_classification_confusion_matrix \\\n",
        "        (y_test_series,\n",
        "         dt_oversampled_predictions_nparray,\n",
        "         'DECISION TREE MODEL (Oversampled)',\n",
        "         'Healthy', 'High-Risk')\n",
        "\n",
        "model_performance_dictionary['decision_tree'] \\\n",
        "    .append(dt_oversampled_accuracy_score_float * 100)\n",
        "\n",
        "model_performance_ranking_dictionary['decision_tree_oversampling'] \\\n",
        "    = dt_oversampled_accuracy_score_float * 100"
      ]
    },
    {
      "cell_type": "markdown",
      "id": "R92yhstyuo-r",
      "metadata": {
        "id": "R92yhstyuo-r"
      },
      "source": [
        "### **Cluster Centroids**"
      ]
    },
    {
      "cell_type": "code",
      "execution_count": null,
      "id": "CmdjmuPKuo-r",
      "metadata": {
        "colab": {
          "base_uri": "https://localhost:8080/"
        },
        "id": "CmdjmuPKuo-r",
        "outputId": "f6d3900b-fb47-45d3-bd51-45cf0e11239e"
      },
      "outputs": [
        {
          "data": {
            "text/plain": [
              "{'ccp_alpha': 0.0,\n",
              " 'class_weight': 'balanced',\n",
              " 'criterion': 'entropy',\n",
              " 'max_depth': None,\n",
              " 'max_features': None,\n",
              " 'max_leaf_nodes': None,\n",
              " 'min_impurity_decrease': 0.0,\n",
              " 'min_samples_leaf': 1,\n",
              " 'min_samples_split': 2,\n",
              " 'min_weight_fraction_leaf': 0.0,\n",
              " 'random_state': 21,\n",
              " 'splitter': 'random'}"
            ]
          },
          "execution_count": 244,
          "metadata": {},
          "output_type": "execute_result"
        }
      ],
      "source": [
        "decision_tree_cluster_centroids_model.get_params()"
      ]
    },
    {
      "cell_type": "code",
      "execution_count": null,
      "id": "4qlQC0sLuo-r",
      "metadata": {
        "colab": {
          "base_uri": "https://localhost:8080/"
        },
        "id": "4qlQC0sLuo-r",
        "outputId": "254e9b85-f6b7-42b3-85c3-8e2b704cb6b1"
      },
      "outputs": [
        {
          "name": "stdout",
          "output_type": "stream",
          "text": [
            "\u001b[1mThe balanced accuracy score for decision tree cluster centroids from actual vs. test predictions is 99.01%\u001b[0m\n"
          ]
        }
      ],
      "source": [
        "dt_cluster_centroids_predictions_nparray \\\n",
        "    = decision_tree_cluster_centroids_model.predict(x_test_scaled_dataframe)\n",
        "\n",
        "dt_cluster_centroids_balanced_accuracy_score_float \\\n",
        "    = accuracy_score(y_test_series, dt_cluster_centroids_predictions_nparray) * 100\n",
        "\n",
        "logx.print_and_log_text \\\n",
        "    ('\\033[1m' \\\n",
        "     + 'The balanced accuracy score for decision tree cluster centroids from actual vs. test predictions is {:.2f}%' \\\n",
        "         .format(dt_cluster_centroids_balanced_accuracy_score_float) \\\n",
        "     + '\\033[0m')"
      ]
    },
    {
      "cell_type": "code",
      "execution_count": null,
      "id": "CmPd5ewruo-s",
      "metadata": {
        "colab": {
          "base_uri": "https://localhost:8080/"
        },
        "id": "CmPd5ewruo-s",
        "outputId": "26666f0e-422d-43d7-fcba-c27127195353"
      },
      "outputs": [
        {
          "name": "stdout",
          "output_type": "stream",
          "text": [
            "\u001b[1mDECISION TREE MODEL (Cluster Centroids)\n",
            "\u001b[0m\n",
            "1) \u001b[1mOverall Accuracy Score: \u001b[0m93.94%\n",
            "\n",
            "2) \u001b[1mConfusion Matrix:\n",
            "\u001b[0m\n",
            "                  Predicted Healthy  Predicted High-Risk\n",
            "Actual Healthy                18653                  121\n",
            "Actual High-Risk                 70                  540\n",
            "\n",
            "3) \u001b[1mClassification Report:\n",
            "\u001b[0m\n",
            "              precision    recall  f1-score   support\n",
            "\n",
            "     healthy       1.00      0.99      0.99     18774\n",
            "   high-risk       0.82      0.89      0.85       610\n",
            "\n",
            "    accuracy                           0.99     19384\n",
            "   macro avg       0.91      0.94      0.92     19384\n",
            "weighted avg       0.99      0.99      0.99     19384\n",
            "\n",
            "\n"
          ]
        }
      ],
      "source": [
        "dt_cluster_centroids_accuracy_score_float, \\\n",
        "dt_cluster_centroids_confusion_matrix_dataframe, \\\n",
        "dt_cluster_centroids_classification_report_string \\\n",
        "    = classificationsx.return_binary_classification_confusion_matrix \\\n",
        "        (y_test_series,\n",
        "         dt_cluster_centroids_predictions_nparray,\n",
        "         'DECISION TREE MODEL (Cluster Centroids)',\n",
        "         'Healthy', 'High-Risk')\n",
        "\n",
        "model_performance_dictionary['decision_tree'] \\\n",
        "    .append(dt_cluster_centroids_accuracy_score_float * 100)\n",
        "\n",
        "model_performance_ranking_dictionary['decision_tree_cluster_centroids'] \\\n",
        "    = dt_cluster_centroids_accuracy_score_float * 100"
      ]
    },
    {
      "cell_type": "markdown",
      "id": "dfLC9yDouo-s",
      "metadata": {
        "id": "dfLC9yDouo-s"
      },
      "source": [
        "### **SMOTE**"
      ]
    },
    {
      "cell_type": "code",
      "execution_count": null,
      "id": "yJnP2imquo-s",
      "metadata": {
        "colab": {
          "base_uri": "https://localhost:8080/"
        },
        "id": "yJnP2imquo-s",
        "outputId": "a330729a-81f2-40a6-f30a-71cf42b0ae5d"
      },
      "outputs": [
        {
          "data": {
            "text/plain": [
              "{'ccp_alpha': 0.0,\n",
              " 'class_weight': 'balanced',\n",
              " 'criterion': 'gini',\n",
              " 'max_depth': None,\n",
              " 'max_features': None,\n",
              " 'max_leaf_nodes': None,\n",
              " 'min_impurity_decrease': 0.0,\n",
              " 'min_samples_leaf': 1,\n",
              " 'min_samples_split': 2,\n",
              " 'min_weight_fraction_leaf': 0.0,\n",
              " 'random_state': 21,\n",
              " 'splitter': 'best'}"
            ]
          },
          "execution_count": 247,
          "metadata": {},
          "output_type": "execute_result"
        }
      ],
      "source": [
        "decision_tree_SMOTE_model.get_params()"
      ]
    },
    {
      "cell_type": "code",
      "execution_count": null,
      "id": "y2O_yFo_uo-s",
      "metadata": {
        "colab": {
          "base_uri": "https://localhost:8080/"
        },
        "id": "y2O_yFo_uo-s",
        "outputId": "9f3c3e39-e3f4-4f13-de65-2a19952c14a2"
      },
      "outputs": [
        {
          "name": "stdout",
          "output_type": "stream",
          "text": [
            "\u001b[1mThe balanced accuracy score for decision tree SMOTE from actual vs. test predictions is 55.65%\u001b[0m\n"
          ]
        }
      ],
      "source": [
        "dt_SMOTE_predictions_nparray \\\n",
        "    = decision_tree_SMOTE_model.predict(x_test_scaled_dataframe)\n",
        "\n",
        "dt_SMOTE_balanced_accuracy_score_float \\\n",
        "    = accuracy_score(y_test_series, dt_SMOTE_predictions_nparray) * 100\n",
        "\n",
        "logx.print_and_log_text \\\n",
        "    ('\\033[1m' \\\n",
        "     + 'The balanced accuracy score for decision tree SMOTE from actual vs. test predictions is {:.2f}%' \\\n",
        "         .format(dt_SMOTE_balanced_accuracy_score_float) \\\n",
        "     + '\\033[0m')"
      ]
    },
    {
      "cell_type": "code",
      "execution_count": null,
      "id": "EiBJmbyTuo-s",
      "metadata": {
        "colab": {
          "base_uri": "https://localhost:8080/"
        },
        "id": "EiBJmbyTuo-s",
        "outputId": "d588ddd1-5a5a-468a-e7a3-e0597c3994c7"
      },
      "outputs": [
        {
          "name": "stdout",
          "output_type": "stream",
          "text": [
            "\u001b[1mDECISION TREE MODEL (SMOTE)\n",
            "\u001b[0m\n",
            "1) \u001b[1mOverall Accuracy Score: \u001b[0m72.74%\n",
            "\n",
            "2) \u001b[1mConfusion Matrix:\n",
            "\u001b[0m\n",
            "                  Predicted Healthy  Predicted High-Risk\n",
            "Actual Healthy                10233                 8541\n",
            "Actual High-Risk                 55                  555\n",
            "\n",
            "3) \u001b[1mClassification Report:\n",
            "\u001b[0m\n",
            "              precision    recall  f1-score   support\n",
            "\n",
            "     healthy       0.99      0.55      0.70     18774\n",
            "   high-risk       0.06      0.91      0.11       610\n",
            "\n",
            "    accuracy                           0.56     19384\n",
            "   macro avg       0.53      0.73      0.41     19384\n",
            "weighted avg       0.97      0.56      0.69     19384\n",
            "\n",
            "\n"
          ]
        }
      ],
      "source": [
        "dt_SMOTE_accuracy_score_float, \\\n",
        "dt_SMOTE_confusion_matrix_dataframe, \\\n",
        "dt_SMOTE_classification_report_string \\\n",
        "    = classificationsx.return_binary_classification_confusion_matrix \\\n",
        "        (y_test_series,\n",
        "         dt_SMOTE_predictions_nparray,\n",
        "         'DECISION TREE MODEL (SMOTE)',\n",
        "         'Healthy', 'High-Risk')\n",
        "\n",
        "model_performance_dictionary['decision_tree'] \\\n",
        "    .append(dt_SMOTE_accuracy_score_float * 100)\n",
        "\n",
        "model_performance_ranking_dictionary['decision_tree_smote'] \\\n",
        "    = dt_SMOTE_accuracy_score_float * 100"
      ]
    },
    {
      "cell_type": "markdown",
      "id": "CNB8YqrVuo-s",
      "metadata": {
        "id": "CNB8YqrVuo-s"
      },
      "source": [
        "### **SMOTEENN**"
      ]
    },
    {
      "cell_type": "code",
      "execution_count": null,
      "id": "FjyoO3pVuo-s",
      "metadata": {
        "colab": {
          "base_uri": "https://localhost:8080/"
        },
        "id": "FjyoO3pVuo-s",
        "outputId": "749dd513-1064-4587-8f45-8b271b68c4ea"
      },
      "outputs": [
        {
          "data": {
            "text/plain": [
              "{'ccp_alpha': 0.0,\n",
              " 'class_weight': 'balanced',\n",
              " 'criterion': 'gini',\n",
              " 'max_depth': None,\n",
              " 'max_features': None,\n",
              " 'max_leaf_nodes': None,\n",
              " 'min_impurity_decrease': 0.0,\n",
              " 'min_samples_leaf': 1,\n",
              " 'min_samples_split': 2,\n",
              " 'min_weight_fraction_leaf': 0.0,\n",
              " 'random_state': 21,\n",
              " 'splitter': 'best'}"
            ]
          },
          "execution_count": 250,
          "metadata": {},
          "output_type": "execute_result"
        }
      ],
      "source": [
        "decision_tree_SMOTEENN_model.get_params()"
      ]
    },
    {
      "cell_type": "code",
      "execution_count": null,
      "id": "hA73WqfOuo-s",
      "metadata": {
        "colab": {
          "base_uri": "https://localhost:8080/"
        },
        "id": "hA73WqfOuo-s",
        "outputId": "1acfc4c5-1eb3-490a-b43b-3e9cd85dcb99"
      },
      "outputs": [
        {
          "name": "stdout",
          "output_type": "stream",
          "text": [
            "\u001b[1mThe balanced accuracy score for decision tree SMOTEENN from actual vs. test predictions is 87.83%\u001b[0m\n"
          ]
        }
      ],
      "source": [
        "dt_SMOTEENN_predictions_nparray \\\n",
        "    = decision_tree_SMOTEENN_model.predict(x_test_scaled_dataframe)\n",
        "\n",
        "dt_SMOTEENN_balanced_accuracy_score_float \\\n",
        "    = accuracy_score(y_test_series, dt_SMOTEENN_predictions_nparray) * 100\n",
        "\n",
        "logx.print_and_log_text \\\n",
        "    ('\\033[1m' \\\n",
        "     + 'The balanced accuracy score for decision tree SMOTEENN from actual vs. test predictions is {:.2f}%' \\\n",
        "         .format(dt_SMOTEENN_balanced_accuracy_score_float) \\\n",
        "     + '\\033[0m')"
      ]
    },
    {
      "cell_type": "code",
      "execution_count": null,
      "id": "NvcHaXHDuo-s",
      "metadata": {
        "colab": {
          "base_uri": "https://localhost:8080/"
        },
        "id": "NvcHaXHDuo-s",
        "outputId": "778657f5-1226-43ec-cac5-6b2bea948f57"
      },
      "outputs": [
        {
          "name": "stdout",
          "output_type": "stream",
          "text": [
            "\u001b[1mDECISION TREE MODEL (SMOTEENN)\n",
            "\u001b[0m\n",
            "1) \u001b[1mOverall Accuracy Score: \u001b[0m93.71%\n",
            "\n",
            "2) \u001b[1mConfusion Matrix:\n",
            "\u001b[0m\n",
            "                  Predicted Healthy  Predicted High-Risk\n",
            "Actual Healthy                16414                 2360\n",
            "Actual High-Risk                  0                  610\n",
            "\n",
            "3) \u001b[1mClassification Report:\n",
            "\u001b[0m\n",
            "              precision    recall  f1-score   support\n",
            "\n",
            "     healthy       1.00      0.87      0.93     18774\n",
            "   high-risk       0.21      1.00      0.34       610\n",
            "\n",
            "    accuracy                           0.88     19384\n",
            "   macro avg       0.60      0.94      0.64     19384\n",
            "weighted avg       0.97      0.88      0.91     19384\n",
            "\n",
            "\n"
          ]
        }
      ],
      "source": [
        "dt_SMOTEENN_accuracy_score_float, \\\n",
        "dt_SMOTEENN_confusion_matrix_dataframe, \\\n",
        "dt_SMOTEENN_classification_report_string \\\n",
        "    = classificationsx.return_binary_classification_confusion_matrix \\\n",
        "        (y_test_series,\n",
        "         dt_SMOTEENN_predictions_nparray,\n",
        "         'DECISION TREE MODEL (SMOTEENN)',\n",
        "         'Healthy', 'High-Risk')\n",
        "\n",
        "model_performance_dictionary['decision_tree'] \\\n",
        "    .append(dt_SMOTEENN_accuracy_score_float * 100)\n",
        "\n",
        "model_performance_ranking_dictionary['decision_tree_smoteen'] \\\n",
        "    = dt_SMOTEENN_accuracy_score_float * 100"
      ]
    },
    {
      "cell_type": "markdown",
      "id": "D2cD3yHSuo-t",
      "metadata": {
        "id": "D2cD3yHSuo-t"
      },
      "source": [
        "## **9.3: Random Forest**"
      ]
    },
    {
      "cell_type": "markdown",
      "id": "408eUBJ_uo-t",
      "metadata": {
        "id": "408eUBJ_uo-t"
      },
      "source": [
        "### **Original**"
      ]
    },
    {
      "cell_type": "code",
      "execution_count": null,
      "id": "K1AypO9wuo-t",
      "metadata": {
        "colab": {
          "base_uri": "https://localhost:8080/"
        },
        "id": "K1AypO9wuo-t",
        "outputId": "1b2d0c3f-353c-400e-df1b-02159696da65"
      },
      "outputs": [
        {
          "data": {
            "text/plain": [
              "{'bootstrap': True,\n",
              " 'ccp_alpha': 0.0,\n",
              " 'class_weight': 'balanced_subsample',\n",
              " 'criterion': 'entropy',\n",
              " 'max_depth': None,\n",
              " 'max_features': 'sqrt',\n",
              " 'max_leaf_nodes': None,\n",
              " 'max_samples': None,\n",
              " 'min_impurity_decrease': 0.0,\n",
              " 'min_samples_leaf': 1,\n",
              " 'min_samples_split': 2,\n",
              " 'min_weight_fraction_leaf': 0.0,\n",
              " 'n_estimators': 200,\n",
              " 'n_jobs': None,\n",
              " 'oob_score': False,\n",
              " 'random_state': 21,\n",
              " 'verbose': 0,\n",
              " 'warm_start': False}"
            ]
          },
          "execution_count": 253,
          "metadata": {},
          "output_type": "execute_result"
        }
      ],
      "source": [
        "random_forest_model.get_params()"
      ]
    },
    {
      "cell_type": "code",
      "execution_count": null,
      "id": "qRL8EviCuo-t",
      "metadata": {
        "colab": {
          "base_uri": "https://localhost:8080/"
        },
        "id": "qRL8EviCuo-t",
        "outputId": "97e62356-e23a-4adc-c5a1-730779e0545a"
      },
      "outputs": [
        {
          "name": "stdout",
          "output_type": "stream",
          "text": [
            "\u001b[1mThe balanced accuracy score for random forest from actual vs. test predictions is 99.25%\u001b[0m\n"
          ]
        }
      ],
      "source": [
        "rt_predictions_nparray \\\n",
        "    = random_forest_model.predict(x_test_scaled_dataframe)\n",
        "\n",
        "rf_balanced_accuracy_score_float \\\n",
        "    = accuracy_score(y_test_series, rt_predictions_nparray) * 100\n",
        "\n",
        "logx.print_and_log_text \\\n",
        "    ('\\033[1m' \\\n",
        "     + 'The balanced accuracy score for random forest from actual vs. test predictions is {:.2f}%' \\\n",
        "         .format(rf_balanced_accuracy_score_float) \\\n",
        "     + '\\033[0m')"
      ]
    },
    {
      "cell_type": "code",
      "execution_count": null,
      "id": "Gdct5bFquo-t",
      "metadata": {
        "colab": {
          "base_uri": "https://localhost:8080/"
        },
        "id": "Gdct5bFquo-t",
        "outputId": "180ae3c7-2dfa-43a4-d540-d7184e4dfd9b"
      },
      "outputs": [
        {
          "name": "stdout",
          "output_type": "stream",
          "text": [
            "\u001b[1mRANDOM FOREST MODEL\n",
            "\u001b[0m\n",
            "1) \u001b[1mOverall Accuracy Score: \u001b[0m97.55%\n",
            "\n",
            "2) \u001b[1mConfusion Matrix:\n",
            "\u001b[0m\n",
            "                  Predicted Healthy  Predicted High-Risk\n",
            "Actual Healthy                18655                  119\n",
            "Actual High-Risk                 26                  584\n",
            "\n",
            "3) \u001b[1mClassification Report:\n",
            "\u001b[0m\n",
            "              precision    recall  f1-score   support\n",
            "\n",
            "     healthy       1.00      0.99      1.00     18774\n",
            "   high-risk       0.83      0.96      0.89       610\n",
            "\n",
            "    accuracy                           0.99     19384\n",
            "   macro avg       0.91      0.98      0.94     19384\n",
            "weighted avg       0.99      0.99      0.99     19384\n",
            "\n",
            "\n"
          ]
        }
      ],
      "source": [
        "rf_accuracy_score_float, rf_confusion_matrix_dataframe, rf_classification_report_string \\\n",
        "    = classificationsx.return_binary_classification_confusion_matrix \\\n",
        "        (y_test_series,\n",
        "         rt_predictions_nparray,\n",
        "         'RANDOM FOREST MODEL',\n",
        "         'Healthy', 'High-Risk')\n",
        "\n",
        "model_performance_dictionary['random_forest'] \\\n",
        "    = [rf_accuracy_score_float * 100]\n",
        "\n",
        "model_performance_ranking_dictionary['random_forest'] \\\n",
        "    = rf_accuracy_score_float * 100"
      ]
    },
    {
      "cell_type": "markdown",
      "id": "xOPWO3-Yuo-t",
      "metadata": {
        "id": "xOPWO3-Yuo-t"
      },
      "source": [
        "### **Random Undersampling**"
      ]
    },
    {
      "cell_type": "code",
      "execution_count": null,
      "id": "YIDUfJZSuo-t",
      "metadata": {
        "colab": {
          "base_uri": "https://localhost:8080/"
        },
        "id": "YIDUfJZSuo-t",
        "outputId": "5113d0f9-c859-483f-8e6c-fb516361671b"
      },
      "outputs": [
        {
          "data": {
            "text/plain": [
              "{'bootstrap': True,\n",
              " 'ccp_alpha': 0.0,\n",
              " 'class_weight': 'balanced',\n",
              " 'criterion': 'gini',\n",
              " 'max_depth': None,\n",
              " 'max_features': 'sqrt',\n",
              " 'max_leaf_nodes': None,\n",
              " 'max_samples': None,\n",
              " 'min_impurity_decrease': 0.0,\n",
              " 'min_samples_leaf': 1,\n",
              " 'min_samples_split': 2,\n",
              " 'min_weight_fraction_leaf': 0.0,\n",
              " 'n_estimators': 200,\n",
              " 'n_jobs': None,\n",
              " 'oob_score': False,\n",
              " 'random_state': 21,\n",
              " 'verbose': 0,\n",
              " 'warm_start': False}"
            ]
          },
          "execution_count": 256,
          "metadata": {},
          "output_type": "execute_result"
        }
      ],
      "source": [
        "random_forest_undersampled_model.get_params()"
      ]
    },
    {
      "cell_type": "code",
      "execution_count": null,
      "id": "7PZU8vVnuo-t",
      "metadata": {
        "colab": {
          "base_uri": "https://localhost:8080/"
        },
        "id": "7PZU8vVnuo-t",
        "outputId": "30a62efb-223a-4d9a-ca95-74bb1d0c3343"
      },
      "outputs": [
        {
          "name": "stdout",
          "output_type": "stream",
          "text": [
            "\u001b[1mThe balanced accuracy score for random forest undersampled from actual vs. test predictions is 99.25%\u001b[0m\n"
          ]
        }
      ],
      "source": [
        "rt_undersampled_predictions_nparray \\\n",
        "    = random_forest_undersampled_model.predict(x_test_scaled_dataframe)\n",
        "\n",
        "rf_undersampled_balanced_accuracy_score_float \\\n",
        "    = accuracy_score(y_test_series, rt_undersampled_predictions_nparray) * 100\n",
        "\n",
        "logx.print_and_log_text \\\n",
        "    ('\\033[1m' \\\n",
        "     + 'The balanced accuracy score for random forest undersampled from actual vs. test predictions is {:.2f}%' \\\n",
        "         .format(rf_undersampled_balanced_accuracy_score_float) \\\n",
        "     + '\\033[0m')"
      ]
    },
    {
      "cell_type": "code",
      "execution_count": null,
      "id": "Hut83df5uo-t",
      "metadata": {
        "colab": {
          "base_uri": "https://localhost:8080/"
        },
        "id": "Hut83df5uo-t",
        "outputId": "2d78ce2f-64f8-47ed-a570-2776a24bcb5a"
      },
      "outputs": [
        {
          "name": "stdout",
          "output_type": "stream",
          "text": [
            "\u001b[1mRANDOM FOREST MODEL (Undersampled)\n",
            "\u001b[0m\n",
            "1) \u001b[1mOverall Accuracy Score: \u001b[0m99.46%\n",
            "\n",
            "2) \u001b[1mConfusion Matrix:\n",
            "\u001b[0m\n",
            "                  Predicted Healthy  Predicted High-Risk\n",
            "Actual Healthy                18631                  143\n",
            "Actual High-Risk                  2                  608\n",
            "\n",
            "3) \u001b[1mClassification Report:\n",
            "\u001b[0m\n",
            "              precision    recall  f1-score   support\n",
            "\n",
            "     healthy       1.00      0.99      1.00     18774\n",
            "   high-risk       0.81      1.00      0.89       610\n",
            "\n",
            "    accuracy                           0.99     19384\n",
            "   macro avg       0.90      0.99      0.94     19384\n",
            "weighted avg       0.99      0.99      0.99     19384\n",
            "\n",
            "\n"
          ]
        }
      ],
      "source": [
        "rf_undersampled_accuracy_score_float, \\\n",
        "rf_undersampled_confusion_matrix_dataframe, \\\n",
        "rf_undersampled_classification_report_string \\\n",
        "    = classificationsx.return_binary_classification_confusion_matrix \\\n",
        "        (y_test_series,\n",
        "         rt_undersampled_predictions_nparray,\n",
        "         'RANDOM FOREST MODEL (Undersampled)',\n",
        "         'Healthy', 'High-Risk')\n",
        "\n",
        "model_performance_dictionary['random_forest'] \\\n",
        "    .append(rf_undersampled_accuracy_score_float * 100)\n",
        "\n",
        "model_performance_ranking_dictionary['random_forest_undersampled'] \\\n",
        "    = rf_undersampled_accuracy_score_float * 100"
      ]
    },
    {
      "cell_type": "markdown",
      "id": "cFG45NYfuo-t",
      "metadata": {
        "id": "cFG45NYfuo-t"
      },
      "source": [
        "### **Random Oversampling**"
      ]
    },
    {
      "cell_type": "code",
      "execution_count": null,
      "id": "EZZLTrXAuo-t",
      "metadata": {
        "colab": {
          "base_uri": "https://localhost:8080/"
        },
        "id": "EZZLTrXAuo-t",
        "outputId": "8b3d2a3d-3959-4545-ec25-515706216e4b"
      },
      "outputs": [
        {
          "data": {
            "text/plain": [
              "{'bootstrap': True,\n",
              " 'ccp_alpha': 0.0,\n",
              " 'class_weight': 'balanced',\n",
              " 'criterion': 'gini',\n",
              " 'max_depth': None,\n",
              " 'max_features': 'sqrt',\n",
              " 'max_leaf_nodes': None,\n",
              " 'max_samples': None,\n",
              " 'min_impurity_decrease': 0.0,\n",
              " 'min_samples_leaf': 1,\n",
              " 'min_samples_split': 2,\n",
              " 'min_weight_fraction_leaf': 0.0,\n",
              " 'n_estimators': 200,\n",
              " 'n_jobs': None,\n",
              " 'oob_score': False,\n",
              " 'random_state': 21,\n",
              " 'verbose': 0,\n",
              " 'warm_start': False}"
            ]
          },
          "execution_count": 259,
          "metadata": {},
          "output_type": "execute_result"
        }
      ],
      "source": [
        "random_forest_oversampled_model.get_params()"
      ]
    },
    {
      "cell_type": "code",
      "execution_count": null,
      "id": "hpQ1k-0Cuo-t",
      "metadata": {
        "colab": {
          "base_uri": "https://localhost:8080/"
        },
        "id": "hpQ1k-0Cuo-t",
        "outputId": "e3fa04c7-1b7d-451a-ea1d-6fefc3538d41"
      },
      "outputs": [
        {
          "name": "stdout",
          "output_type": "stream",
          "text": [
            "\u001b[1mThe balanced accuracy score for random forest oversampled from actual vs. test predictions is 99.15%\u001b[0m\n"
          ]
        }
      ],
      "source": [
        "rt_oversampled_predictions_nparray \\\n",
        "    = random_forest_oversampled_model.predict(x_test_scaled_dataframe)\n",
        "\n",
        "rf_oversampled_balanced_accuracy_score_float \\\n",
        "    = accuracy_score(y_test_series, rt_oversampled_predictions_nparray) * 100\n",
        "\n",
        "logx.print_and_log_text \\\n",
        "    ('\\033[1m' \\\n",
        "     + 'The balanced accuracy score for random forest oversampled from actual vs. test predictions is {:.2f}%' \\\n",
        "         .format(rf_oversampled_balanced_accuracy_score_float) \\\n",
        "     + '\\033[0m')"
      ]
    },
    {
      "cell_type": "code",
      "execution_count": null,
      "id": "WhS9CYtuuo-t",
      "metadata": {
        "colab": {
          "base_uri": "https://localhost:8080/"
        },
        "id": "WhS9CYtuuo-t",
        "outputId": "f47dfffa-45d5-4917-f8f8-bea13a1e3d56"
      },
      "outputs": [
        {
          "name": "stdout",
          "output_type": "stream",
          "text": [
            "\u001b[1mRANDOM FOREST MODEL (Oversampled)\n",
            "\u001b[0m\n",
            "1) \u001b[1mOverall Accuracy Score: \u001b[0m98.22%\n",
            "\n",
            "2) \u001b[1mConfusion Matrix:\n",
            "\u001b[0m\n",
            "                  Predicted Healthy  Predicted High-Risk\n",
            "Actual Healthy                18627                  147\n",
            "Actual High-Risk                 17                  593\n",
            "\n",
            "3) \u001b[1mClassification Report:\n",
            "\u001b[0m\n",
            "              precision    recall  f1-score   support\n",
            "\n",
            "     healthy       1.00      0.99      1.00     18774\n",
            "   high-risk       0.80      0.97      0.88       610\n",
            "\n",
            "    accuracy                           0.99     19384\n",
            "   macro avg       0.90      0.98      0.94     19384\n",
            "weighted avg       0.99      0.99      0.99     19384\n",
            "\n",
            "\n"
          ]
        }
      ],
      "source": [
        "rf_oversampled_accuracy_score_float, \\\n",
        "rf_oversampled_confusion_matrix_dataframe, \\\n",
        "rf_oversampled_classification_report_string \\\n",
        "    = classificationsx.return_binary_classification_confusion_matrix \\\n",
        "        (y_test_series,\n",
        "         rt_oversampled_predictions_nparray,\n",
        "         'RANDOM FOREST MODEL (Oversampled)',\n",
        "         'Healthy', 'High-Risk')\n",
        "\n",
        "model_performance_dictionary['random_forest'] \\\n",
        "    .append(rf_oversampled_accuracy_score_float * 100)\n",
        "\n",
        "model_performance_ranking_dictionary['random_forest_oversampled'] \\\n",
        "    = rf_oversampled_accuracy_score_float * 100"
      ]
    },
    {
      "cell_type": "markdown",
      "id": "k_hUqTC7uo-u",
      "metadata": {
        "id": "k_hUqTC7uo-u"
      },
      "source": [
        "### **Cluster Centroids**"
      ]
    },
    {
      "cell_type": "code",
      "execution_count": null,
      "id": "e2eYzTB5uo-u",
      "metadata": {
        "colab": {
          "base_uri": "https://localhost:8080/"
        },
        "id": "e2eYzTB5uo-u",
        "outputId": "be335a6f-4563-4cfb-e114-09211fb52cf3"
      },
      "outputs": [
        {
          "data": {
            "text/plain": [
              "{'bootstrap': True,\n",
              " 'ccp_alpha': 0.0,\n",
              " 'class_weight': 'balanced',\n",
              " 'criterion': 'gini',\n",
              " 'max_depth': None,\n",
              " 'max_features': 'sqrt',\n",
              " 'max_leaf_nodes': None,\n",
              " 'max_samples': None,\n",
              " 'min_impurity_decrease': 0.0,\n",
              " 'min_samples_leaf': 1,\n",
              " 'min_samples_split': 2,\n",
              " 'min_weight_fraction_leaf': 0.0,\n",
              " 'n_estimators': 200,\n",
              " 'n_jobs': None,\n",
              " 'oob_score': False,\n",
              " 'random_state': 21,\n",
              " 'verbose': 0,\n",
              " 'warm_start': False}"
            ]
          },
          "execution_count": 262,
          "metadata": {},
          "output_type": "execute_result"
        }
      ],
      "source": [
        "random_forest_cluster_centroids_model.get_params()"
      ]
    },
    {
      "cell_type": "code",
      "execution_count": null,
      "id": "M_BOiw8Nuo-u",
      "metadata": {
        "colab": {
          "base_uri": "https://localhost:8080/"
        },
        "id": "M_BOiw8Nuo-u",
        "outputId": "0788d189-5892-4903-a8c1-192772689cf8"
      },
      "outputs": [
        {
          "name": "stdout",
          "output_type": "stream",
          "text": [
            "\u001b[1mThe balanced accuracy score for random forest cluster centroids from actual vs. test predictions is 99.10%\u001b[0m\n"
          ]
        }
      ],
      "source": [
        "rf_cluster_centroids_predictions_nparray \\\n",
        "    = random_forest_cluster_centroids_model.predict(x_test_scaled_dataframe)\n",
        "\n",
        "rf_cluster_centroids_balanced_accuracy_score_float \\\n",
        "    = accuracy_score(y_test_series, rf_cluster_centroids_predictions_nparray) * 100\n",
        "\n",
        "logx.print_and_log_text \\\n",
        "    ('\\033[1m' \\\n",
        "     + 'The balanced accuracy score for random forest cluster centroids from actual vs. test predictions is {:.2f}%' \\\n",
        "         .format(rf_cluster_centroids_balanced_accuracy_score_float) \\\n",
        "     + '\\033[0m')"
      ]
    },
    {
      "cell_type": "code",
      "execution_count": null,
      "id": "JF_4_k_uuo-u",
      "metadata": {
        "colab": {
          "base_uri": "https://localhost:8080/"
        },
        "id": "JF_4_k_uuo-u",
        "outputId": "27dea879-fc3c-4c02-dd4f-4b3a9c0f39e2"
      },
      "outputs": [
        {
          "name": "stdout",
          "output_type": "stream",
          "text": [
            "\u001b[1mRANDOM FOREST MODEL (Cluster Centroids)\n",
            "\u001b[0m\n",
            "1) \u001b[1mOverall Accuracy Score: \u001b[0m98.03%\n",
            "\n",
            "2) \u001b[1mConfusion Matrix:\n",
            "\u001b[0m\n",
            "                  Predicted Healthy  Predicted High-Risk\n",
            "Actual Healthy                18618                  156\n",
            "Actual High-Risk                 19                  591\n",
            "\n",
            "3) \u001b[1mClassification Report:\n",
            "\u001b[0m\n",
            "              precision    recall  f1-score   support\n",
            "\n",
            "     healthy       1.00      0.99      1.00     18774\n",
            "   high-risk       0.79      0.97      0.87       610\n",
            "\n",
            "    accuracy                           0.99     19384\n",
            "   macro avg       0.90      0.98      0.93     19384\n",
            "weighted avg       0.99      0.99      0.99     19384\n",
            "\n",
            "\n"
          ]
        }
      ],
      "source": [
        "rf_cluster_centroids_accuracy_score_float, \\\n",
        "rf_cluster_centroids_confusion_matrix_dataframe, \\\n",
        "rf_cluster_centroids_classification_report_string \\\n",
        "    = classificationsx.return_binary_classification_confusion_matrix \\\n",
        "        (y_test_series,\n",
        "         rf_cluster_centroids_predictions_nparray,\n",
        "         'RANDOM FOREST MODEL (Cluster Centroids)',\n",
        "         'Healthy', 'High-Risk')\n",
        "\n",
        "model_performance_dictionary['random_forest'] \\\n",
        "    .append(rf_cluster_centroids_accuracy_score_float * 100)\n",
        "\n",
        "model_performance_ranking_dictionary['random_forest_cluster_centroids'] \\\n",
        "    = rf_cluster_centroids_accuracy_score_float * 100"
      ]
    },
    {
      "cell_type": "markdown",
      "id": "EHtBhECBuo-u",
      "metadata": {
        "id": "EHtBhECBuo-u"
      },
      "source": [
        "### **SMOTE**"
      ]
    },
    {
      "cell_type": "code",
      "execution_count": null,
      "id": "xFuOUk2Wuo-u",
      "metadata": {
        "colab": {
          "base_uri": "https://localhost:8080/"
        },
        "id": "xFuOUk2Wuo-u",
        "outputId": "208101ae-d1b9-45bc-d981-b3f05c2138d1"
      },
      "outputs": [
        {
          "data": {
            "text/plain": [
              "{'bootstrap': True,\n",
              " 'ccp_alpha': 0.0,\n",
              " 'class_weight': 'balanced_subsample',\n",
              " 'criterion': 'gini',\n",
              " 'max_depth': None,\n",
              " 'max_features': 'sqrt',\n",
              " 'max_leaf_nodes': None,\n",
              " 'max_samples': None,\n",
              " 'min_impurity_decrease': 0.0,\n",
              " 'min_samples_leaf': 1,\n",
              " 'min_samples_split': 2,\n",
              " 'min_weight_fraction_leaf': 0.0,\n",
              " 'n_estimators': 200,\n",
              " 'n_jobs': None,\n",
              " 'oob_score': False,\n",
              " 'random_state': 21,\n",
              " 'verbose': 0,\n",
              " 'warm_start': False}"
            ]
          },
          "execution_count": 265,
          "metadata": {},
          "output_type": "execute_result"
        }
      ],
      "source": [
        "random_forest_SMOTE_model.get_params()"
      ]
    },
    {
      "cell_type": "code",
      "execution_count": null,
      "id": "nXdwahG4uo-u",
      "metadata": {
        "colab": {
          "base_uri": "https://localhost:8080/"
        },
        "id": "nXdwahG4uo-u",
        "outputId": "251f1a09-3234-4ab8-dd32-dd1a0ebe7799"
      },
      "outputs": [
        {
          "name": "stdout",
          "output_type": "stream",
          "text": [
            "\u001b[1mThe balanced accuracy score for random forest SMOTE from actual vs. test predictions is 74.56%\u001b[0m\n"
          ]
        }
      ],
      "source": [
        "rf_SMOTE_predictions_nparray \\\n",
        "    = random_forest_SMOTE_model.predict(x_test_scaled_dataframe)\n",
        "\n",
        "rf_SMOTE_balanced_accuracy_score_float \\\n",
        "    = accuracy_score(y_test_series, rf_SMOTE_predictions_nparray) * 100\n",
        "\n",
        "logx.print_and_log_text \\\n",
        "    ('\\033[1m' \\\n",
        "     + 'The balanced accuracy score for random forest SMOTE from actual vs. test predictions is {:.2f}%' \\\n",
        "         .format(rf_SMOTE_balanced_accuracy_score_float) \\\n",
        "     + '\\033[0m')"
      ]
    },
    {
      "cell_type": "code",
      "execution_count": null,
      "id": "JFZBMaYmuo-u",
      "metadata": {
        "colab": {
          "base_uri": "https://localhost:8080/"
        },
        "id": "JFZBMaYmuo-u",
        "outputId": "96e97b00-a293-4b98-89c7-cf46bddbf4c3"
      },
      "outputs": [
        {
          "name": "stdout",
          "output_type": "stream",
          "text": [
            "\u001b[1mRANDOM FOREST MODEL (SMOTE)\n",
            "\u001b[0m\n",
            "1) \u001b[1mOverall Accuracy Score: \u001b[0m86.55%\n",
            "\n",
            "2) \u001b[1mConfusion Matrix:\n",
            "\u001b[0m\n",
            "                  Predicted Healthy  Predicted High-Risk\n",
            "Actual Healthy                13846                 4928\n",
            "Actual High-Risk                  4                  606\n",
            "\n",
            "3) \u001b[1mClassification Report:\n",
            "\u001b[0m\n",
            "              precision    recall  f1-score   support\n",
            "\n",
            "     healthy       1.00      0.74      0.85     18774\n",
            "   high-risk       0.11      0.99      0.20       610\n",
            "\n",
            "    accuracy                           0.75     19384\n",
            "   macro avg       0.55      0.87      0.52     19384\n",
            "weighted avg       0.97      0.75      0.83     19384\n",
            "\n",
            "\n"
          ]
        }
      ],
      "source": [
        "rf_SMOTE_accuracy_score_float, \\\n",
        "rf_SMOTE_confusion_matrix_dataframe, \\\n",
        "rf_SMOTE_classification_report_string \\\n",
        "    = classificationsx.return_binary_classification_confusion_matrix \\\n",
        "        (y_test_series,\n",
        "         rf_SMOTE_predictions_nparray,\n",
        "         'RANDOM FOREST MODEL (SMOTE)',\n",
        "         'Healthy', 'High-Risk')\n",
        "\n",
        "model_performance_dictionary['random_forest'] \\\n",
        "    .append(rf_SMOTE_accuracy_score_float * 100)\n",
        "\n",
        "model_performance_ranking_dictionary['random_forest_smote'] \\\n",
        "    = rf_SMOTE_accuracy_score_float * 100"
      ]
    },
    {
      "cell_type": "markdown",
      "id": "lJ8-hw7Zuo-u",
      "metadata": {
        "id": "lJ8-hw7Zuo-u"
      },
      "source": [
        "### **SMOTEENN**"
      ]
    },
    {
      "cell_type": "code",
      "execution_count": null,
      "id": "-5Ad0ecZuo-u",
      "metadata": {
        "colab": {
          "base_uri": "https://localhost:8080/"
        },
        "id": "-5Ad0ecZuo-u",
        "outputId": "3cbda648-4296-4c04-fdb4-de08ddb2e5dd"
      },
      "outputs": [
        {
          "data": {
            "text/plain": [
              "{'bootstrap': True,\n",
              " 'ccp_alpha': 0.0,\n",
              " 'class_weight': 'balanced_subsample',\n",
              " 'criterion': 'entropy',\n",
              " 'max_depth': None,\n",
              " 'max_features': 'sqrt',\n",
              " 'max_leaf_nodes': None,\n",
              " 'max_samples': None,\n",
              " 'min_impurity_decrease': 0.0,\n",
              " 'min_samples_leaf': 1,\n",
              " 'min_samples_split': 2,\n",
              " 'min_weight_fraction_leaf': 0.0,\n",
              " 'n_estimators': 200,\n",
              " 'n_jobs': None,\n",
              " 'oob_score': False,\n",
              " 'random_state': 21,\n",
              " 'verbose': 0,\n",
              " 'warm_start': False}"
            ]
          },
          "execution_count": 268,
          "metadata": {},
          "output_type": "execute_result"
        }
      ],
      "source": [
        "random_forest_SMOTEENN_model.get_params()"
      ]
    },
    {
      "cell_type": "code",
      "execution_count": null,
      "id": "Lh73jUPsuo-u",
      "metadata": {
        "colab": {
          "base_uri": "https://localhost:8080/"
        },
        "id": "Lh73jUPsuo-u",
        "outputId": "3ce5185e-663d-438b-fe23-dffe93330227"
      },
      "outputs": [
        {
          "name": "stdout",
          "output_type": "stream",
          "text": [
            "\u001b[1mThe balanced accuracy score for random forest SMOTEENN from actual vs. test predictions is 90.09%\u001b[0m\n"
          ]
        }
      ],
      "source": [
        "rf_SMOTEENN_predictions_nparray \\\n",
        "    = random_forest_SMOTEENN_model.predict(x_test_scaled_dataframe)\n",
        "\n",
        "rf_SMOTEENN_balanced_accuracy_score_float \\\n",
        "    = accuracy_score(y_test_series, rf_SMOTEENN_predictions_nparray) * 100\n",
        "\n",
        "logx.print_and_log_text \\\n",
        "    ('\\033[1m' \\\n",
        "     + 'The balanced accuracy score for random forest SMOTEENN from actual vs. test predictions is {:.2f}%' \\\n",
        "         .format(rf_SMOTEENN_balanced_accuracy_score_float) \\\n",
        "     + '\\033[0m')"
      ]
    },
    {
      "cell_type": "code",
      "execution_count": null,
      "id": "P0r1KAlyuo-u",
      "metadata": {
        "colab": {
          "base_uri": "https://localhost:8080/"
        },
        "id": "P0r1KAlyuo-u",
        "outputId": "6d55679a-99f1-45ae-8dcc-16fb6c4e4976"
      },
      "outputs": [
        {
          "name": "stdout",
          "output_type": "stream",
          "text": [
            "\u001b[1mRANDOM FOREST MODEL (SMOTEENN)\n",
            "\u001b[0m\n",
            "1) \u001b[1mOverall Accuracy Score: \u001b[0m94.88%\n",
            "\n",
            "2) \u001b[1mConfusion Matrix:\n",
            "\u001b[0m\n",
            "                  Predicted Healthy  Predicted High-Risk\n",
            "Actual Healthy                16853                 1921\n",
            "Actual High-Risk                  0                  610\n",
            "\n",
            "3) \u001b[1mClassification Report:\n",
            "\u001b[0m\n",
            "              precision    recall  f1-score   support\n",
            "\n",
            "     healthy       1.00      0.90      0.95     18774\n",
            "   high-risk       0.24      1.00      0.39       610\n",
            "\n",
            "    accuracy                           0.90     19384\n",
            "   macro avg       0.62      0.95      0.67     19384\n",
            "weighted avg       0.98      0.90      0.93     19384\n",
            "\n",
            "\n"
          ]
        }
      ],
      "source": [
        "rf_SMOTEENN_accuracy_score_float, \\\n",
        "rf_SMOTEENN_confusion_matrix_dataframe, \\\n",
        "rf_SMOTEENN_classification_report_string \\\n",
        "    = classificationsx.return_binary_classification_confusion_matrix \\\n",
        "        (y_test_series,\n",
        "         rf_SMOTEENN_predictions_nparray,\n",
        "         'RANDOM FOREST MODEL (SMOTEENN)',\n",
        "         'Healthy', 'High-Risk')\n",
        "\n",
        "model_performance_dictionary['random_forest'] \\\n",
        "    .append(rf_SMOTEENN_accuracy_score_float * 100)\n",
        "\n",
        "model_performance_ranking_dictionary['random_forest_smoteen'] \\\n",
        "    = rf_SMOTEENN_accuracy_score_float * 100"
      ]
    },
    {
      "cell_type": "markdown",
      "id": "HCqgcGBauo-v",
      "metadata": {
        "id": "HCqgcGBauo-v"
      },
      "source": [
        "## **9.4: Support Vector Machine (SVM)**"
      ]
    },
    {
      "cell_type": "markdown",
      "id": "FwSjalw4uo-v",
      "metadata": {
        "id": "FwSjalw4uo-v"
      },
      "source": [
        "### **Original**"
      ]
    },
    {
      "cell_type": "code",
      "execution_count": null,
      "id": "MVBF3JUDuo-v",
      "metadata": {
        "colab": {
          "base_uri": "https://localhost:8080/"
        },
        "id": "MVBF3JUDuo-v",
        "outputId": "4ac8d05e-3ff4-41eb-b0e3-f811ef67ae82"
      },
      "outputs": [
        {
          "data": {
            "text/plain": [
              "{'C': 1.0,\n",
              " 'break_ties': False,\n",
              " 'cache_size': 200,\n",
              " 'class_weight': None,\n",
              " 'coef0': 0.0,\n",
              " 'decision_function_shape': 'ovr',\n",
              " 'degree': 3,\n",
              " 'gamma': 'scale',\n",
              " 'kernel': 'rbf',\n",
              " 'max_iter': -1,\n",
              " 'probability': True,\n",
              " 'random_state': 21,\n",
              " 'shrinking': True,\n",
              " 'tol': 0.001,\n",
              " 'verbose': False}"
            ]
          },
          "execution_count": 271,
          "metadata": {},
          "output_type": "execute_result"
        }
      ],
      "source": [
        "svm_model.get_params()"
      ]
    },
    {
      "cell_type": "code",
      "execution_count": null,
      "id": "mi56NpBZuo-v",
      "metadata": {
        "colab": {
          "base_uri": "https://localhost:8080/"
        },
        "id": "mi56NpBZuo-v",
        "outputId": "1e46d49c-3604-4924-a814-76f5d35df30c"
      },
      "outputs": [
        {
          "name": "stdout",
          "output_type": "stream",
          "text": [
            "\u001b[1mThe balanced accuracy score for SVM from actual vs. test predictions is 99.37%\u001b[0m\n"
          ]
        }
      ],
      "source": [
        "svm_predictions_nparray \\\n",
        "    = svm_model.predict(x_test_scaled_dataframe)\n",
        "\n",
        "svm_balanced_accuracy_score_float \\\n",
        "    = accuracy_score(y_test_series, svm_predictions_nparray) * 100\n",
        "\n",
        "logx.print_and_log_text \\\n",
        "    ('\\033[1m' \\\n",
        "     + 'The balanced accuracy score for SVM from actual vs. test predictions is {:.2f}%' \\\n",
        "         .format(svm_balanced_accuracy_score_float) \\\n",
        "     + '\\033[0m')"
      ]
    },
    {
      "cell_type": "code",
      "execution_count": null,
      "id": "T2AZ000puo-v",
      "metadata": {
        "colab": {
          "base_uri": "https://localhost:8080/"
        },
        "id": "T2AZ000puo-v",
        "outputId": "359c8271-c0e0-47e5-861b-df388989f4e0"
      },
      "outputs": [
        {
          "name": "stdout",
          "output_type": "stream",
          "text": [
            "\u001b[1mSVM MODEL\n",
            "\u001b[0m\n",
            "1) \u001b[1mOverall Accuracy Score: \u001b[0m99.51%\n",
            "\n",
            "2) \u001b[1mConfusion Matrix:\n",
            "\u001b[0m\n",
            "                  Predicted Healthy  Predicted High-Risk\n",
            "Actual Healthy                18653                  121\n",
            "Actual High-Risk                  2                  608\n",
            "\n",
            "3) \u001b[1mClassification Report:\n",
            "\u001b[0m\n",
            "              precision    recall  f1-score   support\n",
            "\n",
            "     healthy       1.00      0.99      1.00     18774\n",
            "   high-risk       0.83      1.00      0.91       610\n",
            "\n",
            "    accuracy                           0.99     19384\n",
            "   macro avg       0.92      1.00      0.95     19384\n",
            "weighted avg       0.99      0.99      0.99     19384\n",
            "\n",
            "\n"
          ]
        }
      ],
      "source": [
        "svm_accuracy_score_float, svm_confusion_matrix_dataframe, svm_classification_report_string \\\n",
        "    = classificationsx.return_binary_classification_confusion_matrix \\\n",
        "        (y_test_series,\n",
        "         svm_predictions_nparray,\n",
        "         'SVM MODEL',\n",
        "         'Healthy', 'High-Risk')\n",
        "\n",
        "model_performance_dictionary['svm'] \\\n",
        "    = [svm_accuracy_score_float * 100]\n",
        "\n",
        "model_performance_ranking_dictionary['svm'] \\\n",
        "    = svm_accuracy_score_float * 100"
      ]
    },
    {
      "cell_type": "markdown",
      "id": "KG_3vf3Uuo-v",
      "metadata": {
        "id": "KG_3vf3Uuo-v"
      },
      "source": [
        "### **Random Undersampling**"
      ]
    },
    {
      "cell_type": "code",
      "execution_count": null,
      "id": "dpUw4pvLuo-v",
      "metadata": {
        "colab": {
          "base_uri": "https://localhost:8080/"
        },
        "id": "dpUw4pvLuo-v",
        "outputId": "34a42d24-684e-40e8-9b16-9196f36cb5e8"
      },
      "outputs": [
        {
          "data": {
            "text/plain": [
              "{'C': 1.0,\n",
              " 'break_ties': False,\n",
              " 'cache_size': 200,\n",
              " 'class_weight': None,\n",
              " 'coef0': 0.0,\n",
              " 'decision_function_shape': 'ovr',\n",
              " 'degree': 3,\n",
              " 'gamma': 'scale',\n",
              " 'kernel': 'rbf',\n",
              " 'max_iter': -1,\n",
              " 'probability': True,\n",
              " 'random_state': 21,\n",
              " 'shrinking': True,\n",
              " 'tol': 0.001,\n",
              " 'verbose': False}"
            ]
          },
          "execution_count": 274,
          "metadata": {},
          "output_type": "execute_result"
        }
      ],
      "source": [
        "svm_undersampled_model.get_params()"
      ]
    },
    {
      "cell_type": "code",
      "execution_count": null,
      "id": "haqcSDF3uo-v",
      "metadata": {
        "colab": {
          "base_uri": "https://localhost:8080/"
        },
        "id": "haqcSDF3uo-v",
        "outputId": "a71f773b-d4ff-479f-97a5-08f1a3165e24"
      },
      "outputs": [
        {
          "name": "stdout",
          "output_type": "stream",
          "text": [
            "\u001b[1mThe balanced accuracy score for svm undersampled from actual vs. test predictions is 99.35%\u001b[0m\n"
          ]
        }
      ],
      "source": [
        "svm_undersampled_predictions_nparray \\\n",
        "    = svm_undersampled_model.predict(x_test_scaled_dataframe)\n",
        "\n",
        "svm_undersampled_balanced_accuracy_score_float \\\n",
        "    = accuracy_score(y_test_series, svm_undersampled_predictions_nparray) * 100\n",
        "\n",
        "logx.print_and_log_text \\\n",
        "    ('\\033[1m'\n",
        "     + 'The balanced accuracy score for svm undersampled from actual vs. test predictions is {:.2f}%' \\\n",
        "         .format(svm_undersampled_balanced_accuracy_score_float)\n",
        "     + '\\033[0m')"
      ]
    },
    {
      "cell_type": "code",
      "execution_count": null,
      "id": "BZQleJmDuo-v",
      "metadata": {
        "colab": {
          "base_uri": "https://localhost:8080/"
        },
        "id": "BZQleJmDuo-v",
        "outputId": "6dd741b4-de1a-47bf-c181-c3d10cc9fbf1"
      },
      "outputs": [
        {
          "name": "stdout",
          "output_type": "stream",
          "text": [
            "\u001b[1mSVM MODEL (Undersampled)\n",
            "\u001b[0m\n",
            "1) \u001b[1mOverall Accuracy Score: \u001b[0m99.51%\n",
            "\n",
            "2) \u001b[1mConfusion Matrix:\n",
            "\u001b[0m\n",
            "                  Predicted Healthy  Predicted High-Risk\n",
            "Actual Healthy                18650                  124\n",
            "Actual High-Risk                  2                  608\n",
            "\n",
            "3) \u001b[1mClassification Report:\n",
            "\u001b[0m\n",
            "              precision    recall  f1-score   support\n",
            "\n",
            "     healthy       1.00      0.99      1.00     18774\n",
            "   high-risk       0.83      1.00      0.91       610\n",
            "\n",
            "    accuracy                           0.99     19384\n",
            "   macro avg       0.92      1.00      0.95     19384\n",
            "weighted avg       0.99      0.99      0.99     19384\n",
            "\n",
            "\n"
          ]
        }
      ],
      "source": [
        "svm_undersampled_accuracy_score_float, \\\n",
        "svm_undersampled_confusion_matrix_dataframe, \\\n",
        "svm_undersampled_classification_report_string \\\n",
        "    = classificationsx.return_binary_classification_confusion_matrix \\\n",
        "        (y_test_series,\n",
        "         svm_undersampled_predictions_nparray,\n",
        "         'SVM MODEL (Undersampled)',\n",
        "         'Healthy', 'High-Risk')\n",
        "\n",
        "model_performance_dictionary['svm'] \\\n",
        "    .append(svm_undersampled_accuracy_score_float * 100)\n",
        "\n",
        "model_performance_ranking_dictionary['svm_undersampled'] \\\n",
        "    = svm_undersampled_accuracy_score_float * 100"
      ]
    },
    {
      "cell_type": "markdown",
      "id": "AzUir0e-uo-v",
      "metadata": {
        "id": "AzUir0e-uo-v"
      },
      "source": [
        "### **Random Oversampling**"
      ]
    },
    {
      "cell_type": "code",
      "execution_count": null,
      "id": "DlC4Dxg9uo-v",
      "metadata": {
        "colab": {
          "base_uri": "https://localhost:8080/"
        },
        "id": "DlC4Dxg9uo-v",
        "outputId": "21d4c2a8-3082-4dce-b339-1925fb9d3a0a"
      },
      "outputs": [
        {
          "data": {
            "text/plain": [
              "{'C': 1.0,\n",
              " 'break_ties': False,\n",
              " 'cache_size': 200,\n",
              " 'class_weight': None,\n",
              " 'coef0': 0.0,\n",
              " 'decision_function_shape': 'ovr',\n",
              " 'degree': 3,\n",
              " 'gamma': 'scale',\n",
              " 'kernel': 'rbf',\n",
              " 'max_iter': -1,\n",
              " 'probability': True,\n",
              " 'random_state': 21,\n",
              " 'shrinking': True,\n",
              " 'tol': 0.001,\n",
              " 'verbose': False}"
            ]
          },
          "execution_count": 277,
          "metadata": {},
          "output_type": "execute_result"
        }
      ],
      "source": [
        "svm_oversampled_model.get_params()"
      ]
    },
    {
      "cell_type": "code",
      "execution_count": null,
      "id": "u1M-X1iMuo-v",
      "metadata": {
        "colab": {
          "base_uri": "https://localhost:8080/"
        },
        "id": "u1M-X1iMuo-v",
        "outputId": "97b36464-da0e-45d1-db6a-8078f6bc1793"
      },
      "outputs": [
        {
          "name": "stdout",
          "output_type": "stream",
          "text": [
            "\u001b[1mThe balanced accuracy score for svm oversampled from actual vs. test predictions is 99.34%\u001b[0m\n"
          ]
        }
      ],
      "source": [
        "svm_oversampled_predictions_nparray \\\n",
        "    = svm_oversampled_model.predict(x_test_scaled_dataframe)\n",
        "\n",
        "svm_oversampled_balanced_accuracy_score_float \\\n",
        "    = accuracy_score(y_test_series, svm_oversampled_predictions_nparray) * 100\n",
        "\n",
        "logx.print_and_log_text \\\n",
        "    ('\\033[1m'\n",
        "     + 'The balanced accuracy score for svm oversampled from actual vs. test predictions is {:.2f}%' \\\n",
        "         .format(svm_oversampled_balanced_accuracy_score_float)\n",
        "     + '\\033[0m')"
      ]
    },
    {
      "cell_type": "code",
      "execution_count": null,
      "id": "1mG4ZbEduo-v",
      "metadata": {
        "colab": {
          "base_uri": "https://localhost:8080/"
        },
        "id": "1mG4ZbEduo-v",
        "outputId": "a16de969-558a-4202-8ffd-39d555674a08"
      },
      "outputs": [
        {
          "name": "stdout",
          "output_type": "stream",
          "text": [
            "\u001b[1mSVM MODEL (Oversampled)\n",
            "\u001b[0m\n",
            "1) \u001b[1mOverall Accuracy Score: \u001b[0m99.5%\n",
            "\n",
            "2) \u001b[1mConfusion Matrix:\n",
            "\u001b[0m\n",
            "                  Predicted Healthy  Predicted High-Risk\n",
            "Actual Healthy                18649                  125\n",
            "Actual High-Risk                  2                  608\n",
            "\n",
            "3) \u001b[1mClassification Report:\n",
            "\u001b[0m\n",
            "              precision    recall  f1-score   support\n",
            "\n",
            "     healthy       1.00      0.99      1.00     18774\n",
            "   high-risk       0.83      1.00      0.91       610\n",
            "\n",
            "    accuracy                           0.99     19384\n",
            "   macro avg       0.91      1.00      0.95     19384\n",
            "weighted avg       0.99      0.99      0.99     19384\n",
            "\n",
            "\n"
          ]
        }
      ],
      "source": [
        "svm_oversampled_accuracy_score_float, \\\n",
        "svm_oversampled_confusion_matrix_dataframe, \\\n",
        "svm_oversampled_classification_report_string \\\n",
        "    = classificationsx.return_binary_classification_confusion_matrix \\\n",
        "        (y_test_series,\n",
        "         svm_oversampled_predictions_nparray,\n",
        "         'SVM MODEL (Oversampled)',\n",
        "         'Healthy', 'High-Risk')\n",
        "\n",
        "model_performance_dictionary['svm'] \\\n",
        "    .append(svm_oversampled_accuracy_score_float * 100)\n",
        "\n",
        "model_performance_ranking_dictionary['svm_oversampled'] \\\n",
        "    = svm_oversampled_accuracy_score_float * 100"
      ]
    },
    {
      "cell_type": "markdown",
      "id": "gOxfGV9yuo-w",
      "metadata": {
        "id": "gOxfGV9yuo-w"
      },
      "source": [
        "### **Cluster Centroids**"
      ]
    },
    {
      "cell_type": "code",
      "execution_count": null,
      "id": "387aQ9f7uo-w",
      "metadata": {
        "colab": {
          "base_uri": "https://localhost:8080/"
        },
        "id": "387aQ9f7uo-w",
        "outputId": "d6dcc7af-d13e-4fcd-91e1-508968f5eeca"
      },
      "outputs": [
        {
          "data": {
            "text/plain": [
              "{'C': 1.0,\n",
              " 'break_ties': False,\n",
              " 'cache_size': 200,\n",
              " 'class_weight': None,\n",
              " 'coef0': 0.0,\n",
              " 'decision_function_shape': 'ovr',\n",
              " 'degree': 3,\n",
              " 'gamma': 'scale',\n",
              " 'kernel': 'rbf',\n",
              " 'max_iter': -1,\n",
              " 'probability': True,\n",
              " 'random_state': 21,\n",
              " 'shrinking': True,\n",
              " 'tol': 0.001,\n",
              " 'verbose': False}"
            ]
          },
          "execution_count": 280,
          "metadata": {},
          "output_type": "execute_result"
        }
      ],
      "source": [
        "svm_cluster_centroids_model.get_params()"
      ]
    },
    {
      "cell_type": "code",
      "execution_count": null,
      "id": "2gF7O923uo-w",
      "metadata": {
        "colab": {
          "base_uri": "https://localhost:8080/"
        },
        "id": "2gF7O923uo-w",
        "outputId": "397b8a4a-ac12-48ce-9b5a-dca3c2cf231a"
      },
      "outputs": [
        {
          "name": "stdout",
          "output_type": "stream",
          "text": [
            "\u001b[1mThe balanced accuracy score for svm cluster centroids from actual vs. test predictions is 99.33%\u001b[0m\n"
          ]
        }
      ],
      "source": [
        "svm_cluster_centroids_predictions_nparray \\\n",
        "    = svm_cluster_centroids_model.predict(x_test_scaled_dataframe)\n",
        "\n",
        "svm_cluster_centroids_balanced_accuracy_score_float \\\n",
        "    = accuracy_score(y_test_series, svm_cluster_centroids_predictions_nparray) * 100\n",
        "\n",
        "logx.print_and_log_text \\\n",
        "    ('\\033[1m' \\\n",
        "     + 'The balanced accuracy score for svm cluster centroids from actual vs. test predictions is {:.2f}%' \\\n",
        "         .format(svm_cluster_centroids_balanced_accuracy_score_float) \\\n",
        "     + '\\033[0m')"
      ]
    },
    {
      "cell_type": "code",
      "execution_count": null,
      "id": "-7_YsC5Huo-w",
      "metadata": {
        "colab": {
          "base_uri": "https://localhost:8080/"
        },
        "id": "-7_YsC5Huo-w",
        "outputId": "81ca69eb-c5a4-4318-ea2c-9941fae33ddd"
      },
      "outputs": [
        {
          "name": "stdout",
          "output_type": "stream",
          "text": [
            "\u001b[1mSVM MODEL (Cluster Centroids)\n",
            "\u001b[0m\n",
            "1) \u001b[1mOverall Accuracy Score: \u001b[0m98.7%\n",
            "\n",
            "2) \u001b[1mConfusion Matrix:\n",
            "\u001b[0m\n",
            "                  Predicted Healthy  Predicted High-Risk\n",
            "Actual Healthy                18656                  118\n",
            "Actual High-Risk                 12                  598\n",
            "\n",
            "3) \u001b[1mClassification Report:\n",
            "\u001b[0m\n",
            "              precision    recall  f1-score   support\n",
            "\n",
            "     healthy       1.00      0.99      1.00     18774\n",
            "   high-risk       0.84      0.98      0.90       610\n",
            "\n",
            "    accuracy                           0.99     19384\n",
            "   macro avg       0.92      0.99      0.95     19384\n",
            "weighted avg       0.99      0.99      0.99     19384\n",
            "\n",
            "\n"
          ]
        }
      ],
      "source": [
        "svm_cluster_centroids_accuracy_score_float, \\\n",
        "svm_cluster_centroids_confusion_matrix_dataframe, \\\n",
        "svm_cluster_centroids_classification_report_string \\\n",
        "    = classificationsx.return_binary_classification_confusion_matrix \\\n",
        "        (y_test_series,\n",
        "         svm_cluster_centroids_predictions_nparray,\n",
        "         'SVM MODEL (Cluster Centroids)',\n",
        "         'Healthy', 'High-Risk')\n",
        "\n",
        "model_performance_dictionary['svm'] \\\n",
        "    .append(svm_cluster_centroids_accuracy_score_float * 100)\n",
        "\n",
        "model_performance_ranking_dictionary['svm_cluster_centroids'] \\\n",
        "    = svm_cluster_centroids_accuracy_score_float * 100"
      ]
    },
    {
      "cell_type": "markdown",
      "id": "zrMC649Vuo-w",
      "metadata": {
        "id": "zrMC649Vuo-w"
      },
      "source": [
        "### **SMOTE**"
      ]
    },
    {
      "cell_type": "code",
      "execution_count": null,
      "id": "5SdunRluuo-w",
      "metadata": {
        "colab": {
          "base_uri": "https://localhost:8080/"
        },
        "id": "5SdunRluuo-w",
        "outputId": "b03f75cd-7b58-4ca1-e8f7-b4c0b9d25543"
      },
      "outputs": [
        {
          "data": {
            "text/plain": [
              "{'C': 1.0,\n",
              " 'break_ties': False,\n",
              " 'cache_size': 200,\n",
              " 'class_weight': None,\n",
              " 'coef0': 0.0,\n",
              " 'decision_function_shape': 'ovr',\n",
              " 'degree': 3,\n",
              " 'gamma': 'scale',\n",
              " 'kernel': 'rbf',\n",
              " 'max_iter': -1,\n",
              " 'probability': True,\n",
              " 'random_state': 21,\n",
              " 'shrinking': True,\n",
              " 'tol': 0.001,\n",
              " 'verbose': False}"
            ]
          },
          "execution_count": 283,
          "metadata": {},
          "output_type": "execute_result"
        }
      ],
      "source": [
        "svm_SMOTE_model.get_params()"
      ]
    },
    {
      "cell_type": "code",
      "execution_count": null,
      "id": "G7kuogySuo-w",
      "metadata": {
        "colab": {
          "base_uri": "https://localhost:8080/"
        },
        "id": "G7kuogySuo-w",
        "outputId": "b9a87995-5da0-4628-8893-bba6c937ad76"
      },
      "outputs": [
        {
          "name": "stdout",
          "output_type": "stream",
          "text": [
            "\u001b[1mThe balanced accuracy score for svm SMOTE from actual vs. test predictions is 99.34%\u001b[0m\n"
          ]
        }
      ],
      "source": [
        "svm_SMOTE_predictions_nparray \\\n",
        "    = svm_SMOTE_model.predict(x_test_scaled_dataframe)\n",
        "\n",
        "svm_SMOTE_balanced_accuracy_score_float \\\n",
        "    = accuracy_score(y_test_series, svm_SMOTE_predictions_nparray) * 100\n",
        "\n",
        "logx.print_and_log_text \\\n",
        "    ('\\033[1m' \\\n",
        "     + 'The balanced accuracy score for svm SMOTE from actual vs. test predictions is {:.2f}%' \\\n",
        "         .format(svm_SMOTE_balanced_accuracy_score_float) \\\n",
        "     + '\\033[0m')"
      ]
    },
    {
      "cell_type": "code",
      "execution_count": null,
      "id": "mTWMBAORuo-w",
      "metadata": {
        "colab": {
          "base_uri": "https://localhost:8080/"
        },
        "id": "mTWMBAORuo-w",
        "outputId": "0b449336-b2f1-42ef-8040-28168e44ee43"
      },
      "outputs": [
        {
          "name": "stdout",
          "output_type": "stream",
          "text": [
            "\u001b[1mSVM MODEL (SMOTE)\n",
            "\u001b[0m\n",
            "1) \u001b[1mOverall Accuracy Score: \u001b[0m99.5%\n",
            "\n",
            "2) \u001b[1mConfusion Matrix:\n",
            "\u001b[0m\n",
            "                  Predicted Healthy  Predicted High-Risk\n",
            "Actual Healthy                18649                  125\n",
            "Actual High-Risk                  2                  608\n",
            "\n",
            "3) \u001b[1mClassification Report:\n",
            "\u001b[0m\n",
            "              precision    recall  f1-score   support\n",
            "\n",
            "     healthy       1.00      0.99      1.00     18774\n",
            "   high-risk       0.83      1.00      0.91       610\n",
            "\n",
            "    accuracy                           0.99     19384\n",
            "   macro avg       0.91      1.00      0.95     19384\n",
            "weighted avg       0.99      0.99      0.99     19384\n",
            "\n",
            "\n"
          ]
        }
      ],
      "source": [
        "svm_SMOTE_accuracy_score_float, \\\n",
        "svm_SMOTE_confusion_matrix_dataframe, \\\n",
        "svm_SMOTE_classification_report_string \\\n",
        "    = classificationsx.return_binary_classification_confusion_matrix \\\n",
        "        (y_test_series,\n",
        "         svm_SMOTE_predictions_nparray,\n",
        "         'SVM MODEL (SMOTE)',\n",
        "         'Healthy', 'High-Risk')\n",
        "\n",
        "model_performance_dictionary['svm'] \\\n",
        "    .append(svm_SMOTE_accuracy_score_float * 100)\n",
        "\n",
        "model_performance_ranking_dictionary['svm_smote'] \\\n",
        "    = svm_SMOTE_accuracy_score_float * 100"
      ]
    },
    {
      "cell_type": "markdown",
      "id": "ED8FxnB2uo-w",
      "metadata": {
        "id": "ED8FxnB2uo-w"
      },
      "source": [
        "### **SMOTEENN**"
      ]
    },
    {
      "cell_type": "code",
      "execution_count": null,
      "id": "Q80ZPHJyuo-w",
      "metadata": {
        "colab": {
          "base_uri": "https://localhost:8080/"
        },
        "id": "Q80ZPHJyuo-w",
        "outputId": "1bcf8e4f-b082-469b-8d0a-b1324074e537"
      },
      "outputs": [
        {
          "data": {
            "text/plain": [
              "{'C': 1.0,\n",
              " 'break_ties': False,\n",
              " 'cache_size': 200,\n",
              " 'class_weight': None,\n",
              " 'coef0': 0.0,\n",
              " 'decision_function_shape': 'ovr',\n",
              " 'degree': 3,\n",
              " 'gamma': 'scale',\n",
              " 'kernel': 'rbf',\n",
              " 'max_iter': -1,\n",
              " 'probability': True,\n",
              " 'random_state': 21,\n",
              " 'shrinking': True,\n",
              " 'tol': 0.001,\n",
              " 'verbose': False}"
            ]
          },
          "execution_count": 286,
          "metadata": {},
          "output_type": "execute_result"
        }
      ],
      "source": [
        "svm_SMOTEENN_model.get_params()"
      ]
    },
    {
      "cell_type": "code",
      "execution_count": null,
      "id": "FuBVB6Vcuo-w",
      "metadata": {
        "colab": {
          "base_uri": "https://localhost:8080/"
        },
        "id": "FuBVB6Vcuo-w",
        "outputId": "a0e8e185-9656-42d1-ddfb-9817ded0441a"
      },
      "outputs": [
        {
          "name": "stdout",
          "output_type": "stream",
          "text": [
            "\u001b[1mThe balanced accuracy score for svm SMOTEENN from actual vs. test predictions is 99.36%\u001b[0m\n"
          ]
        }
      ],
      "source": [
        "svm_SMOTEENN_predictions_nparray \\\n",
        "    = svm_SMOTEENN_model.predict(x_test_scaled_dataframe)\n",
        "\n",
        "svm_SMOTEENN_balanced_accuracy_score_float \\\n",
        "    = accuracy_score(y_test_series, svm_SMOTEENN_predictions_nparray) * 100\n",
        "\n",
        "logx.print_and_log_text \\\n",
        "    ('\\033[1m' \\\n",
        "     + 'The balanced accuracy score for svm SMOTEENN from actual vs. test predictions is {:.2f}%' \\\n",
        "         .format(svm_SMOTEENN_balanced_accuracy_score_float) \\\n",
        "     + '\\033[0m')"
      ]
    },
    {
      "cell_type": "code",
      "execution_count": null,
      "id": "ozCLNo-Iuo-w",
      "metadata": {
        "colab": {
          "base_uri": "https://localhost:8080/"
        },
        "id": "ozCLNo-Iuo-w",
        "outputId": "03ad4a3d-3742-4a03-9a44-ccbb820de56e"
      },
      "outputs": [
        {
          "name": "stdout",
          "output_type": "stream",
          "text": [
            "\u001b[1mSVM MODEL (SMOTEENN)\n",
            "\u001b[0m\n",
            "1) \u001b[1mOverall Accuracy Score: \u001b[0m99.51%\n",
            "\n",
            "2) \u001b[1mConfusion Matrix:\n",
            "\u001b[0m\n",
            "                  Predicted Healthy  Predicted High-Risk\n",
            "Actual Healthy                18651                  123\n",
            "Actual High-Risk                  2                  608\n",
            "\n",
            "3) \u001b[1mClassification Report:\n",
            "\u001b[0m\n",
            "              precision    recall  f1-score   support\n",
            "\n",
            "     healthy       1.00      0.99      1.00     18774\n",
            "   high-risk       0.83      1.00      0.91       610\n",
            "\n",
            "    accuracy                           0.99     19384\n",
            "   macro avg       0.92      1.00      0.95     19384\n",
            "weighted avg       0.99      0.99      0.99     19384\n",
            "\n",
            "\n"
          ]
        }
      ],
      "source": [
        "svm_SMOTEENN_accuracy_score_float, \\\n",
        "svm_SMOTEENN_confusion_matrix_dataframe, \\\n",
        "svm_SMOTEENN_classification_report_string \\\n",
        "    = classificationsx.return_binary_classification_confusion_matrix \\\n",
        "        (y_test_series,\n",
        "         svm_SMOTEENN_predictions_nparray,\n",
        "         'SVM MODEL (SMOTEENN)',\n",
        "         'Healthy', 'High-Risk')\n",
        "\n",
        "model_performance_dictionary['svm'] \\\n",
        "    .append(svm_SMOTEENN_accuracy_score_float * 100)\n",
        "\n",
        "model_performance_ranking_dictionary['svm_smoteen'] \\\n",
        "    = svm_SMOTEENN_accuracy_score_float * 100"
      ]
    },
    {
      "cell_type": "markdown",
      "id": "HhjJ3NcYuo-x",
      "metadata": {
        "id": "HhjJ3NcYuo-x"
      },
      "source": [
        "## **9.5: K-Nearest Neighbor (KNN)**"
      ]
    },
    {
      "cell_type": "markdown",
      "id": "3DO8d84Cuo-x",
      "metadata": {
        "id": "3DO8d84Cuo-x"
      },
      "source": [
        "### **Original**"
      ]
    },
    {
      "cell_type": "code",
      "execution_count": null,
      "id": "tnypv0Asuo-x",
      "metadata": {
        "colab": {
          "base_uri": "https://localhost:8080/"
        },
        "id": "tnypv0Asuo-x",
        "outputId": "1f00be28-afd6-4e26-eb41-22dcaba7744b"
      },
      "outputs": [
        {
          "data": {
            "text/plain": [
              "{'algorithm': 'auto',\n",
              " 'leaf_size': 2,\n",
              " 'metric': 'minkowski',\n",
              " 'metric_params': None,\n",
              " 'n_jobs': None,\n",
              " 'n_neighbors': 5,\n",
              " 'p': 2,\n",
              " 'weights': 'uniform'}"
            ]
          },
          "execution_count": 289,
          "metadata": {},
          "output_type": "execute_result"
        }
      ],
      "source": [
        "knn_model.get_params()"
      ]
    },
    {
      "cell_type": "code",
      "execution_count": null,
      "id": "g1-FShu7uo-x",
      "metadata": {
        "colab": {
          "base_uri": "https://localhost:8080/"
        },
        "id": "g1-FShu7uo-x",
        "outputId": "6d269700-0228-4a11-9327-15b9b194e7a0"
      },
      "outputs": [
        {
          "name": "stdout",
          "output_type": "stream",
          "text": [
            "\u001b[1mThe balanced accuracy score for KNN from actual vs. test predictions is 99.28%\u001b[0m\n"
          ]
        }
      ],
      "source": [
        "knn_predictions_nparray = knn_model.predict(x_test_scaled_dataframe)\n",
        "\n",
        "knn_balanced_accuracy_score_float \\\n",
        "    = accuracy_score(y_test_series, knn_predictions_nparray) * 100\n",
        "\n",
        "logx.print_and_log_text \\\n",
        "    ('\\033[1m' \\\n",
        "     + 'The balanced accuracy score for KNN from actual vs. test predictions is {:.2f}%' \\\n",
        "         .format(knn_balanced_accuracy_score_float) \\\n",
        "     + '\\033[0m')"
      ]
    },
    {
      "cell_type": "code",
      "execution_count": null,
      "id": "fNv586bsuo-x",
      "metadata": {
        "colab": {
          "base_uri": "https://localhost:8080/"
        },
        "id": "fNv586bsuo-x",
        "outputId": "b5b07c12-eea5-41ea-e7e2-b6923b285b12"
      },
      "outputs": [
        {
          "name": "stdout",
          "output_type": "stream",
          "text": [
            "\u001b[1mKNN MODEL\n",
            "\u001b[0m\n",
            "1) \u001b[1mOverall Accuracy Score: \u001b[0m98.12%\n",
            "\n",
            "2) \u001b[1mConfusion Matrix:\n",
            "\u001b[0m\n",
            "                  Predicted Healthy  Predicted High-Risk\n",
            "Actual Healthy                18653                  121\n",
            "Actual High-Risk                 19                  591\n",
            "\n",
            "3) \u001b[1mClassification Report:\n",
            "\u001b[0m\n",
            "              precision    recall  f1-score   support\n",
            "\n",
            "     healthy       1.00      0.99      1.00     18774\n",
            "   high-risk       0.83      0.97      0.89       610\n",
            "\n",
            "    accuracy                           0.99     19384\n",
            "   macro avg       0.91      0.98      0.95     19384\n",
            "weighted avg       0.99      0.99      0.99     19384\n",
            "\n",
            "\n"
          ]
        }
      ],
      "source": [
        "knn_accuracy_score_float, \\\n",
        "knn_confusion_matrix_dataframe, \\\n",
        "knn_classification_report_string \\\n",
        "    = classificationsx.return_binary_classification_confusion_matrix \\\n",
        "        (y_test_series,\n",
        "         knn_predictions_nparray,\n",
        "         'KNN MODEL',\n",
        "         'Healthy', 'High-Risk')\n",
        "\n",
        "model_performance_dictionary['knn'] \\\n",
        "    = [knn_accuracy_score_float * 100]\n",
        "\n",
        "model_performance_ranking_dictionary['knn'] \\\n",
        "    = knn_accuracy_score_float * 100"
      ]
    },
    {
      "cell_type": "markdown",
      "id": "-J1Pn-zGuo-x",
      "metadata": {
        "id": "-J1Pn-zGuo-x"
      },
      "source": [
        "### **Random Undersampling**"
      ]
    },
    {
      "cell_type": "code",
      "execution_count": null,
      "id": "bpXMq9HQuo-x",
      "metadata": {
        "colab": {
          "base_uri": "https://localhost:8080/"
        },
        "id": "bpXMq9HQuo-x",
        "outputId": "3fa37300-d7e0-4daf-c638-09849f4fcd4e"
      },
      "outputs": [
        {
          "data": {
            "text/plain": [
              "{'algorithm': 'auto',\n",
              " 'leaf_size': 2,\n",
              " 'metric': 'minkowski',\n",
              " 'metric_params': None,\n",
              " 'n_jobs': None,\n",
              " 'n_neighbors': 5,\n",
              " 'p': 2,\n",
              " 'weights': 'uniform'}"
            ]
          },
          "execution_count": 292,
          "metadata": {},
          "output_type": "execute_result"
        }
      ],
      "source": [
        "knn_undersampled_model.get_params()"
      ]
    },
    {
      "cell_type": "code",
      "execution_count": null,
      "id": "3TRtJ_71uo-x",
      "metadata": {
        "colab": {
          "base_uri": "https://localhost:8080/"
        },
        "id": "3TRtJ_71uo-x",
        "outputId": "24f70de5-6a8a-48c6-8636-ffde4306e1b7"
      },
      "outputs": [
        {
          "name": "stdout",
          "output_type": "stream",
          "text": [
            "\u001b[1mThe balanced accuracy score for knn undersampled from actual vs. test predictions is 99.35%\u001b[0m\n"
          ]
        }
      ],
      "source": [
        "knn_undersampled_predictions_nparray \\\n",
        "    = knn_undersampled_model.predict(x_test_scaled_dataframe)\n",
        "\n",
        "knn_undersampled_balanced_accuracy_score_float \\\n",
        "    = accuracy_score(y_test_series, knn_undersampled_predictions_nparray) * 100\n",
        "\n",
        "logx.print_and_log_text \\\n",
        "    ('\\033[1m' \\\n",
        "     + 'The balanced accuracy score for knn undersampled from actual vs. test predictions is {:.2f}%' \\\n",
        "         .format(knn_undersampled_balanced_accuracy_score_float) \\\n",
        "     + '\\033[0m')"
      ]
    },
    {
      "cell_type": "code",
      "execution_count": null,
      "id": "oKL3O3SHuo-x",
      "metadata": {
        "colab": {
          "base_uri": "https://localhost:8080/"
        },
        "id": "oKL3O3SHuo-x",
        "outputId": "03db1c5b-4e87-4830-c4fc-60b86bd56b23"
      },
      "outputs": [
        {
          "name": "stdout",
          "output_type": "stream",
          "text": [
            "\u001b[1mKNN MODEL (Undersampled)\n",
            "\u001b[0m\n",
            "1) \u001b[1mOverall Accuracy Score: \u001b[0m99.51%\n",
            "\n",
            "2) \u001b[1mConfusion Matrix:\n",
            "\u001b[0m\n",
            "                  Predicted Healthy  Predicted High-Risk\n",
            "Actual Healthy                18650                  124\n",
            "Actual High-Risk                  2                  608\n",
            "\n",
            "3) \u001b[1mClassification Report:\n",
            "\u001b[0m\n",
            "              precision    recall  f1-score   support\n",
            "\n",
            "     healthy       1.00      0.99      1.00     18774\n",
            "   high-risk       0.83      1.00      0.91       610\n",
            "\n",
            "    accuracy                           0.99     19384\n",
            "   macro avg       0.92      1.00      0.95     19384\n",
            "weighted avg       0.99      0.99      0.99     19384\n",
            "\n",
            "\n"
          ]
        }
      ],
      "source": [
        "knn_undersampled_accuracy_score_float, \\\n",
        "knn_undersampled_confusion_matrix_dataframe, \\\n",
        "knn_undersampled_classification_report_string \\\n",
        "    = classificationsx.return_binary_classification_confusion_matrix \\\n",
        "        (y_test_series,\n",
        "         knn_undersampled_predictions_nparray,\n",
        "         'KNN MODEL (Undersampled)',\n",
        "         'Healthy', 'High-Risk')\n",
        "\n",
        "model_performance_dictionary['knn'] \\\n",
        "    .append(knn_undersampled_accuracy_score_float * 100)\n",
        "\n",
        "model_performance_ranking_dictionary['knn_undersampled'] \\\n",
        "    = knn_undersampled_accuracy_score_float * 100"
      ]
    },
    {
      "cell_type": "markdown",
      "id": "A7vpx04Cuo-x",
      "metadata": {
        "id": "A7vpx04Cuo-x"
      },
      "source": [
        "### **Random Oversampling**"
      ]
    },
    {
      "cell_type": "code",
      "execution_count": null,
      "id": "7-zvbuBvuo-x",
      "metadata": {
        "colab": {
          "base_uri": "https://localhost:8080/"
        },
        "id": "7-zvbuBvuo-x",
        "outputId": "d7c1ba1d-869b-40fa-ed4a-43e257cc5d5b"
      },
      "outputs": [
        {
          "data": {
            "text/plain": [
              "{'algorithm': 'auto',\n",
              " 'leaf_size': 2,\n",
              " 'metric': 'minkowski',\n",
              " 'metric_params': None,\n",
              " 'n_jobs': None,\n",
              " 'n_neighbors': 5,\n",
              " 'p': 2,\n",
              " 'weights': 'uniform'}"
            ]
          },
          "execution_count": 295,
          "metadata": {},
          "output_type": "execute_result"
        }
      ],
      "source": [
        "knn_oversampled_model.get_params()"
      ]
    },
    {
      "cell_type": "code",
      "execution_count": null,
      "id": "QGb-6BBPuo-x",
      "metadata": {
        "colab": {
          "base_uri": "https://localhost:8080/"
        },
        "id": "QGb-6BBPuo-x",
        "outputId": "a5ce3790-b0db-48f5-9065-4a6bb6743920"
      },
      "outputs": [
        {
          "name": "stdout",
          "output_type": "stream",
          "text": [
            "\u001b[1mThe balanced accuracy score for knn oversampled from actual vs. test predictions is 99.31%\u001b[0m\n"
          ]
        }
      ],
      "source": [
        "knn_oversampled_predictions_nparray \\\n",
        "    = knn_oversampled_model.predict(x_test_scaled_dataframe)\n",
        "\n",
        "knn_oversampled_balanced_accuracy_score_float \\\n",
        "    = accuracy_score(y_test_series, knn_oversampled_predictions_nparray) * 100\n",
        "\n",
        "logx.print_and_log_text \\\n",
        "    ('\\033[1m'\n",
        "     + 'The balanced accuracy score for knn oversampled from actual vs. test predictions is {:.2f}%' \\\n",
        "         .format(knn_oversampled_balanced_accuracy_score_float)\n",
        "     + '\\033[0m')"
      ]
    },
    {
      "cell_type": "code",
      "execution_count": null,
      "id": "KZw8ClfYuo-y",
      "metadata": {
        "colab": {
          "base_uri": "https://localhost:8080/"
        },
        "id": "KZw8ClfYuo-y",
        "outputId": "34fa4a86-db13-4e31-e91b-f2028dee0981"
      },
      "outputs": [
        {
          "name": "stdout",
          "output_type": "stream",
          "text": [
            "\u001b[1mKNN MODEL (Oversampled)\n",
            "\u001b[0m\n",
            "1) \u001b[1mOverall Accuracy Score: \u001b[0m99.33%\n",
            "\n",
            "2) \u001b[1mConfusion Matrix:\n",
            "\u001b[0m\n",
            "                  Predicted Healthy  Predicted High-Risk\n",
            "Actual Healthy                18645                  129\n",
            "Actual High-Risk                  4                  606\n",
            "\n",
            "3) \u001b[1mClassification Report:\n",
            "\u001b[0m\n",
            "              precision    recall  f1-score   support\n",
            "\n",
            "     healthy       1.00      0.99      1.00     18774\n",
            "   high-risk       0.82      0.99      0.90       610\n",
            "\n",
            "    accuracy                           0.99     19384\n",
            "   macro avg       0.91      0.99      0.95     19384\n",
            "weighted avg       0.99      0.99      0.99     19384\n",
            "\n",
            "\n"
          ]
        }
      ],
      "source": [
        "knn_oversampled_accuracy_score_float, \\\n",
        "knn_oversampled_confusion_matrix_dataframe, \\\n",
        "knn_oversampled_classification_report_string \\\n",
        "    = classificationsx.return_binary_classification_confusion_matrix \\\n",
        "        (y_test_series,\n",
        "         knn_oversampled_predictions_nparray,\n",
        "         'KNN MODEL (Oversampled)',\n",
        "         'Healthy', 'High-Risk')\n",
        "\n",
        "model_performance_dictionary['knn'] \\\n",
        "    .append(knn_oversampled_accuracy_score_float * 100)\n",
        "\n",
        "model_performance_ranking_dictionary['knn_oversampled'] \\\n",
        "    = knn_oversampled_accuracy_score_float * 100"
      ]
    },
    {
      "cell_type": "markdown",
      "id": "xOidwiePuo-y",
      "metadata": {
        "id": "xOidwiePuo-y"
      },
      "source": [
        "### **Cluster Centroids**"
      ]
    },
    {
      "cell_type": "code",
      "execution_count": null,
      "id": "Fyt1GUJAuo-y",
      "metadata": {
        "colab": {
          "base_uri": "https://localhost:8080/"
        },
        "id": "Fyt1GUJAuo-y",
        "outputId": "f3f942f4-6539-49f2-e2de-965e9528ebe8"
      },
      "outputs": [
        {
          "data": {
            "text/plain": [
              "{'algorithm': 'auto',\n",
              " 'leaf_size': 2,\n",
              " 'metric': 'minkowski',\n",
              " 'metric_params': None,\n",
              " 'n_jobs': None,\n",
              " 'n_neighbors': 5,\n",
              " 'p': 2,\n",
              " 'weights': 'uniform'}"
            ]
          },
          "execution_count": 298,
          "metadata": {},
          "output_type": "execute_result"
        }
      ],
      "source": [
        "knn_cluster_centroids_model.get_params()"
      ]
    },
    {
      "cell_type": "code",
      "execution_count": null,
      "id": "q8JsZEX0uo-y",
      "metadata": {
        "colab": {
          "base_uri": "https://localhost:8080/"
        },
        "id": "q8JsZEX0uo-y",
        "outputId": "6915c444-8ed0-45bf-dafa-17d2d6956aa7"
      },
      "outputs": [
        {
          "name": "stdout",
          "output_type": "stream",
          "text": [
            "\u001b[1mThe balanced accuracy score for knn cluster centroids from actual vs. test predictions is 99.37%\u001b[0m\n"
          ]
        }
      ],
      "source": [
        "knn_cluster_centroids_predictions_nparray \\\n",
        "    = knn_cluster_centroids_model.predict(x_test_scaled_dataframe)\n",
        "\n",
        "knn_cluster_centroids_balanced_accuracy_score_float \\\n",
        "    = accuracy_score(y_test_series, knn_cluster_centroids_predictions_nparray) * 100\n",
        "\n",
        "logx.print_and_log_text \\\n",
        "    ('\\033[1m' \\\n",
        "     + 'The balanced accuracy score for knn cluster centroids from actual vs. test predictions is {:.2f}%' \\\n",
        "         .format(knn_cluster_centroids_balanced_accuracy_score_float) \\\n",
        "     + '\\033[0m')"
      ]
    },
    {
      "cell_type": "code",
      "execution_count": null,
      "id": "mQBpucbpuo-y",
      "metadata": {
        "colab": {
          "base_uri": "https://localhost:8080/"
        },
        "id": "mQBpucbpuo-y",
        "outputId": "0da3b566-1bb4-4a8f-eff3-8e626b7f597a"
      },
      "outputs": [
        {
          "name": "stdout",
          "output_type": "stream",
          "text": [
            "\u001b[1mKNN MODEL (Cluster Centroids)\n",
            "\u001b[0m\n",
            "1) \u001b[1mOverall Accuracy Score: \u001b[0m99.51%\n",
            "\n",
            "2) \u001b[1mConfusion Matrix:\n",
            "\u001b[0m\n",
            "                  Predicted Healthy  Predicted High-Risk\n",
            "Actual Healthy                18653                  121\n",
            "Actual High-Risk                  2                  608\n",
            "\n",
            "3) \u001b[1mClassification Report:\n",
            "\u001b[0m\n",
            "              precision    recall  f1-score   support\n",
            "\n",
            "     healthy       1.00      0.99      1.00     18774\n",
            "   high-risk       0.83      1.00      0.91       610\n",
            "\n",
            "    accuracy                           0.99     19384\n",
            "   macro avg       0.92      1.00      0.95     19384\n",
            "weighted avg       0.99      0.99      0.99     19384\n",
            "\n",
            "\n"
          ]
        }
      ],
      "source": [
        "knn_cluster_centroids_accuracy_score_float, \\\n",
        "knn_cluster_centroids_confusion_matrix_dataframe, \\\n",
        "knn_cluster_centroids_classification_report_string \\\n",
        "    = classificationsx.return_binary_classification_confusion_matrix \\\n",
        "        (y_test_series,\n",
        "         knn_cluster_centroids_predictions_nparray,\n",
        "         'KNN MODEL (Cluster Centroids)',\n",
        "         'Healthy', 'High-Risk')\n",
        "\n",
        "model_performance_dictionary['knn'] \\\n",
        "    .append(knn_cluster_centroids_accuracy_score_float * 100)\n",
        "\n",
        "model_performance_ranking_dictionary['knn_cluster_centroids'] \\\n",
        "    = knn_cluster_centroids_accuracy_score_float * 100"
      ]
    },
    {
      "cell_type": "markdown",
      "id": "Sr3Cc8iXuo-y",
      "metadata": {
        "id": "Sr3Cc8iXuo-y"
      },
      "source": [
        "### **SMOTE**"
      ]
    },
    {
      "cell_type": "code",
      "execution_count": null,
      "id": "DKFNBClkuo-y",
      "metadata": {
        "colab": {
          "base_uri": "https://localhost:8080/"
        },
        "id": "DKFNBClkuo-y",
        "outputId": "c291c874-25e2-40cd-b572-6063e8f0df9d"
      },
      "outputs": [
        {
          "data": {
            "text/plain": [
              "{'algorithm': 'auto',\n",
              " 'leaf_size': 2,\n",
              " 'metric': 'minkowski',\n",
              " 'metric_params': None,\n",
              " 'n_jobs': None,\n",
              " 'n_neighbors': 5,\n",
              " 'p': 2,\n",
              " 'weights': 'uniform'}"
            ]
          },
          "execution_count": 301,
          "metadata": {},
          "output_type": "execute_result"
        }
      ],
      "source": [
        "knn_SMOTE_model.get_params()"
      ]
    },
    {
      "cell_type": "code",
      "execution_count": null,
      "id": "oeW2C9RAuo-y",
      "metadata": {
        "colab": {
          "base_uri": "https://localhost:8080/"
        },
        "id": "oeW2C9RAuo-y",
        "outputId": "27380ac4-e41e-4ac0-9542-fc05c53098c3"
      },
      "outputs": [
        {
          "name": "stdout",
          "output_type": "stream",
          "text": [
            "\u001b[1mThe balanced accuracy score for knn SMOTE from actual vs. test predictions is 94.70%\u001b[0m\n"
          ]
        }
      ],
      "source": [
        "knn_SMOTE_predictions_nparray \\\n",
        "    = knn_SMOTE_model.predict(x_test_scaled_dataframe)\n",
        "\n",
        "knn_SMOTE_balanced_accuracy_score_float \\\n",
        "    = accuracy_score(y_test_series, knn_SMOTE_predictions_nparray) * 100\n",
        "\n",
        "logx.print_and_log_text \\\n",
        "    ('\\033[1m' \\\n",
        "     + 'The balanced accuracy score for knn SMOTE from actual vs. test predictions is {:.2f}%' \\\n",
        "         .format(knn_SMOTE_balanced_accuracy_score_float) \\\n",
        "     + '\\033[0m')"
      ]
    },
    {
      "cell_type": "code",
      "execution_count": null,
      "id": "5R9eLNMTuo-y",
      "metadata": {
        "colab": {
          "base_uri": "https://localhost:8080/"
        },
        "id": "5R9eLNMTuo-y",
        "outputId": "a5383cf5-de28-443e-ad2d-36ffe76cd4d5"
      },
      "outputs": [
        {
          "name": "stdout",
          "output_type": "stream",
          "text": [
            "\u001b[1mKNN MODEL (SMOTE)\n",
            "\u001b[0m\n",
            "1) \u001b[1mOverall Accuracy Score: \u001b[0m97.02%\n",
            "\n",
            "2) \u001b[1mConfusion Matrix:\n",
            "\u001b[0m\n",
            "                  Predicted Healthy  Predicted High-Risk\n",
            "Actual Healthy                17749                 1025\n",
            "Actual High-Risk                  3                  607\n",
            "\n",
            "3) \u001b[1mClassification Report:\n",
            "\u001b[0m\n",
            "              precision    recall  f1-score   support\n",
            "\n",
            "     healthy       1.00      0.95      0.97     18774\n",
            "   high-risk       0.37      1.00      0.54       610\n",
            "\n",
            "    accuracy                           0.95     19384\n",
            "   macro avg       0.69      0.97      0.76     19384\n",
            "weighted avg       0.98      0.95      0.96     19384\n",
            "\n",
            "\n"
          ]
        }
      ],
      "source": [
        "knn_SMOTE_accuracy_score_float, \\\n",
        "knn_SMOTE_confusion_matrix_dataframe, \\\n",
        "knn_SMOTE_classification_report_string \\\n",
        "    = classificationsx.return_binary_classification_confusion_matrix \\\n",
        "        (y_test_series,\n",
        "         knn_SMOTE_predictions_nparray,\n",
        "         'KNN MODEL (SMOTE)',\n",
        "         'Healthy', 'High-Risk')\n",
        "\n",
        "model_performance_dictionary['knn'] \\\n",
        "    .append(knn_SMOTE_accuracy_score_float * 100)\n",
        "\n",
        "model_performance_ranking_dictionary['knn_smote'] \\\n",
        "    = knn_SMOTE_accuracy_score_float * 100"
      ]
    },
    {
      "cell_type": "markdown",
      "id": "jCHZui9Puo-y",
      "metadata": {
        "id": "jCHZui9Puo-y"
      },
      "source": [
        "### **SMOTEENN**"
      ]
    },
    {
      "cell_type": "code",
      "execution_count": null,
      "id": "UEeSFKcpuo-y",
      "metadata": {
        "colab": {
          "base_uri": "https://localhost:8080/"
        },
        "id": "UEeSFKcpuo-y",
        "outputId": "9672e8a8-b509-4be3-c1bb-bfe95bd9034d"
      },
      "outputs": [
        {
          "data": {
            "text/plain": [
              "{'algorithm': 'auto',\n",
              " 'leaf_size': 2,\n",
              " 'metric': 'minkowski',\n",
              " 'metric_params': None,\n",
              " 'n_jobs': None,\n",
              " 'n_neighbors': 5,\n",
              " 'p': 2,\n",
              " 'weights': 'uniform'}"
            ]
          },
          "execution_count": 304,
          "metadata": {},
          "output_type": "execute_result"
        }
      ],
      "source": [
        "knn_SMOTEENN_model.get_params()"
      ]
    },
    {
      "cell_type": "code",
      "execution_count": null,
      "id": "nTi2yHeiuo-y",
      "metadata": {
        "colab": {
          "base_uri": "https://localhost:8080/"
        },
        "id": "nTi2yHeiuo-y",
        "outputId": "87ace73c-8254-49db-9b0b-0c7a9c3abd0c"
      },
      "outputs": [
        {
          "name": "stdout",
          "output_type": "stream",
          "text": [
            "\u001b[1mThe balanced accuracy score for knn SMOTEENN from actual vs. test predictions is 97.45%\u001b[0m\n"
          ]
        }
      ],
      "source": [
        "knn_SMOTEENN_predictions_nparray \\\n",
        "    = knn_SMOTEENN_model.predict(x_test_scaled_dataframe)\n",
        "\n",
        "knn_SMOTEENN_balanced_accuracy_score_float \\\n",
        "    = accuracy_score(y_test_series, knn_SMOTEENN_predictions_nparray) * 100\n",
        "\n",
        "logx.print_and_log_text \\\n",
        "    ('\\033[1m' \\\n",
        "     + 'The balanced accuracy score for knn SMOTEENN from actual vs. test predictions is {:.2f}%' \\\n",
        "         .format(knn_SMOTEENN_balanced_accuracy_score_float) \\\n",
        "     + '\\033[0m')"
      ]
    },
    {
      "cell_type": "code",
      "execution_count": null,
      "id": "1ab19Uavuo-z",
      "metadata": {
        "colab": {
          "base_uri": "https://localhost:8080/"
        },
        "id": "1ab19Uavuo-z",
        "outputId": "f813f230-adf5-4778-b884-6d7ad340ab41"
      },
      "outputs": [
        {
          "name": "stdout",
          "output_type": "stream",
          "text": [
            "\u001b[1mKNN MODEL (SMOTEENN)\n",
            "\u001b[0m\n",
            "1) \u001b[1mOverall Accuracy Score: \u001b[0m98.61%\n",
            "\n",
            "2) \u001b[1mConfusion Matrix:\n",
            "\u001b[0m\n",
            "                  Predicted Healthy  Predicted High-Risk\n",
            "Actual Healthy                18281                  493\n",
            "Actual High-Risk                  1                  609\n",
            "\n",
            "3) \u001b[1mClassification Report:\n",
            "\u001b[0m\n",
            "              precision    recall  f1-score   support\n",
            "\n",
            "     healthy       1.00      0.97      0.99     18774\n",
            "   high-risk       0.55      1.00      0.71       610\n",
            "\n",
            "    accuracy                           0.97     19384\n",
            "   macro avg       0.78      0.99      0.85     19384\n",
            "weighted avg       0.99      0.97      0.98     19384\n",
            "\n",
            "\n"
          ]
        }
      ],
      "source": [
        "knn_SMOTEENN_accuracy_score_float, \\\n",
        "knn_SMOTEENN_confusion_matrix_dataframe, \\\n",
        "knn_SMOTEENN_classification_report_string \\\n",
        "    = classificationsx.return_binary_classification_confusion_matrix \\\n",
        "        (y_test_series,\n",
        "         knn_SMOTEENN_predictions_nparray,\n",
        "         'KNN MODEL (SMOTEENN)',\n",
        "         'Healthy', 'High-Risk')\n",
        "\n",
        "model_performance_dictionary['knn'] \\\n",
        "    .append(knn_SMOTEENN_accuracy_score_float * 100)\n",
        "\n",
        "model_performance_ranking_dictionary['knn_smoteen'] \\\n",
        "    = knn_SMOTEENN_accuracy_score_float * 100"
      ]
    },
    {
      "cell_type": "markdown",
      "id": "5QAYUXiauo-z",
      "metadata": {
        "id": "5QAYUXiauo-z"
      },
      "source": [
        "## **9.6: Gaussian Naive Bayes (GNB)**"
      ]
    },
    {
      "cell_type": "markdown",
      "id": "PA-zm56Ouo-z",
      "metadata": {
        "id": "PA-zm56Ouo-z"
      },
      "source": [
        "### **Original**"
      ]
    },
    {
      "cell_type": "code",
      "execution_count": null,
      "id": "yuftVNT0uo-z",
      "metadata": {
        "colab": {
          "base_uri": "https://localhost:8080/"
        },
        "id": "yuftVNT0uo-z",
        "outputId": "97176f2d-a75c-4870-bf69-1bfa67a2b0cb"
      },
      "outputs": [
        {
          "data": {
            "text/plain": [
              "{'priors': None, 'var_smoothing': 1e-09}"
            ]
          },
          "execution_count": 307,
          "metadata": {},
          "output_type": "execute_result"
        }
      ],
      "source": [
        "gnb_model.get_params()"
      ]
    },
    {
      "cell_type": "code",
      "execution_count": null,
      "id": "yo_a7J9Luo-0",
      "metadata": {
        "colab": {
          "base_uri": "https://localhost:8080/"
        },
        "id": "yo_a7J9Luo-0",
        "outputId": "ed37975b-66ab-4cfd-fe41-77edf3991dec"
      },
      "outputs": [
        {
          "name": "stdout",
          "output_type": "stream",
          "text": [
            "\u001b[1mThe balanced accuracy score for GNB from actual vs. test predictions is 99.37%\u001b[0m\n"
          ]
        }
      ],
      "source": [
        "gnb_predictions_nparray = gnb_model.predict(x_test_scaled_dataframe)\n",
        "\n",
        "gnb_balanced_accuracy_score_float \\\n",
        "    = accuracy_score(y_test_series, gnb_predictions_nparray) * 100\n",
        "\n",
        "logx.print_and_log_text \\\n",
        "    ('\\033[1m' \\\n",
        "     + 'The balanced accuracy score for GNB from actual vs. test predictions is {:.2f}%' \\\n",
        "         .format(gnb_balanced_accuracy_score_float) \\\n",
        "     + '\\033[0m')"
      ]
    },
    {
      "cell_type": "code",
      "execution_count": null,
      "id": "Lf2X9dbquo-0",
      "metadata": {
        "colab": {
          "base_uri": "https://localhost:8080/"
        },
        "id": "Lf2X9dbquo-0",
        "outputId": "1b1c8c77-c0ef-4af7-bce7-1198ecad0498"
      },
      "outputs": [
        {
          "name": "stdout",
          "output_type": "stream",
          "text": [
            "\u001b[1mGNB MODEL\n",
            "\u001b[0m\n",
            "1) \u001b[1mOverall Accuracy Score: \u001b[0m99.51%\n",
            "\n",
            "2) \u001b[1mConfusion Matrix:\n",
            "\u001b[0m\n",
            "                  Predicted Healthy  Predicted High-Risk\n",
            "Actual Healthy                18653                  121\n",
            "Actual High-Risk                  2                  608\n",
            "\n",
            "3) \u001b[1mClassification Report:\n",
            "\u001b[0m\n",
            "              precision    recall  f1-score   support\n",
            "\n",
            "     healthy       1.00      0.99      1.00     18774\n",
            "   high-risk       0.83      1.00      0.91       610\n",
            "\n",
            "    accuracy                           0.99     19384\n",
            "   macro avg       0.92      1.00      0.95     19384\n",
            "weighted avg       0.99      0.99      0.99     19384\n",
            "\n",
            "\n"
          ]
        }
      ],
      "source": [
        "gnb_accuracy_score_float, \\\n",
        "gnb_confusion_matrix_dataframe, \\\n",
        "gnb_classification_report_string \\\n",
        "    = classificationsx.return_binary_classification_confusion_matrix \\\n",
        "        (y_test_series,\n",
        "         gnb_predictions_nparray,\n",
        "         'GNB MODEL',\n",
        "         'Healthy', 'High-Risk')\n",
        "\n",
        "model_performance_dictionary['gnb'] \\\n",
        "    = [gnb_accuracy_score_float * 100]\n",
        "\n",
        "model_performance_ranking_dictionary['gnb'] \\\n",
        "    = gnb_accuracy_score_float * 100"
      ]
    },
    {
      "cell_type": "markdown",
      "id": "mpkPf1w1uo-1",
      "metadata": {
        "id": "mpkPf1w1uo-1"
      },
      "source": [
        "### **Random Undersampling**"
      ]
    },
    {
      "cell_type": "code",
      "execution_count": null,
      "id": "4GbmtWDeuo-1",
      "metadata": {
        "colab": {
          "base_uri": "https://localhost:8080/"
        },
        "id": "4GbmtWDeuo-1",
        "outputId": "be2dfe06-236e-4b1e-d107-9a246f0fcb25"
      },
      "outputs": [
        {
          "data": {
            "text/plain": [
              "{'priors': None, 'var_smoothing': 1e-09}"
            ]
          },
          "execution_count": 310,
          "metadata": {},
          "output_type": "execute_result"
        }
      ],
      "source": [
        "gnb_undersampled_model.get_params()"
      ]
    },
    {
      "cell_type": "code",
      "execution_count": null,
      "id": "F9pGz3aouo-1",
      "metadata": {
        "colab": {
          "base_uri": "https://localhost:8080/"
        },
        "id": "F9pGz3aouo-1",
        "outputId": "a128711b-61f1-420d-b5b6-aff9b5144aa6"
      },
      "outputs": [
        {
          "name": "stdout",
          "output_type": "stream",
          "text": [
            "\u001b[1mThe balanced accuracy score for gnb undersampled from actual vs. test predictions is 99.37%\u001b[0m\n"
          ]
        }
      ],
      "source": [
        "gnb_undersampled_predictions_nparray \\\n",
        "    = gnb_undersampled_model.predict(x_test_scaled_dataframe)\n",
        "\n",
        "gnb_undersampled_balanced_accuracy_score_float \\\n",
        "    = accuracy_score(y_test_series, gnb_undersampled_predictions_nparray) * 100\n",
        "\n",
        "logx.print_and_log_text \\\n",
        "    ('\\033[1m' \\\n",
        "     + 'The balanced accuracy score for gnb undersampled from actual vs. test predictions is {:.2f}%' \\\n",
        "         .format(gnb_undersampled_balanced_accuracy_score_float) \\\n",
        "     + '\\033[0m')"
      ]
    },
    {
      "cell_type": "code",
      "execution_count": null,
      "id": "Kqn_xYzLuo-1",
      "metadata": {
        "colab": {
          "base_uri": "https://localhost:8080/"
        },
        "id": "Kqn_xYzLuo-1",
        "outputId": "eae850d0-3e55-46a8-988c-b14b9b69f795"
      },
      "outputs": [
        {
          "name": "stdout",
          "output_type": "stream",
          "text": [
            "\u001b[1mGNB MODEL (Undersampled)\n",
            "\u001b[0m\n",
            "1) \u001b[1mOverall Accuracy Score: \u001b[0m99.51%\n",
            "\n",
            "2) \u001b[1mConfusion Matrix:\n",
            "\u001b[0m\n",
            "                  Predicted Healthy  Predicted High-Risk\n",
            "Actual Healthy                18653                  121\n",
            "Actual High-Risk                  2                  608\n",
            "\n",
            "3) \u001b[1mClassification Report:\n",
            "\u001b[0m\n",
            "              precision    recall  f1-score   support\n",
            "\n",
            "     healthy       1.00      0.99      1.00     18774\n",
            "   high-risk       0.83      1.00      0.91       610\n",
            "\n",
            "    accuracy                           0.99     19384\n",
            "   macro avg       0.92      1.00      0.95     19384\n",
            "weighted avg       0.99      0.99      0.99     19384\n",
            "\n",
            "\n"
          ]
        }
      ],
      "source": [
        "gnb_undersampled_accuracy_score_float, \\\n",
        "gnb_undersampled_confusion_matrix_dataframe, \\\n",
        "gnb_undersampled_classification_report_string \\\n",
        "    = classificationsx.return_binary_classification_confusion_matrix \\\n",
        "        (y_test_series,\n",
        "         gnb_undersampled_predictions_nparray,\n",
        "         'GNB MODEL (Undersampled)',\n",
        "         'Healthy', 'High-Risk')\n",
        "\n",
        "model_performance_dictionary['gnb'] \\\n",
        "    .append(gnb_undersampled_accuracy_score_float * 100)\n",
        "\n",
        "model_performance_ranking_dictionary['gnb_undersampled'] \\\n",
        "    = gnb_undersampled_accuracy_score_float * 100"
      ]
    },
    {
      "cell_type": "markdown",
      "id": "Eo6sytB0uo-1",
      "metadata": {
        "id": "Eo6sytB0uo-1"
      },
      "source": [
        "### **Random Oversampling**"
      ]
    },
    {
      "cell_type": "code",
      "execution_count": null,
      "id": "2xp_9NRLuo-2",
      "metadata": {
        "colab": {
          "base_uri": "https://localhost:8080/"
        },
        "id": "2xp_9NRLuo-2",
        "outputId": "5d8f88df-210c-4ee5-bb0c-0a8299b81d36"
      },
      "outputs": [
        {
          "data": {
            "text/plain": [
              "{'priors': None, 'var_smoothing': 1e-09}"
            ]
          },
          "execution_count": 313,
          "metadata": {},
          "output_type": "execute_result"
        }
      ],
      "source": [
        "gnb_oversampled_model.get_params()"
      ]
    },
    {
      "cell_type": "code",
      "execution_count": null,
      "id": "K6KPxLD4uo-2",
      "metadata": {
        "colab": {
          "base_uri": "https://localhost:8080/"
        },
        "id": "K6KPxLD4uo-2",
        "outputId": "0fc3fd6f-02e2-4f2d-a834-4f8fc46702f5"
      },
      "outputs": [
        {
          "name": "stdout",
          "output_type": "stream",
          "text": [
            "\u001b[1mThe balanced accuracy score for gnb oversampled from actual vs. test predictions is 99.37%\u001b[0m\n"
          ]
        }
      ],
      "source": [
        "gnb_oversampled_predictions_nparray \\\n",
        "    = gnb_oversampled_model.predict(x_test_scaled_dataframe)\n",
        "\n",
        "gnb_oversampled_balanced_accuracy_score_float \\\n",
        "    = accuracy_score(y_test_series, gnb_oversampled_predictions_nparray) * 100\n",
        "\n",
        "logx.print_and_log_text \\\n",
        "    ('\\033[1m' \\\n",
        "     + 'The balanced accuracy score for gnb oversampled from actual vs. test predictions is {:.2f}%' \\\n",
        "         .format(gnb_oversampled_balanced_accuracy_score_float) \\\n",
        "     + '\\033[0m')"
      ]
    },
    {
      "cell_type": "code",
      "execution_count": null,
      "id": "lQiJXzKkuo-2",
      "metadata": {
        "colab": {
          "base_uri": "https://localhost:8080/"
        },
        "id": "lQiJXzKkuo-2",
        "outputId": "a44c75b9-5bbe-43bb-9bba-07ba919721d4"
      },
      "outputs": [
        {
          "name": "stdout",
          "output_type": "stream",
          "text": [
            "\u001b[1mGNB MODEL (Oversampled)\n",
            "\u001b[0m\n",
            "1) \u001b[1mOverall Accuracy Score: \u001b[0m99.51%\n",
            "\n",
            "2) \u001b[1mConfusion Matrix:\n",
            "\u001b[0m\n",
            "                  Predicted Healthy  Predicted High-Risk\n",
            "Actual Healthy                18653                  121\n",
            "Actual High-Risk                  2                  608\n",
            "\n",
            "3) \u001b[1mClassification Report:\n",
            "\u001b[0m\n",
            "              precision    recall  f1-score   support\n",
            "\n",
            "     healthy       1.00      0.99      1.00     18774\n",
            "   high-risk       0.83      1.00      0.91       610\n",
            "\n",
            "    accuracy                           0.99     19384\n",
            "   macro avg       0.92      1.00      0.95     19384\n",
            "weighted avg       0.99      0.99      0.99     19384\n",
            "\n",
            "\n"
          ]
        }
      ],
      "source": [
        "gnb_oversampled_accuracy_score_float, \\\n",
        "gnb_oversampled_confusion_matrix_dataframe, \\\n",
        "gnb_oversampled_classification_report_string \\\n",
        "    = classificationsx.return_binary_classification_confusion_matrix \\\n",
        "        (y_test_series,\n",
        "         gnb_oversampled_predictions_nparray,\n",
        "         'GNB MODEL (Oversampled)',\n",
        "         'Healthy', 'High-Risk')\n",
        "\n",
        "model_performance_dictionary['gnb'] \\\n",
        "    .append(gnb_oversampled_accuracy_score_float * 100)\n",
        "\n",
        "model_performance_ranking_dictionary['gnb_oversampled'] \\\n",
        "    = gnb_oversampled_accuracy_score_float * 100"
      ]
    },
    {
      "cell_type": "markdown",
      "id": "cace2FF4uo-2",
      "metadata": {
        "id": "cace2FF4uo-2"
      },
      "source": [
        "### **Cluster Centroids**"
      ]
    },
    {
      "cell_type": "code",
      "execution_count": null,
      "id": "9vZ7MOsxuo-2",
      "metadata": {
        "colab": {
          "base_uri": "https://localhost:8080/"
        },
        "id": "9vZ7MOsxuo-2",
        "outputId": "1e366c7e-50ad-49fc-b6d5-c187d2508c64"
      },
      "outputs": [
        {
          "data": {
            "text/plain": [
              "{'priors': None, 'var_smoothing': 1e-09}"
            ]
          },
          "execution_count": 316,
          "metadata": {},
          "output_type": "execute_result"
        }
      ],
      "source": [
        "gnb_cluster_centroids_model.get_params()"
      ]
    },
    {
      "cell_type": "code",
      "execution_count": null,
      "id": "d6UQRJyHuo-2",
      "metadata": {
        "colab": {
          "base_uri": "https://localhost:8080/"
        },
        "id": "d6UQRJyHuo-2",
        "outputId": "f5ec06ab-092b-47da-c23d-40235d4ee2aa"
      },
      "outputs": [
        {
          "name": "stdout",
          "output_type": "stream",
          "text": [
            "\u001b[1mThe balanced accuracy score for knn cluster centroids from actual vs. test predictions is 99.33%\u001b[0m\n"
          ]
        }
      ],
      "source": [
        "gnb_cluster_centroids_predictions_nparray \\\n",
        "    = gnb_cluster_centroids_model.predict(x_test_scaled_dataframe)\n",
        "\n",
        "gnb_cluster_centroids_balanced_accuracy_score_float \\\n",
        "    = accuracy_score(y_test_series, gnb_cluster_centroids_predictions_nparray) * 100\n",
        "\n",
        "logx.print_and_log_text \\\n",
        "    ('\\033[1m' \\\n",
        "     + 'The balanced accuracy score for knn cluster centroids from actual vs. test predictions is {:.2f}%' \\\n",
        "         .format(gnb_cluster_centroids_balanced_accuracy_score_float) \\\n",
        "     + '\\033[0m')"
      ]
    },
    {
      "cell_type": "code",
      "execution_count": null,
      "id": "n-wRG9s1uo-3",
      "metadata": {
        "colab": {
          "base_uri": "https://localhost:8080/"
        },
        "id": "n-wRG9s1uo-3",
        "outputId": "c1bd4a4e-9ff1-414b-cbb6-98fa4fff2a37"
      },
      "outputs": [
        {
          "name": "stdout",
          "output_type": "stream",
          "text": [
            "\u001b[1mGNB MODEL (Cluster Centroids)\n",
            "\u001b[0m\n",
            "1) \u001b[1mOverall Accuracy Score: \u001b[0m98.7%\n",
            "\n",
            "2) \u001b[1mConfusion Matrix:\n",
            "\u001b[0m\n",
            "                  Predicted Healthy  Predicted High-Risk\n",
            "Actual Healthy                18656                  118\n",
            "Actual High-Risk                 12                  598\n",
            "\n",
            "3) \u001b[1mClassification Report:\n",
            "\u001b[0m\n",
            "              precision    recall  f1-score   support\n",
            "\n",
            "     healthy       1.00      0.99      1.00     18774\n",
            "   high-risk       0.84      0.98      0.90       610\n",
            "\n",
            "    accuracy                           0.99     19384\n",
            "   macro avg       0.92      0.99      0.95     19384\n",
            "weighted avg       0.99      0.99      0.99     19384\n",
            "\n",
            "\n"
          ]
        }
      ],
      "source": [
        "gnb_cluster_centroids_accuracy_score_float, \\\n",
        "gnb_cluster_centroids_confusion_matrix_dataframe, \\\n",
        "gnb_cluster_centroids_classification_report_string \\\n",
        "    = classificationsx.return_binary_classification_confusion_matrix \\\n",
        "        (y_test_series,\n",
        "         gnb_cluster_centroids_predictions_nparray,\n",
        "         'GNB MODEL (Cluster Centroids)',\n",
        "         'Healthy', 'High-Risk')\n",
        "\n",
        "model_performance_dictionary['gnb'] \\\n",
        "    .append(gnb_cluster_centroids_accuracy_score_float * 100)\n",
        "\n",
        "model_performance_ranking_dictionary['gnb_cluster_centroids'] \\\n",
        "    = gnb_cluster_centroids_accuracy_score_float * 100"
      ]
    },
    {
      "cell_type": "markdown",
      "id": "sOGnTJcluo-3",
      "metadata": {
        "id": "sOGnTJcluo-3"
      },
      "source": [
        "### **SMOTE**"
      ]
    },
    {
      "cell_type": "code",
      "execution_count": null,
      "id": "pDkDWOhWuo-3",
      "metadata": {
        "colab": {
          "base_uri": "https://localhost:8080/"
        },
        "id": "pDkDWOhWuo-3",
        "outputId": "40dd094b-d197-49f6-efe4-76151760eeb0"
      },
      "outputs": [
        {
          "data": {
            "text/plain": [
              "{'priors': None, 'var_smoothing': 1e-09}"
            ]
          },
          "execution_count": 319,
          "metadata": {},
          "output_type": "execute_result"
        }
      ],
      "source": [
        "gnb_SMOTE_model.get_params()"
      ]
    },
    {
      "cell_type": "code",
      "execution_count": null,
      "id": "HDNazv7wuo-3",
      "metadata": {
        "colab": {
          "base_uri": "https://localhost:8080/"
        },
        "id": "HDNazv7wuo-3",
        "outputId": "678ea221-f2ca-42c0-9fb4-65cb231b5bc0"
      },
      "outputs": [
        {
          "name": "stdout",
          "output_type": "stream",
          "text": [
            "\u001b[1mThe balanced accuracy score for gnb SMOTE from actual vs. test predictions is 99.37%\u001b[0m\n"
          ]
        }
      ],
      "source": [
        "gnb_SMOTE_predictions_nparray \\\n",
        "    = gnb_SMOTE_model.predict(x_test_scaled_dataframe)\n",
        "\n",
        "gnb_SMOTE_balanced_accuracy_score_float \\\n",
        "    = accuracy_score(y_test_series, gnb_SMOTE_predictions_nparray) * 100\n",
        "\n",
        "logx.print_and_log_text \\\n",
        "    ('\\033[1m' \\\n",
        "     + 'The balanced accuracy score for gnb SMOTE from actual vs. test predictions is {:.2f}%' \\\n",
        "         .format(gnb_SMOTE_balanced_accuracy_score_float) \\\n",
        "     + '\\033[0m')"
      ]
    },
    {
      "cell_type": "code",
      "execution_count": null,
      "id": "j-9ufOe2uo-3",
      "metadata": {
        "colab": {
          "base_uri": "https://localhost:8080/"
        },
        "id": "j-9ufOe2uo-3",
        "outputId": "4bb74c31-55f7-4aa9-d6bf-869038da413b"
      },
      "outputs": [
        {
          "name": "stdout",
          "output_type": "stream",
          "text": [
            "\u001b[1mGNB MODEL (SMOTE)\n",
            "\u001b[0m\n",
            "1) \u001b[1mOverall Accuracy Score: \u001b[0m99.51%\n",
            "\n",
            "2) \u001b[1mConfusion Matrix:\n",
            "\u001b[0m\n",
            "                  Predicted Healthy  Predicted High-Risk\n",
            "Actual Healthy                18653                  121\n",
            "Actual High-Risk                  2                  608\n",
            "\n",
            "3) \u001b[1mClassification Report:\n",
            "\u001b[0m\n",
            "              precision    recall  f1-score   support\n",
            "\n",
            "     healthy       1.00      0.99      1.00     18774\n",
            "   high-risk       0.83      1.00      0.91       610\n",
            "\n",
            "    accuracy                           0.99     19384\n",
            "   macro avg       0.92      1.00      0.95     19384\n",
            "weighted avg       0.99      0.99      0.99     19384\n",
            "\n",
            "\n"
          ]
        }
      ],
      "source": [
        "gnb_SMOTE_accuracy_score_float, \\\n",
        "gnb_SMOTE_confusion_matrix_dataframe, \\\n",
        "gnb_SMOTE_classification_report_string \\\n",
        "    = classificationsx.return_binary_classification_confusion_matrix \\\n",
        "        (y_test_series,\n",
        "         gnb_SMOTE_predictions_nparray,\n",
        "         'GNB MODEL (SMOTE)',\n",
        "         'Healthy', 'High-Risk')\n",
        "\n",
        "model_performance_dictionary['gnb'] \\\n",
        "    .append(gnb_SMOTE_accuracy_score_float * 100)\n",
        "\n",
        "model_performance_ranking_dictionary['gnb_smote'] \\\n",
        "    = gnb_SMOTE_accuracy_score_float * 100"
      ]
    },
    {
      "cell_type": "markdown",
      "id": "fLuM-I8nuo-3",
      "metadata": {
        "id": "fLuM-I8nuo-3"
      },
      "source": [
        "### **SMOTEENN**"
      ]
    },
    {
      "cell_type": "code",
      "execution_count": null,
      "id": "5kVSZoaWuo-3",
      "metadata": {
        "colab": {
          "base_uri": "https://localhost:8080/"
        },
        "id": "5kVSZoaWuo-3",
        "outputId": "1b591092-ff82-48fa-8bb9-c1ab2e856034"
      },
      "outputs": [
        {
          "data": {
            "text/plain": [
              "{'priors': None, 'var_smoothing': 1e-09}"
            ]
          },
          "execution_count": 322,
          "metadata": {},
          "output_type": "execute_result"
        }
      ],
      "source": [
        "gnb_SMOTEENN_model.get_params()"
      ]
    },
    {
      "cell_type": "code",
      "execution_count": null,
      "id": "7FSw2Uaiuo-3",
      "metadata": {
        "colab": {
          "base_uri": "https://localhost:8080/"
        },
        "id": "7FSw2Uaiuo-3",
        "outputId": "3f978889-503c-43ba-929a-950d7d034f7f"
      },
      "outputs": [
        {
          "name": "stdout",
          "output_type": "stream",
          "text": [
            "\u001b[1mThe balanced accuracy score for gnb SMOTEENN from actual vs. test predictions is 99.36%\u001b[0m\n"
          ]
        }
      ],
      "source": [
        "gnb_SMOTEENN_predictions_nparray \\\n",
        "    = gnb_SMOTEENN_model.predict(x_test_scaled_dataframe)\n",
        "\n",
        "gnb_SMOTEENN_balanced_accuracy_score_float \\\n",
        "    = accuracy_score(y_test_series, gnb_SMOTEENN_predictions_nparray) * 100\n",
        "\n",
        "logx.print_and_log_text \\\n",
        "    ('\\033[1m' \\\n",
        "     + 'The balanced accuracy score for gnb SMOTEENN from actual vs. test predictions is {:.2f}%' \\\n",
        "         .format(gnb_SMOTEENN_balanced_accuracy_score_float) \\\n",
        "     + '\\033[0m')"
      ]
    },
    {
      "cell_type": "code",
      "execution_count": null,
      "id": "Gu7qy10Ouo-3",
      "metadata": {
        "colab": {
          "base_uri": "https://localhost:8080/"
        },
        "id": "Gu7qy10Ouo-3",
        "outputId": "febc8548-73d6-4490-fac1-171d1b02c235"
      },
      "outputs": [
        {
          "name": "stdout",
          "output_type": "stream",
          "text": [
            "\u001b[1mGNB MODEL (SMOTEENN)\n",
            "\u001b[0m\n",
            "1) \u001b[1mOverall Accuracy Score: \u001b[0m99.51%\n",
            "\n",
            "2) \u001b[1mConfusion Matrix:\n",
            "\u001b[0m\n",
            "                  Predicted Healthy  Predicted High-Risk\n",
            "Actual Healthy                18651                  123\n",
            "Actual High-Risk                  2                  608\n",
            "\n",
            "3) \u001b[1mClassification Report:\n",
            "\u001b[0m\n",
            "              precision    recall  f1-score   support\n",
            "\n",
            "     healthy       1.00      0.99      1.00     18774\n",
            "   high-risk       0.83      1.00      0.91       610\n",
            "\n",
            "    accuracy                           0.99     19384\n",
            "   macro avg       0.92      1.00      0.95     19384\n",
            "weighted avg       0.99      0.99      0.99     19384\n",
            "\n",
            "\n"
          ]
        }
      ],
      "source": [
        "gnb_SMOTEENN_accuracy_score_float, \\\n",
        "gnb_SMOTEENN_confusion_matrix_dataframe, \\\n",
        "gnb_SMOTEENN_classification_report_string \\\n",
        "    = classificationsx.return_binary_classification_confusion_matrix \\\n",
        "        (y_test_series,\n",
        "         gnb_SMOTEENN_predictions_nparray,\n",
        "         'GNB MODEL (SMOTEENN)',\n",
        "         'Healthy', 'High-Risk')\n",
        "\n",
        "model_performance_dictionary['gnb'] \\\n",
        "    .append(gnb_SMOTEENN_accuracy_score_float * 100)\n",
        "\n",
        "model_performance_ranking_dictionary['gnb_smoteen'] \\\n",
        "    = gnb_SMOTEENN_accuracy_score_float * 100"
      ]
    },
    {
      "cell_type": "markdown",
      "id": "nq4IcFoluo-7",
      "metadata": {
        "id": "nq4IcFoluo-7"
      },
      "source": [
        "## **9.7: Model Performance Results**"
      ]
    },
    {
      "cell_type": "markdown",
      "id": "664iBCcLuo-7",
      "metadata": {
        "id": "664iBCcLuo-7"
      },
      "source": [
        "### **Performance Matrix**"
      ]
    },
    {
      "cell_type": "code",
      "execution_count": null,
      "id": "Zum47MCBuo-7",
      "metadata": {
        "id": "Zum47MCBuo-7"
      },
      "outputs": [],
      "source": [
        "index_string_list \\\n",
        "    = ['original', 'undersampled', 'oversampled', 'cluster centroids', 'smote', 'smoteen']\n",
        "\n",
        "model_performace_dataframe \\\n",
        "    = pd.DataFrame.from_dict \\\n",
        "        (model_performance_dictionary, orient = 'index').transpose()\n",
        "\n",
        "model_performace_dataframe['resampling_method'] = index_string_list\n",
        "\n",
        "model_performace_dataframe.set_index('resampling_method', drop = True, inplace = True)\n",
        "\n",
        "logx.log_write_object(model_performace_dataframe)"
      ]
    },
    {
      "cell_type": "code",
      "execution_count": null,
      "id": "aZ-MheN2uo-7",
      "metadata": {
        "colab": {
          "base_uri": "https://localhost:8080/",
          "height": 300
        },
        "id": "aZ-MheN2uo-7",
        "outputId": "944cbfb3-3049-4d8c-9e5d-24bcf590c104"
      },
      "outputs": [
        {
          "data": {
            "text/html": [
              "<style type=\"text/css\">\n",
              "#T_2b871 caption {\n",
              "  color: black;\n",
              "  font-size: 20px;\n",
              "  font-style: bold;\n",
              "  text-align: center;\n",
              "}\n",
              "#T_2b871_row0_col0, #T_2b871_row0_col1, #T_2b871_row0_col2, #T_2b871_row0_col3, #T_2b871_row0_col4, #T_2b871_row0_col5, #T_2b871_row1_col0, #T_2b871_row1_col1, #T_2b871_row1_col2, #T_2b871_row1_col3, #T_2b871_row1_col4, #T_2b871_row1_col5, #T_2b871_row2_col0, #T_2b871_row2_col1, #T_2b871_row2_col2, #T_2b871_row2_col3, #T_2b871_row2_col4, #T_2b871_row2_col5, #T_2b871_row3_col0, #T_2b871_row3_col1, #T_2b871_row3_col2, #T_2b871_row3_col3, #T_2b871_row3_col4, #T_2b871_row3_col5, #T_2b871_row4_col0, #T_2b871_row4_col1, #T_2b871_row4_col2, #T_2b871_row4_col3, #T_2b871_row4_col4, #T_2b871_row4_col5, #T_2b871_row5_col0, #T_2b871_row5_col1, #T_2b871_row5_col2, #T_2b871_row5_col3, #T_2b871_row5_col4, #T_2b871_row5_col5 {\n",
              "  text-align: center;\n",
              "  border: 1.3px solid red;\n",
              "  color: blue;\n",
              "}\n",
              "</style>\n",
              "<table id=\"T_2b871\" class=\"dataframe\">\n",
              "  <caption>Table 9.7.1: Model Performance Matrix</caption>\n",
              "  <thead>\n",
              "    <tr>\n",
              "      <th class=\"blank level0\" >&nbsp;</th>\n",
              "      <th id=\"T_2b871_level0_col0\" class=\"col_heading level0 col0\" >logistic_regression</th>\n",
              "      <th id=\"T_2b871_level0_col1\" class=\"col_heading level0 col1\" >decision_tree</th>\n",
              "      <th id=\"T_2b871_level0_col2\" class=\"col_heading level0 col2\" >random_forest</th>\n",
              "      <th id=\"T_2b871_level0_col3\" class=\"col_heading level0 col3\" >svm</th>\n",
              "      <th id=\"T_2b871_level0_col4\" class=\"col_heading level0 col4\" >knn</th>\n",
              "      <th id=\"T_2b871_level0_col5\" class=\"col_heading level0 col5\" >gnb</th>\n",
              "    </tr>\n",
              "    <tr>\n",
              "      <th class=\"index_name level0\" >resampling_method</th>\n",
              "      <th class=\"blank col0\" >&nbsp;</th>\n",
              "      <th class=\"blank col1\" >&nbsp;</th>\n",
              "      <th class=\"blank col2\" >&nbsp;</th>\n",
              "      <th class=\"blank col3\" >&nbsp;</th>\n",
              "      <th class=\"blank col4\" >&nbsp;</th>\n",
              "      <th class=\"blank col5\" >&nbsp;</th>\n",
              "    </tr>\n",
              "  </thead>\n",
              "  <tbody>\n",
              "    <tr>\n",
              "      <th id=\"T_2b871_level0_row0\" class=\"row_heading level0 row0\" >original</th>\n",
              "      <td id=\"T_2b871_row0_col0\" class=\"data row0 col0\" >98.7%</td>\n",
              "      <td id=\"T_2b871_row0_col1\" class=\"data row0 col1\" >92.1%</td>\n",
              "      <td id=\"T_2b871_row0_col2\" class=\"data row0 col2\" >97.6%</td>\n",
              "      <td id=\"T_2b871_row0_col3\" class=\"data row0 col3\" >99.5%</td>\n",
              "      <td id=\"T_2b871_row0_col4\" class=\"data row0 col4\" >98.1%</td>\n",
              "      <td id=\"T_2b871_row0_col5\" class=\"data row0 col5\" >99.5%</td>\n",
              "    </tr>\n",
              "    <tr>\n",
              "      <th id=\"T_2b871_level0_row1\" class=\"row_heading level0 row1\" >undersampled</th>\n",
              "      <td id=\"T_2b871_row1_col0\" class=\"data row1 col0\" >99.5%</td>\n",
              "      <td id=\"T_2b871_row1_col1\" class=\"data row1 col1\" >99.0%</td>\n",
              "      <td id=\"T_2b871_row1_col2\" class=\"data row1 col2\" >99.5%</td>\n",
              "      <td id=\"T_2b871_row1_col3\" class=\"data row1 col3\" >99.5%</td>\n",
              "      <td id=\"T_2b871_row1_col4\" class=\"data row1 col4\" >99.5%</td>\n",
              "      <td id=\"T_2b871_row1_col5\" class=\"data row1 col5\" >99.5%</td>\n",
              "    </tr>\n",
              "    <tr>\n",
              "      <th id=\"T_2b871_level0_row2\" class=\"row_heading level0 row2\" >oversampled</th>\n",
              "      <td id=\"T_2b871_row2_col0\" class=\"data row2 col0\" >99.5%</td>\n",
              "      <td id=\"T_2b871_row2_col1\" class=\"data row2 col1\" >93.4%</td>\n",
              "      <td id=\"T_2b871_row2_col2\" class=\"data row2 col2\" >98.2%</td>\n",
              "      <td id=\"T_2b871_row2_col3\" class=\"data row2 col3\" >99.5%</td>\n",
              "      <td id=\"T_2b871_row2_col4\" class=\"data row2 col4\" >99.3%</td>\n",
              "      <td id=\"T_2b871_row2_col5\" class=\"data row2 col5\" >99.5%</td>\n",
              "    </tr>\n",
              "    <tr>\n",
              "      <th id=\"T_2b871_level0_row3\" class=\"row_heading level0 row3\" >cluster centroids</th>\n",
              "      <td id=\"T_2b871_row3_col0\" class=\"data row3 col0\" >99.5%</td>\n",
              "      <td id=\"T_2b871_row3_col1\" class=\"data row3 col1\" >93.9%</td>\n",
              "      <td id=\"T_2b871_row3_col2\" class=\"data row3 col2\" >98.0%</td>\n",
              "      <td id=\"T_2b871_row3_col3\" class=\"data row3 col3\" >98.7%</td>\n",
              "      <td id=\"T_2b871_row3_col4\" class=\"data row3 col4\" >99.5%</td>\n",
              "      <td id=\"T_2b871_row3_col5\" class=\"data row3 col5\" >98.7%</td>\n",
              "    </tr>\n",
              "    <tr>\n",
              "      <th id=\"T_2b871_level0_row4\" class=\"row_heading level0 row4\" >smote</th>\n",
              "      <td id=\"T_2b871_row4_col0\" class=\"data row4 col0\" >99.5%</td>\n",
              "      <td id=\"T_2b871_row4_col1\" class=\"data row4 col1\" >72.7%</td>\n",
              "      <td id=\"T_2b871_row4_col2\" class=\"data row4 col2\" >86.5%</td>\n",
              "      <td id=\"T_2b871_row4_col3\" class=\"data row4 col3\" >99.5%</td>\n",
              "      <td id=\"T_2b871_row4_col4\" class=\"data row4 col4\" >97.0%</td>\n",
              "      <td id=\"T_2b871_row4_col5\" class=\"data row4 col5\" >99.5%</td>\n",
              "    </tr>\n",
              "    <tr>\n",
              "      <th id=\"T_2b871_level0_row5\" class=\"row_heading level0 row5\" >smoteen</th>\n",
              "      <td id=\"T_2b871_row5_col0\" class=\"data row5 col0\" >99.5%</td>\n",
              "      <td id=\"T_2b871_row5_col1\" class=\"data row5 col1\" >93.7%</td>\n",
              "      <td id=\"T_2b871_row5_col2\" class=\"data row5 col2\" >94.9%</td>\n",
              "      <td id=\"T_2b871_row5_col3\" class=\"data row5 col3\" >99.5%</td>\n",
              "      <td id=\"T_2b871_row5_col4\" class=\"data row5 col4\" >98.6%</td>\n",
              "      <td id=\"T_2b871_row5_col5\" class=\"data row5 col5\" >99.5%</td>\n",
              "    </tr>\n",
              "  </tbody>\n",
              "</table>\n"
            ],
            "text/plain": [
              "<pandas.io.formats.style.Styler at 0x7c62dd9278b0>"
            ]
          },
          "execution_count": 326,
          "metadata": {},
          "output_type": "execute_result"
        }
      ],
      "source": [
        "pandasx.return_formatted_table \\\n",
        "    (model_performace_dataframe,\n",
        "     'Table 9.7.1: Model Performance Matrix',\n",
        "     line_count_integer = 36,\n",
        "     hide_index_boolean = False) \\\n",
        "        .format('{:,.1f}%')"
      ]
    },
    {
      "cell_type": "markdown",
      "id": "XrB70bHpuo-7",
      "metadata": {
        "id": "XrB70bHpuo-7"
      },
      "source": [
        "### **Performance Ranking**"
      ]
    },
    {
      "cell_type": "code",
      "execution_count": null,
      "id": "xnkBuErPuo-7",
      "metadata": {
        "id": "xnkBuErPuo-7"
      },
      "outputs": [],
      "source": [
        "temp_dictionary \\\n",
        "    = dict(sorted(model_performance_ranking_dictionary.items(), key = lambda x: x[1], reverse = True))\n",
        "\n",
        "model_performace_rankings_dataframe \\\n",
        "    = pd.DataFrame.from_dict \\\n",
        "        (temp_dictionary, orient = 'index', columns = ['accuracy'])\n",
        "\n",
        "model_performace_rankings_dataframe.index.name = 'model'\n",
        "\n",
        "logx.log_write_object(model_performace_rankings_dataframe)"
      ]
    },
    {
      "cell_type": "code",
      "execution_count": null,
      "id": "9yDo2bXJuo-8",
      "metadata": {
        "colab": {
          "base_uri": "https://localhost:8080/",
          "height": 1000
        },
        "id": "9yDo2bXJuo-8",
        "outputId": "ab0653f9-3bba-47c3-ada0-eff38e9926a0"
      },
      "outputs": [
        {
          "data": {
            "text/html": [
              "<style type=\"text/css\">\n",
              "#T_7cc7d caption {\n",
              "  color: black;\n",
              "  font-size: 20px;\n",
              "  font-style: bold;\n",
              "  text-align: center;\n",
              "}\n",
              "#T_7cc7d_row0_col0, #T_7cc7d_row1_col0, #T_7cc7d_row2_col0, #T_7cc7d_row3_col0, #T_7cc7d_row4_col0, #T_7cc7d_row5_col0, #T_7cc7d_row6_col0, #T_7cc7d_row7_col0, #T_7cc7d_row8_col0, #T_7cc7d_row9_col0, #T_7cc7d_row10_col0, #T_7cc7d_row11_col0, #T_7cc7d_row12_col0, #T_7cc7d_row13_col0, #T_7cc7d_row14_col0, #T_7cc7d_row15_col0, #T_7cc7d_row16_col0, #T_7cc7d_row17_col0, #T_7cc7d_row18_col0, #T_7cc7d_row19_col0, #T_7cc7d_row20_col0, #T_7cc7d_row21_col0, #T_7cc7d_row22_col0, #T_7cc7d_row23_col0, #T_7cc7d_row24_col0, #T_7cc7d_row25_col0, #T_7cc7d_row26_col0, #T_7cc7d_row27_col0, #T_7cc7d_row28_col0, #T_7cc7d_row29_col0, #T_7cc7d_row30_col0, #T_7cc7d_row31_col0, #T_7cc7d_row32_col0, #T_7cc7d_row33_col0, #T_7cc7d_row34_col0, #T_7cc7d_row35_col0 {\n",
              "  text-align: center;\n",
              "  border: 1.3px solid red;\n",
              "  color: blue;\n",
              "}\n",
              "</style>\n",
              "<table id=\"T_7cc7d\" class=\"dataframe\">\n",
              "  <caption>Table 9.7.2: Model Performance Rankings</caption>\n",
              "  <thead>\n",
              "    <tr>\n",
              "      <th class=\"blank level0\" >&nbsp;</th>\n",
              "      <th id=\"T_7cc7d_level0_col0\" class=\"col_heading level0 col0\" >accuracy</th>\n",
              "    </tr>\n",
              "    <tr>\n",
              "      <th class=\"index_name level0\" >model</th>\n",
              "      <th class=\"blank col0\" >&nbsp;</th>\n",
              "    </tr>\n",
              "  </thead>\n",
              "  <tbody>\n",
              "    <tr>\n",
              "      <th id=\"T_7cc7d_level0_row0\" class=\"row_heading level0 row0\" >logistic_regression_cluster_centroids</th>\n",
              "      <td id=\"T_7cc7d_row0_col0\" class=\"data row0 col0\" >99.5%</td>\n",
              "    </tr>\n",
              "    <tr>\n",
              "      <th id=\"T_7cc7d_level0_row1\" class=\"row_heading level0 row1\" >svm</th>\n",
              "      <td id=\"T_7cc7d_row1_col0\" class=\"data row1 col0\" >99.5%</td>\n",
              "    </tr>\n",
              "    <tr>\n",
              "      <th id=\"T_7cc7d_level0_row2\" class=\"row_heading level0 row2\" >knn_cluster_centroids</th>\n",
              "      <td id=\"T_7cc7d_row2_col0\" class=\"data row2 col0\" >99.5%</td>\n",
              "    </tr>\n",
              "    <tr>\n",
              "      <th id=\"T_7cc7d_level0_row3\" class=\"row_heading level0 row3\" >gnb</th>\n",
              "      <td id=\"T_7cc7d_row3_col0\" class=\"data row3 col0\" >99.5%</td>\n",
              "    </tr>\n",
              "    <tr>\n",
              "      <th id=\"T_7cc7d_level0_row4\" class=\"row_heading level0 row4\" >gnb_undersampled</th>\n",
              "      <td id=\"T_7cc7d_row4_col0\" class=\"data row4 col0\" >99.5%</td>\n",
              "    </tr>\n",
              "    <tr>\n",
              "      <th id=\"T_7cc7d_level0_row5\" class=\"row_heading level0 row5\" >gnb_oversampled</th>\n",
              "      <td id=\"T_7cc7d_row5_col0\" class=\"data row5 col0\" >99.5%</td>\n",
              "    </tr>\n",
              "    <tr>\n",
              "      <th id=\"T_7cc7d_level0_row6\" class=\"row_heading level0 row6\" >gnb_smote</th>\n",
              "      <td id=\"T_7cc7d_row6_col0\" class=\"data row6 col0\" >99.5%</td>\n",
              "    </tr>\n",
              "    <tr>\n",
              "      <th id=\"T_7cc7d_level0_row7\" class=\"row_heading level0 row7\" >svm_smoteen</th>\n",
              "      <td id=\"T_7cc7d_row7_col0\" class=\"data row7 col0\" >99.5%</td>\n",
              "    </tr>\n",
              "    <tr>\n",
              "      <th id=\"T_7cc7d_level0_row8\" class=\"row_heading level0 row8\" >gnb_smoteen</th>\n",
              "      <td id=\"T_7cc7d_row8_col0\" class=\"data row8 col0\" >99.5%</td>\n",
              "    </tr>\n",
              "    <tr>\n",
              "      <th id=\"T_7cc7d_level0_row9\" class=\"row_heading level0 row9\" >svm_undersampled</th>\n",
              "      <td id=\"T_7cc7d_row9_col0\" class=\"data row9 col0\" >99.5%</td>\n",
              "    </tr>\n",
              "    <tr>\n",
              "      <th id=\"T_7cc7d_level0_row10\" class=\"row_heading level0 row10\" >knn_undersampled</th>\n",
              "      <td id=\"T_7cc7d_row10_col0\" class=\"data row10 col0\" >99.5%</td>\n",
              "    </tr>\n",
              "    <tr>\n",
              "      <th id=\"T_7cc7d_level0_row11\" class=\"row_heading level0 row11\" >logistic_regression_undersampled</th>\n",
              "      <td id=\"T_7cc7d_row11_col0\" class=\"data row11 col0\" >99.5%</td>\n",
              "    </tr>\n",
              "    <tr>\n",
              "      <th id=\"T_7cc7d_level0_row12\" class=\"row_heading level0 row12\" >svm_oversampled</th>\n",
              "      <td id=\"T_7cc7d_row12_col0\" class=\"data row12 col0\" >99.5%</td>\n",
              "    </tr>\n",
              "    <tr>\n",
              "      <th id=\"T_7cc7d_level0_row13\" class=\"row_heading level0 row13\" >svm_smote</th>\n",
              "      <td id=\"T_7cc7d_row13_col0\" class=\"data row13 col0\" >99.5%</td>\n",
              "    </tr>\n",
              "    <tr>\n",
              "      <th id=\"T_7cc7d_level0_row14\" class=\"row_heading level0 row14\" >logistic_regression_oversampled</th>\n",
              "      <td id=\"T_7cc7d_row14_col0\" class=\"data row14 col0\" >99.5%</td>\n",
              "    </tr>\n",
              "    <tr>\n",
              "      <th id=\"T_7cc7d_level0_row15\" class=\"row_heading level0 row15\" >logistic_regression_smote</th>\n",
              "      <td id=\"T_7cc7d_row15_col0\" class=\"data row15 col0\" >99.5%</td>\n",
              "    </tr>\n",
              "    <tr>\n",
              "      <th id=\"T_7cc7d_level0_row16\" class=\"row_heading level0 row16\" >logistic_regression_smoteen</th>\n",
              "      <td id=\"T_7cc7d_row16_col0\" class=\"data row16 col0\" >99.5%</td>\n",
              "    </tr>\n",
              "    <tr>\n",
              "      <th id=\"T_7cc7d_level0_row17\" class=\"row_heading level0 row17\" >random_forest_undersampled</th>\n",
              "      <td id=\"T_7cc7d_row17_col0\" class=\"data row17 col0\" >99.5%</td>\n",
              "    </tr>\n",
              "    <tr>\n",
              "      <th id=\"T_7cc7d_level0_row18\" class=\"row_heading level0 row18\" >knn_oversampled</th>\n",
              "      <td id=\"T_7cc7d_row18_col0\" class=\"data row18 col0\" >99.3%</td>\n",
              "    </tr>\n",
              "    <tr>\n",
              "      <th id=\"T_7cc7d_level0_row19\" class=\"row_heading level0 row19\" >decision_tree_undersampling</th>\n",
              "      <td id=\"T_7cc7d_row19_col0\" class=\"data row19 col0\" >99.0%</td>\n",
              "    </tr>\n",
              "    <tr>\n",
              "      <th id=\"T_7cc7d_level0_row20\" class=\"row_heading level0 row20\" >logistic_regression</th>\n",
              "      <td id=\"T_7cc7d_row20_col0\" class=\"data row20 col0\" >98.7%</td>\n",
              "    </tr>\n",
              "    <tr>\n",
              "      <th id=\"T_7cc7d_level0_row21\" class=\"row_heading level0 row21\" >svm_cluster_centroids</th>\n",
              "      <td id=\"T_7cc7d_row21_col0\" class=\"data row21 col0\" >98.7%</td>\n",
              "    </tr>\n",
              "    <tr>\n",
              "      <th id=\"T_7cc7d_level0_row22\" class=\"row_heading level0 row22\" >gnb_cluster_centroids</th>\n",
              "      <td id=\"T_7cc7d_row22_col0\" class=\"data row22 col0\" >98.7%</td>\n",
              "    </tr>\n",
              "    <tr>\n",
              "      <th id=\"T_7cc7d_level0_row23\" class=\"row_heading level0 row23\" >knn_smoteen</th>\n",
              "      <td id=\"T_7cc7d_row23_col0\" class=\"data row23 col0\" >98.6%</td>\n",
              "    </tr>\n",
              "    <tr>\n",
              "      <th id=\"T_7cc7d_level0_row24\" class=\"row_heading level0 row24\" >random_forest_oversampled</th>\n",
              "      <td id=\"T_7cc7d_row24_col0\" class=\"data row24 col0\" >98.2%</td>\n",
              "    </tr>\n",
              "    <tr>\n",
              "      <th id=\"T_7cc7d_level0_row25\" class=\"row_heading level0 row25\" >knn</th>\n",
              "      <td id=\"T_7cc7d_row25_col0\" class=\"data row25 col0\" >98.1%</td>\n",
              "    </tr>\n",
              "    <tr>\n",
              "      <th id=\"T_7cc7d_level0_row26\" class=\"row_heading level0 row26\" >random_forest_cluster_centroids</th>\n",
              "      <td id=\"T_7cc7d_row26_col0\" class=\"data row26 col0\" >98.0%</td>\n",
              "    </tr>\n",
              "    <tr>\n",
              "      <th id=\"T_7cc7d_level0_row27\" class=\"row_heading level0 row27\" >random_forest</th>\n",
              "      <td id=\"T_7cc7d_row27_col0\" class=\"data row27 col0\" >97.6%</td>\n",
              "    </tr>\n",
              "    <tr>\n",
              "      <th id=\"T_7cc7d_level0_row28\" class=\"row_heading level0 row28\" >knn_smote</th>\n",
              "      <td id=\"T_7cc7d_row28_col0\" class=\"data row28 col0\" >97.0%</td>\n",
              "    </tr>\n",
              "    <tr>\n",
              "      <th id=\"T_7cc7d_level0_row29\" class=\"row_heading level0 row29\" >random_forest_smoteen</th>\n",
              "      <td id=\"T_7cc7d_row29_col0\" class=\"data row29 col0\" >94.9%</td>\n",
              "    </tr>\n",
              "    <tr>\n",
              "      <th id=\"T_7cc7d_level0_row30\" class=\"row_heading level0 row30\" >decision_tree_cluster_centroids</th>\n",
              "      <td id=\"T_7cc7d_row30_col0\" class=\"data row30 col0\" >93.9%</td>\n",
              "    </tr>\n",
              "    <tr>\n",
              "      <th id=\"T_7cc7d_level0_row31\" class=\"row_heading level0 row31\" >decision_tree_smoteen</th>\n",
              "      <td id=\"T_7cc7d_row31_col0\" class=\"data row31 col0\" >93.7%</td>\n",
              "    </tr>\n",
              "    <tr>\n",
              "      <th id=\"T_7cc7d_level0_row32\" class=\"row_heading level0 row32\" >decision_tree_oversampling</th>\n",
              "      <td id=\"T_7cc7d_row32_col0\" class=\"data row32 col0\" >93.4%</td>\n",
              "    </tr>\n",
              "    <tr>\n",
              "      <th id=\"T_7cc7d_level0_row33\" class=\"row_heading level0 row33\" >decision_tree</th>\n",
              "      <td id=\"T_7cc7d_row33_col0\" class=\"data row33 col0\" >92.1%</td>\n",
              "    </tr>\n",
              "    <tr>\n",
              "      <th id=\"T_7cc7d_level0_row34\" class=\"row_heading level0 row34\" >random_forest_smote</th>\n",
              "      <td id=\"T_7cc7d_row34_col0\" class=\"data row34 col0\" >86.5%</td>\n",
              "    </tr>\n",
              "    <tr>\n",
              "      <th id=\"T_7cc7d_level0_row35\" class=\"row_heading level0 row35\" >decision_tree_smote</th>\n",
              "      <td id=\"T_7cc7d_row35_col0\" class=\"data row35 col0\" >72.7%</td>\n",
              "    </tr>\n",
              "  </tbody>\n",
              "</table>\n"
            ],
            "text/plain": [
              "<pandas.io.formats.style.Styler at 0x7c62dd952140>"
            ]
          },
          "execution_count": 328,
          "metadata": {},
          "output_type": "execute_result"
        }
      ],
      "source": [
        "pandasx.return_formatted_table \\\n",
        "    (model_performace_rankings_dataframe,\n",
        "     'Table 9.7.2: Model Performance Rankings',\n",
        "     line_count_integer = 36,\n",
        "     hide_index_boolean = False) \\\n",
        "        .format({'accuracy': '{:,.1f}%'})"
      ]
    },
    {
      "cell_type": "markdown",
      "id": "Ak3jOhtluo-8",
      "metadata": {
        "id": "Ak3jOhtluo-8"
      },
      "source": [
        "# <br> **Section 10: Save Models To Files**"
      ]
    },
    {
      "cell_type": "markdown",
      "id": "XhPiT24ouo-8",
      "metadata": {
        "id": "XhPiT24ouo-8"
      },
      "source": [
        "## **10.1: Logistic Regression**"
      ]
    },
    {
      "cell_type": "markdown",
      "id": "z3-KKzezuo-8",
      "metadata": {
        "id": "z3-KKzezuo-8"
      },
      "source": [
        "### **Original**"
      ]
    },
    {
      "cell_type": "code",
      "execution_count": null,
      "id": "JOW3aUp_uo-8",
      "metadata": {
        "id": "JOW3aUp_uo-8"
      },
      "outputs": [],
      "source": [
        "pickle.dump \\\n",
        "    (logistic_regression_model,\n",
        "     open(credit_risk_constants.CONSTANT_LR_MODEL_FILE_PATH, 'wb'))"
      ]
    },
    {
      "cell_type": "markdown",
      "id": "cbl_kwgSuo-8",
      "metadata": {
        "id": "cbl_kwgSuo-8"
      },
      "source": [
        "### **Random Undersampling**"
      ]
    },
    {
      "cell_type": "code",
      "execution_count": null,
      "id": "l0YR5ZgPuo-8",
      "metadata": {
        "id": "l0YR5ZgPuo-8"
      },
      "outputs": [],
      "source": [
        "pickle.dump \\\n",
        "    (logistic_regression_undersampled_model,\n",
        "     open(credit_risk_constants.CONSTANT_LR_UNDERSAMPLED_MODEL_FILE_PATH, 'wb'))"
      ]
    },
    {
      "cell_type": "markdown",
      "id": "16AWGXpnuo-8",
      "metadata": {
        "id": "16AWGXpnuo-8"
      },
      "source": [
        "### **Random Oversampling**"
      ]
    },
    {
      "cell_type": "code",
      "execution_count": null,
      "id": "84teiw8Fuo-8",
      "metadata": {
        "id": "84teiw8Fuo-8"
      },
      "outputs": [],
      "source": [
        "pickle.dump \\\n",
        "    (logistic_regression_oversampled_model,\n",
        "     open(credit_risk_constants.CONSTANT_LR_OVERSAMPLED_MODEL_FILE_PATH, 'wb'))"
      ]
    },
    {
      "cell_type": "markdown",
      "id": "LicDyndmuo-8",
      "metadata": {
        "id": "LicDyndmuo-8"
      },
      "source": [
        "### **Cluster Centroids**"
      ]
    },
    {
      "cell_type": "code",
      "execution_count": null,
      "id": "6lC8E4mYuo-8",
      "metadata": {
        "id": "6lC8E4mYuo-8"
      },
      "outputs": [],
      "source": [
        "pickle.dump \\\n",
        "    (logistic_regression_cluster_centroids_model,\n",
        "     open(credit_risk_constants.CONSTANT_LR_CLUSTER_CENTROIDS_MODEL_FILE_PATH, 'wb'))"
      ]
    },
    {
      "cell_type": "markdown",
      "id": "fA69y415uo-8",
      "metadata": {
        "id": "fA69y415uo-8"
      },
      "source": [
        "### **SMOTE**"
      ]
    },
    {
      "cell_type": "code",
      "execution_count": null,
      "id": "dvA_HMz9uo-9",
      "metadata": {
        "id": "dvA_HMz9uo-9"
      },
      "outputs": [],
      "source": [
        "pickle.dump \\\n",
        "    (logistic_regression_SMOTE_model,\n",
        "     open(credit_risk_constants.CONSTANT_LR_SMOTE_MODEL_FILE_PATH, 'wb'))"
      ]
    },
    {
      "cell_type": "markdown",
      "id": "w1vlicVsuo-9",
      "metadata": {
        "id": "w1vlicVsuo-9"
      },
      "source": [
        "### **SMOTEENN**"
      ]
    },
    {
      "cell_type": "code",
      "execution_count": null,
      "id": "4s9wzE-cuo-9",
      "metadata": {
        "id": "4s9wzE-cuo-9"
      },
      "outputs": [],
      "source": [
        "pickle.dump \\\n",
        "    (logistic_regression_SMOTEENN_model,\n",
        "     open(credit_risk_constants.CONSTANT_LR_SMOTEENN_MODEL_FILE_PATH, 'wb'))"
      ]
    },
    {
      "cell_type": "markdown",
      "id": "pvV5jT3Duo-9",
      "metadata": {
        "id": "pvV5jT3Duo-9"
      },
      "source": [
        "## **10.2: Decision Tree**"
      ]
    },
    {
      "cell_type": "markdown",
      "id": "pdsbRv9Kuo-9",
      "metadata": {
        "id": "pdsbRv9Kuo-9"
      },
      "source": [
        "### **Original**"
      ]
    },
    {
      "cell_type": "code",
      "execution_count": null,
      "id": "eeLE3q9-uo-9",
      "metadata": {
        "id": "eeLE3q9-uo-9"
      },
      "outputs": [],
      "source": [
        "pickle.dump \\\n",
        "    (decision_tree_model,\n",
        "     open(credit_risk_constants.CONSTANT_DT_MODEL_FILE_PATH, 'wb'))"
      ]
    },
    {
      "cell_type": "markdown",
      "id": "KXdUVdCOuo-9",
      "metadata": {
        "id": "KXdUVdCOuo-9"
      },
      "source": [
        "### **Random Undersampling**"
      ]
    },
    {
      "cell_type": "code",
      "execution_count": null,
      "id": "EBNAGU6ruo-9",
      "metadata": {
        "id": "EBNAGU6ruo-9"
      },
      "outputs": [],
      "source": [
        "pickle.dump \\\n",
        "    (decision_tree_undersampled_model,\n",
        "     open(credit_risk_constants.CONSTANT_DT_UNDERSAMPLED_MODEL_FILE_PATH, 'wb'))"
      ]
    },
    {
      "cell_type": "markdown",
      "id": "ZoOcrE-_uo-9",
      "metadata": {
        "id": "ZoOcrE-_uo-9"
      },
      "source": [
        "### **Random Oversampling**"
      ]
    },
    {
      "cell_type": "code",
      "execution_count": null,
      "id": "-JxucTZquo-9",
      "metadata": {
        "id": "-JxucTZquo-9"
      },
      "outputs": [],
      "source": [
        "pickle.dump \\\n",
        "    (decision_tree_oversampled_model,\n",
        "     open(credit_risk_constants.CONSTANT_DT_OVERSAMPLED_MODEL_FILE_PATH, 'wb'))"
      ]
    },
    {
      "cell_type": "markdown",
      "id": "mAHHrFMUuo-9",
      "metadata": {
        "id": "mAHHrFMUuo-9"
      },
      "source": [
        "### **Cluster Centroids**"
      ]
    },
    {
      "cell_type": "code",
      "execution_count": null,
      "id": "4eGwUnFvuo-9",
      "metadata": {
        "id": "4eGwUnFvuo-9"
      },
      "outputs": [],
      "source": [
        "pickle.dump \\\n",
        "    (decision_tree_cluster_centroids_model,\n",
        "     open(credit_risk_constants.CONSTANT_DT_CLUSTER_CENTROIDS_MODEL_FILE_PATH, 'wb'))"
      ]
    },
    {
      "cell_type": "markdown",
      "id": "yZEjAWu0uo-9",
      "metadata": {
        "id": "yZEjAWu0uo-9"
      },
      "source": [
        "### **SMOTE**"
      ]
    },
    {
      "cell_type": "code",
      "execution_count": null,
      "id": "_ssp0ezcuo--",
      "metadata": {
        "id": "_ssp0ezcuo--"
      },
      "outputs": [],
      "source": [
        "pickle.dump \\\n",
        "    (decision_tree_SMOTE_model,\n",
        "     open(credit_risk_constants.CONSTANT_DT_SMOTE_MODEL_FILE_PATH, 'wb'))"
      ]
    },
    {
      "cell_type": "markdown",
      "id": "ufqA5vWiuo--",
      "metadata": {
        "id": "ufqA5vWiuo--"
      },
      "source": [
        "### **SMOTEENN**"
      ]
    },
    {
      "cell_type": "code",
      "execution_count": null,
      "id": "_ntV55eDuo--",
      "metadata": {
        "id": "_ntV55eDuo--"
      },
      "outputs": [],
      "source": [
        "pickle.dump \\\n",
        "    (decision_tree_SMOTEENN_model,\n",
        "     open(credit_risk_constants.CONSTANT_DT_SMOTEENN_MODEL_FILE_PATH, 'wb'))"
      ]
    },
    {
      "cell_type": "markdown",
      "id": "8rI5nb6vuo--",
      "metadata": {
        "id": "8rI5nb6vuo--"
      },
      "source": [
        "## **10.3: Random Forest**"
      ]
    },
    {
      "cell_type": "markdown",
      "id": "Kw9Lz7c4uo--",
      "metadata": {
        "id": "Kw9Lz7c4uo--"
      },
      "source": [
        "### **Original**"
      ]
    },
    {
      "cell_type": "code",
      "execution_count": null,
      "id": "9ykIRziOuo--",
      "metadata": {
        "id": "9ykIRziOuo--"
      },
      "outputs": [],
      "source": [
        "pickle.dump \\\n",
        "    (random_forest_model,\n",
        "     open(credit_risk_constants.CONSTANT_RF_MODEL_FILE_PATH, 'wb'))"
      ]
    },
    {
      "cell_type": "markdown",
      "id": "X0bRnMRjuo--",
      "metadata": {
        "id": "X0bRnMRjuo--"
      },
      "source": [
        "### **Random Undersampling**"
      ]
    },
    {
      "cell_type": "code",
      "execution_count": null,
      "id": "sn8UJDrQuo--",
      "metadata": {
        "id": "sn8UJDrQuo--"
      },
      "outputs": [],
      "source": [
        "pickle.dump \\\n",
        "    (random_forest_undersampled_model,\n",
        "     open(credit_risk_constants.CONSTANT_RF_UNDERSAMPLED_MODEL_FILE_PATH, 'wb'))"
      ]
    },
    {
      "cell_type": "markdown",
      "id": "Uw_m9URTuo--",
      "metadata": {
        "id": "Uw_m9URTuo--"
      },
      "source": [
        "### **Random Oversampling**"
      ]
    },
    {
      "cell_type": "code",
      "execution_count": null,
      "id": "oqIVEbzxuo--",
      "metadata": {
        "id": "oqIVEbzxuo--"
      },
      "outputs": [],
      "source": [
        "pickle.dump \\\n",
        "    (random_forest_oversampled_model,\n",
        "     open(credit_risk_constants.CONSTANT_RF_OVERSAMPLED_MODEL_FILE_PATH, 'wb'))"
      ]
    },
    {
      "cell_type": "markdown",
      "id": "LQ-ivnIduo--",
      "metadata": {
        "id": "LQ-ivnIduo--"
      },
      "source": [
        "### **Cluster Centroids**"
      ]
    },
    {
      "cell_type": "code",
      "execution_count": null,
      "id": "Eh4Lyd9Nuo--",
      "metadata": {
        "id": "Eh4Lyd9Nuo--"
      },
      "outputs": [],
      "source": [
        "pickle.dump \\\n",
        "    (random_forest_cluster_centroids_model,\n",
        "     open(credit_risk_constants.CONSTANT_RF_CLUSTER_CENTROIDS_MODEL_FILE_PATH, 'wb'))"
      ]
    },
    {
      "cell_type": "markdown",
      "id": "pERWG6Pguo--",
      "metadata": {
        "id": "pERWG6Pguo--"
      },
      "source": [
        "### **SMOTE**"
      ]
    },
    {
      "cell_type": "code",
      "execution_count": null,
      "id": "WWv7K1mXuo--",
      "metadata": {
        "id": "WWv7K1mXuo--"
      },
      "outputs": [],
      "source": [
        "pickle.dump \\\n",
        "    (random_forest_SMOTE_model,\n",
        "     open(credit_risk_constants.CONSTANT_RF_SMOTE_MODEL_FILE_PATH, 'wb'))"
      ]
    },
    {
      "cell_type": "markdown",
      "id": "idgNocK3uo-_",
      "metadata": {
        "id": "idgNocK3uo-_"
      },
      "source": [
        "### **SMOTEENN**"
      ]
    },
    {
      "cell_type": "code",
      "execution_count": null,
      "id": "oc5eKpAhuo-_",
      "metadata": {
        "id": "oc5eKpAhuo-_"
      },
      "outputs": [],
      "source": [
        "pickle.dump \\\n",
        "    (random_forest_SMOTEENN_model,\n",
        "     open(credit_risk_constants.CONSTANT_RF_SMOTEENN_MODEL_FILE_PATH, 'wb'))"
      ]
    },
    {
      "cell_type": "markdown",
      "id": "bE5iCTpiuo-_",
      "metadata": {
        "id": "bE5iCTpiuo-_"
      },
      "source": [
        "## **10.4: Support Vector Machine (SVM)**"
      ]
    },
    {
      "cell_type": "markdown",
      "id": "qYxsxduCuo-_",
      "metadata": {
        "id": "qYxsxduCuo-_"
      },
      "source": [
        "### **Original**"
      ]
    },
    {
      "cell_type": "code",
      "execution_count": null,
      "id": "CrNYkS1buo-_",
      "metadata": {
        "id": "CrNYkS1buo-_"
      },
      "outputs": [],
      "source": [
        "pickle.dump \\\n",
        "    (svm_model,\n",
        "     open(credit_risk_constants.CONSTANT_SVM_MODEL_FILE_PATH, 'wb'))"
      ]
    },
    {
      "cell_type": "markdown",
      "id": "4RzVqKvMuo-_",
      "metadata": {
        "id": "4RzVqKvMuo-_"
      },
      "source": [
        "### **Random Undersampling**"
      ]
    },
    {
      "cell_type": "code",
      "execution_count": null,
      "id": "v-tNwYdwuo-_",
      "metadata": {
        "id": "v-tNwYdwuo-_"
      },
      "outputs": [],
      "source": [
        "pickle.dump \\\n",
        "    (svm_undersampled_model,\n",
        "     open(credit_risk_constants.CONSTANT_SVM_UNDERSAMPLED_MODEL_FILE_PATH, 'wb'))"
      ]
    },
    {
      "cell_type": "markdown",
      "id": "zA52m2Mruo-_",
      "metadata": {
        "id": "zA52m2Mruo-_"
      },
      "source": [
        "### **Random Oversampling**"
      ]
    },
    {
      "cell_type": "code",
      "execution_count": null,
      "id": "5tOzeM_wuo-_",
      "metadata": {
        "id": "5tOzeM_wuo-_"
      },
      "outputs": [],
      "source": [
        "pickle.dump \\\n",
        "    (svm_oversampled_model,\n",
        "     open(credit_risk_constants.CONSTANT_SVM_OVERSAMPLED_MODEL_FILE_PATH, 'wb'))"
      ]
    },
    {
      "cell_type": "markdown",
      "id": "9HdNRDRPuo-_",
      "metadata": {
        "id": "9HdNRDRPuo-_"
      },
      "source": [
        "### **Cluster Centroids**"
      ]
    },
    {
      "cell_type": "code",
      "execution_count": null,
      "id": "uAxqoq8Uuo-_",
      "metadata": {
        "id": "uAxqoq8Uuo-_"
      },
      "outputs": [],
      "source": [
        "pickle.dump \\\n",
        "    (svm_cluster_centroids_model,\n",
        "     open(credit_risk_constants.CONSTANT_SVM_CLUSTER_CENTROIDS_MODEL_FILE_PATH, 'wb'))"
      ]
    },
    {
      "cell_type": "markdown",
      "id": "sqpBM7bruo-_",
      "metadata": {
        "id": "sqpBM7bruo-_"
      },
      "source": [
        "### **SMOTE**"
      ]
    },
    {
      "cell_type": "code",
      "execution_count": null,
      "id": "pqmTALVLuo-_",
      "metadata": {
        "id": "pqmTALVLuo-_"
      },
      "outputs": [],
      "source": [
        "pickle.dump \\\n",
        "    (svm_SMOTE_model,\n",
        "     open(credit_risk_constants.CONSTANT_SVM_SMOTE_MODEL_FILE_PATH, 'wb'))"
      ]
    },
    {
      "cell_type": "markdown",
      "id": "tPydcW53uo_A",
      "metadata": {
        "id": "tPydcW53uo_A"
      },
      "source": [
        "### **SMOTEENN**"
      ]
    },
    {
      "cell_type": "code",
      "execution_count": null,
      "id": "guSdG67Iuo_A",
      "metadata": {
        "id": "guSdG67Iuo_A"
      },
      "outputs": [],
      "source": [
        "pickle.dump \\\n",
        "    (svm_SMOTEENN_model,\n",
        "     open(credit_risk_constants.CONSTANT_SVM_SMOTEENN_MODEL_FILE_PATH, 'wb'))"
      ]
    },
    {
      "cell_type": "markdown",
      "id": "vHRLANY7uo_A",
      "metadata": {
        "id": "vHRLANY7uo_A"
      },
      "source": [
        "## **10.5: K-Nearest Neighbor (KNN)**"
      ]
    },
    {
      "cell_type": "markdown",
      "id": "y7FHDHcxuo_A",
      "metadata": {
        "id": "y7FHDHcxuo_A"
      },
      "source": [
        "### **Original**"
      ]
    },
    {
      "cell_type": "code",
      "execution_count": null,
      "id": "WUM3luHjuo_A",
      "metadata": {
        "id": "WUM3luHjuo_A"
      },
      "outputs": [],
      "source": [
        "pickle.dump \\\n",
        "    (knn_model,\n",
        "     open(credit_risk_constants.CONSTANT_KNN_MODEL_FILE_PATH, 'wb'))"
      ]
    },
    {
      "cell_type": "markdown",
      "id": "700mXkssuo_A",
      "metadata": {
        "id": "700mXkssuo_A"
      },
      "source": [
        "### **Random Undersampling**"
      ]
    },
    {
      "cell_type": "code",
      "execution_count": null,
      "id": "PUkZfbWPuo_A",
      "metadata": {
        "id": "PUkZfbWPuo_A"
      },
      "outputs": [],
      "source": [
        "pickle.dump \\\n",
        "    (knn_undersampled_model,\n",
        "     open(credit_risk_constants.CONSTANT_KNN_UNDERSAMPLED_MODEL_FILE_PATH, 'wb'))"
      ]
    },
    {
      "cell_type": "markdown",
      "id": "pfoYGFNruo_A",
      "metadata": {
        "id": "pfoYGFNruo_A"
      },
      "source": [
        "### **Random Oversampling**"
      ]
    },
    {
      "cell_type": "code",
      "execution_count": null,
      "id": "PNpSPwbLuo_A",
      "metadata": {
        "id": "PNpSPwbLuo_A"
      },
      "outputs": [],
      "source": [
        "pickle.dump \\\n",
        "    (knn_oversampled_model,\n",
        "     open(credit_risk_constants.CONSTANT_KNN_OVERSAMPLED_MODEL_FILE_PATH, 'wb'))"
      ]
    },
    {
      "cell_type": "markdown",
      "id": "O1eGVZ0xuo_A",
      "metadata": {
        "id": "O1eGVZ0xuo_A"
      },
      "source": [
        "### **Cluster Centroids**"
      ]
    },
    {
      "cell_type": "code",
      "execution_count": null,
      "id": "IJihGE_zuo_A",
      "metadata": {
        "id": "IJihGE_zuo_A"
      },
      "outputs": [],
      "source": [
        "pickle.dump \\\n",
        "    (knn_cluster_centroids_model,\n",
        "     open(credit_risk_constants.CONSTANT_KNN_CLUSTER_CENTROIDS_MODEL_FILE_PATH, 'wb'))"
      ]
    },
    {
      "cell_type": "markdown",
      "id": "21vyRD9Uuo_A",
      "metadata": {
        "id": "21vyRD9Uuo_A"
      },
      "source": [
        "### **SMOTE**"
      ]
    },
    {
      "cell_type": "code",
      "execution_count": null,
      "id": "TXDsW78Ruo_A",
      "metadata": {
        "id": "TXDsW78Ruo_A"
      },
      "outputs": [],
      "source": [
        "pickle.dump \\\n",
        "    (knn_SMOTE_model,\n",
        "     open(credit_risk_constants.CONSTANT_KNN_SMOTE_MODEL_FILE_PATH, 'wb'))"
      ]
    },
    {
      "cell_type": "markdown",
      "id": "1Y1tTgKzuo_A",
      "metadata": {
        "id": "1Y1tTgKzuo_A"
      },
      "source": [
        "### **SMOTEENN**"
      ]
    },
    {
      "cell_type": "code",
      "execution_count": null,
      "id": "a0QkppQGuo_B",
      "metadata": {
        "id": "a0QkppQGuo_B"
      },
      "outputs": [],
      "source": [
        "pickle.dump \\\n",
        "    (knn_SMOTEENN_model,\n",
        "     open(credit_risk_constants.CONSTANT_KNN_SMOTEENN_MODEL_FILE_PATH, 'wb'))"
      ]
    },
    {
      "cell_type": "markdown",
      "id": "OEXXROcouo_B",
      "metadata": {
        "id": "OEXXROcouo_B"
      },
      "source": [
        "## **10.6: Gaussian Naive Bayes (GNB)**"
      ]
    },
    {
      "cell_type": "markdown",
      "id": "Q1oYbcMOuo_B",
      "metadata": {
        "id": "Q1oYbcMOuo_B"
      },
      "source": [
        "### **Original**"
      ]
    },
    {
      "cell_type": "code",
      "execution_count": null,
      "id": "lgiKSOCZuo_B",
      "metadata": {
        "id": "lgiKSOCZuo_B"
      },
      "outputs": [],
      "source": [
        "pickle.dump \\\n",
        "    (gnb_model,\n",
        "     open(credit_risk_constants.CONSTANT_GNB_MODEL_FILE_PATH, 'wb'))"
      ]
    },
    {
      "cell_type": "markdown",
      "id": "NARPhRhtuo_B",
      "metadata": {
        "id": "NARPhRhtuo_B"
      },
      "source": [
        "### **Random Undersampling**"
      ]
    },
    {
      "cell_type": "code",
      "execution_count": null,
      "id": "GkABlPiWuo_B",
      "metadata": {
        "id": "GkABlPiWuo_B"
      },
      "outputs": [],
      "source": [
        "pickle.dump \\\n",
        "    (gnb_undersampled_model,\n",
        "     open(credit_risk_constants.CONSTANT_GNB_UNDERSAMPLED_MODEL_FILE_PATH, 'wb'))"
      ]
    },
    {
      "cell_type": "markdown",
      "id": "gBnheYNTuo_B",
      "metadata": {
        "id": "gBnheYNTuo_B"
      },
      "source": [
        "### **Random Oversampling**"
      ]
    },
    {
      "cell_type": "code",
      "execution_count": null,
      "id": "whdgYraeuo_B",
      "metadata": {
        "id": "whdgYraeuo_B"
      },
      "outputs": [],
      "source": [
        "pickle.dump \\\n",
        "    (gnb_oversampled_model,\n",
        "     open(credit_risk_constants.CONSTANT_GNB_OVERSAMPLED_MODEL_FILE_PATH, 'wb'))"
      ]
    },
    {
      "cell_type": "markdown",
      "id": "NV2SwsV9uo_B",
      "metadata": {
        "id": "NV2SwsV9uo_B"
      },
      "source": [
        "### **Cluster Centroids**"
      ]
    },
    {
      "cell_type": "code",
      "execution_count": null,
      "id": "TEKjwuymuo_B",
      "metadata": {
        "id": "TEKjwuymuo_B"
      },
      "outputs": [],
      "source": [
        "pickle.dump \\\n",
        "    (gnb_cluster_centroids_model,\n",
        "     open(credit_risk_constants.CONSTANT_GNB_CLUSTER_CENTROIDS_MODEL_FILE_PATH, 'wb'))"
      ]
    },
    {
      "cell_type": "markdown",
      "id": "GD3DygHWuo_B",
      "metadata": {
        "id": "GD3DygHWuo_B"
      },
      "source": [
        "### **SMOTE**"
      ]
    },
    {
      "cell_type": "code",
      "execution_count": null,
      "id": "2YlnB0uKuo_B",
      "metadata": {
        "id": "2YlnB0uKuo_B"
      },
      "outputs": [],
      "source": [
        "pickle.dump \\\n",
        "    (gnb_SMOTE_model,\n",
        "     open(credit_risk_constants.CONSTANT_GNB_SMOTE_MODEL_FILE_PATH, 'wb'))"
      ]
    },
    {
      "cell_type": "markdown",
      "id": "r0Iel6yJuo_C",
      "metadata": {
        "id": "r0Iel6yJuo_C"
      },
      "source": [
        "### **SMOTEENN**"
      ]
    },
    {
      "cell_type": "code",
      "execution_count": null,
      "id": "pQZCJMZHuo_C",
      "metadata": {
        "id": "pQZCJMZHuo_C"
      },
      "outputs": [],
      "source": [
        "pickle.dump \\\n",
        "    (gnb_SMOTEENN_model,\n",
        "     open(credit_risk_constants.CONSTANT_GNB_SMOTEENN_MODEL_FILE_PATH, 'wb'))"
      ]
    },
    {
      "cell_type": "code",
      "execution_count": null,
      "id": "XNDM6fpZuo_C",
      "metadata": {
        "id": "XNDM6fpZuo_C"
      },
      "outputs": [],
      "source": [
        "# logx.end_program()"
      ]
    },
    {
      "cell_type": "code",
      "execution_count": null,
      "id": "tLqVSH4DxOuY",
      "metadata": {
        "id": "tLqVSH4DxOuY"
      },
      "outputs": [],
      "source": []
    }
  ],
  "metadata": {
    "colab": {
      "provenance": [],
      "include_colab_link": true
    },
    "kernelspec": {
      "display_name": "Python 3 (ipykernel)",
      "language": "python",
      "name": "python3"
    },
    "language_info": {
      "codemirror_mode": {
        "name": "ipython",
        "version": 3
      },
      "file_extension": ".py",
      "mimetype": "text/x-python",
      "name": "python",
      "nbconvert_exporter": "python",
      "pygments_lexer": "ipython3",
      "version": "3.11.7"
    }
  },
  "nbformat": 4,
  "nbformat_minor": 5
}