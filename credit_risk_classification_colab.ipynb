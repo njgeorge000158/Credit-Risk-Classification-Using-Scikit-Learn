{
  "cells": [
    {
      "cell_type": "markdown",
      "metadata": {
        "id": "view-in-github",
        "colab_type": "text"
      },
      "source": [
        "<a href=\"https://colab.research.google.com/github/njgeorge000158/Credit-Risk-Classification-Using-Scikit-Learn/blob/main/credit_risk_classification_colab.ipynb\" target=\"_parent\"><img src=\"https://colab.research.google.com/assets/colab-badge.svg\" alt=\"Open In Colab\"/></a>"
      ]
    },
    {
      "cell_type": "code",
      "execution_count": 1,
      "id": "8c4ac1a7",
      "metadata": {
        "colab": {
          "base_uri": "https://localhost:8080/",
          "height": 1000
        },
        "id": "8c4ac1a7",
        "outputId": "62f61c7a-5449-4c34-c470-b7c2e015c348"
      },
      "outputs": [
        {
          "output_type": "stream",
          "name": "stdout",
          "text": [
            "Mounted at /content/gdrive/\n",
            "Get:1 http://security.ubuntu.com/ubuntu jammy-security InRelease [110 kB]\n",
            "Hit:2 http://archive.ubuntu.com/ubuntu jammy InRelease\n",
            "Get:3 https://cloud.r-project.org/bin/linux/ubuntu jammy-cran40/ InRelease [3,626 B]\n",
            "Get:4 https://developer.download.nvidia.com/compute/cuda/repos/ubuntu2204/x86_64  InRelease [1,581 B]\n",
            "Get:5 http://archive.ubuntu.com/ubuntu jammy-updates InRelease [119 kB]\n",
            "Hit:6 https://ppa.launchpadcontent.net/c2d4u.team/c2d4u4.0+/ubuntu jammy InRelease\n",
            "Hit:7 https://ppa.launchpadcontent.net/deadsnakes/ppa/ubuntu jammy InRelease\n",
            "Hit:8 https://ppa.launchpadcontent.net/graphics-drivers/ppa/ubuntu jammy InRelease\n",
            "Hit:9 http://archive.ubuntu.com/ubuntu jammy-backports InRelease\n",
            "Hit:10 https://ppa.launchpadcontent.net/ubuntugis/ppa/ubuntu jammy InRelease\n",
            "Get:11 https://developer.download.nvidia.com/compute/cuda/repos/ubuntu2204/x86_64  Packages [825 kB]\n",
            "Fetched 1,059 kB in 4s (241 kB/s)\n",
            "Reading package lists... Done\n",
            "Reading package lists... Done\n",
            "Building dependency tree... Done\n",
            "Reading state information... Done\n",
            "The following additional packages will be installed:\n",
            "  apparmor libfuse3-3 liblzo2-2 libudev1 snapd squashfs-tools systemd-hwe-hwdb udev\n",
            "Suggested packages:\n",
            "  apparmor-profiles-extra apparmor-utils fuse3 zenity | kdialog\n",
            "The following NEW packages will be installed:\n",
            "  apparmor firefox libfuse3-3 liblzo2-2 snapd squashfs-tools systemd-hwe-hwdb udev\n",
            "The following packages will be upgraded:\n",
            "  libudev1\n",
            "1 upgraded, 8 newly installed, 0 to remove and 44 not upgraded.\n",
            "Need to get 27.3 MB of archives.\n",
            "After this operation, 114 MB of additional disk space will be used.\n",
            "Get:1 http://archive.ubuntu.com/ubuntu jammy-updates/main amd64 apparmor amd64 3.0.4-2ubuntu2.3 [595 kB]\n",
            "Get:2 http://archive.ubuntu.com/ubuntu jammy/main amd64 liblzo2-2 amd64 2.10-2build3 [53.7 kB]\n",
            "Get:3 http://archive.ubuntu.com/ubuntu jammy/main amd64 squashfs-tools amd64 1:4.5-3build1 [159 kB]\n",
            "Get:4 http://archive.ubuntu.com/ubuntu jammy-updates/main amd64 libudev1 amd64 249.11-0ubuntu3.12 [78.2 kB]\n",
            "Get:5 http://archive.ubuntu.com/ubuntu jammy-updates/main amd64 udev amd64 249.11-0ubuntu3.12 [1,557 kB]\n",
            "Get:6 http://archive.ubuntu.com/ubuntu jammy/main amd64 libfuse3-3 amd64 3.10.5-1build1 [81.2 kB]\n",
            "Get:7 http://archive.ubuntu.com/ubuntu jammy-updates/main amd64 snapd amd64 2.61.3+22.04 [24.7 MB]\n",
            "Get:8 http://archive.ubuntu.com/ubuntu jammy/main amd64 firefox amd64 1:1snap1-0ubuntu2 [72.3 kB]\n",
            "Get:9 http://archive.ubuntu.com/ubuntu jammy-updates/main amd64 systemd-hwe-hwdb all 249.11.5 [3,228 B]\n",
            "Fetched 27.3 MB in 2s (13.4 MB/s)\n",
            "Preconfiguring packages ...\n",
            "Selecting previously unselected package apparmor.\n",
            "(Reading database ... 121920 files and directories currently installed.)\n",
            "Preparing to unpack .../apparmor_3.0.4-2ubuntu2.3_amd64.deb ...\n",
            "Unpacking apparmor (3.0.4-2ubuntu2.3) ...\n",
            "Selecting previously unselected package liblzo2-2:amd64.\n",
            "Preparing to unpack .../liblzo2-2_2.10-2build3_amd64.deb ...\n",
            "Unpacking liblzo2-2:amd64 (2.10-2build3) ...\n",
            "Selecting previously unselected package squashfs-tools.\n",
            "Preparing to unpack .../squashfs-tools_1%3a4.5-3build1_amd64.deb ...\n",
            "Unpacking squashfs-tools (1:4.5-3build1) ...\n",
            "Preparing to unpack .../libudev1_249.11-0ubuntu3.12_amd64.deb ...\n",
            "Unpacking libudev1:amd64 (249.11-0ubuntu3.12) over (249.11-0ubuntu3.10) ...\n",
            "Setting up libudev1:amd64 (249.11-0ubuntu3.12) ...\n",
            "Selecting previously unselected package udev.\n",
            "(Reading database ... 122128 files and directories currently installed.)\n",
            "Preparing to unpack .../udev_249.11-0ubuntu3.12_amd64.deb ...\n",
            "Unpacking udev (249.11-0ubuntu3.12) ...\n",
            "Selecting previously unselected package libfuse3-3:amd64.\n",
            "Preparing to unpack .../libfuse3-3_3.10.5-1build1_amd64.deb ...\n",
            "Unpacking libfuse3-3:amd64 (3.10.5-1build1) ...\n",
            "Selecting previously unselected package snapd.\n",
            "Preparing to unpack .../snapd_2.61.3+22.04_amd64.deb ...\n",
            "Unpacking snapd (2.61.3+22.04) ...\n",
            "Setting up apparmor (3.0.4-2ubuntu2.3) ...\n",
            "Created symlink /etc/systemd/system/sysinit.target.wants/apparmor.service → /lib/systemd/system/apparmor.service.\n",
            "Setting up liblzo2-2:amd64 (2.10-2build3) ...\n",
            "Setting up squashfs-tools (1:4.5-3build1) ...\n",
            "Setting up udev (249.11-0ubuntu3.12) ...\n",
            "invoke-rc.d: could not determine current runlevel\n",
            "invoke-rc.d: policy-rc.d denied execution of start.\n",
            "Setting up libfuse3-3:amd64 (3.10.5-1build1) ...\n",
            "Setting up snapd (2.61.3+22.04) ...\n",
            "Created symlink /etc/systemd/system/multi-user.target.wants/snapd.apparmor.service → /lib/systemd/system/snapd.apparmor.service.\n",
            "Created symlink /etc/systemd/system/multi-user.target.wants/snapd.autoimport.service → /lib/systemd/system/snapd.autoimport.service.\n",
            "Created symlink /etc/systemd/system/multi-user.target.wants/snapd.core-fixup.service → /lib/systemd/system/snapd.core-fixup.service.\n",
            "Created symlink /etc/systemd/system/multi-user.target.wants/snapd.recovery-chooser-trigger.service → /lib/systemd/system/snapd.recovery-chooser-trigger.service.\n",
            "Created symlink /etc/systemd/system/multi-user.target.wants/snapd.seeded.service → /lib/systemd/system/snapd.seeded.service.\n",
            "Created symlink /etc/systemd/system/cloud-final.service.wants/snapd.seeded.service → /lib/systemd/system/snapd.seeded.service.\n",
            "Unit /lib/systemd/system/snapd.seeded.service is added as a dependency to a non-existent unit cloud-final.service.\n",
            "Created symlink /etc/systemd/system/multi-user.target.wants/snapd.service → /lib/systemd/system/snapd.service.\n",
            "Created symlink /etc/systemd/system/timers.target.wants/snapd.snap-repair.timer → /lib/systemd/system/snapd.snap-repair.timer.\n",
            "Created symlink /etc/systemd/system/sockets.target.wants/snapd.socket → /lib/systemd/system/snapd.socket.\n",
            "Created symlink /etc/systemd/system/final.target.wants/snapd.system-shutdown.service → /lib/systemd/system/snapd.system-shutdown.service.\n",
            "Selecting previously unselected package firefox.\n",
            "(Reading database ... 122358 files and directories currently installed.)\n",
            "Preparing to unpack .../firefox_1%3a1snap1-0ubuntu2_amd64.deb ...\n",
            "=> Installing the firefox snap\n",
            "==> Checking connectivity with the snap store\n",
            "===> System doesn't have a working snapd, skipping\n",
            "Unpacking firefox (1:1snap1-0ubuntu2) ...\n",
            "Selecting previously unselected package systemd-hwe-hwdb.\n",
            "Preparing to unpack .../systemd-hwe-hwdb_249.11.5_all.deb ...\n",
            "Unpacking systemd-hwe-hwdb (249.11.5) ...\n",
            "Setting up firefox (1:1snap1-0ubuntu2) ...\n",
            "update-alternatives: using /usr/bin/firefox to provide /usr/bin/gnome-www-browser (gnome-www-browser) in auto mode\n",
            "update-alternatives: using /usr/bin/firefox to provide /usr/bin/x-www-browser (x-www-browser) in auto mode\n",
            "Setting up systemd-hwe-hwdb (249.11.5) ...\n",
            "Processing triggers for libc-bin (2.35-0ubuntu3.4) ...\n",
            "/sbin/ldconfig.real: /usr/local/lib/libtbbbind.so.3 is not a symbolic link\n",
            "\n",
            "/sbin/ldconfig.real: /usr/local/lib/libtbbmalloc.so.2 is not a symbolic link\n",
            "\n",
            "/sbin/ldconfig.real: /usr/local/lib/libtbb.so.12 is not a symbolic link\n",
            "\n",
            "/sbin/ldconfig.real: /usr/local/lib/libtbbbind_2_5.so.3 is not a symbolic link\n",
            "\n",
            "/sbin/ldconfig.real: /usr/local/lib/libtbbmalloc_proxy.so.2 is not a symbolic link\n",
            "\n",
            "/sbin/ldconfig.real: /usr/local/lib/libtbbbind_2_0.so.3 is not a symbolic link\n",
            "\n",
            "Processing triggers for man-db (2.10.2-1) ...\n",
            "Processing triggers for dbus (1.12.20-2ubuntu4.1) ...\n",
            "Processing triggers for udev (249.11-0ubuntu3.12) ...\n",
            "Processing triggers for hicolor-icon-theme (0.17-2) ...\n",
            "Collecting geckodriver\n",
            "  Downloading geckodriver-0.0.1.tar.gz (1.0 kB)\n",
            "  Installing build dependencies ... \u001b[?25l\u001b[?25hdone\n",
            "  Getting requirements to build wheel ... \u001b[?25l\u001b[?25hdone\n",
            "  Installing backend dependencies ... \u001b[?25l\u001b[?25hdone\n",
            "  Preparing metadata (pyproject.toml) ... \u001b[?25l\u001b[?25hdone\n",
            "Building wheels for collected packages: geckodriver\n",
            "  Building wheel for geckodriver (pyproject.toml) ... \u001b[?25l\u001b[?25hdone\n",
            "  Created wheel for geckodriver: filename=geckodriver-0.0.1-py3-none-any.whl size=1101 sha256=7cfd4d3862bbce8aafeb3a5f33e81c1f5ee33aebd8af2410876f0c6300d660ed\n",
            "  Stored in directory: /root/.cache/pip/wheels/d5/1f/e1/89e6f6a8239d7faf6c7647cebd33e36def82b79d94021f0859\n",
            "Successfully built geckodriver\n",
            "Installing collected packages: geckodriver\n",
            "Successfully installed geckodriver-0.0.1\n",
            "Collecting dataframe_image\n",
            "  Downloading dataframe_image-0.2.3-py3-none-any.whl (6.7 MB)\n",
            "\u001b[2K     \u001b[90m━━━━━━━━━━━━━━━━━━━━━━━━━━━━━━━━━━━━━━━━\u001b[0m \u001b[32m6.7/6.7 MB\u001b[0m \u001b[31m16.4 MB/s\u001b[0m eta \u001b[36m0:00:00\u001b[0m\n",
            "\u001b[?25hRequirement already satisfied: pandas>=0.24 in /usr/local/lib/python3.10/dist-packages (from dataframe_image) (2.0.3)\n",
            "Requirement already satisfied: nbconvert>=5 in /usr/local/lib/python3.10/dist-packages (from dataframe_image) (6.5.4)\n",
            "Requirement already satisfied: aiohttp in /usr/local/lib/python3.10/dist-packages (from dataframe_image) (3.9.5)\n",
            "Requirement already satisfied: requests in /usr/local/lib/python3.10/dist-packages (from dataframe_image) (2.31.0)\n",
            "Requirement already satisfied: pillow in /usr/local/lib/python3.10/dist-packages (from dataframe_image) (9.4.0)\n",
            "Requirement already satisfied: packaging in /usr/local/lib/python3.10/dist-packages (from dataframe_image) (24.0)\n",
            "Requirement already satisfied: mistune in /usr/local/lib/python3.10/dist-packages (from dataframe_image) (0.8.4)\n",
            "Requirement already satisfied: lxml in /usr/local/lib/python3.10/dist-packages (from dataframe_image) (4.9.4)\n",
            "Requirement already satisfied: beautifulsoup4 in /usr/local/lib/python3.10/dist-packages (from dataframe_image) (4.12.3)\n",
            "Collecting cssutils (from dataframe_image)\n",
            "  Downloading cssutils-2.10.2-py3-none-any.whl (398 kB)\n",
            "\u001b[2K     \u001b[90m━━━━━━━━━━━━━━━━━━━━━━━━━━━━━━━━━━━━━━━━\u001b[0m \u001b[32m398.1/398.1 kB\u001b[0m \u001b[31m33.8 MB/s\u001b[0m eta \u001b[36m0:00:00\u001b[0m\n",
            "\u001b[?25hCollecting html2image (from dataframe_image)\n",
            "  Downloading html2image-2.0.4.3-py3-none-any.whl (27 kB)\n",
            "Requirement already satisfied: bleach in /usr/local/lib/python3.10/dist-packages (from nbconvert>=5->dataframe_image) (6.1.0)\n",
            "Requirement already satisfied: defusedxml in /usr/local/lib/python3.10/dist-packages (from nbconvert>=5->dataframe_image) (0.7.1)\n",
            "Requirement already satisfied: entrypoints>=0.2.2 in /usr/local/lib/python3.10/dist-packages (from nbconvert>=5->dataframe_image) (0.4)\n",
            "Requirement already satisfied: jinja2>=3.0 in /usr/local/lib/python3.10/dist-packages (from nbconvert>=5->dataframe_image) (3.1.3)\n",
            "Requirement already satisfied: jupyter-core>=4.7 in /usr/local/lib/python3.10/dist-packages (from nbconvert>=5->dataframe_image) (5.7.2)\n",
            "Requirement already satisfied: jupyterlab-pygments in /usr/local/lib/python3.10/dist-packages (from nbconvert>=5->dataframe_image) (0.3.0)\n",
            "Requirement already satisfied: MarkupSafe>=2.0 in /usr/local/lib/python3.10/dist-packages (from nbconvert>=5->dataframe_image) (2.1.5)\n",
            "Requirement already satisfied: nbclient>=0.5.0 in /usr/local/lib/python3.10/dist-packages (from nbconvert>=5->dataframe_image) (0.10.0)\n",
            "Requirement already satisfied: nbformat>=5.1 in /usr/local/lib/python3.10/dist-packages (from nbconvert>=5->dataframe_image) (5.10.4)\n",
            "Requirement already satisfied: pandocfilters>=1.4.1 in /usr/local/lib/python3.10/dist-packages (from nbconvert>=5->dataframe_image) (1.5.1)\n",
            "Requirement already satisfied: pygments>=2.4.1 in /usr/local/lib/python3.10/dist-packages (from nbconvert>=5->dataframe_image) (2.16.1)\n",
            "Requirement already satisfied: tinycss2 in /usr/local/lib/python3.10/dist-packages (from nbconvert>=5->dataframe_image) (1.3.0)\n",
            "Requirement already satisfied: traitlets>=5.0 in /usr/local/lib/python3.10/dist-packages (from nbconvert>=5->dataframe_image) (5.7.1)\n",
            "Requirement already satisfied: python-dateutil>=2.8.2 in /usr/local/lib/python3.10/dist-packages (from pandas>=0.24->dataframe_image) (2.8.2)\n",
            "Requirement already satisfied: pytz>=2020.1 in /usr/local/lib/python3.10/dist-packages (from pandas>=0.24->dataframe_image) (2023.4)\n",
            "Requirement already satisfied: tzdata>=2022.1 in /usr/local/lib/python3.10/dist-packages (from pandas>=0.24->dataframe_image) (2024.1)\n",
            "Requirement already satisfied: numpy>=1.21.0 in /usr/local/lib/python3.10/dist-packages (from pandas>=0.24->dataframe_image) (1.25.2)\n",
            "Requirement already satisfied: aiosignal>=1.1.2 in /usr/local/lib/python3.10/dist-packages (from aiohttp->dataframe_image) (1.3.1)\n",
            "Requirement already satisfied: attrs>=17.3.0 in /usr/local/lib/python3.10/dist-packages (from aiohttp->dataframe_image) (23.2.0)\n",
            "Requirement already satisfied: frozenlist>=1.1.1 in /usr/local/lib/python3.10/dist-packages (from aiohttp->dataframe_image) (1.4.1)\n",
            "Requirement already satisfied: multidict<7.0,>=4.5 in /usr/local/lib/python3.10/dist-packages (from aiohttp->dataframe_image) (6.0.5)\n",
            "Requirement already satisfied: yarl<2.0,>=1.0 in /usr/local/lib/python3.10/dist-packages (from aiohttp->dataframe_image) (1.9.4)\n",
            "Requirement already satisfied: async-timeout<5.0,>=4.0 in /usr/local/lib/python3.10/dist-packages (from aiohttp->dataframe_image) (4.0.3)\n",
            "Requirement already satisfied: soupsieve>1.2 in /usr/local/lib/python3.10/dist-packages (from beautifulsoup4->dataframe_image) (2.5)\n",
            "Requirement already satisfied: websocket-client<2.0.0,>=1.0.0 in /usr/local/lib/python3.10/dist-packages (from html2image->dataframe_image) (1.8.0)\n",
            "Requirement already satisfied: charset-normalizer<4,>=2 in /usr/local/lib/python3.10/dist-packages (from requests->dataframe_image) (3.3.2)\n",
            "Requirement already satisfied: idna<4,>=2.5 in /usr/local/lib/python3.10/dist-packages (from requests->dataframe_image) (3.7)\n",
            "Requirement already satisfied: urllib3<3,>=1.21.1 in /usr/local/lib/python3.10/dist-packages (from requests->dataframe_image) (2.0.7)\n",
            "Requirement already satisfied: certifi>=2017.4.17 in /usr/local/lib/python3.10/dist-packages (from requests->dataframe_image) (2024.2.2)\n",
            "Requirement already satisfied: platformdirs>=2.5 in /usr/local/lib/python3.10/dist-packages (from jupyter-core>=4.7->nbconvert>=5->dataframe_image) (4.2.1)\n",
            "Requirement already satisfied: jupyter-client>=6.1.12 in /usr/local/lib/python3.10/dist-packages (from nbclient>=0.5.0->nbconvert>=5->dataframe_image) (6.1.12)\n",
            "Requirement already satisfied: fastjsonschema>=2.15 in /usr/local/lib/python3.10/dist-packages (from nbformat>=5.1->nbconvert>=5->dataframe_image) (2.19.1)\n",
            "Requirement already satisfied: jsonschema>=2.6 in /usr/local/lib/python3.10/dist-packages (from nbformat>=5.1->nbconvert>=5->dataframe_image) (4.19.2)\n",
            "Requirement already satisfied: six>=1.5 in /usr/local/lib/python3.10/dist-packages (from python-dateutil>=2.8.2->pandas>=0.24->dataframe_image) (1.16.0)\n",
            "Requirement already satisfied: webencodings in /usr/local/lib/python3.10/dist-packages (from bleach->nbconvert>=5->dataframe_image) (0.5.1)\n",
            "Requirement already satisfied: jsonschema-specifications>=2023.03.6 in /usr/local/lib/python3.10/dist-packages (from jsonschema>=2.6->nbformat>=5.1->nbconvert>=5->dataframe_image) (2023.12.1)\n",
            "Requirement already satisfied: referencing>=0.28.4 in /usr/local/lib/python3.10/dist-packages (from jsonschema>=2.6->nbformat>=5.1->nbconvert>=5->dataframe_image) (0.35.0)\n",
            "Requirement already satisfied: rpds-py>=0.7.1 in /usr/local/lib/python3.10/dist-packages (from jsonschema>=2.6->nbformat>=5.1->nbconvert>=5->dataframe_image) (0.18.0)\n",
            "Requirement already satisfied: pyzmq>=13 in /usr/local/lib/python3.10/dist-packages (from jupyter-client>=6.1.12->nbclient>=0.5.0->nbconvert>=5->dataframe_image) (24.0.1)\n",
            "Requirement already satisfied: tornado>=4.1 in /usr/local/lib/python3.10/dist-packages (from jupyter-client>=6.1.12->nbclient>=0.5.0->nbconvert>=5->dataframe_image) (6.3.3)\n",
            "Installing collected packages: cssutils, html2image, dataframe_image\n",
            "Successfully installed cssutils-2.10.2 dataframe_image-0.2.3 html2image-2.0.4.3\n",
            "Collecting selenium\n",
            "  Downloading selenium-4.20.0-py3-none-any.whl (9.5 MB)\n",
            "\u001b[2K     \u001b[90m━━━━━━━━━━━━━━━━━━━━━━━━━━━━━━━━━━━━━━━━\u001b[0m \u001b[32m9.5/9.5 MB\u001b[0m \u001b[31m15.9 MB/s\u001b[0m eta \u001b[36m0:00:00\u001b[0m\n",
            "\u001b[?25hRequirement already satisfied: urllib3[socks]<3,>=1.26 in /usr/local/lib/python3.10/dist-packages (from selenium) (2.0.7)\n",
            "Collecting trio~=0.17 (from selenium)\n",
            "  Downloading trio-0.25.0-py3-none-any.whl (467 kB)\n",
            "\u001b[2K     \u001b[90m━━━━━━━━━━━━━━━━━━━━━━━━━━━━━━━━━━━━━━━━\u001b[0m \u001b[32m467.2/467.2 kB\u001b[0m \u001b[31m29.0 MB/s\u001b[0m eta \u001b[36m0:00:00\u001b[0m\n",
            "\u001b[?25hCollecting trio-websocket~=0.9 (from selenium)\n",
            "  Downloading trio_websocket-0.11.1-py3-none-any.whl (17 kB)\n",
            "Requirement already satisfied: certifi>=2021.10.8 in /usr/local/lib/python3.10/dist-packages (from selenium) (2024.2.2)\n",
            "Requirement already satisfied: typing_extensions>=4.9.0 in /usr/local/lib/python3.10/dist-packages (from selenium) (4.11.0)\n",
            "Requirement already satisfied: attrs>=23.2.0 in /usr/local/lib/python3.10/dist-packages (from trio~=0.17->selenium) (23.2.0)\n",
            "Requirement already satisfied: sortedcontainers in /usr/local/lib/python3.10/dist-packages (from trio~=0.17->selenium) (2.4.0)\n",
            "Requirement already satisfied: idna in /usr/local/lib/python3.10/dist-packages (from trio~=0.17->selenium) (3.7)\n",
            "Collecting outcome (from trio~=0.17->selenium)\n",
            "  Downloading outcome-1.3.0.post0-py2.py3-none-any.whl (10 kB)\n",
            "Requirement already satisfied: sniffio>=1.3.0 in /usr/local/lib/python3.10/dist-packages (from trio~=0.17->selenium) (1.3.1)\n",
            "Requirement already satisfied: exceptiongroup in /usr/local/lib/python3.10/dist-packages (from trio~=0.17->selenium) (1.2.1)\n",
            "Collecting wsproto>=0.14 (from trio-websocket~=0.9->selenium)\n",
            "  Downloading wsproto-1.2.0-py3-none-any.whl (24 kB)\n",
            "Requirement already satisfied: pysocks!=1.5.7,<2.0,>=1.5.6 in /usr/local/lib/python3.10/dist-packages (from urllib3[socks]<3,>=1.26->selenium) (1.7.1)\n",
            "Collecting h11<1,>=0.9.0 (from wsproto>=0.14->trio-websocket~=0.9->selenium)\n",
            "  Downloading h11-0.14.0-py3-none-any.whl (58 kB)\n",
            "\u001b[2K     \u001b[90m━━━━━━━━━━━━━━━━━━━━━━━━━━━━━━━━━━━━━━━━\u001b[0m \u001b[32m58.3/58.3 kB\u001b[0m \u001b[31m6.9 MB/s\u001b[0m eta \u001b[36m0:00:00\u001b[0m\n",
            "\u001b[?25hInstalling collected packages: outcome, h11, wsproto, trio, trio-websocket, selenium\n",
            "Successfully installed h11-0.14.0 outcome-1.3.0.post0 selenium-4.20.0 trio-0.25.0 trio-websocket-0.11.1 wsproto-1.2.0\n",
            "Collecting kaleido\n",
            "  Downloading kaleido-0.2.1-py2.py3-none-manylinux1_x86_64.whl (79.9 MB)\n",
            "\u001b[2K     \u001b[90m━━━━━━━━━━━━━━━━━━━━━━━━━━━━━━━━━━━━━━━━\u001b[0m \u001b[32m79.9/79.9 MB\u001b[0m \u001b[31m9.5 MB/s\u001b[0m eta \u001b[36m0:00:00\u001b[0m\n",
            "\u001b[?25hInstalling collected packages: kaleido\n",
            "Successfully installed kaleido-0.2.1\n",
            "Collecting hvplot\n",
            "  Downloading hvplot-0.9.2-py2.py3-none-any.whl (1.8 MB)\n",
            "\u001b[2K     \u001b[90m━━━━━━━━━━━━━━━━━━━━━━━━━━━━━━━━━━━━━━━━\u001b[0m \u001b[32m1.8/1.8 MB\u001b[0m \u001b[31m10.0 MB/s\u001b[0m eta \u001b[36m0:00:00\u001b[0m\n",
            "\u001b[?25hRequirement already satisfied: bokeh>=1.0.0 in /usr/local/lib/python3.10/dist-packages (from hvplot) (3.3.4)\n",
            "Requirement already satisfied: colorcet>=2 in /usr/local/lib/python3.10/dist-packages (from hvplot) (3.1.0)\n",
            "Requirement already satisfied: holoviews>=1.11.0 in /usr/local/lib/python3.10/dist-packages (from hvplot) (1.17.1)\n",
            "Requirement already satisfied: pandas in /usr/local/lib/python3.10/dist-packages (from hvplot) (2.0.3)\n",
            "Requirement already satisfied: numpy>=1.15 in /usr/local/lib/python3.10/dist-packages (from hvplot) (1.25.2)\n",
            "Requirement already satisfied: packaging in /usr/local/lib/python3.10/dist-packages (from hvplot) (24.0)\n",
            "Requirement already satisfied: panel>=0.11.0 in /usr/local/lib/python3.10/dist-packages (from hvplot) (1.3.8)\n",
            "Requirement already satisfied: param<3.0,>=1.12.0 in /usr/local/lib/python3.10/dist-packages (from hvplot) (2.1.0)\n",
            "Requirement already satisfied: Jinja2>=2.9 in /usr/local/lib/python3.10/dist-packages (from bokeh>=1.0.0->hvplot) (3.1.3)\n",
            "Requirement already satisfied: contourpy>=1 in /usr/local/lib/python3.10/dist-packages (from bokeh>=1.0.0->hvplot) (1.2.1)\n",
            "Requirement already satisfied: pillow>=7.1.0 in /usr/local/lib/python3.10/dist-packages (from bokeh>=1.0.0->hvplot) (9.4.0)\n",
            "Requirement already satisfied: PyYAML>=3.10 in /usr/local/lib/python3.10/dist-packages (from bokeh>=1.0.0->hvplot) (6.0.1)\n",
            "Requirement already satisfied: tornado>=5.1 in /usr/local/lib/python3.10/dist-packages (from bokeh>=1.0.0->hvplot) (6.3.3)\n",
            "Requirement already satisfied: xyzservices>=2021.09.1 in /usr/local/lib/python3.10/dist-packages (from bokeh>=1.0.0->hvplot) (2024.4.0)\n",
            "Requirement already satisfied: pyviz-comms>=0.7.4 in /usr/local/lib/python3.10/dist-packages (from holoviews>=1.11.0->hvplot) (3.0.2)\n",
            "Requirement already satisfied: python-dateutil>=2.8.2 in /usr/local/lib/python3.10/dist-packages (from pandas->hvplot) (2.8.2)\n",
            "Requirement already satisfied: pytz>=2020.1 in /usr/local/lib/python3.10/dist-packages (from pandas->hvplot) (2023.4)\n",
            "Requirement already satisfied: tzdata>=2022.1 in /usr/local/lib/python3.10/dist-packages (from pandas->hvplot) (2024.1)\n",
            "Requirement already satisfied: markdown in /usr/local/lib/python3.10/dist-packages (from panel>=0.11.0->hvplot) (3.6)\n",
            "Requirement already satisfied: markdown-it-py in /usr/local/lib/python3.10/dist-packages (from panel>=0.11.0->hvplot) (3.0.0)\n",
            "Requirement already satisfied: linkify-it-py in /usr/local/lib/python3.10/dist-packages (from panel>=0.11.0->hvplot) (2.0.3)\n",
            "Requirement already satisfied: mdit-py-plugins in /usr/local/lib/python3.10/dist-packages (from panel>=0.11.0->hvplot) (0.4.0)\n",
            "Requirement already satisfied: requests in /usr/local/lib/python3.10/dist-packages (from panel>=0.11.0->hvplot) (2.31.0)\n",
            "Requirement already satisfied: tqdm>=4.48.0 in /usr/local/lib/python3.10/dist-packages (from panel>=0.11.0->hvplot) (4.66.2)\n",
            "Requirement already satisfied: bleach in /usr/local/lib/python3.10/dist-packages (from panel>=0.11.0->hvplot) (6.1.0)\n",
            "Requirement already satisfied: typing-extensions in /usr/local/lib/python3.10/dist-packages (from panel>=0.11.0->hvplot) (4.11.0)\n",
            "Requirement already satisfied: MarkupSafe>=2.0 in /usr/local/lib/python3.10/dist-packages (from Jinja2>=2.9->bokeh>=1.0.0->hvplot) (2.1.5)\n",
            "Requirement already satisfied: six>=1.5 in /usr/local/lib/python3.10/dist-packages (from python-dateutil>=2.8.2->pandas->hvplot) (1.16.0)\n",
            "Requirement already satisfied: webencodings in /usr/local/lib/python3.10/dist-packages (from bleach->panel>=0.11.0->hvplot) (0.5.1)\n",
            "Requirement already satisfied: uc-micro-py in /usr/local/lib/python3.10/dist-packages (from linkify-it-py->panel>=0.11.0->hvplot) (1.0.3)\n",
            "Requirement already satisfied: mdurl~=0.1 in /usr/local/lib/python3.10/dist-packages (from markdown-it-py->panel>=0.11.0->hvplot) (0.1.2)\n",
            "Requirement already satisfied: charset-normalizer<4,>=2 in /usr/local/lib/python3.10/dist-packages (from requests->panel>=0.11.0->hvplot) (3.3.2)\n",
            "Requirement already satisfied: idna<4,>=2.5 in /usr/local/lib/python3.10/dist-packages (from requests->panel>=0.11.0->hvplot) (3.7)\n",
            "Requirement already satisfied: urllib3<3,>=1.21.1 in /usr/local/lib/python3.10/dist-packages (from requests->panel>=0.11.0->hvplot) (2.0.7)\n",
            "Requirement already satisfied: certifi>=2017.4.17 in /usr/local/lib/python3.10/dist-packages (from requests->panel>=0.11.0->hvplot) (2024.2.2)\n",
            "Installing collected packages: hvplot\n",
            "Successfully installed hvplot-0.9.2\n",
            "Requirement already satisfied: plotly in /usr/local/lib/python3.10/dist-packages (5.15.0)\n",
            "Collecting plotly\n",
            "  Downloading plotly-5.22.0-py3-none-any.whl (16.4 MB)\n",
            "\u001b[2K     \u001b[90m━━━━━━━━━━━━━━━━━━━━━━━━━━━━━━━━━━━━━━━━\u001b[0m \u001b[32m16.4/16.4 MB\u001b[0m \u001b[31m34.0 MB/s\u001b[0m eta \u001b[36m0:00:00\u001b[0m\n",
            "\u001b[?25hRequirement already satisfied: tenacity>=6.2.0 in /usr/local/lib/python3.10/dist-packages (from plotly) (8.2.3)\n",
            "Requirement already satisfied: packaging in /usr/local/lib/python3.10/dist-packages (from plotly) (24.0)\n",
            "Installing collected packages: plotly\n",
            "  Attempting uninstall: plotly\n",
            "    Found existing installation: plotly 5.15.0\n",
            "    Uninstalling plotly-5.15.0:\n",
            "      Successfully uninstalled plotly-5.15.0\n",
            "Successfully installed plotly-5.22.0\n",
            "Requirement already satisfied: panel in /usr/local/lib/python3.10/dist-packages (1.3.8)\n",
            "Collecting panel\n",
            "  Downloading panel-1.4.2-py3-none-any.whl (24.7 MB)\n",
            "\u001b[2K     \u001b[90m━━━━━━━━━━━━━━━━━━━━━━━━━━━━━━━━━━━━━━━━\u001b[0m \u001b[32m24.7/24.7 MB\u001b[0m \u001b[31m36.8 MB/s\u001b[0m eta \u001b[36m0:00:00\u001b[0m\n",
            "\u001b[?25hCollecting bokeh<3.5.0,>=3.4.0 (from panel)\n",
            "  Downloading bokeh-3.4.1-py3-none-any.whl (7.0 MB)\n",
            "\u001b[2K     \u001b[90m━━━━━━━━━━━━━━━━━━━━━━━━━━━━━━━━━━━━━━━━\u001b[0m \u001b[32m7.0/7.0 MB\u001b[0m \u001b[31m51.8 MB/s\u001b[0m eta \u001b[36m0:00:00\u001b[0m\n",
            "\u001b[?25hRequirement already satisfied: param<3.0,>=2.0.0 in /usr/local/lib/python3.10/dist-packages (from panel) (2.1.0)\n",
            "Requirement already satisfied: pyviz-comms>=2.0.0 in /usr/local/lib/python3.10/dist-packages (from panel) (3.0.2)\n",
            "Requirement already satisfied: xyzservices>=2021.09.1 in /usr/local/lib/python3.10/dist-packages (from panel) (2024.4.0)\n",
            "Requirement already satisfied: markdown in /usr/local/lib/python3.10/dist-packages (from panel) (3.6)\n",
            "Requirement already satisfied: markdown-it-py in /usr/local/lib/python3.10/dist-packages (from panel) (3.0.0)\n",
            "Requirement already satisfied: linkify-it-py in /usr/local/lib/python3.10/dist-packages (from panel) (2.0.3)\n",
            "Requirement already satisfied: mdit-py-plugins in /usr/local/lib/python3.10/dist-packages (from panel) (0.4.0)\n",
            "Requirement already satisfied: requests in /usr/local/lib/python3.10/dist-packages (from panel) (2.31.0)\n",
            "Requirement already satisfied: tqdm>=4.48.0 in /usr/local/lib/python3.10/dist-packages (from panel) (4.66.2)\n",
            "Requirement already satisfied: bleach in /usr/local/lib/python3.10/dist-packages (from panel) (6.1.0)\n",
            "Requirement already satisfied: typing-extensions in /usr/local/lib/python3.10/dist-packages (from panel) (4.11.0)\n",
            "Requirement already satisfied: pandas>=1.2 in /usr/local/lib/python3.10/dist-packages (from panel) (2.0.3)\n",
            "Requirement already satisfied: Jinja2>=2.9 in /usr/local/lib/python3.10/dist-packages (from bokeh<3.5.0,>=3.4.0->panel) (3.1.3)\n",
            "Requirement already satisfied: contourpy>=1.2 in /usr/local/lib/python3.10/dist-packages (from bokeh<3.5.0,>=3.4.0->panel) (1.2.1)\n",
            "Requirement already satisfied: numpy>=1.16 in /usr/local/lib/python3.10/dist-packages (from bokeh<3.5.0,>=3.4.0->panel) (1.25.2)\n",
            "Requirement already satisfied: packaging>=16.8 in /usr/local/lib/python3.10/dist-packages (from bokeh<3.5.0,>=3.4.0->panel) (24.0)\n",
            "Requirement already satisfied: pillow>=7.1.0 in /usr/local/lib/python3.10/dist-packages (from bokeh<3.5.0,>=3.4.0->panel) (9.4.0)\n",
            "Requirement already satisfied: PyYAML>=3.10 in /usr/local/lib/python3.10/dist-packages (from bokeh<3.5.0,>=3.4.0->panel) (6.0.1)\n",
            "Requirement already satisfied: tornado>=6.2 in /usr/local/lib/python3.10/dist-packages (from bokeh<3.5.0,>=3.4.0->panel) (6.3.3)\n",
            "Requirement already satisfied: python-dateutil>=2.8.2 in /usr/local/lib/python3.10/dist-packages (from pandas>=1.2->panel) (2.8.2)\n",
            "Requirement already satisfied: pytz>=2020.1 in /usr/local/lib/python3.10/dist-packages (from pandas>=1.2->panel) (2023.4)\n",
            "Requirement already satisfied: tzdata>=2022.1 in /usr/local/lib/python3.10/dist-packages (from pandas>=1.2->panel) (2024.1)\n",
            "Requirement already satisfied: six>=1.9.0 in /usr/local/lib/python3.10/dist-packages (from bleach->panel) (1.16.0)\n",
            "Requirement already satisfied: webencodings in /usr/local/lib/python3.10/dist-packages (from bleach->panel) (0.5.1)\n",
            "Requirement already satisfied: uc-micro-py in /usr/local/lib/python3.10/dist-packages (from linkify-it-py->panel) (1.0.3)\n",
            "Requirement already satisfied: mdurl~=0.1 in /usr/local/lib/python3.10/dist-packages (from markdown-it-py->panel) (0.1.2)\n",
            "Requirement already satisfied: charset-normalizer<4,>=2 in /usr/local/lib/python3.10/dist-packages (from requests->panel) (3.3.2)\n",
            "Requirement already satisfied: idna<4,>=2.5 in /usr/local/lib/python3.10/dist-packages (from requests->panel) (3.7)\n",
            "Requirement already satisfied: urllib3<3,>=1.21.1 in /usr/local/lib/python3.10/dist-packages (from requests->panel) (2.0.7)\n",
            "Requirement already satisfied: certifi>=2017.4.17 in /usr/local/lib/python3.10/dist-packages (from requests->panel) (2024.2.2)\n",
            "Requirement already satisfied: MarkupSafe>=2.0 in /usr/local/lib/python3.10/dist-packages (from Jinja2>=2.9->bokeh<3.5.0,>=3.4.0->panel) (2.1.5)\n",
            "Installing collected packages: bokeh, panel\n",
            "  Attempting uninstall: bokeh\n",
            "    Found existing installation: bokeh 3.3.4\n",
            "    Uninstalling bokeh-3.3.4:\n",
            "      Successfully uninstalled bokeh-3.3.4\n",
            "  Attempting uninstall: panel\n",
            "    Found existing installation: panel 1.3.8\n",
            "    Uninstalling panel-1.3.8:\n",
            "      Successfully uninstalled panel-1.3.8\n",
            "Successfully installed bokeh-3.4.1 panel-1.4.2\n",
            "Requirement already satisfied: bokeh in /usr/local/lib/python3.10/dist-packages (3.4.1)\n",
            "Requirement already satisfied: Jinja2>=2.9 in /usr/local/lib/python3.10/dist-packages (from bokeh) (3.1.3)\n",
            "Requirement already satisfied: contourpy>=1.2 in /usr/local/lib/python3.10/dist-packages (from bokeh) (1.2.1)\n",
            "Requirement already satisfied: numpy>=1.16 in /usr/local/lib/python3.10/dist-packages (from bokeh) (1.25.2)\n",
            "Requirement already satisfied: packaging>=16.8 in /usr/local/lib/python3.10/dist-packages (from bokeh) (24.0)\n",
            "Requirement already satisfied: pandas>=1.2 in /usr/local/lib/python3.10/dist-packages (from bokeh) (2.0.3)\n",
            "Requirement already satisfied: pillow>=7.1.0 in /usr/local/lib/python3.10/dist-packages (from bokeh) (9.4.0)\n",
            "Requirement already satisfied: PyYAML>=3.10 in /usr/local/lib/python3.10/dist-packages (from bokeh) (6.0.1)\n",
            "Requirement already satisfied: tornado>=6.2 in /usr/local/lib/python3.10/dist-packages (from bokeh) (6.3.3)\n",
            "Requirement already satisfied: xyzservices>=2021.09.1 in /usr/local/lib/python3.10/dist-packages (from bokeh) (2024.4.0)\n",
            "Requirement already satisfied: MarkupSafe>=2.0 in /usr/local/lib/python3.10/dist-packages (from Jinja2>=2.9->bokeh) (2.1.5)\n",
            "Requirement already satisfied: python-dateutil>=2.8.2 in /usr/local/lib/python3.10/dist-packages (from pandas>=1.2->bokeh) (2.8.2)\n",
            "Requirement already satisfied: pytz>=2020.1 in /usr/local/lib/python3.10/dist-packages (from pandas>=1.2->bokeh) (2023.4)\n",
            "Requirement already satisfied: tzdata>=2022.1 in /usr/local/lib/python3.10/dist-packages (from pandas>=1.2->bokeh) (2024.1)\n",
            "Requirement already satisfied: six>=1.5 in /usr/local/lib/python3.10/dist-packages (from python-dateutil>=2.8.2->pandas>=1.2->bokeh) (1.16.0)\n",
            "Collecting imblearn\n",
            "  Downloading imblearn-0.0-py2.py3-none-any.whl (1.9 kB)\n",
            "Requirement already satisfied: imbalanced-learn in /usr/local/lib/python3.10/dist-packages (from imblearn) (0.10.1)\n",
            "Requirement already satisfied: numpy>=1.17.3 in /usr/local/lib/python3.10/dist-packages (from imbalanced-learn->imblearn) (1.25.2)\n",
            "Requirement already satisfied: scipy>=1.3.2 in /usr/local/lib/python3.10/dist-packages (from imbalanced-learn->imblearn) (1.11.4)\n",
            "Requirement already satisfied: scikit-learn>=1.0.2 in /usr/local/lib/python3.10/dist-packages (from imbalanced-learn->imblearn) (1.2.2)\n",
            "Requirement already satisfied: joblib>=1.1.1 in /usr/local/lib/python3.10/dist-packages (from imbalanced-learn->imblearn) (1.4.0)\n",
            "Requirement already satisfied: threadpoolctl>=2.0.0 in /usr/local/lib/python3.10/dist-packages (from imbalanced-learn->imblearn) (3.4.0)\n",
            "Installing collected packages: imblearn\n",
            "Successfully installed imblearn-0.0\n"
          ]
        },
        {
          "output_type": "display_data",
          "data": {
            "application/javascript": [
              "(function(root) {\n",
              "  function now() {\n",
              "    return new Date();\n",
              "  }\n",
              "\n",
              "  var force = true;\n",
              "  var py_version = '3.4.1'.replace('rc', '-rc.').replace('.dev', '-dev.');\n",
              "  var reloading = false;\n",
              "  var Bokeh = root.Bokeh;\n",
              "\n",
              "  if (typeof (root._bokeh_timeout) === \"undefined\" || force) {\n",
              "    root._bokeh_timeout = Date.now() + 5000;\n",
              "    root._bokeh_failed_load = false;\n",
              "  }\n",
              "\n",
              "  function run_callbacks() {\n",
              "    try {\n",
              "      root._bokeh_onload_callbacks.forEach(function(callback) {\n",
              "        if (callback != null)\n",
              "          callback();\n",
              "      });\n",
              "    } finally {\n",
              "      delete root._bokeh_onload_callbacks;\n",
              "    }\n",
              "    console.debug(\"Bokeh: all callbacks have finished\");\n",
              "  }\n",
              "\n",
              "  function load_libs(css_urls, js_urls, js_modules, js_exports, callback) {\n",
              "    if (css_urls == null) css_urls = [];\n",
              "    if (js_urls == null) js_urls = [];\n",
              "    if (js_modules == null) js_modules = [];\n",
              "    if (js_exports == null) js_exports = {};\n",
              "\n",
              "    root._bokeh_onload_callbacks.push(callback);\n",
              "\n",
              "    if (root._bokeh_is_loading > 0) {\n",
              "      console.debug(\"Bokeh: BokehJS is being loaded, scheduling callback at\", now());\n",
              "      return null;\n",
              "    }\n",
              "    if (js_urls.length === 0 && js_modules.length === 0 && Object.keys(js_exports).length === 0) {\n",
              "      run_callbacks();\n",
              "      return null;\n",
              "    }\n",
              "    if (!reloading) {\n",
              "      console.debug(\"Bokeh: BokehJS not loaded, scheduling load and callback at\", now());\n",
              "    }\n",
              "\n",
              "    function on_load() {\n",
              "      root._bokeh_is_loading--;\n",
              "      if (root._bokeh_is_loading === 0) {\n",
              "        console.debug(\"Bokeh: all BokehJS libraries/stylesheets loaded\");\n",
              "        run_callbacks()\n",
              "      }\n",
              "    }\n",
              "    window._bokeh_on_load = on_load\n",
              "\n",
              "    function on_error() {\n",
              "      console.error(\"failed to load \" + url);\n",
              "    }\n",
              "\n",
              "    var skip = [];\n",
              "    if (window.requirejs) {\n",
              "      window.requirejs.config({'packages': {}, 'paths': {}, 'shim': {}});\n",
              "      root._bokeh_is_loading = css_urls.length + 0;\n",
              "    } else {\n",
              "      root._bokeh_is_loading = css_urls.length + js_urls.length + js_modules.length + Object.keys(js_exports).length;\n",
              "    }\n",
              "\n",
              "    var existing_stylesheets = []\n",
              "    var links = document.getElementsByTagName('link')\n",
              "    for (var i = 0; i < links.length; i++) {\n",
              "      var link = links[i]\n",
              "      if (link.href != null) {\n",
              "\texisting_stylesheets.push(link.href)\n",
              "      }\n",
              "    }\n",
              "    for (var i = 0; i < css_urls.length; i++) {\n",
              "      var url = css_urls[i];\n",
              "      if (existing_stylesheets.indexOf(url) !== -1) {\n",
              "\ton_load()\n",
              "\tcontinue;\n",
              "      }\n",
              "      const element = document.createElement(\"link\");\n",
              "      element.onload = on_load;\n",
              "      element.onerror = on_error;\n",
              "      element.rel = \"stylesheet\";\n",
              "      element.type = \"text/css\";\n",
              "      element.href = url;\n",
              "      console.debug(\"Bokeh: injecting link tag for BokehJS stylesheet: \", url);\n",
              "      document.body.appendChild(element);\n",
              "    }    var existing_scripts = []\n",
              "    var scripts = document.getElementsByTagName('script')\n",
              "    for (var i = 0; i < scripts.length; i++) {\n",
              "      var script = scripts[i]\n",
              "      if (script.src != null) {\n",
              "\texisting_scripts.push(script.src)\n",
              "      }\n",
              "    }\n",
              "    for (var i = 0; i < js_urls.length; i++) {\n",
              "      var url = js_urls[i];\n",
              "      if (skip.indexOf(url) !== -1 || existing_scripts.indexOf(url) !== -1) {\n",
              "\tif (!window.requirejs) {\n",
              "\t  on_load();\n",
              "\t}\n",
              "\tcontinue;\n",
              "      }\n",
              "      var element = document.createElement('script');\n",
              "      element.onload = on_load;\n",
              "      element.onerror = on_error;\n",
              "      element.async = false;\n",
              "      element.src = url;\n",
              "      console.debug(\"Bokeh: injecting script tag for BokehJS library: \", url);\n",
              "      document.head.appendChild(element);\n",
              "    }\n",
              "    for (var i = 0; i < js_modules.length; i++) {\n",
              "      var url = js_modules[i];\n",
              "      if (skip.indexOf(url) !== -1 || existing_scripts.indexOf(url) !== -1) {\n",
              "\tif (!window.requirejs) {\n",
              "\t  on_load();\n",
              "\t}\n",
              "\tcontinue;\n",
              "      }\n",
              "      var element = document.createElement('script');\n",
              "      element.onload = on_load;\n",
              "      element.onerror = on_error;\n",
              "      element.async = false;\n",
              "      element.src = url;\n",
              "      element.type = \"module\";\n",
              "      console.debug(\"Bokeh: injecting script tag for BokehJS library: \", url);\n",
              "      document.head.appendChild(element);\n",
              "    }\n",
              "    for (const name in js_exports) {\n",
              "      var url = js_exports[name];\n",
              "      if (skip.indexOf(url) >= 0 || root[name] != null) {\n",
              "\tif (!window.requirejs) {\n",
              "\t  on_load();\n",
              "\t}\n",
              "\tcontinue;\n",
              "      }\n",
              "      var element = document.createElement('script');\n",
              "      element.onerror = on_error;\n",
              "      element.async = false;\n",
              "      element.type = \"module\";\n",
              "      console.debug(\"Bokeh: injecting script tag for BokehJS library: \", url);\n",
              "      element.textContent = `\n",
              "      import ${name} from \"${url}\"\n",
              "      window.${name} = ${name}\n",
              "      window._bokeh_on_load()\n",
              "      `\n",
              "      document.head.appendChild(element);\n",
              "    }\n",
              "    if (!js_urls.length && !js_modules.length) {\n",
              "      on_load()\n",
              "    }\n",
              "  };\n",
              "\n",
              "  function inject_raw_css(css) {\n",
              "    const element = document.createElement(\"style\");\n",
              "    element.appendChild(document.createTextNode(css));\n",
              "    document.body.appendChild(element);\n",
              "  }\n",
              "\n",
              "  var js_urls = [\"https://cdn.bokeh.org/bokeh/release/bokeh-3.4.1.min.js\", \"https://cdn.bokeh.org/bokeh/release/bokeh-gl-3.4.1.min.js\", \"https://cdn.bokeh.org/bokeh/release/bokeh-widgets-3.4.1.min.js\", \"https://cdn.bokeh.org/bokeh/release/bokeh-tables-3.4.1.min.js\", \"https://cdn.holoviz.org/panel/1.4.2/dist/panel.min.js\"];\n",
              "  var js_modules = [];\n",
              "  var js_exports = {};\n",
              "  var css_urls = [];\n",
              "  var inline_js = [    function(Bokeh) {\n",
              "      Bokeh.set_log_level(\"info\");\n",
              "    },\n",
              "function(Bokeh) {} // ensure no trailing comma for IE\n",
              "  ];\n",
              "\n",
              "  function run_inline_js() {\n",
              "    if ((root.Bokeh !== undefined) || (force === true)) {\n",
              "      for (var i = 0; i < inline_js.length; i++) {\n",
              "\ttry {\n",
              "          inline_js[i].call(root, root.Bokeh);\n",
              "\t} catch(e) {\n",
              "\t  if (!reloading) {\n",
              "\t    throw e;\n",
              "\t  }\n",
              "\t}\n",
              "      }\n",
              "      // Cache old bokeh versions\n",
              "      if (Bokeh != undefined && !reloading) {\n",
              "\tvar NewBokeh = root.Bokeh;\n",
              "\tif (Bokeh.versions === undefined) {\n",
              "\t  Bokeh.versions = new Map();\n",
              "\t}\n",
              "\tif (NewBokeh.version !== Bokeh.version) {\n",
              "\t  Bokeh.versions.set(NewBokeh.version, NewBokeh)\n",
              "\t}\n",
              "\troot.Bokeh = Bokeh;\n",
              "      }} else if (Date.now() < root._bokeh_timeout) {\n",
              "      setTimeout(run_inline_js, 100);\n",
              "    } else if (!root._bokeh_failed_load) {\n",
              "      console.log(\"Bokeh: BokehJS failed to load within specified timeout.\");\n",
              "      root._bokeh_failed_load = true;\n",
              "    }\n",
              "    root._bokeh_is_initializing = false\n",
              "  }\n",
              "\n",
              "  function load_or_wait() {\n",
              "    // Implement a backoff loop that tries to ensure we do not load multiple\n",
              "    // versions of Bokeh and its dependencies at the same time.\n",
              "    // In recent versions we use the root._bokeh_is_initializing flag\n",
              "    // to determine whether there is an ongoing attempt to initialize\n",
              "    // bokeh, however for backward compatibility we also try to ensure\n",
              "    // that we do not start loading a newer (Panel>=1.0 and Bokeh>3) version\n",
              "    // before older versions are fully initialized.\n",
              "    if (root._bokeh_is_initializing && Date.now() > root._bokeh_timeout) {\n",
              "      root._bokeh_is_initializing = false;\n",
              "      root._bokeh_onload_callbacks = undefined;\n",
              "      console.log(\"Bokeh: BokehJS was loaded multiple times but one version failed to initialize.\");\n",
              "      load_or_wait();\n",
              "    } else if (root._bokeh_is_initializing || (typeof root._bokeh_is_initializing === \"undefined\" && root._bokeh_onload_callbacks !== undefined)) {\n",
              "      setTimeout(load_or_wait, 100);\n",
              "    } else {\n",
              "      root._bokeh_is_initializing = true\n",
              "      root._bokeh_onload_callbacks = []\n",
              "      var bokeh_loaded = Bokeh != null && (Bokeh.version === py_version || (Bokeh.versions !== undefined && Bokeh.versions.has(py_version)));\n",
              "      if (!reloading && !bokeh_loaded) {\n",
              "\troot.Bokeh = undefined;\n",
              "      }\n",
              "      load_libs(css_urls, js_urls, js_modules, js_exports, function() {\n",
              "\tconsole.debug(\"Bokeh: BokehJS plotting callback run at\", now());\n",
              "\trun_inline_js();\n",
              "      });\n",
              "    }\n",
              "  }\n",
              "  // Give older versions of the autoload script a head-start to ensure\n",
              "  // they initialize before we start loading newer version.\n",
              "  setTimeout(load_or_wait, 100)\n",
              "}(window));"
            ],
            "application/vnd.holoviews_load.v0+json": "(function(root) {\n  function now() {\n    return new Date();\n  }\n\n  var force = true;\n  var py_version = '3.4.1'.replace('rc', '-rc.').replace('.dev', '-dev.');\n  var reloading = false;\n  var Bokeh = root.Bokeh;\n\n  if (typeof (root._bokeh_timeout) === \"undefined\" || force) {\n    root._bokeh_timeout = Date.now() + 5000;\n    root._bokeh_failed_load = false;\n  }\n\n  function run_callbacks() {\n    try {\n      root._bokeh_onload_callbacks.forEach(function(callback) {\n        if (callback != null)\n          callback();\n      });\n    } finally {\n      delete root._bokeh_onload_callbacks;\n    }\n    console.debug(\"Bokeh: all callbacks have finished\");\n  }\n\n  function load_libs(css_urls, js_urls, js_modules, js_exports, callback) {\n    if (css_urls == null) css_urls = [];\n    if (js_urls == null) js_urls = [];\n    if (js_modules == null) js_modules = [];\n    if (js_exports == null) js_exports = {};\n\n    root._bokeh_onload_callbacks.push(callback);\n\n    if (root._bokeh_is_loading > 0) {\n      console.debug(\"Bokeh: BokehJS is being loaded, scheduling callback at\", now());\n      return null;\n    }\n    if (js_urls.length === 0 && js_modules.length === 0 && Object.keys(js_exports).length === 0) {\n      run_callbacks();\n      return null;\n    }\n    if (!reloading) {\n      console.debug(\"Bokeh: BokehJS not loaded, scheduling load and callback at\", now());\n    }\n\n    function on_load() {\n      root._bokeh_is_loading--;\n      if (root._bokeh_is_loading === 0) {\n        console.debug(\"Bokeh: all BokehJS libraries/stylesheets loaded\");\n        run_callbacks()\n      }\n    }\n    window._bokeh_on_load = on_load\n\n    function on_error() {\n      console.error(\"failed to load \" + url);\n    }\n\n    var skip = [];\n    if (window.requirejs) {\n      window.requirejs.config({'packages': {}, 'paths': {}, 'shim': {}});\n      root._bokeh_is_loading = css_urls.length + 0;\n    } else {\n      root._bokeh_is_loading = css_urls.length + js_urls.length + js_modules.length + Object.keys(js_exports).length;\n    }\n\n    var existing_stylesheets = []\n    var links = document.getElementsByTagName('link')\n    for (var i = 0; i < links.length; i++) {\n      var link = links[i]\n      if (link.href != null) {\n\texisting_stylesheets.push(link.href)\n      }\n    }\n    for (var i = 0; i < css_urls.length; i++) {\n      var url = css_urls[i];\n      if (existing_stylesheets.indexOf(url) !== -1) {\n\ton_load()\n\tcontinue;\n      }\n      const element = document.createElement(\"link\");\n      element.onload = on_load;\n      element.onerror = on_error;\n      element.rel = \"stylesheet\";\n      element.type = \"text/css\";\n      element.href = url;\n      console.debug(\"Bokeh: injecting link tag for BokehJS stylesheet: \", url);\n      document.body.appendChild(element);\n    }    var existing_scripts = []\n    var scripts = document.getElementsByTagName('script')\n    for (var i = 0; i < scripts.length; i++) {\n      var script = scripts[i]\n      if (script.src != null) {\n\texisting_scripts.push(script.src)\n      }\n    }\n    for (var i = 0; i < js_urls.length; i++) {\n      var url = js_urls[i];\n      if (skip.indexOf(url) !== -1 || existing_scripts.indexOf(url) !== -1) {\n\tif (!window.requirejs) {\n\t  on_load();\n\t}\n\tcontinue;\n      }\n      var element = document.createElement('script');\n      element.onload = on_load;\n      element.onerror = on_error;\n      element.async = false;\n      element.src = url;\n      console.debug(\"Bokeh: injecting script tag for BokehJS library: \", url);\n      document.head.appendChild(element);\n    }\n    for (var i = 0; i < js_modules.length; i++) {\n      var url = js_modules[i];\n      if (skip.indexOf(url) !== -1 || existing_scripts.indexOf(url) !== -1) {\n\tif (!window.requirejs) {\n\t  on_load();\n\t}\n\tcontinue;\n      }\n      var element = document.createElement('script');\n      element.onload = on_load;\n      element.onerror = on_error;\n      element.async = false;\n      element.src = url;\n      element.type = \"module\";\n      console.debug(\"Bokeh: injecting script tag for BokehJS library: \", url);\n      document.head.appendChild(element);\n    }\n    for (const name in js_exports) {\n      var url = js_exports[name];\n      if (skip.indexOf(url) >= 0 || root[name] != null) {\n\tif (!window.requirejs) {\n\t  on_load();\n\t}\n\tcontinue;\n      }\n      var element = document.createElement('script');\n      element.onerror = on_error;\n      element.async = false;\n      element.type = \"module\";\n      console.debug(\"Bokeh: injecting script tag for BokehJS library: \", url);\n      element.textContent = `\n      import ${name} from \"${url}\"\n      window.${name} = ${name}\n      window._bokeh_on_load()\n      `\n      document.head.appendChild(element);\n    }\n    if (!js_urls.length && !js_modules.length) {\n      on_load()\n    }\n  };\n\n  function inject_raw_css(css) {\n    const element = document.createElement(\"style\");\n    element.appendChild(document.createTextNode(css));\n    document.body.appendChild(element);\n  }\n\n  var js_urls = [\"https://cdn.bokeh.org/bokeh/release/bokeh-3.4.1.min.js\", \"https://cdn.bokeh.org/bokeh/release/bokeh-gl-3.4.1.min.js\", \"https://cdn.bokeh.org/bokeh/release/bokeh-widgets-3.4.1.min.js\", \"https://cdn.bokeh.org/bokeh/release/bokeh-tables-3.4.1.min.js\", \"https://cdn.holoviz.org/panel/1.4.2/dist/panel.min.js\"];\n  var js_modules = [];\n  var js_exports = {};\n  var css_urls = [];\n  var inline_js = [    function(Bokeh) {\n      Bokeh.set_log_level(\"info\");\n    },\nfunction(Bokeh) {} // ensure no trailing comma for IE\n  ];\n\n  function run_inline_js() {\n    if ((root.Bokeh !== undefined) || (force === true)) {\n      for (var i = 0; i < inline_js.length; i++) {\n\ttry {\n          inline_js[i].call(root, root.Bokeh);\n\t} catch(e) {\n\t  if (!reloading) {\n\t    throw e;\n\t  }\n\t}\n      }\n      // Cache old bokeh versions\n      if (Bokeh != undefined && !reloading) {\n\tvar NewBokeh = root.Bokeh;\n\tif (Bokeh.versions === undefined) {\n\t  Bokeh.versions = new Map();\n\t}\n\tif (NewBokeh.version !== Bokeh.version) {\n\t  Bokeh.versions.set(NewBokeh.version, NewBokeh)\n\t}\n\troot.Bokeh = Bokeh;\n      }} else if (Date.now() < root._bokeh_timeout) {\n      setTimeout(run_inline_js, 100);\n    } else if (!root._bokeh_failed_load) {\n      console.log(\"Bokeh: BokehJS failed to load within specified timeout.\");\n      root._bokeh_failed_load = true;\n    }\n    root._bokeh_is_initializing = false\n  }\n\n  function load_or_wait() {\n    // Implement a backoff loop that tries to ensure we do not load multiple\n    // versions of Bokeh and its dependencies at the same time.\n    // In recent versions we use the root._bokeh_is_initializing flag\n    // to determine whether there is an ongoing attempt to initialize\n    // bokeh, however for backward compatibility we also try to ensure\n    // that we do not start loading a newer (Panel>=1.0 and Bokeh>3) version\n    // before older versions are fully initialized.\n    if (root._bokeh_is_initializing && Date.now() > root._bokeh_timeout) {\n      root._bokeh_is_initializing = false;\n      root._bokeh_onload_callbacks = undefined;\n      console.log(\"Bokeh: BokehJS was loaded multiple times but one version failed to initialize.\");\n      load_or_wait();\n    } else if (root._bokeh_is_initializing || (typeof root._bokeh_is_initializing === \"undefined\" && root._bokeh_onload_callbacks !== undefined)) {\n      setTimeout(load_or_wait, 100);\n    } else {\n      root._bokeh_is_initializing = true\n      root._bokeh_onload_callbacks = []\n      var bokeh_loaded = Bokeh != null && (Bokeh.version === py_version || (Bokeh.versions !== undefined && Bokeh.versions.has(py_version)));\n      if (!reloading && !bokeh_loaded) {\n\troot.Bokeh = undefined;\n      }\n      load_libs(css_urls, js_urls, js_modules, js_exports, function() {\n\tconsole.debug(\"Bokeh: BokehJS plotting callback run at\", now());\n\trun_inline_js();\n      });\n    }\n  }\n  // Give older versions of the autoload script a head-start to ensure\n  // they initialize before we start loading newer version.\n  setTimeout(load_or_wait, 100)\n}(window));"
          },
          "metadata": {}
        },
        {
          "output_type": "display_data",
          "data": {
            "application/vnd.holoviews_load.v0+json": "\nif ((window.PyViz === undefined) || (window.PyViz instanceof HTMLElement)) {\n  window.PyViz = {comms: {}, comm_status:{}, kernels:{}, receivers: {}, plot_index: []}\n}\n\n\n    function JupyterCommManager() {\n    }\n\n    JupyterCommManager.prototype.register_target = function(plot_id, comm_id, msg_handler) {\n      if (window.comm_manager || ((window.Jupyter !== undefined) && (Jupyter.notebook.kernel != null))) {\n        var comm_manager = window.comm_manager || Jupyter.notebook.kernel.comm_manager;\n        comm_manager.register_target(comm_id, function(comm) {\n          comm.on_msg(msg_handler);\n        });\n      } else if ((plot_id in window.PyViz.kernels) && (window.PyViz.kernels[plot_id])) {\n        window.PyViz.kernels[plot_id].registerCommTarget(comm_id, function(comm) {\n          comm.onMsg = msg_handler;\n        });\n      } else if (typeof google != 'undefined' && google.colab.kernel != null) {\n        google.colab.kernel.comms.registerTarget(comm_id, (comm) => {\n          var messages = comm.messages[Symbol.asyncIterator]();\n          function processIteratorResult(result) {\n            var message = result.value;\n            console.log(message)\n            var content = {data: message.data, comm_id};\n            var buffers = []\n            for (var buffer of message.buffers || []) {\n              buffers.push(new DataView(buffer))\n            }\n            var metadata = message.metadata || {};\n            var msg = {content, buffers, metadata}\n            msg_handler(msg);\n            return messages.next().then(processIteratorResult);\n          }\n          return messages.next().then(processIteratorResult);\n        })\n      }\n    }\n\n    JupyterCommManager.prototype.get_client_comm = function(plot_id, comm_id, msg_handler) {\n      if (comm_id in window.PyViz.comms) {\n        return window.PyViz.comms[comm_id];\n      } else if (window.comm_manager || ((window.Jupyter !== undefined) && (Jupyter.notebook.kernel != null))) {\n        var comm_manager = window.comm_manager || Jupyter.notebook.kernel.comm_manager;\n        var comm = comm_manager.new_comm(comm_id, {}, {}, {}, comm_id);\n        if (msg_handler) {\n          comm.on_msg(msg_handler);\n        }\n      } else if ((plot_id in window.PyViz.kernels) && (window.PyViz.kernels[plot_id])) {\n        var comm = window.PyViz.kernels[plot_id].connectToComm(comm_id);\n        comm.open();\n        if (msg_handler) {\n          comm.onMsg = msg_handler;\n        }\n      } else if (typeof google != 'undefined' && google.colab.kernel != null) {\n        var comm_promise = google.colab.kernel.comms.open(comm_id)\n        comm_promise.then((comm) => {\n          window.PyViz.comms[comm_id] = comm;\n          if (msg_handler) {\n            var messages = comm.messages[Symbol.asyncIterator]();\n            function processIteratorResult(result) {\n              var message = result.value;\n              var content = {data: message.data};\n              var metadata = message.metadata || {comm_id};\n              var msg = {content, metadata}\n              msg_handler(msg);\n              return messages.next().then(processIteratorResult);\n            }\n            return messages.next().then(processIteratorResult);\n          }\n        }) \n        var sendClosure = (data, metadata, buffers, disposeOnDone) => {\n          return comm_promise.then((comm) => {\n            comm.send(data, metadata, buffers, disposeOnDone);\n          });\n        };\n        var comm = {\n          send: sendClosure\n        };\n      }\n      window.PyViz.comms[comm_id] = comm;\n      return comm;\n    }\n    window.PyViz.comm_manager = new JupyterCommManager();\n    \n\n\nvar JS_MIME_TYPE = 'application/javascript';\nvar HTML_MIME_TYPE = 'text/html';\nvar EXEC_MIME_TYPE = 'application/vnd.holoviews_exec.v0+json';\nvar CLASS_NAME = 'output';\n\n/**\n * Render data to the DOM node\n */\nfunction render(props, node) {\n  var div = document.createElement(\"div\");\n  var script = document.createElement(\"script\");\n  node.appendChild(div);\n  node.appendChild(script);\n}\n\n/**\n * Handle when a new output is added\n */\nfunction handle_add_output(event, handle) {\n  var output_area = handle.output_area;\n  var output = handle.output;\n  if ((output.data == undefined) || (!output.data.hasOwnProperty(EXEC_MIME_TYPE))) {\n    return\n  }\n  var id = output.metadata[EXEC_MIME_TYPE][\"id\"];\n  var toinsert = output_area.element.find(\".\" + CLASS_NAME.split(' ')[0]);\n  if (id !== undefined) {\n    var nchildren = toinsert.length;\n    var html_node = toinsert[nchildren-1].children[0];\n    html_node.innerHTML = output.data[HTML_MIME_TYPE];\n    var scripts = [];\n    var nodelist = html_node.querySelectorAll(\"script\");\n    for (var i in nodelist) {\n      if (nodelist.hasOwnProperty(i)) {\n        scripts.push(nodelist[i])\n      }\n    }\n\n    scripts.forEach( function (oldScript) {\n      var newScript = document.createElement(\"script\");\n      var attrs = [];\n      var nodemap = oldScript.attributes;\n      for (var j in nodemap) {\n        if (nodemap.hasOwnProperty(j)) {\n          attrs.push(nodemap[j])\n        }\n      }\n      attrs.forEach(function(attr) { newScript.setAttribute(attr.name, attr.value) });\n      newScript.appendChild(document.createTextNode(oldScript.innerHTML));\n      oldScript.parentNode.replaceChild(newScript, oldScript);\n    });\n    if (JS_MIME_TYPE in output.data) {\n      toinsert[nchildren-1].children[1].textContent = output.data[JS_MIME_TYPE];\n    }\n    output_area._hv_plot_id = id;\n    if ((window.Bokeh !== undefined) && (id in Bokeh.index)) {\n      window.PyViz.plot_index[id] = Bokeh.index[id];\n    } else {\n      window.PyViz.plot_index[id] = null;\n    }\n  } else if (output.metadata[EXEC_MIME_TYPE][\"server_id\"] !== undefined) {\n    var bk_div = document.createElement(\"div\");\n    bk_div.innerHTML = output.data[HTML_MIME_TYPE];\n    var script_attrs = bk_div.children[0].attributes;\n    for (var i = 0; i < script_attrs.length; i++) {\n      toinsert[toinsert.length - 1].childNodes[1].setAttribute(script_attrs[i].name, script_attrs[i].value);\n    }\n    // store reference to server id on output_area\n    output_area._bokeh_server_id = output.metadata[EXEC_MIME_TYPE][\"server_id\"];\n  }\n}\n\n/**\n * Handle when an output is cleared or removed\n */\nfunction handle_clear_output(event, handle) {\n  var id = handle.cell.output_area._hv_plot_id;\n  var server_id = handle.cell.output_area._bokeh_server_id;\n  if (((id === undefined) || !(id in PyViz.plot_index)) && (server_id !== undefined)) { return; }\n  var comm = window.PyViz.comm_manager.get_client_comm(\"hv-extension-comm\", \"hv-extension-comm\", function () {});\n  if (server_id !== null) {\n    comm.send({event_type: 'server_delete', 'id': server_id});\n    return;\n  } else if (comm !== null) {\n    comm.send({event_type: 'delete', 'id': id});\n  }\n  delete PyViz.plot_index[id];\n  if ((window.Bokeh !== undefined) & (id in window.Bokeh.index)) {\n    var doc = window.Bokeh.index[id].model.document\n    doc.clear();\n    const i = window.Bokeh.documents.indexOf(doc);\n    if (i > -1) {\n      window.Bokeh.documents.splice(i, 1);\n    }\n  }\n}\n\n/**\n * Handle kernel restart event\n */\nfunction handle_kernel_cleanup(event, handle) {\n  delete PyViz.comms[\"hv-extension-comm\"];\n  window.PyViz.plot_index = {}\n}\n\n/**\n * Handle update_display_data messages\n */\nfunction handle_update_output(event, handle) {\n  handle_clear_output(event, {cell: {output_area: handle.output_area}})\n  handle_add_output(event, handle)\n}\n\nfunction register_renderer(events, OutputArea) {\n  function append_mime(data, metadata, element) {\n    // create a DOM node to render to\n    var toinsert = this.create_output_subarea(\n    metadata,\n    CLASS_NAME,\n    EXEC_MIME_TYPE\n    );\n    this.keyboard_manager.register_events(toinsert);\n    // Render to node\n    var props = {data: data, metadata: metadata[EXEC_MIME_TYPE]};\n    render(props, toinsert[0]);\n    element.append(toinsert);\n    return toinsert\n  }\n\n  events.on('output_added.OutputArea', handle_add_output);\n  events.on('output_updated.OutputArea', handle_update_output);\n  events.on('clear_output.CodeCell', handle_clear_output);\n  events.on('delete.Cell', handle_clear_output);\n  events.on('kernel_ready.Kernel', handle_kernel_cleanup);\n\n  OutputArea.prototype.register_mime_type(EXEC_MIME_TYPE, append_mime, {\n    safe: true,\n    index: 0\n  });\n}\n\nif (window.Jupyter !== undefined) {\n  try {\n    var events = require('base/js/events');\n    var OutputArea = require('notebook/js/outputarea').OutputArea;\n    if (OutputArea.prototype.mime_types().indexOf(EXEC_MIME_TYPE) == -1) {\n      register_renderer(events, OutputArea);\n    }\n  } catch(err) {\n  }\n}\n",
            "application/javascript": [
              "\n",
              "if ((window.PyViz === undefined) || (window.PyViz instanceof HTMLElement)) {\n",
              "  window.PyViz = {comms: {}, comm_status:{}, kernels:{}, receivers: {}, plot_index: []}\n",
              "}\n",
              "\n",
              "\n",
              "    function JupyterCommManager() {\n",
              "    }\n",
              "\n",
              "    JupyterCommManager.prototype.register_target = function(plot_id, comm_id, msg_handler) {\n",
              "      if (window.comm_manager || ((window.Jupyter !== undefined) && (Jupyter.notebook.kernel != null))) {\n",
              "        var comm_manager = window.comm_manager || Jupyter.notebook.kernel.comm_manager;\n",
              "        comm_manager.register_target(comm_id, function(comm) {\n",
              "          comm.on_msg(msg_handler);\n",
              "        });\n",
              "      } else if ((plot_id in window.PyViz.kernels) && (window.PyViz.kernels[plot_id])) {\n",
              "        window.PyViz.kernels[plot_id].registerCommTarget(comm_id, function(comm) {\n",
              "          comm.onMsg = msg_handler;\n",
              "        });\n",
              "      } else if (typeof google != 'undefined' && google.colab.kernel != null) {\n",
              "        google.colab.kernel.comms.registerTarget(comm_id, (comm) => {\n",
              "          var messages = comm.messages[Symbol.asyncIterator]();\n",
              "          function processIteratorResult(result) {\n",
              "            var message = result.value;\n",
              "            console.log(message)\n",
              "            var content = {data: message.data, comm_id};\n",
              "            var buffers = []\n",
              "            for (var buffer of message.buffers || []) {\n",
              "              buffers.push(new DataView(buffer))\n",
              "            }\n",
              "            var metadata = message.metadata || {};\n",
              "            var msg = {content, buffers, metadata}\n",
              "            msg_handler(msg);\n",
              "            return messages.next().then(processIteratorResult);\n",
              "          }\n",
              "          return messages.next().then(processIteratorResult);\n",
              "        })\n",
              "      }\n",
              "    }\n",
              "\n",
              "    JupyterCommManager.prototype.get_client_comm = function(plot_id, comm_id, msg_handler) {\n",
              "      if (comm_id in window.PyViz.comms) {\n",
              "        return window.PyViz.comms[comm_id];\n",
              "      } else if (window.comm_manager || ((window.Jupyter !== undefined) && (Jupyter.notebook.kernel != null))) {\n",
              "        var comm_manager = window.comm_manager || Jupyter.notebook.kernel.comm_manager;\n",
              "        var comm = comm_manager.new_comm(comm_id, {}, {}, {}, comm_id);\n",
              "        if (msg_handler) {\n",
              "          comm.on_msg(msg_handler);\n",
              "        }\n",
              "      } else if ((plot_id in window.PyViz.kernels) && (window.PyViz.kernels[plot_id])) {\n",
              "        var comm = window.PyViz.kernels[plot_id].connectToComm(comm_id);\n",
              "        comm.open();\n",
              "        if (msg_handler) {\n",
              "          comm.onMsg = msg_handler;\n",
              "        }\n",
              "      } else if (typeof google != 'undefined' && google.colab.kernel != null) {\n",
              "        var comm_promise = google.colab.kernel.comms.open(comm_id)\n",
              "        comm_promise.then((comm) => {\n",
              "          window.PyViz.comms[comm_id] = comm;\n",
              "          if (msg_handler) {\n",
              "            var messages = comm.messages[Symbol.asyncIterator]();\n",
              "            function processIteratorResult(result) {\n",
              "              var message = result.value;\n",
              "              var content = {data: message.data};\n",
              "              var metadata = message.metadata || {comm_id};\n",
              "              var msg = {content, metadata}\n",
              "              msg_handler(msg);\n",
              "              return messages.next().then(processIteratorResult);\n",
              "            }\n",
              "            return messages.next().then(processIteratorResult);\n",
              "          }\n",
              "        }) \n",
              "        var sendClosure = (data, metadata, buffers, disposeOnDone) => {\n",
              "          return comm_promise.then((comm) => {\n",
              "            comm.send(data, metadata, buffers, disposeOnDone);\n",
              "          });\n",
              "        };\n",
              "        var comm = {\n",
              "          send: sendClosure\n",
              "        };\n",
              "      }\n",
              "      window.PyViz.comms[comm_id] = comm;\n",
              "      return comm;\n",
              "    }\n",
              "    window.PyViz.comm_manager = new JupyterCommManager();\n",
              "    \n",
              "\n",
              "\n",
              "var JS_MIME_TYPE = 'application/javascript';\n",
              "var HTML_MIME_TYPE = 'text/html';\n",
              "var EXEC_MIME_TYPE = 'application/vnd.holoviews_exec.v0+json';\n",
              "var CLASS_NAME = 'output';\n",
              "\n",
              "/**\n",
              " * Render data to the DOM node\n",
              " */\n",
              "function render(props, node) {\n",
              "  var div = document.createElement(\"div\");\n",
              "  var script = document.createElement(\"script\");\n",
              "  node.appendChild(div);\n",
              "  node.appendChild(script);\n",
              "}\n",
              "\n",
              "/**\n",
              " * Handle when a new output is added\n",
              " */\n",
              "function handle_add_output(event, handle) {\n",
              "  var output_area = handle.output_area;\n",
              "  var output = handle.output;\n",
              "  if ((output.data == undefined) || (!output.data.hasOwnProperty(EXEC_MIME_TYPE))) {\n",
              "    return\n",
              "  }\n",
              "  var id = output.metadata[EXEC_MIME_TYPE][\"id\"];\n",
              "  var toinsert = output_area.element.find(\".\" + CLASS_NAME.split(' ')[0]);\n",
              "  if (id !== undefined) {\n",
              "    var nchildren = toinsert.length;\n",
              "    var html_node = toinsert[nchildren-1].children[0];\n",
              "    html_node.innerHTML = output.data[HTML_MIME_TYPE];\n",
              "    var scripts = [];\n",
              "    var nodelist = html_node.querySelectorAll(\"script\");\n",
              "    for (var i in nodelist) {\n",
              "      if (nodelist.hasOwnProperty(i)) {\n",
              "        scripts.push(nodelist[i])\n",
              "      }\n",
              "    }\n",
              "\n",
              "    scripts.forEach( function (oldScript) {\n",
              "      var newScript = document.createElement(\"script\");\n",
              "      var attrs = [];\n",
              "      var nodemap = oldScript.attributes;\n",
              "      for (var j in nodemap) {\n",
              "        if (nodemap.hasOwnProperty(j)) {\n",
              "          attrs.push(nodemap[j])\n",
              "        }\n",
              "      }\n",
              "      attrs.forEach(function(attr) { newScript.setAttribute(attr.name, attr.value) });\n",
              "      newScript.appendChild(document.createTextNode(oldScript.innerHTML));\n",
              "      oldScript.parentNode.replaceChild(newScript, oldScript);\n",
              "    });\n",
              "    if (JS_MIME_TYPE in output.data) {\n",
              "      toinsert[nchildren-1].children[1].textContent = output.data[JS_MIME_TYPE];\n",
              "    }\n",
              "    output_area._hv_plot_id = id;\n",
              "    if ((window.Bokeh !== undefined) && (id in Bokeh.index)) {\n",
              "      window.PyViz.plot_index[id] = Bokeh.index[id];\n",
              "    } else {\n",
              "      window.PyViz.plot_index[id] = null;\n",
              "    }\n",
              "  } else if (output.metadata[EXEC_MIME_TYPE][\"server_id\"] !== undefined) {\n",
              "    var bk_div = document.createElement(\"div\");\n",
              "    bk_div.innerHTML = output.data[HTML_MIME_TYPE];\n",
              "    var script_attrs = bk_div.children[0].attributes;\n",
              "    for (var i = 0; i < script_attrs.length; i++) {\n",
              "      toinsert[toinsert.length - 1].childNodes[1].setAttribute(script_attrs[i].name, script_attrs[i].value);\n",
              "    }\n",
              "    // store reference to server id on output_area\n",
              "    output_area._bokeh_server_id = output.metadata[EXEC_MIME_TYPE][\"server_id\"];\n",
              "  }\n",
              "}\n",
              "\n",
              "/**\n",
              " * Handle when an output is cleared or removed\n",
              " */\n",
              "function handle_clear_output(event, handle) {\n",
              "  var id = handle.cell.output_area._hv_plot_id;\n",
              "  var server_id = handle.cell.output_area._bokeh_server_id;\n",
              "  if (((id === undefined) || !(id in PyViz.plot_index)) && (server_id !== undefined)) { return; }\n",
              "  var comm = window.PyViz.comm_manager.get_client_comm(\"hv-extension-comm\", \"hv-extension-comm\", function () {});\n",
              "  if (server_id !== null) {\n",
              "    comm.send({event_type: 'server_delete', 'id': server_id});\n",
              "    return;\n",
              "  } else if (comm !== null) {\n",
              "    comm.send({event_type: 'delete', 'id': id});\n",
              "  }\n",
              "  delete PyViz.plot_index[id];\n",
              "  if ((window.Bokeh !== undefined) & (id in window.Bokeh.index)) {\n",
              "    var doc = window.Bokeh.index[id].model.document\n",
              "    doc.clear();\n",
              "    const i = window.Bokeh.documents.indexOf(doc);\n",
              "    if (i > -1) {\n",
              "      window.Bokeh.documents.splice(i, 1);\n",
              "    }\n",
              "  }\n",
              "}\n",
              "\n",
              "/**\n",
              " * Handle kernel restart event\n",
              " */\n",
              "function handle_kernel_cleanup(event, handle) {\n",
              "  delete PyViz.comms[\"hv-extension-comm\"];\n",
              "  window.PyViz.plot_index = {}\n",
              "}\n",
              "\n",
              "/**\n",
              " * Handle update_display_data messages\n",
              " */\n",
              "function handle_update_output(event, handle) {\n",
              "  handle_clear_output(event, {cell: {output_area: handle.output_area}})\n",
              "  handle_add_output(event, handle)\n",
              "}\n",
              "\n",
              "function register_renderer(events, OutputArea) {\n",
              "  function append_mime(data, metadata, element) {\n",
              "    // create a DOM node to render to\n",
              "    var toinsert = this.create_output_subarea(\n",
              "    metadata,\n",
              "    CLASS_NAME,\n",
              "    EXEC_MIME_TYPE\n",
              "    );\n",
              "    this.keyboard_manager.register_events(toinsert);\n",
              "    // Render to node\n",
              "    var props = {data: data, metadata: metadata[EXEC_MIME_TYPE]};\n",
              "    render(props, toinsert[0]);\n",
              "    element.append(toinsert);\n",
              "    return toinsert\n",
              "  }\n",
              "\n",
              "  events.on('output_added.OutputArea', handle_add_output);\n",
              "  events.on('output_updated.OutputArea', handle_update_output);\n",
              "  events.on('clear_output.CodeCell', handle_clear_output);\n",
              "  events.on('delete.Cell', handle_clear_output);\n",
              "  events.on('kernel_ready.Kernel', handle_kernel_cleanup);\n",
              "\n",
              "  OutputArea.prototype.register_mime_type(EXEC_MIME_TYPE, append_mime, {\n",
              "    safe: true,\n",
              "    index: 0\n",
              "  });\n",
              "}\n",
              "\n",
              "if (window.Jupyter !== undefined) {\n",
              "  try {\n",
              "    var events = require('base/js/events');\n",
              "    var OutputArea = require('notebook/js/outputarea').OutputArea;\n",
              "    if (OutputArea.prototype.mime_types().indexOf(EXEC_MIME_TYPE) == -1) {\n",
              "      register_renderer(events, OutputArea);\n",
              "    }\n",
              "  } catch(err) {\n",
              "  }\n",
              "}\n"
            ]
          },
          "metadata": {}
        },
        {
          "output_type": "display_data",
          "data": {
            "text/html": [
              "<style>*[data-root-id],\n",
              "*[data-root-id] > * {\n",
              "  box-sizing: border-box;\n",
              "  font-family: var(--jp-ui-font-family);\n",
              "  font-size: var(--jp-ui-font-size1);\n",
              "  color: var(--vscode-editor-foreground, var(--jp-ui-font-color1));\n",
              "}\n",
              "\n",
              "/* Override VSCode background color */\n",
              ".cell-output-ipywidget-background:has(\n",
              "    > .cell-output-ipywidget-background > .lm-Widget > *[data-root-id]\n",
              "  ),\n",
              ".cell-output-ipywidget-background:has(> .lm-Widget > *[data-root-id]) {\n",
              "  background-color: transparent !important;\n",
              "}\n",
              "</style>"
            ]
          },
          "metadata": {}
        },
        {
          "output_type": "display_data",
          "data": {
            "application/javascript": [
              "(function(root) {\n",
              "  function now() {\n",
              "    return new Date();\n",
              "  }\n",
              "\n",
              "  var force = true;\n",
              "  var py_version = '3.4.1'.replace('rc', '-rc.').replace('.dev', '-dev.');\n",
              "  var reloading = true;\n",
              "  var Bokeh = root.Bokeh;\n",
              "\n",
              "  if (typeof (root._bokeh_timeout) === \"undefined\" || force) {\n",
              "    root._bokeh_timeout = Date.now() + 5000;\n",
              "    root._bokeh_failed_load = false;\n",
              "  }\n",
              "\n",
              "  function run_callbacks() {\n",
              "    try {\n",
              "      root._bokeh_onload_callbacks.forEach(function(callback) {\n",
              "        if (callback != null)\n",
              "          callback();\n",
              "      });\n",
              "    } finally {\n",
              "      delete root._bokeh_onload_callbacks;\n",
              "    }\n",
              "    console.debug(\"Bokeh: all callbacks have finished\");\n",
              "  }\n",
              "\n",
              "  function load_libs(css_urls, js_urls, js_modules, js_exports, callback) {\n",
              "    if (css_urls == null) css_urls = [];\n",
              "    if (js_urls == null) js_urls = [];\n",
              "    if (js_modules == null) js_modules = [];\n",
              "    if (js_exports == null) js_exports = {};\n",
              "\n",
              "    root._bokeh_onload_callbacks.push(callback);\n",
              "\n",
              "    if (root._bokeh_is_loading > 0) {\n",
              "      console.debug(\"Bokeh: BokehJS is being loaded, scheduling callback at\", now());\n",
              "      return null;\n",
              "    }\n",
              "    if (js_urls.length === 0 && js_modules.length === 0 && Object.keys(js_exports).length === 0) {\n",
              "      run_callbacks();\n",
              "      return null;\n",
              "    }\n",
              "    if (!reloading) {\n",
              "      console.debug(\"Bokeh: BokehJS not loaded, scheduling load and callback at\", now());\n",
              "    }\n",
              "\n",
              "    function on_load() {\n",
              "      root._bokeh_is_loading--;\n",
              "      if (root._bokeh_is_loading === 0) {\n",
              "        console.debug(\"Bokeh: all BokehJS libraries/stylesheets loaded\");\n",
              "        run_callbacks()\n",
              "      }\n",
              "    }\n",
              "    window._bokeh_on_load = on_load\n",
              "\n",
              "    function on_error() {\n",
              "      console.error(\"failed to load \" + url);\n",
              "    }\n",
              "\n",
              "    var skip = [];\n",
              "    if (window.requirejs) {\n",
              "      window.requirejs.config({'packages': {}, 'paths': {}, 'shim': {}});\n",
              "      root._bokeh_is_loading = css_urls.length + 0;\n",
              "    } else {\n",
              "      root._bokeh_is_loading = css_urls.length + js_urls.length + js_modules.length + Object.keys(js_exports).length;\n",
              "    }\n",
              "\n",
              "    var existing_stylesheets = []\n",
              "    var links = document.getElementsByTagName('link')\n",
              "    for (var i = 0; i < links.length; i++) {\n",
              "      var link = links[i]\n",
              "      if (link.href != null) {\n",
              "\texisting_stylesheets.push(link.href)\n",
              "      }\n",
              "    }\n",
              "    for (var i = 0; i < css_urls.length; i++) {\n",
              "      var url = css_urls[i];\n",
              "      if (existing_stylesheets.indexOf(url) !== -1) {\n",
              "\ton_load()\n",
              "\tcontinue;\n",
              "      }\n",
              "      const element = document.createElement(\"link\");\n",
              "      element.onload = on_load;\n",
              "      element.onerror = on_error;\n",
              "      element.rel = \"stylesheet\";\n",
              "      element.type = \"text/css\";\n",
              "      element.href = url;\n",
              "      console.debug(\"Bokeh: injecting link tag for BokehJS stylesheet: \", url);\n",
              "      document.body.appendChild(element);\n",
              "    }    var existing_scripts = []\n",
              "    var scripts = document.getElementsByTagName('script')\n",
              "    for (var i = 0; i < scripts.length; i++) {\n",
              "      var script = scripts[i]\n",
              "      if (script.src != null) {\n",
              "\texisting_scripts.push(script.src)\n",
              "      }\n",
              "    }\n",
              "    for (var i = 0; i < js_urls.length; i++) {\n",
              "      var url = js_urls[i];\n",
              "      if (skip.indexOf(url) !== -1 || existing_scripts.indexOf(url) !== -1) {\n",
              "\tif (!window.requirejs) {\n",
              "\t  on_load();\n",
              "\t}\n",
              "\tcontinue;\n",
              "      }\n",
              "      var element = document.createElement('script');\n",
              "      element.onload = on_load;\n",
              "      element.onerror = on_error;\n",
              "      element.async = false;\n",
              "      element.src = url;\n",
              "      console.debug(\"Bokeh: injecting script tag for BokehJS library: \", url);\n",
              "      document.head.appendChild(element);\n",
              "    }\n",
              "    for (var i = 0; i < js_modules.length; i++) {\n",
              "      var url = js_modules[i];\n",
              "      if (skip.indexOf(url) !== -1 || existing_scripts.indexOf(url) !== -1) {\n",
              "\tif (!window.requirejs) {\n",
              "\t  on_load();\n",
              "\t}\n",
              "\tcontinue;\n",
              "      }\n",
              "      var element = document.createElement('script');\n",
              "      element.onload = on_load;\n",
              "      element.onerror = on_error;\n",
              "      element.async = false;\n",
              "      element.src = url;\n",
              "      element.type = \"module\";\n",
              "      console.debug(\"Bokeh: injecting script tag for BokehJS library: \", url);\n",
              "      document.head.appendChild(element);\n",
              "    }\n",
              "    for (const name in js_exports) {\n",
              "      var url = js_exports[name];\n",
              "      if (skip.indexOf(url) >= 0 || root[name] != null) {\n",
              "\tif (!window.requirejs) {\n",
              "\t  on_load();\n",
              "\t}\n",
              "\tcontinue;\n",
              "      }\n",
              "      var element = document.createElement('script');\n",
              "      element.onerror = on_error;\n",
              "      element.async = false;\n",
              "      element.type = \"module\";\n",
              "      console.debug(\"Bokeh: injecting script tag for BokehJS library: \", url);\n",
              "      element.textContent = `\n",
              "      import ${name} from \"${url}\"\n",
              "      window.${name} = ${name}\n",
              "      window._bokeh_on_load()\n",
              "      `\n",
              "      document.head.appendChild(element);\n",
              "    }\n",
              "    if (!js_urls.length && !js_modules.length) {\n",
              "      on_load()\n",
              "    }\n",
              "  };\n",
              "\n",
              "  function inject_raw_css(css) {\n",
              "    const element = document.createElement(\"style\");\n",
              "    element.appendChild(document.createTextNode(css));\n",
              "    document.body.appendChild(element);\n",
              "  }\n",
              "\n",
              "  var js_urls = [];\n",
              "  var js_modules = [];\n",
              "  var js_exports = {};\n",
              "  var css_urls = [];\n",
              "  var inline_js = [    function(Bokeh) {\n",
              "      Bokeh.set_log_level(\"info\");\n",
              "    },\n",
              "function(Bokeh) {} // ensure no trailing comma for IE\n",
              "  ];\n",
              "\n",
              "  function run_inline_js() {\n",
              "    if ((root.Bokeh !== undefined) || (force === true)) {\n",
              "      for (var i = 0; i < inline_js.length; i++) {\n",
              "\ttry {\n",
              "          inline_js[i].call(root, root.Bokeh);\n",
              "\t} catch(e) {\n",
              "\t  if (!reloading) {\n",
              "\t    throw e;\n",
              "\t  }\n",
              "\t}\n",
              "      }\n",
              "      // Cache old bokeh versions\n",
              "      if (Bokeh != undefined && !reloading) {\n",
              "\tvar NewBokeh = root.Bokeh;\n",
              "\tif (Bokeh.versions === undefined) {\n",
              "\t  Bokeh.versions = new Map();\n",
              "\t}\n",
              "\tif (NewBokeh.version !== Bokeh.version) {\n",
              "\t  Bokeh.versions.set(NewBokeh.version, NewBokeh)\n",
              "\t}\n",
              "\troot.Bokeh = Bokeh;\n",
              "      }} else if (Date.now() < root._bokeh_timeout) {\n",
              "      setTimeout(run_inline_js, 100);\n",
              "    } else if (!root._bokeh_failed_load) {\n",
              "      console.log(\"Bokeh: BokehJS failed to load within specified timeout.\");\n",
              "      root._bokeh_failed_load = true;\n",
              "    }\n",
              "    root._bokeh_is_initializing = false\n",
              "  }\n",
              "\n",
              "  function load_or_wait() {\n",
              "    // Implement a backoff loop that tries to ensure we do not load multiple\n",
              "    // versions of Bokeh and its dependencies at the same time.\n",
              "    // In recent versions we use the root._bokeh_is_initializing flag\n",
              "    // to determine whether there is an ongoing attempt to initialize\n",
              "    // bokeh, however for backward compatibility we also try to ensure\n",
              "    // that we do not start loading a newer (Panel>=1.0 and Bokeh>3) version\n",
              "    // before older versions are fully initialized.\n",
              "    if (root._bokeh_is_initializing && Date.now() > root._bokeh_timeout) {\n",
              "      root._bokeh_is_initializing = false;\n",
              "      root._bokeh_onload_callbacks = undefined;\n",
              "      console.log(\"Bokeh: BokehJS was loaded multiple times but one version failed to initialize.\");\n",
              "      load_or_wait();\n",
              "    } else if (root._bokeh_is_initializing || (typeof root._bokeh_is_initializing === \"undefined\" && root._bokeh_onload_callbacks !== undefined)) {\n",
              "      setTimeout(load_or_wait, 100);\n",
              "    } else {\n",
              "      root._bokeh_is_initializing = true\n",
              "      root._bokeh_onload_callbacks = []\n",
              "      var bokeh_loaded = Bokeh != null && (Bokeh.version === py_version || (Bokeh.versions !== undefined && Bokeh.versions.has(py_version)));\n",
              "      if (!reloading && !bokeh_loaded) {\n",
              "\troot.Bokeh = undefined;\n",
              "      }\n",
              "      load_libs(css_urls, js_urls, js_modules, js_exports, function() {\n",
              "\tconsole.debug(\"Bokeh: BokehJS plotting callback run at\", now());\n",
              "\trun_inline_js();\n",
              "      });\n",
              "    }\n",
              "  }\n",
              "  // Give older versions of the autoload script a head-start to ensure\n",
              "  // they initialize before we start loading newer version.\n",
              "  setTimeout(load_or_wait, 100)\n",
              "}(window));"
            ],
            "application/vnd.holoviews_load.v0+json": "(function(root) {\n  function now() {\n    return new Date();\n  }\n\n  var force = true;\n  var py_version = '3.4.1'.replace('rc', '-rc.').replace('.dev', '-dev.');\n  var reloading = true;\n  var Bokeh = root.Bokeh;\n\n  if (typeof (root._bokeh_timeout) === \"undefined\" || force) {\n    root._bokeh_timeout = Date.now() + 5000;\n    root._bokeh_failed_load = false;\n  }\n\n  function run_callbacks() {\n    try {\n      root._bokeh_onload_callbacks.forEach(function(callback) {\n        if (callback != null)\n          callback();\n      });\n    } finally {\n      delete root._bokeh_onload_callbacks;\n    }\n    console.debug(\"Bokeh: all callbacks have finished\");\n  }\n\n  function load_libs(css_urls, js_urls, js_modules, js_exports, callback) {\n    if (css_urls == null) css_urls = [];\n    if (js_urls == null) js_urls = [];\n    if (js_modules == null) js_modules = [];\n    if (js_exports == null) js_exports = {};\n\n    root._bokeh_onload_callbacks.push(callback);\n\n    if (root._bokeh_is_loading > 0) {\n      console.debug(\"Bokeh: BokehJS is being loaded, scheduling callback at\", now());\n      return null;\n    }\n    if (js_urls.length === 0 && js_modules.length === 0 && Object.keys(js_exports).length === 0) {\n      run_callbacks();\n      return null;\n    }\n    if (!reloading) {\n      console.debug(\"Bokeh: BokehJS not loaded, scheduling load and callback at\", now());\n    }\n\n    function on_load() {\n      root._bokeh_is_loading--;\n      if (root._bokeh_is_loading === 0) {\n        console.debug(\"Bokeh: all BokehJS libraries/stylesheets loaded\");\n        run_callbacks()\n      }\n    }\n    window._bokeh_on_load = on_load\n\n    function on_error() {\n      console.error(\"failed to load \" + url);\n    }\n\n    var skip = [];\n    if (window.requirejs) {\n      window.requirejs.config({'packages': {}, 'paths': {}, 'shim': {}});\n      root._bokeh_is_loading = css_urls.length + 0;\n    } else {\n      root._bokeh_is_loading = css_urls.length + js_urls.length + js_modules.length + Object.keys(js_exports).length;\n    }\n\n    var existing_stylesheets = []\n    var links = document.getElementsByTagName('link')\n    for (var i = 0; i < links.length; i++) {\n      var link = links[i]\n      if (link.href != null) {\n\texisting_stylesheets.push(link.href)\n      }\n    }\n    for (var i = 0; i < css_urls.length; i++) {\n      var url = css_urls[i];\n      if (existing_stylesheets.indexOf(url) !== -1) {\n\ton_load()\n\tcontinue;\n      }\n      const element = document.createElement(\"link\");\n      element.onload = on_load;\n      element.onerror = on_error;\n      element.rel = \"stylesheet\";\n      element.type = \"text/css\";\n      element.href = url;\n      console.debug(\"Bokeh: injecting link tag for BokehJS stylesheet: \", url);\n      document.body.appendChild(element);\n    }    var existing_scripts = []\n    var scripts = document.getElementsByTagName('script')\n    for (var i = 0; i < scripts.length; i++) {\n      var script = scripts[i]\n      if (script.src != null) {\n\texisting_scripts.push(script.src)\n      }\n    }\n    for (var i = 0; i < js_urls.length; i++) {\n      var url = js_urls[i];\n      if (skip.indexOf(url) !== -1 || existing_scripts.indexOf(url) !== -1) {\n\tif (!window.requirejs) {\n\t  on_load();\n\t}\n\tcontinue;\n      }\n      var element = document.createElement('script');\n      element.onload = on_load;\n      element.onerror = on_error;\n      element.async = false;\n      element.src = url;\n      console.debug(\"Bokeh: injecting script tag for BokehJS library: \", url);\n      document.head.appendChild(element);\n    }\n    for (var i = 0; i < js_modules.length; i++) {\n      var url = js_modules[i];\n      if (skip.indexOf(url) !== -1 || existing_scripts.indexOf(url) !== -1) {\n\tif (!window.requirejs) {\n\t  on_load();\n\t}\n\tcontinue;\n      }\n      var element = document.createElement('script');\n      element.onload = on_load;\n      element.onerror = on_error;\n      element.async = false;\n      element.src = url;\n      element.type = \"module\";\n      console.debug(\"Bokeh: injecting script tag for BokehJS library: \", url);\n      document.head.appendChild(element);\n    }\n    for (const name in js_exports) {\n      var url = js_exports[name];\n      if (skip.indexOf(url) >= 0 || root[name] != null) {\n\tif (!window.requirejs) {\n\t  on_load();\n\t}\n\tcontinue;\n      }\n      var element = document.createElement('script');\n      element.onerror = on_error;\n      element.async = false;\n      element.type = \"module\";\n      console.debug(\"Bokeh: injecting script tag for BokehJS library: \", url);\n      element.textContent = `\n      import ${name} from \"${url}\"\n      window.${name} = ${name}\n      window._bokeh_on_load()\n      `\n      document.head.appendChild(element);\n    }\n    if (!js_urls.length && !js_modules.length) {\n      on_load()\n    }\n  };\n\n  function inject_raw_css(css) {\n    const element = document.createElement(\"style\");\n    element.appendChild(document.createTextNode(css));\n    document.body.appendChild(element);\n  }\n\n  var js_urls = [];\n  var js_modules = [];\n  var js_exports = {};\n  var css_urls = [];\n  var inline_js = [    function(Bokeh) {\n      Bokeh.set_log_level(\"info\");\n    },\nfunction(Bokeh) {} // ensure no trailing comma for IE\n  ];\n\n  function run_inline_js() {\n    if ((root.Bokeh !== undefined) || (force === true)) {\n      for (var i = 0; i < inline_js.length; i++) {\n\ttry {\n          inline_js[i].call(root, root.Bokeh);\n\t} catch(e) {\n\t  if (!reloading) {\n\t    throw e;\n\t  }\n\t}\n      }\n      // Cache old bokeh versions\n      if (Bokeh != undefined && !reloading) {\n\tvar NewBokeh = root.Bokeh;\n\tif (Bokeh.versions === undefined) {\n\t  Bokeh.versions = new Map();\n\t}\n\tif (NewBokeh.version !== Bokeh.version) {\n\t  Bokeh.versions.set(NewBokeh.version, NewBokeh)\n\t}\n\troot.Bokeh = Bokeh;\n      }} else if (Date.now() < root._bokeh_timeout) {\n      setTimeout(run_inline_js, 100);\n    } else if (!root._bokeh_failed_load) {\n      console.log(\"Bokeh: BokehJS failed to load within specified timeout.\");\n      root._bokeh_failed_load = true;\n    }\n    root._bokeh_is_initializing = false\n  }\n\n  function load_or_wait() {\n    // Implement a backoff loop that tries to ensure we do not load multiple\n    // versions of Bokeh and its dependencies at the same time.\n    // In recent versions we use the root._bokeh_is_initializing flag\n    // to determine whether there is an ongoing attempt to initialize\n    // bokeh, however for backward compatibility we also try to ensure\n    // that we do not start loading a newer (Panel>=1.0 and Bokeh>3) version\n    // before older versions are fully initialized.\n    if (root._bokeh_is_initializing && Date.now() > root._bokeh_timeout) {\n      root._bokeh_is_initializing = false;\n      root._bokeh_onload_callbacks = undefined;\n      console.log(\"Bokeh: BokehJS was loaded multiple times but one version failed to initialize.\");\n      load_or_wait();\n    } else if (root._bokeh_is_initializing || (typeof root._bokeh_is_initializing === \"undefined\" && root._bokeh_onload_callbacks !== undefined)) {\n      setTimeout(load_or_wait, 100);\n    } else {\n      root._bokeh_is_initializing = true\n      root._bokeh_onload_callbacks = []\n      var bokeh_loaded = Bokeh != null && (Bokeh.version === py_version || (Bokeh.versions !== undefined && Bokeh.versions.has(py_version)));\n      if (!reloading && !bokeh_loaded) {\n\troot.Bokeh = undefined;\n      }\n      load_libs(css_urls, js_urls, js_modules, js_exports, function() {\n\tconsole.debug(\"Bokeh: BokehJS plotting callback run at\", now());\n\trun_inline_js();\n      });\n    }\n  }\n  // Give older versions of the autoload script a head-start to ensure\n  // they initialize before we start loading newer version.\n  setTimeout(load_or_wait, 100)\n}(window));"
          },
          "metadata": {}
        },
        {
          "output_type": "display_data",
          "data": {
            "application/vnd.holoviews_load.v0+json": "\nif ((window.PyViz === undefined) || (window.PyViz instanceof HTMLElement)) {\n  window.PyViz = {comms: {}, comm_status:{}, kernels:{}, receivers: {}, plot_index: []}\n}\n\n\n    function JupyterCommManager() {\n    }\n\n    JupyterCommManager.prototype.register_target = function(plot_id, comm_id, msg_handler) {\n      if (window.comm_manager || ((window.Jupyter !== undefined) && (Jupyter.notebook.kernel != null))) {\n        var comm_manager = window.comm_manager || Jupyter.notebook.kernel.comm_manager;\n        comm_manager.register_target(comm_id, function(comm) {\n          comm.on_msg(msg_handler);\n        });\n      } else if ((plot_id in window.PyViz.kernels) && (window.PyViz.kernels[plot_id])) {\n        window.PyViz.kernels[plot_id].registerCommTarget(comm_id, function(comm) {\n          comm.onMsg = msg_handler;\n        });\n      } else if (typeof google != 'undefined' && google.colab.kernel != null) {\n        google.colab.kernel.comms.registerTarget(comm_id, (comm) => {\n          var messages = comm.messages[Symbol.asyncIterator]();\n          function processIteratorResult(result) {\n            var message = result.value;\n            console.log(message)\n            var content = {data: message.data, comm_id};\n            var buffers = []\n            for (var buffer of message.buffers || []) {\n              buffers.push(new DataView(buffer))\n            }\n            var metadata = message.metadata || {};\n            var msg = {content, buffers, metadata}\n            msg_handler(msg);\n            return messages.next().then(processIteratorResult);\n          }\n          return messages.next().then(processIteratorResult);\n        })\n      }\n    }\n\n    JupyterCommManager.prototype.get_client_comm = function(plot_id, comm_id, msg_handler) {\n      if (comm_id in window.PyViz.comms) {\n        return window.PyViz.comms[comm_id];\n      } else if (window.comm_manager || ((window.Jupyter !== undefined) && (Jupyter.notebook.kernel != null))) {\n        var comm_manager = window.comm_manager || Jupyter.notebook.kernel.comm_manager;\n        var comm = comm_manager.new_comm(comm_id, {}, {}, {}, comm_id);\n        if (msg_handler) {\n          comm.on_msg(msg_handler);\n        }\n      } else if ((plot_id in window.PyViz.kernels) && (window.PyViz.kernels[plot_id])) {\n        var comm = window.PyViz.kernels[plot_id].connectToComm(comm_id);\n        comm.open();\n        if (msg_handler) {\n          comm.onMsg = msg_handler;\n        }\n      } else if (typeof google != 'undefined' && google.colab.kernel != null) {\n        var comm_promise = google.colab.kernel.comms.open(comm_id)\n        comm_promise.then((comm) => {\n          window.PyViz.comms[comm_id] = comm;\n          if (msg_handler) {\n            var messages = comm.messages[Symbol.asyncIterator]();\n            function processIteratorResult(result) {\n              var message = result.value;\n              var content = {data: message.data};\n              var metadata = message.metadata || {comm_id};\n              var msg = {content, metadata}\n              msg_handler(msg);\n              return messages.next().then(processIteratorResult);\n            }\n            return messages.next().then(processIteratorResult);\n          }\n        }) \n        var sendClosure = (data, metadata, buffers, disposeOnDone) => {\n          return comm_promise.then((comm) => {\n            comm.send(data, metadata, buffers, disposeOnDone);\n          });\n        };\n        var comm = {\n          send: sendClosure\n        };\n      }\n      window.PyViz.comms[comm_id] = comm;\n      return comm;\n    }\n    window.PyViz.comm_manager = new JupyterCommManager();\n    \n\n\nvar JS_MIME_TYPE = 'application/javascript';\nvar HTML_MIME_TYPE = 'text/html';\nvar EXEC_MIME_TYPE = 'application/vnd.holoviews_exec.v0+json';\nvar CLASS_NAME = 'output';\n\n/**\n * Render data to the DOM node\n */\nfunction render(props, node) {\n  var div = document.createElement(\"div\");\n  var script = document.createElement(\"script\");\n  node.appendChild(div);\n  node.appendChild(script);\n}\n\n/**\n * Handle when a new output is added\n */\nfunction handle_add_output(event, handle) {\n  var output_area = handle.output_area;\n  var output = handle.output;\n  if ((output.data == undefined) || (!output.data.hasOwnProperty(EXEC_MIME_TYPE))) {\n    return\n  }\n  var id = output.metadata[EXEC_MIME_TYPE][\"id\"];\n  var toinsert = output_area.element.find(\".\" + CLASS_NAME.split(' ')[0]);\n  if (id !== undefined) {\n    var nchildren = toinsert.length;\n    var html_node = toinsert[nchildren-1].children[0];\n    html_node.innerHTML = output.data[HTML_MIME_TYPE];\n    var scripts = [];\n    var nodelist = html_node.querySelectorAll(\"script\");\n    for (var i in nodelist) {\n      if (nodelist.hasOwnProperty(i)) {\n        scripts.push(nodelist[i])\n      }\n    }\n\n    scripts.forEach( function (oldScript) {\n      var newScript = document.createElement(\"script\");\n      var attrs = [];\n      var nodemap = oldScript.attributes;\n      for (var j in nodemap) {\n        if (nodemap.hasOwnProperty(j)) {\n          attrs.push(nodemap[j])\n        }\n      }\n      attrs.forEach(function(attr) { newScript.setAttribute(attr.name, attr.value) });\n      newScript.appendChild(document.createTextNode(oldScript.innerHTML));\n      oldScript.parentNode.replaceChild(newScript, oldScript);\n    });\n    if (JS_MIME_TYPE in output.data) {\n      toinsert[nchildren-1].children[1].textContent = output.data[JS_MIME_TYPE];\n    }\n    output_area._hv_plot_id = id;\n    if ((window.Bokeh !== undefined) && (id in Bokeh.index)) {\n      window.PyViz.plot_index[id] = Bokeh.index[id];\n    } else {\n      window.PyViz.plot_index[id] = null;\n    }\n  } else if (output.metadata[EXEC_MIME_TYPE][\"server_id\"] !== undefined) {\n    var bk_div = document.createElement(\"div\");\n    bk_div.innerHTML = output.data[HTML_MIME_TYPE];\n    var script_attrs = bk_div.children[0].attributes;\n    for (var i = 0; i < script_attrs.length; i++) {\n      toinsert[toinsert.length - 1].childNodes[1].setAttribute(script_attrs[i].name, script_attrs[i].value);\n    }\n    // store reference to server id on output_area\n    output_area._bokeh_server_id = output.metadata[EXEC_MIME_TYPE][\"server_id\"];\n  }\n}\n\n/**\n * Handle when an output is cleared or removed\n */\nfunction handle_clear_output(event, handle) {\n  var id = handle.cell.output_area._hv_plot_id;\n  var server_id = handle.cell.output_area._bokeh_server_id;\n  if (((id === undefined) || !(id in PyViz.plot_index)) && (server_id !== undefined)) { return; }\n  var comm = window.PyViz.comm_manager.get_client_comm(\"hv-extension-comm\", \"hv-extension-comm\", function () {});\n  if (server_id !== null) {\n    comm.send({event_type: 'server_delete', 'id': server_id});\n    return;\n  } else if (comm !== null) {\n    comm.send({event_type: 'delete', 'id': id});\n  }\n  delete PyViz.plot_index[id];\n  if ((window.Bokeh !== undefined) & (id in window.Bokeh.index)) {\n    var doc = window.Bokeh.index[id].model.document\n    doc.clear();\n    const i = window.Bokeh.documents.indexOf(doc);\n    if (i > -1) {\n      window.Bokeh.documents.splice(i, 1);\n    }\n  }\n}\n\n/**\n * Handle kernel restart event\n */\nfunction handle_kernel_cleanup(event, handle) {\n  delete PyViz.comms[\"hv-extension-comm\"];\n  window.PyViz.plot_index = {}\n}\n\n/**\n * Handle update_display_data messages\n */\nfunction handle_update_output(event, handle) {\n  handle_clear_output(event, {cell: {output_area: handle.output_area}})\n  handle_add_output(event, handle)\n}\n\nfunction register_renderer(events, OutputArea) {\n  function append_mime(data, metadata, element) {\n    // create a DOM node to render to\n    var toinsert = this.create_output_subarea(\n    metadata,\n    CLASS_NAME,\n    EXEC_MIME_TYPE\n    );\n    this.keyboard_manager.register_events(toinsert);\n    // Render to node\n    var props = {data: data, metadata: metadata[EXEC_MIME_TYPE]};\n    render(props, toinsert[0]);\n    element.append(toinsert);\n    return toinsert\n  }\n\n  events.on('output_added.OutputArea', handle_add_output);\n  events.on('output_updated.OutputArea', handle_update_output);\n  events.on('clear_output.CodeCell', handle_clear_output);\n  events.on('delete.Cell', handle_clear_output);\n  events.on('kernel_ready.Kernel', handle_kernel_cleanup);\n\n  OutputArea.prototype.register_mime_type(EXEC_MIME_TYPE, append_mime, {\n    safe: true,\n    index: 0\n  });\n}\n\nif (window.Jupyter !== undefined) {\n  try {\n    var events = require('base/js/events');\n    var OutputArea = require('notebook/js/outputarea').OutputArea;\n    if (OutputArea.prototype.mime_types().indexOf(EXEC_MIME_TYPE) == -1) {\n      register_renderer(events, OutputArea);\n    }\n  } catch(err) {\n  }\n}\n",
            "application/javascript": [
              "\n",
              "if ((window.PyViz === undefined) || (window.PyViz instanceof HTMLElement)) {\n",
              "  window.PyViz = {comms: {}, comm_status:{}, kernels:{}, receivers: {}, plot_index: []}\n",
              "}\n",
              "\n",
              "\n",
              "    function JupyterCommManager() {\n",
              "    }\n",
              "\n",
              "    JupyterCommManager.prototype.register_target = function(plot_id, comm_id, msg_handler) {\n",
              "      if (window.comm_manager || ((window.Jupyter !== undefined) && (Jupyter.notebook.kernel != null))) {\n",
              "        var comm_manager = window.comm_manager || Jupyter.notebook.kernel.comm_manager;\n",
              "        comm_manager.register_target(comm_id, function(comm) {\n",
              "          comm.on_msg(msg_handler);\n",
              "        });\n",
              "      } else if ((plot_id in window.PyViz.kernels) && (window.PyViz.kernels[plot_id])) {\n",
              "        window.PyViz.kernels[plot_id].registerCommTarget(comm_id, function(comm) {\n",
              "          comm.onMsg = msg_handler;\n",
              "        });\n",
              "      } else if (typeof google != 'undefined' && google.colab.kernel != null) {\n",
              "        google.colab.kernel.comms.registerTarget(comm_id, (comm) => {\n",
              "          var messages = comm.messages[Symbol.asyncIterator]();\n",
              "          function processIteratorResult(result) {\n",
              "            var message = result.value;\n",
              "            console.log(message)\n",
              "            var content = {data: message.data, comm_id};\n",
              "            var buffers = []\n",
              "            for (var buffer of message.buffers || []) {\n",
              "              buffers.push(new DataView(buffer))\n",
              "            }\n",
              "            var metadata = message.metadata || {};\n",
              "            var msg = {content, buffers, metadata}\n",
              "            msg_handler(msg);\n",
              "            return messages.next().then(processIteratorResult);\n",
              "          }\n",
              "          return messages.next().then(processIteratorResult);\n",
              "        })\n",
              "      }\n",
              "    }\n",
              "\n",
              "    JupyterCommManager.prototype.get_client_comm = function(plot_id, comm_id, msg_handler) {\n",
              "      if (comm_id in window.PyViz.comms) {\n",
              "        return window.PyViz.comms[comm_id];\n",
              "      } else if (window.comm_manager || ((window.Jupyter !== undefined) && (Jupyter.notebook.kernel != null))) {\n",
              "        var comm_manager = window.comm_manager || Jupyter.notebook.kernel.comm_manager;\n",
              "        var comm = comm_manager.new_comm(comm_id, {}, {}, {}, comm_id);\n",
              "        if (msg_handler) {\n",
              "          comm.on_msg(msg_handler);\n",
              "        }\n",
              "      } else if ((plot_id in window.PyViz.kernels) && (window.PyViz.kernels[plot_id])) {\n",
              "        var comm = window.PyViz.kernels[plot_id].connectToComm(comm_id);\n",
              "        comm.open();\n",
              "        if (msg_handler) {\n",
              "          comm.onMsg = msg_handler;\n",
              "        }\n",
              "      } else if (typeof google != 'undefined' && google.colab.kernel != null) {\n",
              "        var comm_promise = google.colab.kernel.comms.open(comm_id)\n",
              "        comm_promise.then((comm) => {\n",
              "          window.PyViz.comms[comm_id] = comm;\n",
              "          if (msg_handler) {\n",
              "            var messages = comm.messages[Symbol.asyncIterator]();\n",
              "            function processIteratorResult(result) {\n",
              "              var message = result.value;\n",
              "              var content = {data: message.data};\n",
              "              var metadata = message.metadata || {comm_id};\n",
              "              var msg = {content, metadata}\n",
              "              msg_handler(msg);\n",
              "              return messages.next().then(processIteratorResult);\n",
              "            }\n",
              "            return messages.next().then(processIteratorResult);\n",
              "          }\n",
              "        }) \n",
              "        var sendClosure = (data, metadata, buffers, disposeOnDone) => {\n",
              "          return comm_promise.then((comm) => {\n",
              "            comm.send(data, metadata, buffers, disposeOnDone);\n",
              "          });\n",
              "        };\n",
              "        var comm = {\n",
              "          send: sendClosure\n",
              "        };\n",
              "      }\n",
              "      window.PyViz.comms[comm_id] = comm;\n",
              "      return comm;\n",
              "    }\n",
              "    window.PyViz.comm_manager = new JupyterCommManager();\n",
              "    \n",
              "\n",
              "\n",
              "var JS_MIME_TYPE = 'application/javascript';\n",
              "var HTML_MIME_TYPE = 'text/html';\n",
              "var EXEC_MIME_TYPE = 'application/vnd.holoviews_exec.v0+json';\n",
              "var CLASS_NAME = 'output';\n",
              "\n",
              "/**\n",
              " * Render data to the DOM node\n",
              " */\n",
              "function render(props, node) {\n",
              "  var div = document.createElement(\"div\");\n",
              "  var script = document.createElement(\"script\");\n",
              "  node.appendChild(div);\n",
              "  node.appendChild(script);\n",
              "}\n",
              "\n",
              "/**\n",
              " * Handle when a new output is added\n",
              " */\n",
              "function handle_add_output(event, handle) {\n",
              "  var output_area = handle.output_area;\n",
              "  var output = handle.output;\n",
              "  if ((output.data == undefined) || (!output.data.hasOwnProperty(EXEC_MIME_TYPE))) {\n",
              "    return\n",
              "  }\n",
              "  var id = output.metadata[EXEC_MIME_TYPE][\"id\"];\n",
              "  var toinsert = output_area.element.find(\".\" + CLASS_NAME.split(' ')[0]);\n",
              "  if (id !== undefined) {\n",
              "    var nchildren = toinsert.length;\n",
              "    var html_node = toinsert[nchildren-1].children[0];\n",
              "    html_node.innerHTML = output.data[HTML_MIME_TYPE];\n",
              "    var scripts = [];\n",
              "    var nodelist = html_node.querySelectorAll(\"script\");\n",
              "    for (var i in nodelist) {\n",
              "      if (nodelist.hasOwnProperty(i)) {\n",
              "        scripts.push(nodelist[i])\n",
              "      }\n",
              "    }\n",
              "\n",
              "    scripts.forEach( function (oldScript) {\n",
              "      var newScript = document.createElement(\"script\");\n",
              "      var attrs = [];\n",
              "      var nodemap = oldScript.attributes;\n",
              "      for (var j in nodemap) {\n",
              "        if (nodemap.hasOwnProperty(j)) {\n",
              "          attrs.push(nodemap[j])\n",
              "        }\n",
              "      }\n",
              "      attrs.forEach(function(attr) { newScript.setAttribute(attr.name, attr.value) });\n",
              "      newScript.appendChild(document.createTextNode(oldScript.innerHTML));\n",
              "      oldScript.parentNode.replaceChild(newScript, oldScript);\n",
              "    });\n",
              "    if (JS_MIME_TYPE in output.data) {\n",
              "      toinsert[nchildren-1].children[1].textContent = output.data[JS_MIME_TYPE];\n",
              "    }\n",
              "    output_area._hv_plot_id = id;\n",
              "    if ((window.Bokeh !== undefined) && (id in Bokeh.index)) {\n",
              "      window.PyViz.plot_index[id] = Bokeh.index[id];\n",
              "    } else {\n",
              "      window.PyViz.plot_index[id] = null;\n",
              "    }\n",
              "  } else if (output.metadata[EXEC_MIME_TYPE][\"server_id\"] !== undefined) {\n",
              "    var bk_div = document.createElement(\"div\");\n",
              "    bk_div.innerHTML = output.data[HTML_MIME_TYPE];\n",
              "    var script_attrs = bk_div.children[0].attributes;\n",
              "    for (var i = 0; i < script_attrs.length; i++) {\n",
              "      toinsert[toinsert.length - 1].childNodes[1].setAttribute(script_attrs[i].name, script_attrs[i].value);\n",
              "    }\n",
              "    // store reference to server id on output_area\n",
              "    output_area._bokeh_server_id = output.metadata[EXEC_MIME_TYPE][\"server_id\"];\n",
              "  }\n",
              "}\n",
              "\n",
              "/**\n",
              " * Handle when an output is cleared or removed\n",
              " */\n",
              "function handle_clear_output(event, handle) {\n",
              "  var id = handle.cell.output_area._hv_plot_id;\n",
              "  var server_id = handle.cell.output_area._bokeh_server_id;\n",
              "  if (((id === undefined) || !(id in PyViz.plot_index)) && (server_id !== undefined)) { return; }\n",
              "  var comm = window.PyViz.comm_manager.get_client_comm(\"hv-extension-comm\", \"hv-extension-comm\", function () {});\n",
              "  if (server_id !== null) {\n",
              "    comm.send({event_type: 'server_delete', 'id': server_id});\n",
              "    return;\n",
              "  } else if (comm !== null) {\n",
              "    comm.send({event_type: 'delete', 'id': id});\n",
              "  }\n",
              "  delete PyViz.plot_index[id];\n",
              "  if ((window.Bokeh !== undefined) & (id in window.Bokeh.index)) {\n",
              "    var doc = window.Bokeh.index[id].model.document\n",
              "    doc.clear();\n",
              "    const i = window.Bokeh.documents.indexOf(doc);\n",
              "    if (i > -1) {\n",
              "      window.Bokeh.documents.splice(i, 1);\n",
              "    }\n",
              "  }\n",
              "}\n",
              "\n",
              "/**\n",
              " * Handle kernel restart event\n",
              " */\n",
              "function handle_kernel_cleanup(event, handle) {\n",
              "  delete PyViz.comms[\"hv-extension-comm\"];\n",
              "  window.PyViz.plot_index = {}\n",
              "}\n",
              "\n",
              "/**\n",
              " * Handle update_display_data messages\n",
              " */\n",
              "function handle_update_output(event, handle) {\n",
              "  handle_clear_output(event, {cell: {output_area: handle.output_area}})\n",
              "  handle_add_output(event, handle)\n",
              "}\n",
              "\n",
              "function register_renderer(events, OutputArea) {\n",
              "  function append_mime(data, metadata, element) {\n",
              "    // create a DOM node to render to\n",
              "    var toinsert = this.create_output_subarea(\n",
              "    metadata,\n",
              "    CLASS_NAME,\n",
              "    EXEC_MIME_TYPE\n",
              "    );\n",
              "    this.keyboard_manager.register_events(toinsert);\n",
              "    // Render to node\n",
              "    var props = {data: data, metadata: metadata[EXEC_MIME_TYPE]};\n",
              "    render(props, toinsert[0]);\n",
              "    element.append(toinsert);\n",
              "    return toinsert\n",
              "  }\n",
              "\n",
              "  events.on('output_added.OutputArea', handle_add_output);\n",
              "  events.on('output_updated.OutputArea', handle_update_output);\n",
              "  events.on('clear_output.CodeCell', handle_clear_output);\n",
              "  events.on('delete.Cell', handle_clear_output);\n",
              "  events.on('kernel_ready.Kernel', handle_kernel_cleanup);\n",
              "\n",
              "  OutputArea.prototype.register_mime_type(EXEC_MIME_TYPE, append_mime, {\n",
              "    safe: true,\n",
              "    index: 0\n",
              "  });\n",
              "}\n",
              "\n",
              "if (window.Jupyter !== undefined) {\n",
              "  try {\n",
              "    var events = require('base/js/events');\n",
              "    var OutputArea = require('notebook/js/outputarea').OutputArea;\n",
              "    if (OutputArea.prototype.mime_types().indexOf(EXEC_MIME_TYPE) == -1) {\n",
              "      register_renderer(events, OutputArea);\n",
              "    }\n",
              "  } catch(err) {\n",
              "  }\n",
              "}\n"
            ]
          },
          "metadata": {}
        },
        {
          "output_type": "display_data",
          "data": {
            "text/html": [
              "<style>*[data-root-id],\n",
              "*[data-root-id] > * {\n",
              "  box-sizing: border-box;\n",
              "  font-family: var(--jp-ui-font-family);\n",
              "  font-size: var(--jp-ui-font-size1);\n",
              "  color: var(--vscode-editor-foreground, var(--jp-ui-font-color1));\n",
              "}\n",
              "\n",
              "/* Override VSCode background color */\n",
              ".cell-output-ipywidget-background:has(\n",
              "    > .cell-output-ipywidget-background > .lm-Widget > *[data-root-id]\n",
              "  ),\n",
              ".cell-output-ipywidget-background:has(> .lm-Widget > *[data-root-id]) {\n",
              "  background-color: transparent !important;\n",
              "}\n",
              "</style>"
            ]
          },
          "metadata": {}
        }
      ],
      "source": [
        "#*******************************************************************************************\n",
        " #\n",
        " #  File Name:  credit_risk_classification_colab.ipynb\n",
        " #\n",
        " #  File Description:\n",
        " #      This interactive Python notebook, credit_risk_classification_colab.ipynb, reads\n",
        " #      a csv file, lending_data.csv, in the folder, resources, and uses Python and\n",
        " #      supervised learning methods to use a dataset of historical lending activity from\n",
        " #      a peer-to-peer lending services company to compare models that can identify\n",
        " #      the creditworthiness of borrowers. Here is a list of the models:\n",
        " #\n",
        " #      logistic regression\n",
        " #      decision tree\n",
        " #      random forest\n",
        " #      support vector machine (SVM)\n",
        " #      k-nearest neighbor (KNN)\n",
        " #      gaussian naive bayes (GNB)\n",
        " #\n",
        " #\n",
        " #  Date            Description                             Programmer\n",
        " #  ----------      ------------------------------------    ------------------\n",
        " #  11/25/2023      Initial Development                     Nicholas J. George\n",
        " #\n",
        " #******************************************************************************************/\n",
        "\n",
        "from google.colab import drive\n",
        "drive.mount('/content/gdrive/')\n",
        "\n",
        "import sys\n",
        "sys.path.insert(0,'./gdrive/MyDrive/credit_risk_classification')\n",
        "\n",
        "import os\n",
        "os.environ['HV_DOC_HTML'] = 'true'\n",
        "\n",
        "!apt-get update\n",
        "!apt install firefox\n",
        "!pip install -U geckodriver\n",
        "!pip install -U dataframe_image\n",
        "!pip install -U selenium\n",
        "!pip install -U kaleido\n",
        "!pip install -U hvplot\n",
        "!pip install -U plotly\n",
        "!pip install -U panel\n",
        "!pip install -U bokeh\n",
        "!pip install -U imblearn\n",
        "\n",
        "import hvplot\n",
        "import hvplot.pandas\n",
        "\n",
        "import pandas as pd\n",
        "\n",
        "import holoviews as hv\n",
        "hv.extension('bokeh')\n",
        "\n",
        "import logx\n",
        "logx.set_logs_directory_path('./gdrive/MyDrive/credit_risk_classification/logs')\n",
        "logx.set_images_directory_path('./gdrive/MyDrive/credit_risk_classification/images')\n",
        "logx.set_resources_directory_path('./gdrive/MyDrive/credit_risk_classification/resources')\n",
        "logx.set_models_directory_path('./gdrive/MyDrive/credit_risk_classification/models')\n",
        "logx.create_directory(logx.MODELS_DIRECTORY_PATH)\n",
        "\n",
        "import pandasx\n",
        "pandasx.set_google_colab(True)\n",
        "\n",
        "import classificationsx\n",
        "import credit_risk_constants\n",
        "\n",
        "import copy\n",
        "import pickle\n",
        "\n",
        "import numpy as np\n",
        "import pandas as pd\n",
        "\n",
        "from IPython.display import clear_output\n",
        "\n",
        "from imblearn.combine import SMOTEENN\n",
        "from imblearn.over_sampling import RandomOverSampler\n",
        "from imblearn.over_sampling import SMOTE\n",
        "from imblearn.under_sampling import ClusterCentroids\n",
        "from imblearn.under_sampling import RandomUnderSampler\n",
        "\n",
        "from sklearn.cluster import KMeans\n",
        "from sklearn.linear_model import LogisticRegression\n",
        "from sklearn.tree import DecisionTreeClassifier\n",
        "from sklearn.ensemble import RandomForestClassifier\n",
        "from sklearn.svm import SVC\n",
        "from sklearn.neighbors import KNeighborsClassifier\n",
        "from sklearn.naive_bayes import GaussianNB\n",
        "\n",
        "from sklearn.model_selection import train_test_split\n",
        "from sklearn.metrics import accuracy_score\n",
        "from sklearn.metrics import balanced_accuracy_score\n",
        "from sklearn.metrics import confusion_matrix\n",
        "from sklearn.metrics import classification_report\n",
        "from sklearn.preprocessing import StandardScaler\n",
        "\n",
        "pd.options.mode.chained_assignment = None"
      ]
    },
    {
      "cell_type": "code",
      "execution_count": 2,
      "id": "3e95d04c",
      "metadata": {
        "colab": {
          "base_uri": "https://localhost:8080/"
        },
        "id": "3e95d04c",
        "outputId": "7ee31ce7-d36c-4bce-c5c8-5b4478d51654"
      },
      "outputs": [
        {
          "output_type": "stream",
          "name": "stdout",
          "text": [
            "Program execution begins...\n",
            "\n"
          ]
        }
      ],
      "source": [
        "CONSTANT_LOCAL_FILE_NAME = 'credit_risk_classification_colab.ipynb'\n",
        "\n",
        "CONSTANT_LENDING_DATA_CSV_FILE_PATH = '/gdrive/MyDrive/credit_risk_classification/resources/lending_data.csv'\n",
        "\n",
        "\n",
        "logx.set_log_mode(False)\n",
        "\n",
        "logx.set_image_mode(False)\n",
        "\n",
        "\n",
        "logx.begin_program('credit_risk_classification_colab')"
      ]
    },
    {
      "cell_type": "markdown",
      "id": "f6434c41",
      "metadata": {
        "id": "f6434c41"
      },
      "source": [
        "# <br> **Section 1: Extraction and Transformation**"
      ]
    },
    {
      "cell_type": "markdown",
      "id": "8ef67164",
      "metadata": {
        "id": "8ef67164"
      },
      "source": [
        "## **1.1: Read the CSV data into a Pandas DataFrame**"
      ]
    },
    {
      "cell_type": "code",
      "execution_count": 3,
      "id": "da0c99c6",
      "metadata": {
        "id": "da0c99c6"
      },
      "outputs": [],
      "source": [
        "data_type_dictionary \\\n",
        "    = {'loan_size': float,\n",
        "       'interest_rate':\tfloat,\n",
        "       'borrower_income': int,\n",
        "       'debt_to_income': float,\n",
        "       'num_of_accounts': int,\n",
        "       'derogatory_marks': int,\n",
        "       'total_debt': int,\n",
        "       'loan_status': int}\n",
        "\n",
        "lending_dataframe \\\n",
        "    = pd.read_csv(credit_risk_constants.CONSTANT_INPUT_FILE_PATH, dtype = data_type_dictionary)\n",
        "\n",
        "logx.log_write_object(lending_dataframe)"
      ]
    },
    {
      "cell_type": "markdown",
      "id": "5da5d1af",
      "metadata": {
        "id": "5da5d1af"
      },
      "source": [
        "## **1.2: Display Spam DataFrame**"
      ]
    },
    {
      "cell_type": "code",
      "execution_count": 4,
      "id": "b41ed02b",
      "metadata": {
        "colab": {
          "base_uri": "https://localhost:8080/",
          "height": 398
        },
        "id": "b41ed02b",
        "outputId": "ab09ff56-51cd-4ebd-802c-1f5a46d8167d"
      },
      "outputs": [
        {
          "output_type": "execute_result",
          "data": {
            "text/plain": [
              "<pandas.io.formats.style.Styler at 0x7bc74d152770>"
            ],
            "text/html": [
              "<style type=\"text/css\">\n",
              "#T_a119f caption {\n",
              "  color: black;\n",
              "  font-size: 20px;\n",
              "  font-style: bold;\n",
              "  text-align: center;\n",
              "}\n",
              "#T_a119f_row0_col0, #T_a119f_row0_col1, #T_a119f_row0_col2, #T_a119f_row0_col3, #T_a119f_row0_col4, #T_a119f_row0_col5, #T_a119f_row0_col6, #T_a119f_row0_col7, #T_a119f_row1_col0, #T_a119f_row1_col1, #T_a119f_row1_col2, #T_a119f_row1_col3, #T_a119f_row1_col4, #T_a119f_row1_col5, #T_a119f_row1_col6, #T_a119f_row1_col7, #T_a119f_row2_col0, #T_a119f_row2_col1, #T_a119f_row2_col2, #T_a119f_row2_col3, #T_a119f_row2_col4, #T_a119f_row2_col5, #T_a119f_row2_col6, #T_a119f_row2_col7, #T_a119f_row3_col0, #T_a119f_row3_col1, #T_a119f_row3_col2, #T_a119f_row3_col3, #T_a119f_row3_col4, #T_a119f_row3_col5, #T_a119f_row3_col6, #T_a119f_row3_col7, #T_a119f_row4_col0, #T_a119f_row4_col1, #T_a119f_row4_col2, #T_a119f_row4_col3, #T_a119f_row4_col4, #T_a119f_row4_col5, #T_a119f_row4_col6, #T_a119f_row4_col7, #T_a119f_row5_col0, #T_a119f_row5_col1, #T_a119f_row5_col2, #T_a119f_row5_col3, #T_a119f_row5_col4, #T_a119f_row5_col5, #T_a119f_row5_col6, #T_a119f_row5_col7, #T_a119f_row6_col0, #T_a119f_row6_col1, #T_a119f_row6_col2, #T_a119f_row6_col3, #T_a119f_row6_col4, #T_a119f_row6_col5, #T_a119f_row6_col6, #T_a119f_row6_col7, #T_a119f_row7_col0, #T_a119f_row7_col1, #T_a119f_row7_col2, #T_a119f_row7_col3, #T_a119f_row7_col4, #T_a119f_row7_col5, #T_a119f_row7_col6, #T_a119f_row7_col7, #T_a119f_row8_col0, #T_a119f_row8_col1, #T_a119f_row8_col2, #T_a119f_row8_col3, #T_a119f_row8_col4, #T_a119f_row8_col5, #T_a119f_row8_col6, #T_a119f_row8_col7, #T_a119f_row9_col0, #T_a119f_row9_col1, #T_a119f_row9_col2, #T_a119f_row9_col3, #T_a119f_row9_col4, #T_a119f_row9_col5, #T_a119f_row9_col6, #T_a119f_row9_col7 {\n",
              "  text-align: center;\n",
              "  border: 1.3px solid red;\n",
              "  color: blue;\n",
              "}\n",
              "</style>\n",
              "<table id=\"T_a119f\" class=\"dataframe\">\n",
              "  <caption>Table 1.1: Lending Data Table</caption>\n",
              "  <thead>\n",
              "    <tr>\n",
              "      <th id=\"T_a119f_level0_col0\" class=\"col_heading level0 col0\" >loan_size</th>\n",
              "      <th id=\"T_a119f_level0_col1\" class=\"col_heading level0 col1\" >interest_rate</th>\n",
              "      <th id=\"T_a119f_level0_col2\" class=\"col_heading level0 col2\" >borrower_income</th>\n",
              "      <th id=\"T_a119f_level0_col3\" class=\"col_heading level0 col3\" >debt_to_income</th>\n",
              "      <th id=\"T_a119f_level0_col4\" class=\"col_heading level0 col4\" >num_of_accounts</th>\n",
              "      <th id=\"T_a119f_level0_col5\" class=\"col_heading level0 col5\" >derogatory_marks</th>\n",
              "      <th id=\"T_a119f_level0_col6\" class=\"col_heading level0 col6\" >total_debt</th>\n",
              "      <th id=\"T_a119f_level0_col7\" class=\"col_heading level0 col7\" >loan_status</th>\n",
              "    </tr>\n",
              "  </thead>\n",
              "  <tbody>\n",
              "    <tr>\n",
              "      <td id=\"T_a119f_row0_col0\" class=\"data row0 col0\" >$10,700</td>\n",
              "      <td id=\"T_a119f_row0_col1\" class=\"data row0 col1\" >7.67%</td>\n",
              "      <td id=\"T_a119f_row0_col2\" class=\"data row0 col2\" >$52,800</td>\n",
              "      <td id=\"T_a119f_row0_col3\" class=\"data row0 col3\" >0.431818</td>\n",
              "      <td id=\"T_a119f_row0_col4\" class=\"data row0 col4\" >5</td>\n",
              "      <td id=\"T_a119f_row0_col5\" class=\"data row0 col5\" >1</td>\n",
              "      <td id=\"T_a119f_row0_col6\" class=\"data row0 col6\" >$22,800</td>\n",
              "      <td id=\"T_a119f_row0_col7\" class=\"data row0 col7\" >0</td>\n",
              "    </tr>\n",
              "    <tr>\n",
              "      <td id=\"T_a119f_row1_col0\" class=\"data row1 col0\" >$8,400</td>\n",
              "      <td id=\"T_a119f_row1_col1\" class=\"data row1 col1\" >6.69%</td>\n",
              "      <td id=\"T_a119f_row1_col2\" class=\"data row1 col2\" >$43,600</td>\n",
              "      <td id=\"T_a119f_row1_col3\" class=\"data row1 col3\" >0.311927</td>\n",
              "      <td id=\"T_a119f_row1_col4\" class=\"data row1 col4\" >3</td>\n",
              "      <td id=\"T_a119f_row1_col5\" class=\"data row1 col5\" >0</td>\n",
              "      <td id=\"T_a119f_row1_col6\" class=\"data row1 col6\" >$13,600</td>\n",
              "      <td id=\"T_a119f_row1_col7\" class=\"data row1 col7\" >0</td>\n",
              "    </tr>\n",
              "    <tr>\n",
              "      <td id=\"T_a119f_row2_col0\" class=\"data row2 col0\" >$9,000</td>\n",
              "      <td id=\"T_a119f_row2_col1\" class=\"data row2 col1\" >6.96%</td>\n",
              "      <td id=\"T_a119f_row2_col2\" class=\"data row2 col2\" >$46,100</td>\n",
              "      <td id=\"T_a119f_row2_col3\" class=\"data row2 col3\" >0.349241</td>\n",
              "      <td id=\"T_a119f_row2_col4\" class=\"data row2 col4\" >3</td>\n",
              "      <td id=\"T_a119f_row2_col5\" class=\"data row2 col5\" >0</td>\n",
              "      <td id=\"T_a119f_row2_col6\" class=\"data row2 col6\" >$16,100</td>\n",
              "      <td id=\"T_a119f_row2_col7\" class=\"data row2 col7\" >0</td>\n",
              "    </tr>\n",
              "    <tr>\n",
              "      <td id=\"T_a119f_row3_col0\" class=\"data row3 col0\" >$10,700</td>\n",
              "      <td id=\"T_a119f_row3_col1\" class=\"data row3 col1\" >7.66%</td>\n",
              "      <td id=\"T_a119f_row3_col2\" class=\"data row3 col2\" >$52,700</td>\n",
              "      <td id=\"T_a119f_row3_col3\" class=\"data row3 col3\" >0.430740</td>\n",
              "      <td id=\"T_a119f_row3_col4\" class=\"data row3 col4\" >5</td>\n",
              "      <td id=\"T_a119f_row3_col5\" class=\"data row3 col5\" >1</td>\n",
              "      <td id=\"T_a119f_row3_col6\" class=\"data row3 col6\" >$22,700</td>\n",
              "      <td id=\"T_a119f_row3_col7\" class=\"data row3 col7\" >0</td>\n",
              "    </tr>\n",
              "    <tr>\n",
              "      <td id=\"T_a119f_row4_col0\" class=\"data row4 col0\" >$10,800</td>\n",
              "      <td id=\"T_a119f_row4_col1\" class=\"data row4 col1\" >7.70%</td>\n",
              "      <td id=\"T_a119f_row4_col2\" class=\"data row4 col2\" >$53,000</td>\n",
              "      <td id=\"T_a119f_row4_col3\" class=\"data row4 col3\" >0.433962</td>\n",
              "      <td id=\"T_a119f_row4_col4\" class=\"data row4 col4\" >5</td>\n",
              "      <td id=\"T_a119f_row4_col5\" class=\"data row4 col5\" >1</td>\n",
              "      <td id=\"T_a119f_row4_col6\" class=\"data row4 col6\" >$23,000</td>\n",
              "      <td id=\"T_a119f_row4_col7\" class=\"data row4 col7\" >0</td>\n",
              "    </tr>\n",
              "    <tr>\n",
              "      <td id=\"T_a119f_row5_col0\" class=\"data row5 col0\" >$10,100</td>\n",
              "      <td id=\"T_a119f_row5_col1\" class=\"data row5 col1\" >7.44%</td>\n",
              "      <td id=\"T_a119f_row5_col2\" class=\"data row5 col2\" >$50,600</td>\n",
              "      <td id=\"T_a119f_row5_col3\" class=\"data row5 col3\" >0.407115</td>\n",
              "      <td id=\"T_a119f_row5_col4\" class=\"data row5 col4\" >4</td>\n",
              "      <td id=\"T_a119f_row5_col5\" class=\"data row5 col5\" >1</td>\n",
              "      <td id=\"T_a119f_row5_col6\" class=\"data row5 col6\" >$20,600</td>\n",
              "      <td id=\"T_a119f_row5_col7\" class=\"data row5 col7\" >0</td>\n",
              "    </tr>\n",
              "    <tr>\n",
              "      <td id=\"T_a119f_row6_col0\" class=\"data row6 col0\" >$10,300</td>\n",
              "      <td id=\"T_a119f_row6_col1\" class=\"data row6 col1\" >7.49%</td>\n",
              "      <td id=\"T_a119f_row6_col2\" class=\"data row6 col2\" >$51,100</td>\n",
              "      <td id=\"T_a119f_row6_col3\" class=\"data row6 col3\" >0.412916</td>\n",
              "      <td id=\"T_a119f_row6_col4\" class=\"data row6 col4\" >4</td>\n",
              "      <td id=\"T_a119f_row6_col5\" class=\"data row6 col5\" >1</td>\n",
              "      <td id=\"T_a119f_row6_col6\" class=\"data row6 col6\" >$21,100</td>\n",
              "      <td id=\"T_a119f_row6_col7\" class=\"data row6 col7\" >0</td>\n",
              "    </tr>\n",
              "    <tr>\n",
              "      <td id=\"T_a119f_row7_col0\" class=\"data row7 col0\" >$8,800</td>\n",
              "      <td id=\"T_a119f_row7_col1\" class=\"data row7 col1\" >6.86%</td>\n",
              "      <td id=\"T_a119f_row7_col2\" class=\"data row7 col2\" >$45,100</td>\n",
              "      <td id=\"T_a119f_row7_col3\" class=\"data row7 col3\" >0.334812</td>\n",
              "      <td id=\"T_a119f_row7_col4\" class=\"data row7 col4\" >3</td>\n",
              "      <td id=\"T_a119f_row7_col5\" class=\"data row7 col5\" >0</td>\n",
              "      <td id=\"T_a119f_row7_col6\" class=\"data row7 col6\" >$15,100</td>\n",
              "      <td id=\"T_a119f_row7_col7\" class=\"data row7 col7\" >0</td>\n",
              "    </tr>\n",
              "    <tr>\n",
              "      <td id=\"T_a119f_row8_col0\" class=\"data row8 col0\" >$9,300</td>\n",
              "      <td id=\"T_a119f_row8_col1\" class=\"data row8 col1\" >7.10%</td>\n",
              "      <td id=\"T_a119f_row8_col2\" class=\"data row8 col2\" >$47,400</td>\n",
              "      <td id=\"T_a119f_row8_col3\" class=\"data row8 col3\" >0.367089</td>\n",
              "      <td id=\"T_a119f_row8_col4\" class=\"data row8 col4\" >3</td>\n",
              "      <td id=\"T_a119f_row8_col5\" class=\"data row8 col5\" >0</td>\n",
              "      <td id=\"T_a119f_row8_col6\" class=\"data row8 col6\" >$17,400</td>\n",
              "      <td id=\"T_a119f_row8_col7\" class=\"data row8 col7\" >0</td>\n",
              "    </tr>\n",
              "    <tr>\n",
              "      <td id=\"T_a119f_row9_col0\" class=\"data row9 col0\" >$9,700</td>\n",
              "      <td id=\"T_a119f_row9_col1\" class=\"data row9 col1\" >7.25%</td>\n",
              "      <td id=\"T_a119f_row9_col2\" class=\"data row9 col2\" >$48,800</td>\n",
              "      <td id=\"T_a119f_row9_col3\" class=\"data row9 col3\" >0.385246</td>\n",
              "      <td id=\"T_a119f_row9_col4\" class=\"data row9 col4\" >4</td>\n",
              "      <td id=\"T_a119f_row9_col5\" class=\"data row9 col5\" >0</td>\n",
              "      <td id=\"T_a119f_row9_col6\" class=\"data row9 col6\" >$18,800</td>\n",
              "      <td id=\"T_a119f_row9_col7\" class=\"data row9 col7\" >0</td>\n",
              "    </tr>\n",
              "  </tbody>\n",
              "</table>\n"
            ]
          },
          "metadata": {},
          "execution_count": 4
        }
      ],
      "source": [
        "pandasx.return_formatted_table(lending_dataframe, 'Table 1.1: Lending Data Table') \\\n",
        "    .format({'loan_size': '${:,.0f}', 'interest_rate': '{:.2f}%',\n",
        "             'borrower_income': '${:,.0f}', 'total_debt': '${:,.0f}'})"
      ]
    },
    {
      "cell_type": "markdown",
      "id": "0cd5d145",
      "metadata": {
        "id": "0cd5d145"
      },
      "source": [
        "## **1.3: Create the labels series (`y`)  from the “spam” column, and then create the features (`X`) DataFrame from the remaining columns.**"
      ]
    },
    {
      "cell_type": "markdown",
      "id": "ca91e035",
      "metadata": {
        "id": "ca91e035"
      },
      "source": [
        "### **Separate the Y Variable, The Labels**"
      ]
    },
    {
      "cell_type": "code",
      "execution_count": 5,
      "id": "c904c610",
      "metadata": {
        "id": "c904c610"
      },
      "outputs": [],
      "source": [
        "y_series = lending_dataframe['loan_status']\n",
        "\n",
        "logx.log_write_object(y_series)"
      ]
    },
    {
      "cell_type": "markdown",
      "id": "s9ZUPby8oria",
      "metadata": {
        "id": "s9ZUPby8oria"
      },
      "source": [
        "### **Review the Y Series**"
      ]
    },
    {
      "cell_type": "code",
      "execution_count": 6,
      "id": "1xQTcxnyor_l",
      "metadata": {
        "colab": {
          "base_uri": "https://localhost:8080/",
          "height": 472
        },
        "id": "1xQTcxnyor_l",
        "outputId": "d668e52f-1dfa-44b5-8749-e99b3ecd9e2b"
      },
      "outputs": [
        {
          "output_type": "execute_result",
          "data": {
            "text/plain": [
              "<pandas.io.formats.style.Styler at 0x7bc711dae140>"
            ],
            "text/html": [
              "<style type=\"text/css\">\n",
              "#T_2ba72 caption {\n",
              "  color: black;\n",
              "  font-size: 20px;\n",
              "  font-style: bold;\n",
              "  text-align: center;\n",
              "}\n",
              "#T_2ba72_row0_col0, #T_2ba72_row1_col0, #T_2ba72_row2_col0, #T_2ba72_row3_col0, #T_2ba72_row4_col0, #T_2ba72_row5_col0, #T_2ba72_row6_col0, #T_2ba72_row7_col0, #T_2ba72_row8_col0, #T_2ba72_row9_col0 {\n",
              "  text-align: center;\n",
              "  border: 1.3px solid red;\n",
              "  color: blue;\n",
              "}\n",
              "</style>\n",
              "<table id=\"T_2ba72\" class=\"dataframe\">\n",
              "  <caption>Table 1.3.1: Credit Risk Target Series</caption>\n",
              "  <thead>\n",
              "    <tr>\n",
              "      <th id=\"T_2ba72_level0_col0\" class=\"col_heading level0 col0\" >loan_status</th>\n",
              "    </tr>\n",
              "  </thead>\n",
              "  <tbody>\n",
              "    <tr>\n",
              "      <td id=\"T_2ba72_row0_col0\" class=\"data row0 col0\" >0</td>\n",
              "    </tr>\n",
              "    <tr>\n",
              "      <td id=\"T_2ba72_row1_col0\" class=\"data row1 col0\" >0</td>\n",
              "    </tr>\n",
              "    <tr>\n",
              "      <td id=\"T_2ba72_row2_col0\" class=\"data row2 col0\" >0</td>\n",
              "    </tr>\n",
              "    <tr>\n",
              "      <td id=\"T_2ba72_row3_col0\" class=\"data row3 col0\" >0</td>\n",
              "    </tr>\n",
              "    <tr>\n",
              "      <td id=\"T_2ba72_row4_col0\" class=\"data row4 col0\" >0</td>\n",
              "    </tr>\n",
              "    <tr>\n",
              "      <td id=\"T_2ba72_row5_col0\" class=\"data row5 col0\" >0</td>\n",
              "    </tr>\n",
              "    <tr>\n",
              "      <td id=\"T_2ba72_row6_col0\" class=\"data row6 col0\" >0</td>\n",
              "    </tr>\n",
              "    <tr>\n",
              "      <td id=\"T_2ba72_row7_col0\" class=\"data row7 col0\" >0</td>\n",
              "    </tr>\n",
              "    <tr>\n",
              "      <td id=\"T_2ba72_row8_col0\" class=\"data row8 col0\" >0</td>\n",
              "    </tr>\n",
              "    <tr>\n",
              "      <td id=\"T_2ba72_row9_col0\" class=\"data row9 col0\" >0</td>\n",
              "    </tr>\n",
              "  </tbody>\n",
              "</table>\n"
            ]
          },
          "metadata": {},
          "execution_count": 6
        }
      ],
      "source": [
        "pandasx.return_formatted_table(y_series.to_frame(), 'Table 1.3.1: Credit Risk Target Series')"
      ]
    },
    {
      "cell_type": "markdown",
      "id": "0rY0nCpto6te",
      "metadata": {
        "id": "0rY0nCpto6te"
      },
      "source": [
        "### **Check the Balance of the Labels Variable (`y`) by Using the `value_counts` Function.**"
      ]
    },
    {
      "cell_type": "code",
      "execution_count": 7,
      "id": "RcvmMaqvo7WH",
      "metadata": {
        "colab": {
          "base_uri": "https://localhost:8080/"
        },
        "id": "RcvmMaqvo7WH",
        "outputId": "e88a4199-e290-4de7-e6a4-62c55e461161"
      },
      "outputs": [
        {
          "output_type": "execute_result",
          "data": {
            "text/plain": [
              "loan_status\n",
              "0    75036\n",
              "1     2500\n",
              "Name: count, dtype: int64"
            ]
          },
          "metadata": {},
          "execution_count": 7
        }
      ],
      "source": [
        "y_series.value_counts()"
      ]
    },
    {
      "cell_type": "markdown",
      "id": "6fed0145",
      "metadata": {
        "id": "6fed0145"
      },
      "source": [
        "### **Separate the X Variable, the Features**"
      ]
    },
    {
      "cell_type": "code",
      "execution_count": 8,
      "id": "7fb98b79",
      "metadata": {
        "id": "7fb98b79"
      },
      "outputs": [],
      "source": [
        "x_dataframe = lending_dataframe.drop(columns = 'loan_status', axis = 1)\n",
        "\n",
        "logx.log_write_object(x_dataframe)"
      ]
    },
    {
      "cell_type": "markdown",
      "id": "c4a4d30a",
      "metadata": {
        "id": "c4a4d30a"
      },
      "source": [
        "### **Review the X DataFrame**"
      ]
    },
    {
      "cell_type": "code",
      "execution_count": 9,
      "id": "5264713b",
      "metadata": {
        "colab": {
          "base_uri": "https://localhost:8080/",
          "height": 398
        },
        "id": "5264713b",
        "outputId": "d7b4f398-a8e1-4605-a782-4d4554538038"
      },
      "outputs": [
        {
          "output_type": "execute_result",
          "data": {
            "text/plain": [
              "<pandas.io.formats.style.Styler at 0x7bc711daed70>"
            ],
            "text/html": [
              "<style type=\"text/css\">\n",
              "#T_6d7c7 caption {\n",
              "  color: black;\n",
              "  font-size: 20px;\n",
              "  font-style: bold;\n",
              "  text-align: center;\n",
              "}\n",
              "#T_6d7c7_row0_col0, #T_6d7c7_row0_col1, #T_6d7c7_row0_col2, #T_6d7c7_row0_col3, #T_6d7c7_row0_col4, #T_6d7c7_row0_col5, #T_6d7c7_row0_col6, #T_6d7c7_row1_col0, #T_6d7c7_row1_col1, #T_6d7c7_row1_col2, #T_6d7c7_row1_col3, #T_6d7c7_row1_col4, #T_6d7c7_row1_col5, #T_6d7c7_row1_col6, #T_6d7c7_row2_col0, #T_6d7c7_row2_col1, #T_6d7c7_row2_col2, #T_6d7c7_row2_col3, #T_6d7c7_row2_col4, #T_6d7c7_row2_col5, #T_6d7c7_row2_col6, #T_6d7c7_row3_col0, #T_6d7c7_row3_col1, #T_6d7c7_row3_col2, #T_6d7c7_row3_col3, #T_6d7c7_row3_col4, #T_6d7c7_row3_col5, #T_6d7c7_row3_col6, #T_6d7c7_row4_col0, #T_6d7c7_row4_col1, #T_6d7c7_row4_col2, #T_6d7c7_row4_col3, #T_6d7c7_row4_col4, #T_6d7c7_row4_col5, #T_6d7c7_row4_col6, #T_6d7c7_row5_col0, #T_6d7c7_row5_col1, #T_6d7c7_row5_col2, #T_6d7c7_row5_col3, #T_6d7c7_row5_col4, #T_6d7c7_row5_col5, #T_6d7c7_row5_col6, #T_6d7c7_row6_col0, #T_6d7c7_row6_col1, #T_6d7c7_row6_col2, #T_6d7c7_row6_col3, #T_6d7c7_row6_col4, #T_6d7c7_row6_col5, #T_6d7c7_row6_col6, #T_6d7c7_row7_col0, #T_6d7c7_row7_col1, #T_6d7c7_row7_col2, #T_6d7c7_row7_col3, #T_6d7c7_row7_col4, #T_6d7c7_row7_col5, #T_6d7c7_row7_col6, #T_6d7c7_row8_col0, #T_6d7c7_row8_col1, #T_6d7c7_row8_col2, #T_6d7c7_row8_col3, #T_6d7c7_row8_col4, #T_6d7c7_row8_col5, #T_6d7c7_row8_col6, #T_6d7c7_row9_col0, #T_6d7c7_row9_col1, #T_6d7c7_row9_col2, #T_6d7c7_row9_col3, #T_6d7c7_row9_col4, #T_6d7c7_row9_col5, #T_6d7c7_row9_col6 {\n",
              "  text-align: center;\n",
              "  border: 1.3px solid red;\n",
              "  color: blue;\n",
              "}\n",
              "</style>\n",
              "<table id=\"T_6d7c7\" class=\"dataframe\">\n",
              "  <caption>Table 1.3.2: Credit Risk Features DataFrame</caption>\n",
              "  <thead>\n",
              "    <tr>\n",
              "      <th id=\"T_6d7c7_level0_col0\" class=\"col_heading level0 col0\" >loan_size</th>\n",
              "      <th id=\"T_6d7c7_level0_col1\" class=\"col_heading level0 col1\" >interest_rate</th>\n",
              "      <th id=\"T_6d7c7_level0_col2\" class=\"col_heading level0 col2\" >borrower_income</th>\n",
              "      <th id=\"T_6d7c7_level0_col3\" class=\"col_heading level0 col3\" >debt_to_income</th>\n",
              "      <th id=\"T_6d7c7_level0_col4\" class=\"col_heading level0 col4\" >num_of_accounts</th>\n",
              "      <th id=\"T_6d7c7_level0_col5\" class=\"col_heading level0 col5\" >derogatory_marks</th>\n",
              "      <th id=\"T_6d7c7_level0_col6\" class=\"col_heading level0 col6\" >total_debt</th>\n",
              "    </tr>\n",
              "  </thead>\n",
              "  <tbody>\n",
              "    <tr>\n",
              "      <td id=\"T_6d7c7_row0_col0\" class=\"data row0 col0\" >10,700.00</td>\n",
              "      <td id=\"T_6d7c7_row0_col1\" class=\"data row0 col1\" >7.67</td>\n",
              "      <td id=\"T_6d7c7_row0_col2\" class=\"data row0 col2\" >52,800</td>\n",
              "      <td id=\"T_6d7c7_row0_col3\" class=\"data row0 col3\" >0.43</td>\n",
              "      <td id=\"T_6d7c7_row0_col4\" class=\"data row0 col4\" >5</td>\n",
              "      <td id=\"T_6d7c7_row0_col5\" class=\"data row0 col5\" >1</td>\n",
              "      <td id=\"T_6d7c7_row0_col6\" class=\"data row0 col6\" >22,800</td>\n",
              "    </tr>\n",
              "    <tr>\n",
              "      <td id=\"T_6d7c7_row1_col0\" class=\"data row1 col0\" >8,400.00</td>\n",
              "      <td id=\"T_6d7c7_row1_col1\" class=\"data row1 col1\" >6.69</td>\n",
              "      <td id=\"T_6d7c7_row1_col2\" class=\"data row1 col2\" >43,600</td>\n",
              "      <td id=\"T_6d7c7_row1_col3\" class=\"data row1 col3\" >0.31</td>\n",
              "      <td id=\"T_6d7c7_row1_col4\" class=\"data row1 col4\" >3</td>\n",
              "      <td id=\"T_6d7c7_row1_col5\" class=\"data row1 col5\" >0</td>\n",
              "      <td id=\"T_6d7c7_row1_col6\" class=\"data row1 col6\" >13,600</td>\n",
              "    </tr>\n",
              "    <tr>\n",
              "      <td id=\"T_6d7c7_row2_col0\" class=\"data row2 col0\" >9,000.00</td>\n",
              "      <td id=\"T_6d7c7_row2_col1\" class=\"data row2 col1\" >6.96</td>\n",
              "      <td id=\"T_6d7c7_row2_col2\" class=\"data row2 col2\" >46,100</td>\n",
              "      <td id=\"T_6d7c7_row2_col3\" class=\"data row2 col3\" >0.35</td>\n",
              "      <td id=\"T_6d7c7_row2_col4\" class=\"data row2 col4\" >3</td>\n",
              "      <td id=\"T_6d7c7_row2_col5\" class=\"data row2 col5\" >0</td>\n",
              "      <td id=\"T_6d7c7_row2_col6\" class=\"data row2 col6\" >16,100</td>\n",
              "    </tr>\n",
              "    <tr>\n",
              "      <td id=\"T_6d7c7_row3_col0\" class=\"data row3 col0\" >10,700.00</td>\n",
              "      <td id=\"T_6d7c7_row3_col1\" class=\"data row3 col1\" >7.66</td>\n",
              "      <td id=\"T_6d7c7_row3_col2\" class=\"data row3 col2\" >52,700</td>\n",
              "      <td id=\"T_6d7c7_row3_col3\" class=\"data row3 col3\" >0.43</td>\n",
              "      <td id=\"T_6d7c7_row3_col4\" class=\"data row3 col4\" >5</td>\n",
              "      <td id=\"T_6d7c7_row3_col5\" class=\"data row3 col5\" >1</td>\n",
              "      <td id=\"T_6d7c7_row3_col6\" class=\"data row3 col6\" >22,700</td>\n",
              "    </tr>\n",
              "    <tr>\n",
              "      <td id=\"T_6d7c7_row4_col0\" class=\"data row4 col0\" >10,800.00</td>\n",
              "      <td id=\"T_6d7c7_row4_col1\" class=\"data row4 col1\" >7.70</td>\n",
              "      <td id=\"T_6d7c7_row4_col2\" class=\"data row4 col2\" >53,000</td>\n",
              "      <td id=\"T_6d7c7_row4_col3\" class=\"data row4 col3\" >0.43</td>\n",
              "      <td id=\"T_6d7c7_row4_col4\" class=\"data row4 col4\" >5</td>\n",
              "      <td id=\"T_6d7c7_row4_col5\" class=\"data row4 col5\" >1</td>\n",
              "      <td id=\"T_6d7c7_row4_col6\" class=\"data row4 col6\" >23,000</td>\n",
              "    </tr>\n",
              "    <tr>\n",
              "      <td id=\"T_6d7c7_row5_col0\" class=\"data row5 col0\" >10,100.00</td>\n",
              "      <td id=\"T_6d7c7_row5_col1\" class=\"data row5 col1\" >7.44</td>\n",
              "      <td id=\"T_6d7c7_row5_col2\" class=\"data row5 col2\" >50,600</td>\n",
              "      <td id=\"T_6d7c7_row5_col3\" class=\"data row5 col3\" >0.41</td>\n",
              "      <td id=\"T_6d7c7_row5_col4\" class=\"data row5 col4\" >4</td>\n",
              "      <td id=\"T_6d7c7_row5_col5\" class=\"data row5 col5\" >1</td>\n",
              "      <td id=\"T_6d7c7_row5_col6\" class=\"data row5 col6\" >20,600</td>\n",
              "    </tr>\n",
              "    <tr>\n",
              "      <td id=\"T_6d7c7_row6_col0\" class=\"data row6 col0\" >10,300.00</td>\n",
              "      <td id=\"T_6d7c7_row6_col1\" class=\"data row6 col1\" >7.49</td>\n",
              "      <td id=\"T_6d7c7_row6_col2\" class=\"data row6 col2\" >51,100</td>\n",
              "      <td id=\"T_6d7c7_row6_col3\" class=\"data row6 col3\" >0.41</td>\n",
              "      <td id=\"T_6d7c7_row6_col4\" class=\"data row6 col4\" >4</td>\n",
              "      <td id=\"T_6d7c7_row6_col5\" class=\"data row6 col5\" >1</td>\n",
              "      <td id=\"T_6d7c7_row6_col6\" class=\"data row6 col6\" >21,100</td>\n",
              "    </tr>\n",
              "    <tr>\n",
              "      <td id=\"T_6d7c7_row7_col0\" class=\"data row7 col0\" >8,800.00</td>\n",
              "      <td id=\"T_6d7c7_row7_col1\" class=\"data row7 col1\" >6.86</td>\n",
              "      <td id=\"T_6d7c7_row7_col2\" class=\"data row7 col2\" >45,100</td>\n",
              "      <td id=\"T_6d7c7_row7_col3\" class=\"data row7 col3\" >0.33</td>\n",
              "      <td id=\"T_6d7c7_row7_col4\" class=\"data row7 col4\" >3</td>\n",
              "      <td id=\"T_6d7c7_row7_col5\" class=\"data row7 col5\" >0</td>\n",
              "      <td id=\"T_6d7c7_row7_col6\" class=\"data row7 col6\" >15,100</td>\n",
              "    </tr>\n",
              "    <tr>\n",
              "      <td id=\"T_6d7c7_row8_col0\" class=\"data row8 col0\" >9,300.00</td>\n",
              "      <td id=\"T_6d7c7_row8_col1\" class=\"data row8 col1\" >7.10</td>\n",
              "      <td id=\"T_6d7c7_row8_col2\" class=\"data row8 col2\" >47,400</td>\n",
              "      <td id=\"T_6d7c7_row8_col3\" class=\"data row8 col3\" >0.37</td>\n",
              "      <td id=\"T_6d7c7_row8_col4\" class=\"data row8 col4\" >3</td>\n",
              "      <td id=\"T_6d7c7_row8_col5\" class=\"data row8 col5\" >0</td>\n",
              "      <td id=\"T_6d7c7_row8_col6\" class=\"data row8 col6\" >17,400</td>\n",
              "    </tr>\n",
              "    <tr>\n",
              "      <td id=\"T_6d7c7_row9_col0\" class=\"data row9 col0\" >9,700.00</td>\n",
              "      <td id=\"T_6d7c7_row9_col1\" class=\"data row9 col1\" >7.25</td>\n",
              "      <td id=\"T_6d7c7_row9_col2\" class=\"data row9 col2\" >48,800</td>\n",
              "      <td id=\"T_6d7c7_row9_col3\" class=\"data row9 col3\" >0.39</td>\n",
              "      <td id=\"T_6d7c7_row9_col4\" class=\"data row9 col4\" >4</td>\n",
              "      <td id=\"T_6d7c7_row9_col5\" class=\"data row9 col5\" >0</td>\n",
              "      <td id=\"T_6d7c7_row9_col6\" class=\"data row9 col6\" >18,800</td>\n",
              "    </tr>\n",
              "  </tbody>\n",
              "</table>\n"
            ]
          },
          "metadata": {},
          "execution_count": 9
        }
      ],
      "source": [
        "pandasx.return_formatted_table(x_dataframe, 'Table 1.3.2: Credit Risk Features DataFrame')"
      ]
    },
    {
      "cell_type": "markdown",
      "id": "e5186210",
      "metadata": {
        "id": "e5186210"
      },
      "source": [
        "## **1.4: Split the Data into Training and Testing Datasets by Using `train_test_split`.**"
      ]
    },
    {
      "cell_type": "code",
      "execution_count": 10,
      "id": "7dc1fea0",
      "metadata": {
        "id": "7dc1fea0"
      },
      "outputs": [],
      "source": [
        "x_train_dataframe, x_test_dataframe, \\\n",
        "y_train_series, y_test_series \\\n",
        "    = train_test_split \\\n",
        "        (x_dataframe, y_series,\n",
        "         random_state = credit_risk_constants.CONSTANT_ML_RANDOM_STATE_1)\n",
        "\n",
        "logx.log_write_object(x_train_dataframe)\n",
        "\n",
        "logx.log_write_object(x_test_dataframe)\n",
        "\n",
        "logx.log_write_object(y_train_series)\n",
        "\n",
        "logx.log_write_object(y_test_series)"
      ]
    },
    {
      "cell_type": "markdown",
      "id": "El6-kxlDp_MW",
      "metadata": {
        "id": "El6-kxlDp_MW"
      },
      "source": [
        "## **1.5: Use the StandardScaler to Scale the X Variables**"
      ]
    },
    {
      "cell_type": "markdown",
      "id": "StWNkx3oqElv",
      "metadata": {
        "id": "StWNkx3oqElv"
      },
      "source": [
        "### **Scale Training and Test Data as Numpy Arrays**"
      ]
    },
    {
      "cell_type": "code",
      "execution_count": 11,
      "id": "70492f90",
      "metadata": {
        "id": "70492f90"
      },
      "outputs": [],
      "source": [
        "x_train_scaled_nparray = StandardScaler().fit_transform(x_train_dataframe)\n",
        "\n",
        "logx.log_write_object(x_train_scaled_nparray)"
      ]
    },
    {
      "cell_type": "code",
      "execution_count": 12,
      "id": "22_PAccbqJle",
      "metadata": {
        "id": "22_PAccbqJle"
      },
      "outputs": [],
      "source": [
        "x_test_scaled_nparray = StandardScaler().fit_transform(x_test_dataframe)\n",
        "\n",
        "logx.log_write_object(x_test_scaled_nparray)"
      ]
    },
    {
      "cell_type": "markdown",
      "id": "egnqikq2qOc3",
      "metadata": {
        "id": "egnqikq2qOc3"
      },
      "source": [
        "### **Create Scaled X Variable DataFrames**"
      ]
    },
    {
      "cell_type": "code",
      "execution_count": 13,
      "id": "5loxhPfdqPCI",
      "metadata": {
        "id": "5loxhPfdqPCI"
      },
      "outputs": [],
      "source": [
        "x_train_scaled_dataframe \\\n",
        "    = pd.DataFrame \\\n",
        "        (x_train_scaled_nparray,\n",
        "         columns = x_train_dataframe.columns,\n",
        "         index = x_train_dataframe.index)\n",
        "\n",
        "logx.log_write_object(x_train_scaled_dataframe)"
      ]
    },
    {
      "cell_type": "code",
      "execution_count": 14,
      "id": "q7cxaeckqTIL",
      "metadata": {
        "id": "q7cxaeckqTIL"
      },
      "outputs": [],
      "source": [
        "x_test_scaled_dataframe \\\n",
        "    = pd.DataFrame \\\n",
        "        (x_test_scaled_nparray,\n",
        "         columns = x_test_dataframe.columns,\n",
        "         index = x_test_dataframe.index)\n",
        "\n",
        "logx.log_write_object(x_test_scaled_dataframe)"
      ]
    },
    {
      "cell_type": "markdown",
      "id": "Lgushf3kqVq-",
      "metadata": {
        "id": "Lgushf3kqVq-"
      },
      "source": [
        "### **Display Scaled Training and Testing Data**"
      ]
    },
    {
      "cell_type": "code",
      "execution_count": 15,
      "id": "FCOw-IALqX0g",
      "metadata": {
        "colab": {
          "base_uri": "https://localhost:8080/",
          "height": 398
        },
        "id": "FCOw-IALqX0g",
        "outputId": "3c6fc25d-aa1a-4647-9361-24738e26d311"
      },
      "outputs": [
        {
          "output_type": "execute_result",
          "data": {
            "text/plain": [
              "<pandas.io.formats.style.Styler at 0x7bc711c29090>"
            ],
            "text/html": [
              "<style type=\"text/css\">\n",
              "#T_02ce4 caption {\n",
              "  color: black;\n",
              "  font-size: 20px;\n",
              "  font-style: bold;\n",
              "  text-align: center;\n",
              "}\n",
              "#T_02ce4_row0_col0, #T_02ce4_row0_col1, #T_02ce4_row0_col2, #T_02ce4_row0_col3, #T_02ce4_row0_col4, #T_02ce4_row0_col5, #T_02ce4_row0_col6, #T_02ce4_row1_col0, #T_02ce4_row1_col1, #T_02ce4_row1_col2, #T_02ce4_row1_col3, #T_02ce4_row1_col4, #T_02ce4_row1_col5, #T_02ce4_row1_col6, #T_02ce4_row2_col0, #T_02ce4_row2_col1, #T_02ce4_row2_col2, #T_02ce4_row2_col3, #T_02ce4_row2_col4, #T_02ce4_row2_col5, #T_02ce4_row2_col6, #T_02ce4_row3_col0, #T_02ce4_row3_col1, #T_02ce4_row3_col2, #T_02ce4_row3_col3, #T_02ce4_row3_col4, #T_02ce4_row3_col5, #T_02ce4_row3_col6, #T_02ce4_row4_col0, #T_02ce4_row4_col1, #T_02ce4_row4_col2, #T_02ce4_row4_col3, #T_02ce4_row4_col4, #T_02ce4_row4_col5, #T_02ce4_row4_col6, #T_02ce4_row5_col0, #T_02ce4_row5_col1, #T_02ce4_row5_col2, #T_02ce4_row5_col3, #T_02ce4_row5_col4, #T_02ce4_row5_col5, #T_02ce4_row5_col6, #T_02ce4_row6_col0, #T_02ce4_row6_col1, #T_02ce4_row6_col2, #T_02ce4_row6_col3, #T_02ce4_row6_col4, #T_02ce4_row6_col5, #T_02ce4_row6_col6, #T_02ce4_row7_col0, #T_02ce4_row7_col1, #T_02ce4_row7_col2, #T_02ce4_row7_col3, #T_02ce4_row7_col4, #T_02ce4_row7_col5, #T_02ce4_row7_col6, #T_02ce4_row8_col0, #T_02ce4_row8_col1, #T_02ce4_row8_col2, #T_02ce4_row8_col3, #T_02ce4_row8_col4, #T_02ce4_row8_col5, #T_02ce4_row8_col6, #T_02ce4_row9_col0, #T_02ce4_row9_col1, #T_02ce4_row9_col2, #T_02ce4_row9_col3, #T_02ce4_row9_col4, #T_02ce4_row9_col5, #T_02ce4_row9_col6 {\n",
              "  text-align: center;\n",
              "  border: 1.3px solid red;\n",
              "  color: blue;\n",
              "}\n",
              "</style>\n",
              "<table id=\"T_02ce4\" class=\"dataframe\">\n",
              "  <caption>Table 1.5.1: Credit Risk Scaled Features Training Data</caption>\n",
              "  <thead>\n",
              "    <tr>\n",
              "      <th id=\"T_02ce4_level0_col0\" class=\"col_heading level0 col0\" >loan_size</th>\n",
              "      <th id=\"T_02ce4_level0_col1\" class=\"col_heading level0 col1\" >interest_rate</th>\n",
              "      <th id=\"T_02ce4_level0_col2\" class=\"col_heading level0 col2\" >borrower_income</th>\n",
              "      <th id=\"T_02ce4_level0_col3\" class=\"col_heading level0 col3\" >debt_to_income</th>\n",
              "      <th id=\"T_02ce4_level0_col4\" class=\"col_heading level0 col4\" >num_of_accounts</th>\n",
              "      <th id=\"T_02ce4_level0_col5\" class=\"col_heading level0 col5\" >derogatory_marks</th>\n",
              "      <th id=\"T_02ce4_level0_col6\" class=\"col_heading level0 col6\" >total_debt</th>\n",
              "    </tr>\n",
              "  </thead>\n",
              "  <tbody>\n",
              "    <tr>\n",
              "      <td id=\"T_02ce4_row0_col0\" class=\"data row0 col0\" >-0.34</td>\n",
              "      <td id=\"T_02ce4_row0_col1\" class=\"data row0 col1\" >-0.33</td>\n",
              "      <td id=\"T_02ce4_row0_col2\" class=\"data row0 col2\" >-0.34</td>\n",
              "      <td id=\"T_02ce4_row0_col3\" class=\"data row0 col3\" >-0.29</td>\n",
              "      <td id=\"T_02ce4_row0_col4\" class=\"data row0 col4\" >-0.43</td>\n",
              "      <td id=\"T_02ce4_row0_col5\" class=\"data row0 col5\" >-0.67</td>\n",
              "      <td id=\"T_02ce4_row0_col6\" class=\"data row0 col6\" >-0.34</td>\n",
              "    </tr>\n",
              "    <tr>\n",
              "      <td id=\"T_02ce4_row1_col0\" class=\"data row1 col0\" >-0.57</td>\n",
              "      <td id=\"T_02ce4_row1_col1\" class=\"data row1 col1\" >-0.60</td>\n",
              "      <td id=\"T_02ce4_row1_col2\" class=\"data row1 col2\" >-0.60</td>\n",
              "      <td id=\"T_02ce4_row1_col3\" class=\"data row1 col3\" >-0.68</td>\n",
              "      <td id=\"T_02ce4_row1_col4\" class=\"data row1 col4\" >-0.43</td>\n",
              "      <td id=\"T_02ce4_row1_col5\" class=\"data row1 col5\" >-0.67</td>\n",
              "      <td id=\"T_02ce4_row1_col6\" class=\"data row1 col6\" >-0.60</td>\n",
              "    </tr>\n",
              "    <tr>\n",
              "      <td id=\"T_02ce4_row2_col0\" class=\"data row2 col0\" >0.38</td>\n",
              "      <td id=\"T_02ce4_row2_col1\" class=\"data row2 col1\" >0.39</td>\n",
              "      <td id=\"T_02ce4_row2_col2\" class=\"data row2 col2\" >0.39</td>\n",
              "      <td id=\"T_02ce4_row2_col3\" class=\"data row2 col3\" >0.63</td>\n",
              "      <td id=\"T_02ce4_row2_col4\" class=\"data row2 col4\" >0.61</td>\n",
              "      <td id=\"T_02ce4_row2_col5\" class=\"data row2 col5\" >1.04</td>\n",
              "      <td id=\"T_02ce4_row2_col6\" class=\"data row2 col6\" >0.39</td>\n",
              "    </tr>\n",
              "    <tr>\n",
              "      <td id=\"T_02ce4_row3_col0\" class=\"data row3 col0\" >-0.57</td>\n",
              "      <td id=\"T_02ce4_row3_col1\" class=\"data row3 col1\" >-0.57</td>\n",
              "      <td id=\"T_02ce4_row3_col2\" class=\"data row3 col2\" >-0.56</td>\n",
              "      <td id=\"T_02ce4_row3_col3\" class=\"data row3 col3\" >-0.63</td>\n",
              "      <td id=\"T_02ce4_row3_col4\" class=\"data row3 col4\" >-0.43</td>\n",
              "      <td id=\"T_02ce4_row3_col5\" class=\"data row3 col5\" >-0.67</td>\n",
              "      <td id=\"T_02ce4_row3_col6\" class=\"data row3 col6\" >-0.56</td>\n",
              "    </tr>\n",
              "    <tr>\n",
              "      <td id=\"T_02ce4_row4_col0\" class=\"data row4 col0\" >-1.00</td>\n",
              "      <td id=\"T_02ce4_row4_col1\" class=\"data row4 col1\" >-0.98</td>\n",
              "      <td id=\"T_02ce4_row4_col2\" class=\"data row4 col2\" >-0.98</td>\n",
              "      <td id=\"T_02ce4_row4_col3\" class=\"data row4 col3\" >-1.33</td>\n",
              "      <td id=\"T_02ce4_row4_col4\" class=\"data row4 col4\" >-0.96</td>\n",
              "      <td id=\"T_02ce4_row4_col5\" class=\"data row4 col5\" >-0.67</td>\n",
              "      <td id=\"T_02ce4_row4_col6\" class=\"data row4 col6\" >-0.98</td>\n",
              "    </tr>\n",
              "    <tr>\n",
              "      <td id=\"T_02ce4_row5_col0\" class=\"data row5 col0\" >-0.10</td>\n",
              "      <td id=\"T_02ce4_row5_col1\" class=\"data row5 col1\" >-0.11</td>\n",
              "      <td id=\"T_02ce4_row5_col2\" class=\"data row5 col2\" >-0.11</td>\n",
              "      <td id=\"T_02ce4_row5_col3\" class=\"data row5 col3\" >0.02</td>\n",
              "      <td id=\"T_02ce4_row5_col4\" class=\"data row5 col4\" >0.09</td>\n",
              "      <td id=\"T_02ce4_row5_col5\" class=\"data row5 col5\" >-0.67</td>\n",
              "      <td id=\"T_02ce4_row5_col6\" class=\"data row5 col6\" >-0.11</td>\n",
              "    </tr>\n",
              "    <tr>\n",
              "      <td id=\"T_02ce4_row6_col0\" class=\"data row6 col0\" >-0.77</td>\n",
              "      <td id=\"T_02ce4_row6_col1\" class=\"data row6 col1\" >-0.78</td>\n",
              "      <td id=\"T_02ce4_row6_col2\" class=\"data row6 col2\" >-0.78</td>\n",
              "      <td id=\"T_02ce4_row6_col3\" class=\"data row6 col3\" >-0.98</td>\n",
              "      <td id=\"T_02ce4_row6_col4\" class=\"data row6 col4\" >-0.96</td>\n",
              "      <td id=\"T_02ce4_row6_col5\" class=\"data row6 col5\" >-0.67</td>\n",
              "      <td id=\"T_02ce4_row6_col6\" class=\"data row6 col6\" >-0.78</td>\n",
              "    </tr>\n",
              "    <tr>\n",
              "      <td id=\"T_02ce4_row7_col0\" class=\"data row7 col0\" >-1.05</td>\n",
              "      <td id=\"T_02ce4_row7_col1\" class=\"data row7 col1\" >-1.06</td>\n",
              "      <td id=\"T_02ce4_row7_col2\" class=\"data row7 col2\" >-1.06</td>\n",
              "      <td id=\"T_02ce4_row7_col3\" class=\"data row7 col3\" >-1.49</td>\n",
              "      <td id=\"T_02ce4_row7_col4\" class=\"data row7 col4\" >-0.96</td>\n",
              "      <td id=\"T_02ce4_row7_col5\" class=\"data row7 col5\" >-0.67</td>\n",
              "      <td id=\"T_02ce4_row7_col6\" class=\"data row7 col6\" >-1.06</td>\n",
              "    </tr>\n",
              "    <tr>\n",
              "      <td id=\"T_02ce4_row8_col0\" class=\"data row8 col0\" >-0.96</td>\n",
              "      <td id=\"T_02ce4_row8_col1\" class=\"data row8 col1\" >-0.97</td>\n",
              "      <td id=\"T_02ce4_row8_col2\" class=\"data row8 col2\" >-0.97</td>\n",
              "      <td id=\"T_02ce4_row8_col3\" class=\"data row8 col3\" >-1.31</td>\n",
              "      <td id=\"T_02ce4_row8_col4\" class=\"data row8 col4\" >-0.96</td>\n",
              "      <td id=\"T_02ce4_row8_col5\" class=\"data row8 col5\" >-0.67</td>\n",
              "      <td id=\"T_02ce4_row8_col6\" class=\"data row8 col6\" >-0.97</td>\n",
              "    </tr>\n",
              "    <tr>\n",
              "      <td id=\"T_02ce4_row9_col0\" class=\"data row9 col0\" >0.19</td>\n",
              "      <td id=\"T_02ce4_row9_col1\" class=\"data row9 col1\" >0.17</td>\n",
              "      <td id=\"T_02ce4_row9_col2\" class=\"data row9 col2\" >0.18</td>\n",
              "      <td id=\"T_02ce4_row9_col3\" class=\"data row9 col3\" >0.38</td>\n",
              "      <td id=\"T_02ce4_row9_col4\" class=\"data row9 col4\" >0.09</td>\n",
              "      <td id=\"T_02ce4_row9_col5\" class=\"data row9 col5\" >1.04</td>\n",
              "      <td id=\"T_02ce4_row9_col6\" class=\"data row9 col6\" >0.18</td>\n",
              "    </tr>\n",
              "  </tbody>\n",
              "</table>\n"
            ]
          },
          "metadata": {},
          "execution_count": 15
        }
      ],
      "source": [
        "pandasx.return_formatted_table \\\n",
        "    (x_train_scaled_dataframe,\n",
        "     'Table 1.5.1: Credit Risk Scaled Features Training Data')"
      ]
    },
    {
      "cell_type": "code",
      "execution_count": 16,
      "id": "Wjez1xebqYDX",
      "metadata": {
        "colab": {
          "base_uri": "https://localhost:8080/",
          "height": 398
        },
        "id": "Wjez1xebqYDX",
        "outputId": "481f1d01-cb1c-4d69-829e-e5f1bd8eb567"
      },
      "outputs": [
        {
          "output_type": "execute_result",
          "data": {
            "text/plain": [
              "<pandas.io.formats.style.Styler at 0x7bc711c29300>"
            ],
            "text/html": [
              "<style type=\"text/css\">\n",
              "#T_bccf2 caption {\n",
              "  color: black;\n",
              "  font-size: 20px;\n",
              "  font-style: bold;\n",
              "  text-align: center;\n",
              "}\n",
              "#T_bccf2_row0_col0, #T_bccf2_row0_col1, #T_bccf2_row0_col2, #T_bccf2_row0_col3, #T_bccf2_row0_col4, #T_bccf2_row0_col5, #T_bccf2_row0_col6, #T_bccf2_row1_col0, #T_bccf2_row1_col1, #T_bccf2_row1_col2, #T_bccf2_row1_col3, #T_bccf2_row1_col4, #T_bccf2_row1_col5, #T_bccf2_row1_col6, #T_bccf2_row2_col0, #T_bccf2_row2_col1, #T_bccf2_row2_col2, #T_bccf2_row2_col3, #T_bccf2_row2_col4, #T_bccf2_row2_col5, #T_bccf2_row2_col6, #T_bccf2_row3_col0, #T_bccf2_row3_col1, #T_bccf2_row3_col2, #T_bccf2_row3_col3, #T_bccf2_row3_col4, #T_bccf2_row3_col5, #T_bccf2_row3_col6, #T_bccf2_row4_col0, #T_bccf2_row4_col1, #T_bccf2_row4_col2, #T_bccf2_row4_col3, #T_bccf2_row4_col4, #T_bccf2_row4_col5, #T_bccf2_row4_col6, #T_bccf2_row5_col0, #T_bccf2_row5_col1, #T_bccf2_row5_col2, #T_bccf2_row5_col3, #T_bccf2_row5_col4, #T_bccf2_row5_col5, #T_bccf2_row5_col6, #T_bccf2_row6_col0, #T_bccf2_row6_col1, #T_bccf2_row6_col2, #T_bccf2_row6_col3, #T_bccf2_row6_col4, #T_bccf2_row6_col5, #T_bccf2_row6_col6, #T_bccf2_row7_col0, #T_bccf2_row7_col1, #T_bccf2_row7_col2, #T_bccf2_row7_col3, #T_bccf2_row7_col4, #T_bccf2_row7_col5, #T_bccf2_row7_col6, #T_bccf2_row8_col0, #T_bccf2_row8_col1, #T_bccf2_row8_col2, #T_bccf2_row8_col3, #T_bccf2_row8_col4, #T_bccf2_row8_col5, #T_bccf2_row8_col6, #T_bccf2_row9_col0, #T_bccf2_row9_col1, #T_bccf2_row9_col2, #T_bccf2_row9_col3, #T_bccf2_row9_col4, #T_bccf2_row9_col5, #T_bccf2_row9_col6 {\n",
              "  text-align: center;\n",
              "  border: 1.3px solid red;\n",
              "  color: blue;\n",
              "}\n",
              "</style>\n",
              "<table id=\"T_bccf2\" class=\"dataframe\">\n",
              "  <caption>Table 1.5.2: Credit Risk Scaled Features Test Data</caption>\n",
              "  <thead>\n",
              "    <tr>\n",
              "      <th id=\"T_bccf2_level0_col0\" class=\"col_heading level0 col0\" >loan_size</th>\n",
              "      <th id=\"T_bccf2_level0_col1\" class=\"col_heading level0 col1\" >interest_rate</th>\n",
              "      <th id=\"T_bccf2_level0_col2\" class=\"col_heading level0 col2\" >borrower_income</th>\n",
              "      <th id=\"T_bccf2_level0_col3\" class=\"col_heading level0 col3\" >debt_to_income</th>\n",
              "      <th id=\"T_bccf2_level0_col4\" class=\"col_heading level0 col4\" >num_of_accounts</th>\n",
              "      <th id=\"T_bccf2_level0_col5\" class=\"col_heading level0 col5\" >derogatory_marks</th>\n",
              "      <th id=\"T_bccf2_level0_col6\" class=\"col_heading level0 col6\" >total_debt</th>\n",
              "    </tr>\n",
              "  </thead>\n",
              "  <tbody>\n",
              "    <tr>\n",
              "      <td id=\"T_bccf2_row0_col0\" class=\"data row0 col0\" >-0.15</td>\n",
              "      <td id=\"T_bccf2_row0_col1\" class=\"data row0 col1\" >-0.13</td>\n",
              "      <td id=\"T_bccf2_row0_col2\" class=\"data row0 col2\" >-0.14</td>\n",
              "      <td id=\"T_bccf2_row0_col3\" class=\"data row0 col3\" >-0.02</td>\n",
              "      <td id=\"T_bccf2_row0_col4\" class=\"data row0 col4\" >0.09</td>\n",
              "      <td id=\"T_bccf2_row0_col5\" class=\"data row0 col5\" >-0.68</td>\n",
              "      <td id=\"T_bccf2_row0_col6\" class=\"data row0 col6\" >-0.14</td>\n",
              "    </tr>\n",
              "    <tr>\n",
              "      <td id=\"T_bccf2_row1_col0\" class=\"data row1 col0\" >0.04</td>\n",
              "      <td id=\"T_bccf2_row1_col1\" class=\"data row1 col1\" >0.05</td>\n",
              "      <td id=\"T_bccf2_row1_col2\" class=\"data row1 col2\" >0.04</td>\n",
              "      <td id=\"T_bccf2_row1_col3\" class=\"data row1 col3\" >0.22</td>\n",
              "      <td id=\"T_bccf2_row1_col4\" class=\"data row1 col4\" >0.09</td>\n",
              "      <td id=\"T_bccf2_row1_col5\" class=\"data row1 col5\" >-0.68</td>\n",
              "      <td id=\"T_bccf2_row1_col6\" class=\"data row1 col6\" >0.04</td>\n",
              "    </tr>\n",
              "    <tr>\n",
              "      <td id=\"T_bccf2_row2_col0\" class=\"data row2 col0\" >-0.68</td>\n",
              "      <td id=\"T_bccf2_row2_col1\" class=\"data row2 col1\" >-0.66</td>\n",
              "      <td id=\"T_bccf2_row2_col2\" class=\"data row2 col2\" >-0.65</td>\n",
              "      <td id=\"T_bccf2_row2_col3\" class=\"data row2 col3\" >-0.77</td>\n",
              "      <td id=\"T_bccf2_row2_col4\" class=\"data row2 col4\" >-0.44</td>\n",
              "      <td id=\"T_bccf2_row2_col5\" class=\"data row2 col5\" >-0.68</td>\n",
              "      <td id=\"T_bccf2_row2_col6\" class=\"data row2 col6\" >-0.65</td>\n",
              "    </tr>\n",
              "    <tr>\n",
              "      <td id=\"T_bccf2_row3_col0\" class=\"data row3 col0\" >-0.97</td>\n",
              "      <td id=\"T_bccf2_row3_col1\" class=\"data row3 col1\" >-0.96</td>\n",
              "      <td id=\"T_bccf2_row3_col2\" class=\"data row3 col2\" >-0.95</td>\n",
              "      <td id=\"T_bccf2_row3_col3\" class=\"data row3 col3\" >-1.29</td>\n",
              "      <td id=\"T_bccf2_row3_col4\" class=\"data row3 col4\" >-0.97</td>\n",
              "      <td id=\"T_bccf2_row3_col5\" class=\"data row3 col5\" >-0.68</td>\n",
              "      <td id=\"T_bccf2_row3_col6\" class=\"data row3 col6\" >-0.95</td>\n",
              "    </tr>\n",
              "    <tr>\n",
              "      <td id=\"T_bccf2_row4_col0\" class=\"data row4 col0\" >0.33</td>\n",
              "      <td id=\"T_bccf2_row4_col1\" class=\"data row4 col1\" >0.35</td>\n",
              "      <td id=\"T_bccf2_row4_col2\" class=\"data row4 col2\" >0.36</td>\n",
              "      <td id=\"T_bccf2_row4_col3\" class=\"data row4 col3\" >0.59</td>\n",
              "      <td id=\"T_bccf2_row4_col4\" class=\"data row4 col4\" >0.09</td>\n",
              "      <td id=\"T_bccf2_row4_col5\" class=\"data row4 col5\" >1.04</td>\n",
              "      <td id=\"T_bccf2_row4_col6\" class=\"data row4 col6\" >0.36</td>\n",
              "    </tr>\n",
              "    <tr>\n",
              "      <td id=\"T_bccf2_row5_col0\" class=\"data row5 col0\" >0.24</td>\n",
              "      <td id=\"T_bccf2_row5_col1\" class=\"data row5 col1\" >0.25</td>\n",
              "      <td id=\"T_bccf2_row5_col2\" class=\"data row5 col2\" >0.25</td>\n",
              "      <td id=\"T_bccf2_row5_col3\" class=\"data row5 col3\" >0.47</td>\n",
              "      <td id=\"T_bccf2_row5_col4\" class=\"data row5 col4\" >0.09</td>\n",
              "      <td id=\"T_bccf2_row5_col5\" class=\"data row5 col5\" >1.04</td>\n",
              "      <td id=\"T_bccf2_row5_col6\" class=\"data row5 col6\" >0.25</td>\n",
              "    </tr>\n",
              "    <tr>\n",
              "      <td id=\"T_bccf2_row6_col0\" class=\"data row6 col0\" >-0.05</td>\n",
              "      <td id=\"T_bccf2_row6_col1\" class=\"data row6 col1\" >-0.05</td>\n",
              "      <td id=\"T_bccf2_row6_col2\" class=\"data row6 col2\" >-0.04</td>\n",
              "      <td id=\"T_bccf2_row6_col3\" class=\"data row6 col3\" >0.11</td>\n",
              "      <td id=\"T_bccf2_row6_col4\" class=\"data row6 col4\" >0.09</td>\n",
              "      <td id=\"T_bccf2_row6_col5\" class=\"data row6 col5\" >-0.68</td>\n",
              "      <td id=\"T_bccf2_row6_col6\" class=\"data row6 col6\" >-0.04</td>\n",
              "    </tr>\n",
              "    <tr>\n",
              "      <td id=\"T_bccf2_row7_col0\" class=\"data row7 col0\" >-0.15</td>\n",
              "      <td id=\"T_bccf2_row7_col1\" class=\"data row7 col1\" >-0.17</td>\n",
              "      <td id=\"T_bccf2_row7_col2\" class=\"data row7 col2\" >-0.17</td>\n",
              "      <td id=\"T_bccf2_row7_col3\" class=\"data row7 col3\" >-0.06</td>\n",
              "      <td id=\"T_bccf2_row7_col4\" class=\"data row7 col4\" >0.09</td>\n",
              "      <td id=\"T_bccf2_row7_col5\" class=\"data row7 col5\" >-0.68</td>\n",
              "      <td id=\"T_bccf2_row7_col6\" class=\"data row7 col6\" >-0.17</td>\n",
              "    </tr>\n",
              "    <tr>\n",
              "      <td id=\"T_bccf2_row8_col0\" class=\"data row8 col0\" >0.04</td>\n",
              "      <td id=\"T_bccf2_row8_col1\" class=\"data row8 col1\" >0.03</td>\n",
              "      <td id=\"T_bccf2_row8_col2\" class=\"data row8 col2\" >0.03</td>\n",
              "      <td id=\"T_bccf2_row8_col3\" class=\"data row8 col3\" >0.20</td>\n",
              "      <td id=\"T_bccf2_row8_col4\" class=\"data row8 col4\" >0.09</td>\n",
              "      <td id=\"T_bccf2_row8_col5\" class=\"data row8 col5\" >-0.68</td>\n",
              "      <td id=\"T_bccf2_row8_col6\" class=\"data row8 col6\" >0.03</td>\n",
              "    </tr>\n",
              "    <tr>\n",
              "      <td id=\"T_bccf2_row9_col0\" class=\"data row9 col0\" >0.33</td>\n",
              "      <td id=\"T_bccf2_row9_col1\" class=\"data row9 col1\" >0.35</td>\n",
              "      <td id=\"T_bccf2_row9_col2\" class=\"data row9 col2\" >0.35</td>\n",
              "      <td id=\"T_bccf2_row9_col3\" class=\"data row9 col3\" >0.58</td>\n",
              "      <td id=\"T_bccf2_row9_col4\" class=\"data row9 col4\" >0.09</td>\n",
              "      <td id=\"T_bccf2_row9_col5\" class=\"data row9 col5\" >1.04</td>\n",
              "      <td id=\"T_bccf2_row9_col6\" class=\"data row9 col6\" >0.35</td>\n",
              "    </tr>\n",
              "  </tbody>\n",
              "</table>\n"
            ]
          },
          "metadata": {},
          "execution_count": 16
        }
      ],
      "source": [
        "pandasx.return_formatted_table \\\n",
        "    (x_test_scaled_dataframe,\n",
        "     'Table 1.5.2: Credit Risk Scaled Features Test Data')"
      ]
    },
    {
      "cell_type": "markdown",
      "id": "z0qGUckXuo-B",
      "metadata": {
        "id": "z0qGUckXuo-B"
      },
      "source": [
        "# <br> **Section 2: Undersampled and OverSampled Spam Data**"
      ]
    },
    {
      "cell_type": "markdown",
      "id": "SJMgY4vQuo-C",
      "metadata": {
        "id": "SJMgY4vQuo-C"
      },
      "source": [
        "## **2.1: Instantiate the Random Undersampler Instance**"
      ]
    },
    {
      "cell_type": "code",
      "execution_count": 17,
      "id": "aQgkX4Wluo-C",
      "metadata": {
        "id": "aQgkX4Wluo-C"
      },
      "outputs": [],
      "source": [
        "x_train_scaled_undersampled_dataframe, y_train_undersampled_series \\\n",
        "    = RandomUnderSampler(random_state = credit_risk_constants.CONSTANT_ML_RANDOM_STATE_1) \\\n",
        "        .fit_resample(x_train_scaled_dataframe, y_train_series)"
      ]
    },
    {
      "cell_type": "code",
      "execution_count": 18,
      "id": "KJNhzlQ0uo-C",
      "metadata": {
        "id": "KJNhzlQ0uo-C"
      },
      "outputs": [],
      "source": [
        "logx.log_write_object(x_train_scaled_undersampled_dataframe)\n",
        "\n",
        "logx.log_write_object(y_train_undersampled_series)"
      ]
    },
    {
      "cell_type": "markdown",
      "id": "hdofxCHHuo-C",
      "metadata": {
        "id": "hdofxCHHuo-C"
      },
      "source": [
        "## **2.2: Instantiate the Random Oversampler Instance**"
      ]
    },
    {
      "cell_type": "code",
      "execution_count": 19,
      "id": "m_4DhH35uo-C",
      "metadata": {
        "id": "m_4DhH35uo-C"
      },
      "outputs": [],
      "source": [
        "x_train_scaled_oversampled_dataframe, y_train_oversampled_series \\\n",
        "    = RandomOverSampler(random_state = credit_risk_constants.CONSTANT_ML_RANDOM_STATE_1) \\\n",
        "        .fit_resample(x_train_scaled_dataframe, y_train_series)"
      ]
    },
    {
      "cell_type": "code",
      "execution_count": 20,
      "id": "LlA7fv6ruo-C",
      "metadata": {
        "id": "LlA7fv6ruo-C"
      },
      "outputs": [],
      "source": [
        "logx.log_write_object(x_train_scaled_undersampled_dataframe)\n",
        "\n",
        "logx.log_write_object(y_train_undersampled_series)"
      ]
    },
    {
      "cell_type": "markdown",
      "id": "ItxFz2Vtuo-C",
      "metadata": {
        "id": "ItxFz2Vtuo-C"
      },
      "source": [
        "## **2.3: Instantiate the Cluster Centroids Instance**"
      ]
    },
    {
      "cell_type": "code",
      "execution_count": 21,
      "id": "Hg0_4mQMuo-F",
      "metadata": {
        "id": "Hg0_4mQMuo-F"
      },
      "outputs": [],
      "source": [
        "x_train_scaled_cluster_centroids_dataframe, y_train_cluster_centroids_series \\\n",
        "    = ClusterCentroids \\\n",
        "        (estimator \\\n",
        "             = KMeans(n_init = 'auto', random_state = credit_risk_constants.CONSTANT_ML_RANDOM_STATE_2),\n",
        "         random_state = credit_risk_constants.CONSTANT_ML_RANDOM_STATE_1) \\\n",
        "        .fit_resample(x_train_scaled_dataframe, y_train_series)"
      ]
    },
    {
      "cell_type": "code",
      "execution_count": 22,
      "id": "sVzvq0dcuo-F",
      "metadata": {
        "id": "sVzvq0dcuo-F"
      },
      "outputs": [],
      "source": [
        "logx.log_write_object(x_train_scaled_cluster_centroids_dataframe)\n",
        "\n",
        "logx.log_write_object(y_train_cluster_centroids_series)"
      ]
    },
    {
      "cell_type": "markdown",
      "id": "2YE8D2MWuo-F",
      "metadata": {
        "id": "2YE8D2MWuo-F"
      },
      "source": [
        "## **2.4: Instantiate the SMOTE Instance**"
      ]
    },
    {
      "cell_type": "code",
      "execution_count": 23,
      "id": "8TaqWdqMuo-F",
      "metadata": {
        "id": "8TaqWdqMuo-F"
      },
      "outputs": [],
      "source": [
        "x_train_scaled_SMOTE_dataframe, y_train_SMOTE_series \\\n",
        "    = SMOTE(random_state = credit_risk_constants.CONSTANT_ML_RANDOM_STATE_1, sampling_strategy = 'auto') \\\n",
        "        .fit_resample(x_train_scaled_dataframe, y_train_series)"
      ]
    },
    {
      "cell_type": "code",
      "execution_count": 24,
      "id": "p-UhjxWSuo-F",
      "metadata": {
        "id": "p-UhjxWSuo-F"
      },
      "outputs": [],
      "source": [
        "logx.log_write_object(x_train_scaled_SMOTE_dataframe)\n",
        "\n",
        "logx.log_write_object(y_train_SMOTE_series)"
      ]
    },
    {
      "cell_type": "markdown",
      "id": "7VsynmMEuo-F",
      "metadata": {
        "id": "7VsynmMEuo-F"
      },
      "source": [
        "## **2.5: Instantiate the SMOTEENN Instance**"
      ]
    },
    {
      "cell_type": "code",
      "execution_count": 25,
      "id": "wO4hDgSwuo-F",
      "metadata": {
        "id": "wO4hDgSwuo-F"
      },
      "outputs": [],
      "source": [
        "x_train_scaled_SMOTEENN_dataframe, y_train_SMOTEENN_series \\\n",
        "    = SMOTEENN(random_state = credit_risk_constants.CONSTANT_ML_RANDOM_STATE_1) \\\n",
        "        .fit_resample(x_train_scaled_dataframe, y_train_series)"
      ]
    },
    {
      "cell_type": "code",
      "execution_count": 26,
      "id": "QRUNGH0huo-G",
      "metadata": {
        "id": "QRUNGH0huo-G"
      },
      "outputs": [],
      "source": [
        "logx.log_write_object(x_train_scaled_SMOTEENN_dataframe)\n",
        "\n",
        "logx.log_write_object(y_train_SMOTEENN_series)"
      ]
    },
    {
      "cell_type": "markdown",
      "id": "ALOhewYfuo-G",
      "metadata": {
        "id": "ALOhewYfuo-G"
      },
      "source": [
        "## **2.6: Check the Balance of the Labels Variable (`y`) by Using the `value_counts` Function.**"
      ]
    },
    {
      "cell_type": "code",
      "execution_count": 27,
      "id": "QM3moH5Huo-G",
      "metadata": {
        "colab": {
          "base_uri": "https://localhost:8080/"
        },
        "id": "QM3moH5Huo-G",
        "outputId": "c585fc75-b21f-4b3c-faa1-206fb5cf766a"
      },
      "outputs": [
        {
          "output_type": "execute_result",
          "data": {
            "text/plain": [
              "loan_status\n",
              "0    1890\n",
              "1    1890\n",
              "Name: count, dtype: int64"
            ]
          },
          "metadata": {},
          "execution_count": 27
        }
      ],
      "source": [
        "y_train_undersampled_series.value_counts()"
      ]
    },
    {
      "cell_type": "code",
      "execution_count": 28,
      "id": "6C0q4Qfouo-G",
      "metadata": {
        "colab": {
          "base_uri": "https://localhost:8080/"
        },
        "id": "6C0q4Qfouo-G",
        "outputId": "45289721-c6b7-4196-8961-fa6f093b2646"
      },
      "outputs": [
        {
          "output_type": "execute_result",
          "data": {
            "text/plain": [
              "loan_status\n",
              "0    56262\n",
              "1    56262\n",
              "Name: count, dtype: int64"
            ]
          },
          "metadata": {},
          "execution_count": 28
        }
      ],
      "source": [
        "y_train_oversampled_series.value_counts()"
      ]
    },
    {
      "cell_type": "code",
      "execution_count": 29,
      "id": "41snU0Uguo-G",
      "metadata": {
        "colab": {
          "base_uri": "https://localhost:8080/"
        },
        "id": "41snU0Uguo-G",
        "outputId": "ebde1898-3142-4515-ccaf-9c549175239f"
      },
      "outputs": [
        {
          "output_type": "execute_result",
          "data": {
            "text/plain": [
              "loan_status\n",
              "0    1890\n",
              "1    1890\n",
              "Name: count, dtype: int64"
            ]
          },
          "metadata": {},
          "execution_count": 29
        }
      ],
      "source": [
        "y_train_cluster_centroids_series.value_counts()"
      ]
    },
    {
      "cell_type": "code",
      "execution_count": 30,
      "id": "5-0HgHq-uo-G",
      "metadata": {
        "colab": {
          "base_uri": "https://localhost:8080/"
        },
        "id": "5-0HgHq-uo-G",
        "outputId": "f806533d-1320-41f6-c5d1-afcdac82194c"
      },
      "outputs": [
        {
          "output_type": "execute_result",
          "data": {
            "text/plain": [
              "loan_status\n",
              "0    56262\n",
              "1    56262\n",
              "Name: count, dtype: int64"
            ]
          },
          "metadata": {},
          "execution_count": 30
        }
      ],
      "source": [
        "y_train_SMOTE_series.value_counts()"
      ]
    },
    {
      "cell_type": "code",
      "execution_count": 31,
      "id": "KdbCijZOuo-G",
      "metadata": {
        "colab": {
          "base_uri": "https://localhost:8080/"
        },
        "id": "KdbCijZOuo-G",
        "outputId": "069cde15-0938-4b0a-b804-185c81d0d7eb"
      },
      "outputs": [
        {
          "output_type": "execute_result",
          "data": {
            "text/plain": [
              "loan_status\n",
              "0    55873\n",
              "1    54849\n",
              "Name: count, dtype: int64"
            ]
          },
          "metadata": {},
          "execution_count": 31
        }
      ],
      "source": [
        "y_train_SMOTEENN_series.value_counts()"
      ]
    },
    {
      "cell_type": "markdown",
      "id": "CAyaG3Wnuo-G",
      "metadata": {
        "id": "CAyaG3Wnuo-G"
      },
      "source": [
        "## **2.7: Display Normalized Resampled Training and Testing Data**"
      ]
    },
    {
      "cell_type": "code",
      "execution_count": 32,
      "id": "G3LNKadHuo-G",
      "metadata": {
        "colab": {
          "base_uri": "https://localhost:8080/",
          "height": 398
        },
        "id": "G3LNKadHuo-G",
        "outputId": "6db14d21-dab3-4065-abbe-9ae3a4522a32"
      },
      "outputs": [
        {
          "output_type": "execute_result",
          "data": {
            "text/plain": [
              "<pandas.io.formats.style.Styler at 0x7bc711c55cc0>"
            ],
            "text/html": [
              "<style type=\"text/css\">\n",
              "#T_edc17 caption {\n",
              "  color: black;\n",
              "  font-size: 20px;\n",
              "  font-style: bold;\n",
              "  text-align: center;\n",
              "}\n",
              "#T_edc17_row0_col0, #T_edc17_row0_col1, #T_edc17_row0_col2, #T_edc17_row0_col3, #T_edc17_row0_col4, #T_edc17_row0_col5, #T_edc17_row0_col6, #T_edc17_row1_col0, #T_edc17_row1_col1, #T_edc17_row1_col2, #T_edc17_row1_col3, #T_edc17_row1_col4, #T_edc17_row1_col5, #T_edc17_row1_col6, #T_edc17_row2_col0, #T_edc17_row2_col1, #T_edc17_row2_col2, #T_edc17_row2_col3, #T_edc17_row2_col4, #T_edc17_row2_col5, #T_edc17_row2_col6, #T_edc17_row3_col0, #T_edc17_row3_col1, #T_edc17_row3_col2, #T_edc17_row3_col3, #T_edc17_row3_col4, #T_edc17_row3_col5, #T_edc17_row3_col6, #T_edc17_row4_col0, #T_edc17_row4_col1, #T_edc17_row4_col2, #T_edc17_row4_col3, #T_edc17_row4_col4, #T_edc17_row4_col5, #T_edc17_row4_col6, #T_edc17_row5_col0, #T_edc17_row5_col1, #T_edc17_row5_col2, #T_edc17_row5_col3, #T_edc17_row5_col4, #T_edc17_row5_col5, #T_edc17_row5_col6, #T_edc17_row6_col0, #T_edc17_row6_col1, #T_edc17_row6_col2, #T_edc17_row6_col3, #T_edc17_row6_col4, #T_edc17_row6_col5, #T_edc17_row6_col6, #T_edc17_row7_col0, #T_edc17_row7_col1, #T_edc17_row7_col2, #T_edc17_row7_col3, #T_edc17_row7_col4, #T_edc17_row7_col5, #T_edc17_row7_col6, #T_edc17_row8_col0, #T_edc17_row8_col1, #T_edc17_row8_col2, #T_edc17_row8_col3, #T_edc17_row8_col4, #T_edc17_row8_col5, #T_edc17_row8_col6, #T_edc17_row9_col0, #T_edc17_row9_col1, #T_edc17_row9_col2, #T_edc17_row9_col3, #T_edc17_row9_col4, #T_edc17_row9_col5, #T_edc17_row9_col6 {\n",
              "  text-align: center;\n",
              "  border: 1.3px solid red;\n",
              "  color: blue;\n",
              "}\n",
              "</style>\n",
              "<table id=\"T_edc17\" class=\"dataframe\">\n",
              "  <caption>Table 2.7.1: Scaled Features Training Undersampled Data</caption>\n",
              "  <thead>\n",
              "    <tr>\n",
              "      <th id=\"T_edc17_level0_col0\" class=\"col_heading level0 col0\" >loan_size</th>\n",
              "      <th id=\"T_edc17_level0_col1\" class=\"col_heading level0 col1\" >interest_rate</th>\n",
              "      <th id=\"T_edc17_level0_col2\" class=\"col_heading level0 col2\" >borrower_income</th>\n",
              "      <th id=\"T_edc17_level0_col3\" class=\"col_heading level0 col3\" >debt_to_income</th>\n",
              "      <th id=\"T_edc17_level0_col4\" class=\"col_heading level0 col4\" >num_of_accounts</th>\n",
              "      <th id=\"T_edc17_level0_col5\" class=\"col_heading level0 col5\" >derogatory_marks</th>\n",
              "      <th id=\"T_edc17_level0_col6\" class=\"col_heading level0 col6\" >total_debt</th>\n",
              "    </tr>\n",
              "  </thead>\n",
              "  <tbody>\n",
              "    <tr>\n",
              "      <td id=\"T_edc17_row0_col0\" class=\"data row0 col0\" >-0.62</td>\n",
              "      <td id=\"T_edc17_row0_col1\" class=\"data row0 col1\" >-0.63</td>\n",
              "      <td id=\"T_edc17_row0_col2\" class=\"data row0 col2\" >-0.63</td>\n",
              "      <td id=\"T_edc17_row0_col3\" class=\"data row0 col3\" >-0.74</td>\n",
              "      <td id=\"T_edc17_row0_col4\" class=\"data row0 col4\" >-0.43</td>\n",
              "      <td id=\"T_edc17_row0_col5\" class=\"data row0 col5\" >-0.67</td>\n",
              "      <td id=\"T_edc17_row0_col6\" class=\"data row0 col6\" >-0.63</td>\n",
              "    </tr>\n",
              "    <tr>\n",
              "      <td id=\"T_edc17_row1_col0\" class=\"data row1 col0\" >1.05</td>\n",
              "      <td id=\"T_edc17_row1_col1\" class=\"data row1 col1\" >1.05</td>\n",
              "      <td id=\"T_edc17_row1_col2\" class=\"data row1 col2\" >1.06</td>\n",
              "      <td id=\"T_edc17_row1_col3\" class=\"data row1 col3\" >1.30</td>\n",
              "      <td id=\"T_edc17_row1_col4\" class=\"data row1 col4\" >1.14</td>\n",
              "      <td id=\"T_edc17_row1_col5\" class=\"data row1 col5\" >1.04</td>\n",
              "      <td id=\"T_edc17_row1_col6\" class=\"data row1 col6\" >1.06</td>\n",
              "    </tr>\n",
              "    <tr>\n",
              "      <td id=\"T_edc17_row2_col0\" class=\"data row2 col0\" >0.14</td>\n",
              "      <td id=\"T_edc17_row2_col1\" class=\"data row2 col1\" >0.12</td>\n",
              "      <td id=\"T_edc17_row2_col2\" class=\"data row2 col2\" >0.12</td>\n",
              "      <td id=\"T_edc17_row2_col3\" class=\"data row2 col3\" >0.31</td>\n",
              "      <td id=\"T_edc17_row2_col4\" class=\"data row2 col4\" >0.09</td>\n",
              "      <td id=\"T_edc17_row2_col5\" class=\"data row2 col5\" >1.04</td>\n",
              "      <td id=\"T_edc17_row2_col6\" class=\"data row2 col6\" >0.12</td>\n",
              "    </tr>\n",
              "    <tr>\n",
              "      <td id=\"T_edc17_row3_col0\" class=\"data row3 col0\" >0.19</td>\n",
              "      <td id=\"T_edc17_row3_col1\" class=\"data row3 col1\" >0.21</td>\n",
              "      <td id=\"T_edc17_row3_col2\" class=\"data row3 col2\" >0.20</td>\n",
              "      <td id=\"T_edc17_row3_col3\" class=\"data row3 col3\" >0.41</td>\n",
              "      <td id=\"T_edc17_row3_col4\" class=\"data row3 col4\" >0.09</td>\n",
              "      <td id=\"T_edc17_row3_col5\" class=\"data row3 col5\" >1.04</td>\n",
              "      <td id=\"T_edc17_row3_col6\" class=\"data row3 col6\" >0.20</td>\n",
              "    </tr>\n",
              "    <tr>\n",
              "      <td id=\"T_edc17_row4_col0\" class=\"data row4 col0\" >-0.10</td>\n",
              "      <td id=\"T_edc17_row4_col1\" class=\"data row4 col1\" >-0.10</td>\n",
              "      <td id=\"T_edc17_row4_col2\" class=\"data row4 col2\" >-0.10</td>\n",
              "      <td id=\"T_edc17_row4_col3\" class=\"data row4 col3\" >0.04</td>\n",
              "      <td id=\"T_edc17_row4_col4\" class=\"data row4 col4\" >0.09</td>\n",
              "      <td id=\"T_edc17_row4_col5\" class=\"data row4 col5\" >-0.67</td>\n",
              "      <td id=\"T_edc17_row4_col6\" class=\"data row4 col6\" >-0.10</td>\n",
              "    </tr>\n",
              "    <tr>\n",
              "      <td id=\"T_edc17_row5_col0\" class=\"data row5 col0\" >0.71</td>\n",
              "      <td id=\"T_edc17_row5_col1\" class=\"data row5 col1\" >0.71</td>\n",
              "      <td id=\"T_edc17_row5_col2\" class=\"data row5 col2\" >0.71</td>\n",
              "      <td id=\"T_edc17_row5_col3\" class=\"data row5 col3\" >0.97</td>\n",
              "      <td id=\"T_edc17_row5_col4\" class=\"data row5 col4\" >0.61</td>\n",
              "      <td id=\"T_edc17_row5_col5\" class=\"data row5 col5\" >1.04</td>\n",
              "      <td id=\"T_edc17_row5_col6\" class=\"data row5 col6\" >0.71</td>\n",
              "    </tr>\n",
              "    <tr>\n",
              "      <td id=\"T_edc17_row6_col0\" class=\"data row6 col0\" >-0.81</td>\n",
              "      <td id=\"T_edc17_row6_col1\" class=\"data row6 col1\" >-0.81</td>\n",
              "      <td id=\"T_edc17_row6_col2\" class=\"data row6 col2\" >-0.81</td>\n",
              "      <td id=\"T_edc17_row6_col3\" class=\"data row6 col3\" >-1.04</td>\n",
              "      <td id=\"T_edc17_row6_col4\" class=\"data row6 col4\" >-0.96</td>\n",
              "      <td id=\"T_edc17_row6_col5\" class=\"data row6 col5\" >-0.67</td>\n",
              "      <td id=\"T_edc17_row6_col6\" class=\"data row6 col6\" >-0.81</td>\n",
              "    </tr>\n",
              "    <tr>\n",
              "      <td id=\"T_edc17_row7_col0\" class=\"data row7 col0\" >-0.48</td>\n",
              "      <td id=\"T_edc17_row7_col1\" class=\"data row7 col1\" >-0.49</td>\n",
              "      <td id=\"T_edc17_row7_col2\" class=\"data row7 col2\" >-0.49</td>\n",
              "      <td id=\"T_edc17_row7_col3\" class=\"data row7 col3\" >-0.52</td>\n",
              "      <td id=\"T_edc17_row7_col4\" class=\"data row7 col4\" >-0.43</td>\n",
              "      <td id=\"T_edc17_row7_col5\" class=\"data row7 col5\" >-0.67</td>\n",
              "      <td id=\"T_edc17_row7_col6\" class=\"data row7 col6\" >-0.49</td>\n",
              "    </tr>\n",
              "    <tr>\n",
              "      <td id=\"T_edc17_row8_col0\" class=\"data row8 col0\" >-0.62</td>\n",
              "      <td id=\"T_edc17_row8_col1\" class=\"data row8 col1\" >-0.64</td>\n",
              "      <td id=\"T_edc17_row8_col2\" class=\"data row8 col2\" >-0.63</td>\n",
              "      <td id=\"T_edc17_row8_col3\" class=\"data row8 col3\" >-0.74</td>\n",
              "      <td id=\"T_edc17_row8_col4\" class=\"data row8 col4\" >-0.43</td>\n",
              "      <td id=\"T_edc17_row8_col5\" class=\"data row8 col5\" >-0.67</td>\n",
              "      <td id=\"T_edc17_row8_col6\" class=\"data row8 col6\" >-0.63</td>\n",
              "    </tr>\n",
              "    <tr>\n",
              "      <td id=\"T_edc17_row9_col0\" class=\"data row9 col0\" >0.62</td>\n",
              "      <td id=\"T_edc17_row9_col1\" class=\"data row9 col1\" >0.60</td>\n",
              "      <td id=\"T_edc17_row9_col2\" class=\"data row9 col2\" >0.61</td>\n",
              "      <td id=\"T_edc17_row9_col3\" class=\"data row9 col3\" >0.86</td>\n",
              "      <td id=\"T_edc17_row9_col4\" class=\"data row9 col4\" >0.61</td>\n",
              "      <td id=\"T_edc17_row9_col5\" class=\"data row9 col5\" >1.04</td>\n",
              "      <td id=\"T_edc17_row9_col6\" class=\"data row9 col6\" >0.61</td>\n",
              "    </tr>\n",
              "  </tbody>\n",
              "</table>\n"
            ]
          },
          "metadata": {},
          "execution_count": 32
        }
      ],
      "source": [
        "pandasx.return_formatted_table \\\n",
        "    (x_train_scaled_undersampled_dataframe,\n",
        "     'Table 2.7.1: Scaled Features Training Undersampled Data')"
      ]
    },
    {
      "cell_type": "code",
      "execution_count": 33,
      "id": "tlgufA2uuo-G",
      "metadata": {
        "colab": {
          "base_uri": "https://localhost:8080/",
          "height": 398
        },
        "id": "tlgufA2uuo-G",
        "outputId": "b18a2aaa-7f30-4537-fd12-936dfcd82aaa"
      },
      "outputs": [
        {
          "output_type": "execute_result",
          "data": {
            "text/plain": [
              "<pandas.io.formats.style.Styler at 0x7bc711c56320>"
            ],
            "text/html": [
              "<style type=\"text/css\">\n",
              "#T_35a43 caption {\n",
              "  color: black;\n",
              "  font-size: 20px;\n",
              "  font-style: bold;\n",
              "  text-align: center;\n",
              "}\n",
              "#T_35a43_row0_col0, #T_35a43_row0_col1, #T_35a43_row0_col2, #T_35a43_row0_col3, #T_35a43_row0_col4, #T_35a43_row0_col5, #T_35a43_row0_col6, #T_35a43_row1_col0, #T_35a43_row1_col1, #T_35a43_row1_col2, #T_35a43_row1_col3, #T_35a43_row1_col4, #T_35a43_row1_col5, #T_35a43_row1_col6, #T_35a43_row2_col0, #T_35a43_row2_col1, #T_35a43_row2_col2, #T_35a43_row2_col3, #T_35a43_row2_col4, #T_35a43_row2_col5, #T_35a43_row2_col6, #T_35a43_row3_col0, #T_35a43_row3_col1, #T_35a43_row3_col2, #T_35a43_row3_col3, #T_35a43_row3_col4, #T_35a43_row3_col5, #T_35a43_row3_col6, #T_35a43_row4_col0, #T_35a43_row4_col1, #T_35a43_row4_col2, #T_35a43_row4_col3, #T_35a43_row4_col4, #T_35a43_row4_col5, #T_35a43_row4_col6, #T_35a43_row5_col0, #T_35a43_row5_col1, #T_35a43_row5_col2, #T_35a43_row5_col3, #T_35a43_row5_col4, #T_35a43_row5_col5, #T_35a43_row5_col6, #T_35a43_row6_col0, #T_35a43_row6_col1, #T_35a43_row6_col2, #T_35a43_row6_col3, #T_35a43_row6_col4, #T_35a43_row6_col5, #T_35a43_row6_col6, #T_35a43_row7_col0, #T_35a43_row7_col1, #T_35a43_row7_col2, #T_35a43_row7_col3, #T_35a43_row7_col4, #T_35a43_row7_col5, #T_35a43_row7_col6, #T_35a43_row8_col0, #T_35a43_row8_col1, #T_35a43_row8_col2, #T_35a43_row8_col3, #T_35a43_row8_col4, #T_35a43_row8_col5, #T_35a43_row8_col6, #T_35a43_row9_col0, #T_35a43_row9_col1, #T_35a43_row9_col2, #T_35a43_row9_col3, #T_35a43_row9_col4, #T_35a43_row9_col5, #T_35a43_row9_col6 {\n",
              "  text-align: center;\n",
              "  border: 1.3px solid red;\n",
              "  color: blue;\n",
              "}\n",
              "</style>\n",
              "<table id=\"T_35a43\" class=\"dataframe\">\n",
              "  <caption>Table 2.7.2: Scaled Features Training Oversampled Data</caption>\n",
              "  <thead>\n",
              "    <tr>\n",
              "      <th id=\"T_35a43_level0_col0\" class=\"col_heading level0 col0\" >loan_size</th>\n",
              "      <th id=\"T_35a43_level0_col1\" class=\"col_heading level0 col1\" >interest_rate</th>\n",
              "      <th id=\"T_35a43_level0_col2\" class=\"col_heading level0 col2\" >borrower_income</th>\n",
              "      <th id=\"T_35a43_level0_col3\" class=\"col_heading level0 col3\" >debt_to_income</th>\n",
              "      <th id=\"T_35a43_level0_col4\" class=\"col_heading level0 col4\" >num_of_accounts</th>\n",
              "      <th id=\"T_35a43_level0_col5\" class=\"col_heading level0 col5\" >derogatory_marks</th>\n",
              "      <th id=\"T_35a43_level0_col6\" class=\"col_heading level0 col6\" >total_debt</th>\n",
              "    </tr>\n",
              "  </thead>\n",
              "  <tbody>\n",
              "    <tr>\n",
              "      <td id=\"T_35a43_row0_col0\" class=\"data row0 col0\" >-0.34</td>\n",
              "      <td id=\"T_35a43_row0_col1\" class=\"data row0 col1\" >-0.33</td>\n",
              "      <td id=\"T_35a43_row0_col2\" class=\"data row0 col2\" >-0.34</td>\n",
              "      <td id=\"T_35a43_row0_col3\" class=\"data row0 col3\" >-0.29</td>\n",
              "      <td id=\"T_35a43_row0_col4\" class=\"data row0 col4\" >-0.43</td>\n",
              "      <td id=\"T_35a43_row0_col5\" class=\"data row0 col5\" >-0.67</td>\n",
              "      <td id=\"T_35a43_row0_col6\" class=\"data row0 col6\" >-0.34</td>\n",
              "    </tr>\n",
              "    <tr>\n",
              "      <td id=\"T_35a43_row1_col0\" class=\"data row1 col0\" >-0.57</td>\n",
              "      <td id=\"T_35a43_row1_col1\" class=\"data row1 col1\" >-0.60</td>\n",
              "      <td id=\"T_35a43_row1_col2\" class=\"data row1 col2\" >-0.60</td>\n",
              "      <td id=\"T_35a43_row1_col3\" class=\"data row1 col3\" >-0.68</td>\n",
              "      <td id=\"T_35a43_row1_col4\" class=\"data row1 col4\" >-0.43</td>\n",
              "      <td id=\"T_35a43_row1_col5\" class=\"data row1 col5\" >-0.67</td>\n",
              "      <td id=\"T_35a43_row1_col6\" class=\"data row1 col6\" >-0.60</td>\n",
              "    </tr>\n",
              "    <tr>\n",
              "      <td id=\"T_35a43_row2_col0\" class=\"data row2 col0\" >0.38</td>\n",
              "      <td id=\"T_35a43_row2_col1\" class=\"data row2 col1\" >0.39</td>\n",
              "      <td id=\"T_35a43_row2_col2\" class=\"data row2 col2\" >0.39</td>\n",
              "      <td id=\"T_35a43_row2_col3\" class=\"data row2 col3\" >0.63</td>\n",
              "      <td id=\"T_35a43_row2_col4\" class=\"data row2 col4\" >0.61</td>\n",
              "      <td id=\"T_35a43_row2_col5\" class=\"data row2 col5\" >1.04</td>\n",
              "      <td id=\"T_35a43_row2_col6\" class=\"data row2 col6\" >0.39</td>\n",
              "    </tr>\n",
              "    <tr>\n",
              "      <td id=\"T_35a43_row3_col0\" class=\"data row3 col0\" >-0.57</td>\n",
              "      <td id=\"T_35a43_row3_col1\" class=\"data row3 col1\" >-0.57</td>\n",
              "      <td id=\"T_35a43_row3_col2\" class=\"data row3 col2\" >-0.56</td>\n",
              "      <td id=\"T_35a43_row3_col3\" class=\"data row3 col3\" >-0.63</td>\n",
              "      <td id=\"T_35a43_row3_col4\" class=\"data row3 col4\" >-0.43</td>\n",
              "      <td id=\"T_35a43_row3_col5\" class=\"data row3 col5\" >-0.67</td>\n",
              "      <td id=\"T_35a43_row3_col6\" class=\"data row3 col6\" >-0.56</td>\n",
              "    </tr>\n",
              "    <tr>\n",
              "      <td id=\"T_35a43_row4_col0\" class=\"data row4 col0\" >-1.00</td>\n",
              "      <td id=\"T_35a43_row4_col1\" class=\"data row4 col1\" >-0.98</td>\n",
              "      <td id=\"T_35a43_row4_col2\" class=\"data row4 col2\" >-0.98</td>\n",
              "      <td id=\"T_35a43_row4_col3\" class=\"data row4 col3\" >-1.33</td>\n",
              "      <td id=\"T_35a43_row4_col4\" class=\"data row4 col4\" >-0.96</td>\n",
              "      <td id=\"T_35a43_row4_col5\" class=\"data row4 col5\" >-0.67</td>\n",
              "      <td id=\"T_35a43_row4_col6\" class=\"data row4 col6\" >-0.98</td>\n",
              "    </tr>\n",
              "    <tr>\n",
              "      <td id=\"T_35a43_row5_col0\" class=\"data row5 col0\" >-0.10</td>\n",
              "      <td id=\"T_35a43_row5_col1\" class=\"data row5 col1\" >-0.11</td>\n",
              "      <td id=\"T_35a43_row5_col2\" class=\"data row5 col2\" >-0.11</td>\n",
              "      <td id=\"T_35a43_row5_col3\" class=\"data row5 col3\" >0.02</td>\n",
              "      <td id=\"T_35a43_row5_col4\" class=\"data row5 col4\" >0.09</td>\n",
              "      <td id=\"T_35a43_row5_col5\" class=\"data row5 col5\" >-0.67</td>\n",
              "      <td id=\"T_35a43_row5_col6\" class=\"data row5 col6\" >-0.11</td>\n",
              "    </tr>\n",
              "    <tr>\n",
              "      <td id=\"T_35a43_row6_col0\" class=\"data row6 col0\" >-0.77</td>\n",
              "      <td id=\"T_35a43_row6_col1\" class=\"data row6 col1\" >-0.78</td>\n",
              "      <td id=\"T_35a43_row6_col2\" class=\"data row6 col2\" >-0.78</td>\n",
              "      <td id=\"T_35a43_row6_col3\" class=\"data row6 col3\" >-0.98</td>\n",
              "      <td id=\"T_35a43_row6_col4\" class=\"data row6 col4\" >-0.96</td>\n",
              "      <td id=\"T_35a43_row6_col5\" class=\"data row6 col5\" >-0.67</td>\n",
              "      <td id=\"T_35a43_row6_col6\" class=\"data row6 col6\" >-0.78</td>\n",
              "    </tr>\n",
              "    <tr>\n",
              "      <td id=\"T_35a43_row7_col0\" class=\"data row7 col0\" >-1.05</td>\n",
              "      <td id=\"T_35a43_row7_col1\" class=\"data row7 col1\" >-1.06</td>\n",
              "      <td id=\"T_35a43_row7_col2\" class=\"data row7 col2\" >-1.06</td>\n",
              "      <td id=\"T_35a43_row7_col3\" class=\"data row7 col3\" >-1.49</td>\n",
              "      <td id=\"T_35a43_row7_col4\" class=\"data row7 col4\" >-0.96</td>\n",
              "      <td id=\"T_35a43_row7_col5\" class=\"data row7 col5\" >-0.67</td>\n",
              "      <td id=\"T_35a43_row7_col6\" class=\"data row7 col6\" >-1.06</td>\n",
              "    </tr>\n",
              "    <tr>\n",
              "      <td id=\"T_35a43_row8_col0\" class=\"data row8 col0\" >-0.96</td>\n",
              "      <td id=\"T_35a43_row8_col1\" class=\"data row8 col1\" >-0.97</td>\n",
              "      <td id=\"T_35a43_row8_col2\" class=\"data row8 col2\" >-0.97</td>\n",
              "      <td id=\"T_35a43_row8_col3\" class=\"data row8 col3\" >-1.31</td>\n",
              "      <td id=\"T_35a43_row8_col4\" class=\"data row8 col4\" >-0.96</td>\n",
              "      <td id=\"T_35a43_row8_col5\" class=\"data row8 col5\" >-0.67</td>\n",
              "      <td id=\"T_35a43_row8_col6\" class=\"data row8 col6\" >-0.97</td>\n",
              "    </tr>\n",
              "    <tr>\n",
              "      <td id=\"T_35a43_row9_col0\" class=\"data row9 col0\" >0.19</td>\n",
              "      <td id=\"T_35a43_row9_col1\" class=\"data row9 col1\" >0.17</td>\n",
              "      <td id=\"T_35a43_row9_col2\" class=\"data row9 col2\" >0.18</td>\n",
              "      <td id=\"T_35a43_row9_col3\" class=\"data row9 col3\" >0.38</td>\n",
              "      <td id=\"T_35a43_row9_col4\" class=\"data row9 col4\" >0.09</td>\n",
              "      <td id=\"T_35a43_row9_col5\" class=\"data row9 col5\" >1.04</td>\n",
              "      <td id=\"T_35a43_row9_col6\" class=\"data row9 col6\" >0.18</td>\n",
              "    </tr>\n",
              "  </tbody>\n",
              "</table>\n"
            ]
          },
          "metadata": {},
          "execution_count": 33
        }
      ],
      "source": [
        "pandasx.return_formatted_table \\\n",
        "    (x_train_scaled_oversampled_dataframe,\n",
        "     'Table 2.7.2: Scaled Features Training Oversampled Data')"
      ]
    },
    {
      "cell_type": "code",
      "execution_count": 34,
      "id": "bbEzazliuo-H",
      "metadata": {
        "colab": {
          "base_uri": "https://localhost:8080/",
          "height": 398
        },
        "id": "bbEzazliuo-H",
        "outputId": "c9f3a4db-74d8-4fa0-a55c-5e8fb4e46f7e"
      },
      "outputs": [
        {
          "output_type": "execute_result",
          "data": {
            "text/plain": [
              "<pandas.io.formats.style.Styler at 0x7bc711c57af0>"
            ],
            "text/html": [
              "<style type=\"text/css\">\n",
              "#T_692ba caption {\n",
              "  color: black;\n",
              "  font-size: 20px;\n",
              "  font-style: bold;\n",
              "  text-align: center;\n",
              "}\n",
              "#T_692ba_row0_col0, #T_692ba_row0_col1, #T_692ba_row0_col2, #T_692ba_row0_col3, #T_692ba_row0_col4, #T_692ba_row0_col5, #T_692ba_row0_col6, #T_692ba_row1_col0, #T_692ba_row1_col1, #T_692ba_row1_col2, #T_692ba_row1_col3, #T_692ba_row1_col4, #T_692ba_row1_col5, #T_692ba_row1_col6, #T_692ba_row2_col0, #T_692ba_row2_col1, #T_692ba_row2_col2, #T_692ba_row2_col3, #T_692ba_row2_col4, #T_692ba_row2_col5, #T_692ba_row2_col6, #T_692ba_row3_col0, #T_692ba_row3_col1, #T_692ba_row3_col2, #T_692ba_row3_col3, #T_692ba_row3_col4, #T_692ba_row3_col5, #T_692ba_row3_col6, #T_692ba_row4_col0, #T_692ba_row4_col1, #T_692ba_row4_col2, #T_692ba_row4_col3, #T_692ba_row4_col4, #T_692ba_row4_col5, #T_692ba_row4_col6, #T_692ba_row5_col0, #T_692ba_row5_col1, #T_692ba_row5_col2, #T_692ba_row5_col3, #T_692ba_row5_col4, #T_692ba_row5_col5, #T_692ba_row5_col6, #T_692ba_row6_col0, #T_692ba_row6_col1, #T_692ba_row6_col2, #T_692ba_row6_col3, #T_692ba_row6_col4, #T_692ba_row6_col5, #T_692ba_row6_col6, #T_692ba_row7_col0, #T_692ba_row7_col1, #T_692ba_row7_col2, #T_692ba_row7_col3, #T_692ba_row7_col4, #T_692ba_row7_col5, #T_692ba_row7_col6, #T_692ba_row8_col0, #T_692ba_row8_col1, #T_692ba_row8_col2, #T_692ba_row8_col3, #T_692ba_row8_col4, #T_692ba_row8_col5, #T_692ba_row8_col6, #T_692ba_row9_col0, #T_692ba_row9_col1, #T_692ba_row9_col2, #T_692ba_row9_col3, #T_692ba_row9_col4, #T_692ba_row9_col5, #T_692ba_row9_col6 {\n",
              "  text-align: center;\n",
              "  border: 1.3px solid red;\n",
              "  color: blue;\n",
              "}\n",
              "</style>\n",
              "<table id=\"T_692ba\" class=\"dataframe\">\n",
              "  <caption>Table 2.7.3: Scaled Features Training Cluster Centroids Data</caption>\n",
              "  <thead>\n",
              "    <tr>\n",
              "      <th id=\"T_692ba_level0_col0\" class=\"col_heading level0 col0\" >loan_size</th>\n",
              "      <th id=\"T_692ba_level0_col1\" class=\"col_heading level0 col1\" >interest_rate</th>\n",
              "      <th id=\"T_692ba_level0_col2\" class=\"col_heading level0 col2\" >borrower_income</th>\n",
              "      <th id=\"T_692ba_level0_col3\" class=\"col_heading level0 col3\" >debt_to_income</th>\n",
              "      <th id=\"T_692ba_level0_col4\" class=\"col_heading level0 col4\" >num_of_accounts</th>\n",
              "      <th id=\"T_692ba_level0_col5\" class=\"col_heading level0 col5\" >derogatory_marks</th>\n",
              "      <th id=\"T_692ba_level0_col6\" class=\"col_heading level0 col6\" >total_debt</th>\n",
              "    </tr>\n",
              "  </thead>\n",
              "  <tbody>\n",
              "    <tr>\n",
              "      <td id=\"T_692ba_row0_col0\" class=\"data row0 col0\" >0.81</td>\n",
              "      <td id=\"T_692ba_row0_col1\" class=\"data row0 col1\" >0.80</td>\n",
              "      <td id=\"T_692ba_row0_col2\" class=\"data row0 col2\" >0.80</td>\n",
              "      <td id=\"T_692ba_row0_col3\" class=\"data row0 col3\" >1.05</td>\n",
              "      <td id=\"T_692ba_row0_col4\" class=\"data row0 col4\" >0.61</td>\n",
              "      <td id=\"T_692ba_row0_col5\" class=\"data row0 col5\" >1.04</td>\n",
              "      <td id=\"T_692ba_row0_col6\" class=\"data row0 col6\" >0.80</td>\n",
              "    </tr>\n",
              "    <tr>\n",
              "      <td id=\"T_692ba_row1_col0\" class=\"data row1 col0\" >-0.48</td>\n",
              "      <td id=\"T_692ba_row1_col1\" class=\"data row1 col1\" >-0.48</td>\n",
              "      <td id=\"T_692ba_row1_col2\" class=\"data row1 col2\" >-0.48</td>\n",
              "      <td id=\"T_692ba_row1_col3\" class=\"data row1 col3\" >-0.50</td>\n",
              "      <td id=\"T_692ba_row1_col4\" class=\"data row1 col4\" >-0.43</td>\n",
              "      <td id=\"T_692ba_row1_col5\" class=\"data row1 col5\" >-0.67</td>\n",
              "      <td id=\"T_692ba_row1_col6\" class=\"data row1 col6\" >-0.48</td>\n",
              "    </tr>\n",
              "    <tr>\n",
              "      <td id=\"T_692ba_row2_col0\" class=\"data row2 col0\" >-1.10</td>\n",
              "      <td id=\"T_692ba_row2_col1\" class=\"data row2 col1\" >-1.08</td>\n",
              "      <td id=\"T_692ba_row2_col2\" class=\"data row2 col2\" >-1.09</td>\n",
              "      <td id=\"T_692ba_row2_col3\" class=\"data row2 col3\" >-1.53</td>\n",
              "      <td id=\"T_692ba_row2_col4\" class=\"data row2 col4\" >-0.96</td>\n",
              "      <td id=\"T_692ba_row2_col5\" class=\"data row2 col5\" >-0.67</td>\n",
              "      <td id=\"T_692ba_row2_col6\" class=\"data row2 col6\" >-1.09</td>\n",
              "    </tr>\n",
              "    <tr>\n",
              "      <td id=\"T_692ba_row3_col0\" class=\"data row3 col0\" >4.81</td>\n",
              "      <td id=\"T_692ba_row3_col1\" class=\"data row3 col1\" >4.80</td>\n",
              "      <td id=\"T_692ba_row3_col2\" class=\"data row3 col2\" >4.80</td>\n",
              "      <td id=\"T_692ba_row3_col3\" class=\"data row3 col3\" >3.52</td>\n",
              "      <td id=\"T_692ba_row3_col4\" class=\"data row3 col4\" >4.81</td>\n",
              "      <td id=\"T_692ba_row3_col5\" class=\"data row3 col5\" >2.76</td>\n",
              "      <td id=\"T_692ba_row3_col6\" class=\"data row3 col6\" >4.80</td>\n",
              "    </tr>\n",
              "    <tr>\n",
              "      <td id=\"T_692ba_row4_col0\" class=\"data row4 col0\" >0.28</td>\n",
              "      <td id=\"T_692ba_row4_col1\" class=\"data row4 col1\" >0.30</td>\n",
              "      <td id=\"T_692ba_row4_col2\" class=\"data row4 col2\" >0.30</td>\n",
              "      <td id=\"T_692ba_row4_col3\" class=\"data row4 col3\" >0.52</td>\n",
              "      <td id=\"T_692ba_row4_col4\" class=\"data row4 col4\" >0.09</td>\n",
              "      <td id=\"T_692ba_row4_col5\" class=\"data row4 col5\" >1.04</td>\n",
              "      <td id=\"T_692ba_row4_col6\" class=\"data row4 col6\" >0.30</td>\n",
              "    </tr>\n",
              "    <tr>\n",
              "      <td id=\"T_692ba_row5_col0\" class=\"data row5 col0\" >-0.05</td>\n",
              "      <td id=\"T_692ba_row5_col1\" class=\"data row5 col1\" >-0.05</td>\n",
              "      <td id=\"T_692ba_row5_col2\" class=\"data row5 col2\" >-0.05</td>\n",
              "      <td id=\"T_692ba_row5_col3\" class=\"data row5 col3\" >0.10</td>\n",
              "      <td id=\"T_692ba_row5_col4\" class=\"data row5 col4\" >0.09</td>\n",
              "      <td id=\"T_692ba_row5_col5\" class=\"data row5 col5\" >-0.67</td>\n",
              "      <td id=\"T_692ba_row5_col6\" class=\"data row5 col6\" >-0.05</td>\n",
              "    </tr>\n",
              "    <tr>\n",
              "      <td id=\"T_692ba_row6_col0\" class=\"data row6 col0\" >-0.77</td>\n",
              "      <td id=\"T_692ba_row6_col1\" class=\"data row6 col1\" >-0.75</td>\n",
              "      <td id=\"T_692ba_row6_col2\" class=\"data row6 col2\" >-0.74</td>\n",
              "      <td id=\"T_692ba_row6_col3\" class=\"data row6 col3\" >-0.92</td>\n",
              "      <td id=\"T_692ba_row6_col4\" class=\"data row6 col4\" >-0.96</td>\n",
              "      <td id=\"T_692ba_row6_col5\" class=\"data row6 col5\" >-0.67</td>\n",
              "      <td id=\"T_692ba_row6_col6\" class=\"data row6 col6\" >-0.74</td>\n",
              "    </tr>\n",
              "    <tr>\n",
              "      <td id=\"T_692ba_row7_col0\" class=\"data row7 col0\" >-0.29</td>\n",
              "      <td id=\"T_692ba_row7_col1\" class=\"data row7 col1\" >-0.27</td>\n",
              "      <td id=\"T_692ba_row7_col2\" class=\"data row7 col2\" >-0.28</td>\n",
              "      <td id=\"T_692ba_row7_col3\" class=\"data row7 col3\" >-0.21</td>\n",
              "      <td id=\"T_692ba_row7_col4\" class=\"data row7 col4\" >-0.43</td>\n",
              "      <td id=\"T_692ba_row7_col5\" class=\"data row7 col5\" >-0.67</td>\n",
              "      <td id=\"T_692ba_row7_col6\" class=\"data row7 col6\" >-0.28</td>\n",
              "    </tr>\n",
              "    <tr>\n",
              "      <td id=\"T_692ba_row8_col0\" class=\"data row8 col0\" >-1.62</td>\n",
              "      <td id=\"T_692ba_row8_col1\" class=\"data row8 col1\" >-1.63</td>\n",
              "      <td id=\"T_692ba_row8_col2\" class=\"data row8 col2\" >-1.62</td>\n",
              "      <td id=\"T_692ba_row8_col3\" class=\"data row8 col3\" >-2.69</td>\n",
              "      <td id=\"T_692ba_row8_col4\" class=\"data row8 col4\" >-1.48</td>\n",
              "      <td id=\"T_692ba_row8_col5\" class=\"data row8 col5\" >-0.67</td>\n",
              "      <td id=\"T_692ba_row8_col6\" class=\"data row8 col6\" >-1.62</td>\n",
              "    </tr>\n",
              "    <tr>\n",
              "      <td id=\"T_692ba_row9_col0\" class=\"data row9 col0\" >0.38</td>\n",
              "      <td id=\"T_692ba_row9_col1\" class=\"data row9 col1\" >0.37</td>\n",
              "      <td id=\"T_692ba_row9_col2\" class=\"data row9 col2\" >0.37</td>\n",
              "      <td id=\"T_692ba_row9_col3\" class=\"data row9 col3\" >0.60</td>\n",
              "      <td id=\"T_692ba_row9_col4\" class=\"data row9 col4\" >0.61</td>\n",
              "      <td id=\"T_692ba_row9_col5\" class=\"data row9 col5\" >1.04</td>\n",
              "      <td id=\"T_692ba_row9_col6\" class=\"data row9 col6\" >0.37</td>\n",
              "    </tr>\n",
              "  </tbody>\n",
              "</table>\n"
            ]
          },
          "metadata": {},
          "execution_count": 34
        }
      ],
      "source": [
        "pandasx.return_formatted_table \\\n",
        "    (x_train_scaled_cluster_centroids_dataframe,\n",
        "     'Table 2.7.3: Scaled Features Training Cluster Centroids Data')"
      ]
    },
    {
      "cell_type": "code",
      "execution_count": 35,
      "id": "-Yghuvq5uo-H",
      "metadata": {
        "colab": {
          "base_uri": "https://localhost:8080/",
          "height": 398
        },
        "id": "-Yghuvq5uo-H",
        "outputId": "13ddaa50-198f-4c9b-9f3f-1d2a5f8aeb8f"
      },
      "outputs": [
        {
          "output_type": "execute_result",
          "data": {
            "text/plain": [
              "<pandas.io.formats.style.Styler at 0x7bc711c56e30>"
            ],
            "text/html": [
              "<style type=\"text/css\">\n",
              "#T_33867 caption {\n",
              "  color: black;\n",
              "  font-size: 20px;\n",
              "  font-style: bold;\n",
              "  text-align: center;\n",
              "}\n",
              "#T_33867_row0_col0, #T_33867_row0_col1, #T_33867_row0_col2, #T_33867_row0_col3, #T_33867_row0_col4, #T_33867_row0_col5, #T_33867_row0_col6, #T_33867_row1_col0, #T_33867_row1_col1, #T_33867_row1_col2, #T_33867_row1_col3, #T_33867_row1_col4, #T_33867_row1_col5, #T_33867_row1_col6, #T_33867_row2_col0, #T_33867_row2_col1, #T_33867_row2_col2, #T_33867_row2_col3, #T_33867_row2_col4, #T_33867_row2_col5, #T_33867_row2_col6, #T_33867_row3_col0, #T_33867_row3_col1, #T_33867_row3_col2, #T_33867_row3_col3, #T_33867_row3_col4, #T_33867_row3_col5, #T_33867_row3_col6, #T_33867_row4_col0, #T_33867_row4_col1, #T_33867_row4_col2, #T_33867_row4_col3, #T_33867_row4_col4, #T_33867_row4_col5, #T_33867_row4_col6, #T_33867_row5_col0, #T_33867_row5_col1, #T_33867_row5_col2, #T_33867_row5_col3, #T_33867_row5_col4, #T_33867_row5_col5, #T_33867_row5_col6, #T_33867_row6_col0, #T_33867_row6_col1, #T_33867_row6_col2, #T_33867_row6_col3, #T_33867_row6_col4, #T_33867_row6_col5, #T_33867_row6_col6, #T_33867_row7_col0, #T_33867_row7_col1, #T_33867_row7_col2, #T_33867_row7_col3, #T_33867_row7_col4, #T_33867_row7_col5, #T_33867_row7_col6, #T_33867_row8_col0, #T_33867_row8_col1, #T_33867_row8_col2, #T_33867_row8_col3, #T_33867_row8_col4, #T_33867_row8_col5, #T_33867_row8_col6, #T_33867_row9_col0, #T_33867_row9_col1, #T_33867_row9_col2, #T_33867_row9_col3, #T_33867_row9_col4, #T_33867_row9_col5, #T_33867_row9_col6 {\n",
              "  text-align: center;\n",
              "  border: 1.3px solid red;\n",
              "  color: blue;\n",
              "}\n",
              "</style>\n",
              "<table id=\"T_33867\" class=\"dataframe\">\n",
              "  <caption>Table 2.7.4: Scaled Features Training SMOTE Data</caption>\n",
              "  <thead>\n",
              "    <tr>\n",
              "      <th id=\"T_33867_level0_col0\" class=\"col_heading level0 col0\" >loan_size</th>\n",
              "      <th id=\"T_33867_level0_col1\" class=\"col_heading level0 col1\" >interest_rate</th>\n",
              "      <th id=\"T_33867_level0_col2\" class=\"col_heading level0 col2\" >borrower_income</th>\n",
              "      <th id=\"T_33867_level0_col3\" class=\"col_heading level0 col3\" >debt_to_income</th>\n",
              "      <th id=\"T_33867_level0_col4\" class=\"col_heading level0 col4\" >num_of_accounts</th>\n",
              "      <th id=\"T_33867_level0_col5\" class=\"col_heading level0 col5\" >derogatory_marks</th>\n",
              "      <th id=\"T_33867_level0_col6\" class=\"col_heading level0 col6\" >total_debt</th>\n",
              "    </tr>\n",
              "  </thead>\n",
              "  <tbody>\n",
              "    <tr>\n",
              "      <td id=\"T_33867_row0_col0\" class=\"data row0 col0\" >-0.34</td>\n",
              "      <td id=\"T_33867_row0_col1\" class=\"data row0 col1\" >-0.33</td>\n",
              "      <td id=\"T_33867_row0_col2\" class=\"data row0 col2\" >-0.34</td>\n",
              "      <td id=\"T_33867_row0_col3\" class=\"data row0 col3\" >-0.29</td>\n",
              "      <td id=\"T_33867_row0_col4\" class=\"data row0 col4\" >-0.43</td>\n",
              "      <td id=\"T_33867_row0_col5\" class=\"data row0 col5\" >-0.67</td>\n",
              "      <td id=\"T_33867_row0_col6\" class=\"data row0 col6\" >-0.34</td>\n",
              "    </tr>\n",
              "    <tr>\n",
              "      <td id=\"T_33867_row1_col0\" class=\"data row1 col0\" >-0.57</td>\n",
              "      <td id=\"T_33867_row1_col1\" class=\"data row1 col1\" >-0.60</td>\n",
              "      <td id=\"T_33867_row1_col2\" class=\"data row1 col2\" >-0.60</td>\n",
              "      <td id=\"T_33867_row1_col3\" class=\"data row1 col3\" >-0.68</td>\n",
              "      <td id=\"T_33867_row1_col4\" class=\"data row1 col4\" >-0.43</td>\n",
              "      <td id=\"T_33867_row1_col5\" class=\"data row1 col5\" >-0.67</td>\n",
              "      <td id=\"T_33867_row1_col6\" class=\"data row1 col6\" >-0.60</td>\n",
              "    </tr>\n",
              "    <tr>\n",
              "      <td id=\"T_33867_row2_col0\" class=\"data row2 col0\" >0.38</td>\n",
              "      <td id=\"T_33867_row2_col1\" class=\"data row2 col1\" >0.39</td>\n",
              "      <td id=\"T_33867_row2_col2\" class=\"data row2 col2\" >0.39</td>\n",
              "      <td id=\"T_33867_row2_col3\" class=\"data row2 col3\" >0.63</td>\n",
              "      <td id=\"T_33867_row2_col4\" class=\"data row2 col4\" >0.61</td>\n",
              "      <td id=\"T_33867_row2_col5\" class=\"data row2 col5\" >1.04</td>\n",
              "      <td id=\"T_33867_row2_col6\" class=\"data row2 col6\" >0.39</td>\n",
              "    </tr>\n",
              "    <tr>\n",
              "      <td id=\"T_33867_row3_col0\" class=\"data row3 col0\" >-0.57</td>\n",
              "      <td id=\"T_33867_row3_col1\" class=\"data row3 col1\" >-0.57</td>\n",
              "      <td id=\"T_33867_row3_col2\" class=\"data row3 col2\" >-0.56</td>\n",
              "      <td id=\"T_33867_row3_col3\" class=\"data row3 col3\" >-0.63</td>\n",
              "      <td id=\"T_33867_row3_col4\" class=\"data row3 col4\" >-0.43</td>\n",
              "      <td id=\"T_33867_row3_col5\" class=\"data row3 col5\" >-0.67</td>\n",
              "      <td id=\"T_33867_row3_col6\" class=\"data row3 col6\" >-0.56</td>\n",
              "    </tr>\n",
              "    <tr>\n",
              "      <td id=\"T_33867_row4_col0\" class=\"data row4 col0\" >-1.00</td>\n",
              "      <td id=\"T_33867_row4_col1\" class=\"data row4 col1\" >-0.98</td>\n",
              "      <td id=\"T_33867_row4_col2\" class=\"data row4 col2\" >-0.98</td>\n",
              "      <td id=\"T_33867_row4_col3\" class=\"data row4 col3\" >-1.33</td>\n",
              "      <td id=\"T_33867_row4_col4\" class=\"data row4 col4\" >-0.96</td>\n",
              "      <td id=\"T_33867_row4_col5\" class=\"data row4 col5\" >-0.67</td>\n",
              "      <td id=\"T_33867_row4_col6\" class=\"data row4 col6\" >-0.98</td>\n",
              "    </tr>\n",
              "    <tr>\n",
              "      <td id=\"T_33867_row5_col0\" class=\"data row5 col0\" >-0.10</td>\n",
              "      <td id=\"T_33867_row5_col1\" class=\"data row5 col1\" >-0.11</td>\n",
              "      <td id=\"T_33867_row5_col2\" class=\"data row5 col2\" >-0.11</td>\n",
              "      <td id=\"T_33867_row5_col3\" class=\"data row5 col3\" >0.02</td>\n",
              "      <td id=\"T_33867_row5_col4\" class=\"data row5 col4\" >0.09</td>\n",
              "      <td id=\"T_33867_row5_col5\" class=\"data row5 col5\" >-0.67</td>\n",
              "      <td id=\"T_33867_row5_col6\" class=\"data row5 col6\" >-0.11</td>\n",
              "    </tr>\n",
              "    <tr>\n",
              "      <td id=\"T_33867_row6_col0\" class=\"data row6 col0\" >-0.77</td>\n",
              "      <td id=\"T_33867_row6_col1\" class=\"data row6 col1\" >-0.78</td>\n",
              "      <td id=\"T_33867_row6_col2\" class=\"data row6 col2\" >-0.78</td>\n",
              "      <td id=\"T_33867_row6_col3\" class=\"data row6 col3\" >-0.98</td>\n",
              "      <td id=\"T_33867_row6_col4\" class=\"data row6 col4\" >-0.96</td>\n",
              "      <td id=\"T_33867_row6_col5\" class=\"data row6 col5\" >-0.67</td>\n",
              "      <td id=\"T_33867_row6_col6\" class=\"data row6 col6\" >-0.78</td>\n",
              "    </tr>\n",
              "    <tr>\n",
              "      <td id=\"T_33867_row7_col0\" class=\"data row7 col0\" >-1.05</td>\n",
              "      <td id=\"T_33867_row7_col1\" class=\"data row7 col1\" >-1.06</td>\n",
              "      <td id=\"T_33867_row7_col2\" class=\"data row7 col2\" >-1.06</td>\n",
              "      <td id=\"T_33867_row7_col3\" class=\"data row7 col3\" >-1.49</td>\n",
              "      <td id=\"T_33867_row7_col4\" class=\"data row7 col4\" >-0.96</td>\n",
              "      <td id=\"T_33867_row7_col5\" class=\"data row7 col5\" >-0.67</td>\n",
              "      <td id=\"T_33867_row7_col6\" class=\"data row7 col6\" >-1.06</td>\n",
              "    </tr>\n",
              "    <tr>\n",
              "      <td id=\"T_33867_row8_col0\" class=\"data row8 col0\" >-0.96</td>\n",
              "      <td id=\"T_33867_row8_col1\" class=\"data row8 col1\" >-0.97</td>\n",
              "      <td id=\"T_33867_row8_col2\" class=\"data row8 col2\" >-0.97</td>\n",
              "      <td id=\"T_33867_row8_col3\" class=\"data row8 col3\" >-1.31</td>\n",
              "      <td id=\"T_33867_row8_col4\" class=\"data row8 col4\" >-0.96</td>\n",
              "      <td id=\"T_33867_row8_col5\" class=\"data row8 col5\" >-0.67</td>\n",
              "      <td id=\"T_33867_row8_col6\" class=\"data row8 col6\" >-0.97</td>\n",
              "    </tr>\n",
              "    <tr>\n",
              "      <td id=\"T_33867_row9_col0\" class=\"data row9 col0\" >0.19</td>\n",
              "      <td id=\"T_33867_row9_col1\" class=\"data row9 col1\" >0.17</td>\n",
              "      <td id=\"T_33867_row9_col2\" class=\"data row9 col2\" >0.18</td>\n",
              "      <td id=\"T_33867_row9_col3\" class=\"data row9 col3\" >0.38</td>\n",
              "      <td id=\"T_33867_row9_col4\" class=\"data row9 col4\" >0.09</td>\n",
              "      <td id=\"T_33867_row9_col5\" class=\"data row9 col5\" >1.04</td>\n",
              "      <td id=\"T_33867_row9_col6\" class=\"data row9 col6\" >0.18</td>\n",
              "    </tr>\n",
              "  </tbody>\n",
              "</table>\n"
            ]
          },
          "metadata": {},
          "execution_count": 35
        }
      ],
      "source": [
        "pandasx.return_formatted_table \\\n",
        "    (x_train_scaled_SMOTE_dataframe,\n",
        "     'Table 2.7.4: Scaled Features Training SMOTE Data')"
      ]
    },
    {
      "cell_type": "code",
      "execution_count": 36,
      "id": "d9qppRiruo-H",
      "metadata": {
        "colab": {
          "base_uri": "https://localhost:8080/",
          "height": 398
        },
        "id": "d9qppRiruo-H",
        "outputId": "283c48a1-04ea-4f0d-869a-ee2259bdccb8"
      },
      "outputs": [
        {
          "output_type": "execute_result",
          "data": {
            "text/plain": [
              "<pandas.io.formats.style.Styler at 0x7bc7116dc5e0>"
            ],
            "text/html": [
              "<style type=\"text/css\">\n",
              "#T_daf42 caption {\n",
              "  color: black;\n",
              "  font-size: 20px;\n",
              "  font-style: bold;\n",
              "  text-align: center;\n",
              "}\n",
              "#T_daf42_row0_col0, #T_daf42_row0_col1, #T_daf42_row0_col2, #T_daf42_row0_col3, #T_daf42_row0_col4, #T_daf42_row0_col5, #T_daf42_row0_col6, #T_daf42_row1_col0, #T_daf42_row1_col1, #T_daf42_row1_col2, #T_daf42_row1_col3, #T_daf42_row1_col4, #T_daf42_row1_col5, #T_daf42_row1_col6, #T_daf42_row2_col0, #T_daf42_row2_col1, #T_daf42_row2_col2, #T_daf42_row2_col3, #T_daf42_row2_col4, #T_daf42_row2_col5, #T_daf42_row2_col6, #T_daf42_row3_col0, #T_daf42_row3_col1, #T_daf42_row3_col2, #T_daf42_row3_col3, #T_daf42_row3_col4, #T_daf42_row3_col5, #T_daf42_row3_col6, #T_daf42_row4_col0, #T_daf42_row4_col1, #T_daf42_row4_col2, #T_daf42_row4_col3, #T_daf42_row4_col4, #T_daf42_row4_col5, #T_daf42_row4_col6, #T_daf42_row5_col0, #T_daf42_row5_col1, #T_daf42_row5_col2, #T_daf42_row5_col3, #T_daf42_row5_col4, #T_daf42_row5_col5, #T_daf42_row5_col6, #T_daf42_row6_col0, #T_daf42_row6_col1, #T_daf42_row6_col2, #T_daf42_row6_col3, #T_daf42_row6_col4, #T_daf42_row6_col5, #T_daf42_row6_col6, #T_daf42_row7_col0, #T_daf42_row7_col1, #T_daf42_row7_col2, #T_daf42_row7_col3, #T_daf42_row7_col4, #T_daf42_row7_col5, #T_daf42_row7_col6, #T_daf42_row8_col0, #T_daf42_row8_col1, #T_daf42_row8_col2, #T_daf42_row8_col3, #T_daf42_row8_col4, #T_daf42_row8_col5, #T_daf42_row8_col6, #T_daf42_row9_col0, #T_daf42_row9_col1, #T_daf42_row9_col2, #T_daf42_row9_col3, #T_daf42_row9_col4, #T_daf42_row9_col5, #T_daf42_row9_col6 {\n",
              "  text-align: center;\n",
              "  border: 1.3px solid red;\n",
              "  color: blue;\n",
              "}\n",
              "</style>\n",
              "<table id=\"T_daf42\" class=\"dataframe\">\n",
              "  <caption>Table 2.7.5: Scaled Features Training SMOTEENN Data</caption>\n",
              "  <thead>\n",
              "    <tr>\n",
              "      <th id=\"T_daf42_level0_col0\" class=\"col_heading level0 col0\" >loan_size</th>\n",
              "      <th id=\"T_daf42_level0_col1\" class=\"col_heading level0 col1\" >interest_rate</th>\n",
              "      <th id=\"T_daf42_level0_col2\" class=\"col_heading level0 col2\" >borrower_income</th>\n",
              "      <th id=\"T_daf42_level0_col3\" class=\"col_heading level0 col3\" >debt_to_income</th>\n",
              "      <th id=\"T_daf42_level0_col4\" class=\"col_heading level0 col4\" >num_of_accounts</th>\n",
              "      <th id=\"T_daf42_level0_col5\" class=\"col_heading level0 col5\" >derogatory_marks</th>\n",
              "      <th id=\"T_daf42_level0_col6\" class=\"col_heading level0 col6\" >total_debt</th>\n",
              "    </tr>\n",
              "  </thead>\n",
              "  <tbody>\n",
              "    <tr>\n",
              "      <td id=\"T_daf42_row0_col0\" class=\"data row0 col0\" >-0.34</td>\n",
              "      <td id=\"T_daf42_row0_col1\" class=\"data row0 col1\" >-0.33</td>\n",
              "      <td id=\"T_daf42_row0_col2\" class=\"data row0 col2\" >-0.34</td>\n",
              "      <td id=\"T_daf42_row0_col3\" class=\"data row0 col3\" >-0.29</td>\n",
              "      <td id=\"T_daf42_row0_col4\" class=\"data row0 col4\" >-0.43</td>\n",
              "      <td id=\"T_daf42_row0_col5\" class=\"data row0 col5\" >-0.67</td>\n",
              "      <td id=\"T_daf42_row0_col6\" class=\"data row0 col6\" >-0.34</td>\n",
              "    </tr>\n",
              "    <tr>\n",
              "      <td id=\"T_daf42_row1_col0\" class=\"data row1 col0\" >-0.57</td>\n",
              "      <td id=\"T_daf42_row1_col1\" class=\"data row1 col1\" >-0.60</td>\n",
              "      <td id=\"T_daf42_row1_col2\" class=\"data row1 col2\" >-0.60</td>\n",
              "      <td id=\"T_daf42_row1_col3\" class=\"data row1 col3\" >-0.68</td>\n",
              "      <td id=\"T_daf42_row1_col4\" class=\"data row1 col4\" >-0.43</td>\n",
              "      <td id=\"T_daf42_row1_col5\" class=\"data row1 col5\" >-0.67</td>\n",
              "      <td id=\"T_daf42_row1_col6\" class=\"data row1 col6\" >-0.60</td>\n",
              "    </tr>\n",
              "    <tr>\n",
              "      <td id=\"T_daf42_row2_col0\" class=\"data row2 col0\" >0.38</td>\n",
              "      <td id=\"T_daf42_row2_col1\" class=\"data row2 col1\" >0.39</td>\n",
              "      <td id=\"T_daf42_row2_col2\" class=\"data row2 col2\" >0.39</td>\n",
              "      <td id=\"T_daf42_row2_col3\" class=\"data row2 col3\" >0.63</td>\n",
              "      <td id=\"T_daf42_row2_col4\" class=\"data row2 col4\" >0.61</td>\n",
              "      <td id=\"T_daf42_row2_col5\" class=\"data row2 col5\" >1.04</td>\n",
              "      <td id=\"T_daf42_row2_col6\" class=\"data row2 col6\" >0.39</td>\n",
              "    </tr>\n",
              "    <tr>\n",
              "      <td id=\"T_daf42_row3_col0\" class=\"data row3 col0\" >-0.57</td>\n",
              "      <td id=\"T_daf42_row3_col1\" class=\"data row3 col1\" >-0.57</td>\n",
              "      <td id=\"T_daf42_row3_col2\" class=\"data row3 col2\" >-0.56</td>\n",
              "      <td id=\"T_daf42_row3_col3\" class=\"data row3 col3\" >-0.63</td>\n",
              "      <td id=\"T_daf42_row3_col4\" class=\"data row3 col4\" >-0.43</td>\n",
              "      <td id=\"T_daf42_row3_col5\" class=\"data row3 col5\" >-0.67</td>\n",
              "      <td id=\"T_daf42_row3_col6\" class=\"data row3 col6\" >-0.56</td>\n",
              "    </tr>\n",
              "    <tr>\n",
              "      <td id=\"T_daf42_row4_col0\" class=\"data row4 col0\" >-1.00</td>\n",
              "      <td id=\"T_daf42_row4_col1\" class=\"data row4 col1\" >-0.98</td>\n",
              "      <td id=\"T_daf42_row4_col2\" class=\"data row4 col2\" >-0.98</td>\n",
              "      <td id=\"T_daf42_row4_col3\" class=\"data row4 col3\" >-1.33</td>\n",
              "      <td id=\"T_daf42_row4_col4\" class=\"data row4 col4\" >-0.96</td>\n",
              "      <td id=\"T_daf42_row4_col5\" class=\"data row4 col5\" >-0.67</td>\n",
              "      <td id=\"T_daf42_row4_col6\" class=\"data row4 col6\" >-0.98</td>\n",
              "    </tr>\n",
              "    <tr>\n",
              "      <td id=\"T_daf42_row5_col0\" class=\"data row5 col0\" >-0.10</td>\n",
              "      <td id=\"T_daf42_row5_col1\" class=\"data row5 col1\" >-0.11</td>\n",
              "      <td id=\"T_daf42_row5_col2\" class=\"data row5 col2\" >-0.11</td>\n",
              "      <td id=\"T_daf42_row5_col3\" class=\"data row5 col3\" >0.02</td>\n",
              "      <td id=\"T_daf42_row5_col4\" class=\"data row5 col4\" >0.09</td>\n",
              "      <td id=\"T_daf42_row5_col5\" class=\"data row5 col5\" >-0.67</td>\n",
              "      <td id=\"T_daf42_row5_col6\" class=\"data row5 col6\" >-0.11</td>\n",
              "    </tr>\n",
              "    <tr>\n",
              "      <td id=\"T_daf42_row6_col0\" class=\"data row6 col0\" >-0.77</td>\n",
              "      <td id=\"T_daf42_row6_col1\" class=\"data row6 col1\" >-0.78</td>\n",
              "      <td id=\"T_daf42_row6_col2\" class=\"data row6 col2\" >-0.78</td>\n",
              "      <td id=\"T_daf42_row6_col3\" class=\"data row6 col3\" >-0.98</td>\n",
              "      <td id=\"T_daf42_row6_col4\" class=\"data row6 col4\" >-0.96</td>\n",
              "      <td id=\"T_daf42_row6_col5\" class=\"data row6 col5\" >-0.67</td>\n",
              "      <td id=\"T_daf42_row6_col6\" class=\"data row6 col6\" >-0.78</td>\n",
              "    </tr>\n",
              "    <tr>\n",
              "      <td id=\"T_daf42_row7_col0\" class=\"data row7 col0\" >-1.05</td>\n",
              "      <td id=\"T_daf42_row7_col1\" class=\"data row7 col1\" >-1.06</td>\n",
              "      <td id=\"T_daf42_row7_col2\" class=\"data row7 col2\" >-1.06</td>\n",
              "      <td id=\"T_daf42_row7_col3\" class=\"data row7 col3\" >-1.49</td>\n",
              "      <td id=\"T_daf42_row7_col4\" class=\"data row7 col4\" >-0.96</td>\n",
              "      <td id=\"T_daf42_row7_col5\" class=\"data row7 col5\" >-0.67</td>\n",
              "      <td id=\"T_daf42_row7_col6\" class=\"data row7 col6\" >-1.06</td>\n",
              "    </tr>\n",
              "    <tr>\n",
              "      <td id=\"T_daf42_row8_col0\" class=\"data row8 col0\" >-0.96</td>\n",
              "      <td id=\"T_daf42_row8_col1\" class=\"data row8 col1\" >-0.97</td>\n",
              "      <td id=\"T_daf42_row8_col2\" class=\"data row8 col2\" >-0.97</td>\n",
              "      <td id=\"T_daf42_row8_col3\" class=\"data row8 col3\" >-1.31</td>\n",
              "      <td id=\"T_daf42_row8_col4\" class=\"data row8 col4\" >-0.96</td>\n",
              "      <td id=\"T_daf42_row8_col5\" class=\"data row8 col5\" >-0.67</td>\n",
              "      <td id=\"T_daf42_row8_col6\" class=\"data row8 col6\" >-0.97</td>\n",
              "    </tr>\n",
              "    <tr>\n",
              "      <td id=\"T_daf42_row9_col0\" class=\"data row9 col0\" >0.19</td>\n",
              "      <td id=\"T_daf42_row9_col1\" class=\"data row9 col1\" >0.17</td>\n",
              "      <td id=\"T_daf42_row9_col2\" class=\"data row9 col2\" >0.18</td>\n",
              "      <td id=\"T_daf42_row9_col3\" class=\"data row9 col3\" >0.38</td>\n",
              "      <td id=\"T_daf42_row9_col4\" class=\"data row9 col4\" >0.09</td>\n",
              "      <td id=\"T_daf42_row9_col5\" class=\"data row9 col5\" >1.04</td>\n",
              "      <td id=\"T_daf42_row9_col6\" class=\"data row9 col6\" >0.18</td>\n",
              "    </tr>\n",
              "  </tbody>\n",
              "</table>\n"
            ]
          },
          "metadata": {},
          "execution_count": 36
        }
      ],
      "source": [
        "pandasx.return_formatted_table \\\n",
        "    (x_train_scaled_SMOTEENN_dataframe,\n",
        "     'Table 2.7.5: Scaled Features Training SMOTEENN Data')"
      ]
    },
    {
      "cell_type": "markdown",
      "id": "O88ykN6quo-H",
      "metadata": {
        "id": "O88ykN6quo-H"
      },
      "source": [
        "# <br> **Section 3: Logistic Regression Models**"
      ]
    },
    {
      "cell_type": "markdown",
      "id": "2ME51ETcuo-H",
      "metadata": {
        "id": "2ME51ETcuo-H"
      },
      "source": [
        "## **3.1: Fit Models by Using the Scaled Training Data**"
      ]
    },
    {
      "cell_type": "markdown",
      "id": "8I9_rKQXuo-H",
      "metadata": {
        "id": "8I9_rKQXuo-H"
      },
      "source": [
        "### **Original**"
      ]
    },
    {
      "cell_type": "code",
      "execution_count": 37,
      "id": "hohRlNNFuo-H",
      "metadata": {
        "id": "hohRlNNFuo-H"
      },
      "outputs": [],
      "source": [
        "lr_grid_search_model \\\n",
        "    = pickle.load(open(credit_risk_constants.CONSTANT_LR_GRID_SEARCH_MODEL_FILE_PATH, 'rb'))\n",
        "\n",
        "logistic_regression_model \\\n",
        "    = LogisticRegression \\\n",
        "        (class_weight = lr_grid_search_model.best_params_['class_weight'],\n",
        "         solver = lr_grid_search_model.best_params_['solver'],\n",
        "         max_iter = credit_risk_constants.CONSTANT_ML_LR_MAX_ITERATIONS,\n",
        "         random_state = credit_risk_constants.CONSTANT_ML_RANDOM_STATE_1) \\\n",
        "            .fit(x_train_scaled_dataframe, y_train_series)"
      ]
    },
    {
      "cell_type": "markdown",
      "id": "1vY3sL85uo-H",
      "metadata": {
        "id": "1vY3sL85uo-H"
      },
      "source": [
        "### **Random Undersampling**"
      ]
    },
    {
      "cell_type": "code",
      "execution_count": 38,
      "id": "ZtQi96CGuo-H",
      "metadata": {
        "id": "ZtQi96CGuo-H"
      },
      "outputs": [],
      "source": [
        "lr_undersampled_grid_search_model \\\n",
        "    = pickle.load \\\n",
        "        (open(credit_risk_constants.CONSTANT_LR_UNDERSAMPLED_GRID_SEARCH_MODEL_FILE_PATH, 'rb'))\n",
        "\n",
        "logistic_regression_undersampled_model \\\n",
        "    = LogisticRegression \\\n",
        "        (class_weight = lr_undersampled_grid_search_model.best_params_['class_weight'],\n",
        "         solver = lr_undersampled_grid_search_model.best_params_['solver'],\n",
        "         max_iter = credit_risk_constants.CONSTANT_ML_LR_MAX_ITERATIONS,\n",
        "         random_state = credit_risk_constants.CONSTANT_ML_RANDOM_STATE_1) \\\n",
        "            .fit(x_train_scaled_undersampled_dataframe, y_train_undersampled_series)"
      ]
    },
    {
      "cell_type": "markdown",
      "id": "_9I3bU9uuo-H",
      "metadata": {
        "id": "_9I3bU9uuo-H"
      },
      "source": [
        "### **Random Oversampling**"
      ]
    },
    {
      "cell_type": "code",
      "execution_count": 39,
      "id": "IC8nMaD-uo-I",
      "metadata": {
        "id": "IC8nMaD-uo-I"
      },
      "outputs": [],
      "source": [
        "lr_oversampled_grid_search_model \\\n",
        "    = pickle.load \\\n",
        "        (open(credit_risk_constants.CONSTANT_LR_OVERSAMPLED_GRID_SEARCH_MODEL_FILE_PATH, 'rb'))\n",
        "\n",
        "logistic_regression_oversampled_model \\\n",
        "    = LogisticRegression \\\n",
        "        (class_weight = lr_oversampled_grid_search_model.best_params_['class_weight'],\n",
        "         solver = lr_oversampled_grid_search_model.best_params_['solver'],\n",
        "         max_iter = credit_risk_constants.CONSTANT_ML_LR_MAX_ITERATIONS,\n",
        "         random_state = credit_risk_constants.CONSTANT_ML_RANDOM_STATE_1) \\\n",
        "            .fit(x_train_scaled_oversampled_dataframe, y_train_oversampled_series)"
      ]
    },
    {
      "cell_type": "markdown",
      "id": "CVxW6W3fuo-I",
      "metadata": {
        "id": "CVxW6W3fuo-I"
      },
      "source": [
        "### **Cluster Centroids**"
      ]
    },
    {
      "cell_type": "code",
      "execution_count": 40,
      "id": "fiYipGNFuo-I",
      "metadata": {
        "id": "fiYipGNFuo-I"
      },
      "outputs": [],
      "source": [
        "lr_cluster_centroids_grid_search_model \\\n",
        "    = pickle.load \\\n",
        "        (open(credit_risk_constants.CONSTANT_LR_CLUSTER_CENTROIDS_GRID_SEARCH_MODEL_FILE_PATH, 'rb'))\n",
        "\n",
        "logistic_regression_cluster_centroids_model \\\n",
        "    = LogisticRegression \\\n",
        "        (class_weight = lr_cluster_centroids_grid_search_model.best_params_['class_weight'],\n",
        "         solver = lr_cluster_centroids_grid_search_model.best_params_['solver'],\n",
        "         max_iter = credit_risk_constants.CONSTANT_ML_LR_MAX_ITERATIONS,\n",
        "         random_state = credit_risk_constants.CONSTANT_ML_RANDOM_STATE_1) \\\n",
        "            .fit(x_train_scaled_cluster_centroids_dataframe, y_train_cluster_centroids_series)"
      ]
    },
    {
      "cell_type": "markdown",
      "id": "R2Nve8QKuo-I",
      "metadata": {
        "id": "R2Nve8QKuo-I"
      },
      "source": [
        "### **SMOTE**"
      ]
    },
    {
      "cell_type": "code",
      "execution_count": 41,
      "id": "XH1r7Azxuo-I",
      "metadata": {
        "id": "XH1r7Azxuo-I"
      },
      "outputs": [],
      "source": [
        "lr_SMOTE_grid_search_model \\\n",
        "    = pickle.load \\\n",
        "        (open(credit_risk_constants.CONSTANT_LR_SMOTE_GRID_SEARCH_MODEL_FILE_PATH, 'rb'))\n",
        "\n",
        "logistic_regression_SMOTE_model \\\n",
        "    = LogisticRegression \\\n",
        "        (class_weight = lr_SMOTE_grid_search_model.best_params_['class_weight'],\n",
        "         solver = lr_SMOTE_grid_search_model.best_params_['solver'],\n",
        "         max_iter = credit_risk_constants.CONSTANT_ML_LR_MAX_ITERATIONS,\n",
        "         random_state = credit_risk_constants.CONSTANT_ML_RANDOM_STATE_1) \\\n",
        "            .fit(x_train_scaled_SMOTE_dataframe, y_train_SMOTE_series)"
      ]
    },
    {
      "cell_type": "markdown",
      "id": "__LDg1TKuo-I",
      "metadata": {
        "id": "__LDg1TKuo-I"
      },
      "source": [
        "### **SMOTEENN**"
      ]
    },
    {
      "cell_type": "code",
      "execution_count": 42,
      "id": "5QTvfUvluo-I",
      "metadata": {
        "id": "5QTvfUvluo-I"
      },
      "outputs": [],
      "source": [
        "lr_SMOTEENN_grid_search_model \\\n",
        "    = pickle.load \\\n",
        "        (open(credit_risk_constants.CONSTANT_LR_SMOTEENN_GRID_SEARCH_MODEL_FILE_PATH, 'rb'))\n",
        "\n",
        "logistic_regression_SMOTEENN_model \\\n",
        "    = LogisticRegression \\\n",
        "        (class_weight = lr_SMOTEENN_grid_search_model.best_params_['class_weight'],\n",
        "         solver = lr_SMOTEENN_grid_search_model.best_params_['solver'],\n",
        "         max_iter = credit_risk_constants.CONSTANT_ML_LR_MAX_ITERATIONS,\n",
        "         random_state = credit_risk_constants.CONSTANT_ML_RANDOM_STATE_1) \\\n",
        "            .fit(x_train_scaled_SMOTEENN_dataframe, y_train_SMOTEENN_series)"
      ]
    },
    {
      "cell_type": "markdown",
      "id": "2NVFXaMCuo-I",
      "metadata": {
        "id": "2NVFXaMCuo-I"
      },
      "source": [
        "## **3.2: Display the Model Scores Using the Scaled Training and Testing Data**"
      ]
    },
    {
      "cell_type": "markdown",
      "id": "WHV8bxVwuo-I",
      "metadata": {
        "id": "WHV8bxVwuo-I"
      },
      "source": [
        "### **Original**"
      ]
    },
    {
      "cell_type": "code",
      "execution_count": 43,
      "id": "hrXfqop3uo-J",
      "metadata": {
        "colab": {
          "base_uri": "https://localhost:8080/"
        },
        "id": "hrXfqop3uo-J",
        "outputId": "f1c1bec2-10ae-4873-9270-0e051a0c8ae4"
      },
      "outputs": [
        {
          "output_type": "stream",
          "name": "stdout",
          "text": [
            "\u001b[1mThe logistic regression model score from scaled training data is 99.44%\u001b[0m\n"
          ]
        }
      ],
      "source": [
        "accuracy_score_train_float \\\n",
        "    = logistic_regression_model.score \\\n",
        "        (x_train_scaled_dataframe, y_train_series) * 100\n",
        "\n",
        "logx.print_and_log_text \\\n",
        "    ('\\033[1m'\n",
        "     + 'The logistic regression model score from scaled training data is {:.2f}%' \\\n",
        "         .format(accuracy_score_train_float)\n",
        "     + '\\033[0m')"
      ]
    },
    {
      "cell_type": "code",
      "execution_count": 44,
      "id": "-45WBhe4uo-J",
      "metadata": {
        "colab": {
          "base_uri": "https://localhost:8080/"
        },
        "id": "-45WBhe4uo-J",
        "outputId": "94ddb40e-115e-44f1-bf15-eaf65358d01f"
      },
      "outputs": [
        {
          "output_type": "stream",
          "name": "stdout",
          "text": [
            "\u001b[1mThe logistic regression model score from scaled test data is 99.33%\u001b[0m\n"
          ]
        }
      ],
      "source": [
        "accuracy_score_test_float \\\n",
        "    = logistic_regression_model.score \\\n",
        "        (x_test_scaled_dataframe, y_test_series) * 100\n",
        "\n",
        "logx.print_and_log_text \\\n",
        "    ('\\033[1m'\n",
        "     + 'The logistic regression model score from scaled test data is {:.2f}%' \\\n",
        "         .format(accuracy_score_test_float)\n",
        "     + '\\033[0m')"
      ]
    },
    {
      "cell_type": "markdown",
      "id": "LSzQhbdKuo-J",
      "metadata": {
        "id": "LSzQhbdKuo-J"
      },
      "source": [
        "### **Random Undersampling**"
      ]
    },
    {
      "cell_type": "code",
      "execution_count": 45,
      "id": "taABA9iauo-J",
      "metadata": {
        "colab": {
          "base_uri": "https://localhost:8080/"
        },
        "id": "taABA9iauo-J",
        "outputId": "61ff3637-554c-41c1-a71f-bce2fe601a7f"
      },
      "outputs": [
        {
          "output_type": "stream",
          "name": "stdout",
          "text": [
            "\u001b[1mThe logistic regression model score from undersampled scaled training data is 99.44%\u001b[0m\n"
          ]
        }
      ],
      "source": [
        "accuracy_score_train_float \\\n",
        "    = logistic_regression_undersampled_model.score \\\n",
        "        (x_train_scaled_dataframe, y_train_series) * 100\n",
        "\n",
        "logx.print_and_log_text \\\n",
        "    ('\\033[1m'\n",
        "     + 'The logistic regression model score from undersampled scaled training data is {:.2f}%' \\\n",
        "         .format(accuracy_score_train_float)\n",
        "     + '\\033[0m')"
      ]
    },
    {
      "cell_type": "code",
      "execution_count": 46,
      "id": "RuTrOCP1uo-J",
      "metadata": {
        "colab": {
          "base_uri": "https://localhost:8080/"
        },
        "id": "RuTrOCP1uo-J",
        "outputId": "e4b9a411-46f1-48a5-aa00-67b43f4b4f98"
      },
      "outputs": [
        {
          "output_type": "stream",
          "name": "stdout",
          "text": [
            "\u001b[1mThe logistic regression model score from undersampled scaled test data is 99.34%\u001b[0m\n"
          ]
        }
      ],
      "source": [
        "accuracy_score_test_float \\\n",
        "    = logistic_regression_undersampled_model.score \\\n",
        "        (x_test_scaled_dataframe, y_test_series) * 100\n",
        "\n",
        "logx.print_and_log_text \\\n",
        "    ('\\033[1m'\n",
        "     + 'The logistic regression model score from undersampled scaled test data is {:.2f}%' \\\n",
        "         .format(accuracy_score_test_float)\n",
        "     + '\\033[0m')"
      ]
    },
    {
      "cell_type": "markdown",
      "id": "akSBUa6tuo-J",
      "metadata": {
        "id": "akSBUa6tuo-J"
      },
      "source": [
        "### **Random Oversampling**"
      ]
    },
    {
      "cell_type": "code",
      "execution_count": 47,
      "id": "OIXOIr1Kuo-J",
      "metadata": {
        "colab": {
          "base_uri": "https://localhost:8080/"
        },
        "id": "OIXOIr1Kuo-J",
        "outputId": "edcda067-3659-45ce-efb7-35193d826468"
      },
      "outputs": [
        {
          "output_type": "stream",
          "name": "stdout",
          "text": [
            "\u001b[1mThe logistic regression model score from overersampled scaled training data is 99.43%\u001b[0m\n"
          ]
        }
      ],
      "source": [
        "accuracy_score_train_float \\\n",
        "    = logistic_regression_oversampled_model.score \\\n",
        "        (x_train_scaled_dataframe, y_train_series) * 100\n",
        "\n",
        "logx.print_and_log_text \\\n",
        "    ('\\033[1m'\n",
        "     + 'The logistic regression model score from overersampled scaled training data is {:.2f}%' \\\n",
        "         .format(accuracy_score_train_float)\n",
        "     + '\\033[0m')"
      ]
    },
    {
      "cell_type": "code",
      "execution_count": 48,
      "id": "k4qGaLv6uo-J",
      "metadata": {
        "colab": {
          "base_uri": "https://localhost:8080/"
        },
        "id": "k4qGaLv6uo-J",
        "outputId": "514ddf02-8464-499b-b88f-36145c5e9271"
      },
      "outputs": [
        {
          "output_type": "stream",
          "name": "stdout",
          "text": [
            "\u001b[1mThe logistic regression model score from oversampled scaled test data is 99.34%\u001b[0m\n"
          ]
        }
      ],
      "source": [
        "accuracy_score_test_float \\\n",
        "    = logistic_regression_oversampled_model.score \\\n",
        "        (x_test_scaled_dataframe, y_test_series) * 100\n",
        "\n",
        "logx.print_and_log_text \\\n",
        "    ('\\033[1m'\n",
        "     + 'The logistic regression model score from oversampled scaled test data is {:.2f}%' \\\n",
        "         .format(accuracy_score_test_float)\n",
        "     + '\\033[0m')"
      ]
    },
    {
      "cell_type": "markdown",
      "id": "BQ_JxXMpuo-J",
      "metadata": {
        "id": "BQ_JxXMpuo-J"
      },
      "source": [
        "### **Cluster Centroids**"
      ]
    },
    {
      "cell_type": "code",
      "execution_count": 49,
      "id": "EKdxA3KMuo-J",
      "metadata": {
        "colab": {
          "base_uri": "https://localhost:8080/"
        },
        "id": "EKdxA3KMuo-J",
        "outputId": "783f4e41-0a6f-497c-abd0-e4d98ee673a9"
      },
      "outputs": [
        {
          "output_type": "stream",
          "name": "stdout",
          "text": [
            "\u001b[1mThe logistic regression model score from cluster centroids scaled training data is 99.46%\u001b[0m\n"
          ]
        }
      ],
      "source": [
        "accuracy_score_train_float \\\n",
        "    = logistic_regression_cluster_centroids_model.score \\\n",
        "        (x_train_scaled_dataframe, y_train_series) * 100\n",
        "\n",
        "logx.print_and_log_text \\\n",
        "    ('\\033[1m'\n",
        "     + 'The logistic regression model score from cluster centroids scaled training data is {:.2f}%' \\\n",
        "         .format(accuracy_score_train_float)\n",
        "     + '\\033[0m')"
      ]
    },
    {
      "cell_type": "code",
      "execution_count": 50,
      "id": "6jT4wtkJuo-K",
      "metadata": {
        "colab": {
          "base_uri": "https://localhost:8080/"
        },
        "id": "6jT4wtkJuo-K",
        "outputId": "8b39d02f-589d-4152-eb0d-075822a9fbb6"
      },
      "outputs": [
        {
          "output_type": "stream",
          "name": "stdout",
          "text": [
            "\u001b[1mThe logistic regression model score from cluster centroids scaled test data is 99.37%\u001b[0m\n"
          ]
        }
      ],
      "source": [
        "accuracy_score_test_float \\\n",
        "    = logistic_regression_cluster_centroids_model.score \\\n",
        "        (x_test_scaled_dataframe, y_test_series) * 100\n",
        "\n",
        "logx.print_and_log_text \\\n",
        "    ('\\033[1m'\n",
        "     + 'The logistic regression model score from cluster centroids scaled test data is {:.2f}%' \\\n",
        "         .format(accuracy_score_test_float)\n",
        "     + '\\033[0m')"
      ]
    },
    {
      "cell_type": "markdown",
      "id": "40B-z4Ipuo-K",
      "metadata": {
        "id": "40B-z4Ipuo-K"
      },
      "source": [
        "### **SMOTE**"
      ]
    },
    {
      "cell_type": "code",
      "execution_count": 51,
      "id": "NfS6meVDuo-K",
      "metadata": {
        "colab": {
          "base_uri": "https://localhost:8080/"
        },
        "id": "NfS6meVDuo-K",
        "outputId": "a313597c-bf7e-47d8-97bb-32f2637a033c"
      },
      "outputs": [
        {
          "output_type": "stream",
          "name": "stdout",
          "text": [
            "\u001b[1mThe logistic regression model score from SMOTE scaled training data is 99.43%\u001b[0m\n"
          ]
        }
      ],
      "source": [
        "accuracy_score_train_float \\\n",
        "    = logistic_regression_SMOTE_model.score \\\n",
        "        (x_train_scaled_dataframe, y_train_series) * 100\n",
        "\n",
        "logx.print_and_log_text \\\n",
        "    ('\\033[1m'\n",
        "     + 'The logistic regression model score from SMOTE scaled training data is {:.2f}%' \\\n",
        "         .format(accuracy_score_train_float)\n",
        "     + '\\033[0m')"
      ]
    },
    {
      "cell_type": "code",
      "execution_count": 52,
      "id": "PBQsJm9fuo-K",
      "metadata": {
        "colab": {
          "base_uri": "https://localhost:8080/"
        },
        "id": "PBQsJm9fuo-K",
        "outputId": "7ae56c9f-02a3-46ed-f49b-e6c2755f6f44"
      },
      "outputs": [
        {
          "output_type": "stream",
          "name": "stdout",
          "text": [
            "\u001b[1mThe logistic regression model score from SMOTE scaled test data is 99.34%\u001b[0m\n"
          ]
        }
      ],
      "source": [
        "accuracy_score_test_float \\\n",
        "    = logistic_regression_SMOTE_model.score \\\n",
        "        (x_test_scaled_dataframe, y_test_series) * 100\n",
        "\n",
        "logx.print_and_log_text \\\n",
        "    ('\\033[1m'\n",
        "     + 'The logistic regression model score from SMOTE scaled test data is {:.2f}%' \\\n",
        "         .format(accuracy_score_test_float)\n",
        "     + '\\033[0m')"
      ]
    },
    {
      "cell_type": "markdown",
      "id": "zogEYovmuo-K",
      "metadata": {
        "id": "zogEYovmuo-K"
      },
      "source": [
        "### **SMOTEENN**"
      ]
    },
    {
      "cell_type": "code",
      "execution_count": 53,
      "id": "W-AC2LoYuo-K",
      "metadata": {
        "colab": {
          "base_uri": "https://localhost:8080/"
        },
        "id": "W-AC2LoYuo-K",
        "outputId": "e3b9a7fb-6678-47d4-a0b2-d2ef1ccd6d80"
      },
      "outputs": [
        {
          "output_type": "stream",
          "name": "stdout",
          "text": [
            "\u001b[1mThe logistic regression model score from SMOTEENN scaled training data is 99.42%\u001b[0m\n"
          ]
        }
      ],
      "source": [
        "accuracy_score_train_float \\\n",
        "    = logistic_regression_SMOTEENN_model.score \\\n",
        "        (x_train_scaled_dataframe, y_train_series) * 100\n",
        "\n",
        "logx.print_and_log_text \\\n",
        "    ('\\033[1m'\n",
        "     + 'The logistic regression model score from SMOTEENN scaled training data is {:.2f}%' \\\n",
        "         .format(accuracy_score_train_float)\n",
        "     + '\\033[0m')"
      ]
    },
    {
      "cell_type": "code",
      "execution_count": 54,
      "id": "8xYxb0_8uo-K",
      "metadata": {
        "colab": {
          "base_uri": "https://localhost:8080/"
        },
        "id": "8xYxb0_8uo-K",
        "outputId": "930e226b-f504-4078-bb31-0ebada1a0a87"
      },
      "outputs": [
        {
          "output_type": "stream",
          "name": "stdout",
          "text": [
            "\u001b[1mThe logistic regression model score from SMOTEENN scaled test data is 99.30%\u001b[0m\n"
          ]
        }
      ],
      "source": [
        "accuracy_score_test_float \\\n",
        "    = logistic_regression_SMOTEENN_model.score \\\n",
        "        (x_test_scaled_dataframe, y_test_series) * 100\n",
        "\n",
        "logx.print_and_log_text \\\n",
        "    ('\\033[1m'\n",
        "     + 'The logistic regression model score from SMOTEENN scaled test data is {:.2f}%' \\\n",
        "         .format(accuracy_score_test_float)\n",
        "     + '\\033[0m')"
      ]
    },
    {
      "cell_type": "markdown",
      "id": "xYzpnPlauo-K",
      "metadata": {
        "id": "xYzpnPlauo-K"
      },
      "source": [
        "## **3.3: Calculate Training and Test Predictions**"
      ]
    },
    {
      "cell_type": "markdown",
      "id": "Y9lv36dHuo-K",
      "metadata": {
        "id": "Y9lv36dHuo-K"
      },
      "source": [
        "### **Original**"
      ]
    },
    {
      "cell_type": "code",
      "execution_count": 55,
      "id": "Gg6koiHQuo-L",
      "metadata": {
        "id": "Gg6koiHQuo-L"
      },
      "outputs": [],
      "source": [
        "lr_train_predictions_dataframe \\\n",
        "    = classificationsx.return_predictions_dataframe \\\n",
        "        (logistic_regression_model,\n",
        "         x_train_scaled_dataframe,\n",
        "         y_train_series)\n",
        "\n",
        "logx.log_write_object(lr_train_predictions_dataframe)"
      ]
    },
    {
      "cell_type": "code",
      "execution_count": 56,
      "id": "LNTaqlAouo-L",
      "metadata": {
        "id": "LNTaqlAouo-L"
      },
      "outputs": [],
      "source": [
        "lr_test_predictions_dataframe \\\n",
        "    = classificationsx.return_predictions_dataframe \\\n",
        "        (logistic_regression_model,\n",
        "         x_test_scaled_dataframe,\n",
        "         y_test_series)\n",
        "\n",
        "logx.log_write_object(lr_test_predictions_dataframe)"
      ]
    },
    {
      "cell_type": "markdown",
      "id": "aQOJgkdruo-L",
      "metadata": {
        "id": "aQOJgkdruo-L"
      },
      "source": [
        "### **Random Undersampling**"
      ]
    },
    {
      "cell_type": "code",
      "execution_count": 57,
      "id": "UDw_I9YQuo-L",
      "metadata": {
        "id": "UDw_I9YQuo-L"
      },
      "outputs": [],
      "source": [
        "lr_train_undersampled_predictions_dataframe \\\n",
        "    = classificationsx.return_predictions_dataframe \\\n",
        "        (logistic_regression_undersampled_model,\n",
        "         x_train_scaled_dataframe,\n",
        "         y_train_series)\n",
        "\n",
        "logx.log_write_object(lr_train_undersampled_predictions_dataframe)"
      ]
    },
    {
      "cell_type": "code",
      "execution_count": 58,
      "id": "H_GHazryuo-L",
      "metadata": {
        "id": "H_GHazryuo-L"
      },
      "outputs": [],
      "source": [
        "lr_test_undersampled_predictions_dataframe \\\n",
        "    = classificationsx.return_predictions_dataframe \\\n",
        "        (logistic_regression_undersampled_model,\n",
        "         x_test_scaled_dataframe,\n",
        "         y_test_series)\n",
        "\n",
        "logx.log_write_object(lr_test_undersampled_predictions_dataframe)"
      ]
    },
    {
      "cell_type": "markdown",
      "id": "kbSo4Asyuo-L",
      "metadata": {
        "id": "kbSo4Asyuo-L"
      },
      "source": [
        "### **Random Oversampling**"
      ]
    },
    {
      "cell_type": "code",
      "execution_count": 59,
      "id": "ejtKyVxeuo-L",
      "metadata": {
        "id": "ejtKyVxeuo-L"
      },
      "outputs": [],
      "source": [
        "lr_train_oversampled_predictions_dataframe \\\n",
        "    = classificationsx.return_predictions_dataframe \\\n",
        "        (logistic_regression_oversampled_model,\n",
        "         x_train_scaled_dataframe,\n",
        "         y_train_series)\n",
        "\n",
        "logx.log_write_object(lr_train_oversampled_predictions_dataframe)"
      ]
    },
    {
      "cell_type": "code",
      "execution_count": 60,
      "id": "UqI-yadMuo-L",
      "metadata": {
        "id": "UqI-yadMuo-L"
      },
      "outputs": [],
      "source": [
        "lr_test_oversampled_predictions_dataframe \\\n",
        "    = classificationsx.return_predictions_dataframe \\\n",
        "        (logistic_regression_oversampled_model,\n",
        "         x_test_scaled_dataframe,\n",
        "         y_test_series)\n",
        "\n",
        "logx.log_write_object(lr_test_oversampled_predictions_dataframe)"
      ]
    },
    {
      "cell_type": "markdown",
      "id": "dnexMs_Fuo-L",
      "metadata": {
        "id": "dnexMs_Fuo-L"
      },
      "source": [
        "### **Cluster Centroids**"
      ]
    },
    {
      "cell_type": "code",
      "execution_count": 61,
      "id": "CUJ6oKtFuo-L",
      "metadata": {
        "id": "CUJ6oKtFuo-L"
      },
      "outputs": [],
      "source": [
        "lr_train_cluster_centroids_predictions_dataframe \\\n",
        "    = classificationsx.return_predictions_dataframe \\\n",
        "        (logistic_regression_cluster_centroids_model,\n",
        "         x_train_scaled_dataframe,\n",
        "         y_train_series)\n",
        "\n",
        "logx.log_write_object(lr_train_cluster_centroids_predictions_dataframe)"
      ]
    },
    {
      "cell_type": "code",
      "execution_count": 62,
      "id": "8bN6VoYOuo-M",
      "metadata": {
        "id": "8bN6VoYOuo-M"
      },
      "outputs": [],
      "source": [
        "lr_test_cluster_centroids_predictions_dataframe \\\n",
        "    = classificationsx.return_predictions_dataframe \\\n",
        "        (logistic_regression_cluster_centroids_model,\n",
        "         x_test_scaled_dataframe,\n",
        "         y_test_series)\n",
        "\n",
        "logx.log_write_object(lr_test_cluster_centroids_predictions_dataframe)"
      ]
    },
    {
      "cell_type": "markdown",
      "id": "FBYqv8C0uo-M",
      "metadata": {
        "id": "FBYqv8C0uo-M"
      },
      "source": [
        "### **SMOTE**"
      ]
    },
    {
      "cell_type": "code",
      "execution_count": 63,
      "id": "KlpSp7J2uo-M",
      "metadata": {
        "id": "KlpSp7J2uo-M"
      },
      "outputs": [],
      "source": [
        "lr_train_SMOTE_predictions_dataframe \\\n",
        "    = classificationsx.return_predictions_dataframe \\\n",
        "        (logistic_regression_SMOTE_model,\n",
        "         x_train_scaled_dataframe,\n",
        "         y_train_series)\n",
        "\n",
        "logx.log_write_object(lr_train_SMOTE_predictions_dataframe)"
      ]
    },
    {
      "cell_type": "code",
      "execution_count": 64,
      "id": "2fQ5m2O_uo-M",
      "metadata": {
        "id": "2fQ5m2O_uo-M"
      },
      "outputs": [],
      "source": [
        "lr_test_SMOTE_predictions_dataframe \\\n",
        "    = classificationsx.return_predictions_dataframe \\\n",
        "        (logistic_regression_SMOTE_model,\n",
        "         x_test_scaled_dataframe,\n",
        "         y_test_series)\n",
        "\n",
        "logx.log_write_object(lr_test_SMOTE_predictions_dataframe)"
      ]
    },
    {
      "cell_type": "markdown",
      "id": "0VLMyFx8uo-M",
      "metadata": {
        "id": "0VLMyFx8uo-M"
      },
      "source": [
        "### **SMOTEENN**"
      ]
    },
    {
      "cell_type": "code",
      "execution_count": 65,
      "id": "ETMDnN7suo-M",
      "metadata": {
        "id": "ETMDnN7suo-M"
      },
      "outputs": [],
      "source": [
        "lr_train_SMOTEENN_predictions_dataframe \\\n",
        "    = classificationsx.return_predictions_dataframe \\\n",
        "        (logistic_regression_SMOTEENN_model,\n",
        "         x_train_scaled_dataframe,\n",
        "         y_train_series)\n",
        "\n",
        "logx.log_write_object(lr_train_SMOTEENN_predictions_dataframe)"
      ]
    },
    {
      "cell_type": "code",
      "execution_count": 66,
      "id": "55RILTxPuo-M",
      "metadata": {
        "id": "55RILTxPuo-M"
      },
      "outputs": [],
      "source": [
        "lr_test_SMOTEENN_predictions_dataframe \\\n",
        "    = classificationsx.return_predictions_dataframe \\\n",
        "        (logistic_regression_SMOTE_model,\n",
        "         x_test_scaled_dataframe,\n",
        "         y_test_series)\n",
        "\n",
        "logx.log_write_object(lr_test_SMOTEENN_predictions_dataframe)"
      ]
    },
    {
      "cell_type": "markdown",
      "id": "unDhZhCLuo-M",
      "metadata": {
        "id": "unDhZhCLuo-M"
      },
      "source": [
        "# <br> **Section 4: Decision Tree Models**"
      ]
    },
    {
      "cell_type": "markdown",
      "id": "IB33c1U8uo-M",
      "metadata": {
        "id": "IB33c1U8uo-M"
      },
      "source": [
        "## **4.1: Fit Models by Using the Scaled Training Data**"
      ]
    },
    {
      "cell_type": "markdown",
      "id": "PRMwlXmuuo-M",
      "metadata": {
        "id": "PRMwlXmuuo-M"
      },
      "source": [
        "### **Original**"
      ]
    },
    {
      "cell_type": "code",
      "execution_count": 67,
      "id": "8cIox7tQuo-N",
      "metadata": {
        "id": "8cIox7tQuo-N"
      },
      "outputs": [],
      "source": [
        "dt_grid_search_model \\\n",
        "    = pickle.load(open(credit_risk_constants.CONSTANT_DT_GRID_SEARCH_MODEL_FILE_PATH, 'rb'))\n",
        "\n",
        "decision_tree_model \\\n",
        "    = DecisionTreeClassifier \\\n",
        "        (criterion = dt_grid_search_model.best_params_['criterion'],\n",
        "         splitter = dt_grid_search_model.best_params_['splitter'],\n",
        "         class_weight = dt_grid_search_model.best_params_['class_weight'],\n",
        "         random_state = credit_risk_constants.CONSTANT_ML_RANDOM_STATE_1) \\\n",
        "            .fit(x_train_scaled_dataframe, y_train_series)"
      ]
    },
    {
      "cell_type": "markdown",
      "id": "Z9iks7Lpuo-N",
      "metadata": {
        "id": "Z9iks7Lpuo-N"
      },
      "source": [
        "### **Random Undersampling**"
      ]
    },
    {
      "cell_type": "code",
      "execution_count": 68,
      "id": "L_GqlsE9uo-N",
      "metadata": {
        "id": "L_GqlsE9uo-N"
      },
      "outputs": [],
      "source": [
        "dt_undersampled_grid_search_model \\\n",
        "    = pickle.load \\\n",
        "        (open(credit_risk_constants.CONSTANT_DT_UNDERSAMPLED_GRID_SEARCH_MODEL_FILE_PATH, 'rb'))\n",
        "\n",
        "decision_tree_undersampled_model \\\n",
        "    = DecisionTreeClassifier \\\n",
        "        (criterion = dt_undersampled_grid_search_model.best_params_['criterion'],\n",
        "         splitter = dt_undersampled_grid_search_model.best_params_['splitter'],\n",
        "         class_weight = dt_undersampled_grid_search_model.best_params_['class_weight'],\n",
        "         random_state = credit_risk_constants.CONSTANT_ML_RANDOM_STATE_1) \\\n",
        "            .fit(x_train_scaled_undersampled_dataframe, y_train_undersampled_series)"
      ]
    },
    {
      "cell_type": "markdown",
      "id": "F6D40221uo-N",
      "metadata": {
        "id": "F6D40221uo-N"
      },
      "source": [
        "### **Random Oversampling**"
      ]
    },
    {
      "cell_type": "code",
      "execution_count": 69,
      "id": "ak3qBRbXuo-N",
      "metadata": {
        "id": "ak3qBRbXuo-N"
      },
      "outputs": [],
      "source": [
        "dt_oversampled_grid_search_model \\\n",
        "    = pickle.load \\\n",
        "        (open(credit_risk_constants.CONSTANT_DT_OVERSAMPLED_GRID_SEARCH_MODEL_FILE_PATH, 'rb'))\n",
        "\n",
        "decision_tree_oversampled_model \\\n",
        "    = DecisionTreeClassifier \\\n",
        "        (criterion = dt_oversampled_grid_search_model.best_params_['criterion'],\n",
        "         splitter = dt_oversampled_grid_search_model.best_params_['splitter'],\n",
        "         class_weight = dt_oversampled_grid_search_model.best_params_['class_weight'],\n",
        "         random_state = credit_risk_constants.CONSTANT_ML_RANDOM_STATE_1) \\\n",
        "            .fit(x_train_scaled_oversampled_dataframe, y_train_oversampled_series)"
      ]
    },
    {
      "cell_type": "markdown",
      "id": "oEMWmbf-uo-N",
      "metadata": {
        "id": "oEMWmbf-uo-N"
      },
      "source": [
        "### **Cluster Centroids**"
      ]
    },
    {
      "cell_type": "code",
      "execution_count": 70,
      "id": "yY-Gg4U_uo-N",
      "metadata": {
        "id": "yY-Gg4U_uo-N"
      },
      "outputs": [],
      "source": [
        "dt_cluster_centroids_grid_search_model \\\n",
        "    = pickle.load \\\n",
        "        (open(credit_risk_constants.CONSTANT_DT_CLUSTER_CENTROIDS_GRID_SEARCH_MODEL_FILE_PATH, 'rb'))\n",
        "\n",
        "decision_tree_cluster_centroids_model \\\n",
        "    = DecisionTreeClassifier \\\n",
        "        (criterion = dt_cluster_centroids_grid_search_model.best_params_['criterion'],\n",
        "         splitter = dt_cluster_centroids_grid_search_model.best_params_['splitter'],\n",
        "         class_weight = dt_cluster_centroids_grid_search_model.best_params_['class_weight'],\n",
        "         random_state = credit_risk_constants.CONSTANT_ML_RANDOM_STATE_1) \\\n",
        "            .fit(x_train_scaled_cluster_centroids_dataframe, y_train_cluster_centroids_series)"
      ]
    },
    {
      "cell_type": "markdown",
      "id": "AHUF3lF3uo-N",
      "metadata": {
        "id": "AHUF3lF3uo-N"
      },
      "source": [
        "### **SMOTE**"
      ]
    },
    {
      "cell_type": "code",
      "execution_count": 71,
      "id": "EtV1ZU9Luo-N",
      "metadata": {
        "id": "EtV1ZU9Luo-N"
      },
      "outputs": [],
      "source": [
        "dt_SMOTE_grid_search_model \\\n",
        "    = pickle.load \\\n",
        "        (open(credit_risk_constants.CONSTANT_DT_SMOTE_GRID_SEARCH_MODEL_FILE_PATH, 'rb'))\n",
        "\n",
        "decision_tree_SMOTE_model \\\n",
        "    = DecisionTreeClassifier \\\n",
        "        (criterion = dt_SMOTE_grid_search_model.best_params_['criterion'],\n",
        "         splitter = dt_SMOTE_grid_search_model.best_params_['splitter'],\n",
        "         class_weight = dt_SMOTE_grid_search_model.best_params_['class_weight'],\n",
        "         random_state = credit_risk_constants.CONSTANT_ML_RANDOM_STATE_1) \\\n",
        "            .fit(x_train_scaled_SMOTE_dataframe, y_train_SMOTE_series)"
      ]
    },
    {
      "cell_type": "markdown",
      "id": "bz2i1E3Xuo-N",
      "metadata": {
        "id": "bz2i1E3Xuo-N"
      },
      "source": [
        "### **SMOTEENN**"
      ]
    },
    {
      "cell_type": "code",
      "execution_count": 72,
      "id": "RHcA9DWHuo-O",
      "metadata": {
        "id": "RHcA9DWHuo-O"
      },
      "outputs": [],
      "source": [
        "dt_SMOTEENN_grid_search_model \\\n",
        "    = pickle.load \\\n",
        "        (open(credit_risk_constants.CONSTANT_DT_SMOTEENN_GRID_SEARCH_MODEL_FILE_PATH, 'rb'))\n",
        "\n",
        "decision_tree_SMOTEENN_model \\\n",
        "    = DecisionTreeClassifier \\\n",
        "        (criterion = dt_SMOTEENN_grid_search_model.best_params_['criterion'],\n",
        "         splitter = dt_SMOTEENN_grid_search_model.best_params_['splitter'],\n",
        "         class_weight = dt_SMOTEENN_grid_search_model.best_params_['class_weight'],\n",
        "         random_state = credit_risk_constants.CONSTANT_ML_RANDOM_STATE_1) \\\n",
        "            .fit(x_train_scaled_SMOTEENN_dataframe, y_train_SMOTEENN_series)"
      ]
    },
    {
      "cell_type": "markdown",
      "id": "pxLrXrvcuo-O",
      "metadata": {
        "id": "pxLrXrvcuo-O"
      },
      "source": [
        "## **4.2: Display the Model Scores Using the Scaled Training and Testing Data**"
      ]
    },
    {
      "cell_type": "markdown",
      "id": "ZgbxUSpQuo-O",
      "metadata": {
        "id": "ZgbxUSpQuo-O"
      },
      "source": [
        "### **Original**"
      ]
    },
    {
      "cell_type": "code",
      "execution_count": 73,
      "id": "55wdsIWCuo-O",
      "metadata": {
        "colab": {
          "base_uri": "https://localhost:8080/"
        },
        "id": "55wdsIWCuo-O",
        "outputId": "9b0724ea-511f-438e-a632-908cfd9e4ec0"
      },
      "outputs": [
        {
          "output_type": "stream",
          "name": "stdout",
          "text": [
            "\u001b[1mThe decision tree model score from scaled training data is 99.63%\u001b[0m\n"
          ]
        }
      ],
      "source": [
        "accuracy_score_train_float \\\n",
        "    = decision_tree_model.score \\\n",
        "        (x_train_scaled_dataframe, y_train_series) * 100\n",
        "\n",
        "logx.print_and_log_text \\\n",
        "    ('\\033[1m'\n",
        "     + 'The decision tree model score from scaled training data is {:.2f}%' \\\n",
        "         .format(accuracy_score_train_float)\n",
        "     + '\\033[0m')"
      ]
    },
    {
      "cell_type": "code",
      "execution_count": 74,
      "id": "fsutG1wquo-O",
      "metadata": {
        "colab": {
          "base_uri": "https://localhost:8080/"
        },
        "id": "fsutG1wquo-O",
        "outputId": "1f66efb9-7b91-41c0-8ab8-d941dab028ca"
      },
      "outputs": [
        {
          "output_type": "stream",
          "name": "stdout",
          "text": [
            "\u001b[1mThe decision tree model score from scaled test data is 98.88%\u001b[0m\n"
          ]
        }
      ],
      "source": [
        "accuracy_score_test_float \\\n",
        "    = decision_tree_model.score \\\n",
        "        (x_test_scaled_dataframe, y_test_series) * 100\n",
        "\n",
        "logx.print_and_log_text \\\n",
        "    ('\\033[1m'\n",
        "     + 'The decision tree model score from scaled test data is {:.2f}%' \\\n",
        "         .format(accuracy_score_test_float)\n",
        "     + '\\033[0m')"
      ]
    },
    {
      "cell_type": "markdown",
      "id": "nKWE9GhUuo-O",
      "metadata": {
        "id": "nKWE9GhUuo-O"
      },
      "source": [
        "### **Random Undersampling**"
      ]
    },
    {
      "cell_type": "code",
      "execution_count": 75,
      "id": "lDxW6hXIuo-O",
      "metadata": {
        "colab": {
          "base_uri": "https://localhost:8080/"
        },
        "id": "lDxW6hXIuo-O",
        "outputId": "6d0e2260-11a8-4e26-a213-de04b4b32ec2"
      },
      "outputs": [
        {
          "output_type": "stream",
          "name": "stdout",
          "text": [
            "\u001b[1mThe decision tree model score from undersampled scaled training data is 99.05%\u001b[0m\n"
          ]
        }
      ],
      "source": [
        "accuracy_score_train_float \\\n",
        "    = decision_tree_undersampled_model.score \\\n",
        "        (x_train_scaled_dataframe, y_train_series) * 100\n",
        "\n",
        "logx.print_and_log_text \\\n",
        "    ('\\033[1m'\n",
        "     + 'The decision tree model score from undersampled scaled training data is {:.2f}%' \\\n",
        "         .format(accuracy_score_train_float)\n",
        "     + '\\033[0m')"
      ]
    },
    {
      "cell_type": "code",
      "execution_count": 76,
      "id": "UJDpgiquuo-O",
      "metadata": {
        "colab": {
          "base_uri": "https://localhost:8080/"
        },
        "id": "UJDpgiquuo-O",
        "outputId": "646d49a0-cb62-4bfb-e95e-d83bc9c2bb45"
      },
      "outputs": [
        {
          "output_type": "stream",
          "name": "stdout",
          "text": [
            "\u001b[1mThe decision tree model score from undersampled scaled test data is 98.82%\u001b[0m\n"
          ]
        }
      ],
      "source": [
        "accuracy_score_test_float \\\n",
        "    = decision_tree_undersampled_model.score \\\n",
        "        (x_test_scaled_dataframe, y_test_series) * 100\n",
        "\n",
        "logx.print_and_log_text \\\n",
        "    ('\\033[1m'\n",
        "     + 'The decision tree model score from undersampled scaled test data is {:.2f}%' \\\n",
        "         .format(accuracy_score_test_float)\n",
        "     + '\\033[0m')"
      ]
    },
    {
      "cell_type": "markdown",
      "id": "ROlIUb-xuo-O",
      "metadata": {
        "id": "ROlIUb-xuo-O"
      },
      "source": [
        "### **Random Oversampling**"
      ]
    },
    {
      "cell_type": "code",
      "execution_count": 77,
      "id": "4DAWy_B7uo-O",
      "metadata": {
        "colab": {
          "base_uri": "https://localhost:8080/"
        },
        "id": "4DAWy_B7uo-O",
        "outputId": "df602d3b-8cbe-4fbd-b4d7-c541554e47ec"
      },
      "outputs": [
        {
          "output_type": "stream",
          "name": "stdout",
          "text": [
            "\u001b[1mThe decision tree model score from overersampled scaled training data is 99.57%\u001b[0m\n"
          ]
        }
      ],
      "source": [
        "accuracy_score_train_float \\\n",
        "    = decision_tree_oversampled_model.score \\\n",
        "        (x_train_scaled_dataframe, y_train_series) * 100\n",
        "\n",
        "logx.print_and_log_text \\\n",
        "    ('\\033[1m'\n",
        "     + 'The decision tree model score from overersampled scaled training data is {:.2f}%' \\\n",
        "         .format(accuracy_score_train_float)\n",
        "     + '\\033[0m')"
      ]
    },
    {
      "cell_type": "code",
      "execution_count": 78,
      "id": "YApdwac3uo-O",
      "metadata": {
        "colab": {
          "base_uri": "https://localhost:8080/"
        },
        "id": "YApdwac3uo-O",
        "outputId": "9dc93163-ac84-4c08-d3ea-62780ddef603"
      },
      "outputs": [
        {
          "output_type": "stream",
          "name": "stdout",
          "text": [
            "\u001b[1mThe decision tree model score from oversampled scaled test data is 98.81%\u001b[0m\n"
          ]
        }
      ],
      "source": [
        "accuracy_score_test_float \\\n",
        "    = decision_tree_oversampled_model.score \\\n",
        "        (x_test_scaled_dataframe, y_test_series) * 100\n",
        "\n",
        "logx.print_and_log_text \\\n",
        "    ('\\033[1m'\n",
        "     + 'The decision tree model score from oversampled scaled test data is {:.2f}%' \\\n",
        "         .format(accuracy_score_test_float)\n",
        "     + '\\033[0m')"
      ]
    },
    {
      "cell_type": "markdown",
      "id": "SBprZ50yuo-P",
      "metadata": {
        "id": "SBprZ50yuo-P"
      },
      "source": [
        "### **Cluster Centroids**"
      ]
    },
    {
      "cell_type": "code",
      "execution_count": 79,
      "id": "r7luvKJwuo-P",
      "metadata": {
        "colab": {
          "base_uri": "https://localhost:8080/"
        },
        "id": "r7luvKJwuo-P",
        "outputId": "9158c15b-deb1-439b-96fc-0fd6ae19735b"
      },
      "outputs": [
        {
          "output_type": "stream",
          "name": "stdout",
          "text": [
            "\u001b[1mThe decision tree model score from cluster centroids scaled training data is 99.38%\u001b[0m\n"
          ]
        }
      ],
      "source": [
        "accuracy_score_train_float \\\n",
        "    = decision_tree_cluster_centroids_model.score \\\n",
        "        (x_train_scaled_dataframe, y_train_series) * 100\n",
        "\n",
        "logx.print_and_log_text \\\n",
        "    ('\\033[1m'\n",
        "     + 'The decision tree model score from cluster centroids scaled training data is {:.2f}%' \\\n",
        "         .format(accuracy_score_train_float)\n",
        "     + '\\033[0m')"
      ]
    },
    {
      "cell_type": "code",
      "execution_count": 80,
      "id": "uChc9hkwuo-P",
      "metadata": {
        "colab": {
          "base_uri": "https://localhost:8080/"
        },
        "id": "uChc9hkwuo-P",
        "outputId": "9726490a-c755-4bda-8467-0a869768323c"
      },
      "outputs": [
        {
          "output_type": "stream",
          "name": "stdout",
          "text": [
            "\u001b[1mThe decision tree model score from cluster centroids scaled test data is 99.01%\u001b[0m\n"
          ]
        }
      ],
      "source": [
        "accuracy_score_test_float \\\n",
        "    = decision_tree_cluster_centroids_model.score \\\n",
        "        (x_test_scaled_dataframe, y_test_series) * 100\n",
        "\n",
        "logx.print_and_log_text \\\n",
        "    ('\\033[1m'\n",
        "     + 'The decision tree model score from cluster centroids scaled test data is {:.2f}%' \\\n",
        "         .format(accuracy_score_test_float)\n",
        "     + '\\033[0m')"
      ]
    },
    {
      "cell_type": "markdown",
      "id": "NbZZPX3Ruo-P",
      "metadata": {
        "id": "NbZZPX3Ruo-P"
      },
      "source": [
        "### **SMOTE**"
      ]
    },
    {
      "cell_type": "code",
      "execution_count": 81,
      "id": "yc38pNiOuo-P",
      "metadata": {
        "colab": {
          "base_uri": "https://localhost:8080/"
        },
        "id": "yc38pNiOuo-P",
        "outputId": "7f30bf30-2d2c-4f83-afec-959a62478631"
      },
      "outputs": [
        {
          "output_type": "stream",
          "name": "stdout",
          "text": [
            "\u001b[1mThe decision tree model score from SMOTE scaled training data is 99.75%\u001b[0m\n"
          ]
        }
      ],
      "source": [
        "accuracy_score_train_float \\\n",
        "    = decision_tree_SMOTE_model.score \\\n",
        "        (x_train_scaled_dataframe, y_train_series) * 100\n",
        "\n",
        "logx.print_and_log_text \\\n",
        "    ('\\033[1m'\n",
        "     + 'The decision tree model score from SMOTE scaled training data is {:.2f}%' \\\n",
        "         .format(accuracy_score_train_float)\n",
        "     + '\\033[0m')"
      ]
    },
    {
      "cell_type": "code",
      "execution_count": 82,
      "id": "iJ5YaqtCuo-P",
      "metadata": {
        "colab": {
          "base_uri": "https://localhost:8080/"
        },
        "id": "iJ5YaqtCuo-P",
        "outputId": "53e92f7f-e37d-4d64-9480-80d47742585a"
      },
      "outputs": [
        {
          "output_type": "stream",
          "name": "stdout",
          "text": [
            "\u001b[1mThe decision tree model score from SMOTE scaled test data is 55.65%\u001b[0m\n"
          ]
        }
      ],
      "source": [
        "accuracy_score_test_float \\\n",
        "    = decision_tree_SMOTE_model.score \\\n",
        "        (x_test_scaled_dataframe, y_test_series) * 100\n",
        "\n",
        "logx.print_and_log_text \\\n",
        "    ('\\033[1m'\n",
        "     + 'The decision tree model score from SMOTE scaled test data is {:.2f}%' \\\n",
        "         .format(accuracy_score_test_float)\n",
        "     + '\\033[0m')"
      ]
    },
    {
      "cell_type": "markdown",
      "id": "m9CDj-Quuo-P",
      "metadata": {
        "id": "m9CDj-Quuo-P"
      },
      "source": [
        "### **SMOTEENN**"
      ]
    },
    {
      "cell_type": "code",
      "execution_count": 83,
      "id": "iyJOFzkCuo-P",
      "metadata": {
        "colab": {
          "base_uri": "https://localhost:8080/"
        },
        "id": "iyJOFzkCuo-P",
        "outputId": "2b3b51f9-35b4-4b66-aab1-c1a388a260b6"
      },
      "outputs": [
        {
          "output_type": "stream",
          "name": "stdout",
          "text": [
            "\u001b[1mThe decision tree model score from SMOTEENN scaled training data is 99.47%\u001b[0m\n"
          ]
        }
      ],
      "source": [
        "accuracy_score_train_float \\\n",
        "    = decision_tree_SMOTEENN_model.score \\\n",
        "        (x_train_scaled_dataframe, y_train_series) * 100\n",
        "\n",
        "logx.print_and_log_text \\\n",
        "    ('\\033[1m'\n",
        "     + 'The decision tree model score from SMOTEENN scaled training data is {:.2f}%' \\\n",
        "         .format(accuracy_score_train_float)\n",
        "     + '\\033[0m')"
      ]
    },
    {
      "cell_type": "code",
      "execution_count": 84,
      "id": "y2w_kGHkuo-P",
      "metadata": {
        "colab": {
          "base_uri": "https://localhost:8080/"
        },
        "id": "y2w_kGHkuo-P",
        "outputId": "b23b3886-5800-4c69-af95-64ffcbeab678"
      },
      "outputs": [
        {
          "output_type": "stream",
          "name": "stdout",
          "text": [
            "\u001b[1mThe decision tree model score from SMOTEENN scaled test data is 87.83%\u001b[0m\n"
          ]
        }
      ],
      "source": [
        "accuracy_score_test_float \\\n",
        "    = decision_tree_SMOTEENN_model.score \\\n",
        "        (x_test_scaled_dataframe, y_test_series) * 100\n",
        "\n",
        "logx.print_and_log_text \\\n",
        "    ('\\033[1m'\n",
        "     + 'The decision tree model score from SMOTEENN scaled test data is {:.2f}%' \\\n",
        "         .format(accuracy_score_test_float)\n",
        "     + '\\033[0m')"
      ]
    },
    {
      "cell_type": "markdown",
      "id": "jPDWvGOruo-P",
      "metadata": {
        "id": "jPDWvGOruo-P"
      },
      "source": [
        "## **4.3: Calculate Training and Test Predictions.**"
      ]
    },
    {
      "cell_type": "markdown",
      "id": "qvHmRet5uo-P",
      "metadata": {
        "id": "qvHmRet5uo-P"
      },
      "source": [
        "### **Original**"
      ]
    },
    {
      "cell_type": "code",
      "execution_count": 85,
      "id": "cxRwZX-muo-P",
      "metadata": {
        "id": "cxRwZX-muo-P"
      },
      "outputs": [],
      "source": [
        "dt_train_predictions_dataframe \\\n",
        "    = classificationsx.return_predictions_dataframe \\\n",
        "        (decision_tree_model,\n",
        "         x_train_scaled_dataframe,\n",
        "         y_train_series)\n",
        "\n",
        "logx.log_write_object(dt_train_predictions_dataframe)"
      ]
    },
    {
      "cell_type": "code",
      "execution_count": 86,
      "id": "4m9a5ouquo-Q",
      "metadata": {
        "id": "4m9a5ouquo-Q"
      },
      "outputs": [],
      "source": [
        "dt_test_predictions_dataframe \\\n",
        "    = classificationsx.return_predictions_dataframe \\\n",
        "        (decision_tree_model,\n",
        "         x_test_scaled_dataframe,\n",
        "         y_test_series)\n",
        "\n",
        "logx.log_write_object(dt_test_predictions_dataframe)"
      ]
    },
    {
      "cell_type": "markdown",
      "id": "e-auq5A5uo-Q",
      "metadata": {
        "id": "e-auq5A5uo-Q"
      },
      "source": [
        "### **Random Undersampling**"
      ]
    },
    {
      "cell_type": "code",
      "execution_count": 87,
      "id": "_T9gtfmIuo-Q",
      "metadata": {
        "id": "_T9gtfmIuo-Q"
      },
      "outputs": [],
      "source": [
        "dt_train_undersampled_predictions_dataframe \\\n",
        "    = classificationsx.return_predictions_dataframe \\\n",
        "        (decision_tree_undersampled_model,\n",
        "         x_train_scaled_dataframe,\n",
        "         y_train_series)\n",
        "\n",
        "logx.log_write_object(dt_train_undersampled_predictions_dataframe)"
      ]
    },
    {
      "cell_type": "code",
      "execution_count": 88,
      "id": "d-_9wxnIuo-Q",
      "metadata": {
        "id": "d-_9wxnIuo-Q"
      },
      "outputs": [],
      "source": [
        "dt_test_undersampled_predictions_dataframe \\\n",
        "    = classificationsx.return_predictions_dataframe \\\n",
        "        (decision_tree_undersampled_model,\n",
        "         x_test_scaled_dataframe,\n",
        "         y_test_series)\n",
        "\n",
        "logx.log_write_object(dt_test_undersampled_predictions_dataframe)"
      ]
    },
    {
      "cell_type": "markdown",
      "id": "Yg7UptCDuo-Q",
      "metadata": {
        "id": "Yg7UptCDuo-Q"
      },
      "source": [
        "### **Random Oversampling**"
      ]
    },
    {
      "cell_type": "code",
      "execution_count": 89,
      "id": "s-gT6bAruo-Q",
      "metadata": {
        "id": "s-gT6bAruo-Q"
      },
      "outputs": [],
      "source": [
        "dt_train_oversampled_predictions_dataframe \\\n",
        "    = classificationsx.return_predictions_dataframe \\\n",
        "        (decision_tree_oversampled_model,\n",
        "         x_train_scaled_dataframe,\n",
        "         y_train_series)\n",
        "\n",
        "logx.log_write_object(dt_train_oversampled_predictions_dataframe)"
      ]
    },
    {
      "cell_type": "code",
      "execution_count": 90,
      "id": "5Hb2r0fPuo-Q",
      "metadata": {
        "id": "5Hb2r0fPuo-Q"
      },
      "outputs": [],
      "source": [
        "dt_test_oversampled_predictions_dataframe \\\n",
        "    = classificationsx.return_predictions_dataframe \\\n",
        "        (decision_tree_oversampled_model,\n",
        "         x_test_scaled_dataframe,\n",
        "         y_test_series)\n",
        "\n",
        "logx.log_write_object(dt_test_oversampled_predictions_dataframe)"
      ]
    },
    {
      "cell_type": "markdown",
      "id": "_Rjevb03uo-Q",
      "metadata": {
        "id": "_Rjevb03uo-Q"
      },
      "source": [
        "### **Cluster Centroids**"
      ]
    },
    {
      "cell_type": "code",
      "execution_count": 91,
      "id": "m7cbKOaNuo-Q",
      "metadata": {
        "id": "m7cbKOaNuo-Q"
      },
      "outputs": [],
      "source": [
        "dt_train_cluster_centroids_predictions_dataframe \\\n",
        "    = classificationsx.return_predictions_dataframe \\\n",
        "        (decision_tree_cluster_centroids_model,\n",
        "         x_train_scaled_dataframe,\n",
        "         y_train_series)\n",
        "\n",
        "logx.log_write_object(dt_train_cluster_centroids_predictions_dataframe)"
      ]
    },
    {
      "cell_type": "code",
      "execution_count": 92,
      "id": "zmtHReMnuo-Q",
      "metadata": {
        "id": "zmtHReMnuo-Q"
      },
      "outputs": [],
      "source": [
        "dt_test_cluster_centroids_predictions_dataframe \\\n",
        "    = classificationsx.return_predictions_dataframe \\\n",
        "        (decision_tree_cluster_centroids_model,\n",
        "         x_test_scaled_dataframe,\n",
        "         y_test_series)\n",
        "\n",
        "logx.log_write_object(dt_test_cluster_centroids_predictions_dataframe)"
      ]
    },
    {
      "cell_type": "markdown",
      "id": "W7AV2Lr-uo-R",
      "metadata": {
        "id": "W7AV2Lr-uo-R"
      },
      "source": [
        "### **SMOTE**"
      ]
    },
    {
      "cell_type": "code",
      "execution_count": 93,
      "id": "GIf_nGxvuo-R",
      "metadata": {
        "id": "GIf_nGxvuo-R"
      },
      "outputs": [],
      "source": [
        "dt_train_SMOTE_predictions_dataframe \\\n",
        "    = classificationsx.return_predictions_dataframe \\\n",
        "        (decision_tree_SMOTE_model,\n",
        "         x_train_scaled_dataframe,\n",
        "         y_train_series)\n",
        "\n",
        "logx.log_write_object(dt_train_SMOTE_predictions_dataframe)"
      ]
    },
    {
      "cell_type": "code",
      "execution_count": 94,
      "id": "gklYqgXCuo-R",
      "metadata": {
        "id": "gklYqgXCuo-R"
      },
      "outputs": [],
      "source": [
        "dt_test_SMOTE_predictions_dataframe \\\n",
        "    = classificationsx.return_predictions_dataframe \\\n",
        "        (decision_tree_SMOTE_model,\n",
        "         x_test_scaled_dataframe,\n",
        "         y_test_series)\n",
        "\n",
        "logx.log_write_object(dt_test_SMOTE_predictions_dataframe)"
      ]
    },
    {
      "cell_type": "markdown",
      "id": "ovZvuOl7uo-R",
      "metadata": {
        "id": "ovZvuOl7uo-R"
      },
      "source": [
        "### **SMOTEENN**"
      ]
    },
    {
      "cell_type": "code",
      "execution_count": 95,
      "id": "vlsJFX1guo-R",
      "metadata": {
        "id": "vlsJFX1guo-R"
      },
      "outputs": [],
      "source": [
        "dt_train_SMOTEENN_predictions_dataframe \\\n",
        "    = classificationsx.return_predictions_dataframe \\\n",
        "        (decision_tree_SMOTEENN_model,\n",
        "         x_train_scaled_dataframe,\n",
        "         y_train_series)\n",
        "\n",
        "logx.log_write_object(dt_train_SMOTEENN_predictions_dataframe)"
      ]
    },
    {
      "cell_type": "code",
      "execution_count": 96,
      "id": "iNPsxY5quo-R",
      "metadata": {
        "id": "iNPsxY5quo-R"
      },
      "outputs": [],
      "source": [
        "dt_test_SMOTEENN_predictions_dataframe \\\n",
        "    = classificationsx.return_predictions_dataframe \\\n",
        "        (decision_tree_SMOTE_model,\n",
        "         x_test_scaled_dataframe,\n",
        "         y_test_series)\n",
        "\n",
        "logx.log_write_object(dt_test_SMOTEENN_predictions_dataframe)"
      ]
    },
    {
      "cell_type": "markdown",
      "id": "qYW9xgc4uo-R",
      "metadata": {
        "id": "qYW9xgc4uo-R"
      },
      "source": [
        "# <br> **Section 5: Random Forest Models**"
      ]
    },
    {
      "cell_type": "markdown",
      "id": "qw7KoZQZuo-R",
      "metadata": {
        "id": "qw7KoZQZuo-R"
      },
      "source": [
        "## **5.1: Fit Models by Using the Scaled Training Data.**"
      ]
    },
    {
      "cell_type": "markdown",
      "id": "NHJXmqRHuo-R",
      "metadata": {
        "id": "NHJXmqRHuo-R"
      },
      "source": [
        "### **Original**"
      ]
    },
    {
      "cell_type": "code",
      "execution_count": 97,
      "id": "Ypd_KZmnuo-R",
      "metadata": {
        "id": "Ypd_KZmnuo-R"
      },
      "outputs": [],
      "source": [
        "rf_grid_search_model \\\n",
        "    = pickle.load(open(credit_risk_constants.CONSTANT_RF_GRID_SEARCH_MODEL_FILE_PATH, 'rb'))\n",
        "\n",
        "random_forest_model \\\n",
        "    = RandomForestClassifier \\\n",
        "        (criterion = rf_grid_search_model.best_params_['criterion'],\n",
        "         class_weight = rf_grid_search_model.best_params_['class_weight'],\n",
        "         n_estimators = credit_risk_constants.CONSTANT_ML_RF_N_ESTIMATORS,\n",
        "         random_state = credit_risk_constants.CONSTANT_ML_RANDOM_STATE_1) \\\n",
        "            .fit(x_train_scaled_dataframe, y_train_series)"
      ]
    },
    {
      "cell_type": "markdown",
      "id": "BgFRZ8Psuo-R",
      "metadata": {
        "id": "BgFRZ8Psuo-R"
      },
      "source": [
        "### **Random Undersampling**"
      ]
    },
    {
      "cell_type": "code",
      "execution_count": 98,
      "id": "pd8ZsoInuo-S",
      "metadata": {
        "id": "pd8ZsoInuo-S"
      },
      "outputs": [],
      "source": [
        "rf_undersampled_grid_search_model \\\n",
        "    = pickle.load \\\n",
        "        (open(credit_risk_constants.CONSTANT_RF_UNDERSAMPLED_GRID_SEARCH_MODEL_FILE_PATH, 'rb'))\n",
        "\n",
        "random_forest_undersampled_model \\\n",
        "    = RandomForestClassifier \\\n",
        "        (criterion = rf_undersampled_grid_search_model.best_params_['criterion'],\n",
        "         class_weight = rf_undersampled_grid_search_model.best_params_['class_weight'],\n",
        "         n_estimators = credit_risk_constants.CONSTANT_ML_RF_N_ESTIMATORS,\n",
        "         random_state = credit_risk_constants.CONSTANT_ML_RANDOM_STATE_1) \\\n",
        "            .fit(x_train_scaled_undersampled_dataframe, y_train_undersampled_series)"
      ]
    },
    {
      "cell_type": "markdown",
      "id": "TCSU4c0tuo-S",
      "metadata": {
        "id": "TCSU4c0tuo-S"
      },
      "source": [
        "### **Random Oversampling**"
      ]
    },
    {
      "cell_type": "code",
      "execution_count": 99,
      "id": "qhLe6lqNuo-S",
      "metadata": {
        "id": "qhLe6lqNuo-S"
      },
      "outputs": [],
      "source": [
        "rf_oversampled_grid_search_model \\\n",
        "    = pickle.load \\\n",
        "        (open(credit_risk_constants.CONSTANT_RF_OVERSAMPLED_GRID_SEARCH_MODEL_FILE_PATH, 'rb'))\n",
        "\n",
        "random_forest_oversampled_model \\\n",
        "    = RandomForestClassifier \\\n",
        "        (criterion = rf_oversampled_grid_search_model.best_params_['criterion'],\n",
        "         class_weight = rf_oversampled_grid_search_model.best_params_['class_weight'],\n",
        "         n_estimators = credit_risk_constants.CONSTANT_ML_RF_N_ESTIMATORS,\n",
        "         random_state = credit_risk_constants.CONSTANT_ML_RANDOM_STATE_1) \\\n",
        "            .fit(x_train_scaled_oversampled_dataframe, y_train_oversampled_series)"
      ]
    },
    {
      "cell_type": "markdown",
      "id": "9Ed2HYSquo-S",
      "metadata": {
        "id": "9Ed2HYSquo-S"
      },
      "source": [
        "### **Cluster Centroids**"
      ]
    },
    {
      "cell_type": "code",
      "execution_count": 100,
      "id": "aUH2QilSuo-S",
      "metadata": {
        "id": "aUH2QilSuo-S"
      },
      "outputs": [],
      "source": [
        "rf_cluster_centroids_grid_search_model \\\n",
        "    = pickle.load \\\n",
        "        (open(credit_risk_constants.CONSTANT_RF_CLUSTER_CENTROIDS_GRID_SEARCH_MODEL_FILE_PATH, 'rb'))\n",
        "\n",
        "random_forest_cluster_centroids_model \\\n",
        "    = RandomForestClassifier \\\n",
        "        (criterion = rf_cluster_centroids_grid_search_model.best_params_['criterion'],\n",
        "         class_weight = rf_cluster_centroids_grid_search_model.best_params_['class_weight'],\n",
        "         n_estimators = credit_risk_constants.CONSTANT_ML_RF_N_ESTIMATORS,\n",
        "         random_state = credit_risk_constants.CONSTANT_ML_RANDOM_STATE_1) \\\n",
        "            .fit(x_train_scaled_cluster_centroids_dataframe, y_train_cluster_centroids_series)"
      ]
    },
    {
      "cell_type": "markdown",
      "id": "ky6wTx0wuo-S",
      "metadata": {
        "id": "ky6wTx0wuo-S"
      },
      "source": [
        "### **SMOTE**"
      ]
    },
    {
      "cell_type": "code",
      "execution_count": 101,
      "id": "XyRD76wBuo-S",
      "metadata": {
        "id": "XyRD76wBuo-S"
      },
      "outputs": [],
      "source": [
        "rf_SMOTE_grid_search_model \\\n",
        "    = pickle.load \\\n",
        "        (open(credit_risk_constants.CONSTANT_RF_SMOTE_GRID_SEARCH_MODEL_FILE_PATH, 'rb'))\n",
        "\n",
        "random_forest_SMOTE_model \\\n",
        "    = RandomForestClassifier \\\n",
        "        (criterion = rf_SMOTE_grid_search_model.best_params_['criterion'],\n",
        "         class_weight = rf_SMOTE_grid_search_model.best_params_['class_weight'],\n",
        "         n_estimators = credit_risk_constants.CONSTANT_ML_RF_N_ESTIMATORS,\n",
        "         random_state = credit_risk_constants.CONSTANT_ML_RANDOM_STATE_1) \\\n",
        "            .fit(x_train_scaled_SMOTE_dataframe, y_train_SMOTE_series)"
      ]
    },
    {
      "cell_type": "markdown",
      "id": "VdKxwY9buo-S",
      "metadata": {
        "id": "VdKxwY9buo-S"
      },
      "source": [
        "### **SMOTEENN**"
      ]
    },
    {
      "cell_type": "code",
      "execution_count": 102,
      "id": "rcRsLcEiuo-S",
      "metadata": {
        "id": "rcRsLcEiuo-S"
      },
      "outputs": [],
      "source": [
        "rf_SMOTEENN_grid_search_model \\\n",
        "    = pickle.load \\\n",
        "        (open(credit_risk_constants.CONSTANT_RF_SMOTEENN_GRID_SEARCH_MODEL_FILE_PATH, 'rb'))\n",
        "\n",
        "random_forest_SMOTEENN_model \\\n",
        "    = RandomForestClassifier \\\n",
        "        (criterion = rf_SMOTEENN_grid_search_model.best_params_['criterion'],\n",
        "         class_weight = rf_SMOTEENN_grid_search_model.best_params_['class_weight'],\n",
        "         n_estimators = credit_risk_constants.CONSTANT_ML_RF_N_ESTIMATORS,\n",
        "         random_state = credit_risk_constants.CONSTANT_ML_RANDOM_STATE_1) \\\n",
        "            .fit(x_train_scaled_SMOTEENN_dataframe, y_train_SMOTEENN_series)"
      ]
    },
    {
      "cell_type": "markdown",
      "id": "stX2wMxFuo-T",
      "metadata": {
        "id": "stX2wMxFuo-T"
      },
      "source": [
        "## **5.2: Display the Model Scores Using the Scaled Training and Testing Data**"
      ]
    },
    {
      "cell_type": "markdown",
      "id": "WakqIqV1uo-T",
      "metadata": {
        "id": "WakqIqV1uo-T"
      },
      "source": [
        "### **Original**"
      ]
    },
    {
      "cell_type": "code",
      "execution_count": 103,
      "id": "DpUGvmdKuo-T",
      "metadata": {
        "colab": {
          "base_uri": "https://localhost:8080/"
        },
        "id": "DpUGvmdKuo-T",
        "outputId": "421b32bb-d253-4e42-fb5a-f96fe9d5e620"
      },
      "outputs": [
        {
          "output_type": "stream",
          "name": "stdout",
          "text": [
            "\u001b[1mThe random forest model score from scaled training data is 99.75%\u001b[0m\n"
          ]
        }
      ],
      "source": [
        "accuracy_score_train_float \\\n",
        "    = random_forest_model.score \\\n",
        "        (x_train_scaled_dataframe, y_train_series) * 100\n",
        "\n",
        "logx.print_and_log_text \\\n",
        "    ('\\033[1m'\n",
        "     + 'The random forest model score from scaled training data is {:.2f}%' \\\n",
        "         .format(accuracy_score_train_float)\n",
        "     + '\\033[0m')"
      ]
    },
    {
      "cell_type": "code",
      "execution_count": 104,
      "id": "H6byn4ewuo-T",
      "metadata": {
        "colab": {
          "base_uri": "https://localhost:8080/"
        },
        "id": "H6byn4ewuo-T",
        "outputId": "d0320081-63de-4966-e008-99448ff9e8f1"
      },
      "outputs": [
        {
          "output_type": "stream",
          "name": "stdout",
          "text": [
            "\u001b[1mThe random forest model score from scaled test data is 99.25%\u001b[0m\n"
          ]
        }
      ],
      "source": [
        "accuracy_score_test_float \\\n",
        "    = random_forest_model.score \\\n",
        "        (x_test_scaled_dataframe, y_test_series) * 100\n",
        "\n",
        "logx.print_and_log_text \\\n",
        "    ('\\033[1m'\n",
        "     + 'The random forest model score from scaled test data is {:.2f}%' \\\n",
        "         .format(accuracy_score_test_float)\n",
        "     + '\\033[0m')"
      ]
    },
    {
      "cell_type": "markdown",
      "id": "hLD6u9Tguo-T",
      "metadata": {
        "id": "hLD6u9Tguo-T"
      },
      "source": [
        "### **Random Undersampling**"
      ]
    },
    {
      "cell_type": "code",
      "execution_count": 105,
      "id": "I1pR6s6Zuo-T",
      "metadata": {
        "colab": {
          "base_uri": "https://localhost:8080/"
        },
        "id": "I1pR6s6Zuo-T",
        "outputId": "e4bff7e2-f153-4ebf-f68f-00f79fd8e171"
      },
      "outputs": [
        {
          "output_type": "stream",
          "name": "stdout",
          "text": [
            "\u001b[1mThe random forest model score from undersampled scaled training data is 99.10%\u001b[0m\n"
          ]
        }
      ],
      "source": [
        "accuracy_score_train_float \\\n",
        "    = random_forest_undersampled_model.score \\\n",
        "        (x_train_scaled_dataframe, y_train_series) * 100\n",
        "\n",
        "logx.print_and_log_text \\\n",
        "    ('\\033[1m'\n",
        "     + 'The random forest model score from undersampled scaled training data is {:.2f}%' \\\n",
        "         .format(accuracy_score_train_float)\n",
        "     + '\\033[0m')"
      ]
    },
    {
      "cell_type": "code",
      "execution_count": 106,
      "id": "eZD8XG8Auo-T",
      "metadata": {
        "colab": {
          "base_uri": "https://localhost:8080/"
        },
        "id": "eZD8XG8Auo-T",
        "outputId": "22f771cf-7043-4da6-8aa4-38975e49ca28"
      },
      "outputs": [
        {
          "output_type": "stream",
          "name": "stdout",
          "text": [
            "\u001b[1mThe random forest model score from undersampled scaled test data is 99.25%\u001b[0m\n"
          ]
        }
      ],
      "source": [
        "accuracy_score_test_float \\\n",
        "    = random_forest_undersampled_model.score \\\n",
        "        (x_test_scaled_dataframe, y_test_series) * 100\n",
        "\n",
        "logx.print_and_log_text \\\n",
        "    ('\\033[1m'\n",
        "     + 'The random forest model score from undersampled scaled test data is {:.2f}%' \\\n",
        "         .format(accuracy_score_test_float)\n",
        "     + '\\033[0m')"
      ]
    },
    {
      "cell_type": "markdown",
      "id": "_ckuQWw1uo-T",
      "metadata": {
        "id": "_ckuQWw1uo-T"
      },
      "source": [
        "### **Random Oversampling**"
      ]
    },
    {
      "cell_type": "code",
      "execution_count": 107,
      "id": "U6iRihWjuo-T",
      "metadata": {
        "colab": {
          "base_uri": "https://localhost:8080/"
        },
        "id": "U6iRihWjuo-T",
        "outputId": "5280b474-ddaf-425a-cd24-919a159c03e1"
      },
      "outputs": [
        {
          "output_type": "stream",
          "name": "stdout",
          "text": [
            "\u001b[1mThe random forest model score from overersampled scaled training data is 99.57%\u001b[0m\n"
          ]
        }
      ],
      "source": [
        "accuracy_score_train_float \\\n",
        "    = random_forest_oversampled_model.score \\\n",
        "        (x_train_scaled_dataframe, y_train_series) * 100\n",
        "\n",
        "logx.print_and_log_text \\\n",
        "    ('\\033[1m'\n",
        "     + 'The random forest model score from overersampled scaled training data is {:.2f}%' \\\n",
        "         .format(accuracy_score_train_float)\n",
        "     + '\\033[0m')"
      ]
    },
    {
      "cell_type": "code",
      "execution_count": 108,
      "id": "an2jpJTguo-T",
      "metadata": {
        "colab": {
          "base_uri": "https://localhost:8080/"
        },
        "id": "an2jpJTguo-T",
        "outputId": "504a0f13-fbdd-4705-f0eb-e0d3ddcac019"
      },
      "outputs": [
        {
          "output_type": "stream",
          "name": "stdout",
          "text": [
            "\u001b[1mThe random forest model score from oversampled scaled test data is 99.15%\u001b[0m\n"
          ]
        }
      ],
      "source": [
        "accuracy_score_test_float \\\n",
        "    = random_forest_oversampled_model.score \\\n",
        "        (x_test_scaled_dataframe, y_test_series) * 100\n",
        "\n",
        "logx.print_and_log_text \\\n",
        "    ('\\033[1m'\n",
        "     + 'The random forest model score from oversampled scaled test data is {:.2f}%' \\\n",
        "         .format(accuracy_score_test_float)\n",
        "     + '\\033[0m')"
      ]
    },
    {
      "cell_type": "markdown",
      "id": "ZJeiz24quo-U",
      "metadata": {
        "id": "ZJeiz24quo-U"
      },
      "source": [
        "### **Cluster Centroids**"
      ]
    },
    {
      "cell_type": "code",
      "execution_count": 109,
      "id": "i_8glK0cuo-U",
      "metadata": {
        "colab": {
          "base_uri": "https://localhost:8080/"
        },
        "id": "i_8glK0cuo-U",
        "outputId": "37b9de47-c095-45cd-a6db-a0873123edd4"
      },
      "outputs": [
        {
          "output_type": "stream",
          "name": "stdout",
          "text": [
            "\u001b[1mThe random forest model score from cluster centroids scaled training data is 99.43%\u001b[0m\n"
          ]
        }
      ],
      "source": [
        "accuracy_score_train_float \\\n",
        "    = random_forest_cluster_centroids_model.score \\\n",
        "        (x_train_scaled_dataframe, y_train_series) * 100\n",
        "\n",
        "logx.print_and_log_text \\\n",
        "    ('\\033[1m'\n",
        "     + 'The random forest model score from cluster centroids scaled training data is {:.2f}%' \\\n",
        "         .format(accuracy_score_train_float)\n",
        "     + '\\033[0m')"
      ]
    },
    {
      "cell_type": "code",
      "execution_count": 110,
      "id": "9NggQpMNuo-U",
      "metadata": {
        "colab": {
          "base_uri": "https://localhost:8080/"
        },
        "id": "9NggQpMNuo-U",
        "outputId": "a19ce595-7a38-427d-fc7f-e66354f96eb1"
      },
      "outputs": [
        {
          "output_type": "stream",
          "name": "stdout",
          "text": [
            "\u001b[1mThe random forest model score from cluster centroids scaled test data is 99.10%\u001b[0m\n"
          ]
        }
      ],
      "source": [
        "accuracy_score_test_float \\\n",
        "    = random_forest_cluster_centroids_model.score \\\n",
        "        (x_test_scaled_dataframe, y_test_series) * 100\n",
        "\n",
        "logx.print_and_log_text \\\n",
        "    ('\\033[1m'\n",
        "     + 'The random forest model score from cluster centroids scaled test data is {:.2f}%' \\\n",
        "         .format(accuracy_score_test_float)\n",
        "     + '\\033[0m')"
      ]
    },
    {
      "cell_type": "markdown",
      "id": "kgOzLLiwuo-U",
      "metadata": {
        "id": "kgOzLLiwuo-U"
      },
      "source": [
        "### **SMOTE**"
      ]
    },
    {
      "cell_type": "code",
      "execution_count": 111,
      "id": "DFOvKGanuo-U",
      "metadata": {
        "colab": {
          "base_uri": "https://localhost:8080/"
        },
        "id": "DFOvKGanuo-U",
        "outputId": "05b28a0d-0b70-48a2-c4ae-ac31cd0a09d2"
      },
      "outputs": [
        {
          "output_type": "stream",
          "name": "stdout",
          "text": [
            "\u001b[1mThe random forest model score from SMOTE scaled training data is 99.75%\u001b[0m\n"
          ]
        }
      ],
      "source": [
        "accuracy_score_train_float \\\n",
        "    = random_forest_SMOTE_model.score \\\n",
        "        (x_train_scaled_dataframe, y_train_series) * 100\n",
        "\n",
        "logx.print_and_log_text \\\n",
        "    ('\\033[1m'\n",
        "     + 'The random forest model score from SMOTE scaled training data is {:.2f}%' \\\n",
        "         .format(accuracy_score_train_float)\n",
        "     + '\\033[0m')"
      ]
    },
    {
      "cell_type": "code",
      "execution_count": 112,
      "id": "Njs8pOInuo-U",
      "metadata": {
        "colab": {
          "base_uri": "https://localhost:8080/"
        },
        "id": "Njs8pOInuo-U",
        "outputId": "db887a33-c134-477c-9b74-348d6fec0077"
      },
      "outputs": [
        {
          "output_type": "stream",
          "name": "stdout",
          "text": [
            "\u001b[1mThe random forest model score from SMOTE scaled test data is 74.56%\u001b[0m\n"
          ]
        }
      ],
      "source": [
        "accuracy_score_test_float \\\n",
        "    = random_forest_SMOTE_model.score \\\n",
        "        (x_test_scaled_dataframe, y_test_series) * 100\n",
        "\n",
        "logx.print_and_log_text \\\n",
        "    ('\\033[1m'\n",
        "     + 'The random forest model score from SMOTE scaled test data is {:.2f}%' \\\n",
        "         .format(accuracy_score_test_float)\n",
        "     + '\\033[0m')"
      ]
    },
    {
      "cell_type": "markdown",
      "id": "bIroYFn_uo-U",
      "metadata": {
        "id": "bIroYFn_uo-U"
      },
      "source": [
        "### **SMOTEENN**"
      ]
    },
    {
      "cell_type": "code",
      "execution_count": 113,
      "id": "dgPickJKuo-U",
      "metadata": {
        "colab": {
          "base_uri": "https://localhost:8080/"
        },
        "id": "dgPickJKuo-U",
        "outputId": "44897203-b17d-4539-d5fd-3d2cdbf4b52b"
      },
      "outputs": [
        {
          "output_type": "stream",
          "name": "stdout",
          "text": [
            "\u001b[1mThe random forest model score from SMOTEENN scaled training data is 99.47%\u001b[0m\n"
          ]
        }
      ],
      "source": [
        "accuracy_score_train_float \\\n",
        "    = random_forest_SMOTEENN_model.score \\\n",
        "        (x_train_scaled_dataframe, y_train_series) * 100\n",
        "\n",
        "logx.print_and_log_text \\\n",
        "    ('\\033[1m'\n",
        "     + 'The random forest model score from SMOTEENN scaled training data is {:.2f}%' \\\n",
        "         .format(accuracy_score_train_float)\n",
        "     + '\\033[0m')"
      ]
    },
    {
      "cell_type": "code",
      "execution_count": 114,
      "id": "H6fqCVBTuo-U",
      "metadata": {
        "colab": {
          "base_uri": "https://localhost:8080/"
        },
        "id": "H6fqCVBTuo-U",
        "outputId": "ff8e803f-532c-4e3c-94ed-5e7569908c8f"
      },
      "outputs": [
        {
          "output_type": "stream",
          "name": "stdout",
          "text": [
            "\u001b[1mThe random forest model score from SMOTEENN scaled test data is 90.09%\u001b[0m\n"
          ]
        }
      ],
      "source": [
        "accuracy_score_test_float \\\n",
        "    = random_forest_SMOTEENN_model.score \\\n",
        "        (x_test_scaled_dataframe, y_test_series) * 100\n",
        "\n",
        "logx.print_and_log_text \\\n",
        "    ('\\033[1m'\n",
        "     + 'The random forest model score from SMOTEENN scaled test data is {:.2f}%' \\\n",
        "         .format(accuracy_score_test_float)\n",
        "     + '\\033[0m')"
      ]
    },
    {
      "cell_type": "markdown",
      "id": "lblpovmOuo-U",
      "metadata": {
        "id": "lblpovmOuo-U"
      },
      "source": [
        "## **5.3: Calculate Training and Test Predictions.**"
      ]
    },
    {
      "cell_type": "markdown",
      "id": "SWnhAbKYuo-V",
      "metadata": {
        "id": "SWnhAbKYuo-V"
      },
      "source": [
        "### **Original**"
      ]
    },
    {
      "cell_type": "code",
      "execution_count": 115,
      "id": "A6SHZTmnuo-V",
      "metadata": {
        "id": "A6SHZTmnuo-V"
      },
      "outputs": [],
      "source": [
        "rf_train_predictions_dataframe \\\n",
        "    = classificationsx.return_predictions_dataframe \\\n",
        "        (random_forest_model,\n",
        "         x_train_scaled_dataframe,\n",
        "         y_train_series)\n",
        "\n",
        "logx.log_write_object(rf_train_predictions_dataframe)"
      ]
    },
    {
      "cell_type": "code",
      "execution_count": 116,
      "id": "CMU6xmwguo-V",
      "metadata": {
        "id": "CMU6xmwguo-V"
      },
      "outputs": [],
      "source": [
        "rf_test_predictions_dataframe \\\n",
        "    = classificationsx.return_predictions_dataframe \\\n",
        "        (random_forest_model,\n",
        "         x_test_scaled_dataframe,\n",
        "         y_test_series)\n",
        "\n",
        "logx.log_write_object(rf_test_predictions_dataframe)"
      ]
    },
    {
      "cell_type": "markdown",
      "id": "KiX5jid3uo-V",
      "metadata": {
        "id": "KiX5jid3uo-V"
      },
      "source": [
        "### **Random Undersampling**"
      ]
    },
    {
      "cell_type": "code",
      "execution_count": 117,
      "id": "KiLCcY_puo-V",
      "metadata": {
        "id": "KiLCcY_puo-V"
      },
      "outputs": [],
      "source": [
        "rf_train_undersampled_predictions_dataframe \\\n",
        "    = classificationsx.return_predictions_dataframe \\\n",
        "        (random_forest_undersampled_model,\n",
        "         x_train_scaled_dataframe,\n",
        "         y_train_series)\n",
        "\n",
        "logx.log_write_object(rf_train_undersampled_predictions_dataframe)"
      ]
    },
    {
      "cell_type": "code",
      "execution_count": 118,
      "id": "yJPMHNs3uo-V",
      "metadata": {
        "id": "yJPMHNs3uo-V"
      },
      "outputs": [],
      "source": [
        "rf_test_undersampled_predictions_dataframe \\\n",
        "    = classificationsx.return_predictions_dataframe \\\n",
        "        (random_forest_undersampled_model,\n",
        "         x_test_scaled_dataframe,\n",
        "         y_test_series)\n",
        "\n",
        "logx.log_write_object(rf_test_undersampled_predictions_dataframe)"
      ]
    },
    {
      "cell_type": "markdown",
      "id": "vCHcXo-luo-V",
      "metadata": {
        "id": "vCHcXo-luo-V"
      },
      "source": [
        "### **Random Oversampling**"
      ]
    },
    {
      "cell_type": "code",
      "execution_count": 119,
      "id": "6SyBWLTCuo-V",
      "metadata": {
        "id": "6SyBWLTCuo-V"
      },
      "outputs": [],
      "source": [
        "rf_train_oversampled_predictions_dataframe \\\n",
        "    = classificationsx.return_predictions_dataframe \\\n",
        "        (random_forest_oversampled_model,\n",
        "         x_train_scaled_dataframe,\n",
        "         y_train_series)\n",
        "\n",
        "logx.log_write_object(rf_train_oversampled_predictions_dataframe)"
      ]
    },
    {
      "cell_type": "code",
      "execution_count": 120,
      "id": "bq24fSPauo-W",
      "metadata": {
        "id": "bq24fSPauo-W"
      },
      "outputs": [],
      "source": [
        "rf_test_oversampled_predictions_dataframe \\\n",
        "    = classificationsx.return_predictions_dataframe \\\n",
        "        (random_forest_oversampled_model,\n",
        "         x_test_scaled_dataframe,\n",
        "         y_test_series)\n",
        "\n",
        "logx.log_write_object(rf_test_oversampled_predictions_dataframe)"
      ]
    },
    {
      "cell_type": "markdown",
      "id": "L32EFj6Kuo-W",
      "metadata": {
        "id": "L32EFj6Kuo-W"
      },
      "source": [
        "### **Cluster Centroids**"
      ]
    },
    {
      "cell_type": "code",
      "execution_count": 121,
      "id": "OPSeuru5uo-W",
      "metadata": {
        "id": "OPSeuru5uo-W"
      },
      "outputs": [],
      "source": [
        "rf_train_cluster_centroids_predictions_dataframe \\\n",
        "    = classificationsx.return_predictions_dataframe \\\n",
        "        (random_forest_cluster_centroids_model,\n",
        "         x_train_scaled_dataframe,\n",
        "         y_train_series)\n",
        "\n",
        "logx.log_write_object(rf_train_cluster_centroids_predictions_dataframe)"
      ]
    },
    {
      "cell_type": "code",
      "execution_count": 122,
      "id": "WFiW_jUwuo-W",
      "metadata": {
        "id": "WFiW_jUwuo-W"
      },
      "outputs": [],
      "source": [
        "rf_test_cluster_centroids_predictions_dataframe \\\n",
        "    = classificationsx.return_predictions_dataframe \\\n",
        "        (random_forest_cluster_centroids_model,\n",
        "         x_test_scaled_dataframe,\n",
        "         y_test_series)\n",
        "\n",
        "logx.log_write_object(rf_test_cluster_centroids_predictions_dataframe)"
      ]
    },
    {
      "cell_type": "markdown",
      "id": "O0wAjc-2uo-W",
      "metadata": {
        "id": "O0wAjc-2uo-W"
      },
      "source": [
        "### **SMOTE**"
      ]
    },
    {
      "cell_type": "code",
      "execution_count": 123,
      "id": "vxFq9UsCuo-W",
      "metadata": {
        "id": "vxFq9UsCuo-W"
      },
      "outputs": [],
      "source": [
        "rf_train_SMOTE_predictions_dataframe \\\n",
        "    = classificationsx.return_predictions_dataframe \\\n",
        "        (random_forest_SMOTE_model,\n",
        "         x_train_scaled_dataframe,\n",
        "         y_train_series)\n",
        "\n",
        "logx.log_write_object(rf_train_SMOTE_predictions_dataframe)"
      ]
    },
    {
      "cell_type": "code",
      "execution_count": 124,
      "id": "FNCqtdAfuo-W",
      "metadata": {
        "id": "FNCqtdAfuo-W"
      },
      "outputs": [],
      "source": [
        "rf_test_SMOTE_predictions_dataframe \\\n",
        "    = classificationsx.return_predictions_dataframe \\\n",
        "        (random_forest_SMOTE_model,\n",
        "         x_test_scaled_dataframe,\n",
        "         y_test_series)\n",
        "\n",
        "logx.log_write_object(rf_test_SMOTE_predictions_dataframe)"
      ]
    },
    {
      "cell_type": "markdown",
      "id": "_3AVcA0Quo-W",
      "metadata": {
        "id": "_3AVcA0Quo-W"
      },
      "source": [
        "### **SMOTEENN**"
      ]
    },
    {
      "cell_type": "code",
      "execution_count": 125,
      "id": "kh8MN9oSuo-W",
      "metadata": {
        "id": "kh8MN9oSuo-W"
      },
      "outputs": [],
      "source": [
        "rf_train_SMOTEENN_predictions_dataframe \\\n",
        "    = classificationsx.return_predictions_dataframe \\\n",
        "        (random_forest_SMOTEENN_model,\n",
        "         x_train_scaled_dataframe,\n",
        "         y_train_series)\n",
        "\n",
        "logx.log_write_object(rf_train_SMOTEENN_predictions_dataframe)"
      ]
    },
    {
      "cell_type": "code",
      "execution_count": 126,
      "id": "tCCxkM2zuo-W",
      "metadata": {
        "id": "tCCxkM2zuo-W"
      },
      "outputs": [],
      "source": [
        "rf_test_SMOTEENN_predictions_dataframe \\\n",
        "    = classificationsx.return_predictions_dataframe \\\n",
        "        (random_forest_SMOTE_model,\n",
        "         x_test_scaled_dataframe,\n",
        "         y_test_series)\n",
        "\n",
        "logx.log_write_object(rf_test_SMOTEENN_predictions_dataframe)"
      ]
    },
    {
      "cell_type": "markdown",
      "id": "LMaWYjVLuo-W",
      "metadata": {
        "id": "LMaWYjVLuo-W"
      },
      "source": [
        "# <br> **Section 6: Support Vector Machine (SVM) Models**"
      ]
    },
    {
      "cell_type": "markdown",
      "id": "ES6hmH9vuo-W",
      "metadata": {
        "id": "ES6hmH9vuo-W"
      },
      "source": [
        "## **6.1: Fit Models by Using the Scaled Training Data.**"
      ]
    },
    {
      "cell_type": "markdown",
      "id": "aip0LjH8uo-X",
      "metadata": {
        "id": "aip0LjH8uo-X"
      },
      "source": [
        "### **Original**"
      ]
    },
    {
      "cell_type": "code",
      "execution_count": 127,
      "id": "wrYBFgkquo-X",
      "metadata": {
        "id": "wrYBFgkquo-X"
      },
      "outputs": [],
      "source": [
        "svm_model \\\n",
        "    = SVC \\\n",
        "        (probability = credit_risk_constants.CONSTANT_ML_SVM_PROBABILITY,\n",
        "         random_state = credit_risk_constants.CONSTANT_ML_RANDOM_STATE_1) \\\n",
        "            .fit(x_train_scaled_dataframe, y_train_series)"
      ]
    },
    {
      "cell_type": "markdown",
      "id": "pfJdTdKCuo-X",
      "metadata": {
        "id": "pfJdTdKCuo-X"
      },
      "source": [
        "### **Random Undersampling**"
      ]
    },
    {
      "cell_type": "code",
      "execution_count": 128,
      "id": "xWLPIOf_uo-X",
      "metadata": {
        "id": "xWLPIOf_uo-X"
      },
      "outputs": [],
      "source": [
        "svm_undersampled_model \\\n",
        "    = SVC \\\n",
        "        (probability = credit_risk_constants.CONSTANT_ML_SVM_PROBABILITY,\n",
        "         random_state = credit_risk_constants.CONSTANT_ML_RANDOM_STATE_1) \\\n",
        "            .fit(x_train_scaled_undersampled_dataframe, y_train_undersampled_series)"
      ]
    },
    {
      "cell_type": "markdown",
      "id": "tVwwvIbIuo-X",
      "metadata": {
        "id": "tVwwvIbIuo-X"
      },
      "source": [
        "### **Random Oversampling**"
      ]
    },
    {
      "cell_type": "code",
      "execution_count": 129,
      "id": "rsROHaiyuo-X",
      "metadata": {
        "id": "rsROHaiyuo-X"
      },
      "outputs": [],
      "source": [
        "svm_oversampled_model \\\n",
        "    = SVC \\\n",
        "        (probability = credit_risk_constants.CONSTANT_ML_SVM_PROBABILITY,\n",
        "         random_state = credit_risk_constants.CONSTANT_ML_RANDOM_STATE_1) \\\n",
        "            .fit(x_train_scaled_oversampled_dataframe, y_train_oversampled_series)"
      ]
    },
    {
      "cell_type": "markdown",
      "id": "YZ8jInsIuo-X",
      "metadata": {
        "id": "YZ8jInsIuo-X"
      },
      "source": [
        "### **Cluster Centroids**"
      ]
    },
    {
      "cell_type": "code",
      "execution_count": 130,
      "id": "G7umKkrUuo-X",
      "metadata": {
        "id": "G7umKkrUuo-X"
      },
      "outputs": [],
      "source": [
        "svm_cluster_centroids_model \\\n",
        "    = SVC \\\n",
        "        (probability = credit_risk_constants.CONSTANT_ML_SVM_PROBABILITY,\n",
        "         random_state = credit_risk_constants.CONSTANT_ML_RANDOM_STATE_1) \\\n",
        "            .fit(x_train_scaled_cluster_centroids_dataframe, y_train_cluster_centroids_series)"
      ]
    },
    {
      "cell_type": "markdown",
      "id": "eQbA4R7huo-X",
      "metadata": {
        "id": "eQbA4R7huo-X"
      },
      "source": [
        "### **SMOTE**"
      ]
    },
    {
      "cell_type": "code",
      "execution_count": 131,
      "id": "rBuxJJ9Xuo-X",
      "metadata": {
        "id": "rBuxJJ9Xuo-X"
      },
      "outputs": [],
      "source": [
        "svm_SMOTE_model \\\n",
        "    = SVC \\\n",
        "        (probability = credit_risk_constants.CONSTANT_ML_SVM_PROBABILITY,\n",
        "         random_state = credit_risk_constants.CONSTANT_ML_RANDOM_STATE_1) \\\n",
        "            .fit(x_train_scaled_SMOTE_dataframe, y_train_SMOTE_series)"
      ]
    },
    {
      "cell_type": "markdown",
      "id": "WebvVNPJuo-X",
      "metadata": {
        "id": "WebvVNPJuo-X"
      },
      "source": [
        "### **SMOTEENN**"
      ]
    },
    {
      "cell_type": "code",
      "execution_count": 132,
      "id": "mIl5KzW8uo-Y",
      "metadata": {
        "id": "mIl5KzW8uo-Y"
      },
      "outputs": [],
      "source": [
        "svm_SMOTEENN_model \\\n",
        "    = SVC \\\n",
        "        (probability = credit_risk_constants.CONSTANT_ML_SVM_PROBABILITY,\n",
        "         random_state = credit_risk_constants.CONSTANT_ML_RANDOM_STATE_1) \\\n",
        "            .fit(x_train_scaled_SMOTEENN_dataframe, y_train_SMOTEENN_series)"
      ]
    },
    {
      "cell_type": "markdown",
      "id": "1udzJ12Ruo-Y",
      "metadata": {
        "id": "1udzJ12Ruo-Y"
      },
      "source": [
        "## **6.2: Display the Model Scores Using the Scaled Training and Testing Data**"
      ]
    },
    {
      "cell_type": "markdown",
      "id": "6V8fyJbNuo-Y",
      "metadata": {
        "id": "6V8fyJbNuo-Y"
      },
      "source": [
        "### **Original**"
      ]
    },
    {
      "cell_type": "code",
      "execution_count": 133,
      "id": "43WF2hPHuo-Y",
      "metadata": {
        "colab": {
          "base_uri": "https://localhost:8080/"
        },
        "id": "43WF2hPHuo-Y",
        "outputId": "a0483cbd-24dd-44ce-e03c-90b5b09a0f93"
      },
      "outputs": [
        {
          "output_type": "stream",
          "name": "stdout",
          "text": [
            "\u001b[1mThe svm model score from scaled training data is 99.47%\u001b[0m\n"
          ]
        }
      ],
      "source": [
        "accuracy_score_train_float \\\n",
        "    = svm_model.score \\\n",
        "        (x_train_scaled_dataframe, y_train_series) * 100\n",
        "\n",
        "logx.print_and_log_text \\\n",
        "    ('\\033[1m'\n",
        "     + 'The svm model score from scaled training data is {:.2f}%' \\\n",
        "         .format(accuracy_score_train_float)\n",
        "     + '\\033[0m')"
      ]
    },
    {
      "cell_type": "code",
      "execution_count": 134,
      "id": "bnEUpUpFuo-Y",
      "metadata": {
        "colab": {
          "base_uri": "https://localhost:8080/"
        },
        "id": "bnEUpUpFuo-Y",
        "outputId": "65c02a58-c322-4bb1-ee08-8e7a9c4c8062"
      },
      "outputs": [
        {
          "output_type": "stream",
          "name": "stdout",
          "text": [
            "\u001b[1mThe svm model score from scaled test data is 99.37%\u001b[0m\n"
          ]
        }
      ],
      "source": [
        "accuracy_score_test_float \\\n",
        "    = svm_model.score \\\n",
        "        (x_test_scaled_dataframe, y_test_series) * 100\n",
        "\n",
        "logx.print_and_log_text \\\n",
        "    ('\\033[1m'\n",
        "     + 'The svm model score from scaled test data is {:.2f}%' \\\n",
        "         .format(accuracy_score_test_float)\n",
        "     + '\\033[0m')"
      ]
    },
    {
      "cell_type": "markdown",
      "id": "5PGQwmlFuo-Y",
      "metadata": {
        "id": "5PGQwmlFuo-Y"
      },
      "source": [
        "### **Random Undersampling**"
      ]
    },
    {
      "cell_type": "code",
      "execution_count": 135,
      "id": "4RxUzbX6uo-Y",
      "metadata": {
        "colab": {
          "base_uri": "https://localhost:8080/"
        },
        "id": "4RxUzbX6uo-Y",
        "outputId": "5b96cd13-d84b-4a61-ec83-ea7aa70db0f8"
      },
      "outputs": [
        {
          "output_type": "stream",
          "name": "stdout",
          "text": [
            "\u001b[1mThe svm model score from undersampled scaled training data is 99.45%\u001b[0m\n"
          ]
        }
      ],
      "source": [
        "accuracy_score_train_float \\\n",
        "    = svm_undersampled_model.score \\\n",
        "        (x_train_scaled_dataframe, y_train_series) * 100\n",
        "\n",
        "logx.print_and_log_text \\\n",
        "    ('\\033[1m'\n",
        "     + 'The svm model score from undersampled scaled training data is {:.2f}%' \\\n",
        "         .format(accuracy_score_train_float)\n",
        "     + '\\033[0m')"
      ]
    },
    {
      "cell_type": "code",
      "execution_count": 136,
      "id": "5ulUNK3luo-Y",
      "metadata": {
        "colab": {
          "base_uri": "https://localhost:8080/"
        },
        "id": "5ulUNK3luo-Y",
        "outputId": "3edfbea8-3630-4c6a-fc29-19e169045a5a"
      },
      "outputs": [
        {
          "output_type": "stream",
          "name": "stdout",
          "text": [
            "\u001b[1mThe svm model score from undersampled scaled test data is 99.35%\u001b[0m\n"
          ]
        }
      ],
      "source": [
        "accuracy_score_test_float \\\n",
        "    = svm_undersampled_model.score \\\n",
        "        (x_test_scaled_dataframe, y_test_series) * 100\n",
        "\n",
        "logx.print_and_log_text \\\n",
        "    ('\\033[1m'\n",
        "     + 'The svm model score from undersampled scaled test data is {:.2f}%' \\\n",
        "         .format(accuracy_score_test_float)\n",
        "     + '\\033[0m')"
      ]
    },
    {
      "cell_type": "markdown",
      "id": "h3s8pXVKuo-Y",
      "metadata": {
        "id": "h3s8pXVKuo-Y"
      },
      "source": [
        "### **Random Oversampling**"
      ]
    },
    {
      "cell_type": "code",
      "execution_count": 137,
      "id": "AxjpOFjFuo-Y",
      "metadata": {
        "colab": {
          "base_uri": "https://localhost:8080/"
        },
        "id": "AxjpOFjFuo-Y",
        "outputId": "d69cd055-1588-4b96-867d-e38e254c9b72"
      },
      "outputs": [
        {
          "output_type": "stream",
          "name": "stdout",
          "text": [
            "\u001b[1mThe svm model score from overersampled scaled training data is 99.45%\u001b[0m\n"
          ]
        }
      ],
      "source": [
        "accuracy_score_train_float \\\n",
        "    = svm_oversampled_model.score \\\n",
        "        (x_train_scaled_dataframe, y_train_series) * 100\n",
        "\n",
        "logx.print_and_log_text \\\n",
        "    ('\\033[1m'\n",
        "     + 'The svm model score from overersampled scaled training data is {:.2f}%' \\\n",
        "         .format(accuracy_score_train_float)\n",
        "     + '\\033[0m')"
      ]
    },
    {
      "cell_type": "code",
      "execution_count": 138,
      "id": "i7Wsk3IMuo-Y",
      "metadata": {
        "colab": {
          "base_uri": "https://localhost:8080/"
        },
        "id": "i7Wsk3IMuo-Y",
        "outputId": "0ba3c0e0-b60c-4863-af12-24bfdd02335e"
      },
      "outputs": [
        {
          "output_type": "stream",
          "name": "stdout",
          "text": [
            "\u001b[1mThe svm model score from oversampled scaled test data is 99.34%\u001b[0m\n"
          ]
        }
      ],
      "source": [
        "accuracy_score_test_float \\\n",
        "    = svm_oversampled_model.score \\\n",
        "        (x_test_scaled_dataframe, y_test_series) * 100\n",
        "\n",
        "logx.print_and_log_text \\\n",
        "    ('\\033[1m'\n",
        "     + 'The svm model score from oversampled scaled test data is {:.2f}%' \\\n",
        "         .format(accuracy_score_test_float)\n",
        "     + '\\033[0m')"
      ]
    },
    {
      "cell_type": "markdown",
      "id": "SIQN4tiIuo-Z",
      "metadata": {
        "id": "SIQN4tiIuo-Z"
      },
      "source": [
        "### **Cluster Centroids**"
      ]
    },
    {
      "cell_type": "code",
      "execution_count": 139,
      "id": "IJ0ANXWluo-Z",
      "metadata": {
        "colab": {
          "base_uri": "https://localhost:8080/"
        },
        "id": "IJ0ANXWluo-Z",
        "outputId": "cf6f8e4e-10e8-4055-886a-ce4ccf201bca"
      },
      "outputs": [
        {
          "output_type": "stream",
          "name": "stdout",
          "text": [
            "\u001b[1mThe svm model score from cluster centroids scaled training data is 99.44%\u001b[0m\n"
          ]
        }
      ],
      "source": [
        "accuracy_score_train_float \\\n",
        "    = svm_cluster_centroids_model.score \\\n",
        "        (x_train_scaled_dataframe, y_train_series) * 100\n",
        "\n",
        "logx.print_and_log_text \\\n",
        "    ('\\033[1m'\n",
        "     + 'The svm model score from cluster centroids scaled training data is {:.2f}%' \\\n",
        "         .format(accuracy_score_train_float)\n",
        "     + '\\033[0m')"
      ]
    },
    {
      "cell_type": "code",
      "execution_count": 140,
      "id": "-Eko5EJIuo-Z",
      "metadata": {
        "colab": {
          "base_uri": "https://localhost:8080/"
        },
        "id": "-Eko5EJIuo-Z",
        "outputId": "62ca807b-571e-4b72-a084-da15505cf7fa"
      },
      "outputs": [
        {
          "output_type": "stream",
          "name": "stdout",
          "text": [
            "\u001b[1mThe svm model score from cluster centroids scaled test data is 99.33%\u001b[0m\n"
          ]
        }
      ],
      "source": [
        "accuracy_score_test_float \\\n",
        "    = svm_cluster_centroids_model.score \\\n",
        "        (x_test_scaled_dataframe, y_test_series) * 100\n",
        "\n",
        "logx.print_and_log_text \\\n",
        "    ('\\033[1m'\n",
        "     + 'The svm model score from cluster centroids scaled test data is {:.2f}%' \\\n",
        "         .format(accuracy_score_test_float)\n",
        "     + '\\033[0m')"
      ]
    },
    {
      "cell_type": "markdown",
      "id": "t3d4D8uNuo-Z",
      "metadata": {
        "id": "t3d4D8uNuo-Z"
      },
      "source": [
        "### **SMOTE**"
      ]
    },
    {
      "cell_type": "code",
      "execution_count": 141,
      "id": "8FqPEkTZuo-Z",
      "metadata": {
        "colab": {
          "base_uri": "https://localhost:8080/"
        },
        "id": "8FqPEkTZuo-Z",
        "outputId": "64050d5f-6032-48d7-a9dc-a2055b8860d4"
      },
      "outputs": [
        {
          "output_type": "stream",
          "name": "stdout",
          "text": [
            "\u001b[1mThe svm model score from SMOTE scaled training data is 99.44%\u001b[0m\n"
          ]
        }
      ],
      "source": [
        "accuracy_score_train_float \\\n",
        "    = svm_SMOTE_model.score \\\n",
        "        (x_train_scaled_dataframe, y_train_series) * 100\n",
        "\n",
        "logx.print_and_log_text \\\n",
        "    ('\\033[1m'\n",
        "     + 'The svm model score from SMOTE scaled training data is {:.2f}%' \\\n",
        "         .format(accuracy_score_train_float)\n",
        "     + '\\033[0m')"
      ]
    },
    {
      "cell_type": "code",
      "execution_count": 142,
      "id": "2EgHe_O8uo-Z",
      "metadata": {
        "colab": {
          "base_uri": "https://localhost:8080/"
        },
        "id": "2EgHe_O8uo-Z",
        "outputId": "7c45c754-b3c8-4b15-84e3-f5f712df4166"
      },
      "outputs": [
        {
          "output_type": "stream",
          "name": "stdout",
          "text": [
            "\u001b[1mThe svm model score from SMOTE scaled test data is 99.34%\u001b[0m\n"
          ]
        }
      ],
      "source": [
        "accuracy_score_test_float \\\n",
        "    = svm_SMOTE_model.score \\\n",
        "        (x_test_scaled_dataframe, y_test_series) * 100\n",
        "\n",
        "logx.print_and_log_text \\\n",
        "    ('\\033[1m'\n",
        "     + 'The svm model score from SMOTE scaled test data is {:.2f}%' \\\n",
        "         .format(accuracy_score_test_float)\n",
        "     + '\\033[0m')"
      ]
    },
    {
      "cell_type": "markdown",
      "id": "Pp-lqiIjuo-Z",
      "metadata": {
        "id": "Pp-lqiIjuo-Z"
      },
      "source": [
        "### **SMOTEENN**"
      ]
    },
    {
      "cell_type": "code",
      "execution_count": 143,
      "id": "M2a_-qIZuo-Z",
      "metadata": {
        "colab": {
          "base_uri": "https://localhost:8080/"
        },
        "id": "M2a_-qIZuo-Z",
        "outputId": "e023e067-f313-481d-9ff0-53093511e7bb"
      },
      "outputs": [
        {
          "output_type": "stream",
          "name": "stdout",
          "text": [
            "\u001b[1mThe svm model score from SMOTEENN scaled training data is 99.46%\u001b[0m\n"
          ]
        }
      ],
      "source": [
        "accuracy_score_train_float \\\n",
        "    = svm_SMOTEENN_model.score \\\n",
        "        (x_train_scaled_dataframe, y_train_series) * 100\n",
        "\n",
        "logx.print_and_log_text \\\n",
        "    ('\\033[1m'\n",
        "     + 'The svm model score from SMOTEENN scaled training data is {:.2f}%' \\\n",
        "         .format(accuracy_score_train_float)\n",
        "     + '\\033[0m')"
      ]
    },
    {
      "cell_type": "code",
      "execution_count": 144,
      "id": "5JPgET62uo-Z",
      "metadata": {
        "colab": {
          "base_uri": "https://localhost:8080/"
        },
        "id": "5JPgET62uo-Z",
        "outputId": "6ecca481-62ce-40d4-de8a-c68abfcf76c6"
      },
      "outputs": [
        {
          "output_type": "stream",
          "name": "stdout",
          "text": [
            "\u001b[1mThe svm model score from SMOTEENN scaled test data is 99.36%\u001b[0m\n"
          ]
        }
      ],
      "source": [
        "accuracy_score_test_float \\\n",
        "    = svm_SMOTEENN_model.score \\\n",
        "        (x_test_scaled_dataframe, y_test_series) * 100\n",
        "\n",
        "logx.print_and_log_text \\\n",
        "    ('\\033[1m'\n",
        "     + 'The svm model score from SMOTEENN scaled test data is {:.2f}%' \\\n",
        "         .format(accuracy_score_test_float)\n",
        "     + '\\033[0m')"
      ]
    },
    {
      "cell_type": "markdown",
      "id": "oxI3Xf7ruo-Z",
      "metadata": {
        "id": "oxI3Xf7ruo-Z"
      },
      "source": [
        "## **6.3: Calculate Training and Test Predictions.**"
      ]
    },
    {
      "cell_type": "markdown",
      "id": "xa9Fn9-Nuo-a",
      "metadata": {
        "id": "xa9Fn9-Nuo-a"
      },
      "source": [
        "### **Original**"
      ]
    },
    {
      "cell_type": "code",
      "execution_count": 145,
      "id": "Q8fUkw4ouo-a",
      "metadata": {
        "id": "Q8fUkw4ouo-a"
      },
      "outputs": [],
      "source": [
        "svm_train_predictions_dataframe \\\n",
        "    = classificationsx.return_predictions_dataframe \\\n",
        "        (svm_model,\n",
        "         x_train_scaled_dataframe,\n",
        "         y_train_series)\n",
        "\n",
        "logx.log_write_object(svm_train_predictions_dataframe)"
      ]
    },
    {
      "cell_type": "code",
      "execution_count": 146,
      "id": "o7HoqJreuo-a",
      "metadata": {
        "id": "o7HoqJreuo-a"
      },
      "outputs": [],
      "source": [
        "svm_test_predictions_dataframe \\\n",
        "    = classificationsx.return_predictions_dataframe \\\n",
        "        (svm_model,\n",
        "         x_test_scaled_dataframe,\n",
        "         y_test_series)\n",
        "\n",
        "logx.log_write_object(svm_test_predictions_dataframe)"
      ]
    },
    {
      "cell_type": "markdown",
      "id": "4Y2AcZtFuo-a",
      "metadata": {
        "id": "4Y2AcZtFuo-a"
      },
      "source": [
        "### **Random Undersampling**"
      ]
    },
    {
      "cell_type": "code",
      "execution_count": 147,
      "id": "FWhTeYtYuo-a",
      "metadata": {
        "id": "FWhTeYtYuo-a"
      },
      "outputs": [],
      "source": [
        "svm_train_undersampled_predictions_dataframe \\\n",
        "    = classificationsx.return_predictions_dataframe \\\n",
        "        (svm_undersampled_model,\n",
        "         x_train_scaled_dataframe,\n",
        "         y_train_series)\n",
        "\n",
        "logx.log_write_object(svm_train_undersampled_predictions_dataframe)"
      ]
    },
    {
      "cell_type": "code",
      "execution_count": 148,
      "id": "XmhL6Qbouo-a",
      "metadata": {
        "id": "XmhL6Qbouo-a"
      },
      "outputs": [],
      "source": [
        "svm_test_undersampled_predictions_dataframe \\\n",
        "    = classificationsx.return_predictions_dataframe \\\n",
        "        (svm_undersampled_model,\n",
        "         x_test_scaled_dataframe,\n",
        "         y_test_series)\n",
        "\n",
        "logx.log_write_object(svm_test_undersampled_predictions_dataframe)"
      ]
    },
    {
      "cell_type": "markdown",
      "id": "yaKneWWKuo-a",
      "metadata": {
        "id": "yaKneWWKuo-a"
      },
      "source": [
        "### **Random Oversampling**"
      ]
    },
    {
      "cell_type": "code",
      "execution_count": 149,
      "id": "g4iD2Edsuo-a",
      "metadata": {
        "id": "g4iD2Edsuo-a"
      },
      "outputs": [],
      "source": [
        "svm_train_oversampled_predictions_dataframe \\\n",
        "    = classificationsx.return_predictions_dataframe \\\n",
        "        (svm_oversampled_model,\n",
        "         x_train_scaled_dataframe,\n",
        "         y_train_series)\n",
        "\n",
        "logx.log_write_object(svm_train_oversampled_predictions_dataframe)"
      ]
    },
    {
      "cell_type": "code",
      "execution_count": 150,
      "id": "r4rT2mV3uo-b",
      "metadata": {
        "id": "r4rT2mV3uo-b"
      },
      "outputs": [],
      "source": [
        "svm_test_oversampled_predictions_dataframe \\\n",
        "    = classificationsx.return_predictions_dataframe \\\n",
        "        (svm_oversampled_model,\n",
        "         x_test_scaled_dataframe,\n",
        "         y_test_series)\n",
        "\n",
        "logx.log_write_object(svm_test_oversampled_predictions_dataframe)"
      ]
    },
    {
      "cell_type": "markdown",
      "id": "wD6dmhShuo-b",
      "metadata": {
        "id": "wD6dmhShuo-b"
      },
      "source": [
        "### **Cluster Centroids**"
      ]
    },
    {
      "cell_type": "code",
      "execution_count": 151,
      "id": "MNKqgek7uo-b",
      "metadata": {
        "id": "MNKqgek7uo-b"
      },
      "outputs": [],
      "source": [
        "svm_train_cluster_centroids_predictions_dataframe \\\n",
        "    = classificationsx.return_predictions_dataframe \\\n",
        "        (svm_cluster_centroids_model,\n",
        "         x_train_scaled_dataframe,\n",
        "         y_train_series)\n",
        "\n",
        "logx.log_write_object(svm_train_cluster_centroids_predictions_dataframe)"
      ]
    },
    {
      "cell_type": "code",
      "execution_count": 152,
      "id": "hsqpwULCuo-b",
      "metadata": {
        "id": "hsqpwULCuo-b"
      },
      "outputs": [],
      "source": [
        "svm_test_cluster_centroids_predictions_dataframe \\\n",
        "    = classificationsx.return_predictions_dataframe \\\n",
        "        (svm_cluster_centroids_model,\n",
        "         x_test_scaled_dataframe,\n",
        "         y_test_series)\n",
        "\n",
        "logx.log_write_object(svm_test_cluster_centroids_predictions_dataframe)"
      ]
    },
    {
      "cell_type": "markdown",
      "id": "IYVmfRAnuo-b",
      "metadata": {
        "id": "IYVmfRAnuo-b"
      },
      "source": [
        "### **SMOTE**"
      ]
    },
    {
      "cell_type": "code",
      "execution_count": 153,
      "id": "b-13GZJMuo-b",
      "metadata": {
        "id": "b-13GZJMuo-b"
      },
      "outputs": [],
      "source": [
        "svm_train_SMOTE_predictions_dataframe \\\n",
        "    = classificationsx.return_predictions_dataframe \\\n",
        "        (svm_SMOTE_model,\n",
        "         x_train_scaled_dataframe,\n",
        "         y_train_series)\n",
        "\n",
        "logx.log_write_object(svm_train_SMOTE_predictions_dataframe)"
      ]
    },
    {
      "cell_type": "code",
      "execution_count": 154,
      "id": "b4ZtBzVzuo-b",
      "metadata": {
        "id": "b4ZtBzVzuo-b"
      },
      "outputs": [],
      "source": [
        "svm_test_SMOTE_predictions_dataframe \\\n",
        "    = classificationsx.return_predictions_dataframe \\\n",
        "        (svm_SMOTE_model,\n",
        "         x_test_scaled_dataframe,\n",
        "         y_test_series)\n",
        "\n",
        "logx.log_write_object(svm_test_SMOTE_predictions_dataframe)"
      ]
    },
    {
      "cell_type": "markdown",
      "id": "rcDMkXtnuo-b",
      "metadata": {
        "id": "rcDMkXtnuo-b"
      },
      "source": [
        "### **SMOTEENN**"
      ]
    },
    {
      "cell_type": "code",
      "execution_count": 155,
      "id": "nTSypQnduo-b",
      "metadata": {
        "id": "nTSypQnduo-b"
      },
      "outputs": [],
      "source": [
        "svm_train_SMOTEENN_predictions_dataframe \\\n",
        "    = classificationsx.return_predictions_dataframe \\\n",
        "        (svm_SMOTEENN_model,\n",
        "         x_train_scaled_dataframe,\n",
        "         y_train_series)\n",
        "\n",
        "logx.log_write_object(svm_train_SMOTEENN_predictions_dataframe)"
      ]
    },
    {
      "cell_type": "code",
      "execution_count": 156,
      "id": "mvUH_27puo-b",
      "metadata": {
        "id": "mvUH_27puo-b"
      },
      "outputs": [],
      "source": [
        "svm_test_SMOTEENN_predictions_dataframe \\\n",
        "    = classificationsx.return_predictions_dataframe \\\n",
        "        (svm_SMOTE_model,\n",
        "         x_test_scaled_dataframe,\n",
        "         y_test_series)\n",
        "\n",
        "logx.log_write_object(svm_test_SMOTEENN_predictions_dataframe)"
      ]
    },
    {
      "cell_type": "markdown",
      "id": "vUUM4MJ6uo-b",
      "metadata": {
        "id": "vUUM4MJ6uo-b"
      },
      "source": [
        "# <br> **Section 7: K-Nearest Neighbor (KNN) Models**"
      ]
    },
    {
      "cell_type": "markdown",
      "id": "yI-SoyeBuo-c",
      "metadata": {
        "id": "yI-SoyeBuo-c"
      },
      "source": [
        "## **7.1: Fit Models by Using the Scaled Training Data.**"
      ]
    },
    {
      "cell_type": "markdown",
      "id": "QcNw6Dgxuo-c",
      "metadata": {
        "id": "QcNw6Dgxuo-c"
      },
      "source": [
        "### **Original**"
      ]
    },
    {
      "cell_type": "code",
      "execution_count": 157,
      "id": "aRIG96-3uo-c",
      "metadata": {
        "id": "aRIG96-3uo-c"
      },
      "outputs": [],
      "source": [
        "knn_grid_search_model \\\n",
        "    = pickle.load(open(credit_risk_constants.CONSTANT_KNN_GRID_SEARCH_MODEL_FILE_PATH, 'rb'))\n",
        "\n",
        "knn_model \\\n",
        "    = KNeighborsClassifier \\\n",
        "        (algorithm = knn_grid_search_model.best_params_['algorithm'],\n",
        "         leaf_size = credit_risk_constants.CONSTANT_ML_KNN_LEAF_SIZE) \\\n",
        "            .fit(x_train_scaled_dataframe, y_train_series)"
      ]
    },
    {
      "cell_type": "markdown",
      "id": "4X1ANFiRuo-f",
      "metadata": {
        "id": "4X1ANFiRuo-f"
      },
      "source": [
        "### **Random Undersampling**"
      ]
    },
    {
      "cell_type": "code",
      "execution_count": 158,
      "id": "po_IYFr1uo-f",
      "metadata": {
        "id": "po_IYFr1uo-f"
      },
      "outputs": [],
      "source": [
        "knn_undersampled_grid_search_model \\\n",
        "    = pickle.load \\\n",
        "        (open(credit_risk_constants.CONSTANT_KNN_UNDERSAMPLED_GRID_SEARCH_MODEL_FILE_PATH, 'rb'))\n",
        "\n",
        "knn_undersampled_model \\\n",
        "    = KNeighborsClassifier \\\n",
        "        (algorithm = knn_undersampled_grid_search_model.best_params_['algorithm'],\n",
        "         leaf_size = credit_risk_constants.CONSTANT_ML_KNN_LEAF_SIZE) \\\n",
        "            .fit(x_train_scaled_undersampled_dataframe, y_train_undersampled_series)"
      ]
    },
    {
      "cell_type": "markdown",
      "id": "pU2Bno4vuo-f",
      "metadata": {
        "id": "pU2Bno4vuo-f"
      },
      "source": [
        "### **Random Oversampling**"
      ]
    },
    {
      "cell_type": "code",
      "execution_count": 159,
      "id": "AhanMNNxuo-f",
      "metadata": {
        "id": "AhanMNNxuo-f"
      },
      "outputs": [],
      "source": [
        "knn_oversampled_grid_search_model \\\n",
        "    = pickle.load \\\n",
        "        (open(credit_risk_constants.CONSTANT_KNN_OVERSAMPLED_GRID_SEARCH_MODEL_FILE_PATH, 'rb'))\n",
        "\n",
        "knn_oversampled_model \\\n",
        "    = KNeighborsClassifier \\\n",
        "        (algorithm = knn_oversampled_grid_search_model.best_params_['algorithm'],\n",
        "         leaf_size = credit_risk_constants.CONSTANT_ML_KNN_LEAF_SIZE) \\\n",
        "            .fit(x_train_scaled_oversampled_dataframe, y_train_oversampled_series)"
      ]
    },
    {
      "cell_type": "markdown",
      "id": "lbwL6fYMuo-f",
      "metadata": {
        "id": "lbwL6fYMuo-f"
      },
      "source": [
        "### **Cluster Centroids**"
      ]
    },
    {
      "cell_type": "code",
      "execution_count": 160,
      "id": "WndaqjUDuo-f",
      "metadata": {
        "id": "WndaqjUDuo-f"
      },
      "outputs": [],
      "source": [
        "knn_cluster_centroids_grid_search_model \\\n",
        "    = pickle.load \\\n",
        "        (open(credit_risk_constants.CONSTANT_KNN_CLUSTER_CENTROIDS_GRID_SEARCH_MODEL_FILE_PATH, 'rb'))\n",
        "\n",
        "knn_cluster_centroids_model \\\n",
        "    = KNeighborsClassifier \\\n",
        "        (algorithm = knn_cluster_centroids_grid_search_model.best_params_['algorithm'],\n",
        "         leaf_size = credit_risk_constants.CONSTANT_ML_KNN_LEAF_SIZE) \\\n",
        "            .fit(x_train_scaled_cluster_centroids_dataframe, y_train_cluster_centroids_series)"
      ]
    },
    {
      "cell_type": "markdown",
      "id": "3iNFpHJEuo-f",
      "metadata": {
        "id": "3iNFpHJEuo-f"
      },
      "source": [
        "### **SMOTE**"
      ]
    },
    {
      "cell_type": "code",
      "execution_count": 161,
      "id": "6Woy0mKKuo-f",
      "metadata": {
        "id": "6Woy0mKKuo-f"
      },
      "outputs": [],
      "source": [
        "knn_SMOTE_grid_search_model \\\n",
        "    = pickle.load \\\n",
        "        (open(credit_risk_constants.CONSTANT_KNN_SMOTE_GRID_SEARCH_MODEL_FILE_PATH, 'rb'))\n",
        "\n",
        "knn_SMOTE_model \\\n",
        "    = KNeighborsClassifier \\\n",
        "        (algorithm = knn_SMOTE_grid_search_model.best_params_['algorithm'],\n",
        "         leaf_size = credit_risk_constants.CONSTANT_ML_KNN_LEAF_SIZE) \\\n",
        "            .fit(x_train_scaled_SMOTE_dataframe, y_train_SMOTE_series)"
      ]
    },
    {
      "cell_type": "markdown",
      "id": "HJOyPobjuo-g",
      "metadata": {
        "id": "HJOyPobjuo-g"
      },
      "source": [
        "### **SMOTEENN**"
      ]
    },
    {
      "cell_type": "code",
      "execution_count": 162,
      "id": "Nr76C1Uyuo-g",
      "metadata": {
        "id": "Nr76C1Uyuo-g"
      },
      "outputs": [],
      "source": [
        "knn_SMOTEENN_grid_search_model \\\n",
        "    = pickle.load \\\n",
        "        (open(credit_risk_constants.CONSTANT_KNN_SMOTEENN_GRID_SEARCH_MODEL_FILE_PATH, 'rb'))\n",
        "\n",
        "knn_SMOTEENN_model \\\n",
        "    = KNeighborsClassifier \\\n",
        "        (algorithm = knn_SMOTEENN_grid_search_model.best_params_['algorithm'],\n",
        "         leaf_size = credit_risk_constants.CONSTANT_ML_KNN_LEAF_SIZE) \\\n",
        "            .fit(x_train_scaled_SMOTEENN_dataframe, y_train_SMOTEENN_series)"
      ]
    },
    {
      "cell_type": "markdown",
      "id": "KwuPK6nOuo-g",
      "metadata": {
        "id": "KwuPK6nOuo-g"
      },
      "source": [
        "## **7.2: Display the Model Scores Using the Scaled Training and Testing Data**"
      ]
    },
    {
      "cell_type": "markdown",
      "id": "qPoIK9TMuo-g",
      "metadata": {
        "id": "qPoIK9TMuo-g"
      },
      "source": [
        "### **Original**"
      ]
    },
    {
      "cell_type": "code",
      "execution_count": 163,
      "id": "R-kFLM8guo-g",
      "metadata": {
        "colab": {
          "base_uri": "https://localhost:8080/"
        },
        "id": "R-kFLM8guo-g",
        "outputId": "c348538a-4cc7-42dd-e91a-bedb608b836b"
      },
      "outputs": [
        {
          "output_type": "stream",
          "name": "stdout",
          "text": [
            "\u001b[1mThe knn model score from scaled training data is 99.48%\u001b[0m\n"
          ]
        }
      ],
      "source": [
        "accuracy_score_train_float \\\n",
        "    = knn_model.score \\\n",
        "        (x_train_scaled_dataframe, y_train_series) * 100\n",
        "\n",
        "logx.print_and_log_text \\\n",
        "    ('\\033[1m'\n",
        "     + 'The knn model score from scaled training data is {:.2f}%' \\\n",
        "         .format(accuracy_score_train_float)\n",
        "     + '\\033[0m')"
      ]
    },
    {
      "cell_type": "code",
      "execution_count": 164,
      "id": "HPxDEJDiuo-g",
      "metadata": {
        "colab": {
          "base_uri": "https://localhost:8080/"
        },
        "id": "HPxDEJDiuo-g",
        "outputId": "6e1a59c2-2046-4565-aecb-686d07f63d40"
      },
      "outputs": [
        {
          "output_type": "stream",
          "name": "stdout",
          "text": [
            "\u001b[1mThe knn model score from scaled test data is 99.28%\u001b[0m\n"
          ]
        }
      ],
      "source": [
        "accuracy_score_test_float \\\n",
        "    = knn_model.score \\\n",
        "        (x_test_scaled_dataframe, y_test_series) * 100\n",
        "\n",
        "logx.print_and_log_text \\\n",
        "    ('\\033[1m'\n",
        "     + 'The knn model score from scaled test data is {:.2f}%' \\\n",
        "         .format(accuracy_score_test_float)\n",
        "     + '\\033[0m')"
      ]
    },
    {
      "cell_type": "markdown",
      "id": "-tOLxbT3uo-g",
      "metadata": {
        "id": "-tOLxbT3uo-g"
      },
      "source": [
        "### **Random Undersampling**"
      ]
    },
    {
      "cell_type": "code",
      "execution_count": 165,
      "id": "1KOJBg7Vuo-g",
      "metadata": {
        "colab": {
          "base_uri": "https://localhost:8080/"
        },
        "id": "1KOJBg7Vuo-g",
        "outputId": "1d003d8d-f755-4ad6-b09e-d1970a67ab79"
      },
      "outputs": [
        {
          "output_type": "stream",
          "name": "stdout",
          "text": [
            "\u001b[1mThe knn model score from undersampled scaled training data is 99.45%\u001b[0m\n"
          ]
        }
      ],
      "source": [
        "accuracy_score_train_float \\\n",
        "    = knn_undersampled_model.score \\\n",
        "        (x_train_scaled_dataframe, y_train_series) * 100\n",
        "\n",
        "logx.print_and_log_text \\\n",
        "    ('\\033[1m'\n",
        "     + 'The knn model score from undersampled scaled training data is {:.2f}%' \\\n",
        "         .format(accuracy_score_train_float)\n",
        "     + '\\033[0m')"
      ]
    },
    {
      "cell_type": "code",
      "execution_count": 166,
      "id": "Zy1n5y_Wuo-g",
      "metadata": {
        "colab": {
          "base_uri": "https://localhost:8080/"
        },
        "id": "Zy1n5y_Wuo-g",
        "outputId": "7c8e3ecd-7d47-4afb-fd38-a3ae2f6e9620"
      },
      "outputs": [
        {
          "output_type": "stream",
          "name": "stdout",
          "text": [
            "\u001b[1mThe knn model score from undersampled scaled test data is 99.35%\u001b[0m\n"
          ]
        }
      ],
      "source": [
        "accuracy_score_test_float \\\n",
        "    = knn_undersampled_model.score \\\n",
        "        (x_test_scaled_dataframe, y_test_series) * 100\n",
        "\n",
        "logx.print_and_log_text \\\n",
        "    ('\\033[1m'\n",
        "     + 'The knn model score from undersampled scaled test data is {:.2f}%' \\\n",
        "         .format(accuracy_score_test_float)\n",
        "     + '\\033[0m')"
      ]
    },
    {
      "cell_type": "markdown",
      "id": "QQH6HGLfuo-g",
      "metadata": {
        "id": "QQH6HGLfuo-g"
      },
      "source": [
        "### **Random Oversampling**"
      ]
    },
    {
      "cell_type": "code",
      "execution_count": 167,
      "id": "mlVyRr3Quo-g",
      "metadata": {
        "colab": {
          "base_uri": "https://localhost:8080/"
        },
        "id": "mlVyRr3Quo-g",
        "outputId": "b62bf90f-3afa-4c1a-fefc-9d28491ad8bd"
      },
      "outputs": [
        {
          "output_type": "stream",
          "name": "stdout",
          "text": [
            "\u001b[1mThe knn model score from overersampled scaled training data is 99.47%\u001b[0m\n"
          ]
        }
      ],
      "source": [
        "accuracy_score_train_float \\\n",
        "    = knn_oversampled_model.score \\\n",
        "        (x_train_scaled_dataframe, y_train_series) * 100\n",
        "\n",
        "logx.print_and_log_text \\\n",
        "    ('\\033[1m'\n",
        "     + 'The knn model score from overersampled scaled training data is {:.2f}%' \\\n",
        "         .format(accuracy_score_train_float)\n",
        "     + '\\033[0m')"
      ]
    },
    {
      "cell_type": "code",
      "execution_count": 168,
      "id": "bg-A-yAduo-h",
      "metadata": {
        "colab": {
          "base_uri": "https://localhost:8080/"
        },
        "id": "bg-A-yAduo-h",
        "outputId": "d85929c2-bf8e-4e30-f46c-71b43d641ee1"
      },
      "outputs": [
        {
          "output_type": "stream",
          "name": "stdout",
          "text": [
            "\u001b[1mThe knn model score from oversampled scaled test data is 99.31%\u001b[0m\n"
          ]
        }
      ],
      "source": [
        "accuracy_score_test_float \\\n",
        "    = knn_oversampled_model.score \\\n",
        "        (x_test_scaled_dataframe, y_test_series) * 100\n",
        "\n",
        "logx.print_and_log_text \\\n",
        "    ('\\033[1m'\n",
        "     + 'The knn model score from oversampled scaled test data is {:.2f}%' \\\n",
        "         .format(accuracy_score_test_float)\n",
        "     + '\\033[0m')"
      ]
    },
    {
      "cell_type": "markdown",
      "id": "9adM3hyuuo-h",
      "metadata": {
        "id": "9adM3hyuuo-h"
      },
      "source": [
        "### **Cluster Centroids**"
      ]
    },
    {
      "cell_type": "code",
      "execution_count": 169,
      "id": "HgZ8xY8auo-h",
      "metadata": {
        "colab": {
          "base_uri": "https://localhost:8080/"
        },
        "id": "HgZ8xY8auo-h",
        "outputId": "66f51a84-1d0b-4daa-a7c0-5863529514ed"
      },
      "outputs": [
        {
          "output_type": "stream",
          "name": "stdout",
          "text": [
            "\u001b[1mThe knn model score from cluster centroids scaled training data is 99.47%\u001b[0m\n"
          ]
        }
      ],
      "source": [
        "accuracy_score_train_float \\\n",
        "    = knn_cluster_centroids_model.score \\\n",
        "        (x_train_scaled_dataframe, y_train_series) * 100\n",
        "\n",
        "logx.print_and_log_text \\\n",
        "    ('\\033[1m'\n",
        "     + 'The knn model score from cluster centroids scaled training data is {:.2f}%' \\\n",
        "         .format(accuracy_score_train_float)\n",
        "     + '\\033[0m')"
      ]
    },
    {
      "cell_type": "code",
      "execution_count": 170,
      "id": "nTsEWlXauo-h",
      "metadata": {
        "colab": {
          "base_uri": "https://localhost:8080/"
        },
        "id": "nTsEWlXauo-h",
        "outputId": "a62cace9-3b4c-4dbf-a3ae-313d3d8a84ac"
      },
      "outputs": [
        {
          "output_type": "stream",
          "name": "stdout",
          "text": [
            "\u001b[1mThe knn model score from cluster centroids scaled test data is 99.37%\u001b[0m\n"
          ]
        }
      ],
      "source": [
        "accuracy_score_test_float \\\n",
        "    = knn_cluster_centroids_model.score \\\n",
        "        (x_test_scaled_dataframe, y_test_series) * 100\n",
        "\n",
        "logx.print_and_log_text \\\n",
        "    ('\\033[1m'\n",
        "     + 'The knn model score from cluster centroids scaled test data is {:.2f}%' \\\n",
        "         .format(accuracy_score_test_float)\n",
        "     + '\\033[0m')"
      ]
    },
    {
      "cell_type": "markdown",
      "id": "YU7ALIqEuo-h",
      "metadata": {
        "id": "YU7ALIqEuo-h"
      },
      "source": [
        "### **SMOTE**"
      ]
    },
    {
      "cell_type": "code",
      "execution_count": 171,
      "id": "eeUw-FFjuo-h",
      "metadata": {
        "colab": {
          "base_uri": "https://localhost:8080/"
        },
        "id": "eeUw-FFjuo-h",
        "outputId": "d035bd74-57ee-4c20-a95e-509bde18abd1"
      },
      "outputs": [
        {
          "output_type": "stream",
          "name": "stdout",
          "text": [
            "\u001b[1mThe knn model score from SMOTE scaled training data is 99.47%\u001b[0m\n"
          ]
        }
      ],
      "source": [
        "accuracy_score_train_float \\\n",
        "    = knn_SMOTE_model.score \\\n",
        "        (x_train_scaled_dataframe, y_train_series) * 100\n",
        "\n",
        "logx.print_and_log_text \\\n",
        "    ('\\033[1m'\n",
        "     + 'The knn model score from SMOTE scaled training data is {:.2f}%' \\\n",
        "         .format(accuracy_score_train_float)\n",
        "     + '\\033[0m')"
      ]
    },
    {
      "cell_type": "code",
      "execution_count": 172,
      "id": "G7aWzl92uo-h",
      "metadata": {
        "colab": {
          "base_uri": "https://localhost:8080/"
        },
        "id": "G7aWzl92uo-h",
        "outputId": "79a9f197-0128-455b-9581-d9f0c3c4e33c"
      },
      "outputs": [
        {
          "output_type": "stream",
          "name": "stdout",
          "text": [
            "\u001b[1mThe knn model score from SMOTE scaled test data is 94.70%\u001b[0m\n"
          ]
        }
      ],
      "source": [
        "accuracy_score_test_float \\\n",
        "    = knn_SMOTE_model.score \\\n",
        "        (x_test_scaled_dataframe, y_test_series) * 100\n",
        "\n",
        "logx.print_and_log_text \\\n",
        "    ('\\033[1m'\n",
        "     + 'The knn model score from SMOTE scaled test data is {:.2f}%' \\\n",
        "         .format(accuracy_score_test_float)\n",
        "     + '\\033[0m')"
      ]
    },
    {
      "cell_type": "markdown",
      "id": "Vy4YHXdjuo-h",
      "metadata": {
        "id": "Vy4YHXdjuo-h"
      },
      "source": [
        "### **SMOTEENN**"
      ]
    },
    {
      "cell_type": "code",
      "execution_count": 173,
      "id": "Xna6BjP7uo-h",
      "metadata": {
        "colab": {
          "base_uri": "https://localhost:8080/"
        },
        "id": "Xna6BjP7uo-h",
        "outputId": "34ec69f5-795e-42a4-89ea-77ee287fd757"
      },
      "outputs": [
        {
          "output_type": "stream",
          "name": "stdout",
          "text": [
            "\u001b[1mThe knn model score from SMOTEENN scaled training data is 99.46%\u001b[0m\n"
          ]
        }
      ],
      "source": [
        "accuracy_score_train_float \\\n",
        "    = knn_SMOTEENN_model.score \\\n",
        "        (x_train_scaled_dataframe, y_train_series) * 100\n",
        "\n",
        "logx.print_and_log_text \\\n",
        "    ('\\033[1m'\n",
        "     + 'The knn model score from SMOTEENN scaled training data is {:.2f}%' \\\n",
        "         .format(accuracy_score_train_float)\n",
        "     + '\\033[0m')"
      ]
    },
    {
      "cell_type": "code",
      "execution_count": 174,
      "id": "g-eAVfIsuo-h",
      "metadata": {
        "colab": {
          "base_uri": "https://localhost:8080/"
        },
        "id": "g-eAVfIsuo-h",
        "outputId": "3e5d1069-5d9c-4894-bbc2-bd34f0728bdf"
      },
      "outputs": [
        {
          "output_type": "stream",
          "name": "stdout",
          "text": [
            "\u001b[1mThe knn model score from SMOTEENN scaled test data is 97.45%\u001b[0m\n"
          ]
        }
      ],
      "source": [
        "accuracy_score_test_float \\\n",
        "    = knn_SMOTEENN_model.score \\\n",
        "        (x_test_scaled_dataframe, y_test_series) * 100\n",
        "\n",
        "logx.print_and_log_text \\\n",
        "    ('\\033[1m'\n",
        "     + 'The knn model score from SMOTEENN scaled test data is {:.2f}%' \\\n",
        "         .format(accuracy_score_test_float)\n",
        "     + '\\033[0m')"
      ]
    },
    {
      "cell_type": "markdown",
      "id": "jlra1e0auo-i",
      "metadata": {
        "id": "jlra1e0auo-i"
      },
      "source": [
        "## **7.3: Calculate Training and Test Predictions.**"
      ]
    },
    {
      "cell_type": "markdown",
      "id": "LW1MPnZ-uo-i",
      "metadata": {
        "id": "LW1MPnZ-uo-i"
      },
      "source": [
        "### **Original**"
      ]
    },
    {
      "cell_type": "code",
      "execution_count": 175,
      "id": "D_y7zKMYuo-i",
      "metadata": {
        "id": "D_y7zKMYuo-i"
      },
      "outputs": [],
      "source": [
        "knn_train_predictions_dataframe \\\n",
        "    = classificationsx.return_predictions_dataframe \\\n",
        "        (knn_model,\n",
        "         x_train_scaled_dataframe,\n",
        "         y_train_series)\n",
        "\n",
        "logx.log_write_object(knn_train_predictions_dataframe)"
      ]
    },
    {
      "cell_type": "code",
      "execution_count": 176,
      "id": "WFzG83ZVuo-i",
      "metadata": {
        "id": "WFzG83ZVuo-i"
      },
      "outputs": [],
      "source": [
        "knn_test_predictions_dataframe \\\n",
        "    = classificationsx.return_predictions_dataframe \\\n",
        "        (knn_model,\n",
        "         x_test_scaled_dataframe,\n",
        "         y_test_series)\n",
        "\n",
        "logx.log_write_object(knn_test_predictions_dataframe)"
      ]
    },
    {
      "cell_type": "markdown",
      "id": "mFlpZ1ETuo-i",
      "metadata": {
        "id": "mFlpZ1ETuo-i"
      },
      "source": [
        "### **Random Undersampling**"
      ]
    },
    {
      "cell_type": "code",
      "execution_count": 177,
      "id": "cDQeWKhjuo-i",
      "metadata": {
        "id": "cDQeWKhjuo-i"
      },
      "outputs": [],
      "source": [
        "knn_train_undersampled_predictions_dataframe \\\n",
        "    = classificationsx.return_predictions_dataframe \\\n",
        "        (knn_undersampled_model,\n",
        "         x_train_scaled_dataframe,\n",
        "         y_train_series)\n",
        "\n",
        "logx.log_write_object(knn_train_undersampled_predictions_dataframe)"
      ]
    },
    {
      "cell_type": "code",
      "execution_count": 178,
      "id": "xu2aV9U_uo-i",
      "metadata": {
        "id": "xu2aV9U_uo-i"
      },
      "outputs": [],
      "source": [
        "knn_test_undersampled_predictions_dataframe \\\n",
        "    = classificationsx.return_predictions_dataframe \\\n",
        "        (knn_undersampled_model,\n",
        "         x_test_scaled_dataframe,\n",
        "         y_test_series)\n",
        "\n",
        "logx.log_write_object(knn_test_undersampled_predictions_dataframe)"
      ]
    },
    {
      "cell_type": "markdown",
      "id": "UufHRIgMuo-i",
      "metadata": {
        "id": "UufHRIgMuo-i"
      },
      "source": [
        "### **Random Oversampling**"
      ]
    },
    {
      "cell_type": "code",
      "execution_count": 179,
      "id": "AfvKKu_7uo-i",
      "metadata": {
        "id": "AfvKKu_7uo-i"
      },
      "outputs": [],
      "source": [
        "knn_train_oversampled_predictions_dataframe \\\n",
        "    = classificationsx.return_predictions_dataframe \\\n",
        "        (knn_oversampled_model,\n",
        "         x_train_scaled_dataframe,\n",
        "         y_train_series)\n",
        "\n",
        "logx.log_write_object(knn_train_oversampled_predictions_dataframe)"
      ]
    },
    {
      "cell_type": "code",
      "execution_count": 180,
      "id": "dmZz_DcLuo-i",
      "metadata": {
        "id": "dmZz_DcLuo-i"
      },
      "outputs": [],
      "source": [
        "knn_test_oversampled_predictions_dataframe \\\n",
        "    = classificationsx.return_predictions_dataframe \\\n",
        "        (knn_oversampled_model,\n",
        "         x_test_scaled_dataframe,\n",
        "         y_test_series)\n",
        "\n",
        "logx.log_write_object(knn_test_oversampled_predictions_dataframe)"
      ]
    },
    {
      "cell_type": "markdown",
      "id": "82i8FI-Vuo-i",
      "metadata": {
        "id": "82i8FI-Vuo-i"
      },
      "source": [
        "### **Cluster Centroids**"
      ]
    },
    {
      "cell_type": "code",
      "execution_count": 181,
      "id": "elfRwF02uo-j",
      "metadata": {
        "id": "elfRwF02uo-j"
      },
      "outputs": [],
      "source": [
        "knn_train_cluster_centroids_predictions_dataframe \\\n",
        "    = classificationsx.return_predictions_dataframe \\\n",
        "        (knn_cluster_centroids_model,\n",
        "         x_train_scaled_dataframe,\n",
        "         y_train_series)\n",
        "\n",
        "logx.log_write_object(knn_train_cluster_centroids_predictions_dataframe)"
      ]
    },
    {
      "cell_type": "code",
      "execution_count": 182,
      "id": "BI1PPFcduo-j",
      "metadata": {
        "id": "BI1PPFcduo-j"
      },
      "outputs": [],
      "source": [
        "knn_test_cluster_centroids_predictions_dataframe \\\n",
        "    = classificationsx.return_predictions_dataframe \\\n",
        "        (knn_cluster_centroids_model,\n",
        "         x_test_scaled_dataframe,\n",
        "         y_test_series)\n",
        "\n",
        "logx.log_write_object(knn_test_cluster_centroids_predictions_dataframe)"
      ]
    },
    {
      "cell_type": "markdown",
      "id": "T67IzSD7uo-j",
      "metadata": {
        "id": "T67IzSD7uo-j"
      },
      "source": [
        "### **SMOTE**"
      ]
    },
    {
      "cell_type": "code",
      "execution_count": 183,
      "id": "GG1otiK9uo-j",
      "metadata": {
        "id": "GG1otiK9uo-j"
      },
      "outputs": [],
      "source": [
        "knn_train_SMOTE_predictions_dataframe \\\n",
        "    = classificationsx.return_predictions_dataframe \\\n",
        "        (knn_SMOTE_model,\n",
        "         x_train_scaled_dataframe,\n",
        "         y_train_series)\n",
        "\n",
        "logx.log_write_object(knn_train_SMOTE_predictions_dataframe)"
      ]
    },
    {
      "cell_type": "code",
      "execution_count": 184,
      "id": "umpPGyMHuo-j",
      "metadata": {
        "id": "umpPGyMHuo-j"
      },
      "outputs": [],
      "source": [
        "knn_test_SMOTE_predictions_dataframe \\\n",
        "    = classificationsx.return_predictions_dataframe \\\n",
        "        (knn_SMOTE_model,\n",
        "         x_test_scaled_dataframe,\n",
        "         y_test_series)\n",
        "\n",
        "logx.log_write_object(knn_test_SMOTE_predictions_dataframe)"
      ]
    },
    {
      "cell_type": "markdown",
      "id": "n_q-ysiIuo-j",
      "metadata": {
        "id": "n_q-ysiIuo-j"
      },
      "source": [
        "### **SMOTEENN**"
      ]
    },
    {
      "cell_type": "code",
      "execution_count": 185,
      "id": "IOtZJODguo-j",
      "metadata": {
        "id": "IOtZJODguo-j"
      },
      "outputs": [],
      "source": [
        "knn_train_SMOTEENN_predictions_dataframe \\\n",
        "    = classificationsx.return_predictions_dataframe \\\n",
        "        (knn_SMOTEENN_model,\n",
        "         x_train_scaled_dataframe,\n",
        "         y_train_series)\n",
        "\n",
        "logx.log_write_object(knn_train_SMOTEENN_predictions_dataframe)"
      ]
    },
    {
      "cell_type": "code",
      "execution_count": 186,
      "id": "m6E_JkuPuo-j",
      "metadata": {
        "id": "m6E_JkuPuo-j"
      },
      "outputs": [],
      "source": [
        "knn_test_SMOTEENN_predictions_dataframe \\\n",
        "    = classificationsx.return_predictions_dataframe \\\n",
        "        (knn_SMOTE_model,\n",
        "         x_test_scaled_dataframe,\n",
        "         y_test_series)\n",
        "\n",
        "logx.log_write_object(knn_test_SMOTEENN_predictions_dataframe)"
      ]
    },
    {
      "cell_type": "markdown",
      "id": "vjdJssxmuo-j",
      "metadata": {
        "id": "vjdJssxmuo-j"
      },
      "source": [
        "# <br> **Section 8: Gaussian Naive Bayes (GNB) Models**"
      ]
    },
    {
      "cell_type": "markdown",
      "id": "mLATaoLiuo-k",
      "metadata": {
        "id": "mLATaoLiuo-k"
      },
      "source": [
        "## **8.1: Fit Models by Using the Scaled Training Data.**"
      ]
    },
    {
      "cell_type": "markdown",
      "id": "e2JPA94_uo-k",
      "metadata": {
        "id": "e2JPA94_uo-k"
      },
      "source": [
        "### **Original**"
      ]
    },
    {
      "cell_type": "code",
      "execution_count": 187,
      "id": "z54094fzuo-k",
      "metadata": {
        "id": "z54094fzuo-k"
      },
      "outputs": [],
      "source": [
        "gnb_model \\\n",
        "    = GaussianNB().fit(x_train_scaled_dataframe, y_train_series)"
      ]
    },
    {
      "cell_type": "markdown",
      "id": "t3d1Qio4uo-k",
      "metadata": {
        "id": "t3d1Qio4uo-k"
      },
      "source": [
        "### **Random Undersampling**"
      ]
    },
    {
      "cell_type": "code",
      "execution_count": 188,
      "id": "fMGjCugfuo-k",
      "metadata": {
        "id": "fMGjCugfuo-k"
      },
      "outputs": [],
      "source": [
        "gnb_undersampled_model \\\n",
        "    = GaussianNB().fit(x_train_scaled_undersampled_dataframe, y_train_undersampled_series)"
      ]
    },
    {
      "cell_type": "markdown",
      "id": "uslOmq0Euo-k",
      "metadata": {
        "id": "uslOmq0Euo-k"
      },
      "source": [
        "### **Random Oversampling**"
      ]
    },
    {
      "cell_type": "code",
      "execution_count": 189,
      "id": "MwqLBDe1uo-k",
      "metadata": {
        "id": "MwqLBDe1uo-k"
      },
      "outputs": [],
      "source": [
        "gnb_oversampled_model \\\n",
        "    = GaussianNB().fit(x_train_scaled_oversampled_dataframe, y_train_oversampled_series)"
      ]
    },
    {
      "cell_type": "markdown",
      "id": "Eq8CYlqruo-k",
      "metadata": {
        "id": "Eq8CYlqruo-k"
      },
      "source": [
        "### **Cluster Centroids**"
      ]
    },
    {
      "cell_type": "code",
      "execution_count": 190,
      "id": "-xdYFaJVuo-k",
      "metadata": {
        "id": "-xdYFaJVuo-k"
      },
      "outputs": [],
      "source": [
        "gnb_cluster_centroids_model \\\n",
        "    = GaussianNB().fit(x_train_scaled_cluster_centroids_dataframe, y_train_cluster_centroids_series)"
      ]
    },
    {
      "cell_type": "markdown",
      "id": "K5_4Le9tuo-k",
      "metadata": {
        "id": "K5_4Le9tuo-k"
      },
      "source": [
        "### **SMOTE**"
      ]
    },
    {
      "cell_type": "code",
      "execution_count": 191,
      "id": "0NG-_hQauo-k",
      "metadata": {
        "id": "0NG-_hQauo-k"
      },
      "outputs": [],
      "source": [
        "gnb_SMOTE_model \\\n",
        "    = GaussianNB().fit(x_train_scaled_SMOTE_dataframe, y_train_SMOTE_series)"
      ]
    },
    {
      "cell_type": "markdown",
      "id": "5D9gEWv0uo-l",
      "metadata": {
        "id": "5D9gEWv0uo-l"
      },
      "source": [
        "### **SMOTEENN**"
      ]
    },
    {
      "cell_type": "code",
      "execution_count": 192,
      "id": "1cn6Q7yBuo-l",
      "metadata": {
        "id": "1cn6Q7yBuo-l"
      },
      "outputs": [],
      "source": [
        "gnb_SMOTEENN_model \\\n",
        "    = GaussianNB().fit(x_train_scaled_SMOTEENN_dataframe, y_train_SMOTEENN_series)"
      ]
    },
    {
      "cell_type": "markdown",
      "id": "pRNOP3tGuo-l",
      "metadata": {
        "id": "pRNOP3tGuo-l"
      },
      "source": [
        "## **8.2: Display the Model Scores Using the Scaled Training and Testing Data**"
      ]
    },
    {
      "cell_type": "markdown",
      "id": "s3lbCmwouo-l",
      "metadata": {
        "id": "s3lbCmwouo-l"
      },
      "source": [
        "### **Original**"
      ]
    },
    {
      "cell_type": "code",
      "execution_count": 193,
      "id": "yMUyhwwPuo-l",
      "metadata": {
        "colab": {
          "base_uri": "https://localhost:8080/"
        },
        "id": "yMUyhwwPuo-l",
        "outputId": "f3d19c3e-eda6-4ae0-de56-932554b33c06"
      },
      "outputs": [
        {
          "output_type": "stream",
          "name": "stdout",
          "text": [
            "\u001b[1mThe gnb model score from scaled training data is 99.47%\u001b[0m\n"
          ]
        }
      ],
      "source": [
        "accuracy_score_train_float \\\n",
        "    = gnb_model.score \\\n",
        "        (x_train_scaled_dataframe, y_train_series) * 100\n",
        "\n",
        "logx.print_and_log_text \\\n",
        "    ('\\033[1m'\n",
        "     + 'The gnb model score from scaled training data is {:.2f}%' \\\n",
        "         .format(accuracy_score_train_float)\n",
        "     + '\\033[0m')"
      ]
    },
    {
      "cell_type": "code",
      "execution_count": 194,
      "id": "aNgQZfRnuo-l",
      "metadata": {
        "colab": {
          "base_uri": "https://localhost:8080/"
        },
        "id": "aNgQZfRnuo-l",
        "outputId": "75f344c6-f0f5-4fda-927e-3f2a189eb577"
      },
      "outputs": [
        {
          "output_type": "stream",
          "name": "stdout",
          "text": [
            "\u001b[1mThe gnb model score from scaled test data is 99.37%\u001b[0m\n"
          ]
        }
      ],
      "source": [
        "accuracy_score_test_float \\\n",
        "    = gnb_model.score \\\n",
        "        (x_test_scaled_dataframe, y_test_series) * 100\n",
        "\n",
        "logx.print_and_log_text \\\n",
        "    ('\\033[1m'\n",
        "     + 'The gnb model score from scaled test data is {:.2f}%' \\\n",
        "         .format(accuracy_score_test_float)\n",
        "     + '\\033[0m')"
      ]
    },
    {
      "cell_type": "markdown",
      "id": "UTxhHQcnuo-l",
      "metadata": {
        "id": "UTxhHQcnuo-l"
      },
      "source": [
        "### **Random Undersampling**"
      ]
    },
    {
      "cell_type": "code",
      "execution_count": 195,
      "id": "lCBTMZcPuo-l",
      "metadata": {
        "colab": {
          "base_uri": "https://localhost:8080/"
        },
        "id": "lCBTMZcPuo-l",
        "outputId": "b250071c-397a-4176-ac1a-0dfe9dfb8d32"
      },
      "outputs": [
        {
          "output_type": "stream",
          "name": "stdout",
          "text": [
            "\u001b[1mThe gnb model score from undersampled scaled training data is 99.47%\u001b[0m\n"
          ]
        }
      ],
      "source": [
        "accuracy_score_train_float \\\n",
        "    = gnb_undersampled_model.score \\\n",
        "        (x_train_scaled_dataframe, y_train_series) * 100\n",
        "\n",
        "logx.print_and_log_text \\\n",
        "    ('\\033[1m'\n",
        "     + 'The gnb model score from undersampled scaled training data is {:.2f}%' \\\n",
        "         .format(accuracy_score_train_float)\n",
        "     + '\\033[0m')"
      ]
    },
    {
      "cell_type": "code",
      "execution_count": 196,
      "id": "NF6DhxG8uo-l",
      "metadata": {
        "colab": {
          "base_uri": "https://localhost:8080/"
        },
        "id": "NF6DhxG8uo-l",
        "outputId": "cbe98348-376b-4990-bf14-d32a8218a21b"
      },
      "outputs": [
        {
          "output_type": "stream",
          "name": "stdout",
          "text": [
            "\u001b[1mThe gnb model score from undersampled scaled test data is 99.37%\u001b[0m\n"
          ]
        }
      ],
      "source": [
        "accuracy_score_test_float \\\n",
        "    = gnb_undersampled_model.score \\\n",
        "        (x_test_scaled_dataframe, y_test_series) * 100\n",
        "\n",
        "logx.print_and_log_text \\\n",
        "    ('\\033[1m'\n",
        "     + 'The gnb model score from undersampled scaled test data is {:.2f}%' \\\n",
        "         .format(accuracy_score_test_float)\n",
        "     + '\\033[0m')"
      ]
    },
    {
      "cell_type": "markdown",
      "id": "tf3L4jqzuo-l",
      "metadata": {
        "id": "tf3L4jqzuo-l"
      },
      "source": [
        "### **Random Oversampling**"
      ]
    },
    {
      "cell_type": "code",
      "execution_count": 197,
      "id": "WjIhNG7Kuo-l",
      "metadata": {
        "colab": {
          "base_uri": "https://localhost:8080/"
        },
        "id": "WjIhNG7Kuo-l",
        "outputId": "1b7431be-a6d9-4615-9c3f-9fac8c40e607"
      },
      "outputs": [
        {
          "output_type": "stream",
          "name": "stdout",
          "text": [
            "\u001b[1mThe gnb model score from overersampled scaled training data is 99.47%\u001b[0m\n"
          ]
        }
      ],
      "source": [
        "accuracy_score_train_float \\\n",
        "    = gnb_oversampled_model.score \\\n",
        "        (x_train_scaled_dataframe, y_train_series) * 100\n",
        "\n",
        "logx.print_and_log_text \\\n",
        "    ('\\033[1m'\n",
        "     + 'The gnb model score from overersampled scaled training data is {:.2f}%' \\\n",
        "         .format(accuracy_score_train_float)\n",
        "     + '\\033[0m')"
      ]
    },
    {
      "cell_type": "code",
      "execution_count": 198,
      "id": "5gdHZtdcuo-m",
      "metadata": {
        "colab": {
          "base_uri": "https://localhost:8080/"
        },
        "id": "5gdHZtdcuo-m",
        "outputId": "c9140bf9-9de9-47dd-b6c2-75f8ec7aacf9"
      },
      "outputs": [
        {
          "output_type": "stream",
          "name": "stdout",
          "text": [
            "\u001b[1mThe gnb model score from oversampled scaled test data is 99.37%\u001b[0m\n"
          ]
        }
      ],
      "source": [
        "accuracy_score_test_float \\\n",
        "    = gnb_oversampled_model.score \\\n",
        "        (x_test_scaled_dataframe, y_test_series) * 100\n",
        "\n",
        "logx.print_and_log_text \\\n",
        "    ('\\033[1m'\n",
        "     + 'The gnb model score from oversampled scaled test data is {:.2f}%' \\\n",
        "         .format(accuracy_score_test_float)\n",
        "     + '\\033[0m')"
      ]
    },
    {
      "cell_type": "markdown",
      "id": "jpBLmPhluo-m",
      "metadata": {
        "id": "jpBLmPhluo-m"
      },
      "source": [
        "### **Cluster Centroids**"
      ]
    },
    {
      "cell_type": "code",
      "execution_count": 199,
      "id": "fdsoyfgLuo-m",
      "metadata": {
        "colab": {
          "base_uri": "https://localhost:8080/"
        },
        "id": "fdsoyfgLuo-m",
        "outputId": "d4687885-611a-423e-c674-3393ef121e4d"
      },
      "outputs": [
        {
          "output_type": "stream",
          "name": "stdout",
          "text": [
            "\u001b[1mThe gnb model score from cluster centroids scaled training data is 99.44%\u001b[0m\n"
          ]
        }
      ],
      "source": [
        "accuracy_score_train_float \\\n",
        "    = gnb_cluster_centroids_model.score \\\n",
        "        (x_train_scaled_dataframe, y_train_series) * 100\n",
        "\n",
        "logx.print_and_log_text \\\n",
        "    ('\\033[1m'\n",
        "     + 'The gnb model score from cluster centroids scaled training data is {:.2f}%' \\\n",
        "         .format(accuracy_score_train_float)\n",
        "     + '\\033[0m')"
      ]
    },
    {
      "cell_type": "code",
      "execution_count": 200,
      "id": "XIutJAILuo-m",
      "metadata": {
        "colab": {
          "base_uri": "https://localhost:8080/"
        },
        "id": "XIutJAILuo-m",
        "outputId": "9f9cd17f-0fe0-4e67-9335-71ed9a7d471e"
      },
      "outputs": [
        {
          "output_type": "stream",
          "name": "stdout",
          "text": [
            "\u001b[1mThe gnb model score from cluster centroids scaled test data is 99.33%\u001b[0m\n"
          ]
        }
      ],
      "source": [
        "accuracy_score_test_float \\\n",
        "    = gnb_cluster_centroids_model.score \\\n",
        "        (x_test_scaled_dataframe, y_test_series) * 100\n",
        "\n",
        "logx.print_and_log_text \\\n",
        "    ('\\033[1m'\n",
        "     + 'The gnb model score from cluster centroids scaled test data is {:.2f}%' \\\n",
        "         .format(accuracy_score_test_float)\n",
        "     + '\\033[0m')"
      ]
    },
    {
      "cell_type": "markdown",
      "id": "8VX4sfamuo-m",
      "metadata": {
        "id": "8VX4sfamuo-m"
      },
      "source": [
        "### **SMOTE**"
      ]
    },
    {
      "cell_type": "code",
      "execution_count": 201,
      "id": "kgcKBYXfuo-m",
      "metadata": {
        "colab": {
          "base_uri": "https://localhost:8080/"
        },
        "id": "kgcKBYXfuo-m",
        "outputId": "4d414c05-d25f-46bf-a736-9a6236f5455c"
      },
      "outputs": [
        {
          "output_type": "stream",
          "name": "stdout",
          "text": [
            "\u001b[1mThe gnb model score from SMOTE scaled training data is 99.47%\u001b[0m\n"
          ]
        }
      ],
      "source": [
        "accuracy_score_train_float \\\n",
        "    = gnb_SMOTE_model.score \\\n",
        "        (x_train_scaled_dataframe, y_train_series) * 100\n",
        "\n",
        "logx.print_and_log_text \\\n",
        "    ('\\033[1m'\n",
        "     + 'The gnb model score from SMOTE scaled training data is {:.2f}%' \\\n",
        "         .format(accuracy_score_train_float)\n",
        "     + '\\033[0m')"
      ]
    },
    {
      "cell_type": "code",
      "execution_count": 202,
      "id": "_pYYDW4Yuo-m",
      "metadata": {
        "colab": {
          "base_uri": "https://localhost:8080/"
        },
        "id": "_pYYDW4Yuo-m",
        "outputId": "f1b16f83-c1c1-47fd-a904-8be81a7d0d20"
      },
      "outputs": [
        {
          "output_type": "stream",
          "name": "stdout",
          "text": [
            "\u001b[1mThe gnb model score from SMOTE scaled test data is 99.37%\u001b[0m\n"
          ]
        }
      ],
      "source": [
        "accuracy_score_test_float \\\n",
        "    = gnb_SMOTE_model.score \\\n",
        "        (x_test_scaled_dataframe, y_test_series) * 100\n",
        "\n",
        "logx.print_and_log_text \\\n",
        "    ('\\033[1m'\n",
        "     + 'The gnb model score from SMOTE scaled test data is {:.2f}%' \\\n",
        "         .format(accuracy_score_test_float)\n",
        "     + '\\033[0m')"
      ]
    },
    {
      "cell_type": "markdown",
      "id": "WS29Fshwuo-m",
      "metadata": {
        "id": "WS29Fshwuo-m"
      },
      "source": [
        "### **SMOTEENN**"
      ]
    },
    {
      "cell_type": "code",
      "execution_count": 203,
      "id": "W4KiIv2-uo-m",
      "metadata": {
        "colab": {
          "base_uri": "https://localhost:8080/"
        },
        "id": "W4KiIv2-uo-m",
        "outputId": "a59ff943-2dd8-4397-e362-1f5cbc494ed3"
      },
      "outputs": [
        {
          "output_type": "stream",
          "name": "stdout",
          "text": [
            "\u001b[1mThe gnb model score from SMOTEENN scaled training data is 99.46%\u001b[0m\n"
          ]
        }
      ],
      "source": [
        "accuracy_score_train_float \\\n",
        "    = gnb_SMOTEENN_model.score \\\n",
        "        (x_train_scaled_dataframe, y_train_series) * 100\n",
        "\n",
        "logx.print_and_log_text \\\n",
        "    ('\\033[1m'\n",
        "     + 'The gnb model score from SMOTEENN scaled training data is {:.2f}%' \\\n",
        "         .format(accuracy_score_train_float)\n",
        "     + '\\033[0m')"
      ]
    },
    {
      "cell_type": "code",
      "execution_count": 204,
      "id": "aAxDwAMYuo-m",
      "metadata": {
        "colab": {
          "base_uri": "https://localhost:8080/"
        },
        "id": "aAxDwAMYuo-m",
        "outputId": "41c7e5e6-7193-4395-fdbf-8151816c3da9"
      },
      "outputs": [
        {
          "output_type": "stream",
          "name": "stdout",
          "text": [
            "\u001b[1mThe gnb model score from SMOTEENN scaled test data is 99.36%\u001b[0m\n"
          ]
        }
      ],
      "source": [
        "accuracy_score_test_float \\\n",
        "    = gnb_SMOTEENN_model.score \\\n",
        "        (x_test_scaled_dataframe, y_test_series) * 100\n",
        "\n",
        "logx.print_and_log_text \\\n",
        "    ('\\033[1m'\n",
        "     + 'The gnb model score from SMOTEENN scaled test data is {:.2f}%' \\\n",
        "         .format(accuracy_score_test_float)\n",
        "     + '\\033[0m')"
      ]
    },
    {
      "cell_type": "markdown",
      "id": "Mm3C0EXsuo-m",
      "metadata": {
        "id": "Mm3C0EXsuo-m"
      },
      "source": [
        "## **8.3: Calculate Training and Test Predictions.**"
      ]
    },
    {
      "cell_type": "markdown",
      "id": "L8OcVDKJuo-m",
      "metadata": {
        "id": "L8OcVDKJuo-m"
      },
      "source": [
        "### **Original**"
      ]
    },
    {
      "cell_type": "code",
      "execution_count": 205,
      "id": "DeQGTZlvuo-n",
      "metadata": {
        "id": "DeQGTZlvuo-n"
      },
      "outputs": [],
      "source": [
        "gnb_train_predictions_dataframe \\\n",
        "    = classificationsx.return_predictions_dataframe \\\n",
        "        (gnb_model,\n",
        "         x_train_scaled_dataframe,\n",
        "         y_train_series)\n",
        "\n",
        "logx.log_write_object(gnb_train_predictions_dataframe)"
      ]
    },
    {
      "cell_type": "code",
      "execution_count": 206,
      "id": "BbIyTT01uo-n",
      "metadata": {
        "id": "BbIyTT01uo-n"
      },
      "outputs": [],
      "source": [
        "gnb_test_predictions_dataframe \\\n",
        "    = classificationsx.return_predictions_dataframe \\\n",
        "        (gnb_model,\n",
        "         x_test_scaled_dataframe,\n",
        "         y_test_series)\n",
        "\n",
        "logx.log_write_object(gnb_test_predictions_dataframe)"
      ]
    },
    {
      "cell_type": "markdown",
      "id": "S7Q-s7p9uo-n",
      "metadata": {
        "id": "S7Q-s7p9uo-n"
      },
      "source": [
        "### **Random Undersampling**"
      ]
    },
    {
      "cell_type": "code",
      "execution_count": 207,
      "id": "bdQWZyMOuo-n",
      "metadata": {
        "id": "bdQWZyMOuo-n"
      },
      "outputs": [],
      "source": [
        "gnb_train_undersampled_predictions_dataframe \\\n",
        "    = classificationsx.return_predictions_dataframe \\\n",
        "        (gnb_undersampled_model,\n",
        "         x_train_scaled_dataframe,\n",
        "         y_train_series)\n",
        "\n",
        "logx.log_write_object(gnb_train_undersampled_predictions_dataframe)"
      ]
    },
    {
      "cell_type": "code",
      "execution_count": 208,
      "id": "pc2ya6fnuo-n",
      "metadata": {
        "id": "pc2ya6fnuo-n"
      },
      "outputs": [],
      "source": [
        "gnb_test_undersampled_predictions_dataframe \\\n",
        "    = classificationsx.return_predictions_dataframe \\\n",
        "        (gnb_undersampled_model,\n",
        "         x_test_scaled_dataframe,\n",
        "         y_test_series)\n",
        "\n",
        "logx.log_write_object(gnb_test_undersampled_predictions_dataframe)"
      ]
    },
    {
      "cell_type": "markdown",
      "id": "cC4brofguo-n",
      "metadata": {
        "id": "cC4brofguo-n"
      },
      "source": [
        "### **Random Oversampling**"
      ]
    },
    {
      "cell_type": "code",
      "execution_count": 209,
      "id": "C-hgcHrpuo-n",
      "metadata": {
        "id": "C-hgcHrpuo-n"
      },
      "outputs": [],
      "source": [
        "gnb_train_oversampled_predictions_dataframe \\\n",
        "    = classificationsx.return_predictions_dataframe \\\n",
        "        (gnb_oversampled_model,\n",
        "         x_train_scaled_dataframe,\n",
        "         y_train_series)\n",
        "\n",
        "logx.log_write_object(gnb_train_oversampled_predictions_dataframe)"
      ]
    },
    {
      "cell_type": "code",
      "execution_count": 210,
      "id": "bEDQvqh1uo-n",
      "metadata": {
        "id": "bEDQvqh1uo-n"
      },
      "outputs": [],
      "source": [
        "gnb_test_oversampled_predictions_dataframe \\\n",
        "    = classificationsx.return_predictions_dataframe \\\n",
        "        (gnb_oversampled_model,\n",
        "         x_test_scaled_dataframe,\n",
        "         y_test_series)\n",
        "\n",
        "logx.log_write_object(gnb_test_oversampled_predictions_dataframe)"
      ]
    },
    {
      "cell_type": "markdown",
      "id": "fhvt12r_uo-n",
      "metadata": {
        "id": "fhvt12r_uo-n"
      },
      "source": [
        "### **Cluster Centroids**"
      ]
    },
    {
      "cell_type": "code",
      "execution_count": 211,
      "id": "ECO1XK2juo-n",
      "metadata": {
        "id": "ECO1XK2juo-n"
      },
      "outputs": [],
      "source": [
        "gnb_train_cluster_centroids_predictions_dataframe \\\n",
        "    = classificationsx.return_predictions_dataframe \\\n",
        "        (gnb_cluster_centroids_model,\n",
        "         x_train_scaled_dataframe,\n",
        "         y_train_series)\n",
        "\n",
        "logx.log_write_object(gnb_train_cluster_centroids_predictions_dataframe)"
      ]
    },
    {
      "cell_type": "code",
      "execution_count": 212,
      "id": "YNqRj_-Huo-n",
      "metadata": {
        "id": "YNqRj_-Huo-n"
      },
      "outputs": [],
      "source": [
        "gnb_test_cluster_centroids_predictions_dataframe \\\n",
        "    = classificationsx.return_predictions_dataframe \\\n",
        "        (gnb_cluster_centroids_model,\n",
        "         x_test_scaled_dataframe,\n",
        "         y_test_series)\n",
        "\n",
        "logx.log_write_object(gnb_test_cluster_centroids_predictions_dataframe)"
      ]
    },
    {
      "cell_type": "markdown",
      "id": "_6IOTiC7uo-n",
      "metadata": {
        "id": "_6IOTiC7uo-n"
      },
      "source": [
        "### **SMOTE**"
      ]
    },
    {
      "cell_type": "code",
      "execution_count": 213,
      "id": "NQQn9cShuo-o",
      "metadata": {
        "id": "NQQn9cShuo-o"
      },
      "outputs": [],
      "source": [
        "gnb_train_SMOTE_predictions_dataframe \\\n",
        "    = classificationsx.return_predictions_dataframe \\\n",
        "        (gnb_SMOTE_model,\n",
        "         x_train_scaled_dataframe,\n",
        "         y_train_series)\n",
        "\n",
        "logx.log_write_object(gnb_train_SMOTE_predictions_dataframe)"
      ]
    },
    {
      "cell_type": "code",
      "execution_count": 214,
      "id": "N5pa6BHkuo-o",
      "metadata": {
        "id": "N5pa6BHkuo-o"
      },
      "outputs": [],
      "source": [
        "gnb_test_SMOTE_predictions_dataframe \\\n",
        "    = classificationsx.return_predictions_dataframe \\\n",
        "        (gnb_SMOTE_model,\n",
        "         x_test_scaled_dataframe,\n",
        "         y_test_series)\n",
        "\n",
        "logx.log_write_object(gnb_test_SMOTE_predictions_dataframe)"
      ]
    },
    {
      "cell_type": "markdown",
      "id": "LEMVcFeyuo-o",
      "metadata": {
        "id": "LEMVcFeyuo-o"
      },
      "source": [
        "### **SMOTEENN**"
      ]
    },
    {
      "cell_type": "code",
      "execution_count": 215,
      "id": "yK0F2zqeuo-o",
      "metadata": {
        "id": "yK0F2zqeuo-o"
      },
      "outputs": [],
      "source": [
        "gnb_train_SMOTEENN_predictions_dataframe \\\n",
        "    = classificationsx.return_predictions_dataframe \\\n",
        "        (gnb_SMOTEENN_model,\n",
        "         x_train_scaled_dataframe,\n",
        "         y_train_series)\n",
        "\n",
        "logx.log_write_object(gnb_train_SMOTEENN_predictions_dataframe)"
      ]
    },
    {
      "cell_type": "code",
      "execution_count": 216,
      "id": "5rxiRE77uo-o",
      "metadata": {
        "id": "5rxiRE77uo-o"
      },
      "outputs": [],
      "source": [
        "gnb_test_SMOTEENN_predictions_dataframe \\\n",
        "    = classificationsx.return_predictions_dataframe \\\n",
        "        (gnb_SMOTE_model,\n",
        "         x_test_scaled_dataframe,\n",
        "         y_test_series)\n",
        "\n",
        "logx.log_write_object(gnb_test_SMOTEENN_predictions_dataframe)"
      ]
    },
    {
      "cell_type": "markdown",
      "id": "ZgzkjsIMuo-o",
      "metadata": {
        "id": "ZgzkjsIMuo-o"
      },
      "source": [
        "# <br> **Section 9: Evaluate Model Performance**"
      ]
    },
    {
      "cell_type": "markdown",
      "id": "fI8HzD_Guo-o",
      "metadata": {
        "id": "fI8HzD_Guo-o"
      },
      "source": [
        "## **9.1: Logistic Regression**"
      ]
    },
    {
      "cell_type": "markdown",
      "id": "yMkJjiKVuo-o",
      "metadata": {
        "id": "yMkJjiKVuo-o"
      },
      "source": [
        "### **Original**"
      ]
    },
    {
      "cell_type": "code",
      "execution_count": 217,
      "id": "OI_ZjO53uo-o",
      "metadata": {
        "colab": {
          "base_uri": "https://localhost:8080/"
        },
        "id": "OI_ZjO53uo-o",
        "outputId": "a1791c94-7cc9-4945-f1b2-a98e1fd084fa"
      },
      "outputs": [
        {
          "output_type": "execute_result",
          "data": {
            "text/plain": [
              "{'C': 1.0,\n",
              " 'class_weight': None,\n",
              " 'dual': False,\n",
              " 'fit_intercept': True,\n",
              " 'intercept_scaling': 1,\n",
              " 'l1_ratio': None,\n",
              " 'max_iter': 10000000,\n",
              " 'multi_class': 'auto',\n",
              " 'n_jobs': None,\n",
              " 'penalty': 'l2',\n",
              " 'random_state': 21,\n",
              " 'solver': 'lbfgs',\n",
              " 'tol': 0.0001,\n",
              " 'verbose': 0,\n",
              " 'warm_start': False}"
            ]
          },
          "metadata": {},
          "execution_count": 217
        }
      ],
      "source": [
        "logistic_regression_model.get_params()"
      ]
    },
    {
      "cell_type": "code",
      "execution_count": 218,
      "id": "bqr3_B8zuo-o",
      "metadata": {
        "colab": {
          "base_uri": "https://localhost:8080/"
        },
        "id": "bqr3_B8zuo-o",
        "outputId": "b0dce5cb-a6c8-4f2f-c0b7-ea4c9bc1669d"
      },
      "outputs": [
        {
          "output_type": "stream",
          "name": "stdout",
          "text": [
            "\u001b[1mThe balanced accuracy score for logistic regression from actual vs. test predictions is 99.33%\u001b[0m\n"
          ]
        }
      ],
      "source": [
        "lr_predictions_nparray = logistic_regression_model.predict(x_test_scaled_dataframe)\n",
        "\n",
        "lr_balanced_accuracy_score_float \\\n",
        "    = accuracy_score(y_test_series, lr_predictions_nparray) * 100\n",
        "\n",
        "logx.print_and_log_text \\\n",
        "    ('\\033[1m'\n",
        "     + 'The balanced accuracy score for logistic regression from actual vs. test predictions is {:.2f}%' \\\n",
        "         .format(lr_balanced_accuracy_score_float)\n",
        "     + '\\033[0m')"
      ]
    },
    {
      "cell_type": "code",
      "execution_count": 219,
      "id": "1Y4dPWXBuo-o",
      "metadata": {
        "colab": {
          "base_uri": "https://localhost:8080/"
        },
        "id": "1Y4dPWXBuo-o",
        "outputId": "22f3d7d4-fc44-45d5-f413-3f0137ec4ede"
      },
      "outputs": [
        {
          "output_type": "stream",
          "name": "stdout",
          "text": [
            "\u001b[1mLOGISTIC REGRESSION MODEL\n",
            "\u001b[0m\n",
            "1) \u001b[1mOverall Accuracy Score: \u001b[0m98.7%\n",
            "\n",
            "2) \u001b[1mConfusion Matrix:\n",
            "\u001b[0m\n",
            "                  Predicted Healthy  Predicted High-Risk\n",
            "Actual Healthy                18656                  118\n",
            "Actual High-Risk                 12                  598\n",
            "\n",
            "3) \u001b[1mClassification Report:\n",
            "\u001b[0m\n",
            "              precision    recall  f1-score   support\n",
            "\n",
            "     healthy       1.00      0.99      1.00     18774\n",
            "   high-risk       0.84      0.98      0.90       610\n",
            "\n",
            "    accuracy                           0.99     19384\n",
            "   macro avg       0.92      0.99      0.95     19384\n",
            "weighted avg       0.99      0.99      0.99     19384\n",
            "\n",
            "\n"
          ]
        }
      ],
      "source": [
        "lr_accuracy_score_float, \\\n",
        "lr_confusion_matrix_dataframe, \\\n",
        "lr_classification_report_string \\\n",
        "    = classificationsx.return_binary_classification_confusion_matrix \\\n",
        "        (y_test_series,\n",
        "         lr_predictions_nparray,\n",
        "         'LOGISTIC REGRESSION MODEL',\n",
        "         'Healthy', 'High-Risk')\n",
        "\n",
        "model_performance_dictionary \\\n",
        "    = {'logistic_regression': [lr_accuracy_score_float * 100]}\n",
        "\n",
        "model_performance_ranking_dictionary \\\n",
        "    = {'logistic_regression': lr_accuracy_score_float * 100}"
      ]
    },
    {
      "cell_type": "markdown",
      "id": "ovUZOpIyuo-o",
      "metadata": {
        "id": "ovUZOpIyuo-o"
      },
      "source": [
        "### **Random Undersampling**"
      ]
    },
    {
      "cell_type": "code",
      "execution_count": 220,
      "id": "hc-ddXSFuo-o",
      "metadata": {
        "colab": {
          "base_uri": "https://localhost:8080/"
        },
        "id": "hc-ddXSFuo-o",
        "outputId": "765ad904-a1e6-4c5e-d8e9-1041cff52e67"
      },
      "outputs": [
        {
          "output_type": "execute_result",
          "data": {
            "text/plain": [
              "{'C': 1.0,\n",
              " 'class_weight': 'balanced',\n",
              " 'dual': False,\n",
              " 'fit_intercept': True,\n",
              " 'intercept_scaling': 1,\n",
              " 'l1_ratio': None,\n",
              " 'max_iter': 10000000,\n",
              " 'multi_class': 'auto',\n",
              " 'n_jobs': None,\n",
              " 'penalty': 'l2',\n",
              " 'random_state': 21,\n",
              " 'solver': 'lbfgs',\n",
              " 'tol': 0.0001,\n",
              " 'verbose': 0,\n",
              " 'warm_start': False}"
            ]
          },
          "metadata": {},
          "execution_count": 220
        }
      ],
      "source": [
        "logistic_regression_undersampled_model.get_params()"
      ]
    },
    {
      "cell_type": "code",
      "execution_count": 221,
      "id": "iUqgi1Cmuo-p",
      "metadata": {
        "colab": {
          "base_uri": "https://localhost:8080/"
        },
        "id": "iUqgi1Cmuo-p",
        "outputId": "7d7309ef-4505-4537-c3d8-13377f158cd8"
      },
      "outputs": [
        {
          "output_type": "stream",
          "name": "stdout",
          "text": [
            "\u001b[1mThe balanced accuracy score for logistic regression undersampled from actual vs. test predictions is 99.34%\u001b[0m\n"
          ]
        }
      ],
      "source": [
        "lr_undersampled_predictions_nparray \\\n",
        "    = logistic_regression_undersampled_model.predict(x_test_scaled_dataframe)\n",
        "\n",
        "lr_undersampled_balanced_accuracy_score_float \\\n",
        "    = accuracy_score(y_test_series, lr_undersampled_predictions_nparray) * 100\n",
        "\n",
        "logx.print_and_log_text \\\n",
        "    ('\\033[1m' \\\n",
        "     + 'The balanced accuracy score for logistic regression undersampled from actual vs. test predictions is {:.2f}%' \\\n",
        "         .format(lr_undersampled_balanced_accuracy_score_float) \\\n",
        "     + '\\033[0m')"
      ]
    },
    {
      "cell_type": "code",
      "execution_count": 222,
      "id": "dL6UsZYNuo-p",
      "metadata": {
        "colab": {
          "base_uri": "https://localhost:8080/"
        },
        "id": "dL6UsZYNuo-p",
        "outputId": "07846a45-1b33-45a1-ae3b-663f6542bd2e"
      },
      "outputs": [
        {
          "output_type": "stream",
          "name": "stdout",
          "text": [
            "\u001b[1mLOGISTIC REGRESSION MODEL (Undersampled)\n",
            "\u001b[0m\n",
            "1) \u001b[1mOverall Accuracy Score: \u001b[0m99.5%\n",
            "\n",
            "2) \u001b[1mConfusion Matrix:\n",
            "\u001b[0m\n",
            "                  Predicted Healthy  Predicted High-Risk\n",
            "Actual Healthy                18649                  125\n",
            "Actual High-Risk                  2                  608\n",
            "\n",
            "3) \u001b[1mClassification Report:\n",
            "\u001b[0m\n",
            "              precision    recall  f1-score   support\n",
            "\n",
            "     healthy       1.00      0.99      1.00     18774\n",
            "   high-risk       0.83      1.00      0.91       610\n",
            "\n",
            "    accuracy                           0.99     19384\n",
            "   macro avg       0.91      1.00      0.95     19384\n",
            "weighted avg       0.99      0.99      0.99     19384\n",
            "\n",
            "\n"
          ]
        }
      ],
      "source": [
        "lr_undersampled_accuracy_score_float, \\\n",
        "lr_undersampled_confusion_matrix_dataframe, \\\n",
        "lr_undersampled_classification_report_string \\\n",
        "    = classificationsx.return_binary_classification_confusion_matrix \\\n",
        "        (y_test_series,\n",
        "         lr_undersampled_predictions_nparray,\n",
        "         'LOGISTIC REGRESSION MODEL (Undersampled)',\n",
        "         'Healthy', 'High-Risk')\n",
        "\n",
        "model_performance_dictionary['logistic_regression'] \\\n",
        "    .append(lr_undersampled_accuracy_score_float * 100)\n",
        "\n",
        "model_performance_ranking_dictionary['logistic_regression_undersampled'] \\\n",
        "    = lr_undersampled_accuracy_score_float * 100"
      ]
    },
    {
      "cell_type": "markdown",
      "id": "SrHrQx4huo-p",
      "metadata": {
        "id": "SrHrQx4huo-p"
      },
      "source": [
        "### **Random Oversampling**"
      ]
    },
    {
      "cell_type": "code",
      "execution_count": 223,
      "id": "7ZuHj7sDuo-p",
      "metadata": {
        "colab": {
          "base_uri": "https://localhost:8080/"
        },
        "id": "7ZuHj7sDuo-p",
        "outputId": "3c2334cb-82b7-49ec-a4cf-7f9bcd31ed7b"
      },
      "outputs": [
        {
          "output_type": "execute_result",
          "data": {
            "text/plain": [
              "{'C': 1.0,\n",
              " 'class_weight': 'balanced',\n",
              " 'dual': False,\n",
              " 'fit_intercept': True,\n",
              " 'intercept_scaling': 1,\n",
              " 'l1_ratio': None,\n",
              " 'max_iter': 10000000,\n",
              " 'multi_class': 'auto',\n",
              " 'n_jobs': None,\n",
              " 'penalty': 'l2',\n",
              " 'random_state': 21,\n",
              " 'solver': 'liblinear',\n",
              " 'tol': 0.0001,\n",
              " 'verbose': 0,\n",
              " 'warm_start': False}"
            ]
          },
          "metadata": {},
          "execution_count": 223
        }
      ],
      "source": [
        "logistic_regression_oversampled_model.get_params()"
      ]
    },
    {
      "cell_type": "code",
      "execution_count": 224,
      "id": "8Tg6440cuo-p",
      "metadata": {
        "colab": {
          "base_uri": "https://localhost:8080/"
        },
        "id": "8Tg6440cuo-p",
        "outputId": "a889b5ab-4c86-415d-af06-b18d17e8faed"
      },
      "outputs": [
        {
          "output_type": "stream",
          "name": "stdout",
          "text": [
            "\u001b[1mThe balanced accuracy score for logistic regression oversampled from actual vs. test predictions is 99.34%\u001b[0m\n"
          ]
        }
      ],
      "source": [
        "lr_oversampled_predictions_nparray \\\n",
        "    = logistic_regression_oversampled_model.predict(x_test_scaled_dataframe)\n",
        "\n",
        "lr_oversampled_balanced_accuracy_score_float \\\n",
        "    = accuracy_score(y_test_series, lr_oversampled_predictions_nparray) * 100\n",
        "\n",
        "logx.print_and_log_text \\\n",
        "    ('\\033[1m' \\\n",
        "     + 'The balanced accuracy score for logistic regression oversampled from actual vs. test predictions is {:.2f}%' \\\n",
        "         .format(lr_oversampled_balanced_accuracy_score_float) \\\n",
        "     + '\\033[0m')"
      ]
    },
    {
      "cell_type": "code",
      "execution_count": 225,
      "id": "cLiNrA3Suo-p",
      "metadata": {
        "colab": {
          "base_uri": "https://localhost:8080/"
        },
        "id": "cLiNrA3Suo-p",
        "outputId": "09bbc055-0c1f-4bde-bd6c-df2bc03be905"
      },
      "outputs": [
        {
          "output_type": "stream",
          "name": "stdout",
          "text": [
            "\u001b[1mLOGISTIC REGRESSION MODEL (Oversampled)\n",
            "\u001b[0m\n",
            "1) \u001b[1mOverall Accuracy Score: \u001b[0m99.5%\n",
            "\n",
            "2) \u001b[1mConfusion Matrix:\n",
            "\u001b[0m\n",
            "                  Predicted Healthy  Predicted High-Risk\n",
            "Actual Healthy                18648                  126\n",
            "Actual High-Risk                  2                  608\n",
            "\n",
            "3) \u001b[1mClassification Report:\n",
            "\u001b[0m\n",
            "              precision    recall  f1-score   support\n",
            "\n",
            "     healthy       1.00      0.99      1.00     18774\n",
            "   high-risk       0.83      1.00      0.90       610\n",
            "\n",
            "    accuracy                           0.99     19384\n",
            "   macro avg       0.91      1.00      0.95     19384\n",
            "weighted avg       0.99      0.99      0.99     19384\n",
            "\n",
            "\n"
          ]
        }
      ],
      "source": [
        "lr_oversampled_accuracy_score_float, \\\n",
        "lr_oversampled_confusion_matrix_dataframe, \\\n",
        "lr_oversampled_classification_report_string \\\n",
        "    = classificationsx.return_binary_classification_confusion_matrix \\\n",
        "        (y_test_series,\n",
        "         lr_oversampled_predictions_nparray,\n",
        "         'LOGISTIC REGRESSION MODEL (Oversampled)',\n",
        "         'Healthy', 'High-Risk')\n",
        "\n",
        "model_performance_dictionary['logistic_regression'] \\\n",
        "    .append(lr_oversampled_accuracy_score_float * 100)\n",
        "\n",
        "model_performance_ranking_dictionary['logistic_regression_oversampled'] \\\n",
        "    = lr_oversampled_accuracy_score_float * 100"
      ]
    },
    {
      "cell_type": "markdown",
      "id": "e7r5LX-7uo-p",
      "metadata": {
        "id": "e7r5LX-7uo-p"
      },
      "source": [
        "### **Cluster Centroids**"
      ]
    },
    {
      "cell_type": "code",
      "execution_count": 226,
      "id": "9p5GIySvuo-p",
      "metadata": {
        "colab": {
          "base_uri": "https://localhost:8080/"
        },
        "id": "9p5GIySvuo-p",
        "outputId": "8a97fa7c-47d1-42f5-d951-0e0acd79a535"
      },
      "outputs": [
        {
          "output_type": "execute_result",
          "data": {
            "text/plain": [
              "{'C': 1.0,\n",
              " 'class_weight': 'balanced',\n",
              " 'dual': False,\n",
              " 'fit_intercept': True,\n",
              " 'intercept_scaling': 1,\n",
              " 'l1_ratio': None,\n",
              " 'max_iter': 10000000,\n",
              " 'multi_class': 'auto',\n",
              " 'n_jobs': None,\n",
              " 'penalty': 'l2',\n",
              " 'random_state': 21,\n",
              " 'solver': 'liblinear',\n",
              " 'tol': 0.0001,\n",
              " 'verbose': 0,\n",
              " 'warm_start': False}"
            ]
          },
          "metadata": {},
          "execution_count": 226
        }
      ],
      "source": [
        "logistic_regression_cluster_centroids_model.get_params()"
      ]
    },
    {
      "cell_type": "code",
      "execution_count": 227,
      "id": "Vk33Z0-Yuo-p",
      "metadata": {
        "colab": {
          "base_uri": "https://localhost:8080/"
        },
        "id": "Vk33Z0-Yuo-p",
        "outputId": "64d2110b-9005-4276-c65e-ab38ce0e4919"
      },
      "outputs": [
        {
          "output_type": "stream",
          "name": "stdout",
          "text": [
            "\u001b[1mThe balanced accuracy score for logistic regression cluster centroids from actual vs. test predictions is 99.37%\u001b[0m\n"
          ]
        }
      ],
      "source": [
        "lr_cluster_centroids_predictions_nparray \\\n",
        "    = logistic_regression_cluster_centroids_model.predict(x_test_scaled_dataframe)\n",
        "\n",
        "lr_cluster_centroids_balanced_accuracy_score_float \\\n",
        "    = accuracy_score(y_test_series, lr_cluster_centroids_predictions_nparray) * 100\n",
        "\n",
        "logx.print_and_log_text \\\n",
        "    ('\\033[1m' \\\n",
        "     + 'The balanced accuracy score for logistic regression cluster centroids from actual vs. test predictions is {:.2f}%' \\\n",
        "         .format(lr_cluster_centroids_balanced_accuracy_score_float) \\\n",
        "     + '\\033[0m')"
      ]
    },
    {
      "cell_type": "code",
      "execution_count": 228,
      "id": "3OINh5Jxuo-p",
      "metadata": {
        "colab": {
          "base_uri": "https://localhost:8080/"
        },
        "id": "3OINh5Jxuo-p",
        "outputId": "fc8a193a-6c28-46a9-d4ed-e94af0dd5f6d"
      },
      "outputs": [
        {
          "output_type": "stream",
          "name": "stdout",
          "text": [
            "\u001b[1mLOGISTIC REGRESSION MODEL (Cluster Centroids)\n",
            "\u001b[0m\n",
            "1) \u001b[1mOverall Accuracy Score: \u001b[0m99.52%\n",
            "\n",
            "2) \u001b[1mConfusion Matrix:\n",
            "\u001b[0m\n",
            "                  Predicted Healthy  Predicted High-Risk\n",
            "Actual Healthy                18654                  120\n",
            "Actual High-Risk                  2                  608\n",
            "\n",
            "3) \u001b[1mClassification Report:\n",
            "\u001b[0m\n",
            "              precision    recall  f1-score   support\n",
            "\n",
            "     healthy       1.00      0.99      1.00     18774\n",
            "   high-risk       0.84      1.00      0.91       610\n",
            "\n",
            "    accuracy                           0.99     19384\n",
            "   macro avg       0.92      1.00      0.95     19384\n",
            "weighted avg       0.99      0.99      0.99     19384\n",
            "\n",
            "\n"
          ]
        }
      ],
      "source": [
        "lr_cluster_centroids_accuracy_score_float, \\\n",
        "lr_cluster_centroids_confusion_matrix_dataframe, \\\n",
        "lr_cluster_centroids_classification_report_string \\\n",
        "    = classificationsx.return_binary_classification_confusion_matrix \\\n",
        "        (y_test_series,\n",
        "         lr_cluster_centroids_predictions_nparray,\n",
        "         'LOGISTIC REGRESSION MODEL (Cluster Centroids)',\n",
        "         'Healthy', 'High-Risk')\n",
        "\n",
        "model_performance_dictionary['logistic_regression'] \\\n",
        "    .append(lr_cluster_centroids_accuracy_score_float * 100)\n",
        "\n",
        "model_performance_ranking_dictionary['logistic_regression_cluster_centroids'] \\\n",
        "    = lr_cluster_centroids_accuracy_score_float * 100"
      ]
    },
    {
      "cell_type": "markdown",
      "id": "M0DvVEWduo-p",
      "metadata": {
        "id": "M0DvVEWduo-p"
      },
      "source": [
        "### **SMOTE**"
      ]
    },
    {
      "cell_type": "code",
      "execution_count": 229,
      "id": "0WcD8N4buo-q",
      "metadata": {
        "colab": {
          "base_uri": "https://localhost:8080/"
        },
        "id": "0WcD8N4buo-q",
        "outputId": "b3bbc605-bd3b-46a9-adb7-d092f183470c"
      },
      "outputs": [
        {
          "output_type": "execute_result",
          "data": {
            "text/plain": [
              "{'C': 1.0,\n",
              " 'class_weight': 'balanced',\n",
              " 'dual': False,\n",
              " 'fit_intercept': True,\n",
              " 'intercept_scaling': 1,\n",
              " 'l1_ratio': None,\n",
              " 'max_iter': 10000000,\n",
              " 'multi_class': 'auto',\n",
              " 'n_jobs': None,\n",
              " 'penalty': 'l2',\n",
              " 'random_state': 21,\n",
              " 'solver': 'liblinear',\n",
              " 'tol': 0.0001,\n",
              " 'verbose': 0,\n",
              " 'warm_start': False}"
            ]
          },
          "metadata": {},
          "execution_count": 229
        }
      ],
      "source": [
        "logistic_regression_SMOTE_model.get_params()"
      ]
    },
    {
      "cell_type": "code",
      "execution_count": 230,
      "id": "UNgNABAvuo-q",
      "metadata": {
        "colab": {
          "base_uri": "https://localhost:8080/"
        },
        "id": "UNgNABAvuo-q",
        "outputId": "e4b2cc01-f697-47ae-fe6a-443351314755"
      },
      "outputs": [
        {
          "output_type": "stream",
          "name": "stdout",
          "text": [
            "\u001b[1mThe balanced accuracy score for logistic regression SMOTE from actual vs. test predictions is 99.34%\u001b[0m\n"
          ]
        }
      ],
      "source": [
        "lr_SMOTE_predictions_nparray \\\n",
        "    = logistic_regression_SMOTE_model.predict(x_test_scaled_dataframe)\n",
        "\n",
        "lr_SMOTE_balanced_accuracy_score_float \\\n",
        "    = accuracy_score(y_test_series, lr_SMOTE_predictions_nparray) * 100\n",
        "\n",
        "logx.print_and_log_text \\\n",
        "    ('\\033[1m' \\\n",
        "     + 'The balanced accuracy score for logistic regression SMOTE from actual vs. test predictions is {:.2f}%' \\\n",
        "         .format(lr_SMOTE_balanced_accuracy_score_float) \\\n",
        "     + '\\033[0m')"
      ]
    },
    {
      "cell_type": "code",
      "execution_count": 231,
      "id": "nV_1Bvv-uo-q",
      "metadata": {
        "colab": {
          "base_uri": "https://localhost:8080/"
        },
        "id": "nV_1Bvv-uo-q",
        "outputId": "58771c93-75e3-42a2-b476-fc119bfde8c3"
      },
      "outputs": [
        {
          "output_type": "stream",
          "name": "stdout",
          "text": [
            "\u001b[1mLOGISTIC REGRESSION MODEL (SMOTE)\n",
            "\u001b[0m\n",
            "1) \u001b[1mOverall Accuracy Score: \u001b[0m99.5%\n",
            "\n",
            "2) \u001b[1mConfusion Matrix:\n",
            "\u001b[0m\n",
            "                  Predicted Healthy  Predicted High-Risk\n",
            "Actual Healthy                18648                  126\n",
            "Actual High-Risk                  2                  608\n",
            "\n",
            "3) \u001b[1mClassification Report:\n",
            "\u001b[0m\n",
            "              precision    recall  f1-score   support\n",
            "\n",
            "     healthy       1.00      0.99      1.00     18774\n",
            "   high-risk       0.83      1.00      0.90       610\n",
            "\n",
            "    accuracy                           0.99     19384\n",
            "   macro avg       0.91      1.00      0.95     19384\n",
            "weighted avg       0.99      0.99      0.99     19384\n",
            "\n",
            "\n"
          ]
        }
      ],
      "source": [
        "lr_SMOTE_accuracy_score_float, \\\n",
        "lr_SMOTE_confusion_matrix_dataframe, \\\n",
        "lr_SMOTE_classification_report_string \\\n",
        "    = classificationsx.return_binary_classification_confusion_matrix \\\n",
        "        (y_test_series,\n",
        "         lr_SMOTE_predictions_nparray,\n",
        "         'LOGISTIC REGRESSION MODEL (SMOTE)',\n",
        "         'Healthy', 'High-Risk')\n",
        "\n",
        "model_performance_dictionary['logistic_regression'] \\\n",
        "    .append(lr_SMOTE_accuracy_score_float * 100)\n",
        "\n",
        "model_performance_ranking_dictionary['logistic_regression_smote'] \\\n",
        "    = lr_SMOTE_accuracy_score_float * 100"
      ]
    },
    {
      "cell_type": "markdown",
      "id": "1U61uEfIuo-q",
      "metadata": {
        "id": "1U61uEfIuo-q"
      },
      "source": [
        "### **SMOTEENN**"
      ]
    },
    {
      "cell_type": "code",
      "execution_count": 232,
      "id": "Ufvwc6JUuo-q",
      "metadata": {
        "colab": {
          "base_uri": "https://localhost:8080/"
        },
        "id": "Ufvwc6JUuo-q",
        "outputId": "75c43ff1-a359-48ff-9245-70d94548e7b1"
      },
      "outputs": [
        {
          "output_type": "execute_result",
          "data": {
            "text/plain": [
              "{'C': 1.0,\n",
              " 'class_weight': None,\n",
              " 'dual': False,\n",
              " 'fit_intercept': True,\n",
              " 'intercept_scaling': 1,\n",
              " 'l1_ratio': None,\n",
              " 'max_iter': 10000000,\n",
              " 'multi_class': 'auto',\n",
              " 'n_jobs': None,\n",
              " 'penalty': 'l2',\n",
              " 'random_state': 21,\n",
              " 'solver': 'liblinear',\n",
              " 'tol': 0.0001,\n",
              " 'verbose': 0,\n",
              " 'warm_start': False}"
            ]
          },
          "metadata": {},
          "execution_count": 232
        }
      ],
      "source": [
        "logistic_regression_SMOTEENN_model.get_params()"
      ]
    },
    {
      "cell_type": "code",
      "execution_count": 233,
      "id": "TrBnfXz2uo-q",
      "metadata": {
        "colab": {
          "base_uri": "https://localhost:8080/"
        },
        "id": "TrBnfXz2uo-q",
        "outputId": "b4867a63-8402-43ee-8171-985e4800cdf1"
      },
      "outputs": [
        {
          "output_type": "stream",
          "name": "stdout",
          "text": [
            "\u001b[1mThe balanced accuracy score for logistic regression SMOTEENN from actual vs. test predictions is 99.30%\u001b[0m\n"
          ]
        }
      ],
      "source": [
        "lr_SMOTEENN_predictions_nparray \\\n",
        "    = logistic_regression_SMOTEENN_model.predict(x_test_scaled_dataframe)\n",
        "\n",
        "lr_SMOTEENN_balanced_accuracy_score_float \\\n",
        "    = accuracy_score(y_test_series, lr_SMOTEENN_predictions_nparray) * 100\n",
        "\n",
        "logx.print_and_log_text \\\n",
        "    ('\\033[1m' \\\n",
        "     + 'The balanced accuracy score for logistic regression SMOTEENN from actual vs. test predictions is {:.2f}%' \\\n",
        "         .format(lr_SMOTEENN_balanced_accuracy_score_float) \\\n",
        "     + '\\033[0m')"
      ]
    },
    {
      "cell_type": "code",
      "execution_count": 234,
      "id": "Le50j6dEuo-q",
      "metadata": {
        "colab": {
          "base_uri": "https://localhost:8080/"
        },
        "id": "Le50j6dEuo-q",
        "outputId": "3936ad3f-74a3-4846-8991-22455a07c57b"
      },
      "outputs": [
        {
          "output_type": "stream",
          "name": "stdout",
          "text": [
            "\u001b[1mLOGISTIC REGRESSION MODEL (SMOTEENN)\n",
            "\u001b[0m\n",
            "1) \u001b[1mOverall Accuracy Score: \u001b[0m99.48%\n",
            "\n",
            "2) \u001b[1mConfusion Matrix:\n",
            "\u001b[0m\n",
            "                  Predicted Healthy  Predicted High-Risk\n",
            "Actual Healthy                18641                  133\n",
            "Actual High-Risk                  2                  608\n",
            "\n",
            "3) \u001b[1mClassification Report:\n",
            "\u001b[0m\n",
            "              precision    recall  f1-score   support\n",
            "\n",
            "     healthy       1.00      0.99      1.00     18774\n",
            "   high-risk       0.82      1.00      0.90       610\n",
            "\n",
            "    accuracy                           0.99     19384\n",
            "   macro avg       0.91      0.99      0.95     19384\n",
            "weighted avg       0.99      0.99      0.99     19384\n",
            "\n",
            "\n"
          ]
        }
      ],
      "source": [
        "lr_SMOTEENN_accuracy_score_float, \\\n",
        "lr_SMOTEENN_confusion_matrix_dataframe, \\\n",
        "lr_SMOTEENN_classification_report_string \\\n",
        "    = classificationsx.return_binary_classification_confusion_matrix \\\n",
        "        (y_test_series,\n",
        "         lr_SMOTEENN_predictions_nparray,\n",
        "         'LOGISTIC REGRESSION MODEL (SMOTEENN)',\n",
        "         'Healthy', 'High-Risk')\n",
        "\n",
        "model_performance_dictionary['logistic_regression'] \\\n",
        "    .append(lr_SMOTEENN_accuracy_score_float * 100)\n",
        "\n",
        "model_performance_ranking_dictionary['logistic_regression_smoteen'] \\\n",
        "    = lr_SMOTEENN_accuracy_score_float * 100"
      ]
    },
    {
      "cell_type": "markdown",
      "id": "gzTZe44Auo-q",
      "metadata": {
        "id": "gzTZe44Auo-q"
      },
      "source": [
        "## **9.2: Decision Tree**"
      ]
    },
    {
      "cell_type": "markdown",
      "id": "2hp-SQl9uo-q",
      "metadata": {
        "id": "2hp-SQl9uo-q"
      },
      "source": [
        "### **Original**"
      ]
    },
    {
      "cell_type": "code",
      "execution_count": 235,
      "id": "hPw4p3mBuo-q",
      "metadata": {
        "colab": {
          "base_uri": "https://localhost:8080/"
        },
        "id": "hPw4p3mBuo-q",
        "outputId": "55233484-aa8f-41f2-cf59-3f21b2bcb638"
      },
      "outputs": [
        {
          "output_type": "execute_result",
          "data": {
            "text/plain": [
              "{'ccp_alpha': 0.0,\n",
              " 'class_weight': 'balanced',\n",
              " 'criterion': 'gini',\n",
              " 'max_depth': None,\n",
              " 'max_features': None,\n",
              " 'max_leaf_nodes': None,\n",
              " 'min_impurity_decrease': 0.0,\n",
              " 'min_samples_leaf': 1,\n",
              " 'min_samples_split': 2,\n",
              " 'min_weight_fraction_leaf': 0.0,\n",
              " 'random_state': 21,\n",
              " 'splitter': 'best'}"
            ]
          },
          "metadata": {},
          "execution_count": 235
        }
      ],
      "source": [
        "decision_tree_model.get_params()"
      ]
    },
    {
      "cell_type": "code",
      "execution_count": 236,
      "id": "HwwmEG7kuo-q",
      "metadata": {
        "colab": {
          "base_uri": "https://localhost:8080/"
        },
        "id": "HwwmEG7kuo-q",
        "outputId": "d590e232-a910-4c6a-9f4d-1ba06942f6e0"
      },
      "outputs": [
        {
          "output_type": "stream",
          "name": "stdout",
          "text": [
            "\u001b[1mThe balanced accuracy score for decision tree from actual vs. test predictions is 98.88%\u001b[0m\n"
          ]
        }
      ],
      "source": [
        "dt_predictions_nparray \\\n",
        "    = decision_tree_model.predict(x_test_scaled_dataframe)\n",
        "\n",
        "dt_balanced_accuracy_score_float \\\n",
        "    = accuracy_score(y_test_series, dt_predictions_nparray) * 100\n",
        "\n",
        "logx.print_and_log_text \\\n",
        "    ('\\033[1m'\n",
        "     + 'The balanced accuracy score for decision tree from actual vs. test predictions is {:.2f}%' \\\n",
        "         .format(dt_balanced_accuracy_score_float)\n",
        "     + '\\033[0m')"
      ]
    },
    {
      "cell_type": "code",
      "execution_count": 237,
      "id": "N-rhYDs0uo-r",
      "metadata": {
        "colab": {
          "base_uri": "https://localhost:8080/"
        },
        "id": "N-rhYDs0uo-r",
        "outputId": "4cf512ac-c726-44d9-de25-624aa155e7c3"
      },
      "outputs": [
        {
          "output_type": "stream",
          "name": "stdout",
          "text": [
            "\u001b[1mDECISION TREE MODEL\n",
            "\u001b[0m\n",
            "1) \u001b[1mOverall Accuracy Score: \u001b[0m92.12%\n",
            "\n",
            "2) \u001b[1mConfusion Matrix:\n",
            "\u001b[0m\n",
            "                  Predicted Healthy  Predicted High-Risk\n",
            "Actual Healthy                18648                  126\n",
            "Actual High-Risk                 92                  518\n",
            "\n",
            "3) \u001b[1mClassification Report:\n",
            "\u001b[0m\n",
            "              precision    recall  f1-score   support\n",
            "\n",
            "     healthy       1.00      0.99      0.99     18774\n",
            "   high-risk       0.80      0.85      0.83       610\n",
            "\n",
            "    accuracy                           0.99     19384\n",
            "   macro avg       0.90      0.92      0.91     19384\n",
            "weighted avg       0.99      0.99      0.99     19384\n",
            "\n",
            "\n"
          ]
        }
      ],
      "source": [
        "dt_accuracy_score_float, \\\n",
        "dt_confusion_matrix_dataframe, \\\n",
        "dt_classification_report_string \\\n",
        "    = classificationsx.return_binary_classification_confusion_matrix \\\n",
        "        (y_test_series,\n",
        "         dt_predictions_nparray,\n",
        "         'DECISION TREE MODEL',\n",
        "         'Healthy', 'High-Risk')\n",
        "\n",
        "model_performance_dictionary['decision_tree'] \\\n",
        "    = [dt_accuracy_score_float * 100]\n",
        "\n",
        "model_performance_ranking_dictionary['decision_tree'] \\\n",
        "    = dt_accuracy_score_float * 100"
      ]
    },
    {
      "cell_type": "markdown",
      "id": "S_va_krVuo-r",
      "metadata": {
        "id": "S_va_krVuo-r"
      },
      "source": [
        "### **Random Undersampling**"
      ]
    },
    {
      "cell_type": "code",
      "execution_count": 238,
      "id": "qI5vhEoHuo-r",
      "metadata": {
        "colab": {
          "base_uri": "https://localhost:8080/"
        },
        "id": "qI5vhEoHuo-r",
        "outputId": "3c060f5f-9540-4d31-d34d-3c0e2d024117"
      },
      "outputs": [
        {
          "output_type": "execute_result",
          "data": {
            "text/plain": [
              "{'ccp_alpha': 0.0,\n",
              " 'class_weight': 'balanced',\n",
              " 'criterion': 'gini',\n",
              " 'max_depth': None,\n",
              " 'max_features': None,\n",
              " 'max_leaf_nodes': None,\n",
              " 'min_impurity_decrease': 0.0,\n",
              " 'min_samples_leaf': 1,\n",
              " 'min_samples_split': 2,\n",
              " 'min_weight_fraction_leaf': 0.0,\n",
              " 'random_state': 21,\n",
              " 'splitter': 'random'}"
            ]
          },
          "metadata": {},
          "execution_count": 238
        }
      ],
      "source": [
        "decision_tree_undersampled_model.get_params()"
      ]
    },
    {
      "cell_type": "code",
      "execution_count": 239,
      "id": "GIpC0gYYuo-r",
      "metadata": {
        "colab": {
          "base_uri": "https://localhost:8080/"
        },
        "id": "GIpC0gYYuo-r",
        "outputId": "9a3f95bf-2fe0-4817-f8ef-325e765e7e6f"
      },
      "outputs": [
        {
          "output_type": "stream",
          "name": "stdout",
          "text": [
            "\u001b[1mThe balanced accuracy score for decision tree undersampled from actual vs. test predictions is 98.82%\u001b[0m\n"
          ]
        }
      ],
      "source": [
        "dt_undersampled_predictions_nparray \\\n",
        "    = decision_tree_undersampled_model.predict(x_test_scaled_dataframe)\n",
        "\n",
        "dt_undersampled_balanced_accuracy_score_float \\\n",
        "    = accuracy_score(y_test_series, dt_undersampled_predictions_nparray) * 100\n",
        "\n",
        "logx.print_and_log_text \\\n",
        "    ('\\033[1m' \\\n",
        "     + 'The balanced accuracy score for decision tree undersampled from actual vs. test predictions is {:.2f}%' \\\n",
        "         .format(dt_undersampled_balanced_accuracy_score_float) \\\n",
        "     + '\\033[0m')"
      ]
    },
    {
      "cell_type": "code",
      "execution_count": 240,
      "id": "PInMrH84uo-r",
      "metadata": {
        "colab": {
          "base_uri": "https://localhost:8080/"
        },
        "id": "PInMrH84uo-r",
        "outputId": "d3f81719-07f7-46f3-82a4-e1bfa364acfb"
      },
      "outputs": [
        {
          "output_type": "stream",
          "name": "stdout",
          "text": [
            "\u001b[1mDECISION TREE MODEL (Undersampled)\n",
            "\u001b[0m\n",
            "1) \u001b[1mOverall Accuracy Score: \u001b[0m99.0%\n",
            "\n",
            "2) \u001b[1mConfusion Matrix:\n",
            "\u001b[0m\n",
            "                  Predicted Healthy  Predicted High-Risk\n",
            "Actual Healthy                18551                  223\n",
            "Actual High-Risk                  5                  605\n",
            "\n",
            "3) \u001b[1mClassification Report:\n",
            "\u001b[0m\n",
            "              precision    recall  f1-score   support\n",
            "\n",
            "     healthy       1.00      0.99      0.99     18774\n",
            "   high-risk       0.73      0.99      0.84       610\n",
            "\n",
            "    accuracy                           0.99     19384\n",
            "   macro avg       0.87      0.99      0.92     19384\n",
            "weighted avg       0.99      0.99      0.99     19384\n",
            "\n",
            "\n"
          ]
        }
      ],
      "source": [
        "dt_undersampled_accuracy_score_float, \\\n",
        "dt_undersampled_confusion_matrix_dataframe, \\\n",
        "dt_undersampled_classification_report_string \\\n",
        "    = classificationsx.return_binary_classification_confusion_matrix \\\n",
        "        (y_test_series,\n",
        "         dt_undersampled_predictions_nparray,\n",
        "         'DECISION TREE MODEL (Undersampled)',\n",
        "         'Healthy', 'High-Risk')\n",
        "\n",
        "model_performance_dictionary['decision_tree'] \\\n",
        "    .append(dt_undersampled_accuracy_score_float * 100)\n",
        "\n",
        "model_performance_ranking_dictionary['decision_tree_undersampling'] \\\n",
        "    = dt_undersampled_accuracy_score_float * 100"
      ]
    },
    {
      "cell_type": "markdown",
      "id": "GkjdufsCuo-r",
      "metadata": {
        "id": "GkjdufsCuo-r"
      },
      "source": [
        "### **Random Oversampling**"
      ]
    },
    {
      "cell_type": "code",
      "execution_count": 241,
      "id": "sCpjFtU3uo-r",
      "metadata": {
        "colab": {
          "base_uri": "https://localhost:8080/"
        },
        "id": "sCpjFtU3uo-r",
        "outputId": "7822642b-050e-4f2e-daec-d29ce7b36d45"
      },
      "outputs": [
        {
          "output_type": "execute_result",
          "data": {
            "text/plain": [
              "{'ccp_alpha': 0.0,\n",
              " 'class_weight': 'balanced',\n",
              " 'criterion': 'entropy',\n",
              " 'max_depth': None,\n",
              " 'max_features': None,\n",
              " 'max_leaf_nodes': None,\n",
              " 'min_impurity_decrease': 0.0,\n",
              " 'min_samples_leaf': 1,\n",
              " 'min_samples_split': 2,\n",
              " 'min_weight_fraction_leaf': 0.0,\n",
              " 'random_state': 21,\n",
              " 'splitter': 'best'}"
            ]
          },
          "metadata": {},
          "execution_count": 241
        }
      ],
      "source": [
        "decision_tree_oversampled_model.get_params()"
      ]
    },
    {
      "cell_type": "code",
      "execution_count": 242,
      "id": "CknaBAmfuo-r",
      "metadata": {
        "colab": {
          "base_uri": "https://localhost:8080/"
        },
        "id": "CknaBAmfuo-r",
        "outputId": "a3ea7c3e-769a-4713-c41d-6798592230bc"
      },
      "outputs": [
        {
          "output_type": "stream",
          "name": "stdout",
          "text": [
            "\u001b[1mThe balanced accuracy score for decision tree oversampled from actual vs. test predictions is 98.81%\u001b[0m\n"
          ]
        }
      ],
      "source": [
        "dt_oversampled_predictions_nparray \\\n",
        "    = decision_tree_oversampled_model.predict(x_test_scaled_dataframe)\n",
        "\n",
        "dt_oversampled_balanced_accuracy_score_float \\\n",
        "    = accuracy_score(y_test_series, dt_oversampled_predictions_nparray) * 100\n",
        "\n",
        "logx.print_and_log_text \\\n",
        "    ('\\033[1m' \\\n",
        "     + 'The balanced accuracy score for decision tree oversampled from actual vs. test predictions is {:.2f}%' \\\n",
        "         .format(dt_oversampled_balanced_accuracy_score_float) \\\n",
        "     + '\\033[0m')"
      ]
    },
    {
      "cell_type": "code",
      "execution_count": 243,
      "id": "9j5hl5NMuo-r",
      "metadata": {
        "colab": {
          "base_uri": "https://localhost:8080/"
        },
        "id": "9j5hl5NMuo-r",
        "outputId": "784563be-724d-4eee-e15a-28f7fe17dd6b"
      },
      "outputs": [
        {
          "output_type": "stream",
          "name": "stdout",
          "text": [
            "\u001b[1mDECISION TREE MODEL (Oversampled)\n",
            "\u001b[0m\n",
            "1) \u001b[1mOverall Accuracy Score: \u001b[0m93.36%\n",
            "\n",
            "2) \u001b[1mConfusion Matrix:\n",
            "\u001b[0m\n",
            "                  Predicted Healthy  Predicted High-Risk\n",
            "Actual Healthy                18619                  155\n",
            "Actual High-Risk                 76                  534\n",
            "\n",
            "3) \u001b[1mClassification Report:\n",
            "\u001b[0m\n",
            "              precision    recall  f1-score   support\n",
            "\n",
            "     healthy       1.00      0.99      0.99     18774\n",
            "   high-risk       0.78      0.88      0.82       610\n",
            "\n",
            "    accuracy                           0.99     19384\n",
            "   macro avg       0.89      0.93      0.91     19384\n",
            "weighted avg       0.99      0.99      0.99     19384\n",
            "\n",
            "\n"
          ]
        }
      ],
      "source": [
        "dt_oversampled_accuracy_score_float, \\\n",
        "dt_oversampled_confusion_matrix_dataframe, \\\n",
        "dt_oversampled_classification_report_string \\\n",
        "    = classificationsx.return_binary_classification_confusion_matrix \\\n",
        "        (y_test_series,\n",
        "         dt_oversampled_predictions_nparray,\n",
        "         'DECISION TREE MODEL (Oversampled)',\n",
        "         'Healthy', 'High-Risk')\n",
        "\n",
        "model_performance_dictionary['decision_tree'] \\\n",
        "    .append(dt_oversampled_accuracy_score_float * 100)\n",
        "\n",
        "model_performance_ranking_dictionary['decision_tree_oversampling'] \\\n",
        "    = dt_oversampled_accuracy_score_float * 100"
      ]
    },
    {
      "cell_type": "markdown",
      "id": "R92yhstyuo-r",
      "metadata": {
        "id": "R92yhstyuo-r"
      },
      "source": [
        "### **Cluster Centroids**"
      ]
    },
    {
      "cell_type": "code",
      "execution_count": 244,
      "id": "CmdjmuPKuo-r",
      "metadata": {
        "colab": {
          "base_uri": "https://localhost:8080/"
        },
        "id": "CmdjmuPKuo-r",
        "outputId": "65fb2963-b2f0-44e0-c7a2-6e88c83ab2a5"
      },
      "outputs": [
        {
          "output_type": "execute_result",
          "data": {
            "text/plain": [
              "{'ccp_alpha': 0.0,\n",
              " 'class_weight': 'balanced',\n",
              " 'criterion': 'entropy',\n",
              " 'max_depth': None,\n",
              " 'max_features': None,\n",
              " 'max_leaf_nodes': None,\n",
              " 'min_impurity_decrease': 0.0,\n",
              " 'min_samples_leaf': 1,\n",
              " 'min_samples_split': 2,\n",
              " 'min_weight_fraction_leaf': 0.0,\n",
              " 'random_state': 21,\n",
              " 'splitter': 'random'}"
            ]
          },
          "metadata": {},
          "execution_count": 244
        }
      ],
      "source": [
        "decision_tree_cluster_centroids_model.get_params()"
      ]
    },
    {
      "cell_type": "code",
      "execution_count": 245,
      "id": "4qlQC0sLuo-r",
      "metadata": {
        "colab": {
          "base_uri": "https://localhost:8080/"
        },
        "id": "4qlQC0sLuo-r",
        "outputId": "053c5958-47b0-45d7-97e8-b41d93f584d4"
      },
      "outputs": [
        {
          "output_type": "stream",
          "name": "stdout",
          "text": [
            "\u001b[1mThe balanced accuracy score for decision tree cluster centroids from actual vs. test predictions is 99.01%\u001b[0m\n"
          ]
        }
      ],
      "source": [
        "dt_cluster_centroids_predictions_nparray \\\n",
        "    = decision_tree_cluster_centroids_model.predict(x_test_scaled_dataframe)\n",
        "\n",
        "dt_cluster_centroids_balanced_accuracy_score_float \\\n",
        "    = accuracy_score(y_test_series, dt_cluster_centroids_predictions_nparray) * 100\n",
        "\n",
        "logx.print_and_log_text \\\n",
        "    ('\\033[1m' \\\n",
        "     + 'The balanced accuracy score for decision tree cluster centroids from actual vs. test predictions is {:.2f}%' \\\n",
        "         .format(dt_cluster_centroids_balanced_accuracy_score_float) \\\n",
        "     + '\\033[0m')"
      ]
    },
    {
      "cell_type": "code",
      "execution_count": 246,
      "id": "CmPd5ewruo-s",
      "metadata": {
        "colab": {
          "base_uri": "https://localhost:8080/"
        },
        "id": "CmPd5ewruo-s",
        "outputId": "7bc57fc6-6b6d-40d0-ed1f-1993d79f06e9"
      },
      "outputs": [
        {
          "output_type": "stream",
          "name": "stdout",
          "text": [
            "\u001b[1mDECISION TREE MODEL (Cluster Centroids)\n",
            "\u001b[0m\n",
            "1) \u001b[1mOverall Accuracy Score: \u001b[0m93.94%\n",
            "\n",
            "2) \u001b[1mConfusion Matrix:\n",
            "\u001b[0m\n",
            "                  Predicted Healthy  Predicted High-Risk\n",
            "Actual Healthy                18653                  121\n",
            "Actual High-Risk                 70                  540\n",
            "\n",
            "3) \u001b[1mClassification Report:\n",
            "\u001b[0m\n",
            "              precision    recall  f1-score   support\n",
            "\n",
            "     healthy       1.00      0.99      0.99     18774\n",
            "   high-risk       0.82      0.89      0.85       610\n",
            "\n",
            "    accuracy                           0.99     19384\n",
            "   macro avg       0.91      0.94      0.92     19384\n",
            "weighted avg       0.99      0.99      0.99     19384\n",
            "\n",
            "\n"
          ]
        }
      ],
      "source": [
        "dt_cluster_centroids_accuracy_score_float, \\\n",
        "dt_cluster_centroids_confusion_matrix_dataframe, \\\n",
        "dt_cluster_centroids_classification_report_string \\\n",
        "    = classificationsx.return_binary_classification_confusion_matrix \\\n",
        "        (y_test_series,\n",
        "         dt_cluster_centroids_predictions_nparray,\n",
        "         'DECISION TREE MODEL (Cluster Centroids)',\n",
        "         'Healthy', 'High-Risk')\n",
        "\n",
        "model_performance_dictionary['decision_tree'] \\\n",
        "    .append(dt_cluster_centroids_accuracy_score_float * 100)\n",
        "\n",
        "model_performance_ranking_dictionary['decision_tree_cluster_centroids'] \\\n",
        "    = dt_cluster_centroids_accuracy_score_float * 100"
      ]
    },
    {
      "cell_type": "markdown",
      "id": "dfLC9yDouo-s",
      "metadata": {
        "id": "dfLC9yDouo-s"
      },
      "source": [
        "### **SMOTE**"
      ]
    },
    {
      "cell_type": "code",
      "execution_count": 247,
      "id": "yJnP2imquo-s",
      "metadata": {
        "colab": {
          "base_uri": "https://localhost:8080/"
        },
        "id": "yJnP2imquo-s",
        "outputId": "dfc63520-6968-4653-b710-33632f447998"
      },
      "outputs": [
        {
          "output_type": "execute_result",
          "data": {
            "text/plain": [
              "{'ccp_alpha': 0.0,\n",
              " 'class_weight': 'balanced',\n",
              " 'criterion': 'gini',\n",
              " 'max_depth': None,\n",
              " 'max_features': None,\n",
              " 'max_leaf_nodes': None,\n",
              " 'min_impurity_decrease': 0.0,\n",
              " 'min_samples_leaf': 1,\n",
              " 'min_samples_split': 2,\n",
              " 'min_weight_fraction_leaf': 0.0,\n",
              " 'random_state': 21,\n",
              " 'splitter': 'best'}"
            ]
          },
          "metadata": {},
          "execution_count": 247
        }
      ],
      "source": [
        "decision_tree_SMOTE_model.get_params()"
      ]
    },
    {
      "cell_type": "code",
      "execution_count": 248,
      "id": "y2O_yFo_uo-s",
      "metadata": {
        "colab": {
          "base_uri": "https://localhost:8080/"
        },
        "id": "y2O_yFo_uo-s",
        "outputId": "6ba175b2-1f91-4750-8667-dce1aba5a4e6"
      },
      "outputs": [
        {
          "output_type": "stream",
          "name": "stdout",
          "text": [
            "\u001b[1mThe balanced accuracy score for decision tree SMOTE from actual vs. test predictions is 55.65%\u001b[0m\n"
          ]
        }
      ],
      "source": [
        "dt_SMOTE_predictions_nparray \\\n",
        "    = decision_tree_SMOTE_model.predict(x_test_scaled_dataframe)\n",
        "\n",
        "dt_SMOTE_balanced_accuracy_score_float \\\n",
        "    = accuracy_score(y_test_series, dt_SMOTE_predictions_nparray) * 100\n",
        "\n",
        "logx.print_and_log_text \\\n",
        "    ('\\033[1m' \\\n",
        "     + 'The balanced accuracy score for decision tree SMOTE from actual vs. test predictions is {:.2f}%' \\\n",
        "         .format(dt_SMOTE_balanced_accuracy_score_float) \\\n",
        "     + '\\033[0m')"
      ]
    },
    {
      "cell_type": "code",
      "execution_count": 249,
      "id": "EiBJmbyTuo-s",
      "metadata": {
        "colab": {
          "base_uri": "https://localhost:8080/"
        },
        "id": "EiBJmbyTuo-s",
        "outputId": "bf63a62a-ca7e-4f68-e527-024063b8744e"
      },
      "outputs": [
        {
          "output_type": "stream",
          "name": "stdout",
          "text": [
            "\u001b[1mDECISION TREE MODEL (SMOTE)\n",
            "\u001b[0m\n",
            "1) \u001b[1mOverall Accuracy Score: \u001b[0m72.74%\n",
            "\n",
            "2) \u001b[1mConfusion Matrix:\n",
            "\u001b[0m\n",
            "                  Predicted Healthy  Predicted High-Risk\n",
            "Actual Healthy                10233                 8541\n",
            "Actual High-Risk                 55                  555\n",
            "\n",
            "3) \u001b[1mClassification Report:\n",
            "\u001b[0m\n",
            "              precision    recall  f1-score   support\n",
            "\n",
            "     healthy       0.99      0.55      0.70     18774\n",
            "   high-risk       0.06      0.91      0.11       610\n",
            "\n",
            "    accuracy                           0.56     19384\n",
            "   macro avg       0.53      0.73      0.41     19384\n",
            "weighted avg       0.97      0.56      0.69     19384\n",
            "\n",
            "\n"
          ]
        }
      ],
      "source": [
        "dt_SMOTE_accuracy_score_float, \\\n",
        "dt_SMOTE_confusion_matrix_dataframe, \\\n",
        "dt_SMOTE_classification_report_string \\\n",
        "    = classificationsx.return_binary_classification_confusion_matrix \\\n",
        "        (y_test_series,\n",
        "         dt_SMOTE_predictions_nparray,\n",
        "         'DECISION TREE MODEL (SMOTE)',\n",
        "         'Healthy', 'High-Risk')\n",
        "\n",
        "model_performance_dictionary['decision_tree'] \\\n",
        "    .append(dt_SMOTE_accuracy_score_float * 100)\n",
        "\n",
        "model_performance_ranking_dictionary['decision_tree_smote'] \\\n",
        "    = dt_SMOTE_accuracy_score_float * 100"
      ]
    },
    {
      "cell_type": "markdown",
      "id": "CNB8YqrVuo-s",
      "metadata": {
        "id": "CNB8YqrVuo-s"
      },
      "source": [
        "### **SMOTEENN**"
      ]
    },
    {
      "cell_type": "code",
      "execution_count": 250,
      "id": "FjyoO3pVuo-s",
      "metadata": {
        "colab": {
          "base_uri": "https://localhost:8080/"
        },
        "id": "FjyoO3pVuo-s",
        "outputId": "cae0b0d0-fdbd-4bad-cfda-7fa18dcfd1c2"
      },
      "outputs": [
        {
          "output_type": "execute_result",
          "data": {
            "text/plain": [
              "{'ccp_alpha': 0.0,\n",
              " 'class_weight': 'balanced',\n",
              " 'criterion': 'gini',\n",
              " 'max_depth': None,\n",
              " 'max_features': None,\n",
              " 'max_leaf_nodes': None,\n",
              " 'min_impurity_decrease': 0.0,\n",
              " 'min_samples_leaf': 1,\n",
              " 'min_samples_split': 2,\n",
              " 'min_weight_fraction_leaf': 0.0,\n",
              " 'random_state': 21,\n",
              " 'splitter': 'best'}"
            ]
          },
          "metadata": {},
          "execution_count": 250
        }
      ],
      "source": [
        "decision_tree_SMOTEENN_model.get_params()"
      ]
    },
    {
      "cell_type": "code",
      "execution_count": 251,
      "id": "hA73WqfOuo-s",
      "metadata": {
        "colab": {
          "base_uri": "https://localhost:8080/"
        },
        "id": "hA73WqfOuo-s",
        "outputId": "95859941-df9b-478d-850f-0b52ed476ce7"
      },
      "outputs": [
        {
          "output_type": "stream",
          "name": "stdout",
          "text": [
            "\u001b[1mThe balanced accuracy score for decision tree SMOTEENN from actual vs. test predictions is 87.83%\u001b[0m\n"
          ]
        }
      ],
      "source": [
        "dt_SMOTEENN_predictions_nparray \\\n",
        "    = decision_tree_SMOTEENN_model.predict(x_test_scaled_dataframe)\n",
        "\n",
        "dt_SMOTEENN_balanced_accuracy_score_float \\\n",
        "    = accuracy_score(y_test_series, dt_SMOTEENN_predictions_nparray) * 100\n",
        "\n",
        "logx.print_and_log_text \\\n",
        "    ('\\033[1m' \\\n",
        "     + 'The balanced accuracy score for decision tree SMOTEENN from actual vs. test predictions is {:.2f}%' \\\n",
        "         .format(dt_SMOTEENN_balanced_accuracy_score_float) \\\n",
        "     + '\\033[0m')"
      ]
    },
    {
      "cell_type": "code",
      "execution_count": 252,
      "id": "NvcHaXHDuo-s",
      "metadata": {
        "colab": {
          "base_uri": "https://localhost:8080/"
        },
        "id": "NvcHaXHDuo-s",
        "outputId": "1d0232c4-b0b0-4740-d6e7-c00aae098bb0"
      },
      "outputs": [
        {
          "output_type": "stream",
          "name": "stdout",
          "text": [
            "\u001b[1mDECISION TREE MODEL (SMOTEENN)\n",
            "\u001b[0m\n",
            "1) \u001b[1mOverall Accuracy Score: \u001b[0m93.71%\n",
            "\n",
            "2) \u001b[1mConfusion Matrix:\n",
            "\u001b[0m\n",
            "                  Predicted Healthy  Predicted High-Risk\n",
            "Actual Healthy                16414                 2360\n",
            "Actual High-Risk                  0                  610\n",
            "\n",
            "3) \u001b[1mClassification Report:\n",
            "\u001b[0m\n",
            "              precision    recall  f1-score   support\n",
            "\n",
            "     healthy       1.00      0.87      0.93     18774\n",
            "   high-risk       0.21      1.00      0.34       610\n",
            "\n",
            "    accuracy                           0.88     19384\n",
            "   macro avg       0.60      0.94      0.64     19384\n",
            "weighted avg       0.97      0.88      0.91     19384\n",
            "\n",
            "\n"
          ]
        }
      ],
      "source": [
        "dt_SMOTEENN_accuracy_score_float, \\\n",
        "dt_SMOTEENN_confusion_matrix_dataframe, \\\n",
        "dt_SMOTEENN_classification_report_string \\\n",
        "    = classificationsx.return_binary_classification_confusion_matrix \\\n",
        "        (y_test_series,\n",
        "         dt_SMOTEENN_predictions_nparray,\n",
        "         'DECISION TREE MODEL (SMOTEENN)',\n",
        "         'Healthy', 'High-Risk')\n",
        "\n",
        "model_performance_dictionary['decision_tree'] \\\n",
        "    .append(dt_SMOTEENN_accuracy_score_float * 100)\n",
        "\n",
        "model_performance_ranking_dictionary['decision_tree_smoteen'] \\\n",
        "    = dt_SMOTEENN_accuracy_score_float * 100"
      ]
    },
    {
      "cell_type": "markdown",
      "id": "D2cD3yHSuo-t",
      "metadata": {
        "id": "D2cD3yHSuo-t"
      },
      "source": [
        "## **9.3: Random Forest**"
      ]
    },
    {
      "cell_type": "markdown",
      "id": "408eUBJ_uo-t",
      "metadata": {
        "id": "408eUBJ_uo-t"
      },
      "source": [
        "### **Original**"
      ]
    },
    {
      "cell_type": "code",
      "execution_count": 253,
      "id": "K1AypO9wuo-t",
      "metadata": {
        "colab": {
          "base_uri": "https://localhost:8080/"
        },
        "id": "K1AypO9wuo-t",
        "outputId": "fee58dc5-2727-4efc-eb20-b4885390b6a2"
      },
      "outputs": [
        {
          "output_type": "execute_result",
          "data": {
            "text/plain": [
              "{'bootstrap': True,\n",
              " 'ccp_alpha': 0.0,\n",
              " 'class_weight': 'balanced_subsample',\n",
              " 'criterion': 'entropy',\n",
              " 'max_depth': None,\n",
              " 'max_features': 'sqrt',\n",
              " 'max_leaf_nodes': None,\n",
              " 'max_samples': None,\n",
              " 'min_impurity_decrease': 0.0,\n",
              " 'min_samples_leaf': 1,\n",
              " 'min_samples_split': 2,\n",
              " 'min_weight_fraction_leaf': 0.0,\n",
              " 'n_estimators': 200,\n",
              " 'n_jobs': None,\n",
              " 'oob_score': False,\n",
              " 'random_state': 21,\n",
              " 'verbose': 0,\n",
              " 'warm_start': False}"
            ]
          },
          "metadata": {},
          "execution_count": 253
        }
      ],
      "source": [
        "random_forest_model.get_params()"
      ]
    },
    {
      "cell_type": "code",
      "execution_count": 254,
      "id": "qRL8EviCuo-t",
      "metadata": {
        "colab": {
          "base_uri": "https://localhost:8080/"
        },
        "id": "qRL8EviCuo-t",
        "outputId": "6b925e9d-3fe8-42d9-eef7-f344a3a08603"
      },
      "outputs": [
        {
          "output_type": "stream",
          "name": "stdout",
          "text": [
            "\u001b[1mThe balanced accuracy score for random forest from actual vs. test predictions is 99.25%\u001b[0m\n"
          ]
        }
      ],
      "source": [
        "rt_predictions_nparray \\\n",
        "    = random_forest_model.predict(x_test_scaled_dataframe)\n",
        "\n",
        "rf_balanced_accuracy_score_float \\\n",
        "    = accuracy_score(y_test_series, rt_predictions_nparray) * 100\n",
        "\n",
        "logx.print_and_log_text \\\n",
        "    ('\\033[1m' \\\n",
        "     + 'The balanced accuracy score for random forest from actual vs. test predictions is {:.2f}%' \\\n",
        "         .format(rf_balanced_accuracy_score_float) \\\n",
        "     + '\\033[0m')"
      ]
    },
    {
      "cell_type": "code",
      "execution_count": 255,
      "id": "Gdct5bFquo-t",
      "metadata": {
        "colab": {
          "base_uri": "https://localhost:8080/"
        },
        "id": "Gdct5bFquo-t",
        "outputId": "16887f69-3ec2-4cd7-d3cc-b05578e0aaa9"
      },
      "outputs": [
        {
          "output_type": "stream",
          "name": "stdout",
          "text": [
            "\u001b[1mRANDOM FOREST MODEL\n",
            "\u001b[0m\n",
            "1) \u001b[1mOverall Accuracy Score: \u001b[0m97.55%\n",
            "\n",
            "2) \u001b[1mConfusion Matrix:\n",
            "\u001b[0m\n",
            "                  Predicted Healthy  Predicted High-Risk\n",
            "Actual Healthy                18655                  119\n",
            "Actual High-Risk                 26                  584\n",
            "\n",
            "3) \u001b[1mClassification Report:\n",
            "\u001b[0m\n",
            "              precision    recall  f1-score   support\n",
            "\n",
            "     healthy       1.00      0.99      1.00     18774\n",
            "   high-risk       0.83      0.96      0.89       610\n",
            "\n",
            "    accuracy                           0.99     19384\n",
            "   macro avg       0.91      0.98      0.94     19384\n",
            "weighted avg       0.99      0.99      0.99     19384\n",
            "\n",
            "\n"
          ]
        }
      ],
      "source": [
        "rf_accuracy_score_float, rf_confusion_matrix_dataframe, rf_classification_report_string \\\n",
        "    = classificationsx.return_binary_classification_confusion_matrix \\\n",
        "        (y_test_series,\n",
        "         rt_predictions_nparray,\n",
        "         'RANDOM FOREST MODEL',\n",
        "         'Healthy', 'High-Risk')\n",
        "\n",
        "model_performance_dictionary['random_forest'] \\\n",
        "    = [rf_accuracy_score_float * 100]\n",
        "\n",
        "model_performance_ranking_dictionary['random_forest'] \\\n",
        "    = rf_accuracy_score_float * 100"
      ]
    },
    {
      "cell_type": "markdown",
      "id": "xOPWO3-Yuo-t",
      "metadata": {
        "id": "xOPWO3-Yuo-t"
      },
      "source": [
        "### **Random Undersampling**"
      ]
    },
    {
      "cell_type": "code",
      "execution_count": 256,
      "id": "YIDUfJZSuo-t",
      "metadata": {
        "colab": {
          "base_uri": "https://localhost:8080/"
        },
        "id": "YIDUfJZSuo-t",
        "outputId": "e27c03c2-8064-409a-aaf5-a3cdb8c05c71"
      },
      "outputs": [
        {
          "output_type": "execute_result",
          "data": {
            "text/plain": [
              "{'bootstrap': True,\n",
              " 'ccp_alpha': 0.0,\n",
              " 'class_weight': 'balanced',\n",
              " 'criterion': 'gini',\n",
              " 'max_depth': None,\n",
              " 'max_features': 'sqrt',\n",
              " 'max_leaf_nodes': None,\n",
              " 'max_samples': None,\n",
              " 'min_impurity_decrease': 0.0,\n",
              " 'min_samples_leaf': 1,\n",
              " 'min_samples_split': 2,\n",
              " 'min_weight_fraction_leaf': 0.0,\n",
              " 'n_estimators': 200,\n",
              " 'n_jobs': None,\n",
              " 'oob_score': False,\n",
              " 'random_state': 21,\n",
              " 'verbose': 0,\n",
              " 'warm_start': False}"
            ]
          },
          "metadata": {},
          "execution_count": 256
        }
      ],
      "source": [
        "random_forest_undersampled_model.get_params()"
      ]
    },
    {
      "cell_type": "code",
      "execution_count": 257,
      "id": "7PZU8vVnuo-t",
      "metadata": {
        "colab": {
          "base_uri": "https://localhost:8080/"
        },
        "id": "7PZU8vVnuo-t",
        "outputId": "8408fee8-3e04-4440-ec92-cbe89bfe4901"
      },
      "outputs": [
        {
          "output_type": "stream",
          "name": "stdout",
          "text": [
            "\u001b[1mThe balanced accuracy score for random forest undersampled from actual vs. test predictions is 99.25%\u001b[0m\n"
          ]
        }
      ],
      "source": [
        "rt_undersampled_predictions_nparray \\\n",
        "    = random_forest_undersampled_model.predict(x_test_scaled_dataframe)\n",
        "\n",
        "rf_undersampled_balanced_accuracy_score_float \\\n",
        "    = accuracy_score(y_test_series, rt_undersampled_predictions_nparray) * 100\n",
        "\n",
        "logx.print_and_log_text \\\n",
        "    ('\\033[1m' \\\n",
        "     + 'The balanced accuracy score for random forest undersampled from actual vs. test predictions is {:.2f}%' \\\n",
        "         .format(rf_undersampled_balanced_accuracy_score_float) \\\n",
        "     + '\\033[0m')"
      ]
    },
    {
      "cell_type": "code",
      "execution_count": 258,
      "id": "Hut83df5uo-t",
      "metadata": {
        "colab": {
          "base_uri": "https://localhost:8080/"
        },
        "id": "Hut83df5uo-t",
        "outputId": "01a59d7e-fd92-40fa-81e3-240962fcf72b"
      },
      "outputs": [
        {
          "output_type": "stream",
          "name": "stdout",
          "text": [
            "\u001b[1mRANDOM FOREST MODEL (Undersampled)\n",
            "\u001b[0m\n",
            "1) \u001b[1mOverall Accuracy Score: \u001b[0m99.46%\n",
            "\n",
            "2) \u001b[1mConfusion Matrix:\n",
            "\u001b[0m\n",
            "                  Predicted Healthy  Predicted High-Risk\n",
            "Actual Healthy                18631                  143\n",
            "Actual High-Risk                  2                  608\n",
            "\n",
            "3) \u001b[1mClassification Report:\n",
            "\u001b[0m\n",
            "              precision    recall  f1-score   support\n",
            "\n",
            "     healthy       1.00      0.99      1.00     18774\n",
            "   high-risk       0.81      1.00      0.89       610\n",
            "\n",
            "    accuracy                           0.99     19384\n",
            "   macro avg       0.90      0.99      0.94     19384\n",
            "weighted avg       0.99      0.99      0.99     19384\n",
            "\n",
            "\n"
          ]
        }
      ],
      "source": [
        "rf_undersampled_accuracy_score_float, \\\n",
        "rf_undersampled_confusion_matrix_dataframe, \\\n",
        "rf_undersampled_classification_report_string \\\n",
        "    = classificationsx.return_binary_classification_confusion_matrix \\\n",
        "        (y_test_series,\n",
        "         rt_undersampled_predictions_nparray,\n",
        "         'RANDOM FOREST MODEL (Undersampled)',\n",
        "         'Healthy', 'High-Risk')\n",
        "\n",
        "model_performance_dictionary['random_forest'] \\\n",
        "    .append(rf_undersampled_accuracy_score_float * 100)\n",
        "\n",
        "model_performance_ranking_dictionary['random_forest_undersampled'] \\\n",
        "    = rf_undersampled_accuracy_score_float * 100"
      ]
    },
    {
      "cell_type": "markdown",
      "id": "cFG45NYfuo-t",
      "metadata": {
        "id": "cFG45NYfuo-t"
      },
      "source": [
        "### **Random Oversampling**"
      ]
    },
    {
      "cell_type": "code",
      "execution_count": 259,
      "id": "EZZLTrXAuo-t",
      "metadata": {
        "colab": {
          "base_uri": "https://localhost:8080/"
        },
        "id": "EZZLTrXAuo-t",
        "outputId": "09d736c7-ff40-486d-ddfb-077eff11f5b9"
      },
      "outputs": [
        {
          "output_type": "execute_result",
          "data": {
            "text/plain": [
              "{'bootstrap': True,\n",
              " 'ccp_alpha': 0.0,\n",
              " 'class_weight': 'balanced',\n",
              " 'criterion': 'gini',\n",
              " 'max_depth': None,\n",
              " 'max_features': 'sqrt',\n",
              " 'max_leaf_nodes': None,\n",
              " 'max_samples': None,\n",
              " 'min_impurity_decrease': 0.0,\n",
              " 'min_samples_leaf': 1,\n",
              " 'min_samples_split': 2,\n",
              " 'min_weight_fraction_leaf': 0.0,\n",
              " 'n_estimators': 200,\n",
              " 'n_jobs': None,\n",
              " 'oob_score': False,\n",
              " 'random_state': 21,\n",
              " 'verbose': 0,\n",
              " 'warm_start': False}"
            ]
          },
          "metadata": {},
          "execution_count": 259
        }
      ],
      "source": [
        "random_forest_oversampled_model.get_params()"
      ]
    },
    {
      "cell_type": "code",
      "execution_count": 260,
      "id": "hpQ1k-0Cuo-t",
      "metadata": {
        "colab": {
          "base_uri": "https://localhost:8080/"
        },
        "id": "hpQ1k-0Cuo-t",
        "outputId": "fd471b5f-4e30-4569-d7bc-bf3064480410"
      },
      "outputs": [
        {
          "output_type": "stream",
          "name": "stdout",
          "text": [
            "\u001b[1mThe balanced accuracy score for random forest oversampled from actual vs. test predictions is 99.15%\u001b[0m\n"
          ]
        }
      ],
      "source": [
        "rt_oversampled_predictions_nparray \\\n",
        "    = random_forest_oversampled_model.predict(x_test_scaled_dataframe)\n",
        "\n",
        "rf_oversampled_balanced_accuracy_score_float \\\n",
        "    = accuracy_score(y_test_series, rt_oversampled_predictions_nparray) * 100\n",
        "\n",
        "logx.print_and_log_text \\\n",
        "    ('\\033[1m' \\\n",
        "     + 'The balanced accuracy score for random forest oversampled from actual vs. test predictions is {:.2f}%' \\\n",
        "         .format(rf_oversampled_balanced_accuracy_score_float) \\\n",
        "     + '\\033[0m')"
      ]
    },
    {
      "cell_type": "code",
      "execution_count": 261,
      "id": "WhS9CYtuuo-t",
      "metadata": {
        "colab": {
          "base_uri": "https://localhost:8080/"
        },
        "id": "WhS9CYtuuo-t",
        "outputId": "8f6fbdf2-c224-4dd3-b99f-7d34d36faacd"
      },
      "outputs": [
        {
          "output_type": "stream",
          "name": "stdout",
          "text": [
            "\u001b[1mRANDOM FOREST MODEL (Oversampled)\n",
            "\u001b[0m\n",
            "1) \u001b[1mOverall Accuracy Score: \u001b[0m98.22%\n",
            "\n",
            "2) \u001b[1mConfusion Matrix:\n",
            "\u001b[0m\n",
            "                  Predicted Healthy  Predicted High-Risk\n",
            "Actual Healthy                18627                  147\n",
            "Actual High-Risk                 17                  593\n",
            "\n",
            "3) \u001b[1mClassification Report:\n",
            "\u001b[0m\n",
            "              precision    recall  f1-score   support\n",
            "\n",
            "     healthy       1.00      0.99      1.00     18774\n",
            "   high-risk       0.80      0.97      0.88       610\n",
            "\n",
            "    accuracy                           0.99     19384\n",
            "   macro avg       0.90      0.98      0.94     19384\n",
            "weighted avg       0.99      0.99      0.99     19384\n",
            "\n",
            "\n"
          ]
        }
      ],
      "source": [
        "rf_oversampled_accuracy_score_float, \\\n",
        "rf_oversampled_confusion_matrix_dataframe, \\\n",
        "rf_oversampled_classification_report_string \\\n",
        "    = classificationsx.return_binary_classification_confusion_matrix \\\n",
        "        (y_test_series,\n",
        "         rt_oversampled_predictions_nparray,\n",
        "         'RANDOM FOREST MODEL (Oversampled)',\n",
        "         'Healthy', 'High-Risk')\n",
        "\n",
        "model_performance_dictionary['random_forest'] \\\n",
        "    .append(rf_oversampled_accuracy_score_float * 100)\n",
        "\n",
        "model_performance_ranking_dictionary['random_forest_oversampled'] \\\n",
        "    = rf_oversampled_accuracy_score_float * 100"
      ]
    },
    {
      "cell_type": "markdown",
      "id": "k_hUqTC7uo-u",
      "metadata": {
        "id": "k_hUqTC7uo-u"
      },
      "source": [
        "### **Cluster Centroids**"
      ]
    },
    {
      "cell_type": "code",
      "execution_count": 262,
      "id": "e2eYzTB5uo-u",
      "metadata": {
        "colab": {
          "base_uri": "https://localhost:8080/"
        },
        "id": "e2eYzTB5uo-u",
        "outputId": "e64f0ae6-ad5a-4bb5-cf2a-d290c966b58e"
      },
      "outputs": [
        {
          "output_type": "execute_result",
          "data": {
            "text/plain": [
              "{'bootstrap': True,\n",
              " 'ccp_alpha': 0.0,\n",
              " 'class_weight': 'balanced',\n",
              " 'criterion': 'gini',\n",
              " 'max_depth': None,\n",
              " 'max_features': 'sqrt',\n",
              " 'max_leaf_nodes': None,\n",
              " 'max_samples': None,\n",
              " 'min_impurity_decrease': 0.0,\n",
              " 'min_samples_leaf': 1,\n",
              " 'min_samples_split': 2,\n",
              " 'min_weight_fraction_leaf': 0.0,\n",
              " 'n_estimators': 200,\n",
              " 'n_jobs': None,\n",
              " 'oob_score': False,\n",
              " 'random_state': 21,\n",
              " 'verbose': 0,\n",
              " 'warm_start': False}"
            ]
          },
          "metadata": {},
          "execution_count": 262
        }
      ],
      "source": [
        "random_forest_cluster_centroids_model.get_params()"
      ]
    },
    {
      "cell_type": "code",
      "execution_count": 263,
      "id": "M_BOiw8Nuo-u",
      "metadata": {
        "colab": {
          "base_uri": "https://localhost:8080/"
        },
        "id": "M_BOiw8Nuo-u",
        "outputId": "8085bab5-d80f-4e95-ef8f-fd7a03b5730b"
      },
      "outputs": [
        {
          "output_type": "stream",
          "name": "stdout",
          "text": [
            "\u001b[1mThe balanced accuracy score for random forest cluster centroids from actual vs. test predictions is 99.10%\u001b[0m\n"
          ]
        }
      ],
      "source": [
        "rf_cluster_centroids_predictions_nparray \\\n",
        "    = random_forest_cluster_centroids_model.predict(x_test_scaled_dataframe)\n",
        "\n",
        "rf_cluster_centroids_balanced_accuracy_score_float \\\n",
        "    = accuracy_score(y_test_series, rf_cluster_centroids_predictions_nparray) * 100\n",
        "\n",
        "logx.print_and_log_text \\\n",
        "    ('\\033[1m' \\\n",
        "     + 'The balanced accuracy score for random forest cluster centroids from actual vs. test predictions is {:.2f}%' \\\n",
        "         .format(rf_cluster_centroids_balanced_accuracy_score_float) \\\n",
        "     + '\\033[0m')"
      ]
    },
    {
      "cell_type": "code",
      "execution_count": 264,
      "id": "JF_4_k_uuo-u",
      "metadata": {
        "colab": {
          "base_uri": "https://localhost:8080/"
        },
        "id": "JF_4_k_uuo-u",
        "outputId": "38342bc3-e4e8-4a7e-d7c3-66dcb866a09c"
      },
      "outputs": [
        {
          "output_type": "stream",
          "name": "stdout",
          "text": [
            "\u001b[1mRANDOM FOREST MODEL (Cluster Centroids)\n",
            "\u001b[0m\n",
            "1) \u001b[1mOverall Accuracy Score: \u001b[0m98.03%\n",
            "\n",
            "2) \u001b[1mConfusion Matrix:\n",
            "\u001b[0m\n",
            "                  Predicted Healthy  Predicted High-Risk\n",
            "Actual Healthy                18618                  156\n",
            "Actual High-Risk                 19                  591\n",
            "\n",
            "3) \u001b[1mClassification Report:\n",
            "\u001b[0m\n",
            "              precision    recall  f1-score   support\n",
            "\n",
            "     healthy       1.00      0.99      1.00     18774\n",
            "   high-risk       0.79      0.97      0.87       610\n",
            "\n",
            "    accuracy                           0.99     19384\n",
            "   macro avg       0.90      0.98      0.93     19384\n",
            "weighted avg       0.99      0.99      0.99     19384\n",
            "\n",
            "\n"
          ]
        }
      ],
      "source": [
        "rf_cluster_centroids_accuracy_score_float, \\\n",
        "rf_cluster_centroids_confusion_matrix_dataframe, \\\n",
        "rf_cluster_centroids_classification_report_string \\\n",
        "    = classificationsx.return_binary_classification_confusion_matrix \\\n",
        "        (y_test_series,\n",
        "         rf_cluster_centroids_predictions_nparray,\n",
        "         'RANDOM FOREST MODEL (Cluster Centroids)',\n",
        "         'Healthy', 'High-Risk')\n",
        "\n",
        "model_performance_dictionary['random_forest'] \\\n",
        "    .append(rf_cluster_centroids_accuracy_score_float * 100)\n",
        "\n",
        "model_performance_ranking_dictionary['random_forest_cluster_centroids'] \\\n",
        "    = rf_cluster_centroids_accuracy_score_float * 100"
      ]
    },
    {
      "cell_type": "markdown",
      "id": "EHtBhECBuo-u",
      "metadata": {
        "id": "EHtBhECBuo-u"
      },
      "source": [
        "### **SMOTE**"
      ]
    },
    {
      "cell_type": "code",
      "execution_count": 265,
      "id": "xFuOUk2Wuo-u",
      "metadata": {
        "colab": {
          "base_uri": "https://localhost:8080/"
        },
        "id": "xFuOUk2Wuo-u",
        "outputId": "12046cba-6f7b-4d37-f434-0e35526c8b5b"
      },
      "outputs": [
        {
          "output_type": "execute_result",
          "data": {
            "text/plain": [
              "{'bootstrap': True,\n",
              " 'ccp_alpha': 0.0,\n",
              " 'class_weight': 'balanced_subsample',\n",
              " 'criterion': 'gini',\n",
              " 'max_depth': None,\n",
              " 'max_features': 'sqrt',\n",
              " 'max_leaf_nodes': None,\n",
              " 'max_samples': None,\n",
              " 'min_impurity_decrease': 0.0,\n",
              " 'min_samples_leaf': 1,\n",
              " 'min_samples_split': 2,\n",
              " 'min_weight_fraction_leaf': 0.0,\n",
              " 'n_estimators': 200,\n",
              " 'n_jobs': None,\n",
              " 'oob_score': False,\n",
              " 'random_state': 21,\n",
              " 'verbose': 0,\n",
              " 'warm_start': False}"
            ]
          },
          "metadata": {},
          "execution_count": 265
        }
      ],
      "source": [
        "random_forest_SMOTE_model.get_params()"
      ]
    },
    {
      "cell_type": "code",
      "execution_count": 266,
      "id": "nXdwahG4uo-u",
      "metadata": {
        "colab": {
          "base_uri": "https://localhost:8080/"
        },
        "id": "nXdwahG4uo-u",
        "outputId": "b7fa400a-dd31-4c17-ffde-54c5e5a26d0a"
      },
      "outputs": [
        {
          "output_type": "stream",
          "name": "stdout",
          "text": [
            "\u001b[1mThe balanced accuracy score for random forest SMOTE from actual vs. test predictions is 74.56%\u001b[0m\n"
          ]
        }
      ],
      "source": [
        "rf_SMOTE_predictions_nparray \\\n",
        "    = random_forest_SMOTE_model.predict(x_test_scaled_dataframe)\n",
        "\n",
        "rf_SMOTE_balanced_accuracy_score_float \\\n",
        "    = accuracy_score(y_test_series, rf_SMOTE_predictions_nparray) * 100\n",
        "\n",
        "logx.print_and_log_text \\\n",
        "    ('\\033[1m' \\\n",
        "     + 'The balanced accuracy score for random forest SMOTE from actual vs. test predictions is {:.2f}%' \\\n",
        "         .format(rf_SMOTE_balanced_accuracy_score_float) \\\n",
        "     + '\\033[0m')"
      ]
    },
    {
      "cell_type": "code",
      "execution_count": 267,
      "id": "JFZBMaYmuo-u",
      "metadata": {
        "colab": {
          "base_uri": "https://localhost:8080/"
        },
        "id": "JFZBMaYmuo-u",
        "outputId": "89f3a464-204f-4e40-f915-eecbee9def06"
      },
      "outputs": [
        {
          "output_type": "stream",
          "name": "stdout",
          "text": [
            "\u001b[1mRANDOM FOREST MODEL (SMOTE)\n",
            "\u001b[0m\n",
            "1) \u001b[1mOverall Accuracy Score: \u001b[0m86.55%\n",
            "\n",
            "2) \u001b[1mConfusion Matrix:\n",
            "\u001b[0m\n",
            "                  Predicted Healthy  Predicted High-Risk\n",
            "Actual Healthy                13846                 4928\n",
            "Actual High-Risk                  4                  606\n",
            "\n",
            "3) \u001b[1mClassification Report:\n",
            "\u001b[0m\n",
            "              precision    recall  f1-score   support\n",
            "\n",
            "     healthy       1.00      0.74      0.85     18774\n",
            "   high-risk       0.11      0.99      0.20       610\n",
            "\n",
            "    accuracy                           0.75     19384\n",
            "   macro avg       0.55      0.87      0.52     19384\n",
            "weighted avg       0.97      0.75      0.83     19384\n",
            "\n",
            "\n"
          ]
        }
      ],
      "source": [
        "rf_SMOTE_accuracy_score_float, \\\n",
        "rf_SMOTE_confusion_matrix_dataframe, \\\n",
        "rf_SMOTE_classification_report_string \\\n",
        "    = classificationsx.return_binary_classification_confusion_matrix \\\n",
        "        (y_test_series,\n",
        "         rf_SMOTE_predictions_nparray,\n",
        "         'RANDOM FOREST MODEL (SMOTE)',\n",
        "         'Healthy', 'High-Risk')\n",
        "\n",
        "model_performance_dictionary['random_forest'] \\\n",
        "    .append(rf_SMOTE_accuracy_score_float * 100)\n",
        "\n",
        "model_performance_ranking_dictionary['random_forest_smote'] \\\n",
        "    = rf_SMOTE_accuracy_score_float * 100"
      ]
    },
    {
      "cell_type": "markdown",
      "id": "lJ8-hw7Zuo-u",
      "metadata": {
        "id": "lJ8-hw7Zuo-u"
      },
      "source": [
        "### **SMOTEENN**"
      ]
    },
    {
      "cell_type": "code",
      "execution_count": 268,
      "id": "-5Ad0ecZuo-u",
      "metadata": {
        "colab": {
          "base_uri": "https://localhost:8080/"
        },
        "id": "-5Ad0ecZuo-u",
        "outputId": "f9801b1d-40eb-40df-fe56-3350a1acd1b8"
      },
      "outputs": [
        {
          "output_type": "execute_result",
          "data": {
            "text/plain": [
              "{'bootstrap': True,\n",
              " 'ccp_alpha': 0.0,\n",
              " 'class_weight': 'balanced_subsample',\n",
              " 'criterion': 'entropy',\n",
              " 'max_depth': None,\n",
              " 'max_features': 'sqrt',\n",
              " 'max_leaf_nodes': None,\n",
              " 'max_samples': None,\n",
              " 'min_impurity_decrease': 0.0,\n",
              " 'min_samples_leaf': 1,\n",
              " 'min_samples_split': 2,\n",
              " 'min_weight_fraction_leaf': 0.0,\n",
              " 'n_estimators': 200,\n",
              " 'n_jobs': None,\n",
              " 'oob_score': False,\n",
              " 'random_state': 21,\n",
              " 'verbose': 0,\n",
              " 'warm_start': False}"
            ]
          },
          "metadata": {},
          "execution_count": 268
        }
      ],
      "source": [
        "random_forest_SMOTEENN_model.get_params()"
      ]
    },
    {
      "cell_type": "code",
      "execution_count": 269,
      "id": "Lh73jUPsuo-u",
      "metadata": {
        "colab": {
          "base_uri": "https://localhost:8080/"
        },
        "id": "Lh73jUPsuo-u",
        "outputId": "1c99b04d-1fbf-47b9-9f45-2a949923dd50"
      },
      "outputs": [
        {
          "output_type": "stream",
          "name": "stdout",
          "text": [
            "\u001b[1mThe balanced accuracy score for random forest SMOTEENN from actual vs. test predictions is 90.09%\u001b[0m\n"
          ]
        }
      ],
      "source": [
        "rf_SMOTEENN_predictions_nparray \\\n",
        "    = random_forest_SMOTEENN_model.predict(x_test_scaled_dataframe)\n",
        "\n",
        "rf_SMOTEENN_balanced_accuracy_score_float \\\n",
        "    = accuracy_score(y_test_series, rf_SMOTEENN_predictions_nparray) * 100\n",
        "\n",
        "logx.print_and_log_text \\\n",
        "    ('\\033[1m' \\\n",
        "     + 'The balanced accuracy score for random forest SMOTEENN from actual vs. test predictions is {:.2f}%' \\\n",
        "         .format(rf_SMOTEENN_balanced_accuracy_score_float) \\\n",
        "     + '\\033[0m')"
      ]
    },
    {
      "cell_type": "code",
      "execution_count": 270,
      "id": "P0r1KAlyuo-u",
      "metadata": {
        "colab": {
          "base_uri": "https://localhost:8080/"
        },
        "id": "P0r1KAlyuo-u",
        "outputId": "511da5b6-7ac4-461d-ae26-c2c78f92f2c8"
      },
      "outputs": [
        {
          "output_type": "stream",
          "name": "stdout",
          "text": [
            "\u001b[1mRANDOM FOREST MODEL (SMOTEENN)\n",
            "\u001b[0m\n",
            "1) \u001b[1mOverall Accuracy Score: \u001b[0m94.88%\n",
            "\n",
            "2) \u001b[1mConfusion Matrix:\n",
            "\u001b[0m\n",
            "                  Predicted Healthy  Predicted High-Risk\n",
            "Actual Healthy                16853                 1921\n",
            "Actual High-Risk                  0                  610\n",
            "\n",
            "3) \u001b[1mClassification Report:\n",
            "\u001b[0m\n",
            "              precision    recall  f1-score   support\n",
            "\n",
            "     healthy       1.00      0.90      0.95     18774\n",
            "   high-risk       0.24      1.00      0.39       610\n",
            "\n",
            "    accuracy                           0.90     19384\n",
            "   macro avg       0.62      0.95      0.67     19384\n",
            "weighted avg       0.98      0.90      0.93     19384\n",
            "\n",
            "\n"
          ]
        }
      ],
      "source": [
        "rf_SMOTEENN_accuracy_score_float, \\\n",
        "rf_SMOTEENN_confusion_matrix_dataframe, \\\n",
        "rf_SMOTEENN_classification_report_string \\\n",
        "    = classificationsx.return_binary_classification_confusion_matrix \\\n",
        "        (y_test_series,\n",
        "         rf_SMOTEENN_predictions_nparray,\n",
        "         'RANDOM FOREST MODEL (SMOTEENN)',\n",
        "         'Healthy', 'High-Risk')\n",
        "\n",
        "model_performance_dictionary['random_forest'] \\\n",
        "    .append(rf_SMOTEENN_accuracy_score_float * 100)\n",
        "\n",
        "model_performance_ranking_dictionary['random_forest_smoteen'] \\\n",
        "    = rf_SMOTEENN_accuracy_score_float * 100"
      ]
    },
    {
      "cell_type": "markdown",
      "id": "HCqgcGBauo-v",
      "metadata": {
        "id": "HCqgcGBauo-v"
      },
      "source": [
        "## **9.4: Support Vector Machine (SVM)**"
      ]
    },
    {
      "cell_type": "markdown",
      "id": "FwSjalw4uo-v",
      "metadata": {
        "id": "FwSjalw4uo-v"
      },
      "source": [
        "### **Original**"
      ]
    },
    {
      "cell_type": "code",
      "execution_count": 271,
      "id": "MVBF3JUDuo-v",
      "metadata": {
        "colab": {
          "base_uri": "https://localhost:8080/"
        },
        "id": "MVBF3JUDuo-v",
        "outputId": "1a06ddba-c21f-4da1-8724-978e5f6c7df6"
      },
      "outputs": [
        {
          "output_type": "execute_result",
          "data": {
            "text/plain": [
              "{'C': 1.0,\n",
              " 'break_ties': False,\n",
              " 'cache_size': 200,\n",
              " 'class_weight': None,\n",
              " 'coef0': 0.0,\n",
              " 'decision_function_shape': 'ovr',\n",
              " 'degree': 3,\n",
              " 'gamma': 'scale',\n",
              " 'kernel': 'rbf',\n",
              " 'max_iter': -1,\n",
              " 'probability': True,\n",
              " 'random_state': 21,\n",
              " 'shrinking': True,\n",
              " 'tol': 0.001,\n",
              " 'verbose': False}"
            ]
          },
          "metadata": {},
          "execution_count": 271
        }
      ],
      "source": [
        "svm_model.get_params()"
      ]
    },
    {
      "cell_type": "code",
      "execution_count": 272,
      "id": "mi56NpBZuo-v",
      "metadata": {
        "colab": {
          "base_uri": "https://localhost:8080/"
        },
        "id": "mi56NpBZuo-v",
        "outputId": "698b3f2d-0878-45ce-a1b5-043d23a75e15"
      },
      "outputs": [
        {
          "output_type": "stream",
          "name": "stdout",
          "text": [
            "\u001b[1mThe balanced accuracy score for SVM from actual vs. test predictions is 99.37%\u001b[0m\n"
          ]
        }
      ],
      "source": [
        "svm_predictions_nparray \\\n",
        "    = svm_model.predict(x_test_scaled_dataframe)\n",
        "\n",
        "svm_balanced_accuracy_score_float \\\n",
        "    = accuracy_score(y_test_series, svm_predictions_nparray) * 100\n",
        "\n",
        "logx.print_and_log_text \\\n",
        "    ('\\033[1m' \\\n",
        "     + 'The balanced accuracy score for SVM from actual vs. test predictions is {:.2f}%' \\\n",
        "         .format(svm_balanced_accuracy_score_float) \\\n",
        "     + '\\033[0m')"
      ]
    },
    {
      "cell_type": "code",
      "execution_count": 273,
      "id": "T2AZ000puo-v",
      "metadata": {
        "colab": {
          "base_uri": "https://localhost:8080/"
        },
        "id": "T2AZ000puo-v",
        "outputId": "dda5cea7-4975-4e50-933d-b78d9c7f3382"
      },
      "outputs": [
        {
          "output_type": "stream",
          "name": "stdout",
          "text": [
            "\u001b[1mSVM MODEL\n",
            "\u001b[0m\n",
            "1) \u001b[1mOverall Accuracy Score: \u001b[0m99.51%\n",
            "\n",
            "2) \u001b[1mConfusion Matrix:\n",
            "\u001b[0m\n",
            "                  Predicted Healthy  Predicted High-Risk\n",
            "Actual Healthy                18653                  121\n",
            "Actual High-Risk                  2                  608\n",
            "\n",
            "3) \u001b[1mClassification Report:\n",
            "\u001b[0m\n",
            "              precision    recall  f1-score   support\n",
            "\n",
            "     healthy       1.00      0.99      1.00     18774\n",
            "   high-risk       0.83      1.00      0.91       610\n",
            "\n",
            "    accuracy                           0.99     19384\n",
            "   macro avg       0.92      1.00      0.95     19384\n",
            "weighted avg       0.99      0.99      0.99     19384\n",
            "\n",
            "\n"
          ]
        }
      ],
      "source": [
        "svm_accuracy_score_float, svm_confusion_matrix_dataframe, svm_classification_report_string \\\n",
        "    = classificationsx.return_binary_classification_confusion_matrix \\\n",
        "        (y_test_series,\n",
        "         svm_predictions_nparray,\n",
        "         'SVM MODEL',\n",
        "         'Healthy', 'High-Risk')\n",
        "\n",
        "model_performance_dictionary['svm'] \\\n",
        "    = [svm_accuracy_score_float * 100]\n",
        "\n",
        "model_performance_ranking_dictionary['svm'] \\\n",
        "    = svm_accuracy_score_float * 100"
      ]
    },
    {
      "cell_type": "markdown",
      "id": "KG_3vf3Uuo-v",
      "metadata": {
        "id": "KG_3vf3Uuo-v"
      },
      "source": [
        "### **Random Undersampling**"
      ]
    },
    {
      "cell_type": "code",
      "execution_count": 274,
      "id": "dpUw4pvLuo-v",
      "metadata": {
        "colab": {
          "base_uri": "https://localhost:8080/"
        },
        "id": "dpUw4pvLuo-v",
        "outputId": "b3f8fc04-8117-4a52-f817-76069e353601"
      },
      "outputs": [
        {
          "output_type": "execute_result",
          "data": {
            "text/plain": [
              "{'C': 1.0,\n",
              " 'break_ties': False,\n",
              " 'cache_size': 200,\n",
              " 'class_weight': None,\n",
              " 'coef0': 0.0,\n",
              " 'decision_function_shape': 'ovr',\n",
              " 'degree': 3,\n",
              " 'gamma': 'scale',\n",
              " 'kernel': 'rbf',\n",
              " 'max_iter': -1,\n",
              " 'probability': True,\n",
              " 'random_state': 21,\n",
              " 'shrinking': True,\n",
              " 'tol': 0.001,\n",
              " 'verbose': False}"
            ]
          },
          "metadata": {},
          "execution_count": 274
        }
      ],
      "source": [
        "svm_undersampled_model.get_params()"
      ]
    },
    {
      "cell_type": "code",
      "execution_count": 275,
      "id": "haqcSDF3uo-v",
      "metadata": {
        "colab": {
          "base_uri": "https://localhost:8080/"
        },
        "id": "haqcSDF3uo-v",
        "outputId": "7905392b-2ad5-49aa-eeea-ef0e7e565250"
      },
      "outputs": [
        {
          "output_type": "stream",
          "name": "stdout",
          "text": [
            "\u001b[1mThe balanced accuracy score for svm undersampled from actual vs. test predictions is 99.35%\u001b[0m\n"
          ]
        }
      ],
      "source": [
        "svm_undersampled_predictions_nparray \\\n",
        "    = svm_undersampled_model.predict(x_test_scaled_dataframe)\n",
        "\n",
        "svm_undersampled_balanced_accuracy_score_float \\\n",
        "    = accuracy_score(y_test_series, svm_undersampled_predictions_nparray) * 100\n",
        "\n",
        "logx.print_and_log_text \\\n",
        "    ('\\033[1m'\n",
        "     + 'The balanced accuracy score for svm undersampled from actual vs. test predictions is {:.2f}%' \\\n",
        "         .format(svm_undersampled_balanced_accuracy_score_float)\n",
        "     + '\\033[0m')"
      ]
    },
    {
      "cell_type": "code",
      "execution_count": 276,
      "id": "BZQleJmDuo-v",
      "metadata": {
        "colab": {
          "base_uri": "https://localhost:8080/"
        },
        "id": "BZQleJmDuo-v",
        "outputId": "10b87ed3-6af3-48c1-e2f0-3f47300b28f9"
      },
      "outputs": [
        {
          "output_type": "stream",
          "name": "stdout",
          "text": [
            "\u001b[1mSVM MODEL (Undersampled)\n",
            "\u001b[0m\n",
            "1) \u001b[1mOverall Accuracy Score: \u001b[0m99.51%\n",
            "\n",
            "2) \u001b[1mConfusion Matrix:\n",
            "\u001b[0m\n",
            "                  Predicted Healthy  Predicted High-Risk\n",
            "Actual Healthy                18650                  124\n",
            "Actual High-Risk                  2                  608\n",
            "\n",
            "3) \u001b[1mClassification Report:\n",
            "\u001b[0m\n",
            "              precision    recall  f1-score   support\n",
            "\n",
            "     healthy       1.00      0.99      1.00     18774\n",
            "   high-risk       0.83      1.00      0.91       610\n",
            "\n",
            "    accuracy                           0.99     19384\n",
            "   macro avg       0.92      1.00      0.95     19384\n",
            "weighted avg       0.99      0.99      0.99     19384\n",
            "\n",
            "\n"
          ]
        }
      ],
      "source": [
        "svm_undersampled_accuracy_score_float, \\\n",
        "svm_undersampled_confusion_matrix_dataframe, \\\n",
        "svm_undersampled_classification_report_string \\\n",
        "    = classificationsx.return_binary_classification_confusion_matrix \\\n",
        "        (y_test_series,\n",
        "         svm_undersampled_predictions_nparray,\n",
        "         'SVM MODEL (Undersampled)',\n",
        "         'Healthy', 'High-Risk')\n",
        "\n",
        "model_performance_dictionary['svm'] \\\n",
        "    .append(svm_undersampled_accuracy_score_float * 100)\n",
        "\n",
        "model_performance_ranking_dictionary['svm_undersampled'] \\\n",
        "    = svm_undersampled_accuracy_score_float * 100"
      ]
    },
    {
      "cell_type": "markdown",
      "id": "AzUir0e-uo-v",
      "metadata": {
        "id": "AzUir0e-uo-v"
      },
      "source": [
        "### **Random Oversampling**"
      ]
    },
    {
      "cell_type": "code",
      "execution_count": 277,
      "id": "DlC4Dxg9uo-v",
      "metadata": {
        "colab": {
          "base_uri": "https://localhost:8080/"
        },
        "id": "DlC4Dxg9uo-v",
        "outputId": "c7a14607-345b-4f00-99d8-86d1289fcdf5"
      },
      "outputs": [
        {
          "output_type": "execute_result",
          "data": {
            "text/plain": [
              "{'C': 1.0,\n",
              " 'break_ties': False,\n",
              " 'cache_size': 200,\n",
              " 'class_weight': None,\n",
              " 'coef0': 0.0,\n",
              " 'decision_function_shape': 'ovr',\n",
              " 'degree': 3,\n",
              " 'gamma': 'scale',\n",
              " 'kernel': 'rbf',\n",
              " 'max_iter': -1,\n",
              " 'probability': True,\n",
              " 'random_state': 21,\n",
              " 'shrinking': True,\n",
              " 'tol': 0.001,\n",
              " 'verbose': False}"
            ]
          },
          "metadata": {},
          "execution_count": 277
        }
      ],
      "source": [
        "svm_oversampled_model.get_params()"
      ]
    },
    {
      "cell_type": "code",
      "execution_count": 278,
      "id": "u1M-X1iMuo-v",
      "metadata": {
        "colab": {
          "base_uri": "https://localhost:8080/"
        },
        "id": "u1M-X1iMuo-v",
        "outputId": "75123970-e5a3-4f4a-cfe0-b2aa2a51baf8"
      },
      "outputs": [
        {
          "output_type": "stream",
          "name": "stdout",
          "text": [
            "\u001b[1mThe balanced accuracy score for svm oversampled from actual vs. test predictions is 99.34%\u001b[0m\n"
          ]
        }
      ],
      "source": [
        "svm_oversampled_predictions_nparray \\\n",
        "    = svm_oversampled_model.predict(x_test_scaled_dataframe)\n",
        "\n",
        "svm_oversampled_balanced_accuracy_score_float \\\n",
        "    = accuracy_score(y_test_series, svm_oversampled_predictions_nparray) * 100\n",
        "\n",
        "logx.print_and_log_text \\\n",
        "    ('\\033[1m'\n",
        "     + 'The balanced accuracy score for svm oversampled from actual vs. test predictions is {:.2f}%' \\\n",
        "         .format(svm_oversampled_balanced_accuracy_score_float)\n",
        "     + '\\033[0m')"
      ]
    },
    {
      "cell_type": "code",
      "execution_count": 279,
      "id": "1mG4ZbEduo-v",
      "metadata": {
        "colab": {
          "base_uri": "https://localhost:8080/"
        },
        "id": "1mG4ZbEduo-v",
        "outputId": "dd31d748-34da-472d-e8bf-0ad25ffba799"
      },
      "outputs": [
        {
          "output_type": "stream",
          "name": "stdout",
          "text": [
            "\u001b[1mSVM MODEL (Oversampled)\n",
            "\u001b[0m\n",
            "1) \u001b[1mOverall Accuracy Score: \u001b[0m99.5%\n",
            "\n",
            "2) \u001b[1mConfusion Matrix:\n",
            "\u001b[0m\n",
            "                  Predicted Healthy  Predicted High-Risk\n",
            "Actual Healthy                18649                  125\n",
            "Actual High-Risk                  2                  608\n",
            "\n",
            "3) \u001b[1mClassification Report:\n",
            "\u001b[0m\n",
            "              precision    recall  f1-score   support\n",
            "\n",
            "     healthy       1.00      0.99      1.00     18774\n",
            "   high-risk       0.83      1.00      0.91       610\n",
            "\n",
            "    accuracy                           0.99     19384\n",
            "   macro avg       0.91      1.00      0.95     19384\n",
            "weighted avg       0.99      0.99      0.99     19384\n",
            "\n",
            "\n"
          ]
        }
      ],
      "source": [
        "svm_oversampled_accuracy_score_float, \\\n",
        "svm_oversampled_confusion_matrix_dataframe, \\\n",
        "svm_oversampled_classification_report_string \\\n",
        "    = classificationsx.return_binary_classification_confusion_matrix \\\n",
        "        (y_test_series,\n",
        "         svm_oversampled_predictions_nparray,\n",
        "         'SVM MODEL (Oversampled)',\n",
        "         'Healthy', 'High-Risk')\n",
        "\n",
        "model_performance_dictionary['svm'] \\\n",
        "    .append(svm_oversampled_accuracy_score_float * 100)\n",
        "\n",
        "model_performance_ranking_dictionary['svm_oversampled'] \\\n",
        "    = svm_oversampled_accuracy_score_float * 100"
      ]
    },
    {
      "cell_type": "markdown",
      "id": "gOxfGV9yuo-w",
      "metadata": {
        "id": "gOxfGV9yuo-w"
      },
      "source": [
        "### **Cluster Centroids**"
      ]
    },
    {
      "cell_type": "code",
      "execution_count": 280,
      "id": "387aQ9f7uo-w",
      "metadata": {
        "colab": {
          "base_uri": "https://localhost:8080/"
        },
        "id": "387aQ9f7uo-w",
        "outputId": "bea7e3fd-3419-41e7-af8a-7f56afc335f1"
      },
      "outputs": [
        {
          "output_type": "execute_result",
          "data": {
            "text/plain": [
              "{'C': 1.0,\n",
              " 'break_ties': False,\n",
              " 'cache_size': 200,\n",
              " 'class_weight': None,\n",
              " 'coef0': 0.0,\n",
              " 'decision_function_shape': 'ovr',\n",
              " 'degree': 3,\n",
              " 'gamma': 'scale',\n",
              " 'kernel': 'rbf',\n",
              " 'max_iter': -1,\n",
              " 'probability': True,\n",
              " 'random_state': 21,\n",
              " 'shrinking': True,\n",
              " 'tol': 0.001,\n",
              " 'verbose': False}"
            ]
          },
          "metadata": {},
          "execution_count": 280
        }
      ],
      "source": [
        "svm_cluster_centroids_model.get_params()"
      ]
    },
    {
      "cell_type": "code",
      "execution_count": 281,
      "id": "2gF7O923uo-w",
      "metadata": {
        "colab": {
          "base_uri": "https://localhost:8080/"
        },
        "id": "2gF7O923uo-w",
        "outputId": "c7fe89e4-57e6-4b96-caa9-de6ce83eaf5a"
      },
      "outputs": [
        {
          "output_type": "stream",
          "name": "stdout",
          "text": [
            "\u001b[1mThe balanced accuracy score for svm cluster centroids from actual vs. test predictions is 99.33%\u001b[0m\n"
          ]
        }
      ],
      "source": [
        "svm_cluster_centroids_predictions_nparray \\\n",
        "    = svm_cluster_centroids_model.predict(x_test_scaled_dataframe)\n",
        "\n",
        "svm_cluster_centroids_balanced_accuracy_score_float \\\n",
        "    = accuracy_score(y_test_series, svm_cluster_centroids_predictions_nparray) * 100\n",
        "\n",
        "logx.print_and_log_text \\\n",
        "    ('\\033[1m' \\\n",
        "     + 'The balanced accuracy score for svm cluster centroids from actual vs. test predictions is {:.2f}%' \\\n",
        "         .format(svm_cluster_centroids_balanced_accuracy_score_float) \\\n",
        "     + '\\033[0m')"
      ]
    },
    {
      "cell_type": "code",
      "execution_count": 282,
      "id": "-7_YsC5Huo-w",
      "metadata": {
        "colab": {
          "base_uri": "https://localhost:8080/"
        },
        "id": "-7_YsC5Huo-w",
        "outputId": "d309b2f0-da80-4764-a274-d8c541983d9d"
      },
      "outputs": [
        {
          "output_type": "stream",
          "name": "stdout",
          "text": [
            "\u001b[1mSVM MODEL (Cluster Centroids)\n",
            "\u001b[0m\n",
            "1) \u001b[1mOverall Accuracy Score: \u001b[0m98.7%\n",
            "\n",
            "2) \u001b[1mConfusion Matrix:\n",
            "\u001b[0m\n",
            "                  Predicted Healthy  Predicted High-Risk\n",
            "Actual Healthy                18656                  118\n",
            "Actual High-Risk                 12                  598\n",
            "\n",
            "3) \u001b[1mClassification Report:\n",
            "\u001b[0m\n",
            "              precision    recall  f1-score   support\n",
            "\n",
            "     healthy       1.00      0.99      1.00     18774\n",
            "   high-risk       0.84      0.98      0.90       610\n",
            "\n",
            "    accuracy                           0.99     19384\n",
            "   macro avg       0.92      0.99      0.95     19384\n",
            "weighted avg       0.99      0.99      0.99     19384\n",
            "\n",
            "\n"
          ]
        }
      ],
      "source": [
        "svm_cluster_centroids_accuracy_score_float, \\\n",
        "svm_cluster_centroids_confusion_matrix_dataframe, \\\n",
        "svm_cluster_centroids_classification_report_string \\\n",
        "    = classificationsx.return_binary_classification_confusion_matrix \\\n",
        "        (y_test_series,\n",
        "         svm_cluster_centroids_predictions_nparray,\n",
        "         'SVM MODEL (Cluster Centroids)',\n",
        "         'Healthy', 'High-Risk')\n",
        "\n",
        "model_performance_dictionary['svm'] \\\n",
        "    .append(svm_cluster_centroids_accuracy_score_float * 100)\n",
        "\n",
        "model_performance_ranking_dictionary['svm_cluster_centroids'] \\\n",
        "    = svm_cluster_centroids_accuracy_score_float * 100"
      ]
    },
    {
      "cell_type": "markdown",
      "id": "zrMC649Vuo-w",
      "metadata": {
        "id": "zrMC649Vuo-w"
      },
      "source": [
        "### **SMOTE**"
      ]
    },
    {
      "cell_type": "code",
      "execution_count": 283,
      "id": "5SdunRluuo-w",
      "metadata": {
        "colab": {
          "base_uri": "https://localhost:8080/"
        },
        "id": "5SdunRluuo-w",
        "outputId": "b8e5bafd-8397-4a98-96d6-2c882421044f"
      },
      "outputs": [
        {
          "output_type": "execute_result",
          "data": {
            "text/plain": [
              "{'C': 1.0,\n",
              " 'break_ties': False,\n",
              " 'cache_size': 200,\n",
              " 'class_weight': None,\n",
              " 'coef0': 0.0,\n",
              " 'decision_function_shape': 'ovr',\n",
              " 'degree': 3,\n",
              " 'gamma': 'scale',\n",
              " 'kernel': 'rbf',\n",
              " 'max_iter': -1,\n",
              " 'probability': True,\n",
              " 'random_state': 21,\n",
              " 'shrinking': True,\n",
              " 'tol': 0.001,\n",
              " 'verbose': False}"
            ]
          },
          "metadata": {},
          "execution_count": 283
        }
      ],
      "source": [
        "svm_SMOTE_model.get_params()"
      ]
    },
    {
      "cell_type": "code",
      "execution_count": 284,
      "id": "G7kuogySuo-w",
      "metadata": {
        "colab": {
          "base_uri": "https://localhost:8080/"
        },
        "id": "G7kuogySuo-w",
        "outputId": "7efea4b7-61f6-4ef4-d980-70501c9dd1a3"
      },
      "outputs": [
        {
          "output_type": "stream",
          "name": "stdout",
          "text": [
            "\u001b[1mThe balanced accuracy score for svm SMOTE from actual vs. test predictions is 99.34%\u001b[0m\n"
          ]
        }
      ],
      "source": [
        "svm_SMOTE_predictions_nparray \\\n",
        "    = svm_SMOTE_model.predict(x_test_scaled_dataframe)\n",
        "\n",
        "svm_SMOTE_balanced_accuracy_score_float \\\n",
        "    = accuracy_score(y_test_series, svm_SMOTE_predictions_nparray) * 100\n",
        "\n",
        "logx.print_and_log_text \\\n",
        "    ('\\033[1m' \\\n",
        "     + 'The balanced accuracy score for svm SMOTE from actual vs. test predictions is {:.2f}%' \\\n",
        "         .format(svm_SMOTE_balanced_accuracy_score_float) \\\n",
        "     + '\\033[0m')"
      ]
    },
    {
      "cell_type": "code",
      "execution_count": 285,
      "id": "mTWMBAORuo-w",
      "metadata": {
        "colab": {
          "base_uri": "https://localhost:8080/"
        },
        "id": "mTWMBAORuo-w",
        "outputId": "62c13529-6b16-4f24-a3af-83db0eb30135"
      },
      "outputs": [
        {
          "output_type": "stream",
          "name": "stdout",
          "text": [
            "\u001b[1mSVM MODEL (SMOTE)\n",
            "\u001b[0m\n",
            "1) \u001b[1mOverall Accuracy Score: \u001b[0m99.5%\n",
            "\n",
            "2) \u001b[1mConfusion Matrix:\n",
            "\u001b[0m\n",
            "                  Predicted Healthy  Predicted High-Risk\n",
            "Actual Healthy                18649                  125\n",
            "Actual High-Risk                  2                  608\n",
            "\n",
            "3) \u001b[1mClassification Report:\n",
            "\u001b[0m\n",
            "              precision    recall  f1-score   support\n",
            "\n",
            "     healthy       1.00      0.99      1.00     18774\n",
            "   high-risk       0.83      1.00      0.91       610\n",
            "\n",
            "    accuracy                           0.99     19384\n",
            "   macro avg       0.91      1.00      0.95     19384\n",
            "weighted avg       0.99      0.99      0.99     19384\n",
            "\n",
            "\n"
          ]
        }
      ],
      "source": [
        "svm_SMOTE_accuracy_score_float, \\\n",
        "svm_SMOTE_confusion_matrix_dataframe, \\\n",
        "svm_SMOTE_classification_report_string \\\n",
        "    = classificationsx.return_binary_classification_confusion_matrix \\\n",
        "        (y_test_series,\n",
        "         svm_SMOTE_predictions_nparray,\n",
        "         'SVM MODEL (SMOTE)',\n",
        "         'Healthy', 'High-Risk')\n",
        "\n",
        "model_performance_dictionary['svm'] \\\n",
        "    .append(svm_SMOTE_accuracy_score_float * 100)\n",
        "\n",
        "model_performance_ranking_dictionary['svm_smote'] \\\n",
        "    = svm_SMOTE_accuracy_score_float * 100"
      ]
    },
    {
      "cell_type": "markdown",
      "id": "ED8FxnB2uo-w",
      "metadata": {
        "id": "ED8FxnB2uo-w"
      },
      "source": [
        "### **SMOTEENN**"
      ]
    },
    {
      "cell_type": "code",
      "execution_count": 286,
      "id": "Q80ZPHJyuo-w",
      "metadata": {
        "colab": {
          "base_uri": "https://localhost:8080/"
        },
        "id": "Q80ZPHJyuo-w",
        "outputId": "e14431de-34fd-450a-f58e-d2573bac6ea9"
      },
      "outputs": [
        {
          "output_type": "execute_result",
          "data": {
            "text/plain": [
              "{'C': 1.0,\n",
              " 'break_ties': False,\n",
              " 'cache_size': 200,\n",
              " 'class_weight': None,\n",
              " 'coef0': 0.0,\n",
              " 'decision_function_shape': 'ovr',\n",
              " 'degree': 3,\n",
              " 'gamma': 'scale',\n",
              " 'kernel': 'rbf',\n",
              " 'max_iter': -1,\n",
              " 'probability': True,\n",
              " 'random_state': 21,\n",
              " 'shrinking': True,\n",
              " 'tol': 0.001,\n",
              " 'verbose': False}"
            ]
          },
          "metadata": {},
          "execution_count": 286
        }
      ],
      "source": [
        "svm_SMOTEENN_model.get_params()"
      ]
    },
    {
      "cell_type": "code",
      "execution_count": 287,
      "id": "FuBVB6Vcuo-w",
      "metadata": {
        "colab": {
          "base_uri": "https://localhost:8080/"
        },
        "id": "FuBVB6Vcuo-w",
        "outputId": "f4b0c5fe-ed8a-4858-eca6-6a1ff3add82a"
      },
      "outputs": [
        {
          "output_type": "stream",
          "name": "stdout",
          "text": [
            "\u001b[1mThe balanced accuracy score for svm SMOTEENN from actual vs. test predictions is 99.36%\u001b[0m\n"
          ]
        }
      ],
      "source": [
        "svm_SMOTEENN_predictions_nparray \\\n",
        "    = svm_SMOTEENN_model.predict(x_test_scaled_dataframe)\n",
        "\n",
        "svm_SMOTEENN_balanced_accuracy_score_float \\\n",
        "    = accuracy_score(y_test_series, svm_SMOTEENN_predictions_nparray) * 100\n",
        "\n",
        "logx.print_and_log_text \\\n",
        "    ('\\033[1m' \\\n",
        "     + 'The balanced accuracy score for svm SMOTEENN from actual vs. test predictions is {:.2f}%' \\\n",
        "         .format(svm_SMOTEENN_balanced_accuracy_score_float) \\\n",
        "     + '\\033[0m')"
      ]
    },
    {
      "cell_type": "code",
      "execution_count": 288,
      "id": "ozCLNo-Iuo-w",
      "metadata": {
        "colab": {
          "base_uri": "https://localhost:8080/"
        },
        "id": "ozCLNo-Iuo-w",
        "outputId": "d54845fb-65ca-4fd8-fc95-6c6a432f1cf0"
      },
      "outputs": [
        {
          "output_type": "stream",
          "name": "stdout",
          "text": [
            "\u001b[1mSVM MODEL (SMOTEENN)\n",
            "\u001b[0m\n",
            "1) \u001b[1mOverall Accuracy Score: \u001b[0m99.51%\n",
            "\n",
            "2) \u001b[1mConfusion Matrix:\n",
            "\u001b[0m\n",
            "                  Predicted Healthy  Predicted High-Risk\n",
            "Actual Healthy                18651                  123\n",
            "Actual High-Risk                  2                  608\n",
            "\n",
            "3) \u001b[1mClassification Report:\n",
            "\u001b[0m\n",
            "              precision    recall  f1-score   support\n",
            "\n",
            "     healthy       1.00      0.99      1.00     18774\n",
            "   high-risk       0.83      1.00      0.91       610\n",
            "\n",
            "    accuracy                           0.99     19384\n",
            "   macro avg       0.92      1.00      0.95     19384\n",
            "weighted avg       0.99      0.99      0.99     19384\n",
            "\n",
            "\n"
          ]
        }
      ],
      "source": [
        "svm_SMOTEENN_accuracy_score_float, \\\n",
        "svm_SMOTEENN_confusion_matrix_dataframe, \\\n",
        "svm_SMOTEENN_classification_report_string \\\n",
        "    = classificationsx.return_binary_classification_confusion_matrix \\\n",
        "        (y_test_series,\n",
        "         svm_SMOTEENN_predictions_nparray,\n",
        "         'SVM MODEL (SMOTEENN)',\n",
        "         'Healthy', 'High-Risk')\n",
        "\n",
        "model_performance_dictionary['svm'] \\\n",
        "    .append(svm_SMOTEENN_accuracy_score_float * 100)\n",
        "\n",
        "model_performance_ranking_dictionary['svm_smoteen'] \\\n",
        "    = svm_SMOTEENN_accuracy_score_float * 100"
      ]
    },
    {
      "cell_type": "markdown",
      "id": "HhjJ3NcYuo-x",
      "metadata": {
        "id": "HhjJ3NcYuo-x"
      },
      "source": [
        "## **9.5: K-Nearest Neighbor (KNN)**"
      ]
    },
    {
      "cell_type": "markdown",
      "id": "3DO8d84Cuo-x",
      "metadata": {
        "id": "3DO8d84Cuo-x"
      },
      "source": [
        "### **Original**"
      ]
    },
    {
      "cell_type": "code",
      "execution_count": 289,
      "id": "tnypv0Asuo-x",
      "metadata": {
        "colab": {
          "base_uri": "https://localhost:8080/"
        },
        "id": "tnypv0Asuo-x",
        "outputId": "d350a64a-1bfb-443c-f4c9-957e7eda2a77"
      },
      "outputs": [
        {
          "output_type": "execute_result",
          "data": {
            "text/plain": [
              "{'algorithm': 'auto',\n",
              " 'leaf_size': 2,\n",
              " 'metric': 'minkowski',\n",
              " 'metric_params': None,\n",
              " 'n_jobs': None,\n",
              " 'n_neighbors': 5,\n",
              " 'p': 2,\n",
              " 'weights': 'uniform'}"
            ]
          },
          "metadata": {},
          "execution_count": 289
        }
      ],
      "source": [
        "knn_model.get_params()"
      ]
    },
    {
      "cell_type": "code",
      "execution_count": 290,
      "id": "g1-FShu7uo-x",
      "metadata": {
        "colab": {
          "base_uri": "https://localhost:8080/"
        },
        "id": "g1-FShu7uo-x",
        "outputId": "e3ad7b39-2d78-4369-b6e8-7781b0f9585a"
      },
      "outputs": [
        {
          "output_type": "stream",
          "name": "stdout",
          "text": [
            "\u001b[1mThe balanced accuracy score for KNN from actual vs. test predictions is 99.28%\u001b[0m\n"
          ]
        }
      ],
      "source": [
        "knn_predictions_nparray = knn_model.predict(x_test_scaled_dataframe)\n",
        "\n",
        "knn_balanced_accuracy_score_float \\\n",
        "    = accuracy_score(y_test_series, knn_predictions_nparray) * 100\n",
        "\n",
        "logx.print_and_log_text \\\n",
        "    ('\\033[1m' \\\n",
        "     + 'The balanced accuracy score for KNN from actual vs. test predictions is {:.2f}%' \\\n",
        "         .format(knn_balanced_accuracy_score_float) \\\n",
        "     + '\\033[0m')"
      ]
    },
    {
      "cell_type": "code",
      "execution_count": 291,
      "id": "fNv586bsuo-x",
      "metadata": {
        "colab": {
          "base_uri": "https://localhost:8080/"
        },
        "id": "fNv586bsuo-x",
        "outputId": "b31a0ce1-c802-4902-9bf4-80b3ac57af1a"
      },
      "outputs": [
        {
          "output_type": "stream",
          "name": "stdout",
          "text": [
            "\u001b[1mKNN MODEL\n",
            "\u001b[0m\n",
            "1) \u001b[1mOverall Accuracy Score: \u001b[0m98.12%\n",
            "\n",
            "2) \u001b[1mConfusion Matrix:\n",
            "\u001b[0m\n",
            "                  Predicted Healthy  Predicted High-Risk\n",
            "Actual Healthy                18653                  121\n",
            "Actual High-Risk                 19                  591\n",
            "\n",
            "3) \u001b[1mClassification Report:\n",
            "\u001b[0m\n",
            "              precision    recall  f1-score   support\n",
            "\n",
            "     healthy       1.00      0.99      1.00     18774\n",
            "   high-risk       0.83      0.97      0.89       610\n",
            "\n",
            "    accuracy                           0.99     19384\n",
            "   macro avg       0.91      0.98      0.95     19384\n",
            "weighted avg       0.99      0.99      0.99     19384\n",
            "\n",
            "\n"
          ]
        }
      ],
      "source": [
        "knn_accuracy_score_float, \\\n",
        "knn_confusion_matrix_dataframe, \\\n",
        "knn_classification_report_string \\\n",
        "    = classificationsx.return_binary_classification_confusion_matrix \\\n",
        "        (y_test_series,\n",
        "         knn_predictions_nparray,\n",
        "         'KNN MODEL',\n",
        "         'Healthy', 'High-Risk')\n",
        "\n",
        "model_performance_dictionary['knn'] \\\n",
        "    = [knn_accuracy_score_float * 100]\n",
        "\n",
        "model_performance_ranking_dictionary['knn'] \\\n",
        "    = knn_accuracy_score_float * 100"
      ]
    },
    {
      "cell_type": "markdown",
      "id": "-J1Pn-zGuo-x",
      "metadata": {
        "id": "-J1Pn-zGuo-x"
      },
      "source": [
        "### **Random Undersampling**"
      ]
    },
    {
      "cell_type": "code",
      "execution_count": 292,
      "id": "bpXMq9HQuo-x",
      "metadata": {
        "colab": {
          "base_uri": "https://localhost:8080/"
        },
        "id": "bpXMq9HQuo-x",
        "outputId": "9c55332a-0045-41cb-e8b6-3a527806c98e"
      },
      "outputs": [
        {
          "output_type": "execute_result",
          "data": {
            "text/plain": [
              "{'algorithm': 'auto',\n",
              " 'leaf_size': 2,\n",
              " 'metric': 'minkowski',\n",
              " 'metric_params': None,\n",
              " 'n_jobs': None,\n",
              " 'n_neighbors': 5,\n",
              " 'p': 2,\n",
              " 'weights': 'uniform'}"
            ]
          },
          "metadata": {},
          "execution_count": 292
        }
      ],
      "source": [
        "knn_undersampled_model.get_params()"
      ]
    },
    {
      "cell_type": "code",
      "execution_count": 293,
      "id": "3TRtJ_71uo-x",
      "metadata": {
        "colab": {
          "base_uri": "https://localhost:8080/"
        },
        "id": "3TRtJ_71uo-x",
        "outputId": "b3bf5c61-a7e5-489d-efc4-b702a41bb46f"
      },
      "outputs": [
        {
          "output_type": "stream",
          "name": "stdout",
          "text": [
            "\u001b[1mThe balanced accuracy score for knn undersampled from actual vs. test predictions is 99.35%\u001b[0m\n"
          ]
        }
      ],
      "source": [
        "knn_undersampled_predictions_nparray \\\n",
        "    = knn_undersampled_model.predict(x_test_scaled_dataframe)\n",
        "\n",
        "knn_undersampled_balanced_accuracy_score_float \\\n",
        "    = accuracy_score(y_test_series, knn_undersampled_predictions_nparray) * 100\n",
        "\n",
        "logx.print_and_log_text \\\n",
        "    ('\\033[1m' \\\n",
        "     + 'The balanced accuracy score for knn undersampled from actual vs. test predictions is {:.2f}%' \\\n",
        "         .format(knn_undersampled_balanced_accuracy_score_float) \\\n",
        "     + '\\033[0m')"
      ]
    },
    {
      "cell_type": "code",
      "execution_count": 294,
      "id": "oKL3O3SHuo-x",
      "metadata": {
        "colab": {
          "base_uri": "https://localhost:8080/"
        },
        "id": "oKL3O3SHuo-x",
        "outputId": "4fd2929a-238c-4d80-b32a-794334843f2a"
      },
      "outputs": [
        {
          "output_type": "stream",
          "name": "stdout",
          "text": [
            "\u001b[1mKNN MODEL (Undersampled)\n",
            "\u001b[0m\n",
            "1) \u001b[1mOverall Accuracy Score: \u001b[0m99.51%\n",
            "\n",
            "2) \u001b[1mConfusion Matrix:\n",
            "\u001b[0m\n",
            "                  Predicted Healthy  Predicted High-Risk\n",
            "Actual Healthy                18650                  124\n",
            "Actual High-Risk                  2                  608\n",
            "\n",
            "3) \u001b[1mClassification Report:\n",
            "\u001b[0m\n",
            "              precision    recall  f1-score   support\n",
            "\n",
            "     healthy       1.00      0.99      1.00     18774\n",
            "   high-risk       0.83      1.00      0.91       610\n",
            "\n",
            "    accuracy                           0.99     19384\n",
            "   macro avg       0.92      1.00      0.95     19384\n",
            "weighted avg       0.99      0.99      0.99     19384\n",
            "\n",
            "\n"
          ]
        }
      ],
      "source": [
        "knn_undersampled_accuracy_score_float, \\\n",
        "knn_undersampled_confusion_matrix_dataframe, \\\n",
        "knn_undersampled_classification_report_string \\\n",
        "    = classificationsx.return_binary_classification_confusion_matrix \\\n",
        "        (y_test_series,\n",
        "         knn_undersampled_predictions_nparray,\n",
        "         'KNN MODEL (Undersampled)',\n",
        "         'Healthy', 'High-Risk')\n",
        "\n",
        "model_performance_dictionary['knn'] \\\n",
        "    .append(knn_undersampled_accuracy_score_float * 100)\n",
        "\n",
        "model_performance_ranking_dictionary['knn_undersampled'] \\\n",
        "    = knn_undersampled_accuracy_score_float * 100"
      ]
    },
    {
      "cell_type": "markdown",
      "id": "A7vpx04Cuo-x",
      "metadata": {
        "id": "A7vpx04Cuo-x"
      },
      "source": [
        "### **Random Oversampling**"
      ]
    },
    {
      "cell_type": "code",
      "execution_count": 295,
      "id": "7-zvbuBvuo-x",
      "metadata": {
        "colab": {
          "base_uri": "https://localhost:8080/"
        },
        "id": "7-zvbuBvuo-x",
        "outputId": "97c6d99f-7818-400c-af7a-340de1d460c9"
      },
      "outputs": [
        {
          "output_type": "execute_result",
          "data": {
            "text/plain": [
              "{'algorithm': 'auto',\n",
              " 'leaf_size': 2,\n",
              " 'metric': 'minkowski',\n",
              " 'metric_params': None,\n",
              " 'n_jobs': None,\n",
              " 'n_neighbors': 5,\n",
              " 'p': 2,\n",
              " 'weights': 'uniform'}"
            ]
          },
          "metadata": {},
          "execution_count": 295
        }
      ],
      "source": [
        "knn_oversampled_model.get_params()"
      ]
    },
    {
      "cell_type": "code",
      "execution_count": 296,
      "id": "QGb-6BBPuo-x",
      "metadata": {
        "colab": {
          "base_uri": "https://localhost:8080/"
        },
        "id": "QGb-6BBPuo-x",
        "outputId": "193ab18e-02c1-4a67-feec-5b2b780b8924"
      },
      "outputs": [
        {
          "output_type": "stream",
          "name": "stdout",
          "text": [
            "\u001b[1mThe balanced accuracy score for knn oversampled from actual vs. test predictions is 99.31%\u001b[0m\n"
          ]
        }
      ],
      "source": [
        "knn_oversampled_predictions_nparray \\\n",
        "    = knn_oversampled_model.predict(x_test_scaled_dataframe)\n",
        "\n",
        "knn_oversampled_balanced_accuracy_score_float \\\n",
        "    = accuracy_score(y_test_series, knn_oversampled_predictions_nparray) * 100\n",
        "\n",
        "logx.print_and_log_text \\\n",
        "    ('\\033[1m'\n",
        "     + 'The balanced accuracy score for knn oversampled from actual vs. test predictions is {:.2f}%' \\\n",
        "         .format(knn_oversampled_balanced_accuracy_score_float)\n",
        "     + '\\033[0m')"
      ]
    },
    {
      "cell_type": "code",
      "execution_count": 297,
      "id": "KZw8ClfYuo-y",
      "metadata": {
        "colab": {
          "base_uri": "https://localhost:8080/"
        },
        "id": "KZw8ClfYuo-y",
        "outputId": "6c4d6b19-f7ed-4dad-9c62-0e2788f64f8f"
      },
      "outputs": [
        {
          "output_type": "stream",
          "name": "stdout",
          "text": [
            "\u001b[1mKNN MODEL (Oversampled)\n",
            "\u001b[0m\n",
            "1) \u001b[1mOverall Accuracy Score: \u001b[0m99.33%\n",
            "\n",
            "2) \u001b[1mConfusion Matrix:\n",
            "\u001b[0m\n",
            "                  Predicted Healthy  Predicted High-Risk\n",
            "Actual Healthy                18645                  129\n",
            "Actual High-Risk                  4                  606\n",
            "\n",
            "3) \u001b[1mClassification Report:\n",
            "\u001b[0m\n",
            "              precision    recall  f1-score   support\n",
            "\n",
            "     healthy       1.00      0.99      1.00     18774\n",
            "   high-risk       0.82      0.99      0.90       610\n",
            "\n",
            "    accuracy                           0.99     19384\n",
            "   macro avg       0.91      0.99      0.95     19384\n",
            "weighted avg       0.99      0.99      0.99     19384\n",
            "\n",
            "\n"
          ]
        }
      ],
      "source": [
        "knn_oversampled_accuracy_score_float, \\\n",
        "knn_oversampled_confusion_matrix_dataframe, \\\n",
        "knn_oversampled_classification_report_string \\\n",
        "    = classificationsx.return_binary_classification_confusion_matrix \\\n",
        "        (y_test_series,\n",
        "         knn_oversampled_predictions_nparray,\n",
        "         'KNN MODEL (Oversampled)',\n",
        "         'Healthy', 'High-Risk')\n",
        "\n",
        "model_performance_dictionary['knn'] \\\n",
        "    .append(knn_oversampled_accuracy_score_float * 100)\n",
        "\n",
        "model_performance_ranking_dictionary['knn_oversampled'] \\\n",
        "    = knn_oversampled_accuracy_score_float * 100"
      ]
    },
    {
      "cell_type": "markdown",
      "id": "xOidwiePuo-y",
      "metadata": {
        "id": "xOidwiePuo-y"
      },
      "source": [
        "### **Cluster Centroids**"
      ]
    },
    {
      "cell_type": "code",
      "execution_count": 298,
      "id": "Fyt1GUJAuo-y",
      "metadata": {
        "colab": {
          "base_uri": "https://localhost:8080/"
        },
        "id": "Fyt1GUJAuo-y",
        "outputId": "345e74cc-1d5a-4264-89d8-48ae5d358aff"
      },
      "outputs": [
        {
          "output_type": "execute_result",
          "data": {
            "text/plain": [
              "{'algorithm': 'auto',\n",
              " 'leaf_size': 2,\n",
              " 'metric': 'minkowski',\n",
              " 'metric_params': None,\n",
              " 'n_jobs': None,\n",
              " 'n_neighbors': 5,\n",
              " 'p': 2,\n",
              " 'weights': 'uniform'}"
            ]
          },
          "metadata": {},
          "execution_count": 298
        }
      ],
      "source": [
        "knn_cluster_centroids_model.get_params()"
      ]
    },
    {
      "cell_type": "code",
      "execution_count": 299,
      "id": "q8JsZEX0uo-y",
      "metadata": {
        "colab": {
          "base_uri": "https://localhost:8080/"
        },
        "id": "q8JsZEX0uo-y",
        "outputId": "d098462f-1a7a-492c-bb87-1097e8a3a2d3"
      },
      "outputs": [
        {
          "output_type": "stream",
          "name": "stdout",
          "text": [
            "\u001b[1mThe balanced accuracy score for knn cluster centroids from actual vs. test predictions is 99.37%\u001b[0m\n"
          ]
        }
      ],
      "source": [
        "knn_cluster_centroids_predictions_nparray \\\n",
        "    = knn_cluster_centroids_model.predict(x_test_scaled_dataframe)\n",
        "\n",
        "knn_cluster_centroids_balanced_accuracy_score_float \\\n",
        "    = accuracy_score(y_test_series, knn_cluster_centroids_predictions_nparray) * 100\n",
        "\n",
        "logx.print_and_log_text \\\n",
        "    ('\\033[1m' \\\n",
        "     + 'The balanced accuracy score for knn cluster centroids from actual vs. test predictions is {:.2f}%' \\\n",
        "         .format(knn_cluster_centroids_balanced_accuracy_score_float) \\\n",
        "     + '\\033[0m')"
      ]
    },
    {
      "cell_type": "code",
      "execution_count": 300,
      "id": "mQBpucbpuo-y",
      "metadata": {
        "colab": {
          "base_uri": "https://localhost:8080/"
        },
        "id": "mQBpucbpuo-y",
        "outputId": "bd8561f5-d8cc-4eef-a396-35af68f407d7"
      },
      "outputs": [
        {
          "output_type": "stream",
          "name": "stdout",
          "text": [
            "\u001b[1mKNN MODEL (Cluster Centroids)\n",
            "\u001b[0m\n",
            "1) \u001b[1mOverall Accuracy Score: \u001b[0m99.51%\n",
            "\n",
            "2) \u001b[1mConfusion Matrix:\n",
            "\u001b[0m\n",
            "                  Predicted Healthy  Predicted High-Risk\n",
            "Actual Healthy                18653                  121\n",
            "Actual High-Risk                  2                  608\n",
            "\n",
            "3) \u001b[1mClassification Report:\n",
            "\u001b[0m\n",
            "              precision    recall  f1-score   support\n",
            "\n",
            "     healthy       1.00      0.99      1.00     18774\n",
            "   high-risk       0.83      1.00      0.91       610\n",
            "\n",
            "    accuracy                           0.99     19384\n",
            "   macro avg       0.92      1.00      0.95     19384\n",
            "weighted avg       0.99      0.99      0.99     19384\n",
            "\n",
            "\n"
          ]
        }
      ],
      "source": [
        "knn_cluster_centroids_accuracy_score_float, \\\n",
        "knn_cluster_centroids_confusion_matrix_dataframe, \\\n",
        "knn_cluster_centroids_classification_report_string \\\n",
        "    = classificationsx.return_binary_classification_confusion_matrix \\\n",
        "        (y_test_series,\n",
        "         knn_cluster_centroids_predictions_nparray,\n",
        "         'KNN MODEL (Cluster Centroids)',\n",
        "         'Healthy', 'High-Risk')\n",
        "\n",
        "model_performance_dictionary['knn'] \\\n",
        "    .append(knn_cluster_centroids_accuracy_score_float * 100)\n",
        "\n",
        "model_performance_ranking_dictionary['knn_cluster_centroids'] \\\n",
        "    = knn_cluster_centroids_accuracy_score_float * 100"
      ]
    },
    {
      "cell_type": "markdown",
      "id": "Sr3Cc8iXuo-y",
      "metadata": {
        "id": "Sr3Cc8iXuo-y"
      },
      "source": [
        "### **SMOTE**"
      ]
    },
    {
      "cell_type": "code",
      "execution_count": 301,
      "id": "DKFNBClkuo-y",
      "metadata": {
        "colab": {
          "base_uri": "https://localhost:8080/"
        },
        "id": "DKFNBClkuo-y",
        "outputId": "88839e6c-4fee-48be-cdf5-19142de44dba"
      },
      "outputs": [
        {
          "output_type": "execute_result",
          "data": {
            "text/plain": [
              "{'algorithm': 'auto',\n",
              " 'leaf_size': 2,\n",
              " 'metric': 'minkowski',\n",
              " 'metric_params': None,\n",
              " 'n_jobs': None,\n",
              " 'n_neighbors': 5,\n",
              " 'p': 2,\n",
              " 'weights': 'uniform'}"
            ]
          },
          "metadata": {},
          "execution_count": 301
        }
      ],
      "source": [
        "knn_SMOTE_model.get_params()"
      ]
    },
    {
      "cell_type": "code",
      "execution_count": 302,
      "id": "oeW2C9RAuo-y",
      "metadata": {
        "colab": {
          "base_uri": "https://localhost:8080/"
        },
        "id": "oeW2C9RAuo-y",
        "outputId": "cfe8d628-026d-413b-d5bf-837328245d73"
      },
      "outputs": [
        {
          "output_type": "stream",
          "name": "stdout",
          "text": [
            "\u001b[1mThe balanced accuracy score for knn SMOTE from actual vs. test predictions is 94.70%\u001b[0m\n"
          ]
        }
      ],
      "source": [
        "knn_SMOTE_predictions_nparray \\\n",
        "    = knn_SMOTE_model.predict(x_test_scaled_dataframe)\n",
        "\n",
        "knn_SMOTE_balanced_accuracy_score_float \\\n",
        "    = accuracy_score(y_test_series, knn_SMOTE_predictions_nparray) * 100\n",
        "\n",
        "logx.print_and_log_text \\\n",
        "    ('\\033[1m' \\\n",
        "     + 'The balanced accuracy score for knn SMOTE from actual vs. test predictions is {:.2f}%' \\\n",
        "         .format(knn_SMOTE_balanced_accuracy_score_float) \\\n",
        "     + '\\033[0m')"
      ]
    },
    {
      "cell_type": "code",
      "execution_count": 303,
      "id": "5R9eLNMTuo-y",
      "metadata": {
        "colab": {
          "base_uri": "https://localhost:8080/"
        },
        "id": "5R9eLNMTuo-y",
        "outputId": "80208527-8d29-480e-c3d8-dffc829a765f"
      },
      "outputs": [
        {
          "output_type": "stream",
          "name": "stdout",
          "text": [
            "\u001b[1mKNN MODEL (SMOTE)\n",
            "\u001b[0m\n",
            "1) \u001b[1mOverall Accuracy Score: \u001b[0m97.02%\n",
            "\n",
            "2) \u001b[1mConfusion Matrix:\n",
            "\u001b[0m\n",
            "                  Predicted Healthy  Predicted High-Risk\n",
            "Actual Healthy                17749                 1025\n",
            "Actual High-Risk                  3                  607\n",
            "\n",
            "3) \u001b[1mClassification Report:\n",
            "\u001b[0m\n",
            "              precision    recall  f1-score   support\n",
            "\n",
            "     healthy       1.00      0.95      0.97     18774\n",
            "   high-risk       0.37      1.00      0.54       610\n",
            "\n",
            "    accuracy                           0.95     19384\n",
            "   macro avg       0.69      0.97      0.76     19384\n",
            "weighted avg       0.98      0.95      0.96     19384\n",
            "\n",
            "\n"
          ]
        }
      ],
      "source": [
        "knn_SMOTE_accuracy_score_float, \\\n",
        "knn_SMOTE_confusion_matrix_dataframe, \\\n",
        "knn_SMOTE_classification_report_string \\\n",
        "    = classificationsx.return_binary_classification_confusion_matrix \\\n",
        "        (y_test_series,\n",
        "         knn_SMOTE_predictions_nparray,\n",
        "         'KNN MODEL (SMOTE)',\n",
        "         'Healthy', 'High-Risk')\n",
        "\n",
        "model_performance_dictionary['knn'] \\\n",
        "    .append(knn_SMOTE_accuracy_score_float * 100)\n",
        "\n",
        "model_performance_ranking_dictionary['knn_smote'] \\\n",
        "    = knn_SMOTE_accuracy_score_float * 100"
      ]
    },
    {
      "cell_type": "markdown",
      "id": "jCHZui9Puo-y",
      "metadata": {
        "id": "jCHZui9Puo-y"
      },
      "source": [
        "### **SMOTEENN**"
      ]
    },
    {
      "cell_type": "code",
      "execution_count": 304,
      "id": "UEeSFKcpuo-y",
      "metadata": {
        "colab": {
          "base_uri": "https://localhost:8080/"
        },
        "id": "UEeSFKcpuo-y",
        "outputId": "c92d9c1f-b079-4c4b-ee20-ef49b2c85bd1"
      },
      "outputs": [
        {
          "output_type": "execute_result",
          "data": {
            "text/plain": [
              "{'algorithm': 'auto',\n",
              " 'leaf_size': 2,\n",
              " 'metric': 'minkowski',\n",
              " 'metric_params': None,\n",
              " 'n_jobs': None,\n",
              " 'n_neighbors': 5,\n",
              " 'p': 2,\n",
              " 'weights': 'uniform'}"
            ]
          },
          "metadata": {},
          "execution_count": 304
        }
      ],
      "source": [
        "knn_SMOTEENN_model.get_params()"
      ]
    },
    {
      "cell_type": "code",
      "execution_count": 305,
      "id": "nTi2yHeiuo-y",
      "metadata": {
        "colab": {
          "base_uri": "https://localhost:8080/"
        },
        "id": "nTi2yHeiuo-y",
        "outputId": "897e3c65-498e-4fb8-9d40-22ba1a033844"
      },
      "outputs": [
        {
          "output_type": "stream",
          "name": "stdout",
          "text": [
            "\u001b[1mThe balanced accuracy score for knn SMOTEENN from actual vs. test predictions is 97.45%\u001b[0m\n"
          ]
        }
      ],
      "source": [
        "knn_SMOTEENN_predictions_nparray \\\n",
        "    = knn_SMOTEENN_model.predict(x_test_scaled_dataframe)\n",
        "\n",
        "knn_SMOTEENN_balanced_accuracy_score_float \\\n",
        "    = accuracy_score(y_test_series, knn_SMOTEENN_predictions_nparray) * 100\n",
        "\n",
        "logx.print_and_log_text \\\n",
        "    ('\\033[1m' \\\n",
        "     + 'The balanced accuracy score for knn SMOTEENN from actual vs. test predictions is {:.2f}%' \\\n",
        "         .format(knn_SMOTEENN_balanced_accuracy_score_float) \\\n",
        "     + '\\033[0m')"
      ]
    },
    {
      "cell_type": "code",
      "execution_count": 306,
      "id": "1ab19Uavuo-z",
      "metadata": {
        "colab": {
          "base_uri": "https://localhost:8080/"
        },
        "id": "1ab19Uavuo-z",
        "outputId": "f97da84a-34f5-43dd-ffbd-7b08943de08a"
      },
      "outputs": [
        {
          "output_type": "stream",
          "name": "stdout",
          "text": [
            "\u001b[1mKNN MODEL (SMOTEENN)\n",
            "\u001b[0m\n",
            "1) \u001b[1mOverall Accuracy Score: \u001b[0m98.61%\n",
            "\n",
            "2) \u001b[1mConfusion Matrix:\n",
            "\u001b[0m\n",
            "                  Predicted Healthy  Predicted High-Risk\n",
            "Actual Healthy                18281                  493\n",
            "Actual High-Risk                  1                  609\n",
            "\n",
            "3) \u001b[1mClassification Report:\n",
            "\u001b[0m\n",
            "              precision    recall  f1-score   support\n",
            "\n",
            "     healthy       1.00      0.97      0.99     18774\n",
            "   high-risk       0.55      1.00      0.71       610\n",
            "\n",
            "    accuracy                           0.97     19384\n",
            "   macro avg       0.78      0.99      0.85     19384\n",
            "weighted avg       0.99      0.97      0.98     19384\n",
            "\n",
            "\n"
          ]
        }
      ],
      "source": [
        "knn_SMOTEENN_accuracy_score_float, \\\n",
        "knn_SMOTEENN_confusion_matrix_dataframe, \\\n",
        "knn_SMOTEENN_classification_report_string \\\n",
        "    = classificationsx.return_binary_classification_confusion_matrix \\\n",
        "        (y_test_series,\n",
        "         knn_SMOTEENN_predictions_nparray,\n",
        "         'KNN MODEL (SMOTEENN)',\n",
        "         'Healthy', 'High-Risk')\n",
        "\n",
        "model_performance_dictionary['knn'] \\\n",
        "    .append(knn_SMOTEENN_accuracy_score_float * 100)\n",
        "\n",
        "model_performance_ranking_dictionary['knn_smoteen'] \\\n",
        "    = knn_SMOTEENN_accuracy_score_float * 100"
      ]
    },
    {
      "cell_type": "markdown",
      "id": "5QAYUXiauo-z",
      "metadata": {
        "id": "5QAYUXiauo-z"
      },
      "source": [
        "## **9.6: Gaussian Naive Bayes (GNB)**"
      ]
    },
    {
      "cell_type": "markdown",
      "id": "PA-zm56Ouo-z",
      "metadata": {
        "id": "PA-zm56Ouo-z"
      },
      "source": [
        "### **Original**"
      ]
    },
    {
      "cell_type": "code",
      "execution_count": 307,
      "id": "yuftVNT0uo-z",
      "metadata": {
        "colab": {
          "base_uri": "https://localhost:8080/"
        },
        "id": "yuftVNT0uo-z",
        "outputId": "ae0b5870-87d5-40bd-d4bc-bc788cb5a8e5"
      },
      "outputs": [
        {
          "output_type": "execute_result",
          "data": {
            "text/plain": [
              "{'priors': None, 'var_smoothing': 1e-09}"
            ]
          },
          "metadata": {},
          "execution_count": 307
        }
      ],
      "source": [
        "gnb_model.get_params()"
      ]
    },
    {
      "cell_type": "code",
      "execution_count": 308,
      "id": "yo_a7J9Luo-0",
      "metadata": {
        "colab": {
          "base_uri": "https://localhost:8080/"
        },
        "id": "yo_a7J9Luo-0",
        "outputId": "ac53abd3-41cc-42c6-c46f-3e2c647f0222"
      },
      "outputs": [
        {
          "output_type": "stream",
          "name": "stdout",
          "text": [
            "\u001b[1mThe balanced accuracy score for GNB from actual vs. test predictions is 99.37%\u001b[0m\n"
          ]
        }
      ],
      "source": [
        "gnb_predictions_nparray = gnb_model.predict(x_test_scaled_dataframe)\n",
        "\n",
        "gnb_balanced_accuracy_score_float \\\n",
        "    = accuracy_score(y_test_series, gnb_predictions_nparray) * 100\n",
        "\n",
        "logx.print_and_log_text \\\n",
        "    ('\\033[1m' \\\n",
        "     + 'The balanced accuracy score for GNB from actual vs. test predictions is {:.2f}%' \\\n",
        "         .format(gnb_balanced_accuracy_score_float) \\\n",
        "     + '\\033[0m')"
      ]
    },
    {
      "cell_type": "code",
      "execution_count": 309,
      "id": "Lf2X9dbquo-0",
      "metadata": {
        "colab": {
          "base_uri": "https://localhost:8080/"
        },
        "id": "Lf2X9dbquo-0",
        "outputId": "b4343472-6389-4b8a-d15d-25d7d957d890"
      },
      "outputs": [
        {
          "output_type": "stream",
          "name": "stdout",
          "text": [
            "\u001b[1mGNB MODEL\n",
            "\u001b[0m\n",
            "1) \u001b[1mOverall Accuracy Score: \u001b[0m99.51%\n",
            "\n",
            "2) \u001b[1mConfusion Matrix:\n",
            "\u001b[0m\n",
            "                  Predicted Healthy  Predicted High-Risk\n",
            "Actual Healthy                18653                  121\n",
            "Actual High-Risk                  2                  608\n",
            "\n",
            "3) \u001b[1mClassification Report:\n",
            "\u001b[0m\n",
            "              precision    recall  f1-score   support\n",
            "\n",
            "     healthy       1.00      0.99      1.00     18774\n",
            "   high-risk       0.83      1.00      0.91       610\n",
            "\n",
            "    accuracy                           0.99     19384\n",
            "   macro avg       0.92      1.00      0.95     19384\n",
            "weighted avg       0.99      0.99      0.99     19384\n",
            "\n",
            "\n"
          ]
        }
      ],
      "source": [
        "gnb_accuracy_score_float, \\\n",
        "gnb_confusion_matrix_dataframe, \\\n",
        "gnb_classification_report_string \\\n",
        "    = classificationsx.return_binary_classification_confusion_matrix \\\n",
        "        (y_test_series,\n",
        "         gnb_predictions_nparray,\n",
        "         'GNB MODEL',\n",
        "         'Healthy', 'High-Risk')\n",
        "\n",
        "model_performance_dictionary['gnb'] \\\n",
        "    = [gnb_accuracy_score_float * 100]\n",
        "\n",
        "model_performance_ranking_dictionary['gnb'] \\\n",
        "    = gnb_accuracy_score_float * 100"
      ]
    },
    {
      "cell_type": "markdown",
      "id": "mpkPf1w1uo-1",
      "metadata": {
        "id": "mpkPf1w1uo-1"
      },
      "source": [
        "### **Random Undersampling**"
      ]
    },
    {
      "cell_type": "code",
      "execution_count": 310,
      "id": "4GbmtWDeuo-1",
      "metadata": {
        "colab": {
          "base_uri": "https://localhost:8080/"
        },
        "id": "4GbmtWDeuo-1",
        "outputId": "6f567b36-2d22-4453-fc4a-cab787ea2242"
      },
      "outputs": [
        {
          "output_type": "execute_result",
          "data": {
            "text/plain": [
              "{'priors': None, 'var_smoothing': 1e-09}"
            ]
          },
          "metadata": {},
          "execution_count": 310
        }
      ],
      "source": [
        "gnb_undersampled_model.get_params()"
      ]
    },
    {
      "cell_type": "code",
      "execution_count": 311,
      "id": "F9pGz3aouo-1",
      "metadata": {
        "colab": {
          "base_uri": "https://localhost:8080/"
        },
        "id": "F9pGz3aouo-1",
        "outputId": "ac28af4a-1373-4c54-8b7b-f4874f0271ea"
      },
      "outputs": [
        {
          "output_type": "stream",
          "name": "stdout",
          "text": [
            "\u001b[1mThe balanced accuracy score for gnb undersampled from actual vs. test predictions is 99.37%\u001b[0m\n"
          ]
        }
      ],
      "source": [
        "gnb_undersampled_predictions_nparray \\\n",
        "    = gnb_undersampled_model.predict(x_test_scaled_dataframe)\n",
        "\n",
        "gnb_undersampled_balanced_accuracy_score_float \\\n",
        "    = accuracy_score(y_test_series, gnb_undersampled_predictions_nparray) * 100\n",
        "\n",
        "logx.print_and_log_text \\\n",
        "    ('\\033[1m' \\\n",
        "     + 'The balanced accuracy score for gnb undersampled from actual vs. test predictions is {:.2f}%' \\\n",
        "         .format(gnb_undersampled_balanced_accuracy_score_float) \\\n",
        "     + '\\033[0m')"
      ]
    },
    {
      "cell_type": "code",
      "execution_count": 312,
      "id": "Kqn_xYzLuo-1",
      "metadata": {
        "colab": {
          "base_uri": "https://localhost:8080/"
        },
        "id": "Kqn_xYzLuo-1",
        "outputId": "a6e1bc15-7009-444d-f444-8d9984975b92"
      },
      "outputs": [
        {
          "output_type": "stream",
          "name": "stdout",
          "text": [
            "\u001b[1mGNB MODEL (Undersampled)\n",
            "\u001b[0m\n",
            "1) \u001b[1mOverall Accuracy Score: \u001b[0m99.51%\n",
            "\n",
            "2) \u001b[1mConfusion Matrix:\n",
            "\u001b[0m\n",
            "                  Predicted Healthy  Predicted High-Risk\n",
            "Actual Healthy                18653                  121\n",
            "Actual High-Risk                  2                  608\n",
            "\n",
            "3) \u001b[1mClassification Report:\n",
            "\u001b[0m\n",
            "              precision    recall  f1-score   support\n",
            "\n",
            "     healthy       1.00      0.99      1.00     18774\n",
            "   high-risk       0.83      1.00      0.91       610\n",
            "\n",
            "    accuracy                           0.99     19384\n",
            "   macro avg       0.92      1.00      0.95     19384\n",
            "weighted avg       0.99      0.99      0.99     19384\n",
            "\n",
            "\n"
          ]
        }
      ],
      "source": [
        "gnb_undersampled_accuracy_score_float, \\\n",
        "gnb_undersampled_confusion_matrix_dataframe, \\\n",
        "gnb_undersampled_classification_report_string \\\n",
        "    = classificationsx.return_binary_classification_confusion_matrix \\\n",
        "        (y_test_series,\n",
        "         gnb_undersampled_predictions_nparray,\n",
        "         'GNB MODEL (Undersampled)',\n",
        "         'Healthy', 'High-Risk')\n",
        "\n",
        "model_performance_dictionary['gnb'] \\\n",
        "    .append(gnb_undersampled_accuracy_score_float * 100)\n",
        "\n",
        "model_performance_ranking_dictionary['gnb_undersampled'] \\\n",
        "    = gnb_undersampled_accuracy_score_float * 100"
      ]
    },
    {
      "cell_type": "markdown",
      "id": "Eo6sytB0uo-1",
      "metadata": {
        "id": "Eo6sytB0uo-1"
      },
      "source": [
        "### **Random Oversampling**"
      ]
    },
    {
      "cell_type": "code",
      "execution_count": 313,
      "id": "2xp_9NRLuo-2",
      "metadata": {
        "colab": {
          "base_uri": "https://localhost:8080/"
        },
        "id": "2xp_9NRLuo-2",
        "outputId": "24dcbd4c-9dfd-4953-d679-8aebbaecc820"
      },
      "outputs": [
        {
          "output_type": "execute_result",
          "data": {
            "text/plain": [
              "{'priors': None, 'var_smoothing': 1e-09}"
            ]
          },
          "metadata": {},
          "execution_count": 313
        }
      ],
      "source": [
        "gnb_oversampled_model.get_params()"
      ]
    },
    {
      "cell_type": "code",
      "execution_count": 314,
      "id": "K6KPxLD4uo-2",
      "metadata": {
        "colab": {
          "base_uri": "https://localhost:8080/"
        },
        "id": "K6KPxLD4uo-2",
        "outputId": "906e2b5c-5ea4-4180-c040-b8aba4f896bc"
      },
      "outputs": [
        {
          "output_type": "stream",
          "name": "stdout",
          "text": [
            "\u001b[1mThe balanced accuracy score for gnb oversampled from actual vs. test predictions is 99.37%\u001b[0m\n"
          ]
        }
      ],
      "source": [
        "gnb_oversampled_predictions_nparray \\\n",
        "    = gnb_oversampled_model.predict(x_test_scaled_dataframe)\n",
        "\n",
        "gnb_oversampled_balanced_accuracy_score_float \\\n",
        "    = accuracy_score(y_test_series, gnb_oversampled_predictions_nparray) * 100\n",
        "\n",
        "logx.print_and_log_text \\\n",
        "    ('\\033[1m' \\\n",
        "     + 'The balanced accuracy score for gnb oversampled from actual vs. test predictions is {:.2f}%' \\\n",
        "         .format(gnb_oversampled_balanced_accuracy_score_float) \\\n",
        "     + '\\033[0m')"
      ]
    },
    {
      "cell_type": "code",
      "execution_count": 315,
      "id": "lQiJXzKkuo-2",
      "metadata": {
        "colab": {
          "base_uri": "https://localhost:8080/"
        },
        "id": "lQiJXzKkuo-2",
        "outputId": "dbd09683-20e9-4cbe-b69f-031ac91abff4"
      },
      "outputs": [
        {
          "output_type": "stream",
          "name": "stdout",
          "text": [
            "\u001b[1mGNB MODEL (Oversampled)\n",
            "\u001b[0m\n",
            "1) \u001b[1mOverall Accuracy Score: \u001b[0m99.51%\n",
            "\n",
            "2) \u001b[1mConfusion Matrix:\n",
            "\u001b[0m\n",
            "                  Predicted Healthy  Predicted High-Risk\n",
            "Actual Healthy                18653                  121\n",
            "Actual High-Risk                  2                  608\n",
            "\n",
            "3) \u001b[1mClassification Report:\n",
            "\u001b[0m\n",
            "              precision    recall  f1-score   support\n",
            "\n",
            "     healthy       1.00      0.99      1.00     18774\n",
            "   high-risk       0.83      1.00      0.91       610\n",
            "\n",
            "    accuracy                           0.99     19384\n",
            "   macro avg       0.92      1.00      0.95     19384\n",
            "weighted avg       0.99      0.99      0.99     19384\n",
            "\n",
            "\n"
          ]
        }
      ],
      "source": [
        "gnb_oversampled_accuracy_score_float, \\\n",
        "gnb_oversampled_confusion_matrix_dataframe, \\\n",
        "gnb_oversampled_classification_report_string \\\n",
        "    = classificationsx.return_binary_classification_confusion_matrix \\\n",
        "        (y_test_series,\n",
        "         gnb_oversampled_predictions_nparray,\n",
        "         'GNB MODEL (Oversampled)',\n",
        "         'Healthy', 'High-Risk')\n",
        "\n",
        "model_performance_dictionary['gnb'] \\\n",
        "    .append(gnb_oversampled_accuracy_score_float * 100)\n",
        "\n",
        "model_performance_ranking_dictionary['gnb_oversampled'] \\\n",
        "    = gnb_oversampled_accuracy_score_float * 100"
      ]
    },
    {
      "cell_type": "markdown",
      "id": "cace2FF4uo-2",
      "metadata": {
        "id": "cace2FF4uo-2"
      },
      "source": [
        "### **Cluster Centroids**"
      ]
    },
    {
      "cell_type": "code",
      "execution_count": 316,
      "id": "9vZ7MOsxuo-2",
      "metadata": {
        "colab": {
          "base_uri": "https://localhost:8080/"
        },
        "id": "9vZ7MOsxuo-2",
        "outputId": "49ae1f97-7488-4b9f-c5a2-6baf5ef81202"
      },
      "outputs": [
        {
          "output_type": "execute_result",
          "data": {
            "text/plain": [
              "{'priors': None, 'var_smoothing': 1e-09}"
            ]
          },
          "metadata": {},
          "execution_count": 316
        }
      ],
      "source": [
        "gnb_cluster_centroids_model.get_params()"
      ]
    },
    {
      "cell_type": "code",
      "execution_count": 317,
      "id": "d6UQRJyHuo-2",
      "metadata": {
        "colab": {
          "base_uri": "https://localhost:8080/"
        },
        "id": "d6UQRJyHuo-2",
        "outputId": "9e227af7-eb84-4cde-af25-dec5a995e481"
      },
      "outputs": [
        {
          "output_type": "stream",
          "name": "stdout",
          "text": [
            "\u001b[1mThe balanced accuracy score for knn cluster centroids from actual vs. test predictions is 99.33%\u001b[0m\n"
          ]
        }
      ],
      "source": [
        "gnb_cluster_centroids_predictions_nparray \\\n",
        "    = gnb_cluster_centroids_model.predict(x_test_scaled_dataframe)\n",
        "\n",
        "gnb_cluster_centroids_balanced_accuracy_score_float \\\n",
        "    = accuracy_score(y_test_series, gnb_cluster_centroids_predictions_nparray) * 100\n",
        "\n",
        "logx.print_and_log_text \\\n",
        "    ('\\033[1m' \\\n",
        "     + 'The balanced accuracy score for knn cluster centroids from actual vs. test predictions is {:.2f}%' \\\n",
        "         .format(gnb_cluster_centroids_balanced_accuracy_score_float) \\\n",
        "     + '\\033[0m')"
      ]
    },
    {
      "cell_type": "code",
      "execution_count": 318,
      "id": "n-wRG9s1uo-3",
      "metadata": {
        "colab": {
          "base_uri": "https://localhost:8080/"
        },
        "id": "n-wRG9s1uo-3",
        "outputId": "d5bee3df-07d9-4315-cffc-7939a848cf77"
      },
      "outputs": [
        {
          "output_type": "stream",
          "name": "stdout",
          "text": [
            "\u001b[1mGNB MODEL (Cluster Centroids)\n",
            "\u001b[0m\n",
            "1) \u001b[1mOverall Accuracy Score: \u001b[0m98.7%\n",
            "\n",
            "2) \u001b[1mConfusion Matrix:\n",
            "\u001b[0m\n",
            "                  Predicted Healthy  Predicted High-Risk\n",
            "Actual Healthy                18656                  118\n",
            "Actual High-Risk                 12                  598\n",
            "\n",
            "3) \u001b[1mClassification Report:\n",
            "\u001b[0m\n",
            "              precision    recall  f1-score   support\n",
            "\n",
            "     healthy       1.00      0.99      1.00     18774\n",
            "   high-risk       0.84      0.98      0.90       610\n",
            "\n",
            "    accuracy                           0.99     19384\n",
            "   macro avg       0.92      0.99      0.95     19384\n",
            "weighted avg       0.99      0.99      0.99     19384\n",
            "\n",
            "\n"
          ]
        }
      ],
      "source": [
        "gnb_cluster_centroids_accuracy_score_float, \\\n",
        "gnb_cluster_centroids_confusion_matrix_dataframe, \\\n",
        "gnb_cluster_centroids_classification_report_string \\\n",
        "    = classificationsx.return_binary_classification_confusion_matrix \\\n",
        "        (y_test_series,\n",
        "         gnb_cluster_centroids_predictions_nparray,\n",
        "         'GNB MODEL (Cluster Centroids)',\n",
        "         'Healthy', 'High-Risk')\n",
        "\n",
        "model_performance_dictionary['gnb'] \\\n",
        "    .append(gnb_cluster_centroids_accuracy_score_float * 100)\n",
        "\n",
        "model_performance_ranking_dictionary['gnb_cluster_centroids'] \\\n",
        "    = gnb_cluster_centroids_accuracy_score_float * 100"
      ]
    },
    {
      "cell_type": "markdown",
      "id": "sOGnTJcluo-3",
      "metadata": {
        "id": "sOGnTJcluo-3"
      },
      "source": [
        "### **SMOTE**"
      ]
    },
    {
      "cell_type": "code",
      "execution_count": 319,
      "id": "pDkDWOhWuo-3",
      "metadata": {
        "colab": {
          "base_uri": "https://localhost:8080/"
        },
        "id": "pDkDWOhWuo-3",
        "outputId": "ca7ecde2-d883-4849-f5db-12688f0d434a"
      },
      "outputs": [
        {
          "output_type": "execute_result",
          "data": {
            "text/plain": [
              "{'priors': None, 'var_smoothing': 1e-09}"
            ]
          },
          "metadata": {},
          "execution_count": 319
        }
      ],
      "source": [
        "gnb_SMOTE_model.get_params()"
      ]
    },
    {
      "cell_type": "code",
      "execution_count": 320,
      "id": "HDNazv7wuo-3",
      "metadata": {
        "colab": {
          "base_uri": "https://localhost:8080/"
        },
        "id": "HDNazv7wuo-3",
        "outputId": "2a4e46c6-e178-48fc-ff85-10bb816a7f4b"
      },
      "outputs": [
        {
          "output_type": "stream",
          "name": "stdout",
          "text": [
            "\u001b[1mThe balanced accuracy score for gnb SMOTE from actual vs. test predictions is 99.37%\u001b[0m\n"
          ]
        }
      ],
      "source": [
        "gnb_SMOTE_predictions_nparray \\\n",
        "    = gnb_SMOTE_model.predict(x_test_scaled_dataframe)\n",
        "\n",
        "gnb_SMOTE_balanced_accuracy_score_float \\\n",
        "    = accuracy_score(y_test_series, gnb_SMOTE_predictions_nparray) * 100\n",
        "\n",
        "logx.print_and_log_text \\\n",
        "    ('\\033[1m' \\\n",
        "     + 'The balanced accuracy score for gnb SMOTE from actual vs. test predictions is {:.2f}%' \\\n",
        "         .format(gnb_SMOTE_balanced_accuracy_score_float) \\\n",
        "     + '\\033[0m')"
      ]
    },
    {
      "cell_type": "code",
      "execution_count": 321,
      "id": "j-9ufOe2uo-3",
      "metadata": {
        "colab": {
          "base_uri": "https://localhost:8080/"
        },
        "id": "j-9ufOe2uo-3",
        "outputId": "a692d75b-0267-4e2e-cb46-750a4db98815"
      },
      "outputs": [
        {
          "output_type": "stream",
          "name": "stdout",
          "text": [
            "\u001b[1mGNB MODEL (SMOTE)\n",
            "\u001b[0m\n",
            "1) \u001b[1mOverall Accuracy Score: \u001b[0m99.51%\n",
            "\n",
            "2) \u001b[1mConfusion Matrix:\n",
            "\u001b[0m\n",
            "                  Predicted Healthy  Predicted High-Risk\n",
            "Actual Healthy                18653                  121\n",
            "Actual High-Risk                  2                  608\n",
            "\n",
            "3) \u001b[1mClassification Report:\n",
            "\u001b[0m\n",
            "              precision    recall  f1-score   support\n",
            "\n",
            "     healthy       1.00      0.99      1.00     18774\n",
            "   high-risk       0.83      1.00      0.91       610\n",
            "\n",
            "    accuracy                           0.99     19384\n",
            "   macro avg       0.92      1.00      0.95     19384\n",
            "weighted avg       0.99      0.99      0.99     19384\n",
            "\n",
            "\n"
          ]
        }
      ],
      "source": [
        "gnb_SMOTE_accuracy_score_float, \\\n",
        "gnb_SMOTE_confusion_matrix_dataframe, \\\n",
        "gnb_SMOTE_classification_report_string \\\n",
        "    = classificationsx.return_binary_classification_confusion_matrix \\\n",
        "        (y_test_series,\n",
        "         gnb_SMOTE_predictions_nparray,\n",
        "         'GNB MODEL (SMOTE)',\n",
        "         'Healthy', 'High-Risk')\n",
        "\n",
        "model_performance_dictionary['gnb'] \\\n",
        "    .append(gnb_SMOTE_accuracy_score_float * 100)\n",
        "\n",
        "model_performance_ranking_dictionary['gnb_smote'] \\\n",
        "    = gnb_SMOTE_accuracy_score_float * 100"
      ]
    },
    {
      "cell_type": "markdown",
      "id": "fLuM-I8nuo-3",
      "metadata": {
        "id": "fLuM-I8nuo-3"
      },
      "source": [
        "### **SMOTEENN**"
      ]
    },
    {
      "cell_type": "code",
      "execution_count": 322,
      "id": "5kVSZoaWuo-3",
      "metadata": {
        "colab": {
          "base_uri": "https://localhost:8080/"
        },
        "id": "5kVSZoaWuo-3",
        "outputId": "14f080cd-a218-4181-eee4-7b8ded1f58cf"
      },
      "outputs": [
        {
          "output_type": "execute_result",
          "data": {
            "text/plain": [
              "{'priors': None, 'var_smoothing': 1e-09}"
            ]
          },
          "metadata": {},
          "execution_count": 322
        }
      ],
      "source": [
        "gnb_SMOTEENN_model.get_params()"
      ]
    },
    {
      "cell_type": "code",
      "execution_count": 323,
      "id": "7FSw2Uaiuo-3",
      "metadata": {
        "colab": {
          "base_uri": "https://localhost:8080/"
        },
        "id": "7FSw2Uaiuo-3",
        "outputId": "c037d6f0-74a7-47fd-88e3-92ed77dada37"
      },
      "outputs": [
        {
          "output_type": "stream",
          "name": "stdout",
          "text": [
            "\u001b[1mThe balanced accuracy score for gnb SMOTEENN from actual vs. test predictions is 99.36%\u001b[0m\n"
          ]
        }
      ],
      "source": [
        "gnb_SMOTEENN_predictions_nparray \\\n",
        "    = gnb_SMOTEENN_model.predict(x_test_scaled_dataframe)\n",
        "\n",
        "gnb_SMOTEENN_balanced_accuracy_score_float \\\n",
        "    = accuracy_score(y_test_series, gnb_SMOTEENN_predictions_nparray) * 100\n",
        "\n",
        "logx.print_and_log_text \\\n",
        "    ('\\033[1m' \\\n",
        "     + 'The balanced accuracy score for gnb SMOTEENN from actual vs. test predictions is {:.2f}%' \\\n",
        "         .format(gnb_SMOTEENN_balanced_accuracy_score_float) \\\n",
        "     + '\\033[0m')"
      ]
    },
    {
      "cell_type": "code",
      "execution_count": 324,
      "id": "Gu7qy10Ouo-3",
      "metadata": {
        "colab": {
          "base_uri": "https://localhost:8080/"
        },
        "id": "Gu7qy10Ouo-3",
        "outputId": "bb36de6e-642f-47b0-bb90-c4c4deb9f288"
      },
      "outputs": [
        {
          "output_type": "stream",
          "name": "stdout",
          "text": [
            "\u001b[1mGNB MODEL (SMOTEENN)\n",
            "\u001b[0m\n",
            "1) \u001b[1mOverall Accuracy Score: \u001b[0m99.51%\n",
            "\n",
            "2) \u001b[1mConfusion Matrix:\n",
            "\u001b[0m\n",
            "                  Predicted Healthy  Predicted High-Risk\n",
            "Actual Healthy                18651                  123\n",
            "Actual High-Risk                  2                  608\n",
            "\n",
            "3) \u001b[1mClassification Report:\n",
            "\u001b[0m\n",
            "              precision    recall  f1-score   support\n",
            "\n",
            "     healthy       1.00      0.99      1.00     18774\n",
            "   high-risk       0.83      1.00      0.91       610\n",
            "\n",
            "    accuracy                           0.99     19384\n",
            "   macro avg       0.92      1.00      0.95     19384\n",
            "weighted avg       0.99      0.99      0.99     19384\n",
            "\n",
            "\n"
          ]
        }
      ],
      "source": [
        "gnb_SMOTEENN_accuracy_score_float, \\\n",
        "gnb_SMOTEENN_confusion_matrix_dataframe, \\\n",
        "gnb_SMOTEENN_classification_report_string \\\n",
        "    = classificationsx.return_binary_classification_confusion_matrix \\\n",
        "        (y_test_series,\n",
        "         gnb_SMOTEENN_predictions_nparray,\n",
        "         'GNB MODEL (SMOTEENN)',\n",
        "         'Healthy', 'High-Risk')\n",
        "\n",
        "model_performance_dictionary['gnb'] \\\n",
        "    .append(gnb_SMOTEENN_accuracy_score_float * 100)\n",
        "\n",
        "model_performance_ranking_dictionary['gnb_smoteen'] \\\n",
        "    = gnb_SMOTEENN_accuracy_score_float * 100"
      ]
    },
    {
      "cell_type": "markdown",
      "id": "nq4IcFoluo-7",
      "metadata": {
        "id": "nq4IcFoluo-7"
      },
      "source": [
        "## **9.7: Model Performance Results**"
      ]
    },
    {
      "cell_type": "markdown",
      "id": "664iBCcLuo-7",
      "metadata": {
        "id": "664iBCcLuo-7"
      },
      "source": [
        "### **Performance Matrix**"
      ]
    },
    {
      "cell_type": "code",
      "execution_count": 325,
      "id": "Zum47MCBuo-7",
      "metadata": {
        "id": "Zum47MCBuo-7"
      },
      "outputs": [],
      "source": [
        "index_string_list \\\n",
        "    = ['original', 'undersampled', 'oversampled', 'cluster centroids', 'smote', 'smoteen']\n",
        "\n",
        "model_performace_dataframe \\\n",
        "    = pd.DataFrame.from_dict \\\n",
        "        (model_performance_dictionary, orient = 'index').transpose()\n",
        "\n",
        "model_performace_dataframe['resampling_method'] = index_string_list\n",
        "\n",
        "model_performace_dataframe.set_index('resampling_method', drop = True, inplace = True)\n",
        "\n",
        "logx.log_write_object(model_performace_dataframe)"
      ]
    },
    {
      "cell_type": "code",
      "execution_count": 326,
      "id": "aZ-MheN2uo-7",
      "metadata": {
        "colab": {
          "base_uri": "https://localhost:8080/",
          "height": 300
        },
        "id": "aZ-MheN2uo-7",
        "outputId": "dcdf9965-285a-4128-dac0-9d82f4aa3398"
      },
      "outputs": [
        {
          "output_type": "execute_result",
          "data": {
            "text/plain": [
              "<pandas.io.formats.style.Styler at 0x7bc70ccabf70>"
            ],
            "text/html": [
              "<style type=\"text/css\">\n",
              "#T_5dc1e caption {\n",
              "  color: black;\n",
              "  font-size: 20px;\n",
              "  font-style: bold;\n",
              "  text-align: center;\n",
              "}\n",
              "#T_5dc1e_row0_col0, #T_5dc1e_row0_col1, #T_5dc1e_row0_col2, #T_5dc1e_row0_col3, #T_5dc1e_row0_col4, #T_5dc1e_row0_col5, #T_5dc1e_row1_col0, #T_5dc1e_row1_col1, #T_5dc1e_row1_col2, #T_5dc1e_row1_col3, #T_5dc1e_row1_col4, #T_5dc1e_row1_col5, #T_5dc1e_row2_col0, #T_5dc1e_row2_col1, #T_5dc1e_row2_col2, #T_5dc1e_row2_col3, #T_5dc1e_row2_col4, #T_5dc1e_row2_col5, #T_5dc1e_row3_col0, #T_5dc1e_row3_col1, #T_5dc1e_row3_col2, #T_5dc1e_row3_col3, #T_5dc1e_row3_col4, #T_5dc1e_row3_col5, #T_5dc1e_row4_col0, #T_5dc1e_row4_col1, #T_5dc1e_row4_col2, #T_5dc1e_row4_col3, #T_5dc1e_row4_col4, #T_5dc1e_row4_col5, #T_5dc1e_row5_col0, #T_5dc1e_row5_col1, #T_5dc1e_row5_col2, #T_5dc1e_row5_col3, #T_5dc1e_row5_col4, #T_5dc1e_row5_col5 {\n",
              "  text-align: center;\n",
              "  border: 1.3px solid red;\n",
              "  color: blue;\n",
              "}\n",
              "</style>\n",
              "<table id=\"T_5dc1e\" class=\"dataframe\">\n",
              "  <caption>Table 9.7.1: Model Performance Matrix</caption>\n",
              "  <thead>\n",
              "    <tr>\n",
              "      <th class=\"blank level0\" >&nbsp;</th>\n",
              "      <th id=\"T_5dc1e_level0_col0\" class=\"col_heading level0 col0\" >logistic_regression</th>\n",
              "      <th id=\"T_5dc1e_level0_col1\" class=\"col_heading level0 col1\" >decision_tree</th>\n",
              "      <th id=\"T_5dc1e_level0_col2\" class=\"col_heading level0 col2\" >random_forest</th>\n",
              "      <th id=\"T_5dc1e_level0_col3\" class=\"col_heading level0 col3\" >svm</th>\n",
              "      <th id=\"T_5dc1e_level0_col4\" class=\"col_heading level0 col4\" >knn</th>\n",
              "      <th id=\"T_5dc1e_level0_col5\" class=\"col_heading level0 col5\" >gnb</th>\n",
              "    </tr>\n",
              "    <tr>\n",
              "      <th class=\"index_name level0\" >resampling_method</th>\n",
              "      <th class=\"blank col0\" >&nbsp;</th>\n",
              "      <th class=\"blank col1\" >&nbsp;</th>\n",
              "      <th class=\"blank col2\" >&nbsp;</th>\n",
              "      <th class=\"blank col3\" >&nbsp;</th>\n",
              "      <th class=\"blank col4\" >&nbsp;</th>\n",
              "      <th class=\"blank col5\" >&nbsp;</th>\n",
              "    </tr>\n",
              "  </thead>\n",
              "  <tbody>\n",
              "    <tr>\n",
              "      <th id=\"T_5dc1e_level0_row0\" class=\"row_heading level0 row0\" >original</th>\n",
              "      <td id=\"T_5dc1e_row0_col0\" class=\"data row0 col0\" >98.7%</td>\n",
              "      <td id=\"T_5dc1e_row0_col1\" class=\"data row0 col1\" >92.1%</td>\n",
              "      <td id=\"T_5dc1e_row0_col2\" class=\"data row0 col2\" >97.6%</td>\n",
              "      <td id=\"T_5dc1e_row0_col3\" class=\"data row0 col3\" >99.5%</td>\n",
              "      <td id=\"T_5dc1e_row0_col4\" class=\"data row0 col4\" >98.1%</td>\n",
              "      <td id=\"T_5dc1e_row0_col5\" class=\"data row0 col5\" >99.5%</td>\n",
              "    </tr>\n",
              "    <tr>\n",
              "      <th id=\"T_5dc1e_level0_row1\" class=\"row_heading level0 row1\" >undersampled</th>\n",
              "      <td id=\"T_5dc1e_row1_col0\" class=\"data row1 col0\" >99.5%</td>\n",
              "      <td id=\"T_5dc1e_row1_col1\" class=\"data row1 col1\" >99.0%</td>\n",
              "      <td id=\"T_5dc1e_row1_col2\" class=\"data row1 col2\" >99.5%</td>\n",
              "      <td id=\"T_5dc1e_row1_col3\" class=\"data row1 col3\" >99.5%</td>\n",
              "      <td id=\"T_5dc1e_row1_col4\" class=\"data row1 col4\" >99.5%</td>\n",
              "      <td id=\"T_5dc1e_row1_col5\" class=\"data row1 col5\" >99.5%</td>\n",
              "    </tr>\n",
              "    <tr>\n",
              "      <th id=\"T_5dc1e_level0_row2\" class=\"row_heading level0 row2\" >oversampled</th>\n",
              "      <td id=\"T_5dc1e_row2_col0\" class=\"data row2 col0\" >99.5%</td>\n",
              "      <td id=\"T_5dc1e_row2_col1\" class=\"data row2 col1\" >93.4%</td>\n",
              "      <td id=\"T_5dc1e_row2_col2\" class=\"data row2 col2\" >98.2%</td>\n",
              "      <td id=\"T_5dc1e_row2_col3\" class=\"data row2 col3\" >99.5%</td>\n",
              "      <td id=\"T_5dc1e_row2_col4\" class=\"data row2 col4\" >99.3%</td>\n",
              "      <td id=\"T_5dc1e_row2_col5\" class=\"data row2 col5\" >99.5%</td>\n",
              "    </tr>\n",
              "    <tr>\n",
              "      <th id=\"T_5dc1e_level0_row3\" class=\"row_heading level0 row3\" >cluster centroids</th>\n",
              "      <td id=\"T_5dc1e_row3_col0\" class=\"data row3 col0\" >99.5%</td>\n",
              "      <td id=\"T_5dc1e_row3_col1\" class=\"data row3 col1\" >93.9%</td>\n",
              "      <td id=\"T_5dc1e_row3_col2\" class=\"data row3 col2\" >98.0%</td>\n",
              "      <td id=\"T_5dc1e_row3_col3\" class=\"data row3 col3\" >98.7%</td>\n",
              "      <td id=\"T_5dc1e_row3_col4\" class=\"data row3 col4\" >99.5%</td>\n",
              "      <td id=\"T_5dc1e_row3_col5\" class=\"data row3 col5\" >98.7%</td>\n",
              "    </tr>\n",
              "    <tr>\n",
              "      <th id=\"T_5dc1e_level0_row4\" class=\"row_heading level0 row4\" >smote</th>\n",
              "      <td id=\"T_5dc1e_row4_col0\" class=\"data row4 col0\" >99.5%</td>\n",
              "      <td id=\"T_5dc1e_row4_col1\" class=\"data row4 col1\" >72.7%</td>\n",
              "      <td id=\"T_5dc1e_row4_col2\" class=\"data row4 col2\" >86.5%</td>\n",
              "      <td id=\"T_5dc1e_row4_col3\" class=\"data row4 col3\" >99.5%</td>\n",
              "      <td id=\"T_5dc1e_row4_col4\" class=\"data row4 col4\" >97.0%</td>\n",
              "      <td id=\"T_5dc1e_row4_col5\" class=\"data row4 col5\" >99.5%</td>\n",
              "    </tr>\n",
              "    <tr>\n",
              "      <th id=\"T_5dc1e_level0_row5\" class=\"row_heading level0 row5\" >smoteen</th>\n",
              "      <td id=\"T_5dc1e_row5_col0\" class=\"data row5 col0\" >99.5%</td>\n",
              "      <td id=\"T_5dc1e_row5_col1\" class=\"data row5 col1\" >93.7%</td>\n",
              "      <td id=\"T_5dc1e_row5_col2\" class=\"data row5 col2\" >94.9%</td>\n",
              "      <td id=\"T_5dc1e_row5_col3\" class=\"data row5 col3\" >99.5%</td>\n",
              "      <td id=\"T_5dc1e_row5_col4\" class=\"data row5 col4\" >98.6%</td>\n",
              "      <td id=\"T_5dc1e_row5_col5\" class=\"data row5 col5\" >99.5%</td>\n",
              "    </tr>\n",
              "  </tbody>\n",
              "</table>\n"
            ]
          },
          "metadata": {},
          "execution_count": 326
        }
      ],
      "source": [
        "pandasx.return_formatted_table \\\n",
        "    (model_performace_dataframe,\n",
        "     'Table 9.7.1: Model Performance Matrix',\n",
        "     line_count_integer = 36,\n",
        "     hide_index_boolean = False) \\\n",
        "        .format('{:,.1f}%')"
      ]
    },
    {
      "cell_type": "markdown",
      "id": "XrB70bHpuo-7",
      "metadata": {
        "id": "XrB70bHpuo-7"
      },
      "source": [
        "### **Performance Ranking**"
      ]
    },
    {
      "cell_type": "code",
      "execution_count": 327,
      "id": "xnkBuErPuo-7",
      "metadata": {
        "id": "xnkBuErPuo-7"
      },
      "outputs": [],
      "source": [
        "temp_dictionary \\\n",
        "    = dict(sorted(model_performance_ranking_dictionary.items(), key = lambda x: x[1], reverse = True))\n",
        "\n",
        "model_performace_rankings_dataframe \\\n",
        "    = pd.DataFrame.from_dict \\\n",
        "        (temp_dictionary, orient = 'index', columns = ['accuracy'])\n",
        "\n",
        "model_performace_rankings_dataframe.index.name = 'model'\n",
        "\n",
        "logx.log_write_object(model_performace_rankings_dataframe)"
      ]
    },
    {
      "cell_type": "code",
      "execution_count": 328,
      "id": "9yDo2bXJuo-8",
      "metadata": {
        "colab": {
          "base_uri": "https://localhost:8080/",
          "height": 1000
        },
        "id": "9yDo2bXJuo-8",
        "outputId": "e1663080-6bb6-47c4-f8a7-e6868d93e173"
      },
      "outputs": [
        {
          "output_type": "execute_result",
          "data": {
            "text/plain": [
              "<pandas.io.formats.style.Styler at 0x7bc70cada020>"
            ],
            "text/html": [
              "<style type=\"text/css\">\n",
              "#T_ec56a caption {\n",
              "  color: black;\n",
              "  font-size: 20px;\n",
              "  font-style: bold;\n",
              "  text-align: center;\n",
              "}\n",
              "#T_ec56a_row0_col0, #T_ec56a_row1_col0, #T_ec56a_row2_col0, #T_ec56a_row3_col0, #T_ec56a_row4_col0, #T_ec56a_row5_col0, #T_ec56a_row6_col0, #T_ec56a_row7_col0, #T_ec56a_row8_col0, #T_ec56a_row9_col0, #T_ec56a_row10_col0, #T_ec56a_row11_col0, #T_ec56a_row12_col0, #T_ec56a_row13_col0, #T_ec56a_row14_col0, #T_ec56a_row15_col0, #T_ec56a_row16_col0, #T_ec56a_row17_col0, #T_ec56a_row18_col0, #T_ec56a_row19_col0, #T_ec56a_row20_col0, #T_ec56a_row21_col0, #T_ec56a_row22_col0, #T_ec56a_row23_col0, #T_ec56a_row24_col0, #T_ec56a_row25_col0, #T_ec56a_row26_col0, #T_ec56a_row27_col0, #T_ec56a_row28_col0, #T_ec56a_row29_col0, #T_ec56a_row30_col0, #T_ec56a_row31_col0, #T_ec56a_row32_col0, #T_ec56a_row33_col0, #T_ec56a_row34_col0, #T_ec56a_row35_col0 {\n",
              "  text-align: center;\n",
              "  border: 1.3px solid red;\n",
              "  color: blue;\n",
              "}\n",
              "</style>\n",
              "<table id=\"T_ec56a\" class=\"dataframe\">\n",
              "  <caption>Table 9.7.2: Model Performance Rankings</caption>\n",
              "  <thead>\n",
              "    <tr>\n",
              "      <th class=\"blank level0\" >&nbsp;</th>\n",
              "      <th id=\"T_ec56a_level0_col0\" class=\"col_heading level0 col0\" >accuracy</th>\n",
              "    </tr>\n",
              "    <tr>\n",
              "      <th class=\"index_name level0\" >model</th>\n",
              "      <th class=\"blank col0\" >&nbsp;</th>\n",
              "    </tr>\n",
              "  </thead>\n",
              "  <tbody>\n",
              "    <tr>\n",
              "      <th id=\"T_ec56a_level0_row0\" class=\"row_heading level0 row0\" >logistic_regression_cluster_centroids</th>\n",
              "      <td id=\"T_ec56a_row0_col0\" class=\"data row0 col0\" >99.5%</td>\n",
              "    </tr>\n",
              "    <tr>\n",
              "      <th id=\"T_ec56a_level0_row1\" class=\"row_heading level0 row1\" >svm</th>\n",
              "      <td id=\"T_ec56a_row1_col0\" class=\"data row1 col0\" >99.5%</td>\n",
              "    </tr>\n",
              "    <tr>\n",
              "      <th id=\"T_ec56a_level0_row2\" class=\"row_heading level0 row2\" >knn_cluster_centroids</th>\n",
              "      <td id=\"T_ec56a_row2_col0\" class=\"data row2 col0\" >99.5%</td>\n",
              "    </tr>\n",
              "    <tr>\n",
              "      <th id=\"T_ec56a_level0_row3\" class=\"row_heading level0 row3\" >gnb</th>\n",
              "      <td id=\"T_ec56a_row3_col0\" class=\"data row3 col0\" >99.5%</td>\n",
              "    </tr>\n",
              "    <tr>\n",
              "      <th id=\"T_ec56a_level0_row4\" class=\"row_heading level0 row4\" >gnb_undersampled</th>\n",
              "      <td id=\"T_ec56a_row4_col0\" class=\"data row4 col0\" >99.5%</td>\n",
              "    </tr>\n",
              "    <tr>\n",
              "      <th id=\"T_ec56a_level0_row5\" class=\"row_heading level0 row5\" >gnb_oversampled</th>\n",
              "      <td id=\"T_ec56a_row5_col0\" class=\"data row5 col0\" >99.5%</td>\n",
              "    </tr>\n",
              "    <tr>\n",
              "      <th id=\"T_ec56a_level0_row6\" class=\"row_heading level0 row6\" >gnb_smote</th>\n",
              "      <td id=\"T_ec56a_row6_col0\" class=\"data row6 col0\" >99.5%</td>\n",
              "    </tr>\n",
              "    <tr>\n",
              "      <th id=\"T_ec56a_level0_row7\" class=\"row_heading level0 row7\" >svm_smoteen</th>\n",
              "      <td id=\"T_ec56a_row7_col0\" class=\"data row7 col0\" >99.5%</td>\n",
              "    </tr>\n",
              "    <tr>\n",
              "      <th id=\"T_ec56a_level0_row8\" class=\"row_heading level0 row8\" >gnb_smoteen</th>\n",
              "      <td id=\"T_ec56a_row8_col0\" class=\"data row8 col0\" >99.5%</td>\n",
              "    </tr>\n",
              "    <tr>\n",
              "      <th id=\"T_ec56a_level0_row9\" class=\"row_heading level0 row9\" >svm_undersampled</th>\n",
              "      <td id=\"T_ec56a_row9_col0\" class=\"data row9 col0\" >99.5%</td>\n",
              "    </tr>\n",
              "    <tr>\n",
              "      <th id=\"T_ec56a_level0_row10\" class=\"row_heading level0 row10\" >knn_undersampled</th>\n",
              "      <td id=\"T_ec56a_row10_col0\" class=\"data row10 col0\" >99.5%</td>\n",
              "    </tr>\n",
              "    <tr>\n",
              "      <th id=\"T_ec56a_level0_row11\" class=\"row_heading level0 row11\" >logistic_regression_undersampled</th>\n",
              "      <td id=\"T_ec56a_row11_col0\" class=\"data row11 col0\" >99.5%</td>\n",
              "    </tr>\n",
              "    <tr>\n",
              "      <th id=\"T_ec56a_level0_row12\" class=\"row_heading level0 row12\" >svm_oversampled</th>\n",
              "      <td id=\"T_ec56a_row12_col0\" class=\"data row12 col0\" >99.5%</td>\n",
              "    </tr>\n",
              "    <tr>\n",
              "      <th id=\"T_ec56a_level0_row13\" class=\"row_heading level0 row13\" >svm_smote</th>\n",
              "      <td id=\"T_ec56a_row13_col0\" class=\"data row13 col0\" >99.5%</td>\n",
              "    </tr>\n",
              "    <tr>\n",
              "      <th id=\"T_ec56a_level0_row14\" class=\"row_heading level0 row14\" >logistic_regression_oversampled</th>\n",
              "      <td id=\"T_ec56a_row14_col0\" class=\"data row14 col0\" >99.5%</td>\n",
              "    </tr>\n",
              "    <tr>\n",
              "      <th id=\"T_ec56a_level0_row15\" class=\"row_heading level0 row15\" >logistic_regression_smote</th>\n",
              "      <td id=\"T_ec56a_row15_col0\" class=\"data row15 col0\" >99.5%</td>\n",
              "    </tr>\n",
              "    <tr>\n",
              "      <th id=\"T_ec56a_level0_row16\" class=\"row_heading level0 row16\" >logistic_regression_smoteen</th>\n",
              "      <td id=\"T_ec56a_row16_col0\" class=\"data row16 col0\" >99.5%</td>\n",
              "    </tr>\n",
              "    <tr>\n",
              "      <th id=\"T_ec56a_level0_row17\" class=\"row_heading level0 row17\" >random_forest_undersampled</th>\n",
              "      <td id=\"T_ec56a_row17_col0\" class=\"data row17 col0\" >99.5%</td>\n",
              "    </tr>\n",
              "    <tr>\n",
              "      <th id=\"T_ec56a_level0_row18\" class=\"row_heading level0 row18\" >knn_oversampled</th>\n",
              "      <td id=\"T_ec56a_row18_col0\" class=\"data row18 col0\" >99.3%</td>\n",
              "    </tr>\n",
              "    <tr>\n",
              "      <th id=\"T_ec56a_level0_row19\" class=\"row_heading level0 row19\" >decision_tree_undersampling</th>\n",
              "      <td id=\"T_ec56a_row19_col0\" class=\"data row19 col0\" >99.0%</td>\n",
              "    </tr>\n",
              "    <tr>\n",
              "      <th id=\"T_ec56a_level0_row20\" class=\"row_heading level0 row20\" >logistic_regression</th>\n",
              "      <td id=\"T_ec56a_row20_col0\" class=\"data row20 col0\" >98.7%</td>\n",
              "    </tr>\n",
              "    <tr>\n",
              "      <th id=\"T_ec56a_level0_row21\" class=\"row_heading level0 row21\" >svm_cluster_centroids</th>\n",
              "      <td id=\"T_ec56a_row21_col0\" class=\"data row21 col0\" >98.7%</td>\n",
              "    </tr>\n",
              "    <tr>\n",
              "      <th id=\"T_ec56a_level0_row22\" class=\"row_heading level0 row22\" >gnb_cluster_centroids</th>\n",
              "      <td id=\"T_ec56a_row22_col0\" class=\"data row22 col0\" >98.7%</td>\n",
              "    </tr>\n",
              "    <tr>\n",
              "      <th id=\"T_ec56a_level0_row23\" class=\"row_heading level0 row23\" >knn_smoteen</th>\n",
              "      <td id=\"T_ec56a_row23_col0\" class=\"data row23 col0\" >98.6%</td>\n",
              "    </tr>\n",
              "    <tr>\n",
              "      <th id=\"T_ec56a_level0_row24\" class=\"row_heading level0 row24\" >random_forest_oversampled</th>\n",
              "      <td id=\"T_ec56a_row24_col0\" class=\"data row24 col0\" >98.2%</td>\n",
              "    </tr>\n",
              "    <tr>\n",
              "      <th id=\"T_ec56a_level0_row25\" class=\"row_heading level0 row25\" >knn</th>\n",
              "      <td id=\"T_ec56a_row25_col0\" class=\"data row25 col0\" >98.1%</td>\n",
              "    </tr>\n",
              "    <tr>\n",
              "      <th id=\"T_ec56a_level0_row26\" class=\"row_heading level0 row26\" >random_forest_cluster_centroids</th>\n",
              "      <td id=\"T_ec56a_row26_col0\" class=\"data row26 col0\" >98.0%</td>\n",
              "    </tr>\n",
              "    <tr>\n",
              "      <th id=\"T_ec56a_level0_row27\" class=\"row_heading level0 row27\" >random_forest</th>\n",
              "      <td id=\"T_ec56a_row27_col0\" class=\"data row27 col0\" >97.6%</td>\n",
              "    </tr>\n",
              "    <tr>\n",
              "      <th id=\"T_ec56a_level0_row28\" class=\"row_heading level0 row28\" >knn_smote</th>\n",
              "      <td id=\"T_ec56a_row28_col0\" class=\"data row28 col0\" >97.0%</td>\n",
              "    </tr>\n",
              "    <tr>\n",
              "      <th id=\"T_ec56a_level0_row29\" class=\"row_heading level0 row29\" >random_forest_smoteen</th>\n",
              "      <td id=\"T_ec56a_row29_col0\" class=\"data row29 col0\" >94.9%</td>\n",
              "    </tr>\n",
              "    <tr>\n",
              "      <th id=\"T_ec56a_level0_row30\" class=\"row_heading level0 row30\" >decision_tree_cluster_centroids</th>\n",
              "      <td id=\"T_ec56a_row30_col0\" class=\"data row30 col0\" >93.9%</td>\n",
              "    </tr>\n",
              "    <tr>\n",
              "      <th id=\"T_ec56a_level0_row31\" class=\"row_heading level0 row31\" >decision_tree_smoteen</th>\n",
              "      <td id=\"T_ec56a_row31_col0\" class=\"data row31 col0\" >93.7%</td>\n",
              "    </tr>\n",
              "    <tr>\n",
              "      <th id=\"T_ec56a_level0_row32\" class=\"row_heading level0 row32\" >decision_tree_oversampling</th>\n",
              "      <td id=\"T_ec56a_row32_col0\" class=\"data row32 col0\" >93.4%</td>\n",
              "    </tr>\n",
              "    <tr>\n",
              "      <th id=\"T_ec56a_level0_row33\" class=\"row_heading level0 row33\" >decision_tree</th>\n",
              "      <td id=\"T_ec56a_row33_col0\" class=\"data row33 col0\" >92.1%</td>\n",
              "    </tr>\n",
              "    <tr>\n",
              "      <th id=\"T_ec56a_level0_row34\" class=\"row_heading level0 row34\" >random_forest_smote</th>\n",
              "      <td id=\"T_ec56a_row34_col0\" class=\"data row34 col0\" >86.5%</td>\n",
              "    </tr>\n",
              "    <tr>\n",
              "      <th id=\"T_ec56a_level0_row35\" class=\"row_heading level0 row35\" >decision_tree_smote</th>\n",
              "      <td id=\"T_ec56a_row35_col0\" class=\"data row35 col0\" >72.7%</td>\n",
              "    </tr>\n",
              "  </tbody>\n",
              "</table>\n"
            ]
          },
          "metadata": {},
          "execution_count": 328
        }
      ],
      "source": [
        "pandasx.return_formatted_table \\\n",
        "    (model_performace_rankings_dataframe,\n",
        "     'Table 9.7.2: Model Performance Rankings',\n",
        "     line_count_integer = 36,\n",
        "     hide_index_boolean = False) \\\n",
        "        .format({'accuracy': '{:,.1f}%'})"
      ]
    },
    {
      "cell_type": "markdown",
      "id": "Ak3jOhtluo-8",
      "metadata": {
        "id": "Ak3jOhtluo-8"
      },
      "source": [
        "# <br> **Section 10: Save Models To Files**"
      ]
    },
    {
      "cell_type": "markdown",
      "id": "XhPiT24ouo-8",
      "metadata": {
        "id": "XhPiT24ouo-8"
      },
      "source": [
        "## **10.1: Logistic Regression**"
      ]
    },
    {
      "cell_type": "markdown",
      "id": "z3-KKzezuo-8",
      "metadata": {
        "id": "z3-KKzezuo-8"
      },
      "source": [
        "### **Original**"
      ]
    },
    {
      "cell_type": "code",
      "execution_count": 329,
      "id": "JOW3aUp_uo-8",
      "metadata": {
        "id": "JOW3aUp_uo-8"
      },
      "outputs": [],
      "source": [
        "pickle.dump \\\n",
        "    (logistic_regression_model,\n",
        "     open(credit_risk_constants.CONSTANT_LR_MODEL_FILE_PATH, 'wb'))"
      ]
    },
    {
      "cell_type": "markdown",
      "id": "cbl_kwgSuo-8",
      "metadata": {
        "id": "cbl_kwgSuo-8"
      },
      "source": [
        "### **Random Undersampling**"
      ]
    },
    {
      "cell_type": "code",
      "execution_count": 330,
      "id": "l0YR5ZgPuo-8",
      "metadata": {
        "id": "l0YR5ZgPuo-8"
      },
      "outputs": [],
      "source": [
        "pickle.dump \\\n",
        "    (logistic_regression_undersampled_model,\n",
        "     open(credit_risk_constants.CONSTANT_LR_UNDERSAMPLED_MODEL_FILE_PATH, 'wb'))"
      ]
    },
    {
      "cell_type": "markdown",
      "id": "16AWGXpnuo-8",
      "metadata": {
        "id": "16AWGXpnuo-8"
      },
      "source": [
        "### **Random Oversampling**"
      ]
    },
    {
      "cell_type": "code",
      "execution_count": 331,
      "id": "84teiw8Fuo-8",
      "metadata": {
        "id": "84teiw8Fuo-8"
      },
      "outputs": [],
      "source": [
        "pickle.dump \\\n",
        "    (logistic_regression_oversampled_model,\n",
        "     open(credit_risk_constants.CONSTANT_LR_OVERSAMPLED_MODEL_FILE_PATH, 'wb'))"
      ]
    },
    {
      "cell_type": "markdown",
      "id": "LicDyndmuo-8",
      "metadata": {
        "id": "LicDyndmuo-8"
      },
      "source": [
        "### **Cluster Centroids**"
      ]
    },
    {
      "cell_type": "code",
      "execution_count": 332,
      "id": "6lC8E4mYuo-8",
      "metadata": {
        "id": "6lC8E4mYuo-8"
      },
      "outputs": [],
      "source": [
        "pickle.dump \\\n",
        "    (logistic_regression_cluster_centroids_model,\n",
        "     open(credit_risk_constants.CONSTANT_LR_CLUSTER_CENTROIDS_MODEL_FILE_PATH, 'wb'))"
      ]
    },
    {
      "cell_type": "markdown",
      "id": "fA69y415uo-8",
      "metadata": {
        "id": "fA69y415uo-8"
      },
      "source": [
        "### **SMOTE**"
      ]
    },
    {
      "cell_type": "code",
      "execution_count": 333,
      "id": "dvA_HMz9uo-9",
      "metadata": {
        "id": "dvA_HMz9uo-9"
      },
      "outputs": [],
      "source": [
        "pickle.dump \\\n",
        "    (logistic_regression_SMOTE_model,\n",
        "     open(credit_risk_constants.CONSTANT_LR_SMOTE_MODEL_FILE_PATH, 'wb'))"
      ]
    },
    {
      "cell_type": "markdown",
      "id": "w1vlicVsuo-9",
      "metadata": {
        "id": "w1vlicVsuo-9"
      },
      "source": [
        "### **SMOTEENN**"
      ]
    },
    {
      "cell_type": "code",
      "execution_count": 334,
      "id": "4s9wzE-cuo-9",
      "metadata": {
        "id": "4s9wzE-cuo-9"
      },
      "outputs": [],
      "source": [
        "pickle.dump \\\n",
        "    (logistic_regression_SMOTEENN_model,\n",
        "     open(credit_risk_constants.CONSTANT_LR_SMOTEENN_MODEL_FILE_PATH, 'wb'))"
      ]
    },
    {
      "cell_type": "markdown",
      "id": "pvV5jT3Duo-9",
      "metadata": {
        "id": "pvV5jT3Duo-9"
      },
      "source": [
        "## **10.2: Decision Tree**"
      ]
    },
    {
      "cell_type": "markdown",
      "id": "pdsbRv9Kuo-9",
      "metadata": {
        "id": "pdsbRv9Kuo-9"
      },
      "source": [
        "### **Original**"
      ]
    },
    {
      "cell_type": "code",
      "execution_count": 335,
      "id": "eeLE3q9-uo-9",
      "metadata": {
        "id": "eeLE3q9-uo-9"
      },
      "outputs": [],
      "source": [
        "pickle.dump \\\n",
        "    (decision_tree_model,\n",
        "     open(credit_risk_constants.CONSTANT_DT_MODEL_FILE_PATH, 'wb'))"
      ]
    },
    {
      "cell_type": "markdown",
      "id": "KXdUVdCOuo-9",
      "metadata": {
        "id": "KXdUVdCOuo-9"
      },
      "source": [
        "### **Random Undersampling**"
      ]
    },
    {
      "cell_type": "code",
      "execution_count": 336,
      "id": "EBNAGU6ruo-9",
      "metadata": {
        "id": "EBNAGU6ruo-9"
      },
      "outputs": [],
      "source": [
        "pickle.dump \\\n",
        "    (decision_tree_undersampled_model,\n",
        "     open(credit_risk_constants.CONSTANT_DT_UNDERSAMPLED_MODEL_FILE_PATH, 'wb'))"
      ]
    },
    {
      "cell_type": "markdown",
      "id": "ZoOcrE-_uo-9",
      "metadata": {
        "id": "ZoOcrE-_uo-9"
      },
      "source": [
        "### **Random Oversampling**"
      ]
    },
    {
      "cell_type": "code",
      "execution_count": 337,
      "id": "-JxucTZquo-9",
      "metadata": {
        "id": "-JxucTZquo-9"
      },
      "outputs": [],
      "source": [
        "pickle.dump \\\n",
        "    (decision_tree_oversampled_model,\n",
        "     open(credit_risk_constants.CONSTANT_DT_OVERSAMPLED_MODEL_FILE_PATH, 'wb'))"
      ]
    },
    {
      "cell_type": "markdown",
      "id": "mAHHrFMUuo-9",
      "metadata": {
        "id": "mAHHrFMUuo-9"
      },
      "source": [
        "### **Cluster Centroids**"
      ]
    },
    {
      "cell_type": "code",
      "execution_count": 338,
      "id": "4eGwUnFvuo-9",
      "metadata": {
        "id": "4eGwUnFvuo-9"
      },
      "outputs": [],
      "source": [
        "pickle.dump \\\n",
        "    (decision_tree_cluster_centroids_model,\n",
        "     open(credit_risk_constants.CONSTANT_DT_CLUSTER_CENTROIDS_MODEL_FILE_PATH, 'wb'))"
      ]
    },
    {
      "cell_type": "markdown",
      "id": "yZEjAWu0uo-9",
      "metadata": {
        "id": "yZEjAWu0uo-9"
      },
      "source": [
        "### **SMOTE**"
      ]
    },
    {
      "cell_type": "code",
      "execution_count": 339,
      "id": "_ssp0ezcuo--",
      "metadata": {
        "id": "_ssp0ezcuo--"
      },
      "outputs": [],
      "source": [
        "pickle.dump \\\n",
        "    (decision_tree_SMOTE_model,\n",
        "     open(credit_risk_constants.CONSTANT_DT_SMOTE_MODEL_FILE_PATH, 'wb'))"
      ]
    },
    {
      "cell_type": "markdown",
      "id": "ufqA5vWiuo--",
      "metadata": {
        "id": "ufqA5vWiuo--"
      },
      "source": [
        "### **SMOTEENN**"
      ]
    },
    {
      "cell_type": "code",
      "execution_count": 340,
      "id": "_ntV55eDuo--",
      "metadata": {
        "id": "_ntV55eDuo--"
      },
      "outputs": [],
      "source": [
        "pickle.dump \\\n",
        "    (decision_tree_SMOTEENN_model,\n",
        "     open(credit_risk_constants.CONSTANT_DT_SMOTEENN_MODEL_FILE_PATH, 'wb'))"
      ]
    },
    {
      "cell_type": "markdown",
      "id": "8rI5nb6vuo--",
      "metadata": {
        "id": "8rI5nb6vuo--"
      },
      "source": [
        "## **10.3: Random Forest**"
      ]
    },
    {
      "cell_type": "markdown",
      "id": "Kw9Lz7c4uo--",
      "metadata": {
        "id": "Kw9Lz7c4uo--"
      },
      "source": [
        "### **Original**"
      ]
    },
    {
      "cell_type": "code",
      "execution_count": 341,
      "id": "9ykIRziOuo--",
      "metadata": {
        "id": "9ykIRziOuo--"
      },
      "outputs": [],
      "source": [
        "pickle.dump \\\n",
        "    (random_forest_model,\n",
        "     open(credit_risk_constants.CONSTANT_RF_MODEL_FILE_PATH, 'wb'))"
      ]
    },
    {
      "cell_type": "markdown",
      "id": "X0bRnMRjuo--",
      "metadata": {
        "id": "X0bRnMRjuo--"
      },
      "source": [
        "### **Random Undersampling**"
      ]
    },
    {
      "cell_type": "code",
      "execution_count": 342,
      "id": "sn8UJDrQuo--",
      "metadata": {
        "id": "sn8UJDrQuo--"
      },
      "outputs": [],
      "source": [
        "pickle.dump \\\n",
        "    (random_forest_undersampled_model,\n",
        "     open(credit_risk_constants.CONSTANT_RF_UNDERSAMPLED_MODEL_FILE_PATH, 'wb'))"
      ]
    },
    {
      "cell_type": "markdown",
      "id": "Uw_m9URTuo--",
      "metadata": {
        "id": "Uw_m9URTuo--"
      },
      "source": [
        "### **Random Oversampling**"
      ]
    },
    {
      "cell_type": "code",
      "execution_count": 343,
      "id": "oqIVEbzxuo--",
      "metadata": {
        "id": "oqIVEbzxuo--"
      },
      "outputs": [],
      "source": [
        "pickle.dump \\\n",
        "    (random_forest_oversampled_model,\n",
        "     open(credit_risk_constants.CONSTANT_RF_OVERSAMPLED_MODEL_FILE_PATH, 'wb'))"
      ]
    },
    {
      "cell_type": "markdown",
      "id": "LQ-ivnIduo--",
      "metadata": {
        "id": "LQ-ivnIduo--"
      },
      "source": [
        "### **Cluster Centroids**"
      ]
    },
    {
      "cell_type": "code",
      "execution_count": 344,
      "id": "Eh4Lyd9Nuo--",
      "metadata": {
        "id": "Eh4Lyd9Nuo--"
      },
      "outputs": [],
      "source": [
        "pickle.dump \\\n",
        "    (random_forest_cluster_centroids_model,\n",
        "     open(credit_risk_constants.CONSTANT_RF_CLUSTER_CENTROIDS_MODEL_FILE_PATH, 'wb'))"
      ]
    },
    {
      "cell_type": "markdown",
      "id": "pERWG6Pguo--",
      "metadata": {
        "id": "pERWG6Pguo--"
      },
      "source": [
        "### **SMOTE**"
      ]
    },
    {
      "cell_type": "code",
      "execution_count": 345,
      "id": "WWv7K1mXuo--",
      "metadata": {
        "id": "WWv7K1mXuo--"
      },
      "outputs": [],
      "source": [
        "pickle.dump \\\n",
        "    (random_forest_SMOTE_model,\n",
        "     open(credit_risk_constants.CONSTANT_RF_SMOTE_MODEL_FILE_PATH, 'wb'))"
      ]
    },
    {
      "cell_type": "markdown",
      "id": "idgNocK3uo-_",
      "metadata": {
        "id": "idgNocK3uo-_"
      },
      "source": [
        "### **SMOTEENN**"
      ]
    },
    {
      "cell_type": "code",
      "execution_count": 346,
      "id": "oc5eKpAhuo-_",
      "metadata": {
        "id": "oc5eKpAhuo-_"
      },
      "outputs": [],
      "source": [
        "pickle.dump \\\n",
        "    (random_forest_SMOTEENN_model,\n",
        "     open(credit_risk_constants.CONSTANT_RF_SMOTEENN_MODEL_FILE_PATH, 'wb'))"
      ]
    },
    {
      "cell_type": "markdown",
      "id": "bE5iCTpiuo-_",
      "metadata": {
        "id": "bE5iCTpiuo-_"
      },
      "source": [
        "## **10.4: Support Vector Machine (SVM)**"
      ]
    },
    {
      "cell_type": "markdown",
      "id": "qYxsxduCuo-_",
      "metadata": {
        "id": "qYxsxduCuo-_"
      },
      "source": [
        "### **Original**"
      ]
    },
    {
      "cell_type": "code",
      "execution_count": 347,
      "id": "CrNYkS1buo-_",
      "metadata": {
        "id": "CrNYkS1buo-_"
      },
      "outputs": [],
      "source": [
        "pickle.dump \\\n",
        "    (svm_model,\n",
        "     open(credit_risk_constants.CONSTANT_SVM_MODEL_FILE_PATH, 'wb'))"
      ]
    },
    {
      "cell_type": "markdown",
      "id": "4RzVqKvMuo-_",
      "metadata": {
        "id": "4RzVqKvMuo-_"
      },
      "source": [
        "### **Random Undersampling**"
      ]
    },
    {
      "cell_type": "code",
      "execution_count": 348,
      "id": "v-tNwYdwuo-_",
      "metadata": {
        "id": "v-tNwYdwuo-_"
      },
      "outputs": [],
      "source": [
        "pickle.dump \\\n",
        "    (svm_undersampled_model,\n",
        "     open(credit_risk_constants.CONSTANT_SVM_UNDERSAMPLED_MODEL_FILE_PATH, 'wb'))"
      ]
    },
    {
      "cell_type": "markdown",
      "id": "zA52m2Mruo-_",
      "metadata": {
        "id": "zA52m2Mruo-_"
      },
      "source": [
        "### **Random Oversampling**"
      ]
    },
    {
      "cell_type": "code",
      "execution_count": 349,
      "id": "5tOzeM_wuo-_",
      "metadata": {
        "id": "5tOzeM_wuo-_"
      },
      "outputs": [],
      "source": [
        "pickle.dump \\\n",
        "    (svm_oversampled_model,\n",
        "     open(credit_risk_constants.CONSTANT_SVM_OVERSAMPLED_MODEL_FILE_PATH, 'wb'))"
      ]
    },
    {
      "cell_type": "markdown",
      "id": "9HdNRDRPuo-_",
      "metadata": {
        "id": "9HdNRDRPuo-_"
      },
      "source": [
        "### **Cluster Centroids**"
      ]
    },
    {
      "cell_type": "code",
      "execution_count": 350,
      "id": "uAxqoq8Uuo-_",
      "metadata": {
        "id": "uAxqoq8Uuo-_"
      },
      "outputs": [],
      "source": [
        "pickle.dump \\\n",
        "    (svm_cluster_centroids_model,\n",
        "     open(credit_risk_constants.CONSTANT_SVM_CLUSTER_CENTROIDS_MODEL_FILE_PATH, 'wb'))"
      ]
    },
    {
      "cell_type": "markdown",
      "id": "sqpBM7bruo-_",
      "metadata": {
        "id": "sqpBM7bruo-_"
      },
      "source": [
        "### **SMOTE**"
      ]
    },
    {
      "cell_type": "code",
      "execution_count": 351,
      "id": "pqmTALVLuo-_",
      "metadata": {
        "id": "pqmTALVLuo-_"
      },
      "outputs": [],
      "source": [
        "pickle.dump \\\n",
        "    (svm_SMOTE_model,\n",
        "     open(credit_risk_constants.CONSTANT_SVM_SMOTE_MODEL_FILE_PATH, 'wb'))"
      ]
    },
    {
      "cell_type": "markdown",
      "id": "tPydcW53uo_A",
      "metadata": {
        "id": "tPydcW53uo_A"
      },
      "source": [
        "### **SMOTEENN**"
      ]
    },
    {
      "cell_type": "code",
      "execution_count": 352,
      "id": "guSdG67Iuo_A",
      "metadata": {
        "id": "guSdG67Iuo_A"
      },
      "outputs": [],
      "source": [
        "pickle.dump \\\n",
        "    (svm_SMOTEENN_model,\n",
        "     open(credit_risk_constants.CONSTANT_SVM_SMOTEENN_MODEL_FILE_PATH, 'wb'))"
      ]
    },
    {
      "cell_type": "markdown",
      "id": "vHRLANY7uo_A",
      "metadata": {
        "id": "vHRLANY7uo_A"
      },
      "source": [
        "## **10.5: K-Nearest Neighbor (KNN)**"
      ]
    },
    {
      "cell_type": "markdown",
      "id": "y7FHDHcxuo_A",
      "metadata": {
        "id": "y7FHDHcxuo_A"
      },
      "source": [
        "### **Original**"
      ]
    },
    {
      "cell_type": "code",
      "execution_count": 353,
      "id": "WUM3luHjuo_A",
      "metadata": {
        "id": "WUM3luHjuo_A"
      },
      "outputs": [],
      "source": [
        "pickle.dump \\\n",
        "    (knn_model,\n",
        "     open(credit_risk_constants.CONSTANT_KNN_MODEL_FILE_PATH, 'wb'))"
      ]
    },
    {
      "cell_type": "markdown",
      "id": "700mXkssuo_A",
      "metadata": {
        "id": "700mXkssuo_A"
      },
      "source": [
        "### **Random Undersampling**"
      ]
    },
    {
      "cell_type": "code",
      "execution_count": 354,
      "id": "PUkZfbWPuo_A",
      "metadata": {
        "id": "PUkZfbWPuo_A"
      },
      "outputs": [],
      "source": [
        "pickle.dump \\\n",
        "    (knn_undersampled_model,\n",
        "     open(credit_risk_constants.CONSTANT_KNN_UNDERSAMPLED_MODEL_FILE_PATH, 'wb'))"
      ]
    },
    {
      "cell_type": "markdown",
      "id": "pfoYGFNruo_A",
      "metadata": {
        "id": "pfoYGFNruo_A"
      },
      "source": [
        "### **Random Oversampling**"
      ]
    },
    {
      "cell_type": "code",
      "execution_count": 355,
      "id": "PNpSPwbLuo_A",
      "metadata": {
        "id": "PNpSPwbLuo_A"
      },
      "outputs": [],
      "source": [
        "pickle.dump \\\n",
        "    (knn_oversampled_model,\n",
        "     open(credit_risk_constants.CONSTANT_KNN_OVERSAMPLED_MODEL_FILE_PATH, 'wb'))"
      ]
    },
    {
      "cell_type": "markdown",
      "id": "O1eGVZ0xuo_A",
      "metadata": {
        "id": "O1eGVZ0xuo_A"
      },
      "source": [
        "### **Cluster Centroids**"
      ]
    },
    {
      "cell_type": "code",
      "execution_count": 356,
      "id": "IJihGE_zuo_A",
      "metadata": {
        "id": "IJihGE_zuo_A"
      },
      "outputs": [],
      "source": [
        "pickle.dump \\\n",
        "    (knn_cluster_centroids_model,\n",
        "     open(credit_risk_constants.CONSTANT_KNN_CLUSTER_CENTROIDS_MODEL_FILE_PATH, 'wb'))"
      ]
    },
    {
      "cell_type": "markdown",
      "id": "21vyRD9Uuo_A",
      "metadata": {
        "id": "21vyRD9Uuo_A"
      },
      "source": [
        "### **SMOTE**"
      ]
    },
    {
      "cell_type": "code",
      "execution_count": 357,
      "id": "TXDsW78Ruo_A",
      "metadata": {
        "id": "TXDsW78Ruo_A"
      },
      "outputs": [],
      "source": [
        "pickle.dump \\\n",
        "    (knn_SMOTE_model,\n",
        "     open(credit_risk_constants.CONSTANT_KNN_SMOTE_MODEL_FILE_PATH, 'wb'))"
      ]
    },
    {
      "cell_type": "markdown",
      "id": "1Y1tTgKzuo_A",
      "metadata": {
        "id": "1Y1tTgKzuo_A"
      },
      "source": [
        "### **SMOTEENN**"
      ]
    },
    {
      "cell_type": "code",
      "execution_count": 358,
      "id": "a0QkppQGuo_B",
      "metadata": {
        "id": "a0QkppQGuo_B"
      },
      "outputs": [],
      "source": [
        "pickle.dump \\\n",
        "    (knn_SMOTEENN_model,\n",
        "     open(credit_risk_constants.CONSTANT_KNN_SMOTEENN_MODEL_FILE_PATH, 'wb'))"
      ]
    },
    {
      "cell_type": "markdown",
      "id": "OEXXROcouo_B",
      "metadata": {
        "id": "OEXXROcouo_B"
      },
      "source": [
        "## **10.6: Gaussian Naive Bayes (GNB)**"
      ]
    },
    {
      "cell_type": "markdown",
      "id": "Q1oYbcMOuo_B",
      "metadata": {
        "id": "Q1oYbcMOuo_B"
      },
      "source": [
        "### **Original**"
      ]
    },
    {
      "cell_type": "code",
      "execution_count": 359,
      "id": "lgiKSOCZuo_B",
      "metadata": {
        "id": "lgiKSOCZuo_B"
      },
      "outputs": [],
      "source": [
        "pickle.dump \\\n",
        "    (gnb_model,\n",
        "     open(credit_risk_constants.CONSTANT_GNB_MODEL_FILE_PATH, 'wb'))"
      ]
    },
    {
      "cell_type": "markdown",
      "id": "NARPhRhtuo_B",
      "metadata": {
        "id": "NARPhRhtuo_B"
      },
      "source": [
        "### **Random Undersampling**"
      ]
    },
    {
      "cell_type": "code",
      "execution_count": 360,
      "id": "GkABlPiWuo_B",
      "metadata": {
        "id": "GkABlPiWuo_B"
      },
      "outputs": [],
      "source": [
        "pickle.dump \\\n",
        "    (gnb_undersampled_model,\n",
        "     open(credit_risk_constants.CONSTANT_GNB_UNDERSAMPLED_MODEL_FILE_PATH, 'wb'))"
      ]
    },
    {
      "cell_type": "markdown",
      "id": "gBnheYNTuo_B",
      "metadata": {
        "id": "gBnheYNTuo_B"
      },
      "source": [
        "### **Random Oversampling**"
      ]
    },
    {
      "cell_type": "code",
      "execution_count": 361,
      "id": "whdgYraeuo_B",
      "metadata": {
        "id": "whdgYraeuo_B"
      },
      "outputs": [],
      "source": [
        "pickle.dump \\\n",
        "    (gnb_oversampled_model,\n",
        "     open(credit_risk_constants.CONSTANT_GNB_OVERSAMPLED_MODEL_FILE_PATH, 'wb'))"
      ]
    },
    {
      "cell_type": "markdown",
      "id": "NV2SwsV9uo_B",
      "metadata": {
        "id": "NV2SwsV9uo_B"
      },
      "source": [
        "### **Cluster Centroids**"
      ]
    },
    {
      "cell_type": "code",
      "execution_count": 362,
      "id": "TEKjwuymuo_B",
      "metadata": {
        "id": "TEKjwuymuo_B"
      },
      "outputs": [],
      "source": [
        "pickle.dump \\\n",
        "    (gnb_cluster_centroids_model,\n",
        "     open(credit_risk_constants.CONSTANT_GNB_CLUSTER_CENTROIDS_MODEL_FILE_PATH, 'wb'))"
      ]
    },
    {
      "cell_type": "markdown",
      "id": "GD3DygHWuo_B",
      "metadata": {
        "id": "GD3DygHWuo_B"
      },
      "source": [
        "### **SMOTE**"
      ]
    },
    {
      "cell_type": "code",
      "execution_count": 363,
      "id": "2YlnB0uKuo_B",
      "metadata": {
        "id": "2YlnB0uKuo_B"
      },
      "outputs": [],
      "source": [
        "pickle.dump \\\n",
        "    (gnb_SMOTE_model,\n",
        "     open(credit_risk_constants.CONSTANT_GNB_SMOTE_MODEL_FILE_PATH, 'wb'))"
      ]
    },
    {
      "cell_type": "markdown",
      "id": "r0Iel6yJuo_C",
      "metadata": {
        "id": "r0Iel6yJuo_C"
      },
      "source": [
        "### **SMOTEENN**"
      ]
    },
    {
      "cell_type": "code",
      "execution_count": 364,
      "id": "pQZCJMZHuo_C",
      "metadata": {
        "id": "pQZCJMZHuo_C"
      },
      "outputs": [],
      "source": [
        "pickle.dump \\\n",
        "    (gnb_SMOTEENN_model,\n",
        "     open(credit_risk_constants.CONSTANT_GNB_SMOTEENN_MODEL_FILE_PATH, 'wb'))"
      ]
    },
    {
      "cell_type": "code",
      "execution_count": 365,
      "id": "XNDM6fpZuo_C",
      "metadata": {
        "id": "XNDM6fpZuo_C"
      },
      "outputs": [],
      "source": [
        "# logx.end_program()"
      ]
    },
    {
      "cell_type": "code",
      "execution_count": 365,
      "id": "tLqVSH4DxOuY",
      "metadata": {
        "id": "tLqVSH4DxOuY"
      },
      "outputs": [],
      "source": []
    }
  ],
  "metadata": {
    "colab": {
      "provenance": [],
      "include_colab_link": true
    },
    "kernelspec": {
      "display_name": "Python 3 (ipykernel)",
      "language": "python",
      "name": "python3"
    },
    "language_info": {
      "codemirror_mode": {
        "name": "ipython",
        "version": 3
      },
      "file_extension": ".py",
      "mimetype": "text/x-python",
      "name": "python",
      "nbconvert_exporter": "python",
      "pygments_lexer": "ipython3",
      "version": "3.11.7"
    }
  },
  "nbformat": 4,
  "nbformat_minor": 5
}