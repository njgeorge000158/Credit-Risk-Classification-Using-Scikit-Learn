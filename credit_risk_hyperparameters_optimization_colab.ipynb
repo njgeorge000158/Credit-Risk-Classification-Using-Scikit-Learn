{
  "cells": [
    {
      "cell_type": "markdown",
      "metadata": {
        "id": "view-in-github",
        "colab_type": "text"
      },
      "source": [
        "<a href=\"https://colab.research.google.com/github/njgeorge000158/Credit-Risk-Classification-Using-Scikit-Learn/blob/main/credit_risk_hyperparameters_optimization_colab.ipynb\" target=\"_parent\"><img src=\"https://colab.research.google.com/assets/colab-badge.svg\" alt=\"Open In Colab\"/></a>"
      ]
    },
    {
      "cell_type": "code",
      "execution_count": 1,
      "metadata": {
        "colab": {
          "base_uri": "https://localhost:8080/",
          "height": 1000
        },
        "id": "4jRPVTfiXVCz",
        "outputId": "530af5d3-4acc-4cb0-aec7-d36ac4d05183"
      },
      "outputs": [
        {
          "output_type": "stream",
          "name": "stdout",
          "text": [
            "Mounted at /content/gdrive/\n",
            "Get:1 https://cloud.r-project.org/bin/linux/ubuntu jammy-cran40/ InRelease [3,626 B]\n",
            "Hit:2 https://developer.download.nvidia.com/compute/cuda/repos/ubuntu2204/x86_64  InRelease\n",
            "Hit:3 http://archive.ubuntu.com/ubuntu jammy InRelease\n",
            "Get:4 http://security.ubuntu.com/ubuntu jammy-security InRelease [110 kB]\n",
            "Get:5 http://archive.ubuntu.com/ubuntu jammy-updates InRelease [119 kB]\n",
            "Hit:6 https://ppa.launchpadcontent.net/c2d4u.team/c2d4u4.0+/ubuntu jammy InRelease\n",
            "Get:7 https://cloud.r-project.org/bin/linux/ubuntu jammy-cran40/ Packages [52.9 kB]\n",
            "Get:8 https://ppa.launchpadcontent.net/deadsnakes/ppa/ubuntu jammy InRelease [18.1 kB]\n",
            "Hit:9 http://archive.ubuntu.com/ubuntu jammy-backports InRelease\n",
            "Get:10 https://ppa.launchpadcontent.net/graphics-drivers/ppa/ubuntu jammy InRelease [24.3 kB]\n",
            "Hit:11 https://ppa.launchpadcontent.net/ubuntugis/ppa/ubuntu jammy InRelease\n",
            "Get:12 http://security.ubuntu.com/ubuntu jammy-security/main amd64 Packages [1,756 kB]\n",
            "Get:13 http://archive.ubuntu.com/ubuntu jammy-updates/main amd64 Packages [2,035 kB]\n",
            "Get:14 http://security.ubuntu.com/ubuntu jammy-security/universe amd64 Packages [1,077 kB]\n",
            "Get:15 https://ppa.launchpadcontent.net/deadsnakes/ppa/ubuntu jammy/main amd64 Packages [27.8 kB]\n",
            "Get:16 https://ppa.launchpadcontent.net/graphics-drivers/ppa/ubuntu jammy/main amd64 Packages [44.2 kB]\n",
            "Get:17 http://archive.ubuntu.com/ubuntu jammy-updates/universe amd64 Packages [1,370 kB]\n",
            "Fetched 6,639 kB in 8s (864 kB/s)\n",
            "Reading package lists... Done\n",
            "Reading package lists... Done\n",
            "Building dependency tree... Done\n",
            "Reading state information... Done\n",
            "Package firefox-geckodriver is not available, but is referred to by another package.\n",
            "This may mean that the package is missing, has been obsoleted, or\n",
            "is only available from another source\n",
            "However the following packages replace it:\n",
            "  firefox\n",
            "\n",
            "\u001b[1;31mE: \u001b[0mPackage 'firefox-geckodriver' has no installation candidate\u001b[0m\n",
            "Collecting dataframe_image\n",
            "  Downloading dataframe_image-0.2.3-py3-none-any.whl (6.7 MB)\n",
            "\u001b[2K     \u001b[90m━━━━━━━━━━━━━━━━━━━━━━━━━━━━━━━━━━━━━━━━\u001b[0m \u001b[32m6.7/6.7 MB\u001b[0m \u001b[31m13.9 MB/s\u001b[0m eta \u001b[36m0:00:00\u001b[0m\n",
            "\u001b[?25hRequirement already satisfied: pandas>=0.24 in /usr/local/lib/python3.10/dist-packages (from dataframe_image) (2.0.3)\n",
            "Requirement already satisfied: nbconvert>=5 in /usr/local/lib/python3.10/dist-packages (from dataframe_image) (6.5.4)\n",
            "Requirement already satisfied: aiohttp in /usr/local/lib/python3.10/dist-packages (from dataframe_image) (3.9.5)\n",
            "Requirement already satisfied: requests in /usr/local/lib/python3.10/dist-packages (from dataframe_image) (2.31.0)\n",
            "Requirement already satisfied: pillow in /usr/local/lib/python3.10/dist-packages (from dataframe_image) (9.4.0)\n",
            "Requirement already satisfied: packaging in /usr/local/lib/python3.10/dist-packages (from dataframe_image) (24.0)\n",
            "Requirement already satisfied: mistune in /usr/local/lib/python3.10/dist-packages (from dataframe_image) (0.8.4)\n",
            "Requirement already satisfied: lxml in /usr/local/lib/python3.10/dist-packages (from dataframe_image) (4.9.4)\n",
            "Requirement already satisfied: beautifulsoup4 in /usr/local/lib/python3.10/dist-packages (from dataframe_image) (4.12.3)\n",
            "Collecting cssutils (from dataframe_image)\n",
            "  Downloading cssutils-2.10.2-py3-none-any.whl (398 kB)\n",
            "\u001b[2K     \u001b[90m━━━━━━━━━━━━━━━━━━━━━━━━━━━━━━━━━━━━━━━━\u001b[0m \u001b[32m398.1/398.1 kB\u001b[0m \u001b[31m29.0 MB/s\u001b[0m eta \u001b[36m0:00:00\u001b[0m\n",
            "\u001b[?25hCollecting html2image (from dataframe_image)\n",
            "  Downloading html2image-2.0.4.3-py3-none-any.whl (27 kB)\n",
            "Requirement already satisfied: bleach in /usr/local/lib/python3.10/dist-packages (from nbconvert>=5->dataframe_image) (6.1.0)\n",
            "Requirement already satisfied: defusedxml in /usr/local/lib/python3.10/dist-packages (from nbconvert>=5->dataframe_image) (0.7.1)\n",
            "Requirement already satisfied: entrypoints>=0.2.2 in /usr/local/lib/python3.10/dist-packages (from nbconvert>=5->dataframe_image) (0.4)\n",
            "Requirement already satisfied: jinja2>=3.0 in /usr/local/lib/python3.10/dist-packages (from nbconvert>=5->dataframe_image) (3.1.3)\n",
            "Requirement already satisfied: jupyter-core>=4.7 in /usr/local/lib/python3.10/dist-packages (from nbconvert>=5->dataframe_image) (5.7.2)\n",
            "Requirement already satisfied: jupyterlab-pygments in /usr/local/lib/python3.10/dist-packages (from nbconvert>=5->dataframe_image) (0.3.0)\n",
            "Requirement already satisfied: MarkupSafe>=2.0 in /usr/local/lib/python3.10/dist-packages (from nbconvert>=5->dataframe_image) (2.1.5)\n",
            "Requirement already satisfied: nbclient>=0.5.0 in /usr/local/lib/python3.10/dist-packages (from nbconvert>=5->dataframe_image) (0.10.0)\n",
            "Requirement already satisfied: nbformat>=5.1 in /usr/local/lib/python3.10/dist-packages (from nbconvert>=5->dataframe_image) (5.10.4)\n",
            "Requirement already satisfied: pandocfilters>=1.4.1 in /usr/local/lib/python3.10/dist-packages (from nbconvert>=5->dataframe_image) (1.5.1)\n",
            "Requirement already satisfied: pygments>=2.4.1 in /usr/local/lib/python3.10/dist-packages (from nbconvert>=5->dataframe_image) (2.16.1)\n",
            "Requirement already satisfied: tinycss2 in /usr/local/lib/python3.10/dist-packages (from nbconvert>=5->dataframe_image) (1.2.1)\n",
            "Requirement already satisfied: traitlets>=5.0 in /usr/local/lib/python3.10/dist-packages (from nbconvert>=5->dataframe_image) (5.7.1)\n",
            "Requirement already satisfied: python-dateutil>=2.8.2 in /usr/local/lib/python3.10/dist-packages (from pandas>=0.24->dataframe_image) (2.8.2)\n",
            "Requirement already satisfied: pytz>=2020.1 in /usr/local/lib/python3.10/dist-packages (from pandas>=0.24->dataframe_image) (2023.4)\n",
            "Requirement already satisfied: tzdata>=2022.1 in /usr/local/lib/python3.10/dist-packages (from pandas>=0.24->dataframe_image) (2024.1)\n",
            "Requirement already satisfied: numpy>=1.21.0 in /usr/local/lib/python3.10/dist-packages (from pandas>=0.24->dataframe_image) (1.25.2)\n",
            "Requirement already satisfied: aiosignal>=1.1.2 in /usr/local/lib/python3.10/dist-packages (from aiohttp->dataframe_image) (1.3.1)\n",
            "Requirement already satisfied: attrs>=17.3.0 in /usr/local/lib/python3.10/dist-packages (from aiohttp->dataframe_image) (23.2.0)\n",
            "Requirement already satisfied: frozenlist>=1.1.1 in /usr/local/lib/python3.10/dist-packages (from aiohttp->dataframe_image) (1.4.1)\n",
            "Requirement already satisfied: multidict<7.0,>=4.5 in /usr/local/lib/python3.10/dist-packages (from aiohttp->dataframe_image) (6.0.5)\n",
            "Requirement already satisfied: yarl<2.0,>=1.0 in /usr/local/lib/python3.10/dist-packages (from aiohttp->dataframe_image) (1.9.4)\n",
            "Requirement already satisfied: async-timeout<5.0,>=4.0 in /usr/local/lib/python3.10/dist-packages (from aiohttp->dataframe_image) (4.0.3)\n",
            "Requirement already satisfied: soupsieve>1.2 in /usr/local/lib/python3.10/dist-packages (from beautifulsoup4->dataframe_image) (2.5)\n",
            "Requirement already satisfied: websocket-client<2.0.0,>=1.0.0 in /usr/local/lib/python3.10/dist-packages (from html2image->dataframe_image) (1.7.0)\n",
            "Requirement already satisfied: charset-normalizer<4,>=2 in /usr/local/lib/python3.10/dist-packages (from requests->dataframe_image) (3.3.2)\n",
            "Requirement already satisfied: idna<4,>=2.5 in /usr/local/lib/python3.10/dist-packages (from requests->dataframe_image) (3.7)\n",
            "Requirement already satisfied: urllib3<3,>=1.21.1 in /usr/local/lib/python3.10/dist-packages (from requests->dataframe_image) (2.0.7)\n",
            "Requirement already satisfied: certifi>=2017.4.17 in /usr/local/lib/python3.10/dist-packages (from requests->dataframe_image) (2024.2.2)\n",
            "Requirement already satisfied: platformdirs>=2.5 in /usr/local/lib/python3.10/dist-packages (from jupyter-core>=4.7->nbconvert>=5->dataframe_image) (4.2.0)\n",
            "Requirement already satisfied: jupyter-client>=6.1.12 in /usr/local/lib/python3.10/dist-packages (from nbclient>=0.5.0->nbconvert>=5->dataframe_image) (6.1.12)\n",
            "Requirement already satisfied: fastjsonschema>=2.15 in /usr/local/lib/python3.10/dist-packages (from nbformat>=5.1->nbconvert>=5->dataframe_image) (2.19.1)\n",
            "Requirement already satisfied: jsonschema>=2.6 in /usr/local/lib/python3.10/dist-packages (from nbformat>=5.1->nbconvert>=5->dataframe_image) (4.19.2)\n",
            "Requirement already satisfied: six>=1.5 in /usr/local/lib/python3.10/dist-packages (from python-dateutil>=2.8.2->pandas>=0.24->dataframe_image) (1.16.0)\n",
            "Requirement already satisfied: webencodings in /usr/local/lib/python3.10/dist-packages (from bleach->nbconvert>=5->dataframe_image) (0.5.1)\n",
            "Requirement already satisfied: jsonschema-specifications>=2023.03.6 in /usr/local/lib/python3.10/dist-packages (from jsonschema>=2.6->nbformat>=5.1->nbconvert>=5->dataframe_image) (2023.12.1)\n",
            "Requirement already satisfied: referencing>=0.28.4 in /usr/local/lib/python3.10/dist-packages (from jsonschema>=2.6->nbformat>=5.1->nbconvert>=5->dataframe_image) (0.34.0)\n",
            "Requirement already satisfied: rpds-py>=0.7.1 in /usr/local/lib/python3.10/dist-packages (from jsonschema>=2.6->nbformat>=5.1->nbconvert>=5->dataframe_image) (0.18.0)\n",
            "Requirement already satisfied: pyzmq>=13 in /usr/local/lib/python3.10/dist-packages (from jupyter-client>=6.1.12->nbclient>=0.5.0->nbconvert>=5->dataframe_image) (23.2.1)\n",
            "Requirement already satisfied: tornado>=4.1 in /usr/local/lib/python3.10/dist-packages (from jupyter-client>=6.1.12->nbclient>=0.5.0->nbconvert>=5->dataframe_image) (6.3.3)\n",
            "Installing collected packages: cssutils, html2image, dataframe_image\n",
            "Successfully installed cssutils-2.10.2 dataframe_image-0.2.3 html2image-2.0.4.3\n",
            "Collecting selenium\n",
            "  Downloading selenium-4.20.0-py3-none-any.whl (9.5 MB)\n",
            "\u001b[2K     \u001b[90m━━━━━━━━━━━━━━━━━━━━━━━━━━━━━━━━━━━━━━━━\u001b[0m \u001b[32m9.5/9.5 MB\u001b[0m \u001b[31m18.2 MB/s\u001b[0m eta \u001b[36m0:00:00\u001b[0m\n",
            "\u001b[?25hRequirement already satisfied: urllib3[socks]<3,>=1.26 in /usr/local/lib/python3.10/dist-packages (from selenium) (2.0.7)\n",
            "Collecting trio~=0.17 (from selenium)\n",
            "  Downloading trio-0.25.0-py3-none-any.whl (467 kB)\n",
            "\u001b[2K     \u001b[90m━━━━━━━━━━━━━━━━━━━━━━━━━━━━━━━━━━━━━━━━\u001b[0m \u001b[32m467.2/467.2 kB\u001b[0m \u001b[31m34.6 MB/s\u001b[0m eta \u001b[36m0:00:00\u001b[0m\n",
            "\u001b[?25hCollecting trio-websocket~=0.9 (from selenium)\n",
            "  Downloading trio_websocket-0.11.1-py3-none-any.whl (17 kB)\n",
            "Requirement already satisfied: certifi>=2021.10.8 in /usr/local/lib/python3.10/dist-packages (from selenium) (2024.2.2)\n",
            "Requirement already satisfied: typing_extensions>=4.9.0 in /usr/local/lib/python3.10/dist-packages (from selenium) (4.11.0)\n",
            "Requirement already satisfied: attrs>=23.2.0 in /usr/local/lib/python3.10/dist-packages (from trio~=0.17->selenium) (23.2.0)\n",
            "Requirement already satisfied: sortedcontainers in /usr/local/lib/python3.10/dist-packages (from trio~=0.17->selenium) (2.4.0)\n",
            "Requirement already satisfied: idna in /usr/local/lib/python3.10/dist-packages (from trio~=0.17->selenium) (3.7)\n",
            "Collecting outcome (from trio~=0.17->selenium)\n",
            "  Downloading outcome-1.3.0.post0-py2.py3-none-any.whl (10 kB)\n",
            "Requirement already satisfied: sniffio>=1.3.0 in /usr/local/lib/python3.10/dist-packages (from trio~=0.17->selenium) (1.3.1)\n",
            "Requirement already satisfied: exceptiongroup in /usr/local/lib/python3.10/dist-packages (from trio~=0.17->selenium) (1.2.1)\n",
            "Collecting wsproto>=0.14 (from trio-websocket~=0.9->selenium)\n",
            "  Downloading wsproto-1.2.0-py3-none-any.whl (24 kB)\n",
            "Requirement already satisfied: pysocks!=1.5.7,<2.0,>=1.5.6 in /usr/local/lib/python3.10/dist-packages (from urllib3[socks]<3,>=1.26->selenium) (1.7.1)\n",
            "Collecting h11<1,>=0.9.0 (from wsproto>=0.14->trio-websocket~=0.9->selenium)\n",
            "  Downloading h11-0.14.0-py3-none-any.whl (58 kB)\n",
            "\u001b[2K     \u001b[90m━━━━━━━━━━━━━━━━━━━━━━━━━━━━━━━━━━━━━━━━\u001b[0m \u001b[32m58.3/58.3 kB\u001b[0m \u001b[31m7.8 MB/s\u001b[0m eta \u001b[36m0:00:00\u001b[0m\n",
            "\u001b[?25hInstalling collected packages: outcome, h11, wsproto, trio, trio-websocket, selenium\n",
            "Successfully installed h11-0.14.0 outcome-1.3.0.post0 selenium-4.20.0 trio-0.25.0 trio-websocket-0.11.1 wsproto-1.2.0\n",
            "Collecting kaleido\n",
            "  Downloading kaleido-0.2.1-py2.py3-none-manylinux1_x86_64.whl (79.9 MB)\n",
            "\u001b[2K     \u001b[90m━━━━━━━━━━━━━━━━━━━━━━━━━━━━━━━━━━━━━━━━\u001b[0m \u001b[32m79.9/79.9 MB\u001b[0m \u001b[31m10.7 MB/s\u001b[0m eta \u001b[36m0:00:00\u001b[0m\n",
            "\u001b[?25hInstalling collected packages: kaleido\n",
            "Successfully installed kaleido-0.2.1\n",
            "Collecting hvplot\n",
            "  Downloading hvplot-0.9.2-py2.py3-none-any.whl (1.8 MB)\n",
            "\u001b[2K     \u001b[90m━━━━━━━━━━━━━━━━━━━━━━━━━━━━━━━━━━━━━━━━\u001b[0m \u001b[32m1.8/1.8 MB\u001b[0m \u001b[31m16.7 MB/s\u001b[0m eta \u001b[36m0:00:00\u001b[0m\n",
            "\u001b[?25hRequirement already satisfied: bokeh>=1.0.0 in /usr/local/lib/python3.10/dist-packages (from hvplot) (3.3.4)\n",
            "Requirement already satisfied: colorcet>=2 in /usr/local/lib/python3.10/dist-packages (from hvplot) (3.1.0)\n",
            "Requirement already satisfied: holoviews>=1.11.0 in /usr/local/lib/python3.10/dist-packages (from hvplot) (1.17.1)\n",
            "Requirement already satisfied: pandas in /usr/local/lib/python3.10/dist-packages (from hvplot) (2.0.3)\n",
            "Requirement already satisfied: numpy>=1.15 in /usr/local/lib/python3.10/dist-packages (from hvplot) (1.25.2)\n",
            "Requirement already satisfied: packaging in /usr/local/lib/python3.10/dist-packages (from hvplot) (24.0)\n",
            "Requirement already satisfied: panel>=0.11.0 in /usr/local/lib/python3.10/dist-packages (from hvplot) (1.3.8)\n",
            "Requirement already satisfied: param<3.0,>=1.12.0 in /usr/local/lib/python3.10/dist-packages (from hvplot) (2.1.0)\n",
            "Requirement already satisfied: Jinja2>=2.9 in /usr/local/lib/python3.10/dist-packages (from bokeh>=1.0.0->hvplot) (3.1.3)\n",
            "Requirement already satisfied: contourpy>=1 in /usr/local/lib/python3.10/dist-packages (from bokeh>=1.0.0->hvplot) (1.2.1)\n",
            "Requirement already satisfied: pillow>=7.1.0 in /usr/local/lib/python3.10/dist-packages (from bokeh>=1.0.0->hvplot) (9.4.0)\n",
            "Requirement already satisfied: PyYAML>=3.10 in /usr/local/lib/python3.10/dist-packages (from bokeh>=1.0.0->hvplot) (6.0.1)\n",
            "Requirement already satisfied: tornado>=5.1 in /usr/local/lib/python3.10/dist-packages (from bokeh>=1.0.0->hvplot) (6.3.3)\n",
            "Requirement already satisfied: xyzservices>=2021.09.1 in /usr/local/lib/python3.10/dist-packages (from bokeh>=1.0.0->hvplot) (2024.4.0)\n",
            "Requirement already satisfied: pyviz-comms>=0.7.4 in /usr/local/lib/python3.10/dist-packages (from holoviews>=1.11.0->hvplot) (3.0.2)\n",
            "Requirement already satisfied: python-dateutil>=2.8.2 in /usr/local/lib/python3.10/dist-packages (from pandas->hvplot) (2.8.2)\n",
            "Requirement already satisfied: pytz>=2020.1 in /usr/local/lib/python3.10/dist-packages (from pandas->hvplot) (2023.4)\n",
            "Requirement already satisfied: tzdata>=2022.1 in /usr/local/lib/python3.10/dist-packages (from pandas->hvplot) (2024.1)\n",
            "Requirement already satisfied: markdown in /usr/local/lib/python3.10/dist-packages (from panel>=0.11.0->hvplot) (3.6)\n",
            "Requirement already satisfied: markdown-it-py in /usr/local/lib/python3.10/dist-packages (from panel>=0.11.0->hvplot) (3.0.0)\n",
            "Requirement already satisfied: linkify-it-py in /usr/local/lib/python3.10/dist-packages (from panel>=0.11.0->hvplot) (2.0.3)\n",
            "Requirement already satisfied: mdit-py-plugins in /usr/local/lib/python3.10/dist-packages (from panel>=0.11.0->hvplot) (0.4.0)\n",
            "Requirement already satisfied: requests in /usr/local/lib/python3.10/dist-packages (from panel>=0.11.0->hvplot) (2.31.0)\n",
            "Requirement already satisfied: tqdm>=4.48.0 in /usr/local/lib/python3.10/dist-packages (from panel>=0.11.0->hvplot) (4.66.2)\n",
            "Requirement already satisfied: bleach in /usr/local/lib/python3.10/dist-packages (from panel>=0.11.0->hvplot) (6.1.0)\n",
            "Requirement already satisfied: typing-extensions in /usr/local/lib/python3.10/dist-packages (from panel>=0.11.0->hvplot) (4.11.0)\n",
            "Requirement already satisfied: MarkupSafe>=2.0 in /usr/local/lib/python3.10/dist-packages (from Jinja2>=2.9->bokeh>=1.0.0->hvplot) (2.1.5)\n",
            "Requirement already satisfied: six>=1.5 in /usr/local/lib/python3.10/dist-packages (from python-dateutil>=2.8.2->pandas->hvplot) (1.16.0)\n",
            "Requirement already satisfied: webencodings in /usr/local/lib/python3.10/dist-packages (from bleach->panel>=0.11.0->hvplot) (0.5.1)\n",
            "Requirement already satisfied: uc-micro-py in /usr/local/lib/python3.10/dist-packages (from linkify-it-py->panel>=0.11.0->hvplot) (1.0.3)\n",
            "Requirement already satisfied: mdurl~=0.1 in /usr/local/lib/python3.10/dist-packages (from markdown-it-py->panel>=0.11.0->hvplot) (0.1.2)\n",
            "Requirement already satisfied: charset-normalizer<4,>=2 in /usr/local/lib/python3.10/dist-packages (from requests->panel>=0.11.0->hvplot) (3.3.2)\n",
            "Requirement already satisfied: idna<4,>=2.5 in /usr/local/lib/python3.10/dist-packages (from requests->panel>=0.11.0->hvplot) (3.7)\n",
            "Requirement already satisfied: urllib3<3,>=1.21.1 in /usr/local/lib/python3.10/dist-packages (from requests->panel>=0.11.0->hvplot) (2.0.7)\n",
            "Requirement already satisfied: certifi>=2017.4.17 in /usr/local/lib/python3.10/dist-packages (from requests->panel>=0.11.0->hvplot) (2024.2.2)\n",
            "Installing collected packages: hvplot\n",
            "Successfully installed hvplot-0.9.2\n",
            "Requirement already satisfied: plotly in /usr/local/lib/python3.10/dist-packages (5.15.0)\n",
            "Collecting plotly\n",
            "  Downloading plotly-5.21.0-py3-none-any.whl (15.7 MB)\n",
            "\u001b[2K     \u001b[90m━━━━━━━━━━━━━━━━━━━━━━━━━━━━━━━━━━━━━━━━\u001b[0m \u001b[32m15.7/15.7 MB\u001b[0m \u001b[31m19.1 MB/s\u001b[0m eta \u001b[36m0:00:00\u001b[0m\n",
            "\u001b[?25hRequirement already satisfied: tenacity>=6.2.0 in /usr/local/lib/python3.10/dist-packages (from plotly) (8.2.3)\n",
            "Requirement already satisfied: packaging in /usr/local/lib/python3.10/dist-packages (from plotly) (24.0)\n",
            "Installing collected packages: plotly\n",
            "  Attempting uninstall: plotly\n",
            "    Found existing installation: plotly 5.15.0\n",
            "    Uninstalling plotly-5.15.0:\n",
            "      Successfully uninstalled plotly-5.15.0\n",
            "Successfully installed plotly-5.21.0\n",
            "Requirement already satisfied: panel in /usr/local/lib/python3.10/dist-packages (1.3.8)\n",
            "Collecting panel\n",
            "  Downloading panel-1.4.2-py3-none-any.whl (24.7 MB)\n",
            "\u001b[2K     \u001b[90m━━━━━━━━━━━━━━━━━━━━━━━━━━━━━━━━━━━━━━━━\u001b[0m \u001b[32m24.7/24.7 MB\u001b[0m \u001b[31m17.1 MB/s\u001b[0m eta \u001b[36m0:00:00\u001b[0m\n",
            "\u001b[?25hCollecting bokeh<3.5.0,>=3.4.0 (from panel)\n",
            "  Downloading bokeh-3.4.1-py3-none-any.whl (7.0 MB)\n",
            "\u001b[2K     \u001b[90m━━━━━━━━━━━━━━━━━━━━━━━━━━━━━━━━━━━━━━━━\u001b[0m \u001b[32m7.0/7.0 MB\u001b[0m \u001b[31m62.6 MB/s\u001b[0m eta \u001b[36m0:00:00\u001b[0m\n",
            "\u001b[?25hRequirement already satisfied: param<3.0,>=2.0.0 in /usr/local/lib/python3.10/dist-packages (from panel) (2.1.0)\n",
            "Requirement already satisfied: pyviz-comms>=2.0.0 in /usr/local/lib/python3.10/dist-packages (from panel) (3.0.2)\n",
            "Requirement already satisfied: xyzservices>=2021.09.1 in /usr/local/lib/python3.10/dist-packages (from panel) (2024.4.0)\n",
            "Requirement already satisfied: markdown in /usr/local/lib/python3.10/dist-packages (from panel) (3.6)\n",
            "Requirement already satisfied: markdown-it-py in /usr/local/lib/python3.10/dist-packages (from panel) (3.0.0)\n",
            "Requirement already satisfied: linkify-it-py in /usr/local/lib/python3.10/dist-packages (from panel) (2.0.3)\n",
            "Requirement already satisfied: mdit-py-plugins in /usr/local/lib/python3.10/dist-packages (from panel) (0.4.0)\n",
            "Requirement already satisfied: requests in /usr/local/lib/python3.10/dist-packages (from panel) (2.31.0)\n",
            "Requirement already satisfied: tqdm>=4.48.0 in /usr/local/lib/python3.10/dist-packages (from panel) (4.66.2)\n",
            "Requirement already satisfied: bleach in /usr/local/lib/python3.10/dist-packages (from panel) (6.1.0)\n",
            "Requirement already satisfied: typing-extensions in /usr/local/lib/python3.10/dist-packages (from panel) (4.11.0)\n",
            "Requirement already satisfied: pandas>=1.2 in /usr/local/lib/python3.10/dist-packages (from panel) (2.0.3)\n",
            "Requirement already satisfied: Jinja2>=2.9 in /usr/local/lib/python3.10/dist-packages (from bokeh<3.5.0,>=3.4.0->panel) (3.1.3)\n",
            "Requirement already satisfied: contourpy>=1.2 in /usr/local/lib/python3.10/dist-packages (from bokeh<3.5.0,>=3.4.0->panel) (1.2.1)\n",
            "Requirement already satisfied: numpy>=1.16 in /usr/local/lib/python3.10/dist-packages (from bokeh<3.5.0,>=3.4.0->panel) (1.25.2)\n",
            "Requirement already satisfied: packaging>=16.8 in /usr/local/lib/python3.10/dist-packages (from bokeh<3.5.0,>=3.4.0->panel) (24.0)\n",
            "Requirement already satisfied: pillow>=7.1.0 in /usr/local/lib/python3.10/dist-packages (from bokeh<3.5.0,>=3.4.0->panel) (9.4.0)\n",
            "Requirement already satisfied: PyYAML>=3.10 in /usr/local/lib/python3.10/dist-packages (from bokeh<3.5.0,>=3.4.0->panel) (6.0.1)\n",
            "Requirement already satisfied: tornado>=6.2 in /usr/local/lib/python3.10/dist-packages (from bokeh<3.5.0,>=3.4.0->panel) (6.3.3)\n",
            "Requirement already satisfied: python-dateutil>=2.8.2 in /usr/local/lib/python3.10/dist-packages (from pandas>=1.2->panel) (2.8.2)\n",
            "Requirement already satisfied: pytz>=2020.1 in /usr/local/lib/python3.10/dist-packages (from pandas>=1.2->panel) (2023.4)\n",
            "Requirement already satisfied: tzdata>=2022.1 in /usr/local/lib/python3.10/dist-packages (from pandas>=1.2->panel) (2024.1)\n",
            "Requirement already satisfied: six>=1.9.0 in /usr/local/lib/python3.10/dist-packages (from bleach->panel) (1.16.0)\n",
            "Requirement already satisfied: webencodings in /usr/local/lib/python3.10/dist-packages (from bleach->panel) (0.5.1)\n",
            "Requirement already satisfied: uc-micro-py in /usr/local/lib/python3.10/dist-packages (from linkify-it-py->panel) (1.0.3)\n",
            "Requirement already satisfied: mdurl~=0.1 in /usr/local/lib/python3.10/dist-packages (from markdown-it-py->panel) (0.1.2)\n",
            "Requirement already satisfied: charset-normalizer<4,>=2 in /usr/local/lib/python3.10/dist-packages (from requests->panel) (3.3.2)\n",
            "Requirement already satisfied: idna<4,>=2.5 in /usr/local/lib/python3.10/dist-packages (from requests->panel) (3.7)\n",
            "Requirement already satisfied: urllib3<3,>=1.21.1 in /usr/local/lib/python3.10/dist-packages (from requests->panel) (2.0.7)\n",
            "Requirement already satisfied: certifi>=2017.4.17 in /usr/local/lib/python3.10/dist-packages (from requests->panel) (2024.2.2)\n",
            "Requirement already satisfied: MarkupSafe>=2.0 in /usr/local/lib/python3.10/dist-packages (from Jinja2>=2.9->bokeh<3.5.0,>=3.4.0->panel) (2.1.5)\n",
            "Installing collected packages: bokeh, panel\n",
            "  Attempting uninstall: bokeh\n",
            "    Found existing installation: bokeh 3.3.4\n",
            "    Uninstalling bokeh-3.3.4:\n",
            "      Successfully uninstalled bokeh-3.3.4\n",
            "  Attempting uninstall: panel\n",
            "    Found existing installation: panel 1.3.8\n",
            "    Uninstalling panel-1.3.8:\n",
            "      Successfully uninstalled panel-1.3.8\n",
            "Successfully installed bokeh-3.4.1 panel-1.4.2\n",
            "Requirement already satisfied: bokeh in /usr/local/lib/python3.10/dist-packages (3.4.1)\n",
            "Requirement already satisfied: Jinja2>=2.9 in /usr/local/lib/python3.10/dist-packages (from bokeh) (3.1.3)\n",
            "Requirement already satisfied: contourpy>=1.2 in /usr/local/lib/python3.10/dist-packages (from bokeh) (1.2.1)\n",
            "Requirement already satisfied: numpy>=1.16 in /usr/local/lib/python3.10/dist-packages (from bokeh) (1.25.2)\n",
            "Requirement already satisfied: packaging>=16.8 in /usr/local/lib/python3.10/dist-packages (from bokeh) (24.0)\n",
            "Requirement already satisfied: pandas>=1.2 in /usr/local/lib/python3.10/dist-packages (from bokeh) (2.0.3)\n",
            "Requirement already satisfied: pillow>=7.1.0 in /usr/local/lib/python3.10/dist-packages (from bokeh) (9.4.0)\n",
            "Requirement already satisfied: PyYAML>=3.10 in /usr/local/lib/python3.10/dist-packages (from bokeh) (6.0.1)\n",
            "Requirement already satisfied: tornado>=6.2 in /usr/local/lib/python3.10/dist-packages (from bokeh) (6.3.3)\n",
            "Requirement already satisfied: xyzservices>=2021.09.1 in /usr/local/lib/python3.10/dist-packages (from bokeh) (2024.4.0)\n",
            "Requirement already satisfied: MarkupSafe>=2.0 in /usr/local/lib/python3.10/dist-packages (from Jinja2>=2.9->bokeh) (2.1.5)\n",
            "Requirement already satisfied: python-dateutil>=2.8.2 in /usr/local/lib/python3.10/dist-packages (from pandas>=1.2->bokeh) (2.8.2)\n",
            "Requirement already satisfied: pytz>=2020.1 in /usr/local/lib/python3.10/dist-packages (from pandas>=1.2->bokeh) (2023.4)\n",
            "Requirement already satisfied: tzdata>=2022.1 in /usr/local/lib/python3.10/dist-packages (from pandas>=1.2->bokeh) (2024.1)\n",
            "Requirement already satisfied: six>=1.5 in /usr/local/lib/python3.10/dist-packages (from python-dateutil>=2.8.2->pandas>=1.2->bokeh) (1.16.0)\n",
            "Collecting imblearn\n",
            "  Downloading imblearn-0.0-py2.py3-none-any.whl (1.9 kB)\n",
            "Requirement already satisfied: imbalanced-learn in /usr/local/lib/python3.10/dist-packages (from imblearn) (0.10.1)\n",
            "Requirement already satisfied: numpy>=1.17.3 in /usr/local/lib/python3.10/dist-packages (from imbalanced-learn->imblearn) (1.25.2)\n",
            "Requirement already satisfied: scipy>=1.3.2 in /usr/local/lib/python3.10/dist-packages (from imbalanced-learn->imblearn) (1.11.4)\n",
            "Requirement already satisfied: scikit-learn>=1.0.2 in /usr/local/lib/python3.10/dist-packages (from imbalanced-learn->imblearn) (1.2.2)\n",
            "Requirement already satisfied: joblib>=1.1.1 in /usr/local/lib/python3.10/dist-packages (from imbalanced-learn->imblearn) (1.4.0)\n",
            "Requirement already satisfied: threadpoolctl>=2.0.0 in /usr/local/lib/python3.10/dist-packages (from imbalanced-learn->imblearn) (3.4.0)\n",
            "Installing collected packages: imblearn\n",
            "Successfully installed imblearn-0.0\n",
            "Collecting sklearn\n",
            "  Downloading sklearn-0.0.post12.tar.gz (2.6 kB)\n",
            "  \u001b[1;31merror\u001b[0m: \u001b[1msubprocess-exited-with-error\u001b[0m\n",
            "  \n",
            "  \u001b[31m×\u001b[0m \u001b[32mpython setup.py egg_info\u001b[0m did not run successfully.\n",
            "  \u001b[31m│\u001b[0m exit code: \u001b[1;36m1\u001b[0m\n",
            "  \u001b[31m╰─>\u001b[0m See above for output.\n",
            "  \n",
            "  \u001b[1;35mnote\u001b[0m: This error originates from a subprocess, and is likely not a problem with pip.\n",
            "  Preparing metadata (setup.py) ... \u001b[?25l\u001b[?25herror\n",
            "\u001b[1;31merror\u001b[0m: \u001b[1mmetadata-generation-failed\u001b[0m\n",
            "\n",
            "\u001b[31m×\u001b[0m Encountered error while generating package metadata.\n",
            "\u001b[31m╰─>\u001b[0m See above for output.\n",
            "\n",
            "\u001b[1;35mnote\u001b[0m: This is an issue with the package mentioned above, not pip.\n",
            "\u001b[1;36mhint\u001b[0m: See above for details.\n"
          ]
        },
        {
          "output_type": "display_data",
          "data": {
            "application/javascript": [
              "(function(root) {\n",
              "  function now() {\n",
              "    return new Date();\n",
              "  }\n",
              "\n",
              "  var force = true;\n",
              "  var py_version = '3.4.1'.replace('rc', '-rc.').replace('.dev', '-dev.');\n",
              "  var reloading = false;\n",
              "  var Bokeh = root.Bokeh;\n",
              "\n",
              "  if (typeof (root._bokeh_timeout) === \"undefined\" || force) {\n",
              "    root._bokeh_timeout = Date.now() + 5000;\n",
              "    root._bokeh_failed_load = false;\n",
              "  }\n",
              "\n",
              "  function run_callbacks() {\n",
              "    try {\n",
              "      root._bokeh_onload_callbacks.forEach(function(callback) {\n",
              "        if (callback != null)\n",
              "          callback();\n",
              "      });\n",
              "    } finally {\n",
              "      delete root._bokeh_onload_callbacks;\n",
              "    }\n",
              "    console.debug(\"Bokeh: all callbacks have finished\");\n",
              "  }\n",
              "\n",
              "  function load_libs(css_urls, js_urls, js_modules, js_exports, callback) {\n",
              "    if (css_urls == null) css_urls = [];\n",
              "    if (js_urls == null) js_urls = [];\n",
              "    if (js_modules == null) js_modules = [];\n",
              "    if (js_exports == null) js_exports = {};\n",
              "\n",
              "    root._bokeh_onload_callbacks.push(callback);\n",
              "\n",
              "    if (root._bokeh_is_loading > 0) {\n",
              "      console.debug(\"Bokeh: BokehJS is being loaded, scheduling callback at\", now());\n",
              "      return null;\n",
              "    }\n",
              "    if (js_urls.length === 0 && js_modules.length === 0 && Object.keys(js_exports).length === 0) {\n",
              "      run_callbacks();\n",
              "      return null;\n",
              "    }\n",
              "    if (!reloading) {\n",
              "      console.debug(\"Bokeh: BokehJS not loaded, scheduling load and callback at\", now());\n",
              "    }\n",
              "\n",
              "    function on_load() {\n",
              "      root._bokeh_is_loading--;\n",
              "      if (root._bokeh_is_loading === 0) {\n",
              "        console.debug(\"Bokeh: all BokehJS libraries/stylesheets loaded\");\n",
              "        run_callbacks()\n",
              "      }\n",
              "    }\n",
              "    window._bokeh_on_load = on_load\n",
              "\n",
              "    function on_error() {\n",
              "      console.error(\"failed to load \" + url);\n",
              "    }\n",
              "\n",
              "    var skip = [];\n",
              "    if (window.requirejs) {\n",
              "      window.requirejs.config({'packages': {}, 'paths': {}, 'shim': {}});\n",
              "      root._bokeh_is_loading = css_urls.length + 0;\n",
              "    } else {\n",
              "      root._bokeh_is_loading = css_urls.length + js_urls.length + js_modules.length + Object.keys(js_exports).length;\n",
              "    }\n",
              "\n",
              "    var existing_stylesheets = []\n",
              "    var links = document.getElementsByTagName('link')\n",
              "    for (var i = 0; i < links.length; i++) {\n",
              "      var link = links[i]\n",
              "      if (link.href != null) {\n",
              "\texisting_stylesheets.push(link.href)\n",
              "      }\n",
              "    }\n",
              "    for (var i = 0; i < css_urls.length; i++) {\n",
              "      var url = css_urls[i];\n",
              "      if (existing_stylesheets.indexOf(url) !== -1) {\n",
              "\ton_load()\n",
              "\tcontinue;\n",
              "      }\n",
              "      const element = document.createElement(\"link\");\n",
              "      element.onload = on_load;\n",
              "      element.onerror = on_error;\n",
              "      element.rel = \"stylesheet\";\n",
              "      element.type = \"text/css\";\n",
              "      element.href = url;\n",
              "      console.debug(\"Bokeh: injecting link tag for BokehJS stylesheet: \", url);\n",
              "      document.body.appendChild(element);\n",
              "    }    var existing_scripts = []\n",
              "    var scripts = document.getElementsByTagName('script')\n",
              "    for (var i = 0; i < scripts.length; i++) {\n",
              "      var script = scripts[i]\n",
              "      if (script.src != null) {\n",
              "\texisting_scripts.push(script.src)\n",
              "      }\n",
              "    }\n",
              "    for (var i = 0; i < js_urls.length; i++) {\n",
              "      var url = js_urls[i];\n",
              "      if (skip.indexOf(url) !== -1 || existing_scripts.indexOf(url) !== -1) {\n",
              "\tif (!window.requirejs) {\n",
              "\t  on_load();\n",
              "\t}\n",
              "\tcontinue;\n",
              "      }\n",
              "      var element = document.createElement('script');\n",
              "      element.onload = on_load;\n",
              "      element.onerror = on_error;\n",
              "      element.async = false;\n",
              "      element.src = url;\n",
              "      console.debug(\"Bokeh: injecting script tag for BokehJS library: \", url);\n",
              "      document.head.appendChild(element);\n",
              "    }\n",
              "    for (var i = 0; i < js_modules.length; i++) {\n",
              "      var url = js_modules[i];\n",
              "      if (skip.indexOf(url) !== -1 || existing_scripts.indexOf(url) !== -1) {\n",
              "\tif (!window.requirejs) {\n",
              "\t  on_load();\n",
              "\t}\n",
              "\tcontinue;\n",
              "      }\n",
              "      var element = document.createElement('script');\n",
              "      element.onload = on_load;\n",
              "      element.onerror = on_error;\n",
              "      element.async = false;\n",
              "      element.src = url;\n",
              "      element.type = \"module\";\n",
              "      console.debug(\"Bokeh: injecting script tag for BokehJS library: \", url);\n",
              "      document.head.appendChild(element);\n",
              "    }\n",
              "    for (const name in js_exports) {\n",
              "      var url = js_exports[name];\n",
              "      if (skip.indexOf(url) >= 0 || root[name] != null) {\n",
              "\tif (!window.requirejs) {\n",
              "\t  on_load();\n",
              "\t}\n",
              "\tcontinue;\n",
              "      }\n",
              "      var element = document.createElement('script');\n",
              "      element.onerror = on_error;\n",
              "      element.async = false;\n",
              "      element.type = \"module\";\n",
              "      console.debug(\"Bokeh: injecting script tag for BokehJS library: \", url);\n",
              "      element.textContent = `\n",
              "      import ${name} from \"${url}\"\n",
              "      window.${name} = ${name}\n",
              "      window._bokeh_on_load()\n",
              "      `\n",
              "      document.head.appendChild(element);\n",
              "    }\n",
              "    if (!js_urls.length && !js_modules.length) {\n",
              "      on_load()\n",
              "    }\n",
              "  };\n",
              "\n",
              "  function inject_raw_css(css) {\n",
              "    const element = document.createElement(\"style\");\n",
              "    element.appendChild(document.createTextNode(css));\n",
              "    document.body.appendChild(element);\n",
              "  }\n",
              "\n",
              "  var js_urls = [\"https://cdn.bokeh.org/bokeh/release/bokeh-3.4.1.min.js\", \"https://cdn.bokeh.org/bokeh/release/bokeh-gl-3.4.1.min.js\", \"https://cdn.bokeh.org/bokeh/release/bokeh-widgets-3.4.1.min.js\", \"https://cdn.bokeh.org/bokeh/release/bokeh-tables-3.4.1.min.js\", \"https://cdn.holoviz.org/panel/1.4.2/dist/panel.min.js\"];\n",
              "  var js_modules = [];\n",
              "  var js_exports = {};\n",
              "  var css_urls = [];\n",
              "  var inline_js = [    function(Bokeh) {\n",
              "      Bokeh.set_log_level(\"info\");\n",
              "    },\n",
              "function(Bokeh) {} // ensure no trailing comma for IE\n",
              "  ];\n",
              "\n",
              "  function run_inline_js() {\n",
              "    if ((root.Bokeh !== undefined) || (force === true)) {\n",
              "      for (var i = 0; i < inline_js.length; i++) {\n",
              "\ttry {\n",
              "          inline_js[i].call(root, root.Bokeh);\n",
              "\t} catch(e) {\n",
              "\t  if (!reloading) {\n",
              "\t    throw e;\n",
              "\t  }\n",
              "\t}\n",
              "      }\n",
              "      // Cache old bokeh versions\n",
              "      if (Bokeh != undefined && !reloading) {\n",
              "\tvar NewBokeh = root.Bokeh;\n",
              "\tif (Bokeh.versions === undefined) {\n",
              "\t  Bokeh.versions = new Map();\n",
              "\t}\n",
              "\tif (NewBokeh.version !== Bokeh.version) {\n",
              "\t  Bokeh.versions.set(NewBokeh.version, NewBokeh)\n",
              "\t}\n",
              "\troot.Bokeh = Bokeh;\n",
              "      }} else if (Date.now() < root._bokeh_timeout) {\n",
              "      setTimeout(run_inline_js, 100);\n",
              "    } else if (!root._bokeh_failed_load) {\n",
              "      console.log(\"Bokeh: BokehJS failed to load within specified timeout.\");\n",
              "      root._bokeh_failed_load = true;\n",
              "    }\n",
              "    root._bokeh_is_initializing = false\n",
              "  }\n",
              "\n",
              "  function load_or_wait() {\n",
              "    // Implement a backoff loop that tries to ensure we do not load multiple\n",
              "    // versions of Bokeh and its dependencies at the same time.\n",
              "    // In recent versions we use the root._bokeh_is_initializing flag\n",
              "    // to determine whether there is an ongoing attempt to initialize\n",
              "    // bokeh, however for backward compatibility we also try to ensure\n",
              "    // that we do not start loading a newer (Panel>=1.0 and Bokeh>3) version\n",
              "    // before older versions are fully initialized.\n",
              "    if (root._bokeh_is_initializing && Date.now() > root._bokeh_timeout) {\n",
              "      root._bokeh_is_initializing = false;\n",
              "      root._bokeh_onload_callbacks = undefined;\n",
              "      console.log(\"Bokeh: BokehJS was loaded multiple times but one version failed to initialize.\");\n",
              "      load_or_wait();\n",
              "    } else if (root._bokeh_is_initializing || (typeof root._bokeh_is_initializing === \"undefined\" && root._bokeh_onload_callbacks !== undefined)) {\n",
              "      setTimeout(load_or_wait, 100);\n",
              "    } else {\n",
              "      root._bokeh_is_initializing = true\n",
              "      root._bokeh_onload_callbacks = []\n",
              "      var bokeh_loaded = Bokeh != null && (Bokeh.version === py_version || (Bokeh.versions !== undefined && Bokeh.versions.has(py_version)));\n",
              "      if (!reloading && !bokeh_loaded) {\n",
              "\troot.Bokeh = undefined;\n",
              "      }\n",
              "      load_libs(css_urls, js_urls, js_modules, js_exports, function() {\n",
              "\tconsole.debug(\"Bokeh: BokehJS plotting callback run at\", now());\n",
              "\trun_inline_js();\n",
              "      });\n",
              "    }\n",
              "  }\n",
              "  // Give older versions of the autoload script a head-start to ensure\n",
              "  // they initialize before we start loading newer version.\n",
              "  setTimeout(load_or_wait, 100)\n",
              "}(window));"
            ],
            "application/vnd.holoviews_load.v0+json": "(function(root) {\n  function now() {\n    return new Date();\n  }\n\n  var force = true;\n  var py_version = '3.4.1'.replace('rc', '-rc.').replace('.dev', '-dev.');\n  var reloading = false;\n  var Bokeh = root.Bokeh;\n\n  if (typeof (root._bokeh_timeout) === \"undefined\" || force) {\n    root._bokeh_timeout = Date.now() + 5000;\n    root._bokeh_failed_load = false;\n  }\n\n  function run_callbacks() {\n    try {\n      root._bokeh_onload_callbacks.forEach(function(callback) {\n        if (callback != null)\n          callback();\n      });\n    } finally {\n      delete root._bokeh_onload_callbacks;\n    }\n    console.debug(\"Bokeh: all callbacks have finished\");\n  }\n\n  function load_libs(css_urls, js_urls, js_modules, js_exports, callback) {\n    if (css_urls == null) css_urls = [];\n    if (js_urls == null) js_urls = [];\n    if (js_modules == null) js_modules = [];\n    if (js_exports == null) js_exports = {};\n\n    root._bokeh_onload_callbacks.push(callback);\n\n    if (root._bokeh_is_loading > 0) {\n      console.debug(\"Bokeh: BokehJS is being loaded, scheduling callback at\", now());\n      return null;\n    }\n    if (js_urls.length === 0 && js_modules.length === 0 && Object.keys(js_exports).length === 0) {\n      run_callbacks();\n      return null;\n    }\n    if (!reloading) {\n      console.debug(\"Bokeh: BokehJS not loaded, scheduling load and callback at\", now());\n    }\n\n    function on_load() {\n      root._bokeh_is_loading--;\n      if (root._bokeh_is_loading === 0) {\n        console.debug(\"Bokeh: all BokehJS libraries/stylesheets loaded\");\n        run_callbacks()\n      }\n    }\n    window._bokeh_on_load = on_load\n\n    function on_error() {\n      console.error(\"failed to load \" + url);\n    }\n\n    var skip = [];\n    if (window.requirejs) {\n      window.requirejs.config({'packages': {}, 'paths': {}, 'shim': {}});\n      root._bokeh_is_loading = css_urls.length + 0;\n    } else {\n      root._bokeh_is_loading = css_urls.length + js_urls.length + js_modules.length + Object.keys(js_exports).length;\n    }\n\n    var existing_stylesheets = []\n    var links = document.getElementsByTagName('link')\n    for (var i = 0; i < links.length; i++) {\n      var link = links[i]\n      if (link.href != null) {\n\texisting_stylesheets.push(link.href)\n      }\n    }\n    for (var i = 0; i < css_urls.length; i++) {\n      var url = css_urls[i];\n      if (existing_stylesheets.indexOf(url) !== -1) {\n\ton_load()\n\tcontinue;\n      }\n      const element = document.createElement(\"link\");\n      element.onload = on_load;\n      element.onerror = on_error;\n      element.rel = \"stylesheet\";\n      element.type = \"text/css\";\n      element.href = url;\n      console.debug(\"Bokeh: injecting link tag for BokehJS stylesheet: \", url);\n      document.body.appendChild(element);\n    }    var existing_scripts = []\n    var scripts = document.getElementsByTagName('script')\n    for (var i = 0; i < scripts.length; i++) {\n      var script = scripts[i]\n      if (script.src != null) {\n\texisting_scripts.push(script.src)\n      }\n    }\n    for (var i = 0; i < js_urls.length; i++) {\n      var url = js_urls[i];\n      if (skip.indexOf(url) !== -1 || existing_scripts.indexOf(url) !== -1) {\n\tif (!window.requirejs) {\n\t  on_load();\n\t}\n\tcontinue;\n      }\n      var element = document.createElement('script');\n      element.onload = on_load;\n      element.onerror = on_error;\n      element.async = false;\n      element.src = url;\n      console.debug(\"Bokeh: injecting script tag for BokehJS library: \", url);\n      document.head.appendChild(element);\n    }\n    for (var i = 0; i < js_modules.length; i++) {\n      var url = js_modules[i];\n      if (skip.indexOf(url) !== -1 || existing_scripts.indexOf(url) !== -1) {\n\tif (!window.requirejs) {\n\t  on_load();\n\t}\n\tcontinue;\n      }\n      var element = document.createElement('script');\n      element.onload = on_load;\n      element.onerror = on_error;\n      element.async = false;\n      element.src = url;\n      element.type = \"module\";\n      console.debug(\"Bokeh: injecting script tag for BokehJS library: \", url);\n      document.head.appendChild(element);\n    }\n    for (const name in js_exports) {\n      var url = js_exports[name];\n      if (skip.indexOf(url) >= 0 || root[name] != null) {\n\tif (!window.requirejs) {\n\t  on_load();\n\t}\n\tcontinue;\n      }\n      var element = document.createElement('script');\n      element.onerror = on_error;\n      element.async = false;\n      element.type = \"module\";\n      console.debug(\"Bokeh: injecting script tag for BokehJS library: \", url);\n      element.textContent = `\n      import ${name} from \"${url}\"\n      window.${name} = ${name}\n      window._bokeh_on_load()\n      `\n      document.head.appendChild(element);\n    }\n    if (!js_urls.length && !js_modules.length) {\n      on_load()\n    }\n  };\n\n  function inject_raw_css(css) {\n    const element = document.createElement(\"style\");\n    element.appendChild(document.createTextNode(css));\n    document.body.appendChild(element);\n  }\n\n  var js_urls = [\"https://cdn.bokeh.org/bokeh/release/bokeh-3.4.1.min.js\", \"https://cdn.bokeh.org/bokeh/release/bokeh-gl-3.4.1.min.js\", \"https://cdn.bokeh.org/bokeh/release/bokeh-widgets-3.4.1.min.js\", \"https://cdn.bokeh.org/bokeh/release/bokeh-tables-3.4.1.min.js\", \"https://cdn.holoviz.org/panel/1.4.2/dist/panel.min.js\"];\n  var js_modules = [];\n  var js_exports = {};\n  var css_urls = [];\n  var inline_js = [    function(Bokeh) {\n      Bokeh.set_log_level(\"info\");\n    },\nfunction(Bokeh) {} // ensure no trailing comma for IE\n  ];\n\n  function run_inline_js() {\n    if ((root.Bokeh !== undefined) || (force === true)) {\n      for (var i = 0; i < inline_js.length; i++) {\n\ttry {\n          inline_js[i].call(root, root.Bokeh);\n\t} catch(e) {\n\t  if (!reloading) {\n\t    throw e;\n\t  }\n\t}\n      }\n      // Cache old bokeh versions\n      if (Bokeh != undefined && !reloading) {\n\tvar NewBokeh = root.Bokeh;\n\tif (Bokeh.versions === undefined) {\n\t  Bokeh.versions = new Map();\n\t}\n\tif (NewBokeh.version !== Bokeh.version) {\n\t  Bokeh.versions.set(NewBokeh.version, NewBokeh)\n\t}\n\troot.Bokeh = Bokeh;\n      }} else if (Date.now() < root._bokeh_timeout) {\n      setTimeout(run_inline_js, 100);\n    } else if (!root._bokeh_failed_load) {\n      console.log(\"Bokeh: BokehJS failed to load within specified timeout.\");\n      root._bokeh_failed_load = true;\n    }\n    root._bokeh_is_initializing = false\n  }\n\n  function load_or_wait() {\n    // Implement a backoff loop that tries to ensure we do not load multiple\n    // versions of Bokeh and its dependencies at the same time.\n    // In recent versions we use the root._bokeh_is_initializing flag\n    // to determine whether there is an ongoing attempt to initialize\n    // bokeh, however for backward compatibility we also try to ensure\n    // that we do not start loading a newer (Panel>=1.0 and Bokeh>3) version\n    // before older versions are fully initialized.\n    if (root._bokeh_is_initializing && Date.now() > root._bokeh_timeout) {\n      root._bokeh_is_initializing = false;\n      root._bokeh_onload_callbacks = undefined;\n      console.log(\"Bokeh: BokehJS was loaded multiple times but one version failed to initialize.\");\n      load_or_wait();\n    } else if (root._bokeh_is_initializing || (typeof root._bokeh_is_initializing === \"undefined\" && root._bokeh_onload_callbacks !== undefined)) {\n      setTimeout(load_or_wait, 100);\n    } else {\n      root._bokeh_is_initializing = true\n      root._bokeh_onload_callbacks = []\n      var bokeh_loaded = Bokeh != null && (Bokeh.version === py_version || (Bokeh.versions !== undefined && Bokeh.versions.has(py_version)));\n      if (!reloading && !bokeh_loaded) {\n\troot.Bokeh = undefined;\n      }\n      load_libs(css_urls, js_urls, js_modules, js_exports, function() {\n\tconsole.debug(\"Bokeh: BokehJS plotting callback run at\", now());\n\trun_inline_js();\n      });\n    }\n  }\n  // Give older versions of the autoload script a head-start to ensure\n  // they initialize before we start loading newer version.\n  setTimeout(load_or_wait, 100)\n}(window));"
          },
          "metadata": {}
        },
        {
          "output_type": "display_data",
          "data": {
            "application/vnd.holoviews_load.v0+json": "\nif ((window.PyViz === undefined) || (window.PyViz instanceof HTMLElement)) {\n  window.PyViz = {comms: {}, comm_status:{}, kernels:{}, receivers: {}, plot_index: []}\n}\n\n\n    function JupyterCommManager() {\n    }\n\n    JupyterCommManager.prototype.register_target = function(plot_id, comm_id, msg_handler) {\n      if (window.comm_manager || ((window.Jupyter !== undefined) && (Jupyter.notebook.kernel != null))) {\n        var comm_manager = window.comm_manager || Jupyter.notebook.kernel.comm_manager;\n        comm_manager.register_target(comm_id, function(comm) {\n          comm.on_msg(msg_handler);\n        });\n      } else if ((plot_id in window.PyViz.kernels) && (window.PyViz.kernels[plot_id])) {\n        window.PyViz.kernels[plot_id].registerCommTarget(comm_id, function(comm) {\n          comm.onMsg = msg_handler;\n        });\n      } else if (typeof google != 'undefined' && google.colab.kernel != null) {\n        google.colab.kernel.comms.registerTarget(comm_id, (comm) => {\n          var messages = comm.messages[Symbol.asyncIterator]();\n          function processIteratorResult(result) {\n            var message = result.value;\n            console.log(message)\n            var content = {data: message.data, comm_id};\n            var buffers = []\n            for (var buffer of message.buffers || []) {\n              buffers.push(new DataView(buffer))\n            }\n            var metadata = message.metadata || {};\n            var msg = {content, buffers, metadata}\n            msg_handler(msg);\n            return messages.next().then(processIteratorResult);\n          }\n          return messages.next().then(processIteratorResult);\n        })\n      }\n    }\n\n    JupyterCommManager.prototype.get_client_comm = function(plot_id, comm_id, msg_handler) {\n      if (comm_id in window.PyViz.comms) {\n        return window.PyViz.comms[comm_id];\n      } else if (window.comm_manager || ((window.Jupyter !== undefined) && (Jupyter.notebook.kernel != null))) {\n        var comm_manager = window.comm_manager || Jupyter.notebook.kernel.comm_manager;\n        var comm = comm_manager.new_comm(comm_id, {}, {}, {}, comm_id);\n        if (msg_handler) {\n          comm.on_msg(msg_handler);\n        }\n      } else if ((plot_id in window.PyViz.kernels) && (window.PyViz.kernels[plot_id])) {\n        var comm = window.PyViz.kernels[plot_id].connectToComm(comm_id);\n        comm.open();\n        if (msg_handler) {\n          comm.onMsg = msg_handler;\n        }\n      } else if (typeof google != 'undefined' && google.colab.kernel != null) {\n        var comm_promise = google.colab.kernel.comms.open(comm_id)\n        comm_promise.then((comm) => {\n          window.PyViz.comms[comm_id] = comm;\n          if (msg_handler) {\n            var messages = comm.messages[Symbol.asyncIterator]();\n            function processIteratorResult(result) {\n              var message = result.value;\n              var content = {data: message.data};\n              var metadata = message.metadata || {comm_id};\n              var msg = {content, metadata}\n              msg_handler(msg);\n              return messages.next().then(processIteratorResult);\n            }\n            return messages.next().then(processIteratorResult);\n          }\n        }) \n        var sendClosure = (data, metadata, buffers, disposeOnDone) => {\n          return comm_promise.then((comm) => {\n            comm.send(data, metadata, buffers, disposeOnDone);\n          });\n        };\n        var comm = {\n          send: sendClosure\n        };\n      }\n      window.PyViz.comms[comm_id] = comm;\n      return comm;\n    }\n    window.PyViz.comm_manager = new JupyterCommManager();\n    \n\n\nvar JS_MIME_TYPE = 'application/javascript';\nvar HTML_MIME_TYPE = 'text/html';\nvar EXEC_MIME_TYPE = 'application/vnd.holoviews_exec.v0+json';\nvar CLASS_NAME = 'output';\n\n/**\n * Render data to the DOM node\n */\nfunction render(props, node) {\n  var div = document.createElement(\"div\");\n  var script = document.createElement(\"script\");\n  node.appendChild(div);\n  node.appendChild(script);\n}\n\n/**\n * Handle when a new output is added\n */\nfunction handle_add_output(event, handle) {\n  var output_area = handle.output_area;\n  var output = handle.output;\n  if ((output.data == undefined) || (!output.data.hasOwnProperty(EXEC_MIME_TYPE))) {\n    return\n  }\n  var id = output.metadata[EXEC_MIME_TYPE][\"id\"];\n  var toinsert = output_area.element.find(\".\" + CLASS_NAME.split(' ')[0]);\n  if (id !== undefined) {\n    var nchildren = toinsert.length;\n    var html_node = toinsert[nchildren-1].children[0];\n    html_node.innerHTML = output.data[HTML_MIME_TYPE];\n    var scripts = [];\n    var nodelist = html_node.querySelectorAll(\"script\");\n    for (var i in nodelist) {\n      if (nodelist.hasOwnProperty(i)) {\n        scripts.push(nodelist[i])\n      }\n    }\n\n    scripts.forEach( function (oldScript) {\n      var newScript = document.createElement(\"script\");\n      var attrs = [];\n      var nodemap = oldScript.attributes;\n      for (var j in nodemap) {\n        if (nodemap.hasOwnProperty(j)) {\n          attrs.push(nodemap[j])\n        }\n      }\n      attrs.forEach(function(attr) { newScript.setAttribute(attr.name, attr.value) });\n      newScript.appendChild(document.createTextNode(oldScript.innerHTML));\n      oldScript.parentNode.replaceChild(newScript, oldScript);\n    });\n    if (JS_MIME_TYPE in output.data) {\n      toinsert[nchildren-1].children[1].textContent = output.data[JS_MIME_TYPE];\n    }\n    output_area._hv_plot_id = id;\n    if ((window.Bokeh !== undefined) && (id in Bokeh.index)) {\n      window.PyViz.plot_index[id] = Bokeh.index[id];\n    } else {\n      window.PyViz.plot_index[id] = null;\n    }\n  } else if (output.metadata[EXEC_MIME_TYPE][\"server_id\"] !== undefined) {\n    var bk_div = document.createElement(\"div\");\n    bk_div.innerHTML = output.data[HTML_MIME_TYPE];\n    var script_attrs = bk_div.children[0].attributes;\n    for (var i = 0; i < script_attrs.length; i++) {\n      toinsert[toinsert.length - 1].childNodes[1].setAttribute(script_attrs[i].name, script_attrs[i].value);\n    }\n    // store reference to server id on output_area\n    output_area._bokeh_server_id = output.metadata[EXEC_MIME_TYPE][\"server_id\"];\n  }\n}\n\n/**\n * Handle when an output is cleared or removed\n */\nfunction handle_clear_output(event, handle) {\n  var id = handle.cell.output_area._hv_plot_id;\n  var server_id = handle.cell.output_area._bokeh_server_id;\n  if (((id === undefined) || !(id in PyViz.plot_index)) && (server_id !== undefined)) { return; }\n  var comm = window.PyViz.comm_manager.get_client_comm(\"hv-extension-comm\", \"hv-extension-comm\", function () {});\n  if (server_id !== null) {\n    comm.send({event_type: 'server_delete', 'id': server_id});\n    return;\n  } else if (comm !== null) {\n    comm.send({event_type: 'delete', 'id': id});\n  }\n  delete PyViz.plot_index[id];\n  if ((window.Bokeh !== undefined) & (id in window.Bokeh.index)) {\n    var doc = window.Bokeh.index[id].model.document\n    doc.clear();\n    const i = window.Bokeh.documents.indexOf(doc);\n    if (i > -1) {\n      window.Bokeh.documents.splice(i, 1);\n    }\n  }\n}\n\n/**\n * Handle kernel restart event\n */\nfunction handle_kernel_cleanup(event, handle) {\n  delete PyViz.comms[\"hv-extension-comm\"];\n  window.PyViz.plot_index = {}\n}\n\n/**\n * Handle update_display_data messages\n */\nfunction handle_update_output(event, handle) {\n  handle_clear_output(event, {cell: {output_area: handle.output_area}})\n  handle_add_output(event, handle)\n}\n\nfunction register_renderer(events, OutputArea) {\n  function append_mime(data, metadata, element) {\n    // create a DOM node to render to\n    var toinsert = this.create_output_subarea(\n    metadata,\n    CLASS_NAME,\n    EXEC_MIME_TYPE\n    );\n    this.keyboard_manager.register_events(toinsert);\n    // Render to node\n    var props = {data: data, metadata: metadata[EXEC_MIME_TYPE]};\n    render(props, toinsert[0]);\n    element.append(toinsert);\n    return toinsert\n  }\n\n  events.on('output_added.OutputArea', handle_add_output);\n  events.on('output_updated.OutputArea', handle_update_output);\n  events.on('clear_output.CodeCell', handle_clear_output);\n  events.on('delete.Cell', handle_clear_output);\n  events.on('kernel_ready.Kernel', handle_kernel_cleanup);\n\n  OutputArea.prototype.register_mime_type(EXEC_MIME_TYPE, append_mime, {\n    safe: true,\n    index: 0\n  });\n}\n\nif (window.Jupyter !== undefined) {\n  try {\n    var events = require('base/js/events');\n    var OutputArea = require('notebook/js/outputarea').OutputArea;\n    if (OutputArea.prototype.mime_types().indexOf(EXEC_MIME_TYPE) == -1) {\n      register_renderer(events, OutputArea);\n    }\n  } catch(err) {\n  }\n}\n",
            "application/javascript": [
              "\n",
              "if ((window.PyViz === undefined) || (window.PyViz instanceof HTMLElement)) {\n",
              "  window.PyViz = {comms: {}, comm_status:{}, kernels:{}, receivers: {}, plot_index: []}\n",
              "}\n",
              "\n",
              "\n",
              "    function JupyterCommManager() {\n",
              "    }\n",
              "\n",
              "    JupyterCommManager.prototype.register_target = function(plot_id, comm_id, msg_handler) {\n",
              "      if (window.comm_manager || ((window.Jupyter !== undefined) && (Jupyter.notebook.kernel != null))) {\n",
              "        var comm_manager = window.comm_manager || Jupyter.notebook.kernel.comm_manager;\n",
              "        comm_manager.register_target(comm_id, function(comm) {\n",
              "          comm.on_msg(msg_handler);\n",
              "        });\n",
              "      } else if ((plot_id in window.PyViz.kernels) && (window.PyViz.kernels[plot_id])) {\n",
              "        window.PyViz.kernels[plot_id].registerCommTarget(comm_id, function(comm) {\n",
              "          comm.onMsg = msg_handler;\n",
              "        });\n",
              "      } else if (typeof google != 'undefined' && google.colab.kernel != null) {\n",
              "        google.colab.kernel.comms.registerTarget(comm_id, (comm) => {\n",
              "          var messages = comm.messages[Symbol.asyncIterator]();\n",
              "          function processIteratorResult(result) {\n",
              "            var message = result.value;\n",
              "            console.log(message)\n",
              "            var content = {data: message.data, comm_id};\n",
              "            var buffers = []\n",
              "            for (var buffer of message.buffers || []) {\n",
              "              buffers.push(new DataView(buffer))\n",
              "            }\n",
              "            var metadata = message.metadata || {};\n",
              "            var msg = {content, buffers, metadata}\n",
              "            msg_handler(msg);\n",
              "            return messages.next().then(processIteratorResult);\n",
              "          }\n",
              "          return messages.next().then(processIteratorResult);\n",
              "        })\n",
              "      }\n",
              "    }\n",
              "\n",
              "    JupyterCommManager.prototype.get_client_comm = function(plot_id, comm_id, msg_handler) {\n",
              "      if (comm_id in window.PyViz.comms) {\n",
              "        return window.PyViz.comms[comm_id];\n",
              "      } else if (window.comm_manager || ((window.Jupyter !== undefined) && (Jupyter.notebook.kernel != null))) {\n",
              "        var comm_manager = window.comm_manager || Jupyter.notebook.kernel.comm_manager;\n",
              "        var comm = comm_manager.new_comm(comm_id, {}, {}, {}, comm_id);\n",
              "        if (msg_handler) {\n",
              "          comm.on_msg(msg_handler);\n",
              "        }\n",
              "      } else if ((plot_id in window.PyViz.kernels) && (window.PyViz.kernels[plot_id])) {\n",
              "        var comm = window.PyViz.kernels[plot_id].connectToComm(comm_id);\n",
              "        comm.open();\n",
              "        if (msg_handler) {\n",
              "          comm.onMsg = msg_handler;\n",
              "        }\n",
              "      } else if (typeof google != 'undefined' && google.colab.kernel != null) {\n",
              "        var comm_promise = google.colab.kernel.comms.open(comm_id)\n",
              "        comm_promise.then((comm) => {\n",
              "          window.PyViz.comms[comm_id] = comm;\n",
              "          if (msg_handler) {\n",
              "            var messages = comm.messages[Symbol.asyncIterator]();\n",
              "            function processIteratorResult(result) {\n",
              "              var message = result.value;\n",
              "              var content = {data: message.data};\n",
              "              var metadata = message.metadata || {comm_id};\n",
              "              var msg = {content, metadata}\n",
              "              msg_handler(msg);\n",
              "              return messages.next().then(processIteratorResult);\n",
              "            }\n",
              "            return messages.next().then(processIteratorResult);\n",
              "          }\n",
              "        }) \n",
              "        var sendClosure = (data, metadata, buffers, disposeOnDone) => {\n",
              "          return comm_promise.then((comm) => {\n",
              "            comm.send(data, metadata, buffers, disposeOnDone);\n",
              "          });\n",
              "        };\n",
              "        var comm = {\n",
              "          send: sendClosure\n",
              "        };\n",
              "      }\n",
              "      window.PyViz.comms[comm_id] = comm;\n",
              "      return comm;\n",
              "    }\n",
              "    window.PyViz.comm_manager = new JupyterCommManager();\n",
              "    \n",
              "\n",
              "\n",
              "var JS_MIME_TYPE = 'application/javascript';\n",
              "var HTML_MIME_TYPE = 'text/html';\n",
              "var EXEC_MIME_TYPE = 'application/vnd.holoviews_exec.v0+json';\n",
              "var CLASS_NAME = 'output';\n",
              "\n",
              "/**\n",
              " * Render data to the DOM node\n",
              " */\n",
              "function render(props, node) {\n",
              "  var div = document.createElement(\"div\");\n",
              "  var script = document.createElement(\"script\");\n",
              "  node.appendChild(div);\n",
              "  node.appendChild(script);\n",
              "}\n",
              "\n",
              "/**\n",
              " * Handle when a new output is added\n",
              " */\n",
              "function handle_add_output(event, handle) {\n",
              "  var output_area = handle.output_area;\n",
              "  var output = handle.output;\n",
              "  if ((output.data == undefined) || (!output.data.hasOwnProperty(EXEC_MIME_TYPE))) {\n",
              "    return\n",
              "  }\n",
              "  var id = output.metadata[EXEC_MIME_TYPE][\"id\"];\n",
              "  var toinsert = output_area.element.find(\".\" + CLASS_NAME.split(' ')[0]);\n",
              "  if (id !== undefined) {\n",
              "    var nchildren = toinsert.length;\n",
              "    var html_node = toinsert[nchildren-1].children[0];\n",
              "    html_node.innerHTML = output.data[HTML_MIME_TYPE];\n",
              "    var scripts = [];\n",
              "    var nodelist = html_node.querySelectorAll(\"script\");\n",
              "    for (var i in nodelist) {\n",
              "      if (nodelist.hasOwnProperty(i)) {\n",
              "        scripts.push(nodelist[i])\n",
              "      }\n",
              "    }\n",
              "\n",
              "    scripts.forEach( function (oldScript) {\n",
              "      var newScript = document.createElement(\"script\");\n",
              "      var attrs = [];\n",
              "      var nodemap = oldScript.attributes;\n",
              "      for (var j in nodemap) {\n",
              "        if (nodemap.hasOwnProperty(j)) {\n",
              "          attrs.push(nodemap[j])\n",
              "        }\n",
              "      }\n",
              "      attrs.forEach(function(attr) { newScript.setAttribute(attr.name, attr.value) });\n",
              "      newScript.appendChild(document.createTextNode(oldScript.innerHTML));\n",
              "      oldScript.parentNode.replaceChild(newScript, oldScript);\n",
              "    });\n",
              "    if (JS_MIME_TYPE in output.data) {\n",
              "      toinsert[nchildren-1].children[1].textContent = output.data[JS_MIME_TYPE];\n",
              "    }\n",
              "    output_area._hv_plot_id = id;\n",
              "    if ((window.Bokeh !== undefined) && (id in Bokeh.index)) {\n",
              "      window.PyViz.plot_index[id] = Bokeh.index[id];\n",
              "    } else {\n",
              "      window.PyViz.plot_index[id] = null;\n",
              "    }\n",
              "  } else if (output.metadata[EXEC_MIME_TYPE][\"server_id\"] !== undefined) {\n",
              "    var bk_div = document.createElement(\"div\");\n",
              "    bk_div.innerHTML = output.data[HTML_MIME_TYPE];\n",
              "    var script_attrs = bk_div.children[0].attributes;\n",
              "    for (var i = 0; i < script_attrs.length; i++) {\n",
              "      toinsert[toinsert.length - 1].childNodes[1].setAttribute(script_attrs[i].name, script_attrs[i].value);\n",
              "    }\n",
              "    // store reference to server id on output_area\n",
              "    output_area._bokeh_server_id = output.metadata[EXEC_MIME_TYPE][\"server_id\"];\n",
              "  }\n",
              "}\n",
              "\n",
              "/**\n",
              " * Handle when an output is cleared or removed\n",
              " */\n",
              "function handle_clear_output(event, handle) {\n",
              "  var id = handle.cell.output_area._hv_plot_id;\n",
              "  var server_id = handle.cell.output_area._bokeh_server_id;\n",
              "  if (((id === undefined) || !(id in PyViz.plot_index)) && (server_id !== undefined)) { return; }\n",
              "  var comm = window.PyViz.comm_manager.get_client_comm(\"hv-extension-comm\", \"hv-extension-comm\", function () {});\n",
              "  if (server_id !== null) {\n",
              "    comm.send({event_type: 'server_delete', 'id': server_id});\n",
              "    return;\n",
              "  } else if (comm !== null) {\n",
              "    comm.send({event_type: 'delete', 'id': id});\n",
              "  }\n",
              "  delete PyViz.plot_index[id];\n",
              "  if ((window.Bokeh !== undefined) & (id in window.Bokeh.index)) {\n",
              "    var doc = window.Bokeh.index[id].model.document\n",
              "    doc.clear();\n",
              "    const i = window.Bokeh.documents.indexOf(doc);\n",
              "    if (i > -1) {\n",
              "      window.Bokeh.documents.splice(i, 1);\n",
              "    }\n",
              "  }\n",
              "}\n",
              "\n",
              "/**\n",
              " * Handle kernel restart event\n",
              " */\n",
              "function handle_kernel_cleanup(event, handle) {\n",
              "  delete PyViz.comms[\"hv-extension-comm\"];\n",
              "  window.PyViz.plot_index = {}\n",
              "}\n",
              "\n",
              "/**\n",
              " * Handle update_display_data messages\n",
              " */\n",
              "function handle_update_output(event, handle) {\n",
              "  handle_clear_output(event, {cell: {output_area: handle.output_area}})\n",
              "  handle_add_output(event, handle)\n",
              "}\n",
              "\n",
              "function register_renderer(events, OutputArea) {\n",
              "  function append_mime(data, metadata, element) {\n",
              "    // create a DOM node to render to\n",
              "    var toinsert = this.create_output_subarea(\n",
              "    metadata,\n",
              "    CLASS_NAME,\n",
              "    EXEC_MIME_TYPE\n",
              "    );\n",
              "    this.keyboard_manager.register_events(toinsert);\n",
              "    // Render to node\n",
              "    var props = {data: data, metadata: metadata[EXEC_MIME_TYPE]};\n",
              "    render(props, toinsert[0]);\n",
              "    element.append(toinsert);\n",
              "    return toinsert\n",
              "  }\n",
              "\n",
              "  events.on('output_added.OutputArea', handle_add_output);\n",
              "  events.on('output_updated.OutputArea', handle_update_output);\n",
              "  events.on('clear_output.CodeCell', handle_clear_output);\n",
              "  events.on('delete.Cell', handle_clear_output);\n",
              "  events.on('kernel_ready.Kernel', handle_kernel_cleanup);\n",
              "\n",
              "  OutputArea.prototype.register_mime_type(EXEC_MIME_TYPE, append_mime, {\n",
              "    safe: true,\n",
              "    index: 0\n",
              "  });\n",
              "}\n",
              "\n",
              "if (window.Jupyter !== undefined) {\n",
              "  try {\n",
              "    var events = require('base/js/events');\n",
              "    var OutputArea = require('notebook/js/outputarea').OutputArea;\n",
              "    if (OutputArea.prototype.mime_types().indexOf(EXEC_MIME_TYPE) == -1) {\n",
              "      register_renderer(events, OutputArea);\n",
              "    }\n",
              "  } catch(err) {\n",
              "  }\n",
              "}\n"
            ]
          },
          "metadata": {}
        },
        {
          "output_type": "display_data",
          "data": {
            "text/html": [
              "<style>*[data-root-id],\n",
              "*[data-root-id] > * {\n",
              "  box-sizing: border-box;\n",
              "  font-family: var(--jp-ui-font-family);\n",
              "  font-size: var(--jp-ui-font-size1);\n",
              "  color: var(--vscode-editor-foreground, var(--jp-ui-font-color1));\n",
              "}\n",
              "\n",
              "/* Override VSCode background color */\n",
              ".cell-output-ipywidget-background:has(\n",
              "    > .cell-output-ipywidget-background > .lm-Widget > *[data-root-id]\n",
              "  ),\n",
              ".cell-output-ipywidget-background:has(> .lm-Widget > *[data-root-id]) {\n",
              "  background-color: transparent !important;\n",
              "}\n",
              "</style>"
            ]
          },
          "metadata": {}
        },
        {
          "output_type": "display_data",
          "data": {
            "application/javascript": [
              "(function(root) {\n",
              "  function now() {\n",
              "    return new Date();\n",
              "  }\n",
              "\n",
              "  var force = true;\n",
              "  var py_version = '3.4.1'.replace('rc', '-rc.').replace('.dev', '-dev.');\n",
              "  var reloading = true;\n",
              "  var Bokeh = root.Bokeh;\n",
              "\n",
              "  if (typeof (root._bokeh_timeout) === \"undefined\" || force) {\n",
              "    root._bokeh_timeout = Date.now() + 5000;\n",
              "    root._bokeh_failed_load = false;\n",
              "  }\n",
              "\n",
              "  function run_callbacks() {\n",
              "    try {\n",
              "      root._bokeh_onload_callbacks.forEach(function(callback) {\n",
              "        if (callback != null)\n",
              "          callback();\n",
              "      });\n",
              "    } finally {\n",
              "      delete root._bokeh_onload_callbacks;\n",
              "    }\n",
              "    console.debug(\"Bokeh: all callbacks have finished\");\n",
              "  }\n",
              "\n",
              "  function load_libs(css_urls, js_urls, js_modules, js_exports, callback) {\n",
              "    if (css_urls == null) css_urls = [];\n",
              "    if (js_urls == null) js_urls = [];\n",
              "    if (js_modules == null) js_modules = [];\n",
              "    if (js_exports == null) js_exports = {};\n",
              "\n",
              "    root._bokeh_onload_callbacks.push(callback);\n",
              "\n",
              "    if (root._bokeh_is_loading > 0) {\n",
              "      console.debug(\"Bokeh: BokehJS is being loaded, scheduling callback at\", now());\n",
              "      return null;\n",
              "    }\n",
              "    if (js_urls.length === 0 && js_modules.length === 0 && Object.keys(js_exports).length === 0) {\n",
              "      run_callbacks();\n",
              "      return null;\n",
              "    }\n",
              "    if (!reloading) {\n",
              "      console.debug(\"Bokeh: BokehJS not loaded, scheduling load and callback at\", now());\n",
              "    }\n",
              "\n",
              "    function on_load() {\n",
              "      root._bokeh_is_loading--;\n",
              "      if (root._bokeh_is_loading === 0) {\n",
              "        console.debug(\"Bokeh: all BokehJS libraries/stylesheets loaded\");\n",
              "        run_callbacks()\n",
              "      }\n",
              "    }\n",
              "    window._bokeh_on_load = on_load\n",
              "\n",
              "    function on_error() {\n",
              "      console.error(\"failed to load \" + url);\n",
              "    }\n",
              "\n",
              "    var skip = [];\n",
              "    if (window.requirejs) {\n",
              "      window.requirejs.config({'packages': {}, 'paths': {}, 'shim': {}});\n",
              "      root._bokeh_is_loading = css_urls.length + 0;\n",
              "    } else {\n",
              "      root._bokeh_is_loading = css_urls.length + js_urls.length + js_modules.length + Object.keys(js_exports).length;\n",
              "    }\n",
              "\n",
              "    var existing_stylesheets = []\n",
              "    var links = document.getElementsByTagName('link')\n",
              "    for (var i = 0; i < links.length; i++) {\n",
              "      var link = links[i]\n",
              "      if (link.href != null) {\n",
              "\texisting_stylesheets.push(link.href)\n",
              "      }\n",
              "    }\n",
              "    for (var i = 0; i < css_urls.length; i++) {\n",
              "      var url = css_urls[i];\n",
              "      if (existing_stylesheets.indexOf(url) !== -1) {\n",
              "\ton_load()\n",
              "\tcontinue;\n",
              "      }\n",
              "      const element = document.createElement(\"link\");\n",
              "      element.onload = on_load;\n",
              "      element.onerror = on_error;\n",
              "      element.rel = \"stylesheet\";\n",
              "      element.type = \"text/css\";\n",
              "      element.href = url;\n",
              "      console.debug(\"Bokeh: injecting link tag for BokehJS stylesheet: \", url);\n",
              "      document.body.appendChild(element);\n",
              "    }    var existing_scripts = []\n",
              "    var scripts = document.getElementsByTagName('script')\n",
              "    for (var i = 0; i < scripts.length; i++) {\n",
              "      var script = scripts[i]\n",
              "      if (script.src != null) {\n",
              "\texisting_scripts.push(script.src)\n",
              "      }\n",
              "    }\n",
              "    for (var i = 0; i < js_urls.length; i++) {\n",
              "      var url = js_urls[i];\n",
              "      if (skip.indexOf(url) !== -1 || existing_scripts.indexOf(url) !== -1) {\n",
              "\tif (!window.requirejs) {\n",
              "\t  on_load();\n",
              "\t}\n",
              "\tcontinue;\n",
              "      }\n",
              "      var element = document.createElement('script');\n",
              "      element.onload = on_load;\n",
              "      element.onerror = on_error;\n",
              "      element.async = false;\n",
              "      element.src = url;\n",
              "      console.debug(\"Bokeh: injecting script tag for BokehJS library: \", url);\n",
              "      document.head.appendChild(element);\n",
              "    }\n",
              "    for (var i = 0; i < js_modules.length; i++) {\n",
              "      var url = js_modules[i];\n",
              "      if (skip.indexOf(url) !== -1 || existing_scripts.indexOf(url) !== -1) {\n",
              "\tif (!window.requirejs) {\n",
              "\t  on_load();\n",
              "\t}\n",
              "\tcontinue;\n",
              "      }\n",
              "      var element = document.createElement('script');\n",
              "      element.onload = on_load;\n",
              "      element.onerror = on_error;\n",
              "      element.async = false;\n",
              "      element.src = url;\n",
              "      element.type = \"module\";\n",
              "      console.debug(\"Bokeh: injecting script tag for BokehJS library: \", url);\n",
              "      document.head.appendChild(element);\n",
              "    }\n",
              "    for (const name in js_exports) {\n",
              "      var url = js_exports[name];\n",
              "      if (skip.indexOf(url) >= 0 || root[name] != null) {\n",
              "\tif (!window.requirejs) {\n",
              "\t  on_load();\n",
              "\t}\n",
              "\tcontinue;\n",
              "      }\n",
              "      var element = document.createElement('script');\n",
              "      element.onerror = on_error;\n",
              "      element.async = false;\n",
              "      element.type = \"module\";\n",
              "      console.debug(\"Bokeh: injecting script tag for BokehJS library: \", url);\n",
              "      element.textContent = `\n",
              "      import ${name} from \"${url}\"\n",
              "      window.${name} = ${name}\n",
              "      window._bokeh_on_load()\n",
              "      `\n",
              "      document.head.appendChild(element);\n",
              "    }\n",
              "    if (!js_urls.length && !js_modules.length) {\n",
              "      on_load()\n",
              "    }\n",
              "  };\n",
              "\n",
              "  function inject_raw_css(css) {\n",
              "    const element = document.createElement(\"style\");\n",
              "    element.appendChild(document.createTextNode(css));\n",
              "    document.body.appendChild(element);\n",
              "  }\n",
              "\n",
              "  var js_urls = [];\n",
              "  var js_modules = [];\n",
              "  var js_exports = {};\n",
              "  var css_urls = [];\n",
              "  var inline_js = [    function(Bokeh) {\n",
              "      Bokeh.set_log_level(\"info\");\n",
              "    },\n",
              "function(Bokeh) {} // ensure no trailing comma for IE\n",
              "  ];\n",
              "\n",
              "  function run_inline_js() {\n",
              "    if ((root.Bokeh !== undefined) || (force === true)) {\n",
              "      for (var i = 0; i < inline_js.length; i++) {\n",
              "\ttry {\n",
              "          inline_js[i].call(root, root.Bokeh);\n",
              "\t} catch(e) {\n",
              "\t  if (!reloading) {\n",
              "\t    throw e;\n",
              "\t  }\n",
              "\t}\n",
              "      }\n",
              "      // Cache old bokeh versions\n",
              "      if (Bokeh != undefined && !reloading) {\n",
              "\tvar NewBokeh = root.Bokeh;\n",
              "\tif (Bokeh.versions === undefined) {\n",
              "\t  Bokeh.versions = new Map();\n",
              "\t}\n",
              "\tif (NewBokeh.version !== Bokeh.version) {\n",
              "\t  Bokeh.versions.set(NewBokeh.version, NewBokeh)\n",
              "\t}\n",
              "\troot.Bokeh = Bokeh;\n",
              "      }} else if (Date.now() < root._bokeh_timeout) {\n",
              "      setTimeout(run_inline_js, 100);\n",
              "    } else if (!root._bokeh_failed_load) {\n",
              "      console.log(\"Bokeh: BokehJS failed to load within specified timeout.\");\n",
              "      root._bokeh_failed_load = true;\n",
              "    }\n",
              "    root._bokeh_is_initializing = false\n",
              "  }\n",
              "\n",
              "  function load_or_wait() {\n",
              "    // Implement a backoff loop that tries to ensure we do not load multiple\n",
              "    // versions of Bokeh and its dependencies at the same time.\n",
              "    // In recent versions we use the root._bokeh_is_initializing flag\n",
              "    // to determine whether there is an ongoing attempt to initialize\n",
              "    // bokeh, however for backward compatibility we also try to ensure\n",
              "    // that we do not start loading a newer (Panel>=1.0 and Bokeh>3) version\n",
              "    // before older versions are fully initialized.\n",
              "    if (root._bokeh_is_initializing && Date.now() > root._bokeh_timeout) {\n",
              "      root._bokeh_is_initializing = false;\n",
              "      root._bokeh_onload_callbacks = undefined;\n",
              "      console.log(\"Bokeh: BokehJS was loaded multiple times but one version failed to initialize.\");\n",
              "      load_or_wait();\n",
              "    } else if (root._bokeh_is_initializing || (typeof root._bokeh_is_initializing === \"undefined\" && root._bokeh_onload_callbacks !== undefined)) {\n",
              "      setTimeout(load_or_wait, 100);\n",
              "    } else {\n",
              "      root._bokeh_is_initializing = true\n",
              "      root._bokeh_onload_callbacks = []\n",
              "      var bokeh_loaded = Bokeh != null && (Bokeh.version === py_version || (Bokeh.versions !== undefined && Bokeh.versions.has(py_version)));\n",
              "      if (!reloading && !bokeh_loaded) {\n",
              "\troot.Bokeh = undefined;\n",
              "      }\n",
              "      load_libs(css_urls, js_urls, js_modules, js_exports, function() {\n",
              "\tconsole.debug(\"Bokeh: BokehJS plotting callback run at\", now());\n",
              "\trun_inline_js();\n",
              "      });\n",
              "    }\n",
              "  }\n",
              "  // Give older versions of the autoload script a head-start to ensure\n",
              "  // they initialize before we start loading newer version.\n",
              "  setTimeout(load_or_wait, 100)\n",
              "}(window));"
            ],
            "application/vnd.holoviews_load.v0+json": "(function(root) {\n  function now() {\n    return new Date();\n  }\n\n  var force = true;\n  var py_version = '3.4.1'.replace('rc', '-rc.').replace('.dev', '-dev.');\n  var reloading = true;\n  var Bokeh = root.Bokeh;\n\n  if (typeof (root._bokeh_timeout) === \"undefined\" || force) {\n    root._bokeh_timeout = Date.now() + 5000;\n    root._bokeh_failed_load = false;\n  }\n\n  function run_callbacks() {\n    try {\n      root._bokeh_onload_callbacks.forEach(function(callback) {\n        if (callback != null)\n          callback();\n      });\n    } finally {\n      delete root._bokeh_onload_callbacks;\n    }\n    console.debug(\"Bokeh: all callbacks have finished\");\n  }\n\n  function load_libs(css_urls, js_urls, js_modules, js_exports, callback) {\n    if (css_urls == null) css_urls = [];\n    if (js_urls == null) js_urls = [];\n    if (js_modules == null) js_modules = [];\n    if (js_exports == null) js_exports = {};\n\n    root._bokeh_onload_callbacks.push(callback);\n\n    if (root._bokeh_is_loading > 0) {\n      console.debug(\"Bokeh: BokehJS is being loaded, scheduling callback at\", now());\n      return null;\n    }\n    if (js_urls.length === 0 && js_modules.length === 0 && Object.keys(js_exports).length === 0) {\n      run_callbacks();\n      return null;\n    }\n    if (!reloading) {\n      console.debug(\"Bokeh: BokehJS not loaded, scheduling load and callback at\", now());\n    }\n\n    function on_load() {\n      root._bokeh_is_loading--;\n      if (root._bokeh_is_loading === 0) {\n        console.debug(\"Bokeh: all BokehJS libraries/stylesheets loaded\");\n        run_callbacks()\n      }\n    }\n    window._bokeh_on_load = on_load\n\n    function on_error() {\n      console.error(\"failed to load \" + url);\n    }\n\n    var skip = [];\n    if (window.requirejs) {\n      window.requirejs.config({'packages': {}, 'paths': {}, 'shim': {}});\n      root._bokeh_is_loading = css_urls.length + 0;\n    } else {\n      root._bokeh_is_loading = css_urls.length + js_urls.length + js_modules.length + Object.keys(js_exports).length;\n    }\n\n    var existing_stylesheets = []\n    var links = document.getElementsByTagName('link')\n    for (var i = 0; i < links.length; i++) {\n      var link = links[i]\n      if (link.href != null) {\n\texisting_stylesheets.push(link.href)\n      }\n    }\n    for (var i = 0; i < css_urls.length; i++) {\n      var url = css_urls[i];\n      if (existing_stylesheets.indexOf(url) !== -1) {\n\ton_load()\n\tcontinue;\n      }\n      const element = document.createElement(\"link\");\n      element.onload = on_load;\n      element.onerror = on_error;\n      element.rel = \"stylesheet\";\n      element.type = \"text/css\";\n      element.href = url;\n      console.debug(\"Bokeh: injecting link tag for BokehJS stylesheet: \", url);\n      document.body.appendChild(element);\n    }    var existing_scripts = []\n    var scripts = document.getElementsByTagName('script')\n    for (var i = 0; i < scripts.length; i++) {\n      var script = scripts[i]\n      if (script.src != null) {\n\texisting_scripts.push(script.src)\n      }\n    }\n    for (var i = 0; i < js_urls.length; i++) {\n      var url = js_urls[i];\n      if (skip.indexOf(url) !== -1 || existing_scripts.indexOf(url) !== -1) {\n\tif (!window.requirejs) {\n\t  on_load();\n\t}\n\tcontinue;\n      }\n      var element = document.createElement('script');\n      element.onload = on_load;\n      element.onerror = on_error;\n      element.async = false;\n      element.src = url;\n      console.debug(\"Bokeh: injecting script tag for BokehJS library: \", url);\n      document.head.appendChild(element);\n    }\n    for (var i = 0; i < js_modules.length; i++) {\n      var url = js_modules[i];\n      if (skip.indexOf(url) !== -1 || existing_scripts.indexOf(url) !== -1) {\n\tif (!window.requirejs) {\n\t  on_load();\n\t}\n\tcontinue;\n      }\n      var element = document.createElement('script');\n      element.onload = on_load;\n      element.onerror = on_error;\n      element.async = false;\n      element.src = url;\n      element.type = \"module\";\n      console.debug(\"Bokeh: injecting script tag for BokehJS library: \", url);\n      document.head.appendChild(element);\n    }\n    for (const name in js_exports) {\n      var url = js_exports[name];\n      if (skip.indexOf(url) >= 0 || root[name] != null) {\n\tif (!window.requirejs) {\n\t  on_load();\n\t}\n\tcontinue;\n      }\n      var element = document.createElement('script');\n      element.onerror = on_error;\n      element.async = false;\n      element.type = \"module\";\n      console.debug(\"Bokeh: injecting script tag for BokehJS library: \", url);\n      element.textContent = `\n      import ${name} from \"${url}\"\n      window.${name} = ${name}\n      window._bokeh_on_load()\n      `\n      document.head.appendChild(element);\n    }\n    if (!js_urls.length && !js_modules.length) {\n      on_load()\n    }\n  };\n\n  function inject_raw_css(css) {\n    const element = document.createElement(\"style\");\n    element.appendChild(document.createTextNode(css));\n    document.body.appendChild(element);\n  }\n\n  var js_urls = [];\n  var js_modules = [];\n  var js_exports = {};\n  var css_urls = [];\n  var inline_js = [    function(Bokeh) {\n      Bokeh.set_log_level(\"info\");\n    },\nfunction(Bokeh) {} // ensure no trailing comma for IE\n  ];\n\n  function run_inline_js() {\n    if ((root.Bokeh !== undefined) || (force === true)) {\n      for (var i = 0; i < inline_js.length; i++) {\n\ttry {\n          inline_js[i].call(root, root.Bokeh);\n\t} catch(e) {\n\t  if (!reloading) {\n\t    throw e;\n\t  }\n\t}\n      }\n      // Cache old bokeh versions\n      if (Bokeh != undefined && !reloading) {\n\tvar NewBokeh = root.Bokeh;\n\tif (Bokeh.versions === undefined) {\n\t  Bokeh.versions = new Map();\n\t}\n\tif (NewBokeh.version !== Bokeh.version) {\n\t  Bokeh.versions.set(NewBokeh.version, NewBokeh)\n\t}\n\troot.Bokeh = Bokeh;\n      }} else if (Date.now() < root._bokeh_timeout) {\n      setTimeout(run_inline_js, 100);\n    } else if (!root._bokeh_failed_load) {\n      console.log(\"Bokeh: BokehJS failed to load within specified timeout.\");\n      root._bokeh_failed_load = true;\n    }\n    root._bokeh_is_initializing = false\n  }\n\n  function load_or_wait() {\n    // Implement a backoff loop that tries to ensure we do not load multiple\n    // versions of Bokeh and its dependencies at the same time.\n    // In recent versions we use the root._bokeh_is_initializing flag\n    // to determine whether there is an ongoing attempt to initialize\n    // bokeh, however for backward compatibility we also try to ensure\n    // that we do not start loading a newer (Panel>=1.0 and Bokeh>3) version\n    // before older versions are fully initialized.\n    if (root._bokeh_is_initializing && Date.now() > root._bokeh_timeout) {\n      root._bokeh_is_initializing = false;\n      root._bokeh_onload_callbacks = undefined;\n      console.log(\"Bokeh: BokehJS was loaded multiple times but one version failed to initialize.\");\n      load_or_wait();\n    } else if (root._bokeh_is_initializing || (typeof root._bokeh_is_initializing === \"undefined\" && root._bokeh_onload_callbacks !== undefined)) {\n      setTimeout(load_or_wait, 100);\n    } else {\n      root._bokeh_is_initializing = true\n      root._bokeh_onload_callbacks = []\n      var bokeh_loaded = Bokeh != null && (Bokeh.version === py_version || (Bokeh.versions !== undefined && Bokeh.versions.has(py_version)));\n      if (!reloading && !bokeh_loaded) {\n\troot.Bokeh = undefined;\n      }\n      load_libs(css_urls, js_urls, js_modules, js_exports, function() {\n\tconsole.debug(\"Bokeh: BokehJS plotting callback run at\", now());\n\trun_inline_js();\n      });\n    }\n  }\n  // Give older versions of the autoload script a head-start to ensure\n  // they initialize before we start loading newer version.\n  setTimeout(load_or_wait, 100)\n}(window));"
          },
          "metadata": {}
        },
        {
          "output_type": "display_data",
          "data": {
            "application/vnd.holoviews_load.v0+json": "\nif ((window.PyViz === undefined) || (window.PyViz instanceof HTMLElement)) {\n  window.PyViz = {comms: {}, comm_status:{}, kernels:{}, receivers: {}, plot_index: []}\n}\n\n\n    function JupyterCommManager() {\n    }\n\n    JupyterCommManager.prototype.register_target = function(plot_id, comm_id, msg_handler) {\n      if (window.comm_manager || ((window.Jupyter !== undefined) && (Jupyter.notebook.kernel != null))) {\n        var comm_manager = window.comm_manager || Jupyter.notebook.kernel.comm_manager;\n        comm_manager.register_target(comm_id, function(comm) {\n          comm.on_msg(msg_handler);\n        });\n      } else if ((plot_id in window.PyViz.kernels) && (window.PyViz.kernels[plot_id])) {\n        window.PyViz.kernels[plot_id].registerCommTarget(comm_id, function(comm) {\n          comm.onMsg = msg_handler;\n        });\n      } else if (typeof google != 'undefined' && google.colab.kernel != null) {\n        google.colab.kernel.comms.registerTarget(comm_id, (comm) => {\n          var messages = comm.messages[Symbol.asyncIterator]();\n          function processIteratorResult(result) {\n            var message = result.value;\n            console.log(message)\n            var content = {data: message.data, comm_id};\n            var buffers = []\n            for (var buffer of message.buffers || []) {\n              buffers.push(new DataView(buffer))\n            }\n            var metadata = message.metadata || {};\n            var msg = {content, buffers, metadata}\n            msg_handler(msg);\n            return messages.next().then(processIteratorResult);\n          }\n          return messages.next().then(processIteratorResult);\n        })\n      }\n    }\n\n    JupyterCommManager.prototype.get_client_comm = function(plot_id, comm_id, msg_handler) {\n      if (comm_id in window.PyViz.comms) {\n        return window.PyViz.comms[comm_id];\n      } else if (window.comm_manager || ((window.Jupyter !== undefined) && (Jupyter.notebook.kernel != null))) {\n        var comm_manager = window.comm_manager || Jupyter.notebook.kernel.comm_manager;\n        var comm = comm_manager.new_comm(comm_id, {}, {}, {}, comm_id);\n        if (msg_handler) {\n          comm.on_msg(msg_handler);\n        }\n      } else if ((plot_id in window.PyViz.kernels) && (window.PyViz.kernels[plot_id])) {\n        var comm = window.PyViz.kernels[plot_id].connectToComm(comm_id);\n        comm.open();\n        if (msg_handler) {\n          comm.onMsg = msg_handler;\n        }\n      } else if (typeof google != 'undefined' && google.colab.kernel != null) {\n        var comm_promise = google.colab.kernel.comms.open(comm_id)\n        comm_promise.then((comm) => {\n          window.PyViz.comms[comm_id] = comm;\n          if (msg_handler) {\n            var messages = comm.messages[Symbol.asyncIterator]();\n            function processIteratorResult(result) {\n              var message = result.value;\n              var content = {data: message.data};\n              var metadata = message.metadata || {comm_id};\n              var msg = {content, metadata}\n              msg_handler(msg);\n              return messages.next().then(processIteratorResult);\n            }\n            return messages.next().then(processIteratorResult);\n          }\n        }) \n        var sendClosure = (data, metadata, buffers, disposeOnDone) => {\n          return comm_promise.then((comm) => {\n            comm.send(data, metadata, buffers, disposeOnDone);\n          });\n        };\n        var comm = {\n          send: sendClosure\n        };\n      }\n      window.PyViz.comms[comm_id] = comm;\n      return comm;\n    }\n    window.PyViz.comm_manager = new JupyterCommManager();\n    \n\n\nvar JS_MIME_TYPE = 'application/javascript';\nvar HTML_MIME_TYPE = 'text/html';\nvar EXEC_MIME_TYPE = 'application/vnd.holoviews_exec.v0+json';\nvar CLASS_NAME = 'output';\n\n/**\n * Render data to the DOM node\n */\nfunction render(props, node) {\n  var div = document.createElement(\"div\");\n  var script = document.createElement(\"script\");\n  node.appendChild(div);\n  node.appendChild(script);\n}\n\n/**\n * Handle when a new output is added\n */\nfunction handle_add_output(event, handle) {\n  var output_area = handle.output_area;\n  var output = handle.output;\n  if ((output.data == undefined) || (!output.data.hasOwnProperty(EXEC_MIME_TYPE))) {\n    return\n  }\n  var id = output.metadata[EXEC_MIME_TYPE][\"id\"];\n  var toinsert = output_area.element.find(\".\" + CLASS_NAME.split(' ')[0]);\n  if (id !== undefined) {\n    var nchildren = toinsert.length;\n    var html_node = toinsert[nchildren-1].children[0];\n    html_node.innerHTML = output.data[HTML_MIME_TYPE];\n    var scripts = [];\n    var nodelist = html_node.querySelectorAll(\"script\");\n    for (var i in nodelist) {\n      if (nodelist.hasOwnProperty(i)) {\n        scripts.push(nodelist[i])\n      }\n    }\n\n    scripts.forEach( function (oldScript) {\n      var newScript = document.createElement(\"script\");\n      var attrs = [];\n      var nodemap = oldScript.attributes;\n      for (var j in nodemap) {\n        if (nodemap.hasOwnProperty(j)) {\n          attrs.push(nodemap[j])\n        }\n      }\n      attrs.forEach(function(attr) { newScript.setAttribute(attr.name, attr.value) });\n      newScript.appendChild(document.createTextNode(oldScript.innerHTML));\n      oldScript.parentNode.replaceChild(newScript, oldScript);\n    });\n    if (JS_MIME_TYPE in output.data) {\n      toinsert[nchildren-1].children[1].textContent = output.data[JS_MIME_TYPE];\n    }\n    output_area._hv_plot_id = id;\n    if ((window.Bokeh !== undefined) && (id in Bokeh.index)) {\n      window.PyViz.plot_index[id] = Bokeh.index[id];\n    } else {\n      window.PyViz.plot_index[id] = null;\n    }\n  } else if (output.metadata[EXEC_MIME_TYPE][\"server_id\"] !== undefined) {\n    var bk_div = document.createElement(\"div\");\n    bk_div.innerHTML = output.data[HTML_MIME_TYPE];\n    var script_attrs = bk_div.children[0].attributes;\n    for (var i = 0; i < script_attrs.length; i++) {\n      toinsert[toinsert.length - 1].childNodes[1].setAttribute(script_attrs[i].name, script_attrs[i].value);\n    }\n    // store reference to server id on output_area\n    output_area._bokeh_server_id = output.metadata[EXEC_MIME_TYPE][\"server_id\"];\n  }\n}\n\n/**\n * Handle when an output is cleared or removed\n */\nfunction handle_clear_output(event, handle) {\n  var id = handle.cell.output_area._hv_plot_id;\n  var server_id = handle.cell.output_area._bokeh_server_id;\n  if (((id === undefined) || !(id in PyViz.plot_index)) && (server_id !== undefined)) { return; }\n  var comm = window.PyViz.comm_manager.get_client_comm(\"hv-extension-comm\", \"hv-extension-comm\", function () {});\n  if (server_id !== null) {\n    comm.send({event_type: 'server_delete', 'id': server_id});\n    return;\n  } else if (comm !== null) {\n    comm.send({event_type: 'delete', 'id': id});\n  }\n  delete PyViz.plot_index[id];\n  if ((window.Bokeh !== undefined) & (id in window.Bokeh.index)) {\n    var doc = window.Bokeh.index[id].model.document\n    doc.clear();\n    const i = window.Bokeh.documents.indexOf(doc);\n    if (i > -1) {\n      window.Bokeh.documents.splice(i, 1);\n    }\n  }\n}\n\n/**\n * Handle kernel restart event\n */\nfunction handle_kernel_cleanup(event, handle) {\n  delete PyViz.comms[\"hv-extension-comm\"];\n  window.PyViz.plot_index = {}\n}\n\n/**\n * Handle update_display_data messages\n */\nfunction handle_update_output(event, handle) {\n  handle_clear_output(event, {cell: {output_area: handle.output_area}})\n  handle_add_output(event, handle)\n}\n\nfunction register_renderer(events, OutputArea) {\n  function append_mime(data, metadata, element) {\n    // create a DOM node to render to\n    var toinsert = this.create_output_subarea(\n    metadata,\n    CLASS_NAME,\n    EXEC_MIME_TYPE\n    );\n    this.keyboard_manager.register_events(toinsert);\n    // Render to node\n    var props = {data: data, metadata: metadata[EXEC_MIME_TYPE]};\n    render(props, toinsert[0]);\n    element.append(toinsert);\n    return toinsert\n  }\n\n  events.on('output_added.OutputArea', handle_add_output);\n  events.on('output_updated.OutputArea', handle_update_output);\n  events.on('clear_output.CodeCell', handle_clear_output);\n  events.on('delete.Cell', handle_clear_output);\n  events.on('kernel_ready.Kernel', handle_kernel_cleanup);\n\n  OutputArea.prototype.register_mime_type(EXEC_MIME_TYPE, append_mime, {\n    safe: true,\n    index: 0\n  });\n}\n\nif (window.Jupyter !== undefined) {\n  try {\n    var events = require('base/js/events');\n    var OutputArea = require('notebook/js/outputarea').OutputArea;\n    if (OutputArea.prototype.mime_types().indexOf(EXEC_MIME_TYPE) == -1) {\n      register_renderer(events, OutputArea);\n    }\n  } catch(err) {\n  }\n}\n",
            "application/javascript": [
              "\n",
              "if ((window.PyViz === undefined) || (window.PyViz instanceof HTMLElement)) {\n",
              "  window.PyViz = {comms: {}, comm_status:{}, kernels:{}, receivers: {}, plot_index: []}\n",
              "}\n",
              "\n",
              "\n",
              "    function JupyterCommManager() {\n",
              "    }\n",
              "\n",
              "    JupyterCommManager.prototype.register_target = function(plot_id, comm_id, msg_handler) {\n",
              "      if (window.comm_manager || ((window.Jupyter !== undefined) && (Jupyter.notebook.kernel != null))) {\n",
              "        var comm_manager = window.comm_manager || Jupyter.notebook.kernel.comm_manager;\n",
              "        comm_manager.register_target(comm_id, function(comm) {\n",
              "          comm.on_msg(msg_handler);\n",
              "        });\n",
              "      } else if ((plot_id in window.PyViz.kernels) && (window.PyViz.kernels[plot_id])) {\n",
              "        window.PyViz.kernels[plot_id].registerCommTarget(comm_id, function(comm) {\n",
              "          comm.onMsg = msg_handler;\n",
              "        });\n",
              "      } else if (typeof google != 'undefined' && google.colab.kernel != null) {\n",
              "        google.colab.kernel.comms.registerTarget(comm_id, (comm) => {\n",
              "          var messages = comm.messages[Symbol.asyncIterator]();\n",
              "          function processIteratorResult(result) {\n",
              "            var message = result.value;\n",
              "            console.log(message)\n",
              "            var content = {data: message.data, comm_id};\n",
              "            var buffers = []\n",
              "            for (var buffer of message.buffers || []) {\n",
              "              buffers.push(new DataView(buffer))\n",
              "            }\n",
              "            var metadata = message.metadata || {};\n",
              "            var msg = {content, buffers, metadata}\n",
              "            msg_handler(msg);\n",
              "            return messages.next().then(processIteratorResult);\n",
              "          }\n",
              "          return messages.next().then(processIteratorResult);\n",
              "        })\n",
              "      }\n",
              "    }\n",
              "\n",
              "    JupyterCommManager.prototype.get_client_comm = function(plot_id, comm_id, msg_handler) {\n",
              "      if (comm_id in window.PyViz.comms) {\n",
              "        return window.PyViz.comms[comm_id];\n",
              "      } else if (window.comm_manager || ((window.Jupyter !== undefined) && (Jupyter.notebook.kernel != null))) {\n",
              "        var comm_manager = window.comm_manager || Jupyter.notebook.kernel.comm_manager;\n",
              "        var comm = comm_manager.new_comm(comm_id, {}, {}, {}, comm_id);\n",
              "        if (msg_handler) {\n",
              "          comm.on_msg(msg_handler);\n",
              "        }\n",
              "      } else if ((plot_id in window.PyViz.kernels) && (window.PyViz.kernels[plot_id])) {\n",
              "        var comm = window.PyViz.kernels[plot_id].connectToComm(comm_id);\n",
              "        comm.open();\n",
              "        if (msg_handler) {\n",
              "          comm.onMsg = msg_handler;\n",
              "        }\n",
              "      } else if (typeof google != 'undefined' && google.colab.kernel != null) {\n",
              "        var comm_promise = google.colab.kernel.comms.open(comm_id)\n",
              "        comm_promise.then((comm) => {\n",
              "          window.PyViz.comms[comm_id] = comm;\n",
              "          if (msg_handler) {\n",
              "            var messages = comm.messages[Symbol.asyncIterator]();\n",
              "            function processIteratorResult(result) {\n",
              "              var message = result.value;\n",
              "              var content = {data: message.data};\n",
              "              var metadata = message.metadata || {comm_id};\n",
              "              var msg = {content, metadata}\n",
              "              msg_handler(msg);\n",
              "              return messages.next().then(processIteratorResult);\n",
              "            }\n",
              "            return messages.next().then(processIteratorResult);\n",
              "          }\n",
              "        }) \n",
              "        var sendClosure = (data, metadata, buffers, disposeOnDone) => {\n",
              "          return comm_promise.then((comm) => {\n",
              "            comm.send(data, metadata, buffers, disposeOnDone);\n",
              "          });\n",
              "        };\n",
              "        var comm = {\n",
              "          send: sendClosure\n",
              "        };\n",
              "      }\n",
              "      window.PyViz.comms[comm_id] = comm;\n",
              "      return comm;\n",
              "    }\n",
              "    window.PyViz.comm_manager = new JupyterCommManager();\n",
              "    \n",
              "\n",
              "\n",
              "var JS_MIME_TYPE = 'application/javascript';\n",
              "var HTML_MIME_TYPE = 'text/html';\n",
              "var EXEC_MIME_TYPE = 'application/vnd.holoviews_exec.v0+json';\n",
              "var CLASS_NAME = 'output';\n",
              "\n",
              "/**\n",
              " * Render data to the DOM node\n",
              " */\n",
              "function render(props, node) {\n",
              "  var div = document.createElement(\"div\");\n",
              "  var script = document.createElement(\"script\");\n",
              "  node.appendChild(div);\n",
              "  node.appendChild(script);\n",
              "}\n",
              "\n",
              "/**\n",
              " * Handle when a new output is added\n",
              " */\n",
              "function handle_add_output(event, handle) {\n",
              "  var output_area = handle.output_area;\n",
              "  var output = handle.output;\n",
              "  if ((output.data == undefined) || (!output.data.hasOwnProperty(EXEC_MIME_TYPE))) {\n",
              "    return\n",
              "  }\n",
              "  var id = output.metadata[EXEC_MIME_TYPE][\"id\"];\n",
              "  var toinsert = output_area.element.find(\".\" + CLASS_NAME.split(' ')[0]);\n",
              "  if (id !== undefined) {\n",
              "    var nchildren = toinsert.length;\n",
              "    var html_node = toinsert[nchildren-1].children[0];\n",
              "    html_node.innerHTML = output.data[HTML_MIME_TYPE];\n",
              "    var scripts = [];\n",
              "    var nodelist = html_node.querySelectorAll(\"script\");\n",
              "    for (var i in nodelist) {\n",
              "      if (nodelist.hasOwnProperty(i)) {\n",
              "        scripts.push(nodelist[i])\n",
              "      }\n",
              "    }\n",
              "\n",
              "    scripts.forEach( function (oldScript) {\n",
              "      var newScript = document.createElement(\"script\");\n",
              "      var attrs = [];\n",
              "      var nodemap = oldScript.attributes;\n",
              "      for (var j in nodemap) {\n",
              "        if (nodemap.hasOwnProperty(j)) {\n",
              "          attrs.push(nodemap[j])\n",
              "        }\n",
              "      }\n",
              "      attrs.forEach(function(attr) { newScript.setAttribute(attr.name, attr.value) });\n",
              "      newScript.appendChild(document.createTextNode(oldScript.innerHTML));\n",
              "      oldScript.parentNode.replaceChild(newScript, oldScript);\n",
              "    });\n",
              "    if (JS_MIME_TYPE in output.data) {\n",
              "      toinsert[nchildren-1].children[1].textContent = output.data[JS_MIME_TYPE];\n",
              "    }\n",
              "    output_area._hv_plot_id = id;\n",
              "    if ((window.Bokeh !== undefined) && (id in Bokeh.index)) {\n",
              "      window.PyViz.plot_index[id] = Bokeh.index[id];\n",
              "    } else {\n",
              "      window.PyViz.plot_index[id] = null;\n",
              "    }\n",
              "  } else if (output.metadata[EXEC_MIME_TYPE][\"server_id\"] !== undefined) {\n",
              "    var bk_div = document.createElement(\"div\");\n",
              "    bk_div.innerHTML = output.data[HTML_MIME_TYPE];\n",
              "    var script_attrs = bk_div.children[0].attributes;\n",
              "    for (var i = 0; i < script_attrs.length; i++) {\n",
              "      toinsert[toinsert.length - 1].childNodes[1].setAttribute(script_attrs[i].name, script_attrs[i].value);\n",
              "    }\n",
              "    // store reference to server id on output_area\n",
              "    output_area._bokeh_server_id = output.metadata[EXEC_MIME_TYPE][\"server_id\"];\n",
              "  }\n",
              "}\n",
              "\n",
              "/**\n",
              " * Handle when an output is cleared or removed\n",
              " */\n",
              "function handle_clear_output(event, handle) {\n",
              "  var id = handle.cell.output_area._hv_plot_id;\n",
              "  var server_id = handle.cell.output_area._bokeh_server_id;\n",
              "  if (((id === undefined) || !(id in PyViz.plot_index)) && (server_id !== undefined)) { return; }\n",
              "  var comm = window.PyViz.comm_manager.get_client_comm(\"hv-extension-comm\", \"hv-extension-comm\", function () {});\n",
              "  if (server_id !== null) {\n",
              "    comm.send({event_type: 'server_delete', 'id': server_id});\n",
              "    return;\n",
              "  } else if (comm !== null) {\n",
              "    comm.send({event_type: 'delete', 'id': id});\n",
              "  }\n",
              "  delete PyViz.plot_index[id];\n",
              "  if ((window.Bokeh !== undefined) & (id in window.Bokeh.index)) {\n",
              "    var doc = window.Bokeh.index[id].model.document\n",
              "    doc.clear();\n",
              "    const i = window.Bokeh.documents.indexOf(doc);\n",
              "    if (i > -1) {\n",
              "      window.Bokeh.documents.splice(i, 1);\n",
              "    }\n",
              "  }\n",
              "}\n",
              "\n",
              "/**\n",
              " * Handle kernel restart event\n",
              " */\n",
              "function handle_kernel_cleanup(event, handle) {\n",
              "  delete PyViz.comms[\"hv-extension-comm\"];\n",
              "  window.PyViz.plot_index = {}\n",
              "}\n",
              "\n",
              "/**\n",
              " * Handle update_display_data messages\n",
              " */\n",
              "function handle_update_output(event, handle) {\n",
              "  handle_clear_output(event, {cell: {output_area: handle.output_area}})\n",
              "  handle_add_output(event, handle)\n",
              "}\n",
              "\n",
              "function register_renderer(events, OutputArea) {\n",
              "  function append_mime(data, metadata, element) {\n",
              "    // create a DOM node to render to\n",
              "    var toinsert = this.create_output_subarea(\n",
              "    metadata,\n",
              "    CLASS_NAME,\n",
              "    EXEC_MIME_TYPE\n",
              "    );\n",
              "    this.keyboard_manager.register_events(toinsert);\n",
              "    // Render to node\n",
              "    var props = {data: data, metadata: metadata[EXEC_MIME_TYPE]};\n",
              "    render(props, toinsert[0]);\n",
              "    element.append(toinsert);\n",
              "    return toinsert\n",
              "  }\n",
              "\n",
              "  events.on('output_added.OutputArea', handle_add_output);\n",
              "  events.on('output_updated.OutputArea', handle_update_output);\n",
              "  events.on('clear_output.CodeCell', handle_clear_output);\n",
              "  events.on('delete.Cell', handle_clear_output);\n",
              "  events.on('kernel_ready.Kernel', handle_kernel_cleanup);\n",
              "\n",
              "  OutputArea.prototype.register_mime_type(EXEC_MIME_TYPE, append_mime, {\n",
              "    safe: true,\n",
              "    index: 0\n",
              "  });\n",
              "}\n",
              "\n",
              "if (window.Jupyter !== undefined) {\n",
              "  try {\n",
              "    var events = require('base/js/events');\n",
              "    var OutputArea = require('notebook/js/outputarea').OutputArea;\n",
              "    if (OutputArea.prototype.mime_types().indexOf(EXEC_MIME_TYPE) == -1) {\n",
              "      register_renderer(events, OutputArea);\n",
              "    }\n",
              "  } catch(err) {\n",
              "  }\n",
              "}\n"
            ]
          },
          "metadata": {}
        },
        {
          "output_type": "display_data",
          "data": {
            "text/html": [
              "<style>*[data-root-id],\n",
              "*[data-root-id] > * {\n",
              "  box-sizing: border-box;\n",
              "  font-family: var(--jp-ui-font-family);\n",
              "  font-size: var(--jp-ui-font-size1);\n",
              "  color: var(--vscode-editor-foreground, var(--jp-ui-font-color1));\n",
              "}\n",
              "\n",
              "/* Override VSCode background color */\n",
              ".cell-output-ipywidget-background:has(\n",
              "    > .cell-output-ipywidget-background > .lm-Widget > *[data-root-id]\n",
              "  ),\n",
              ".cell-output-ipywidget-background:has(> .lm-Widget > *[data-root-id]) {\n",
              "  background-color: transparent !important;\n",
              "}\n",
              "</style>"
            ]
          },
          "metadata": {}
        }
      ],
      "source": [
        "#*******************************************************************************************\n",
        " #\n",
        " #  File Name:  credit_risk_hyperparameters_optimization_colab.ipynb\n",
        " #\n",
        " #  File Description:\n",
        " #      This interactive Python notebook, credit_risk_hyperparameters_optimization_colab.ipynb,\n",
        " #      readsa csv file, spam-data.csv, and uses Python and scikit-learn module to find\n",
        " #      the best hyperparameters for supervised learning models (binary classification)\n",
        " #      that detects credit defaults. Here is a list of the models:\n",
        " #\n",
        " #      logistic regression\n",
        " #      decision tree\n",
        " #      random forest\n",
        " #      k-nearest neighbor\n",
        " #\n",
        " #\n",
        " #  Date            Description                             Programmer\n",
        " #  ----------      ------------------------------------    ------------------\n",
        " #  11/27/2023      Initial Development                     Nicholas J. George\n",
        " #\n",
        " #******************************************************************************************/\n",
        "\n",
        "from google.colab import drive\n",
        "drive.mount('/content/gdrive/')\n",
        "\n",
        "import sys\n",
        "sys.path.insert(0,'./gdrive/MyDrive/credit_risk_classification')\n",
        "\n",
        "import os\n",
        "os.environ['HV_DOC_HTML'] = 'true'\n",
        "\n",
        "!apt-get update\n",
        "!apt install firefox firefox-geckodriver\n",
        "!pip install -U dataframe_image\n",
        "!pip install -U selenium\n",
        "!pip install -U kaleido\n",
        "!pip install -U hvplot\n",
        "!pip install -U plotly\n",
        "!pip install -U panel\n",
        "!pip install -U bokeh\n",
        "!pip install -U imblearn\n",
        "\n",
        "import hvplot\n",
        "import hvplot.pandas\n",
        "\n",
        "import pandas as pd\n",
        "\n",
        "import holoviews as hv\n",
        "hv.extension('bokeh')\n",
        "\n",
        "import logx\n",
        "logx.set_logs_directory_path('./gdrive/MyDrive/credit_risk_classification/logs')\n",
        "logx.set_images_directory_path('./gdrive/MyDrive/credit_risk_classification/images')\n",
        "\n",
        "import pandasx\n",
        "pandasx.set_google_colab(True)\n",
        "\n",
        "import classificationsx\n",
        "import credit_risk_constants\n",
        "\n",
        "import copy\n",
        "import pickle\n",
        "\n",
        "import numpy as np\n",
        "import pandas as pd\n",
        "\n",
        "from IPython.display import clear_output\n",
        "\n",
        "from imblearn.combine import SMOTEENN\n",
        "from imblearn.over_sampling import RandomOverSampler\n",
        "from imblearn.over_sampling import SMOTE\n",
        "from imblearn.under_sampling import ClusterCentroids\n",
        "from imblearn.under_sampling import RandomUnderSampler\n",
        "\n",
        "from sklearn.cluster import KMeans\n",
        "from sklearn.linear_model import LogisticRegression\n",
        "from sklearn.tree import DecisionTreeClassifier\n",
        "from sklearn.ensemble import RandomForestClassifier\n",
        "from sklearn.neighbors import KNeighborsClassifier\n",
        "\n",
        "from sklearn.model_selection import GridSearchCV\n",
        "from sklearn.model_selection import train_test_split\n",
        "from sklearn.metrics import accuracy_score\n",
        "from sklearn.preprocessing import StandardScaler\n",
        "\n",
        "pd.options.mode.chained_assignment = None"
      ]
    },
    {
      "cell_type": "code",
      "execution_count": 2,
      "metadata": {
        "colab": {
          "base_uri": "https://localhost:8080/"
        },
        "id": "0NmSfs31XVC1",
        "outputId": "4a7edc8b-0e61-48d6-eaab-7234a3070190"
      },
      "outputs": [
        {
          "output_type": "stream",
          "name": "stdout",
          "text": [
            "Program execution begins...\n",
            "\n"
          ]
        }
      ],
      "source": [
        "CONSTANT_LOCAL_FILE_NAME = 'credit_risk_hyperparameters_optimization_colab.ipynb'\n",
        "\n",
        "\n",
        "logx.set_log_mode(False)\n",
        "\n",
        "logx.set_image_mode(False)\n",
        "\n",
        "\n",
        "logx.begin_program('credit_risk_hyperparameters_optimization_colab')"
      ]
    },
    {
      "cell_type": "markdown",
      "metadata": {
        "id": "QmqF8qbsXVC1"
      },
      "source": [
        "# <br> **Section 1: Extraction and Transformation**"
      ]
    },
    {
      "cell_type": "markdown",
      "metadata": {
        "id": "3FjdFSKcXVC2"
      },
      "source": [
        "## **1.1: Read the CSV data into a Pandas DataFrame**"
      ]
    },
    {
      "cell_type": "code",
      "execution_count": 3,
      "metadata": {
        "id": "FdF89NqAXVC2"
      },
      "outputs": [],
      "source": [
        "data_type_dictionary \\\n",
        "    = {'loan_size': float,\n",
        "       'interest_rate': float,\n",
        "       'borrower_income': int,\n",
        "       'debt_to_income': float,\n",
        "       'num_of_accounts': int,\n",
        "       'derogatory_marks': int,\n",
        "       'total_debt': int,\n",
        "       'loan_status': int}\n",
        "\n",
        "lending_dataframe \\\n",
        "    = pd.read_csv(credit_risk_constants.CONSTANT_INPUT_FILE_PATH, dtype = data_type_dictionary)\n",
        "\n",
        "logx.log_write_object(lending_dataframe)"
      ]
    },
    {
      "cell_type": "markdown",
      "metadata": {
        "id": "E8ClcKMCXVC2"
      },
      "source": [
        "## **1.2: Display Spam DataFrame**"
      ]
    },
    {
      "cell_type": "code",
      "execution_count": 4,
      "metadata": {
        "colab": {
          "base_uri": "https://localhost:8080/",
          "height": 398
        },
        "id": "bWusuzTDXVC3",
        "outputId": "af097b82-363f-4781-94ba-da5304b77a74"
      },
      "outputs": [
        {
          "output_type": "execute_result",
          "data": {
            "text/plain": [
              "<pandas.io.formats.style.Styler at 0x78aebc24d810>"
            ],
            "text/html": [
              "<style type=\"text/css\">\n",
              "#T_f0a8d caption {\n",
              "  color: black;\n",
              "  font-size: 20px;\n",
              "  font-style: bold;\n",
              "  text-align: center;\n",
              "}\n",
              "#T_f0a8d_row0_col0, #T_f0a8d_row0_col1, #T_f0a8d_row0_col2, #T_f0a8d_row0_col3, #T_f0a8d_row0_col4, #T_f0a8d_row0_col5, #T_f0a8d_row0_col6, #T_f0a8d_row0_col7, #T_f0a8d_row1_col0, #T_f0a8d_row1_col1, #T_f0a8d_row1_col2, #T_f0a8d_row1_col3, #T_f0a8d_row1_col4, #T_f0a8d_row1_col5, #T_f0a8d_row1_col6, #T_f0a8d_row1_col7, #T_f0a8d_row2_col0, #T_f0a8d_row2_col1, #T_f0a8d_row2_col2, #T_f0a8d_row2_col3, #T_f0a8d_row2_col4, #T_f0a8d_row2_col5, #T_f0a8d_row2_col6, #T_f0a8d_row2_col7, #T_f0a8d_row3_col0, #T_f0a8d_row3_col1, #T_f0a8d_row3_col2, #T_f0a8d_row3_col3, #T_f0a8d_row3_col4, #T_f0a8d_row3_col5, #T_f0a8d_row3_col6, #T_f0a8d_row3_col7, #T_f0a8d_row4_col0, #T_f0a8d_row4_col1, #T_f0a8d_row4_col2, #T_f0a8d_row4_col3, #T_f0a8d_row4_col4, #T_f0a8d_row4_col5, #T_f0a8d_row4_col6, #T_f0a8d_row4_col7, #T_f0a8d_row5_col0, #T_f0a8d_row5_col1, #T_f0a8d_row5_col2, #T_f0a8d_row5_col3, #T_f0a8d_row5_col4, #T_f0a8d_row5_col5, #T_f0a8d_row5_col6, #T_f0a8d_row5_col7, #T_f0a8d_row6_col0, #T_f0a8d_row6_col1, #T_f0a8d_row6_col2, #T_f0a8d_row6_col3, #T_f0a8d_row6_col4, #T_f0a8d_row6_col5, #T_f0a8d_row6_col6, #T_f0a8d_row6_col7, #T_f0a8d_row7_col0, #T_f0a8d_row7_col1, #T_f0a8d_row7_col2, #T_f0a8d_row7_col3, #T_f0a8d_row7_col4, #T_f0a8d_row7_col5, #T_f0a8d_row7_col6, #T_f0a8d_row7_col7, #T_f0a8d_row8_col0, #T_f0a8d_row8_col1, #T_f0a8d_row8_col2, #T_f0a8d_row8_col3, #T_f0a8d_row8_col4, #T_f0a8d_row8_col5, #T_f0a8d_row8_col6, #T_f0a8d_row8_col7, #T_f0a8d_row9_col0, #T_f0a8d_row9_col1, #T_f0a8d_row9_col2, #T_f0a8d_row9_col3, #T_f0a8d_row9_col4, #T_f0a8d_row9_col5, #T_f0a8d_row9_col6, #T_f0a8d_row9_col7 {\n",
              "  text-align: center;\n",
              "  border: 1.3px solid red;\n",
              "  color: blue;\n",
              "}\n",
              "</style>\n",
              "<table id=\"T_f0a8d\" class=\"dataframe\">\n",
              "  <caption>Table 1.2: Lending Data Table</caption>\n",
              "  <thead>\n",
              "    <tr>\n",
              "      <th id=\"T_f0a8d_level0_col0\" class=\"col_heading level0 col0\" >loan_size</th>\n",
              "      <th id=\"T_f0a8d_level0_col1\" class=\"col_heading level0 col1\" >interest_rate</th>\n",
              "      <th id=\"T_f0a8d_level0_col2\" class=\"col_heading level0 col2\" >borrower_income</th>\n",
              "      <th id=\"T_f0a8d_level0_col3\" class=\"col_heading level0 col3\" >debt_to_income</th>\n",
              "      <th id=\"T_f0a8d_level0_col4\" class=\"col_heading level0 col4\" >num_of_accounts</th>\n",
              "      <th id=\"T_f0a8d_level0_col5\" class=\"col_heading level0 col5\" >derogatory_marks</th>\n",
              "      <th id=\"T_f0a8d_level0_col6\" class=\"col_heading level0 col6\" >total_debt</th>\n",
              "      <th id=\"T_f0a8d_level0_col7\" class=\"col_heading level0 col7\" >loan_status</th>\n",
              "    </tr>\n",
              "  </thead>\n",
              "  <tbody>\n",
              "    <tr>\n",
              "      <td id=\"T_f0a8d_row0_col0\" class=\"data row0 col0\" >10,700.00</td>\n",
              "      <td id=\"T_f0a8d_row0_col1\" class=\"data row0 col1\" >7.67</td>\n",
              "      <td id=\"T_f0a8d_row0_col2\" class=\"data row0 col2\" >52,800</td>\n",
              "      <td id=\"T_f0a8d_row0_col3\" class=\"data row0 col3\" >0.43</td>\n",
              "      <td id=\"T_f0a8d_row0_col4\" class=\"data row0 col4\" >5</td>\n",
              "      <td id=\"T_f0a8d_row0_col5\" class=\"data row0 col5\" >1</td>\n",
              "      <td id=\"T_f0a8d_row0_col6\" class=\"data row0 col6\" >22,800</td>\n",
              "      <td id=\"T_f0a8d_row0_col7\" class=\"data row0 col7\" >0</td>\n",
              "    </tr>\n",
              "    <tr>\n",
              "      <td id=\"T_f0a8d_row1_col0\" class=\"data row1 col0\" >8,400.00</td>\n",
              "      <td id=\"T_f0a8d_row1_col1\" class=\"data row1 col1\" >6.69</td>\n",
              "      <td id=\"T_f0a8d_row1_col2\" class=\"data row1 col2\" >43,600</td>\n",
              "      <td id=\"T_f0a8d_row1_col3\" class=\"data row1 col3\" >0.31</td>\n",
              "      <td id=\"T_f0a8d_row1_col4\" class=\"data row1 col4\" >3</td>\n",
              "      <td id=\"T_f0a8d_row1_col5\" class=\"data row1 col5\" >0</td>\n",
              "      <td id=\"T_f0a8d_row1_col6\" class=\"data row1 col6\" >13,600</td>\n",
              "      <td id=\"T_f0a8d_row1_col7\" class=\"data row1 col7\" >0</td>\n",
              "    </tr>\n",
              "    <tr>\n",
              "      <td id=\"T_f0a8d_row2_col0\" class=\"data row2 col0\" >9,000.00</td>\n",
              "      <td id=\"T_f0a8d_row2_col1\" class=\"data row2 col1\" >6.96</td>\n",
              "      <td id=\"T_f0a8d_row2_col2\" class=\"data row2 col2\" >46,100</td>\n",
              "      <td id=\"T_f0a8d_row2_col3\" class=\"data row2 col3\" >0.35</td>\n",
              "      <td id=\"T_f0a8d_row2_col4\" class=\"data row2 col4\" >3</td>\n",
              "      <td id=\"T_f0a8d_row2_col5\" class=\"data row2 col5\" >0</td>\n",
              "      <td id=\"T_f0a8d_row2_col6\" class=\"data row2 col6\" >16,100</td>\n",
              "      <td id=\"T_f0a8d_row2_col7\" class=\"data row2 col7\" >0</td>\n",
              "    </tr>\n",
              "    <tr>\n",
              "      <td id=\"T_f0a8d_row3_col0\" class=\"data row3 col0\" >10,700.00</td>\n",
              "      <td id=\"T_f0a8d_row3_col1\" class=\"data row3 col1\" >7.66</td>\n",
              "      <td id=\"T_f0a8d_row3_col2\" class=\"data row3 col2\" >52,700</td>\n",
              "      <td id=\"T_f0a8d_row3_col3\" class=\"data row3 col3\" >0.43</td>\n",
              "      <td id=\"T_f0a8d_row3_col4\" class=\"data row3 col4\" >5</td>\n",
              "      <td id=\"T_f0a8d_row3_col5\" class=\"data row3 col5\" >1</td>\n",
              "      <td id=\"T_f0a8d_row3_col6\" class=\"data row3 col6\" >22,700</td>\n",
              "      <td id=\"T_f0a8d_row3_col7\" class=\"data row3 col7\" >0</td>\n",
              "    </tr>\n",
              "    <tr>\n",
              "      <td id=\"T_f0a8d_row4_col0\" class=\"data row4 col0\" >10,800.00</td>\n",
              "      <td id=\"T_f0a8d_row4_col1\" class=\"data row4 col1\" >7.70</td>\n",
              "      <td id=\"T_f0a8d_row4_col2\" class=\"data row4 col2\" >53,000</td>\n",
              "      <td id=\"T_f0a8d_row4_col3\" class=\"data row4 col3\" >0.43</td>\n",
              "      <td id=\"T_f0a8d_row4_col4\" class=\"data row4 col4\" >5</td>\n",
              "      <td id=\"T_f0a8d_row4_col5\" class=\"data row4 col5\" >1</td>\n",
              "      <td id=\"T_f0a8d_row4_col6\" class=\"data row4 col6\" >23,000</td>\n",
              "      <td id=\"T_f0a8d_row4_col7\" class=\"data row4 col7\" >0</td>\n",
              "    </tr>\n",
              "    <tr>\n",
              "      <td id=\"T_f0a8d_row5_col0\" class=\"data row5 col0\" >10,100.00</td>\n",
              "      <td id=\"T_f0a8d_row5_col1\" class=\"data row5 col1\" >7.44</td>\n",
              "      <td id=\"T_f0a8d_row5_col2\" class=\"data row5 col2\" >50,600</td>\n",
              "      <td id=\"T_f0a8d_row5_col3\" class=\"data row5 col3\" >0.41</td>\n",
              "      <td id=\"T_f0a8d_row5_col4\" class=\"data row5 col4\" >4</td>\n",
              "      <td id=\"T_f0a8d_row5_col5\" class=\"data row5 col5\" >1</td>\n",
              "      <td id=\"T_f0a8d_row5_col6\" class=\"data row5 col6\" >20,600</td>\n",
              "      <td id=\"T_f0a8d_row5_col7\" class=\"data row5 col7\" >0</td>\n",
              "    </tr>\n",
              "    <tr>\n",
              "      <td id=\"T_f0a8d_row6_col0\" class=\"data row6 col0\" >10,300.00</td>\n",
              "      <td id=\"T_f0a8d_row6_col1\" class=\"data row6 col1\" >7.49</td>\n",
              "      <td id=\"T_f0a8d_row6_col2\" class=\"data row6 col2\" >51,100</td>\n",
              "      <td id=\"T_f0a8d_row6_col3\" class=\"data row6 col3\" >0.41</td>\n",
              "      <td id=\"T_f0a8d_row6_col4\" class=\"data row6 col4\" >4</td>\n",
              "      <td id=\"T_f0a8d_row6_col5\" class=\"data row6 col5\" >1</td>\n",
              "      <td id=\"T_f0a8d_row6_col6\" class=\"data row6 col6\" >21,100</td>\n",
              "      <td id=\"T_f0a8d_row6_col7\" class=\"data row6 col7\" >0</td>\n",
              "    </tr>\n",
              "    <tr>\n",
              "      <td id=\"T_f0a8d_row7_col0\" class=\"data row7 col0\" >8,800.00</td>\n",
              "      <td id=\"T_f0a8d_row7_col1\" class=\"data row7 col1\" >6.86</td>\n",
              "      <td id=\"T_f0a8d_row7_col2\" class=\"data row7 col2\" >45,100</td>\n",
              "      <td id=\"T_f0a8d_row7_col3\" class=\"data row7 col3\" >0.33</td>\n",
              "      <td id=\"T_f0a8d_row7_col4\" class=\"data row7 col4\" >3</td>\n",
              "      <td id=\"T_f0a8d_row7_col5\" class=\"data row7 col5\" >0</td>\n",
              "      <td id=\"T_f0a8d_row7_col6\" class=\"data row7 col6\" >15,100</td>\n",
              "      <td id=\"T_f0a8d_row7_col7\" class=\"data row7 col7\" >0</td>\n",
              "    </tr>\n",
              "    <tr>\n",
              "      <td id=\"T_f0a8d_row8_col0\" class=\"data row8 col0\" >9,300.00</td>\n",
              "      <td id=\"T_f0a8d_row8_col1\" class=\"data row8 col1\" >7.10</td>\n",
              "      <td id=\"T_f0a8d_row8_col2\" class=\"data row8 col2\" >47,400</td>\n",
              "      <td id=\"T_f0a8d_row8_col3\" class=\"data row8 col3\" >0.37</td>\n",
              "      <td id=\"T_f0a8d_row8_col4\" class=\"data row8 col4\" >3</td>\n",
              "      <td id=\"T_f0a8d_row8_col5\" class=\"data row8 col5\" >0</td>\n",
              "      <td id=\"T_f0a8d_row8_col6\" class=\"data row8 col6\" >17,400</td>\n",
              "      <td id=\"T_f0a8d_row8_col7\" class=\"data row8 col7\" >0</td>\n",
              "    </tr>\n",
              "    <tr>\n",
              "      <td id=\"T_f0a8d_row9_col0\" class=\"data row9 col0\" >9,700.00</td>\n",
              "      <td id=\"T_f0a8d_row9_col1\" class=\"data row9 col1\" >7.25</td>\n",
              "      <td id=\"T_f0a8d_row9_col2\" class=\"data row9 col2\" >48,800</td>\n",
              "      <td id=\"T_f0a8d_row9_col3\" class=\"data row9 col3\" >0.39</td>\n",
              "      <td id=\"T_f0a8d_row9_col4\" class=\"data row9 col4\" >4</td>\n",
              "      <td id=\"T_f0a8d_row9_col5\" class=\"data row9 col5\" >0</td>\n",
              "      <td id=\"T_f0a8d_row9_col6\" class=\"data row9 col6\" >18,800</td>\n",
              "      <td id=\"T_f0a8d_row9_col7\" class=\"data row9 col7\" >0</td>\n",
              "    </tr>\n",
              "  </tbody>\n",
              "</table>\n"
            ]
          },
          "metadata": {},
          "execution_count": 4
        }
      ],
      "source": [
        "pandasx.return_formatted_table(lending_dataframe, 'Table 1.2: Lending Data Table')"
      ]
    },
    {
      "cell_type": "markdown",
      "metadata": {
        "id": "1M2X262HXVC3"
      },
      "source": [
        "## **1.3: Create the labels series (`y`)  from the “loan_status” column, and then create the features (`X`) DataFrame from the remaining columns.**"
      ]
    },
    {
      "cell_type": "markdown",
      "metadata": {
        "id": "4qSXKe7oXVC3"
      },
      "source": [
        "### **Separate the Y Variable, The Labels**"
      ]
    },
    {
      "cell_type": "code",
      "execution_count": 5,
      "metadata": {
        "id": "tLYsOvp2XVC3"
      },
      "outputs": [],
      "source": [
        "y_series = lending_dataframe['loan_status']\n",
        "\n",
        "logx.log_write_object(y_series)"
      ]
    },
    {
      "cell_type": "markdown",
      "metadata": {
        "id": "FHuehfU3XVC4"
      },
      "source": [
        "### **Review the Y Series**"
      ]
    },
    {
      "cell_type": "code",
      "execution_count": 6,
      "metadata": {
        "colab": {
          "base_uri": "https://localhost:8080/",
          "height": 472
        },
        "id": "5GInT7T_XVC4",
        "outputId": "0616cf9f-5c8d-47ea-b799-5ff109267703"
      },
      "outputs": [
        {
          "output_type": "execute_result",
          "data": {
            "text/plain": [
              "<pandas.io.formats.style.Styler at 0x78ae78ce5060>"
            ],
            "text/html": [
              "<style type=\"text/css\">\n",
              "#T_76278 caption {\n",
              "  color: black;\n",
              "  font-size: 20px;\n",
              "  font-style: bold;\n",
              "  text-align: center;\n",
              "}\n",
              "#T_76278_row0_col0, #T_76278_row1_col0, #T_76278_row2_col0, #T_76278_row3_col0, #T_76278_row4_col0, #T_76278_row5_col0, #T_76278_row6_col0, #T_76278_row7_col0, #T_76278_row8_col0, #T_76278_row9_col0 {\n",
              "  text-align: center;\n",
              "  border: 1.3px solid red;\n",
              "  color: blue;\n",
              "}\n",
              "</style>\n",
              "<table id=\"T_76278\" class=\"dataframe\">\n",
              "  <caption>Table 1.3.1: Lending Target Series</caption>\n",
              "  <thead>\n",
              "    <tr>\n",
              "      <th id=\"T_76278_level0_col0\" class=\"col_heading level0 col0\" >loan_status</th>\n",
              "    </tr>\n",
              "  </thead>\n",
              "  <tbody>\n",
              "    <tr>\n",
              "      <td id=\"T_76278_row0_col0\" class=\"data row0 col0\" >0</td>\n",
              "    </tr>\n",
              "    <tr>\n",
              "      <td id=\"T_76278_row1_col0\" class=\"data row1 col0\" >0</td>\n",
              "    </tr>\n",
              "    <tr>\n",
              "      <td id=\"T_76278_row2_col0\" class=\"data row2 col0\" >0</td>\n",
              "    </tr>\n",
              "    <tr>\n",
              "      <td id=\"T_76278_row3_col0\" class=\"data row3 col0\" >0</td>\n",
              "    </tr>\n",
              "    <tr>\n",
              "      <td id=\"T_76278_row4_col0\" class=\"data row4 col0\" >0</td>\n",
              "    </tr>\n",
              "    <tr>\n",
              "      <td id=\"T_76278_row5_col0\" class=\"data row5 col0\" >0</td>\n",
              "    </tr>\n",
              "    <tr>\n",
              "      <td id=\"T_76278_row6_col0\" class=\"data row6 col0\" >0</td>\n",
              "    </tr>\n",
              "    <tr>\n",
              "      <td id=\"T_76278_row7_col0\" class=\"data row7 col0\" >0</td>\n",
              "    </tr>\n",
              "    <tr>\n",
              "      <td id=\"T_76278_row8_col0\" class=\"data row8 col0\" >0</td>\n",
              "    </tr>\n",
              "    <tr>\n",
              "      <td id=\"T_76278_row9_col0\" class=\"data row9 col0\" >0</td>\n",
              "    </tr>\n",
              "  </tbody>\n",
              "</table>\n"
            ]
          },
          "metadata": {},
          "execution_count": 6
        }
      ],
      "source": [
        "pandasx.return_formatted_table(y_series.to_frame(), 'Table 1.3.1: Lending Target Series')"
      ]
    },
    {
      "cell_type": "markdown",
      "metadata": {
        "id": "8gdFesUiXVC4"
      },
      "source": [
        "### **Check the Balance of the Labels Variable (`y`) by Using the `value_counts` Function.**"
      ]
    },
    {
      "cell_type": "code",
      "execution_count": 7,
      "metadata": {
        "colab": {
          "base_uri": "https://localhost:8080/"
        },
        "id": "TvzDyT0zXVC4",
        "outputId": "c9b33d9a-717f-4780-d6a0-f130b6fe8b87"
      },
      "outputs": [
        {
          "output_type": "execute_result",
          "data": {
            "text/plain": [
              "loan_status\n",
              "0    75036\n",
              "1     2500\n",
              "Name: count, dtype: int64"
            ]
          },
          "metadata": {},
          "execution_count": 7
        }
      ],
      "source": [
        "y_series.value_counts()"
      ]
    },
    {
      "cell_type": "markdown",
      "metadata": {
        "id": "3XExe6FoXVC4"
      },
      "source": [
        "### **Separate the X Variable, the Features**"
      ]
    },
    {
      "cell_type": "code",
      "execution_count": 8,
      "metadata": {
        "id": "MzjBKswGXVC4"
      },
      "outputs": [],
      "source": [
        "x_dataframe = lending_dataframe.drop(columns = 'loan_status', axis = 1)\n",
        "\n",
        "logx.log_write_object(x_dataframe)"
      ]
    },
    {
      "cell_type": "markdown",
      "metadata": {
        "id": "puHafcNSXVC4"
      },
      "source": [
        "### **Review the X DataFrame**"
      ]
    },
    {
      "cell_type": "code",
      "execution_count": 9,
      "metadata": {
        "colab": {
          "base_uri": "https://localhost:8080/",
          "height": 398
        },
        "id": "Ap30LToaXVC4",
        "outputId": "a1873b91-950a-498a-b1c9-aba1e170bfd6"
      },
      "outputs": [
        {
          "output_type": "execute_result",
          "data": {
            "text/plain": [
              "<pandas.io.formats.style.Styler at 0x78ae78ce4880>"
            ],
            "text/html": [
              "<style type=\"text/css\">\n",
              "#T_82fa7 caption {\n",
              "  color: black;\n",
              "  font-size: 20px;\n",
              "  font-style: bold;\n",
              "  text-align: center;\n",
              "}\n",
              "#T_82fa7_row0_col0, #T_82fa7_row0_col1, #T_82fa7_row0_col2, #T_82fa7_row0_col3, #T_82fa7_row0_col4, #T_82fa7_row0_col5, #T_82fa7_row0_col6, #T_82fa7_row1_col0, #T_82fa7_row1_col1, #T_82fa7_row1_col2, #T_82fa7_row1_col3, #T_82fa7_row1_col4, #T_82fa7_row1_col5, #T_82fa7_row1_col6, #T_82fa7_row2_col0, #T_82fa7_row2_col1, #T_82fa7_row2_col2, #T_82fa7_row2_col3, #T_82fa7_row2_col4, #T_82fa7_row2_col5, #T_82fa7_row2_col6, #T_82fa7_row3_col0, #T_82fa7_row3_col1, #T_82fa7_row3_col2, #T_82fa7_row3_col3, #T_82fa7_row3_col4, #T_82fa7_row3_col5, #T_82fa7_row3_col6, #T_82fa7_row4_col0, #T_82fa7_row4_col1, #T_82fa7_row4_col2, #T_82fa7_row4_col3, #T_82fa7_row4_col4, #T_82fa7_row4_col5, #T_82fa7_row4_col6, #T_82fa7_row5_col0, #T_82fa7_row5_col1, #T_82fa7_row5_col2, #T_82fa7_row5_col3, #T_82fa7_row5_col4, #T_82fa7_row5_col5, #T_82fa7_row5_col6, #T_82fa7_row6_col0, #T_82fa7_row6_col1, #T_82fa7_row6_col2, #T_82fa7_row6_col3, #T_82fa7_row6_col4, #T_82fa7_row6_col5, #T_82fa7_row6_col6, #T_82fa7_row7_col0, #T_82fa7_row7_col1, #T_82fa7_row7_col2, #T_82fa7_row7_col3, #T_82fa7_row7_col4, #T_82fa7_row7_col5, #T_82fa7_row7_col6, #T_82fa7_row8_col0, #T_82fa7_row8_col1, #T_82fa7_row8_col2, #T_82fa7_row8_col3, #T_82fa7_row8_col4, #T_82fa7_row8_col5, #T_82fa7_row8_col6, #T_82fa7_row9_col0, #T_82fa7_row9_col1, #T_82fa7_row9_col2, #T_82fa7_row9_col3, #T_82fa7_row9_col4, #T_82fa7_row9_col5, #T_82fa7_row9_col6 {\n",
              "  text-align: center;\n",
              "  border: 1.3px solid red;\n",
              "  color: blue;\n",
              "}\n",
              "</style>\n",
              "<table id=\"T_82fa7\" class=\"dataframe\">\n",
              "  <caption>Table 1.3.2: Lending Features DataFrame</caption>\n",
              "  <thead>\n",
              "    <tr>\n",
              "      <th id=\"T_82fa7_level0_col0\" class=\"col_heading level0 col0\" >loan_size</th>\n",
              "      <th id=\"T_82fa7_level0_col1\" class=\"col_heading level0 col1\" >interest_rate</th>\n",
              "      <th id=\"T_82fa7_level0_col2\" class=\"col_heading level0 col2\" >borrower_income</th>\n",
              "      <th id=\"T_82fa7_level0_col3\" class=\"col_heading level0 col3\" >debt_to_income</th>\n",
              "      <th id=\"T_82fa7_level0_col4\" class=\"col_heading level0 col4\" >num_of_accounts</th>\n",
              "      <th id=\"T_82fa7_level0_col5\" class=\"col_heading level0 col5\" >derogatory_marks</th>\n",
              "      <th id=\"T_82fa7_level0_col6\" class=\"col_heading level0 col6\" >total_debt</th>\n",
              "    </tr>\n",
              "  </thead>\n",
              "  <tbody>\n",
              "    <tr>\n",
              "      <td id=\"T_82fa7_row0_col0\" class=\"data row0 col0\" >10,700.00</td>\n",
              "      <td id=\"T_82fa7_row0_col1\" class=\"data row0 col1\" >7.67</td>\n",
              "      <td id=\"T_82fa7_row0_col2\" class=\"data row0 col2\" >52,800</td>\n",
              "      <td id=\"T_82fa7_row0_col3\" class=\"data row0 col3\" >0.43</td>\n",
              "      <td id=\"T_82fa7_row0_col4\" class=\"data row0 col4\" >5</td>\n",
              "      <td id=\"T_82fa7_row0_col5\" class=\"data row0 col5\" >1</td>\n",
              "      <td id=\"T_82fa7_row0_col6\" class=\"data row0 col6\" >22,800</td>\n",
              "    </tr>\n",
              "    <tr>\n",
              "      <td id=\"T_82fa7_row1_col0\" class=\"data row1 col0\" >8,400.00</td>\n",
              "      <td id=\"T_82fa7_row1_col1\" class=\"data row1 col1\" >6.69</td>\n",
              "      <td id=\"T_82fa7_row1_col2\" class=\"data row1 col2\" >43,600</td>\n",
              "      <td id=\"T_82fa7_row1_col3\" class=\"data row1 col3\" >0.31</td>\n",
              "      <td id=\"T_82fa7_row1_col4\" class=\"data row1 col4\" >3</td>\n",
              "      <td id=\"T_82fa7_row1_col5\" class=\"data row1 col5\" >0</td>\n",
              "      <td id=\"T_82fa7_row1_col6\" class=\"data row1 col6\" >13,600</td>\n",
              "    </tr>\n",
              "    <tr>\n",
              "      <td id=\"T_82fa7_row2_col0\" class=\"data row2 col0\" >9,000.00</td>\n",
              "      <td id=\"T_82fa7_row2_col1\" class=\"data row2 col1\" >6.96</td>\n",
              "      <td id=\"T_82fa7_row2_col2\" class=\"data row2 col2\" >46,100</td>\n",
              "      <td id=\"T_82fa7_row2_col3\" class=\"data row2 col3\" >0.35</td>\n",
              "      <td id=\"T_82fa7_row2_col4\" class=\"data row2 col4\" >3</td>\n",
              "      <td id=\"T_82fa7_row2_col5\" class=\"data row2 col5\" >0</td>\n",
              "      <td id=\"T_82fa7_row2_col6\" class=\"data row2 col6\" >16,100</td>\n",
              "    </tr>\n",
              "    <tr>\n",
              "      <td id=\"T_82fa7_row3_col0\" class=\"data row3 col0\" >10,700.00</td>\n",
              "      <td id=\"T_82fa7_row3_col1\" class=\"data row3 col1\" >7.66</td>\n",
              "      <td id=\"T_82fa7_row3_col2\" class=\"data row3 col2\" >52,700</td>\n",
              "      <td id=\"T_82fa7_row3_col3\" class=\"data row3 col3\" >0.43</td>\n",
              "      <td id=\"T_82fa7_row3_col4\" class=\"data row3 col4\" >5</td>\n",
              "      <td id=\"T_82fa7_row3_col5\" class=\"data row3 col5\" >1</td>\n",
              "      <td id=\"T_82fa7_row3_col6\" class=\"data row3 col6\" >22,700</td>\n",
              "    </tr>\n",
              "    <tr>\n",
              "      <td id=\"T_82fa7_row4_col0\" class=\"data row4 col0\" >10,800.00</td>\n",
              "      <td id=\"T_82fa7_row4_col1\" class=\"data row4 col1\" >7.70</td>\n",
              "      <td id=\"T_82fa7_row4_col2\" class=\"data row4 col2\" >53,000</td>\n",
              "      <td id=\"T_82fa7_row4_col3\" class=\"data row4 col3\" >0.43</td>\n",
              "      <td id=\"T_82fa7_row4_col4\" class=\"data row4 col4\" >5</td>\n",
              "      <td id=\"T_82fa7_row4_col5\" class=\"data row4 col5\" >1</td>\n",
              "      <td id=\"T_82fa7_row4_col6\" class=\"data row4 col6\" >23,000</td>\n",
              "    </tr>\n",
              "    <tr>\n",
              "      <td id=\"T_82fa7_row5_col0\" class=\"data row5 col0\" >10,100.00</td>\n",
              "      <td id=\"T_82fa7_row5_col1\" class=\"data row5 col1\" >7.44</td>\n",
              "      <td id=\"T_82fa7_row5_col2\" class=\"data row5 col2\" >50,600</td>\n",
              "      <td id=\"T_82fa7_row5_col3\" class=\"data row5 col3\" >0.41</td>\n",
              "      <td id=\"T_82fa7_row5_col4\" class=\"data row5 col4\" >4</td>\n",
              "      <td id=\"T_82fa7_row5_col5\" class=\"data row5 col5\" >1</td>\n",
              "      <td id=\"T_82fa7_row5_col6\" class=\"data row5 col6\" >20,600</td>\n",
              "    </tr>\n",
              "    <tr>\n",
              "      <td id=\"T_82fa7_row6_col0\" class=\"data row6 col0\" >10,300.00</td>\n",
              "      <td id=\"T_82fa7_row6_col1\" class=\"data row6 col1\" >7.49</td>\n",
              "      <td id=\"T_82fa7_row6_col2\" class=\"data row6 col2\" >51,100</td>\n",
              "      <td id=\"T_82fa7_row6_col3\" class=\"data row6 col3\" >0.41</td>\n",
              "      <td id=\"T_82fa7_row6_col4\" class=\"data row6 col4\" >4</td>\n",
              "      <td id=\"T_82fa7_row6_col5\" class=\"data row6 col5\" >1</td>\n",
              "      <td id=\"T_82fa7_row6_col6\" class=\"data row6 col6\" >21,100</td>\n",
              "    </tr>\n",
              "    <tr>\n",
              "      <td id=\"T_82fa7_row7_col0\" class=\"data row7 col0\" >8,800.00</td>\n",
              "      <td id=\"T_82fa7_row7_col1\" class=\"data row7 col1\" >6.86</td>\n",
              "      <td id=\"T_82fa7_row7_col2\" class=\"data row7 col2\" >45,100</td>\n",
              "      <td id=\"T_82fa7_row7_col3\" class=\"data row7 col3\" >0.33</td>\n",
              "      <td id=\"T_82fa7_row7_col4\" class=\"data row7 col4\" >3</td>\n",
              "      <td id=\"T_82fa7_row7_col5\" class=\"data row7 col5\" >0</td>\n",
              "      <td id=\"T_82fa7_row7_col6\" class=\"data row7 col6\" >15,100</td>\n",
              "    </tr>\n",
              "    <tr>\n",
              "      <td id=\"T_82fa7_row8_col0\" class=\"data row8 col0\" >9,300.00</td>\n",
              "      <td id=\"T_82fa7_row8_col1\" class=\"data row8 col1\" >7.10</td>\n",
              "      <td id=\"T_82fa7_row8_col2\" class=\"data row8 col2\" >47,400</td>\n",
              "      <td id=\"T_82fa7_row8_col3\" class=\"data row8 col3\" >0.37</td>\n",
              "      <td id=\"T_82fa7_row8_col4\" class=\"data row8 col4\" >3</td>\n",
              "      <td id=\"T_82fa7_row8_col5\" class=\"data row8 col5\" >0</td>\n",
              "      <td id=\"T_82fa7_row8_col6\" class=\"data row8 col6\" >17,400</td>\n",
              "    </tr>\n",
              "    <tr>\n",
              "      <td id=\"T_82fa7_row9_col0\" class=\"data row9 col0\" >9,700.00</td>\n",
              "      <td id=\"T_82fa7_row9_col1\" class=\"data row9 col1\" >7.25</td>\n",
              "      <td id=\"T_82fa7_row9_col2\" class=\"data row9 col2\" >48,800</td>\n",
              "      <td id=\"T_82fa7_row9_col3\" class=\"data row9 col3\" >0.39</td>\n",
              "      <td id=\"T_82fa7_row9_col4\" class=\"data row9 col4\" >4</td>\n",
              "      <td id=\"T_82fa7_row9_col5\" class=\"data row9 col5\" >0</td>\n",
              "      <td id=\"T_82fa7_row9_col6\" class=\"data row9 col6\" >18,800</td>\n",
              "    </tr>\n",
              "  </tbody>\n",
              "</table>\n"
            ]
          },
          "metadata": {},
          "execution_count": 9
        }
      ],
      "source": [
        "pandasx.return_formatted_table(x_dataframe, 'Table 1.3.2: Lending Features DataFrame')"
      ]
    },
    {
      "cell_type": "markdown",
      "metadata": {
        "id": "2LJft9jIXVC5"
      },
      "source": [
        "## **1.4: Split the Data into Training and Testing Datasets by Using `train_test_split`.**"
      ]
    },
    {
      "cell_type": "code",
      "execution_count": 10,
      "metadata": {
        "id": "d3QfUfSQXVC5"
      },
      "outputs": [],
      "source": [
        "x_train_dataframe, x_test_dataframe, \\\n",
        "y_train_series, y_test_series \\\n",
        "    = train_test_split \\\n",
        "        (x_dataframe, y_series,\n",
        "         random_state = credit_risk_constants.CONSTANT_ML_RANDOM_STATE_1)"
      ]
    },
    {
      "cell_type": "code",
      "execution_count": 11,
      "metadata": {
        "id": "kRZpP0LJXVC5"
      },
      "outputs": [],
      "source": [
        "logx.log_write_object(x_train_dataframe)\n",
        "\n",
        "logx.log_write_object(x_test_dataframe)\n",
        "\n",
        "logx.log_write_object(y_train_series)\n",
        "\n",
        "logx.log_write_object(y_test_series)"
      ]
    },
    {
      "cell_type": "markdown",
      "metadata": {
        "id": "GJzJXVNWXVC5"
      },
      "source": [
        "## **1.5: Use the StandardScaler to Scale the X Variables**"
      ]
    },
    {
      "cell_type": "markdown",
      "metadata": {
        "id": "UZVrWkb2XVC5"
      },
      "source": [
        "### **Scale Training and Test Data as Numpy Arrays**"
      ]
    },
    {
      "cell_type": "code",
      "execution_count": 12,
      "metadata": {
        "id": "IRd2HJf0XVC5"
      },
      "outputs": [],
      "source": [
        "x_train_scaled_nparray = StandardScaler().fit_transform(x_train_dataframe)\n",
        "\n",
        "logx.log_write_object(x_train_scaled_nparray)"
      ]
    },
    {
      "cell_type": "code",
      "execution_count": 13,
      "metadata": {
        "id": "T296CUjHXVC5"
      },
      "outputs": [],
      "source": [
        "x_test_scaled_nparray = StandardScaler().fit_transform(x_test_dataframe)\n",
        "\n",
        "logx.log_write_object(x_test_scaled_nparray)"
      ]
    },
    {
      "cell_type": "markdown",
      "metadata": {
        "id": "0CcCMka_XVC5"
      },
      "source": [
        "### **Create Scaled X Variable DataFrames**"
      ]
    },
    {
      "cell_type": "code",
      "execution_count": 14,
      "metadata": {
        "id": "UIYAQnVAXVC5"
      },
      "outputs": [],
      "source": [
        "x_train_scaled_dataframe \\\n",
        "    = pd.DataFrame \\\n",
        "        (x_train_scaled_nparray,\n",
        "         columns = x_train_dataframe.columns,\n",
        "         index = x_train_dataframe.index)\n",
        "\n",
        "logx.log_write_object(x_train_scaled_dataframe)"
      ]
    },
    {
      "cell_type": "code",
      "execution_count": 15,
      "metadata": {
        "id": "nrniI0RaXVC5"
      },
      "outputs": [],
      "source": [
        "x_test_scaled_dataframe \\\n",
        "    = pd.DataFrame \\\n",
        "        (x_test_scaled_nparray,\n",
        "         columns = x_test_dataframe.columns,\n",
        "         index = x_test_dataframe.index)\n",
        "\n",
        "logx.log_write_object(x_test_scaled_dataframe)"
      ]
    },
    {
      "cell_type": "markdown",
      "metadata": {
        "id": "s8ADDF98XVC6"
      },
      "source": [
        "### **Display Scaled Training and Testing Data**"
      ]
    },
    {
      "cell_type": "code",
      "execution_count": 16,
      "metadata": {
        "colab": {
          "base_uri": "https://localhost:8080/",
          "height": 398
        },
        "id": "K96yYtXrXVC6",
        "outputId": "75ec1464-55f3-4deb-a03e-4280b93abfb6"
      },
      "outputs": [
        {
          "output_type": "execute_result",
          "data": {
            "text/plain": [
              "<pandas.io.formats.style.Styler at 0x78ae78ce7460>"
            ],
            "text/html": [
              "<style type=\"text/css\">\n",
              "#T_95f50 caption {\n",
              "  color: black;\n",
              "  font-size: 20px;\n",
              "  font-style: bold;\n",
              "  text-align: center;\n",
              "}\n",
              "#T_95f50_row0_col0, #T_95f50_row0_col1, #T_95f50_row0_col2, #T_95f50_row0_col3, #T_95f50_row0_col4, #T_95f50_row0_col5, #T_95f50_row0_col6, #T_95f50_row1_col0, #T_95f50_row1_col1, #T_95f50_row1_col2, #T_95f50_row1_col3, #T_95f50_row1_col4, #T_95f50_row1_col5, #T_95f50_row1_col6, #T_95f50_row2_col0, #T_95f50_row2_col1, #T_95f50_row2_col2, #T_95f50_row2_col3, #T_95f50_row2_col4, #T_95f50_row2_col5, #T_95f50_row2_col6, #T_95f50_row3_col0, #T_95f50_row3_col1, #T_95f50_row3_col2, #T_95f50_row3_col3, #T_95f50_row3_col4, #T_95f50_row3_col5, #T_95f50_row3_col6, #T_95f50_row4_col0, #T_95f50_row4_col1, #T_95f50_row4_col2, #T_95f50_row4_col3, #T_95f50_row4_col4, #T_95f50_row4_col5, #T_95f50_row4_col6, #T_95f50_row5_col0, #T_95f50_row5_col1, #T_95f50_row5_col2, #T_95f50_row5_col3, #T_95f50_row5_col4, #T_95f50_row5_col5, #T_95f50_row5_col6, #T_95f50_row6_col0, #T_95f50_row6_col1, #T_95f50_row6_col2, #T_95f50_row6_col3, #T_95f50_row6_col4, #T_95f50_row6_col5, #T_95f50_row6_col6, #T_95f50_row7_col0, #T_95f50_row7_col1, #T_95f50_row7_col2, #T_95f50_row7_col3, #T_95f50_row7_col4, #T_95f50_row7_col5, #T_95f50_row7_col6, #T_95f50_row8_col0, #T_95f50_row8_col1, #T_95f50_row8_col2, #T_95f50_row8_col3, #T_95f50_row8_col4, #T_95f50_row8_col5, #T_95f50_row8_col6, #T_95f50_row9_col0, #T_95f50_row9_col1, #T_95f50_row9_col2, #T_95f50_row9_col3, #T_95f50_row9_col4, #T_95f50_row9_col5, #T_95f50_row9_col6 {\n",
              "  text-align: center;\n",
              "  border: 1.3px solid red;\n",
              "  color: blue;\n",
              "}\n",
              "</style>\n",
              "<table id=\"T_95f50\" class=\"dataframe\">\n",
              "  <caption>Table 1.5.1: Lending Scaled Features Training Data</caption>\n",
              "  <thead>\n",
              "    <tr>\n",
              "      <th id=\"T_95f50_level0_col0\" class=\"col_heading level0 col0\" >loan_size</th>\n",
              "      <th id=\"T_95f50_level0_col1\" class=\"col_heading level0 col1\" >interest_rate</th>\n",
              "      <th id=\"T_95f50_level0_col2\" class=\"col_heading level0 col2\" >borrower_income</th>\n",
              "      <th id=\"T_95f50_level0_col3\" class=\"col_heading level0 col3\" >debt_to_income</th>\n",
              "      <th id=\"T_95f50_level0_col4\" class=\"col_heading level0 col4\" >num_of_accounts</th>\n",
              "      <th id=\"T_95f50_level0_col5\" class=\"col_heading level0 col5\" >derogatory_marks</th>\n",
              "      <th id=\"T_95f50_level0_col6\" class=\"col_heading level0 col6\" >total_debt</th>\n",
              "    </tr>\n",
              "  </thead>\n",
              "  <tbody>\n",
              "    <tr>\n",
              "      <td id=\"T_95f50_row0_col0\" class=\"data row0 col0\" >-0.34</td>\n",
              "      <td id=\"T_95f50_row0_col1\" class=\"data row0 col1\" >-0.33</td>\n",
              "      <td id=\"T_95f50_row0_col2\" class=\"data row0 col2\" >-0.34</td>\n",
              "      <td id=\"T_95f50_row0_col3\" class=\"data row0 col3\" >-0.29</td>\n",
              "      <td id=\"T_95f50_row0_col4\" class=\"data row0 col4\" >-0.43</td>\n",
              "      <td id=\"T_95f50_row0_col5\" class=\"data row0 col5\" >-0.67</td>\n",
              "      <td id=\"T_95f50_row0_col6\" class=\"data row0 col6\" >-0.34</td>\n",
              "    </tr>\n",
              "    <tr>\n",
              "      <td id=\"T_95f50_row1_col0\" class=\"data row1 col0\" >-0.57</td>\n",
              "      <td id=\"T_95f50_row1_col1\" class=\"data row1 col1\" >-0.60</td>\n",
              "      <td id=\"T_95f50_row1_col2\" class=\"data row1 col2\" >-0.60</td>\n",
              "      <td id=\"T_95f50_row1_col3\" class=\"data row1 col3\" >-0.68</td>\n",
              "      <td id=\"T_95f50_row1_col4\" class=\"data row1 col4\" >-0.43</td>\n",
              "      <td id=\"T_95f50_row1_col5\" class=\"data row1 col5\" >-0.67</td>\n",
              "      <td id=\"T_95f50_row1_col6\" class=\"data row1 col6\" >-0.60</td>\n",
              "    </tr>\n",
              "    <tr>\n",
              "      <td id=\"T_95f50_row2_col0\" class=\"data row2 col0\" >0.38</td>\n",
              "      <td id=\"T_95f50_row2_col1\" class=\"data row2 col1\" >0.39</td>\n",
              "      <td id=\"T_95f50_row2_col2\" class=\"data row2 col2\" >0.39</td>\n",
              "      <td id=\"T_95f50_row2_col3\" class=\"data row2 col3\" >0.63</td>\n",
              "      <td id=\"T_95f50_row2_col4\" class=\"data row2 col4\" >0.61</td>\n",
              "      <td id=\"T_95f50_row2_col5\" class=\"data row2 col5\" >1.04</td>\n",
              "      <td id=\"T_95f50_row2_col6\" class=\"data row2 col6\" >0.39</td>\n",
              "    </tr>\n",
              "    <tr>\n",
              "      <td id=\"T_95f50_row3_col0\" class=\"data row3 col0\" >-0.57</td>\n",
              "      <td id=\"T_95f50_row3_col1\" class=\"data row3 col1\" >-0.57</td>\n",
              "      <td id=\"T_95f50_row3_col2\" class=\"data row3 col2\" >-0.56</td>\n",
              "      <td id=\"T_95f50_row3_col3\" class=\"data row3 col3\" >-0.63</td>\n",
              "      <td id=\"T_95f50_row3_col4\" class=\"data row3 col4\" >-0.43</td>\n",
              "      <td id=\"T_95f50_row3_col5\" class=\"data row3 col5\" >-0.67</td>\n",
              "      <td id=\"T_95f50_row3_col6\" class=\"data row3 col6\" >-0.56</td>\n",
              "    </tr>\n",
              "    <tr>\n",
              "      <td id=\"T_95f50_row4_col0\" class=\"data row4 col0\" >-1.00</td>\n",
              "      <td id=\"T_95f50_row4_col1\" class=\"data row4 col1\" >-0.98</td>\n",
              "      <td id=\"T_95f50_row4_col2\" class=\"data row4 col2\" >-0.98</td>\n",
              "      <td id=\"T_95f50_row4_col3\" class=\"data row4 col3\" >-1.33</td>\n",
              "      <td id=\"T_95f50_row4_col4\" class=\"data row4 col4\" >-0.96</td>\n",
              "      <td id=\"T_95f50_row4_col5\" class=\"data row4 col5\" >-0.67</td>\n",
              "      <td id=\"T_95f50_row4_col6\" class=\"data row4 col6\" >-0.98</td>\n",
              "    </tr>\n",
              "    <tr>\n",
              "      <td id=\"T_95f50_row5_col0\" class=\"data row5 col0\" >-0.10</td>\n",
              "      <td id=\"T_95f50_row5_col1\" class=\"data row5 col1\" >-0.11</td>\n",
              "      <td id=\"T_95f50_row5_col2\" class=\"data row5 col2\" >-0.11</td>\n",
              "      <td id=\"T_95f50_row5_col3\" class=\"data row5 col3\" >0.02</td>\n",
              "      <td id=\"T_95f50_row5_col4\" class=\"data row5 col4\" >0.09</td>\n",
              "      <td id=\"T_95f50_row5_col5\" class=\"data row5 col5\" >-0.67</td>\n",
              "      <td id=\"T_95f50_row5_col6\" class=\"data row5 col6\" >-0.11</td>\n",
              "    </tr>\n",
              "    <tr>\n",
              "      <td id=\"T_95f50_row6_col0\" class=\"data row6 col0\" >-0.77</td>\n",
              "      <td id=\"T_95f50_row6_col1\" class=\"data row6 col1\" >-0.78</td>\n",
              "      <td id=\"T_95f50_row6_col2\" class=\"data row6 col2\" >-0.78</td>\n",
              "      <td id=\"T_95f50_row6_col3\" class=\"data row6 col3\" >-0.98</td>\n",
              "      <td id=\"T_95f50_row6_col4\" class=\"data row6 col4\" >-0.96</td>\n",
              "      <td id=\"T_95f50_row6_col5\" class=\"data row6 col5\" >-0.67</td>\n",
              "      <td id=\"T_95f50_row6_col6\" class=\"data row6 col6\" >-0.78</td>\n",
              "    </tr>\n",
              "    <tr>\n",
              "      <td id=\"T_95f50_row7_col0\" class=\"data row7 col0\" >-1.05</td>\n",
              "      <td id=\"T_95f50_row7_col1\" class=\"data row7 col1\" >-1.06</td>\n",
              "      <td id=\"T_95f50_row7_col2\" class=\"data row7 col2\" >-1.06</td>\n",
              "      <td id=\"T_95f50_row7_col3\" class=\"data row7 col3\" >-1.49</td>\n",
              "      <td id=\"T_95f50_row7_col4\" class=\"data row7 col4\" >-0.96</td>\n",
              "      <td id=\"T_95f50_row7_col5\" class=\"data row7 col5\" >-0.67</td>\n",
              "      <td id=\"T_95f50_row7_col6\" class=\"data row7 col6\" >-1.06</td>\n",
              "    </tr>\n",
              "    <tr>\n",
              "      <td id=\"T_95f50_row8_col0\" class=\"data row8 col0\" >-0.96</td>\n",
              "      <td id=\"T_95f50_row8_col1\" class=\"data row8 col1\" >-0.97</td>\n",
              "      <td id=\"T_95f50_row8_col2\" class=\"data row8 col2\" >-0.97</td>\n",
              "      <td id=\"T_95f50_row8_col3\" class=\"data row8 col3\" >-1.31</td>\n",
              "      <td id=\"T_95f50_row8_col4\" class=\"data row8 col4\" >-0.96</td>\n",
              "      <td id=\"T_95f50_row8_col5\" class=\"data row8 col5\" >-0.67</td>\n",
              "      <td id=\"T_95f50_row8_col6\" class=\"data row8 col6\" >-0.97</td>\n",
              "    </tr>\n",
              "    <tr>\n",
              "      <td id=\"T_95f50_row9_col0\" class=\"data row9 col0\" >0.19</td>\n",
              "      <td id=\"T_95f50_row9_col1\" class=\"data row9 col1\" >0.17</td>\n",
              "      <td id=\"T_95f50_row9_col2\" class=\"data row9 col2\" >0.18</td>\n",
              "      <td id=\"T_95f50_row9_col3\" class=\"data row9 col3\" >0.38</td>\n",
              "      <td id=\"T_95f50_row9_col4\" class=\"data row9 col4\" >0.09</td>\n",
              "      <td id=\"T_95f50_row9_col5\" class=\"data row9 col5\" >1.04</td>\n",
              "      <td id=\"T_95f50_row9_col6\" class=\"data row9 col6\" >0.18</td>\n",
              "    </tr>\n",
              "  </tbody>\n",
              "</table>\n"
            ]
          },
          "metadata": {},
          "execution_count": 16
        }
      ],
      "source": [
        "pandasx.return_formatted_table \\\n",
        "    (x_train_scaled_dataframe,\n",
        "     'Table 1.5.1: Lending Scaled Features Training Data')"
      ]
    },
    {
      "cell_type": "code",
      "execution_count": 17,
      "metadata": {
        "colab": {
          "base_uri": "https://localhost:8080/",
          "height": 398
        },
        "id": "ElQapd7cXVC6",
        "outputId": "7d8df89c-b1d9-4e07-c48f-95a0135a9839"
      },
      "outputs": [
        {
          "output_type": "execute_result",
          "data": {
            "text/plain": [
              "<pandas.io.formats.style.Styler at 0x78ae78ce68c0>"
            ],
            "text/html": [
              "<style type=\"text/css\">\n",
              "#T_abda0 caption {\n",
              "  color: black;\n",
              "  font-size: 20px;\n",
              "  font-style: bold;\n",
              "  text-align: center;\n",
              "}\n",
              "#T_abda0_row0_col0, #T_abda0_row0_col1, #T_abda0_row0_col2, #T_abda0_row0_col3, #T_abda0_row0_col4, #T_abda0_row0_col5, #T_abda0_row0_col6, #T_abda0_row1_col0, #T_abda0_row1_col1, #T_abda0_row1_col2, #T_abda0_row1_col3, #T_abda0_row1_col4, #T_abda0_row1_col5, #T_abda0_row1_col6, #T_abda0_row2_col0, #T_abda0_row2_col1, #T_abda0_row2_col2, #T_abda0_row2_col3, #T_abda0_row2_col4, #T_abda0_row2_col5, #T_abda0_row2_col6, #T_abda0_row3_col0, #T_abda0_row3_col1, #T_abda0_row3_col2, #T_abda0_row3_col3, #T_abda0_row3_col4, #T_abda0_row3_col5, #T_abda0_row3_col6, #T_abda0_row4_col0, #T_abda0_row4_col1, #T_abda0_row4_col2, #T_abda0_row4_col3, #T_abda0_row4_col4, #T_abda0_row4_col5, #T_abda0_row4_col6, #T_abda0_row5_col0, #T_abda0_row5_col1, #T_abda0_row5_col2, #T_abda0_row5_col3, #T_abda0_row5_col4, #T_abda0_row5_col5, #T_abda0_row5_col6, #T_abda0_row6_col0, #T_abda0_row6_col1, #T_abda0_row6_col2, #T_abda0_row6_col3, #T_abda0_row6_col4, #T_abda0_row6_col5, #T_abda0_row6_col6, #T_abda0_row7_col0, #T_abda0_row7_col1, #T_abda0_row7_col2, #T_abda0_row7_col3, #T_abda0_row7_col4, #T_abda0_row7_col5, #T_abda0_row7_col6, #T_abda0_row8_col0, #T_abda0_row8_col1, #T_abda0_row8_col2, #T_abda0_row8_col3, #T_abda0_row8_col4, #T_abda0_row8_col5, #T_abda0_row8_col6, #T_abda0_row9_col0, #T_abda0_row9_col1, #T_abda0_row9_col2, #T_abda0_row9_col3, #T_abda0_row9_col4, #T_abda0_row9_col5, #T_abda0_row9_col6 {\n",
              "  text-align: center;\n",
              "  border: 1.3px solid red;\n",
              "  color: blue;\n",
              "}\n",
              "</style>\n",
              "<table id=\"T_abda0\" class=\"dataframe\">\n",
              "  <caption>Table 1.5.2: Lending Scaled Features Test Data</caption>\n",
              "  <thead>\n",
              "    <tr>\n",
              "      <th id=\"T_abda0_level0_col0\" class=\"col_heading level0 col0\" >loan_size</th>\n",
              "      <th id=\"T_abda0_level0_col1\" class=\"col_heading level0 col1\" >interest_rate</th>\n",
              "      <th id=\"T_abda0_level0_col2\" class=\"col_heading level0 col2\" >borrower_income</th>\n",
              "      <th id=\"T_abda0_level0_col3\" class=\"col_heading level0 col3\" >debt_to_income</th>\n",
              "      <th id=\"T_abda0_level0_col4\" class=\"col_heading level0 col4\" >num_of_accounts</th>\n",
              "      <th id=\"T_abda0_level0_col5\" class=\"col_heading level0 col5\" >derogatory_marks</th>\n",
              "      <th id=\"T_abda0_level0_col6\" class=\"col_heading level0 col6\" >total_debt</th>\n",
              "    </tr>\n",
              "  </thead>\n",
              "  <tbody>\n",
              "    <tr>\n",
              "      <td id=\"T_abda0_row0_col0\" class=\"data row0 col0\" >-0.15</td>\n",
              "      <td id=\"T_abda0_row0_col1\" class=\"data row0 col1\" >-0.13</td>\n",
              "      <td id=\"T_abda0_row0_col2\" class=\"data row0 col2\" >-0.14</td>\n",
              "      <td id=\"T_abda0_row0_col3\" class=\"data row0 col3\" >-0.02</td>\n",
              "      <td id=\"T_abda0_row0_col4\" class=\"data row0 col4\" >0.09</td>\n",
              "      <td id=\"T_abda0_row0_col5\" class=\"data row0 col5\" >-0.68</td>\n",
              "      <td id=\"T_abda0_row0_col6\" class=\"data row0 col6\" >-0.14</td>\n",
              "    </tr>\n",
              "    <tr>\n",
              "      <td id=\"T_abda0_row1_col0\" class=\"data row1 col0\" >0.04</td>\n",
              "      <td id=\"T_abda0_row1_col1\" class=\"data row1 col1\" >0.05</td>\n",
              "      <td id=\"T_abda0_row1_col2\" class=\"data row1 col2\" >0.04</td>\n",
              "      <td id=\"T_abda0_row1_col3\" class=\"data row1 col3\" >0.22</td>\n",
              "      <td id=\"T_abda0_row1_col4\" class=\"data row1 col4\" >0.09</td>\n",
              "      <td id=\"T_abda0_row1_col5\" class=\"data row1 col5\" >-0.68</td>\n",
              "      <td id=\"T_abda0_row1_col6\" class=\"data row1 col6\" >0.04</td>\n",
              "    </tr>\n",
              "    <tr>\n",
              "      <td id=\"T_abda0_row2_col0\" class=\"data row2 col0\" >-0.68</td>\n",
              "      <td id=\"T_abda0_row2_col1\" class=\"data row2 col1\" >-0.66</td>\n",
              "      <td id=\"T_abda0_row2_col2\" class=\"data row2 col2\" >-0.65</td>\n",
              "      <td id=\"T_abda0_row2_col3\" class=\"data row2 col3\" >-0.77</td>\n",
              "      <td id=\"T_abda0_row2_col4\" class=\"data row2 col4\" >-0.44</td>\n",
              "      <td id=\"T_abda0_row2_col5\" class=\"data row2 col5\" >-0.68</td>\n",
              "      <td id=\"T_abda0_row2_col6\" class=\"data row2 col6\" >-0.65</td>\n",
              "    </tr>\n",
              "    <tr>\n",
              "      <td id=\"T_abda0_row3_col0\" class=\"data row3 col0\" >-0.97</td>\n",
              "      <td id=\"T_abda0_row3_col1\" class=\"data row3 col1\" >-0.96</td>\n",
              "      <td id=\"T_abda0_row3_col2\" class=\"data row3 col2\" >-0.95</td>\n",
              "      <td id=\"T_abda0_row3_col3\" class=\"data row3 col3\" >-1.29</td>\n",
              "      <td id=\"T_abda0_row3_col4\" class=\"data row3 col4\" >-0.97</td>\n",
              "      <td id=\"T_abda0_row3_col5\" class=\"data row3 col5\" >-0.68</td>\n",
              "      <td id=\"T_abda0_row3_col6\" class=\"data row3 col6\" >-0.95</td>\n",
              "    </tr>\n",
              "    <tr>\n",
              "      <td id=\"T_abda0_row4_col0\" class=\"data row4 col0\" >0.33</td>\n",
              "      <td id=\"T_abda0_row4_col1\" class=\"data row4 col1\" >0.35</td>\n",
              "      <td id=\"T_abda0_row4_col2\" class=\"data row4 col2\" >0.36</td>\n",
              "      <td id=\"T_abda0_row4_col3\" class=\"data row4 col3\" >0.59</td>\n",
              "      <td id=\"T_abda0_row4_col4\" class=\"data row4 col4\" >0.09</td>\n",
              "      <td id=\"T_abda0_row4_col5\" class=\"data row4 col5\" >1.04</td>\n",
              "      <td id=\"T_abda0_row4_col6\" class=\"data row4 col6\" >0.36</td>\n",
              "    </tr>\n",
              "    <tr>\n",
              "      <td id=\"T_abda0_row5_col0\" class=\"data row5 col0\" >0.24</td>\n",
              "      <td id=\"T_abda0_row5_col1\" class=\"data row5 col1\" >0.25</td>\n",
              "      <td id=\"T_abda0_row5_col2\" class=\"data row5 col2\" >0.25</td>\n",
              "      <td id=\"T_abda0_row5_col3\" class=\"data row5 col3\" >0.47</td>\n",
              "      <td id=\"T_abda0_row5_col4\" class=\"data row5 col4\" >0.09</td>\n",
              "      <td id=\"T_abda0_row5_col5\" class=\"data row5 col5\" >1.04</td>\n",
              "      <td id=\"T_abda0_row5_col6\" class=\"data row5 col6\" >0.25</td>\n",
              "    </tr>\n",
              "    <tr>\n",
              "      <td id=\"T_abda0_row6_col0\" class=\"data row6 col0\" >-0.05</td>\n",
              "      <td id=\"T_abda0_row6_col1\" class=\"data row6 col1\" >-0.05</td>\n",
              "      <td id=\"T_abda0_row6_col2\" class=\"data row6 col2\" >-0.04</td>\n",
              "      <td id=\"T_abda0_row6_col3\" class=\"data row6 col3\" >0.11</td>\n",
              "      <td id=\"T_abda0_row6_col4\" class=\"data row6 col4\" >0.09</td>\n",
              "      <td id=\"T_abda0_row6_col5\" class=\"data row6 col5\" >-0.68</td>\n",
              "      <td id=\"T_abda0_row6_col6\" class=\"data row6 col6\" >-0.04</td>\n",
              "    </tr>\n",
              "    <tr>\n",
              "      <td id=\"T_abda0_row7_col0\" class=\"data row7 col0\" >-0.15</td>\n",
              "      <td id=\"T_abda0_row7_col1\" class=\"data row7 col1\" >-0.17</td>\n",
              "      <td id=\"T_abda0_row7_col2\" class=\"data row7 col2\" >-0.17</td>\n",
              "      <td id=\"T_abda0_row7_col3\" class=\"data row7 col3\" >-0.06</td>\n",
              "      <td id=\"T_abda0_row7_col4\" class=\"data row7 col4\" >0.09</td>\n",
              "      <td id=\"T_abda0_row7_col5\" class=\"data row7 col5\" >-0.68</td>\n",
              "      <td id=\"T_abda0_row7_col6\" class=\"data row7 col6\" >-0.17</td>\n",
              "    </tr>\n",
              "    <tr>\n",
              "      <td id=\"T_abda0_row8_col0\" class=\"data row8 col0\" >0.04</td>\n",
              "      <td id=\"T_abda0_row8_col1\" class=\"data row8 col1\" >0.03</td>\n",
              "      <td id=\"T_abda0_row8_col2\" class=\"data row8 col2\" >0.03</td>\n",
              "      <td id=\"T_abda0_row8_col3\" class=\"data row8 col3\" >0.20</td>\n",
              "      <td id=\"T_abda0_row8_col4\" class=\"data row8 col4\" >0.09</td>\n",
              "      <td id=\"T_abda0_row8_col5\" class=\"data row8 col5\" >-0.68</td>\n",
              "      <td id=\"T_abda0_row8_col6\" class=\"data row8 col6\" >0.03</td>\n",
              "    </tr>\n",
              "    <tr>\n",
              "      <td id=\"T_abda0_row9_col0\" class=\"data row9 col0\" >0.33</td>\n",
              "      <td id=\"T_abda0_row9_col1\" class=\"data row9 col1\" >0.35</td>\n",
              "      <td id=\"T_abda0_row9_col2\" class=\"data row9 col2\" >0.35</td>\n",
              "      <td id=\"T_abda0_row9_col3\" class=\"data row9 col3\" >0.58</td>\n",
              "      <td id=\"T_abda0_row9_col4\" class=\"data row9 col4\" >0.09</td>\n",
              "      <td id=\"T_abda0_row9_col5\" class=\"data row9 col5\" >1.04</td>\n",
              "      <td id=\"T_abda0_row9_col6\" class=\"data row9 col6\" >0.35</td>\n",
              "    </tr>\n",
              "  </tbody>\n",
              "</table>\n"
            ]
          },
          "metadata": {},
          "execution_count": 17
        }
      ],
      "source": [
        "pandasx.return_formatted_table \\\n",
        "    (x_test_scaled_dataframe,\n",
        "     'Table 1.5.2: Lending Scaled Features Test Data')"
      ]
    },
    {
      "cell_type": "markdown",
      "metadata": {
        "id": "2kTPyaZHXVC6"
      },
      "source": [
        "# <br> **Section 2: Undersampled and OverSampled Spam Data**"
      ]
    },
    {
      "cell_type": "markdown",
      "metadata": {
        "id": "W4fBabI-XVC6"
      },
      "source": [
        "## **2.1: Instantiate the Random Undersampler Instance**"
      ]
    },
    {
      "cell_type": "code",
      "execution_count": 18,
      "metadata": {
        "id": "l1oR3dsiXVC6"
      },
      "outputs": [],
      "source": [
        "x_train_scaled_undersampled_dataframe, y_train_undersampled_series \\\n",
        "    = RandomUnderSampler(random_state = credit_risk_constants.CONSTANT_ML_RANDOM_STATE_1) \\\n",
        "        .fit_resample(x_train_scaled_dataframe, y_train_series)"
      ]
    },
    {
      "cell_type": "code",
      "execution_count": 19,
      "metadata": {
        "id": "m53vhAURXVC6"
      },
      "outputs": [],
      "source": [
        "logx.log_write_object(x_train_scaled_undersampled_dataframe)\n",
        "\n",
        "logx.log_write_object(y_train_undersampled_series)"
      ]
    },
    {
      "cell_type": "markdown",
      "metadata": {
        "id": "jXJcG127XVC6"
      },
      "source": [
        "## **2.2: Instantiate the Random Oversampler Instance**"
      ]
    },
    {
      "cell_type": "code",
      "execution_count": 20,
      "metadata": {
        "id": "tlCJrD3zXVC6"
      },
      "outputs": [],
      "source": [
        "x_train_scaled_oversampled_dataframe, y_train_oversampled_series \\\n",
        "    = RandomOverSampler(random_state = credit_risk_constants.CONSTANT_ML_RANDOM_STATE_1) \\\n",
        "        .fit_resample(x_train_scaled_dataframe, y_train_series)"
      ]
    },
    {
      "cell_type": "code",
      "execution_count": 21,
      "metadata": {
        "id": "h0kPin7tXVC6"
      },
      "outputs": [],
      "source": [
        "logx.log_write_object(x_train_scaled_undersampled_dataframe)\n",
        "\n",
        "logx.log_write_object(y_train_undersampled_series)"
      ]
    },
    {
      "cell_type": "markdown",
      "metadata": {
        "id": "Scv3xc3EXVC6"
      },
      "source": [
        "## **2.3: Instantiate the Cluster Centroids Instance**"
      ]
    },
    {
      "cell_type": "code",
      "execution_count": 22,
      "metadata": {
        "id": "c7BqiqgDXVC-"
      },
      "outputs": [],
      "source": [
        "x_train_scaled_cluster_centroids_dataframe, y_train_cluster_centroids_series \\\n",
        "    = ClusterCentroids \\\n",
        "        (estimator = KMeans(n_init = 'auto', random_state = credit_risk_constants.CONSTANT_ML_RANDOM_STATE_2),\n",
        "         random_state = credit_risk_constants.CONSTANT_ML_RANDOM_STATE_1) \\\n",
        "            .fit_resample(x_train_scaled_dataframe, y_train_series)"
      ]
    },
    {
      "cell_type": "code",
      "execution_count": 23,
      "metadata": {
        "id": "_c-9p7ltXVC-"
      },
      "outputs": [],
      "source": [
        "logx.log_write_object(x_train_scaled_cluster_centroids_dataframe)\n",
        "\n",
        "logx.log_write_object(y_train_cluster_centroids_series)"
      ]
    },
    {
      "cell_type": "markdown",
      "metadata": {
        "id": "zceSz7nrXVC-"
      },
      "source": [
        "## **2.4: Instantiate the SMOTE Instance**"
      ]
    },
    {
      "cell_type": "code",
      "execution_count": 24,
      "metadata": {
        "id": "-W-mCtrNXVC-"
      },
      "outputs": [],
      "source": [
        "x_train_scaled_SMOTE_dataframe, y_train_SMOTE_series \\\n",
        "    = SMOTE(random_state = credit_risk_constants.CONSTANT_ML_RANDOM_STATE_1, sampling_strategy = 'auto') \\\n",
        "        .fit_resample(x_train_scaled_dataframe, y_train_series)"
      ]
    },
    {
      "cell_type": "code",
      "execution_count": 25,
      "metadata": {
        "id": "dfYdeiUkXVC-"
      },
      "outputs": [],
      "source": [
        "logx.log_write_object(x_train_scaled_SMOTE_dataframe)\n",
        "\n",
        "logx.log_write_object(y_train_SMOTE_series)"
      ]
    },
    {
      "cell_type": "markdown",
      "metadata": {
        "id": "f2oTd1CzXVC-"
      },
      "source": [
        "## **2.5: Instantiate the SMOTEENN Instance**"
      ]
    },
    {
      "cell_type": "code",
      "execution_count": 26,
      "metadata": {
        "id": "YG5ciHQsXVC-"
      },
      "outputs": [],
      "source": [
        "x_train_scaled_SMOTEENN_dataframe, y_train_SMOTEENN_series \\\n",
        "    = SMOTEENN(random_state = credit_risk_constants.CONSTANT_ML_RANDOM_STATE_1) \\\n",
        "        .fit_resample(x_train_scaled_dataframe, y_train_series)"
      ]
    },
    {
      "cell_type": "code",
      "execution_count": 27,
      "metadata": {
        "id": "2y6xqahCXVC-"
      },
      "outputs": [],
      "source": [
        "logx.log_write_object(x_train_scaled_SMOTEENN_dataframe)\n",
        "\n",
        "logx.log_write_object(y_train_SMOTEENN_series)"
      ]
    },
    {
      "cell_type": "markdown",
      "metadata": {
        "id": "YCLzqsgWXVC_"
      },
      "source": [
        "## **2.6: Check the Balance of the Labels Variable (`y`) by Using the `value_counts` Function.**"
      ]
    },
    {
      "cell_type": "code",
      "execution_count": 28,
      "metadata": {
        "colab": {
          "base_uri": "https://localhost:8080/"
        },
        "id": "vh6dh60uXVC_",
        "outputId": "cd0878c5-ec09-438c-d07e-e4ef1657b250"
      },
      "outputs": [
        {
          "output_type": "execute_result",
          "data": {
            "text/plain": [
              "loan_status\n",
              "0    1890\n",
              "1    1890\n",
              "Name: count, dtype: int64"
            ]
          },
          "metadata": {},
          "execution_count": 28
        }
      ],
      "source": [
        "y_train_undersampled_series.value_counts()"
      ]
    },
    {
      "cell_type": "code",
      "execution_count": 29,
      "metadata": {
        "colab": {
          "base_uri": "https://localhost:8080/"
        },
        "id": "5BNthb8OXVC_",
        "outputId": "b168d6e6-c58d-4104-a4ed-7f560a2f981e"
      },
      "outputs": [
        {
          "output_type": "execute_result",
          "data": {
            "text/plain": [
              "loan_status\n",
              "0    56262\n",
              "1    56262\n",
              "Name: count, dtype: int64"
            ]
          },
          "metadata": {},
          "execution_count": 29
        }
      ],
      "source": [
        "y_train_oversampled_series.value_counts()"
      ]
    },
    {
      "cell_type": "code",
      "execution_count": 30,
      "metadata": {
        "colab": {
          "base_uri": "https://localhost:8080/"
        },
        "id": "wIJ_KAk5XVC_",
        "outputId": "4c12e66c-a4d6-42b9-86de-a67b6125cf37"
      },
      "outputs": [
        {
          "output_type": "execute_result",
          "data": {
            "text/plain": [
              "loan_status\n",
              "0    1890\n",
              "1    1890\n",
              "Name: count, dtype: int64"
            ]
          },
          "metadata": {},
          "execution_count": 30
        }
      ],
      "source": [
        "y_train_cluster_centroids_series.value_counts()"
      ]
    },
    {
      "cell_type": "code",
      "execution_count": 31,
      "metadata": {
        "colab": {
          "base_uri": "https://localhost:8080/"
        },
        "id": "HkaDzgueXVC_",
        "outputId": "7a9fe795-e95c-4418-9e41-4de4c7e9df30"
      },
      "outputs": [
        {
          "output_type": "execute_result",
          "data": {
            "text/plain": [
              "loan_status\n",
              "0    56262\n",
              "1    56262\n",
              "Name: count, dtype: int64"
            ]
          },
          "metadata": {},
          "execution_count": 31
        }
      ],
      "source": [
        "y_train_SMOTE_series.value_counts()"
      ]
    },
    {
      "cell_type": "code",
      "execution_count": 32,
      "metadata": {
        "colab": {
          "base_uri": "https://localhost:8080/"
        },
        "id": "9rT62jy0XVC_",
        "outputId": "6ad70939-7112-4165-95fd-4576322884f8"
      },
      "outputs": [
        {
          "output_type": "execute_result",
          "data": {
            "text/plain": [
              "loan_status\n",
              "0    55873\n",
              "1    54849\n",
              "Name: count, dtype: int64"
            ]
          },
          "metadata": {},
          "execution_count": 32
        }
      ],
      "source": [
        "y_train_SMOTEENN_series.value_counts()"
      ]
    },
    {
      "cell_type": "markdown",
      "metadata": {
        "id": "hoZMt0rEXVC_"
      },
      "source": [
        "## **2.7: Display Normalized Resampled Training and Testing Data**"
      ]
    },
    {
      "cell_type": "code",
      "execution_count": 33,
      "metadata": {
        "colab": {
          "base_uri": "https://localhost:8080/",
          "height": 398
        },
        "id": "3AX4b1ndXVC_",
        "outputId": "5a7d4cc3-6305-4094-a428-1d77641da99d"
      },
      "outputs": [
        {
          "output_type": "execute_result",
          "data": {
            "text/plain": [
              "<pandas.io.formats.style.Styler at 0x78ae78d985b0>"
            ],
            "text/html": [
              "<style type=\"text/css\">\n",
              "#T_c0626 caption {\n",
              "  color: black;\n",
              "  font-size: 20px;\n",
              "  font-style: bold;\n",
              "  text-align: center;\n",
              "}\n",
              "#T_c0626_row0_col0, #T_c0626_row0_col1, #T_c0626_row0_col2, #T_c0626_row0_col3, #T_c0626_row0_col4, #T_c0626_row0_col5, #T_c0626_row0_col6, #T_c0626_row1_col0, #T_c0626_row1_col1, #T_c0626_row1_col2, #T_c0626_row1_col3, #T_c0626_row1_col4, #T_c0626_row1_col5, #T_c0626_row1_col6, #T_c0626_row2_col0, #T_c0626_row2_col1, #T_c0626_row2_col2, #T_c0626_row2_col3, #T_c0626_row2_col4, #T_c0626_row2_col5, #T_c0626_row2_col6, #T_c0626_row3_col0, #T_c0626_row3_col1, #T_c0626_row3_col2, #T_c0626_row3_col3, #T_c0626_row3_col4, #T_c0626_row3_col5, #T_c0626_row3_col6, #T_c0626_row4_col0, #T_c0626_row4_col1, #T_c0626_row4_col2, #T_c0626_row4_col3, #T_c0626_row4_col4, #T_c0626_row4_col5, #T_c0626_row4_col6, #T_c0626_row5_col0, #T_c0626_row5_col1, #T_c0626_row5_col2, #T_c0626_row5_col3, #T_c0626_row5_col4, #T_c0626_row5_col5, #T_c0626_row5_col6, #T_c0626_row6_col0, #T_c0626_row6_col1, #T_c0626_row6_col2, #T_c0626_row6_col3, #T_c0626_row6_col4, #T_c0626_row6_col5, #T_c0626_row6_col6, #T_c0626_row7_col0, #T_c0626_row7_col1, #T_c0626_row7_col2, #T_c0626_row7_col3, #T_c0626_row7_col4, #T_c0626_row7_col5, #T_c0626_row7_col6, #T_c0626_row8_col0, #T_c0626_row8_col1, #T_c0626_row8_col2, #T_c0626_row8_col3, #T_c0626_row8_col4, #T_c0626_row8_col5, #T_c0626_row8_col6, #T_c0626_row9_col0, #T_c0626_row9_col1, #T_c0626_row9_col2, #T_c0626_row9_col3, #T_c0626_row9_col4, #T_c0626_row9_col5, #T_c0626_row9_col6 {\n",
              "  text-align: center;\n",
              "  border: 1.3px solid red;\n",
              "  color: blue;\n",
              "}\n",
              "</style>\n",
              "<table id=\"T_c0626\" class=\"dataframe\">\n",
              "  <caption>Table 2.7.1: Scaled Features Training Undersampled Data</caption>\n",
              "  <thead>\n",
              "    <tr>\n",
              "      <th id=\"T_c0626_level0_col0\" class=\"col_heading level0 col0\" >loan_size</th>\n",
              "      <th id=\"T_c0626_level0_col1\" class=\"col_heading level0 col1\" >interest_rate</th>\n",
              "      <th id=\"T_c0626_level0_col2\" class=\"col_heading level0 col2\" >borrower_income</th>\n",
              "      <th id=\"T_c0626_level0_col3\" class=\"col_heading level0 col3\" >debt_to_income</th>\n",
              "      <th id=\"T_c0626_level0_col4\" class=\"col_heading level0 col4\" >num_of_accounts</th>\n",
              "      <th id=\"T_c0626_level0_col5\" class=\"col_heading level0 col5\" >derogatory_marks</th>\n",
              "      <th id=\"T_c0626_level0_col6\" class=\"col_heading level0 col6\" >total_debt</th>\n",
              "    </tr>\n",
              "  </thead>\n",
              "  <tbody>\n",
              "    <tr>\n",
              "      <td id=\"T_c0626_row0_col0\" class=\"data row0 col0\" >-0.62</td>\n",
              "      <td id=\"T_c0626_row0_col1\" class=\"data row0 col1\" >-0.63</td>\n",
              "      <td id=\"T_c0626_row0_col2\" class=\"data row0 col2\" >-0.63</td>\n",
              "      <td id=\"T_c0626_row0_col3\" class=\"data row0 col3\" >-0.74</td>\n",
              "      <td id=\"T_c0626_row0_col4\" class=\"data row0 col4\" >-0.43</td>\n",
              "      <td id=\"T_c0626_row0_col5\" class=\"data row0 col5\" >-0.67</td>\n",
              "      <td id=\"T_c0626_row0_col6\" class=\"data row0 col6\" >-0.63</td>\n",
              "    </tr>\n",
              "    <tr>\n",
              "      <td id=\"T_c0626_row1_col0\" class=\"data row1 col0\" >1.05</td>\n",
              "      <td id=\"T_c0626_row1_col1\" class=\"data row1 col1\" >1.05</td>\n",
              "      <td id=\"T_c0626_row1_col2\" class=\"data row1 col2\" >1.06</td>\n",
              "      <td id=\"T_c0626_row1_col3\" class=\"data row1 col3\" >1.30</td>\n",
              "      <td id=\"T_c0626_row1_col4\" class=\"data row1 col4\" >1.14</td>\n",
              "      <td id=\"T_c0626_row1_col5\" class=\"data row1 col5\" >1.04</td>\n",
              "      <td id=\"T_c0626_row1_col6\" class=\"data row1 col6\" >1.06</td>\n",
              "    </tr>\n",
              "    <tr>\n",
              "      <td id=\"T_c0626_row2_col0\" class=\"data row2 col0\" >0.14</td>\n",
              "      <td id=\"T_c0626_row2_col1\" class=\"data row2 col1\" >0.12</td>\n",
              "      <td id=\"T_c0626_row2_col2\" class=\"data row2 col2\" >0.12</td>\n",
              "      <td id=\"T_c0626_row2_col3\" class=\"data row2 col3\" >0.31</td>\n",
              "      <td id=\"T_c0626_row2_col4\" class=\"data row2 col4\" >0.09</td>\n",
              "      <td id=\"T_c0626_row2_col5\" class=\"data row2 col5\" >1.04</td>\n",
              "      <td id=\"T_c0626_row2_col6\" class=\"data row2 col6\" >0.12</td>\n",
              "    </tr>\n",
              "    <tr>\n",
              "      <td id=\"T_c0626_row3_col0\" class=\"data row3 col0\" >0.19</td>\n",
              "      <td id=\"T_c0626_row3_col1\" class=\"data row3 col1\" >0.21</td>\n",
              "      <td id=\"T_c0626_row3_col2\" class=\"data row3 col2\" >0.20</td>\n",
              "      <td id=\"T_c0626_row3_col3\" class=\"data row3 col3\" >0.41</td>\n",
              "      <td id=\"T_c0626_row3_col4\" class=\"data row3 col4\" >0.09</td>\n",
              "      <td id=\"T_c0626_row3_col5\" class=\"data row3 col5\" >1.04</td>\n",
              "      <td id=\"T_c0626_row3_col6\" class=\"data row3 col6\" >0.20</td>\n",
              "    </tr>\n",
              "    <tr>\n",
              "      <td id=\"T_c0626_row4_col0\" class=\"data row4 col0\" >-0.10</td>\n",
              "      <td id=\"T_c0626_row4_col1\" class=\"data row4 col1\" >-0.10</td>\n",
              "      <td id=\"T_c0626_row4_col2\" class=\"data row4 col2\" >-0.10</td>\n",
              "      <td id=\"T_c0626_row4_col3\" class=\"data row4 col3\" >0.04</td>\n",
              "      <td id=\"T_c0626_row4_col4\" class=\"data row4 col4\" >0.09</td>\n",
              "      <td id=\"T_c0626_row4_col5\" class=\"data row4 col5\" >-0.67</td>\n",
              "      <td id=\"T_c0626_row4_col6\" class=\"data row4 col6\" >-0.10</td>\n",
              "    </tr>\n",
              "    <tr>\n",
              "      <td id=\"T_c0626_row5_col0\" class=\"data row5 col0\" >0.71</td>\n",
              "      <td id=\"T_c0626_row5_col1\" class=\"data row5 col1\" >0.71</td>\n",
              "      <td id=\"T_c0626_row5_col2\" class=\"data row5 col2\" >0.71</td>\n",
              "      <td id=\"T_c0626_row5_col3\" class=\"data row5 col3\" >0.97</td>\n",
              "      <td id=\"T_c0626_row5_col4\" class=\"data row5 col4\" >0.61</td>\n",
              "      <td id=\"T_c0626_row5_col5\" class=\"data row5 col5\" >1.04</td>\n",
              "      <td id=\"T_c0626_row5_col6\" class=\"data row5 col6\" >0.71</td>\n",
              "    </tr>\n",
              "    <tr>\n",
              "      <td id=\"T_c0626_row6_col0\" class=\"data row6 col0\" >-0.81</td>\n",
              "      <td id=\"T_c0626_row6_col1\" class=\"data row6 col1\" >-0.81</td>\n",
              "      <td id=\"T_c0626_row6_col2\" class=\"data row6 col2\" >-0.81</td>\n",
              "      <td id=\"T_c0626_row6_col3\" class=\"data row6 col3\" >-1.04</td>\n",
              "      <td id=\"T_c0626_row6_col4\" class=\"data row6 col4\" >-0.96</td>\n",
              "      <td id=\"T_c0626_row6_col5\" class=\"data row6 col5\" >-0.67</td>\n",
              "      <td id=\"T_c0626_row6_col6\" class=\"data row6 col6\" >-0.81</td>\n",
              "    </tr>\n",
              "    <tr>\n",
              "      <td id=\"T_c0626_row7_col0\" class=\"data row7 col0\" >-0.48</td>\n",
              "      <td id=\"T_c0626_row7_col1\" class=\"data row7 col1\" >-0.49</td>\n",
              "      <td id=\"T_c0626_row7_col2\" class=\"data row7 col2\" >-0.49</td>\n",
              "      <td id=\"T_c0626_row7_col3\" class=\"data row7 col3\" >-0.52</td>\n",
              "      <td id=\"T_c0626_row7_col4\" class=\"data row7 col4\" >-0.43</td>\n",
              "      <td id=\"T_c0626_row7_col5\" class=\"data row7 col5\" >-0.67</td>\n",
              "      <td id=\"T_c0626_row7_col6\" class=\"data row7 col6\" >-0.49</td>\n",
              "    </tr>\n",
              "    <tr>\n",
              "      <td id=\"T_c0626_row8_col0\" class=\"data row8 col0\" >-0.62</td>\n",
              "      <td id=\"T_c0626_row8_col1\" class=\"data row8 col1\" >-0.64</td>\n",
              "      <td id=\"T_c0626_row8_col2\" class=\"data row8 col2\" >-0.63</td>\n",
              "      <td id=\"T_c0626_row8_col3\" class=\"data row8 col3\" >-0.74</td>\n",
              "      <td id=\"T_c0626_row8_col4\" class=\"data row8 col4\" >-0.43</td>\n",
              "      <td id=\"T_c0626_row8_col5\" class=\"data row8 col5\" >-0.67</td>\n",
              "      <td id=\"T_c0626_row8_col6\" class=\"data row8 col6\" >-0.63</td>\n",
              "    </tr>\n",
              "    <tr>\n",
              "      <td id=\"T_c0626_row9_col0\" class=\"data row9 col0\" >0.62</td>\n",
              "      <td id=\"T_c0626_row9_col1\" class=\"data row9 col1\" >0.60</td>\n",
              "      <td id=\"T_c0626_row9_col2\" class=\"data row9 col2\" >0.61</td>\n",
              "      <td id=\"T_c0626_row9_col3\" class=\"data row9 col3\" >0.86</td>\n",
              "      <td id=\"T_c0626_row9_col4\" class=\"data row9 col4\" >0.61</td>\n",
              "      <td id=\"T_c0626_row9_col5\" class=\"data row9 col5\" >1.04</td>\n",
              "      <td id=\"T_c0626_row9_col6\" class=\"data row9 col6\" >0.61</td>\n",
              "    </tr>\n",
              "  </tbody>\n",
              "</table>\n"
            ]
          },
          "metadata": {},
          "execution_count": 33
        }
      ],
      "source": [
        "pandasx.return_formatted_table \\\n",
        "    (x_train_scaled_undersampled_dataframe,\n",
        "     'Table 2.7.1: Scaled Features Training Undersampled Data')"
      ]
    },
    {
      "cell_type": "code",
      "execution_count": 34,
      "metadata": {
        "colab": {
          "base_uri": "https://localhost:8080/",
          "height": 398
        },
        "id": "SR-qPJBTXVC_",
        "outputId": "a4e09ef2-242a-4610-8bd0-7da7f316909b"
      },
      "outputs": [
        {
          "output_type": "execute_result",
          "data": {
            "text/plain": [
              "<pandas.io.formats.style.Styler at 0x78ae78d99b40>"
            ],
            "text/html": [
              "<style type=\"text/css\">\n",
              "#T_1a3f4 caption {\n",
              "  color: black;\n",
              "  font-size: 20px;\n",
              "  font-style: bold;\n",
              "  text-align: center;\n",
              "}\n",
              "#T_1a3f4_row0_col0, #T_1a3f4_row0_col1, #T_1a3f4_row0_col2, #T_1a3f4_row0_col3, #T_1a3f4_row0_col4, #T_1a3f4_row0_col5, #T_1a3f4_row0_col6, #T_1a3f4_row1_col0, #T_1a3f4_row1_col1, #T_1a3f4_row1_col2, #T_1a3f4_row1_col3, #T_1a3f4_row1_col4, #T_1a3f4_row1_col5, #T_1a3f4_row1_col6, #T_1a3f4_row2_col0, #T_1a3f4_row2_col1, #T_1a3f4_row2_col2, #T_1a3f4_row2_col3, #T_1a3f4_row2_col4, #T_1a3f4_row2_col5, #T_1a3f4_row2_col6, #T_1a3f4_row3_col0, #T_1a3f4_row3_col1, #T_1a3f4_row3_col2, #T_1a3f4_row3_col3, #T_1a3f4_row3_col4, #T_1a3f4_row3_col5, #T_1a3f4_row3_col6, #T_1a3f4_row4_col0, #T_1a3f4_row4_col1, #T_1a3f4_row4_col2, #T_1a3f4_row4_col3, #T_1a3f4_row4_col4, #T_1a3f4_row4_col5, #T_1a3f4_row4_col6, #T_1a3f4_row5_col0, #T_1a3f4_row5_col1, #T_1a3f4_row5_col2, #T_1a3f4_row5_col3, #T_1a3f4_row5_col4, #T_1a3f4_row5_col5, #T_1a3f4_row5_col6, #T_1a3f4_row6_col0, #T_1a3f4_row6_col1, #T_1a3f4_row6_col2, #T_1a3f4_row6_col3, #T_1a3f4_row6_col4, #T_1a3f4_row6_col5, #T_1a3f4_row6_col6, #T_1a3f4_row7_col0, #T_1a3f4_row7_col1, #T_1a3f4_row7_col2, #T_1a3f4_row7_col3, #T_1a3f4_row7_col4, #T_1a3f4_row7_col5, #T_1a3f4_row7_col6, #T_1a3f4_row8_col0, #T_1a3f4_row8_col1, #T_1a3f4_row8_col2, #T_1a3f4_row8_col3, #T_1a3f4_row8_col4, #T_1a3f4_row8_col5, #T_1a3f4_row8_col6, #T_1a3f4_row9_col0, #T_1a3f4_row9_col1, #T_1a3f4_row9_col2, #T_1a3f4_row9_col3, #T_1a3f4_row9_col4, #T_1a3f4_row9_col5, #T_1a3f4_row9_col6 {\n",
              "  text-align: center;\n",
              "  border: 1.3px solid red;\n",
              "  color: blue;\n",
              "}\n",
              "</style>\n",
              "<table id=\"T_1a3f4\" class=\"dataframe\">\n",
              "  <caption>Table 2.7.2: Scaled Features Training Oversampled Data</caption>\n",
              "  <thead>\n",
              "    <tr>\n",
              "      <th id=\"T_1a3f4_level0_col0\" class=\"col_heading level0 col0\" >loan_size</th>\n",
              "      <th id=\"T_1a3f4_level0_col1\" class=\"col_heading level0 col1\" >interest_rate</th>\n",
              "      <th id=\"T_1a3f4_level0_col2\" class=\"col_heading level0 col2\" >borrower_income</th>\n",
              "      <th id=\"T_1a3f4_level0_col3\" class=\"col_heading level0 col3\" >debt_to_income</th>\n",
              "      <th id=\"T_1a3f4_level0_col4\" class=\"col_heading level0 col4\" >num_of_accounts</th>\n",
              "      <th id=\"T_1a3f4_level0_col5\" class=\"col_heading level0 col5\" >derogatory_marks</th>\n",
              "      <th id=\"T_1a3f4_level0_col6\" class=\"col_heading level0 col6\" >total_debt</th>\n",
              "    </tr>\n",
              "  </thead>\n",
              "  <tbody>\n",
              "    <tr>\n",
              "      <td id=\"T_1a3f4_row0_col0\" class=\"data row0 col0\" >-0.34</td>\n",
              "      <td id=\"T_1a3f4_row0_col1\" class=\"data row0 col1\" >-0.33</td>\n",
              "      <td id=\"T_1a3f4_row0_col2\" class=\"data row0 col2\" >-0.34</td>\n",
              "      <td id=\"T_1a3f4_row0_col3\" class=\"data row0 col3\" >-0.29</td>\n",
              "      <td id=\"T_1a3f4_row0_col4\" class=\"data row0 col4\" >-0.43</td>\n",
              "      <td id=\"T_1a3f4_row0_col5\" class=\"data row0 col5\" >-0.67</td>\n",
              "      <td id=\"T_1a3f4_row0_col6\" class=\"data row0 col6\" >-0.34</td>\n",
              "    </tr>\n",
              "    <tr>\n",
              "      <td id=\"T_1a3f4_row1_col0\" class=\"data row1 col0\" >-0.57</td>\n",
              "      <td id=\"T_1a3f4_row1_col1\" class=\"data row1 col1\" >-0.60</td>\n",
              "      <td id=\"T_1a3f4_row1_col2\" class=\"data row1 col2\" >-0.60</td>\n",
              "      <td id=\"T_1a3f4_row1_col3\" class=\"data row1 col3\" >-0.68</td>\n",
              "      <td id=\"T_1a3f4_row1_col4\" class=\"data row1 col4\" >-0.43</td>\n",
              "      <td id=\"T_1a3f4_row1_col5\" class=\"data row1 col5\" >-0.67</td>\n",
              "      <td id=\"T_1a3f4_row1_col6\" class=\"data row1 col6\" >-0.60</td>\n",
              "    </tr>\n",
              "    <tr>\n",
              "      <td id=\"T_1a3f4_row2_col0\" class=\"data row2 col0\" >0.38</td>\n",
              "      <td id=\"T_1a3f4_row2_col1\" class=\"data row2 col1\" >0.39</td>\n",
              "      <td id=\"T_1a3f4_row2_col2\" class=\"data row2 col2\" >0.39</td>\n",
              "      <td id=\"T_1a3f4_row2_col3\" class=\"data row2 col3\" >0.63</td>\n",
              "      <td id=\"T_1a3f4_row2_col4\" class=\"data row2 col4\" >0.61</td>\n",
              "      <td id=\"T_1a3f4_row2_col5\" class=\"data row2 col5\" >1.04</td>\n",
              "      <td id=\"T_1a3f4_row2_col6\" class=\"data row2 col6\" >0.39</td>\n",
              "    </tr>\n",
              "    <tr>\n",
              "      <td id=\"T_1a3f4_row3_col0\" class=\"data row3 col0\" >-0.57</td>\n",
              "      <td id=\"T_1a3f4_row3_col1\" class=\"data row3 col1\" >-0.57</td>\n",
              "      <td id=\"T_1a3f4_row3_col2\" class=\"data row3 col2\" >-0.56</td>\n",
              "      <td id=\"T_1a3f4_row3_col3\" class=\"data row3 col3\" >-0.63</td>\n",
              "      <td id=\"T_1a3f4_row3_col4\" class=\"data row3 col4\" >-0.43</td>\n",
              "      <td id=\"T_1a3f4_row3_col5\" class=\"data row3 col5\" >-0.67</td>\n",
              "      <td id=\"T_1a3f4_row3_col6\" class=\"data row3 col6\" >-0.56</td>\n",
              "    </tr>\n",
              "    <tr>\n",
              "      <td id=\"T_1a3f4_row4_col0\" class=\"data row4 col0\" >-1.00</td>\n",
              "      <td id=\"T_1a3f4_row4_col1\" class=\"data row4 col1\" >-0.98</td>\n",
              "      <td id=\"T_1a3f4_row4_col2\" class=\"data row4 col2\" >-0.98</td>\n",
              "      <td id=\"T_1a3f4_row4_col3\" class=\"data row4 col3\" >-1.33</td>\n",
              "      <td id=\"T_1a3f4_row4_col4\" class=\"data row4 col4\" >-0.96</td>\n",
              "      <td id=\"T_1a3f4_row4_col5\" class=\"data row4 col5\" >-0.67</td>\n",
              "      <td id=\"T_1a3f4_row4_col6\" class=\"data row4 col6\" >-0.98</td>\n",
              "    </tr>\n",
              "    <tr>\n",
              "      <td id=\"T_1a3f4_row5_col0\" class=\"data row5 col0\" >-0.10</td>\n",
              "      <td id=\"T_1a3f4_row5_col1\" class=\"data row5 col1\" >-0.11</td>\n",
              "      <td id=\"T_1a3f4_row5_col2\" class=\"data row5 col2\" >-0.11</td>\n",
              "      <td id=\"T_1a3f4_row5_col3\" class=\"data row5 col3\" >0.02</td>\n",
              "      <td id=\"T_1a3f4_row5_col4\" class=\"data row5 col4\" >0.09</td>\n",
              "      <td id=\"T_1a3f4_row5_col5\" class=\"data row5 col5\" >-0.67</td>\n",
              "      <td id=\"T_1a3f4_row5_col6\" class=\"data row5 col6\" >-0.11</td>\n",
              "    </tr>\n",
              "    <tr>\n",
              "      <td id=\"T_1a3f4_row6_col0\" class=\"data row6 col0\" >-0.77</td>\n",
              "      <td id=\"T_1a3f4_row6_col1\" class=\"data row6 col1\" >-0.78</td>\n",
              "      <td id=\"T_1a3f4_row6_col2\" class=\"data row6 col2\" >-0.78</td>\n",
              "      <td id=\"T_1a3f4_row6_col3\" class=\"data row6 col3\" >-0.98</td>\n",
              "      <td id=\"T_1a3f4_row6_col4\" class=\"data row6 col4\" >-0.96</td>\n",
              "      <td id=\"T_1a3f4_row6_col5\" class=\"data row6 col5\" >-0.67</td>\n",
              "      <td id=\"T_1a3f4_row6_col6\" class=\"data row6 col6\" >-0.78</td>\n",
              "    </tr>\n",
              "    <tr>\n",
              "      <td id=\"T_1a3f4_row7_col0\" class=\"data row7 col0\" >-1.05</td>\n",
              "      <td id=\"T_1a3f4_row7_col1\" class=\"data row7 col1\" >-1.06</td>\n",
              "      <td id=\"T_1a3f4_row7_col2\" class=\"data row7 col2\" >-1.06</td>\n",
              "      <td id=\"T_1a3f4_row7_col3\" class=\"data row7 col3\" >-1.49</td>\n",
              "      <td id=\"T_1a3f4_row7_col4\" class=\"data row7 col4\" >-0.96</td>\n",
              "      <td id=\"T_1a3f4_row7_col5\" class=\"data row7 col5\" >-0.67</td>\n",
              "      <td id=\"T_1a3f4_row7_col6\" class=\"data row7 col6\" >-1.06</td>\n",
              "    </tr>\n",
              "    <tr>\n",
              "      <td id=\"T_1a3f4_row8_col0\" class=\"data row8 col0\" >-0.96</td>\n",
              "      <td id=\"T_1a3f4_row8_col1\" class=\"data row8 col1\" >-0.97</td>\n",
              "      <td id=\"T_1a3f4_row8_col2\" class=\"data row8 col2\" >-0.97</td>\n",
              "      <td id=\"T_1a3f4_row8_col3\" class=\"data row8 col3\" >-1.31</td>\n",
              "      <td id=\"T_1a3f4_row8_col4\" class=\"data row8 col4\" >-0.96</td>\n",
              "      <td id=\"T_1a3f4_row8_col5\" class=\"data row8 col5\" >-0.67</td>\n",
              "      <td id=\"T_1a3f4_row8_col6\" class=\"data row8 col6\" >-0.97</td>\n",
              "    </tr>\n",
              "    <tr>\n",
              "      <td id=\"T_1a3f4_row9_col0\" class=\"data row9 col0\" >0.19</td>\n",
              "      <td id=\"T_1a3f4_row9_col1\" class=\"data row9 col1\" >0.17</td>\n",
              "      <td id=\"T_1a3f4_row9_col2\" class=\"data row9 col2\" >0.18</td>\n",
              "      <td id=\"T_1a3f4_row9_col3\" class=\"data row9 col3\" >0.38</td>\n",
              "      <td id=\"T_1a3f4_row9_col4\" class=\"data row9 col4\" >0.09</td>\n",
              "      <td id=\"T_1a3f4_row9_col5\" class=\"data row9 col5\" >1.04</td>\n",
              "      <td id=\"T_1a3f4_row9_col6\" class=\"data row9 col6\" >0.18</td>\n",
              "    </tr>\n",
              "  </tbody>\n",
              "</table>\n"
            ]
          },
          "metadata": {},
          "execution_count": 34
        }
      ],
      "source": [
        "pandasx.return_formatted_table \\\n",
        "    (x_train_scaled_oversampled_dataframe,\n",
        "     'Table 2.7.2: Scaled Features Training Oversampled Data')"
      ]
    },
    {
      "cell_type": "code",
      "execution_count": 35,
      "metadata": {
        "colab": {
          "base_uri": "https://localhost:8080/",
          "height": 398
        },
        "id": "MjWJ4MOOXVC_",
        "outputId": "6570ee05-eea3-4073-8f15-f0374164635a"
      },
      "outputs": [
        {
          "output_type": "execute_result",
          "data": {
            "text/plain": [
              "<pandas.io.formats.style.Styler at 0x78ae78d9a8c0>"
            ],
            "text/html": [
              "<style type=\"text/css\">\n",
              "#T_1e067 caption {\n",
              "  color: black;\n",
              "  font-size: 20px;\n",
              "  font-style: bold;\n",
              "  text-align: center;\n",
              "}\n",
              "#T_1e067_row0_col0, #T_1e067_row0_col1, #T_1e067_row0_col2, #T_1e067_row0_col3, #T_1e067_row0_col4, #T_1e067_row0_col5, #T_1e067_row0_col6, #T_1e067_row1_col0, #T_1e067_row1_col1, #T_1e067_row1_col2, #T_1e067_row1_col3, #T_1e067_row1_col4, #T_1e067_row1_col5, #T_1e067_row1_col6, #T_1e067_row2_col0, #T_1e067_row2_col1, #T_1e067_row2_col2, #T_1e067_row2_col3, #T_1e067_row2_col4, #T_1e067_row2_col5, #T_1e067_row2_col6, #T_1e067_row3_col0, #T_1e067_row3_col1, #T_1e067_row3_col2, #T_1e067_row3_col3, #T_1e067_row3_col4, #T_1e067_row3_col5, #T_1e067_row3_col6, #T_1e067_row4_col0, #T_1e067_row4_col1, #T_1e067_row4_col2, #T_1e067_row4_col3, #T_1e067_row4_col4, #T_1e067_row4_col5, #T_1e067_row4_col6, #T_1e067_row5_col0, #T_1e067_row5_col1, #T_1e067_row5_col2, #T_1e067_row5_col3, #T_1e067_row5_col4, #T_1e067_row5_col5, #T_1e067_row5_col6, #T_1e067_row6_col0, #T_1e067_row6_col1, #T_1e067_row6_col2, #T_1e067_row6_col3, #T_1e067_row6_col4, #T_1e067_row6_col5, #T_1e067_row6_col6, #T_1e067_row7_col0, #T_1e067_row7_col1, #T_1e067_row7_col2, #T_1e067_row7_col3, #T_1e067_row7_col4, #T_1e067_row7_col5, #T_1e067_row7_col6, #T_1e067_row8_col0, #T_1e067_row8_col1, #T_1e067_row8_col2, #T_1e067_row8_col3, #T_1e067_row8_col4, #T_1e067_row8_col5, #T_1e067_row8_col6, #T_1e067_row9_col0, #T_1e067_row9_col1, #T_1e067_row9_col2, #T_1e067_row9_col3, #T_1e067_row9_col4, #T_1e067_row9_col5, #T_1e067_row9_col6 {\n",
              "  text-align: center;\n",
              "  border: 1.3px solid red;\n",
              "  color: blue;\n",
              "}\n",
              "</style>\n",
              "<table id=\"T_1e067\" class=\"dataframe\">\n",
              "  <caption>Table 2.7.3: Scaled Features Training Cluster Centroids Data</caption>\n",
              "  <thead>\n",
              "    <tr>\n",
              "      <th id=\"T_1e067_level0_col0\" class=\"col_heading level0 col0\" >loan_size</th>\n",
              "      <th id=\"T_1e067_level0_col1\" class=\"col_heading level0 col1\" >interest_rate</th>\n",
              "      <th id=\"T_1e067_level0_col2\" class=\"col_heading level0 col2\" >borrower_income</th>\n",
              "      <th id=\"T_1e067_level0_col3\" class=\"col_heading level0 col3\" >debt_to_income</th>\n",
              "      <th id=\"T_1e067_level0_col4\" class=\"col_heading level0 col4\" >num_of_accounts</th>\n",
              "      <th id=\"T_1e067_level0_col5\" class=\"col_heading level0 col5\" >derogatory_marks</th>\n",
              "      <th id=\"T_1e067_level0_col6\" class=\"col_heading level0 col6\" >total_debt</th>\n",
              "    </tr>\n",
              "  </thead>\n",
              "  <tbody>\n",
              "    <tr>\n",
              "      <td id=\"T_1e067_row0_col0\" class=\"data row0 col0\" >0.81</td>\n",
              "      <td id=\"T_1e067_row0_col1\" class=\"data row0 col1\" >0.80</td>\n",
              "      <td id=\"T_1e067_row0_col2\" class=\"data row0 col2\" >0.80</td>\n",
              "      <td id=\"T_1e067_row0_col3\" class=\"data row0 col3\" >1.05</td>\n",
              "      <td id=\"T_1e067_row0_col4\" class=\"data row0 col4\" >0.61</td>\n",
              "      <td id=\"T_1e067_row0_col5\" class=\"data row0 col5\" >1.04</td>\n",
              "      <td id=\"T_1e067_row0_col6\" class=\"data row0 col6\" >0.80</td>\n",
              "    </tr>\n",
              "    <tr>\n",
              "      <td id=\"T_1e067_row1_col0\" class=\"data row1 col0\" >-0.48</td>\n",
              "      <td id=\"T_1e067_row1_col1\" class=\"data row1 col1\" >-0.48</td>\n",
              "      <td id=\"T_1e067_row1_col2\" class=\"data row1 col2\" >-0.48</td>\n",
              "      <td id=\"T_1e067_row1_col3\" class=\"data row1 col3\" >-0.50</td>\n",
              "      <td id=\"T_1e067_row1_col4\" class=\"data row1 col4\" >-0.43</td>\n",
              "      <td id=\"T_1e067_row1_col5\" class=\"data row1 col5\" >-0.67</td>\n",
              "      <td id=\"T_1e067_row1_col6\" class=\"data row1 col6\" >-0.48</td>\n",
              "    </tr>\n",
              "    <tr>\n",
              "      <td id=\"T_1e067_row2_col0\" class=\"data row2 col0\" >-1.10</td>\n",
              "      <td id=\"T_1e067_row2_col1\" class=\"data row2 col1\" >-1.08</td>\n",
              "      <td id=\"T_1e067_row2_col2\" class=\"data row2 col2\" >-1.09</td>\n",
              "      <td id=\"T_1e067_row2_col3\" class=\"data row2 col3\" >-1.53</td>\n",
              "      <td id=\"T_1e067_row2_col4\" class=\"data row2 col4\" >-0.96</td>\n",
              "      <td id=\"T_1e067_row2_col5\" class=\"data row2 col5\" >-0.67</td>\n",
              "      <td id=\"T_1e067_row2_col6\" class=\"data row2 col6\" >-1.09</td>\n",
              "    </tr>\n",
              "    <tr>\n",
              "      <td id=\"T_1e067_row3_col0\" class=\"data row3 col0\" >4.81</td>\n",
              "      <td id=\"T_1e067_row3_col1\" class=\"data row3 col1\" >4.80</td>\n",
              "      <td id=\"T_1e067_row3_col2\" class=\"data row3 col2\" >4.80</td>\n",
              "      <td id=\"T_1e067_row3_col3\" class=\"data row3 col3\" >3.52</td>\n",
              "      <td id=\"T_1e067_row3_col4\" class=\"data row3 col4\" >4.81</td>\n",
              "      <td id=\"T_1e067_row3_col5\" class=\"data row3 col5\" >2.76</td>\n",
              "      <td id=\"T_1e067_row3_col6\" class=\"data row3 col6\" >4.80</td>\n",
              "    </tr>\n",
              "    <tr>\n",
              "      <td id=\"T_1e067_row4_col0\" class=\"data row4 col0\" >0.28</td>\n",
              "      <td id=\"T_1e067_row4_col1\" class=\"data row4 col1\" >0.30</td>\n",
              "      <td id=\"T_1e067_row4_col2\" class=\"data row4 col2\" >0.30</td>\n",
              "      <td id=\"T_1e067_row4_col3\" class=\"data row4 col3\" >0.52</td>\n",
              "      <td id=\"T_1e067_row4_col4\" class=\"data row4 col4\" >0.09</td>\n",
              "      <td id=\"T_1e067_row4_col5\" class=\"data row4 col5\" >1.04</td>\n",
              "      <td id=\"T_1e067_row4_col6\" class=\"data row4 col6\" >0.30</td>\n",
              "    </tr>\n",
              "    <tr>\n",
              "      <td id=\"T_1e067_row5_col0\" class=\"data row5 col0\" >-0.05</td>\n",
              "      <td id=\"T_1e067_row5_col1\" class=\"data row5 col1\" >-0.05</td>\n",
              "      <td id=\"T_1e067_row5_col2\" class=\"data row5 col2\" >-0.05</td>\n",
              "      <td id=\"T_1e067_row5_col3\" class=\"data row5 col3\" >0.10</td>\n",
              "      <td id=\"T_1e067_row5_col4\" class=\"data row5 col4\" >0.09</td>\n",
              "      <td id=\"T_1e067_row5_col5\" class=\"data row5 col5\" >-0.67</td>\n",
              "      <td id=\"T_1e067_row5_col6\" class=\"data row5 col6\" >-0.05</td>\n",
              "    </tr>\n",
              "    <tr>\n",
              "      <td id=\"T_1e067_row6_col0\" class=\"data row6 col0\" >-0.77</td>\n",
              "      <td id=\"T_1e067_row6_col1\" class=\"data row6 col1\" >-0.75</td>\n",
              "      <td id=\"T_1e067_row6_col2\" class=\"data row6 col2\" >-0.74</td>\n",
              "      <td id=\"T_1e067_row6_col3\" class=\"data row6 col3\" >-0.92</td>\n",
              "      <td id=\"T_1e067_row6_col4\" class=\"data row6 col4\" >-0.96</td>\n",
              "      <td id=\"T_1e067_row6_col5\" class=\"data row6 col5\" >-0.67</td>\n",
              "      <td id=\"T_1e067_row6_col6\" class=\"data row6 col6\" >-0.74</td>\n",
              "    </tr>\n",
              "    <tr>\n",
              "      <td id=\"T_1e067_row7_col0\" class=\"data row7 col0\" >-0.29</td>\n",
              "      <td id=\"T_1e067_row7_col1\" class=\"data row7 col1\" >-0.27</td>\n",
              "      <td id=\"T_1e067_row7_col2\" class=\"data row7 col2\" >-0.28</td>\n",
              "      <td id=\"T_1e067_row7_col3\" class=\"data row7 col3\" >-0.21</td>\n",
              "      <td id=\"T_1e067_row7_col4\" class=\"data row7 col4\" >-0.43</td>\n",
              "      <td id=\"T_1e067_row7_col5\" class=\"data row7 col5\" >-0.67</td>\n",
              "      <td id=\"T_1e067_row7_col6\" class=\"data row7 col6\" >-0.28</td>\n",
              "    </tr>\n",
              "    <tr>\n",
              "      <td id=\"T_1e067_row8_col0\" class=\"data row8 col0\" >-1.62</td>\n",
              "      <td id=\"T_1e067_row8_col1\" class=\"data row8 col1\" >-1.63</td>\n",
              "      <td id=\"T_1e067_row8_col2\" class=\"data row8 col2\" >-1.62</td>\n",
              "      <td id=\"T_1e067_row8_col3\" class=\"data row8 col3\" >-2.69</td>\n",
              "      <td id=\"T_1e067_row8_col4\" class=\"data row8 col4\" >-1.48</td>\n",
              "      <td id=\"T_1e067_row8_col5\" class=\"data row8 col5\" >-0.67</td>\n",
              "      <td id=\"T_1e067_row8_col6\" class=\"data row8 col6\" >-1.62</td>\n",
              "    </tr>\n",
              "    <tr>\n",
              "      <td id=\"T_1e067_row9_col0\" class=\"data row9 col0\" >0.38</td>\n",
              "      <td id=\"T_1e067_row9_col1\" class=\"data row9 col1\" >0.37</td>\n",
              "      <td id=\"T_1e067_row9_col2\" class=\"data row9 col2\" >0.37</td>\n",
              "      <td id=\"T_1e067_row9_col3\" class=\"data row9 col3\" >0.60</td>\n",
              "      <td id=\"T_1e067_row9_col4\" class=\"data row9 col4\" >0.61</td>\n",
              "      <td id=\"T_1e067_row9_col5\" class=\"data row9 col5\" >1.04</td>\n",
              "      <td id=\"T_1e067_row9_col6\" class=\"data row9 col6\" >0.37</td>\n",
              "    </tr>\n",
              "  </tbody>\n",
              "</table>\n"
            ]
          },
          "metadata": {},
          "execution_count": 35
        }
      ],
      "source": [
        "pandasx.return_formatted_table \\\n",
        "    (x_train_scaled_cluster_centroids_dataframe,\n",
        "     'Table 2.7.3: Scaled Features Training Cluster Centroids Data')"
      ]
    },
    {
      "cell_type": "code",
      "execution_count": 36,
      "metadata": {
        "colab": {
          "base_uri": "https://localhost:8080/",
          "height": 398
        },
        "id": "JjmNuSRsXVDA",
        "outputId": "852d31f7-81a1-4f1e-dd69-fe090027b130"
      },
      "outputs": [
        {
          "output_type": "execute_result",
          "data": {
            "text/plain": [
              "<pandas.io.formats.style.Styler at 0x78ae78d9b550>"
            ],
            "text/html": [
              "<style type=\"text/css\">\n",
              "#T_f0d0c caption {\n",
              "  color: black;\n",
              "  font-size: 20px;\n",
              "  font-style: bold;\n",
              "  text-align: center;\n",
              "}\n",
              "#T_f0d0c_row0_col0, #T_f0d0c_row0_col1, #T_f0d0c_row0_col2, #T_f0d0c_row0_col3, #T_f0d0c_row0_col4, #T_f0d0c_row0_col5, #T_f0d0c_row0_col6, #T_f0d0c_row1_col0, #T_f0d0c_row1_col1, #T_f0d0c_row1_col2, #T_f0d0c_row1_col3, #T_f0d0c_row1_col4, #T_f0d0c_row1_col5, #T_f0d0c_row1_col6, #T_f0d0c_row2_col0, #T_f0d0c_row2_col1, #T_f0d0c_row2_col2, #T_f0d0c_row2_col3, #T_f0d0c_row2_col4, #T_f0d0c_row2_col5, #T_f0d0c_row2_col6, #T_f0d0c_row3_col0, #T_f0d0c_row3_col1, #T_f0d0c_row3_col2, #T_f0d0c_row3_col3, #T_f0d0c_row3_col4, #T_f0d0c_row3_col5, #T_f0d0c_row3_col6, #T_f0d0c_row4_col0, #T_f0d0c_row4_col1, #T_f0d0c_row4_col2, #T_f0d0c_row4_col3, #T_f0d0c_row4_col4, #T_f0d0c_row4_col5, #T_f0d0c_row4_col6, #T_f0d0c_row5_col0, #T_f0d0c_row5_col1, #T_f0d0c_row5_col2, #T_f0d0c_row5_col3, #T_f0d0c_row5_col4, #T_f0d0c_row5_col5, #T_f0d0c_row5_col6, #T_f0d0c_row6_col0, #T_f0d0c_row6_col1, #T_f0d0c_row6_col2, #T_f0d0c_row6_col3, #T_f0d0c_row6_col4, #T_f0d0c_row6_col5, #T_f0d0c_row6_col6, #T_f0d0c_row7_col0, #T_f0d0c_row7_col1, #T_f0d0c_row7_col2, #T_f0d0c_row7_col3, #T_f0d0c_row7_col4, #T_f0d0c_row7_col5, #T_f0d0c_row7_col6, #T_f0d0c_row8_col0, #T_f0d0c_row8_col1, #T_f0d0c_row8_col2, #T_f0d0c_row8_col3, #T_f0d0c_row8_col4, #T_f0d0c_row8_col5, #T_f0d0c_row8_col6, #T_f0d0c_row9_col0, #T_f0d0c_row9_col1, #T_f0d0c_row9_col2, #T_f0d0c_row9_col3, #T_f0d0c_row9_col4, #T_f0d0c_row9_col5, #T_f0d0c_row9_col6 {\n",
              "  text-align: center;\n",
              "  border: 1.3px solid red;\n",
              "  color: blue;\n",
              "}\n",
              "</style>\n",
              "<table id=\"T_f0d0c\" class=\"dataframe\">\n",
              "  <caption>Table 2.7.4: Scaled Features Training SMOTE Data</caption>\n",
              "  <thead>\n",
              "    <tr>\n",
              "      <th id=\"T_f0d0c_level0_col0\" class=\"col_heading level0 col0\" >loan_size</th>\n",
              "      <th id=\"T_f0d0c_level0_col1\" class=\"col_heading level0 col1\" >interest_rate</th>\n",
              "      <th id=\"T_f0d0c_level0_col2\" class=\"col_heading level0 col2\" >borrower_income</th>\n",
              "      <th id=\"T_f0d0c_level0_col3\" class=\"col_heading level0 col3\" >debt_to_income</th>\n",
              "      <th id=\"T_f0d0c_level0_col4\" class=\"col_heading level0 col4\" >num_of_accounts</th>\n",
              "      <th id=\"T_f0d0c_level0_col5\" class=\"col_heading level0 col5\" >derogatory_marks</th>\n",
              "      <th id=\"T_f0d0c_level0_col6\" class=\"col_heading level0 col6\" >total_debt</th>\n",
              "    </tr>\n",
              "  </thead>\n",
              "  <tbody>\n",
              "    <tr>\n",
              "      <td id=\"T_f0d0c_row0_col0\" class=\"data row0 col0\" >-0.34</td>\n",
              "      <td id=\"T_f0d0c_row0_col1\" class=\"data row0 col1\" >-0.33</td>\n",
              "      <td id=\"T_f0d0c_row0_col2\" class=\"data row0 col2\" >-0.34</td>\n",
              "      <td id=\"T_f0d0c_row0_col3\" class=\"data row0 col3\" >-0.29</td>\n",
              "      <td id=\"T_f0d0c_row0_col4\" class=\"data row0 col4\" >-0.43</td>\n",
              "      <td id=\"T_f0d0c_row0_col5\" class=\"data row0 col5\" >-0.67</td>\n",
              "      <td id=\"T_f0d0c_row0_col6\" class=\"data row0 col6\" >-0.34</td>\n",
              "    </tr>\n",
              "    <tr>\n",
              "      <td id=\"T_f0d0c_row1_col0\" class=\"data row1 col0\" >-0.57</td>\n",
              "      <td id=\"T_f0d0c_row1_col1\" class=\"data row1 col1\" >-0.60</td>\n",
              "      <td id=\"T_f0d0c_row1_col2\" class=\"data row1 col2\" >-0.60</td>\n",
              "      <td id=\"T_f0d0c_row1_col3\" class=\"data row1 col3\" >-0.68</td>\n",
              "      <td id=\"T_f0d0c_row1_col4\" class=\"data row1 col4\" >-0.43</td>\n",
              "      <td id=\"T_f0d0c_row1_col5\" class=\"data row1 col5\" >-0.67</td>\n",
              "      <td id=\"T_f0d0c_row1_col6\" class=\"data row1 col6\" >-0.60</td>\n",
              "    </tr>\n",
              "    <tr>\n",
              "      <td id=\"T_f0d0c_row2_col0\" class=\"data row2 col0\" >0.38</td>\n",
              "      <td id=\"T_f0d0c_row2_col1\" class=\"data row2 col1\" >0.39</td>\n",
              "      <td id=\"T_f0d0c_row2_col2\" class=\"data row2 col2\" >0.39</td>\n",
              "      <td id=\"T_f0d0c_row2_col3\" class=\"data row2 col3\" >0.63</td>\n",
              "      <td id=\"T_f0d0c_row2_col4\" class=\"data row2 col4\" >0.61</td>\n",
              "      <td id=\"T_f0d0c_row2_col5\" class=\"data row2 col5\" >1.04</td>\n",
              "      <td id=\"T_f0d0c_row2_col6\" class=\"data row2 col6\" >0.39</td>\n",
              "    </tr>\n",
              "    <tr>\n",
              "      <td id=\"T_f0d0c_row3_col0\" class=\"data row3 col0\" >-0.57</td>\n",
              "      <td id=\"T_f0d0c_row3_col1\" class=\"data row3 col1\" >-0.57</td>\n",
              "      <td id=\"T_f0d0c_row3_col2\" class=\"data row3 col2\" >-0.56</td>\n",
              "      <td id=\"T_f0d0c_row3_col3\" class=\"data row3 col3\" >-0.63</td>\n",
              "      <td id=\"T_f0d0c_row3_col4\" class=\"data row3 col4\" >-0.43</td>\n",
              "      <td id=\"T_f0d0c_row3_col5\" class=\"data row3 col5\" >-0.67</td>\n",
              "      <td id=\"T_f0d0c_row3_col6\" class=\"data row3 col6\" >-0.56</td>\n",
              "    </tr>\n",
              "    <tr>\n",
              "      <td id=\"T_f0d0c_row4_col0\" class=\"data row4 col0\" >-1.00</td>\n",
              "      <td id=\"T_f0d0c_row4_col1\" class=\"data row4 col1\" >-0.98</td>\n",
              "      <td id=\"T_f0d0c_row4_col2\" class=\"data row4 col2\" >-0.98</td>\n",
              "      <td id=\"T_f0d0c_row4_col3\" class=\"data row4 col3\" >-1.33</td>\n",
              "      <td id=\"T_f0d0c_row4_col4\" class=\"data row4 col4\" >-0.96</td>\n",
              "      <td id=\"T_f0d0c_row4_col5\" class=\"data row4 col5\" >-0.67</td>\n",
              "      <td id=\"T_f0d0c_row4_col6\" class=\"data row4 col6\" >-0.98</td>\n",
              "    </tr>\n",
              "    <tr>\n",
              "      <td id=\"T_f0d0c_row5_col0\" class=\"data row5 col0\" >-0.10</td>\n",
              "      <td id=\"T_f0d0c_row5_col1\" class=\"data row5 col1\" >-0.11</td>\n",
              "      <td id=\"T_f0d0c_row5_col2\" class=\"data row5 col2\" >-0.11</td>\n",
              "      <td id=\"T_f0d0c_row5_col3\" class=\"data row5 col3\" >0.02</td>\n",
              "      <td id=\"T_f0d0c_row5_col4\" class=\"data row5 col4\" >0.09</td>\n",
              "      <td id=\"T_f0d0c_row5_col5\" class=\"data row5 col5\" >-0.67</td>\n",
              "      <td id=\"T_f0d0c_row5_col6\" class=\"data row5 col6\" >-0.11</td>\n",
              "    </tr>\n",
              "    <tr>\n",
              "      <td id=\"T_f0d0c_row6_col0\" class=\"data row6 col0\" >-0.77</td>\n",
              "      <td id=\"T_f0d0c_row6_col1\" class=\"data row6 col1\" >-0.78</td>\n",
              "      <td id=\"T_f0d0c_row6_col2\" class=\"data row6 col2\" >-0.78</td>\n",
              "      <td id=\"T_f0d0c_row6_col3\" class=\"data row6 col3\" >-0.98</td>\n",
              "      <td id=\"T_f0d0c_row6_col4\" class=\"data row6 col4\" >-0.96</td>\n",
              "      <td id=\"T_f0d0c_row6_col5\" class=\"data row6 col5\" >-0.67</td>\n",
              "      <td id=\"T_f0d0c_row6_col6\" class=\"data row6 col6\" >-0.78</td>\n",
              "    </tr>\n",
              "    <tr>\n",
              "      <td id=\"T_f0d0c_row7_col0\" class=\"data row7 col0\" >-1.05</td>\n",
              "      <td id=\"T_f0d0c_row7_col1\" class=\"data row7 col1\" >-1.06</td>\n",
              "      <td id=\"T_f0d0c_row7_col2\" class=\"data row7 col2\" >-1.06</td>\n",
              "      <td id=\"T_f0d0c_row7_col3\" class=\"data row7 col3\" >-1.49</td>\n",
              "      <td id=\"T_f0d0c_row7_col4\" class=\"data row7 col4\" >-0.96</td>\n",
              "      <td id=\"T_f0d0c_row7_col5\" class=\"data row7 col5\" >-0.67</td>\n",
              "      <td id=\"T_f0d0c_row7_col6\" class=\"data row7 col6\" >-1.06</td>\n",
              "    </tr>\n",
              "    <tr>\n",
              "      <td id=\"T_f0d0c_row8_col0\" class=\"data row8 col0\" >-0.96</td>\n",
              "      <td id=\"T_f0d0c_row8_col1\" class=\"data row8 col1\" >-0.97</td>\n",
              "      <td id=\"T_f0d0c_row8_col2\" class=\"data row8 col2\" >-0.97</td>\n",
              "      <td id=\"T_f0d0c_row8_col3\" class=\"data row8 col3\" >-1.31</td>\n",
              "      <td id=\"T_f0d0c_row8_col4\" class=\"data row8 col4\" >-0.96</td>\n",
              "      <td id=\"T_f0d0c_row8_col5\" class=\"data row8 col5\" >-0.67</td>\n",
              "      <td id=\"T_f0d0c_row8_col6\" class=\"data row8 col6\" >-0.97</td>\n",
              "    </tr>\n",
              "    <tr>\n",
              "      <td id=\"T_f0d0c_row9_col0\" class=\"data row9 col0\" >0.19</td>\n",
              "      <td id=\"T_f0d0c_row9_col1\" class=\"data row9 col1\" >0.17</td>\n",
              "      <td id=\"T_f0d0c_row9_col2\" class=\"data row9 col2\" >0.18</td>\n",
              "      <td id=\"T_f0d0c_row9_col3\" class=\"data row9 col3\" >0.38</td>\n",
              "      <td id=\"T_f0d0c_row9_col4\" class=\"data row9 col4\" >0.09</td>\n",
              "      <td id=\"T_f0d0c_row9_col5\" class=\"data row9 col5\" >1.04</td>\n",
              "      <td id=\"T_f0d0c_row9_col6\" class=\"data row9 col6\" >0.18</td>\n",
              "    </tr>\n",
              "  </tbody>\n",
              "</table>\n"
            ]
          },
          "metadata": {},
          "execution_count": 36
        }
      ],
      "source": [
        "pandasx.return_formatted_table \\\n",
        "    (x_train_scaled_SMOTE_dataframe,\n",
        "     'Table 2.7.4: Scaled Features Training SMOTE Data')"
      ]
    },
    {
      "cell_type": "code",
      "execution_count": 37,
      "metadata": {
        "colab": {
          "base_uri": "https://localhost:8080/",
          "height": 398
        },
        "id": "a5pH3ui-XVDA",
        "outputId": "2c8f6ccd-d53e-422d-ba2d-fc9809602f14"
      },
      "outputs": [
        {
          "output_type": "execute_result",
          "data": {
            "text/plain": [
              "<pandas.io.formats.style.Styler at 0x78ae78d9b3d0>"
            ],
            "text/html": [
              "<style type=\"text/css\">\n",
              "#T_83ac4 caption {\n",
              "  color: black;\n",
              "  font-size: 20px;\n",
              "  font-style: bold;\n",
              "  text-align: center;\n",
              "}\n",
              "#T_83ac4_row0_col0, #T_83ac4_row0_col1, #T_83ac4_row0_col2, #T_83ac4_row0_col3, #T_83ac4_row0_col4, #T_83ac4_row0_col5, #T_83ac4_row0_col6, #T_83ac4_row1_col0, #T_83ac4_row1_col1, #T_83ac4_row1_col2, #T_83ac4_row1_col3, #T_83ac4_row1_col4, #T_83ac4_row1_col5, #T_83ac4_row1_col6, #T_83ac4_row2_col0, #T_83ac4_row2_col1, #T_83ac4_row2_col2, #T_83ac4_row2_col3, #T_83ac4_row2_col4, #T_83ac4_row2_col5, #T_83ac4_row2_col6, #T_83ac4_row3_col0, #T_83ac4_row3_col1, #T_83ac4_row3_col2, #T_83ac4_row3_col3, #T_83ac4_row3_col4, #T_83ac4_row3_col5, #T_83ac4_row3_col6, #T_83ac4_row4_col0, #T_83ac4_row4_col1, #T_83ac4_row4_col2, #T_83ac4_row4_col3, #T_83ac4_row4_col4, #T_83ac4_row4_col5, #T_83ac4_row4_col6, #T_83ac4_row5_col0, #T_83ac4_row5_col1, #T_83ac4_row5_col2, #T_83ac4_row5_col3, #T_83ac4_row5_col4, #T_83ac4_row5_col5, #T_83ac4_row5_col6, #T_83ac4_row6_col0, #T_83ac4_row6_col1, #T_83ac4_row6_col2, #T_83ac4_row6_col3, #T_83ac4_row6_col4, #T_83ac4_row6_col5, #T_83ac4_row6_col6, #T_83ac4_row7_col0, #T_83ac4_row7_col1, #T_83ac4_row7_col2, #T_83ac4_row7_col3, #T_83ac4_row7_col4, #T_83ac4_row7_col5, #T_83ac4_row7_col6, #T_83ac4_row8_col0, #T_83ac4_row8_col1, #T_83ac4_row8_col2, #T_83ac4_row8_col3, #T_83ac4_row8_col4, #T_83ac4_row8_col5, #T_83ac4_row8_col6, #T_83ac4_row9_col0, #T_83ac4_row9_col1, #T_83ac4_row9_col2, #T_83ac4_row9_col3, #T_83ac4_row9_col4, #T_83ac4_row9_col5, #T_83ac4_row9_col6 {\n",
              "  text-align: center;\n",
              "  border: 1.3px solid red;\n",
              "  color: blue;\n",
              "}\n",
              "</style>\n",
              "<table id=\"T_83ac4\" class=\"dataframe\">\n",
              "  <caption>Table 2.7.5: Scaled Features Training SMOTEENN Data</caption>\n",
              "  <thead>\n",
              "    <tr>\n",
              "      <th id=\"T_83ac4_level0_col0\" class=\"col_heading level0 col0\" >loan_size</th>\n",
              "      <th id=\"T_83ac4_level0_col1\" class=\"col_heading level0 col1\" >interest_rate</th>\n",
              "      <th id=\"T_83ac4_level0_col2\" class=\"col_heading level0 col2\" >borrower_income</th>\n",
              "      <th id=\"T_83ac4_level0_col3\" class=\"col_heading level0 col3\" >debt_to_income</th>\n",
              "      <th id=\"T_83ac4_level0_col4\" class=\"col_heading level0 col4\" >num_of_accounts</th>\n",
              "      <th id=\"T_83ac4_level0_col5\" class=\"col_heading level0 col5\" >derogatory_marks</th>\n",
              "      <th id=\"T_83ac4_level0_col6\" class=\"col_heading level0 col6\" >total_debt</th>\n",
              "    </tr>\n",
              "  </thead>\n",
              "  <tbody>\n",
              "    <tr>\n",
              "      <td id=\"T_83ac4_row0_col0\" class=\"data row0 col0\" >-0.34</td>\n",
              "      <td id=\"T_83ac4_row0_col1\" class=\"data row0 col1\" >-0.33</td>\n",
              "      <td id=\"T_83ac4_row0_col2\" class=\"data row0 col2\" >-0.34</td>\n",
              "      <td id=\"T_83ac4_row0_col3\" class=\"data row0 col3\" >-0.29</td>\n",
              "      <td id=\"T_83ac4_row0_col4\" class=\"data row0 col4\" >-0.43</td>\n",
              "      <td id=\"T_83ac4_row0_col5\" class=\"data row0 col5\" >-0.67</td>\n",
              "      <td id=\"T_83ac4_row0_col6\" class=\"data row0 col6\" >-0.34</td>\n",
              "    </tr>\n",
              "    <tr>\n",
              "      <td id=\"T_83ac4_row1_col0\" class=\"data row1 col0\" >-0.57</td>\n",
              "      <td id=\"T_83ac4_row1_col1\" class=\"data row1 col1\" >-0.60</td>\n",
              "      <td id=\"T_83ac4_row1_col2\" class=\"data row1 col2\" >-0.60</td>\n",
              "      <td id=\"T_83ac4_row1_col3\" class=\"data row1 col3\" >-0.68</td>\n",
              "      <td id=\"T_83ac4_row1_col4\" class=\"data row1 col4\" >-0.43</td>\n",
              "      <td id=\"T_83ac4_row1_col5\" class=\"data row1 col5\" >-0.67</td>\n",
              "      <td id=\"T_83ac4_row1_col6\" class=\"data row1 col6\" >-0.60</td>\n",
              "    </tr>\n",
              "    <tr>\n",
              "      <td id=\"T_83ac4_row2_col0\" class=\"data row2 col0\" >0.38</td>\n",
              "      <td id=\"T_83ac4_row2_col1\" class=\"data row2 col1\" >0.39</td>\n",
              "      <td id=\"T_83ac4_row2_col2\" class=\"data row2 col2\" >0.39</td>\n",
              "      <td id=\"T_83ac4_row2_col3\" class=\"data row2 col3\" >0.63</td>\n",
              "      <td id=\"T_83ac4_row2_col4\" class=\"data row2 col4\" >0.61</td>\n",
              "      <td id=\"T_83ac4_row2_col5\" class=\"data row2 col5\" >1.04</td>\n",
              "      <td id=\"T_83ac4_row2_col6\" class=\"data row2 col6\" >0.39</td>\n",
              "    </tr>\n",
              "    <tr>\n",
              "      <td id=\"T_83ac4_row3_col0\" class=\"data row3 col0\" >-0.57</td>\n",
              "      <td id=\"T_83ac4_row3_col1\" class=\"data row3 col1\" >-0.57</td>\n",
              "      <td id=\"T_83ac4_row3_col2\" class=\"data row3 col2\" >-0.56</td>\n",
              "      <td id=\"T_83ac4_row3_col3\" class=\"data row3 col3\" >-0.63</td>\n",
              "      <td id=\"T_83ac4_row3_col4\" class=\"data row3 col4\" >-0.43</td>\n",
              "      <td id=\"T_83ac4_row3_col5\" class=\"data row3 col5\" >-0.67</td>\n",
              "      <td id=\"T_83ac4_row3_col6\" class=\"data row3 col6\" >-0.56</td>\n",
              "    </tr>\n",
              "    <tr>\n",
              "      <td id=\"T_83ac4_row4_col0\" class=\"data row4 col0\" >-1.00</td>\n",
              "      <td id=\"T_83ac4_row4_col1\" class=\"data row4 col1\" >-0.98</td>\n",
              "      <td id=\"T_83ac4_row4_col2\" class=\"data row4 col2\" >-0.98</td>\n",
              "      <td id=\"T_83ac4_row4_col3\" class=\"data row4 col3\" >-1.33</td>\n",
              "      <td id=\"T_83ac4_row4_col4\" class=\"data row4 col4\" >-0.96</td>\n",
              "      <td id=\"T_83ac4_row4_col5\" class=\"data row4 col5\" >-0.67</td>\n",
              "      <td id=\"T_83ac4_row4_col6\" class=\"data row4 col6\" >-0.98</td>\n",
              "    </tr>\n",
              "    <tr>\n",
              "      <td id=\"T_83ac4_row5_col0\" class=\"data row5 col0\" >-0.10</td>\n",
              "      <td id=\"T_83ac4_row5_col1\" class=\"data row5 col1\" >-0.11</td>\n",
              "      <td id=\"T_83ac4_row5_col2\" class=\"data row5 col2\" >-0.11</td>\n",
              "      <td id=\"T_83ac4_row5_col3\" class=\"data row5 col3\" >0.02</td>\n",
              "      <td id=\"T_83ac4_row5_col4\" class=\"data row5 col4\" >0.09</td>\n",
              "      <td id=\"T_83ac4_row5_col5\" class=\"data row5 col5\" >-0.67</td>\n",
              "      <td id=\"T_83ac4_row5_col6\" class=\"data row5 col6\" >-0.11</td>\n",
              "    </tr>\n",
              "    <tr>\n",
              "      <td id=\"T_83ac4_row6_col0\" class=\"data row6 col0\" >-0.77</td>\n",
              "      <td id=\"T_83ac4_row6_col1\" class=\"data row6 col1\" >-0.78</td>\n",
              "      <td id=\"T_83ac4_row6_col2\" class=\"data row6 col2\" >-0.78</td>\n",
              "      <td id=\"T_83ac4_row6_col3\" class=\"data row6 col3\" >-0.98</td>\n",
              "      <td id=\"T_83ac4_row6_col4\" class=\"data row6 col4\" >-0.96</td>\n",
              "      <td id=\"T_83ac4_row6_col5\" class=\"data row6 col5\" >-0.67</td>\n",
              "      <td id=\"T_83ac4_row6_col6\" class=\"data row6 col6\" >-0.78</td>\n",
              "    </tr>\n",
              "    <tr>\n",
              "      <td id=\"T_83ac4_row7_col0\" class=\"data row7 col0\" >-1.05</td>\n",
              "      <td id=\"T_83ac4_row7_col1\" class=\"data row7 col1\" >-1.06</td>\n",
              "      <td id=\"T_83ac4_row7_col2\" class=\"data row7 col2\" >-1.06</td>\n",
              "      <td id=\"T_83ac4_row7_col3\" class=\"data row7 col3\" >-1.49</td>\n",
              "      <td id=\"T_83ac4_row7_col4\" class=\"data row7 col4\" >-0.96</td>\n",
              "      <td id=\"T_83ac4_row7_col5\" class=\"data row7 col5\" >-0.67</td>\n",
              "      <td id=\"T_83ac4_row7_col6\" class=\"data row7 col6\" >-1.06</td>\n",
              "    </tr>\n",
              "    <tr>\n",
              "      <td id=\"T_83ac4_row8_col0\" class=\"data row8 col0\" >-0.96</td>\n",
              "      <td id=\"T_83ac4_row8_col1\" class=\"data row8 col1\" >-0.97</td>\n",
              "      <td id=\"T_83ac4_row8_col2\" class=\"data row8 col2\" >-0.97</td>\n",
              "      <td id=\"T_83ac4_row8_col3\" class=\"data row8 col3\" >-1.31</td>\n",
              "      <td id=\"T_83ac4_row8_col4\" class=\"data row8 col4\" >-0.96</td>\n",
              "      <td id=\"T_83ac4_row8_col5\" class=\"data row8 col5\" >-0.67</td>\n",
              "      <td id=\"T_83ac4_row8_col6\" class=\"data row8 col6\" >-0.97</td>\n",
              "    </tr>\n",
              "    <tr>\n",
              "      <td id=\"T_83ac4_row9_col0\" class=\"data row9 col0\" >0.19</td>\n",
              "      <td id=\"T_83ac4_row9_col1\" class=\"data row9 col1\" >0.17</td>\n",
              "      <td id=\"T_83ac4_row9_col2\" class=\"data row9 col2\" >0.18</td>\n",
              "      <td id=\"T_83ac4_row9_col3\" class=\"data row9 col3\" >0.38</td>\n",
              "      <td id=\"T_83ac4_row9_col4\" class=\"data row9 col4\" >0.09</td>\n",
              "      <td id=\"T_83ac4_row9_col5\" class=\"data row9 col5\" >1.04</td>\n",
              "      <td id=\"T_83ac4_row9_col6\" class=\"data row9 col6\" >0.18</td>\n",
              "    </tr>\n",
              "  </tbody>\n",
              "</table>\n"
            ]
          },
          "metadata": {},
          "execution_count": 37
        }
      ],
      "source": [
        "pandasx.return_formatted_table \\\n",
        "    (x_train_scaled_SMOTEENN_dataframe,\n",
        "     'Table 2.7.5: Scaled Features Training SMOTEENN Data')"
      ]
    },
    {
      "cell_type": "markdown",
      "metadata": {
        "id": "QFLhZlm_XVDA"
      },
      "source": [
        "# <br> **Section 3: Model Optimization**"
      ]
    },
    {
      "cell_type": "markdown",
      "metadata": {
        "id": "9YzOKAB9XVDA"
      },
      "source": [
        "## **3.1: Logistic Regression**"
      ]
    },
    {
      "cell_type": "markdown",
      "metadata": {
        "id": "Phrw-3fHXVDA"
      },
      "source": [
        "### **Original**"
      ]
    },
    {
      "cell_type": "code",
      "execution_count": 38,
      "metadata": {
        "id": "5kbuU9SAXVDA"
      },
      "outputs": [],
      "source": [
        "parameters_grid_dictionary \\\n",
        "    = {'class_weight': ['balanced', None],\n",
        "       'solver': ['lbfgs', 'liblinear', 'newton-cg', 'newton-cholesky', 'sag', 'saga']}\n",
        "\n",
        "lr_grid_search_model \\\n",
        "    = GridSearchCV \\\n",
        "        (LogisticRegression \\\n",
        "             (random_state = credit_risk_constants.CONSTANT_ML_RANDOM_STATE_1,\n",
        "              max_iter = credit_risk_constants.CONSTANT_ML_LR_MAX_ITERATIONS),\n",
        "         parameters_grid_dictionary)\n",
        "\n",
        "lr_undersampled_grid_search_model = copy.copy(lr_grid_search_model)\n",
        "\n",
        "lr_oversampled_grid_search_model = copy.copy(lr_grid_search_model)\n",
        "\n",
        "lr_cluster_centroids_grid_search_model = copy.copy(lr_grid_search_model)\n",
        "\n",
        "lr_SMOTE_grid_search_model = copy.copy(lr_grid_search_model)\n",
        "\n",
        "lr_SMOTEENN_grid_search_model = copy.copy(lr_grid_search_model)"
      ]
    },
    {
      "cell_type": "code",
      "execution_count": 39,
      "metadata": {
        "id": "gWCZfiw6XVDA"
      },
      "outputs": [],
      "source": [
        "lr_grid_search_model.fit(x_train_scaled_dataframe, y_train_series)\n",
        "\n",
        "clear_output()"
      ]
    },
    {
      "cell_type": "code",
      "execution_count": 40,
      "metadata": {
        "colab": {
          "base_uri": "https://localhost:8080/"
        },
        "id": "vWq9ye26XVDA",
        "outputId": "2dbaf171-82d0-4b43-b291-411a253ae23f"
      },
      "outputs": [
        {
          "output_type": "stream",
          "name": "stdout",
          "text": [
            "\u001b[1mThe logistic regression model best accuracy score is 99.44%\n",
            "\n",
            "The optimal model hyperparameters are:\n",
            "{'class_weight': None, 'solver': 'lbfgs'}\u001b[0m\n"
          ]
        }
      ],
      "source": [
        "logx.print_and_log_text \\\n",
        "    ('\\033[1m'\n",
        "     + 'The logistic regression model best accuracy score is {:.2f}%' \\\n",
        "         .format(lr_grid_search_model.best_score_ * 100)\n",
        "     + '\\n\\nThe optimal model hyperparameters are:\\n'\n",
        "     + str(lr_grid_search_model.best_params_)\n",
        "     + '\\033[0m')"
      ]
    },
    {
      "cell_type": "markdown",
      "metadata": {
        "id": "frmMYFuAXVDA"
      },
      "source": [
        "### **Random Undersampling**"
      ]
    },
    {
      "cell_type": "code",
      "execution_count": 41,
      "metadata": {
        "id": "L5AfXTVvXVDA"
      },
      "outputs": [],
      "source": [
        "lr_undersampled_grid_search_model.fit \\\n",
        "    (x_train_scaled_undersampled_dataframe, y_train_undersampled_series)\n",
        "\n",
        "clear_output()"
      ]
    },
    {
      "cell_type": "code",
      "execution_count": 42,
      "metadata": {
        "colab": {
          "base_uri": "https://localhost:8080/"
        },
        "id": "M6eRPPGxXVDB",
        "outputId": "fe15e74a-2b43-4a39-be5c-418ecfbd0599"
      },
      "outputs": [
        {
          "output_type": "stream",
          "name": "stdout",
          "text": [
            "\u001b[1mThe logistic regression model with random undersampling best accuracy score is 99.47%\n",
            "\n",
            "The optimal model hyperparameters are:\n",
            "{'class_weight': 'balanced', 'solver': 'lbfgs'}\u001b[0m\n"
          ]
        }
      ],
      "source": [
        "logx.print_and_log_text \\\n",
        "    ('\\033[1m'\n",
        "     + 'The logistic regression model with random undersampling best accuracy score is {:.2f}%' \\\n",
        "         .format(lr_undersampled_grid_search_model.best_score_ * 100)\n",
        "     + '\\n\\nThe optimal model hyperparameters are:\\n'\n",
        "     + str(lr_undersampled_grid_search_model.best_params_)\n",
        "     + '\\033[0m')"
      ]
    },
    {
      "cell_type": "markdown",
      "metadata": {
        "id": "MP22_auCXVDB"
      },
      "source": [
        "### **Random Oversampling**"
      ]
    },
    {
      "cell_type": "code",
      "execution_count": 43,
      "metadata": {
        "id": "Ucd0NrsoXVDB"
      },
      "outputs": [],
      "source": [
        "lr_oversampled_grid_search_model.fit \\\n",
        "    (x_train_scaled_oversampled_dataframe, y_train_oversampled_series)\n",
        "\n",
        "clear_output()"
      ]
    },
    {
      "cell_type": "code",
      "execution_count": 44,
      "metadata": {
        "colab": {
          "base_uri": "https://localhost:8080/"
        },
        "id": "QmwfX0XtXVDB",
        "outputId": "a6a6c0cf-58aa-46f9-d863-12a816e28981"
      },
      "outputs": [
        {
          "output_type": "stream",
          "name": "stdout",
          "text": [
            "\u001b[1mThe logistic regression model with random oversampling best accuracy score is 99.43%\n",
            "\n",
            "The optimal model hyperparameters are:\n",
            "{'class_weight': 'balanced', 'solver': 'liblinear'}\u001b[0m\n"
          ]
        }
      ],
      "source": [
        "logx.print_and_log_text \\\n",
        "    ('\\033[1m'\n",
        "     + 'The logistic regression model with random oversampling best accuracy score is {:.2f}%' \\\n",
        "         .format(lr_oversampled_grid_search_model.best_score_ * 100)\n",
        "     + '\\n\\nThe optimal model hyperparameters are:\\n'\n",
        "     + str(lr_oversampled_grid_search_model.best_params_)\n",
        "     + '\\033[0m')"
      ]
    },
    {
      "cell_type": "markdown",
      "metadata": {
        "id": "j5XKQboeXVDB"
      },
      "source": [
        "### **Cluster Centroids**"
      ]
    },
    {
      "cell_type": "code",
      "execution_count": 45,
      "metadata": {
        "id": "2kD0Ov6QXVDB"
      },
      "outputs": [],
      "source": [
        "lr_cluster_centroids_grid_search_model.fit \\\n",
        "    (x_train_scaled_cluster_centroids_dataframe, y_train_cluster_centroids_series)\n",
        "\n",
        "clear_output()"
      ]
    },
    {
      "cell_type": "code",
      "execution_count": 46,
      "metadata": {
        "colab": {
          "base_uri": "https://localhost:8080/"
        },
        "id": "gLlFGcLcXVDB",
        "outputId": "c26cc60d-e9ef-47e8-b634-2d961ceeb2c8"
      },
      "outputs": [
        {
          "output_type": "stream",
          "name": "stdout",
          "text": [
            "\u001b[1mThe logistic regression model with cluster centroid best accuracy score is 94.31%\n",
            "\n",
            "The optimal model hyperparameters are:\n",
            "{'class_weight': 'balanced', 'solver': 'liblinear'}\u001b[0m\n"
          ]
        }
      ],
      "source": [
        "logx.print_and_log_text \\\n",
        "    ('\\033[1m'\n",
        "     + 'The logistic regression model with cluster centroid best accuracy score is {:.2f}%' \\\n",
        "         .format(lr_cluster_centroids_grid_search_model.best_score_ * 100)\n",
        "     + '\\n\\nThe optimal model hyperparameters are:\\n'\n",
        "     + str(lr_cluster_centroids_grid_search_model.best_params_)\n",
        "     + '\\033[0m')"
      ]
    },
    {
      "cell_type": "markdown",
      "metadata": {
        "id": "MqUXo93lXVDB"
      },
      "source": [
        "### **SMOTE**"
      ]
    },
    {
      "cell_type": "code",
      "execution_count": 47,
      "metadata": {
        "id": "j72N8eerXVDB"
      },
      "outputs": [],
      "source": [
        "lr_SMOTE_grid_search_model.fit(x_train_scaled_SMOTE_dataframe, y_train_SMOTE_series)\n",
        "\n",
        "clear_output()"
      ]
    },
    {
      "cell_type": "code",
      "execution_count": 48,
      "metadata": {
        "colab": {
          "base_uri": "https://localhost:8080/"
        },
        "id": "LzlkXK-KXVDC",
        "outputId": "f8745e08-b14b-47d5-94ed-cacf15266e5e"
      },
      "outputs": [
        {
          "output_type": "stream",
          "name": "stdout",
          "text": [
            "\u001b[1mThe logistic regression model with SMOTE best accuracy score is 99.44%\n",
            "\n",
            "The optimal model hyperparameters are:\n",
            "{'class_weight': 'balanced', 'solver': 'liblinear'}\u001b[0m\n"
          ]
        }
      ],
      "source": [
        "logx.print_and_log_text \\\n",
        "    ('\\033[1m'\n",
        "     + 'The logistic regression model with SMOTE best accuracy score is {:.2f}%' \\\n",
        "         .format(lr_SMOTE_grid_search_model.best_score_ * 100)\n",
        "     + '\\n\\nThe optimal model hyperparameters are:\\n'\n",
        "     + str(lr_SMOTE_grid_search_model.best_params_)\n",
        "     + '\\033[0m')"
      ]
    },
    {
      "cell_type": "markdown",
      "metadata": {
        "id": "3VLVN-pnXVDC"
      },
      "source": [
        "### **SMOTEENN**"
      ]
    },
    {
      "cell_type": "code",
      "execution_count": 49,
      "metadata": {
        "id": "MYl6AsWzXVDC"
      },
      "outputs": [],
      "source": [
        "lr_SMOTEENN_grid_search_model.fit \\\n",
        "    (x_train_scaled_SMOTEENN_dataframe, y_train_SMOTEENN_series)\n",
        "\n",
        "clear_output()"
      ]
    },
    {
      "cell_type": "code",
      "execution_count": 50,
      "metadata": {
        "id": "W94sDQSIXVDC",
        "colab": {
          "base_uri": "https://localhost:8080/"
        },
        "outputId": "0bb6176a-b15e-4f21-b4ae-3abffca0bbc7"
      },
      "outputs": [
        {
          "output_type": "stream",
          "name": "stdout",
          "text": [
            "\u001b[1mThe logistic regression model with SMOTEENN best accuracy score is 99.80%\n",
            "\n",
            "The optimal model hyperparameters are:\n",
            "{'class_weight': None, 'solver': 'liblinear'}\u001b[0m\n"
          ]
        }
      ],
      "source": [
        "logx.print_and_log_text \\\n",
        "    ('\\033[1m'\n",
        "     + 'The logistic regression model with SMOTEENN best accuracy score is {:.2f}%' \\\n",
        "         .format(lr_SMOTEENN_grid_search_model.best_score_ * 100)\n",
        "     + '\\n\\nThe optimal model hyperparameters are:\\n'\n",
        "     + str(lr_SMOTEENN_grid_search_model.best_params_)\n",
        "     + '\\033[0m')"
      ]
    },
    {
      "cell_type": "markdown",
      "metadata": {
        "id": "nsCv2BZDXVDC"
      },
      "source": [
        "## **3.2: Decision Tree**"
      ]
    },
    {
      "cell_type": "markdown",
      "metadata": {
        "id": "4uOTM4tAXVDC"
      },
      "source": [
        "### **Original**"
      ]
    },
    {
      "cell_type": "code",
      "execution_count": 51,
      "metadata": {
        "id": "dPQJqyuvXVDC"
      },
      "outputs": [],
      "source": [
        "parameters_grid_dictionary \\\n",
        "    = {'criterion': ['gini', 'entropy', 'log_loss'],\n",
        "       'splitter': ['best', 'random'],\n",
        "       'class_weight': ['balanced', None]}\n",
        "\n",
        "dt_grid_search_model \\\n",
        "    = GridSearchCV \\\n",
        "        (DecisionTreeClassifier \\\n",
        "            (random_state = credit_risk_constants.CONSTANT_ML_RANDOM_STATE_1),\n",
        "         parameters_grid_dictionary)\n",
        "\n",
        "dt_undersampled_grid_search_model = copy.copy(dt_grid_search_model)\n",
        "\n",
        "dt_oversampled_grid_search_model = copy.copy(dt_grid_search_model)\n",
        "\n",
        "dt_cluster_centroids_grid_search_model = copy.copy(dt_grid_search_model)\n",
        "\n",
        "dt_SMOTE_grid_search_model = copy.copy(dt_grid_search_model)\n",
        "\n",
        "dt_SMOTEENN_grid_search_model = copy.copy(dt_grid_search_model)"
      ]
    },
    {
      "cell_type": "code",
      "execution_count": 52,
      "metadata": {
        "id": "fJzVUFenXVDC"
      },
      "outputs": [],
      "source": [
        "dt_grid_search_model.fit(x_train_scaled_dataframe, y_train_series)\n",
        "\n",
        "clear_output()"
      ]
    },
    {
      "cell_type": "code",
      "execution_count": 53,
      "metadata": {
        "id": "3LWkXY2vXVDC",
        "colab": {
          "base_uri": "https://localhost:8080/"
        },
        "outputId": "81c7e738-9c99-4043-9384-83baa9436d96"
      },
      "outputs": [
        {
          "output_type": "stream",
          "name": "stdout",
          "text": [
            "\u001b[1mThe decision tree model best accuracy score is 99.09%\n",
            "\n",
            "The optimal model hyperparameters are:\n",
            "{'class_weight': 'balanced', 'criterion': 'gini', 'splitter': 'best'}\u001b[0m\n"
          ]
        }
      ],
      "source": [
        "logx.print_and_log_text \\\n",
        "    ('\\033[1m'\n",
        "     + 'The decision tree model best accuracy score is {:.2f}%' \\\n",
        "         .format(dt_grid_search_model.best_score_ * 100)\n",
        "     + '\\n\\nThe optimal model hyperparameters are:\\n'\n",
        "     + str(dt_grid_search_model.best_params_)\n",
        "     + '\\033[0m')"
      ]
    },
    {
      "cell_type": "markdown",
      "metadata": {
        "id": "gXUfGSEyXVDC"
      },
      "source": [
        "### **Random Undersampling**"
      ]
    },
    {
      "cell_type": "code",
      "execution_count": 54,
      "metadata": {
        "id": "HtfhjpkyXVDD"
      },
      "outputs": [],
      "source": [
        "dt_undersampled_grid_search_model.fit \\\n",
        "    (x_train_scaled_undersampled_dataframe, y_train_undersampled_series)\n",
        "\n",
        "clear_output()"
      ]
    },
    {
      "cell_type": "code",
      "execution_count": 55,
      "metadata": {
        "id": "JVIhy9R6XVDD",
        "colab": {
          "base_uri": "https://localhost:8080/"
        },
        "outputId": "2e51d1b8-47ac-44bd-cb38-e6b2d98b4021"
      },
      "outputs": [
        {
          "output_type": "stream",
          "name": "stdout",
          "text": [
            "\u001b[1mThe decision tree model with random undersampling best accuracy score is 99.15%\n",
            "\n",
            "The optimal model hyperparameters are:\n",
            "{'class_weight': 'balanced', 'criterion': 'gini', 'splitter': 'random'}\u001b[0m\n"
          ]
        }
      ],
      "source": [
        "logx.print_and_log_text \\\n",
        "    ('\\033[1m'\n",
        "     + 'The decision tree model with random undersampling best accuracy score is {:.2f}%' \\\n",
        "         .format(dt_undersampled_grid_search_model.best_score_ * 100)\n",
        "     + '\\n\\nThe optimal model hyperparameters are:\\n'\n",
        "     + str(dt_undersampled_grid_search_model.best_params_)\n",
        "     + '\\033[0m')"
      ]
    },
    {
      "cell_type": "markdown",
      "metadata": {
        "id": "P9YWrSsnXVDD"
      },
      "source": [
        "### **Random Oversampling**"
      ]
    },
    {
      "cell_type": "code",
      "execution_count": 56,
      "metadata": {
        "id": "16pOixH3XVDD"
      },
      "outputs": [],
      "source": [
        "dt_oversampled_grid_search_model.fit \\\n",
        "    (x_train_scaled_oversampled_dataframe, y_train_oversampled_series)\n",
        "\n",
        "clear_output()"
      ]
    },
    {
      "cell_type": "code",
      "execution_count": 57,
      "metadata": {
        "id": "8Egs-OBeXVDD",
        "colab": {
          "base_uri": "https://localhost:8080/"
        },
        "outputId": "cfd0249e-131d-401e-ab43-2ae2d2db0ad0"
      },
      "outputs": [
        {
          "output_type": "stream",
          "name": "stdout",
          "text": [
            "\u001b[1mThe decision tree model with random oversampling best accuracy score is 99.53%\n",
            "\n",
            "The optimal model hyperparameters are:\n",
            "{'class_weight': 'balanced', 'criterion': 'entropy', 'splitter': 'best'}\u001b[0m\n"
          ]
        }
      ],
      "source": [
        "logx.print_and_log_text \\\n",
        "    ('\\033[1m'\n",
        "     + 'The decision tree model with random oversampling best accuracy score is {:.2f}%' \\\n",
        "         .format(dt_oversampled_grid_search_model.best_score_ * 100)\n",
        "     + '\\n\\nThe optimal model hyperparameters are:\\n'\n",
        "     + str(dt_oversampled_grid_search_model.best_params_)\n",
        "     + '\\033[0m')"
      ]
    },
    {
      "cell_type": "markdown",
      "metadata": {
        "id": "gqh8PTZcXVDD"
      },
      "source": [
        "### **Cluster Centroids**"
      ]
    },
    {
      "cell_type": "code",
      "execution_count": 58,
      "metadata": {
        "id": "I9ZX_qKCXVDD"
      },
      "outputs": [],
      "source": [
        "dt_cluster_centroids_grid_search_model.fit \\\n",
        "    (x_train_scaled_cluster_centroids_dataframe, y_train_cluster_centroids_series)\n",
        "\n",
        "clear_output()"
      ]
    },
    {
      "cell_type": "code",
      "execution_count": 59,
      "metadata": {
        "id": "OZJYomtfXVDD",
        "colab": {
          "base_uri": "https://localhost:8080/"
        },
        "outputId": "62f17fdf-4546-4b76-e43a-f14b3794fd4c"
      },
      "outputs": [
        {
          "output_type": "stream",
          "name": "stdout",
          "text": [
            "\u001b[1mThe decision tree model with cluster centroid best accuracy score is 89.05%\n",
            "\n",
            "The optimal model hyperparameters are:\n",
            "{'class_weight': 'balanced', 'criterion': 'entropy', 'splitter': 'random'}\u001b[0m\n"
          ]
        }
      ],
      "source": [
        "logx.print_and_log_text \\\n",
        "    ('\\033[1m'\n",
        "     + 'The decision tree model with cluster centroid best accuracy score is {:.2f}%' \\\n",
        "         .format(dt_cluster_centroids_grid_search_model.best_score_ * 100)\n",
        "     + '\\n\\nThe optimal model hyperparameters are:\\n'\n",
        "     + str(dt_cluster_centroids_grid_search_model.best_params_)\n",
        "     + '\\033[0m')"
      ]
    },
    {
      "cell_type": "markdown",
      "metadata": {
        "id": "Y3ga96e_XVDD"
      },
      "source": [
        "### **SMOTE**"
      ]
    },
    {
      "cell_type": "code",
      "execution_count": 60,
      "metadata": {
        "id": "ym6BZlIPXVDD"
      },
      "outputs": [],
      "source": [
        "dt_SMOTE_grid_search_model.fit(x_train_scaled_SMOTE_dataframe, y_train_SMOTE_series)\n",
        "\n",
        "clear_output()"
      ]
    },
    {
      "cell_type": "code",
      "execution_count": 61,
      "metadata": {
        "id": "4TQndCwVXVDD",
        "colab": {
          "base_uri": "https://localhost:8080/"
        },
        "outputId": "a4aa75ab-7b49-4f46-c318-1e5e3bdec14a"
      },
      "outputs": [
        {
          "output_type": "stream",
          "name": "stdout",
          "text": [
            "\u001b[1mThe decision tree model with SMOTE best accuracy score is 99.58%\n",
            "\n",
            "The optimal model hyperparameters are:\n",
            "{'class_weight': 'balanced', 'criterion': 'gini', 'splitter': 'best'}\u001b[0m\n"
          ]
        }
      ],
      "source": [
        "logx.print_and_log_text \\\n",
        "    ('\\033[1m'\n",
        "     + 'The decision tree model with SMOTE best accuracy score is {:.2f}%' \\\n",
        "         .format(dt_SMOTE_grid_search_model.best_score_ * 100)\n",
        "     + '\\n\\nThe optimal model hyperparameters are:\\n'\n",
        "     + str(dt_SMOTE_grid_search_model.best_params_)\n",
        "     + '\\033[0m')"
      ]
    },
    {
      "cell_type": "markdown",
      "metadata": {
        "id": "9SXu9VlJXVDE"
      },
      "source": [
        "### **SMOTEENN**"
      ]
    },
    {
      "cell_type": "code",
      "execution_count": 62,
      "metadata": {
        "id": "e1LUa-6QXVDE"
      },
      "outputs": [],
      "source": [
        "dt_SMOTEENN_grid_search_model.fit \\\n",
        "    (x_train_scaled_SMOTEENN_dataframe, y_train_SMOTEENN_series)\n",
        "\n",
        "clear_output()"
      ]
    },
    {
      "cell_type": "code",
      "execution_count": 63,
      "metadata": {
        "id": "yDqYEItaXVDE",
        "colab": {
          "base_uri": "https://localhost:8080/"
        },
        "outputId": "335bb453-7d48-4931-9040-1b29773c1a97"
      },
      "outputs": [
        {
          "output_type": "stream",
          "name": "stdout",
          "text": [
            "\u001b[1mThe decision tree model with SMOTEENN best accuracy score is 99.99%\n",
            "\n",
            "The optimal model hyperparameters are:\n",
            "{'class_weight': 'balanced', 'criterion': 'gini', 'splitter': 'best'}\u001b[0m\n"
          ]
        }
      ],
      "source": [
        "logx.print_and_log_text \\\n",
        "    ('\\033[1m'\n",
        "     + 'The decision tree model with SMOTEENN best accuracy score is {:.2f}%' \\\n",
        "         .format(dt_SMOTEENN_grid_search_model.best_score_ * 100)\n",
        "     + '\\n\\nThe optimal model hyperparameters are:\\n'\n",
        "     + str(dt_SMOTEENN_grid_search_model.best_params_)\n",
        "     + '\\033[0m')"
      ]
    },
    {
      "cell_type": "markdown",
      "metadata": {
        "id": "i8idss6zXVDE"
      },
      "source": [
        "## **3.3: Random Forest**"
      ]
    },
    {
      "cell_type": "markdown",
      "metadata": {
        "id": "JruHadh-XVDE"
      },
      "source": [
        "### **Original**"
      ]
    },
    {
      "cell_type": "code",
      "execution_count": 64,
      "metadata": {
        "id": "iw_jDKyCXVDE"
      },
      "outputs": [],
      "source": [
        "parameters_grid_dictionary \\\n",
        "    = {'criterion': ['gini', 'entropy', 'log_loss'],\n",
        "       'class_weight': ['balanced', 'balanced_subsample', None]}\n",
        "\n",
        "rf_grid_search_model \\\n",
        "    = GridSearchCV \\\n",
        "        (RandomForestClassifier \\\n",
        "             (n_estimators = credit_risk_constants.CONSTANT_ML_RF_N_ESTIMATORS,\n",
        "              random_state = credit_risk_constants.CONSTANT_ML_RANDOM_STATE_1),\n",
        "         parameters_grid_dictionary)\n",
        "\n",
        "rf_undersampled_grid_search_model = copy.copy(rf_grid_search_model)\n",
        "\n",
        "rf_oversampled_grid_search_model = copy.copy(rf_grid_search_model)\n",
        "\n",
        "rf_cluster_centroids_grid_search_model = copy.copy(rf_grid_search_model)\n",
        "\n",
        "rf_SMOTE_grid_search_model = copy.copy(rf_grid_search_model)\n",
        "\n",
        "rf_SMOTEENN_grid_search_model = copy.copy(rf_grid_search_model)"
      ]
    },
    {
      "cell_type": "code",
      "execution_count": 65,
      "metadata": {
        "id": "waToxQngXVDE",
        "scrolled": true
      },
      "outputs": [],
      "source": [
        "rf_grid_search_model.fit(x_train_scaled_dataframe, y_train_series)\n",
        "\n",
        "clear_output()"
      ]
    },
    {
      "cell_type": "code",
      "execution_count": 66,
      "metadata": {
        "id": "nopDD67QXVDE",
        "colab": {
          "base_uri": "https://localhost:8080/"
        },
        "outputId": "a0672867-8158-4d8e-a648-7183d91b222a"
      },
      "outputs": [
        {
          "output_type": "stream",
          "name": "stdout",
          "text": [
            "\u001b[1mThe random forest model best accuracy score is 99.25%\n",
            "\n",
            "The optimal model hyperparameters are:\n",
            "{'class_weight': 'balanced_subsample', 'criterion': 'entropy'}\u001b[0m\n"
          ]
        }
      ],
      "source": [
        "logx.print_and_log_text \\\n",
        "    ('\\033[1m'\n",
        "     + 'The random forest model best accuracy score is {:.2f}%' \\\n",
        "         .format(rf_grid_search_model.best_score_ * 100)\n",
        "     + '\\n\\nThe optimal model hyperparameters are:\\n'\n",
        "     + str(rf_grid_search_model.best_params_)\n",
        "     + '\\033[0m')"
      ]
    },
    {
      "cell_type": "markdown",
      "metadata": {
        "id": "KRoMb25RXVDF"
      },
      "source": [
        "### **Random Undersampling**"
      ]
    },
    {
      "cell_type": "code",
      "execution_count": 67,
      "metadata": {
        "id": "0aGkLtKTXVDF"
      },
      "outputs": [],
      "source": [
        "rf_undersampled_grid_search_model.fit \\\n",
        "    (x_train_scaled_undersampled_dataframe, y_train_undersampled_series)\n",
        "\n",
        "clear_output()"
      ]
    },
    {
      "cell_type": "code",
      "execution_count": 68,
      "metadata": {
        "id": "VOMP03kVXVDF",
        "colab": {
          "base_uri": "https://localhost:8080/"
        },
        "outputId": "6344646a-dac7-4e82-8863-78b1b1cc1007"
      },
      "outputs": [
        {
          "output_type": "stream",
          "name": "stdout",
          "text": [
            "\u001b[1mThe random forest model with random undersampling best accuracy score is 99.18%\n",
            "\n",
            "The optimal model hyperparameters are:\n",
            "{'class_weight': 'balanced', 'criterion': 'gini'}\u001b[0m\n"
          ]
        }
      ],
      "source": [
        "logx.print_and_log_text \\\n",
        "    ('\\033[1m'\n",
        "     + 'The random forest model with random undersampling best accuracy score is {:.2f}%' \\\n",
        "         .format(rf_undersampled_grid_search_model.best_score_ * 100)\n",
        "     + '\\n\\nThe optimal model hyperparameters are:\\n'\n",
        "     + str(rf_undersampled_grid_search_model.best_params_)\n",
        "     + '\\033[0m')"
      ]
    },
    {
      "cell_type": "markdown",
      "metadata": {
        "id": "VQhd03bZXVDF"
      },
      "source": [
        "### **Random Oversampling**"
      ]
    },
    {
      "cell_type": "code",
      "execution_count": 69,
      "metadata": {
        "id": "VT16nTxwXVDF"
      },
      "outputs": [],
      "source": [
        "rf_oversampled_grid_search_model.fit \\\n",
        "    (x_train_scaled_oversampled_dataframe, y_train_oversampled_series)\n",
        "\n",
        "clear_output()"
      ]
    },
    {
      "cell_type": "code",
      "execution_count": 70,
      "metadata": {
        "id": "ePxF76ybXVDF",
        "colab": {
          "base_uri": "https://localhost:8080/"
        },
        "outputId": "4171d7c4-046b-40bb-ca23-1fb521060cca"
      },
      "outputs": [
        {
          "output_type": "stream",
          "name": "stdout",
          "text": [
            "\u001b[1mThe random forest model with random oversampling best accuracy score is 99.53%\n",
            "\n",
            "The optimal model hyperparameters are:\n",
            "{'class_weight': 'balanced', 'criterion': 'gini'}\u001b[0m\n"
          ]
        }
      ],
      "source": [
        "logx.print_and_log_text \\\n",
        "    ('\\033[1m'\n",
        "     + 'The random forest model with random oversampling best accuracy score is {:.2f}%' \\\n",
        "         .format(rf_oversampled_grid_search_model.best_score_ * 100)\n",
        "     + '\\n\\nThe optimal model hyperparameters are:\\n'\n",
        "     + str(rf_oversampled_grid_search_model.best_params_)\n",
        "     + '\\033[0m')"
      ]
    },
    {
      "cell_type": "markdown",
      "metadata": {
        "id": "ufuawrpkXVDF"
      },
      "source": [
        "### **Cluster Centroids**"
      ]
    },
    {
      "cell_type": "code",
      "execution_count": 71,
      "metadata": {
        "id": "CoPhFjZrXVDF"
      },
      "outputs": [],
      "source": [
        "rf_cluster_centroids_grid_search_model.fit \\\n",
        "    (x_train_scaled_cluster_centroids_dataframe, y_train_cluster_centroids_series)\n",
        "\n",
        "clear_output()"
      ]
    },
    {
      "cell_type": "code",
      "execution_count": 72,
      "metadata": {
        "id": "p2dio_-RXVDF",
        "colab": {
          "base_uri": "https://localhost:8080/"
        },
        "outputId": "ffbcfcbf-25f5-463d-f1b5-bb1d80d6b5e1"
      },
      "outputs": [
        {
          "output_type": "stream",
          "name": "stdout",
          "text": [
            "\u001b[1mThe random forest model with cluster centroid best accuracy score is 90.42%\n",
            "\n",
            "The optimal model hyperparameters are:\n",
            "{'class_weight': 'balanced', 'criterion': 'gini'}\u001b[0m\n"
          ]
        }
      ],
      "source": [
        "logx.print_and_log_text \\\n",
        "    ('\\033[1m'\n",
        "     + 'The random forest model with cluster centroid best accuracy score is {:.2f}%' \\\n",
        "         .format(rf_cluster_centroids_grid_search_model.best_score_ * 100)\n",
        "     + '\\n\\nThe optimal model hyperparameters are:\\n'\n",
        "     + str(rf_cluster_centroids_grid_search_model.best_params_)\n",
        "     + '\\033[0m')"
      ]
    },
    {
      "cell_type": "markdown",
      "metadata": {
        "id": "6CDhjGqLXVDG"
      },
      "source": [
        "### **SMOTE**"
      ]
    },
    {
      "cell_type": "code",
      "execution_count": 73,
      "metadata": {
        "id": "TE95PGURXVDG"
      },
      "outputs": [],
      "source": [
        "rf_SMOTE_grid_search_model.fit(x_train_scaled_SMOTE_dataframe, y_train_SMOTE_series)\n",
        "\n",
        "clear_output()"
      ]
    },
    {
      "cell_type": "code",
      "execution_count": 74,
      "metadata": {
        "id": "Y-OwdB59XVDG",
        "colab": {
          "base_uri": "https://localhost:8080/"
        },
        "outputId": "7efd884e-2fff-48a2-96bb-e91b65ef33f7"
      },
      "outputs": [
        {
          "output_type": "stream",
          "name": "stdout",
          "text": [
            "\u001b[1mThe random forest model with SMOTE best accuracy score is 99.58%\n",
            "\n",
            "The optimal model hyperparameters are:\n",
            "{'class_weight': 'balanced_subsample', 'criterion': 'gini'}\u001b[0m\n"
          ]
        }
      ],
      "source": [
        "logx.print_and_log_text \\\n",
        "    ('\\033[1m'\n",
        "     + 'The random forest model with SMOTE best accuracy score is {:.2f}%' \\\n",
        "         .format(rf_SMOTE_grid_search_model.best_score_ * 100)\n",
        "     + '\\n\\nThe optimal model hyperparameters are:\\n'\n",
        "     + str(rf_SMOTE_grid_search_model.best_params_)\n",
        "     + '\\033[0m')"
      ]
    },
    {
      "cell_type": "markdown",
      "metadata": {
        "id": "XBHeoDC_XVDG"
      },
      "source": [
        "### **SMOTEENN**"
      ]
    },
    {
      "cell_type": "code",
      "execution_count": 75,
      "metadata": {
        "id": "OUuDz8rPXVDG"
      },
      "outputs": [],
      "source": [
        "rf_SMOTEENN_grid_search_model.fit \\\n",
        "    (x_train_scaled_SMOTEENN_dataframe, y_train_SMOTEENN_series)\n",
        "\n",
        "clear_output()"
      ]
    },
    {
      "cell_type": "code",
      "execution_count": 76,
      "metadata": {
        "id": "V-_qgzdGXVDG",
        "colab": {
          "base_uri": "https://localhost:8080/"
        },
        "outputId": "6d8df0f2-9505-4f65-e6d0-d8d3a100a3db"
      },
      "outputs": [
        {
          "output_type": "stream",
          "name": "stdout",
          "text": [
            "\u001b[1mThe random forest model with SMOTEENN best accuracy score is 99.98%\n",
            "\n",
            "The optimal model hyperparameters are:\n",
            "{'class_weight': 'balanced_subsample', 'criterion': 'entropy'}\u001b[0m\n"
          ]
        }
      ],
      "source": [
        "logx.print_and_log_text \\\n",
        "    ('\\033[1m'\n",
        "     + 'The random forest model with SMOTEENN best accuracy score is {:.2f}%' \\\n",
        "         .format(rf_SMOTEENN_grid_search_model.best_score_ * 100)\n",
        "     + '\\n\\nThe optimal model hyperparameters are:\\n'\n",
        "     + str(rf_SMOTEENN_grid_search_model.best_params_)\n",
        "     + '\\033[0m')"
      ]
    },
    {
      "cell_type": "markdown",
      "metadata": {
        "id": "K2FMaHQ3XVDG"
      },
      "source": [
        "## **3.4: K-Nearest Neighbor (KNN)**"
      ]
    },
    {
      "cell_type": "markdown",
      "metadata": {
        "id": "_y6q5L7vXVDG"
      },
      "source": [
        "### **Original**"
      ]
    },
    {
      "cell_type": "code",
      "execution_count": 77,
      "metadata": {
        "id": "jp96C8-TXVDG"
      },
      "outputs": [],
      "source": [
        "parameters_grid_dictionary \\\n",
        "    = {'algorithm': ['auto', 'ball_tree', 'kd_tree', 'brute']}\n",
        "\n",
        "knn_grid_search_model \\\n",
        "    = GridSearchCV \\\n",
        "        (KNeighborsClassifier(leaf_size = credit_risk_constants.CONSTANT_ML_KNN_LEAF_SIZE),\n",
        "         parameters_grid_dictionary)\n",
        "\n",
        "knn_undersampled_grid_search_model = copy.copy(knn_grid_search_model)\n",
        "\n",
        "knn_oversampled_grid_search_model = copy.copy(knn_grid_search_model)\n",
        "\n",
        "knn_cluster_centroids_grid_search_model = copy.copy(knn_grid_search_model)\n",
        "\n",
        "knn_SMOTE_grid_search_model = copy.copy(knn_grid_search_model)\n",
        "\n",
        "knn_SMOTEENN_grid_search_model = copy.copy(knn_grid_search_model)"
      ]
    },
    {
      "cell_type": "code",
      "execution_count": 78,
      "metadata": {
        "id": "-W7gTK7UXVDH"
      },
      "outputs": [],
      "source": [
        "knn_grid_search_model.fit(x_train_scaled_dataframe, y_train_series)\n",
        "\n",
        "clear_output()"
      ]
    },
    {
      "cell_type": "code",
      "execution_count": 79,
      "metadata": {
        "id": "2ZOmJPizXVDH",
        "colab": {
          "base_uri": "https://localhost:8080/"
        },
        "outputId": "0b8f124b-c745-4ba6-c5fc-4efd64b4f991"
      },
      "outputs": [
        {
          "output_type": "stream",
          "name": "stdout",
          "text": [
            "\u001b[1mThe knn model best accuracy score is 99.41%\n",
            "\n",
            "The optimal model hyperparameters are:\n",
            "{'algorithm': 'auto'}\u001b[0m\n"
          ]
        }
      ],
      "source": [
        "logx.print_and_log_text \\\n",
        "    ('\\033[1m'\n",
        "     + 'The knn model best accuracy score is {:.2f}%' \\\n",
        "         .format(knn_grid_search_model.best_score_ * 100)\n",
        "     + '\\n\\nThe optimal model hyperparameters are:\\n'\n",
        "     + str(knn_grid_search_model.best_params_)\n",
        "     + '\\033[0m')"
      ]
    },
    {
      "cell_type": "markdown",
      "metadata": {
        "id": "NfuJxuwNXVDH"
      },
      "source": [
        "### **Random Undersampling**"
      ]
    },
    {
      "cell_type": "code",
      "execution_count": 80,
      "metadata": {
        "id": "DUYfT_H6XVDH"
      },
      "outputs": [],
      "source": [
        "knn_undersampled_grid_search_model.fit \\\n",
        "    (x_train_scaled_undersampled_dataframe, y_train_undersampled_series)\n",
        "\n",
        "clear_output()"
      ]
    },
    {
      "cell_type": "code",
      "execution_count": 81,
      "metadata": {
        "id": "c5JM1fx5XVDH",
        "colab": {
          "base_uri": "https://localhost:8080/"
        },
        "outputId": "95495ed6-59a0-4c5b-cd51-4a49dd49b367"
      },
      "outputs": [
        {
          "output_type": "stream",
          "name": "stdout",
          "text": [
            "\u001b[1mThe knn model with random undersampling best accuracy score is 99.47%\n",
            "\n",
            "The optimal model hyperparameters are:\n",
            "{'algorithm': 'auto'}\u001b[0m\n"
          ]
        }
      ],
      "source": [
        "logx.print_and_log_text \\\n",
        "    ('\\033[1m'\n",
        "     + 'The knn model with random undersampling best accuracy score is {:.2f}%' \\\n",
        "         .format(knn_undersampled_grid_search_model.best_score_ * 100)\n",
        "     + '\\n\\nThe optimal model hyperparameters are:\\n'\n",
        "     + str(knn_undersampled_grid_search_model.best_params_)\n",
        "     + '\\033[0m')"
      ]
    },
    {
      "cell_type": "markdown",
      "metadata": {
        "id": "5jN4Cyf1XVDH"
      },
      "source": [
        "### **Random Oversampling**"
      ]
    },
    {
      "cell_type": "code",
      "execution_count": 82,
      "metadata": {
        "id": "SokjCPcGXVDH"
      },
      "outputs": [],
      "source": [
        "knn_oversampled_grid_search_model.fit \\\n",
        "    (x_train_scaled_oversampled_dataframe, y_train_oversampled_series)\n",
        "\n",
        "clear_output()"
      ]
    },
    {
      "cell_type": "code",
      "execution_count": 83,
      "metadata": {
        "id": "7qnbwcV0XVDH",
        "colab": {
          "base_uri": "https://localhost:8080/"
        },
        "outputId": "2eb069d2-7634-463c-e8dc-e0810f3ef3e2"
      },
      "outputs": [
        {
          "output_type": "stream",
          "name": "stdout",
          "text": [
            "\u001b[1mThe knn model with random oversampling best accuracy score is 99.44%\n",
            "\n",
            "The optimal model hyperparameters are:\n",
            "{'algorithm': 'auto'}\u001b[0m\n"
          ]
        }
      ],
      "source": [
        "logx.print_and_log_text \\\n",
        "    ('\\033[1m'\n",
        "     + 'The knn model with random oversampling best accuracy score is {:.2f}%' \\\n",
        "         .format(knn_oversampled_grid_search_model.best_score_ * 100)\n",
        "     + '\\n\\nThe optimal model hyperparameters are:\\n'\n",
        "     + str(knn_oversampled_grid_search_model.best_params_)\n",
        "     + '\\033[0m')"
      ]
    },
    {
      "cell_type": "markdown",
      "metadata": {
        "id": "399tpBYjXVDH"
      },
      "source": [
        "### **Cluster Centroids**"
      ]
    },
    {
      "cell_type": "code",
      "execution_count": 84,
      "metadata": {
        "id": "QoUxkPFxXVDI"
      },
      "outputs": [],
      "source": [
        "knn_cluster_centroids_grid_search_model.fit \\\n",
        "    (x_train_scaled_cluster_centroids_dataframe, y_train_cluster_centroids_series)\n",
        "\n",
        "clear_output()"
      ]
    },
    {
      "cell_type": "code",
      "execution_count": 85,
      "metadata": {
        "id": "axm8IzWPXVDI",
        "colab": {
          "base_uri": "https://localhost:8080/"
        },
        "outputId": "8d526971-e72d-456f-c21d-ff76636ede9b"
      },
      "outputs": [
        {
          "output_type": "stream",
          "name": "stdout",
          "text": [
            "\u001b[1mThe knn model with cluster centroid best accuracy score is 94.37%\n",
            "\n",
            "The optimal model hyperparameters are:\n",
            "{'algorithm': 'auto'}\u001b[0m\n"
          ]
        }
      ],
      "source": [
        "logx.print_and_log_text \\\n",
        "    ('\\033[1m'\n",
        "     + 'The knn model with cluster centroid best accuracy score is {:.2f}%' \\\n",
        "         .format(knn_cluster_centroids_grid_search_model.best_score_ * 100)\n",
        "     + '\\n\\nThe optimal model hyperparameters are:\\n'\n",
        "     + str(knn_cluster_centroids_grid_search_model.best_params_)\n",
        "     + '\\033[0m')"
      ]
    },
    {
      "cell_type": "markdown",
      "metadata": {
        "id": "ek2m2IsCXVDI"
      },
      "source": [
        "### **SMOTE**"
      ]
    },
    {
      "cell_type": "code",
      "execution_count": 86,
      "metadata": {
        "id": "sndGtX3WXVDI"
      },
      "outputs": [],
      "source": [
        "knn_SMOTE_grid_search_model.fit \\\n",
        "    (x_train_scaled_SMOTE_dataframe, y_train_SMOTE_series)\n",
        "\n",
        "clear_output()"
      ]
    },
    {
      "cell_type": "code",
      "execution_count": 87,
      "metadata": {
        "id": "CpT07psSXVDI",
        "colab": {
          "base_uri": "https://localhost:8080/"
        },
        "outputId": "e2ab9baa-2518-40a4-8f93-2f722d5cb2bb"
      },
      "outputs": [
        {
          "output_type": "stream",
          "name": "stdout",
          "text": [
            "\u001b[1mThe knn model with SMOTE best accuracy score is 99.61%\n",
            "\n",
            "The optimal model hyperparameters are:\n",
            "{'algorithm': 'auto'}\u001b[0m\n"
          ]
        }
      ],
      "source": [
        "logx.print_and_log_text \\\n",
        "    ('\\033[1m'\n",
        "     + 'The knn model with SMOTE best accuracy score is {:.2f}%' \\\n",
        "         .format(knn_SMOTE_grid_search_model.best_score_ * 100)\n",
        "     + '\\n\\nThe optimal model hyperparameters are:\\n'\n",
        "     + str(knn_SMOTE_grid_search_model.best_params_)\n",
        "     + '\\033[0m')"
      ]
    },
    {
      "cell_type": "markdown",
      "metadata": {
        "id": "qqovhtg0XVDI"
      },
      "source": [
        "### **SMOTEENN**"
      ]
    },
    {
      "cell_type": "code",
      "execution_count": 88,
      "metadata": {
        "id": "7w7S5fO7XVDI"
      },
      "outputs": [],
      "source": [
        "knn_SMOTEENN_grid_search_model.fit \\\n",
        "    (x_train_scaled_SMOTEENN_dataframe, y_train_SMOTEENN_series)\n",
        "\n",
        "clear_output()"
      ]
    },
    {
      "cell_type": "code",
      "execution_count": 89,
      "metadata": {
        "id": "3xgBbqgVXVDI",
        "colab": {
          "base_uri": "https://localhost:8080/"
        },
        "outputId": "cac5233a-73e6-4b2a-a7ab-3d9b352370fa"
      },
      "outputs": [
        {
          "output_type": "stream",
          "name": "stdout",
          "text": [
            "\u001b[1mThe knn model with SMOTEENN best accuracy score is 99.96%\n",
            "\n",
            "The optimal model hyperparameters are:\n",
            "{'algorithm': 'auto'}\u001b[0m\n"
          ]
        }
      ],
      "source": [
        "logx.print_and_log_text \\\n",
        "    ('\\033[1m'\n",
        "     + 'The knn model with SMOTEENN best accuracy score is {:.2f}%' \\\n",
        "         .format(knn_SMOTEENN_grid_search_model.best_score_ * 100)\n",
        "     + '\\n\\nThe optimal model hyperparameters are:\\n'\n",
        "     + str(knn_SMOTEENN_grid_search_model.best_params_)\n",
        "     + '\\033[0m')"
      ]
    },
    {
      "cell_type": "markdown",
      "metadata": {
        "id": "7liiIT_VXVDI"
      },
      "source": [
        "# <br> **Section 4: Save Models To Files**"
      ]
    },
    {
      "cell_type": "markdown",
      "metadata": {
        "id": "u_MDW16eXVDI"
      },
      "source": [
        "## **4.1: Logistic Regression**"
      ]
    },
    {
      "cell_type": "markdown",
      "metadata": {
        "id": "Qtjrw79EXVDI"
      },
      "source": [
        "### **Original**"
      ]
    },
    {
      "cell_type": "code",
      "execution_count": 90,
      "metadata": {
        "id": "W4M55D83XVDI"
      },
      "outputs": [],
      "source": [
        "pickle.dump \\\n",
        "    (lr_grid_search_model,\n",
        "     open(credit_risk_constants.CONSTANT_LR_GRID_SEARCH_MODEL_FILE_PATH, 'wb'))"
      ]
    },
    {
      "cell_type": "markdown",
      "metadata": {
        "id": "959nEmVvXVDJ"
      },
      "source": [
        "### **Random Undersampling**"
      ]
    },
    {
      "cell_type": "code",
      "execution_count": 91,
      "metadata": {
        "id": "E8HM8JY4XVDJ"
      },
      "outputs": [],
      "source": [
        "pickle.dump \\\n",
        "    (lr_undersampled_grid_search_model,\n",
        "     open(credit_risk_constants.CONSTANT_LR_UNDERSAMPLED_GRID_SEARCH_MODEL_FILE_PATH, 'wb'))"
      ]
    },
    {
      "cell_type": "markdown",
      "metadata": {
        "id": "Sy5WYbi9XVDJ"
      },
      "source": [
        "### **Random Oversampling**"
      ]
    },
    {
      "cell_type": "code",
      "execution_count": 92,
      "metadata": {
        "id": "7RpCQ2WmXVDJ"
      },
      "outputs": [],
      "source": [
        "pickle.dump \\\n",
        "    (lr_oversampled_grid_search_model,\n",
        "     open(credit_risk_constants.CONSTANT_LR_OVERSAMPLED_GRID_SEARCH_MODEL_FILE_PATH, 'wb'))"
      ]
    },
    {
      "cell_type": "markdown",
      "metadata": {
        "id": "VTeim32LXVDJ"
      },
      "source": [
        "### **Cluster Centroids**"
      ]
    },
    {
      "cell_type": "code",
      "execution_count": 93,
      "metadata": {
        "id": "MJWah03_XVDJ"
      },
      "outputs": [],
      "source": [
        "pickle.dump \\\n",
        "    (lr_cluster_centroids_grid_search_model,\n",
        "     open(credit_risk_constants.CONSTANT_LR_CLUSTER_CENTROIDS_GRID_SEARCH_MODEL_FILE_PATH, 'wb'))"
      ]
    },
    {
      "cell_type": "markdown",
      "metadata": {
        "id": "sL2EMNtrXVDJ"
      },
      "source": [
        "### **SMOTE**"
      ]
    },
    {
      "cell_type": "code",
      "execution_count": 94,
      "metadata": {
        "id": "3UIMUG8_XVDJ"
      },
      "outputs": [],
      "source": [
        "pickle.dump \\\n",
        "    (lr_SMOTE_grid_search_model,\n",
        "     open(credit_risk_constants.CONSTANT_LR_SMOTE_GRID_SEARCH_MODEL_FILE_PATH, 'wb'))"
      ]
    },
    {
      "cell_type": "markdown",
      "metadata": {
        "id": "Wubl9lh6XVDJ"
      },
      "source": [
        "### **SMOTEENN**"
      ]
    },
    {
      "cell_type": "code",
      "execution_count": 95,
      "metadata": {
        "id": "HfrbQaNHXVDJ"
      },
      "outputs": [],
      "source": [
        "pickle.dump \\\n",
        "    (lr_SMOTEENN_grid_search_model,\n",
        "     open(credit_risk_constants.CONSTANT_LR_SMOTEENN_GRID_SEARCH_MODEL_FILE_PATH, 'wb'))"
      ]
    },
    {
      "cell_type": "markdown",
      "metadata": {
        "id": "e9zU-Fb9XVDJ"
      },
      "source": [
        "## **4.2: Decision Tree**"
      ]
    },
    {
      "cell_type": "markdown",
      "metadata": {
        "id": "YMsAfVmDXVDK"
      },
      "source": [
        "### **Original**"
      ]
    },
    {
      "cell_type": "code",
      "execution_count": 96,
      "metadata": {
        "id": "RqwPDtQRXVDK"
      },
      "outputs": [],
      "source": [
        "pickle.dump \\\n",
        "    (dt_grid_search_model,\n",
        "     open(credit_risk_constants.CONSTANT_DT_GRID_SEARCH_MODEL_FILE_PATH, 'wb'))"
      ]
    },
    {
      "cell_type": "markdown",
      "metadata": {
        "id": "PtI2E_qyXVDK"
      },
      "source": [
        "### **Random Undersampling**"
      ]
    },
    {
      "cell_type": "code",
      "execution_count": 97,
      "metadata": {
        "id": "gkqnxmIYXVDK"
      },
      "outputs": [],
      "source": [
        "pickle.dump \\\n",
        "    (dt_undersampled_grid_search_model,\n",
        "     open(credit_risk_constants.CONSTANT_DT_UNDERSAMPLED_GRID_SEARCH_MODEL_FILE_PATH, 'wb'))"
      ]
    },
    {
      "cell_type": "markdown",
      "metadata": {
        "id": "JYkZ5k63XVDK"
      },
      "source": [
        "### **Random Oversampling**"
      ]
    },
    {
      "cell_type": "code",
      "execution_count": 98,
      "metadata": {
        "id": "hY76j9yyXVDK"
      },
      "outputs": [],
      "source": [
        "pickle.dump \\\n",
        "    (dt_oversampled_grid_search_model,\n",
        "     open(credit_risk_constants.CONSTANT_DT_OVERSAMPLED_GRID_SEARCH_MODEL_FILE_PATH, 'wb'))"
      ]
    },
    {
      "cell_type": "markdown",
      "metadata": {
        "id": "y-vcHs2kXVDK"
      },
      "source": [
        "### **Cluster Centroids**"
      ]
    },
    {
      "cell_type": "code",
      "execution_count": 99,
      "metadata": {
        "id": "KPBRrHWiXVDK"
      },
      "outputs": [],
      "source": [
        "pickle.dump \\\n",
        "    (dt_cluster_centroids_grid_search_model,\n",
        "     open(credit_risk_constants.CONSTANT_DT_CLUSTER_CENTROIDS_GRID_SEARCH_MODEL_FILE_PATH, 'wb'))"
      ]
    },
    {
      "cell_type": "markdown",
      "metadata": {
        "id": "e-I54FoSXVDK"
      },
      "source": [
        "### **SMOTE**"
      ]
    },
    {
      "cell_type": "code",
      "execution_count": 100,
      "metadata": {
        "id": "SBKLumgwXVDK"
      },
      "outputs": [],
      "source": [
        "pickle.dump \\\n",
        "    (dt_SMOTE_grid_search_model,\n",
        "     open(credit_risk_constants.CONSTANT_DT_SMOTE_GRID_SEARCH_MODEL_FILE_PATH, 'wb'))"
      ]
    },
    {
      "cell_type": "markdown",
      "metadata": {
        "id": "Te09_y4AXVDK"
      },
      "source": [
        "### **SMOTEENN**"
      ]
    },
    {
      "cell_type": "code",
      "execution_count": 101,
      "metadata": {
        "id": "crNASZ81XVDK"
      },
      "outputs": [],
      "source": [
        "pickle.dump \\\n",
        "    (dt_SMOTEENN_grid_search_model,\n",
        "     open(credit_risk_constants.CONSTANT_DT_SMOTEENN_GRID_SEARCH_MODEL_FILE_PATH, 'wb'))"
      ]
    },
    {
      "cell_type": "markdown",
      "metadata": {
        "id": "tyPq7RLMXVDL"
      },
      "source": [
        "## **4.3: Random Forest**"
      ]
    },
    {
      "cell_type": "markdown",
      "metadata": {
        "id": "1q_AaaKiXVDL"
      },
      "source": [
        "### **Original**"
      ]
    },
    {
      "cell_type": "code",
      "execution_count": 102,
      "metadata": {
        "id": "EW2qHUduXVDL"
      },
      "outputs": [],
      "source": [
        "pickle.dump \\\n",
        "    (rf_grid_search_model,\n",
        "     open(credit_risk_constants.CONSTANT_RF_GRID_SEARCH_MODEL_FILE_PATH, 'wb'))"
      ]
    },
    {
      "cell_type": "markdown",
      "metadata": {
        "id": "vUEZ0tFIXVDL"
      },
      "source": [
        "### **Random Undersampling**"
      ]
    },
    {
      "cell_type": "code",
      "execution_count": 103,
      "metadata": {
        "id": "ssbBOr0TXVDL"
      },
      "outputs": [],
      "source": [
        "pickle.dump \\\n",
        "    (rf_undersampled_grid_search_model,\n",
        "     open(credit_risk_constants.CONSTANT_RF_UNDERSAMPLED_GRID_SEARCH_MODEL_FILE_PATH, 'wb'))"
      ]
    },
    {
      "cell_type": "markdown",
      "metadata": {
        "id": "Il8oSN91XVDL"
      },
      "source": [
        "### **Random Oversampling**"
      ]
    },
    {
      "cell_type": "code",
      "execution_count": 104,
      "metadata": {
        "id": "uliYMcjEXVDL"
      },
      "outputs": [],
      "source": [
        "pickle.dump \\\n",
        "    (rf_oversampled_grid_search_model,\n",
        "     open(credit_risk_constants.CONSTANT_RF_OVERSAMPLED_GRID_SEARCH_MODEL_FILE_PATH, 'wb'))"
      ]
    },
    {
      "cell_type": "markdown",
      "metadata": {
        "id": "bGFtYfYTXVDL"
      },
      "source": [
        "### **Cluster Centroids**"
      ]
    },
    {
      "cell_type": "code",
      "execution_count": 105,
      "metadata": {
        "id": "jRuhqav7XVDL"
      },
      "outputs": [],
      "source": [
        "pickle.dump \\\n",
        "    (rf_cluster_centroids_grid_search_model,\n",
        "     open(credit_risk_constants.CONSTANT_RF_CLUSTER_CENTROIDS_GRID_SEARCH_MODEL_FILE_PATH, 'wb'))"
      ]
    },
    {
      "cell_type": "markdown",
      "metadata": {
        "id": "bysJISt2XVDM"
      },
      "source": [
        "### **SMOTE**"
      ]
    },
    {
      "cell_type": "code",
      "execution_count": 106,
      "metadata": {
        "id": "MQ31zTcVXVDM"
      },
      "outputs": [],
      "source": [
        "pickle.dump \\\n",
        "    (rf_SMOTE_grid_search_model,\n",
        "     open(credit_risk_constants.CONSTANT_RF_SMOTE_GRID_SEARCH_MODEL_FILE_PATH, 'wb'))"
      ]
    },
    {
      "cell_type": "markdown",
      "metadata": {
        "id": "urprsJz3XVDM"
      },
      "source": [
        "### **SMOTEENN**"
      ]
    },
    {
      "cell_type": "code",
      "execution_count": 107,
      "metadata": {
        "id": "XwxN5lmcXVDM"
      },
      "outputs": [],
      "source": [
        "pickle.dump \\\n",
        "    (rf_SMOTEENN_grid_search_model,\n",
        "     open(credit_risk_constants.CONSTANT_RF_SMOTEENN_GRID_SEARCH_MODEL_FILE_PATH, 'wb'))"
      ]
    },
    {
      "cell_type": "markdown",
      "metadata": {
        "id": "SqrEnXq4XVDM"
      },
      "source": [
        "## **4.4: K-Nearest Neighbor (KNN)**"
      ]
    },
    {
      "cell_type": "markdown",
      "metadata": {
        "id": "xAhvcoCvXVDM"
      },
      "source": [
        "### **Original**"
      ]
    },
    {
      "cell_type": "code",
      "execution_count": 108,
      "metadata": {
        "id": "EL_K-tlGXVDM"
      },
      "outputs": [],
      "source": [
        "pickle.dump \\\n",
        "    (knn_grid_search_model,\n",
        "     open(credit_risk_constants.CONSTANT_KNN_GRID_SEARCH_MODEL_FILE_PATH, 'wb'))"
      ]
    },
    {
      "cell_type": "markdown",
      "metadata": {
        "id": "VbRhw31QXVDM"
      },
      "source": [
        "### **Random Undersampling**"
      ]
    },
    {
      "cell_type": "code",
      "execution_count": 109,
      "metadata": {
        "id": "i9IdPY8qXVDM"
      },
      "outputs": [],
      "source": [
        "pickle.dump \\\n",
        "    (knn_undersampled_grid_search_model,\n",
        "     open(credit_risk_constants.CONSTANT_KNN_UNDERSAMPLED_GRID_SEARCH_MODEL_FILE_PATH, 'wb'))"
      ]
    },
    {
      "cell_type": "markdown",
      "metadata": {
        "id": "B8sbt25MXVDM"
      },
      "source": [
        "### **Random Oversampling**"
      ]
    },
    {
      "cell_type": "code",
      "execution_count": 110,
      "metadata": {
        "id": "DSq2TV2nXVDM"
      },
      "outputs": [],
      "source": [
        "pickle.dump \\\n",
        "    (knn_oversampled_grid_search_model,\n",
        "     open(credit_risk_constants.CONSTANT_KNN_OVERSAMPLED_GRID_SEARCH_MODEL_FILE_PATH, 'wb'))"
      ]
    },
    {
      "cell_type": "markdown",
      "metadata": {
        "id": "XX5xvRRIXVDM"
      },
      "source": [
        "### **Cluster Centroids**"
      ]
    },
    {
      "cell_type": "code",
      "execution_count": 111,
      "metadata": {
        "id": "JtwUaEiUXVDN"
      },
      "outputs": [],
      "source": [
        "pickle.dump \\\n",
        "    (knn_cluster_centroids_grid_search_model,\n",
        "     open(credit_risk_constants.CONSTANT_KNN_CLUSTER_CENTROIDS_GRID_SEARCH_MODEL_FILE_PATH, 'wb'))"
      ]
    },
    {
      "cell_type": "markdown",
      "metadata": {
        "id": "fmyJeaqDXVDN"
      },
      "source": [
        "### **SMOTE**"
      ]
    },
    {
      "cell_type": "code",
      "execution_count": 112,
      "metadata": {
        "id": "cXlnPklNXVDN"
      },
      "outputs": [],
      "source": [
        "pickle.dump \\\n",
        "    (knn_SMOTE_grid_search_model,\n",
        "     open(credit_risk_constants.CONSTANT_KNN_SMOTE_GRID_SEARCH_MODEL_FILE_PATH, 'wb'))"
      ]
    },
    {
      "cell_type": "markdown",
      "metadata": {
        "id": "TnQ_nSyhXVDN"
      },
      "source": [
        "### **SMOTEENN**"
      ]
    },
    {
      "cell_type": "code",
      "execution_count": 113,
      "metadata": {
        "id": "fnlmp-QXXVDN"
      },
      "outputs": [],
      "source": [
        "pickle.dump \\\n",
        "    (knn_SMOTEENN_grid_search_model,\n",
        "     open(credit_risk_constants.CONSTANT_KNN_SMOTEENN_GRID_SEARCH_MODEL_FILE_PATH, 'wb'))"
      ]
    },
    {
      "cell_type": "code",
      "execution_count": 114,
      "metadata": {
        "id": "k3x18C1WXVDN"
      },
      "outputs": [],
      "source": [
        "# logx.end_program()"
      ]
    },
    {
      "cell_type": "code",
      "execution_count": 114,
      "metadata": {
        "id": "llSGdhGOXVDN"
      },
      "outputs": [],
      "source": []
    }
  ],
  "metadata": {
    "colab": {
      "provenance": [],
      "gpuType": "T4",
      "include_colab_link": true
    },
    "kernelspec": {
      "display_name": "Python 3",
      "name": "python3"
    },
    "language_info": {
      "codemirror_mode": {
        "name": "ipython",
        "version": 3
      },
      "file_extension": ".py",
      "mimetype": "text/x-python",
      "name": "python",
      "nbconvert_exporter": "python",
      "pygments_lexer": "ipython3",
      "version": "3.11.7"
    },
    "accelerator": "GPU"
  },
  "nbformat": 4,
  "nbformat_minor": 0
}